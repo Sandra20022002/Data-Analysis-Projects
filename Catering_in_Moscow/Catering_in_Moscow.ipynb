{
 "cells": [
  {
   "cell_type": "markdown",
   "metadata": {},
   "source": [
    "# Рынок заведений общественного питания Москвы"
   ]
  },
  {
   "cell_type": "markdown",
   "metadata": {
    "toc": true
   },
   "source": [
    "<h1>Содержание<span class=\"tocSkip\"></span></h1>\n",
    "<div class=\"toc\"><ul class=\"toc-item\"><li><span><a href=\"#Рынок-заведений-общественного-питания-Москвы\" data-toc-modified-id=\"Рынок-заведений-общественного-питания-Москвы-1\">Рынок заведений общественного питания Москвы</a></span><ul class=\"toc-item\"><li><span><a href=\"#План-работ:\" data-toc-modified-id=\"План-работ:-1.1\">План работ:</a></span></li><li><span><a href=\"#Общие-сведения\" data-toc-modified-id=\"Общие-сведения-1.2\">Общие сведения</a></span></li><li><span><a href=\"#Анализ-данных\" data-toc-modified-id=\"Анализ-данных-1.3\">Анализ данных</a></span><ul class=\"toc-item\"><li><span><a href=\"#Cоотношение-видов-объектов-общественного-питания-по-количеству\" data-toc-modified-id=\"Cоотношение-видов-объектов-общественного-питания-по-количеству-1.3.1\">Cоотношение видов объектов общественного питания по количеству</a></span></li><li><span><a href=\"#Соотношение-сетевых-и-несетевых-заведений-по-количеству.\" data-toc-modified-id=\"Соотношение-сетевых-и-несетевых-заведений-по-количеству.-1.3.2\">Соотношение сетевых и несетевых заведений по количеству.</a></span></li><li><span><a href=\"#Для-какого-вида-объекта-общественного-питания-характерно-сетевое-распространение?\" data-toc-modified-id=\"Для-какого-вида-объекта-общественного-питания-характерно-сетевое-распространение?-1.3.3\">Для какого вида объекта общественного питания характерно сетевое распространение?</a></span></li><li><span><a href=\"#Что-характерно-для-сетевых-заведений:-много-заведений-с-небольшим-числом-посадочных-мест-в-каждом-или-мало-заведений-с-большим-количеством-посадочных-мест?\" data-toc-modified-id=\"Что-характерно-для-сетевых-заведений:-много-заведений-с-небольшим-числом-посадочных-мест-в-каждом-или-мало-заведений-с-большим-количеством-посадочных-мест?-1.3.4\">Что характерно для сетевых заведений: много заведений с небольшим числом посадочных мест в каждом или мало заведений с большим количеством посадочных мест?</a></span></li><li><span><a href=\"#Среднее-количество-посадочных-мест-для-каждого-вида-объекта-общественного-питания.\" data-toc-modified-id=\"Среднее-количество-посадочных-мест-для-каждого-вида-объекта-общественного-питания.-1.3.5\">Среднее количество посадочных мест для каждого вида объекта общественного питания.</a></span></li><li><span><a href=\"#Выделение-в-отдельный-столбец-информации-об-улице-из-столбца-address\" data-toc-modified-id=\"Выделение-в-отдельный-столбец-информации-об-улице-из-столбца-address-1.3.6\">Выделение в отдельный столбец информации об улице из столбца address</a></span></li><li><span><a href=\"#Топ-10-улиц-по-количеству-объектов-общественного-питания.\" data-toc-modified-id=\"Топ-10-улиц-по-количеству-объектов-общественного-питания.-1.3.7\">Топ-10 улиц по количеству объектов общественного питания.</a></span></li><li><span><a href=\"#Число-улиц-с-одним-объектом-общественного-питания.\" data-toc-modified-id=\"Число-улиц-с-одним-объектом-общественного-питания.-1.3.8\">Число улиц с одним объектом общественного питания.</a></span></li></ul></li><li><span><a href=\"#Заключение\" data-toc-modified-id=\"Заключение-1.4\">Заключение</a></span><ul class=\"toc-item\"><li><span><a href=\"#Выполненные-работы\" data-toc-modified-id=\"Выполненные-работы-1.4.1\">Выполненные работы</a></span></li><li><span><a href=\"#Выводы-и-рекомендации\" data-toc-modified-id=\"Выводы-и-рекомендации-1.4.2\">Выводы и рекомендации</a></span></li></ul></li></ul></li></ul></div>"
   ]
  },
  {
   "cell_type": "markdown",
   "metadata": {},
   "source": [
    "\n",
    "Мы решили открыть небольшое кафе в Москве. Оно оригинальное — гостей должны обслуживать роботы. Проект многообещающий, но дорогой. Вместе с партнёрами мы решились обратиться к инвесторам. Их интересует текущее положение дел на рынке — останется ли кафе популярным на долгое время?\n",
    "Партнёры просят подготовить исследование рынка по открытым данным о заведениях общественного питания в Москве."
   ]
  },
  {
   "cell_type": "markdown",
   "metadata": {},
   "source": [
    "## План работ:\n",
    "- загрузить данные и подготовить их к анализу  \n",
    "\n",
    "Анализ данных: \n",
    "- Исследовать соотношение видов объектов общественного питания по количеству. Построить график.\n",
    "- Исследовать соотношение сетевых и несетевых заведений по количеству. Построить график.\n",
    "- Выяснить, для какого вида объекта общественного питания характерно сетевое распространение\n",
    "- Выяснить, что характерно для сетевых заведений: много заведений с небольшим числом посадочных мест в каждом или мало заведений с большим количеством посадочных мест\n",
    "- Для каждого вида объекта общественного питания описать среднее количество посадочных мест. Построить график.\n",
    "- Выделить в отдельный столбец информацию об улице из столбца address.\n",
    "- Построить график топ-10 улиц по количеству объектов общественного питания. Воспользоваться внешней информацией и ответить на вопрос — в каких районах Москвы находятся эти улицы?\n",
    "- Найти число улиц с одним объектом общественного питания. Воспользоваться внешней информацией и ответить на вопрос — в каких районах Москвы находятся эти улицы?\n",
    "\n",
    "Подготовка презентации\n",
    "\n",
    "- Подготовить презентацию исследования для инвесторов. \n"
   ]
  },
  {
   "cell_type": "markdown",
   "metadata": {},
   "source": [
    "## Общие сведения"
   ]
  },
  {
   "cell_type": "markdown",
   "metadata": {},
   "source": [
    "Загрузим данные о заведениях общественного питания Москвы.    \n",
    "Убедимся, что тип данных в каждом столбце — правильный, а также отсутствуют пропущенные значения и дубликаты. "
   ]
  },
  {
   "cell_type": "markdown",
   "metadata": {},
   "source": [
    "Импортируем нужные библиотеки:"
   ]
  },
  {
   "cell_type": "code",
   "execution_count": 1,
   "metadata": {},
   "outputs": [],
   "source": [
    "import pandas as pd\n",
    "import numpy as np\n",
    "import seaborn as sns\n",
    "import matplotlib.pyplot as plt\n",
    "\n",
    "import re\n",
    "\n",
    "import warnings\n",
    "warnings.filterwarnings(\"ignore\")\n",
    "\n"
   ]
  },
  {
   "cell_type": "markdown",
   "metadata": {},
   "source": [
    "Загрузим файл c данными:"
   ]
  },
  {
   "cell_type": "code",
   "execution_count": 2,
   "metadata": {},
   "outputs": [],
   "source": [
    "rest_data = pd.read_csv('/datasets/rest_data.csv')"
   ]
  },
  {
   "cell_type": "code",
   "execution_count": 3,
   "metadata": {},
   "outputs": [
    {
     "data": {
      "text/html": [
       "<div>\n",
       "<style scoped>\n",
       "    .dataframe tbody tr th:only-of-type {\n",
       "        vertical-align: middle;\n",
       "    }\n",
       "\n",
       "    .dataframe tbody tr th {\n",
       "        vertical-align: top;\n",
       "    }\n",
       "\n",
       "    .dataframe thead th {\n",
       "        text-align: right;\n",
       "    }\n",
       "</style>\n",
       "<table border=\"1\" class=\"dataframe\">\n",
       "  <thead>\n",
       "    <tr style=\"text-align: right;\">\n",
       "      <th></th>\n",
       "      <th>id</th>\n",
       "      <th>object_name</th>\n",
       "      <th>chain</th>\n",
       "      <th>object_type</th>\n",
       "      <th>address</th>\n",
       "      <th>number</th>\n",
       "    </tr>\n",
       "  </thead>\n",
       "  <tbody>\n",
       "    <tr>\n",
       "      <th>0</th>\n",
       "      <td>151635</td>\n",
       "      <td>СМЕТАНА</td>\n",
       "      <td>нет</td>\n",
       "      <td>кафе</td>\n",
       "      <td>город Москва, улица Егора Абакумова, дом 9</td>\n",
       "      <td>48</td>\n",
       "    </tr>\n",
       "    <tr>\n",
       "      <th>1</th>\n",
       "      <td>77874</td>\n",
       "      <td>Родник</td>\n",
       "      <td>нет</td>\n",
       "      <td>кафе</td>\n",
       "      <td>город Москва, улица Талалихина, дом 2/1, корпус 1</td>\n",
       "      <td>35</td>\n",
       "    </tr>\n",
       "    <tr>\n",
       "      <th>2</th>\n",
       "      <td>24309</td>\n",
       "      <td>Кафе «Академия»</td>\n",
       "      <td>нет</td>\n",
       "      <td>кафе</td>\n",
       "      <td>город Москва, Абельмановская улица, дом 6</td>\n",
       "      <td>95</td>\n",
       "    </tr>\n",
       "    <tr>\n",
       "      <th>3</th>\n",
       "      <td>21894</td>\n",
       "      <td>ПИЦЦЕТОРИЯ</td>\n",
       "      <td>да</td>\n",
       "      <td>кафе</td>\n",
       "      <td>город Москва, Абрамцевская улица, дом 1</td>\n",
       "      <td>40</td>\n",
       "    </tr>\n",
       "    <tr>\n",
       "      <th>4</th>\n",
       "      <td>119365</td>\n",
       "      <td>Кафе «Вишневая метель»</td>\n",
       "      <td>нет</td>\n",
       "      <td>кафе</td>\n",
       "      <td>город Москва, Абрамцевская улица, дом 9, корпус 1</td>\n",
       "      <td>50</td>\n",
       "    </tr>\n",
       "  </tbody>\n",
       "</table>\n",
       "</div>"
      ],
      "text/plain": [
       "       id             object_name chain object_type  \\\n",
       "0  151635                 СМЕТАНА   нет        кафе   \n",
       "1   77874                  Родник   нет        кафе   \n",
       "2   24309         Кафе «Академия»   нет        кафе   \n",
       "3   21894              ПИЦЦЕТОРИЯ    да        кафе   \n",
       "4  119365  Кафе «Вишневая метель»   нет        кафе   \n",
       "\n",
       "                                             address  number  \n",
       "0         город Москва, улица Егора Абакумова, дом 9      48  \n",
       "1  город Москва, улица Талалихина, дом 2/1, корпус 1      35  \n",
       "2          город Москва, Абельмановская улица, дом 6      95  \n",
       "3            город Москва, Абрамцевская улица, дом 1      40  \n",
       "4  город Москва, Абрамцевская улица, дом 9, корпус 1      50  "
      ]
     },
     "execution_count": 3,
     "metadata": {},
     "output_type": "execute_result"
    }
   ],
   "source": [
    "rest_data.head(5)"
   ]
  },
  {
   "cell_type": "markdown",
   "metadata": {},
   "source": [
    "Проверим типы данных. Пропущенных значений нет, типы данных правильные:"
   ]
  },
  {
   "cell_type": "code",
   "execution_count": 4,
   "metadata": {},
   "outputs": [
    {
     "name": "stdout",
     "output_type": "stream",
     "text": [
      "<class 'pandas.core.frame.DataFrame'>\n",
      "RangeIndex: 15366 entries, 0 to 15365\n",
      "Data columns (total 6 columns):\n",
      " #   Column       Non-Null Count  Dtype \n",
      "---  ------       --------------  ----- \n",
      " 0   id           15366 non-null  int64 \n",
      " 1   object_name  15366 non-null  object\n",
      " 2   chain        15366 non-null  object\n",
      " 3   object_type  15366 non-null  object\n",
      " 4   address      15366 non-null  object\n",
      " 5   number       15366 non-null  int64 \n",
      "dtypes: int64(2), object(4)\n",
      "memory usage: 720.4+ KB\n"
     ]
    }
   ],
   "source": [
    "rest_data.info()"
   ]
  },
  {
   "cell_type": "markdown",
   "metadata": {},
   "source": [
    "Убедимся, что дубликатов нет:"
   ]
  },
  {
   "cell_type": "code",
   "execution_count": 5,
   "metadata": {},
   "outputs": [
    {
     "data": {
      "text/plain": [
       "0"
      ]
     },
     "execution_count": 5,
     "metadata": {},
     "output_type": "execute_result"
    }
   ],
   "source": [
    "rest_data.duplicated().sum()"
   ]
  },
  {
   "cell_type": "markdown",
   "metadata": {},
   "source": [
    "Найдем дубликаты с разными id, но с идентичной информацией в остальных строках:"
   ]
  },
  {
   "cell_type": "code",
   "execution_count": 6,
   "metadata": {},
   "outputs": [
    {
     "data": {
      "text/plain": [
       "82"
      ]
     },
     "execution_count": 6,
     "metadata": {},
     "output_type": "execute_result"
    }
   ],
   "source": [
    "rest_data.duplicated(subset=['object_name', 'chain', 'object_type', 'address', 'number']).sum()"
   ]
  },
  {
   "cell_type": "markdown",
   "metadata": {},
   "source": [
    "Удалим найденные 82 дубликата:"
   ]
  },
  {
   "cell_type": "code",
   "execution_count": 7,
   "metadata": {},
   "outputs": [],
   "source": [
    "rest_data = rest_data.drop_duplicates(subset=['object_name', 'chain', 'object_type', 'address', 'number'], keep='first')\n"
   ]
  },
  {
   "cell_type": "markdown",
   "metadata": {},
   "source": [
    "После удаления в датасете осталось 15284 строки:"
   ]
  },
  {
   "cell_type": "code",
   "execution_count": 8,
   "metadata": {},
   "outputs": [
    {
     "name": "stdout",
     "output_type": "stream",
     "text": [
      "<class 'pandas.core.frame.DataFrame'>\n",
      "Int64Index: 15284 entries, 0 to 15365\n",
      "Data columns (total 6 columns):\n",
      " #   Column       Non-Null Count  Dtype \n",
      "---  ------       --------------  ----- \n",
      " 0   id           15284 non-null  int64 \n",
      " 1   object_name  15284 non-null  object\n",
      " 2   chain        15284 non-null  object\n",
      " 3   object_type  15284 non-null  object\n",
      " 4   address      15284 non-null  object\n",
      " 5   number       15284 non-null  int64 \n",
      "dtypes: int64(2), object(4)\n",
      "memory usage: 835.8+ KB\n"
     ]
    }
   ],
   "source": [
    "rest_data.info()"
   ]
  },
  {
   "cell_type": "markdown",
   "metadata": {},
   "source": [
    "## Анализ данных\n"
   ]
  },
  {
   "cell_type": "markdown",
   "metadata": {},
   "source": [
    "### Cоотношение видов объектов общественного питания по количеству"
   ]
  },
  {
   "cell_type": "markdown",
   "metadata": {},
   "source": [
    "Создадим сводную таблицу с количеством объектов и построим по ней график:"
   ]
  },
  {
   "cell_type": "code",
   "execution_count": 9,
   "metadata": {},
   "outputs": [
    {
     "data": {
      "image/png": "[encoded data removed]",
      "text/plain": [
       "<Figure size 576x504 with 1 Axes>"
      ]
     },
     "metadata": {},
     "output_type": "display_data"
    }
   ],
   "source": [
    "# создадим сводную таблицу с количеством объектов \n",
    "rest_data_cafe_types = rest_data.pivot_table(index='object_type', values='id', aggfunc='count').reset_index()\n",
    "rest_data_cafe_types = rest_data_cafe_types.sort_values(by='id', ascending=False)\n",
    "\n",
    "# построим график по таблице\n",
    "\n",
    "sns.set(rc={'figure.figsize':(8, 7)})\n",
    "\n",
    "\n",
    "sns.set_style(\"whitegrid\")\n",
    "sns.barplot(y='object_type', x= 'id', data=rest_data_cafe_types, color='cornflowerblue').set_title(\n",
    "    \"Cоотношение видов объектов общественного питания по количеству\", fontsize=14)\n",
    "\n",
    "plt.ylabel('')\n",
    "plt.xlabel('Количество объектов') ;\n"
   ]
  },
  {
   "cell_type": "markdown",
   "metadata": {},
   "source": [
    "Больше всего в датасете кафе (более 6000), столовых и ресторанов, а меньше всего отделов кулинарии в магазинах."
   ]
  },
  {
   "cell_type": "markdown",
   "metadata": {},
   "source": [
    "### Соотношение сетевых и несетевых заведений по количеству. "
   ]
  },
  {
   "cell_type": "markdown",
   "metadata": {},
   "source": [
    "Создадим сводную таблицы с разбиением между сетевыми и несетевыми заведениями всех типов. Построим график по таблице:"
   ]
  },
  {
   "cell_type": "code",
   "execution_count": 10,
   "metadata": {},
   "outputs": [
    {
     "data": {
      "text/html": [
       "<div>\n",
       "<style scoped>\n",
       "    .dataframe tbody tr th:only-of-type {\n",
       "        vertical-align: middle;\n",
       "    }\n",
       "\n",
       "    .dataframe tbody tr th {\n",
       "        vertical-align: top;\n",
       "    }\n",
       "\n",
       "    .dataframe thead th {\n",
       "        text-align: right;\n",
       "    }\n",
       "</style>\n",
       "<table border=\"1\" class=\"dataframe\">\n",
       "  <thead>\n",
       "    <tr style=\"text-align: right;\">\n",
       "      <th></th>\n",
       "      <th>chain</th>\n",
       "      <th>id</th>\n",
       "    </tr>\n",
       "  </thead>\n",
       "  <tbody>\n",
       "    <tr>\n",
       "      <th>1</th>\n",
       "      <td>нет</td>\n",
       "      <td>12320</td>\n",
       "    </tr>\n",
       "    <tr>\n",
       "      <th>0</th>\n",
       "      <td>да</td>\n",
       "      <td>2964</td>\n",
       "    </tr>\n",
       "  </tbody>\n",
       "</table>\n",
       "</div>"
      ],
      "text/plain": [
       "  chain     id\n",
       "1   нет  12320\n",
       "0    да   2964"
      ]
     },
     "execution_count": 10,
     "metadata": {},
     "output_type": "execute_result"
    }
   ],
   "source": [
    "# создадим сводную таблицу с количеством объектов \n",
    "rest_data_cafe_chaines = rest_data.pivot_table(index='chain', values='id', aggfunc='count').reset_index()\n",
    "rest_data_cafe_chaines = rest_data_cafe_chaines.sort_values(by='id', ascending=False)\n",
    "rest_data_cafe_chaines\n",
    "\n"
   ]
  },
  {
   "cell_type": "code",
   "execution_count": 11,
   "metadata": {},
   "outputs": [
    {
     "data": {
      "image/png": "[encoded data removed]",
      "text/plain": [
       "<Figure size 216x288 with 1 Axes>"
      ]
     },
     "metadata": {},
     "output_type": "display_data"
    }
   ],
   "source": [
    "\n",
    "# построим график\n",
    "rest_data_cafe_chaines.plot(kind='bar', x='chain', y='id', figsize=(3, 4), color='cornflowerblue')\n",
    "plt.xlabel('')\n",
    "plt.xticks(range(2), ['Несетевые', 'Сетевые'], rotation='horizontal')\n",
    "plt.title('Общее соотношение сетевых и несетевых заведений', fontsize=12);"
   ]
  },
  {
   "cell_type": "markdown",
   "metadata": {},
   "source": [
    "Видно, что несетевых заведений гораздо больше, чем сетевых - 12320 против 2964."
   ]
  },
  {
   "cell_type": "markdown",
   "metadata": {},
   "source": [
    "### Для какого вида объекта общественного питания характерно сетевое распространение?"
   ]
  },
  {
   "cell_type": "markdown",
   "metadata": {},
   "source": [
    "Проверим, как происходит распределение между сетевыми и несетевыми объектами для разных типов заведений:"
   ]
  },
  {
   "cell_type": "code",
   "execution_count": 12,
   "metadata": {},
   "outputs": [
    {
     "data": {
      "image/png": "[encoded data removed]",
      "text/plain": [
       "<Figure size 720x648 with 1 Axes>"
      ]
     },
     "metadata": {},
     "output_type": "display_data"
    }
   ],
   "source": [
    "sns.set(rc={'figure.figsize':(10, 9)})\n",
    "sns.set_palette(sns.color_palette('rainbow'))\n",
    "\n",
    "sns.set_style(\"whitegrid\")\n",
    "sns.countplot(data=rest_data, y='object_type', hue='chain').set_title(\n",
    "    \"Cоотношение видов объектов общественного питания: сетевые vs несетевые\", fontsize=16)\n",
    "\n",
    "plt.legend(['Несетевые','Cетевые'] )\n",
    "\n",
    "plt.ylabel('')\n",
    "plt.xlabel('Количество объектов') ;\n"
   ]
  },
  {
   "cell_type": "markdown",
   "metadata": {},
   "source": [
    "На графике видно, что большая часть сетевых учреждений относится к кафе, предприятиям быстрого обслуживания и ресторанам.\n"
   ]
  },
  {
   "cell_type": "code",
   "execution_count": 13,
   "metadata": {},
   "outputs": [
    {
     "data": {
      "text/html": [
       "<div>\n",
       "<style scoped>\n",
       "    .dataframe tbody tr th:only-of-type {\n",
       "        vertical-align: middle;\n",
       "    }\n",
       "\n",
       "    .dataframe tbody tr th {\n",
       "        vertical-align: top;\n",
       "    }\n",
       "\n",
       "    .dataframe thead th {\n",
       "        text-align: right;\n",
       "    }\n",
       "</style>\n",
       "<table border=\"1\" class=\"dataframe\">\n",
       "  <thead>\n",
       "    <tr style=\"text-align: right;\">\n",
       "      <th>chain</th>\n",
       "      <th>да</th>\n",
       "      <th>нет</th>\n",
       "      <th>percentage</th>\n",
       "    </tr>\n",
       "    <tr>\n",
       "      <th>object_type</th>\n",
       "      <th></th>\n",
       "      <th></th>\n",
       "      <th></th>\n",
       "    </tr>\n",
       "  </thead>\n",
       "  <tbody>\n",
       "    <tr>\n",
       "      <th>бар</th>\n",
       "      <td>37</td>\n",
       "      <td>818</td>\n",
       "      <td>4.33</td>\n",
       "    </tr>\n",
       "    <tr>\n",
       "      <th>буфет</th>\n",
       "      <td>11</td>\n",
       "      <td>566</td>\n",
       "      <td>1.91</td>\n",
       "    </tr>\n",
       "    <tr>\n",
       "      <th>закусочная</th>\n",
       "      <td>56</td>\n",
       "      <td>293</td>\n",
       "      <td>16.05</td>\n",
       "    </tr>\n",
       "    <tr>\n",
       "      <th>кафе</th>\n",
       "      <td>1396</td>\n",
       "      <td>4675</td>\n",
       "      <td>22.99</td>\n",
       "    </tr>\n",
       "    <tr>\n",
       "      <th>кафетерий</th>\n",
       "      <td>52</td>\n",
       "      <td>343</td>\n",
       "      <td>13.16</td>\n",
       "    </tr>\n",
       "    <tr>\n",
       "      <th>магазин (отдел кулинарии)</th>\n",
       "      <td>78</td>\n",
       "      <td>195</td>\n",
       "      <td>28.57</td>\n",
       "    </tr>\n",
       "    <tr>\n",
       "      <th>предприятие быстрого обслуживания</th>\n",
       "      <td>788</td>\n",
       "      <td>1110</td>\n",
       "      <td>41.52</td>\n",
       "    </tr>\n",
       "    <tr>\n",
       "      <th>ресторан</th>\n",
       "      <td>543</td>\n",
       "      <td>1739</td>\n",
       "      <td>23.79</td>\n",
       "    </tr>\n",
       "    <tr>\n",
       "      <th>столовая</th>\n",
       "      <td>3</td>\n",
       "      <td>2581</td>\n",
       "      <td>0.12</td>\n",
       "    </tr>\n",
       "  </tbody>\n",
       "</table>\n",
       "</div>"
      ],
      "text/plain": [
       "chain                                да   нет  percentage\n",
       "object_type                                              \n",
       "бар                                  37   818        4.33\n",
       "буфет                                11   566        1.91\n",
       "закусочная                           56   293       16.05\n",
       "кафе                               1396  4675       22.99\n",
       "кафетерий                            52   343       13.16\n",
       "магазин (отдел кулинарии)            78   195       28.57\n",
       "предприятие быстрого обслуживания   788  1110       41.52\n",
       "ресторан                            543  1739       23.79\n",
       "столовая                              3  2581        0.12"
      ]
     },
     "execution_count": 13,
     "metadata": {},
     "output_type": "execute_result"
    }
   ],
   "source": [
    "rest_data_grouped = rest_data.pivot_table(index='object_type', columns='chain', values='id', aggfunc='count')\n",
    "rest_data_grouped['percentage'] = round(rest_data_grouped['да'] / (rest_data_grouped['да'] + rest_data_grouped['нет']) * 100, 2)\n",
    "\n",
    "rest_data_grouped"
   ]
  },
  {
   "cell_type": "markdown",
   "metadata": {},
   "source": [
    "По таблице также видно, что самое большое количество сетевых заведений - у кафе, предприятий быстрого обслуживания и ресторанов, а в процентном соотношении наиболее значительная доля сетевых заведений у предприятий быстрого обслуживания, магазинов, ресторанов и кафе."
   ]
  },
  {
   "cell_type": "markdown",
   "metadata": {},
   "source": [
    "### Что характерно для сетевых заведений: много заведений с небольшим числом посадочных мест в каждом или мало заведений с большим количеством посадочных мест?"
   ]
  },
  {
   "cell_type": "markdown",
   "metadata": {},
   "source": [
    "Выясним, что характерно для сетевых заведений: много заведений с небольшим числом посадочных мест в каждом или мало заведений с большим количеством посадочных мест.\n",
    "\n",
    "Составим сводную таблицу: сгруппируем заведения по сетям и вычислим медианное количество посадочных мест для каждой сети:"
   ]
  },
  {
   "cell_type": "code",
   "execution_count": 14,
   "metadata": {},
   "outputs": [
    {
     "data": {
      "text/html": [
       "<div>\n",
       "<style scoped>\n",
       "    .dataframe tbody tr th:only-of-type {\n",
       "        vertical-align: middle;\n",
       "    }\n",
       "\n",
       "    .dataframe tbody tr th {\n",
       "        vertical-align: top;\n",
       "    }\n",
       "\n",
       "    .dataframe thead th {\n",
       "        text-align: right;\n",
       "    }\n",
       "</style>\n",
       "<table border=\"1\" class=\"dataframe\">\n",
       "  <thead>\n",
       "    <tr style=\"text-align: right;\">\n",
       "      <th></th>\n",
       "      <th>object_name</th>\n",
       "      <th>object_type</th>\n",
       "      <th>id</th>\n",
       "      <th>number</th>\n",
       "    </tr>\n",
       "  </thead>\n",
       "  <tbody>\n",
       "    <tr>\n",
       "      <th>0</th>\n",
       "      <td>Beverly Hills Diner</td>\n",
       "      <td>ресторан</td>\n",
       "      <td>1</td>\n",
       "      <td>88.0</td>\n",
       "    </tr>\n",
       "    <tr>\n",
       "      <th>1</th>\n",
       "      <td>Bierloga</td>\n",
       "      <td>кафе</td>\n",
       "      <td>1</td>\n",
       "      <td>75.0</td>\n",
       "    </tr>\n",
       "    <tr>\n",
       "      <th>2</th>\n",
       "      <td>Black &amp; White</td>\n",
       "      <td>кафе</td>\n",
       "      <td>1</td>\n",
       "      <td>40.0</td>\n",
       "    </tr>\n",
       "    <tr>\n",
       "      <th>3</th>\n",
       "      <td>Bocconcino</td>\n",
       "      <td>кафе</td>\n",
       "      <td>1</td>\n",
       "      <td>36.0</td>\n",
       "    </tr>\n",
       "    <tr>\n",
       "      <th>4</th>\n",
       "      <td>Bocconcino</td>\n",
       "      <td>ресторан</td>\n",
       "      <td>2</td>\n",
       "      <td>82.0</td>\n",
       "    </tr>\n",
       "  </tbody>\n",
       "</table>\n",
       "</div>"
      ],
      "text/plain": [
       "           object_name object_type  id  number\n",
       "0  Beverly Hills Diner    ресторан   1    88.0\n",
       "1             Bierloga        кафе   1    75.0\n",
       "2        Black & White        кафе   1    40.0\n",
       "3           Bocconcino        кафе   1    36.0\n",
       "4           Bocconcino    ресторан   2    82.0"
      ]
     },
     "execution_count": 14,
     "metadata": {},
     "output_type": "execute_result"
    }
   ],
   "source": [
    "# сгруппируем заведения по сетям и вычислим медианное количество посадочных мест для каждой сети \n",
    "rest_data_grouped_chains = rest_data.query('chain == \"да\"').pivot_table(\n",
    "    index=['object_name', 'object_type'], values=['id', 'number'], aggfunc={'id' : 'count', 'number' : 'median'}).reset_index()\n",
    "\n",
    "\n",
    "rest_data_grouped_chains.head(5)"
   ]
  },
  {
   "cell_type": "code",
   "execution_count": 15,
   "metadata": {},
   "outputs": [
    {
     "data": {
      "text/html": [
       "<div>\n",
       "<style scoped>\n",
       "    .dataframe tbody tr th:only-of-type {\n",
       "        vertical-align: middle;\n",
       "    }\n",
       "\n",
       "    .dataframe tbody tr th {\n",
       "        vertical-align: top;\n",
       "    }\n",
       "\n",
       "    .dataframe thead th {\n",
       "        text-align: right;\n",
       "    }\n",
       "</style>\n",
       "<table border=\"1\" class=\"dataframe\">\n",
       "  <thead>\n",
       "    <tr style=\"text-align: right;\">\n",
       "      <th></th>\n",
       "      <th>object_name</th>\n",
       "      <th>object_type</th>\n",
       "      <th>id</th>\n",
       "      <th>number</th>\n",
       "    </tr>\n",
       "  </thead>\n",
       "  <tbody>\n",
       "    <tr>\n",
       "      <th>863</th>\n",
       "      <td>Темпл Бар</td>\n",
       "      <td>кафе</td>\n",
       "      <td>1</td>\n",
       "      <td>356.0</td>\n",
       "    </tr>\n",
       "    <tr>\n",
       "      <th>130</th>\n",
       "      <td>БАКИНСКИЙ БУЛЬВАР</td>\n",
       "      <td>ресторан</td>\n",
       "      <td>1</td>\n",
       "      <td>350.0</td>\n",
       "    </tr>\n",
       "    <tr>\n",
       "      <th>922</th>\n",
       "      <td>Чешская пивная «Козловица»</td>\n",
       "      <td>ресторан</td>\n",
       "      <td>1</td>\n",
       "      <td>306.0</td>\n",
       "    </tr>\n",
       "    <tr>\n",
       "      <th>957</th>\n",
       "      <td>Ян Примус</td>\n",
       "      <td>ресторан</td>\n",
       "      <td>1</td>\n",
       "      <td>300.0</td>\n",
       "    </tr>\n",
       "    <tr>\n",
       "      <th>293</th>\n",
       "      <td>Золотая вобла</td>\n",
       "      <td>ресторан</td>\n",
       "      <td>1</td>\n",
       "      <td>300.0</td>\n",
       "    </tr>\n",
       "    <tr>\n",
       "      <th>418</th>\n",
       "      <td>Кафе МУ-МУ</td>\n",
       "      <td>предприятие быстрого обслуживания</td>\n",
       "      <td>1</td>\n",
       "      <td>300.0</td>\n",
       "    </tr>\n",
       "    <tr>\n",
       "      <th>956</th>\n",
       "      <td>Якитория и Ян Примус</td>\n",
       "      <td>ресторан</td>\n",
       "      <td>1</td>\n",
       "      <td>282.0</td>\n",
       "    </tr>\n",
       "    <tr>\n",
       "      <th>811</th>\n",
       "      <td>Старина Миллер</td>\n",
       "      <td>ресторан</td>\n",
       "      <td>1</td>\n",
       "      <td>280.0</td>\n",
       "    </tr>\n",
       "    <tr>\n",
       "      <th>676</th>\n",
       "      <td>Пражечка</td>\n",
       "      <td>ресторан</td>\n",
       "      <td>1</td>\n",
       "      <td>266.0</td>\n",
       "    </tr>\n",
       "    <tr>\n",
       "      <th>710</th>\n",
       "      <td>РЕСТОРАН «ЧАЙХОНА №1»</td>\n",
       "      <td>ресторан</td>\n",
       "      <td>1</td>\n",
       "      <td>250.0</td>\n",
       "    </tr>\n",
       "  </tbody>\n",
       "</table>\n",
       "</div>"
      ],
      "text/plain": [
       "                    object_name                        object_type  id  number\n",
       "863                   Темпл Бар                               кафе   1   356.0\n",
       "130           БАКИНСКИЙ БУЛЬВАР                           ресторан   1   350.0\n",
       "922  Чешская пивная «Козловица»                           ресторан   1   306.0\n",
       "957                   Ян Примус                           ресторан   1   300.0\n",
       "293               Золотая вобла                           ресторан   1   300.0\n",
       "418                  Кафе МУ-МУ  предприятие быстрого обслуживания   1   300.0\n",
       "956        Якитория и Ян Примус                           ресторан   1   282.0\n",
       "811              Старина Миллер                           ресторан   1   280.0\n",
       "676                    Пражечка                           ресторан   1   266.0\n",
       "710       РЕСТОРАН «ЧАЙХОНА №1»                           ресторан   1   250.0"
      ]
     },
     "execution_count": 15,
     "metadata": {},
     "output_type": "execute_result"
    }
   ],
   "source": [
    "rest_data_grouped_chains.sort_values(by='number', ascending=False).head(10)"
   ]
  },
  {
   "cell_type": "markdown",
   "metadata": {},
   "source": [
    "Первые места по количеству посадочных мест заняли Темпл Бар, Бакинский бульвар и Чешская пивная «Козловица»\t- в этих заведениях 300-350 посадочных мест.\n",
    "\n",
    "Построим jointplot, чтобы визуализировать количество заведений в сети и среднее количество посадочных мест:"
   ]
  },
  {
   "cell_type": "code",
   "execution_count": 16,
   "metadata": {},
   "outputs": [
    {
     "data": {
      "image/png": "[encoded data removed]",
      "text/plain": [
       "<Figure size 720x720 with 3 Axes>"
      ]
     },
     "metadata": {},
     "output_type": "display_data"
    }
   ],
   "source": [
    "h = sns.jointplot(x='number', y='id', hue='object_type', data=rest_data_grouped_chains, height=10)\n",
    "\n",
    "h.ax_joint.set_xlabel('Среднее количество посадочных мест в сети')\n",
    "h.ax_joint.set_ylabel('')\n",
    "h.ax_joint.legend(title='Тип заведения')\n",
    "plt.show();"
   ]
  },
  {
   "cell_type": "markdown",
   "metadata": {},
   "source": [
    "Видно, что большая часть сетевых заведений обладает одновременно небольшим количеством заведений в сети и небольшим количеством посадочных мест.\n",
    "\n",
    "Часть сетевых ресторанов обладает большими помещениями на 100-300 посадочных мест, но отличается малым количеством заведений в сети.\n",
    "\n",
    "Часть кафе и предприятий быстрого обслуживаниями работает на небольших площадях (до 100 посадочных мест), но обладает большим количеством заведений в сети. \n",
    "\n",
    "В целом, это выглядит логично - рестораны часто бывают больше кафе по площади, но и содержание их обходится дороже, поэтому сложнее привлечь инвесторов и увеличить количество заведений сети.  "
   ]
  },
  {
   "cell_type": "markdown",
   "metadata": {},
   "source": [
    "###  Среднее количество посадочных мест для каждого вида объекта общественного питания."
   ]
  },
  {
   "cell_type": "markdown",
   "metadata": {},
   "source": [
    "Построим сводную таблицу и вычислим медианное количество посадочных мест для каждого типа объектов:"
   ]
  },
  {
   "cell_type": "code",
   "execution_count": 17,
   "metadata": {},
   "outputs": [
    {
     "data": {
      "text/html": [
       "<div>\n",
       "<style scoped>\n",
       "    .dataframe tbody tr th:only-of-type {\n",
       "        vertical-align: middle;\n",
       "    }\n",
       "\n",
       "    .dataframe tbody tr th {\n",
       "        vertical-align: top;\n",
       "    }\n",
       "\n",
       "    .dataframe thead th {\n",
       "        text-align: right;\n",
       "    }\n",
       "</style>\n",
       "<table border=\"1\" class=\"dataframe\">\n",
       "  <thead>\n",
       "    <tr style=\"text-align: right;\">\n",
       "      <th></th>\n",
       "      <th>object_type</th>\n",
       "      <th>number</th>\n",
       "    </tr>\n",
       "  </thead>\n",
       "  <tbody>\n",
       "    <tr>\n",
       "      <th>8</th>\n",
       "      <td>столовая</td>\n",
       "      <td>103</td>\n",
       "    </tr>\n",
       "    <tr>\n",
       "      <th>7</th>\n",
       "      <td>ресторан</td>\n",
       "      <td>80</td>\n",
       "    </tr>\n",
       "    <tr>\n",
       "      <th>0</th>\n",
       "      <td>бар</td>\n",
       "      <td>35</td>\n",
       "    </tr>\n",
       "    <tr>\n",
       "      <th>1</th>\n",
       "      <td>буфет</td>\n",
       "      <td>32</td>\n",
       "    </tr>\n",
       "    <tr>\n",
       "      <th>3</th>\n",
       "      <td>кафе</td>\n",
       "      <td>30</td>\n",
       "    </tr>\n",
       "    <tr>\n",
       "      <th>4</th>\n",
       "      <td>кафетерий</td>\n",
       "      <td>6</td>\n",
       "    </tr>\n",
       "    <tr>\n",
       "      <th>6</th>\n",
       "      <td>предприятие быстрого обслуживания</td>\n",
       "      <td>6</td>\n",
       "    </tr>\n",
       "    <tr>\n",
       "      <th>2</th>\n",
       "      <td>закусочная</td>\n",
       "      <td>0</td>\n",
       "    </tr>\n",
       "    <tr>\n",
       "      <th>5</th>\n",
       "      <td>магазин (отдел кулинарии)</td>\n",
       "      <td>0</td>\n",
       "    </tr>\n",
       "  </tbody>\n",
       "</table>\n",
       "</div>"
      ],
      "text/plain": [
       "                         object_type  number\n",
       "8                           столовая     103\n",
       "7                           ресторан      80\n",
       "0                                бар      35\n",
       "1                              буфет      32\n",
       "3                               кафе      30\n",
       "4                          кафетерий       6\n",
       "6  предприятие быстрого обслуживания       6\n",
       "2                         закусочная       0\n",
       "5          магазин (отдел кулинарии)       0"
      ]
     },
     "execution_count": 17,
     "metadata": {},
     "output_type": "execute_result"
    }
   ],
   "source": [
    "rest_data_grouped_places = rest_data.pivot_table(\n",
    "    index='object_type', values='number', aggfunc='median').reset_index().sort_values(by='number', ascending=False)\n",
    "\n",
    "\n",
    "rest_data_grouped_places"
   ]
  },
  {
   "cell_type": "markdown",
   "metadata": {},
   "source": [
    "Больше всего посадочных мест в столовых (в среднем около 100) и ресторанах (в среднем около 80), меньше всего - в кафетериях и на предприятиях быстрого обслуживания (около 6). В закусочных и магазинах посадочных мест нет. \n",
    "\n",
    "Визуализируем это на графике:"
   ]
  },
  {
   "cell_type": "code",
   "execution_count": 18,
   "metadata": {},
   "outputs": [
    {
     "data": {
      "image/png": "[encoded data removed]",
      "text/plain": [
       "<Figure size 576x504 with 1 Axes>"
      ]
     },
     "metadata": {},
     "output_type": "display_data"
    }
   ],
   "source": [
    "sns.set(rc={'figure.figsize':(8, 7)})\n",
    "\n",
    "sns.set_style(\"whitegrid\")\n",
    "sns.barplot(data=rest_data_grouped_places, y='object_type', x='number', color='cornflowerblue').set_title(\n",
    "    \"Медианное количество посадочных мест для разных типов заведений общественного питания\", fontsize=16)\n",
    "\n",
    "\n",
    "plt.ylabel('')\n",
    "plt.xlabel(\"Медианное количество посадочных мест\") ;"
   ]
  },
  {
   "cell_type": "markdown",
   "metadata": {},
   "source": [
    "### Выделение в отдельный столбец информации об улице из столбца address \n",
    "\n",
    "Чтобы выделить улицу из адреса, используем функцию с регулярным выражением:"
   ]
  },
  {
   "cell_type": "code",
   "execution_count": 19,
   "metadata": {},
   "outputs": [
    {
     "data": {
      "text/html": [
       "<div>\n",
       "<style scoped>\n",
       "    .dataframe tbody tr th:only-of-type {\n",
       "        vertical-align: middle;\n",
       "    }\n",
       "\n",
       "    .dataframe tbody tr th {\n",
       "        vertical-align: top;\n",
       "    }\n",
       "\n",
       "    .dataframe thead th {\n",
       "        text-align: right;\n",
       "    }\n",
       "</style>\n",
       "<table border=\"1\" class=\"dataframe\">\n",
       "  <thead>\n",
       "    <tr style=\"text-align: right;\">\n",
       "      <th></th>\n",
       "      <th>id</th>\n",
       "      <th>object_name</th>\n",
       "      <th>chain</th>\n",
       "      <th>object_type</th>\n",
       "      <th>address</th>\n",
       "      <th>number</th>\n",
       "      <th>street</th>\n",
       "    </tr>\n",
       "  </thead>\n",
       "  <tbody>\n",
       "    <tr>\n",
       "      <th>0</th>\n",
       "      <td>151635</td>\n",
       "      <td>СМЕТАНА</td>\n",
       "      <td>нет</td>\n",
       "      <td>кафе</td>\n",
       "      <td>город Москва, улица Егора Абакумова, дом 9</td>\n",
       "      <td>48</td>\n",
       "      <td>[ улица Егора Абакумова]</td>\n",
       "    </tr>\n",
       "    <tr>\n",
       "      <th>1</th>\n",
       "      <td>77874</td>\n",
       "      <td>Родник</td>\n",
       "      <td>нет</td>\n",
       "      <td>кафе</td>\n",
       "      <td>город Москва, улица Талалихина, дом 2/1, корпус 1</td>\n",
       "      <td>35</td>\n",
       "      <td>[ улица Талалихина]</td>\n",
       "    </tr>\n",
       "    <tr>\n",
       "      <th>2</th>\n",
       "      <td>24309</td>\n",
       "      <td>Кафе «Академия»</td>\n",
       "      <td>нет</td>\n",
       "      <td>кафе</td>\n",
       "      <td>город Москва, Абельмановская улица, дом 6</td>\n",
       "      <td>95</td>\n",
       "      <td>[ Абельмановская улица]</td>\n",
       "    </tr>\n",
       "    <tr>\n",
       "      <th>3</th>\n",
       "      <td>21894</td>\n",
       "      <td>ПИЦЦЕТОРИЯ</td>\n",
       "      <td>да</td>\n",
       "      <td>кафе</td>\n",
       "      <td>город Москва, Абрамцевская улица, дом 1</td>\n",
       "      <td>40</td>\n",
       "      <td>[ Абрамцевская улица]</td>\n",
       "    </tr>\n",
       "    <tr>\n",
       "      <th>4</th>\n",
       "      <td>119365</td>\n",
       "      <td>Кафе «Вишневая метель»</td>\n",
       "      <td>нет</td>\n",
       "      <td>кафе</td>\n",
       "      <td>город Москва, Абрамцевская улица, дом 9, корпус 1</td>\n",
       "      <td>50</td>\n",
       "      <td>[ Абрамцевская улица]</td>\n",
       "    </tr>\n",
       "  </tbody>\n",
       "</table>\n",
       "</div>"
      ],
      "text/plain": [
       "       id             object_name chain object_type  \\\n",
       "0  151635                 СМЕТАНА   нет        кафе   \n",
       "1   77874                  Родник   нет        кафе   \n",
       "2   24309         Кафе «Академия»   нет        кафе   \n",
       "3   21894              ПИЦЦЕТОРИЯ    да        кафе   \n",
       "4  119365  Кафе «Вишневая метель»   нет        кафе   \n",
       "\n",
       "                                             address  number  \\\n",
       "0         город Москва, улица Егора Абакумова, дом 9      48   \n",
       "1  город Москва, улица Талалихина, дом 2/1, корпус 1      35   \n",
       "2          город Москва, Абельмановская улица, дом 6      95   \n",
       "3            город Москва, Абрамцевская улица, дом 1      40   \n",
       "4  город Москва, Абрамцевская улица, дом 9, корпус 1      50   \n",
       "\n",
       "                     street  \n",
       "0  [ улица Егора Абакумова]  \n",
       "1       [ улица Талалихина]  \n",
       "2   [ Абельмановская улица]  \n",
       "3     [ Абрамцевская улица]  \n",
       "4     [ Абрамцевская улица]  "
      ]
     },
     "execution_count": 19,
     "metadata": {},
     "output_type": "execute_result"
    }
   ],
   "source": [
    "def street(row):\n",
    "        return re.findall('([А-Яа-я0-9-Ёё ]+тупик|\\sтупик[А-Яа-я0-9-Ёё ]+|[А-Яа-я0-9-Ёё ]+линия|\\sлиния[А-Яа-я0-9-Ёё ]+|[А-Яа-я0-9-Ёё ]+проспект|\\sпроспект[А-Яа-я0-9-Ёё ]+|[А-Яа-я0-9-Ёё ]+аллея|\\sаллея[А-Яа-я0-9-Ёё  ]+|[А-Яа-я0-9-Ёё ]+улица|\\sулица[А-Яа-я0-9-Ёё ]+|[А-Яа-я0-9-Ёё ]+\\sулица[А-Яа-я0-9-Ёё ]+|[А-Яа-я0-9-Ёё ]+бульвар|\\sбульвар[А-Яа-я0-9-Ёё ]+|[А-Яа-я0-9-Ёё ]+проезд|\\sпроезд[А-Яа-я0-9-Ёё ]+|[А-Яа-я0-9-Ёё ]+проезд[А-Яа-я0-9-Ёё ]+|[А-Яа-я0-9-Ёё ]+шоссе|\\sшоссе[А-Яа-я0-9- ]+|[А-Яа-я0-9-Ёё ]+переулок|\\sпереулок[А-Яа-я0-9- ]+|[А-Яа-я0-9-Ёё ]+набережная|\\sнабережная[А-Яа-я0-9-Ёё ]+|[А-Яа-я0-9-Ёё ]+площадь|\\sплощадь[А-Яа-я0-9-Ёё ]+|[А-Яа-я0-9-Ёё ]+шоссе|\\sшоссе[А-Яа-я0-9-Ёё ]+|улица\\s[А-Яа-я0-9-Ёё ]),', row)\n",
    "    \n",
    "\n",
    "rest_data['street']  =  rest_data['address'].apply(lambda row: street(row)) \n",
    "\n",
    "rest_data.head(5)"
   ]
  },
  {
   "cell_type": "markdown",
   "metadata": {},
   "source": [
    "Приведем новый столбец к типу данных str и используем функцию clean(row), чтобы избавиться от квадратных скобок в названиях улиц:"
   ]
  },
  {
   "cell_type": "code",
   "execution_count": 20,
   "metadata": {},
   "outputs": [],
   "source": [
    "rest_data['street'] = rest_data['street'].astype(str)"
   ]
  },
  {
   "cell_type": "code",
   "execution_count": 21,
   "metadata": {},
   "outputs": [],
   "source": [
    "def clean(row):\n",
    "    return re.sub('[^А-Яа-я 0-9-]+', '', row)\n",
    "\n",
    "rest_data['street']  =  rest_data['street'].apply(lambda row: clean(row)) \n"
   ]
  },
  {
   "cell_type": "markdown",
   "metadata": {},
   "source": [
    "Теперь названия улиц выглядят лучше:"
   ]
  },
  {
   "cell_type": "code",
   "execution_count": 22,
   "metadata": {
    "scrolled": false
   },
   "outputs": [
    {
     "data": {
      "text/html": [
       "<div>\n",
       "<style scoped>\n",
       "    .dataframe tbody tr th:only-of-type {\n",
       "        vertical-align: middle;\n",
       "    }\n",
       "\n",
       "    .dataframe tbody tr th {\n",
       "        vertical-align: top;\n",
       "    }\n",
       "\n",
       "    .dataframe thead th {\n",
       "        text-align: right;\n",
       "    }\n",
       "</style>\n",
       "<table border=\"1\" class=\"dataframe\">\n",
       "  <thead>\n",
       "    <tr style=\"text-align: right;\">\n",
       "      <th></th>\n",
       "      <th>id</th>\n",
       "      <th>object_name</th>\n",
       "      <th>chain</th>\n",
       "      <th>object_type</th>\n",
       "      <th>address</th>\n",
       "      <th>number</th>\n",
       "      <th>street</th>\n",
       "    </tr>\n",
       "  </thead>\n",
       "  <tbody>\n",
       "    <tr>\n",
       "      <th>0</th>\n",
       "      <td>151635</td>\n",
       "      <td>СМЕТАНА</td>\n",
       "      <td>нет</td>\n",
       "      <td>кафе</td>\n",
       "      <td>город Москва, улица Егора Абакумова, дом 9</td>\n",
       "      <td>48</td>\n",
       "      <td>улица Егора Абакумова</td>\n",
       "    </tr>\n",
       "    <tr>\n",
       "      <th>1</th>\n",
       "      <td>77874</td>\n",
       "      <td>Родник</td>\n",
       "      <td>нет</td>\n",
       "      <td>кафе</td>\n",
       "      <td>город Москва, улица Талалихина, дом 2/1, корпус 1</td>\n",
       "      <td>35</td>\n",
       "      <td>улица Талалихина</td>\n",
       "    </tr>\n",
       "    <tr>\n",
       "      <th>2</th>\n",
       "      <td>24309</td>\n",
       "      <td>Кафе «Академия»</td>\n",
       "      <td>нет</td>\n",
       "      <td>кафе</td>\n",
       "      <td>город Москва, Абельмановская улица, дом 6</td>\n",
       "      <td>95</td>\n",
       "      <td>Абельмановская улица</td>\n",
       "    </tr>\n",
       "    <tr>\n",
       "      <th>3</th>\n",
       "      <td>21894</td>\n",
       "      <td>ПИЦЦЕТОРИЯ</td>\n",
       "      <td>да</td>\n",
       "      <td>кафе</td>\n",
       "      <td>город Москва, Абрамцевская улица, дом 1</td>\n",
       "      <td>40</td>\n",
       "      <td>Абрамцевская улица</td>\n",
       "    </tr>\n",
       "    <tr>\n",
       "      <th>4</th>\n",
       "      <td>119365</td>\n",
       "      <td>Кафе «Вишневая метель»</td>\n",
       "      <td>нет</td>\n",
       "      <td>кафе</td>\n",
       "      <td>город Москва, Абрамцевская улица, дом 9, корпус 1</td>\n",
       "      <td>50</td>\n",
       "      <td>Абрамцевская улица</td>\n",
       "    </tr>\n",
       "  </tbody>\n",
       "</table>\n",
       "</div>"
      ],
      "text/plain": [
       "       id             object_name chain object_type  \\\n",
       "0  151635                 СМЕТАНА   нет        кафе   \n",
       "1   77874                  Родник   нет        кафе   \n",
       "2   24309         Кафе «Академия»   нет        кафе   \n",
       "3   21894              ПИЦЦЕТОРИЯ    да        кафе   \n",
       "4  119365  Кафе «Вишневая метель»   нет        кафе   \n",
       "\n",
       "                                             address  number  \\\n",
       "0         город Москва, улица Егора Абакумова, дом 9      48   \n",
       "1  город Москва, улица Талалихина, дом 2/1, корпус 1      35   \n",
       "2          город Москва, Абельмановская улица, дом 6      95   \n",
       "3            город Москва, Абрамцевская улица, дом 1      40   \n",
       "4  город Москва, Абрамцевская улица, дом 9, корпус 1      50   \n",
       "\n",
       "                   street  \n",
       "0   улица Егора Абакумова  \n",
       "1        улица Талалихина  \n",
       "2    Абельмановская улица  \n",
       "3      Абрамцевская улица  \n",
       "4      Абрамцевская улица  "
      ]
     },
     "execution_count": 22,
     "metadata": {},
     "output_type": "execute_result"
    }
   ],
   "source": [
    "\n",
    "pd.set_option('max_colwidth', 400)\n",
    "rest_data.head(5)"
   ]
  },
  {
   "cell_type": "markdown",
   "metadata": {},
   "source": [
    "Некоторые адреса (например, кафе в деревнях), не содержат улиц. Для таких заведений, заполним столбец словом \"Неизвестно\". Таких заведений без улиц в датасете 424:"
   ]
  },
  {
   "cell_type": "code",
   "execution_count": 23,
   "metadata": {},
   "outputs": [
    {
     "data": {
      "text/plain": [
       "424"
      ]
     },
     "execution_count": 23,
     "metadata": {},
     "output_type": "execute_result"
    }
   ],
   "source": [
    "rest_data['street'] = rest_data['street'].replace({'': 'Неизвестно'})\n",
    "rest_data_without_streets = rest_data.query('street == \"Неизвестно\"')\n",
    "rest_data_without_streets['id'].count()"
   ]
  },
  {
   "cell_type": "markdown",
   "metadata": {},
   "source": [
    "### Топ-10 улиц по количеству объектов общественного питания. "
   ]
  },
  {
   "cell_type": "markdown",
   "metadata": {},
   "source": [
    "Построим график топ-10 улиц по количеству объектов общественного питания. Воспользуемся внешней информацией и ответим на вопрос — в каких районах Москвы находятся эти улицы?\n",
    "\n",
    "Сначала построим сводную таблицу, исключив строки с неизвестными улицами.   \n",
    "Сгруппируем оставшиеся строки по названиям улиц и сосчитаем количество заведений на каждой улице:"
   ]
  },
  {
   "cell_type": "code",
   "execution_count": 24,
   "metadata": {},
   "outputs": [
    {
     "data": {
      "image/png": "[encoded data removed]",
      "text/plain": [
       "<Figure size 864x504 with 1 Axes>"
      ]
     },
     "metadata": {},
     "output_type": "display_data"
    }
   ],
   "source": [
    "# исключим строки с неизвестными улицами и сгруппируем данные по улицам\n",
    "#cосчитаем количество объектов на каждой улице и выведем топ-10\n",
    "\n",
    "rest_data_grouped_streets = rest_data.query('street != \"Неизвестно\"').pivot_table(\n",
    "    index='street', values='id', aggfunc={'id' : 'count'}).reset_index()\n",
    "\n",
    "rest_data_grouped_streets = rest_data_grouped_streets.sort_values(by='id', ascending=False)\n",
    "rest_data_grouped_streets.head(10).plot(kind='bar', x='street', figsize=(12, 7), color='cornflowerblue')\n",
    "plt.xlabel('')\n",
    "plt.xticks(rotation=45)\n",
    "plt.legend(['Количество заведений'])\n",
    "\n",
    "plt.title('Топ-10 улиц по количеству объектов общественного питания', fontsize=16);"
   ]
  },
  {
   "cell_type": "markdown",
   "metadata": {},
   "source": [
    "Проспект Мира - улица с наибольшим количеством заведений общественного питания.\n",
    "\n",
    "Загрузим внешний источник данных (https://hubofdata.ru/dataset/mosgaz-contacts), чтобы определить, в каких районах находятся эти улицы. \n",
    "\n",
    "Файл загружен на docs.google.com:\n"
   ]
  },
  {
   "cell_type": "code",
   "execution_count": 25,
   "metadata": {},
   "outputs": [
    {
     "data": {
      "text/html": [
       "<div>\n",
       "<style scoped>\n",
       "    .dataframe tbody tr th:only-of-type {\n",
       "        vertical-align: middle;\n",
       "    }\n",
       "\n",
       "    .dataframe tbody tr th {\n",
       "        vertical-align: top;\n",
       "    }\n",
       "\n",
       "    .dataframe thead th {\n",
       "        text-align: right;\n",
       "    }\n",
       "</style>\n",
       "<table border=\"1\" class=\"dataframe\">\n",
       "  <thead>\n",
       "    <tr style=\"text-align: right;\">\n",
       "      <th></th>\n",
       "      <th>streetname</th>\n",
       "      <th>areaid</th>\n",
       "      <th>okrug</th>\n",
       "      <th>area</th>\n",
       "    </tr>\n",
       "  </thead>\n",
       "  <tbody>\n",
       "    <tr>\n",
       "      <th>0</th>\n",
       "      <td>Выставочный переулок</td>\n",
       "      <td>17</td>\n",
       "      <td>ЦАО</td>\n",
       "      <td>Пресненский район</td>\n",
       "    </tr>\n",
       "    <tr>\n",
       "      <th>1</th>\n",
       "      <td>улица Гашека</td>\n",
       "      <td>17</td>\n",
       "      <td>ЦАО</td>\n",
       "      <td>Пресненский район</td>\n",
       "    </tr>\n",
       "    <tr>\n",
       "      <th>2</th>\n",
       "      <td>Большая Никитская улица</td>\n",
       "      <td>17</td>\n",
       "      <td>ЦАО</td>\n",
       "      <td>Пресненский район</td>\n",
       "    </tr>\n",
       "    <tr>\n",
       "      <th>3</th>\n",
       "      <td>Глубокий переулок</td>\n",
       "      <td>17</td>\n",
       "      <td>ЦАО</td>\n",
       "      <td>Пресненский район</td>\n",
       "    </tr>\n",
       "    <tr>\n",
       "      <th>4</th>\n",
       "      <td>Большой Гнездниковский переулок</td>\n",
       "      <td>17</td>\n",
       "      <td>ЦАО</td>\n",
       "      <td>Пресненский район</td>\n",
       "    </tr>\n",
       "  </tbody>\n",
       "</table>\n",
       "</div>"
      ],
      "text/plain": [
       "                        streetname  areaid okrug               area\n",
       "0             Выставочный переулок      17   ЦАО  Пресненский район\n",
       "1                     улица Гашека      17   ЦАО  Пресненский район\n",
       "2          Большая Никитская улица      17   ЦАО  Пресненский район\n",
       "3                Глубокий переулок      17   ЦАО  Пресненский район\n",
       "4  Большой Гнездниковский переулок      17   ЦАО  Пресненский район"
      ]
     },
     "execution_count": 25,
     "metadata": {},
     "output_type": "execute_result"
    }
   ],
   "source": [
    "from io import BytesIO\n",
    "import requests\n",
    "\n",
    "spreadsheet_id = '11Dzs_GMXYjtfK8ccsgsinYu4Rz93UwQrPIiVFwEEwmA'\n",
    "\n",
    "file_name = 'https://docs.google.com/spreadsheets/d/{}/export?format=csv'.format(spreadsheet_id)\n",
    "r = requests.get(file_name)\n",
    "moscow_map = pd.read_csv(BytesIO(r.content))\n",
    "\n",
    "moscow_map.head(5)"
   ]
  },
  {
   "cell_type": "markdown",
   "metadata": {},
   "source": [
    "Используя новый датасет, проверим, в каких районах находится топ-10 улиц:"
   ]
  },
  {
   "cell_type": "code",
   "execution_count": 26,
   "metadata": {
    "scrolled": false
   },
   "outputs": [
    {
     "data": {
      "text/html": [
       "<div>\n",
       "<style scoped>\n",
       "    .dataframe tbody tr th:only-of-type {\n",
       "        vertical-align: middle;\n",
       "    }\n",
       "\n",
       "    .dataframe tbody tr th {\n",
       "        vertical-align: top;\n",
       "    }\n",
       "\n",
       "    .dataframe thead th {\n",
       "        text-align: right;\n",
       "    }\n",
       "</style>\n",
       "<table border=\"1\" class=\"dataframe\">\n",
       "  <thead>\n",
       "    <tr style=\"text-align: right;\">\n",
       "      <th></th>\n",
       "      <th>streetname</th>\n",
       "      <th>areaid</th>\n",
       "      <th>okrug</th>\n",
       "      <th>area</th>\n",
       "    </tr>\n",
       "  </thead>\n",
       "  <tbody>\n",
       "    <tr>\n",
       "      <th>3241</th>\n",
       "      <td>Варшавское шоссе</td>\n",
       "      <td>99</td>\n",
       "      <td>ЮАО</td>\n",
       "      <td>Донской район</td>\n",
       "    </tr>\n",
       "    <tr>\n",
       "      <th>4065</th>\n",
       "      <td>Варшавское шоссе</td>\n",
       "      <td>133</td>\n",
       "      <td>ЮЗАО</td>\n",
       "      <td>Район Южное Бутово</td>\n",
       "    </tr>\n",
       "    <tr>\n",
       "      <th>3125</th>\n",
       "      <td>Варшавское шоссе</td>\n",
       "      <td>110</td>\n",
       "      <td>ЮАО</td>\n",
       "      <td>Район Чертаново Южное</td>\n",
       "    </tr>\n",
       "    <tr>\n",
       "      <th>3999</th>\n",
       "      <td>Варшавское шоссе</td>\n",
       "      <td>130</td>\n",
       "      <td>ЮЗАО</td>\n",
       "      <td>Район Северное Бутово</td>\n",
       "    </tr>\n",
       "    <tr>\n",
       "      <th>3117</th>\n",
       "      <td>Варшавское шоссе</td>\n",
       "      <td>108</td>\n",
       "      <td>ЮАО</td>\n",
       "      <td>Район Чертаново Северное</td>\n",
       "    </tr>\n",
       "    <tr>\n",
       "      <th>3105</th>\n",
       "      <td>Варшавское шоссе</td>\n",
       "      <td>109</td>\n",
       "      <td>ЮАО</td>\n",
       "      <td>Район Чертаново Центральное</td>\n",
       "    </tr>\n",
       "    <tr>\n",
       "      <th>3349</th>\n",
       "      <td>Варшавское шоссе</td>\n",
       "      <td>104</td>\n",
       "      <td>ЮАО</td>\n",
       "      <td>Нагорный район</td>\n",
       "    </tr>\n",
       "    <tr>\n",
       "      <th>3305</th>\n",
       "      <td>Варшавское шоссе</td>\n",
       "      <td>102</td>\n",
       "      <td>ЮАО</td>\n",
       "      <td>Район Нагатино-Садовники</td>\n",
       "    </tr>\n",
       "    <tr>\n",
       "      <th>3308</th>\n",
       "      <td>Каширское шоссе</td>\n",
       "      <td>102</td>\n",
       "      <td>ЮАО</td>\n",
       "      <td>Район Нагатино-Садовники</td>\n",
       "    </tr>\n",
       "    <tr>\n",
       "      <th>3292</th>\n",
       "      <td>Каширское шоссе</td>\n",
       "      <td>101</td>\n",
       "      <td>ЮАО</td>\n",
       "      <td>Район Москворечье-Сабурово</td>\n",
       "    </tr>\n",
       "    <tr>\n",
       "      <th>3369</th>\n",
       "      <td>Каширское шоссе</td>\n",
       "      <td>106</td>\n",
       "      <td>ЮАО</td>\n",
       "      <td>Район Орехово-Борисово Южное</td>\n",
       "    </tr>\n",
       "    <tr>\n",
       "      <th>3392</th>\n",
       "      <td>Каширское шоссе</td>\n",
       "      <td>105</td>\n",
       "      <td>ЮАО</td>\n",
       "      <td>Район Орехово-Борисово Северное</td>\n",
       "    </tr>\n",
       "    <tr>\n",
       "      <th>3120</th>\n",
       "      <td>Кировоградская улица</td>\n",
       "      <td>108</td>\n",
       "      <td>ЮАО</td>\n",
       "      <td>Район Чертаново Северное</td>\n",
       "    </tr>\n",
       "    <tr>\n",
       "      <th>3111</th>\n",
       "      <td>Кировоградская улица</td>\n",
       "      <td>109</td>\n",
       "      <td>ЮАО</td>\n",
       "      <td>Район Чертаново Центральное</td>\n",
       "    </tr>\n",
       "    <tr>\n",
       "      <th>3131</th>\n",
       "      <td>Кировоградская улица</td>\n",
       "      <td>110</td>\n",
       "      <td>ЮАО</td>\n",
       "      <td>Район Чертаново Южное</td>\n",
       "    </tr>\n",
       "    <tr>\n",
       "      <th>1280</th>\n",
       "      <td>Кутузовский проспект</td>\n",
       "      <td>49</td>\n",
       "      <td>ЗАО</td>\n",
       "      <td>Район Фили-Давыдково</td>\n",
       "    </tr>\n",
       "    <tr>\n",
       "      <th>1208</th>\n",
       "      <td>Кутузовский проспект</td>\n",
       "      <td>38</td>\n",
       "      <td>ЗАО</td>\n",
       "      <td>Район Дорогомилово</td>\n",
       "    </tr>\n",
       "    <tr>\n",
       "      <th>2150</th>\n",
       "      <td>Ленинградский проспект</td>\n",
       "      <td>66</td>\n",
       "      <td>САО</td>\n",
       "      <td>Район Сокол</td>\n",
       "    </tr>\n",
       "    <tr>\n",
       "      <th>1992</th>\n",
       "      <td>Ленинградский проспект</td>\n",
       "      <td>69</td>\n",
       "      <td>САО</td>\n",
       "      <td>Хорошевский район</td>\n",
       "    </tr>\n",
       "    <tr>\n",
       "      <th>1896</th>\n",
       "      <td>Ленинградский проспект</td>\n",
       "      <td>55</td>\n",
       "      <td>САО</td>\n",
       "      <td>Район Беговой</td>\n",
       "    </tr>\n",
       "    <tr>\n",
       "      <th>1857</th>\n",
       "      <td>Ленинградский проспект</td>\n",
       "      <td>54</td>\n",
       "      <td>САО</td>\n",
       "      <td>Район Аэропорт</td>\n",
       "    </tr>\n",
       "    <tr>\n",
       "      <th>3986</th>\n",
       "      <td>Ленинский проспект</td>\n",
       "      <td>129</td>\n",
       "      <td>ЮЗАО</td>\n",
       "      <td>Обручевский район</td>\n",
       "    </tr>\n",
       "    <tr>\n",
       "      <th>1602</th>\n",
       "      <td>Ленинский проспект</td>\n",
       "      <td>47</td>\n",
       "      <td>ЗАО</td>\n",
       "      <td>Район Тропарево-Никулино</td>\n",
       "    </tr>\n",
       "    <tr>\n",
       "      <th>4021</th>\n",
       "      <td>Ленинский проспект</td>\n",
       "      <td>131</td>\n",
       "      <td>ЮЗАО</td>\n",
       "      <td>Район Теплый Стан</td>\n",
       "    </tr>\n",
       "    <tr>\n",
       "      <th>1504</th>\n",
       "      <td>Ленинский проспект</td>\n",
       "      <td>44</td>\n",
       "      <td>ЗАО</td>\n",
       "      <td>Район Проспект Вернадского</td>\n",
       "    </tr>\n",
       "    <tr>\n",
       "      <th>4163</th>\n",
       "      <td>Ленинский проспект</td>\n",
       "      <td>21</td>\n",
       "      <td>ЦАО</td>\n",
       "      <td>Район Якиманка</td>\n",
       "    </tr>\n",
       "    <tr>\n",
       "      <th>3260</th>\n",
       "      <td>Ленинский проспект</td>\n",
       "      <td>99</td>\n",
       "      <td>ЮАО</td>\n",
       "      <td>Донской район</td>\n",
       "    </tr>\n",
       "    <tr>\n",
       "      <th>3973</th>\n",
       "      <td>Ленинский проспект</td>\n",
       "      <td>128</td>\n",
       "      <td>ЮЗАО</td>\n",
       "      <td>Ломоносовский район</td>\n",
       "    </tr>\n",
       "    <tr>\n",
       "      <th>3886</th>\n",
       "      <td>Ленинский проспект</td>\n",
       "      <td>124</td>\n",
       "      <td>ЮЗАО</td>\n",
       "      <td>Район Гагаринский</td>\n",
       "    </tr>\n",
       "    <tr>\n",
       "      <th>72</th>\n",
       "      <td>Пресненская набережная</td>\n",
       "      <td>17</td>\n",
       "      <td>ЦАО</td>\n",
       "      <td>Пресненский район</td>\n",
       "    </tr>\n",
       "    <tr>\n",
       "      <th>3845</th>\n",
       "      <td>Профсоюзная улица</td>\n",
       "      <td>123</td>\n",
       "      <td>ЮЗАО</td>\n",
       "      <td>Академический район</td>\n",
       "    </tr>\n",
       "    <tr>\n",
       "      <th>3867</th>\n",
       "      <td>Профсоюзная улица</td>\n",
       "      <td>132</td>\n",
       "      <td>ЮЗАО</td>\n",
       "      <td>Район Черемушки</td>\n",
       "    </tr>\n",
       "    <tr>\n",
       "      <th>4024</th>\n",
       "      <td>Профсоюзная улица</td>\n",
       "      <td>131</td>\n",
       "      <td>ЮЗАО</td>\n",
       "      <td>Район Теплый Стан</td>\n",
       "    </tr>\n",
       "    <tr>\n",
       "      <th>3916</th>\n",
       "      <td>Профсоюзная улица</td>\n",
       "      <td>134</td>\n",
       "      <td>ЮЗАО</td>\n",
       "      <td>Район Ясенево</td>\n",
       "    </tr>\n",
       "    <tr>\n",
       "      <th>3948</th>\n",
       "      <td>Профсоюзная улица</td>\n",
       "      <td>126</td>\n",
       "      <td>ЮЗАО</td>\n",
       "      <td>Район Коньково</td>\n",
       "    </tr>\n",
       "    <tr>\n",
       "      <th>3996</th>\n",
       "      <td>Профсоюзная улица</td>\n",
       "      <td>129</td>\n",
       "      <td>ЮЗАО</td>\n",
       "      <td>Обручевский район</td>\n",
       "    </tr>\n",
       "    <tr>\n",
       "      <th>3967</th>\n",
       "      <td>проспект Вернадского</td>\n",
       "      <td>128</td>\n",
       "      <td>ЮЗАО</td>\n",
       "      <td>Ломоносовский район</td>\n",
       "    </tr>\n",
       "    <tr>\n",
       "      <th>1501</th>\n",
       "      <td>проспект Вернадского</td>\n",
       "      <td>44</td>\n",
       "      <td>ЗАО</td>\n",
       "      <td>Район Проспект Вернадского</td>\n",
       "    </tr>\n",
       "    <tr>\n",
       "      <th>3878</th>\n",
       "      <td>проспект Вернадского</td>\n",
       "      <td>124</td>\n",
       "      <td>ЮЗАО</td>\n",
       "      <td>Район Гагаринский</td>\n",
       "    </tr>\n",
       "    <tr>\n",
       "      <th>1510</th>\n",
       "      <td>проспект Вернадского</td>\n",
       "      <td>45</td>\n",
       "      <td>ЗАО</td>\n",
       "      <td>Район Раменки</td>\n",
       "    </tr>\n",
       "    <tr>\n",
       "      <th>1598</th>\n",
       "      <td>проспект Вернадского</td>\n",
       "      <td>47</td>\n",
       "      <td>ЗАО</td>\n",
       "      <td>Район Тропарево-Никулино</td>\n",
       "    </tr>\n",
       "    <tr>\n",
       "      <th>2644</th>\n",
       "      <td>проспект Мира</td>\n",
       "      <td>81</td>\n",
       "      <td>СВАО</td>\n",
       "      <td>Район Ростокино</td>\n",
       "    </tr>\n",
       "    <tr>\n",
       "      <th>2390</th>\n",
       "      <td>проспект Мира</td>\n",
       "      <td>86</td>\n",
       "      <td>СВАО</td>\n",
       "      <td>Ярославский Район</td>\n",
       "    </tr>\n",
       "    <tr>\n",
       "      <th>2712</th>\n",
       "      <td>проспект Мира</td>\n",
       "      <td>82</td>\n",
       "      <td>СВАО</td>\n",
       "      <td>Район Свиблово</td>\n",
       "    </tr>\n",
       "    <tr>\n",
       "      <th>2531</th>\n",
       "      <td>проспект Мира</td>\n",
       "      <td>78</td>\n",
       "      <td>СВАО</td>\n",
       "      <td>Район Марьина роща</td>\n",
       "    </tr>\n",
       "    <tr>\n",
       "      <th>2578</th>\n",
       "      <td>проспект Мира</td>\n",
       "      <td>79</td>\n",
       "      <td>СВАО</td>\n",
       "      <td>Останкинский район</td>\n",
       "    </tr>\n",
       "    <tr>\n",
       "      <th>2293</th>\n",
       "      <td>проспект Мира</td>\n",
       "      <td>70</td>\n",
       "      <td>СВАО</td>\n",
       "      <td>Алексеевский район</td>\n",
       "    </tr>\n",
       "    <tr>\n",
       "      <th>4334</th>\n",
       "      <td>проспект Мира</td>\n",
       "      <td>16</td>\n",
       "      <td>ЦАО</td>\n",
       "      <td>Мещанский район</td>\n",
       "    </tr>\n",
       "  </tbody>\n",
       "</table>\n",
       "</div>"
      ],
      "text/plain": [
       "                  streetname  areaid okrug                             area\n",
       "3241        Варшавское шоссе      99   ЮАО                    Донской район\n",
       "4065        Варшавское шоссе     133  ЮЗАО               Район Южное Бутово\n",
       "3125        Варшавское шоссе     110   ЮАО            Район Чертаново Южное\n",
       "3999        Варшавское шоссе     130  ЮЗАО            Район Северное Бутово\n",
       "3117        Варшавское шоссе     108   ЮАО         Район Чертаново Северное\n",
       "3105        Варшавское шоссе     109   ЮАО      Район Чертаново Центральное\n",
       "3349        Варшавское шоссе     104   ЮАО                   Нагорный район\n",
       "3305        Варшавское шоссе     102   ЮАО         Район Нагатино-Садовники\n",
       "3308         Каширское шоссе     102   ЮАО         Район Нагатино-Садовники\n",
       "3292         Каширское шоссе     101   ЮАО       Район Москворечье-Сабурово\n",
       "3369         Каширское шоссе     106   ЮАО     Район Орехово-Борисово Южное\n",
       "3392         Каширское шоссе     105   ЮАО  Район Орехово-Борисово Северное\n",
       "3120    Кировоградская улица     108   ЮАО         Район Чертаново Северное\n",
       "3111    Кировоградская улица     109   ЮАО      Район Чертаново Центральное\n",
       "3131    Кировоградская улица     110   ЮАО            Район Чертаново Южное\n",
       "1280    Кутузовский проспект      49   ЗАО             Район Фили-Давыдково\n",
       "1208    Кутузовский проспект      38   ЗАО               Район Дорогомилово\n",
       "2150  Ленинградский проспект      66   САО                      Район Сокол\n",
       "1992  Ленинградский проспект      69   САО                Хорошевский район\n",
       "1896  Ленинградский проспект      55   САО                    Район Беговой\n",
       "1857  Ленинградский проспект      54   САО                   Район Аэропорт\n",
       "3986      Ленинский проспект     129  ЮЗАО                Обручевский район\n",
       "1602      Ленинский проспект      47   ЗАО         Район Тропарево-Никулино\n",
       "4021      Ленинский проспект     131  ЮЗАО                Район Теплый Стан\n",
       "1504      Ленинский проспект      44   ЗАО       Район Проспект Вернадского\n",
       "4163      Ленинский проспект      21   ЦАО                   Район Якиманка\n",
       "3260      Ленинский проспект      99   ЮАО                    Донской район\n",
       "3973      Ленинский проспект     128  ЮЗАО              Ломоносовский район\n",
       "3886      Ленинский проспект     124  ЮЗАО                Район Гагаринский\n",
       "72    Пресненская набережная      17   ЦАО                Пресненский район\n",
       "3845       Профсоюзная улица     123  ЮЗАО              Академический район\n",
       "3867       Профсоюзная улица     132  ЮЗАО                  Район Черемушки\n",
       "4024       Профсоюзная улица     131  ЮЗАО                Район Теплый Стан\n",
       "3916       Профсоюзная улица     134  ЮЗАО                    Район Ясенево\n",
       "3948       Профсоюзная улица     126  ЮЗАО                   Район Коньково\n",
       "3996       Профсоюзная улица     129  ЮЗАО                Обручевский район\n",
       "3967    проспект Вернадского     128  ЮЗАО              Ломоносовский район\n",
       "1501    проспект Вернадского      44   ЗАО       Район Проспект Вернадского\n",
       "3878    проспект Вернадского     124  ЮЗАО                Район Гагаринский\n",
       "1510    проспект Вернадского      45   ЗАО                    Район Раменки\n",
       "1598    проспект Вернадского      47   ЗАО         Район Тропарево-Никулино\n",
       "2644           проспект Мира      81  СВАО                  Район Ростокино\n",
       "2390           проспект Мира      86  СВАО                Ярославский Район\n",
       "2712           проспект Мира      82  СВАО                   Район Свиблово\n",
       "2531           проспект Мира      78  СВАО               Район Марьина роща\n",
       "2578           проспект Мира      79  СВАО               Останкинский район\n",
       "2293           проспект Мира      70  СВАО               Алексеевский район\n",
       "4334           проспект Мира      16   ЦАО                  Мещанский район"
      ]
     },
     "execution_count": 26,
     "metadata": {},
     "output_type": "execute_result"
    }
   ],
   "source": [
    "top10 = ['проспект Мира', 'Профсоюзная улица', 'Ленинградский проспект', 'Пресненская набережная', \n",
    "         'Варшавское шоссе', 'Ленинский проспект', 'проспект Вернадского', 'Кутузовский проспект',\n",
    "         'Каширское шоссе', 'Кировоградская улица']\n",
    "\n",
    "moscow_map_top10 = moscow_map.query('streetname in @top10')\n",
    "\n",
    "moscow_map_top10.sort_values(by='streetname')\n"
   ]
  },
  {
   "cell_type": "markdown",
   "metadata": {},
   "source": [
    "Каждая улица пересекает несколько районов. В целом, улицы с большим количеством заведений находятся в разных округах Москвы - ЮАО, СВАО, ЗАО итд. Интересно, что многие из этих улиц не пересекают ЦАO, хотя могло бы показаться, что  топ-10 улиц должны находиться в центре. Вероятно, многие улицы с заведениями в ЦАО не такие протяженные, как Каширское шоссе или Ленинградский проспект, поэтому они не вошли в топ-10 улиц."
   ]
  },
  {
   "cell_type": "markdown",
   "metadata": {},
   "source": [
    "### Число улиц с одним объектом общественного питания. "
   ]
  },
  {
   "cell_type": "markdown",
   "metadata": {},
   "source": [
    "Выделим улицы, на которых находится один объект общественного питания, и вычислим, в каких районах таких улиц больше всего.\n",
    "\n",
    "Сначала импортируем источник внешних данных с https://data.mos.ru/opendata/7710881420-obshchestvennoe-pitanie-v-moskve и присоединим районы к адресам в датасете:"
   ]
  },
  {
   "cell_type": "code",
   "execution_count": 27,
   "metadata": {},
   "outputs": [
    {
     "data": {
      "text/html": [
       "<div>\n",
       "<style scoped>\n",
       "    .dataframe tbody tr th:only-of-type {\n",
       "        vertical-align: middle;\n",
       "    }\n",
       "\n",
       "    .dataframe tbody tr th {\n",
       "        vertical-align: top;\n",
       "    }\n",
       "\n",
       "    .dataframe thead th {\n",
       "        text-align: right;\n",
       "    }\n",
       "</style>\n",
       "<table border=\"1\" class=\"dataframe\">\n",
       "  <thead>\n",
       "    <tr style=\"text-align: right;\">\n",
       "      <th></th>\n",
       "      <th>ID</th>\n",
       "      <th>Name</th>\n",
       "      <th>global_id</th>\n",
       "      <th>IsNetObject</th>\n",
       "      <th>OperatingCompany</th>\n",
       "      <th>TypeObject</th>\n",
       "      <th>AdmArea</th>\n",
       "      <th>District</th>\n",
       "      <th>Address</th>\n",
       "      <th>PublicPhone</th>\n",
       "      <th>...</th>\n",
       "      <th>AdmArea_en</th>\n",
       "      <th>District_en</th>\n",
       "      <th>Address_en</th>\n",
       "      <th>PublicPhone_en</th>\n",
       "      <th>SeatsCount_en</th>\n",
       "      <th>SocialPrivileges_en</th>\n",
       "      <th>Longitude_WGS84_en</th>\n",
       "      <th>Latitude_WGS84_en</th>\n",
       "      <th>geodata_center</th>\n",
       "      <th>geoarea</th>\n",
       "    </tr>\n",
       "  </thead>\n",
       "  <tbody>\n",
       "    <tr>\n",
       "      <th>0</th>\n",
       "      <td>Код</td>\n",
       "      <td>Наименование</td>\n",
       "      <td>global_id</td>\n",
       "      <td>Является сетевым</td>\n",
       "      <td>Название управляющей компании</td>\n",
       "      <td>Вид объекта</td>\n",
       "      <td>Административный округ по адресу</td>\n",
       "      <td>Район</td>\n",
       "      <td>Адрес</td>\n",
       "      <td>Контактный телефон</td>\n",
       "      <td>...</td>\n",
       "      <td>AdmArea_en</td>\n",
       "      <td>District_en</td>\n",
       "      <td>Address_en</td>\n",
       "      <td>PublicPhone_en</td>\n",
       "      <td>SeatsCount_en</td>\n",
       "      <td>SocialPrivileges_en</td>\n",
       "      <td>Longitude_WGS84_en</td>\n",
       "      <td>Latitude_WGS84_en</td>\n",
       "      <td>geodata_center</td>\n",
       "      <td>geoarea</td>\n",
       "    </tr>\n",
       "    <tr>\n",
       "      <th>1</th>\n",
       "      <td>00151635</td>\n",
       "      <td>СМЕТАНА</td>\n",
       "      <td>637376221</td>\n",
       "      <td>нет</td>\n",
       "      <td>NaN</td>\n",
       "      <td>кафе</td>\n",
       "      <td>Северо-Восточный административный округ</td>\n",
       "      <td>Ярославский район</td>\n",
       "      <td>город Москва, улица Егора Абакумова, дом 9</td>\n",
       "      <td>PublicPhone:(499) 183-14-10\\n\\n</td>\n",
       "      <td>...</td>\n",
       "      <td>NaN</td>\n",
       "      <td>NaN</td>\n",
       "      <td>NaN</td>\n",
       "      <td>NaN</td>\n",
       "      <td>NaN</td>\n",
       "      <td>NaN</td>\n",
       "      <td>NaN</td>\n",
       "      <td>NaN</td>\n",
       "      <td>NaN</td>\n",
       "      <td>NaN</td>\n",
       "    </tr>\n",
       "    <tr>\n",
       "      <th>2</th>\n",
       "      <td>000077874</td>\n",
       "      <td>Родник</td>\n",
       "      <td>637376331</td>\n",
       "      <td>нет</td>\n",
       "      <td>NaN</td>\n",
       "      <td>кафе</td>\n",
       "      <td>Центральный административный округ</td>\n",
       "      <td>Таганский район</td>\n",
       "      <td>город Москва, улица Талалихина, дом 2/1, корпус 1</td>\n",
       "      <td>PublicPhone:(495) 676-55-35\\n\\n</td>\n",
       "      <td>...</td>\n",
       "      <td>NaN</td>\n",
       "      <td>NaN</td>\n",
       "      <td>NaN</td>\n",
       "      <td>NaN</td>\n",
       "      <td>NaN</td>\n",
       "      <td>NaN</td>\n",
       "      <td>NaN</td>\n",
       "      <td>NaN</td>\n",
       "      <td>NaN</td>\n",
       "      <td>NaN</td>\n",
       "    </tr>\n",
       "    <tr>\n",
       "      <th>3</th>\n",
       "      <td>000024309</td>\n",
       "      <td>Кафе «Академия»</td>\n",
       "      <td>637376349</td>\n",
       "      <td>нет</td>\n",
       "      <td>NaN</td>\n",
       "      <td>ресторан</td>\n",
       "      <td>Центральный административный округ</td>\n",
       "      <td>Таганский район</td>\n",
       "      <td>Российская Федерация, город Москва, внутригородская территория муниципальный округ Таганский, Абельмановская улица, дом 6</td>\n",
       "      <td>PublicPhone:(495) 662-30-10\\n\\n</td>\n",
       "      <td>...</td>\n",
       "      <td>NaN</td>\n",
       "      <td>NaN</td>\n",
       "      <td>NaN</td>\n",
       "      <td>NaN</td>\n",
       "      <td>NaN</td>\n",
       "      <td>NaN</td>\n",
       "      <td>NaN</td>\n",
       "      <td>NaN</td>\n",
       "      <td>NaN</td>\n",
       "      <td>NaN</td>\n",
       "    </tr>\n",
       "    <tr>\n",
       "      <th>4</th>\n",
       "      <td>000027429</td>\n",
       "      <td>ГБОУ «Школа № 1430 имени Героя Социалистического Труда Г.В. Кисунько» Школа № 1051</td>\n",
       "      <td>637376480</td>\n",
       "      <td>нет</td>\n",
       "      <td>NaN</td>\n",
       "      <td>столовая</td>\n",
       "      <td>Северо-Восточный административный округ</td>\n",
       "      <td>район Лианозово</td>\n",
       "      <td>город Москва, Угличская улица, дом 17</td>\n",
       "      <td>PublicPhone:(499) 908-06-15\\n\\n</td>\n",
       "      <td>...</td>\n",
       "      <td>NaN</td>\n",
       "      <td>NaN</td>\n",
       "      <td>NaN</td>\n",
       "      <td>NaN</td>\n",
       "      <td>NaN</td>\n",
       "      <td>NaN</td>\n",
       "      <td>NaN</td>\n",
       "      <td>NaN</td>\n",
       "      <td>NaN</td>\n",
       "      <td>NaN</td>\n",
       "    </tr>\n",
       "  </tbody>\n",
       "</table>\n",
       "<p>5 rows × 29 columns</p>\n",
       "</div>"
      ],
      "text/plain": [
       "          ID  \\\n",
       "0        Код   \n",
       "1   00151635   \n",
       "2  000077874   \n",
       "3  000024309   \n",
       "4  000027429   \n",
       "\n",
       "                                                                                 Name  \\\n",
       "0                                                                        Наименование   \n",
       "1                                                                             СМЕТАНА   \n",
       "2                                                                              Родник   \n",
       "3                                                                     Кафе «Академия»   \n",
       "4  ГБОУ «Школа № 1430 имени Героя Социалистического Труда Г.В. Кисунько» Школа № 1051   \n",
       "\n",
       "   global_id       IsNetObject               OperatingCompany   TypeObject  \\\n",
       "0  global_id  Является сетевым  Название управляющей компании  Вид объекта   \n",
       "1  637376221               нет                            NaN         кафе   \n",
       "2  637376331               нет                            NaN         кафе   \n",
       "3  637376349               нет                            NaN     ресторан   \n",
       "4  637376480               нет                            NaN     столовая   \n",
       "\n",
       "                                   AdmArea           District  \\\n",
       "0         Административный округ по адресу              Район   \n",
       "1  Северо-Восточный административный округ  Ярославский район   \n",
       "2       Центральный административный округ    Таганский район   \n",
       "3       Центральный административный округ    Таганский район   \n",
       "4  Северо-Восточный административный округ    район Лианозово   \n",
       "\n",
       "                                                                                                                     Address  \\\n",
       "0                                                                                                                      Адрес   \n",
       "1                                                                                 город Москва, улица Егора Абакумова, дом 9   \n",
       "2                                                                          город Москва, улица Талалихина, дом 2/1, корпус 1   \n",
       "3  Российская Федерация, город Москва, внутригородская территория муниципальный округ Таганский, Абельмановская улица, дом 6   \n",
       "4                                                                                      город Москва, Угличская улица, дом 17   \n",
       "\n",
       "                       PublicPhone  ...  AdmArea_en  District_en  Address_en  \\\n",
       "0               Контактный телефон  ...  AdmArea_en  District_en  Address_en   \n",
       "1  PublicPhone:(499) 183-14-10\\n\\n  ...         NaN          NaN         NaN   \n",
       "2  PublicPhone:(495) 676-55-35\\n\\n  ...         NaN          NaN         NaN   \n",
       "3  PublicPhone:(495) 662-30-10\\n\\n  ...         NaN          NaN         NaN   \n",
       "4  PublicPhone:(499) 908-06-15\\n\\n  ...         NaN          NaN         NaN   \n",
       "\n",
       "   PublicPhone_en  SeatsCount_en  SocialPrivileges_en  Longitude_WGS84_en  \\\n",
       "0  PublicPhone_en  SeatsCount_en  SocialPrivileges_en  Longitude_WGS84_en   \n",
       "1             NaN            NaN                  NaN                 NaN   \n",
       "2             NaN            NaN                  NaN                 NaN   \n",
       "3             NaN            NaN                  NaN                 NaN   \n",
       "4             NaN            NaN                  NaN                 NaN   \n",
       "\n",
       "   Latitude_WGS84_en  geodata_center  geoarea  \n",
       "0  Latitude_WGS84_en  geodata_center  geoarea  \n",
       "1                NaN             NaN      NaN  \n",
       "2                NaN             NaN      NaN  \n",
       "3                NaN             NaN      NaN  \n",
       "4                NaN             NaN      NaN  \n",
       "\n",
       "[5 rows x 29 columns]"
      ]
     },
     "execution_count": 27,
     "metadata": {},
     "output_type": "execute_result"
    }
   ],
   "source": [
    "# выгрузим датасет в docs.google.com и создадим ссылку на новый датасет\n",
    "spreadsheet_id = '1KM54V1M2ViL-d0tbL2jbBC_UxH-7aBsy-qdtv8Gx92o'\n",
    "\n",
    "file_name = 'https://docs.google.com/spreadsheets/d/{}/export?format=csv'.format(spreadsheet_id)\n",
    "r = requests.get(file_name)\n",
    "moscow_address = pd.read_csv(BytesIO(r.content))\n",
    "moscow_address.head(5)"
   ]
  },
  {
   "cell_type": "markdown",
   "metadata": {},
   "source": [
    "С помощью функции merge объединим два датасета:"
   ]
  },
  {
   "cell_type": "code",
   "execution_count": 28,
   "metadata": {},
   "outputs": [],
   "source": [
    "merged = rest_data.merge(moscow_address[['AdmArea', 'District', 'Address']], left_on = 'address', right_on = 'Address', how = 'inner')"
   ]
  },
  {
   "cell_type": "code",
   "execution_count": 29,
   "metadata": {},
   "outputs": [
    {
     "data": {
      "text/html": [
       "<div>\n",
       "<style scoped>\n",
       "    .dataframe tbody tr th:only-of-type {\n",
       "        vertical-align: middle;\n",
       "    }\n",
       "\n",
       "    .dataframe tbody tr th {\n",
       "        vertical-align: top;\n",
       "    }\n",
       "\n",
       "    .dataframe thead th {\n",
       "        text-align: right;\n",
       "    }\n",
       "</style>\n",
       "<table border=\"1\" class=\"dataframe\">\n",
       "  <thead>\n",
       "    <tr style=\"text-align: right;\">\n",
       "      <th></th>\n",
       "      <th>id</th>\n",
       "      <th>object_name</th>\n",
       "      <th>chain</th>\n",
       "      <th>object_type</th>\n",
       "      <th>address</th>\n",
       "      <th>number</th>\n",
       "      <th>street</th>\n",
       "      <th>AdmArea</th>\n",
       "      <th>District</th>\n",
       "      <th>Address</th>\n",
       "    </tr>\n",
       "  </thead>\n",
       "  <tbody>\n",
       "    <tr>\n",
       "      <th>0</th>\n",
       "      <td>151635</td>\n",
       "      <td>СМЕТАНА</td>\n",
       "      <td>нет</td>\n",
       "      <td>кафе</td>\n",
       "      <td>город Москва, улица Егора Абакумова, дом 9</td>\n",
       "      <td>48</td>\n",
       "      <td>улица Егора Абакумова</td>\n",
       "      <td>Северо-Восточный административный округ</td>\n",
       "      <td>Ярославский район</td>\n",
       "      <td>город Москва, улица Егора Абакумова, дом 9</td>\n",
       "    </tr>\n",
       "    <tr>\n",
       "      <th>1</th>\n",
       "      <td>77874</td>\n",
       "      <td>Родник</td>\n",
       "      <td>нет</td>\n",
       "      <td>кафе</td>\n",
       "      <td>город Москва, улица Талалихина, дом 2/1, корпус 1</td>\n",
       "      <td>35</td>\n",
       "      <td>улица Талалихина</td>\n",
       "      <td>Центральный административный округ</td>\n",
       "      <td>Таганский район</td>\n",
       "      <td>город Москва, улица Талалихина, дом 2/1, корпус 1</td>\n",
       "    </tr>\n",
       "    <tr>\n",
       "      <th>2</th>\n",
       "      <td>21894</td>\n",
       "      <td>ПИЦЦЕТОРИЯ</td>\n",
       "      <td>да</td>\n",
       "      <td>кафе</td>\n",
       "      <td>город Москва, Абрамцевская улица, дом 1</td>\n",
       "      <td>40</td>\n",
       "      <td>Абрамцевская улица</td>\n",
       "      <td>Северо-Восточный административный округ</td>\n",
       "      <td>район Лианозово</td>\n",
       "      <td>город Москва, Абрамцевская улица, дом 1</td>\n",
       "    </tr>\n",
       "    <tr>\n",
       "      <th>3</th>\n",
       "      <td>21894</td>\n",
       "      <td>ПИЦЦЕТОРИЯ</td>\n",
       "      <td>да</td>\n",
       "      <td>кафе</td>\n",
       "      <td>город Москва, Абрамцевская улица, дом 1</td>\n",
       "      <td>40</td>\n",
       "      <td>Абрамцевская улица</td>\n",
       "      <td>Северо-Восточный административный округ</td>\n",
       "      <td>район Лианозово</td>\n",
       "      <td>город Москва, Абрамцевская улица, дом 1</td>\n",
       "    </tr>\n",
       "    <tr>\n",
       "      <th>4</th>\n",
       "      <td>148815</td>\n",
       "      <td>Брусника</td>\n",
       "      <td>да</td>\n",
       "      <td>кафе</td>\n",
       "      <td>город Москва, переулок Сивцев Вражек, дом 6/2</td>\n",
       "      <td>10</td>\n",
       "      <td>переулок Сивцев Вражек</td>\n",
       "      <td>Центральный административный округ</td>\n",
       "      <td>район Арбат</td>\n",
       "      <td>город Москва, переулок Сивцев Вражек, дом 6/2</td>\n",
       "    </tr>\n",
       "  </tbody>\n",
       "</table>\n",
       "</div>"
      ],
      "text/plain": [
       "       id object_name chain object_type  \\\n",
       "0  151635     СМЕТАНА   нет        кафе   \n",
       "1   77874      Родник   нет        кафе   \n",
       "2   21894  ПИЦЦЕТОРИЯ    да        кафе   \n",
       "3   21894  ПИЦЦЕТОРИЯ    да        кафе   \n",
       "4  148815    Брусника    да        кафе   \n",
       "\n",
       "                                             address  number  \\\n",
       "0         город Москва, улица Егора Абакумова, дом 9      48   \n",
       "1  город Москва, улица Талалихина, дом 2/1, корпус 1      35   \n",
       "2            город Москва, Абрамцевская улица, дом 1      40   \n",
       "3            город Москва, Абрамцевская улица, дом 1      40   \n",
       "4      город Москва, переулок Сивцев Вражек, дом 6/2      10   \n",
       "\n",
       "                    street                                  AdmArea  \\\n",
       "0    улица Егора Абакумова  Северо-Восточный административный округ   \n",
       "1         улица Талалихина       Центральный административный округ   \n",
       "2       Абрамцевская улица  Северо-Восточный административный округ   \n",
       "3       Абрамцевская улица  Северо-Восточный административный округ   \n",
       "4   переулок Сивцев Вражек       Центральный административный округ   \n",
       "\n",
       "            District                                            Address  \n",
       "0  Ярославский район         город Москва, улица Егора Абакумова, дом 9  \n",
       "1    Таганский район  город Москва, улица Талалихина, дом 2/1, корпус 1  \n",
       "2    район Лианозово            город Москва, Абрамцевская улица, дом 1  \n",
       "3    район Лианозово            город Москва, Абрамцевская улица, дом 1  \n",
       "4        район Арбат      город Москва, переулок Сивцев Вражек, дом 6/2  "
      ]
     },
     "execution_count": 29,
     "metadata": {},
     "output_type": "execute_result"
    }
   ],
   "source": [
    "merged.head(5)"
   ]
  },
  {
   "cell_type": "markdown",
   "metadata": {},
   "source": [
    "Сгруппируем по улицам и подсчитаем количество уникальных id на одной улице:"
   ]
  },
  {
   "cell_type": "code",
   "execution_count": 30,
   "metadata": {},
   "outputs": [],
   "source": [
    "merged_grouped = merged.groupby('street').agg(\n",
    "    {'id' : 'nunique', 'District' : 'unique', 'AdmArea' : 'unique'}).reset_index()"
   ]
  },
  {
   "cell_type": "markdown",
   "metadata": {},
   "source": [
    "Приведем названия столбцов к строчному регистру:"
   ]
  },
  {
   "cell_type": "code",
   "execution_count": 31,
   "metadata": {},
   "outputs": [
    {
     "data": {
      "text/html": [
       "<div>\n",
       "<style scoped>\n",
       "    .dataframe tbody tr th:only-of-type {\n",
       "        vertical-align: middle;\n",
       "    }\n",
       "\n",
       "    .dataframe tbody tr th {\n",
       "        vertical-align: top;\n",
       "    }\n",
       "\n",
       "    .dataframe thead th {\n",
       "        text-align: right;\n",
       "    }\n",
       "</style>\n",
       "<table border=\"1\" class=\"dataframe\">\n",
       "  <thead>\n",
       "    <tr style=\"text-align: right;\">\n",
       "      <th></th>\n",
       "      <th>street</th>\n",
       "      <th>id</th>\n",
       "      <th>district</th>\n",
       "      <th>admarea</th>\n",
       "    </tr>\n",
       "  </thead>\n",
       "  <tbody>\n",
       "    <tr>\n",
       "      <th>0</th>\n",
       "      <td>1-й Амбулаторный проезд</td>\n",
       "      <td>2</td>\n",
       "      <td>[район Аэропорт]</td>\n",
       "      <td>[Северный административный округ]</td>\n",
       "    </tr>\n",
       "    <tr>\n",
       "      <th>1</th>\n",
       "      <td>1-й Балтийский переулок</td>\n",
       "      <td>1</td>\n",
       "      <td>[район Аэропорт]</td>\n",
       "      <td>[Северный административный округ]</td>\n",
       "    </tr>\n",
       "    <tr>\n",
       "      <th>2</th>\n",
       "      <td>1-й Басманный переулок</td>\n",
       "      <td>1</td>\n",
       "      <td>[Красносельский район]</td>\n",
       "      <td>[Центральный административный округ]</td>\n",
       "    </tr>\n",
       "    <tr>\n",
       "      <th>3</th>\n",
       "      <td>1-й Ботанический проезд</td>\n",
       "      <td>1</td>\n",
       "      <td>[район Свиблово]</td>\n",
       "      <td>[Северо-Восточный административный округ]</td>\n",
       "    </tr>\n",
       "    <tr>\n",
       "      <th>4</th>\n",
       "      <td>1-й Боткинский проезд</td>\n",
       "      <td>3</td>\n",
       "      <td>[район Беговой]</td>\n",
       "      <td>[Северный административный округ]</td>\n",
       "    </tr>\n",
       "    <tr>\n",
       "      <th>5</th>\n",
       "      <td>1-й Варшавский проезд</td>\n",
       "      <td>2</td>\n",
       "      <td>[район Москворечье-Сабурово]</td>\n",
       "      <td>[Южный административный округ]</td>\n",
       "    </tr>\n",
       "    <tr>\n",
       "      <th>6</th>\n",
       "      <td>1-й Волоколамский проезд</td>\n",
       "      <td>3</td>\n",
       "      <td>[район Щукино]</td>\n",
       "      <td>[Северо-Западный административный округ]</td>\n",
       "    </tr>\n",
       "    <tr>\n",
       "      <th>7</th>\n",
       "      <td>1-й Голутвинский переулок</td>\n",
       "      <td>1</td>\n",
       "      <td>[район Якиманка]</td>\n",
       "      <td>[Центральный административный округ]</td>\n",
       "    </tr>\n",
       "    <tr>\n",
       "      <th>8</th>\n",
       "      <td>1-й Дорожный проезд</td>\n",
       "      <td>2</td>\n",
       "      <td>[район Чертаново Центральное]</td>\n",
       "      <td>[Южный административный округ]</td>\n",
       "    </tr>\n",
       "    <tr>\n",
       "      <th>9</th>\n",
       "      <td>1-й Заречный переулок</td>\n",
       "      <td>1</td>\n",
       "      <td>[поселение Троицк]</td>\n",
       "      <td>[Троицкий административный округ]</td>\n",
       "    </tr>\n",
       "  </tbody>\n",
       "</table>\n",
       "</div>"
      ],
      "text/plain": [
       "                       street  id                       district  \\\n",
       "0     1-й Амбулаторный проезд   2               [район Аэропорт]   \n",
       "1     1-й Балтийский переулок   1               [район Аэропорт]   \n",
       "2      1-й Басманный переулок   1         [Красносельский район]   \n",
       "3     1-й Ботанический проезд   1               [район Свиблово]   \n",
       "4       1-й Боткинский проезд   3                [район Беговой]   \n",
       "5       1-й Варшавский проезд   2   [район Москворечье-Сабурово]   \n",
       "6    1-й Волоколамский проезд   3                 [район Щукино]   \n",
       "7   1-й Голутвинский переулок   1               [район Якиманка]   \n",
       "8         1-й Дорожный проезд   2  [район Чертаново Центральное]   \n",
       "9       1-й Заречный переулок   1             [поселение Троицк]   \n",
       "\n",
       "                                     admarea  \n",
       "0          [Северный административный округ]  \n",
       "1          [Северный административный округ]  \n",
       "2       [Центральный административный округ]  \n",
       "3  [Северо-Восточный административный округ]  \n",
       "4          [Северный административный округ]  \n",
       "5             [Южный административный округ]  \n",
       "6   [Северо-Западный административный округ]  \n",
       "7       [Центральный административный округ]  \n",
       "8             [Южный административный округ]  \n",
       "9          [Троицкий административный округ]  "
      ]
     },
     "execution_count": 31,
     "metadata": {},
     "output_type": "execute_result"
    }
   ],
   "source": [
    "merged_grouped.columns = map(str.lower, merged_grouped.columns)\n",
    "merged_grouped.head(10)"
   ]
  },
  {
   "cell_type": "markdown",
   "metadata": {},
   "source": [
    "Отфильтруем улицы с одним объектом. Таких улиц получилось 520:"
   ]
  },
  {
   "cell_type": "code",
   "execution_count": 32,
   "metadata": {},
   "outputs": [
    {
     "name": "stdout",
     "output_type": "stream",
     "text": [
      "<class 'pandas.core.frame.DataFrame'>\n",
      "Int64Index: 520 entries, 1 to 1573\n",
      "Data columns (total 4 columns):\n",
      " #   Column    Non-Null Count  Dtype \n",
      "---  ------    --------------  ----- \n",
      " 0   street    520 non-null    object\n",
      " 1   id        520 non-null    int64 \n",
      " 2   district  520 non-null    object\n",
      " 3   admarea   520 non-null    object\n",
      "dtypes: int64(1), object(3)\n",
      "memory usage: 20.3+ KB\n"
     ]
    }
   ],
   "source": [
    "merged_grouped_one_id = merged_grouped.query('id == 1')\n",
    "merged_grouped_one_id.info()"
   ]
  },
  {
   "cell_type": "code",
   "execution_count": 33,
   "metadata": {},
   "outputs": [
    {
     "data": {
      "text/html": [
       "<div>\n",
       "<style scoped>\n",
       "    .dataframe tbody tr th:only-of-type {\n",
       "        vertical-align: middle;\n",
       "    }\n",
       "\n",
       "    .dataframe tbody tr th {\n",
       "        vertical-align: top;\n",
       "    }\n",
       "\n",
       "    .dataframe thead th {\n",
       "        text-align: right;\n",
       "    }\n",
       "</style>\n",
       "<table border=\"1\" class=\"dataframe\">\n",
       "  <thead>\n",
       "    <tr style=\"text-align: right;\">\n",
       "      <th></th>\n",
       "      <th>street</th>\n",
       "      <th>id</th>\n",
       "      <th>district</th>\n",
       "      <th>admarea</th>\n",
       "    </tr>\n",
       "  </thead>\n",
       "  <tbody>\n",
       "    <tr>\n",
       "      <th>1</th>\n",
       "      <td>1-й Балтийский переулок</td>\n",
       "      <td>1</td>\n",
       "      <td>[район Аэропорт]</td>\n",
       "      <td>[Северный административный округ]</td>\n",
       "    </tr>\n",
       "    <tr>\n",
       "      <th>2</th>\n",
       "      <td>1-й Басманный переулок</td>\n",
       "      <td>1</td>\n",
       "      <td>[Красносельский район]</td>\n",
       "      <td>[Центральный административный округ]</td>\n",
       "    </tr>\n",
       "    <tr>\n",
       "      <th>3</th>\n",
       "      <td>1-й Ботанический проезд</td>\n",
       "      <td>1</td>\n",
       "      <td>[район Свиблово]</td>\n",
       "      <td>[Северо-Восточный административный округ]</td>\n",
       "    </tr>\n",
       "    <tr>\n",
       "      <th>7</th>\n",
       "      <td>1-й Голутвинский переулок</td>\n",
       "      <td>1</td>\n",
       "      <td>[район Якиманка]</td>\n",
       "      <td>[Центральный административный округ]</td>\n",
       "    </tr>\n",
       "    <tr>\n",
       "      <th>9</th>\n",
       "      <td>1-й Заречный переулок</td>\n",
       "      <td>1</td>\n",
       "      <td>[поселение Троицк]</td>\n",
       "      <td>[Троицкий административный округ]</td>\n",
       "    </tr>\n",
       "    <tr>\n",
       "      <th>11</th>\n",
       "      <td>1-й Котельнический переулок</td>\n",
       "      <td>1</td>\n",
       "      <td>[Таганский район]</td>\n",
       "      <td>[Центральный административный округ]</td>\n",
       "    </tr>\n",
       "    <tr>\n",
       "      <th>13</th>\n",
       "      <td>1-й Люсиновский переулок</td>\n",
       "      <td>1</td>\n",
       "      <td>[район Замоскворечье]</td>\n",
       "      <td>[Центральный административный округ]</td>\n",
       "    </tr>\n",
       "    <tr>\n",
       "      <th>14</th>\n",
       "      <td>1-й Митинский переулок</td>\n",
       "      <td>1</td>\n",
       "      <td>[район Митино]</td>\n",
       "      <td>[Северо-Западный административный округ]</td>\n",
       "    </tr>\n",
       "    <tr>\n",
       "      <th>15</th>\n",
       "      <td>1-й Монетчиковский переулок</td>\n",
       "      <td>1</td>\n",
       "      <td>[район Замоскворечье]</td>\n",
       "      <td>[Центральный административный округ]</td>\n",
       "    </tr>\n",
       "    <tr>\n",
       "      <th>17</th>\n",
       "      <td>1-й Неопалимовский переулок</td>\n",
       "      <td>1</td>\n",
       "      <td>[район Хамовники]</td>\n",
       "      <td>[Центральный административный округ]</td>\n",
       "    </tr>\n",
       "  </tbody>\n",
       "</table>\n",
       "</div>"
      ],
      "text/plain": [
       "                          street  id                district  \\\n",
       "1        1-й Балтийский переулок   1        [район Аэропорт]   \n",
       "2         1-й Басманный переулок   1  [Красносельский район]   \n",
       "3        1-й Ботанический проезд   1        [район Свиблово]   \n",
       "7      1-й Голутвинский переулок   1        [район Якиманка]   \n",
       "9          1-й Заречный переулок   1      [поселение Троицк]   \n",
       "11   1-й Котельнический переулок   1       [Таганский район]   \n",
       "13      1-й Люсиновский переулок   1   [район Замоскворечье]   \n",
       "14        1-й Митинский переулок   1          [район Митино]   \n",
       "15   1-й Монетчиковский переулок   1   [район Замоскворечье]   \n",
       "17   1-й Неопалимовский переулок   1       [район Хамовники]   \n",
       "\n",
       "                                      admarea  \n",
       "1           [Северный административный округ]  \n",
       "2        [Центральный административный округ]  \n",
       "3   [Северо-Восточный административный округ]  \n",
       "7        [Центральный административный округ]  \n",
       "9           [Троицкий административный округ]  \n",
       "11       [Центральный административный округ]  \n",
       "13       [Центральный административный округ]  \n",
       "14   [Северо-Западный административный округ]  \n",
       "15       [Центральный административный округ]  \n",
       "17       [Центральный административный округ]  "
      ]
     },
     "execution_count": 33,
     "metadata": {},
     "output_type": "execute_result"
    }
   ],
   "source": [
    "merged_grouped_one_id.head(10)"
   ]
  },
  {
   "cell_type": "markdown",
   "metadata": {},
   "source": [
    "Приведем столбцы 'district' и 'admarea' к типу данных string:"
   ]
  },
  {
   "cell_type": "code",
   "execution_count": 34,
   "metadata": {},
   "outputs": [],
   "source": [
    "merged_grouped_one_id['admarea'] = merged_grouped_one_id['admarea'].astype(str)"
   ]
  },
  {
   "cell_type": "code",
   "execution_count": 35,
   "metadata": {},
   "outputs": [],
   "source": [
    "merged_grouped_one_id['district'] = merged_grouped_one_id['district'].astype(str)"
   ]
  },
  {
   "cell_type": "markdown",
   "metadata": {},
   "source": [
    "C помощью функции clean(row) уберем из названий районов и округов квадратные скобки:"
   ]
  },
  {
   "cell_type": "code",
   "execution_count": 36,
   "metadata": {},
   "outputs": [],
   "source": [
    "def clean(row):\n",
    "    return re.sub('[^А-Яа-я 0-9-]+', '', row)\n",
    "\n",
    "merged_grouped_one_id['admarea']  =  merged_grouped_one_id['admarea'].apply(lambda row: clean(row))\n",
    "merged_grouped_one_id['district']  =  merged_grouped_one_id['district'].apply(lambda row: clean(row)) "
   ]
  },
  {
   "cell_type": "markdown",
   "metadata": {},
   "source": [
    "Построим сводную таблицу с группировкой по округам и рассчитаем количество id в каждом округе:"
   ]
  },
  {
   "cell_type": "code",
   "execution_count": 37,
   "metadata": {},
   "outputs": [],
   "source": [
    "# строим сводную таблицу с группировкой по округам \n",
    "merged_grouped_one_id_admarea = merged_grouped_one_id.pivot_table(\n",
    "    index='admarea', values='id', aggfunc='count').sort_values(by='id', ascending=False).reset_index()\n"
   ]
  },
  {
   "cell_type": "code",
   "execution_count": 38,
   "metadata": {},
   "outputs": [
    {
     "data": {
      "image/png": "[encoded data removed]",
      "text/plain": [
       "<Figure size 720x720 with 1 Axes>"
      ]
     },
     "metadata": {},
     "output_type": "display_data"
    }
   ],
   "source": [
    "# построим график по таблице\n",
    "\n",
    "sns.set(rc={'figure.figsize':(10, 10)})\n",
    "\n",
    "\n",
    "\n",
    "sns.set_style(\"whitegrid\")\n",
    "sns.barplot(y='admarea', x= 'id', data=merged_grouped_one_id_admarea.head(20), color='cornflowerblue').set_title(\n",
    "    \"Округа Москвы по количеству улиц с одним заведением общественного питания\", fontsize=16)\n",
    "\n",
    "plt.ylabel('')\n",
    "plt.xticks(rotation=45)\n",
    "plt.xlabel('Количество улиц с одним объектом') ;"
   ]
  },
  {
   "cell_type": "markdown",
   "metadata": {},
   "source": [
    "ЦАО -  лидер Москвы по количеству улиц с одним зведением общественного питания."
   ]
  },
  {
   "cell_type": "markdown",
   "metadata": {},
   "source": [
    "Построим сводную таблицу с группировкой по районам и рассчитаем количество id в каждом районе:"
   ]
  },
  {
   "cell_type": "code",
   "execution_count": 39,
   "metadata": {},
   "outputs": [
    {
     "data": {
      "text/html": [
       "<div>\n",
       "<style scoped>\n",
       "    .dataframe tbody tr th:only-of-type {\n",
       "        vertical-align: middle;\n",
       "    }\n",
       "\n",
       "    .dataframe tbody tr th {\n",
       "        vertical-align: top;\n",
       "    }\n",
       "\n",
       "    .dataframe thead th {\n",
       "        text-align: right;\n",
       "    }\n",
       "</style>\n",
       "<table border=\"1\" class=\"dataframe\">\n",
       "  <thead>\n",
       "    <tr style=\"text-align: right;\">\n",
       "      <th></th>\n",
       "      <th>district</th>\n",
       "      <th>id</th>\n",
       "    </tr>\n",
       "  </thead>\n",
       "  <tbody>\n",
       "    <tr>\n",
       "      <th>0</th>\n",
       "      <td>Таганский район</td>\n",
       "      <td>27</td>\n",
       "    </tr>\n",
       "    <tr>\n",
       "      <th>1</th>\n",
       "      <td>Басманный район</td>\n",
       "      <td>24</td>\n",
       "    </tr>\n",
       "    <tr>\n",
       "      <th>2</th>\n",
       "      <td>район Хамовники</td>\n",
       "      <td>24</td>\n",
       "    </tr>\n",
       "    <tr>\n",
       "      <th>3</th>\n",
       "      <td>Пресненский район</td>\n",
       "      <td>20</td>\n",
       "    </tr>\n",
       "    <tr>\n",
       "      <th>4</th>\n",
       "      <td>Тверской район</td>\n",
       "      <td>17</td>\n",
       "    </tr>\n",
       "    <tr>\n",
       "      <th>5</th>\n",
       "      <td>Можайский район</td>\n",
       "      <td>11</td>\n",
       "    </tr>\n",
       "    <tr>\n",
       "      <th>6</th>\n",
       "      <td>Мещанский район</td>\n",
       "      <td>11</td>\n",
       "    </tr>\n",
       "    <tr>\n",
       "      <th>7</th>\n",
       "      <td>район Сокольники</td>\n",
       "      <td>11</td>\n",
       "    </tr>\n",
       "    <tr>\n",
       "      <th>8</th>\n",
       "      <td>район Аэропорт</td>\n",
       "      <td>10</td>\n",
       "    </tr>\n",
       "    <tr>\n",
       "      <th>9</th>\n",
       "      <td>Тимирязевский район</td>\n",
       "      <td>9</td>\n",
       "    </tr>\n",
       "  </tbody>\n",
       "</table>\n",
       "</div>"
      ],
      "text/plain": [
       "              district  id\n",
       "0      Таганский район  27\n",
       "1      Басманный район  24\n",
       "2      район Хамовники  24\n",
       "3    Пресненский район  20\n",
       "4       Тверской район  17\n",
       "5      Можайский район  11\n",
       "6      Мещанский район  11\n",
       "7     район Сокольники  11\n",
       "8       район Аэропорт  10\n",
       "9  Тимирязевский район   9"
      ]
     },
     "metadata": {},
     "output_type": "display_data"
    }
   ],
   "source": [
    "# строим сводную таблицу с группировкой по районам\n",
    "merged_grouped_one_id_district = merged_grouped_one_id.pivot_table(\n",
    "    index='district', values='id', aggfunc='count').sort_values(by='id', ascending=False).reset_index()\n",
    "\n",
    "\n",
    "display(merged_grouped_one_id_district.head(10))"
   ]
  },
  {
   "cell_type": "code",
   "execution_count": 40,
   "metadata": {},
   "outputs": [
    {
     "data": {
      "image/png": "[encoded data removed]",
      "text/plain": [
       "<Figure size 720x720 with 1 Axes>"
      ]
     },
     "metadata": {},
     "output_type": "display_data"
    }
   ],
   "source": [
    "# построим график по таблице\n",
    "\n",
    "sns.set(rc={'figure.figsize':(10, 10)})\n",
    "\n",
    "sns.set_style(\"whitegrid\")\n",
    "sns.barplot(y='district', x= 'id', data=merged_grouped_one_id_district.head(20), color='cornflowerblue').set_title(\n",
    "    \"Районы Москвы по количеству улиц с одним заведением общественного питания\", fontsize=16)\n",
    "\n",
    "plt.ylabel('')\n",
    "plt.xticks(rotation=45)\n",
    "plt.xlabel('Количество улиц с одним объектом') ;"
   ]
  },
  {
   "cell_type": "markdown",
   "metadata": {},
   "source": [
    "Больше всего улиц с одним объектом общественного питания - в Таганском и Басманном районах, а также в Хамовниках."
   ]
  },
  {
   "cell_type": "markdown",
   "metadata": {},
   "source": [
    "## Заключение\n"
   ]
  },
  {
   "cell_type": "markdown",
   "metadata": {},
   "source": [
    "### Выполненные работы\n",
    "\n",
    "- данные загружены и подготовлены к анализу  \n",
    "\n",
    "Анализ данных: \n",
    "- Исследовано соотношение видов объектов общественного питания по количеству. Построен график.\n",
    "- Исследовано  соотношение сетевых и несетевых заведений по количеству. Построен график.\n",
    "- Выяснено, для какого вида объекта общественного питания характерно сетевое распространение\n",
    "- Выяснено, что характерно для сетевых заведений: много заведений с небольшим числом посадочных мест в каждом или мало заведений с большим количеством посадочных мест\n",
    "- Для каждого вида объекта общественного питания описано среднее количество посадочных мест. Построен график.\n",
    "- Выделена в отдельный столбец информация об улице из столбца address.\n",
    "- Построен график топ-10 улиц по количеству объектов общественного питания. Определено, в каких районах Москвы находятся эти улицы\n",
    "- Найдено число улиц с одним объектом общественного питания. Определено, в каких районах Москвы находятся эти улицы\n",
    "\n",
    "Подготовка презентации\n",
    "\n",
    "- Подготовить презентацию исследования для инвесторов. \n"
   ]
  },
  {
   "cell_type": "markdown",
   "metadata": {},
   "source": [
    "### Выводы и рекомендации"
   ]
  },
  {
   "cell_type": "markdown",
   "metadata": {},
   "source": [
    "По результатам анализа датасета были сделаны следующие выводы:\n",
    "\n",
    "- Больше всего в Москве кафе (более 6000), столовых и ресторанов, а меньше всего отделов кулинарии в магазинах.\n",
    "- Несетевых заведений гораздо больше, чем сетевых - 12320 против 2964.\n",
    "- Самое большое количество сетевых заведений - у кафе, предприятий быстрого обслуживания и ресторанов, а в процентном соотношении наиболее значительная доля сетевых заведений у предприятий быстрого обслуживания, магазинов, ресторанов и кафе.\n",
    "- Больше всего посадочных мест в столовых (в среднем около 100) и ресторанах (в среднем около 80), меньше всего - в кафетериях и на предприятиях быстрого обслуживания (около 6). В закусочных и магазинах посадочных мест нет. \n",
    "- Часть сетевых кафе и предприятий быстрого обслуживаниями работает на небольших площадях (до 100 посадочных мест), но обладает большим количеством заведений в сети. \n",
    "- Проспект Мира - улица с наибольшим количеством заведений общественного питания.\n",
    "- ЦАО -  лидер Москвы по количеству улиц с одним заведением общественного питания.\n",
    "- Больше всего улиц с одним объектом общественного питания в Таганском, Басманном районах и в Хамовниках.\n",
    "\n",
    "Инвесторам могут быть даны следующие рекомендации:\n",
    "\n",
    "   - поскольку идея с роботами уникальна, планируемое кафе изначально не будет сетевым.  Нужно будет самостоятельно разрабатывать меню, дизайн, разбираться в нюансах оборудования.  \n",
    "   - как вариант, кафе может стать первым заведением в своей сети.  Если роботы понравятся посетителям, можно будет создать франшизу и открыть несколько кафе с роботами.  \n",
    "   - конкуренцию новому кафе в Москве составляют около 6000 кафе, 1396 из которых сетевые  \n",
    "   - в среднем, в московских кафе около 30 посадочных мест. Сетевые кафе по площади меньше, чем сетевые столовые и рестораны, но количество заведений в сетях больше. У сетевых кафе больше перспектив по привлечению инвесторов, так как кафе обходятся инвесторам дешевле.  \n",
    "   - Топ-10 улиц с наибольшим количеством заведений питания -  проспект Мира, Профсоюзная улица, Ленинградский проспект \n",
    "   - в следующих районах Москвы находится больше всего улиц с наименьшим количеством заведений: Таганский, Басманный, Хамовники.\n",
    "   - при выборе локации необходимо оценить наличие конкурентов рядом, а также проходимость места\n",
    "    "
   ]
  },
  {
   "cell_type": "markdown",
   "metadata": {},
   "source": [
    "Презентация: https://disk.yandex.ru/i/IYgIKq_84N4w6g"
   ]
  }
 ],
 "metadata": {
  "ExecuteTimeLog": [
   {
    "duration": 1197,
    "start_time": "2022-08-11T08:54:18.463Z"
   },
   {
    "duration": 262,
    "start_time": "2022-08-11T08:54:55.669Z"
   },
   {
    "duration": 13,
    "start_time": "2022-08-11T08:55:09.123Z"
   },
   {
    "duration": 53,
    "start_time": "2022-08-11T08:55:44.612Z"
   },
   {
    "duration": 13,
    "start_time": "2022-08-11T08:57:46.084Z"
   },
   {
    "duration": 18,
    "start_time": "2022-08-11T09:07:21.477Z"
   },
   {
    "duration": 53,
    "start_time": "2022-08-11T09:15:30.101Z"
   },
   {
    "duration": 77,
    "start_time": "2022-08-11T09:16:25.089Z"
   },
   {
    "duration": 810,
    "start_time": "2022-08-11T09:19:31.748Z"
   },
   {
    "duration": 383,
    "start_time": "2022-08-11T09:21:01.060Z"
   },
   {
    "duration": 5,
    "start_time": "2022-08-11T09:21:51.133Z"
   },
   {
    "duration": 412,
    "start_time": "2022-08-11T09:22:05.878Z"
   },
   {
    "duration": 11,
    "start_time": "2022-08-11T09:22:50.729Z"
   },
   {
    "duration": 140,
    "start_time": "2022-08-11T09:22:56.259Z"
   },
   {
    "duration": 148,
    "start_time": "2022-08-11T09:24:04.867Z"
   },
   {
    "duration": 147,
    "start_time": "2022-08-11T09:24:16.824Z"
   },
   {
    "duration": 162,
    "start_time": "2022-08-11T09:25:40.211Z"
   },
   {
    "duration": 197,
    "start_time": "2022-08-11T09:25:48.818Z"
   },
   {
    "duration": 201,
    "start_time": "2022-08-11T09:26:16.657Z"
   },
   {
    "duration": 278,
    "start_time": "2022-08-11T09:26:38.675Z"
   },
   {
    "duration": 62,
    "start_time": "2022-08-11T09:27:48.413Z"
   },
   {
    "duration": 222,
    "start_time": "2022-08-11T09:27:53.336Z"
   },
   {
    "duration": 198,
    "start_time": "2022-08-11T09:28:18.142Z"
   },
   {
    "duration": 200,
    "start_time": "2022-08-11T09:28:28.858Z"
   },
   {
    "duration": 180,
    "start_time": "2022-08-11T09:28:42.475Z"
   },
   {
    "duration": 185,
    "start_time": "2022-08-11T09:28:55.482Z"
   },
   {
    "duration": 194,
    "start_time": "2022-08-11T09:33:50.599Z"
   },
   {
    "duration": 195,
    "start_time": "2022-08-11T09:35:37.318Z"
   },
   {
    "duration": 198,
    "start_time": "2022-08-11T09:35:45.497Z"
   },
   {
    "duration": 195,
    "start_time": "2022-08-11T09:35:56.554Z"
   },
   {
    "duration": 191,
    "start_time": "2022-08-11T09:36:44.374Z"
   },
   {
    "duration": 285,
    "start_time": "2022-08-11T09:36:59.648Z"
   },
   {
    "duration": 204,
    "start_time": "2022-08-11T09:37:06.084Z"
   },
   {
    "duration": 200,
    "start_time": "2022-08-11T09:38:03.430Z"
   },
   {
    "duration": 193,
    "start_time": "2022-08-11T09:38:18.285Z"
   },
   {
    "duration": 193,
    "start_time": "2022-08-11T09:38:31.893Z"
   },
   {
    "duration": 1158,
    "start_time": "2022-08-11T09:38:41.619Z"
   },
   {
    "duration": 68,
    "start_time": "2022-08-11T09:38:42.779Z"
   },
   {
    "duration": 11,
    "start_time": "2022-08-11T09:38:42.849Z"
   },
   {
    "duration": 25,
    "start_time": "2022-08-11T09:38:42.861Z"
   },
   {
    "duration": 26,
    "start_time": "2022-08-11T09:38:42.888Z"
   },
   {
    "duration": 4,
    "start_time": "2022-08-11T09:38:42.915Z"
   },
   {
    "duration": 167,
    "start_time": "2022-08-11T09:38:42.920Z"
   },
   {
    "duration": 200,
    "start_time": "2022-08-11T09:39:17.766Z"
   },
   {
    "duration": 307,
    "start_time": "2022-08-11T09:39:52.581Z"
   },
   {
    "duration": 233,
    "start_time": "2022-08-11T09:40:37.023Z"
   },
   {
    "duration": 213,
    "start_time": "2022-08-11T09:40:49.209Z"
   },
   {
    "duration": 221,
    "start_time": "2022-08-11T09:40:59.257Z"
   },
   {
    "duration": 236,
    "start_time": "2022-08-11T09:41:25.868Z"
   },
   {
    "duration": 198,
    "start_time": "2022-08-11T09:43:55.375Z"
   },
   {
    "duration": 263,
    "start_time": "2022-08-11T09:44:27.121Z"
   },
   {
    "duration": 208,
    "start_time": "2022-08-11T09:44:41.866Z"
   },
   {
    "duration": 20,
    "start_time": "2022-08-11T09:44:56.110Z"
   },
   {
    "duration": 12,
    "start_time": "2022-08-11T09:45:10.134Z"
   },
   {
    "duration": 201,
    "start_time": "2022-08-11T09:45:29.280Z"
   },
   {
    "duration": 15,
    "start_time": "2022-08-11T09:46:06.871Z"
   },
   {
    "duration": 52,
    "start_time": "2022-08-11T09:46:20.274Z"
   },
   {
    "duration": 450,
    "start_time": "2022-08-11T09:46:25.496Z"
   },
   {
    "duration": 10,
    "start_time": "2022-08-11T09:46:40.959Z"
   },
   {
    "duration": 18,
    "start_time": "2022-08-11T09:46:55.500Z"
   },
   {
    "duration": 448,
    "start_time": "2022-08-11T10:42:27.648Z"
   },
   {
    "duration": 477,
    "start_time": "2022-08-11T10:42:52.336Z"
   },
   {
    "duration": 480,
    "start_time": "2022-08-11T10:43:11.306Z"
   },
   {
    "duration": 461,
    "start_time": "2022-08-11T10:43:52.344Z"
   },
   {
    "duration": 465,
    "start_time": "2022-08-11T10:44:16.059Z"
   },
   {
    "duration": 455,
    "start_time": "2022-08-11T10:44:26.193Z"
   },
   {
    "duration": 225,
    "start_time": "2022-08-11T10:44:50.769Z"
   },
   {
    "duration": 326,
    "start_time": "2022-08-11T10:44:59.968Z"
   },
   {
    "duration": 254,
    "start_time": "2022-08-11T10:47:01.511Z"
   },
   {
    "duration": 217,
    "start_time": "2022-08-11T10:47:20.916Z"
   },
   {
    "duration": 215,
    "start_time": "2022-08-11T10:47:36.116Z"
   },
   {
    "duration": 217,
    "start_time": "2022-08-11T10:48:25.714Z"
   },
   {
    "duration": 227,
    "start_time": "2022-08-11T10:48:40.070Z"
   },
   {
    "duration": 215,
    "start_time": "2022-08-11T10:48:52.378Z"
   },
   {
    "duration": 207,
    "start_time": "2022-08-11T10:49:04.441Z"
   },
   {
    "duration": 218,
    "start_time": "2022-08-11T10:49:39.891Z"
   },
   {
    "duration": 222,
    "start_time": "2022-08-11T10:50:09.640Z"
   },
   {
    "duration": 206,
    "start_time": "2022-08-11T10:50:14.915Z"
   },
   {
    "duration": 288,
    "start_time": "2022-08-11T10:50:20.234Z"
   },
   {
    "duration": 17,
    "start_time": "2022-08-11T10:50:56.883Z"
   },
   {
    "duration": 206,
    "start_time": "2022-08-11T10:51:10.363Z"
   },
   {
    "duration": 217,
    "start_time": "2022-08-11T10:51:18.427Z"
   },
   {
    "duration": 222,
    "start_time": "2022-08-11T10:51:35.346Z"
   },
   {
    "duration": 219,
    "start_time": "2022-08-11T10:52:06.827Z"
   },
   {
    "duration": 224,
    "start_time": "2022-08-11T11:00:00.000Z"
   },
   {
    "duration": 218,
    "start_time": "2022-08-11T11:00:13.581Z"
   },
   {
    "duration": 239,
    "start_time": "2022-08-11T11:00:50.433Z"
   },
   {
    "duration": 232,
    "start_time": "2022-08-11T11:20:59.760Z"
   },
   {
    "duration": 242,
    "start_time": "2022-08-11T11:21:30.439Z"
   },
   {
    "duration": 212,
    "start_time": "2022-08-11T11:21:43.480Z"
   },
   {
    "duration": 308,
    "start_time": "2022-08-11T11:26:32.130Z"
   },
   {
    "duration": 244,
    "start_time": "2022-08-11T11:27:02.613Z"
   },
   {
    "duration": 235,
    "start_time": "2022-08-11T11:27:20.628Z"
   },
   {
    "duration": 226,
    "start_time": "2022-08-11T11:31:23.597Z"
   },
   {
    "duration": 218,
    "start_time": "2022-08-11T11:31:46.974Z"
   },
   {
    "duration": 219,
    "start_time": "2022-08-11T11:33:19.004Z"
   },
   {
    "duration": 218,
    "start_time": "2022-08-11T11:41:23.002Z"
   },
   {
    "duration": 693,
    "start_time": "2022-08-11T12:00:01.339Z"
   },
   {
    "duration": 152,
    "start_time": "2022-08-11T12:00:32.461Z"
   },
   {
    "duration": 1232,
    "start_time": "2022-08-11T12:02:17.929Z"
   },
   {
    "duration": 123,
    "start_time": "2022-08-11T12:02:19.163Z"
   },
   {
    "duration": 16,
    "start_time": "2022-08-11T12:02:19.288Z"
   },
   {
    "duration": 13,
    "start_time": "2022-08-11T12:02:19.306Z"
   },
   {
    "duration": 17,
    "start_time": "2022-08-11T12:02:19.320Z"
   },
   {
    "duration": 4,
    "start_time": "2022-08-11T12:02:19.338Z"
   },
   {
    "duration": 209,
    "start_time": "2022-08-11T12:02:19.344Z"
   },
   {
    "duration": 578,
    "start_time": "2022-08-11T12:02:19.554Z"
   },
   {
    "duration": 253,
    "start_time": "2022-08-11T12:02:58.937Z"
   },
   {
    "duration": 1209,
    "start_time": "2022-08-11T12:03:12.884Z"
   },
   {
    "duration": 67,
    "start_time": "2022-08-11T12:03:14.095Z"
   },
   {
    "duration": 12,
    "start_time": "2022-08-11T12:03:14.164Z"
   },
   {
    "duration": 35,
    "start_time": "2022-08-11T12:03:14.179Z"
   },
   {
    "duration": 18,
    "start_time": "2022-08-11T12:03:14.216Z"
   },
   {
    "duration": 5,
    "start_time": "2022-08-11T12:03:14.236Z"
   },
   {
    "duration": 262,
    "start_time": "2022-08-11T12:03:14.243Z"
   },
   {
    "duration": 532,
    "start_time": "2022-08-11T12:03:14.509Z"
   },
   {
    "duration": 221,
    "start_time": "2022-08-11T12:03:30.456Z"
   },
   {
    "duration": 1242,
    "start_time": "2022-08-11T12:03:43.679Z"
   },
   {
    "duration": 78,
    "start_time": "2022-08-11T12:03:44.924Z"
   },
   {
    "duration": 14,
    "start_time": "2022-08-11T12:03:45.003Z"
   },
   {
    "duration": 30,
    "start_time": "2022-08-11T12:03:45.020Z"
   },
   {
    "duration": 25,
    "start_time": "2022-08-11T12:03:45.052Z"
   },
   {
    "duration": 5,
    "start_time": "2022-08-11T12:03:45.079Z"
   },
   {
    "duration": 273,
    "start_time": "2022-08-11T12:03:45.086Z"
   },
   {
    "duration": 649,
    "start_time": "2022-08-11T12:03:45.361Z"
   },
   {
    "duration": 170,
    "start_time": "2022-08-11T12:04:41.487Z"
   },
   {
    "duration": 1189,
    "start_time": "2022-08-11T12:07:45.913Z"
   },
   {
    "duration": 69,
    "start_time": "2022-08-11T12:07:47.103Z"
   },
   {
    "duration": 12,
    "start_time": "2022-08-11T12:07:47.174Z"
   },
   {
    "duration": 20,
    "start_time": "2022-08-11T12:07:47.188Z"
   },
   {
    "duration": 17,
    "start_time": "2022-08-11T12:07:47.210Z"
   },
   {
    "duration": 4,
    "start_time": "2022-08-11T12:07:47.228Z"
   },
   {
    "duration": 327,
    "start_time": "2022-08-11T12:07:47.234Z"
   },
   {
    "duration": 652,
    "start_time": "2022-08-11T12:07:47.562Z"
   },
   {
    "duration": 1151,
    "start_time": "2022-08-11T12:11:41.229Z"
   },
   {
    "duration": 72,
    "start_time": "2022-08-11T12:11:42.382Z"
   },
   {
    "duration": 13,
    "start_time": "2022-08-11T12:11:42.455Z"
   },
   {
    "duration": 23,
    "start_time": "2022-08-11T12:11:42.469Z"
   },
   {
    "duration": 36,
    "start_time": "2022-08-11T12:11:42.493Z"
   },
   {
    "duration": 13,
    "start_time": "2022-08-11T12:11:42.531Z"
   },
   {
    "duration": 239,
    "start_time": "2022-08-11T12:11:42.546Z"
   },
   {
    "duration": 552,
    "start_time": "2022-08-11T12:11:42.787Z"
   },
   {
    "duration": 218,
    "start_time": "2022-08-11T12:11:57.527Z"
   },
   {
    "duration": 150,
    "start_time": "2022-08-11T12:12:16.652Z"
   },
   {
    "duration": 159,
    "start_time": "2022-08-11T12:12:27.372Z"
   },
   {
    "duration": 143,
    "start_time": "2022-08-11T12:13:13.916Z"
   },
   {
    "duration": 143,
    "start_time": "2022-08-11T12:13:23.090Z"
   },
   {
    "duration": 137,
    "start_time": "2022-08-11T12:13:52.917Z"
   },
   {
    "duration": 133,
    "start_time": "2022-08-11T12:14:05.366Z"
   },
   {
    "duration": 158,
    "start_time": "2022-08-11T12:15:06.652Z"
   },
   {
    "duration": 25,
    "start_time": "2022-08-11T12:15:29.631Z"
   },
   {
    "duration": 12,
    "start_time": "2022-08-11T12:15:34.093Z"
   },
   {
    "duration": 18,
    "start_time": "2022-08-11T12:15:43.025Z"
   },
   {
    "duration": 162,
    "start_time": "2022-08-11T12:15:50.470Z"
   },
   {
    "duration": 180,
    "start_time": "2022-08-11T12:16:01.061Z"
   },
   {
    "duration": 162,
    "start_time": "2022-08-11T12:16:42.249Z"
   },
   {
    "duration": 239,
    "start_time": "2022-08-11T12:19:04.130Z"
   },
   {
    "duration": 1168,
    "start_time": "2022-08-11T12:19:13.121Z"
   },
   {
    "duration": 68,
    "start_time": "2022-08-11T12:19:14.291Z"
   },
   {
    "duration": 12,
    "start_time": "2022-08-11T12:19:14.360Z"
   },
   {
    "duration": 14,
    "start_time": "2022-08-11T12:19:14.374Z"
   },
   {
    "duration": 25,
    "start_time": "2022-08-11T12:19:14.390Z"
   },
   {
    "duration": 5,
    "start_time": "2022-08-11T12:19:14.417Z"
   },
   {
    "duration": 243,
    "start_time": "2022-08-11T12:19:14.424Z"
   },
   {
    "duration": 162,
    "start_time": "2022-08-11T12:19:14.669Z"
   },
   {
    "duration": 1157,
    "start_time": "2022-08-11T12:19:32.952Z"
   },
   {
    "duration": 69,
    "start_time": "2022-08-11T12:19:34.110Z"
   },
   {
    "duration": 12,
    "start_time": "2022-08-11T12:19:34.180Z"
   },
   {
    "duration": 17,
    "start_time": "2022-08-11T12:19:34.194Z"
   },
   {
    "duration": 19,
    "start_time": "2022-08-11T12:19:34.213Z"
   },
   {
    "duration": 4,
    "start_time": "2022-08-11T12:19:34.234Z"
   },
   {
    "duration": 246,
    "start_time": "2022-08-11T12:19:34.240Z"
   },
   {
    "duration": 178,
    "start_time": "2022-08-11T12:19:34.487Z"
   },
   {
    "duration": 243,
    "start_time": "2022-08-11T12:22:11.288Z"
   },
   {
    "duration": 175,
    "start_time": "2022-08-11T12:22:22.022Z"
   },
   {
    "duration": 216,
    "start_time": "2022-08-11T12:26:08.113Z"
   },
   {
    "duration": 559,
    "start_time": "2022-08-11T12:26:24.017Z"
   },
   {
    "duration": 255,
    "start_time": "2022-08-11T12:26:55.613Z"
   },
   {
    "duration": 183,
    "start_time": "2022-08-11T12:27:44.667Z"
   },
   {
    "duration": 26,
    "start_time": "2022-08-11T12:28:01.927Z"
   },
   {
    "duration": 70,
    "start_time": "2022-08-11T12:28:07.013Z"
   },
   {
    "duration": 141,
    "start_time": "2022-08-11T12:28:11.991Z"
   },
   {
    "duration": 21,
    "start_time": "2022-08-11T12:28:42.866Z"
   },
   {
    "duration": 122,
    "start_time": "2022-08-11T12:28:51.178Z"
   },
   {
    "duration": 46,
    "start_time": "2022-08-11T12:29:50.132Z"
   },
   {
    "duration": 121,
    "start_time": "2022-08-11T12:29:56.473Z"
   },
   {
    "duration": 123,
    "start_time": "2022-08-11T12:30:14.395Z"
   },
   {
    "duration": 123,
    "start_time": "2022-08-11T12:30:24.163Z"
   },
   {
    "duration": 139,
    "start_time": "2022-08-11T12:30:36.729Z"
   },
   {
    "duration": 132,
    "start_time": "2022-08-11T13:03:17.042Z"
   },
   {
    "duration": 138,
    "start_time": "2022-08-11T13:03:49.921Z"
   },
   {
    "duration": 133,
    "start_time": "2022-08-11T13:04:09.219Z"
   },
   {
    "duration": 128,
    "start_time": "2022-08-11T13:05:33.858Z"
   },
   {
    "duration": 142,
    "start_time": "2022-08-11T13:05:46.983Z"
   },
   {
    "duration": 227,
    "start_time": "2022-08-11T13:05:53.153Z"
   },
   {
    "duration": 135,
    "start_time": "2022-08-11T13:06:14.983Z"
   },
   {
    "duration": 133,
    "start_time": "2022-08-11T13:06:32.323Z"
   },
   {
    "duration": 125,
    "start_time": "2022-08-11T13:08:35.747Z"
   },
   {
    "duration": 22,
    "start_time": "2022-08-11T13:14:13.133Z"
   },
   {
    "duration": 1381,
    "start_time": "2022-08-11T13:14:42.640Z"
   },
   {
    "duration": 1563,
    "start_time": "2022-08-11T13:14:59.876Z"
   },
   {
    "duration": 393,
    "start_time": "2022-08-11T13:17:18.317Z"
   },
   {
    "duration": 227,
    "start_time": "2022-08-11T13:17:25.582Z"
   },
   {
    "duration": 236,
    "start_time": "2022-08-11T13:17:44.822Z"
   },
   {
    "duration": 217,
    "start_time": "2022-08-11T13:20:08.218Z"
   },
   {
    "duration": 238,
    "start_time": "2022-08-11T13:20:17.202Z"
   },
   {
    "duration": 1347,
    "start_time": "2022-08-11T13:20:28.520Z"
   },
   {
    "duration": 241,
    "start_time": "2022-08-11T13:20:40.375Z"
   },
   {
    "duration": 140,
    "start_time": "2022-08-11T13:20:52.223Z"
   },
   {
    "duration": 134,
    "start_time": "2022-08-11T13:21:23.419Z"
   },
   {
    "duration": 279,
    "start_time": "2022-08-11T13:21:47.255Z"
   },
   {
    "duration": 146,
    "start_time": "2022-08-11T13:23:17.986Z"
   },
   {
    "duration": 153,
    "start_time": "2022-08-11T13:23:36.033Z"
   },
   {
    "duration": 151,
    "start_time": "2022-08-11T13:24:06.384Z"
   },
   {
    "duration": 1204,
    "start_time": "2022-08-11T13:24:40.178Z"
   },
   {
    "duration": 69,
    "start_time": "2022-08-11T13:24:41.384Z"
   },
   {
    "duration": 12,
    "start_time": "2022-08-11T13:24:41.455Z"
   },
   {
    "duration": 15,
    "start_time": "2022-08-11T13:24:41.469Z"
   },
   {
    "duration": 29,
    "start_time": "2022-08-11T13:24:41.487Z"
   },
   {
    "duration": 4,
    "start_time": "2022-08-11T13:24:41.518Z"
   },
   {
    "duration": 266,
    "start_time": "2022-08-11T13:24:41.524Z"
   },
   {
    "duration": 263,
    "start_time": "2022-08-11T13:24:41.792Z"
   },
   {
    "duration": 163,
    "start_time": "2022-08-11T13:24:57.581Z"
   },
   {
    "duration": 141,
    "start_time": "2022-08-11T13:25:16.846Z"
   },
   {
    "duration": 152,
    "start_time": "2022-08-11T13:25:30.378Z"
   },
   {
    "duration": 141,
    "start_time": "2022-08-11T13:25:52.406Z"
   },
   {
    "duration": 148,
    "start_time": "2022-08-11T13:26:26.415Z"
   },
   {
    "duration": 157,
    "start_time": "2022-08-11T13:27:03.597Z"
   },
   {
    "duration": 220,
    "start_time": "2022-08-11T13:27:38.727Z"
   },
   {
    "duration": 165,
    "start_time": "2022-08-11T13:27:57.768Z"
   },
   {
    "duration": 153,
    "start_time": "2022-08-11T13:28:10.625Z"
   },
   {
    "duration": 146,
    "start_time": "2022-08-11T13:29:18.760Z"
   },
   {
    "duration": 156,
    "start_time": "2022-08-11T13:29:23.647Z"
   },
   {
    "duration": 156,
    "start_time": "2022-08-11T13:29:42.088Z"
   },
   {
    "duration": 142,
    "start_time": "2022-08-11T13:29:59.521Z"
   },
   {
    "duration": 140,
    "start_time": "2022-08-11T13:30:13.816Z"
   },
   {
    "duration": 139,
    "start_time": "2022-08-11T13:30:21.361Z"
   },
   {
    "duration": 136,
    "start_time": "2022-08-11T13:30:31.777Z"
   },
   {
    "duration": 9,
    "start_time": "2022-08-11T13:34:48.986Z"
   },
   {
    "duration": 26,
    "start_time": "2022-08-11T13:35:17.027Z"
   },
   {
    "duration": 15,
    "start_time": "2022-08-11T13:35:48.184Z"
   },
   {
    "duration": 586,
    "start_time": "2022-08-11T13:36:20.434Z"
   },
   {
    "duration": 150,
    "start_time": "2022-08-11T13:36:37.937Z"
   },
   {
    "duration": 282,
    "start_time": "2022-08-11T13:37:25.938Z"
   },
   {
    "duration": 150,
    "start_time": "2022-08-11T13:41:40.881Z"
   },
   {
    "duration": 1190,
    "start_time": "2022-08-11T13:41:52.919Z"
   },
   {
    "duration": 70,
    "start_time": "2022-08-11T13:41:54.111Z"
   },
   {
    "duration": 12,
    "start_time": "2022-08-11T13:41:54.183Z"
   },
   {
    "duration": 13,
    "start_time": "2022-08-11T13:41:54.197Z"
   },
   {
    "duration": 17,
    "start_time": "2022-08-11T13:41:54.211Z"
   },
   {
    "duration": 5,
    "start_time": "2022-08-11T13:41:54.230Z"
   },
   {
    "duration": 587,
    "start_time": "2022-08-11T13:41:54.237Z"
   },
   {
    "duration": 317,
    "start_time": "2022-08-11T13:41:54.826Z"
   },
   {
    "duration": 150,
    "start_time": "2022-08-11T13:41:55.145Z"
   },
   {
    "duration": 161,
    "start_time": "2022-08-11T13:41:55.298Z"
   },
   {
    "duration": 165,
    "start_time": "2022-08-11T13:42:10.219Z"
   },
   {
    "duration": 239,
    "start_time": "2022-08-11T13:42:30.135Z"
   },
   {
    "duration": 144,
    "start_time": "2022-08-11T13:47:49.859Z"
   },
   {
    "duration": 147,
    "start_time": "2022-08-11T13:48:05.548Z"
   },
   {
    "duration": 263,
    "start_time": "2022-08-11T13:49:27.127Z"
   },
   {
    "duration": 51,
    "start_time": "2022-08-11T13:59:28.843Z"
   },
   {
    "duration": 150,
    "start_time": "2022-08-11T13:59:34.139Z"
   },
   {
    "duration": 140,
    "start_time": "2022-08-11T14:01:08.254Z"
   },
   {
    "duration": 13,
    "start_time": "2022-08-11T14:01:26.216Z"
   },
   {
    "duration": 10,
    "start_time": "2022-08-11T14:01:31.995Z"
   },
   {
    "duration": 18,
    "start_time": "2022-08-11T14:01:43.839Z"
   },
   {
    "duration": 152,
    "start_time": "2022-08-11T14:02:08.555Z"
   },
   {
    "duration": 2328,
    "start_time": "2022-08-11T14:03:38.102Z"
   },
   {
    "duration": 3234,
    "start_time": "2022-08-11T14:03:47.115Z"
   },
   {
    "duration": 72,
    "start_time": "2022-08-11T14:03:50.351Z"
   },
   {
    "duration": 13,
    "start_time": "2022-08-11T14:03:50.425Z"
   },
   {
    "duration": 14,
    "start_time": "2022-08-11T14:03:50.440Z"
   },
   {
    "duration": 17,
    "start_time": "2022-08-11T14:03:50.455Z"
   },
   {
    "duration": 6,
    "start_time": "2022-08-11T14:03:50.474Z"
   },
   {
    "duration": 573,
    "start_time": "2022-08-11T14:03:50.481Z"
   },
   {
    "duration": 343,
    "start_time": "2022-08-11T14:03:51.056Z"
   },
   {
    "duration": 148,
    "start_time": "2022-08-11T14:03:51.400Z"
   },
   {
    "duration": 166,
    "start_time": "2022-08-11T14:03:51.550Z"
   },
   {
    "duration": 204,
    "start_time": "2022-08-11T14:03:51.718Z"
   },
   {
    "duration": 156,
    "start_time": "2022-08-11T14:06:16.331Z"
   },
   {
    "duration": 56,
    "start_time": "2022-08-11T14:07:21.329Z"
   },
   {
    "duration": 149,
    "start_time": "2022-08-11T14:07:29.118Z"
   },
   {
    "duration": 32,
    "start_time": "2022-08-11T14:07:36.349Z"
   },
   {
    "duration": 219,
    "start_time": "2022-08-11T14:07:51.466Z"
   },
   {
    "duration": 236,
    "start_time": "2022-08-11T14:08:09.773Z"
   },
   {
    "duration": 909,
    "start_time": "2022-08-11T14:08:36.819Z"
   },
   {
    "duration": 1147,
    "start_time": "2022-08-11T14:09:04.476Z"
   },
   {
    "duration": 294,
    "start_time": "2022-08-11T14:09:35.387Z"
   },
   {
    "duration": 3308,
    "start_time": "2022-08-11T14:11:13.061Z"
   },
   {
    "duration": 69,
    "start_time": "2022-08-11T14:11:16.372Z"
   },
   {
    "duration": 13,
    "start_time": "2022-08-11T14:11:16.443Z"
   },
   {
    "duration": 17,
    "start_time": "2022-08-11T14:11:16.458Z"
   },
   {
    "duration": 33,
    "start_time": "2022-08-11T14:11:16.477Z"
   },
   {
    "duration": 5,
    "start_time": "2022-08-11T14:11:16.511Z"
   },
   {
    "duration": 593,
    "start_time": "2022-08-11T14:11:16.518Z"
   },
   {
    "duration": 347,
    "start_time": "2022-08-11T14:11:17.113Z"
   },
   {
    "duration": 165,
    "start_time": "2022-08-11T14:11:17.462Z"
   },
   {
    "duration": 305,
    "start_time": "2022-08-11T14:11:17.629Z"
   },
   {
    "duration": 160,
    "start_time": "2022-08-11T14:11:17.936Z"
   },
   {
    "duration": 3282,
    "start_time": "2022-08-11T14:12:14.659Z"
   },
   {
    "duration": 75,
    "start_time": "2022-08-11T14:12:17.944Z"
   },
   {
    "duration": 14,
    "start_time": "2022-08-11T14:12:18.021Z"
   },
   {
    "duration": 16,
    "start_time": "2022-08-11T14:12:18.037Z"
   },
   {
    "duration": 16,
    "start_time": "2022-08-11T14:12:18.055Z"
   },
   {
    "duration": 4,
    "start_time": "2022-08-11T14:12:18.073Z"
   },
   {
    "duration": 562,
    "start_time": "2022-08-11T14:12:18.078Z"
   },
   {
    "duration": 323,
    "start_time": "2022-08-11T14:12:18.641Z"
   },
   {
    "duration": 155,
    "start_time": "2022-08-11T14:12:18.966Z"
   },
   {
    "duration": 3178,
    "start_time": "2022-08-11T14:13:45.438Z"
   },
   {
    "duration": 71,
    "start_time": "2022-08-11T14:13:48.618Z"
   },
   {
    "duration": 13,
    "start_time": "2022-08-11T14:13:48.691Z"
   },
   {
    "duration": 13,
    "start_time": "2022-08-11T14:13:48.706Z"
   },
   {
    "duration": 20,
    "start_time": "2022-08-11T14:13:48.721Z"
   },
   {
    "duration": 4,
    "start_time": "2022-08-11T14:13:48.743Z"
   },
   {
    "duration": 580,
    "start_time": "2022-08-11T14:13:48.749Z"
   },
   {
    "duration": 375,
    "start_time": "2022-08-11T14:13:49.330Z"
   },
   {
    "duration": 172,
    "start_time": "2022-08-11T14:13:49.709Z"
   },
   {
    "duration": 148,
    "start_time": "2022-08-11T14:13:49.883Z"
   },
   {
    "duration": 163,
    "start_time": "2022-08-11T14:13:50.032Z"
   },
   {
    "duration": 44,
    "start_time": "2022-08-11T14:17:07.094Z"
   },
   {
    "duration": 8,
    "start_time": "2022-08-11T14:17:31.330Z"
   },
   {
    "duration": 3303,
    "start_time": "2022-08-11T14:17:41.070Z"
   },
   {
    "duration": 261,
    "start_time": "2022-08-11T14:17:44.375Z"
   },
   {
    "duration": 13,
    "start_time": "2022-08-11T14:17:44.638Z"
   },
   {
    "duration": 27,
    "start_time": "2022-08-11T14:17:44.653Z"
   },
   {
    "duration": 18,
    "start_time": "2022-08-11T14:17:44.682Z"
   },
   {
    "duration": 4,
    "start_time": "2022-08-11T14:17:44.702Z"
   },
   {
    "duration": 236,
    "start_time": "2022-08-11T14:17:44.707Z"
   },
   {
    "duration": 160,
    "start_time": "2022-08-11T14:17:44.945Z"
   },
   {
    "duration": 17,
    "start_time": "2022-08-11T14:17:45.107Z"
   },
   {
    "duration": 599,
    "start_time": "2022-08-11T14:17:45.125Z"
   },
   {
    "duration": 262,
    "start_time": "2022-08-11T14:17:45.726Z"
   },
   {
    "duration": 217,
    "start_time": "2022-08-11T14:18:14.994Z"
   },
   {
    "duration": 223,
    "start_time": "2022-08-11T14:18:25.302Z"
   },
   {
    "duration": 2042,
    "start_time": "2022-08-11T14:23:48.339Z"
   },
   {
    "duration": 3240,
    "start_time": "2022-08-11T14:23:56.995Z"
   },
   {
    "duration": 76,
    "start_time": "2022-08-11T14:24:00.237Z"
   },
   {
    "duration": 14,
    "start_time": "2022-08-11T14:24:00.315Z"
   },
   {
    "duration": 33,
    "start_time": "2022-08-11T14:24:00.331Z"
   },
   {
    "duration": 23,
    "start_time": "2022-08-11T14:24:00.367Z"
   },
   {
    "duration": 6,
    "start_time": "2022-08-11T14:24:00.392Z"
   },
   {
    "duration": 243,
    "start_time": "2022-08-11T14:24:00.408Z"
   },
   {
    "duration": 162,
    "start_time": "2022-08-11T14:24:00.653Z"
   },
   {
    "duration": 240,
    "start_time": "2022-08-11T14:24:00.817Z"
   },
   {
    "duration": 586,
    "start_time": "2022-08-11T14:24:01.059Z"
   },
   {
    "duration": 284,
    "start_time": "2022-08-11T14:24:01.647Z"
   },
   {
    "duration": 182,
    "start_time": "2022-08-11T14:26:27.390Z"
   },
   {
    "duration": 1363,
    "start_time": "2022-08-11T14:27:14.216Z"
   },
   {
    "duration": 1049,
    "start_time": "2022-08-11T14:27:40.387Z"
   },
   {
    "duration": 235,
    "start_time": "2022-08-11T14:27:58.317Z"
   },
   {
    "duration": 305,
    "start_time": "2022-08-11T14:28:04.717Z"
   },
   {
    "duration": 222,
    "start_time": "2022-08-11T14:28:14.100Z"
   },
   {
    "duration": 1325,
    "start_time": "2022-08-11T14:29:14.867Z"
   },
   {
    "duration": 148,
    "start_time": "2022-08-11T14:29:38.364Z"
   },
   {
    "duration": 154,
    "start_time": "2022-08-11T14:30:10.516Z"
   },
   {
    "duration": 3182,
    "start_time": "2022-08-11T14:57:22.854Z"
   },
   {
    "duration": 72,
    "start_time": "2022-08-11T14:57:26.038Z"
   },
   {
    "duration": 14,
    "start_time": "2022-08-11T14:57:26.111Z"
   },
   {
    "duration": 14,
    "start_time": "2022-08-11T14:57:26.127Z"
   },
   {
    "duration": 18,
    "start_time": "2022-08-11T14:57:26.144Z"
   },
   {
    "duration": 6,
    "start_time": "2022-08-11T14:57:26.163Z"
   },
   {
    "duration": 273,
    "start_time": "2022-08-11T14:57:26.170Z"
   },
   {
    "duration": 147,
    "start_time": "2022-08-11T14:57:26.445Z"
   },
   {
    "duration": 1112,
    "start_time": "2022-08-11T14:57:26.594Z"
   },
   {
    "duration": 0,
    "start_time": "2022-08-11T14:57:27.708Z"
   },
   {
    "duration": 0,
    "start_time": "2022-08-11T14:57:27.709Z"
   },
   {
    "duration": 19,
    "start_time": "2022-08-11T14:58:03.655Z"
   },
   {
    "duration": 770,
    "start_time": "2022-08-11T14:58:23.449Z"
   },
   {
    "duration": 927,
    "start_time": "2022-08-11T14:58:44.884Z"
   },
   {
    "duration": 230,
    "start_time": "2022-08-11T14:58:58.553Z"
   },
   {
    "duration": 222,
    "start_time": "2022-08-11T14:59:20.991Z"
   },
   {
    "duration": 24,
    "start_time": "2022-08-11T15:00:24.842Z"
   },
   {
    "duration": 24,
    "start_time": "2022-08-11T15:00:38.121Z"
   },
   {
    "duration": 160,
    "start_time": "2022-08-11T15:00:50.729Z"
   },
   {
    "duration": 162,
    "start_time": "2022-08-11T15:01:20.158Z"
   },
   {
    "duration": 171,
    "start_time": "2022-08-11T15:01:34.609Z"
   },
   {
    "duration": 25,
    "start_time": "2022-08-11T15:02:11.250Z"
   },
   {
    "duration": 25,
    "start_time": "2022-08-11T15:02:38.320Z"
   },
   {
    "duration": 24,
    "start_time": "2022-08-11T15:02:49.355Z"
   },
   {
    "duration": 186,
    "start_time": "2022-08-11T15:02:54.891Z"
   },
   {
    "duration": 25,
    "start_time": "2022-08-11T15:04:10.987Z"
   },
   {
    "duration": 311,
    "start_time": "2022-08-11T15:04:19.482Z"
   },
   {
    "duration": 36,
    "start_time": "2022-08-11T15:05:37.387Z"
   },
   {
    "duration": 3234,
    "start_time": "2022-08-11T15:05:42.640Z"
   },
   {
    "duration": 72,
    "start_time": "2022-08-11T15:05:45.877Z"
   },
   {
    "duration": 19,
    "start_time": "2022-08-11T15:05:45.952Z"
   },
   {
    "duration": 18,
    "start_time": "2022-08-11T15:05:45.973Z"
   },
   {
    "duration": 33,
    "start_time": "2022-08-11T15:05:45.994Z"
   },
   {
    "duration": 7,
    "start_time": "2022-08-11T15:05:46.029Z"
   },
   {
    "duration": 274,
    "start_time": "2022-08-11T15:05:46.038Z"
   },
   {
    "duration": 148,
    "start_time": "2022-08-11T15:05:46.314Z"
   },
   {
    "duration": 131,
    "start_time": "2022-08-11T15:05:46.464Z"
   },
   {
    "duration": 0,
    "start_time": "2022-08-11T15:05:46.597Z"
   },
   {
    "duration": 0,
    "start_time": "2022-08-11T15:05:46.598Z"
   },
   {
    "duration": 166,
    "start_time": "2022-08-11T15:08:49.690Z"
   },
   {
    "duration": 26,
    "start_time": "2022-08-11T15:10:01.379Z"
   },
   {
    "duration": 174,
    "start_time": "2022-08-11T15:10:06.769Z"
   },
   {
    "duration": 25,
    "start_time": "2022-08-11T15:10:47.458Z"
   },
   {
    "duration": 227,
    "start_time": "2022-08-11T15:10:59.354Z"
   },
   {
    "duration": 20,
    "start_time": "2022-08-11T15:11:11.280Z"
   },
   {
    "duration": 217,
    "start_time": "2022-08-11T15:11:22.424Z"
   },
   {
    "duration": 3134,
    "start_time": "2022-08-11T15:11:29.826Z"
   },
   {
    "duration": 70,
    "start_time": "2022-08-11T15:11:32.962Z"
   },
   {
    "duration": 14,
    "start_time": "2022-08-11T15:11:33.034Z"
   },
   {
    "duration": 13,
    "start_time": "2022-08-11T15:11:33.050Z"
   },
   {
    "duration": 17,
    "start_time": "2022-08-11T15:11:33.066Z"
   },
   {
    "duration": 27,
    "start_time": "2022-08-11T15:11:33.085Z"
   },
   {
    "duration": 246,
    "start_time": "2022-08-11T15:11:33.114Z"
   },
   {
    "duration": 154,
    "start_time": "2022-08-11T15:11:33.362Z"
   },
   {
    "duration": 51,
    "start_time": "2022-08-11T15:11:33.517Z"
   },
   {
    "duration": 0,
    "start_time": "2022-08-11T15:11:33.569Z"
   },
   {
    "duration": 0,
    "start_time": "2022-08-11T15:11:33.570Z"
   },
   {
    "duration": 109,
    "start_time": "2022-08-11T15:11:40.960Z"
   },
   {
    "duration": 227,
    "start_time": "2022-08-11T15:12:04.243Z"
   },
   {
    "duration": 3278,
    "start_time": "2022-08-11T15:12:15.577Z"
   },
   {
    "duration": 72,
    "start_time": "2022-08-11T15:12:18.857Z"
   },
   {
    "duration": 14,
    "start_time": "2022-08-11T15:12:18.931Z"
   },
   {
    "duration": 21,
    "start_time": "2022-08-11T15:12:18.947Z"
   },
   {
    "duration": 16,
    "start_time": "2022-08-11T15:12:18.971Z"
   },
   {
    "duration": 22,
    "start_time": "2022-08-11T15:12:18.989Z"
   },
   {
    "duration": 247,
    "start_time": "2022-08-11T15:12:19.012Z"
   },
   {
    "duration": 154,
    "start_time": "2022-08-11T15:12:19.261Z"
   },
   {
    "duration": 103,
    "start_time": "2022-08-11T15:12:19.417Z"
   },
   {
    "duration": 0,
    "start_time": "2022-08-11T15:12:19.521Z"
   },
   {
    "duration": 0,
    "start_time": "2022-08-11T15:12:19.523Z"
   },
   {
    "duration": 204,
    "start_time": "2022-08-11T15:12:38.029Z"
   },
   {
    "duration": 211,
    "start_time": "2022-08-11T15:12:44.494Z"
   },
   {
    "duration": 109,
    "start_time": "2022-08-11T15:12:48.596Z"
   },
   {
    "duration": 218,
    "start_time": "2022-08-11T15:13:03.722Z"
   },
   {
    "duration": 23,
    "start_time": "2022-08-11T15:13:10.021Z"
   },
   {
    "duration": 229,
    "start_time": "2022-08-11T15:13:30.326Z"
   },
   {
    "duration": 3209,
    "start_time": "2022-08-11T15:13:36.251Z"
   },
   {
    "duration": 72,
    "start_time": "2022-08-11T15:13:39.462Z"
   },
   {
    "duration": 13,
    "start_time": "2022-08-11T15:13:39.535Z"
   },
   {
    "duration": 14,
    "start_time": "2022-08-11T15:13:39.549Z"
   },
   {
    "duration": 19,
    "start_time": "2022-08-11T15:13:39.565Z"
   },
   {
    "duration": 25,
    "start_time": "2022-08-11T15:13:39.585Z"
   },
   {
    "duration": 244,
    "start_time": "2022-08-11T15:13:39.612Z"
   },
   {
    "duration": 153,
    "start_time": "2022-08-11T15:13:39.858Z"
   },
   {
    "duration": 50,
    "start_time": "2022-08-11T15:13:40.013Z"
   },
   {
    "duration": 0,
    "start_time": "2022-08-11T15:13:40.065Z"
   },
   {
    "duration": 0,
    "start_time": "2022-08-11T15:13:40.066Z"
   },
   {
    "duration": 3184,
    "start_time": "2022-08-11T15:15:02.336Z"
   },
   {
    "duration": 69,
    "start_time": "2022-08-11T15:15:05.522Z"
   },
   {
    "duration": 12,
    "start_time": "2022-08-11T15:15:05.593Z"
   },
   {
    "duration": 20,
    "start_time": "2022-08-11T15:15:05.607Z"
   },
   {
    "duration": 21,
    "start_time": "2022-08-11T15:15:05.628Z"
   },
   {
    "duration": 5,
    "start_time": "2022-08-11T15:15:05.650Z"
   },
   {
    "duration": 259,
    "start_time": "2022-08-11T15:15:05.656Z"
   },
   {
    "duration": 185,
    "start_time": "2022-08-11T15:15:05.916Z"
   },
   {
    "duration": 51,
    "start_time": "2022-08-11T15:15:06.103Z"
   },
   {
    "duration": 0,
    "start_time": "2022-08-11T15:15:06.155Z"
   },
   {
    "duration": 0,
    "start_time": "2022-08-11T15:15:06.157Z"
   },
   {
    "duration": 207,
    "start_time": "2022-08-11T15:15:22.111Z"
   },
   {
    "duration": 212,
    "start_time": "2022-08-11T15:15:30.263Z"
   },
   {
    "duration": 108,
    "start_time": "2022-08-11T15:15:42.433Z"
   },
   {
    "duration": 214,
    "start_time": "2022-08-11T15:16:05.679Z"
   },
   {
    "duration": 3454,
    "start_time": "2022-08-11T15:16:54.606Z"
   },
   {
    "duration": 75,
    "start_time": "2022-08-11T15:16:58.062Z"
   },
   {
    "duration": 14,
    "start_time": "2022-08-11T15:16:58.138Z"
   },
   {
    "duration": 30,
    "start_time": "2022-08-11T15:16:58.154Z"
   },
   {
    "duration": 18,
    "start_time": "2022-08-11T15:16:58.186Z"
   },
   {
    "duration": 8,
    "start_time": "2022-08-11T15:16:58.209Z"
   },
   {
    "duration": 239,
    "start_time": "2022-08-11T15:16:58.218Z"
   },
   {
    "duration": 154,
    "start_time": "2022-08-11T15:16:58.459Z"
   },
   {
    "duration": 54,
    "start_time": "2022-08-11T15:16:58.614Z"
   },
   {
    "duration": 0,
    "start_time": "2022-08-11T15:16:58.669Z"
   },
   {
    "duration": 0,
    "start_time": "2022-08-11T15:16:58.670Z"
   },
   {
    "duration": 3071,
    "start_time": "2022-08-11T15:17:42.174Z"
   },
   {
    "duration": 73,
    "start_time": "2022-08-11T15:17:45.247Z"
   },
   {
    "duration": 14,
    "start_time": "2022-08-11T15:17:45.322Z"
   },
   {
    "duration": 18,
    "start_time": "2022-08-11T15:17:45.337Z"
   },
   {
    "duration": 16,
    "start_time": "2022-08-11T15:17:45.357Z"
   },
   {
    "duration": 4,
    "start_time": "2022-08-11T15:17:45.375Z"
   },
   {
    "duration": 259,
    "start_time": "2022-08-11T15:17:45.381Z"
   },
   {
    "duration": 153,
    "start_time": "2022-08-11T15:17:45.642Z"
   },
   {
    "duration": 54,
    "start_time": "2022-08-11T15:17:45.796Z"
   },
   {
    "duration": 0,
    "start_time": "2022-08-11T15:17:45.852Z"
   },
   {
    "duration": 0,
    "start_time": "2022-08-11T15:17:45.853Z"
   },
   {
    "duration": 223,
    "start_time": "2022-08-11T15:18:04.000Z"
   },
   {
    "duration": 164,
    "start_time": "2022-08-11T15:18:18.790Z"
   },
   {
    "duration": 163,
    "start_time": "2022-08-11T15:20:45.476Z"
   },
   {
    "duration": 116,
    "start_time": "2022-08-11T15:21:31.391Z"
   },
   {
    "duration": 25,
    "start_time": "2022-08-11T15:21:44.951Z"
   },
   {
    "duration": 662,
    "start_time": "2022-08-11T15:22:04.662Z"
   },
   {
    "duration": 652,
    "start_time": "2022-08-11T15:22:46.080Z"
   },
   {
    "duration": 261,
    "start_time": "2022-08-11T15:23:43.854Z"
   },
   {
    "duration": 19,
    "start_time": "2022-08-11T15:26:08.101Z"
   },
   {
    "duration": 334,
    "start_time": "2022-08-11T15:26:32.657Z"
   },
   {
    "duration": 13,
    "start_time": "2022-08-11T15:26:39.043Z"
   },
   {
    "duration": 183,
    "start_time": "2022-08-11T15:26:51.679Z"
   },
   {
    "duration": 240,
    "start_time": "2022-08-11T15:27:06.477Z"
   },
   {
    "duration": 226,
    "start_time": "2022-08-11T15:30:02.926Z"
   },
   {
    "duration": 229,
    "start_time": "2022-08-11T15:33:54.984Z"
   },
   {
    "duration": 217,
    "start_time": "2022-08-11T15:34:19.358Z"
   },
   {
    "duration": 236,
    "start_time": "2022-08-11T15:34:40.435Z"
   },
   {
    "duration": 239,
    "start_time": "2022-08-11T15:34:54.984Z"
   },
   {
    "duration": 211,
    "start_time": "2022-08-11T15:35:28.144Z"
   },
   {
    "duration": 69,
    "start_time": "2022-08-11T15:41:34.099Z"
   },
   {
    "duration": 9,
    "start_time": "2022-08-11T15:41:54.810Z"
   },
   {
    "duration": 662,
    "start_time": "2022-08-11T15:41:56.875Z"
   },
   {
    "duration": 73,
    "start_time": "2022-08-11T15:42:07.386Z"
   },
   {
    "duration": 14,
    "start_time": "2022-08-11T15:42:40.268Z"
   },
   {
    "duration": 11,
    "start_time": "2022-08-11T15:42:53.494Z"
   },
   {
    "duration": 10,
    "start_time": "2022-08-11T15:44:41.867Z"
   },
   {
    "duration": 9,
    "start_time": "2022-08-11T15:44:58.844Z"
   },
   {
    "duration": 9,
    "start_time": "2022-08-11T15:45:16.868Z"
   },
   {
    "duration": 46,
    "start_time": "2022-08-11T15:45:37.918Z"
   },
   {
    "duration": 11,
    "start_time": "2022-08-11T15:45:43.876Z"
   },
   {
    "duration": 5,
    "start_time": "2022-08-11T15:46:10.018Z"
   },
   {
    "duration": 154,
    "start_time": "2022-08-11T15:46:25.757Z"
   },
   {
    "duration": 8,
    "start_time": "2022-08-11T15:46:34.052Z"
   },
   {
    "duration": 15,
    "start_time": "2022-08-11T15:47:50.263Z"
   },
   {
    "duration": 19,
    "start_time": "2022-08-11T15:49:22.117Z"
   },
   {
    "duration": 19,
    "start_time": "2022-08-11T15:49:41.516Z"
   },
   {
    "duration": 356,
    "start_time": "2022-08-11T16:00:58.680Z"
   },
   {
    "duration": 10,
    "start_time": "2022-08-11T16:03:59.273Z"
   },
   {
    "duration": 9,
    "start_time": "2022-08-11T16:04:23.882Z"
   },
   {
    "duration": 6,
    "start_time": "2022-08-11T16:19:51.007Z"
   },
   {
    "duration": 14,
    "start_time": "2022-08-11T16:21:22.625Z"
   },
   {
    "duration": 7,
    "start_time": "2022-08-11T16:21:40.650Z"
   },
   {
    "duration": 84,
    "start_time": "2022-08-11T16:24:16.505Z"
   },
   {
    "duration": 91,
    "start_time": "2022-08-11T16:24:27.356Z"
   },
   {
    "duration": 142,
    "start_time": "2022-08-11T16:25:10.025Z"
   },
   {
    "duration": 145,
    "start_time": "2022-08-11T16:25:31.058Z"
   },
   {
    "duration": 62,
    "start_time": "2022-08-11T16:26:03.777Z"
   },
   {
    "duration": 58,
    "start_time": "2022-08-11T16:26:43.922Z"
   },
   {
    "duration": 73,
    "start_time": "2022-08-11T16:28:11.340Z"
   },
   {
    "duration": 36,
    "start_time": "2022-08-11T16:28:37.567Z"
   },
   {
    "duration": 17,
    "start_time": "2022-08-11T16:29:03.748Z"
   },
   {
    "duration": 6,
    "start_time": "2022-08-11T16:30:13.619Z"
   },
   {
    "duration": 10,
    "start_time": "2022-08-11T16:30:20.154Z"
   },
   {
    "duration": 22,
    "start_time": "2022-08-11T16:32:31.686Z"
   },
   {
    "duration": 20,
    "start_time": "2022-08-11T16:32:46.958Z"
   },
   {
    "duration": 9,
    "start_time": "2022-08-11T16:33:49.136Z"
   },
   {
    "duration": 12,
    "start_time": "2022-08-11T16:33:59.688Z"
   },
   {
    "duration": 8,
    "start_time": "2022-08-11T16:34:56.489Z"
   },
   {
    "duration": 3209,
    "start_time": "2022-08-11T16:35:11.430Z"
   },
   {
    "duration": 69,
    "start_time": "2022-08-11T16:35:14.641Z"
   },
   {
    "duration": 12,
    "start_time": "2022-08-11T16:35:14.712Z"
   },
   {
    "duration": 13,
    "start_time": "2022-08-11T16:35:14.726Z"
   },
   {
    "duration": 21,
    "start_time": "2022-08-11T16:35:14.741Z"
   },
   {
    "duration": 6,
    "start_time": "2022-08-11T16:35:14.764Z"
   },
   {
    "duration": 256,
    "start_time": "2022-08-11T16:35:14.772Z"
   },
   {
    "duration": 159,
    "start_time": "2022-08-11T16:35:15.031Z"
   },
   {
    "duration": 250,
    "start_time": "2022-08-11T16:35:15.192Z"
   },
   {
    "duration": 20,
    "start_time": "2022-08-11T16:35:15.443Z"
   },
   {
    "duration": 3,
    "start_time": "2022-08-11T16:35:15.464Z"
   },
   {
    "duration": 24,
    "start_time": "2022-08-11T16:35:15.468Z"
   },
   {
    "duration": 10,
    "start_time": "2022-08-11T16:35:15.508Z"
   },
   {
    "duration": 597,
    "start_time": "2022-08-11T16:35:15.520Z"
   },
   {
    "duration": 215,
    "start_time": "2022-08-11T16:35:16.119Z"
   },
   {
    "duration": 31,
    "start_time": "2022-08-11T16:36:37.157Z"
   },
   {
    "duration": 15,
    "start_time": "2022-08-11T16:36:51.508Z"
   },
   {
    "duration": 1386,
    "start_time": "2022-08-11T16:39:13.410Z"
   },
   {
    "duration": 846,
    "start_time": "2022-08-11T16:40:24.251Z"
   },
   {
    "duration": 826,
    "start_time": "2022-08-11T16:41:21.935Z"
   },
   {
    "duration": 798,
    "start_time": "2022-08-11T16:41:39.477Z"
   },
   {
    "duration": 1078,
    "start_time": "2022-08-11T16:42:02.710Z"
   },
   {
    "duration": 1125,
    "start_time": "2022-08-11T16:43:52.926Z"
   },
   {
    "duration": 1006,
    "start_time": "2022-08-11T16:44:06.959Z"
   },
   {
    "duration": 835,
    "start_time": "2022-08-11T16:44:18.863Z"
   },
   {
    "duration": 1955,
    "start_time": "2022-08-11T16:44:30.574Z"
   },
   {
    "duration": 3211,
    "start_time": "2022-08-11T16:46:00.997Z"
   },
   {
    "duration": 70,
    "start_time": "2022-08-11T16:46:04.210Z"
   },
   {
    "duration": 13,
    "start_time": "2022-08-11T16:46:04.285Z"
   },
   {
    "duration": 14,
    "start_time": "2022-08-11T16:46:04.299Z"
   },
   {
    "duration": 26,
    "start_time": "2022-08-11T16:46:04.315Z"
   },
   {
    "duration": 5,
    "start_time": "2022-08-11T16:46:04.342Z"
   },
   {
    "duration": 259,
    "start_time": "2022-08-11T16:46:04.349Z"
   },
   {
    "duration": 161,
    "start_time": "2022-08-11T16:46:04.610Z"
   },
   {
    "duration": 271,
    "start_time": "2022-08-11T16:46:04.774Z"
   },
   {
    "duration": 22,
    "start_time": "2022-08-11T16:46:05.047Z"
   },
   {
    "duration": 6,
    "start_time": "2022-08-11T16:46:05.071Z"
   },
   {
    "duration": 45,
    "start_time": "2022-08-11T16:46:05.079Z"
   },
   {
    "duration": 12,
    "start_time": "2022-08-11T16:46:05.126Z"
   },
   {
    "duration": 942,
    "start_time": "2022-08-11T16:46:05.140Z"
   },
   {
    "duration": 562,
    "start_time": "2022-08-11T16:46:06.084Z"
   },
   {
    "duration": 231,
    "start_time": "2022-08-11T16:46:06.649Z"
   },
   {
    "duration": 758,
    "start_time": "2022-08-11T16:46:54.862Z"
   },
   {
    "duration": 3181,
    "start_time": "2022-08-11T17:01:16.461Z"
   },
   {
    "duration": 74,
    "start_time": "2022-08-11T17:01:19.644Z"
   },
   {
    "duration": 14,
    "start_time": "2022-08-11T17:01:19.720Z"
   },
   {
    "duration": 42,
    "start_time": "2022-08-11T17:01:19.736Z"
   },
   {
    "duration": 39,
    "start_time": "2022-08-11T17:01:19.780Z"
   },
   {
    "duration": 19,
    "start_time": "2022-08-11T17:01:19.820Z"
   },
   {
    "duration": 248,
    "start_time": "2022-08-11T17:01:19.841Z"
   },
   {
    "duration": 149,
    "start_time": "2022-08-11T17:01:20.090Z"
   },
   {
    "duration": 249,
    "start_time": "2022-08-11T17:01:20.241Z"
   },
   {
    "duration": 28,
    "start_time": "2022-08-11T17:01:20.492Z"
   },
   {
    "duration": 3,
    "start_time": "2022-08-11T17:01:20.521Z"
   },
   {
    "duration": 30,
    "start_time": "2022-08-11T17:01:20.525Z"
   },
   {
    "duration": 12,
    "start_time": "2022-08-11T17:01:20.556Z"
   },
   {
    "duration": 869,
    "start_time": "2022-08-11T17:01:20.569Z"
   },
   {
    "duration": 581,
    "start_time": "2022-08-11T17:01:21.440Z"
   },
   {
    "duration": 201,
    "start_time": "2022-08-11T17:01:22.023Z"
   },
   {
    "duration": 746,
    "start_time": "2022-08-11T17:02:11.977Z"
   },
   {
    "duration": 225,
    "start_time": "2022-08-11T17:05:06.892Z"
   },
   {
    "duration": 3434,
    "start_time": "2022-08-11T17:05:13.712Z"
   },
   {
    "duration": 70,
    "start_time": "2022-08-11T17:05:17.148Z"
   },
   {
    "duration": 13,
    "start_time": "2022-08-11T17:05:17.220Z"
   },
   {
    "duration": 15,
    "start_time": "2022-08-11T17:05:17.235Z"
   },
   {
    "duration": 18,
    "start_time": "2022-08-11T17:05:17.252Z"
   },
   {
    "duration": 5,
    "start_time": "2022-08-11T17:05:17.272Z"
   },
   {
    "duration": 346,
    "start_time": "2022-08-11T17:05:17.310Z"
   },
   {
    "duration": 156,
    "start_time": "2022-08-11T17:05:17.658Z"
   },
   {
    "duration": 266,
    "start_time": "2022-08-11T17:05:17.815Z"
   },
   {
    "duration": 32,
    "start_time": "2022-08-11T17:05:18.083Z"
   },
   {
    "duration": 2,
    "start_time": "2022-08-11T17:05:18.117Z"
   },
   {
    "duration": 35,
    "start_time": "2022-08-11T17:05:18.120Z"
   },
   {
    "duration": 13,
    "start_time": "2022-08-11T17:05:18.157Z"
   },
   {
    "duration": 905,
    "start_time": "2022-08-11T17:05:18.173Z"
   },
   {
    "duration": 556,
    "start_time": "2022-08-11T17:05:19.080Z"
   },
   {
    "duration": 248,
    "start_time": "2022-08-11T17:05:19.638Z"
   },
   {
    "duration": 247,
    "start_time": "2022-08-11T17:06:42.167Z"
   },
   {
    "duration": 3656,
    "start_time": "2022-08-11T17:06:49.894Z"
   },
   {
    "duration": 72,
    "start_time": "2022-08-11T17:06:53.552Z"
   },
   {
    "duration": 19,
    "start_time": "2022-08-11T17:06:53.627Z"
   },
   {
    "duration": 13,
    "start_time": "2022-08-11T17:06:53.648Z"
   },
   {
    "duration": 18,
    "start_time": "2022-08-11T17:06:53.663Z"
   },
   {
    "duration": 31,
    "start_time": "2022-08-11T17:06:53.683Z"
   },
   {
    "duration": 276,
    "start_time": "2022-08-11T17:06:53.717Z"
   },
   {
    "duration": 171,
    "start_time": "2022-08-11T17:06:53.994Z"
   },
   {
    "duration": 301,
    "start_time": "2022-08-11T17:06:54.167Z"
   },
   {
    "duration": 22,
    "start_time": "2022-08-11T17:06:54.470Z"
   },
   {
    "duration": 2,
    "start_time": "2022-08-11T17:06:54.493Z"
   },
   {
    "duration": 38,
    "start_time": "2022-08-11T17:06:54.508Z"
   },
   {
    "duration": 12,
    "start_time": "2022-08-11T17:06:54.548Z"
   },
   {
    "duration": 1024,
    "start_time": "2022-08-11T17:06:54.562Z"
   },
   {
    "duration": 669,
    "start_time": "2022-08-11T17:06:55.588Z"
   },
   {
    "duration": 235,
    "start_time": "2022-08-11T17:06:56.309Z"
   },
   {
    "duration": 252,
    "start_time": "2022-08-11T17:07:12.263Z"
   },
   {
    "duration": 19,
    "start_time": "2022-08-11T17:55:55.148Z"
   },
   {
    "duration": 8,
    "start_time": "2022-08-11T17:56:13.912Z"
   },
   {
    "duration": 26,
    "start_time": "2022-08-11T17:56:46.929Z"
   },
   {
    "duration": 10,
    "start_time": "2022-08-11T17:56:50.079Z"
   },
   {
    "duration": 782,
    "start_time": "2022-08-11T17:57:25.247Z"
   },
   {
    "duration": 3156,
    "start_time": "2022-08-11T17:58:21.696Z"
   },
   {
    "duration": 69,
    "start_time": "2022-08-11T17:58:24.855Z"
   },
   {
    "duration": 13,
    "start_time": "2022-08-11T17:58:24.926Z"
   },
   {
    "duration": 39,
    "start_time": "2022-08-11T17:58:24.942Z"
   },
   {
    "duration": 40,
    "start_time": "2022-08-11T17:58:24.983Z"
   },
   {
    "duration": 9,
    "start_time": "2022-08-11T17:58:25.025Z"
   },
   {
    "duration": 265,
    "start_time": "2022-08-11T17:58:25.036Z"
   },
   {
    "duration": 155,
    "start_time": "2022-08-11T17:58:25.303Z"
   },
   {
    "duration": 277,
    "start_time": "2022-08-11T17:58:25.460Z"
   },
   {
    "duration": 21,
    "start_time": "2022-08-11T17:58:25.740Z"
   },
   {
    "duration": 19,
    "start_time": "2022-08-11T17:58:25.763Z"
   },
   {
    "duration": 34,
    "start_time": "2022-08-11T17:58:25.783Z"
   },
   {
    "duration": 13,
    "start_time": "2022-08-11T17:58:25.818Z"
   },
   {
    "duration": 857,
    "start_time": "2022-08-11T17:58:25.833Z"
   },
   {
    "duration": 538,
    "start_time": "2022-08-11T17:58:26.692Z"
   },
   {
    "duration": 254,
    "start_time": "2022-08-11T17:58:27.233Z"
   },
   {
    "duration": 74,
    "start_time": "2022-08-12T07:52:55.993Z"
   },
   {
    "duration": 4352,
    "start_time": "2022-08-12T07:53:05.528Z"
   },
   {
    "duration": 319,
    "start_time": "2022-08-12T07:53:09.883Z"
   },
   {
    "duration": 18,
    "start_time": "2022-08-12T07:53:10.204Z"
   },
   {
    "duration": 28,
    "start_time": "2022-08-12T07:53:10.224Z"
   },
   {
    "duration": 24,
    "start_time": "2022-08-12T07:53:10.253Z"
   },
   {
    "duration": 5,
    "start_time": "2022-08-12T07:53:10.279Z"
   },
   {
    "duration": 336,
    "start_time": "2022-08-12T07:53:10.285Z"
   },
   {
    "duration": 172,
    "start_time": "2022-08-12T07:53:10.623Z"
   },
   {
    "duration": 322,
    "start_time": "2022-08-12T07:53:10.797Z"
   },
   {
    "duration": 26,
    "start_time": "2022-08-12T07:53:11.121Z"
   },
   {
    "duration": 2,
    "start_time": "2022-08-12T07:53:11.149Z"
   },
   {
    "duration": 35,
    "start_time": "2022-08-12T07:53:11.153Z"
   },
   {
    "duration": 20,
    "start_time": "2022-08-12T07:53:11.190Z"
   },
   {
    "duration": 947,
    "start_time": "2022-08-12T07:53:11.212Z"
   },
   {
    "duration": 681,
    "start_time": "2022-08-12T07:53:12.161Z"
   },
   {
    "duration": 318,
    "start_time": "2022-08-12T07:53:12.844Z"
   },
   {
    "duration": 167,
    "start_time": "2022-08-12T07:53:19.576Z"
   },
   {
    "duration": 33,
    "start_time": "2022-08-12T07:56:57.979Z"
   },
   {
    "duration": 20,
    "start_time": "2022-08-12T07:57:32.968Z"
   },
   {
    "duration": 285,
    "start_time": "2022-08-12T07:59:42.771Z"
   },
   {
    "duration": 17,
    "start_time": "2022-08-12T08:00:17.338Z"
   },
   {
    "duration": 302,
    "start_time": "2022-08-12T08:00:31.634Z"
   },
   {
    "duration": 257,
    "start_time": "2022-08-12T08:08:40.783Z"
   },
   {
    "duration": 899,
    "start_time": "2022-08-12T08:11:02.337Z"
   },
   {
    "duration": 3607,
    "start_time": "2022-08-12T08:11:21.656Z"
   },
   {
    "duration": 82,
    "start_time": "2022-08-12T08:11:25.266Z"
   },
   {
    "duration": 17,
    "start_time": "2022-08-12T08:11:25.349Z"
   },
   {
    "duration": 22,
    "start_time": "2022-08-12T08:11:25.368Z"
   },
   {
    "duration": 37,
    "start_time": "2022-08-12T08:11:25.391Z"
   },
   {
    "duration": 5,
    "start_time": "2022-08-12T08:11:25.430Z"
   },
   {
    "duration": 275,
    "start_time": "2022-08-12T08:11:25.436Z"
   },
   {
    "duration": 149,
    "start_time": "2022-08-12T08:11:25.713Z"
   },
   {
    "duration": 279,
    "start_time": "2022-08-12T08:11:25.864Z"
   },
   {
    "duration": 21,
    "start_time": "2022-08-12T08:11:26.146Z"
   },
   {
    "duration": 3,
    "start_time": "2022-08-12T08:11:26.169Z"
   },
   {
    "duration": 50,
    "start_time": "2022-08-12T08:11:26.173Z"
   },
   {
    "duration": 10,
    "start_time": "2022-08-12T08:11:26.225Z"
   },
   {
    "duration": 875,
    "start_time": "2022-08-12T08:11:26.236Z"
   },
   {
    "duration": 18,
    "start_time": "2022-08-12T08:11:27.112Z"
   },
   {
    "duration": 249,
    "start_time": "2022-08-12T08:11:27.132Z"
   },
   {
    "duration": 632,
    "start_time": "2022-08-12T08:11:27.382Z"
   },
   {
    "duration": 258,
    "start_time": "2022-08-12T08:11:28.017Z"
   },
   {
    "duration": 812,
    "start_time": "2022-08-12T08:11:48.328Z"
   },
   {
    "duration": 823,
    "start_time": "2022-08-12T08:13:09.788Z"
   },
   {
    "duration": 876,
    "start_time": "2022-08-12T08:14:05.385Z"
   },
   {
    "duration": 893,
    "start_time": "2022-08-12T08:21:24.416Z"
   },
   {
    "duration": 852,
    "start_time": "2022-08-12T08:21:32.738Z"
   },
   {
    "duration": 833,
    "start_time": "2022-08-12T08:21:47.546Z"
   },
   {
    "duration": 833,
    "start_time": "2022-08-12T08:22:23.345Z"
   },
   {
    "duration": 2599,
    "start_time": "2022-08-12T08:32:39.125Z"
   },
   {
    "duration": 2318,
    "start_time": "2022-08-12T08:33:35.955Z"
   },
   {
    "duration": 2269,
    "start_time": "2022-08-12T09:25:06.611Z"
   },
   {
    "duration": 2223,
    "start_time": "2022-08-12T09:47:24.663Z"
   },
   {
    "duration": 3535,
    "start_time": "2022-08-12T09:47:37.200Z"
   },
   {
    "duration": 74,
    "start_time": "2022-08-12T09:47:40.738Z"
   },
   {
    "duration": 14,
    "start_time": "2022-08-12T09:47:40.814Z"
   },
   {
    "duration": 38,
    "start_time": "2022-08-12T09:47:40.830Z"
   },
   {
    "duration": 20,
    "start_time": "2022-08-12T09:47:40.870Z"
   },
   {
    "duration": 11,
    "start_time": "2022-08-12T09:47:40.891Z"
   },
   {
    "duration": 265,
    "start_time": "2022-08-12T09:47:40.904Z"
   },
   {
    "duration": 147,
    "start_time": "2022-08-12T09:47:41.171Z"
   },
   {
    "duration": 279,
    "start_time": "2022-08-12T09:47:41.320Z"
   },
   {
    "duration": 21,
    "start_time": "2022-08-12T09:47:41.602Z"
   },
   {
    "duration": 6,
    "start_time": "2022-08-12T09:47:41.624Z"
   },
   {
    "duration": 35,
    "start_time": "2022-08-12T09:47:41.632Z"
   },
   {
    "duration": 38,
    "start_time": "2022-08-12T09:47:41.669Z"
   },
   {
    "duration": 866,
    "start_time": "2022-08-12T09:47:41.708Z"
   },
   {
    "duration": 24,
    "start_time": "2022-08-12T09:47:42.576Z"
   },
   {
    "duration": 255,
    "start_time": "2022-08-12T09:47:42.601Z"
   },
   {
    "duration": 55,
    "start_time": "2022-08-12T09:47:42.857Z"
   },
   {
    "duration": 0,
    "start_time": "2022-08-12T09:47:42.913Z"
   },
   {
    "duration": 0,
    "start_time": "2022-08-12T09:47:42.914Z"
   },
   {
    "duration": 61,
    "start_time": "2022-08-12T10:00:42.791Z"
   },
   {
    "duration": 62,
    "start_time": "2022-08-12T10:01:31.870Z"
   },
   {
    "duration": 85,
    "start_time": "2022-08-12T10:01:37.174Z"
   },
   {
    "duration": 71,
    "start_time": "2022-08-12T10:01:48.852Z"
   },
   {
    "duration": 75,
    "start_time": "2022-08-12T10:01:57.717Z"
   },
   {
    "duration": 136,
    "start_time": "2022-08-12T10:02:20.093Z"
   },
   {
    "duration": 24,
    "start_time": "2022-08-12T10:02:42.027Z"
   },
   {
    "duration": 23,
    "start_time": "2022-08-12T10:03:23.268Z"
   },
   {
    "duration": 41,
    "start_time": "2022-08-12T10:07:03.969Z"
   },
   {
    "duration": 37,
    "start_time": "2022-08-12T10:07:35.821Z"
   },
   {
    "duration": 66,
    "start_time": "2022-08-12T10:08:51.893Z"
   },
   {
    "duration": 3678,
    "start_time": "2022-08-12T10:09:02.787Z"
   },
   {
    "duration": 263,
    "start_time": "2022-08-12T10:09:06.468Z"
   },
   {
    "duration": 16,
    "start_time": "2022-08-12T10:09:06.734Z"
   },
   {
    "duration": 14,
    "start_time": "2022-08-12T10:09:06.753Z"
   },
   {
    "duration": 42,
    "start_time": "2022-08-12T10:09:06.769Z"
   },
   {
    "duration": 6,
    "start_time": "2022-08-12T10:09:06.812Z"
   },
   {
    "duration": 269,
    "start_time": "2022-08-12T10:09:06.820Z"
   },
   {
    "duration": 153,
    "start_time": "2022-08-12T10:09:07.091Z"
   },
   {
    "duration": 304,
    "start_time": "2022-08-12T10:09:07.246Z"
   },
   {
    "duration": 24,
    "start_time": "2022-08-12T10:09:07.554Z"
   },
   {
    "duration": 30,
    "start_time": "2022-08-12T10:09:07.579Z"
   },
   {
    "duration": 35,
    "start_time": "2022-08-12T10:09:07.610Z"
   },
   {
    "duration": 10,
    "start_time": "2022-08-12T10:09:07.646Z"
   },
   {
    "duration": 912,
    "start_time": "2022-08-12T10:09:07.658Z"
   },
   {
    "duration": 32,
    "start_time": "2022-08-12T10:09:08.572Z"
   },
   {
    "duration": 261,
    "start_time": "2022-08-12T10:09:08.606Z"
   },
   {
    "duration": 40,
    "start_time": "2022-08-12T10:09:08.869Z"
   },
   {
    "duration": 55,
    "start_time": "2022-08-12T10:09:40.827Z"
   },
   {
    "duration": 3552,
    "start_time": "2022-08-12T10:09:49.211Z"
   },
   {
    "duration": 267,
    "start_time": "2022-08-12T10:09:52.766Z"
   },
   {
    "duration": 16,
    "start_time": "2022-08-12T10:09:53.035Z"
   },
   {
    "duration": 19,
    "start_time": "2022-08-12T10:09:53.053Z"
   },
   {
    "duration": 38,
    "start_time": "2022-08-12T10:09:53.074Z"
   },
   {
    "duration": 5,
    "start_time": "2022-08-12T10:09:53.114Z"
   },
   {
    "duration": 274,
    "start_time": "2022-08-12T10:09:53.121Z"
   },
   {
    "duration": 152,
    "start_time": "2022-08-12T10:09:53.409Z"
   },
   {
    "duration": 294,
    "start_time": "2022-08-12T10:09:53.563Z"
   },
   {
    "duration": 23,
    "start_time": "2022-08-12T10:09:53.860Z"
   },
   {
    "duration": 23,
    "start_time": "2022-08-12T10:09:53.885Z"
   },
   {
    "duration": 30,
    "start_time": "2022-08-12T10:09:53.910Z"
   },
   {
    "duration": 11,
    "start_time": "2022-08-12T10:09:53.942Z"
   },
   {
    "duration": 992,
    "start_time": "2022-08-12T10:09:53.954Z"
   },
   {
    "duration": 19,
    "start_time": "2022-08-12T10:09:54.949Z"
   },
   {
    "duration": 298,
    "start_time": "2022-08-12T10:09:54.970Z"
   },
   {
    "duration": 45,
    "start_time": "2022-08-12T10:09:55.270Z"
   },
   {
    "duration": 59,
    "start_time": "2022-08-12T10:10:26.265Z"
   },
   {
    "duration": 3623,
    "start_time": "2022-08-12T10:10:34.689Z"
   },
   {
    "duration": 296,
    "start_time": "2022-08-12T10:10:38.314Z"
   },
   {
    "duration": 15,
    "start_time": "2022-08-12T10:10:38.612Z"
   },
   {
    "duration": 23,
    "start_time": "2022-08-12T10:10:38.629Z"
   },
   {
    "duration": 28,
    "start_time": "2022-08-12T10:10:38.654Z"
   },
   {
    "duration": 5,
    "start_time": "2022-08-12T10:10:38.684Z"
   },
   {
    "duration": 283,
    "start_time": "2022-08-12T10:10:38.690Z"
   },
   {
    "duration": 149,
    "start_time": "2022-08-12T10:10:38.975Z"
   },
   {
    "duration": 287,
    "start_time": "2022-08-12T10:10:39.126Z"
   },
   {
    "duration": 23,
    "start_time": "2022-08-12T10:10:39.417Z"
   },
   {
    "duration": 3,
    "start_time": "2022-08-12T10:10:39.442Z"
   },
   {
    "duration": 66,
    "start_time": "2022-08-12T10:10:39.447Z"
   },
   {
    "duration": 10,
    "start_time": "2022-08-12T10:10:39.516Z"
   },
   {
    "duration": 906,
    "start_time": "2022-08-12T10:10:39.527Z"
   },
   {
    "duration": 21,
    "start_time": "2022-08-12T10:10:40.435Z"
   },
   {
    "duration": 297,
    "start_time": "2022-08-12T10:10:40.458Z"
   },
   {
    "duration": 42,
    "start_time": "2022-08-12T10:10:40.756Z"
   },
   {
    "duration": 335,
    "start_time": "2022-08-12T10:11:45.719Z"
   },
   {
    "duration": 49,
    "start_time": "2022-08-12T10:34:09.548Z"
   },
   {
    "duration": 3340,
    "start_time": "2022-08-12T10:34:19.130Z"
   },
   {
    "duration": 79,
    "start_time": "2022-08-12T10:34:22.472Z"
   },
   {
    "duration": 14,
    "start_time": "2022-08-12T10:34:22.553Z"
   },
   {
    "duration": 31,
    "start_time": "2022-08-12T10:34:22.569Z"
   },
   {
    "duration": 19,
    "start_time": "2022-08-12T10:34:22.603Z"
   },
   {
    "duration": 5,
    "start_time": "2022-08-12T10:34:22.623Z"
   },
   {
    "duration": 278,
    "start_time": "2022-08-12T10:34:22.630Z"
   },
   {
    "duration": 160,
    "start_time": "2022-08-12T10:34:22.909Z"
   },
   {
    "duration": 287,
    "start_time": "2022-08-12T10:34:23.072Z"
   },
   {
    "duration": 22,
    "start_time": "2022-08-12T10:34:23.360Z"
   },
   {
    "duration": 14,
    "start_time": "2022-08-12T10:34:23.384Z"
   },
   {
    "duration": 28,
    "start_time": "2022-08-12T10:34:23.401Z"
   },
   {
    "duration": 11,
    "start_time": "2022-08-12T10:34:23.431Z"
   },
   {
    "duration": 931,
    "start_time": "2022-08-12T10:34:23.445Z"
   },
   {
    "duration": 31,
    "start_time": "2022-08-12T10:34:24.378Z"
   },
   {
    "duration": 324,
    "start_time": "2022-08-12T10:34:24.411Z"
   },
   {
    "duration": 2,
    "start_time": "2022-08-12T10:34:24.738Z"
   },
   {
    "duration": 144,
    "start_time": "2022-08-12T10:34:24.742Z"
   },
   {
    "duration": 0,
    "start_time": "2022-08-12T10:34:24.888Z"
   },
   {
    "duration": 0,
    "start_time": "2022-08-12T10:34:24.889Z"
   },
   {
    "duration": 10,
    "start_time": "2022-08-12T10:36:49.575Z"
   },
   {
    "duration": 10,
    "start_time": "2022-08-12T10:37:02.573Z"
   },
   {
    "duration": 247,
    "start_time": "2022-08-12T10:45:53.222Z"
   },
   {
    "duration": 30,
    "start_time": "2022-08-12T10:46:04.319Z"
   },
   {
    "duration": 22,
    "start_time": "2022-08-12T10:46:24.452Z"
   },
   {
    "duration": 95,
    "start_time": "2022-08-12T10:47:25.775Z"
   },
   {
    "duration": 17,
    "start_time": "2022-08-12T10:47:27.995Z"
   },
   {
    "duration": 21,
    "start_time": "2022-08-12T10:47:44.974Z"
   },
   {
    "duration": 16,
    "start_time": "2022-08-12T10:47:46.379Z"
   },
   {
    "duration": 41,
    "start_time": "2022-08-12T10:48:20.933Z"
   },
   {
    "duration": 45,
    "start_time": "2022-08-12T10:48:52.886Z"
   },
   {
    "duration": 15,
    "start_time": "2022-08-12T10:48:55.275Z"
   },
   {
    "duration": 41,
    "start_time": "2022-08-12T10:49:12.477Z"
   },
   {
    "duration": 18,
    "start_time": "2022-08-12T10:49:13.680Z"
   },
   {
    "duration": 32,
    "start_time": "2022-08-12T10:52:30.128Z"
   },
   {
    "duration": 18,
    "start_time": "2022-08-12T10:52:31.226Z"
   },
   {
    "duration": 115,
    "start_time": "2022-08-12T10:53:15.081Z"
   },
   {
    "duration": 17,
    "start_time": "2022-08-12T10:53:16.115Z"
   },
   {
    "duration": 36,
    "start_time": "2022-08-12T10:53:25.911Z"
   },
   {
    "duration": 18,
    "start_time": "2022-08-12T10:53:28.354Z"
   },
   {
    "duration": 28,
    "start_time": "2022-08-12T11:07:54.137Z"
   },
   {
    "duration": 21,
    "start_time": "2022-08-12T11:07:55.152Z"
   },
   {
    "duration": 49,
    "start_time": "2022-08-12T11:09:24.986Z"
   },
   {
    "duration": 18,
    "start_time": "2022-08-12T11:09:29.470Z"
   },
   {
    "duration": 695,
    "start_time": "2022-08-12T11:10:03.617Z"
   },
   {
    "duration": 23,
    "start_time": "2022-08-12T11:10:28.451Z"
   },
   {
    "duration": 15,
    "start_time": "2022-08-12T11:10:29.513Z"
   },
   {
    "duration": 31,
    "start_time": "2022-08-12T11:10:45.326Z"
   },
   {
    "duration": 20,
    "start_time": "2022-08-12T11:10:51.782Z"
   },
   {
    "duration": 106,
    "start_time": "2022-08-12T11:11:45.213Z"
   },
   {
    "duration": 25,
    "start_time": "2022-08-12T11:11:49.213Z"
   },
   {
    "duration": 33,
    "start_time": "2022-08-12T11:12:20.439Z"
   },
   {
    "duration": 31,
    "start_time": "2022-08-12T11:12:21.285Z"
   },
   {
    "duration": 20,
    "start_time": "2022-08-12T11:12:56.622Z"
   },
   {
    "duration": 42,
    "start_time": "2022-08-12T11:22:00.888Z"
   },
   {
    "duration": 43,
    "start_time": "2022-08-12T11:22:06.993Z"
   },
   {
    "duration": 21,
    "start_time": "2022-08-12T11:22:07.726Z"
   },
   {
    "duration": 33,
    "start_time": "2022-08-12T11:22:45.342Z"
   },
   {
    "duration": 110,
    "start_time": "2022-08-12T11:23:49.082Z"
   },
   {
    "duration": 21,
    "start_time": "2022-08-12T11:23:52.126Z"
   },
   {
    "duration": 21,
    "start_time": "2022-08-12T11:24:02.031Z"
   },
   {
    "duration": 35,
    "start_time": "2022-08-12T11:24:03.705Z"
   },
   {
    "duration": 302,
    "start_time": "2022-08-12T11:26:49.368Z"
   },
   {
    "duration": 320,
    "start_time": "2022-08-12T11:26:54.435Z"
   },
   {
    "duration": 250,
    "start_time": "2022-08-12T11:27:11.178Z"
   },
   {
    "duration": 302,
    "start_time": "2022-08-12T11:27:17.053Z"
   },
   {
    "duration": 45,
    "start_time": "2022-08-12T11:27:44.719Z"
   },
   {
    "duration": 41,
    "start_time": "2022-08-12T11:28:13.492Z"
   },
   {
    "duration": 26,
    "start_time": "2022-08-12T11:28:14.523Z"
   },
   {
    "duration": 28,
    "start_time": "2022-08-12T11:29:31.226Z"
   },
   {
    "duration": 16,
    "start_time": "2022-08-12T11:29:32.139Z"
   },
   {
    "duration": 287,
    "start_time": "2022-08-12T11:29:46.995Z"
   },
   {
    "duration": 28,
    "start_time": "2022-08-12T11:30:03.086Z"
   },
   {
    "duration": 283,
    "start_time": "2022-08-12T11:30:10.881Z"
   },
   {
    "duration": 95,
    "start_time": "2022-08-12T11:30:17.222Z"
   },
   {
    "duration": 22,
    "start_time": "2022-08-12T11:30:37.234Z"
   },
   {
    "duration": 17,
    "start_time": "2022-08-12T11:30:38.363Z"
   },
   {
    "duration": 30,
    "start_time": "2022-08-12T11:33:53.523Z"
   },
   {
    "duration": 18,
    "start_time": "2022-08-12T11:33:54.820Z"
   },
   {
    "duration": 39,
    "start_time": "2022-08-12T11:34:04.483Z"
   },
   {
    "duration": 22,
    "start_time": "2022-08-12T11:34:05.511Z"
   },
   {
    "duration": 236,
    "start_time": "2022-08-12T11:34:52.330Z"
   },
   {
    "duration": 17,
    "start_time": "2022-08-12T11:34:53.135Z"
   },
   {
    "duration": 25,
    "start_time": "2022-08-12T11:35:08.323Z"
   },
   {
    "duration": 24,
    "start_time": "2022-08-12T11:38:02.511Z"
   },
   {
    "duration": 16,
    "start_time": "2022-08-12T11:38:03.752Z"
   },
   {
    "duration": 112,
    "start_time": "2022-08-12T11:38:30.911Z"
   },
   {
    "duration": 17,
    "start_time": "2022-08-12T11:38:32.371Z"
   },
   {
    "duration": 75,
    "start_time": "2022-08-12T11:41:13.449Z"
   },
   {
    "duration": 29,
    "start_time": "2022-08-12T11:41:14.489Z"
   },
   {
    "duration": 79,
    "start_time": "2022-08-12T11:42:15.750Z"
   },
   {
    "duration": 24,
    "start_time": "2022-08-12T11:42:16.633Z"
   },
   {
    "duration": 79,
    "start_time": "2022-08-12T11:43:27.257Z"
   },
   {
    "duration": 17,
    "start_time": "2022-08-12T11:43:28.209Z"
   },
   {
    "duration": 18,
    "start_time": "2022-08-12T11:46:10.511Z"
   },
   {
    "duration": 17,
    "start_time": "2022-08-12T11:47:16.515Z"
   },
   {
    "duration": 73,
    "start_time": "2022-08-12T11:48:13.610Z"
   },
   {
    "duration": 29,
    "start_time": "2022-08-12T11:48:14.598Z"
   },
   {
    "duration": 71,
    "start_time": "2022-08-12T11:48:34.056Z"
   },
   {
    "duration": 22,
    "start_time": "2022-08-12T11:48:34.898Z"
   },
   {
    "duration": 138,
    "start_time": "2022-08-12T11:48:51.836Z"
   },
   {
    "duration": 33,
    "start_time": "2022-08-12T11:48:52.792Z"
   },
   {
    "duration": 75,
    "start_time": "2022-08-12T11:54:25.756Z"
   },
   {
    "duration": 19,
    "start_time": "2022-08-12T11:54:26.211Z"
   },
   {
    "duration": 67,
    "start_time": "2022-08-12T11:55:07.030Z"
   },
   {
    "duration": 36,
    "start_time": "2022-08-12T11:55:07.982Z"
   },
   {
    "duration": 71,
    "start_time": "2022-08-12T11:56:04.894Z"
   },
   {
    "duration": 17,
    "start_time": "2022-08-12T11:56:08.177Z"
   },
   {
    "duration": 68,
    "start_time": "2022-08-12T11:56:45.662Z"
   },
   {
    "duration": 15,
    "start_time": "2022-08-12T11:56:46.328Z"
   },
   {
    "duration": 92,
    "start_time": "2022-08-12T11:57:27.395Z"
   },
   {
    "duration": 19,
    "start_time": "2022-08-12T11:57:28.262Z"
   },
   {
    "duration": 138,
    "start_time": "2022-08-12T11:57:49.048Z"
   },
   {
    "duration": 16,
    "start_time": "2022-08-12T11:57:49.658Z"
   },
   {
    "duration": 82,
    "start_time": "2022-08-12T11:58:09.380Z"
   },
   {
    "duration": 32,
    "start_time": "2022-08-12T12:00:02.370Z"
   },
   {
    "duration": 23,
    "start_time": "2022-08-12T12:00:04.608Z"
   },
   {
    "duration": 10,
    "start_time": "2022-08-12T12:01:28.280Z"
   },
   {
    "duration": 10,
    "start_time": "2022-08-12T12:01:40.118Z"
   },
   {
    "duration": 18,
    "start_time": "2022-08-12T12:01:52.741Z"
   },
   {
    "duration": 23,
    "start_time": "2022-08-12T12:35:03.551Z"
   },
   {
    "duration": 17,
    "start_time": "2022-08-12T12:35:04.222Z"
   },
   {
    "duration": 22,
    "start_time": "2022-08-12T12:35:42.096Z"
   },
   {
    "duration": 17,
    "start_time": "2022-08-12T12:35:42.849Z"
   },
   {
    "duration": 21,
    "start_time": "2022-08-12T12:36:07.246Z"
   },
   {
    "duration": 18,
    "start_time": "2022-08-12T12:36:08.338Z"
   },
   {
    "duration": 109,
    "start_time": "2022-08-12T12:36:17.910Z"
   },
   {
    "duration": 17,
    "start_time": "2022-08-12T12:36:18.486Z"
   },
   {
    "duration": 22,
    "start_time": "2022-08-12T12:36:50.028Z"
   },
   {
    "duration": 17,
    "start_time": "2022-08-12T12:36:50.930Z"
   },
   {
    "duration": 23,
    "start_time": "2022-08-12T12:37:20.467Z"
   },
   {
    "duration": 16,
    "start_time": "2022-08-12T12:37:21.276Z"
   },
   {
    "duration": 22,
    "start_time": "2022-08-12T12:37:32.486Z"
   },
   {
    "duration": 17,
    "start_time": "2022-08-12T12:37:33.130Z"
   },
   {
    "duration": 34,
    "start_time": "2022-08-12T12:37:44.517Z"
   },
   {
    "duration": 16,
    "start_time": "2022-08-12T12:37:45.402Z"
   },
   {
    "duration": 218,
    "start_time": "2022-08-12T12:38:20.855Z"
   },
   {
    "duration": 19,
    "start_time": "2022-08-12T12:38:21.954Z"
   },
   {
    "duration": 308,
    "start_time": "2022-08-12T12:38:45.141Z"
   },
   {
    "duration": 18,
    "start_time": "2022-08-12T12:38:46.710Z"
   },
   {
    "duration": 41,
    "start_time": "2022-08-12T12:38:56.568Z"
   },
   {
    "duration": 18,
    "start_time": "2022-08-12T12:38:57.576Z"
   },
   {
    "duration": 97,
    "start_time": "2022-08-12T12:39:36.466Z"
   },
   {
    "duration": 23,
    "start_time": "2022-08-12T12:39:38.005Z"
   },
   {
    "duration": 209,
    "start_time": "2022-08-12T12:39:49.352Z"
   },
   {
    "duration": 17,
    "start_time": "2022-08-12T12:39:50.486Z"
   },
   {
    "duration": 52,
    "start_time": "2022-08-12T12:40:24.568Z"
   },
   {
    "duration": 23,
    "start_time": "2022-08-12T12:40:25.302Z"
   },
   {
    "duration": 23,
    "start_time": "2022-08-12T12:41:32.035Z"
   },
   {
    "duration": 16,
    "start_time": "2022-08-12T12:41:32.630Z"
   },
   {
    "duration": 24,
    "start_time": "2022-08-12T12:42:01.309Z"
   },
   {
    "duration": 18,
    "start_time": "2022-08-12T12:42:01.894Z"
   },
   {
    "duration": 20,
    "start_time": "2022-08-12T12:42:41.865Z"
   },
   {
    "duration": 19,
    "start_time": "2022-08-12T12:42:42.491Z"
   },
   {
    "duration": 23,
    "start_time": "2022-08-12T12:48:21.905Z"
   },
   {
    "duration": 17,
    "start_time": "2022-08-12T12:48:23.106Z"
   },
   {
    "duration": 101,
    "start_time": "2022-08-12T12:48:35.769Z"
   },
   {
    "duration": 17,
    "start_time": "2022-08-12T12:48:36.686Z"
   },
   {
    "duration": 24,
    "start_time": "2022-08-12T12:49:15.430Z"
   },
   {
    "duration": 17,
    "start_time": "2022-08-12T12:49:16.333Z"
   },
   {
    "duration": 38,
    "start_time": "2022-08-12T12:50:00.778Z"
   },
   {
    "duration": 17,
    "start_time": "2022-08-12T12:50:01.702Z"
   },
   {
    "duration": 21,
    "start_time": "2022-08-12T12:50:16.470Z"
   },
   {
    "duration": 18,
    "start_time": "2022-08-12T12:50:17.245Z"
   },
   {
    "duration": 23,
    "start_time": "2022-08-12T12:50:28.774Z"
   },
   {
    "duration": 18,
    "start_time": "2022-08-12T12:50:29.503Z"
   },
   {
    "duration": 24,
    "start_time": "2022-08-12T12:50:43.888Z"
   },
   {
    "duration": 15,
    "start_time": "2022-08-12T12:50:46.647Z"
   },
   {
    "duration": 123,
    "start_time": "2022-08-12T12:51:21.156Z"
   },
   {
    "duration": 17,
    "start_time": "2022-08-12T12:51:21.764Z"
   },
   {
    "duration": 49,
    "start_time": "2022-08-12T12:52:14.329Z"
   },
   {
    "duration": 17,
    "start_time": "2022-08-12T12:52:15.370Z"
   },
   {
    "duration": 383,
    "start_time": "2022-08-12T12:53:27.853Z"
   },
   {
    "duration": 17,
    "start_time": "2022-08-12T12:53:28.574Z"
   },
   {
    "duration": 41,
    "start_time": "2022-08-12T12:54:11.401Z"
   },
   {
    "duration": 16,
    "start_time": "2022-08-12T12:54:12.050Z"
   },
   {
    "duration": 24,
    "start_time": "2022-08-12T12:54:17.496Z"
   },
   {
    "duration": 22,
    "start_time": "2022-08-12T12:54:18.062Z"
   },
   {
    "duration": 41,
    "start_time": "2022-08-12T12:54:25.052Z"
   },
   {
    "duration": 17,
    "start_time": "2022-08-12T12:54:25.764Z"
   },
   {
    "duration": 108,
    "start_time": "2022-08-12T14:36:05.597Z"
   },
   {
    "duration": 17,
    "start_time": "2022-08-12T14:36:07.004Z"
   },
   {
    "duration": 53,
    "start_time": "2022-08-12T14:36:15.776Z"
   },
   {
    "duration": 56,
    "start_time": "2022-08-12T14:37:27.793Z"
   },
   {
    "duration": 52,
    "start_time": "2022-08-12T14:37:45.602Z"
   },
   {
    "duration": 71,
    "start_time": "2022-08-12T14:38:03.951Z"
   },
   {
    "duration": 55,
    "start_time": "2022-08-12T14:38:10.848Z"
   },
   {
    "duration": 123,
    "start_time": "2022-08-12T14:38:17.559Z"
   },
   {
    "duration": 36,
    "start_time": "2022-08-12T14:38:28.982Z"
   },
   {
    "duration": 35,
    "start_time": "2022-08-12T14:38:35.005Z"
   },
   {
    "duration": 36,
    "start_time": "2022-08-12T14:38:48.247Z"
   },
   {
    "duration": 39,
    "start_time": "2022-08-12T14:38:57.050Z"
   },
   {
    "duration": 36,
    "start_time": "2022-08-12T14:39:36.642Z"
   },
   {
    "duration": 121,
    "start_time": "2022-08-12T14:39:57.389Z"
   },
   {
    "duration": 42,
    "start_time": "2022-08-12T14:44:10.223Z"
   },
   {
    "duration": 50,
    "start_time": "2022-08-12T14:44:22.235Z"
   },
   {
    "duration": 53,
    "start_time": "2022-08-12T14:44:36.911Z"
   },
   {
    "duration": 40,
    "start_time": "2022-08-12T14:45:03.885Z"
   },
   {
    "duration": 42,
    "start_time": "2022-08-12T14:45:40.658Z"
   },
   {
    "duration": 42,
    "start_time": "2022-08-12T14:46:21.467Z"
   },
   {
    "duration": 113,
    "start_time": "2022-08-12T14:47:13.697Z"
   },
   {
    "duration": 43,
    "start_time": "2022-08-12T14:49:07.602Z"
   },
   {
    "duration": 34,
    "start_time": "2022-08-12T14:49:43.854Z"
   },
   {
    "duration": 44,
    "start_time": "2022-08-12T14:49:50.920Z"
   },
   {
    "duration": 55,
    "start_time": "2022-08-12T14:51:44.391Z"
   },
   {
    "duration": 46,
    "start_time": "2022-08-12T14:52:50.756Z"
   },
   {
    "duration": 117,
    "start_time": "2022-08-12T14:52:57.363Z"
   },
   {
    "duration": 47,
    "start_time": "2022-08-12T14:53:08.605Z"
   },
   {
    "duration": 47,
    "start_time": "2022-08-12T14:55:23.249Z"
   },
   {
    "duration": 52,
    "start_time": "2022-08-12T14:55:32.267Z"
   },
   {
    "duration": 54,
    "start_time": "2022-08-12T15:01:46.014Z"
   },
   {
    "duration": 91,
    "start_time": "2022-08-12T15:02:40.559Z"
   },
   {
    "duration": 58,
    "start_time": "2022-08-12T15:03:03.915Z"
   },
   {
    "duration": 11,
    "start_time": "2022-08-12T15:03:26.695Z"
   },
   {
    "duration": 13,
    "start_time": "2022-08-12T15:03:50.734Z"
   },
   {
    "duration": 127,
    "start_time": "2022-08-12T15:04:35.449Z"
   },
   {
    "duration": 14,
    "start_time": "2022-08-12T15:04:40.438Z"
   },
   {
    "duration": 62,
    "start_time": "2022-08-12T15:04:56.897Z"
   },
   {
    "duration": 16,
    "start_time": "2022-08-12T15:05:40.790Z"
   },
   {
    "duration": 24,
    "start_time": "2022-08-12T15:05:57.893Z"
   },
   {
    "duration": 282,
    "start_time": "2022-08-12T15:12:09.510Z"
   },
   {
    "duration": 351,
    "start_time": "2022-08-12T15:13:23.098Z"
   },
   {
    "duration": 5,
    "start_time": "2022-08-12T15:13:24.138Z"
   },
   {
    "duration": 47,
    "start_time": "2022-08-12T15:15:08.978Z"
   },
   {
    "duration": 69,
    "start_time": "2022-08-12T15:15:39.776Z"
   },
   {
    "duration": 3161,
    "start_time": "2022-08-12T15:16:45.125Z"
   },
   {
    "duration": 72,
    "start_time": "2022-08-12T15:16:48.288Z"
   },
   {
    "duration": 15,
    "start_time": "2022-08-12T15:16:48.361Z"
   },
   {
    "duration": 14,
    "start_time": "2022-08-12T15:16:48.378Z"
   },
   {
    "duration": 27,
    "start_time": "2022-08-12T15:16:48.393Z"
   },
   {
    "duration": 5,
    "start_time": "2022-08-12T15:16:48.421Z"
   },
   {
    "duration": 262,
    "start_time": "2022-08-12T15:16:48.428Z"
   },
   {
    "duration": 151,
    "start_time": "2022-08-12T15:16:48.692Z"
   },
   {
    "duration": 268,
    "start_time": "2022-08-12T15:16:48.845Z"
   },
   {
    "duration": 29,
    "start_time": "2022-08-12T15:16:49.117Z"
   },
   {
    "duration": 10,
    "start_time": "2022-08-12T15:16:49.148Z"
   },
   {
    "duration": 47,
    "start_time": "2022-08-12T15:16:49.159Z"
   },
   {
    "duration": 11,
    "start_time": "2022-08-12T15:16:49.212Z"
   },
   {
    "duration": 820,
    "start_time": "2022-08-12T15:16:49.224Z"
   },
   {
    "duration": 15,
    "start_time": "2022-08-12T15:16:50.045Z"
   },
   {
    "duration": 265,
    "start_time": "2022-08-12T15:16:50.062Z"
   },
   {
    "duration": 2,
    "start_time": "2022-08-12T15:16:50.328Z"
   },
   {
    "duration": 75,
    "start_time": "2022-08-12T15:16:50.332Z"
   },
   {
    "duration": 14,
    "start_time": "2022-08-12T15:16:50.409Z"
   },
   {
    "duration": 19,
    "start_time": "2022-08-12T15:16:50.424Z"
   },
   {
    "duration": 58,
    "start_time": "2022-08-12T15:16:50.445Z"
   },
   {
    "duration": 8,
    "start_time": "2022-08-12T15:16:50.505Z"
   },
   {
    "duration": 599,
    "start_time": "2022-08-12T15:16:50.515Z"
   },
   {
    "duration": 307,
    "start_time": "2022-08-12T15:16:51.115Z"
   },
   {
    "duration": 0,
    "start_time": "2022-08-12T15:16:51.423Z"
   },
   {
    "duration": 0,
    "start_time": "2022-08-12T15:16:51.424Z"
   },
   {
    "duration": 0,
    "start_time": "2022-08-12T15:16:51.425Z"
   },
   {
    "duration": 32,
    "start_time": "2022-08-12T15:17:17.110Z"
   },
   {
    "duration": 31,
    "start_time": "2022-08-12T15:17:49.162Z"
   },
   {
    "duration": 36,
    "start_time": "2022-08-12T15:17:58.319Z"
   },
   {
    "duration": 3203,
    "start_time": "2022-08-12T15:18:23.330Z"
   },
   {
    "duration": 72,
    "start_time": "2022-08-12T15:18:26.536Z"
   },
   {
    "duration": 16,
    "start_time": "2022-08-12T15:18:26.610Z"
   },
   {
    "duration": 13,
    "start_time": "2022-08-12T15:18:26.628Z"
   },
   {
    "duration": 22,
    "start_time": "2022-08-12T15:18:26.643Z"
   },
   {
    "duration": 48,
    "start_time": "2022-08-12T15:18:26.666Z"
   },
   {
    "duration": 238,
    "start_time": "2022-08-12T15:18:26.716Z"
   },
   {
    "duration": 153,
    "start_time": "2022-08-12T15:18:26.956Z"
   },
   {
    "duration": 268,
    "start_time": "2022-08-12T15:18:27.110Z"
   },
   {
    "duration": 29,
    "start_time": "2022-08-12T15:18:27.381Z"
   },
   {
    "duration": 2,
    "start_time": "2022-08-12T15:18:27.412Z"
   },
   {
    "duration": 26,
    "start_time": "2022-08-12T15:18:27.416Z"
   },
   {
    "duration": 9,
    "start_time": "2022-08-12T15:18:27.444Z"
   },
   {
    "duration": 846,
    "start_time": "2022-08-12T15:18:27.454Z"
   },
   {
    "duration": 20,
    "start_time": "2022-08-12T15:18:28.302Z"
   },
   {
    "duration": 250,
    "start_time": "2022-08-12T15:18:28.324Z"
   },
   {
    "duration": 3,
    "start_time": "2022-08-12T15:18:28.575Z"
   },
   {
    "duration": 66,
    "start_time": "2022-08-12T15:18:28.579Z"
   },
   {
    "duration": 10,
    "start_time": "2022-08-12T15:18:28.647Z"
   },
   {
    "duration": 14,
    "start_time": "2022-08-12T15:18:28.659Z"
   },
   {
    "duration": 62,
    "start_time": "2022-08-12T15:18:28.674Z"
   },
   {
    "duration": 5,
    "start_time": "2022-08-12T15:18:28.737Z"
   },
   {
    "duration": 571,
    "start_time": "2022-08-12T15:18:28.744Z"
   },
   {
    "duration": 333,
    "start_time": "2022-08-12T15:18:29.317Z"
   },
   {
    "duration": 0,
    "start_time": "2022-08-12T15:18:29.652Z"
   },
   {
    "duration": 0,
    "start_time": "2022-08-12T15:18:29.654Z"
   },
   {
    "duration": 0,
    "start_time": "2022-08-12T15:18:29.655Z"
   },
   {
    "duration": 5,
    "start_time": "2022-08-12T15:18:56.334Z"
   },
   {
    "duration": 32,
    "start_time": "2022-08-12T15:19:13.502Z"
   },
   {
    "duration": 57,
    "start_time": "2022-08-12T15:20:30.202Z"
   },
   {
    "duration": 12,
    "start_time": "2022-08-12T15:20:32.305Z"
   },
   {
    "duration": 12,
    "start_time": "2022-08-12T15:20:33.630Z"
   },
   {
    "duration": 38,
    "start_time": "2022-08-12T15:20:35.337Z"
   },
   {
    "duration": 6,
    "start_time": "2022-08-12T15:20:52.680Z"
   },
   {
    "duration": 9,
    "start_time": "2022-08-12T15:21:07.114Z"
   },
   {
    "duration": 5,
    "start_time": "2022-08-12T15:21:27.083Z"
   },
   {
    "duration": 6,
    "start_time": "2022-08-12T15:21:45.522Z"
   },
   {
    "duration": 3081,
    "start_time": "2022-08-12T15:21:58.529Z"
   },
   {
    "duration": 82,
    "start_time": "2022-08-12T15:22:01.613Z"
   },
   {
    "duration": 13,
    "start_time": "2022-08-12T15:22:01.697Z"
   },
   {
    "duration": 51,
    "start_time": "2022-08-12T15:22:01.712Z"
   },
   {
    "duration": 24,
    "start_time": "2022-08-12T15:22:01.765Z"
   },
   {
    "duration": 6,
    "start_time": "2022-08-12T15:22:01.790Z"
   },
   {
    "duration": 231,
    "start_time": "2022-08-12T15:22:01.797Z"
   },
   {
    "duration": 134,
    "start_time": "2022-08-12T15:22:02.030Z"
   },
   {
    "duration": 250,
    "start_time": "2022-08-12T15:22:02.166Z"
   },
   {
    "duration": 19,
    "start_time": "2022-08-12T15:22:02.419Z"
   },
   {
    "duration": 2,
    "start_time": "2022-08-12T15:22:02.440Z"
   },
   {
    "duration": 30,
    "start_time": "2022-08-12T15:22:02.443Z"
   },
   {
    "duration": 27,
    "start_time": "2022-08-12T15:22:02.475Z"
   },
   {
    "duration": 818,
    "start_time": "2022-08-12T15:22:02.504Z"
   },
   {
    "duration": 17,
    "start_time": "2022-08-12T15:22:03.324Z"
   },
   {
    "duration": 244,
    "start_time": "2022-08-12T15:22:03.343Z"
   },
   {
    "duration": 10,
    "start_time": "2022-08-12T15:22:03.589Z"
   },
   {
    "duration": 62,
    "start_time": "2022-08-12T15:22:03.600Z"
   },
   {
    "duration": 11,
    "start_time": "2022-08-12T15:22:03.663Z"
   },
   {
    "duration": 34,
    "start_time": "2022-08-12T15:22:03.676Z"
   },
   {
    "duration": 41,
    "start_time": "2022-08-12T15:22:03.712Z"
   },
   {
    "duration": 8,
    "start_time": "2022-08-12T15:22:03.755Z"
   },
   {
    "duration": 567,
    "start_time": "2022-08-12T15:22:03.765Z"
   },
   {
    "duration": 326,
    "start_time": "2022-08-12T15:22:04.334Z"
   },
   {
    "duration": 0,
    "start_time": "2022-08-12T15:22:04.698Z"
   },
   {
    "duration": 0,
    "start_time": "2022-08-12T15:22:04.700Z"
   },
   {
    "duration": 0,
    "start_time": "2022-08-12T15:22:04.701Z"
   },
   {
    "duration": 26,
    "start_time": "2022-08-12T15:23:07.989Z"
   },
   {
    "duration": 70,
    "start_time": "2022-08-12T15:24:38.881Z"
   },
   {
    "duration": 31,
    "start_time": "2022-08-12T15:24:46.042Z"
   },
   {
    "duration": 3356,
    "start_time": "2022-08-12T15:25:37.587Z"
   },
   {
    "duration": 74,
    "start_time": "2022-08-12T15:25:40.945Z"
   },
   {
    "duration": 16,
    "start_time": "2022-08-12T15:25:41.020Z"
   },
   {
    "duration": 16,
    "start_time": "2022-08-12T15:25:41.038Z"
   },
   {
    "duration": 48,
    "start_time": "2022-08-12T15:25:41.057Z"
   },
   {
    "duration": 7,
    "start_time": "2022-08-12T15:25:41.107Z"
   },
   {
    "duration": 275,
    "start_time": "2022-08-12T15:25:41.116Z"
   },
   {
    "duration": 142,
    "start_time": "2022-08-12T15:25:41.397Z"
   },
   {
    "duration": 277,
    "start_time": "2022-08-12T15:25:41.540Z"
   },
   {
    "duration": 21,
    "start_time": "2022-08-12T15:25:41.819Z"
   },
   {
    "duration": 2,
    "start_time": "2022-08-12T15:25:41.842Z"
   },
   {
    "duration": 31,
    "start_time": "2022-08-12T15:25:41.845Z"
   },
   {
    "duration": 29,
    "start_time": "2022-08-12T15:25:41.877Z"
   },
   {
    "duration": 818,
    "start_time": "2022-08-12T15:25:41.908Z"
   },
   {
    "duration": 16,
    "start_time": "2022-08-12T15:25:42.727Z"
   },
   {
    "duration": 251,
    "start_time": "2022-08-12T15:25:42.745Z"
   },
   {
    "duration": 2,
    "start_time": "2022-08-12T15:25:42.998Z"
   },
   {
    "duration": 65,
    "start_time": "2022-08-12T15:25:43.001Z"
   },
   {
    "duration": 39,
    "start_time": "2022-08-12T15:25:43.067Z"
   },
   {
    "duration": 14,
    "start_time": "2022-08-12T15:25:43.108Z"
   },
   {
    "duration": 39,
    "start_time": "2022-08-12T15:25:43.124Z"
   },
   {
    "duration": 51,
    "start_time": "2022-08-12T15:25:43.164Z"
   },
   {
    "duration": 625,
    "start_time": "2022-08-12T15:25:43.217Z"
   },
   {
    "duration": 312,
    "start_time": "2022-08-12T15:25:43.843Z"
   },
   {
    "duration": 0,
    "start_time": "2022-08-12T15:25:44.157Z"
   },
   {
    "duration": 0,
    "start_time": "2022-08-12T15:25:44.157Z"
   },
   {
    "duration": 0,
    "start_time": "2022-08-12T15:25:44.159Z"
   },
   {
    "duration": 23,
    "start_time": "2022-08-12T15:27:09.431Z"
   },
   {
    "duration": 61,
    "start_time": "2022-08-12T15:27:51.508Z"
   },
   {
    "duration": 12,
    "start_time": "2022-08-12T15:27:57.049Z"
   },
   {
    "duration": 23,
    "start_time": "2022-08-12T15:27:57.804Z"
   },
   {
    "duration": 3247,
    "start_time": "2022-08-12T15:28:15.059Z"
   },
   {
    "duration": 74,
    "start_time": "2022-08-12T15:28:18.308Z"
   },
   {
    "duration": 16,
    "start_time": "2022-08-12T15:28:18.384Z"
   },
   {
    "duration": 15,
    "start_time": "2022-08-12T15:28:18.403Z"
   },
   {
    "duration": 20,
    "start_time": "2022-08-12T15:28:18.421Z"
   },
   {
    "duration": 7,
    "start_time": "2022-08-12T15:28:18.443Z"
   },
   {
    "duration": 288,
    "start_time": "2022-08-12T15:28:18.452Z"
   },
   {
    "duration": 147,
    "start_time": "2022-08-12T15:28:18.742Z"
   },
   {
    "duration": 258,
    "start_time": "2022-08-12T15:28:18.891Z"
   },
   {
    "duration": 21,
    "start_time": "2022-08-12T15:28:19.153Z"
   },
   {
    "duration": 2,
    "start_time": "2022-08-12T15:28:19.198Z"
   },
   {
    "duration": 27,
    "start_time": "2022-08-12T15:28:19.202Z"
   },
   {
    "duration": 9,
    "start_time": "2022-08-12T15:28:19.231Z"
   },
   {
    "duration": 812,
    "start_time": "2022-08-12T15:28:19.242Z"
   },
   {
    "duration": 15,
    "start_time": "2022-08-12T15:28:20.056Z"
   },
   {
    "duration": 238,
    "start_time": "2022-08-12T15:28:20.073Z"
   },
   {
    "duration": 2,
    "start_time": "2022-08-12T15:28:20.313Z"
   },
   {
    "duration": 82,
    "start_time": "2022-08-12T15:28:20.317Z"
   },
   {
    "duration": 13,
    "start_time": "2022-08-12T15:28:20.400Z"
   },
   {
    "duration": 28,
    "start_time": "2022-08-12T15:28:20.415Z"
   },
   {
    "duration": 12,
    "start_time": "2022-08-12T15:28:20.444Z"
   },
   {
    "duration": 69,
    "start_time": "2022-08-12T15:28:20.458Z"
   },
   {
    "duration": 24,
    "start_time": "2022-08-12T15:28:20.528Z"
   },
   {
    "duration": 572,
    "start_time": "2022-08-12T15:28:20.553Z"
   },
   {
    "duration": 312,
    "start_time": "2022-08-12T15:28:21.126Z"
   },
   {
    "duration": 0,
    "start_time": "2022-08-12T15:28:21.439Z"
   },
   {
    "duration": 0,
    "start_time": "2022-08-12T15:28:21.440Z"
   },
   {
    "duration": 0,
    "start_time": "2022-08-12T15:28:21.441Z"
   },
   {
    "duration": 3152,
    "start_time": "2022-08-12T15:33:02.635Z"
   },
   {
    "duration": 70,
    "start_time": "2022-08-12T15:33:05.789Z"
   },
   {
    "duration": 13,
    "start_time": "2022-08-12T15:33:05.860Z"
   },
   {
    "duration": 16,
    "start_time": "2022-08-12T15:33:05.875Z"
   },
   {
    "duration": 30,
    "start_time": "2022-08-12T15:33:05.894Z"
   },
   {
    "duration": 6,
    "start_time": "2022-08-12T15:33:05.925Z"
   },
   {
    "duration": 238,
    "start_time": "2022-08-12T15:33:05.933Z"
   },
   {
    "duration": 147,
    "start_time": "2022-08-12T15:33:06.173Z"
   },
   {
    "duration": 256,
    "start_time": "2022-08-12T15:33:06.322Z"
   },
   {
    "duration": 27,
    "start_time": "2022-08-12T15:33:06.580Z"
   },
   {
    "duration": 3,
    "start_time": "2022-08-12T15:33:06.609Z"
   },
   {
    "duration": 41,
    "start_time": "2022-08-12T15:33:06.613Z"
   },
   {
    "duration": 14,
    "start_time": "2022-08-12T15:33:06.655Z"
   },
   {
    "duration": 867,
    "start_time": "2022-08-12T15:33:06.672Z"
   },
   {
    "duration": 17,
    "start_time": "2022-08-12T15:33:07.541Z"
   },
   {
    "duration": 267,
    "start_time": "2022-08-12T15:33:07.559Z"
   },
   {
    "duration": 2,
    "start_time": "2022-08-12T15:33:07.828Z"
   },
   {
    "duration": 87,
    "start_time": "2022-08-12T15:33:07.832Z"
   },
   {
    "duration": 14,
    "start_time": "2022-08-12T15:33:07.921Z"
   },
   {
    "duration": 34,
    "start_time": "2022-08-12T15:33:07.937Z"
   },
   {
    "duration": 33,
    "start_time": "2022-08-12T15:33:07.973Z"
   },
   {
    "duration": 46,
    "start_time": "2022-08-12T15:33:08.008Z"
   },
   {
    "duration": 43,
    "start_time": "2022-08-12T15:33:08.056Z"
   },
   {
    "duration": 3355,
    "start_time": "2022-08-12T15:33:32.390Z"
   },
   {
    "duration": 72,
    "start_time": "2022-08-12T15:33:35.748Z"
   },
   {
    "duration": 15,
    "start_time": "2022-08-12T15:33:35.821Z"
   },
   {
    "duration": 15,
    "start_time": "2022-08-12T15:33:35.838Z"
   },
   {
    "duration": 49,
    "start_time": "2022-08-12T15:33:35.856Z"
   },
   {
    "duration": 6,
    "start_time": "2022-08-12T15:33:35.907Z"
   },
   {
    "duration": 252,
    "start_time": "2022-08-12T15:33:35.915Z"
   },
   {
    "duration": 144,
    "start_time": "2022-08-12T15:33:36.169Z"
   },
   {
    "duration": 246,
    "start_time": "2022-08-12T15:33:36.314Z"
   },
   {
    "duration": 20,
    "start_time": "2022-08-12T15:33:36.561Z"
   },
   {
    "duration": 15,
    "start_time": "2022-08-12T15:33:36.583Z"
   },
   {
    "duration": 24,
    "start_time": "2022-08-12T15:33:36.600Z"
   },
   {
    "duration": 8,
    "start_time": "2022-08-12T15:33:36.626Z"
   },
   {
    "duration": 781,
    "start_time": "2022-08-12T15:33:36.637Z"
   },
   {
    "duration": 17,
    "start_time": "2022-08-12T15:33:37.419Z"
   },
   {
    "duration": 239,
    "start_time": "2022-08-12T15:33:37.437Z"
   },
   {
    "duration": 2,
    "start_time": "2022-08-12T15:33:37.678Z"
   },
   {
    "duration": 78,
    "start_time": "2022-08-12T15:33:37.681Z"
   },
   {
    "duration": 13,
    "start_time": "2022-08-12T15:33:37.760Z"
   },
   {
    "duration": 46,
    "start_time": "2022-08-12T15:33:37.775Z"
   },
   {
    "duration": 13,
    "start_time": "2022-08-12T15:33:37.822Z"
   },
   {
    "duration": 45,
    "start_time": "2022-08-12T15:33:37.836Z"
   },
   {
    "duration": 25,
    "start_time": "2022-08-12T15:33:37.898Z"
   },
   {
    "duration": 603,
    "start_time": "2022-08-12T15:33:37.924Z"
   },
   {
    "duration": 323,
    "start_time": "2022-08-12T15:33:38.528Z"
   },
   {
    "duration": 0,
    "start_time": "2022-08-12T15:33:38.853Z"
   },
   {
    "duration": 0,
    "start_time": "2022-08-12T15:33:38.854Z"
   },
   {
    "duration": 0,
    "start_time": "2022-08-12T15:33:38.855Z"
   },
   {
    "duration": 3189,
    "start_time": "2022-08-12T15:36:55.106Z"
   },
   {
    "duration": 74,
    "start_time": "2022-08-12T15:36:58.298Z"
   },
   {
    "duration": 16,
    "start_time": "2022-08-12T15:36:58.373Z"
   },
   {
    "duration": 18,
    "start_time": "2022-08-12T15:36:58.392Z"
   },
   {
    "duration": 20,
    "start_time": "2022-08-12T15:36:58.412Z"
   },
   {
    "duration": 6,
    "start_time": "2022-08-12T15:36:58.434Z"
   },
   {
    "duration": 256,
    "start_time": "2022-08-12T15:36:58.442Z"
   },
   {
    "duration": 139,
    "start_time": "2022-08-12T15:36:58.700Z"
   },
   {
    "duration": 253,
    "start_time": "2022-08-12T15:36:58.840Z"
   },
   {
    "duration": 20,
    "start_time": "2022-08-12T15:36:59.097Z"
   },
   {
    "duration": 2,
    "start_time": "2022-08-12T15:36:59.119Z"
   },
   {
    "duration": 27,
    "start_time": "2022-08-12T15:36:59.122Z"
   },
   {
    "duration": 9,
    "start_time": "2022-08-12T15:36:59.150Z"
   },
   {
    "duration": 847,
    "start_time": "2022-08-12T15:36:59.161Z"
   },
   {
    "duration": 15,
    "start_time": "2022-08-12T15:37:00.010Z"
   },
   {
    "duration": 239,
    "start_time": "2022-08-12T15:37:00.027Z"
   },
   {
    "duration": 2,
    "start_time": "2022-08-12T15:37:00.267Z"
   },
   {
    "duration": 87,
    "start_time": "2022-08-12T15:37:00.270Z"
   },
   {
    "duration": 13,
    "start_time": "2022-08-12T15:37:00.359Z"
   },
   {
    "duration": 52,
    "start_time": "2022-08-12T15:37:00.374Z"
   },
   {
    "duration": 15,
    "start_time": "2022-08-12T15:37:00.428Z"
   },
   {
    "duration": 53,
    "start_time": "2022-08-12T15:37:00.445Z"
   },
   {
    "duration": 23,
    "start_time": "2022-08-12T15:37:00.500Z"
   },
   {
    "duration": 573,
    "start_time": "2022-08-12T15:37:00.525Z"
   },
   {
    "duration": 258,
    "start_time": "2022-08-12T15:37:01.100Z"
   },
   {
    "duration": 0,
    "start_time": "2022-08-12T15:37:01.359Z"
   },
   {
    "duration": 1,
    "start_time": "2022-08-12T15:37:01.360Z"
   },
   {
    "duration": 0,
    "start_time": "2022-08-12T15:37:01.362Z"
   },
   {
    "duration": 64,
    "start_time": "2022-08-12T15:39:25.057Z"
   },
   {
    "duration": 3125,
    "start_time": "2022-08-12T15:39:39.509Z"
   },
   {
    "duration": 71,
    "start_time": "2022-08-12T15:39:42.637Z"
   },
   {
    "duration": 14,
    "start_time": "2022-08-12T15:39:42.710Z"
   },
   {
    "duration": 12,
    "start_time": "2022-08-12T15:39:42.726Z"
   },
   {
    "duration": 18,
    "start_time": "2022-08-12T15:39:42.740Z"
   },
   {
    "duration": 39,
    "start_time": "2022-08-12T15:39:42.759Z"
   },
   {
    "duration": 243,
    "start_time": "2022-08-12T15:39:42.800Z"
   },
   {
    "duration": 158,
    "start_time": "2022-08-12T15:39:43.045Z"
   },
   {
    "duration": 297,
    "start_time": "2022-08-12T15:39:43.205Z"
   },
   {
    "duration": 22,
    "start_time": "2022-08-12T15:39:43.505Z"
   },
   {
    "duration": 2,
    "start_time": "2022-08-12T15:39:43.528Z"
   },
   {
    "duration": 32,
    "start_time": "2022-08-12T15:39:43.531Z"
   },
   {
    "duration": 12,
    "start_time": "2022-08-12T15:39:43.564Z"
   },
   {
    "duration": 933,
    "start_time": "2022-08-12T15:39:43.578Z"
   },
   {
    "duration": 17,
    "start_time": "2022-08-12T15:39:44.513Z"
   },
   {
    "duration": 3263,
    "start_time": "2022-08-12T15:49:02.914Z"
   },
   {
    "duration": 76,
    "start_time": "2022-08-12T15:49:06.179Z"
   },
   {
    "duration": 12,
    "start_time": "2022-08-12T15:49:06.256Z"
   },
   {
    "duration": 12,
    "start_time": "2022-08-12T15:49:06.269Z"
   },
   {
    "duration": 35,
    "start_time": "2022-08-12T15:49:06.283Z"
   },
   {
    "duration": 5,
    "start_time": "2022-08-12T15:49:06.319Z"
   },
   {
    "duration": 237,
    "start_time": "2022-08-12T15:49:06.325Z"
   },
   {
    "duration": 148,
    "start_time": "2022-08-12T15:49:06.563Z"
   },
   {
    "duration": 262,
    "start_time": "2022-08-12T15:49:06.712Z"
   },
   {
    "duration": 34,
    "start_time": "2022-08-12T15:49:06.976Z"
   },
   {
    "duration": 3,
    "start_time": "2022-08-12T15:49:07.012Z"
   },
   {
    "duration": 28,
    "start_time": "2022-08-12T15:49:07.017Z"
   },
   {
    "duration": 10,
    "start_time": "2022-08-12T15:49:07.046Z"
   },
   {
    "duration": 880,
    "start_time": "2022-08-12T15:49:07.058Z"
   },
   {
    "duration": 21,
    "start_time": "2022-08-12T15:49:07.940Z"
   },
   {
    "duration": 259,
    "start_time": "2022-08-12T15:49:07.963Z"
   },
   {
    "duration": 2,
    "start_time": "2022-08-12T15:49:08.224Z"
   },
   {
    "duration": 83,
    "start_time": "2022-08-12T15:49:08.227Z"
   },
   {
    "duration": 15,
    "start_time": "2022-08-12T15:49:08.312Z"
   },
   {
    "duration": 27,
    "start_time": "2022-08-12T15:49:08.329Z"
   },
   {
    "duration": 12,
    "start_time": "2022-08-12T15:49:08.358Z"
   },
   {
    "duration": 71,
    "start_time": "2022-08-12T15:49:08.371Z"
   },
   {
    "duration": 25,
    "start_time": "2022-08-12T15:49:08.443Z"
   },
   {
    "duration": 650,
    "start_time": "2022-08-12T15:49:08.470Z"
   },
   {
    "duration": 318,
    "start_time": "2022-08-12T15:49:09.122Z"
   },
   {
    "duration": 0,
    "start_time": "2022-08-12T15:49:09.441Z"
   },
   {
    "duration": 0,
    "start_time": "2022-08-12T15:49:09.442Z"
   },
   {
    "duration": 0,
    "start_time": "2022-08-12T15:49:09.443Z"
   },
   {
    "duration": 25,
    "start_time": "2022-08-12T15:49:43.171Z"
   },
   {
    "duration": 3089,
    "start_time": "2022-08-12T15:51:18.065Z"
   },
   {
    "duration": 75,
    "start_time": "2022-08-12T15:51:21.156Z"
   },
   {
    "duration": 12,
    "start_time": "2022-08-12T15:51:21.233Z"
   },
   {
    "duration": 12,
    "start_time": "2022-08-12T15:51:21.247Z"
   },
   {
    "duration": 44,
    "start_time": "2022-08-12T15:51:21.260Z"
   },
   {
    "duration": 10,
    "start_time": "2022-08-12T15:51:21.305Z"
   },
   {
    "duration": 238,
    "start_time": "2022-08-12T15:51:21.316Z"
   },
   {
    "duration": 137,
    "start_time": "2022-08-12T15:51:21.555Z"
   },
   {
    "duration": 259,
    "start_time": "2022-08-12T15:51:21.693Z"
   },
   {
    "duration": 20,
    "start_time": "2022-08-12T15:51:21.955Z"
   },
   {
    "duration": 38,
    "start_time": "2022-08-12T15:51:21.976Z"
   },
   {
    "duration": 26,
    "start_time": "2022-08-12T15:51:22.016Z"
   },
   {
    "duration": 8,
    "start_time": "2022-08-12T15:51:22.043Z"
   },
   {
    "duration": 761,
    "start_time": "2022-08-12T15:51:22.052Z"
   },
   {
    "duration": 18,
    "start_time": "2022-08-12T15:51:22.816Z"
   },
   {
    "duration": 247,
    "start_time": "2022-08-12T15:51:22.836Z"
   },
   {
    "duration": 2,
    "start_time": "2022-08-12T15:51:23.085Z"
   },
   {
    "duration": 78,
    "start_time": "2022-08-12T15:51:23.089Z"
   },
   {
    "duration": 13,
    "start_time": "2022-08-12T15:51:23.168Z"
   },
   {
    "duration": 51,
    "start_time": "2022-08-12T15:51:23.182Z"
   },
   {
    "duration": 25,
    "start_time": "2022-08-12T15:51:23.234Z"
   },
   {
    "duration": 665,
    "start_time": "2022-08-12T15:51:23.261Z"
   },
   {
    "duration": 300,
    "start_time": "2022-08-12T15:51:23.927Z"
   },
   {
    "duration": 0,
    "start_time": "2022-08-12T15:51:24.229Z"
   },
   {
    "duration": 0,
    "start_time": "2022-08-12T15:51:24.230Z"
   },
   {
    "duration": 0,
    "start_time": "2022-08-12T15:51:24.231Z"
   },
   {
    "duration": 3240,
    "start_time": "2022-08-12T15:54:09.499Z"
   },
   {
    "duration": 76,
    "start_time": "2022-08-12T15:54:12.742Z"
   },
   {
    "duration": 15,
    "start_time": "2022-08-12T15:54:12.820Z"
   },
   {
    "duration": 15,
    "start_time": "2022-08-12T15:54:12.838Z"
   },
   {
    "duration": 50,
    "start_time": "2022-08-12T15:54:12.854Z"
   },
   {
    "duration": 10,
    "start_time": "2022-08-12T15:54:12.905Z"
   },
   {
    "duration": 254,
    "start_time": "2022-08-12T15:54:12.918Z"
   },
   {
    "duration": 148,
    "start_time": "2022-08-12T15:54:13.173Z"
   },
   {
    "duration": 274,
    "start_time": "2022-08-12T15:54:13.323Z"
   },
   {
    "duration": 27,
    "start_time": "2022-08-12T15:54:13.603Z"
   },
   {
    "duration": 3,
    "start_time": "2022-08-12T15:54:13.631Z"
   },
   {
    "duration": 27,
    "start_time": "2022-08-12T15:54:13.636Z"
   },
   {
    "duration": 49,
    "start_time": "2022-08-12T15:54:13.665Z"
   },
   {
    "duration": 843,
    "start_time": "2022-08-12T15:54:13.716Z"
   },
   {
    "duration": 16,
    "start_time": "2022-08-12T15:54:14.561Z"
   },
   {
    "duration": 259,
    "start_time": "2022-08-12T15:54:14.579Z"
   },
   {
    "duration": 2,
    "start_time": "2022-08-12T15:54:14.840Z"
   },
   {
    "duration": 99,
    "start_time": "2022-08-12T15:54:14.843Z"
   },
   {
    "duration": 15,
    "start_time": "2022-08-12T15:54:14.944Z"
   },
   {
    "duration": 57,
    "start_time": "2022-08-12T15:54:14.961Z"
   },
   {
    "duration": 26,
    "start_time": "2022-08-12T15:54:15.019Z"
   },
   {
    "duration": 585,
    "start_time": "2022-08-12T15:54:15.047Z"
   },
   {
    "duration": 313,
    "start_time": "2022-08-12T15:54:15.634Z"
   },
   {
    "duration": 0,
    "start_time": "2022-08-12T15:54:15.948Z"
   },
   {
    "duration": 0,
    "start_time": "2022-08-12T15:54:15.950Z"
   },
   {
    "duration": 0,
    "start_time": "2022-08-12T15:54:15.951Z"
   },
   {
    "duration": 23,
    "start_time": "2022-08-12T15:55:21.041Z"
   },
   {
    "duration": 23,
    "start_time": "2022-08-12T15:55:32.411Z"
   },
   {
    "duration": 3408,
    "start_time": "2022-08-12T15:59:05.837Z"
   },
   {
    "duration": 86,
    "start_time": "2022-08-12T15:59:09.248Z"
   },
   {
    "duration": 16,
    "start_time": "2022-08-12T15:59:09.336Z"
   },
   {
    "duration": 16,
    "start_time": "2022-08-12T15:59:09.354Z"
   },
   {
    "duration": 53,
    "start_time": "2022-08-12T15:59:09.372Z"
   },
   {
    "duration": 5,
    "start_time": "2022-08-12T15:59:09.426Z"
   },
   {
    "duration": 286,
    "start_time": "2022-08-12T15:59:09.433Z"
   },
   {
    "duration": 154,
    "start_time": "2022-08-12T15:59:09.722Z"
   },
   {
    "duration": 282,
    "start_time": "2022-08-12T15:59:09.878Z"
   },
   {
    "duration": 21,
    "start_time": "2022-08-12T15:59:10.163Z"
   },
   {
    "duration": 22,
    "start_time": "2022-08-12T15:59:10.186Z"
   },
   {
    "duration": 30,
    "start_time": "2022-08-12T15:59:10.214Z"
   },
   {
    "duration": 11,
    "start_time": "2022-08-12T15:59:10.245Z"
   },
   {
    "duration": 879,
    "start_time": "2022-08-12T15:59:10.257Z"
   },
   {
    "duration": 17,
    "start_time": "2022-08-12T15:59:11.137Z"
   },
   {
    "duration": 265,
    "start_time": "2022-08-12T15:59:11.155Z"
   },
   {
    "duration": 2,
    "start_time": "2022-08-12T15:59:11.422Z"
   },
   {
    "duration": 93,
    "start_time": "2022-08-12T15:59:11.426Z"
   },
   {
    "duration": 20,
    "start_time": "2022-08-12T15:59:11.520Z"
   },
   {
    "duration": 81,
    "start_time": "2022-08-12T15:59:11.543Z"
   },
   {
    "duration": 16,
    "start_time": "2022-08-12T15:59:11.625Z"
   },
   {
    "duration": 26,
    "start_time": "2022-08-12T15:59:11.643Z"
   },
   {
    "duration": 644,
    "start_time": "2022-08-12T15:59:11.671Z"
   },
   {
    "duration": 305,
    "start_time": "2022-08-12T15:59:12.318Z"
   },
   {
    "duration": 0,
    "start_time": "2022-08-12T15:59:12.625Z"
   },
   {
    "duration": 0,
    "start_time": "2022-08-12T15:59:12.626Z"
   },
   {
    "duration": 0,
    "start_time": "2022-08-12T15:59:12.627Z"
   },
   {
    "duration": 3181,
    "start_time": "2022-08-12T16:03:17.611Z"
   },
   {
    "duration": 71,
    "start_time": "2022-08-12T16:03:20.794Z"
   },
   {
    "duration": 14,
    "start_time": "2022-08-12T16:03:20.867Z"
   },
   {
    "duration": 17,
    "start_time": "2022-08-12T16:03:20.883Z"
   },
   {
    "duration": 24,
    "start_time": "2022-08-12T16:03:20.902Z"
   },
   {
    "duration": 5,
    "start_time": "2022-08-12T16:03:20.927Z"
   },
   {
    "duration": 246,
    "start_time": "2022-08-12T16:03:20.934Z"
   },
   {
    "duration": 138,
    "start_time": "2022-08-12T16:03:21.181Z"
   },
   {
    "duration": 246,
    "start_time": "2022-08-12T16:03:21.320Z"
   },
   {
    "duration": 19,
    "start_time": "2022-08-12T16:03:21.568Z"
   },
   {
    "duration": 11,
    "start_time": "2022-08-12T16:03:21.598Z"
   },
   {
    "duration": 30,
    "start_time": "2022-08-12T16:03:21.610Z"
   },
   {
    "duration": 9,
    "start_time": "2022-08-12T16:03:21.641Z"
   },
   {
    "duration": 777,
    "start_time": "2022-08-12T16:03:21.652Z"
   },
   {
    "duration": 15,
    "start_time": "2022-08-12T16:03:22.430Z"
   },
   {
    "duration": 239,
    "start_time": "2022-08-12T16:03:22.447Z"
   },
   {
    "duration": 2,
    "start_time": "2022-08-12T16:03:22.687Z"
   },
   {
    "duration": 74,
    "start_time": "2022-08-12T16:03:22.709Z"
   },
   {
    "duration": 28,
    "start_time": "2022-08-12T16:03:22.784Z"
   },
   {
    "duration": 38,
    "start_time": "2022-08-12T16:03:22.814Z"
   },
   {
    "duration": 16,
    "start_time": "2022-08-12T16:03:22.854Z"
   },
   {
    "duration": 49,
    "start_time": "2022-08-12T16:03:22.871Z"
   },
   {
    "duration": 601,
    "start_time": "2022-08-12T16:03:22.921Z"
   },
   {
    "duration": 313,
    "start_time": "2022-08-12T16:03:23.525Z"
   },
   {
    "duration": 0,
    "start_time": "2022-08-12T16:03:23.839Z"
   },
   {
    "duration": 0,
    "start_time": "2022-08-12T16:03:23.841Z"
   },
   {
    "duration": 0,
    "start_time": "2022-08-12T16:03:23.842Z"
   },
   {
    "duration": 3413,
    "start_time": "2022-08-12T16:04:21.866Z"
   },
   {
    "duration": 85,
    "start_time": "2022-08-12T16:04:25.281Z"
   },
   {
    "duration": 14,
    "start_time": "2022-08-12T16:04:25.367Z"
   },
   {
    "duration": 27,
    "start_time": "2022-08-12T16:04:25.383Z"
   },
   {
    "duration": 19,
    "start_time": "2022-08-12T16:04:25.415Z"
   },
   {
    "duration": 6,
    "start_time": "2022-08-12T16:04:25.436Z"
   },
   {
    "duration": 269,
    "start_time": "2022-08-12T16:04:25.444Z"
   },
   {
    "duration": 137,
    "start_time": "2022-08-12T16:04:25.715Z"
   },
   {
    "duration": 278,
    "start_time": "2022-08-12T16:04:25.854Z"
   },
   {
    "duration": 28,
    "start_time": "2022-08-12T16:04:26.136Z"
   },
   {
    "duration": 5,
    "start_time": "2022-08-12T16:04:26.166Z"
   },
   {
    "duration": 50,
    "start_time": "2022-08-12T16:04:26.173Z"
   },
   {
    "duration": 11,
    "start_time": "2022-08-12T16:04:26.225Z"
   },
   {
    "duration": 869,
    "start_time": "2022-08-12T16:04:26.238Z"
   },
   {
    "duration": 28,
    "start_time": "2022-08-12T16:04:27.113Z"
   },
   {
    "duration": 234,
    "start_time": "2022-08-12T16:04:27.143Z"
   },
   {
    "duration": 2,
    "start_time": "2022-08-12T16:04:27.379Z"
   },
   {
    "duration": 90,
    "start_time": "2022-08-12T16:04:27.382Z"
   },
   {
    "duration": 38,
    "start_time": "2022-08-12T16:04:27.474Z"
   },
   {
    "duration": 33,
    "start_time": "2022-08-12T16:04:27.514Z"
   },
   {
    "duration": 16,
    "start_time": "2022-08-12T16:04:27.548Z"
   },
   {
    "duration": 66,
    "start_time": "2022-08-12T16:04:27.565Z"
   },
   {
    "duration": 606,
    "start_time": "2022-08-12T16:04:27.633Z"
   },
   {
    "duration": 387,
    "start_time": "2022-08-12T16:04:28.242Z"
   },
   {
    "duration": 0,
    "start_time": "2022-08-12T16:04:28.630Z"
   },
   {
    "duration": 0,
    "start_time": "2022-08-12T16:04:28.631Z"
   },
   {
    "duration": 0,
    "start_time": "2022-08-12T16:04:28.633Z"
   },
   {
    "duration": 75,
    "start_time": "2022-08-12T16:51:18.248Z"
   },
   {
    "duration": 457,
    "start_time": "2022-08-12T16:51:40.668Z"
   },
   {
    "duration": 3143,
    "start_time": "2022-08-12T16:52:30.083Z"
   },
   {
    "duration": 71,
    "start_time": "2022-08-12T16:52:33.228Z"
   },
   {
    "duration": 14,
    "start_time": "2022-08-12T16:52:33.300Z"
   },
   {
    "duration": 19,
    "start_time": "2022-08-12T16:52:33.316Z"
   },
   {
    "duration": 23,
    "start_time": "2022-08-12T16:52:33.337Z"
   },
   {
    "duration": 5,
    "start_time": "2022-08-12T16:52:33.361Z"
   },
   {
    "duration": 256,
    "start_time": "2022-08-12T16:52:33.368Z"
   },
   {
    "duration": 134,
    "start_time": "2022-08-12T16:52:33.625Z"
   },
   {
    "duration": 257,
    "start_time": "2022-08-12T16:52:33.761Z"
   },
   {
    "duration": 19,
    "start_time": "2022-08-12T16:52:34.021Z"
   },
   {
    "duration": 2,
    "start_time": "2022-08-12T16:52:34.042Z"
   },
   {
    "duration": 26,
    "start_time": "2022-08-12T16:52:34.045Z"
   },
   {
    "duration": 33,
    "start_time": "2022-08-12T16:52:34.073Z"
   },
   {
    "duration": 862,
    "start_time": "2022-08-12T16:52:34.108Z"
   },
   {
    "duration": 27,
    "start_time": "2022-08-12T16:52:34.971Z"
   },
   {
    "duration": 232,
    "start_time": "2022-08-12T16:52:35.000Z"
   },
   {
    "duration": 3,
    "start_time": "2022-08-12T16:52:35.233Z"
   },
   {
    "duration": 496,
    "start_time": "2022-08-12T16:52:35.238Z"
   },
   {
    "duration": 13,
    "start_time": "2022-08-12T16:52:35.736Z"
   },
   {
    "duration": 32,
    "start_time": "2022-08-12T16:52:35.750Z"
   },
   {
    "duration": 27,
    "start_time": "2022-08-12T16:52:35.784Z"
   },
   {
    "duration": 21,
    "start_time": "2022-08-12T16:52:35.813Z"
   },
   {
    "duration": 578,
    "start_time": "2022-08-12T16:52:35.836Z"
   },
   {
    "duration": 286,
    "start_time": "2022-08-12T16:52:36.416Z"
   },
   {
    "duration": 0,
    "start_time": "2022-08-12T16:52:36.703Z"
   },
   {
    "duration": 0,
    "start_time": "2022-08-12T16:52:36.704Z"
   },
   {
    "duration": 0,
    "start_time": "2022-08-12T16:52:36.705Z"
   },
   {
    "duration": 0,
    "start_time": "2022-08-12T16:52:36.706Z"
   },
   {
    "duration": 486,
    "start_time": "2022-08-12T16:54:34.989Z"
   },
   {
    "duration": 12,
    "start_time": "2022-08-12T16:54:38.443Z"
   },
   {
    "duration": 63,
    "start_time": "2022-08-12T16:55:22.159Z"
   },
   {
    "duration": 4,
    "start_time": "2022-08-12T16:55:22.734Z"
   },
   {
    "duration": 256,
    "start_time": "2022-08-12T16:55:38.455Z"
   },
   {
    "duration": 121,
    "start_time": "2022-08-12T16:56:42.927Z"
   },
   {
    "duration": 177,
    "start_time": "2022-08-12T16:57:15.975Z"
   },
   {
    "duration": 45,
    "start_time": "2022-08-12T16:57:33.780Z"
   },
   {
    "duration": 136,
    "start_time": "2022-08-12T16:58:55.963Z"
   },
   {
    "duration": 150,
    "start_time": "2022-08-12T16:59:39.183Z"
   },
   {
    "duration": 142,
    "start_time": "2022-08-12T17:00:42.822Z"
   },
   {
    "duration": 206,
    "start_time": "2022-08-12T17:02:39.532Z"
   },
   {
    "duration": 144,
    "start_time": "2022-08-12T17:02:50.839Z"
   },
   {
    "duration": 181,
    "start_time": "2022-08-12T17:03:17.319Z"
   },
   {
    "duration": 133,
    "start_time": "2022-08-12T17:03:29.655Z"
   },
   {
    "duration": 135,
    "start_time": "2022-08-12T17:03:42.147Z"
   },
   {
    "duration": 134,
    "start_time": "2022-08-12T17:04:58.545Z"
   },
   {
    "duration": 214,
    "start_time": "2022-08-12T17:05:22.812Z"
   },
   {
    "duration": 135,
    "start_time": "2022-08-12T17:07:42.091Z"
   },
   {
    "duration": 142,
    "start_time": "2022-08-12T17:08:41.953Z"
   },
   {
    "duration": 67,
    "start_time": "2022-08-12T17:09:03.713Z"
   },
   {
    "duration": 147,
    "start_time": "2022-08-12T17:10:03.913Z"
   },
   {
    "duration": 133,
    "start_time": "2022-08-12T17:11:47.604Z"
   },
   {
    "duration": 3142,
    "start_time": "2022-08-12T17:11:54.000Z"
   },
   {
    "duration": 71,
    "start_time": "2022-08-12T17:11:57.144Z"
   },
   {
    "duration": 12,
    "start_time": "2022-08-12T17:11:57.217Z"
   },
   {
    "duration": 12,
    "start_time": "2022-08-12T17:11:57.231Z"
   },
   {
    "duration": 21,
    "start_time": "2022-08-12T17:11:57.244Z"
   },
   {
    "duration": 4,
    "start_time": "2022-08-12T17:11:57.267Z"
   },
   {
    "duration": 251,
    "start_time": "2022-08-12T17:11:57.273Z"
   },
   {
    "duration": 143,
    "start_time": "2022-08-12T17:11:57.526Z"
   },
   {
    "duration": 253,
    "start_time": "2022-08-12T17:11:57.671Z"
   },
   {
    "duration": 24,
    "start_time": "2022-08-12T17:11:57.927Z"
   },
   {
    "duration": 2,
    "start_time": "2022-08-12T17:11:57.953Z"
   },
   {
    "duration": 50,
    "start_time": "2022-08-12T17:11:57.957Z"
   },
   {
    "duration": 10,
    "start_time": "2022-08-12T17:11:58.009Z"
   },
   {
    "duration": 852,
    "start_time": "2022-08-12T17:11:58.021Z"
   },
   {
    "duration": 17,
    "start_time": "2022-08-12T17:11:58.875Z"
   },
   {
    "duration": 226,
    "start_time": "2022-08-12T17:11:58.893Z"
   },
   {
    "duration": 3,
    "start_time": "2022-08-12T17:11:59.121Z"
   },
   {
    "duration": 146,
    "start_time": "2022-08-12T17:11:59.126Z"
   },
   {
    "duration": 11,
    "start_time": "2022-08-12T17:11:59.274Z"
   },
   {
    "duration": 35,
    "start_time": "2022-08-12T17:11:59.286Z"
   },
   {
    "duration": 14,
    "start_time": "2022-08-12T17:11:59.323Z"
   },
   {
    "duration": 21,
    "start_time": "2022-08-12T17:11:59.338Z"
   },
   {
    "duration": 568,
    "start_time": "2022-08-12T17:11:59.361Z"
   },
   {
    "duration": 253,
    "start_time": "2022-08-12T17:11:59.930Z"
   },
   {
    "duration": 0,
    "start_time": "2022-08-12T17:12:00.185Z"
   },
   {
    "duration": 0,
    "start_time": "2022-08-12T17:12:00.186Z"
   },
   {
    "duration": 0,
    "start_time": "2022-08-12T17:12:00.186Z"
   },
   {
    "duration": 0,
    "start_time": "2022-08-12T17:12:00.198Z"
   },
   {
    "duration": 87,
    "start_time": "2022-08-12T17:12:37.386Z"
   },
   {
    "duration": 159,
    "start_time": "2022-08-12T17:12:54.649Z"
   },
   {
    "duration": 84,
    "start_time": "2022-08-12T17:13:02.458Z"
   },
   {
    "duration": 84,
    "start_time": "2022-08-12T17:13:45.962Z"
   },
   {
    "duration": 92,
    "start_time": "2022-08-12T17:14:31.882Z"
   },
   {
    "duration": 83,
    "start_time": "2022-08-12T17:14:39.723Z"
   },
   {
    "duration": 87,
    "start_time": "2022-08-12T17:14:51.971Z"
   },
   {
    "duration": 3187,
    "start_time": "2022-08-12T17:14:59.342Z"
   },
   {
    "duration": 72,
    "start_time": "2022-08-12T17:15:02.531Z"
   },
   {
    "duration": 13,
    "start_time": "2022-08-12T17:15:02.605Z"
   },
   {
    "duration": 26,
    "start_time": "2022-08-12T17:15:02.619Z"
   },
   {
    "duration": 21,
    "start_time": "2022-08-12T17:15:02.646Z"
   },
   {
    "duration": 17,
    "start_time": "2022-08-12T17:15:02.669Z"
   },
   {
    "duration": 258,
    "start_time": "2022-08-12T17:15:02.687Z"
   },
   {
    "duration": 181,
    "start_time": "2022-08-12T17:15:02.946Z"
   },
   {
    "duration": 340,
    "start_time": "2022-08-12T17:15:03.129Z"
   },
   {
    "duration": 31,
    "start_time": "2022-08-12T17:15:03.473Z"
   },
   {
    "duration": 2,
    "start_time": "2022-08-12T17:15:03.506Z"
   },
   {
    "duration": 33,
    "start_time": "2022-08-12T17:15:03.509Z"
   },
   {
    "duration": 11,
    "start_time": "2022-08-12T17:15:03.543Z"
   },
   {
    "duration": 823,
    "start_time": "2022-08-12T17:15:03.555Z"
   },
   {
    "duration": 21,
    "start_time": "2022-08-12T17:15:04.381Z"
   },
   {
    "duration": 274,
    "start_time": "2022-08-12T17:15:04.404Z"
   },
   {
    "duration": 2,
    "start_time": "2022-08-12T17:15:04.680Z"
   },
   {
    "duration": 99,
    "start_time": "2022-08-12T17:15:04.684Z"
   },
   {
    "duration": 14,
    "start_time": "2022-08-12T17:15:04.784Z"
   },
   {
    "duration": 30,
    "start_time": "2022-08-12T17:15:04.800Z"
   },
   {
    "duration": 14,
    "start_time": "2022-08-12T17:15:04.831Z"
   },
   {
    "duration": 27,
    "start_time": "2022-08-12T17:15:04.846Z"
   },
   {
    "duration": 624,
    "start_time": "2022-08-12T17:15:04.899Z"
   },
   {
    "duration": 297,
    "start_time": "2022-08-12T17:15:05.525Z"
   },
   {
    "duration": 0,
    "start_time": "2022-08-12T17:15:05.824Z"
   },
   {
    "duration": 0,
    "start_time": "2022-08-12T17:15:05.825Z"
   },
   {
    "duration": 0,
    "start_time": "2022-08-12T17:15:05.826Z"
   },
   {
    "duration": 0,
    "start_time": "2022-08-12T17:15:05.826Z"
   },
   {
    "duration": 88,
    "start_time": "2022-08-12T17:15:33.372Z"
   },
   {
    "duration": 153,
    "start_time": "2022-08-12T17:15:56.921Z"
   },
   {
    "duration": 87,
    "start_time": "2022-08-12T17:16:38.899Z"
   },
   {
    "duration": 89,
    "start_time": "2022-08-12T17:17:52.859Z"
   },
   {
    "duration": 85,
    "start_time": "2022-08-12T17:18:00.477Z"
   },
   {
    "duration": 87,
    "start_time": "2022-08-12T17:19:03.551Z"
   },
   {
    "duration": 99,
    "start_time": "2022-08-12T17:19:11.280Z"
   },
   {
    "duration": 66,
    "start_time": "2022-08-12T17:20:02.936Z"
   },
   {
    "duration": 180,
    "start_time": "2022-08-12T17:20:10.478Z"
   },
   {
    "duration": 89,
    "start_time": "2022-08-12T17:20:40.078Z"
   },
   {
    "duration": 96,
    "start_time": "2022-08-12T17:20:57.897Z"
   },
   {
    "duration": 150,
    "start_time": "2022-08-12T17:21:04.265Z"
   },
   {
    "duration": 76,
    "start_time": "2022-08-12T17:21:38.999Z"
   },
   {
    "duration": 73,
    "start_time": "2022-08-12T17:21:57.823Z"
   },
   {
    "duration": 153,
    "start_time": "2022-08-12T17:23:26.498Z"
   },
   {
    "duration": 35,
    "start_time": "2022-08-12T17:23:33.578Z"
   },
   {
    "duration": 259,
    "start_time": "2022-08-12T17:28:12.073Z"
   },
   {
    "duration": 18,
    "start_time": "2022-08-12T17:28:26.685Z"
   },
   {
    "duration": 45,
    "start_time": "2022-08-12T17:28:27.742Z"
   },
   {
    "duration": 27,
    "start_time": "2022-08-12T17:28:34.739Z"
   },
   {
    "duration": 8,
    "start_time": "2022-08-12T17:29:37.045Z"
   },
   {
    "duration": 5,
    "start_time": "2022-08-12T17:29:44.788Z"
   },
   {
    "duration": 43,
    "start_time": "2022-08-12T17:30:53.563Z"
   },
   {
    "duration": 734,
    "start_time": "2022-08-12T17:31:03.059Z"
   },
   {
    "duration": 746,
    "start_time": "2022-08-12T17:31:23.770Z"
   },
   {
    "duration": 37,
    "start_time": "2022-08-12T17:34:22.612Z"
   },
   {
    "duration": 3238,
    "start_time": "2022-08-12T17:35:22.135Z"
   },
   {
    "duration": 77,
    "start_time": "2022-08-12T17:35:25.376Z"
   },
   {
    "duration": 12,
    "start_time": "2022-08-12T17:35:25.455Z"
   },
   {
    "duration": 14,
    "start_time": "2022-08-12T17:35:25.469Z"
   },
   {
    "duration": 25,
    "start_time": "2022-08-12T17:35:25.485Z"
   },
   {
    "duration": 5,
    "start_time": "2022-08-12T17:35:25.512Z"
   },
   {
    "duration": 253,
    "start_time": "2022-08-12T17:35:25.519Z"
   },
   {
    "duration": 142,
    "start_time": "2022-08-12T17:35:25.774Z"
   },
   {
    "duration": 274,
    "start_time": "2022-08-12T17:35:25.918Z"
   },
   {
    "duration": 33,
    "start_time": "2022-08-12T17:35:26.197Z"
   },
   {
    "duration": 2,
    "start_time": "2022-08-12T17:35:26.232Z"
   },
   {
    "duration": 34,
    "start_time": "2022-08-12T17:35:26.235Z"
   },
   {
    "duration": 11,
    "start_time": "2022-08-12T17:35:26.271Z"
   },
   {
    "duration": 869,
    "start_time": "2022-08-12T17:35:26.284Z"
   },
   {
    "duration": 15,
    "start_time": "2022-08-12T17:35:27.156Z"
   },
   {
    "duration": 247,
    "start_time": "2022-08-12T17:35:27.173Z"
   },
   {
    "duration": 2,
    "start_time": "2022-08-12T17:35:27.422Z"
   },
   {
    "duration": 128,
    "start_time": "2022-08-12T17:35:27.425Z"
   },
   {
    "duration": 0,
    "start_time": "2022-08-12T17:35:27.556Z"
   },
   {
    "duration": 0,
    "start_time": "2022-08-12T17:35:27.557Z"
   },
   {
    "duration": 0,
    "start_time": "2022-08-12T17:35:27.558Z"
   },
   {
    "duration": 0,
    "start_time": "2022-08-12T17:35:27.560Z"
   },
   {
    "duration": 0,
    "start_time": "2022-08-12T17:35:27.561Z"
   },
   {
    "duration": 0,
    "start_time": "2022-08-12T17:35:27.563Z"
   },
   {
    "duration": 0,
    "start_time": "2022-08-12T17:35:27.564Z"
   },
   {
    "duration": 0,
    "start_time": "2022-08-12T17:35:27.565Z"
   },
   {
    "duration": 1,
    "start_time": "2022-08-12T17:35:27.566Z"
   },
   {
    "duration": 0,
    "start_time": "2022-08-12T17:35:27.568Z"
   },
   {
    "duration": 0,
    "start_time": "2022-08-12T17:35:27.569Z"
   },
   {
    "duration": 9,
    "start_time": "2022-08-12T17:36:10.860Z"
   },
   {
    "duration": 3237,
    "start_time": "2022-08-12T17:36:21.074Z"
   },
   {
    "duration": 74,
    "start_time": "2022-08-12T17:36:24.314Z"
   },
   {
    "duration": 28,
    "start_time": "2022-08-12T17:36:24.390Z"
   },
   {
    "duration": 19,
    "start_time": "2022-08-12T17:36:24.420Z"
   },
   {
    "duration": 23,
    "start_time": "2022-08-12T17:36:24.441Z"
   },
   {
    "duration": 5,
    "start_time": "2022-08-12T17:36:24.466Z"
   },
   {
    "duration": 306,
    "start_time": "2022-08-12T17:36:24.473Z"
   },
   {
    "duration": 136,
    "start_time": "2022-08-12T17:36:24.781Z"
   },
   {
    "duration": 262,
    "start_time": "2022-08-12T17:36:24.919Z"
   },
   {
    "duration": 30,
    "start_time": "2022-08-12T17:36:25.184Z"
   },
   {
    "duration": 3,
    "start_time": "2022-08-12T17:36:25.215Z"
   },
   {
    "duration": 31,
    "start_time": "2022-08-12T17:36:25.219Z"
   },
   {
    "duration": 11,
    "start_time": "2022-08-12T17:36:25.252Z"
   },
   {
    "duration": 833,
    "start_time": "2022-08-12T17:36:25.265Z"
   },
   {
    "duration": 18,
    "start_time": "2022-08-12T17:36:26.105Z"
   },
   {
    "duration": 233,
    "start_time": "2022-08-12T17:36:26.125Z"
   },
   {
    "duration": 3,
    "start_time": "2022-08-12T17:36:26.360Z"
   },
   {
    "duration": 95,
    "start_time": "2022-08-12T17:36:26.364Z"
   },
   {
    "duration": 12,
    "start_time": "2022-08-12T17:36:26.461Z"
   },
   {
    "duration": 45,
    "start_time": "2022-08-12T17:36:26.475Z"
   },
   {
    "duration": 44,
    "start_time": "2022-08-12T17:36:26.522Z"
   },
   {
    "duration": 0,
    "start_time": "2022-08-12T17:36:26.568Z"
   },
   {
    "duration": 0,
    "start_time": "2022-08-12T17:36:26.569Z"
   },
   {
    "duration": 0,
    "start_time": "2022-08-12T17:36:26.570Z"
   },
   {
    "duration": 0,
    "start_time": "2022-08-12T17:36:26.571Z"
   },
   {
    "duration": 0,
    "start_time": "2022-08-12T17:36:26.572Z"
   },
   {
    "duration": 0,
    "start_time": "2022-08-12T17:36:26.573Z"
   },
   {
    "duration": 0,
    "start_time": "2022-08-12T17:36:26.575Z"
   },
   {
    "duration": 0,
    "start_time": "2022-08-12T17:36:26.576Z"
   },
   {
    "duration": 3185,
    "start_time": "2022-08-12T17:36:52.263Z"
   },
   {
    "duration": 74,
    "start_time": "2022-08-12T17:36:55.450Z"
   },
   {
    "duration": 16,
    "start_time": "2022-08-12T17:36:55.526Z"
   },
   {
    "duration": 12,
    "start_time": "2022-08-12T17:36:55.543Z"
   },
   {
    "duration": 30,
    "start_time": "2022-08-12T17:36:55.557Z"
   },
   {
    "duration": 21,
    "start_time": "2022-08-12T17:36:55.589Z"
   },
   {
    "duration": 237,
    "start_time": "2022-08-12T17:36:55.612Z"
   },
   {
    "duration": 136,
    "start_time": "2022-08-12T17:36:55.850Z"
   },
   {
    "duration": 260,
    "start_time": "2022-08-12T17:36:55.988Z"
   },
   {
    "duration": 18,
    "start_time": "2022-08-12T17:36:56.250Z"
   },
   {
    "duration": 2,
    "start_time": "2022-08-12T17:36:56.270Z"
   },
   {
    "duration": 47,
    "start_time": "2022-08-12T17:36:56.273Z"
   },
   {
    "duration": 9,
    "start_time": "2022-08-12T17:36:56.322Z"
   },
   {
    "duration": 796,
    "start_time": "2022-08-12T17:36:56.333Z"
   },
   {
    "duration": 15,
    "start_time": "2022-08-12T17:36:57.131Z"
   },
   {
    "duration": 214,
    "start_time": "2022-08-12T17:36:57.148Z"
   },
   {
    "duration": 3,
    "start_time": "2022-08-12T17:36:57.364Z"
   },
   {
    "duration": 85,
    "start_time": "2022-08-12T17:36:57.368Z"
   },
   {
    "duration": 13,
    "start_time": "2022-08-12T17:36:57.454Z"
   },
   {
    "duration": 54,
    "start_time": "2022-08-12T17:36:57.469Z"
   },
   {
    "duration": 24,
    "start_time": "2022-08-12T17:36:57.525Z"
   },
   {
    "duration": 967,
    "start_time": "2022-08-12T17:36:57.550Z"
   },
   {
    "duration": 0,
    "start_time": "2022-08-12T17:36:58.519Z"
   },
   {
    "duration": 0,
    "start_time": "2022-08-12T17:36:58.521Z"
   },
   {
    "duration": 1,
    "start_time": "2022-08-12T17:36:58.521Z"
   },
   {
    "duration": 0,
    "start_time": "2022-08-12T17:36:58.523Z"
   },
   {
    "duration": 0,
    "start_time": "2022-08-12T17:36:58.524Z"
   },
   {
    "duration": 0,
    "start_time": "2022-08-12T17:36:58.524Z"
   },
   {
    "duration": 16,
    "start_time": "2022-08-12T17:37:34.759Z"
   },
   {
    "duration": 14,
    "start_time": "2022-08-12T17:37:42.774Z"
   },
   {
    "duration": 39,
    "start_time": "2022-08-12T17:37:52.192Z"
   },
   {
    "duration": 39,
    "start_time": "2022-08-12T17:38:30.950Z"
   },
   {
    "duration": 166,
    "start_time": "2022-08-12T17:39:58.246Z"
   },
   {
    "duration": 93,
    "start_time": "2022-08-12T17:45:55.072Z"
   },
   {
    "duration": 14,
    "start_time": "2022-08-12T17:46:00.612Z"
   },
   {
    "duration": 34,
    "start_time": "2022-08-12T17:46:01.524Z"
   },
   {
    "duration": 41,
    "start_time": "2022-08-12T17:46:04.226Z"
   },
   {
    "duration": 3184,
    "start_time": "2022-08-12T17:48:46.136Z"
   },
   {
    "duration": 73,
    "start_time": "2022-08-12T17:48:49.322Z"
   },
   {
    "duration": 15,
    "start_time": "2022-08-12T17:48:49.404Z"
   },
   {
    "duration": 20,
    "start_time": "2022-08-12T17:48:49.421Z"
   },
   {
    "duration": 17,
    "start_time": "2022-08-12T17:48:49.443Z"
   },
   {
    "duration": 4,
    "start_time": "2022-08-12T17:48:49.462Z"
   },
   {
    "duration": 265,
    "start_time": "2022-08-12T17:48:49.468Z"
   },
   {
    "duration": 139,
    "start_time": "2022-08-12T17:48:49.735Z"
   },
   {
    "duration": 265,
    "start_time": "2022-08-12T17:48:49.875Z"
   },
   {
    "duration": 22,
    "start_time": "2022-08-12T17:48:50.142Z"
   },
   {
    "duration": 3,
    "start_time": "2022-08-12T17:48:50.165Z"
   },
   {
    "duration": 58,
    "start_time": "2022-08-12T17:48:50.169Z"
   },
   {
    "duration": 13,
    "start_time": "2022-08-12T17:48:50.230Z"
   },
   {
    "duration": 826,
    "start_time": "2022-08-12T17:48:50.244Z"
   },
   {
    "duration": 15,
    "start_time": "2022-08-12T17:48:51.071Z"
   },
   {
    "duration": 227,
    "start_time": "2022-08-12T17:48:51.087Z"
   },
   {
    "duration": 3,
    "start_time": "2022-08-12T17:48:51.316Z"
   },
   {
    "duration": 534,
    "start_time": "2022-08-12T17:48:51.321Z"
   },
   {
    "duration": 14,
    "start_time": "2022-08-12T17:48:51.856Z"
   },
   {
    "duration": 51,
    "start_time": "2022-08-12T17:48:51.871Z"
   },
   {
    "duration": 44,
    "start_time": "2022-08-12T17:48:51.923Z"
   },
   {
    "duration": 871,
    "start_time": "2022-08-12T17:48:51.969Z"
   },
   {
    "duration": 0,
    "start_time": "2022-08-12T17:48:52.841Z"
   },
   {
    "duration": 0,
    "start_time": "2022-08-12T17:48:52.842Z"
   },
   {
    "duration": 0,
    "start_time": "2022-08-12T17:48:52.843Z"
   },
   {
    "duration": 0,
    "start_time": "2022-08-12T17:48:52.844Z"
   },
   {
    "duration": 0,
    "start_time": "2022-08-12T17:48:52.846Z"
   },
   {
    "duration": 0,
    "start_time": "2022-08-12T17:48:52.846Z"
   },
   {
    "duration": 3126,
    "start_time": "2022-08-12T17:49:58.258Z"
   },
   {
    "duration": 84,
    "start_time": "2022-08-12T17:50:01.386Z"
   },
   {
    "duration": 13,
    "start_time": "2022-08-12T17:50:01.472Z"
   },
   {
    "duration": 22,
    "start_time": "2022-08-12T17:50:01.488Z"
   },
   {
    "duration": 29,
    "start_time": "2022-08-12T17:50:01.512Z"
   },
   {
    "duration": 5,
    "start_time": "2022-08-12T17:50:01.542Z"
   },
   {
    "duration": 244,
    "start_time": "2022-08-12T17:50:01.548Z"
   },
   {
    "duration": 156,
    "start_time": "2022-08-12T17:50:01.794Z"
   },
   {
    "duration": 256,
    "start_time": "2022-08-12T17:50:01.952Z"
   },
   {
    "duration": 20,
    "start_time": "2022-08-12T17:50:02.211Z"
   },
   {
    "duration": 2,
    "start_time": "2022-08-12T17:50:02.232Z"
   },
   {
    "duration": 40,
    "start_time": "2022-08-12T17:50:02.235Z"
   },
   {
    "duration": 9,
    "start_time": "2022-08-12T17:50:02.276Z"
   },
   {
    "duration": 828,
    "start_time": "2022-08-12T17:50:02.286Z"
   },
   {
    "duration": 15,
    "start_time": "2022-08-12T17:50:03.116Z"
   },
   {
    "duration": 223,
    "start_time": "2022-08-12T17:50:03.133Z"
   },
   {
    "duration": 2,
    "start_time": "2022-08-12T17:50:03.358Z"
   },
   {
    "duration": 521,
    "start_time": "2022-08-12T17:50:03.362Z"
   },
   {
    "duration": 14,
    "start_time": "2022-08-12T17:50:03.884Z"
   },
   {
    "duration": 46,
    "start_time": "2022-08-12T17:50:03.899Z"
   },
   {
    "duration": 40,
    "start_time": "2022-08-12T17:50:03.947Z"
   },
   {
    "duration": 1129,
    "start_time": "2022-08-12T17:50:03.990Z"
   },
   {
    "duration": 0,
    "start_time": "2022-08-12T17:50:05.121Z"
   },
   {
    "duration": 0,
    "start_time": "2022-08-12T17:50:05.123Z"
   },
   {
    "duration": 0,
    "start_time": "2022-08-12T17:50:05.124Z"
   },
   {
    "duration": 0,
    "start_time": "2022-08-12T17:50:05.125Z"
   },
   {
    "duration": 0,
    "start_time": "2022-08-12T17:50:05.127Z"
   },
   {
    "duration": 0,
    "start_time": "2022-08-12T17:50:05.128Z"
   },
   {
    "duration": 3120,
    "start_time": "2022-08-12T17:50:28.461Z"
   },
   {
    "duration": 72,
    "start_time": "2022-08-12T17:50:31.583Z"
   },
   {
    "duration": 13,
    "start_time": "2022-08-12T17:50:31.656Z"
   },
   {
    "duration": 34,
    "start_time": "2022-08-12T17:50:31.670Z"
   },
   {
    "duration": 25,
    "start_time": "2022-08-12T17:50:31.707Z"
   },
   {
    "duration": 4,
    "start_time": "2022-08-12T17:50:31.734Z"
   },
   {
    "duration": 240,
    "start_time": "2022-08-12T17:50:31.739Z"
   },
   {
    "duration": 140,
    "start_time": "2022-08-12T17:50:31.981Z"
   },
   {
    "duration": 253,
    "start_time": "2022-08-12T17:50:32.123Z"
   },
   {
    "duration": 32,
    "start_time": "2022-08-12T17:50:32.378Z"
   },
   {
    "duration": 3,
    "start_time": "2022-08-12T17:50:32.412Z"
   },
   {
    "duration": 27,
    "start_time": "2022-08-12T17:50:32.417Z"
   },
   {
    "duration": 9,
    "start_time": "2022-08-12T17:50:32.446Z"
   },
   {
    "duration": 837,
    "start_time": "2022-08-12T17:50:32.457Z"
   },
   {
    "duration": 20,
    "start_time": "2022-08-12T17:50:33.295Z"
   },
   {
    "duration": 237,
    "start_time": "2022-08-12T17:50:33.316Z"
   },
   {
    "duration": 3,
    "start_time": "2022-08-12T17:50:33.554Z"
   },
   {
    "duration": 536,
    "start_time": "2022-08-12T17:50:33.558Z"
   },
   {
    "duration": 15,
    "start_time": "2022-08-12T17:50:34.098Z"
   },
   {
    "duration": 35,
    "start_time": "2022-08-12T17:50:34.115Z"
   },
   {
    "duration": 65,
    "start_time": "2022-08-12T17:50:34.152Z"
   },
   {
    "duration": 968,
    "start_time": "2022-08-12T17:50:34.220Z"
   },
   {
    "duration": 0,
    "start_time": "2022-08-12T17:50:35.190Z"
   },
   {
    "duration": 0,
    "start_time": "2022-08-12T17:50:35.191Z"
   },
   {
    "duration": 0,
    "start_time": "2022-08-12T17:50:35.192Z"
   },
   {
    "duration": 0,
    "start_time": "2022-08-12T17:50:35.193Z"
   },
   {
    "duration": 0,
    "start_time": "2022-08-12T17:50:35.194Z"
   },
   {
    "duration": 0,
    "start_time": "2022-08-12T17:50:35.195Z"
   },
   {
    "duration": 55,
    "start_time": "2022-08-12T18:36:48.928Z"
   },
   {
    "duration": 53,
    "start_time": "2022-08-12T18:37:16.313Z"
   },
   {
    "duration": 233,
    "start_time": "2022-08-12T18:38:35.040Z"
   },
   {
    "duration": 60,
    "start_time": "2022-08-12T18:38:48.793Z"
   },
   {
    "duration": 61,
    "start_time": "2022-08-12T18:40:11.823Z"
   },
   {
    "duration": 244,
    "start_time": "2022-08-12T18:40:17.510Z"
   },
   {
    "duration": 10,
    "start_time": "2022-08-12T18:41:27.262Z"
   },
   {
    "duration": 214,
    "start_time": "2022-08-12T18:41:51.496Z"
   },
   {
    "duration": 7,
    "start_time": "2022-08-12T18:44:11.571Z"
   },
   {
    "duration": 11,
    "start_time": "2022-08-12T18:45:17.075Z"
   },
   {
    "duration": 195,
    "start_time": "2022-08-13T07:30:35.883Z"
   },
   {
    "duration": 248,
    "start_time": "2022-08-13T07:30:49.857Z"
   },
   {
    "duration": 5,
    "start_time": "2022-08-13T07:33:29.108Z"
   },
   {
    "duration": 38,
    "start_time": "2022-08-13T07:34:07.243Z"
   },
   {
    "duration": 3004,
    "start_time": "2022-08-13T07:34:43.080Z"
   },
   {
    "duration": 66,
    "start_time": "2022-08-13T07:34:46.086Z"
   },
   {
    "duration": 13,
    "start_time": "2022-08-13T07:34:46.153Z"
   },
   {
    "duration": 12,
    "start_time": "2022-08-13T07:34:46.167Z"
   },
   {
    "duration": 19,
    "start_time": "2022-08-13T07:34:46.180Z"
   },
   {
    "duration": 5,
    "start_time": "2022-08-13T07:34:46.200Z"
   },
   {
    "duration": 221,
    "start_time": "2022-08-13T07:34:46.207Z"
   },
   {
    "duration": 124,
    "start_time": "2022-08-13T07:34:46.429Z"
   },
   {
    "duration": 219,
    "start_time": "2022-08-13T07:34:46.554Z"
   },
   {
    "duration": 24,
    "start_time": "2022-08-13T07:34:46.775Z"
   },
   {
    "duration": 2,
    "start_time": "2022-08-13T07:34:46.800Z"
   },
   {
    "duration": 22,
    "start_time": "2022-08-13T07:34:46.803Z"
   },
   {
    "duration": 8,
    "start_time": "2022-08-13T07:34:46.826Z"
   },
   {
    "duration": 758,
    "start_time": "2022-08-13T07:34:46.835Z"
   },
   {
    "duration": 14,
    "start_time": "2022-08-13T07:34:47.595Z"
   },
   {
    "duration": 210,
    "start_time": "2022-08-13T07:34:47.610Z"
   },
   {
    "duration": 3,
    "start_time": "2022-08-13T07:34:47.821Z"
   },
   {
    "duration": 464,
    "start_time": "2022-08-13T07:34:47.825Z"
   },
   {
    "duration": 12,
    "start_time": "2022-08-13T07:34:48.290Z"
   },
   {
    "duration": 28,
    "start_time": "2022-08-13T07:34:48.304Z"
   },
   {
    "duration": 34,
    "start_time": "2022-08-13T07:34:48.333Z"
   },
   {
    "duration": 5,
    "start_time": "2022-08-13T07:34:48.369Z"
   },
   {
    "duration": 49,
    "start_time": "2022-08-13T07:34:48.375Z"
   },
   {
    "duration": 13,
    "start_time": "2022-08-13T07:34:48.426Z"
   },
   {
    "duration": 568,
    "start_time": "2022-08-13T07:34:48.441Z"
   },
   {
    "duration": 208,
    "start_time": "2022-08-13T07:34:49.011Z"
   },
   {
    "duration": 0,
    "start_time": "2022-08-13T07:34:49.221Z"
   },
   {
    "duration": 0,
    "start_time": "2022-08-13T07:34:49.222Z"
   },
   {
    "duration": 0,
    "start_time": "2022-08-13T07:34:49.223Z"
   },
   {
    "duration": 17,
    "start_time": "2022-08-13T07:52:32.360Z"
   },
   {
    "duration": 34,
    "start_time": "2022-08-13T07:52:35.588Z"
   },
   {
    "duration": 13,
    "start_time": "2022-08-13T07:53:11.227Z"
   },
   {
    "duration": 19,
    "start_time": "2022-08-13T07:54:59.666Z"
   },
   {
    "duration": 22,
    "start_time": "2022-08-13T07:55:03.505Z"
   },
   {
    "duration": 5,
    "start_time": "2022-08-13T07:56:46.570Z"
   },
   {
    "duration": 5,
    "start_time": "2022-08-13T07:57:05.309Z"
   },
   {
    "duration": 16,
    "start_time": "2022-08-13T07:57:58.822Z"
   },
   {
    "duration": 2909,
    "start_time": "2022-08-13T07:59:04.091Z"
   },
   {
    "duration": 74,
    "start_time": "2022-08-13T07:59:07.002Z"
   },
   {
    "duration": 13,
    "start_time": "2022-08-13T07:59:07.077Z"
   },
   {
    "duration": 16,
    "start_time": "2022-08-13T07:59:07.092Z"
   },
   {
    "duration": 17,
    "start_time": "2022-08-13T07:59:07.110Z"
   },
   {
    "duration": 5,
    "start_time": "2022-08-13T07:59:07.128Z"
   },
   {
    "duration": 233,
    "start_time": "2022-08-13T07:59:07.134Z"
   },
   {
    "duration": 140,
    "start_time": "2022-08-13T07:59:07.369Z"
   },
   {
    "duration": 232,
    "start_time": "2022-08-13T07:59:07.511Z"
   },
   {
    "duration": 18,
    "start_time": "2022-08-13T07:59:07.744Z"
   },
   {
    "duration": 2,
    "start_time": "2022-08-13T07:59:07.764Z"
   },
   {
    "duration": 38,
    "start_time": "2022-08-13T07:59:07.767Z"
   },
   {
    "duration": 7,
    "start_time": "2022-08-13T07:59:07.807Z"
   },
   {
    "duration": 780,
    "start_time": "2022-08-13T07:59:07.817Z"
   },
   {
    "duration": 16,
    "start_time": "2022-08-13T07:59:08.599Z"
   },
   {
    "duration": 201,
    "start_time": "2022-08-13T07:59:08.617Z"
   },
   {
    "duration": 2,
    "start_time": "2022-08-13T07:59:08.820Z"
   },
   {
    "duration": 457,
    "start_time": "2022-08-13T07:59:08.823Z"
   },
   {
    "duration": 18,
    "start_time": "2022-08-13T07:59:09.282Z"
   },
   {
    "duration": 31,
    "start_time": "2022-08-13T07:59:09.301Z"
   },
   {
    "duration": 33,
    "start_time": "2022-08-13T07:59:09.334Z"
   },
   {
    "duration": 5,
    "start_time": "2022-08-13T07:59:09.369Z"
   },
   {
    "duration": 35,
    "start_time": "2022-08-13T07:59:09.375Z"
   },
   {
    "duration": 16,
    "start_time": "2022-08-13T07:59:09.411Z"
   },
   {
    "duration": 4,
    "start_time": "2022-08-13T07:59:09.428Z"
   },
   {
    "duration": 498,
    "start_time": "2022-08-13T07:59:09.433Z"
   },
   {
    "duration": 259,
    "start_time": "2022-08-13T07:59:09.933Z"
   },
   {
    "duration": 0,
    "start_time": "2022-08-13T07:59:10.198Z"
   },
   {
    "duration": 0,
    "start_time": "2022-08-13T07:59:10.199Z"
   },
   {
    "duration": 0,
    "start_time": "2022-08-13T07:59:10.200Z"
   },
   {
    "duration": 4,
    "start_time": "2022-08-13T08:00:22.736Z"
   },
   {
    "duration": 2874,
    "start_time": "2022-08-13T08:00:29.205Z"
   },
   {
    "duration": 65,
    "start_time": "2022-08-13T08:00:32.081Z"
   },
   {
    "duration": 11,
    "start_time": "2022-08-13T08:00:32.148Z"
   },
   {
    "duration": 10,
    "start_time": "2022-08-13T08:00:32.161Z"
   },
   {
    "duration": 15,
    "start_time": "2022-08-13T08:00:32.173Z"
   },
   {
    "duration": 11,
    "start_time": "2022-08-13T08:00:32.189Z"
   },
   {
    "duration": 215,
    "start_time": "2022-08-13T08:00:32.201Z"
   },
   {
    "duration": 124,
    "start_time": "2022-08-13T08:00:32.418Z"
   },
   {
    "duration": 222,
    "start_time": "2022-08-13T08:00:32.544Z"
   },
   {
    "duration": 18,
    "start_time": "2022-08-13T08:00:32.767Z"
   },
   {
    "duration": 2,
    "start_time": "2022-08-13T08:00:32.786Z"
   },
   {
    "duration": 22,
    "start_time": "2022-08-13T08:00:32.798Z"
   },
   {
    "duration": 7,
    "start_time": "2022-08-13T08:00:32.821Z"
   },
   {
    "duration": 766,
    "start_time": "2022-08-13T08:00:32.831Z"
   },
   {
    "duration": 15,
    "start_time": "2022-08-13T08:00:33.599Z"
   },
   {
    "duration": 211,
    "start_time": "2022-08-13T08:00:33.615Z"
   },
   {
    "duration": 2,
    "start_time": "2022-08-13T08:00:33.827Z"
   },
   {
    "duration": 468,
    "start_time": "2022-08-13T08:00:33.831Z"
   },
   {
    "duration": 11,
    "start_time": "2022-08-13T08:00:34.301Z"
   },
   {
    "duration": 31,
    "start_time": "2022-08-13T08:00:34.313Z"
   },
   {
    "duration": 42,
    "start_time": "2022-08-13T08:00:34.346Z"
   },
   {
    "duration": 10,
    "start_time": "2022-08-13T08:00:34.390Z"
   },
   {
    "duration": 10,
    "start_time": "2022-08-13T08:00:34.402Z"
   },
   {
    "duration": 27,
    "start_time": "2022-08-13T08:00:34.413Z"
   },
   {
    "duration": 22,
    "start_time": "2022-08-13T08:00:34.441Z"
   },
   {
    "duration": 10,
    "start_time": "2022-08-13T08:00:34.464Z"
   },
   {
    "duration": 529,
    "start_time": "2022-08-13T08:00:34.497Z"
   },
   {
    "duration": 212,
    "start_time": "2022-08-13T08:00:35.027Z"
   },
   {
    "duration": 0,
    "start_time": "2022-08-13T08:00:35.241Z"
   },
   {
    "duration": 0,
    "start_time": "2022-08-13T08:00:35.242Z"
   },
   {
    "duration": 0,
    "start_time": "2022-08-13T08:00:35.243Z"
   },
   {
    "duration": 2915,
    "start_time": "2022-08-13T08:18:47.772Z"
   },
   {
    "duration": 67,
    "start_time": "2022-08-13T08:18:50.689Z"
   },
   {
    "duration": 11,
    "start_time": "2022-08-13T08:18:50.757Z"
   },
   {
    "duration": 16,
    "start_time": "2022-08-13T08:18:50.770Z"
   },
   {
    "duration": 15,
    "start_time": "2022-08-13T08:18:50.787Z"
   },
   {
    "duration": 4,
    "start_time": "2022-08-13T08:18:50.804Z"
   },
   {
    "duration": 214,
    "start_time": "2022-08-13T08:18:50.809Z"
   },
   {
    "duration": 127,
    "start_time": "2022-08-13T08:18:51.024Z"
   },
   {
    "duration": 241,
    "start_time": "2022-08-13T08:18:51.152Z"
   },
   {
    "duration": 19,
    "start_time": "2022-08-13T08:18:51.395Z"
   },
   {
    "duration": 2,
    "start_time": "2022-08-13T08:18:51.416Z"
   },
   {
    "duration": 26,
    "start_time": "2022-08-13T08:18:51.420Z"
   },
   {
    "duration": 8,
    "start_time": "2022-08-13T08:18:51.447Z"
   },
   {
    "duration": 745,
    "start_time": "2022-08-13T08:18:51.456Z"
   },
   {
    "duration": 13,
    "start_time": "2022-08-13T08:18:52.203Z"
   },
   {
    "duration": 201,
    "start_time": "2022-08-13T08:18:52.218Z"
   },
   {
    "duration": 2,
    "start_time": "2022-08-13T08:18:52.421Z"
   },
   {
    "duration": 445,
    "start_time": "2022-08-13T08:18:52.424Z"
   },
   {
    "duration": 11,
    "start_time": "2022-08-13T08:18:52.871Z"
   },
   {
    "duration": 38,
    "start_time": "2022-08-13T08:18:52.884Z"
   },
   {
    "duration": 34,
    "start_time": "2022-08-13T08:18:52.924Z"
   },
   {
    "duration": 6,
    "start_time": "2022-08-13T08:18:52.959Z"
   },
   {
    "duration": 6,
    "start_time": "2022-08-13T08:18:52.966Z"
   },
   {
    "duration": 41,
    "start_time": "2022-08-13T08:18:52.973Z"
   },
   {
    "duration": 20,
    "start_time": "2022-08-13T08:18:53.016Z"
   },
   {
    "duration": 4,
    "start_time": "2022-08-13T08:18:53.037Z"
   },
   {
    "duration": 476,
    "start_time": "2022-08-13T08:18:53.043Z"
   },
   {
    "duration": 222,
    "start_time": "2022-08-13T08:18:53.522Z"
   },
   {
    "duration": 0,
    "start_time": "2022-08-13T08:18:53.745Z"
   },
   {
    "duration": 0,
    "start_time": "2022-08-13T08:18:53.747Z"
   },
   {
    "duration": 0,
    "start_time": "2022-08-13T08:18:53.748Z"
   },
   {
    "duration": 2938,
    "start_time": "2022-08-13T08:20:12.644Z"
   },
   {
    "duration": 68,
    "start_time": "2022-08-13T08:20:15.584Z"
   },
   {
    "duration": 13,
    "start_time": "2022-08-13T08:20:15.654Z"
   },
   {
    "duration": 12,
    "start_time": "2022-08-13T08:20:15.670Z"
   },
   {
    "duration": 18,
    "start_time": "2022-08-13T08:20:15.684Z"
   },
   {
    "duration": 5,
    "start_time": "2022-08-13T08:20:15.703Z"
   },
   {
    "duration": 230,
    "start_time": "2022-08-13T08:20:15.709Z"
   },
   {
    "duration": 135,
    "start_time": "2022-08-13T08:20:15.941Z"
   },
   {
    "duration": 228,
    "start_time": "2022-08-13T08:20:16.078Z"
   },
   {
    "duration": 18,
    "start_time": "2022-08-13T08:20:16.308Z"
   },
   {
    "duration": 2,
    "start_time": "2022-08-13T08:20:16.327Z"
   },
   {
    "duration": 23,
    "start_time": "2022-08-13T08:20:16.330Z"
   },
   {
    "duration": 8,
    "start_time": "2022-08-13T08:20:16.354Z"
   },
   {
    "duration": 870,
    "start_time": "2022-08-13T08:20:16.363Z"
   },
   {
    "duration": 16,
    "start_time": "2022-08-13T08:20:17.235Z"
   },
   {
    "duration": 215,
    "start_time": "2022-08-13T08:20:17.252Z"
   },
   {
    "duration": 2,
    "start_time": "2022-08-13T08:20:17.468Z"
   },
   {
    "duration": 107,
    "start_time": "2022-08-13T08:20:17.471Z"
   },
   {
    "duration": 0,
    "start_time": "2022-08-13T08:20:17.579Z"
   },
   {
    "duration": 0,
    "start_time": "2022-08-13T08:20:17.580Z"
   },
   {
    "duration": 0,
    "start_time": "2022-08-13T08:20:17.581Z"
   },
   {
    "duration": 0,
    "start_time": "2022-08-13T08:20:17.582Z"
   },
   {
    "duration": 0,
    "start_time": "2022-08-13T08:20:17.583Z"
   },
   {
    "duration": 0,
    "start_time": "2022-08-13T08:20:17.584Z"
   },
   {
    "duration": 0,
    "start_time": "2022-08-13T08:20:17.598Z"
   },
   {
    "duration": 0,
    "start_time": "2022-08-13T08:20:17.599Z"
   },
   {
    "duration": 0,
    "start_time": "2022-08-13T08:20:17.600Z"
   },
   {
    "duration": 0,
    "start_time": "2022-08-13T08:20:17.601Z"
   },
   {
    "duration": 0,
    "start_time": "2022-08-13T08:20:17.602Z"
   },
   {
    "duration": 0,
    "start_time": "2022-08-13T08:20:17.603Z"
   },
   {
    "duration": 0,
    "start_time": "2022-08-13T08:20:17.604Z"
   },
   {
    "duration": 2781,
    "start_time": "2022-08-13T08:20:55.201Z"
   },
   {
    "duration": 65,
    "start_time": "2022-08-13T08:20:57.984Z"
   },
   {
    "duration": 12,
    "start_time": "2022-08-13T08:20:58.050Z"
   },
   {
    "duration": 11,
    "start_time": "2022-08-13T08:20:58.064Z"
   },
   {
    "duration": 18,
    "start_time": "2022-08-13T08:20:58.076Z"
   },
   {
    "duration": 5,
    "start_time": "2022-08-13T08:20:58.098Z"
   },
   {
    "duration": 216,
    "start_time": "2022-08-13T08:20:58.105Z"
   },
   {
    "duration": 118,
    "start_time": "2022-08-13T08:20:58.322Z"
   },
   {
    "duration": 223,
    "start_time": "2022-08-13T08:20:58.441Z"
   },
   {
    "duration": 19,
    "start_time": "2022-08-13T08:20:58.666Z"
   },
   {
    "duration": 12,
    "start_time": "2022-08-13T08:20:58.686Z"
   },
   {
    "duration": 27,
    "start_time": "2022-08-13T08:20:58.700Z"
   },
   {
    "duration": 8,
    "start_time": "2022-08-13T08:20:58.728Z"
   },
   {
    "duration": 767,
    "start_time": "2022-08-13T08:20:58.738Z"
   },
   {
    "duration": 13,
    "start_time": "2022-08-13T08:20:59.507Z"
   },
   {
    "duration": 201,
    "start_time": "2022-08-13T08:20:59.521Z"
   },
   {
    "duration": 2,
    "start_time": "2022-08-13T08:20:59.723Z"
   },
   {
    "duration": 20,
    "start_time": "2022-08-13T08:20:59.727Z"
   },
   {
    "duration": 464,
    "start_time": "2022-08-13T08:20:59.748Z"
   },
   {
    "duration": 12,
    "start_time": "2022-08-13T08:21:00.213Z"
   },
   {
    "duration": 35,
    "start_time": "2022-08-13T08:21:00.226Z"
   },
   {
    "duration": 43,
    "start_time": "2022-08-13T08:21:00.263Z"
   },
   {
    "duration": 7,
    "start_time": "2022-08-13T08:21:00.307Z"
   },
   {
    "duration": 34,
    "start_time": "2022-08-13T08:21:00.315Z"
   },
   {
    "duration": 66,
    "start_time": "2022-08-13T08:21:00.351Z"
   },
   {
    "duration": 5,
    "start_time": "2022-08-13T08:21:00.418Z"
   },
   {
    "duration": 487,
    "start_time": "2022-08-13T08:21:00.424Z"
   },
   {
    "duration": 210,
    "start_time": "2022-08-13T08:21:00.914Z"
   },
   {
    "duration": 0,
    "start_time": "2022-08-13T08:21:01.125Z"
   },
   {
    "duration": 0,
    "start_time": "2022-08-13T08:21:01.126Z"
   },
   {
    "duration": 0,
    "start_time": "2022-08-13T08:21:01.127Z"
   },
   {
    "duration": 2852,
    "start_time": "2022-08-13T08:22:04.915Z"
   },
   {
    "duration": 65,
    "start_time": "2022-08-13T08:22:07.769Z"
   },
   {
    "duration": 12,
    "start_time": "2022-08-13T08:22:07.835Z"
   },
   {
    "duration": 11,
    "start_time": "2022-08-13T08:22:07.849Z"
   },
   {
    "duration": 18,
    "start_time": "2022-08-13T08:22:07.862Z"
   },
   {
    "duration": 19,
    "start_time": "2022-08-13T08:22:07.881Z"
   },
   {
    "duration": 232,
    "start_time": "2022-08-13T08:22:07.901Z"
   },
   {
    "duration": 125,
    "start_time": "2022-08-13T08:22:08.134Z"
   },
   {
    "duration": 225,
    "start_time": "2022-08-13T08:22:08.260Z"
   },
   {
    "duration": 19,
    "start_time": "2022-08-13T08:22:08.487Z"
   },
   {
    "duration": 2,
    "start_time": "2022-08-13T08:22:08.507Z"
   },
   {
    "duration": 24,
    "start_time": "2022-08-13T08:22:08.510Z"
   },
   {
    "duration": 7,
    "start_time": "2022-08-13T08:22:08.536Z"
   },
   {
    "duration": 745,
    "start_time": "2022-08-13T08:22:08.544Z"
   },
   {
    "duration": 13,
    "start_time": "2022-08-13T08:22:09.291Z"
   },
   {
    "duration": 214,
    "start_time": "2022-08-13T08:22:09.305Z"
   },
   {
    "duration": 3,
    "start_time": "2022-08-13T08:22:09.520Z"
   },
   {
    "duration": 470,
    "start_time": "2022-08-13T08:22:09.524Z"
   },
   {
    "duration": 12,
    "start_time": "2022-08-13T08:22:09.995Z"
   },
   {
    "duration": 28,
    "start_time": "2022-08-13T08:22:10.009Z"
   },
   {
    "duration": 32,
    "start_time": "2022-08-13T08:22:10.039Z"
   },
   {
    "duration": 6,
    "start_time": "2022-08-13T08:22:10.072Z"
   },
   {
    "duration": 34,
    "start_time": "2022-08-13T08:22:10.079Z"
   },
   {
    "duration": 6,
    "start_time": "2022-08-13T08:22:10.114Z"
   },
   {
    "duration": 21,
    "start_time": "2022-08-13T08:22:10.121Z"
   },
   {
    "duration": 3,
    "start_time": "2022-08-13T08:22:10.144Z"
   },
   {
    "duration": 477,
    "start_time": "2022-08-13T08:22:10.148Z"
   },
   {
    "duration": 239,
    "start_time": "2022-08-13T08:22:10.628Z"
   },
   {
    "duration": 0,
    "start_time": "2022-08-13T08:22:10.868Z"
   },
   {
    "duration": 0,
    "start_time": "2022-08-13T08:22:10.869Z"
   },
   {
    "duration": 0,
    "start_time": "2022-08-13T08:22:10.869Z"
   },
   {
    "duration": 18,
    "start_time": "2022-08-13T08:29:25.696Z"
   },
   {
    "duration": 2880,
    "start_time": "2022-08-13T08:32:55.570Z"
   },
   {
    "duration": 65,
    "start_time": "2022-08-13T08:32:58.453Z"
   },
   {
    "duration": 12,
    "start_time": "2022-08-13T08:32:58.520Z"
   },
   {
    "duration": 12,
    "start_time": "2022-08-13T08:32:58.533Z"
   },
   {
    "duration": 16,
    "start_time": "2022-08-13T08:32:58.547Z"
   },
   {
    "duration": 5,
    "start_time": "2022-08-13T08:32:58.564Z"
   },
   {
    "duration": 234,
    "start_time": "2022-08-13T08:32:58.570Z"
   },
   {
    "duration": 129,
    "start_time": "2022-08-13T08:32:58.806Z"
   },
   {
    "duration": 240,
    "start_time": "2022-08-13T08:32:58.937Z"
   },
   {
    "duration": 29,
    "start_time": "2022-08-13T08:32:59.179Z"
   },
   {
    "duration": 2,
    "start_time": "2022-08-13T08:32:59.209Z"
   },
   {
    "duration": 24,
    "start_time": "2022-08-13T08:32:59.213Z"
   },
   {
    "duration": 8,
    "start_time": "2022-08-13T08:32:59.238Z"
   },
   {
    "duration": 765,
    "start_time": "2022-08-13T08:32:59.248Z"
   },
   {
    "duration": 15,
    "start_time": "2022-08-13T08:33:00.015Z"
   },
   {
    "duration": 200,
    "start_time": "2022-08-13T08:33:00.031Z"
   },
   {
    "duration": 2,
    "start_time": "2022-08-13T08:33:00.232Z"
   },
   {
    "duration": 73,
    "start_time": "2022-08-13T08:33:00.235Z"
   },
   {
    "duration": 0,
    "start_time": "2022-08-13T08:33:00.309Z"
   },
   {
    "duration": 0,
    "start_time": "2022-08-13T08:33:00.310Z"
   },
   {
    "duration": 0,
    "start_time": "2022-08-13T08:33:00.311Z"
   },
   {
    "duration": 0,
    "start_time": "2022-08-13T08:33:00.312Z"
   },
   {
    "duration": 0,
    "start_time": "2022-08-13T08:33:00.313Z"
   },
   {
    "duration": 0,
    "start_time": "2022-08-13T08:33:00.314Z"
   },
   {
    "duration": 0,
    "start_time": "2022-08-13T08:33:00.315Z"
   },
   {
    "duration": 0,
    "start_time": "2022-08-13T08:33:00.316Z"
   },
   {
    "duration": 0,
    "start_time": "2022-08-13T08:33:00.316Z"
   },
   {
    "duration": 0,
    "start_time": "2022-08-13T08:33:00.317Z"
   },
   {
    "duration": 0,
    "start_time": "2022-08-13T08:33:00.318Z"
   },
   {
    "duration": 0,
    "start_time": "2022-08-13T08:33:00.319Z"
   },
   {
    "duration": 0,
    "start_time": "2022-08-13T08:33:00.320Z"
   },
   {
    "duration": 0,
    "start_time": "2022-08-13T08:33:00.321Z"
   },
   {
    "duration": 0,
    "start_time": "2022-08-13T08:33:00.322Z"
   },
   {
    "duration": 42,
    "start_time": "2022-08-13T08:33:12.063Z"
   },
   {
    "duration": 56,
    "start_time": "2022-08-13T08:33:18.709Z"
   },
   {
    "duration": 47,
    "start_time": "2022-08-13T08:33:25.023Z"
   },
   {
    "duration": 355,
    "start_time": "2022-08-13T08:33:38.218Z"
   },
   {
    "duration": 46,
    "start_time": "2022-08-13T08:34:28.480Z"
   },
   {
    "duration": 212,
    "start_time": "2022-08-13T08:34:35.861Z"
   },
   {
    "duration": 10,
    "start_time": "2022-08-13T08:34:57.942Z"
   },
   {
    "duration": 210,
    "start_time": "2022-08-13T08:35:19.328Z"
   },
   {
    "duration": 452,
    "start_time": "2022-08-13T08:35:30.599Z"
   },
   {
    "duration": 452,
    "start_time": "2022-08-13T08:35:47.599Z"
   },
   {
    "duration": 436,
    "start_time": "2022-08-13T08:37:48.489Z"
   },
   {
    "duration": 12,
    "start_time": "2022-08-13T08:38:00.583Z"
   },
   {
    "duration": 29,
    "start_time": "2022-08-13T08:38:03.608Z"
   },
   {
    "duration": 9,
    "start_time": "2022-08-13T08:39:06.334Z"
   },
   {
    "duration": 13,
    "start_time": "2022-08-13T08:39:10.712Z"
   },
   {
    "duration": 13,
    "start_time": "2022-08-13T08:39:34.670Z"
   },
   {
    "duration": 6,
    "start_time": "2022-08-13T08:40:00.214Z"
   },
   {
    "duration": 10,
    "start_time": "2022-08-13T08:40:53.591Z"
   },
   {
    "duration": 4,
    "start_time": "2022-08-13T08:41:00.292Z"
   },
   {
    "duration": 4,
    "start_time": "2022-08-13T08:41:16.566Z"
   },
   {
    "duration": 11,
    "start_time": "2022-08-13T08:41:29.614Z"
   },
   {
    "duration": 9,
    "start_time": "2022-08-13T08:42:08.835Z"
   },
   {
    "duration": 8,
    "start_time": "2022-08-13T08:42:33.474Z"
   },
   {
    "duration": 8,
    "start_time": "2022-08-13T08:42:39.832Z"
   },
   {
    "duration": 9,
    "start_time": "2022-08-13T08:44:51.281Z"
   },
   {
    "duration": 2881,
    "start_time": "2022-08-13T08:45:01.848Z"
   },
   {
    "duration": 67,
    "start_time": "2022-08-13T08:45:04.732Z"
   },
   {
    "duration": 12,
    "start_time": "2022-08-13T08:45:04.800Z"
   },
   {
    "duration": 13,
    "start_time": "2022-08-13T08:45:04.814Z"
   },
   {
    "duration": 16,
    "start_time": "2022-08-13T08:45:04.828Z"
   },
   {
    "duration": 4,
    "start_time": "2022-08-13T08:45:04.845Z"
   },
   {
    "duration": 247,
    "start_time": "2022-08-13T08:45:04.851Z"
   },
   {
    "duration": 129,
    "start_time": "2022-08-13T08:45:05.100Z"
   },
   {
    "duration": 229,
    "start_time": "2022-08-13T08:45:05.231Z"
   },
   {
    "duration": 17,
    "start_time": "2022-08-13T08:45:05.462Z"
   },
   {
    "duration": 1,
    "start_time": "2022-08-13T08:45:05.481Z"
   },
   {
    "duration": 34,
    "start_time": "2022-08-13T08:45:05.484Z"
   },
   {
    "duration": 8,
    "start_time": "2022-08-13T08:45:05.519Z"
   },
   {
    "duration": 785,
    "start_time": "2022-08-13T08:45:05.528Z"
   },
   {
    "duration": 15,
    "start_time": "2022-08-13T08:45:06.315Z"
   },
   {
    "duration": 199,
    "start_time": "2022-08-13T08:45:06.332Z"
   },
   {
    "duration": 3,
    "start_time": "2022-08-13T08:45:06.532Z"
   },
   {
    "duration": 455,
    "start_time": "2022-08-13T08:45:06.536Z"
   },
   {
    "duration": 13,
    "start_time": "2022-08-13T08:45:06.992Z"
   },
   {
    "duration": 33,
    "start_time": "2022-08-13T08:45:07.006Z"
   },
   {
    "duration": 38,
    "start_time": "2022-08-13T08:45:07.041Z"
   },
   {
    "duration": 20,
    "start_time": "2022-08-13T08:45:07.080Z"
   },
   {
    "duration": 23,
    "start_time": "2022-08-13T08:45:07.102Z"
   },
   {
    "duration": 5,
    "start_time": "2022-08-13T08:45:07.126Z"
   },
   {
    "duration": 25,
    "start_time": "2022-08-13T08:45:07.133Z"
   },
   {
    "duration": 4,
    "start_time": "2022-08-13T08:45:07.159Z"
   },
   {
    "duration": 561,
    "start_time": "2022-08-13T08:45:07.165Z"
   },
   {
    "duration": 252,
    "start_time": "2022-08-13T08:45:07.729Z"
   },
   {
    "duration": 0,
    "start_time": "2022-08-13T08:45:07.983Z"
   },
   {
    "duration": 0,
    "start_time": "2022-08-13T08:45:07.984Z"
   },
   {
    "duration": 0,
    "start_time": "2022-08-13T08:45:07.986Z"
   },
   {
    "duration": 0,
    "start_time": "2022-08-13T08:45:07.986Z"
   },
   {
    "duration": 2887,
    "start_time": "2022-08-13T08:45:55.377Z"
   },
   {
    "duration": 65,
    "start_time": "2022-08-13T08:45:58.268Z"
   },
   {
    "duration": 11,
    "start_time": "2022-08-13T08:45:58.335Z"
   },
   {
    "duration": 11,
    "start_time": "2022-08-13T08:45:58.348Z"
   },
   {
    "duration": 15,
    "start_time": "2022-08-13T08:45:58.360Z"
   },
   {
    "duration": 3,
    "start_time": "2022-08-13T08:45:58.377Z"
   },
   {
    "duration": 211,
    "start_time": "2022-08-13T08:45:58.397Z"
   },
   {
    "duration": 136,
    "start_time": "2022-08-13T08:45:58.609Z"
   },
   {
    "duration": 234,
    "start_time": "2022-08-13T08:45:58.747Z"
   },
   {
    "duration": 23,
    "start_time": "2022-08-13T08:45:58.982Z"
   },
   {
    "duration": 2,
    "start_time": "2022-08-13T08:45:59.006Z"
   },
   {
    "duration": 26,
    "start_time": "2022-08-13T08:45:59.009Z"
   },
   {
    "duration": 8,
    "start_time": "2022-08-13T08:45:59.036Z"
   },
   {
    "duration": 765,
    "start_time": "2022-08-13T08:45:59.045Z"
   },
   {
    "duration": 14,
    "start_time": "2022-08-13T08:45:59.811Z"
   },
   {
    "duration": 214,
    "start_time": "2022-08-13T08:45:59.826Z"
   },
   {
    "duration": 2,
    "start_time": "2022-08-13T08:46:00.041Z"
   },
   {
    "duration": 453,
    "start_time": "2022-08-13T08:46:00.045Z"
   },
   {
    "duration": 12,
    "start_time": "2022-08-13T08:46:00.499Z"
   },
   {
    "duration": 38,
    "start_time": "2022-08-13T08:46:00.512Z"
   },
   {
    "duration": 40,
    "start_time": "2022-08-13T08:46:00.551Z"
   },
   {
    "duration": 6,
    "start_time": "2022-08-13T08:46:00.597Z"
   },
   {
    "duration": 54,
    "start_time": "2022-08-13T08:46:00.604Z"
   },
   {
    "duration": 4,
    "start_time": "2022-08-13T08:46:00.660Z"
   },
   {
    "duration": 536,
    "start_time": "2022-08-13T08:46:00.665Z"
   },
   {
    "duration": 197,
    "start_time": "2022-08-13T08:46:01.203Z"
   },
   {
    "duration": 0,
    "start_time": "2022-08-13T08:46:01.402Z"
   },
   {
    "duration": 0,
    "start_time": "2022-08-13T08:46:01.403Z"
   },
   {
    "duration": 0,
    "start_time": "2022-08-13T08:46:01.404Z"
   },
   {
    "duration": 0,
    "start_time": "2022-08-13T08:46:01.405Z"
   },
   {
    "duration": 27,
    "start_time": "2022-08-13T08:47:52.369Z"
   },
   {
    "duration": 5,
    "start_time": "2022-08-13T08:49:01.201Z"
   },
   {
    "duration": 26,
    "start_time": "2022-08-13T08:49:19.746Z"
   },
   {
    "duration": 5,
    "start_time": "2022-08-13T08:49:52.147Z"
   },
   {
    "duration": 28,
    "start_time": "2022-08-13T08:49:54.947Z"
   },
   {
    "duration": 3011,
    "start_time": "2022-08-13T08:50:03.819Z"
   },
   {
    "duration": 67,
    "start_time": "2022-08-13T08:50:06.832Z"
   },
   {
    "duration": 12,
    "start_time": "2022-08-13T08:50:06.901Z"
   },
   {
    "duration": 13,
    "start_time": "2022-08-13T08:50:06.914Z"
   },
   {
    "duration": 18,
    "start_time": "2022-08-13T08:50:06.930Z"
   },
   {
    "duration": 4,
    "start_time": "2022-08-13T08:50:06.949Z"
   },
   {
    "duration": 260,
    "start_time": "2022-08-13T08:50:06.955Z"
   },
   {
    "duration": 136,
    "start_time": "2022-08-13T08:50:07.216Z"
   },
   {
    "duration": 251,
    "start_time": "2022-08-13T08:50:07.353Z"
   },
   {
    "duration": 19,
    "start_time": "2022-08-13T08:50:07.606Z"
   },
   {
    "duration": 2,
    "start_time": "2022-08-13T08:50:07.627Z"
   },
   {
    "duration": 26,
    "start_time": "2022-08-13T08:50:07.631Z"
   },
   {
    "duration": 8,
    "start_time": "2022-08-13T08:50:07.658Z"
   },
   {
    "duration": 841,
    "start_time": "2022-08-13T08:50:07.668Z"
   },
   {
    "duration": 13,
    "start_time": "2022-08-13T08:50:08.511Z"
   },
   {
    "duration": 199,
    "start_time": "2022-08-13T08:50:08.526Z"
   },
   {
    "duration": 2,
    "start_time": "2022-08-13T08:50:08.727Z"
   },
   {
    "duration": 482,
    "start_time": "2022-08-13T08:50:08.730Z"
   },
   {
    "duration": 12,
    "start_time": "2022-08-13T08:50:09.214Z"
   },
   {
    "duration": 31,
    "start_time": "2022-08-13T08:50:09.227Z"
   },
   {
    "duration": 43,
    "start_time": "2022-08-13T08:50:09.260Z"
   },
   {
    "duration": 6,
    "start_time": "2022-08-13T08:50:09.305Z"
   },
   {
    "duration": 35,
    "start_time": "2022-08-13T08:50:09.312Z"
   },
   {
    "duration": 5,
    "start_time": "2022-08-13T08:50:09.348Z"
   },
   {
    "duration": 5,
    "start_time": "2022-08-13T08:50:09.356Z"
   },
   {
    "duration": 61,
    "start_time": "2022-08-13T08:50:09.363Z"
   },
   {
    "duration": 487,
    "start_time": "2022-08-13T08:50:09.425Z"
   },
   {
    "duration": 220,
    "start_time": "2022-08-13T08:50:09.915Z"
   },
   {
    "duration": 0,
    "start_time": "2022-08-13T08:50:10.136Z"
   },
   {
    "duration": 0,
    "start_time": "2022-08-13T08:50:10.137Z"
   },
   {
    "duration": 0,
    "start_time": "2022-08-13T08:50:10.138Z"
   },
   {
    "duration": 0,
    "start_time": "2022-08-13T08:50:10.139Z"
   },
   {
    "duration": 13,
    "start_time": "2022-08-13T08:53:02.799Z"
   },
   {
    "duration": 10,
    "start_time": "2022-08-13T08:53:15.526Z"
   },
   {
    "duration": 11,
    "start_time": "2022-08-13T08:54:24.684Z"
   },
   {
    "duration": 425,
    "start_time": "2022-08-13T08:54:31.845Z"
   },
   {
    "duration": 75,
    "start_time": "2022-08-13T08:54:42.141Z"
   },
   {
    "duration": 12,
    "start_time": "2022-08-13T10:58:49.295Z"
   },
   {
    "duration": 18,
    "start_time": "2022-08-13T11:00:17.936Z"
   },
   {
    "duration": 12,
    "start_time": "2022-08-13T11:00:46.140Z"
   },
   {
    "duration": 11,
    "start_time": "2022-08-13T11:01:49.503Z"
   },
   {
    "duration": 9,
    "start_time": "2022-08-13T11:01:59.718Z"
   },
   {
    "duration": 1700,
    "start_time": "2022-08-13T11:02:11.209Z"
   },
   {
    "duration": 57,
    "start_time": "2022-08-13T11:02:55.945Z"
   },
   {
    "duration": 10,
    "start_time": "2022-08-13T11:03:03.001Z"
   },
   {
    "duration": 12,
    "start_time": "2022-08-13T11:03:27.937Z"
   },
   {
    "duration": 10,
    "start_time": "2022-08-13T11:03:35.665Z"
   },
   {
    "duration": 897,
    "start_time": "2022-08-13T11:04:52.176Z"
   },
   {
    "duration": 805,
    "start_time": "2022-08-13T11:05:39.616Z"
   },
   {
    "duration": 22,
    "start_time": "2022-08-13T11:05:46.197Z"
   },
   {
    "duration": 2903,
    "start_time": "2022-08-13T11:05:59.255Z"
   },
   {
    "duration": 69,
    "start_time": "2022-08-13T11:06:02.160Z"
   },
   {
    "duration": 12,
    "start_time": "2022-08-13T11:06:02.230Z"
   },
   {
    "duration": 20,
    "start_time": "2022-08-13T11:06:02.243Z"
   },
   {
    "duration": 16,
    "start_time": "2022-08-13T11:06:02.265Z"
   },
   {
    "duration": 5,
    "start_time": "2022-08-13T11:06:02.282Z"
   },
   {
    "duration": 217,
    "start_time": "2022-08-13T11:06:02.288Z"
   },
   {
    "duration": 124,
    "start_time": "2022-08-13T11:06:02.507Z"
   },
   {
    "duration": 240,
    "start_time": "2022-08-13T11:06:02.632Z"
   },
   {
    "duration": 29,
    "start_time": "2022-08-13T11:06:02.874Z"
   },
   {
    "duration": 2,
    "start_time": "2022-08-13T11:06:02.905Z"
   },
   {
    "duration": 24,
    "start_time": "2022-08-13T11:06:02.908Z"
   },
   {
    "duration": 9,
    "start_time": "2022-08-13T11:06:02.933Z"
   },
   {
    "duration": 770,
    "start_time": "2022-08-13T11:06:02.943Z"
   },
   {
    "duration": 14,
    "start_time": "2022-08-13T11:06:03.715Z"
   },
   {
    "duration": 210,
    "start_time": "2022-08-13T11:06:03.730Z"
   },
   {
    "duration": 2,
    "start_time": "2022-08-13T11:06:03.942Z"
   },
   {
    "duration": 466,
    "start_time": "2022-08-13T11:06:03.946Z"
   },
   {
    "duration": 17,
    "start_time": "2022-08-13T11:06:04.414Z"
   },
   {
    "duration": 43,
    "start_time": "2022-08-13T11:06:04.433Z"
   },
   {
    "duration": 54,
    "start_time": "2022-08-13T11:06:04.478Z"
   },
   {
    "duration": 8,
    "start_time": "2022-08-13T11:06:04.534Z"
   },
   {
    "duration": 43,
    "start_time": "2022-08-13T11:06:04.543Z"
   },
   {
    "duration": 12,
    "start_time": "2022-08-13T11:06:04.588Z"
   },
   {
    "duration": 7,
    "start_time": "2022-08-13T11:06:04.601Z"
   },
   {
    "duration": 31,
    "start_time": "2022-08-13T11:06:04.609Z"
   },
   {
    "duration": 11,
    "start_time": "2022-08-13T11:06:04.641Z"
   },
   {
    "duration": 563,
    "start_time": "2022-08-13T11:06:04.655Z"
   },
   {
    "duration": 211,
    "start_time": "2022-08-13T11:06:05.219Z"
   },
   {
    "duration": 0,
    "start_time": "2022-08-13T11:06:05.432Z"
   },
   {
    "duration": 0,
    "start_time": "2022-08-13T11:06:05.433Z"
   },
   {
    "duration": 0,
    "start_time": "2022-08-13T11:06:05.434Z"
   },
   {
    "duration": 0,
    "start_time": "2022-08-13T11:06:05.434Z"
   },
   {
    "duration": 4,
    "start_time": "2022-08-13T11:06:29.238Z"
   },
   {
    "duration": 10,
    "start_time": "2022-08-13T11:06:54.854Z"
   },
   {
    "duration": 4,
    "start_time": "2022-08-13T11:07:16.923Z"
   },
   {
    "duration": 2903,
    "start_time": "2022-08-13T11:07:23.765Z"
   },
   {
    "duration": 69,
    "start_time": "2022-08-13T11:07:26.670Z"
   },
   {
    "duration": 14,
    "start_time": "2022-08-13T11:07:26.740Z"
   },
   {
    "duration": 13,
    "start_time": "2022-08-13T11:07:26.755Z"
   },
   {
    "duration": 34,
    "start_time": "2022-08-13T11:07:26.769Z"
   },
   {
    "duration": 5,
    "start_time": "2022-08-13T11:07:26.804Z"
   },
   {
    "duration": 225,
    "start_time": "2022-08-13T11:07:26.810Z"
   },
   {
    "duration": 123,
    "start_time": "2022-08-13T11:07:27.036Z"
   },
   {
    "duration": 226,
    "start_time": "2022-08-13T11:07:27.160Z"
   },
   {
    "duration": 24,
    "start_time": "2022-08-13T11:07:27.389Z"
   },
   {
    "duration": 2,
    "start_time": "2022-08-13T11:07:27.415Z"
   },
   {
    "duration": 23,
    "start_time": "2022-08-13T11:07:27.418Z"
   },
   {
    "duration": 8,
    "start_time": "2022-08-13T11:07:27.442Z"
   },
   {
    "duration": 758,
    "start_time": "2022-08-13T11:07:27.451Z"
   },
   {
    "duration": 12,
    "start_time": "2022-08-13T11:07:28.211Z"
   },
   {
    "duration": 193,
    "start_time": "2022-08-13T11:07:28.224Z"
   },
   {
    "duration": 2,
    "start_time": "2022-08-13T11:07:28.418Z"
   },
   {
    "duration": 441,
    "start_time": "2022-08-13T11:07:28.422Z"
   },
   {
    "duration": 14,
    "start_time": "2022-08-13T11:07:28.864Z"
   },
   {
    "duration": 44,
    "start_time": "2022-08-13T11:07:28.879Z"
   },
   {
    "duration": 36,
    "start_time": "2022-08-13T11:07:28.925Z"
   },
   {
    "duration": 6,
    "start_time": "2022-08-13T11:07:28.963Z"
   },
   {
    "duration": 45,
    "start_time": "2022-08-13T11:07:28.970Z"
   },
   {
    "duration": 5,
    "start_time": "2022-08-13T11:07:29.017Z"
   },
   {
    "duration": 5,
    "start_time": "2022-08-13T11:07:29.024Z"
   },
   {
    "duration": 25,
    "start_time": "2022-08-13T11:07:29.030Z"
   },
   {
    "duration": 11,
    "start_time": "2022-08-13T11:07:29.056Z"
   },
   {
    "duration": 477,
    "start_time": "2022-08-13T11:07:29.070Z"
   },
   {
    "duration": 239,
    "start_time": "2022-08-13T11:07:29.548Z"
   },
   {
    "duration": 0,
    "start_time": "2022-08-13T11:07:29.789Z"
   },
   {
    "duration": 0,
    "start_time": "2022-08-13T11:07:29.790Z"
   },
   {
    "duration": 0,
    "start_time": "2022-08-13T11:07:29.791Z"
   },
   {
    "duration": 0,
    "start_time": "2022-08-13T11:07:29.792Z"
   },
   {
    "duration": 15,
    "start_time": "2022-08-13T11:20:58.968Z"
   },
   {
    "duration": 25,
    "start_time": "2022-08-13T11:21:07.295Z"
   },
   {
    "duration": 18,
    "start_time": "2022-08-13T11:21:36.354Z"
   },
   {
    "duration": 18,
    "start_time": "2022-08-13T11:22:19.097Z"
   },
   {
    "duration": 22,
    "start_time": "2022-08-13T11:23:15.540Z"
   },
   {
    "duration": 26,
    "start_time": "2022-08-13T11:23:25.787Z"
   },
   {
    "duration": 48,
    "start_time": "2022-08-13T11:25:44.964Z"
   },
   {
    "duration": 67,
    "start_time": "2022-08-13T11:25:52.311Z"
   },
   {
    "duration": 80,
    "start_time": "2022-08-13T11:26:03.110Z"
   },
   {
    "duration": 60,
    "start_time": "2022-08-13T11:26:21.912Z"
   },
   {
    "duration": 35,
    "start_time": "2022-08-13T11:26:28.144Z"
   },
   {
    "duration": 46,
    "start_time": "2022-08-13T11:26:32.170Z"
   },
   {
    "duration": 14,
    "start_time": "2022-08-13T11:26:52.875Z"
   },
   {
    "duration": 14,
    "start_time": "2022-08-13T11:27:02.018Z"
   },
   {
    "duration": 14,
    "start_time": "2022-08-13T11:27:09.305Z"
   },
   {
    "duration": 14,
    "start_time": "2022-08-13T11:27:19.980Z"
   },
   {
    "duration": 59,
    "start_time": "2022-08-13T11:34:53.995Z"
   },
   {
    "duration": 48,
    "start_time": "2022-08-13T11:35:08.635Z"
   },
   {
    "duration": 42,
    "start_time": "2022-08-13T11:35:25.769Z"
   },
   {
    "duration": 13,
    "start_time": "2022-08-13T11:35:33.082Z"
   },
   {
    "duration": 14,
    "start_time": "2022-08-13T11:35:43.569Z"
   },
   {
    "duration": 14,
    "start_time": "2022-08-13T11:36:03.709Z"
   },
   {
    "duration": 91,
    "start_time": "2022-08-13T11:36:05.051Z"
   },
   {
    "duration": 14,
    "start_time": "2022-08-13T11:36:11.761Z"
   },
   {
    "duration": 80,
    "start_time": "2022-08-13T11:38:01.445Z"
   },
   {
    "duration": 36,
    "start_time": "2022-08-13T11:38:09.730Z"
   },
   {
    "duration": 2871,
    "start_time": "2022-08-13T11:38:25.911Z"
   },
   {
    "duration": 88,
    "start_time": "2022-08-13T11:38:28.784Z"
   },
   {
    "duration": 19,
    "start_time": "2022-08-13T11:38:28.875Z"
   },
   {
    "duration": 18,
    "start_time": "2022-08-13T11:38:28.895Z"
   },
   {
    "duration": 20,
    "start_time": "2022-08-13T11:38:28.915Z"
   },
   {
    "duration": 4,
    "start_time": "2022-08-13T11:38:28.936Z"
   },
   {
    "duration": 221,
    "start_time": "2022-08-13T11:38:28.941Z"
   },
   {
    "duration": 132,
    "start_time": "2022-08-13T11:38:29.163Z"
   },
   {
    "duration": 238,
    "start_time": "2022-08-13T11:38:29.296Z"
   },
   {
    "duration": 17,
    "start_time": "2022-08-13T11:38:29.535Z"
   },
   {
    "duration": 2,
    "start_time": "2022-08-13T11:38:29.554Z"
   },
   {
    "duration": 22,
    "start_time": "2022-08-13T11:38:29.557Z"
   },
   {
    "duration": 36,
    "start_time": "2022-08-13T11:38:29.580Z"
   },
   {
    "duration": 778,
    "start_time": "2022-08-13T11:38:29.619Z"
   },
   {
    "duration": 16,
    "start_time": "2022-08-13T11:38:30.399Z"
   },
   {
    "duration": 221,
    "start_time": "2022-08-13T11:38:30.416Z"
   },
   {
    "duration": 3,
    "start_time": "2022-08-13T11:38:30.638Z"
   },
   {
    "duration": 500,
    "start_time": "2022-08-13T11:38:30.642Z"
   },
   {
    "duration": 13,
    "start_time": "2022-08-13T11:38:31.144Z"
   },
   {
    "duration": 32,
    "start_time": "2022-08-13T11:38:31.158Z"
   },
   {
    "duration": 41,
    "start_time": "2022-08-13T11:38:31.192Z"
   },
   {
    "duration": 6,
    "start_time": "2022-08-13T11:38:31.235Z"
   },
   {
    "duration": 29,
    "start_time": "2022-08-13T11:38:31.242Z"
   },
   {
    "duration": 5,
    "start_time": "2022-08-13T11:38:31.272Z"
   },
   {
    "duration": 7,
    "start_time": "2022-08-13T11:38:31.304Z"
   },
   {
    "duration": 30,
    "start_time": "2022-08-13T11:38:31.313Z"
   },
   {
    "duration": 21,
    "start_time": "2022-08-13T11:38:31.345Z"
   },
   {
    "duration": 130,
    "start_time": "2022-08-13T11:38:31.367Z"
   },
   {
    "duration": 0,
    "start_time": "2022-08-13T11:38:31.508Z"
   },
   {
    "duration": 0,
    "start_time": "2022-08-13T11:38:31.509Z"
   },
   {
    "duration": 0,
    "start_time": "2022-08-13T11:38:31.510Z"
   },
   {
    "duration": 0,
    "start_time": "2022-08-13T11:38:31.510Z"
   },
   {
    "duration": 356,
    "start_time": "2022-08-13T12:50:48.555Z"
   },
   {
    "duration": 263,
    "start_time": "2022-08-13T12:51:54.966Z"
   },
   {
    "duration": 2990,
    "start_time": "2022-08-13T12:52:24.850Z"
   },
   {
    "duration": 75,
    "start_time": "2022-08-13T12:52:27.843Z"
   },
   {
    "duration": 12,
    "start_time": "2022-08-13T12:52:27.920Z"
   },
   {
    "duration": 15,
    "start_time": "2022-08-13T12:52:27.933Z"
   },
   {
    "duration": 16,
    "start_time": "2022-08-13T12:52:27.949Z"
   },
   {
    "duration": 4,
    "start_time": "2022-08-13T12:52:27.967Z"
   },
   {
    "duration": 257,
    "start_time": "2022-08-13T12:52:27.972Z"
   },
   {
    "duration": 119,
    "start_time": "2022-08-13T12:52:28.230Z"
   },
   {
    "duration": 242,
    "start_time": "2022-08-13T12:52:28.351Z"
   },
   {
    "duration": 25,
    "start_time": "2022-08-13T12:52:28.597Z"
   },
   {
    "duration": 16,
    "start_time": "2022-08-13T12:52:28.623Z"
   },
   {
    "duration": 53,
    "start_time": "2022-08-13T12:52:28.640Z"
   },
   {
    "duration": 12,
    "start_time": "2022-08-13T12:52:28.694Z"
   },
   {
    "duration": 827,
    "start_time": "2022-08-13T12:52:28.707Z"
   },
   {
    "duration": 14,
    "start_time": "2022-08-13T12:52:29.535Z"
   },
   {
    "duration": 216,
    "start_time": "2022-08-13T12:52:29.550Z"
   },
   {
    "duration": 2,
    "start_time": "2022-08-13T12:52:29.768Z"
   },
   {
    "duration": 509,
    "start_time": "2022-08-13T12:52:29.771Z"
   },
   {
    "duration": 16,
    "start_time": "2022-08-13T12:52:30.282Z"
   },
   {
    "duration": 78,
    "start_time": "2022-08-13T12:52:30.300Z"
   },
   {
    "duration": 59,
    "start_time": "2022-08-13T12:52:30.379Z"
   },
   {
    "duration": 7,
    "start_time": "2022-08-13T12:52:30.439Z"
   },
   {
    "duration": 60,
    "start_time": "2022-08-13T12:52:30.447Z"
   },
   {
    "duration": 37,
    "start_time": "2022-08-13T12:52:30.510Z"
   },
   {
    "duration": 21,
    "start_time": "2022-08-13T12:52:30.548Z"
   },
   {
    "duration": 52,
    "start_time": "2022-08-13T12:52:30.570Z"
   },
   {
    "duration": 24,
    "start_time": "2022-08-13T12:52:30.624Z"
   },
   {
    "duration": 362,
    "start_time": "2022-08-13T12:52:30.651Z"
   },
   {
    "duration": 30,
    "start_time": "2022-08-13T12:52:31.015Z"
   },
   {
    "duration": 93,
    "start_time": "2022-08-13T12:52:31.047Z"
   },
   {
    "duration": 28,
    "start_time": "2022-08-13T12:52:31.142Z"
   },
   {
    "duration": 37,
    "start_time": "2022-08-13T12:52:31.172Z"
   },
   {
    "duration": 255,
    "start_time": "2022-08-13T12:53:25.711Z"
   },
   {
    "duration": 3077,
    "start_time": "2022-08-13T12:54:01.711Z"
   },
   {
    "duration": 74,
    "start_time": "2022-08-13T12:54:04.790Z"
   },
   {
    "duration": 15,
    "start_time": "2022-08-13T12:54:04.866Z"
   },
   {
    "duration": 14,
    "start_time": "2022-08-13T12:54:04.884Z"
   },
   {
    "duration": 27,
    "start_time": "2022-08-13T12:54:04.900Z"
   },
   {
    "duration": 5,
    "start_time": "2022-08-13T12:54:04.929Z"
   },
   {
    "duration": 241,
    "start_time": "2022-08-13T12:54:04.936Z"
   },
   {
    "duration": 146,
    "start_time": "2022-08-13T12:54:05.179Z"
   },
   {
    "duration": 245,
    "start_time": "2022-08-13T12:54:05.326Z"
   },
   {
    "duration": 28,
    "start_time": "2022-08-13T12:54:05.573Z"
   },
   {
    "duration": 5,
    "start_time": "2022-08-13T12:54:05.609Z"
   },
   {
    "duration": 28,
    "start_time": "2022-08-13T12:54:05.615Z"
   },
   {
    "duration": 8,
    "start_time": "2022-08-13T12:54:05.644Z"
   },
   {
    "duration": 757,
    "start_time": "2022-08-13T12:54:05.653Z"
   },
   {
    "duration": 16,
    "start_time": "2022-08-13T12:54:06.411Z"
   },
   {
    "duration": 214,
    "start_time": "2022-08-13T12:54:06.429Z"
   },
   {
    "duration": 2,
    "start_time": "2022-08-13T12:54:06.644Z"
   },
   {
    "duration": 511,
    "start_time": "2022-08-13T12:54:06.647Z"
   },
   {
    "duration": 13,
    "start_time": "2022-08-13T12:54:07.160Z"
   },
   {
    "duration": 50,
    "start_time": "2022-08-13T12:54:07.174Z"
   },
   {
    "duration": 38,
    "start_time": "2022-08-13T12:54:07.225Z"
   },
   {
    "duration": 6,
    "start_time": "2022-08-13T12:54:07.264Z"
   },
   {
    "duration": 46,
    "start_time": "2022-08-13T12:54:07.272Z"
   },
   {
    "duration": 5,
    "start_time": "2022-08-13T12:54:07.319Z"
   },
   {
    "duration": 6,
    "start_time": "2022-08-13T12:54:07.326Z"
   },
   {
    "duration": 28,
    "start_time": "2022-08-13T12:54:07.333Z"
   },
   {
    "duration": 49,
    "start_time": "2022-08-13T12:54:07.362Z"
   },
   {
    "duration": 332,
    "start_time": "2022-08-13T12:54:07.414Z"
   },
   {
    "duration": 31,
    "start_time": "2022-08-13T12:54:07.747Z"
   },
   {
    "duration": 74,
    "start_time": "2022-08-13T12:54:07.780Z"
   },
   {
    "duration": 32,
    "start_time": "2022-08-13T12:54:07.855Z"
   },
   {
    "duration": 30,
    "start_time": "2022-08-13T12:54:07.888Z"
   },
   {
    "duration": 823,
    "start_time": "2022-08-13T12:54:43.791Z"
   },
   {
    "duration": 894,
    "start_time": "2022-08-13T12:55:20.783Z"
   },
   {
    "duration": 11,
    "start_time": "2022-08-13T12:56:34.824Z"
   },
   {
    "duration": 2914,
    "start_time": "2022-08-13T12:56:46.868Z"
   },
   {
    "duration": 69,
    "start_time": "2022-08-13T12:56:49.784Z"
   },
   {
    "duration": 13,
    "start_time": "2022-08-13T12:56:49.854Z"
   },
   {
    "duration": 11,
    "start_time": "2022-08-13T12:56:49.870Z"
   },
   {
    "duration": 28,
    "start_time": "2022-08-13T12:56:49.882Z"
   },
   {
    "duration": 5,
    "start_time": "2022-08-13T12:56:49.911Z"
   },
   {
    "duration": 229,
    "start_time": "2022-08-13T12:56:49.917Z"
   },
   {
    "duration": 123,
    "start_time": "2022-08-13T12:56:50.148Z"
   },
   {
    "duration": 246,
    "start_time": "2022-08-13T12:56:50.272Z"
   },
   {
    "duration": 18,
    "start_time": "2022-08-13T12:56:50.520Z"
   },
   {
    "duration": 2,
    "start_time": "2022-08-13T12:56:50.540Z"
   },
   {
    "duration": 24,
    "start_time": "2022-08-13T12:56:50.544Z"
   },
   {
    "duration": 8,
    "start_time": "2022-08-13T12:56:50.569Z"
   },
   {
    "duration": 795,
    "start_time": "2022-08-13T12:56:50.598Z"
   },
   {
    "duration": 24,
    "start_time": "2022-08-13T12:56:51.395Z"
   },
   {
    "duration": 209,
    "start_time": "2022-08-13T12:56:51.421Z"
   },
   {
    "duration": 3,
    "start_time": "2022-08-13T12:56:51.632Z"
   },
   {
    "duration": 487,
    "start_time": "2022-08-13T12:56:51.636Z"
   },
   {
    "duration": 11,
    "start_time": "2022-08-13T12:56:52.124Z"
   },
   {
    "duration": 29,
    "start_time": "2022-08-13T12:56:52.136Z"
   },
   {
    "duration": 46,
    "start_time": "2022-08-13T12:56:52.167Z"
   },
   {
    "duration": 6,
    "start_time": "2022-08-13T12:56:52.215Z"
   },
   {
    "duration": 28,
    "start_time": "2022-08-13T12:56:52.222Z"
   },
   {
    "duration": 5,
    "start_time": "2022-08-13T12:56:52.252Z"
   },
   {
    "duration": 13,
    "start_time": "2022-08-13T12:56:52.258Z"
   },
   {
    "duration": 23,
    "start_time": "2022-08-13T12:56:52.272Z"
   },
   {
    "duration": 22,
    "start_time": "2022-08-13T12:56:52.296Z"
   },
   {
    "duration": 896,
    "start_time": "2022-08-13T12:56:52.320Z"
   },
   {
    "duration": 72,
    "start_time": "2022-08-13T12:58:13.647Z"
   },
   {
    "duration": 119,
    "start_time": "2022-08-13T12:58:22.991Z"
   },
   {
    "duration": 6,
    "start_time": "2022-08-13T12:58:35.425Z"
   },
   {
    "duration": 10,
    "start_time": "2022-08-13T12:59:00.998Z"
   },
   {
    "duration": 32,
    "start_time": "2022-08-13T12:59:24.724Z"
   },
   {
    "duration": 6,
    "start_time": "2022-08-13T12:59:46.556Z"
   },
   {
    "duration": 10,
    "start_time": "2022-08-13T13:03:17.920Z"
   },
   {
    "duration": 11,
    "start_time": "2022-08-13T13:03:46.527Z"
   },
   {
    "duration": 10,
    "start_time": "2022-08-13T13:04:04.110Z"
   },
   {
    "duration": 6,
    "start_time": "2022-08-13T13:04:51.344Z"
   },
   {
    "duration": 191,
    "start_time": "2022-08-13T13:04:59.942Z"
   },
   {
    "duration": 157,
    "start_time": "2022-08-13T13:05:17.119Z"
   },
   {
    "duration": 182,
    "start_time": "2022-08-13T13:05:28.454Z"
   },
   {
    "duration": 226,
    "start_time": "2022-08-13T13:05:47.991Z"
   },
   {
    "duration": 219,
    "start_time": "2022-08-13T13:05:56.992Z"
   },
   {
    "duration": 23,
    "start_time": "2022-08-13T13:06:13.110Z"
   },
   {
    "duration": 63,
    "start_time": "2022-08-13T13:07:29.176Z"
   },
   {
    "duration": 233,
    "start_time": "2022-08-13T13:07:35.155Z"
   },
   {
    "duration": 214,
    "start_time": "2022-08-13T13:08:04.671Z"
   },
   {
    "duration": 223,
    "start_time": "2022-08-13T13:08:26.522Z"
   },
   {
    "duration": 227,
    "start_time": "2022-08-13T13:08:36.153Z"
   },
   {
    "duration": 26,
    "start_time": "2022-08-13T13:08:47.824Z"
   },
   {
    "duration": 234,
    "start_time": "2022-08-13T13:08:56.079Z"
   },
   {
    "duration": 564,
    "start_time": "2022-08-13T13:10:54.753Z"
   },
   {
    "duration": 9,
    "start_time": "2022-08-13T13:13:01.042Z"
   },
   {
    "duration": 3017,
    "start_time": "2022-08-13T13:13:12.260Z"
   },
   {
    "duration": 71,
    "start_time": "2022-08-13T13:13:15.279Z"
   },
   {
    "duration": 15,
    "start_time": "2022-08-13T13:13:15.351Z"
   },
   {
    "duration": 17,
    "start_time": "2022-08-13T13:13:15.368Z"
   },
   {
    "duration": 31,
    "start_time": "2022-08-13T13:13:15.386Z"
   },
   {
    "duration": 5,
    "start_time": "2022-08-13T13:13:15.419Z"
   },
   {
    "duration": 234,
    "start_time": "2022-08-13T13:13:15.425Z"
   },
   {
    "duration": 124,
    "start_time": "2022-08-13T13:13:15.662Z"
   },
   {
    "duration": 253,
    "start_time": "2022-08-13T13:13:15.787Z"
   },
   {
    "duration": 18,
    "start_time": "2022-08-13T13:13:16.042Z"
   },
   {
    "duration": 2,
    "start_time": "2022-08-13T13:13:16.061Z"
   },
   {
    "duration": 41,
    "start_time": "2022-08-13T13:13:16.065Z"
   },
   {
    "duration": 10,
    "start_time": "2022-08-13T13:13:16.107Z"
   },
   {
    "duration": 754,
    "start_time": "2022-08-13T13:13:16.119Z"
   },
   {
    "duration": 13,
    "start_time": "2022-08-13T13:13:16.875Z"
   },
   {
    "duration": 216,
    "start_time": "2022-08-13T13:13:16.889Z"
   },
   {
    "duration": 463,
    "start_time": "2022-08-13T13:13:17.106Z"
   },
   {
    "duration": 11,
    "start_time": "2022-08-13T13:13:17.571Z"
   },
   {
    "duration": 41,
    "start_time": "2022-08-13T13:13:17.583Z"
   },
   {
    "duration": 8,
    "start_time": "2022-08-13T13:13:17.626Z"
   },
   {
    "duration": 7,
    "start_time": "2022-08-13T13:13:17.636Z"
   },
   {
    "duration": 10,
    "start_time": "2022-08-13T13:13:17.645Z"
   },
   {
    "duration": 8,
    "start_time": "2022-08-13T13:13:17.656Z"
   },
   {
    "duration": 346,
    "start_time": "2022-08-13T13:13:17.665Z"
   },
   {
    "duration": 805,
    "start_time": "2022-08-13T13:13:18.013Z"
   },
   {
    "duration": 47,
    "start_time": "2022-08-13T13:13:18.819Z"
   },
   {
    "duration": 222,
    "start_time": "2022-08-13T13:14:55.014Z"
   },
   {
    "duration": 217,
    "start_time": "2022-08-13T13:15:46.926Z"
   },
   {
    "duration": 795,
    "start_time": "2022-08-13T13:16:17.886Z"
   },
   {
    "duration": 107,
    "start_time": "2022-08-13T13:25:06.743Z"
   },
   {
    "duration": 4,
    "start_time": "2022-08-13T13:26:21.614Z"
   },
   {
    "duration": 15,
    "start_time": "2022-08-13T13:26:22.949Z"
   },
   {
    "duration": 8,
    "start_time": "2022-08-13T13:37:29.584Z"
   },
   {
    "duration": 20,
    "start_time": "2022-08-13T13:38:07.811Z"
   },
   {
    "duration": 9,
    "start_time": "2022-08-13T13:38:22.780Z"
   },
   {
    "duration": 12,
    "start_time": "2022-08-13T13:39:14.334Z"
   },
   {
    "duration": 15,
    "start_time": "2022-08-13T13:40:16.921Z"
   },
   {
    "duration": 9,
    "start_time": "2022-08-13T13:42:37.159Z"
   },
   {
    "duration": 9,
    "start_time": "2022-08-13T13:42:51.829Z"
   },
   {
    "duration": 13,
    "start_time": "2022-08-13T13:43:35.712Z"
   },
   {
    "duration": 8,
    "start_time": "2022-08-13T13:43:43.025Z"
   },
   {
    "duration": 7,
    "start_time": "2022-08-13T13:43:51.326Z"
   },
   {
    "duration": 8,
    "start_time": "2022-08-13T13:43:58.357Z"
   },
   {
    "duration": 8,
    "start_time": "2022-08-13T13:44:35.343Z"
   },
   {
    "duration": 34,
    "start_time": "2022-08-13T13:52:17.488Z"
   },
   {
    "duration": 23,
    "start_time": "2022-08-13T13:52:44.720Z"
   },
   {
    "duration": 11,
    "start_time": "2022-08-13T13:53:00.533Z"
   },
   {
    "duration": 13,
    "start_time": "2022-08-13T13:53:11.450Z"
   },
   {
    "duration": 3000,
    "start_time": "2022-08-13T13:53:17.927Z"
   },
   {
    "duration": 66,
    "start_time": "2022-08-13T13:53:20.929Z"
   },
   {
    "duration": 19,
    "start_time": "2022-08-13T13:53:20.996Z"
   },
   {
    "duration": 11,
    "start_time": "2022-08-13T13:53:21.018Z"
   },
   {
    "duration": 15,
    "start_time": "2022-08-13T13:53:21.030Z"
   },
   {
    "duration": 4,
    "start_time": "2022-08-13T13:53:21.047Z"
   },
   {
    "duration": 229,
    "start_time": "2022-08-13T13:53:21.052Z"
   },
   {
    "duration": 132,
    "start_time": "2022-08-13T13:53:21.282Z"
   },
   {
    "duration": 237,
    "start_time": "2022-08-13T13:53:21.415Z"
   },
   {
    "duration": 18,
    "start_time": "2022-08-13T13:53:21.654Z"
   },
   {
    "duration": 2,
    "start_time": "2022-08-13T13:53:21.673Z"
   },
   {
    "duration": 49,
    "start_time": "2022-08-13T13:53:21.676Z"
   },
   {
    "duration": 9,
    "start_time": "2022-08-13T13:53:21.726Z"
   },
   {
    "duration": 757,
    "start_time": "2022-08-13T13:53:21.736Z"
   },
   {
    "duration": 24,
    "start_time": "2022-08-13T13:53:22.495Z"
   },
   {
    "duration": 204,
    "start_time": "2022-08-13T13:53:22.521Z"
   },
   {
    "duration": 483,
    "start_time": "2022-08-13T13:53:22.726Z"
   },
   {
    "duration": 12,
    "start_time": "2022-08-13T13:53:23.211Z"
   },
   {
    "duration": 28,
    "start_time": "2022-08-13T13:53:23.224Z"
   },
   {
    "duration": 8,
    "start_time": "2022-08-13T13:53:23.254Z"
   },
   {
    "duration": 7,
    "start_time": "2022-08-13T13:53:23.263Z"
   },
   {
    "duration": 10,
    "start_time": "2022-08-13T13:53:23.271Z"
   },
   {
    "duration": 282,
    "start_time": "2022-08-13T13:53:23.298Z"
   },
   {
    "duration": 889,
    "start_time": "2022-08-13T13:53:23.581Z"
   },
   {
    "duration": 4,
    "start_time": "2022-08-13T13:53:24.471Z"
   },
   {
    "duration": 144,
    "start_time": "2022-08-13T13:53:24.477Z"
   },
   {
    "duration": 0,
    "start_time": "2022-08-13T13:53:24.623Z"
   },
   {
    "duration": 10,
    "start_time": "2022-08-13T13:53:30.963Z"
   },
   {
    "duration": 11,
    "start_time": "2022-08-13T13:53:37.448Z"
   },
   {
    "duration": 44,
    "start_time": "2022-08-13T13:53:38.780Z"
   },
   {
    "duration": 18,
    "start_time": "2022-08-13T13:54:23.341Z"
   },
   {
    "duration": 4,
    "start_time": "2022-08-13T13:54:42.824Z"
   },
   {
    "duration": 12,
    "start_time": "2022-08-13T13:54:43.684Z"
   },
   {
    "duration": 3039,
    "start_time": "2022-08-13T13:55:15.919Z"
   },
   {
    "duration": 81,
    "start_time": "2022-08-13T13:55:18.960Z"
   },
   {
    "duration": 15,
    "start_time": "2022-08-13T13:55:19.043Z"
   },
   {
    "duration": 15,
    "start_time": "2022-08-13T13:55:19.060Z"
   },
   {
    "duration": 28,
    "start_time": "2022-08-13T13:55:19.078Z"
   },
   {
    "duration": 5,
    "start_time": "2022-08-13T13:55:19.107Z"
   },
   {
    "duration": 245,
    "start_time": "2022-08-13T13:55:19.113Z"
   },
   {
    "duration": 123,
    "start_time": "2022-08-13T13:55:19.360Z"
   },
   {
    "duration": 265,
    "start_time": "2022-08-13T13:55:19.485Z"
   },
   {
    "duration": 18,
    "start_time": "2022-08-13T13:55:19.752Z"
   },
   {
    "duration": 1,
    "start_time": "2022-08-13T13:55:19.772Z"
   },
   {
    "duration": 45,
    "start_time": "2022-08-13T13:55:19.775Z"
   },
   {
    "duration": 9,
    "start_time": "2022-08-13T13:55:19.825Z"
   },
   {
    "duration": 816,
    "start_time": "2022-08-13T13:55:19.837Z"
   },
   {
    "duration": 14,
    "start_time": "2022-08-13T13:55:20.655Z"
   },
   {
    "duration": 215,
    "start_time": "2022-08-13T13:55:20.670Z"
   },
   {
    "duration": 519,
    "start_time": "2022-08-13T13:55:20.886Z"
   },
   {
    "duration": 25,
    "start_time": "2022-08-13T13:55:21.407Z"
   },
   {
    "duration": 30,
    "start_time": "2022-08-13T13:55:21.433Z"
   },
   {
    "duration": 8,
    "start_time": "2022-08-13T13:55:21.464Z"
   },
   {
    "duration": 7,
    "start_time": "2022-08-13T13:55:21.473Z"
   },
   {
    "duration": 24,
    "start_time": "2022-08-13T13:55:21.481Z"
   },
   {
    "duration": 306,
    "start_time": "2022-08-13T13:55:21.506Z"
   },
   {
    "duration": 865,
    "start_time": "2022-08-13T13:55:21.813Z"
   },
   {
    "duration": 4,
    "start_time": "2022-08-13T13:55:22.679Z"
   },
   {
    "duration": 128,
    "start_time": "2022-08-13T13:55:22.684Z"
   },
   {
    "duration": 0,
    "start_time": "2022-08-13T13:55:22.814Z"
   },
   {
    "duration": 13,
    "start_time": "2022-08-13T14:26:34.914Z"
   },
   {
    "duration": 18,
    "start_time": "2022-08-13T14:26:56.193Z"
   },
   {
    "duration": 19,
    "start_time": "2022-08-13T14:27:19.594Z"
   },
   {
    "duration": 13,
    "start_time": "2022-08-13T14:27:32.926Z"
   },
   {
    "duration": 3031,
    "start_time": "2022-08-13T14:27:37.680Z"
   },
   {
    "duration": 65,
    "start_time": "2022-08-13T14:27:40.714Z"
   },
   {
    "duration": 12,
    "start_time": "2022-08-13T14:27:40.781Z"
   },
   {
    "duration": 19,
    "start_time": "2022-08-13T14:27:40.794Z"
   },
   {
    "duration": 17,
    "start_time": "2022-08-13T14:27:40.815Z"
   },
   {
    "duration": 5,
    "start_time": "2022-08-13T14:27:40.833Z"
   },
   {
    "duration": 232,
    "start_time": "2022-08-13T14:27:40.839Z"
   },
   {
    "duration": 148,
    "start_time": "2022-08-13T14:27:41.073Z"
   },
   {
    "duration": 241,
    "start_time": "2022-08-13T14:27:41.222Z"
   },
   {
    "duration": 19,
    "start_time": "2022-08-13T14:27:41.466Z"
   },
   {
    "duration": 2,
    "start_time": "2022-08-13T14:27:41.486Z"
   },
   {
    "duration": 27,
    "start_time": "2022-08-13T14:27:41.504Z"
   },
   {
    "duration": 9,
    "start_time": "2022-08-13T14:27:41.533Z"
   },
   {
    "duration": 786,
    "start_time": "2022-08-13T14:27:41.543Z"
   },
   {
    "duration": 14,
    "start_time": "2022-08-13T14:27:42.330Z"
   },
   {
    "duration": 219,
    "start_time": "2022-08-13T14:27:42.345Z"
   },
   {
    "duration": 491,
    "start_time": "2022-08-13T14:27:42.566Z"
   },
   {
    "duration": 18,
    "start_time": "2022-08-13T14:27:43.059Z"
   },
   {
    "duration": 40,
    "start_time": "2022-08-13T14:27:43.079Z"
   },
   {
    "duration": 9,
    "start_time": "2022-08-13T14:27:43.121Z"
   },
   {
    "duration": 9,
    "start_time": "2022-08-13T14:27:43.131Z"
   },
   {
    "duration": 14,
    "start_time": "2022-08-13T14:27:43.141Z"
   },
   {
    "duration": 321,
    "start_time": "2022-08-13T14:27:43.156Z"
   },
   {
    "duration": 849,
    "start_time": "2022-08-13T14:27:43.479Z"
   },
   {
    "duration": 2,
    "start_time": "2022-08-13T14:27:44.329Z"
   },
   {
    "duration": 148,
    "start_time": "2022-08-13T14:27:44.332Z"
   },
   {
    "duration": 0,
    "start_time": "2022-08-13T14:27:44.482Z"
   },
   {
    "duration": 13,
    "start_time": "2022-08-13T14:27:52.110Z"
   },
   {
    "duration": 12,
    "start_time": "2022-08-13T14:28:11.370Z"
   },
   {
    "duration": 2951,
    "start_time": "2022-08-13T14:29:14.468Z"
   },
   {
    "duration": 66,
    "start_time": "2022-08-13T14:29:17.422Z"
   },
   {
    "duration": 13,
    "start_time": "2022-08-13T14:29:17.490Z"
   },
   {
    "duration": 18,
    "start_time": "2022-08-13T14:29:17.505Z"
   },
   {
    "duration": 17,
    "start_time": "2022-08-13T14:29:17.524Z"
   },
   {
    "duration": 4,
    "start_time": "2022-08-13T14:29:17.542Z"
   },
   {
    "duration": 243,
    "start_time": "2022-08-13T14:29:17.547Z"
   },
   {
    "duration": 140,
    "start_time": "2022-08-13T14:29:17.792Z"
   },
   {
    "duration": 253,
    "start_time": "2022-08-13T14:29:17.933Z"
   },
   {
    "duration": 18,
    "start_time": "2022-08-13T14:29:18.198Z"
   },
   {
    "duration": 2,
    "start_time": "2022-08-13T14:29:18.218Z"
   },
   {
    "duration": 22,
    "start_time": "2022-08-13T14:29:18.222Z"
   },
   {
    "duration": 8,
    "start_time": "2022-08-13T14:29:18.246Z"
   },
   {
    "duration": 782,
    "start_time": "2022-08-13T14:29:18.255Z"
   },
   {
    "duration": 15,
    "start_time": "2022-08-13T14:29:19.039Z"
   },
   {
    "duration": 199,
    "start_time": "2022-08-13T14:29:19.055Z"
   },
   {
    "duration": 447,
    "start_time": "2022-08-13T14:29:19.256Z"
   },
   {
    "duration": 12,
    "start_time": "2022-08-13T14:29:19.704Z"
   },
   {
    "duration": 31,
    "start_time": "2022-08-13T14:29:19.718Z"
   },
   {
    "duration": 7,
    "start_time": "2022-08-13T14:29:19.751Z"
   },
   {
    "duration": 7,
    "start_time": "2022-08-13T14:29:19.760Z"
   },
   {
    "duration": 32,
    "start_time": "2022-08-13T14:29:19.768Z"
   },
   {
    "duration": 306,
    "start_time": "2022-08-13T14:29:19.801Z"
   },
   {
    "duration": 680,
    "start_time": "2022-08-13T14:29:20.108Z"
   },
   {
    "duration": 11,
    "start_time": "2022-08-13T14:29:20.790Z"
   },
   {
    "duration": 28,
    "start_time": "2022-08-13T14:29:20.803Z"
   },
   {
    "duration": 10,
    "start_time": "2022-08-13T14:29:20.833Z"
   },
   {
    "duration": 13,
    "start_time": "2022-08-13T14:29:47.798Z"
   },
   {
    "duration": 24,
    "start_time": "2022-08-13T14:30:07.352Z"
   },
   {
    "duration": 113,
    "start_time": "2022-08-13T14:30:37.017Z"
   },
   {
    "duration": 20,
    "start_time": "2022-08-13T14:30:44.002Z"
   },
   {
    "duration": 23,
    "start_time": "2022-08-13T14:30:53.558Z"
   },
   {
    "duration": 17,
    "start_time": "2022-08-13T14:31:07.195Z"
   },
   {
    "duration": 20,
    "start_time": "2022-08-13T14:32:10.775Z"
   },
   {
    "duration": 13,
    "start_time": "2022-08-13T14:32:50.855Z"
   },
   {
    "duration": 775,
    "start_time": "2022-08-13T14:34:17.811Z"
   },
   {
    "duration": 30,
    "start_time": "2022-08-13T14:35:02.408Z"
   },
   {
    "duration": 11,
    "start_time": "2022-08-13T14:35:23.737Z"
   },
   {
    "duration": 10,
    "start_time": "2022-08-13T14:38:27.339Z"
   },
   {
    "duration": 2831,
    "start_time": "2022-08-13T14:38:48.966Z"
   },
   {
    "duration": 67,
    "start_time": "2022-08-13T14:38:51.799Z"
   },
   {
    "duration": 12,
    "start_time": "2022-08-13T14:38:51.867Z"
   },
   {
    "duration": 26,
    "start_time": "2022-08-13T14:38:51.881Z"
   },
   {
    "duration": 16,
    "start_time": "2022-08-13T14:38:51.908Z"
   },
   {
    "duration": 4,
    "start_time": "2022-08-13T14:38:51.926Z"
   },
   {
    "duration": 231,
    "start_time": "2022-08-13T14:38:51.932Z"
   },
   {
    "duration": 124,
    "start_time": "2022-08-13T14:38:52.165Z"
   },
   {
    "duration": 237,
    "start_time": "2022-08-13T14:38:52.291Z"
   },
   {
    "duration": 18,
    "start_time": "2022-08-13T14:38:52.530Z"
   },
   {
    "duration": 2,
    "start_time": "2022-08-13T14:38:52.549Z"
   },
   {
    "duration": 22,
    "start_time": "2022-08-13T14:38:52.553Z"
   },
   {
    "duration": 28,
    "start_time": "2022-08-13T14:38:52.577Z"
   },
   {
    "duration": 799,
    "start_time": "2022-08-13T14:38:52.606Z"
   },
   {
    "duration": 14,
    "start_time": "2022-08-13T14:38:53.407Z"
   },
   {
    "duration": 204,
    "start_time": "2022-08-13T14:38:53.423Z"
   },
   {
    "duration": 465,
    "start_time": "2022-08-13T14:38:53.628Z"
   },
   {
    "duration": 14,
    "start_time": "2022-08-13T14:38:54.094Z"
   },
   {
    "duration": 29,
    "start_time": "2022-08-13T14:38:54.109Z"
   },
   {
    "duration": 7,
    "start_time": "2022-08-13T14:38:54.139Z"
   },
   {
    "duration": 7,
    "start_time": "2022-08-13T14:38:54.147Z"
   },
   {
    "duration": 9,
    "start_time": "2022-08-13T14:38:54.156Z"
   },
   {
    "duration": 340,
    "start_time": "2022-08-13T14:38:54.166Z"
   },
   {
    "duration": 856,
    "start_time": "2022-08-13T14:38:54.507Z"
   },
   {
    "duration": 13,
    "start_time": "2022-08-13T14:38:55.364Z"
   },
   {
    "duration": 19,
    "start_time": "2022-08-13T14:39:39.966Z"
   },
   {
    "duration": 13,
    "start_time": "2022-08-13T14:42:53.525Z"
   },
   {
    "duration": 17,
    "start_time": "2022-08-13T14:43:00.527Z"
   },
   {
    "duration": 19,
    "start_time": "2022-08-13T14:43:31.046Z"
   },
   {
    "duration": 116,
    "start_time": "2022-08-13T14:44:15.846Z"
   },
   {
    "duration": 14,
    "start_time": "2022-08-13T14:44:22.004Z"
   },
   {
    "duration": 12,
    "start_time": "2022-08-13T14:44:41.993Z"
   },
   {
    "duration": 11,
    "start_time": "2022-08-13T14:45:03.277Z"
   },
   {
    "duration": 11,
    "start_time": "2022-08-13T14:45:21.636Z"
   },
   {
    "duration": 16,
    "start_time": "2022-08-13T14:45:34.854Z"
   },
   {
    "duration": 18,
    "start_time": "2022-08-13T14:46:30.806Z"
   },
   {
    "duration": 22,
    "start_time": "2022-08-13T14:46:51.509Z"
   },
   {
    "duration": 2787,
    "start_time": "2022-08-13T14:47:00.624Z"
   },
   {
    "duration": 66,
    "start_time": "2022-08-13T14:47:03.413Z"
   },
   {
    "duration": 12,
    "start_time": "2022-08-13T14:47:03.480Z"
   },
   {
    "duration": 12,
    "start_time": "2022-08-13T14:47:03.493Z"
   },
   {
    "duration": 23,
    "start_time": "2022-08-13T14:47:03.507Z"
   },
   {
    "duration": 5,
    "start_time": "2022-08-13T14:47:03.531Z"
   },
   {
    "duration": 212,
    "start_time": "2022-08-13T14:47:03.538Z"
   },
   {
    "duration": 123,
    "start_time": "2022-08-13T14:47:03.752Z"
   },
   {
    "duration": 239,
    "start_time": "2022-08-13T14:47:03.877Z"
   },
   {
    "duration": 17,
    "start_time": "2022-08-13T14:47:04.118Z"
   },
   {
    "duration": 10,
    "start_time": "2022-08-13T14:47:04.137Z"
   },
   {
    "duration": 32,
    "start_time": "2022-08-13T14:47:04.148Z"
   },
   {
    "duration": 8,
    "start_time": "2022-08-13T14:47:04.182Z"
   },
   {
    "duration": 835,
    "start_time": "2022-08-13T14:47:04.199Z"
   },
   {
    "duration": 16,
    "start_time": "2022-08-13T14:47:05.035Z"
   },
   {
    "duration": 210,
    "start_time": "2022-08-13T14:47:05.052Z"
   },
   {
    "duration": 440,
    "start_time": "2022-08-13T14:47:05.264Z"
   },
   {
    "duration": 11,
    "start_time": "2022-08-13T14:47:05.706Z"
   },
   {
    "duration": 28,
    "start_time": "2022-08-13T14:47:05.719Z"
   },
   {
    "duration": 8,
    "start_time": "2022-08-13T14:47:05.748Z"
   },
   {
    "duration": 8,
    "start_time": "2022-08-13T14:47:05.757Z"
   },
   {
    "duration": 10,
    "start_time": "2022-08-13T14:47:05.766Z"
   },
   {
    "duration": 289,
    "start_time": "2022-08-13T14:47:05.797Z"
   },
   {
    "duration": 871,
    "start_time": "2022-08-13T14:47:06.087Z"
   },
   {
    "duration": 15,
    "start_time": "2022-08-13T14:47:06.959Z"
   },
   {
    "duration": 22,
    "start_time": "2022-08-13T14:47:06.975Z"
   },
   {
    "duration": 15,
    "start_time": "2022-08-13T14:47:06.998Z"
   },
   {
    "duration": 17,
    "start_time": "2022-08-13T14:47:27.765Z"
   },
   {
    "duration": 2906,
    "start_time": "2022-08-13T14:47:48.690Z"
   },
   {
    "duration": 69,
    "start_time": "2022-08-13T14:47:51.598Z"
   },
   {
    "duration": 11,
    "start_time": "2022-08-13T14:47:51.669Z"
   },
   {
    "duration": 11,
    "start_time": "2022-08-13T14:47:51.682Z"
   },
   {
    "duration": 18,
    "start_time": "2022-08-13T14:47:51.695Z"
   },
   {
    "duration": 4,
    "start_time": "2022-08-13T14:47:51.714Z"
   },
   {
    "duration": 219,
    "start_time": "2022-08-13T14:47:51.720Z"
   },
   {
    "duration": 126,
    "start_time": "2022-08-13T14:47:51.941Z"
   },
   {
    "duration": 239,
    "start_time": "2022-08-13T14:47:52.069Z"
   },
   {
    "duration": 18,
    "start_time": "2022-08-13T14:47:52.310Z"
   },
   {
    "duration": 2,
    "start_time": "2022-08-13T14:47:52.329Z"
   },
   {
    "duration": 23,
    "start_time": "2022-08-13T14:47:52.333Z"
   },
   {
    "duration": 9,
    "start_time": "2022-08-13T14:47:52.357Z"
   },
   {
    "duration": 806,
    "start_time": "2022-08-13T14:47:52.367Z"
   },
   {
    "duration": 15,
    "start_time": "2022-08-13T14:47:53.175Z"
   },
   {
    "duration": 200,
    "start_time": "2022-08-13T14:47:53.191Z"
   },
   {
    "duration": 440,
    "start_time": "2022-08-13T14:47:53.392Z"
   },
   {
    "duration": 11,
    "start_time": "2022-08-13T14:47:53.834Z"
   },
   {
    "duration": 31,
    "start_time": "2022-08-13T14:47:53.847Z"
   },
   {
    "duration": 8,
    "start_time": "2022-08-13T14:47:53.879Z"
   },
   {
    "duration": 13,
    "start_time": "2022-08-13T14:47:53.889Z"
   },
   {
    "duration": 10,
    "start_time": "2022-08-13T14:47:53.904Z"
   },
   {
    "duration": 307,
    "start_time": "2022-08-13T14:47:53.915Z"
   },
   {
    "duration": 769,
    "start_time": "2022-08-13T14:47:54.224Z"
   },
   {
    "duration": 12,
    "start_time": "2022-08-13T14:47:54.994Z"
   },
   {
    "duration": 19,
    "start_time": "2022-08-13T14:47:55.008Z"
   },
   {
    "duration": 11,
    "start_time": "2022-08-13T14:47:55.028Z"
   },
   {
    "duration": 24,
    "start_time": "2022-08-13T15:06:49.487Z"
   },
   {
    "duration": 28,
    "start_time": "2022-08-13T15:07:44.673Z"
   },
   {
    "duration": 26,
    "start_time": "2022-08-13T15:08:00.201Z"
   },
   {
    "duration": 2920,
    "start_time": "2022-08-13T15:08:15.946Z"
   },
   {
    "duration": 70,
    "start_time": "2022-08-13T15:08:18.868Z"
   },
   {
    "duration": 14,
    "start_time": "2022-08-13T15:08:18.940Z"
   },
   {
    "duration": 18,
    "start_time": "2022-08-13T15:08:18.957Z"
   },
   {
    "duration": 32,
    "start_time": "2022-08-13T15:08:18.976Z"
   },
   {
    "duration": 4,
    "start_time": "2022-08-13T15:08:19.010Z"
   },
   {
    "duration": 222,
    "start_time": "2022-08-13T15:08:19.015Z"
   },
   {
    "duration": 124,
    "start_time": "2022-08-13T15:08:19.239Z"
   },
   {
    "duration": 228,
    "start_time": "2022-08-13T15:08:19.365Z"
   },
   {
    "duration": 18,
    "start_time": "2022-08-13T15:08:19.597Z"
   },
   {
    "duration": 2,
    "start_time": "2022-08-13T15:08:19.616Z"
   },
   {
    "duration": 35,
    "start_time": "2022-08-13T15:08:19.620Z"
   },
   {
    "duration": 9,
    "start_time": "2022-08-13T15:08:19.656Z"
   },
   {
    "duration": 794,
    "start_time": "2022-08-13T15:08:19.667Z"
   },
   {
    "duration": 19,
    "start_time": "2022-08-13T15:08:20.464Z"
   },
   {
    "duration": 207,
    "start_time": "2022-08-13T15:08:20.485Z"
   },
   {
    "duration": 460,
    "start_time": "2022-08-13T15:08:20.694Z"
   },
   {
    "duration": 11,
    "start_time": "2022-08-13T15:08:21.155Z"
   },
   {
    "duration": 36,
    "start_time": "2022-08-13T15:08:21.167Z"
   },
   {
    "duration": 8,
    "start_time": "2022-08-13T15:08:21.205Z"
   },
   {
    "duration": 7,
    "start_time": "2022-08-13T15:08:21.215Z"
   },
   {
    "duration": 13,
    "start_time": "2022-08-13T15:08:21.223Z"
   },
   {
    "duration": 305,
    "start_time": "2022-08-13T15:08:21.237Z"
   },
   {
    "duration": 941,
    "start_time": "2022-08-13T15:08:21.543Z"
   },
   {
    "duration": 13,
    "start_time": "2022-08-13T15:08:22.486Z"
   },
   {
    "duration": 22,
    "start_time": "2022-08-13T15:08:22.500Z"
   },
   {
    "duration": 12,
    "start_time": "2022-08-13T15:08:22.523Z"
   },
   {
    "duration": 52,
    "start_time": "2022-08-13T15:08:22.538Z"
   },
   {
    "duration": 0,
    "start_time": "2022-08-13T15:08:22.591Z"
   },
   {
    "duration": 17,
    "start_time": "2022-08-13T15:08:51.344Z"
   },
   {
    "duration": 22,
    "start_time": "2022-08-13T15:09:04.208Z"
   },
   {
    "duration": 13,
    "start_time": "2022-08-13T15:10:00.197Z"
   },
   {
    "duration": 2996,
    "start_time": "2022-08-13T15:10:12.061Z"
   },
   {
    "duration": 66,
    "start_time": "2022-08-13T15:10:15.059Z"
   },
   {
    "duration": 12,
    "start_time": "2022-08-13T15:10:15.129Z"
   },
   {
    "duration": 13,
    "start_time": "2022-08-13T15:10:15.142Z"
   },
   {
    "duration": 17,
    "start_time": "2022-08-13T15:10:15.158Z"
   },
   {
    "duration": 23,
    "start_time": "2022-08-13T15:10:15.177Z"
   },
   {
    "duration": 227,
    "start_time": "2022-08-13T15:10:15.202Z"
   },
   {
    "duration": 123,
    "start_time": "2022-08-13T15:10:15.431Z"
   },
   {
    "duration": 227,
    "start_time": "2022-08-13T15:10:15.557Z"
   },
   {
    "duration": 32,
    "start_time": "2022-08-13T15:10:15.786Z"
   },
   {
    "duration": 3,
    "start_time": "2022-08-13T15:10:15.820Z"
   },
   {
    "duration": 23,
    "start_time": "2022-08-13T15:10:15.824Z"
   },
   {
    "duration": 9,
    "start_time": "2022-08-13T15:10:15.848Z"
   },
   {
    "duration": 783,
    "start_time": "2022-08-13T15:10:15.858Z"
   },
   {
    "duration": 14,
    "start_time": "2022-08-13T15:10:16.643Z"
   },
   {
    "duration": 200,
    "start_time": "2022-08-13T15:10:16.658Z"
   },
   {
    "duration": 447,
    "start_time": "2022-08-13T15:10:16.859Z"
   },
   {
    "duration": 11,
    "start_time": "2022-08-13T15:10:17.307Z"
   },
   {
    "duration": 33,
    "start_time": "2022-08-13T15:10:17.320Z"
   },
   {
    "duration": 9,
    "start_time": "2022-08-13T15:10:17.354Z"
   },
   {
    "duration": 7,
    "start_time": "2022-08-13T15:10:17.365Z"
   },
   {
    "duration": 29,
    "start_time": "2022-08-13T15:10:17.374Z"
   },
   {
    "duration": 294,
    "start_time": "2022-08-13T15:10:17.404Z"
   },
   {
    "duration": 701,
    "start_time": "2022-08-13T15:10:17.700Z"
   },
   {
    "duration": 15,
    "start_time": "2022-08-13T15:10:18.403Z"
   },
   {
    "duration": 31,
    "start_time": "2022-08-13T15:10:18.420Z"
   },
   {
    "duration": 13,
    "start_time": "2022-08-13T15:10:18.453Z"
   },
   {
    "duration": 37,
    "start_time": "2022-08-13T15:10:18.469Z"
   },
   {
    "duration": 30,
    "start_time": "2022-08-13T15:10:18.507Z"
   },
   {
    "duration": 136,
    "start_time": "2022-08-13T15:10:34.467Z"
   },
   {
    "duration": 17,
    "start_time": "2022-08-13T15:11:02.170Z"
   },
   {
    "duration": 12,
    "start_time": "2022-08-13T15:11:56.627Z"
   },
   {
    "duration": 14,
    "start_time": "2022-08-13T15:12:02.059Z"
   },
   {
    "duration": 13,
    "start_time": "2022-08-13T15:12:30.812Z"
   },
   {
    "duration": 23,
    "start_time": "2022-08-13T15:13:57.279Z"
   },
   {
    "duration": 10,
    "start_time": "2022-08-13T15:14:03.126Z"
   },
   {
    "duration": 12,
    "start_time": "2022-08-13T15:14:55.881Z"
   },
   {
    "duration": 3086,
    "start_time": "2022-08-13T15:15:02.042Z"
   },
   {
    "duration": 69,
    "start_time": "2022-08-13T15:15:05.130Z"
   },
   {
    "duration": 17,
    "start_time": "2022-08-13T15:15:05.201Z"
   },
   {
    "duration": 43,
    "start_time": "2022-08-13T15:15:05.221Z"
   },
   {
    "duration": 27,
    "start_time": "2022-08-13T15:15:05.265Z"
   },
   {
    "duration": 15,
    "start_time": "2022-08-13T15:15:05.293Z"
   },
   {
    "duration": 211,
    "start_time": "2022-08-13T15:15:05.310Z"
   },
   {
    "duration": 134,
    "start_time": "2022-08-13T15:15:05.524Z"
   },
   {
    "duration": 253,
    "start_time": "2022-08-13T15:15:05.659Z"
   },
   {
    "duration": 20,
    "start_time": "2022-08-13T15:15:05.916Z"
   },
   {
    "duration": 2,
    "start_time": "2022-08-13T15:15:05.938Z"
   },
   {
    "duration": 41,
    "start_time": "2022-08-13T15:15:05.942Z"
   },
   {
    "duration": 24,
    "start_time": "2022-08-13T15:15:05.984Z"
   },
   {
    "duration": 827,
    "start_time": "2022-08-13T15:15:06.010Z"
   },
   {
    "duration": 13,
    "start_time": "2022-08-13T15:15:06.838Z"
   },
   {
    "duration": 218,
    "start_time": "2022-08-13T15:15:06.853Z"
   },
   {
    "duration": 470,
    "start_time": "2022-08-13T15:15:07.073Z"
   },
   {
    "duration": 11,
    "start_time": "2022-08-13T15:15:07.545Z"
   },
   {
    "duration": 31,
    "start_time": "2022-08-13T15:15:07.557Z"
   },
   {
    "duration": 8,
    "start_time": "2022-08-13T15:15:07.604Z"
   },
   {
    "duration": 14,
    "start_time": "2022-08-13T15:15:07.614Z"
   },
   {
    "duration": 13,
    "start_time": "2022-08-13T15:15:07.630Z"
   },
   {
    "duration": 326,
    "start_time": "2022-08-13T15:15:07.644Z"
   },
   {
    "duration": 783,
    "start_time": "2022-08-13T15:15:07.971Z"
   },
   {
    "duration": 13,
    "start_time": "2022-08-13T15:15:08.755Z"
   },
   {
    "duration": 20,
    "start_time": "2022-08-13T15:15:08.769Z"
   },
   {
    "duration": 14,
    "start_time": "2022-08-13T15:15:08.791Z"
   },
   {
    "duration": 126,
    "start_time": "2022-08-13T15:15:08.809Z"
   },
   {
    "duration": 0,
    "start_time": "2022-08-13T15:15:08.937Z"
   },
   {
    "duration": 0,
    "start_time": "2022-08-13T15:15:08.938Z"
   },
   {
    "duration": 14,
    "start_time": "2022-08-13T16:39:25.343Z"
   },
   {
    "duration": 13,
    "start_time": "2022-08-13T16:39:54.571Z"
   },
   {
    "duration": 11,
    "start_time": "2022-08-13T16:40:33.684Z"
   },
   {
    "duration": 18,
    "start_time": "2022-08-13T16:40:49.850Z"
   },
   {
    "duration": 22,
    "start_time": "2022-08-13T16:40:56.089Z"
   },
   {
    "duration": 20,
    "start_time": "2022-08-13T16:42:03.626Z"
   },
   {
    "duration": 2881,
    "start_time": "2022-08-13T16:43:30.773Z"
   },
   {
    "duration": 73,
    "start_time": "2022-08-13T16:43:33.656Z"
   },
   {
    "duration": 12,
    "start_time": "2022-08-13T16:43:33.730Z"
   },
   {
    "duration": 11,
    "start_time": "2022-08-13T16:43:33.744Z"
   },
   {
    "duration": 15,
    "start_time": "2022-08-13T16:43:33.756Z"
   },
   {
    "duration": 28,
    "start_time": "2022-08-13T16:43:33.773Z"
   },
   {
    "duration": 251,
    "start_time": "2022-08-13T16:43:33.803Z"
   },
   {
    "duration": 139,
    "start_time": "2022-08-13T16:43:34.055Z"
   },
   {
    "duration": 280,
    "start_time": "2022-08-13T16:43:34.195Z"
   },
   {
    "duration": 40,
    "start_time": "2022-08-13T16:43:34.478Z"
   },
   {
    "duration": 6,
    "start_time": "2022-08-13T16:43:34.520Z"
   },
   {
    "duration": 34,
    "start_time": "2022-08-13T16:43:34.528Z"
   },
   {
    "duration": 10,
    "start_time": "2022-08-13T16:43:34.564Z"
   },
   {
    "duration": 898,
    "start_time": "2022-08-13T16:43:34.575Z"
   },
   {
    "duration": 14,
    "start_time": "2022-08-13T16:43:35.475Z"
   },
   {
    "duration": 226,
    "start_time": "2022-08-13T16:43:35.490Z"
   },
   {
    "duration": 520,
    "start_time": "2022-08-13T16:43:35.718Z"
   },
   {
    "duration": 11,
    "start_time": "2022-08-13T16:43:36.239Z"
   },
   {
    "duration": 31,
    "start_time": "2022-08-13T16:43:36.252Z"
   },
   {
    "duration": 24,
    "start_time": "2022-08-13T16:43:36.284Z"
   },
   {
    "duration": 15,
    "start_time": "2022-08-13T16:43:36.310Z"
   },
   {
    "duration": 14,
    "start_time": "2022-08-13T16:43:36.327Z"
   },
   {
    "duration": 324,
    "start_time": "2022-08-13T16:43:36.342Z"
   },
   {
    "duration": 952,
    "start_time": "2022-08-13T16:43:36.668Z"
   },
   {
    "duration": 141,
    "start_time": "2022-08-13T16:43:37.622Z"
   },
   {
    "duration": 0,
    "start_time": "2022-08-13T16:43:37.765Z"
   },
   {
    "duration": 0,
    "start_time": "2022-08-13T16:43:37.767Z"
   },
   {
    "duration": 0,
    "start_time": "2022-08-13T16:43:37.768Z"
   },
   {
    "duration": 0,
    "start_time": "2022-08-13T16:43:37.769Z"
   },
   {
    "duration": 0,
    "start_time": "2022-08-13T16:43:37.770Z"
   },
   {
    "duration": 28,
    "start_time": "2022-08-13T16:44:10.838Z"
   },
   {
    "duration": 3035,
    "start_time": "2022-08-13T16:47:57.631Z"
   },
   {
    "duration": 67,
    "start_time": "2022-08-13T16:48:00.668Z"
   },
   {
    "duration": 12,
    "start_time": "2022-08-13T16:48:00.737Z"
   },
   {
    "duration": 14,
    "start_time": "2022-08-13T16:48:00.751Z"
   },
   {
    "duration": 23,
    "start_time": "2022-08-13T16:48:00.768Z"
   },
   {
    "duration": 5,
    "start_time": "2022-08-13T16:48:00.798Z"
   },
   {
    "duration": 230,
    "start_time": "2022-08-13T16:48:00.805Z"
   },
   {
    "duration": 135,
    "start_time": "2022-08-13T16:48:01.038Z"
   },
   {
    "duration": 254,
    "start_time": "2022-08-13T16:48:01.174Z"
   },
   {
    "duration": 25,
    "start_time": "2022-08-13T16:48:01.430Z"
   },
   {
    "duration": 3,
    "start_time": "2022-08-13T16:48:01.457Z"
   },
   {
    "duration": 60,
    "start_time": "2022-08-13T16:48:01.461Z"
   },
   {
    "duration": 12,
    "start_time": "2022-08-13T16:48:01.522Z"
   },
   {
    "duration": 835,
    "start_time": "2022-08-13T16:48:01.538Z"
   },
   {
    "duration": 15,
    "start_time": "2022-08-13T16:48:02.375Z"
   },
   {
    "duration": 206,
    "start_time": "2022-08-13T16:48:02.392Z"
   },
   {
    "duration": 450,
    "start_time": "2022-08-13T16:48:02.600Z"
   },
   {
    "duration": 12,
    "start_time": "2022-08-13T16:48:03.052Z"
   },
   {
    "duration": 38,
    "start_time": "2022-08-13T16:48:03.065Z"
   },
   {
    "duration": 10,
    "start_time": "2022-08-13T16:48:03.104Z"
   },
   {
    "duration": 7,
    "start_time": "2022-08-13T16:48:03.115Z"
   },
   {
    "duration": 11,
    "start_time": "2022-08-13T16:48:03.123Z"
   },
   {
    "duration": 313,
    "start_time": "2022-08-13T16:48:03.135Z"
   },
   {
    "duration": 961,
    "start_time": "2022-08-13T16:48:03.449Z"
   },
   {
    "duration": 167,
    "start_time": "2022-08-13T16:48:04.412Z"
   },
   {
    "duration": 0,
    "start_time": "2022-08-13T16:48:04.581Z"
   },
   {
    "duration": 0,
    "start_time": "2022-08-13T16:48:04.582Z"
   },
   {
    "duration": 0,
    "start_time": "2022-08-13T16:48:04.583Z"
   },
   {
    "duration": 0,
    "start_time": "2022-08-13T16:48:04.584Z"
   },
   {
    "duration": 0,
    "start_time": "2022-08-13T16:48:04.585Z"
   },
   {
    "duration": 13,
    "start_time": "2022-08-13T16:48:25.093Z"
   },
   {
    "duration": 2709,
    "start_time": "2022-08-13T16:48:49.633Z"
   },
   {
    "duration": 66,
    "start_time": "2022-08-13T16:48:52.344Z"
   },
   {
    "duration": 14,
    "start_time": "2022-08-13T16:48:52.411Z"
   },
   {
    "duration": 10,
    "start_time": "2022-08-13T16:48:52.427Z"
   },
   {
    "duration": 15,
    "start_time": "2022-08-13T16:48:52.439Z"
   },
   {
    "duration": 4,
    "start_time": "2022-08-13T16:48:52.456Z"
   },
   {
    "duration": 235,
    "start_time": "2022-08-13T16:48:52.461Z"
   },
   {
    "duration": 125,
    "start_time": "2022-08-13T16:48:52.698Z"
   },
   {
    "duration": 234,
    "start_time": "2022-08-13T16:48:52.824Z"
   },
   {
    "duration": 20,
    "start_time": "2022-08-13T16:48:53.061Z"
   },
   {
    "duration": 3,
    "start_time": "2022-08-13T16:48:53.082Z"
   },
   {
    "duration": 23,
    "start_time": "2022-08-13T16:48:53.098Z"
   },
   {
    "duration": 8,
    "start_time": "2022-08-13T16:48:53.123Z"
   },
   {
    "duration": 769,
    "start_time": "2022-08-13T16:48:53.132Z"
   },
   {
    "duration": 14,
    "start_time": "2022-08-13T16:48:53.903Z"
   },
   {
    "duration": 213,
    "start_time": "2022-08-13T16:48:53.918Z"
   },
   {
    "duration": 485,
    "start_time": "2022-08-13T16:48:54.132Z"
   },
   {
    "duration": 12,
    "start_time": "2022-08-13T16:48:54.619Z"
   },
   {
    "duration": 47,
    "start_time": "2022-08-13T16:48:54.633Z"
   },
   {
    "duration": 8,
    "start_time": "2022-08-13T16:48:54.682Z"
   },
   {
    "duration": 10,
    "start_time": "2022-08-13T16:48:54.691Z"
   },
   {
    "duration": 11,
    "start_time": "2022-08-13T16:48:54.702Z"
   },
   {
    "duration": 308,
    "start_time": "2022-08-13T16:48:54.715Z"
   },
   {
    "duration": 1011,
    "start_time": "2022-08-13T16:48:55.024Z"
   },
   {
    "duration": 14,
    "start_time": "2022-08-13T16:48:56.037Z"
   },
   {
    "duration": 21,
    "start_time": "2022-08-13T16:48:56.052Z"
   },
   {
    "duration": 12,
    "start_time": "2022-08-13T16:48:56.075Z"
   },
   {
    "duration": 15,
    "start_time": "2022-08-13T16:48:56.089Z"
   },
   {
    "duration": 21,
    "start_time": "2022-08-13T16:48:56.105Z"
   },
   {
    "duration": 18,
    "start_time": "2022-08-13T16:49:27.910Z"
   },
   {
    "duration": 2972,
    "start_time": "2022-08-13T16:49:39.920Z"
   },
   {
    "duration": 70,
    "start_time": "2022-08-13T16:49:42.894Z"
   },
   {
    "duration": 11,
    "start_time": "2022-08-13T16:49:42.966Z"
   },
   {
    "duration": 12,
    "start_time": "2022-08-13T16:49:42.979Z"
   },
   {
    "duration": 20,
    "start_time": "2022-08-13T16:49:42.992Z"
   },
   {
    "duration": 5,
    "start_time": "2022-08-13T16:49:43.014Z"
   },
   {
    "duration": 225,
    "start_time": "2022-08-13T16:49:43.020Z"
   },
   {
    "duration": 137,
    "start_time": "2022-08-13T16:49:43.247Z"
   },
   {
    "duration": 253,
    "start_time": "2022-08-13T16:49:43.386Z"
   },
   {
    "duration": 19,
    "start_time": "2022-08-13T16:49:43.642Z"
   },
   {
    "duration": 6,
    "start_time": "2022-08-13T16:49:43.663Z"
   },
   {
    "duration": 38,
    "start_time": "2022-08-13T16:49:43.670Z"
   },
   {
    "duration": 8,
    "start_time": "2022-08-13T16:49:43.710Z"
   },
   {
    "duration": 794,
    "start_time": "2022-08-13T16:49:43.719Z"
   },
   {
    "duration": 18,
    "start_time": "2022-08-13T16:49:44.515Z"
   },
   {
    "duration": 220,
    "start_time": "2022-08-13T16:49:44.535Z"
   },
   {
    "duration": 502,
    "start_time": "2022-08-13T16:49:44.757Z"
   },
   {
    "duration": 11,
    "start_time": "2022-08-13T16:49:45.261Z"
   },
   {
    "duration": 46,
    "start_time": "2022-08-13T16:49:45.273Z"
   },
   {
    "duration": 8,
    "start_time": "2022-08-13T16:49:45.320Z"
   },
   {
    "duration": 14,
    "start_time": "2022-08-13T16:49:45.329Z"
   },
   {
    "duration": 15,
    "start_time": "2022-08-13T16:49:45.344Z"
   },
   {
    "duration": 289,
    "start_time": "2022-08-13T16:49:45.360Z"
   },
   {
    "duration": 1175,
    "start_time": "2022-08-13T16:49:45.651Z"
   },
   {
    "duration": 12,
    "start_time": "2022-08-13T16:49:46.827Z"
   },
   {
    "duration": 22,
    "start_time": "2022-08-13T16:49:46.841Z"
   },
   {
    "duration": 10,
    "start_time": "2022-08-13T16:49:46.865Z"
   },
   {
    "duration": 15,
    "start_time": "2022-08-13T16:49:46.878Z"
   },
   {
    "duration": 37,
    "start_time": "2022-08-13T16:49:46.894Z"
   },
   {
    "duration": 116,
    "start_time": "2022-08-13T16:50:46.331Z"
   },
   {
    "duration": 855,
    "start_time": "2022-08-13T17:06:53.287Z"
   },
   {
    "duration": 23,
    "start_time": "2022-08-13T17:07:54.611Z"
   },
   {
    "duration": 3158,
    "start_time": "2022-08-13T17:08:05.478Z"
   },
   {
    "duration": 79,
    "start_time": "2022-08-13T17:08:08.638Z"
   },
   {
    "duration": 17,
    "start_time": "2022-08-13T17:08:08.719Z"
   },
   {
    "duration": 11,
    "start_time": "2022-08-13T17:08:08.739Z"
   },
   {
    "duration": 15,
    "start_time": "2022-08-13T17:08:08.752Z"
   },
   {
    "duration": 4,
    "start_time": "2022-08-13T17:08:08.768Z"
   },
   {
    "duration": 294,
    "start_time": "2022-08-13T17:08:08.773Z"
   },
   {
    "duration": 129,
    "start_time": "2022-08-13T17:08:09.068Z"
   },
   {
    "duration": 263,
    "start_time": "2022-08-13T17:08:09.199Z"
   },
   {
    "duration": 19,
    "start_time": "2022-08-13T17:08:09.464Z"
   },
   {
    "duration": 2,
    "start_time": "2022-08-13T17:08:09.504Z"
   },
   {
    "duration": 46,
    "start_time": "2022-08-13T17:08:09.508Z"
   },
   {
    "duration": 8,
    "start_time": "2022-08-13T17:08:09.556Z"
   },
   {
    "duration": 816,
    "start_time": "2022-08-13T17:08:09.565Z"
   },
   {
    "duration": 18,
    "start_time": "2022-08-13T17:08:10.383Z"
   },
   {
    "duration": 236,
    "start_time": "2022-08-13T17:08:10.403Z"
   },
   {
    "duration": 540,
    "start_time": "2022-08-13T17:08:10.641Z"
   },
   {
    "duration": 16,
    "start_time": "2022-08-13T17:08:11.183Z"
   },
   {
    "duration": 35,
    "start_time": "2022-08-13T17:08:11.215Z"
   },
   {
    "duration": 8,
    "start_time": "2022-08-13T17:08:11.251Z"
   },
   {
    "duration": 7,
    "start_time": "2022-08-13T17:08:11.260Z"
   },
   {
    "duration": 10,
    "start_time": "2022-08-13T17:08:11.268Z"
   },
   {
    "duration": 318,
    "start_time": "2022-08-13T17:08:11.279Z"
   },
   {
    "duration": 950,
    "start_time": "2022-08-13T17:08:11.598Z"
   },
   {
    "duration": 13,
    "start_time": "2022-08-13T17:08:12.549Z"
   },
   {
    "duration": 20,
    "start_time": "2022-08-13T17:08:12.563Z"
   },
   {
    "duration": 11,
    "start_time": "2022-08-13T17:08:12.585Z"
   },
   {
    "duration": 19,
    "start_time": "2022-08-13T17:08:12.599Z"
   },
   {
    "duration": 132,
    "start_time": "2022-08-13T17:08:12.621Z"
   },
   {
    "duration": 5,
    "start_time": "2022-08-13T17:09:17.737Z"
   },
   {
    "duration": 12,
    "start_time": "2022-08-13T17:09:18.763Z"
   },
   {
    "duration": 15,
    "start_time": "2022-08-13T17:09:32.412Z"
   },
   {
    "duration": 2926,
    "start_time": "2022-08-13T17:09:38.458Z"
   },
   {
    "duration": 68,
    "start_time": "2022-08-13T17:09:41.386Z"
   },
   {
    "duration": 13,
    "start_time": "2022-08-13T17:09:41.455Z"
   },
   {
    "duration": 15,
    "start_time": "2022-08-13T17:09:41.470Z"
   },
   {
    "duration": 24,
    "start_time": "2022-08-13T17:09:41.487Z"
   },
   {
    "duration": 5,
    "start_time": "2022-08-13T17:09:41.513Z"
   },
   {
    "duration": 225,
    "start_time": "2022-08-13T17:09:41.519Z"
   },
   {
    "duration": 135,
    "start_time": "2022-08-13T17:09:41.746Z"
   },
   {
    "duration": 236,
    "start_time": "2022-08-13T17:09:41.883Z"
   },
   {
    "duration": 19,
    "start_time": "2022-08-13T17:09:42.122Z"
   },
   {
    "duration": 3,
    "start_time": "2022-08-13T17:09:42.143Z"
   },
   {
    "duration": 29,
    "start_time": "2022-08-13T17:09:42.147Z"
   },
   {
    "duration": 30,
    "start_time": "2022-08-13T17:09:42.177Z"
   },
   {
    "duration": 833,
    "start_time": "2022-08-13T17:09:42.209Z"
   },
   {
    "duration": 17,
    "start_time": "2022-08-13T17:09:43.043Z"
   },
   {
    "duration": 218,
    "start_time": "2022-08-13T17:09:43.061Z"
   },
   {
    "duration": 497,
    "start_time": "2022-08-13T17:09:43.281Z"
   },
   {
    "duration": 12,
    "start_time": "2022-08-13T17:09:43.779Z"
   },
   {
    "duration": 52,
    "start_time": "2022-08-13T17:09:43.798Z"
   },
   {
    "duration": 9,
    "start_time": "2022-08-13T17:09:43.853Z"
   },
   {
    "duration": 9,
    "start_time": "2022-08-13T17:09:43.863Z"
   },
   {
    "duration": 37,
    "start_time": "2022-08-13T17:09:43.873Z"
   },
   {
    "duration": 319,
    "start_time": "2022-08-13T17:09:43.912Z"
   },
   {
    "duration": 1067,
    "start_time": "2022-08-13T17:09:44.233Z"
   },
   {
    "duration": 13,
    "start_time": "2022-08-13T17:09:45.301Z"
   },
   {
    "duration": 24,
    "start_time": "2022-08-13T17:09:45.316Z"
   },
   {
    "duration": 3,
    "start_time": "2022-08-13T17:09:45.342Z"
   },
   {
    "duration": 13,
    "start_time": "2022-08-13T17:09:45.348Z"
   },
   {
    "duration": 37,
    "start_time": "2022-08-13T17:09:45.362Z"
   },
   {
    "duration": 21,
    "start_time": "2022-08-13T17:09:45.401Z"
   },
   {
    "duration": 2156,
    "start_time": "2022-08-13T17:18:44.362Z"
   },
   {
    "duration": 47,
    "start_time": "2022-08-13T17:20:28.853Z"
   },
   {
    "duration": 108,
    "start_time": "2022-08-13T17:20:38.849Z"
   },
   {
    "duration": 8,
    "start_time": "2022-08-13T17:20:44.698Z"
   },
   {
    "duration": 7,
    "start_time": "2022-08-13T17:20:53.094Z"
   },
   {
    "duration": 8,
    "start_time": "2022-08-13T17:21:19.146Z"
   },
   {
    "duration": 2840,
    "start_time": "2022-08-13T17:21:28.873Z"
   },
   {
    "duration": 66,
    "start_time": "2022-08-13T17:21:31.715Z"
   },
   {
    "duration": 12,
    "start_time": "2022-08-13T17:21:31.783Z"
   },
   {
    "duration": 13,
    "start_time": "2022-08-13T17:21:31.797Z"
   },
   {
    "duration": 16,
    "start_time": "2022-08-13T17:21:31.811Z"
   },
   {
    "duration": 4,
    "start_time": "2022-08-13T17:21:31.829Z"
   },
   {
    "duration": 227,
    "start_time": "2022-08-13T17:21:31.834Z"
   },
   {
    "duration": 130,
    "start_time": "2022-08-13T17:21:32.062Z"
   },
   {
    "duration": 228,
    "start_time": "2022-08-13T17:21:32.197Z"
   },
   {
    "duration": 19,
    "start_time": "2022-08-13T17:21:32.428Z"
   },
   {
    "duration": 3,
    "start_time": "2022-08-13T17:21:32.448Z"
   },
   {
    "duration": 26,
    "start_time": "2022-08-13T17:21:32.452Z"
   },
   {
    "duration": 22,
    "start_time": "2022-08-13T17:21:32.479Z"
   },
   {
    "duration": 799,
    "start_time": "2022-08-13T17:21:32.502Z"
   },
   {
    "duration": 15,
    "start_time": "2022-08-13T17:21:33.303Z"
   },
   {
    "duration": 220,
    "start_time": "2022-08-13T17:21:33.319Z"
   },
   {
    "duration": 463,
    "start_time": "2022-08-13T17:21:33.541Z"
   },
   {
    "duration": 11,
    "start_time": "2022-08-13T17:21:34.005Z"
   },
   {
    "duration": 31,
    "start_time": "2022-08-13T17:21:34.017Z"
   },
   {
    "duration": 8,
    "start_time": "2022-08-13T17:21:34.050Z"
   },
   {
    "duration": 8,
    "start_time": "2022-08-13T17:21:34.059Z"
   },
   {
    "duration": 30,
    "start_time": "2022-08-13T17:21:34.069Z"
   },
   {
    "duration": 274,
    "start_time": "2022-08-13T17:21:34.100Z"
   },
   {
    "duration": 1279,
    "start_time": "2022-08-13T17:21:34.376Z"
   },
   {
    "duration": 13,
    "start_time": "2022-08-13T17:21:35.656Z"
   },
   {
    "duration": 21,
    "start_time": "2022-08-13T17:21:35.670Z"
   },
   {
    "duration": 3,
    "start_time": "2022-08-13T17:21:35.692Z"
   },
   {
    "duration": 16,
    "start_time": "2022-08-13T17:21:35.697Z"
   },
   {
    "duration": 24,
    "start_time": "2022-08-13T17:21:35.714Z"
   },
   {
    "duration": 2007,
    "start_time": "2022-08-13T17:21:35.740Z"
   },
   {
    "duration": 130,
    "start_time": "2022-08-13T17:21:37.749Z"
   },
   {
    "duration": 14,
    "start_time": "2022-08-13T17:21:59.892Z"
   },
   {
    "duration": 11,
    "start_time": "2022-08-13T17:22:11.301Z"
   },
   {
    "duration": 13,
    "start_time": "2022-08-13T17:22:16.996Z"
   },
   {
    "duration": 9,
    "start_time": "2022-08-13T17:23:21.462Z"
   },
   {
    "duration": 8,
    "start_time": "2022-08-13T17:23:33.789Z"
   },
   {
    "duration": 23,
    "start_time": "2022-08-13T17:23:40.427Z"
   },
   {
    "duration": 38,
    "start_time": "2022-08-13T17:26:09.877Z"
   },
   {
    "duration": 51,
    "start_time": "2022-08-13T17:26:26.238Z"
   },
   {
    "duration": 9,
    "start_time": "2022-08-13T17:27:10.926Z"
   },
   {
    "duration": 27,
    "start_time": "2022-08-13T17:27:14.589Z"
   },
   {
    "duration": 27,
    "start_time": "2022-08-13T17:27:36.463Z"
   },
   {
    "duration": 12,
    "start_time": "2022-08-13T17:27:59.544Z"
   },
   {
    "duration": 13,
    "start_time": "2022-08-13T17:29:43.513Z"
   },
   {
    "duration": 26,
    "start_time": "2022-08-13T17:30:07.855Z"
   },
   {
    "duration": 9,
    "start_time": "2022-08-13T17:32:58.037Z"
   },
   {
    "duration": 82,
    "start_time": "2022-08-13T17:33:07.270Z"
   },
   {
    "duration": 12,
    "start_time": "2022-08-13T17:34:01.662Z"
   },
   {
    "duration": 86,
    "start_time": "2022-08-13T17:34:17.065Z"
   },
   {
    "duration": 2927,
    "start_time": "2022-08-13T17:34:59.481Z"
   },
   {
    "duration": 67,
    "start_time": "2022-08-13T17:35:02.410Z"
   },
   {
    "duration": 12,
    "start_time": "2022-08-13T17:35:02.479Z"
   },
   {
    "duration": 10,
    "start_time": "2022-08-13T17:35:02.493Z"
   },
   {
    "duration": 16,
    "start_time": "2022-08-13T17:35:02.505Z"
   },
   {
    "duration": 4,
    "start_time": "2022-08-13T17:35:02.523Z"
   },
   {
    "duration": 224,
    "start_time": "2022-08-13T17:35:02.529Z"
   },
   {
    "duration": 123,
    "start_time": "2022-08-13T17:35:02.755Z"
   },
   {
    "duration": 227,
    "start_time": "2022-08-13T17:35:02.880Z"
   },
   {
    "duration": 18,
    "start_time": "2022-08-13T17:35:03.110Z"
   },
   {
    "duration": 2,
    "start_time": "2022-08-13T17:35:03.130Z"
   },
   {
    "duration": 24,
    "start_time": "2022-08-13T17:35:03.134Z"
   },
   {
    "duration": 8,
    "start_time": "2022-08-13T17:35:03.160Z"
   },
   {
    "duration": 823,
    "start_time": "2022-08-13T17:35:03.170Z"
   },
   {
    "duration": 13,
    "start_time": "2022-08-13T17:35:03.995Z"
   },
   {
    "duration": 208,
    "start_time": "2022-08-13T17:35:04.010Z"
   },
   {
    "duration": 493,
    "start_time": "2022-08-13T17:35:04.219Z"
   },
   {
    "duration": 12,
    "start_time": "2022-08-13T17:35:04.714Z"
   },
   {
    "duration": 40,
    "start_time": "2022-08-13T17:35:04.728Z"
   },
   {
    "duration": 10,
    "start_time": "2022-08-13T17:35:04.769Z"
   },
   {
    "duration": 19,
    "start_time": "2022-08-13T17:35:04.780Z"
   },
   {
    "duration": 10,
    "start_time": "2022-08-13T17:35:04.800Z"
   },
   {
    "duration": 325,
    "start_time": "2022-08-13T17:35:04.811Z"
   },
   {
    "duration": 1178,
    "start_time": "2022-08-13T17:35:05.137Z"
   },
   {
    "duration": 13,
    "start_time": "2022-08-13T17:35:06.316Z"
   },
   {
    "duration": 57,
    "start_time": "2022-08-13T17:35:06.330Z"
   },
   {
    "duration": 16,
    "start_time": "2022-08-13T17:35:06.389Z"
   },
   {
    "duration": 115,
    "start_time": "2022-08-13T17:35:06.408Z"
   },
   {
    "duration": 0,
    "start_time": "2022-08-13T17:35:06.524Z"
   },
   {
    "duration": 0,
    "start_time": "2022-08-13T17:35:06.525Z"
   },
   {
    "duration": 1959,
    "start_time": "2022-08-13T17:36:00.653Z"
   },
   {
    "duration": 56,
    "start_time": "2022-08-13T18:52:20.679Z"
   },
   {
    "duration": 6,
    "start_time": "2022-08-13T18:52:27.684Z"
   },
   {
    "duration": 54,
    "start_time": "2022-08-14T11:34:26.151Z"
   },
   {
    "duration": 3900,
    "start_time": "2022-08-14T11:34:36.791Z"
   },
   {
    "duration": 135,
    "start_time": "2022-08-14T11:34:40.694Z"
   },
   {
    "duration": 14,
    "start_time": "2022-08-14T11:34:40.831Z"
   },
   {
    "duration": 15,
    "start_time": "2022-08-14T11:34:40.847Z"
   },
   {
    "duration": 27,
    "start_time": "2022-08-14T11:34:40.864Z"
   },
   {
    "duration": 6,
    "start_time": "2022-08-14T11:34:40.892Z"
   },
   {
    "duration": 290,
    "start_time": "2022-08-14T11:34:40.900Z"
   },
   {
    "duration": 164,
    "start_time": "2022-08-14T11:34:41.192Z"
   },
   {
    "duration": 324,
    "start_time": "2022-08-14T11:34:41.358Z"
   },
   {
    "duration": 21,
    "start_time": "2022-08-14T11:34:41.684Z"
   },
   {
    "duration": 3,
    "start_time": "2022-08-14T11:34:41.707Z"
   },
   {
    "duration": 39,
    "start_time": "2022-08-14T11:34:41.711Z"
   },
   {
    "duration": 33,
    "start_time": "2022-08-14T11:34:41.751Z"
   },
   {
    "duration": 922,
    "start_time": "2022-08-14T11:34:41.787Z"
   },
   {
    "duration": 18,
    "start_time": "2022-08-14T11:34:42.711Z"
   },
   {
    "duration": 281,
    "start_time": "2022-08-14T11:34:42.730Z"
   },
   {
    "duration": 587,
    "start_time": "2022-08-14T11:34:43.013Z"
   },
   {
    "duration": 15,
    "start_time": "2022-08-14T11:34:43.602Z"
   },
   {
    "duration": 63,
    "start_time": "2022-08-14T11:34:43.619Z"
   },
   {
    "duration": 11,
    "start_time": "2022-08-14T11:34:43.685Z"
   },
   {
    "duration": 11,
    "start_time": "2022-08-14T11:34:43.698Z"
   },
   {
    "duration": 15,
    "start_time": "2022-08-14T11:34:43.711Z"
   },
   {
    "duration": 395,
    "start_time": "2022-08-14T11:34:43.728Z"
   },
   {
    "duration": 1567,
    "start_time": "2022-08-14T11:34:44.125Z"
   },
   {
    "duration": 17,
    "start_time": "2022-08-14T11:34:45.693Z"
   },
   {
    "duration": 31,
    "start_time": "2022-08-14T11:34:45.712Z"
   },
   {
    "duration": 29,
    "start_time": "2022-08-14T11:34:45.745Z"
   },
   {
    "duration": 3473,
    "start_time": "2022-08-14T11:34:45.776Z"
   },
   {
    "duration": 139,
    "start_time": "2022-08-14T11:34:49.250Z"
   },
   {
    "duration": 20,
    "start_time": "2022-08-14T11:35:44.207Z"
   },
   {
    "duration": 2458,
    "start_time": "2022-08-14T11:36:51.308Z"
   },
   {
    "duration": 40,
    "start_time": "2022-08-14T11:42:23.729Z"
   },
   {
    "duration": 25,
    "start_time": "2022-08-14T11:43:00.419Z"
   },
   {
    "duration": 36,
    "start_time": "2022-08-14T11:43:26.174Z"
   },
   {
    "duration": 16,
    "start_time": "2022-08-14T11:43:37.020Z"
   },
   {
    "duration": 1462,
    "start_time": "2022-08-14T11:46:12.853Z"
   },
   {
    "duration": 12,
    "start_time": "2022-08-14T11:46:59.589Z"
   },
   {
    "duration": 5,
    "start_time": "2022-08-14T11:48:20.945Z"
   },
   {
    "duration": 3351,
    "start_time": "2022-08-14T11:48:37.628Z"
   },
   {
    "duration": 74,
    "start_time": "2022-08-14T11:48:40.981Z"
   },
   {
    "duration": 14,
    "start_time": "2022-08-14T11:48:41.057Z"
   },
   {
    "duration": 16,
    "start_time": "2022-08-14T11:48:41.073Z"
   },
   {
    "duration": 23,
    "start_time": "2022-08-14T11:48:41.090Z"
   },
   {
    "duration": 5,
    "start_time": "2022-08-14T11:48:41.115Z"
   },
   {
    "duration": 274,
    "start_time": "2022-08-14T11:48:41.121Z"
   },
   {
    "duration": 166,
    "start_time": "2022-08-14T11:48:41.397Z"
   },
   {
    "duration": 274,
    "start_time": "2022-08-14T11:48:41.567Z"
   },
   {
    "duration": 30,
    "start_time": "2022-08-14T11:48:41.843Z"
   },
   {
    "duration": 2,
    "start_time": "2022-08-14T11:48:41.874Z"
   },
   {
    "duration": 30,
    "start_time": "2022-08-14T11:48:41.878Z"
   },
   {
    "duration": 9,
    "start_time": "2022-08-14T11:48:41.910Z"
   },
   {
    "duration": 960,
    "start_time": "2022-08-14T11:48:41.921Z"
   },
   {
    "duration": 21,
    "start_time": "2022-08-14T11:48:42.883Z"
   },
   {
    "duration": 242,
    "start_time": "2022-08-14T11:48:42.906Z"
   },
   {
    "duration": 545,
    "start_time": "2022-08-14T11:48:43.150Z"
   },
   {
    "duration": 14,
    "start_time": "2022-08-14T11:48:43.696Z"
   },
   {
    "duration": 34,
    "start_time": "2022-08-14T11:48:43.712Z"
   },
   {
    "duration": 22,
    "start_time": "2022-08-14T11:48:43.748Z"
   },
   {
    "duration": 10,
    "start_time": "2022-08-14T11:48:43.772Z"
   },
   {
    "duration": 12,
    "start_time": "2022-08-14T11:48:43.784Z"
   },
   {
    "duration": 372,
    "start_time": "2022-08-14T11:48:43.798Z"
   },
   {
    "duration": 1550,
    "start_time": "2022-08-14T11:48:44.172Z"
   },
   {
    "duration": 16,
    "start_time": "2022-08-14T11:48:45.724Z"
   },
   {
    "duration": 3360,
    "start_time": "2022-08-14T11:48:45.742Z"
   },
   {
    "duration": 40,
    "start_time": "2022-08-14T11:48:49.104Z"
   },
   {
    "duration": 6,
    "start_time": "2022-08-14T11:48:49.167Z"
   },
   {
    "duration": 124,
    "start_time": "2022-08-14T11:48:49.175Z"
   },
   {
    "duration": 0,
    "start_time": "2022-08-14T11:48:49.301Z"
   },
   {
    "duration": 0,
    "start_time": "2022-08-14T11:48:49.303Z"
   },
   {
    "duration": 0,
    "start_time": "2022-08-14T11:48:49.305Z"
   },
   {
    "duration": 0,
    "start_time": "2022-08-14T11:48:49.307Z"
   },
   {
    "duration": 0,
    "start_time": "2022-08-14T11:48:49.308Z"
   },
   {
    "duration": 5,
    "start_time": "2022-08-14T11:49:44.596Z"
   },
   {
    "duration": 5,
    "start_time": "2022-08-14T11:50:09.731Z"
   },
   {
    "duration": 14,
    "start_time": "2022-08-14T11:50:52.083Z"
   },
   {
    "duration": 16,
    "start_time": "2022-08-14T11:51:13.835Z"
   },
   {
    "duration": 15,
    "start_time": "2022-08-14T11:51:22.637Z"
   },
   {
    "duration": 16,
    "start_time": "2022-08-14T11:51:30.333Z"
   },
   {
    "duration": 14,
    "start_time": "2022-08-14T11:51:34.670Z"
   },
   {
    "duration": 15,
    "start_time": "2022-08-14T11:51:41.698Z"
   },
   {
    "duration": 16,
    "start_time": "2022-08-14T11:52:15.496Z"
   },
   {
    "duration": 15,
    "start_time": "2022-08-14T11:52:27.607Z"
   },
   {
    "duration": 31,
    "start_time": "2022-08-14T11:52:50.416Z"
   },
   {
    "duration": 221,
    "start_time": "2022-08-14T11:52:57.992Z"
   },
   {
    "duration": 3292,
    "start_time": "2022-08-14T11:53:18.271Z"
   },
   {
    "duration": 73,
    "start_time": "2022-08-14T11:53:21.566Z"
   },
   {
    "duration": 15,
    "start_time": "2022-08-14T11:53:21.641Z"
   },
   {
    "duration": 16,
    "start_time": "2022-08-14T11:53:21.658Z"
   },
   {
    "duration": 18,
    "start_time": "2022-08-14T11:53:21.675Z"
   },
   {
    "duration": 5,
    "start_time": "2022-08-14T11:53:21.695Z"
   },
   {
    "duration": 278,
    "start_time": "2022-08-14T11:53:21.701Z"
   },
   {
    "duration": 162,
    "start_time": "2022-08-14T11:53:21.981Z"
   },
   {
    "duration": 294,
    "start_time": "2022-08-14T11:53:22.145Z"
   },
   {
    "duration": 31,
    "start_time": "2022-08-14T11:53:22.443Z"
   },
   {
    "duration": 3,
    "start_time": "2022-08-14T11:53:22.475Z"
   },
   {
    "duration": 34,
    "start_time": "2022-08-14T11:53:22.480Z"
   },
   {
    "duration": 12,
    "start_time": "2022-08-14T11:53:22.516Z"
   },
   {
    "duration": 991,
    "start_time": "2022-08-14T11:53:22.530Z"
   },
   {
    "duration": 18,
    "start_time": "2022-08-14T11:53:23.523Z"
   },
   {
    "duration": 261,
    "start_time": "2022-08-14T11:53:23.543Z"
   },
   {
    "duration": 552,
    "start_time": "2022-08-14T11:53:23.806Z"
   },
   {
    "duration": 21,
    "start_time": "2022-08-14T11:53:24.359Z"
   },
   {
    "duration": 36,
    "start_time": "2022-08-14T11:53:24.382Z"
   },
   {
    "duration": 12,
    "start_time": "2022-08-14T11:53:24.420Z"
   },
   {
    "duration": 9,
    "start_time": "2022-08-14T11:53:24.433Z"
   },
   {
    "duration": 35,
    "start_time": "2022-08-14T11:53:24.444Z"
   },
   {
    "duration": 364,
    "start_time": "2022-08-14T11:53:24.482Z"
   },
   {
    "duration": 1238,
    "start_time": "2022-08-14T11:53:24.848Z"
   },
   {
    "duration": 17,
    "start_time": "2022-08-14T11:53:26.088Z"
   },
   {
    "duration": 2222,
    "start_time": "2022-08-14T11:53:26.107Z"
   },
   {
    "duration": 14,
    "start_time": "2022-08-14T11:53:28.330Z"
   },
   {
    "duration": 57,
    "start_time": "2022-08-14T11:53:28.348Z"
   },
   {
    "duration": 66,
    "start_time": "2022-08-14T11:53:28.406Z"
   },
   {
    "duration": 7,
    "start_time": "2022-08-14T11:53:28.474Z"
   },
   {
    "duration": 13,
    "start_time": "2022-08-14T11:53:28.482Z"
   },
   {
    "duration": 149,
    "start_time": "2022-08-14T11:53:28.496Z"
   },
   {
    "duration": 444,
    "start_time": "2022-08-14T11:54:38.315Z"
   },
   {
    "duration": 3377,
    "start_time": "2022-08-14T11:54:53.954Z"
   },
   {
    "duration": 68,
    "start_time": "2022-08-14T11:54:57.334Z"
   },
   {
    "duration": 14,
    "start_time": "2022-08-14T11:54:57.404Z"
   },
   {
    "duration": 14,
    "start_time": "2022-08-14T11:54:57.421Z"
   },
   {
    "duration": 36,
    "start_time": "2022-08-14T11:54:57.437Z"
   },
   {
    "duration": 5,
    "start_time": "2022-08-14T11:54:57.474Z"
   },
   {
    "duration": 262,
    "start_time": "2022-08-14T11:54:57.481Z"
   },
   {
    "duration": 145,
    "start_time": "2022-08-14T11:54:57.744Z"
   },
   {
    "duration": 281,
    "start_time": "2022-08-14T11:54:57.891Z"
   },
   {
    "duration": 22,
    "start_time": "2022-08-14T11:54:58.175Z"
   },
   {
    "duration": 2,
    "start_time": "2022-08-14T11:54:58.199Z"
   },
   {
    "duration": 30,
    "start_time": "2022-08-14T11:54:58.202Z"
   },
   {
    "duration": 35,
    "start_time": "2022-08-14T11:54:58.234Z"
   },
   {
    "duration": 942,
    "start_time": "2022-08-14T11:54:58.271Z"
   },
   {
    "duration": 18,
    "start_time": "2022-08-14T11:54:59.215Z"
   },
   {
    "duration": 249,
    "start_time": "2022-08-14T11:54:59.234Z"
   },
   {
    "duration": 545,
    "start_time": "2022-08-14T11:54:59.484Z"
   },
   {
    "duration": 16,
    "start_time": "2022-08-14T11:55:00.031Z"
   },
   {
    "duration": 48,
    "start_time": "2022-08-14T11:55:00.049Z"
   },
   {
    "duration": 11,
    "start_time": "2022-08-14T11:55:00.098Z"
   },
   {
    "duration": 14,
    "start_time": "2022-08-14T11:55:00.111Z"
   },
   {
    "duration": 31,
    "start_time": "2022-08-14T11:55:00.127Z"
   },
   {
    "duration": 354,
    "start_time": "2022-08-14T11:55:00.159Z"
   },
   {
    "duration": 1203,
    "start_time": "2022-08-14T11:55:00.514Z"
   },
   {
    "duration": 16,
    "start_time": "2022-08-14T11:55:01.719Z"
   },
   {
    "duration": 2519,
    "start_time": "2022-08-14T11:55:01.737Z"
   },
   {
    "duration": 21,
    "start_time": "2022-08-14T11:55:04.258Z"
   },
   {
    "duration": 55,
    "start_time": "2022-08-14T11:55:04.282Z"
   },
   {
    "duration": 49,
    "start_time": "2022-08-14T11:55:04.339Z"
   },
   {
    "duration": 5,
    "start_time": "2022-08-14T11:55:04.390Z"
   },
   {
    "duration": 10,
    "start_time": "2022-08-14T11:55:04.397Z"
   },
   {
    "duration": 131,
    "start_time": "2022-08-14T11:55:04.409Z"
   },
   {
    "duration": 432,
    "start_time": "2022-08-14T11:57:30.016Z"
   },
   {
    "duration": 3384,
    "start_time": "2022-08-14T11:57:42.663Z"
   },
   {
    "duration": 72,
    "start_time": "2022-08-14T11:57:46.049Z"
   },
   {
    "duration": 14,
    "start_time": "2022-08-14T11:57:46.122Z"
   },
   {
    "duration": 15,
    "start_time": "2022-08-14T11:57:46.138Z"
   },
   {
    "duration": 22,
    "start_time": "2022-08-14T11:57:46.154Z"
   },
   {
    "duration": 5,
    "start_time": "2022-08-14T11:57:46.178Z"
   },
   {
    "duration": 268,
    "start_time": "2022-08-14T11:57:46.184Z"
   },
   {
    "duration": 159,
    "start_time": "2022-08-14T11:57:46.453Z"
   },
   {
    "duration": 320,
    "start_time": "2022-08-14T11:57:46.615Z"
   },
   {
    "duration": 34,
    "start_time": "2022-08-14T11:57:46.938Z"
   },
   {
    "duration": 2,
    "start_time": "2022-08-14T11:57:46.974Z"
   },
   {
    "duration": 30,
    "start_time": "2022-08-14T11:57:46.977Z"
   },
   {
    "duration": 9,
    "start_time": "2022-08-14T11:57:47.009Z"
   },
   {
    "duration": 937,
    "start_time": "2022-08-14T11:57:47.020Z"
   },
   {
    "duration": 18,
    "start_time": "2022-08-14T11:57:47.959Z"
   },
   {
    "duration": 269,
    "start_time": "2022-08-14T11:57:47.978Z"
   },
   {
    "duration": 552,
    "start_time": "2022-08-14T11:57:48.249Z"
   },
   {
    "duration": 15,
    "start_time": "2022-08-14T11:57:48.802Z"
   },
   {
    "duration": 34,
    "start_time": "2022-08-14T11:57:48.819Z"
   },
   {
    "duration": 21,
    "start_time": "2022-08-14T11:57:48.855Z"
   },
   {
    "duration": 23,
    "start_time": "2022-08-14T11:57:48.878Z"
   },
   {
    "duration": 37,
    "start_time": "2022-08-14T11:57:48.903Z"
   },
   {
    "duration": 368,
    "start_time": "2022-08-14T11:57:48.942Z"
   },
   {
    "duration": 1134,
    "start_time": "2022-08-14T11:57:49.312Z"
   },
   {
    "duration": 19,
    "start_time": "2022-08-14T11:57:50.448Z"
   },
   {
    "duration": 2122,
    "start_time": "2022-08-14T11:57:50.469Z"
   },
   {
    "duration": 12,
    "start_time": "2022-08-14T11:57:52.592Z"
   },
   {
    "duration": 38,
    "start_time": "2022-08-14T11:57:52.607Z"
   },
   {
    "duration": 56,
    "start_time": "2022-08-14T11:57:52.647Z"
   },
   {
    "duration": 5,
    "start_time": "2022-08-14T11:57:52.704Z"
   },
   {
    "duration": 11,
    "start_time": "2022-08-14T11:57:52.710Z"
   },
   {
    "duration": 135,
    "start_time": "2022-08-14T11:57:52.723Z"
   },
   {
    "duration": 2142,
    "start_time": "2022-08-14T11:58:44.855Z"
   },
   {
    "duration": 73,
    "start_time": "2022-08-14T11:58:56.937Z"
   },
   {
    "duration": 12,
    "start_time": "2022-08-14T11:59:02.636Z"
   },
   {
    "duration": 11,
    "start_time": "2022-08-14T12:04:34.840Z"
   },
   {
    "duration": 3305,
    "start_time": "2022-08-14T12:04:52.938Z"
   },
   {
    "duration": 69,
    "start_time": "2022-08-14T12:04:56.245Z"
   },
   {
    "duration": 15,
    "start_time": "2022-08-14T12:04:56.315Z"
   },
   {
    "duration": 14,
    "start_time": "2022-08-14T12:04:56.332Z"
   },
   {
    "duration": 34,
    "start_time": "2022-08-14T12:04:56.348Z"
   },
   {
    "duration": 5,
    "start_time": "2022-08-14T12:04:56.384Z"
   },
   {
    "duration": 312,
    "start_time": "2022-08-14T12:04:56.390Z"
   },
   {
    "duration": 166,
    "start_time": "2022-08-14T12:04:56.703Z"
   },
   {
    "duration": 280,
    "start_time": "2022-08-14T12:04:56.871Z"
   },
   {
    "duration": 30,
    "start_time": "2022-08-14T12:04:57.154Z"
   },
   {
    "duration": 2,
    "start_time": "2022-08-14T12:04:57.186Z"
   },
   {
    "duration": 31,
    "start_time": "2022-08-14T12:04:57.189Z"
   },
   {
    "duration": 10,
    "start_time": "2022-08-14T12:04:57.221Z"
   },
   {
    "duration": 940,
    "start_time": "2022-08-14T12:04:57.233Z"
   },
   {
    "duration": 18,
    "start_time": "2022-08-14T12:04:58.175Z"
   },
   {
    "duration": 248,
    "start_time": "2022-08-14T12:04:58.195Z"
   },
   {
    "duration": 537,
    "start_time": "2022-08-14T12:04:58.445Z"
   },
   {
    "duration": 15,
    "start_time": "2022-08-14T12:04:58.983Z"
   },
   {
    "duration": 45,
    "start_time": "2022-08-14T12:04:58.999Z"
   },
   {
    "duration": 10,
    "start_time": "2022-08-14T12:04:59.046Z"
   },
   {
    "duration": 15,
    "start_time": "2022-08-14T12:04:59.058Z"
   },
   {
    "duration": 15,
    "start_time": "2022-08-14T12:04:59.075Z"
   },
   {
    "duration": 359,
    "start_time": "2022-08-14T12:04:59.092Z"
   },
   {
    "duration": 1586,
    "start_time": "2022-08-14T12:04:59.453Z"
   },
   {
    "duration": 18,
    "start_time": "2022-08-14T12:05:01.041Z"
   },
   {
    "duration": 3485,
    "start_time": "2022-08-14T12:05:01.061Z"
   },
   {
    "duration": 23,
    "start_time": "2022-08-14T12:05:04.549Z"
   },
   {
    "duration": 48,
    "start_time": "2022-08-14T12:05:04.577Z"
   },
   {
    "duration": 57,
    "start_time": "2022-08-14T12:05:04.627Z"
   },
   {
    "duration": 5,
    "start_time": "2022-08-14T12:05:04.686Z"
   },
   {
    "duration": 20,
    "start_time": "2022-08-14T12:05:04.693Z"
   },
   {
    "duration": 128,
    "start_time": "2022-08-14T12:05:04.715Z"
   },
   {
    "duration": 16,
    "start_time": "2022-08-14T12:06:05.184Z"
   },
   {
    "duration": 11,
    "start_time": "2022-08-14T12:06:26.333Z"
   },
   {
    "duration": 389,
    "start_time": "2022-08-14T12:06:34.475Z"
   },
   {
    "duration": 3473,
    "start_time": "2022-08-14T12:06:48.721Z"
   },
   {
    "duration": 73,
    "start_time": "2022-08-14T12:06:52.197Z"
   },
   {
    "duration": 15,
    "start_time": "2022-08-14T12:06:52.272Z"
   },
   {
    "duration": 14,
    "start_time": "2022-08-14T12:06:52.289Z"
   },
   {
    "duration": 19,
    "start_time": "2022-08-14T12:06:52.306Z"
   },
   {
    "duration": 10,
    "start_time": "2022-08-14T12:06:52.327Z"
   },
   {
    "duration": 300,
    "start_time": "2022-08-14T12:06:52.339Z"
   },
   {
    "duration": 155,
    "start_time": "2022-08-14T12:06:52.640Z"
   },
   {
    "duration": 279,
    "start_time": "2022-08-14T12:06:52.797Z"
   },
   {
    "duration": 22,
    "start_time": "2022-08-14T12:06:53.079Z"
   },
   {
    "duration": 2,
    "start_time": "2022-08-14T12:06:53.103Z"
   },
   {
    "duration": 30,
    "start_time": "2022-08-14T12:06:53.106Z"
   },
   {
    "duration": 34,
    "start_time": "2022-08-14T12:06:53.138Z"
   },
   {
    "duration": 935,
    "start_time": "2022-08-14T12:06:53.174Z"
   },
   {
    "duration": 17,
    "start_time": "2022-08-14T12:06:54.111Z"
   },
   {
    "duration": 250,
    "start_time": "2022-08-14T12:06:54.130Z"
   },
   {
    "duration": 535,
    "start_time": "2022-08-14T12:06:54.382Z"
   },
   {
    "duration": 14,
    "start_time": "2022-08-14T12:06:54.918Z"
   },
   {
    "duration": 41,
    "start_time": "2022-08-14T12:06:54.934Z"
   },
   {
    "duration": 10,
    "start_time": "2022-08-14T12:06:54.977Z"
   },
   {
    "duration": 10,
    "start_time": "2022-08-14T12:06:54.989Z"
   },
   {
    "duration": 14,
    "start_time": "2022-08-14T12:06:55.000Z"
   },
   {
    "duration": 369,
    "start_time": "2022-08-14T12:06:55.016Z"
   },
   {
    "duration": 1228,
    "start_time": "2022-08-14T12:06:55.386Z"
   },
   {
    "duration": 18,
    "start_time": "2022-08-14T12:06:56.616Z"
   },
   {
    "duration": 2347,
    "start_time": "2022-08-14T12:06:56.636Z"
   },
   {
    "duration": 14,
    "start_time": "2022-08-14T12:06:58.984Z"
   },
   {
    "duration": 60,
    "start_time": "2022-08-14T12:06:59.001Z"
   },
   {
    "duration": 43,
    "start_time": "2022-08-14T12:06:59.063Z"
   },
   {
    "duration": 5,
    "start_time": "2022-08-14T12:06:59.108Z"
   },
   {
    "duration": 18,
    "start_time": "2022-08-14T12:06:59.115Z"
   },
   {
    "duration": 142,
    "start_time": "2022-08-14T12:06:59.136Z"
   },
   {
    "duration": 433,
    "start_time": "2022-08-14T12:07:06.097Z"
   },
   {
    "duration": 3334,
    "start_time": "2022-08-14T12:07:16.568Z"
   },
   {
    "duration": 73,
    "start_time": "2022-08-14T12:07:19.904Z"
   },
   {
    "duration": 15,
    "start_time": "2022-08-14T12:07:19.979Z"
   },
   {
    "duration": 17,
    "start_time": "2022-08-14T12:07:19.996Z"
   },
   {
    "duration": 21,
    "start_time": "2022-08-14T12:07:20.014Z"
   },
   {
    "duration": 6,
    "start_time": "2022-08-14T12:07:20.036Z"
   },
   {
    "duration": 294,
    "start_time": "2022-08-14T12:07:20.043Z"
   },
   {
    "duration": 160,
    "start_time": "2022-08-14T12:07:20.338Z"
   },
   {
    "duration": 277,
    "start_time": "2022-08-14T12:07:20.500Z"
   },
   {
    "duration": 21,
    "start_time": "2022-08-14T12:07:20.780Z"
   },
   {
    "duration": 2,
    "start_time": "2022-08-14T12:07:20.803Z"
   },
   {
    "duration": 31,
    "start_time": "2022-08-14T12:07:20.806Z"
   },
   {
    "duration": 38,
    "start_time": "2022-08-14T12:07:20.839Z"
   },
   {
    "duration": 954,
    "start_time": "2022-08-14T12:07:20.879Z"
   },
   {
    "duration": 17,
    "start_time": "2022-08-14T12:07:21.835Z"
   },
   {
    "duration": 245,
    "start_time": "2022-08-14T12:07:21.854Z"
   },
   {
    "duration": 542,
    "start_time": "2022-08-14T12:07:22.101Z"
   },
   {
    "duration": 14,
    "start_time": "2022-08-14T12:07:22.645Z"
   },
   {
    "duration": 33,
    "start_time": "2022-08-14T12:07:22.668Z"
   },
   {
    "duration": 10,
    "start_time": "2022-08-14T12:07:22.703Z"
   },
   {
    "duration": 11,
    "start_time": "2022-08-14T12:07:22.715Z"
   },
   {
    "duration": 12,
    "start_time": "2022-08-14T12:07:22.728Z"
   },
   {
    "duration": 390,
    "start_time": "2022-08-14T12:07:22.742Z"
   },
   {
    "duration": 1124,
    "start_time": "2022-08-14T12:07:23.134Z"
   },
   {
    "duration": 16,
    "start_time": "2022-08-14T12:07:24.260Z"
   },
   {
    "duration": 2162,
    "start_time": "2022-08-14T12:07:24.278Z"
   },
   {
    "duration": 12,
    "start_time": "2022-08-14T12:07:26.442Z"
   },
   {
    "duration": 61,
    "start_time": "2022-08-14T12:07:26.467Z"
   },
   {
    "duration": 57,
    "start_time": "2022-08-14T12:07:26.532Z"
   },
   {
    "duration": 7,
    "start_time": "2022-08-14T12:07:26.591Z"
   },
   {
    "duration": 25,
    "start_time": "2022-08-14T12:07:26.600Z"
   },
   {
    "duration": 135,
    "start_time": "2022-08-14T12:07:26.627Z"
   },
   {
    "duration": 55,
    "start_time": "2022-08-14T12:08:42.469Z"
   },
   {
    "duration": 55,
    "start_time": "2022-08-14T12:09:15.487Z"
   },
   {
    "duration": 9,
    "start_time": "2022-08-14T12:09:21.878Z"
   },
   {
    "duration": 10,
    "start_time": "2022-08-14T12:09:34.018Z"
   },
   {
    "duration": 10,
    "start_time": "2022-08-14T12:11:15.127Z"
   },
   {
    "duration": 11,
    "start_time": "2022-08-14T12:12:19.493Z"
   },
   {
    "duration": 3376,
    "start_time": "2022-08-14T12:12:45.814Z"
   },
   {
    "duration": 72,
    "start_time": "2022-08-14T12:12:49.192Z"
   },
   {
    "duration": 14,
    "start_time": "2022-08-14T12:12:49.265Z"
   },
   {
    "duration": 16,
    "start_time": "2022-08-14T12:12:49.281Z"
   },
   {
    "duration": 27,
    "start_time": "2022-08-14T12:12:49.299Z"
   },
   {
    "duration": 5,
    "start_time": "2022-08-14T12:12:49.327Z"
   },
   {
    "duration": 281,
    "start_time": "2022-08-14T12:12:49.334Z"
   },
   {
    "duration": 161,
    "start_time": "2022-08-14T12:12:49.617Z"
   },
   {
    "duration": 289,
    "start_time": "2022-08-14T12:12:49.779Z"
   },
   {
    "duration": 21,
    "start_time": "2022-08-14T12:12:50.071Z"
   },
   {
    "duration": 2,
    "start_time": "2022-08-14T12:12:50.094Z"
   },
   {
    "duration": 30,
    "start_time": "2022-08-14T12:12:50.098Z"
   },
   {
    "duration": 11,
    "start_time": "2022-08-14T12:12:50.129Z"
   },
   {
    "duration": 967,
    "start_time": "2022-08-14T12:12:50.142Z"
   },
   {
    "duration": 17,
    "start_time": "2022-08-14T12:12:51.111Z"
   },
   {
    "duration": 239,
    "start_time": "2022-08-14T12:12:51.129Z"
   },
   {
    "duration": 553,
    "start_time": "2022-08-14T12:12:51.370Z"
   },
   {
    "duration": 14,
    "start_time": "2022-08-14T12:12:51.925Z"
   },
   {
    "duration": 44,
    "start_time": "2022-08-14T12:12:51.942Z"
   },
   {
    "duration": 9,
    "start_time": "2022-08-14T12:12:51.988Z"
   },
   {
    "duration": 11,
    "start_time": "2022-08-14T12:12:51.999Z"
   },
   {
    "duration": 13,
    "start_time": "2022-08-14T12:12:52.011Z"
   },
   {
    "duration": 377,
    "start_time": "2022-08-14T12:12:52.026Z"
   },
   {
    "duration": 1694,
    "start_time": "2022-08-14T12:12:52.404Z"
   },
   {
    "duration": 16,
    "start_time": "2022-08-14T12:12:54.099Z"
   },
   {
    "duration": 3289,
    "start_time": "2022-08-14T12:12:54.117Z"
   },
   {
    "duration": 13,
    "start_time": "2022-08-14T12:12:57.408Z"
   },
   {
    "duration": 64,
    "start_time": "2022-08-14T12:12:57.425Z"
   },
   {
    "duration": 56,
    "start_time": "2022-08-14T12:12:57.491Z"
   },
   {
    "duration": 106,
    "start_time": "2022-08-14T12:12:57.548Z"
   },
   {
    "duration": 29,
    "start_time": "2022-08-14T12:12:57.656Z"
   },
   {
    "duration": 5,
    "start_time": "2022-08-14T12:12:57.687Z"
   },
   {
    "duration": 13,
    "start_time": "2022-08-14T12:12:57.694Z"
   },
   {
    "duration": 151,
    "start_time": "2022-08-14T12:12:57.709Z"
   },
   {
    "duration": 17,
    "start_time": "2022-08-14T12:23:08.252Z"
   },
   {
    "duration": 57,
    "start_time": "2022-08-14T12:25:10.551Z"
   },
   {
    "duration": 732,
    "start_time": "2022-08-14T12:26:04.195Z"
   },
   {
    "duration": 3507,
    "start_time": "2022-08-14T12:26:49.365Z"
   },
   {
    "duration": 127,
    "start_time": "2022-08-14T12:26:52.875Z"
   },
   {
    "duration": 15,
    "start_time": "2022-08-14T12:26:53.004Z"
   },
   {
    "duration": 26,
    "start_time": "2022-08-14T12:26:53.022Z"
   },
   {
    "duration": 24,
    "start_time": "2022-08-14T12:26:53.050Z"
   },
   {
    "duration": 5,
    "start_time": "2022-08-14T12:26:53.076Z"
   },
   {
    "duration": 268,
    "start_time": "2022-08-14T12:26:53.083Z"
   },
   {
    "duration": 161,
    "start_time": "2022-08-14T12:26:53.353Z"
   },
   {
    "duration": 296,
    "start_time": "2022-08-14T12:26:53.517Z"
   },
   {
    "duration": 22,
    "start_time": "2022-08-14T12:26:53.816Z"
   },
   {
    "duration": 2,
    "start_time": "2022-08-14T12:26:53.840Z"
   },
   {
    "duration": 29,
    "start_time": "2022-08-14T12:26:53.867Z"
   },
   {
    "duration": 12,
    "start_time": "2022-08-14T12:26:53.898Z"
   },
   {
    "duration": 957,
    "start_time": "2022-08-14T12:26:53.912Z"
   },
   {
    "duration": 18,
    "start_time": "2022-08-14T12:26:54.871Z"
   },
   {
    "duration": 270,
    "start_time": "2022-08-14T12:26:54.890Z"
   },
   {
    "duration": 555,
    "start_time": "2022-08-14T12:26:55.161Z"
   },
   {
    "duration": 14,
    "start_time": "2022-08-14T12:26:55.718Z"
   },
   {
    "duration": 55,
    "start_time": "2022-08-14T12:26:55.734Z"
   },
   {
    "duration": 10,
    "start_time": "2022-08-14T12:26:55.791Z"
   },
   {
    "duration": 12,
    "start_time": "2022-08-14T12:26:55.803Z"
   },
   {
    "duration": 29,
    "start_time": "2022-08-14T12:26:55.817Z"
   },
   {
    "duration": 360,
    "start_time": "2022-08-14T12:26:55.847Z"
   },
   {
    "duration": 1598,
    "start_time": "2022-08-14T12:26:56.210Z"
   },
   {
    "duration": 16,
    "start_time": "2022-08-14T12:26:57.810Z"
   },
   {
    "duration": 18,
    "start_time": "2022-08-14T12:26:57.828Z"
   },
   {
    "duration": 2297,
    "start_time": "2022-08-14T12:26:57.847Z"
   },
   {
    "duration": 22,
    "start_time": "2022-08-14T12:27:00.148Z"
   },
   {
    "duration": 53,
    "start_time": "2022-08-14T12:27:00.171Z"
   },
   {
    "duration": 96,
    "start_time": "2022-08-14T12:27:00.226Z"
   },
   {
    "duration": 118,
    "start_time": "2022-08-14T12:27:00.325Z"
   },
   {
    "duration": 32,
    "start_time": "2022-08-14T12:27:00.445Z"
   },
   {
    "duration": 7,
    "start_time": "2022-08-14T12:27:00.479Z"
   },
   {
    "duration": 16,
    "start_time": "2022-08-14T12:27:00.488Z"
   },
   {
    "duration": 149,
    "start_time": "2022-08-14T12:27:00.506Z"
   },
   {
    "duration": 53,
    "start_time": "2022-08-14T12:27:35.445Z"
   },
   {
    "duration": 648,
    "start_time": "2022-08-14T12:27:55.707Z"
   },
   {
    "duration": 3314,
    "start_time": "2022-08-14T12:28:15.693Z"
   },
   {
    "duration": 75,
    "start_time": "2022-08-14T12:28:19.010Z"
   },
   {
    "duration": 16,
    "start_time": "2022-08-14T12:28:19.087Z"
   },
   {
    "duration": 16,
    "start_time": "2022-08-14T12:28:19.104Z"
   },
   {
    "duration": 18,
    "start_time": "2022-08-14T12:28:19.122Z"
   },
   {
    "duration": 27,
    "start_time": "2022-08-14T12:28:19.142Z"
   },
   {
    "duration": 265,
    "start_time": "2022-08-14T12:28:19.171Z"
   },
   {
    "duration": 170,
    "start_time": "2022-08-14T12:28:19.438Z"
   },
   {
    "duration": 285,
    "start_time": "2022-08-14T12:28:19.609Z"
   },
   {
    "duration": 23,
    "start_time": "2022-08-14T12:28:19.895Z"
   },
   {
    "duration": 2,
    "start_time": "2022-08-14T12:28:19.919Z"
   },
   {
    "duration": 50,
    "start_time": "2022-08-14T12:28:19.923Z"
   },
   {
    "duration": 12,
    "start_time": "2022-08-14T12:28:19.975Z"
   },
   {
    "duration": 967,
    "start_time": "2022-08-14T12:28:19.990Z"
   },
   {
    "duration": 20,
    "start_time": "2022-08-14T12:28:20.960Z"
   },
   {
    "duration": 284,
    "start_time": "2022-08-14T12:28:20.981Z"
   },
   {
    "duration": 586,
    "start_time": "2022-08-14T12:28:21.268Z"
   },
   {
    "duration": 19,
    "start_time": "2022-08-14T12:28:21.856Z"
   },
   {
    "duration": 41,
    "start_time": "2022-08-14T12:28:21.877Z"
   },
   {
    "duration": 11,
    "start_time": "2022-08-14T12:28:21.920Z"
   },
   {
    "duration": 10,
    "start_time": "2022-08-14T12:28:21.933Z"
   },
   {
    "duration": 33,
    "start_time": "2022-08-14T12:28:21.944Z"
   },
   {
    "duration": 360,
    "start_time": "2022-08-14T12:28:21.979Z"
   },
   {
    "duration": 1118,
    "start_time": "2022-08-14T12:28:22.341Z"
   },
   {
    "duration": 18,
    "start_time": "2022-08-14T12:28:23.461Z"
   },
   {
    "duration": 17,
    "start_time": "2022-08-14T12:28:23.481Z"
   },
   {
    "duration": 2353,
    "start_time": "2022-08-14T12:28:23.501Z"
   },
   {
    "duration": 19,
    "start_time": "2022-08-14T12:28:25.856Z"
   },
   {
    "duration": 42,
    "start_time": "2022-08-14T12:28:25.877Z"
   },
   {
    "duration": 79,
    "start_time": "2022-08-14T12:28:25.921Z"
   },
   {
    "duration": 99,
    "start_time": "2022-08-14T12:28:26.002Z"
   },
   {
    "duration": 20,
    "start_time": "2022-08-14T12:28:26.102Z"
   },
   {
    "duration": 5,
    "start_time": "2022-08-14T12:28:26.124Z"
   },
   {
    "duration": 14,
    "start_time": "2022-08-14T12:28:26.131Z"
   },
   {
    "duration": 144,
    "start_time": "2022-08-14T12:28:26.147Z"
   },
   {
    "duration": 51,
    "start_time": "2022-08-14T12:30:07.136Z"
   },
   {
    "duration": 3450,
    "start_time": "2022-08-14T12:30:20.295Z"
   },
   {
    "duration": 78,
    "start_time": "2022-08-14T12:30:23.748Z"
   },
   {
    "duration": 15,
    "start_time": "2022-08-14T12:30:23.828Z"
   },
   {
    "duration": 27,
    "start_time": "2022-08-14T12:30:23.845Z"
   },
   {
    "duration": 29,
    "start_time": "2022-08-14T12:30:23.875Z"
   },
   {
    "duration": 5,
    "start_time": "2022-08-14T12:30:23.906Z"
   },
   {
    "duration": 278,
    "start_time": "2022-08-14T12:30:23.912Z"
   },
   {
    "duration": 183,
    "start_time": "2022-08-14T12:30:24.192Z"
   },
   {
    "duration": 286,
    "start_time": "2022-08-14T12:30:24.377Z"
   },
   {
    "duration": 22,
    "start_time": "2022-08-14T12:30:24.668Z"
   },
   {
    "duration": 3,
    "start_time": "2022-08-14T12:30:24.691Z"
   },
   {
    "duration": 36,
    "start_time": "2022-08-14T12:30:24.696Z"
   },
   {
    "duration": 11,
    "start_time": "2022-08-14T12:30:24.734Z"
   },
   {
    "duration": 957,
    "start_time": "2022-08-14T12:30:24.748Z"
   },
   {
    "duration": 18,
    "start_time": "2022-08-14T12:30:25.707Z"
   },
   {
    "duration": 243,
    "start_time": "2022-08-14T12:30:25.727Z"
   },
   {
    "duration": 581,
    "start_time": "2022-08-14T12:30:25.971Z"
   },
   {
    "duration": 24,
    "start_time": "2022-08-14T12:30:26.555Z"
   },
   {
    "duration": 42,
    "start_time": "2022-08-14T12:30:26.581Z"
   },
   {
    "duration": 11,
    "start_time": "2022-08-14T12:30:26.625Z"
   },
   {
    "duration": 10,
    "start_time": "2022-08-14T12:30:26.637Z"
   },
   {
    "duration": 14,
    "start_time": "2022-08-14T12:30:26.667Z"
   },
   {
    "duration": 379,
    "start_time": "2022-08-14T12:30:26.682Z"
   },
   {
    "duration": 1271,
    "start_time": "2022-08-14T12:30:27.063Z"
   },
   {
    "duration": 17,
    "start_time": "2022-08-14T12:30:28.336Z"
   },
   {
    "duration": 19,
    "start_time": "2022-08-14T12:30:28.354Z"
   },
   {
    "duration": 2535,
    "start_time": "2022-08-14T12:30:28.375Z"
   },
   {
    "duration": 14,
    "start_time": "2022-08-14T12:30:30.912Z"
   },
   {
    "duration": 60,
    "start_time": "2022-08-14T12:30:30.928Z"
   },
   {
    "duration": 65,
    "start_time": "2022-08-14T12:30:30.989Z"
   },
   {
    "duration": 102,
    "start_time": "2022-08-14T12:30:31.067Z"
   },
   {
    "duration": 19,
    "start_time": "2022-08-14T12:30:31.171Z"
   },
   {
    "duration": 5,
    "start_time": "2022-08-14T12:30:31.192Z"
   },
   {
    "duration": 14,
    "start_time": "2022-08-14T12:30:31.199Z"
   },
   {
    "duration": 139,
    "start_time": "2022-08-14T12:30:31.215Z"
   },
   {
    "duration": 12,
    "start_time": "2022-08-14T12:32:37.246Z"
   },
   {
    "duration": 12,
    "start_time": "2022-08-14T12:32:43.262Z"
   },
   {
    "duration": 9,
    "start_time": "2022-08-14T12:32:51.373Z"
   },
   {
    "duration": 20,
    "start_time": "2022-08-14T12:33:00.134Z"
   },
   {
    "duration": 10,
    "start_time": "2022-08-14T12:33:27.275Z"
   },
   {
    "duration": 17,
    "start_time": "2022-08-14T12:34:23.990Z"
   },
   {
    "duration": 11,
    "start_time": "2022-08-14T12:34:31.231Z"
   },
   {
    "duration": 9,
    "start_time": "2022-08-14T12:34:38.317Z"
   },
   {
    "duration": 3518,
    "start_time": "2022-08-14T12:34:49.086Z"
   },
   {
    "duration": 72,
    "start_time": "2022-08-14T12:34:52.607Z"
   },
   {
    "duration": 14,
    "start_time": "2022-08-14T12:34:52.680Z"
   },
   {
    "duration": 21,
    "start_time": "2022-08-14T12:34:52.697Z"
   },
   {
    "duration": 19,
    "start_time": "2022-08-14T12:34:52.720Z"
   },
   {
    "duration": 5,
    "start_time": "2022-08-14T12:34:52.740Z"
   },
   {
    "duration": 270,
    "start_time": "2022-08-14T12:34:52.769Z"
   },
   {
    "duration": 166,
    "start_time": "2022-08-14T12:34:53.040Z"
   },
   {
    "duration": 301,
    "start_time": "2022-08-14T12:34:53.208Z"
   },
   {
    "duration": 27,
    "start_time": "2022-08-14T12:34:53.513Z"
   },
   {
    "duration": 2,
    "start_time": "2022-08-14T12:34:53.542Z"
   },
   {
    "duration": 48,
    "start_time": "2022-08-14T12:34:53.546Z"
   },
   {
    "duration": 11,
    "start_time": "2022-08-14T12:34:53.596Z"
   },
   {
    "duration": 920,
    "start_time": "2022-08-14T12:34:53.609Z"
   },
   {
    "duration": 17,
    "start_time": "2022-08-14T12:34:54.531Z"
   },
   {
    "duration": 245,
    "start_time": "2022-08-14T12:34:54.550Z"
   },
   {
    "duration": 548,
    "start_time": "2022-08-14T12:34:54.796Z"
   },
   {
    "duration": 14,
    "start_time": "2022-08-14T12:34:55.345Z"
   },
   {
    "duration": 44,
    "start_time": "2022-08-14T12:34:55.368Z"
   },
   {
    "duration": 10,
    "start_time": "2022-08-14T12:34:55.414Z"
   },
   {
    "duration": 10,
    "start_time": "2022-08-14T12:34:55.425Z"
   },
   {
    "duration": 35,
    "start_time": "2022-08-14T12:34:55.437Z"
   },
   {
    "duration": 361,
    "start_time": "2022-08-14T12:34:55.474Z"
   },
   {
    "duration": 1259,
    "start_time": "2022-08-14T12:34:55.837Z"
   },
   {
    "duration": 15,
    "start_time": "2022-08-14T12:34:57.098Z"
   },
   {
    "duration": 29,
    "start_time": "2022-08-14T12:34:57.115Z"
   },
   {
    "duration": 2452,
    "start_time": "2022-08-14T12:34:57.145Z"
   },
   {
    "duration": 14,
    "start_time": "2022-08-14T12:34:59.601Z"
   },
   {
    "duration": 21,
    "start_time": "2022-08-14T12:34:59.617Z"
   },
   {
    "duration": 31,
    "start_time": "2022-08-14T12:34:59.640Z"
   },
   {
    "duration": 121,
    "start_time": "2022-08-14T12:34:59.673Z"
   },
   {
    "duration": 0,
    "start_time": "2022-08-14T12:34:59.795Z"
   },
   {
    "duration": 0,
    "start_time": "2022-08-14T12:34:59.797Z"
   },
   {
    "duration": 0,
    "start_time": "2022-08-14T12:34:59.798Z"
   },
   {
    "duration": 0,
    "start_time": "2022-08-14T12:34:59.799Z"
   },
   {
    "duration": 0,
    "start_time": "2022-08-14T12:34:59.800Z"
   },
   {
    "duration": 0,
    "start_time": "2022-08-14T12:34:59.801Z"
   },
   {
    "duration": 13,
    "start_time": "2022-08-14T12:35:26.150Z"
   },
   {
    "duration": 10,
    "start_time": "2022-08-14T12:37:14.822Z"
   },
   {
    "duration": 9,
    "start_time": "2022-08-14T12:37:37.670Z"
   },
   {
    "duration": 35,
    "start_time": "2022-08-14T12:41:51.750Z"
   },
   {
    "duration": 19,
    "start_time": "2022-08-14T12:42:09.432Z"
   },
   {
    "duration": 88,
    "start_time": "2022-08-14T12:43:15.520Z"
   },
   {
    "duration": 11,
    "start_time": "2022-08-14T12:43:41.184Z"
   },
   {
    "duration": 3438,
    "start_time": "2022-08-14T12:45:10.211Z"
   },
   {
    "duration": 73,
    "start_time": "2022-08-14T12:45:13.651Z"
   },
   {
    "duration": 15,
    "start_time": "2022-08-14T12:45:13.725Z"
   },
   {
    "duration": 23,
    "start_time": "2022-08-14T12:45:13.742Z"
   },
   {
    "duration": 33,
    "start_time": "2022-08-14T12:45:13.767Z"
   },
   {
    "duration": 5,
    "start_time": "2022-08-14T12:45:13.802Z"
   },
   {
    "duration": 295,
    "start_time": "2022-08-14T12:45:13.808Z"
   },
   {
    "duration": 163,
    "start_time": "2022-08-14T12:45:14.105Z"
   },
   {
    "duration": 298,
    "start_time": "2022-08-14T12:45:14.270Z"
   },
   {
    "duration": 22,
    "start_time": "2022-08-14T12:45:14.570Z"
   },
   {
    "duration": 3,
    "start_time": "2022-08-14T12:45:14.593Z"
   },
   {
    "duration": 29,
    "start_time": "2022-08-14T12:45:14.597Z"
   },
   {
    "duration": 9,
    "start_time": "2022-08-14T12:45:14.628Z"
   },
   {
    "duration": 982,
    "start_time": "2022-08-14T12:45:14.639Z"
   },
   {
    "duration": 18,
    "start_time": "2022-08-14T12:45:15.623Z"
   },
   {
    "duration": 256,
    "start_time": "2022-08-14T12:45:15.643Z"
   },
   {
    "duration": 554,
    "start_time": "2022-08-14T12:45:15.901Z"
   },
   {
    "duration": 22,
    "start_time": "2022-08-14T12:45:16.457Z"
   },
   {
    "duration": 52,
    "start_time": "2022-08-14T12:45:16.481Z"
   },
   {
    "duration": 13,
    "start_time": "2022-08-14T12:45:16.535Z"
   },
   {
    "duration": 23,
    "start_time": "2022-08-14T12:45:16.549Z"
   },
   {
    "duration": 21,
    "start_time": "2022-08-14T12:45:16.574Z"
   },
   {
    "duration": 407,
    "start_time": "2022-08-14T12:45:16.597Z"
   },
   {
    "duration": 1565,
    "start_time": "2022-08-14T12:45:17.006Z"
   },
   {
    "duration": 16,
    "start_time": "2022-08-14T12:45:18.572Z"
   },
   {
    "duration": 17,
    "start_time": "2022-08-14T12:45:18.590Z"
   },
   {
    "duration": 2483,
    "start_time": "2022-08-14T12:45:18.609Z"
   },
   {
    "duration": 35,
    "start_time": "2022-08-14T12:45:21.095Z"
   },
   {
    "duration": 37,
    "start_time": "2022-08-14T12:45:21.132Z"
   },
   {
    "duration": 101,
    "start_time": "2022-08-14T12:45:21.171Z"
   },
   {
    "duration": 126,
    "start_time": "2022-08-14T12:45:21.274Z"
   },
   {
    "duration": 0,
    "start_time": "2022-08-14T12:45:21.401Z"
   },
   {
    "duration": 0,
    "start_time": "2022-08-14T12:45:21.403Z"
   },
   {
    "duration": 0,
    "start_time": "2022-08-14T12:45:21.404Z"
   },
   {
    "duration": 0,
    "start_time": "2022-08-14T12:45:21.406Z"
   },
   {
    "duration": 0,
    "start_time": "2022-08-14T12:45:21.407Z"
   },
   {
    "duration": 0,
    "start_time": "2022-08-14T12:45:21.408Z"
   },
   {
    "duration": 0,
    "start_time": "2022-08-14T12:45:21.409Z"
   },
   {
    "duration": 2,
    "start_time": "2022-08-14T12:53:43.552Z"
   },
   {
    "duration": 3,
    "start_time": "2022-08-14T12:53:47.059Z"
   },
   {
    "duration": 4,
    "start_time": "2022-08-14T12:53:57.767Z"
   },
   {
    "duration": 12,
    "start_time": "2022-08-14T12:54:15.389Z"
   },
   {
    "duration": 33,
    "start_time": "2022-08-14T12:56:26.733Z"
   },
   {
    "duration": 18,
    "start_time": "2022-08-14T12:56:30.377Z"
   },
   {
    "duration": 31,
    "start_time": "2022-08-14T12:56:52.308Z"
   },
   {
    "duration": 12,
    "start_time": "2022-08-14T12:57:10.216Z"
   },
   {
    "duration": 127,
    "start_time": "2022-08-14T12:57:22.167Z"
   },
   {
    "duration": 11,
    "start_time": "2022-08-14T12:57:23.841Z"
   },
   {
    "duration": 653,
    "start_time": "2022-08-14T12:58:09.638Z"
   },
   {
    "duration": 9,
    "start_time": "2022-08-14T12:58:11.178Z"
   },
   {
    "duration": 3363,
    "start_time": "2022-08-14T12:58:35.083Z"
   },
   {
    "duration": 71,
    "start_time": "2022-08-14T12:58:38.448Z"
   },
   {
    "duration": 14,
    "start_time": "2022-08-14T12:58:38.521Z"
   },
   {
    "duration": 15,
    "start_time": "2022-08-14T12:58:38.538Z"
   },
   {
    "duration": 27,
    "start_time": "2022-08-14T12:58:38.555Z"
   },
   {
    "duration": 5,
    "start_time": "2022-08-14T12:58:38.583Z"
   },
   {
    "duration": 273,
    "start_time": "2022-08-14T12:58:38.590Z"
   },
   {
    "duration": 160,
    "start_time": "2022-08-14T12:58:38.865Z"
   },
   {
    "duration": 285,
    "start_time": "2022-08-14T12:58:39.027Z"
   },
   {
    "duration": 22,
    "start_time": "2022-08-14T12:58:39.315Z"
   },
   {
    "duration": 2,
    "start_time": "2022-08-14T12:58:39.339Z"
   },
   {
    "duration": 43,
    "start_time": "2022-08-14T12:58:39.343Z"
   },
   {
    "duration": 10,
    "start_time": "2022-08-14T12:58:39.388Z"
   },
   {
    "duration": 938,
    "start_time": "2022-08-14T12:58:39.400Z"
   },
   {
    "duration": 18,
    "start_time": "2022-08-14T12:58:40.340Z"
   },
   {
    "duration": 270,
    "start_time": "2022-08-14T12:58:40.360Z"
   },
   {
    "duration": 593,
    "start_time": "2022-08-14T12:58:40.632Z"
   },
   {
    "duration": 14,
    "start_time": "2022-08-14T12:58:41.227Z"
   },
   {
    "duration": 46,
    "start_time": "2022-08-14T12:58:41.243Z"
   },
   {
    "duration": 11,
    "start_time": "2022-08-14T12:58:41.291Z"
   },
   {
    "duration": 9,
    "start_time": "2022-08-14T12:58:41.304Z"
   },
   {
    "duration": 13,
    "start_time": "2022-08-14T12:58:41.315Z"
   },
   {
    "duration": 397,
    "start_time": "2022-08-14T12:58:41.330Z"
   },
   {
    "duration": 1357,
    "start_time": "2022-08-14T12:58:41.729Z"
   },
   {
    "duration": 18,
    "start_time": "2022-08-14T12:58:43.089Z"
   },
   {
    "duration": 18,
    "start_time": "2022-08-14T12:58:43.109Z"
   },
   {
    "duration": 3640,
    "start_time": "2022-08-14T12:58:43.130Z"
   },
   {
    "duration": 44,
    "start_time": "2022-08-14T12:58:46.775Z"
   },
   {
    "duration": 42,
    "start_time": "2022-08-14T12:58:46.821Z"
   },
   {
    "duration": 138,
    "start_time": "2022-08-14T12:58:46.868Z"
   },
   {
    "duration": 9,
    "start_time": "2022-08-14T12:58:47.008Z"
   },
   {
    "duration": 121,
    "start_time": "2022-08-14T12:58:47.020Z"
   },
   {
    "duration": 0,
    "start_time": "2022-08-14T12:58:47.143Z"
   },
   {
    "duration": 0,
    "start_time": "2022-08-14T12:58:47.145Z"
   },
   {
    "duration": 0,
    "start_time": "2022-08-14T12:58:47.146Z"
   },
   {
    "duration": 0,
    "start_time": "2022-08-14T12:58:47.147Z"
   },
   {
    "duration": 0,
    "start_time": "2022-08-14T12:58:47.148Z"
   },
   {
    "duration": 0,
    "start_time": "2022-08-14T12:58:47.149Z"
   },
   {
    "duration": 0,
    "start_time": "2022-08-14T12:58:47.168Z"
   },
   {
    "duration": 586,
    "start_time": "2022-08-14T12:59:20.024Z"
   },
   {
    "duration": 11,
    "start_time": "2022-08-14T12:59:21.564Z"
   },
   {
    "duration": 3475,
    "start_time": "2022-08-14T12:59:34.833Z"
   },
   {
    "duration": 74,
    "start_time": "2022-08-14T12:59:38.311Z"
   },
   {
    "duration": 15,
    "start_time": "2022-08-14T12:59:38.387Z"
   },
   {
    "duration": 22,
    "start_time": "2022-08-14T12:59:38.404Z"
   },
   {
    "duration": 30,
    "start_time": "2022-08-14T12:59:38.428Z"
   },
   {
    "duration": 10,
    "start_time": "2022-08-14T12:59:38.460Z"
   },
   {
    "duration": 279,
    "start_time": "2022-08-14T12:59:38.472Z"
   },
   {
    "duration": 159,
    "start_time": "2022-08-14T12:59:38.753Z"
   },
   {
    "duration": 296,
    "start_time": "2022-08-14T12:59:38.914Z"
   },
   {
    "duration": 23,
    "start_time": "2022-08-14T12:59:39.214Z"
   },
   {
    "duration": 3,
    "start_time": "2022-08-14T12:59:39.239Z"
   },
   {
    "duration": 51,
    "start_time": "2022-08-14T12:59:39.244Z"
   },
   {
    "duration": 11,
    "start_time": "2022-08-14T12:59:39.298Z"
   },
   {
    "duration": 978,
    "start_time": "2022-08-14T12:59:39.311Z"
   },
   {
    "duration": 18,
    "start_time": "2022-08-14T12:59:40.291Z"
   },
   {
    "duration": 299,
    "start_time": "2022-08-14T12:59:40.311Z"
   },
   {
    "duration": 559,
    "start_time": "2022-08-14T12:59:40.612Z"
   },
   {
    "duration": 14,
    "start_time": "2022-08-14T12:59:41.173Z"
   },
   {
    "duration": 35,
    "start_time": "2022-08-14T12:59:41.189Z"
   },
   {
    "duration": 15,
    "start_time": "2022-08-14T12:59:41.227Z"
   },
   {
    "duration": 25,
    "start_time": "2022-08-14T12:59:41.244Z"
   },
   {
    "duration": 18,
    "start_time": "2022-08-14T12:59:41.270Z"
   },
   {
    "duration": 396,
    "start_time": "2022-08-14T12:59:41.290Z"
   },
   {
    "duration": 1415,
    "start_time": "2022-08-14T12:59:41.688Z"
   },
   {
    "duration": 21,
    "start_time": "2022-08-14T12:59:43.105Z"
   },
   {
    "duration": 33,
    "start_time": "2022-08-14T12:59:43.127Z"
   },
   {
    "duration": 2498,
    "start_time": "2022-08-14T12:59:43.162Z"
   },
   {
    "duration": 34,
    "start_time": "2022-08-14T12:59:45.671Z"
   },
   {
    "duration": 19,
    "start_time": "2022-08-14T12:59:45.707Z"
   },
   {
    "duration": 160,
    "start_time": "2022-08-14T12:59:45.728Z"
   },
   {
    "duration": 10,
    "start_time": "2022-08-14T12:59:45.890Z"
   },
   {
    "duration": 131,
    "start_time": "2022-08-14T12:59:45.902Z"
   },
   {
    "duration": 0,
    "start_time": "2022-08-14T12:59:46.034Z"
   },
   {
    "duration": 0,
    "start_time": "2022-08-14T12:59:46.036Z"
   },
   {
    "duration": 0,
    "start_time": "2022-08-14T12:59:46.037Z"
   },
   {
    "duration": 0,
    "start_time": "2022-08-14T12:59:46.038Z"
   },
   {
    "duration": 0,
    "start_time": "2022-08-14T12:59:46.039Z"
   },
   {
    "duration": 0,
    "start_time": "2022-08-14T12:59:46.040Z"
   },
   {
    "duration": 0,
    "start_time": "2022-08-14T12:59:46.042Z"
   },
   {
    "duration": 15,
    "start_time": "2022-08-14T13:00:54.486Z"
   },
   {
    "duration": 14,
    "start_time": "2022-08-14T13:01:04.241Z"
   },
   {
    "duration": 13,
    "start_time": "2022-08-14T13:02:45.519Z"
   },
   {
    "duration": 17,
    "start_time": "2022-08-14T13:03:29.596Z"
   },
   {
    "duration": 13,
    "start_time": "2022-08-14T13:03:30.232Z"
   },
   {
    "duration": 3470,
    "start_time": "2022-08-14T13:03:48.543Z"
   },
   {
    "duration": 71,
    "start_time": "2022-08-14T13:03:52.015Z"
   },
   {
    "duration": 15,
    "start_time": "2022-08-14T13:03:52.088Z"
   },
   {
    "duration": 14,
    "start_time": "2022-08-14T13:03:52.105Z"
   },
   {
    "duration": 20,
    "start_time": "2022-08-14T13:03:52.121Z"
   },
   {
    "duration": 7,
    "start_time": "2022-08-14T13:03:52.167Z"
   },
   {
    "duration": 275,
    "start_time": "2022-08-14T13:03:52.176Z"
   },
   {
    "duration": 163,
    "start_time": "2022-08-14T13:03:52.453Z"
   },
   {
    "duration": 284,
    "start_time": "2022-08-14T13:03:52.619Z"
   },
   {
    "duration": 23,
    "start_time": "2022-08-14T13:03:52.907Z"
   },
   {
    "duration": 3,
    "start_time": "2022-08-14T13:03:52.932Z"
   },
   {
    "duration": 54,
    "start_time": "2022-08-14T13:03:52.937Z"
   },
   {
    "duration": 12,
    "start_time": "2022-08-14T13:03:52.993Z"
   },
   {
    "duration": 885,
    "start_time": "2022-08-14T13:03:53.008Z"
   },
   {
    "duration": 16,
    "start_time": "2022-08-14T13:03:53.895Z"
   },
   {
    "duration": 251,
    "start_time": "2022-08-14T13:03:53.913Z"
   },
   {
    "duration": 562,
    "start_time": "2022-08-14T13:03:54.166Z"
   },
   {
    "duration": 13,
    "start_time": "2022-08-14T13:03:54.730Z"
   },
   {
    "duration": 46,
    "start_time": "2022-08-14T13:03:54.745Z"
   },
   {
    "duration": 10,
    "start_time": "2022-08-14T13:03:54.793Z"
   },
   {
    "duration": 11,
    "start_time": "2022-08-14T13:03:54.804Z"
   },
   {
    "duration": 13,
    "start_time": "2022-08-14T13:03:54.816Z"
   },
   {
    "duration": 379,
    "start_time": "2022-08-14T13:03:54.831Z"
   },
   {
    "duration": 1354,
    "start_time": "2022-08-14T13:03:55.212Z"
   },
   {
    "duration": 22,
    "start_time": "2022-08-14T13:03:56.568Z"
   },
   {
    "duration": 48,
    "start_time": "2022-08-14T13:03:56.593Z"
   },
   {
    "duration": 2368,
    "start_time": "2022-08-14T13:03:56.643Z"
   },
   {
    "duration": 29,
    "start_time": "2022-08-14T13:03:59.014Z"
   },
   {
    "duration": 38,
    "start_time": "2022-08-14T13:03:59.044Z"
   },
   {
    "duration": 222,
    "start_time": "2022-08-14T13:03:59.084Z"
   },
   {
    "duration": 12,
    "start_time": "2022-08-14T13:03:59.307Z"
   },
   {
    "duration": 14,
    "start_time": "2022-08-14T13:03:59.320Z"
   },
   {
    "duration": 144,
    "start_time": "2022-08-14T13:03:59.336Z"
   },
   {
    "duration": 0,
    "start_time": "2022-08-14T13:03:59.482Z"
   },
   {
    "duration": 0,
    "start_time": "2022-08-14T13:03:59.484Z"
   },
   {
    "duration": 0,
    "start_time": "2022-08-14T13:03:59.485Z"
   },
   {
    "duration": 0,
    "start_time": "2022-08-14T13:03:59.486Z"
   },
   {
    "duration": 0,
    "start_time": "2022-08-14T13:03:59.488Z"
   },
   {
    "duration": 0,
    "start_time": "2022-08-14T13:03:59.489Z"
   },
   {
    "duration": 9,
    "start_time": "2022-08-14T13:05:45.982Z"
   },
   {
    "duration": 3386,
    "start_time": "2022-08-14T13:05:54.505Z"
   },
   {
    "duration": 72,
    "start_time": "2022-08-14T13:05:57.893Z"
   },
   {
    "duration": 16,
    "start_time": "2022-08-14T13:05:57.967Z"
   },
   {
    "duration": 16,
    "start_time": "2022-08-14T13:05:57.985Z"
   },
   {
    "duration": 19,
    "start_time": "2022-08-14T13:05:58.003Z"
   },
   {
    "duration": 5,
    "start_time": "2022-08-14T13:05:58.024Z"
   },
   {
    "duration": 292,
    "start_time": "2022-08-14T13:05:58.031Z"
   },
   {
    "duration": 160,
    "start_time": "2022-08-14T13:05:58.325Z"
   },
   {
    "duration": 284,
    "start_time": "2022-08-14T13:05:58.487Z"
   },
   {
    "duration": 22,
    "start_time": "2022-08-14T13:05:58.774Z"
   },
   {
    "duration": 2,
    "start_time": "2022-08-14T13:05:58.798Z"
   },
   {
    "duration": 30,
    "start_time": "2022-08-14T13:05:58.802Z"
   },
   {
    "duration": 34,
    "start_time": "2022-08-14T13:05:58.834Z"
   },
   {
    "duration": 951,
    "start_time": "2022-08-14T13:05:58.870Z"
   },
   {
    "duration": 16,
    "start_time": "2022-08-14T13:05:59.823Z"
   },
   {
    "duration": 256,
    "start_time": "2022-08-14T13:05:59.841Z"
   },
   {
    "duration": 550,
    "start_time": "2022-08-14T13:06:00.099Z"
   },
   {
    "duration": 22,
    "start_time": "2022-08-14T13:06:00.650Z"
   },
   {
    "duration": 44,
    "start_time": "2022-08-14T13:06:00.674Z"
   },
   {
    "duration": 11,
    "start_time": "2022-08-14T13:06:00.720Z"
   },
   {
    "duration": 17,
    "start_time": "2022-08-14T13:06:00.733Z"
   },
   {
    "duration": 25,
    "start_time": "2022-08-14T13:06:00.752Z"
   },
   {
    "duration": 380,
    "start_time": "2022-08-14T13:06:00.779Z"
   },
   {
    "duration": 1180,
    "start_time": "2022-08-14T13:06:01.161Z"
   },
   {
    "duration": 17,
    "start_time": "2022-08-14T13:06:02.342Z"
   },
   {
    "duration": 17,
    "start_time": "2022-08-14T13:06:02.360Z"
   },
   {
    "duration": 2245,
    "start_time": "2022-08-14T13:06:02.378Z"
   },
   {
    "duration": 44,
    "start_time": "2022-08-14T13:06:04.627Z"
   },
   {
    "duration": 18,
    "start_time": "2022-08-14T13:06:04.673Z"
   },
   {
    "duration": 234,
    "start_time": "2022-08-14T13:06:04.694Z"
   },
   {
    "duration": 123,
    "start_time": "2022-08-14T13:06:04.930Z"
   },
   {
    "duration": 0,
    "start_time": "2022-08-14T13:06:05.056Z"
   },
   {
    "duration": 0,
    "start_time": "2022-08-14T13:06:05.057Z"
   },
   {
    "duration": 0,
    "start_time": "2022-08-14T13:06:05.059Z"
   },
   {
    "duration": 0,
    "start_time": "2022-08-14T13:06:05.068Z"
   },
   {
    "duration": 0,
    "start_time": "2022-08-14T13:06:05.070Z"
   },
   {
    "duration": 1,
    "start_time": "2022-08-14T13:06:05.071Z"
   },
   {
    "duration": 0,
    "start_time": "2022-08-14T13:06:05.073Z"
   },
   {
    "duration": 14,
    "start_time": "2022-08-14T13:06:19.594Z"
   },
   {
    "duration": 17,
    "start_time": "2022-08-14T13:06:23.534Z"
   },
   {
    "duration": 13,
    "start_time": "2022-08-14T13:06:53.941Z"
   },
   {
    "duration": 485,
    "start_time": "2022-08-14T13:07:37.557Z"
   },
   {
    "duration": 960,
    "start_time": "2022-08-14T13:09:28.982Z"
   },
   {
    "duration": 1237,
    "start_time": "2022-08-14T13:09:35.997Z"
   },
   {
    "duration": 12,
    "start_time": "2022-08-14T13:10:30.709Z"
   },
   {
    "duration": 13,
    "start_time": "2022-08-14T13:10:53.205Z"
   },
   {
    "duration": 17,
    "start_time": "2022-08-14T13:10:55.829Z"
   },
   {
    "duration": 14,
    "start_time": "2022-08-14T13:11:44.285Z"
   },
   {
    "duration": 26,
    "start_time": "2022-08-14T13:13:55.943Z"
   },
   {
    "duration": 22,
    "start_time": "2022-08-14T13:14:36.600Z"
   },
   {
    "duration": 3885,
    "start_time": "2022-08-14T13:15:01.968Z"
   },
   {
    "duration": 75,
    "start_time": "2022-08-14T13:15:05.856Z"
   },
   {
    "duration": 14,
    "start_time": "2022-08-14T13:15:05.933Z"
   },
   {
    "duration": 16,
    "start_time": "2022-08-14T13:15:05.948Z"
   },
   {
    "duration": 31,
    "start_time": "2022-08-14T13:15:05.967Z"
   },
   {
    "duration": 6,
    "start_time": "2022-08-14T13:15:06.000Z"
   },
   {
    "duration": 312,
    "start_time": "2022-08-14T13:15:06.008Z"
   },
   {
    "duration": 183,
    "start_time": "2022-08-14T13:15:06.322Z"
   },
   {
    "duration": 375,
    "start_time": "2022-08-14T13:15:06.507Z"
   },
   {
    "duration": 26,
    "start_time": "2022-08-14T13:15:06.884Z"
   },
   {
    "duration": 3,
    "start_time": "2022-08-14T13:15:06.912Z"
   },
   {
    "duration": 30,
    "start_time": "2022-08-14T13:15:06.916Z"
   },
   {
    "duration": 14,
    "start_time": "2022-08-14T13:15:06.969Z"
   },
   {
    "duration": 1002,
    "start_time": "2022-08-14T13:15:06.986Z"
   },
   {
    "duration": 18,
    "start_time": "2022-08-14T13:15:07.992Z"
   },
   {
    "duration": 259,
    "start_time": "2022-08-14T13:15:08.012Z"
   },
   {
    "duration": 573,
    "start_time": "2022-08-14T13:15:08.273Z"
   },
   {
    "duration": 20,
    "start_time": "2022-08-14T13:15:08.848Z"
   },
   {
    "duration": 52,
    "start_time": "2022-08-14T13:15:08.871Z"
   },
   {
    "duration": 12,
    "start_time": "2022-08-14T13:15:08.925Z"
   },
   {
    "duration": 36,
    "start_time": "2022-08-14T13:15:08.938Z"
   },
   {
    "duration": 21,
    "start_time": "2022-08-14T13:15:08.977Z"
   },
   {
    "duration": 426,
    "start_time": "2022-08-14T13:15:09.000Z"
   },
   {
    "duration": 2927,
    "start_time": "2022-08-14T13:15:09.428Z"
   },
   {
    "duration": 20,
    "start_time": "2022-08-14T13:15:12.357Z"
   },
   {
    "duration": 17,
    "start_time": "2022-08-14T13:15:12.379Z"
   },
   {
    "duration": 3476,
    "start_time": "2022-08-14T13:15:12.398Z"
   },
   {
    "duration": 34,
    "start_time": "2022-08-14T13:15:15.877Z"
   },
   {
    "duration": 18,
    "start_time": "2022-08-14T13:15:15.913Z"
   },
   {
    "duration": 277,
    "start_time": "2022-08-14T13:15:15.933Z"
   },
   {
    "duration": 12,
    "start_time": "2022-08-14T13:15:16.212Z"
   },
   {
    "duration": 33,
    "start_time": "2022-08-14T13:15:16.226Z"
   },
   {
    "duration": 36,
    "start_time": "2022-08-14T13:15:16.261Z"
   },
   {
    "duration": 35,
    "start_time": "2022-08-14T13:15:16.299Z"
   },
   {
    "duration": 24,
    "start_time": "2022-08-14T13:15:16.336Z"
   },
   {
    "duration": 154,
    "start_time": "2022-08-14T13:15:16.362Z"
   },
   {
    "duration": 0,
    "start_time": "2022-08-14T13:15:16.518Z"
   },
   {
    "duration": 0,
    "start_time": "2022-08-14T13:15:16.519Z"
   },
   {
    "duration": 0,
    "start_time": "2022-08-14T13:15:16.520Z"
   },
   {
    "duration": 0,
    "start_time": "2022-08-14T13:15:16.522Z"
   },
   {
    "duration": 18,
    "start_time": "2022-08-14T13:18:01.744Z"
   },
   {
    "duration": 3742,
    "start_time": "2022-08-14T13:18:23.193Z"
   },
   {
    "duration": 92,
    "start_time": "2022-08-14T13:18:26.938Z"
   },
   {
    "duration": 16,
    "start_time": "2022-08-14T13:18:27.032Z"
   },
   {
    "duration": 37,
    "start_time": "2022-08-14T13:18:27.050Z"
   },
   {
    "duration": 23,
    "start_time": "2022-08-14T13:18:27.090Z"
   },
   {
    "duration": 6,
    "start_time": "2022-08-14T13:18:27.114Z"
   },
   {
    "duration": 315,
    "start_time": "2022-08-14T13:18:27.122Z"
   },
   {
    "duration": 183,
    "start_time": "2022-08-14T13:18:27.439Z"
   },
   {
    "duration": 337,
    "start_time": "2022-08-14T13:18:27.623Z"
   },
   {
    "duration": 35,
    "start_time": "2022-08-14T13:18:27.961Z"
   },
   {
    "duration": 5,
    "start_time": "2022-08-14T13:18:27.999Z"
   },
   {
    "duration": 33,
    "start_time": "2022-08-14T13:18:28.006Z"
   },
   {
    "duration": 10,
    "start_time": "2022-08-14T13:18:28.041Z"
   },
   {
    "duration": 1050,
    "start_time": "2022-08-14T13:18:28.075Z"
   },
   {
    "duration": 20,
    "start_time": "2022-08-14T13:18:29.127Z"
   },
   {
    "duration": 296,
    "start_time": "2022-08-14T13:18:29.149Z"
   },
   {
    "duration": 666,
    "start_time": "2022-08-14T13:18:29.447Z"
   },
   {
    "duration": 14,
    "start_time": "2022-08-14T13:18:30.115Z"
   },
   {
    "duration": 66,
    "start_time": "2022-08-14T13:18:30.131Z"
   },
   {
    "duration": 11,
    "start_time": "2022-08-14T13:18:30.199Z"
   },
   {
    "duration": 26,
    "start_time": "2022-08-14T13:18:30.212Z"
   },
   {
    "duration": 47,
    "start_time": "2022-08-14T13:18:30.240Z"
   },
   {
    "duration": 431,
    "start_time": "2022-08-14T13:18:30.290Z"
   },
   {
    "duration": 1260,
    "start_time": "2022-08-14T13:18:30.722Z"
   },
   {
    "duration": 25,
    "start_time": "2022-08-14T13:18:31.988Z"
   },
   {
    "duration": 24,
    "start_time": "2022-08-14T13:18:32.015Z"
   },
   {
    "duration": 2521,
    "start_time": "2022-08-14T13:18:32.041Z"
   },
   {
    "duration": 51,
    "start_time": "2022-08-14T13:18:34.564Z"
   },
   {
    "duration": 18,
    "start_time": "2022-08-14T13:18:34.617Z"
   },
   {
    "duration": 275,
    "start_time": "2022-08-14T13:18:34.637Z"
   },
   {
    "duration": 13,
    "start_time": "2022-08-14T13:18:34.913Z"
   },
   {
    "duration": 49,
    "start_time": "2022-08-14T13:18:34.928Z"
   },
   {
    "duration": 37,
    "start_time": "2022-08-14T13:18:34.979Z"
   },
   {
    "duration": 60,
    "start_time": "2022-08-14T13:18:35.018Z"
   },
   {
    "duration": 52,
    "start_time": "2022-08-14T13:18:35.081Z"
   },
   {
    "duration": 173,
    "start_time": "2022-08-14T13:18:35.135Z"
   },
   {
    "duration": 0,
    "start_time": "2022-08-14T13:18:35.310Z"
   },
   {
    "duration": 0,
    "start_time": "2022-08-14T13:18:35.312Z"
   },
   {
    "duration": 0,
    "start_time": "2022-08-14T13:18:35.314Z"
   },
   {
    "duration": 0,
    "start_time": "2022-08-14T13:18:35.315Z"
   },
   {
    "duration": 0,
    "start_time": "2022-08-14T13:18:35.317Z"
   },
   {
    "duration": 1255,
    "start_time": "2022-08-14T13:18:44.167Z"
   },
   {
    "duration": 14,
    "start_time": "2022-08-14T13:20:27.048Z"
   },
   {
    "duration": 14,
    "start_time": "2022-08-14T13:28:55.462Z"
   },
   {
    "duration": 15,
    "start_time": "2022-08-14T13:29:05.814Z"
   },
   {
    "duration": 18,
    "start_time": "2022-08-14T13:29:36.583Z"
   },
   {
    "duration": 3401,
    "start_time": "2022-08-14T13:29:58.736Z"
   },
   {
    "duration": 75,
    "start_time": "2022-08-14T13:30:02.140Z"
   },
   {
    "duration": 15,
    "start_time": "2022-08-14T13:30:02.217Z"
   },
   {
    "duration": 33,
    "start_time": "2022-08-14T13:30:02.235Z"
   },
   {
    "duration": 20,
    "start_time": "2022-08-14T13:30:02.270Z"
   },
   {
    "duration": 6,
    "start_time": "2022-08-14T13:30:02.292Z"
   },
   {
    "duration": 290,
    "start_time": "2022-08-14T13:30:02.300Z"
   },
   {
    "duration": 158,
    "start_time": "2022-08-14T13:30:02.592Z"
   },
   {
    "duration": 303,
    "start_time": "2022-08-14T13:30:02.752Z"
   },
   {
    "duration": 26,
    "start_time": "2022-08-14T13:30:03.058Z"
   },
   {
    "duration": 2,
    "start_time": "2022-08-14T13:30:03.086Z"
   },
   {
    "duration": 33,
    "start_time": "2022-08-14T13:30:03.089Z"
   },
   {
    "duration": 10,
    "start_time": "2022-08-14T13:30:03.123Z"
   },
   {
    "duration": 1010,
    "start_time": "2022-08-14T13:30:03.135Z"
   },
   {
    "duration": 17,
    "start_time": "2022-08-14T13:30:04.147Z"
   },
   {
    "duration": 261,
    "start_time": "2022-08-14T13:30:04.165Z"
   },
   {
    "duration": 553,
    "start_time": "2022-08-14T13:30:04.428Z"
   },
   {
    "duration": 14,
    "start_time": "2022-08-14T13:30:04.983Z"
   },
   {
    "duration": 40,
    "start_time": "2022-08-14T13:30:04.998Z"
   },
   {
    "duration": 11,
    "start_time": "2022-08-14T13:30:05.040Z"
   },
   {
    "duration": 10,
    "start_time": "2022-08-14T13:30:05.067Z"
   },
   {
    "duration": 32,
    "start_time": "2022-08-14T13:30:05.079Z"
   },
   {
    "duration": 357,
    "start_time": "2022-08-14T13:30:05.113Z"
   },
   {
    "duration": 1361,
    "start_time": "2022-08-14T13:30:05.472Z"
   },
   {
    "duration": 18,
    "start_time": "2022-08-14T13:30:06.836Z"
   },
   {
    "duration": 22,
    "start_time": "2022-08-14T13:30:06.855Z"
   },
   {
    "duration": 3257,
    "start_time": "2022-08-14T13:30:06.878Z"
   },
   {
    "duration": 47,
    "start_time": "2022-08-14T13:30:10.139Z"
   },
   {
    "duration": 18,
    "start_time": "2022-08-14T13:30:10.188Z"
   },
   {
    "duration": 239,
    "start_time": "2022-08-14T13:30:10.207Z"
   },
   {
    "duration": 20,
    "start_time": "2022-08-14T13:30:10.448Z"
   },
   {
    "duration": 15,
    "start_time": "2022-08-14T13:30:10.470Z"
   },
   {
    "duration": 16,
    "start_time": "2022-08-14T13:30:10.487Z"
   },
   {
    "duration": 25,
    "start_time": "2022-08-14T13:30:10.505Z"
   },
   {
    "duration": 38,
    "start_time": "2022-08-14T13:30:10.531Z"
   },
   {
    "duration": 16,
    "start_time": "2022-08-14T13:30:10.570Z"
   },
   {
    "duration": 134,
    "start_time": "2022-08-14T13:30:10.588Z"
   },
   {
    "duration": 0,
    "start_time": "2022-08-14T13:30:10.723Z"
   },
   {
    "duration": 0,
    "start_time": "2022-08-14T13:30:10.725Z"
   },
   {
    "duration": 0,
    "start_time": "2022-08-14T13:30:10.726Z"
   },
   {
    "duration": 0,
    "start_time": "2022-08-14T13:30:10.727Z"
   },
   {
    "duration": 20,
    "start_time": "2022-08-14T13:30:46.458Z"
   },
   {
    "duration": 14,
    "start_time": "2022-08-14T13:31:14.562Z"
   },
   {
    "duration": 15,
    "start_time": "2022-08-14T13:31:42.361Z"
   },
   {
    "duration": 14,
    "start_time": "2022-08-14T13:32:02.698Z"
   },
   {
    "duration": 18,
    "start_time": "2022-08-14T13:32:15.322Z"
   },
   {
    "duration": 3545,
    "start_time": "2022-08-14T13:32:38.386Z"
   },
   {
    "duration": 79,
    "start_time": "2022-08-14T13:32:41.934Z"
   },
   {
    "duration": 17,
    "start_time": "2022-08-14T13:32:42.015Z"
   },
   {
    "duration": 50,
    "start_time": "2022-08-14T13:32:42.035Z"
   },
   {
    "duration": 32,
    "start_time": "2022-08-14T13:32:42.087Z"
   },
   {
    "duration": 6,
    "start_time": "2022-08-14T13:32:42.120Z"
   },
   {
    "duration": 316,
    "start_time": "2022-08-14T13:32:42.127Z"
   },
   {
    "duration": 199,
    "start_time": "2022-08-14T13:32:42.445Z"
   },
   {
    "duration": 316,
    "start_time": "2022-08-14T13:32:42.646Z"
   },
   {
    "duration": 26,
    "start_time": "2022-08-14T13:32:42.969Z"
   },
   {
    "duration": 2,
    "start_time": "2022-08-14T13:32:42.997Z"
   },
   {
    "duration": 44,
    "start_time": "2022-08-14T13:32:43.001Z"
   },
   {
    "duration": 28,
    "start_time": "2022-08-14T13:32:43.047Z"
   },
   {
    "duration": 984,
    "start_time": "2022-08-14T13:32:43.077Z"
   },
   {
    "duration": 18,
    "start_time": "2022-08-14T13:32:44.063Z"
   },
   {
    "duration": 261,
    "start_time": "2022-08-14T13:32:44.082Z"
   },
   {
    "duration": 546,
    "start_time": "2022-08-14T13:32:44.344Z"
   },
   {
    "duration": 15,
    "start_time": "2022-08-14T13:32:44.891Z"
   },
   {
    "duration": 38,
    "start_time": "2022-08-14T13:32:44.907Z"
   },
   {
    "duration": 23,
    "start_time": "2022-08-14T13:32:44.946Z"
   },
   {
    "duration": 8,
    "start_time": "2022-08-14T13:32:44.970Z"
   },
   {
    "duration": 33,
    "start_time": "2022-08-14T13:32:44.979Z"
   },
   {
    "duration": 378,
    "start_time": "2022-08-14T13:32:45.014Z"
   },
   {
    "duration": 1246,
    "start_time": "2022-08-14T13:32:45.394Z"
   },
   {
    "duration": 20,
    "start_time": "2022-08-14T13:32:46.642Z"
   },
   {
    "duration": 47,
    "start_time": "2022-08-14T13:32:46.665Z"
   },
   {
    "duration": 2056,
    "start_time": "2022-08-14T13:32:46.714Z"
   },
   {
    "duration": 32,
    "start_time": "2022-08-14T13:32:48.773Z"
   },
   {
    "duration": 18,
    "start_time": "2022-08-14T13:32:48.807Z"
   },
   {
    "duration": 232,
    "start_time": "2022-08-14T13:32:48.827Z"
   },
   {
    "duration": 17,
    "start_time": "2022-08-14T13:32:49.061Z"
   },
   {
    "duration": 17,
    "start_time": "2022-08-14T13:32:49.080Z"
   },
   {
    "duration": 12,
    "start_time": "2022-08-14T13:32:49.099Z"
   },
   {
    "duration": 22,
    "start_time": "2022-08-14T13:32:49.112Z"
   },
   {
    "duration": 35,
    "start_time": "2022-08-14T13:32:49.136Z"
   },
   {
    "duration": 19,
    "start_time": "2022-08-14T13:32:49.173Z"
   },
   {
    "duration": 135,
    "start_time": "2022-08-14T13:32:49.194Z"
   },
   {
    "duration": 0,
    "start_time": "2022-08-14T13:32:49.331Z"
   },
   {
    "duration": 0,
    "start_time": "2022-08-14T13:32:49.332Z"
   },
   {
    "duration": 0,
    "start_time": "2022-08-14T13:32:49.333Z"
   },
   {
    "duration": 0,
    "start_time": "2022-08-14T13:32:49.334Z"
   },
   {
    "duration": 3,
    "start_time": "2022-08-14T13:33:24.390Z"
   },
   {
    "duration": 4,
    "start_time": "2022-08-14T13:33:31.601Z"
   },
   {
    "duration": 15,
    "start_time": "2022-08-14T13:33:33.083Z"
   },
   {
    "duration": 8,
    "start_time": "2022-08-14T13:34:48.633Z"
   },
   {
    "duration": 14,
    "start_time": "2022-08-14T13:34:50.898Z"
   },
   {
    "duration": 4652,
    "start_time": "2022-08-14T13:35:26.692Z"
   },
   {
    "duration": 69,
    "start_time": "2022-08-14T13:35:31.346Z"
   },
   {
    "duration": 13,
    "start_time": "2022-08-14T13:35:31.417Z"
   },
   {
    "duration": 23,
    "start_time": "2022-08-14T13:35:31.432Z"
   },
   {
    "duration": 24,
    "start_time": "2022-08-14T13:35:31.457Z"
   },
   {
    "duration": 6,
    "start_time": "2022-08-14T13:35:31.482Z"
   },
   {
    "duration": 318,
    "start_time": "2022-08-14T13:35:31.491Z"
   },
   {
    "duration": 153,
    "start_time": "2022-08-14T13:35:31.811Z"
   },
   {
    "duration": 284,
    "start_time": "2022-08-14T13:35:31.967Z"
   },
   {
    "duration": 29,
    "start_time": "2022-08-14T13:35:32.255Z"
   },
   {
    "duration": 2,
    "start_time": "2022-08-14T13:35:32.286Z"
   },
   {
    "duration": 31,
    "start_time": "2022-08-14T13:35:32.290Z"
   },
   {
    "duration": 10,
    "start_time": "2022-08-14T13:35:32.322Z"
   },
   {
    "duration": 1007,
    "start_time": "2022-08-14T13:35:32.334Z"
   },
   {
    "duration": 24,
    "start_time": "2022-08-14T13:35:33.343Z"
   },
   {
    "duration": 279,
    "start_time": "2022-08-14T13:35:33.369Z"
   },
   {
    "duration": 555,
    "start_time": "2022-08-14T13:35:33.650Z"
   },
   {
    "duration": 13,
    "start_time": "2022-08-14T13:35:34.207Z"
   },
   {
    "duration": 46,
    "start_time": "2022-08-14T13:35:34.223Z"
   },
   {
    "duration": 11,
    "start_time": "2022-08-14T13:35:34.271Z"
   },
   {
    "duration": 9,
    "start_time": "2022-08-14T13:35:34.284Z"
   },
   {
    "duration": 13,
    "start_time": "2022-08-14T13:35:34.295Z"
   },
   {
    "duration": 370,
    "start_time": "2022-08-14T13:35:34.310Z"
   },
   {
    "duration": 1276,
    "start_time": "2022-08-14T13:35:34.682Z"
   },
   {
    "duration": 16,
    "start_time": "2022-08-14T13:35:35.961Z"
   },
   {
    "duration": 17,
    "start_time": "2022-08-14T13:35:35.979Z"
   },
   {
    "duration": 2364,
    "start_time": "2022-08-14T13:35:35.998Z"
   },
   {
    "duration": 38,
    "start_time": "2022-08-14T13:35:38.369Z"
   },
   {
    "duration": 18,
    "start_time": "2022-08-14T13:35:38.409Z"
   },
   {
    "duration": 235,
    "start_time": "2022-08-14T13:35:38.429Z"
   },
   {
    "duration": 13,
    "start_time": "2022-08-14T13:35:38.666Z"
   },
   {
    "duration": 19,
    "start_time": "2022-08-14T13:35:38.681Z"
   },
   {
    "duration": 12,
    "start_time": "2022-08-14T13:35:38.702Z"
   },
   {
    "duration": 14,
    "start_time": "2022-08-14T13:35:38.716Z"
   },
   {
    "duration": 2176,
    "start_time": "2022-08-14T13:35:38.731Z"
   },
   {
    "duration": 0,
    "start_time": "2022-08-14T13:35:40.909Z"
   },
   {
    "duration": 0,
    "start_time": "2022-08-14T13:35:40.910Z"
   },
   {
    "duration": 0,
    "start_time": "2022-08-14T13:35:40.912Z"
   },
   {
    "duration": 0,
    "start_time": "2022-08-14T13:35:40.913Z"
   },
   {
    "duration": 0,
    "start_time": "2022-08-14T13:35:40.914Z"
   },
   {
    "duration": 0,
    "start_time": "2022-08-14T13:35:40.915Z"
   },
   {
    "duration": 0,
    "start_time": "2022-08-14T13:35:40.917Z"
   },
   {
    "duration": 0,
    "start_time": "2022-08-14T13:35:40.918Z"
   },
   {
    "duration": 17,
    "start_time": "2022-08-14T13:36:22.388Z"
   },
   {
    "duration": 7,
    "start_time": "2022-08-14T13:36:23.812Z"
   },
   {
    "duration": 14,
    "start_time": "2022-08-14T13:36:27.877Z"
   },
   {
    "duration": 17,
    "start_time": "2022-08-14T13:36:31.054Z"
   },
   {
    "duration": 16,
    "start_time": "2022-08-14T13:37:01.167Z"
   },
   {
    "duration": 16,
    "start_time": "2022-08-14T13:37:15.990Z"
   },
   {
    "duration": 15,
    "start_time": "2022-08-14T13:37:40.502Z"
   },
   {
    "duration": 19,
    "start_time": "2022-08-14T13:38:52.336Z"
   },
   {
    "duration": 2984,
    "start_time": "2022-08-14T13:39:04.390Z"
   },
   {
    "duration": 99,
    "start_time": "2022-08-14T13:39:25.030Z"
   },
   {
    "duration": 6846,
    "start_time": "2022-08-14T13:39:32.256Z"
   },
   {
    "duration": 6463,
    "start_time": "2022-08-14T13:40:01.977Z"
   },
   {
    "duration": 6953,
    "start_time": "2022-08-14T13:40:20.944Z"
   },
   {
    "duration": 2820,
    "start_time": "2022-08-14T13:41:11.855Z"
   },
   {
    "duration": 2774,
    "start_time": "2022-08-14T13:42:25.067Z"
   },
   {
    "duration": 309,
    "start_time": "2022-08-14T13:42:53.728Z"
   },
   {
    "duration": 582,
    "start_time": "2022-08-14T13:43:03.545Z"
   },
   {
    "duration": 374,
    "start_time": "2022-08-14T13:43:15.002Z"
   },
   {
    "duration": 459,
    "start_time": "2022-08-14T13:44:16.473Z"
   },
   {
    "duration": 374,
    "start_time": "2022-08-14T13:44:25.438Z"
   },
   {
    "duration": 15,
    "start_time": "2022-08-14T13:44:39.449Z"
   },
   {
    "duration": 18,
    "start_time": "2022-08-14T13:45:20.764Z"
   },
   {
    "duration": 327,
    "start_time": "2022-08-14T13:45:47.635Z"
   },
   {
    "duration": 12,
    "start_time": "2022-08-14T13:46:17.188Z"
   },
   {
    "duration": 5226,
    "start_time": "2022-08-14T13:46:35.199Z"
   },
   {
    "duration": 85,
    "start_time": "2022-08-14T13:46:40.428Z"
   },
   {
    "duration": 15,
    "start_time": "2022-08-14T13:46:40.515Z"
   },
   {
    "duration": 37,
    "start_time": "2022-08-14T13:46:40.532Z"
   },
   {
    "duration": 26,
    "start_time": "2022-08-14T13:46:40.571Z"
   },
   {
    "duration": 6,
    "start_time": "2022-08-14T13:46:40.599Z"
   },
   {
    "duration": 318,
    "start_time": "2022-08-14T13:46:40.608Z"
   },
   {
    "duration": 180,
    "start_time": "2022-08-14T13:46:40.928Z"
   },
   {
    "duration": 303,
    "start_time": "2022-08-14T13:46:41.110Z"
   },
   {
    "duration": 24,
    "start_time": "2022-08-14T13:46:41.416Z"
   },
   {
    "duration": 2,
    "start_time": "2022-08-14T13:46:41.442Z"
   },
   {
    "duration": 56,
    "start_time": "2022-08-14T13:46:41.446Z"
   },
   {
    "duration": 16,
    "start_time": "2022-08-14T13:46:41.504Z"
   },
   {
    "duration": 1022,
    "start_time": "2022-08-14T13:46:41.523Z"
   },
   {
    "duration": 19,
    "start_time": "2022-08-14T13:46:42.547Z"
   },
   {
    "duration": 271,
    "start_time": "2022-08-14T13:46:42.567Z"
   },
   {
    "duration": 562,
    "start_time": "2022-08-14T13:46:42.840Z"
   },
   {
    "duration": 16,
    "start_time": "2022-08-14T13:46:43.404Z"
   },
   {
    "duration": 52,
    "start_time": "2022-08-14T13:46:43.422Z"
   },
   {
    "duration": 12,
    "start_time": "2022-08-14T13:46:43.476Z"
   },
   {
    "duration": 11,
    "start_time": "2022-08-14T13:46:43.490Z"
   },
   {
    "duration": 30,
    "start_time": "2022-08-14T13:46:43.503Z"
   },
   {
    "duration": 404,
    "start_time": "2022-08-14T13:46:43.535Z"
   },
   {
    "duration": 1472,
    "start_time": "2022-08-14T13:46:43.941Z"
   },
   {
    "duration": 17,
    "start_time": "2022-08-14T13:46:45.415Z"
   },
   {
    "duration": 17,
    "start_time": "2022-08-14T13:46:45.434Z"
   },
   {
    "duration": 3408,
    "start_time": "2022-08-14T13:46:45.453Z"
   },
   {
    "duration": 35,
    "start_time": "2022-08-14T13:46:48.864Z"
   },
   {
    "duration": 18,
    "start_time": "2022-08-14T13:46:48.901Z"
   },
   {
    "duration": 244,
    "start_time": "2022-08-14T13:46:48.921Z"
   },
   {
    "duration": 13,
    "start_time": "2022-08-14T13:46:49.167Z"
   },
   {
    "duration": 17,
    "start_time": "2022-08-14T13:46:49.182Z"
   },
   {
    "duration": 13,
    "start_time": "2022-08-14T13:46:49.201Z"
   },
   {
    "duration": 13,
    "start_time": "2022-08-14T13:46:49.216Z"
   },
   {
    "duration": 37,
    "start_time": "2022-08-14T13:46:49.231Z"
   },
   {
    "duration": 9,
    "start_time": "2022-08-14T13:46:49.270Z"
   },
   {
    "duration": 24,
    "start_time": "2022-08-14T13:46:49.281Z"
   },
   {
    "duration": 339,
    "start_time": "2022-08-14T13:46:49.307Z"
   },
   {
    "duration": 23,
    "start_time": "2022-08-14T13:46:49.648Z"
   },
   {
    "duration": 361,
    "start_time": "2022-08-14T13:46:49.673Z"
   },
   {
    "duration": 3,
    "start_time": "2022-08-14T16:19:33.705Z"
   },
   {
    "duration": 1183,
    "start_time": "2022-08-14T16:19:44.459Z"
   },
   {
    "duration": 72,
    "start_time": "2022-08-14T16:19:45.645Z"
   },
   {
    "duration": 14,
    "start_time": "2022-08-14T16:19:45.719Z"
   },
   {
    "duration": 13,
    "start_time": "2022-08-14T16:19:45.735Z"
   },
   {
    "duration": 32,
    "start_time": "2022-08-14T16:19:45.750Z"
   },
   {
    "duration": 6,
    "start_time": "2022-08-14T16:19:45.784Z"
   },
   {
    "duration": 270,
    "start_time": "2022-08-14T16:19:45.792Z"
   },
   {
    "duration": 162,
    "start_time": "2022-08-14T16:19:46.064Z"
   },
   {
    "duration": 306,
    "start_time": "2022-08-14T16:19:46.228Z"
   },
   {
    "duration": 33,
    "start_time": "2022-08-14T16:19:46.538Z"
   },
   {
    "duration": 2,
    "start_time": "2022-08-14T16:19:46.574Z"
   },
   {
    "duration": 51,
    "start_time": "2022-08-14T16:19:46.578Z"
   },
   {
    "duration": 13,
    "start_time": "2022-08-14T16:19:46.631Z"
   },
   {
    "duration": 1011,
    "start_time": "2022-08-14T16:19:46.646Z"
   },
   {
    "duration": 20,
    "start_time": "2022-08-14T16:19:47.659Z"
   },
   {
    "duration": 306,
    "start_time": "2022-08-14T16:19:47.681Z"
   },
   {
    "duration": 649,
    "start_time": "2022-08-14T16:19:47.989Z"
   },
   {
    "duration": 17,
    "start_time": "2022-08-14T16:19:48.640Z"
   },
   {
    "duration": 40,
    "start_time": "2022-08-14T16:19:48.659Z"
   },
   {
    "duration": 15,
    "start_time": "2022-08-14T16:19:48.700Z"
   },
   {
    "duration": 10,
    "start_time": "2022-08-14T16:19:48.717Z"
   },
   {
    "duration": 13,
    "start_time": "2022-08-14T16:19:48.729Z"
   },
   {
    "duration": 289,
    "start_time": "2022-08-14T16:19:48.744Z"
   },
   {
    "duration": 1484,
    "start_time": "2022-08-14T16:19:49.035Z"
   },
   {
    "duration": 17,
    "start_time": "2022-08-14T16:19:50.522Z"
   },
   {
    "duration": 32,
    "start_time": "2022-08-14T16:19:50.541Z"
   },
   {
    "duration": 2642,
    "start_time": "2022-08-14T16:19:50.575Z"
   },
   {
    "duration": 32,
    "start_time": "2022-08-14T16:19:53.220Z"
   },
   {
    "duration": 30,
    "start_time": "2022-08-14T16:19:53.253Z"
   },
   {
    "duration": 230,
    "start_time": "2022-08-14T16:19:53.285Z"
   },
   {
    "duration": 12,
    "start_time": "2022-08-14T16:19:53.517Z"
   },
   {
    "duration": 22,
    "start_time": "2022-08-14T16:19:53.531Z"
   },
   {
    "duration": 20,
    "start_time": "2022-08-14T16:19:53.555Z"
   },
   {
    "duration": 16,
    "start_time": "2022-08-14T16:19:53.577Z"
   },
   {
    "duration": 15,
    "start_time": "2022-08-14T16:19:53.594Z"
   },
   {
    "duration": 10,
    "start_time": "2022-08-14T16:19:53.611Z"
   },
   {
    "duration": 17,
    "start_time": "2022-08-14T16:19:53.623Z"
   },
   {
    "duration": 342,
    "start_time": "2022-08-14T16:19:53.641Z"
   },
   {
    "duration": 16,
    "start_time": "2022-08-14T16:19:53.985Z"
   },
   {
    "duration": 354,
    "start_time": "2022-08-14T16:19:54.002Z"
   },
   {
    "duration": 1212,
    "start_time": "2022-08-14T16:20:53.721Z"
   },
   {
    "duration": 72,
    "start_time": "2022-08-14T16:20:54.936Z"
   },
   {
    "duration": 15,
    "start_time": "2022-08-14T16:20:55.009Z"
   },
   {
    "duration": 16,
    "start_time": "2022-08-14T16:20:55.026Z"
   },
   {
    "duration": 40,
    "start_time": "2022-08-14T16:20:55.044Z"
   },
   {
    "duration": 269,
    "start_time": "2022-08-14T16:20:55.086Z"
   },
   {
    "duration": 167,
    "start_time": "2022-08-14T16:20:55.357Z"
   },
   {
    "duration": 291,
    "start_time": "2022-08-14T16:20:55.526Z"
   },
   {
    "duration": 22,
    "start_time": "2022-08-14T16:20:55.819Z"
   },
   {
    "duration": 2,
    "start_time": "2022-08-14T16:20:55.844Z"
   },
   {
    "duration": 48,
    "start_time": "2022-08-14T16:20:55.848Z"
   },
   {
    "duration": 11,
    "start_time": "2022-08-14T16:20:55.898Z"
   },
   {
    "duration": 942,
    "start_time": "2022-08-14T16:20:55.911Z"
   },
   {
    "duration": 24,
    "start_time": "2022-08-14T16:20:56.855Z"
   },
   {
    "duration": 364,
    "start_time": "2022-08-14T16:20:56.882Z"
   },
   {
    "duration": 564,
    "start_time": "2022-08-14T16:20:57.248Z"
   },
   {
    "duration": 15,
    "start_time": "2022-08-14T16:20:57.814Z"
   },
   {
    "duration": 49,
    "start_time": "2022-08-14T16:20:57.831Z"
   },
   {
    "duration": 11,
    "start_time": "2022-08-14T16:20:57.881Z"
   },
   {
    "duration": 14,
    "start_time": "2022-08-14T16:20:57.894Z"
   },
   {
    "duration": 13,
    "start_time": "2022-08-14T16:20:57.910Z"
   },
   {
    "duration": 301,
    "start_time": "2022-08-14T16:20:57.925Z"
   },
   {
    "duration": 1261,
    "start_time": "2022-08-14T16:20:58.228Z"
   },
   {
    "duration": 19,
    "start_time": "2022-08-14T16:20:59.491Z"
   },
   {
    "duration": 24,
    "start_time": "2022-08-14T16:20:59.511Z"
   },
   {
    "duration": 1808,
    "start_time": "2022-08-14T16:20:59.537Z"
   },
   {
    "duration": 40,
    "start_time": "2022-08-14T16:21:01.346Z"
   },
   {
    "duration": 20,
    "start_time": "2022-08-14T16:21:01.390Z"
   },
   {
    "duration": 266,
    "start_time": "2022-08-14T16:21:01.412Z"
   },
   {
    "duration": 13,
    "start_time": "2022-08-14T16:21:01.680Z"
   },
   {
    "duration": 38,
    "start_time": "2022-08-14T16:21:01.696Z"
   },
   {
    "duration": 12,
    "start_time": "2022-08-14T16:21:01.736Z"
   },
   {
    "duration": 34,
    "start_time": "2022-08-14T16:21:01.750Z"
   },
   {
    "duration": 25,
    "start_time": "2022-08-14T16:21:01.786Z"
   },
   {
    "duration": 18,
    "start_time": "2022-08-14T16:21:01.813Z"
   },
   {
    "duration": 30,
    "start_time": "2022-08-14T16:21:01.833Z"
   },
   {
    "duration": 328,
    "start_time": "2022-08-14T16:21:01.865Z"
   },
   {
    "duration": 15,
    "start_time": "2022-08-14T16:21:02.195Z"
   },
   {
    "duration": 355,
    "start_time": "2022-08-14T16:21:02.212Z"
   },
   {
    "duration": 94,
    "start_time": "2022-08-14T16:22:32.912Z"
   },
   {
    "duration": 1330,
    "start_time": "2022-08-14T16:25:01.238Z"
   },
   {
    "duration": 76,
    "start_time": "2022-08-14T16:25:02.571Z"
   },
   {
    "duration": 16,
    "start_time": "2022-08-14T16:25:02.649Z"
   },
   {
    "duration": 47,
    "start_time": "2022-08-14T16:25:02.667Z"
   },
   {
    "duration": 43,
    "start_time": "2022-08-14T16:25:02.716Z"
   },
   {
    "duration": 277,
    "start_time": "2022-08-14T16:25:02.761Z"
   },
   {
    "duration": 179,
    "start_time": "2022-08-14T16:25:03.040Z"
   },
   {
    "duration": 308,
    "start_time": "2022-08-14T16:25:03.221Z"
   },
   {
    "duration": 37,
    "start_time": "2022-08-14T16:25:03.532Z"
   },
   {
    "duration": 2,
    "start_time": "2022-08-14T16:25:03.574Z"
   },
   {
    "duration": 39,
    "start_time": "2022-08-14T16:25:03.578Z"
   },
   {
    "duration": 12,
    "start_time": "2022-08-14T16:25:03.619Z"
   },
   {
    "duration": 1004,
    "start_time": "2022-08-14T16:25:03.633Z"
   },
   {
    "duration": 21,
    "start_time": "2022-08-14T16:25:04.639Z"
   },
   {
    "duration": 283,
    "start_time": "2022-08-14T16:25:04.661Z"
   },
   {
    "duration": 564,
    "start_time": "2022-08-14T16:25:04.946Z"
   },
   {
    "duration": 16,
    "start_time": "2022-08-14T16:25:05.512Z"
   },
   {
    "duration": 49,
    "start_time": "2022-08-14T16:25:05.530Z"
   },
   {
    "duration": 12,
    "start_time": "2022-08-14T16:25:05.581Z"
   },
   {
    "duration": 15,
    "start_time": "2022-08-14T16:25:05.594Z"
   },
   {
    "duration": 15,
    "start_time": "2022-08-14T16:25:05.610Z"
   },
   {
    "duration": 312,
    "start_time": "2022-08-14T16:25:05.627Z"
   },
   {
    "duration": 1368,
    "start_time": "2022-08-14T16:25:05.941Z"
   },
   {
    "duration": 16,
    "start_time": "2022-08-14T16:25:07.311Z"
   },
   {
    "duration": 17,
    "start_time": "2022-08-14T16:25:07.329Z"
   },
   {
    "duration": 3751,
    "start_time": "2022-08-14T16:25:07.348Z"
   },
   {
    "duration": 36,
    "start_time": "2022-08-14T16:25:11.101Z"
   },
   {
    "duration": 32,
    "start_time": "2022-08-14T16:25:11.141Z"
   },
   {
    "duration": 240,
    "start_time": "2022-08-14T16:25:11.175Z"
   },
   {
    "duration": 13,
    "start_time": "2022-08-14T16:25:11.417Z"
   },
   {
    "duration": 18,
    "start_time": "2022-08-14T16:25:11.432Z"
   },
   {
    "duration": 26,
    "start_time": "2022-08-14T16:25:11.452Z"
   },
   {
    "duration": 25,
    "start_time": "2022-08-14T16:25:11.480Z"
   },
   {
    "duration": 24,
    "start_time": "2022-08-14T16:25:11.507Z"
   },
   {
    "duration": 12,
    "start_time": "2022-08-14T16:25:11.533Z"
   },
   {
    "duration": 21,
    "start_time": "2022-08-14T16:25:11.548Z"
   },
   {
    "duration": 332,
    "start_time": "2022-08-14T16:25:11.571Z"
   },
   {
    "duration": 16,
    "start_time": "2022-08-14T16:25:11.904Z"
   },
   {
    "duration": 358,
    "start_time": "2022-08-14T16:25:11.922Z"
   },
   {
    "duration": 236,
    "start_time": "2022-08-14T16:25:36.808Z"
   },
   {
    "duration": 230,
    "start_time": "2022-08-14T16:25:44.031Z"
   },
   {
    "duration": 164,
    "start_time": "2022-08-14T16:31:54.834Z"
   },
   {
    "duration": 16,
    "start_time": "2022-08-14T16:32:10.132Z"
   },
   {
    "duration": 144,
    "start_time": "2022-08-14T16:32:19.020Z"
   },
   {
    "duration": 23,
    "start_time": "2022-08-14T16:32:27.149Z"
   },
   {
    "duration": 17,
    "start_time": "2022-08-14T16:32:52.331Z"
   },
   {
    "duration": 275,
    "start_time": "2022-08-14T16:34:52.203Z"
   },
   {
    "duration": 38,
    "start_time": "2022-08-14T16:45:26.527Z"
   },
   {
    "duration": 26,
    "start_time": "2022-08-14T16:45:37.040Z"
   },
   {
    "duration": 76,
    "start_time": "2022-08-14T16:45:43.800Z"
   },
   {
    "duration": 28,
    "start_time": "2022-08-14T16:45:48.686Z"
   },
   {
    "duration": 244,
    "start_time": "2022-08-14T16:50:27.657Z"
   },
   {
    "duration": 252,
    "start_time": "2022-08-14T16:50:34.276Z"
   },
   {
    "duration": 262,
    "start_time": "2022-08-14T16:50:44.215Z"
   },
   {
    "duration": 634,
    "start_time": "2022-08-14T16:51:52.304Z"
   },
   {
    "duration": 161,
    "start_time": "2022-08-14T16:55:12.804Z"
   },
   {
    "duration": 33,
    "start_time": "2022-08-14T16:55:18.121Z"
   },
   {
    "duration": 1221,
    "start_time": "2022-08-14T16:55:33.936Z"
   },
   {
    "duration": 72,
    "start_time": "2022-08-14T16:55:35.159Z"
   },
   {
    "duration": 13,
    "start_time": "2022-08-14T16:55:35.233Z"
   },
   {
    "duration": 15,
    "start_time": "2022-08-14T16:55:35.248Z"
   },
   {
    "duration": 20,
    "start_time": "2022-08-14T16:55:35.267Z"
   },
   {
    "duration": 298,
    "start_time": "2022-08-14T16:55:35.289Z"
   },
   {
    "duration": 18,
    "start_time": "2022-08-14T16:55:35.590Z"
   },
   {
    "duration": 200,
    "start_time": "2022-08-14T16:55:35.610Z"
   },
   {
    "duration": 303,
    "start_time": "2022-08-14T16:55:35.812Z"
   },
   {
    "duration": 22,
    "start_time": "2022-08-14T16:55:36.118Z"
   },
   {
    "duration": 40,
    "start_time": "2022-08-14T16:55:36.142Z"
   },
   {
    "duration": 12,
    "start_time": "2022-08-14T16:55:36.184Z"
   },
   {
    "duration": 1012,
    "start_time": "2022-08-14T16:55:36.197Z"
   },
   {
    "duration": 18,
    "start_time": "2022-08-14T16:55:37.211Z"
   },
   {
    "duration": 248,
    "start_time": "2022-08-14T16:55:37.231Z"
   },
   {
    "duration": 571,
    "start_time": "2022-08-14T16:55:37.481Z"
   },
   {
    "duration": 19,
    "start_time": "2022-08-14T16:55:38.054Z"
   },
   {
    "duration": 38,
    "start_time": "2022-08-14T16:55:38.075Z"
   },
   {
    "duration": 14,
    "start_time": "2022-08-14T16:55:38.116Z"
   },
   {
    "duration": 39,
    "start_time": "2022-08-14T16:55:38.132Z"
   },
   {
    "duration": 288,
    "start_time": "2022-08-14T16:55:38.173Z"
   },
   {
    "duration": 1450,
    "start_time": "2022-08-14T16:55:38.463Z"
   },
   {
    "duration": 17,
    "start_time": "2022-08-14T16:55:39.916Z"
   },
   {
    "duration": 17,
    "start_time": "2022-08-14T16:55:39.934Z"
   },
   {
    "duration": 3066,
    "start_time": "2022-08-14T16:55:39.953Z"
   },
   {
    "duration": 33,
    "start_time": "2022-08-14T16:55:43.021Z"
   },
   {
    "duration": 19,
    "start_time": "2022-08-14T16:55:43.068Z"
   },
   {
    "duration": 247,
    "start_time": "2022-08-14T16:55:43.091Z"
   },
   {
    "duration": 13,
    "start_time": "2022-08-14T16:55:43.340Z"
   },
   {
    "duration": 31,
    "start_time": "2022-08-14T16:55:43.354Z"
   },
   {
    "duration": 15,
    "start_time": "2022-08-14T16:55:43.387Z"
   },
   {
    "duration": 15,
    "start_time": "2022-08-14T16:55:43.404Z"
   },
   {
    "duration": 14,
    "start_time": "2022-08-14T16:55:43.421Z"
   },
   {
    "duration": 10,
    "start_time": "2022-08-14T16:55:43.437Z"
   },
   {
    "duration": 12,
    "start_time": "2022-08-14T16:55:43.468Z"
   },
   {
    "duration": 345,
    "start_time": "2022-08-14T16:55:43.481Z"
   },
   {
    "duration": 16,
    "start_time": "2022-08-14T16:55:43.828Z"
   },
   {
    "duration": 373,
    "start_time": "2022-08-14T16:55:43.846Z"
   },
   {
    "duration": 141,
    "start_time": "2022-08-14T16:55:59.006Z"
   },
   {
    "duration": 1228,
    "start_time": "2022-08-14T17:14:42.866Z"
   },
   {
    "duration": 69,
    "start_time": "2022-08-14T17:14:44.096Z"
   },
   {
    "duration": 13,
    "start_time": "2022-08-14T17:14:44.167Z"
   },
   {
    "duration": 15,
    "start_time": "2022-08-14T17:14:44.183Z"
   },
   {
    "duration": 20,
    "start_time": "2022-08-14T17:14:44.200Z"
   },
   {
    "duration": 271,
    "start_time": "2022-08-14T17:14:44.222Z"
   },
   {
    "duration": 17,
    "start_time": "2022-08-14T17:14:44.495Z"
   },
   {
    "duration": 224,
    "start_time": "2022-08-14T17:14:44.513Z"
   },
   {
    "duration": 291,
    "start_time": "2022-08-14T17:14:44.740Z"
   },
   {
    "duration": 36,
    "start_time": "2022-08-14T17:14:45.035Z"
   },
   {
    "duration": 27,
    "start_time": "2022-08-14T17:14:45.073Z"
   },
   {
    "duration": 30,
    "start_time": "2022-08-14T17:14:45.103Z"
   },
   {
    "duration": 931,
    "start_time": "2022-08-14T17:14:45.134Z"
   },
   {
    "duration": 20,
    "start_time": "2022-08-14T17:14:46.068Z"
   },
   {
    "duration": 258,
    "start_time": "2022-08-14T17:14:46.089Z"
   },
   {
    "duration": 655,
    "start_time": "2022-08-14T17:14:46.349Z"
   },
   {
    "duration": 15,
    "start_time": "2022-08-14T17:14:47.006Z"
   },
   {
    "duration": 50,
    "start_time": "2022-08-14T17:14:47.023Z"
   },
   {
    "duration": 13,
    "start_time": "2022-08-14T17:14:47.075Z"
   },
   {
    "duration": 14,
    "start_time": "2022-08-14T17:14:47.090Z"
   },
   {
    "duration": 295,
    "start_time": "2022-08-14T17:14:47.105Z"
   },
   {
    "duration": 1761,
    "start_time": "2022-08-14T17:14:47.401Z"
   },
   {
    "duration": 18,
    "start_time": "2022-08-14T17:14:49.164Z"
   },
   {
    "duration": 15,
    "start_time": "2022-08-14T17:14:49.185Z"
   },
   {
    "duration": 2717,
    "start_time": "2022-08-14T17:14:49.201Z"
   },
   {
    "duration": 33,
    "start_time": "2022-08-14T17:14:51.920Z"
   },
   {
    "duration": 30,
    "start_time": "2022-08-14T17:14:51.955Z"
   },
   {
    "duration": 235,
    "start_time": "2022-08-14T17:14:51.988Z"
   },
   {
    "duration": 14,
    "start_time": "2022-08-14T17:14:52.224Z"
   },
   {
    "duration": 33,
    "start_time": "2022-08-14T17:14:52.240Z"
   },
   {
    "duration": 14,
    "start_time": "2022-08-14T17:14:52.275Z"
   },
   {
    "duration": 12,
    "start_time": "2022-08-14T17:14:52.291Z"
   },
   {
    "duration": 14,
    "start_time": "2022-08-14T17:14:52.305Z"
   },
   {
    "duration": 11,
    "start_time": "2022-08-14T17:14:52.321Z"
   },
   {
    "duration": 41,
    "start_time": "2022-08-14T17:14:52.333Z"
   },
   {
    "duration": 341,
    "start_time": "2022-08-14T17:14:52.376Z"
   },
   {
    "duration": 17,
    "start_time": "2022-08-14T17:14:52.719Z"
   },
   {
    "duration": 365,
    "start_time": "2022-08-14T17:14:52.738Z"
   },
   {
    "duration": 43,
    "start_time": "2022-08-15T07:20:47.631Z"
   },
   {
    "duration": 1347,
    "start_time": "2022-08-15T07:20:54.772Z"
   },
   {
    "duration": 145,
    "start_time": "2022-08-15T07:20:56.121Z"
   },
   {
    "duration": 14,
    "start_time": "2022-08-15T07:20:56.270Z"
   },
   {
    "duration": 14,
    "start_time": "2022-08-15T07:20:56.286Z"
   },
   {
    "duration": 24,
    "start_time": "2022-08-15T07:20:56.301Z"
   },
   {
    "duration": 235,
    "start_time": "2022-08-15T07:20:56.326Z"
   },
   {
    "duration": 16,
    "start_time": "2022-08-15T07:20:56.563Z"
   },
   {
    "duration": 151,
    "start_time": "2022-08-15T07:20:56.581Z"
   },
   {
    "duration": 311,
    "start_time": "2022-08-15T07:20:56.734Z"
   },
   {
    "duration": 20,
    "start_time": "2022-08-15T07:20:57.048Z"
   },
   {
    "duration": 44,
    "start_time": "2022-08-15T07:20:57.069Z"
   },
   {
    "duration": 9,
    "start_time": "2022-08-15T07:20:57.115Z"
   },
   {
    "duration": 907,
    "start_time": "2022-08-15T07:20:57.126Z"
   },
   {
    "duration": 26,
    "start_time": "2022-08-15T07:20:58.034Z"
   },
   {
    "duration": 219,
    "start_time": "2022-08-15T07:20:58.061Z"
   },
   {
    "duration": 502,
    "start_time": "2022-08-15T07:20:58.282Z"
   },
   {
    "duration": 22,
    "start_time": "2022-08-15T07:20:58.786Z"
   },
   {
    "duration": 32,
    "start_time": "2022-08-15T07:20:58.810Z"
   },
   {
    "duration": 12,
    "start_time": "2022-08-15T07:20:58.845Z"
   },
   {
    "duration": 13,
    "start_time": "2022-08-15T07:20:58.859Z"
   },
   {
    "duration": 291,
    "start_time": "2022-08-15T07:20:58.874Z"
   },
   {
    "duration": 1638,
    "start_time": "2022-08-15T07:20:59.166Z"
   },
   {
    "duration": 15,
    "start_time": "2022-08-15T07:21:00.806Z"
   },
   {
    "duration": 30,
    "start_time": "2022-08-15T07:21:00.822Z"
   },
   {
    "duration": 3317,
    "start_time": "2022-08-15T07:21:00.853Z"
   },
   {
    "duration": 34,
    "start_time": "2022-08-15T07:21:04.172Z"
   },
   {
    "duration": 15,
    "start_time": "2022-08-15T07:21:04.207Z"
   },
   {
    "duration": 198,
    "start_time": "2022-08-15T07:21:04.225Z"
   },
   {
    "duration": 11,
    "start_time": "2022-08-15T07:21:04.425Z"
   },
   {
    "duration": 12,
    "start_time": "2022-08-15T07:21:04.437Z"
   },
   {
    "duration": 13,
    "start_time": "2022-08-15T07:21:04.450Z"
   },
   {
    "duration": 11,
    "start_time": "2022-08-15T07:21:04.465Z"
   },
   {
    "duration": 31,
    "start_time": "2022-08-15T07:21:04.477Z"
   },
   {
    "duration": 8,
    "start_time": "2022-08-15T07:21:04.509Z"
   },
   {
    "duration": 12,
    "start_time": "2022-08-15T07:21:04.518Z"
   },
   {
    "duration": 308,
    "start_time": "2022-08-15T07:21:04.531Z"
   },
   {
    "duration": 13,
    "start_time": "2022-08-15T07:21:04.842Z"
   },
   {
    "duration": 311,
    "start_time": "2022-08-15T07:21:04.857Z"
   },
   {
    "duration": 2212,
    "start_time": "2022-08-15T07:25:56.327Z"
   },
   {
    "duration": 11,
    "start_time": "2022-08-15T07:26:33.872Z"
   },
   {
    "duration": 185,
    "start_time": "2022-08-15T07:27:25.096Z"
   },
   {
    "duration": 4,
    "start_time": "2022-08-15T07:31:14.024Z"
   },
   {
    "duration": 9,
    "start_time": "2022-08-15T07:32:35.257Z"
   },
   {
    "duration": 13,
    "start_time": "2022-08-15T07:37:54.766Z"
   },
   {
    "duration": 93,
    "start_time": "2022-08-15T07:53:29.306Z"
   },
   {
    "duration": 84,
    "start_time": "2022-08-15T08:11:39.051Z"
   },
   {
    "duration": 189,
    "start_time": "2022-08-15T08:30:55.266Z"
   },
   {
    "duration": 1066,
    "start_time": "2022-08-15T08:54:30.761Z"
   },
   {
    "duration": 66,
    "start_time": "2022-08-15T08:54:31.829Z"
   },
   {
    "duration": 12,
    "start_time": "2022-08-15T08:54:31.896Z"
   },
   {
    "duration": 13,
    "start_time": "2022-08-15T08:54:31.910Z"
   },
   {
    "duration": 21,
    "start_time": "2022-08-15T08:54:31.924Z"
   },
   {
    "duration": 245,
    "start_time": "2022-08-15T08:54:31.947Z"
   },
   {
    "duration": 21,
    "start_time": "2022-08-15T08:54:32.193Z"
   },
   {
    "duration": 129,
    "start_time": "2022-08-15T08:54:32.215Z"
   },
   {
    "duration": 242,
    "start_time": "2022-08-15T08:54:32.346Z"
   },
   {
    "duration": 26,
    "start_time": "2022-08-15T08:54:32.591Z"
   },
   {
    "duration": 21,
    "start_time": "2022-08-15T08:54:32.618Z"
   },
   {
    "duration": 8,
    "start_time": "2022-08-15T08:54:32.641Z"
   },
   {
    "duration": 758,
    "start_time": "2022-08-15T08:54:32.650Z"
   },
   {
    "duration": 15,
    "start_time": "2022-08-15T08:54:33.410Z"
   },
   {
    "duration": 206,
    "start_time": "2022-08-15T08:54:33.426Z"
   },
   {
    "duration": 461,
    "start_time": "2022-08-15T08:54:33.634Z"
   },
   {
    "duration": 15,
    "start_time": "2022-08-15T08:54:34.096Z"
   },
   {
    "duration": 32,
    "start_time": "2022-08-15T08:54:34.112Z"
   },
   {
    "duration": 9,
    "start_time": "2022-08-15T08:54:34.145Z"
   },
   {
    "duration": 14,
    "start_time": "2022-08-15T08:54:34.155Z"
   },
   {
    "duration": 251,
    "start_time": "2022-08-15T08:54:34.171Z"
   },
   {
    "duration": 1342,
    "start_time": "2022-08-15T08:54:34.424Z"
   },
   {
    "duration": 15,
    "start_time": "2022-08-15T08:54:35.767Z"
   },
   {
    "duration": 2972,
    "start_time": "2022-08-15T08:54:35.783Z"
   },
   {
    "duration": 28,
    "start_time": "2022-08-15T08:54:38.757Z"
   },
   {
    "duration": 19,
    "start_time": "2022-08-15T08:54:38.787Z"
   },
   {
    "duration": 202,
    "start_time": "2022-08-15T08:54:38.807Z"
   },
   {
    "duration": 11,
    "start_time": "2022-08-15T08:54:39.012Z"
   },
   {
    "duration": 15,
    "start_time": "2022-08-15T08:54:39.024Z"
   },
   {
    "duration": 12,
    "start_time": "2022-08-15T08:54:39.040Z"
   },
   {
    "duration": 14,
    "start_time": "2022-08-15T08:54:39.054Z"
   },
   {
    "duration": 15,
    "start_time": "2022-08-15T08:54:39.069Z"
   },
   {
    "duration": 30,
    "start_time": "2022-08-15T08:54:39.086Z"
   },
   {
    "duration": 22,
    "start_time": "2022-08-15T08:54:39.118Z"
   },
   {
    "duration": 306,
    "start_time": "2022-08-15T08:54:39.141Z"
   },
   {
    "duration": 14,
    "start_time": "2022-08-15T08:54:39.448Z"
   },
   {
    "duration": 319,
    "start_time": "2022-08-15T08:54:39.464Z"
   },
   {
    "duration": 1123,
    "start_time": "2022-08-15T09:41:33.279Z"
   },
   {
    "duration": 63,
    "start_time": "2022-08-15T09:41:34.404Z"
   },
   {
    "duration": 11,
    "start_time": "2022-08-15T09:41:34.468Z"
   },
   {
    "duration": 11,
    "start_time": "2022-08-15T09:41:34.481Z"
   },
   {
    "duration": 16,
    "start_time": "2022-08-15T09:41:34.494Z"
   },
   {
    "duration": 208,
    "start_time": "2022-08-15T09:41:34.511Z"
   },
   {
    "duration": 13,
    "start_time": "2022-08-15T09:41:34.720Z"
   },
   {
    "duration": 127,
    "start_time": "2022-08-15T09:41:34.735Z"
   },
   {
    "duration": 249,
    "start_time": "2022-08-15T09:41:34.864Z"
   },
   {
    "duration": 19,
    "start_time": "2022-08-15T09:41:35.115Z"
   },
   {
    "duration": 22,
    "start_time": "2022-08-15T09:41:35.135Z"
   },
   {
    "duration": 9,
    "start_time": "2022-08-15T09:41:35.158Z"
   },
   {
    "duration": 763,
    "start_time": "2022-08-15T09:41:35.169Z"
   },
   {
    "duration": 17,
    "start_time": "2022-08-15T09:41:35.935Z"
   },
   {
    "duration": 244,
    "start_time": "2022-08-15T09:41:35.953Z"
   },
   {
    "duration": 491,
    "start_time": "2022-08-15T09:41:36.199Z"
   },
   {
    "duration": 19,
    "start_time": "2022-08-15T09:41:36.691Z"
   },
   {
    "duration": 33,
    "start_time": "2022-08-15T09:41:36.712Z"
   },
   {
    "duration": 14,
    "start_time": "2022-08-15T09:41:36.746Z"
   },
   {
    "duration": 17,
    "start_time": "2022-08-15T09:41:36.762Z"
   },
   {
    "duration": 245,
    "start_time": "2022-08-15T09:41:36.781Z"
   },
   {
    "duration": 1194,
    "start_time": "2022-08-15T09:41:37.028Z"
   },
   {
    "duration": 13,
    "start_time": "2022-08-15T09:41:38.224Z"
   },
   {
    "duration": 3237,
    "start_time": "2022-08-15T09:41:38.238Z"
   },
   {
    "duration": 37,
    "start_time": "2022-08-15T09:41:41.476Z"
   },
   {
    "duration": 10,
    "start_time": "2022-08-15T09:41:41.515Z"
   },
   {
    "duration": 199,
    "start_time": "2022-08-15T09:41:41.526Z"
   },
   {
    "duration": 12,
    "start_time": "2022-08-15T09:41:41.727Z"
   },
   {
    "duration": 23,
    "start_time": "2022-08-15T09:41:41.741Z"
   },
   {
    "duration": 12,
    "start_time": "2022-08-15T09:41:41.765Z"
   },
   {
    "duration": 29,
    "start_time": "2022-08-15T09:41:41.778Z"
   },
   {
    "duration": 15,
    "start_time": "2022-08-15T09:41:41.809Z"
   },
   {
    "duration": 13,
    "start_time": "2022-08-15T09:41:41.826Z"
   },
   {
    "duration": 11,
    "start_time": "2022-08-15T09:41:41.841Z"
   },
   {
    "duration": 285,
    "start_time": "2022-08-15T09:41:41.854Z"
   },
   {
    "duration": 15,
    "start_time": "2022-08-15T09:41:42.140Z"
   },
   {
    "duration": 302,
    "start_time": "2022-08-15T09:41:42.156Z"
   },
   {
    "duration": 1109,
    "start_time": "2022-08-15T09:42:35.650Z"
   },
   {
    "duration": 64,
    "start_time": "2022-08-15T09:42:36.761Z"
   },
   {
    "duration": 11,
    "start_time": "2022-08-15T09:42:36.826Z"
   },
   {
    "duration": 11,
    "start_time": "2022-08-15T09:42:36.839Z"
   },
   {
    "duration": 16,
    "start_time": "2022-08-15T09:42:36.852Z"
   },
   {
    "duration": 219,
    "start_time": "2022-08-15T09:42:36.869Z"
   },
   {
    "duration": 16,
    "start_time": "2022-08-15T09:42:37.090Z"
   },
   {
    "duration": 114,
    "start_time": "2022-08-15T09:42:37.108Z"
   },
   {
    "duration": 247,
    "start_time": "2022-08-15T09:42:37.224Z"
   },
   {
    "duration": 20,
    "start_time": "2022-08-15T09:42:37.473Z"
   },
   {
    "duration": 31,
    "start_time": "2022-08-15T09:42:37.494Z"
   },
   {
    "duration": 9,
    "start_time": "2022-08-15T09:42:37.526Z"
   },
   {
    "duration": 779,
    "start_time": "2022-08-15T09:42:37.537Z"
   },
   {
    "duration": 17,
    "start_time": "2022-08-15T09:42:38.318Z"
   },
   {
    "duration": 215,
    "start_time": "2022-08-15T09:42:38.336Z"
   },
   {
    "duration": 478,
    "start_time": "2022-08-15T09:42:38.552Z"
   },
   {
    "duration": 12,
    "start_time": "2022-08-15T09:42:39.031Z"
   },
   {
    "duration": 38,
    "start_time": "2022-08-15T09:42:39.044Z"
   },
   {
    "duration": 9,
    "start_time": "2022-08-15T09:42:39.084Z"
   },
   {
    "duration": 19,
    "start_time": "2022-08-15T09:42:39.094Z"
   },
   {
    "duration": 244,
    "start_time": "2022-08-15T09:42:39.115Z"
   },
   {
    "duration": 909,
    "start_time": "2022-08-15T09:42:39.360Z"
   },
   {
    "duration": 15,
    "start_time": "2022-08-15T09:42:40.271Z"
   },
   {
    "duration": 1662,
    "start_time": "2022-08-15T09:42:40.287Z"
   },
   {
    "duration": 28,
    "start_time": "2022-08-15T09:42:41.950Z"
   },
   {
    "duration": 11,
    "start_time": "2022-08-15T09:42:41.980Z"
   },
   {
    "duration": 194,
    "start_time": "2022-08-15T09:42:42.006Z"
   },
   {
    "duration": 11,
    "start_time": "2022-08-15T09:42:42.206Z"
   },
   {
    "duration": 14,
    "start_time": "2022-08-15T09:42:42.218Z"
   },
   {
    "duration": 10,
    "start_time": "2022-08-15T09:42:42.233Z"
   },
   {
    "duration": 10,
    "start_time": "2022-08-15T09:42:42.244Z"
   },
   {
    "duration": 11,
    "start_time": "2022-08-15T09:42:42.256Z"
   },
   {
    "duration": 10,
    "start_time": "2022-08-15T09:42:42.268Z"
   },
   {
    "duration": 31,
    "start_time": "2022-08-15T09:42:42.279Z"
   },
   {
    "duration": 277,
    "start_time": "2022-08-15T09:42:42.312Z"
   },
   {
    "duration": 19,
    "start_time": "2022-08-15T09:42:42.591Z"
   },
   {
    "duration": 297,
    "start_time": "2022-08-15T09:42:42.612Z"
   },
   {
    "duration": 112,
    "start_time": "2022-08-15T09:45:02.123Z"
   },
   {
    "duration": 1094,
    "start_time": "2022-08-15T09:53:25.723Z"
   },
   {
    "duration": 65,
    "start_time": "2022-08-15T09:53:26.819Z"
   },
   {
    "duration": 12,
    "start_time": "2022-08-15T09:53:26.885Z"
   },
   {
    "duration": 12,
    "start_time": "2022-08-15T09:53:26.899Z"
   },
   {
    "duration": 21,
    "start_time": "2022-08-15T09:53:26.912Z"
   },
   {
    "duration": 239,
    "start_time": "2022-08-15T09:53:26.935Z"
   },
   {
    "duration": 14,
    "start_time": "2022-08-15T09:53:27.175Z"
   },
   {
    "duration": 132,
    "start_time": "2022-08-15T09:53:27.190Z"
   },
   {
    "duration": 264,
    "start_time": "2022-08-15T09:53:27.324Z"
   },
   {
    "duration": 29,
    "start_time": "2022-08-15T09:53:27.591Z"
   },
   {
    "duration": 24,
    "start_time": "2022-08-15T09:53:27.622Z"
   },
   {
    "duration": 10,
    "start_time": "2022-08-15T09:53:27.648Z"
   },
   {
    "duration": 821,
    "start_time": "2022-08-15T09:53:27.659Z"
   },
   {
    "duration": 16,
    "start_time": "2022-08-15T09:53:28.482Z"
   },
   {
    "duration": 228,
    "start_time": "2022-08-15T09:53:28.499Z"
   },
   {
    "duration": 497,
    "start_time": "2022-08-15T09:53:28.729Z"
   },
   {
    "duration": 13,
    "start_time": "2022-08-15T09:53:29.227Z"
   },
   {
    "duration": 37,
    "start_time": "2022-08-15T09:53:29.241Z"
   },
   {
    "duration": 9,
    "start_time": "2022-08-15T09:53:29.280Z"
   },
   {
    "duration": 24,
    "start_time": "2022-08-15T09:53:29.291Z"
   },
   {
    "duration": 255,
    "start_time": "2022-08-15T09:53:29.317Z"
   },
   {
    "duration": 1193,
    "start_time": "2022-08-15T09:53:29.574Z"
   },
   {
    "duration": 14,
    "start_time": "2022-08-15T09:53:30.768Z"
   },
   {
    "duration": 2837,
    "start_time": "2022-08-15T09:53:30.784Z"
   },
   {
    "duration": 29,
    "start_time": "2022-08-15T09:53:33.622Z"
   },
   {
    "duration": 12,
    "start_time": "2022-08-15T09:53:33.653Z"
   },
   {
    "duration": 224,
    "start_time": "2022-08-15T09:53:33.667Z"
   },
   {
    "duration": 15,
    "start_time": "2022-08-15T09:53:33.894Z"
   },
   {
    "duration": 14,
    "start_time": "2022-08-15T09:53:33.911Z"
   },
   {
    "duration": 10,
    "start_time": "2022-08-15T09:53:33.927Z"
   },
   {
    "duration": 13,
    "start_time": "2022-08-15T09:53:33.939Z"
   },
   {
    "duration": 18,
    "start_time": "2022-08-15T09:53:33.953Z"
   },
   {
    "duration": 8,
    "start_time": "2022-08-15T09:53:33.973Z"
   },
   {
    "duration": 33,
    "start_time": "2022-08-15T09:53:33.982Z"
   },
   {
    "duration": 322,
    "start_time": "2022-08-15T09:53:34.017Z"
   },
   {
    "duration": 14,
    "start_time": "2022-08-15T09:53:34.341Z"
   },
   {
    "duration": 354,
    "start_time": "2022-08-15T09:53:34.357Z"
   },
   {
    "duration": 43,
    "start_time": "2022-08-16T14:31:28.166Z"
   },
   {
    "duration": 1192,
    "start_time": "2022-08-16T14:31:34.810Z"
   },
   {
    "duration": 292,
    "start_time": "2022-08-16T14:31:36.003Z"
   },
   {
    "duration": 11,
    "start_time": "2022-08-16T14:31:36.297Z"
   },
   {
    "duration": 26,
    "start_time": "2022-08-16T14:31:36.310Z"
   },
   {
    "duration": 37,
    "start_time": "2022-08-16T14:31:36.337Z"
   },
   {
    "duration": 909,
    "start_time": "2022-08-16T14:31:36.376Z"
   },
   {
    "duration": 0,
    "start_time": "2022-08-16T14:31:37.288Z"
   },
   {
    "duration": 0,
    "start_time": "2022-08-16T14:31:37.289Z"
   },
   {
    "duration": 0,
    "start_time": "2022-08-16T14:31:37.290Z"
   },
   {
    "duration": 0,
    "start_time": "2022-08-16T14:31:37.291Z"
   },
   {
    "duration": 0,
    "start_time": "2022-08-16T14:31:37.291Z"
   },
   {
    "duration": 0,
    "start_time": "2022-08-16T14:31:37.293Z"
   },
   {
    "duration": 0,
    "start_time": "2022-08-16T14:31:37.293Z"
   },
   {
    "duration": 0,
    "start_time": "2022-08-16T14:31:37.294Z"
   },
   {
    "duration": 0,
    "start_time": "2022-08-16T14:31:37.295Z"
   },
   {
    "duration": 0,
    "start_time": "2022-08-16T14:31:37.296Z"
   },
   {
    "duration": 0,
    "start_time": "2022-08-16T14:31:37.297Z"
   },
   {
    "duration": 0,
    "start_time": "2022-08-16T14:31:37.298Z"
   },
   {
    "duration": 0,
    "start_time": "2022-08-16T14:31:37.299Z"
   },
   {
    "duration": 0,
    "start_time": "2022-08-16T14:31:37.300Z"
   },
   {
    "duration": 0,
    "start_time": "2022-08-16T14:31:37.300Z"
   },
   {
    "duration": 0,
    "start_time": "2022-08-16T14:31:37.301Z"
   },
   {
    "duration": 0,
    "start_time": "2022-08-16T14:31:37.302Z"
   },
   {
    "duration": 0,
    "start_time": "2022-08-16T14:31:37.303Z"
   },
   {
    "duration": 0,
    "start_time": "2022-08-16T14:31:37.304Z"
   },
   {
    "duration": 0,
    "start_time": "2022-08-16T14:31:37.305Z"
   },
   {
    "duration": 0,
    "start_time": "2022-08-16T14:31:37.306Z"
   },
   {
    "duration": 0,
    "start_time": "2022-08-16T14:31:37.307Z"
   },
   {
    "duration": 0,
    "start_time": "2022-08-16T14:31:37.308Z"
   },
   {
    "duration": 0,
    "start_time": "2022-08-16T14:31:37.309Z"
   },
   {
    "duration": 0,
    "start_time": "2022-08-16T14:31:37.310Z"
   },
   {
    "duration": 0,
    "start_time": "2022-08-16T14:31:37.310Z"
   },
   {
    "duration": 1,
    "start_time": "2022-08-16T14:31:37.311Z"
   },
   {
    "duration": 0,
    "start_time": "2022-08-16T14:31:37.313Z"
   },
   {
    "duration": 0,
    "start_time": "2022-08-16T14:31:37.314Z"
   },
   {
    "duration": 0,
    "start_time": "2022-08-16T14:31:37.315Z"
   },
   {
    "duration": 0,
    "start_time": "2022-08-16T14:31:37.315Z"
   },
   {
    "duration": 0,
    "start_time": "2022-08-16T14:31:37.317Z"
   },
   {
    "duration": 19,
    "start_time": "2022-08-16T14:32:16.083Z"
   },
   {
    "duration": 11,
    "start_time": "2022-08-16T14:35:47.460Z"
   },
   {
    "duration": 15,
    "start_time": "2022-08-16T14:36:14.634Z"
   },
   {
    "duration": 9,
    "start_time": "2022-08-16T14:36:26.113Z"
   },
   {
    "duration": 9,
    "start_time": "2022-08-16T14:36:30.467Z"
   },
   {
    "duration": 1078,
    "start_time": "2022-08-16T14:36:34.974Z"
   },
   {
    "duration": 68,
    "start_time": "2022-08-16T14:36:36.055Z"
   },
   {
    "duration": 13,
    "start_time": "2022-08-16T14:36:36.124Z"
   },
   {
    "duration": 27,
    "start_time": "2022-08-16T14:36:36.139Z"
   },
   {
    "duration": 18,
    "start_time": "2022-08-16T14:36:36.171Z"
   },
   {
    "duration": 13,
    "start_time": "2022-08-16T14:36:36.190Z"
   },
   {
    "duration": 11,
    "start_time": "2022-08-16T14:36:36.204Z"
   },
   {
    "duration": 113,
    "start_time": "2022-08-16T14:36:36.217Z"
   },
   {
    "duration": 0,
    "start_time": "2022-08-16T14:36:36.333Z"
   },
   {
    "duration": 0,
    "start_time": "2022-08-16T14:36:36.334Z"
   },
   {
    "duration": 0,
    "start_time": "2022-08-16T14:36:36.335Z"
   },
   {
    "duration": 0,
    "start_time": "2022-08-16T14:36:36.340Z"
   },
   {
    "duration": 0,
    "start_time": "2022-08-16T14:36:36.342Z"
   },
   {
    "duration": 0,
    "start_time": "2022-08-16T14:36:36.343Z"
   },
   {
    "duration": 0,
    "start_time": "2022-08-16T14:36:36.343Z"
   },
   {
    "duration": 0,
    "start_time": "2022-08-16T14:36:36.345Z"
   },
   {
    "duration": 0,
    "start_time": "2022-08-16T14:36:36.346Z"
   },
   {
    "duration": 0,
    "start_time": "2022-08-16T14:36:36.347Z"
   },
   {
    "duration": 0,
    "start_time": "2022-08-16T14:36:36.348Z"
   },
   {
    "duration": 0,
    "start_time": "2022-08-16T14:36:36.349Z"
   },
   {
    "duration": 0,
    "start_time": "2022-08-16T14:36:36.350Z"
   },
   {
    "duration": 0,
    "start_time": "2022-08-16T14:36:36.351Z"
   },
   {
    "duration": 0,
    "start_time": "2022-08-16T14:36:36.352Z"
   },
   {
    "duration": 0,
    "start_time": "2022-08-16T14:36:36.353Z"
   },
   {
    "duration": 0,
    "start_time": "2022-08-16T14:36:36.354Z"
   },
   {
    "duration": 0,
    "start_time": "2022-08-16T14:36:36.355Z"
   },
   {
    "duration": 0,
    "start_time": "2022-08-16T14:36:36.356Z"
   },
   {
    "duration": 0,
    "start_time": "2022-08-16T14:36:36.357Z"
   },
   {
    "duration": 0,
    "start_time": "2022-08-16T14:36:36.357Z"
   },
   {
    "duration": 0,
    "start_time": "2022-08-16T14:36:36.358Z"
   },
   {
    "duration": 0,
    "start_time": "2022-08-16T14:36:36.359Z"
   },
   {
    "duration": 0,
    "start_time": "2022-08-16T14:36:36.360Z"
   },
   {
    "duration": 0,
    "start_time": "2022-08-16T14:36:36.361Z"
   },
   {
    "duration": 0,
    "start_time": "2022-08-16T14:36:36.362Z"
   },
   {
    "duration": 0,
    "start_time": "2022-08-16T14:36:36.363Z"
   },
   {
    "duration": 0,
    "start_time": "2022-08-16T14:36:36.364Z"
   },
   {
    "duration": 0,
    "start_time": "2022-08-16T14:36:36.365Z"
   },
   {
    "duration": 0,
    "start_time": "2022-08-16T14:36:36.366Z"
   },
   {
    "duration": 0,
    "start_time": "2022-08-16T14:36:36.367Z"
   },
   {
    "duration": 8,
    "start_time": "2022-08-16T14:37:15.661Z"
   },
   {
    "duration": 1094,
    "start_time": "2022-08-16T14:37:20.557Z"
   },
   {
    "duration": 69,
    "start_time": "2022-08-16T14:37:21.653Z"
   },
   {
    "duration": 12,
    "start_time": "2022-08-16T14:37:21.723Z"
   },
   {
    "duration": 31,
    "start_time": "2022-08-16T14:37:21.737Z"
   },
   {
    "duration": 15,
    "start_time": "2022-08-16T14:37:21.770Z"
   },
   {
    "duration": 12,
    "start_time": "2022-08-16T14:37:21.787Z"
   },
   {
    "duration": 12,
    "start_time": "2022-08-16T14:37:21.801Z"
   },
   {
    "duration": 103,
    "start_time": "2022-08-16T14:37:21.815Z"
   },
   {
    "duration": 0,
    "start_time": "2022-08-16T14:37:21.921Z"
   },
   {
    "duration": 0,
    "start_time": "2022-08-16T14:37:21.922Z"
   },
   {
    "duration": 1,
    "start_time": "2022-08-16T14:37:21.923Z"
   },
   {
    "duration": 0,
    "start_time": "2022-08-16T14:37:21.925Z"
   },
   {
    "duration": 1,
    "start_time": "2022-08-16T14:37:21.941Z"
   },
   {
    "duration": 0,
    "start_time": "2022-08-16T14:37:21.942Z"
   },
   {
    "duration": 0,
    "start_time": "2022-08-16T14:37:21.943Z"
   },
   {
    "duration": 0,
    "start_time": "2022-08-16T14:37:21.947Z"
   },
   {
    "duration": 0,
    "start_time": "2022-08-16T14:37:21.948Z"
   },
   {
    "duration": 0,
    "start_time": "2022-08-16T14:37:21.948Z"
   },
   {
    "duration": 0,
    "start_time": "2022-08-16T14:37:21.954Z"
   },
   {
    "duration": 0,
    "start_time": "2022-08-16T14:37:21.955Z"
   },
   {
    "duration": 0,
    "start_time": "2022-08-16T14:37:21.957Z"
   },
   {
    "duration": 0,
    "start_time": "2022-08-16T14:37:21.958Z"
   },
   {
    "duration": 0,
    "start_time": "2022-08-16T14:37:21.959Z"
   },
   {
    "duration": 0,
    "start_time": "2022-08-16T14:37:21.960Z"
   },
   {
    "duration": 0,
    "start_time": "2022-08-16T14:37:21.961Z"
   },
   {
    "duration": 0,
    "start_time": "2022-08-16T14:37:21.963Z"
   },
   {
    "duration": 0,
    "start_time": "2022-08-16T14:37:21.964Z"
   },
   {
    "duration": 0,
    "start_time": "2022-08-16T14:37:21.965Z"
   },
   {
    "duration": 0,
    "start_time": "2022-08-16T14:37:21.966Z"
   },
   {
    "duration": 0,
    "start_time": "2022-08-16T14:37:21.968Z"
   },
   {
    "duration": 0,
    "start_time": "2022-08-16T14:37:21.969Z"
   },
   {
    "duration": 0,
    "start_time": "2022-08-16T14:37:21.970Z"
   },
   {
    "duration": 0,
    "start_time": "2022-08-16T14:37:21.971Z"
   },
   {
    "duration": 0,
    "start_time": "2022-08-16T14:37:21.972Z"
   },
   {
    "duration": 0,
    "start_time": "2022-08-16T14:37:21.974Z"
   },
   {
    "duration": 0,
    "start_time": "2022-08-16T14:37:21.975Z"
   },
   {
    "duration": 0,
    "start_time": "2022-08-16T14:37:21.976Z"
   },
   {
    "duration": 0,
    "start_time": "2022-08-16T14:37:21.978Z"
   },
   {
    "duration": 0,
    "start_time": "2022-08-16T14:37:21.979Z"
   },
   {
    "duration": 0,
    "start_time": "2022-08-16T14:37:21.981Z"
   },
   {
    "duration": 8,
    "start_time": "2022-08-16T14:38:01.805Z"
   },
   {
    "duration": 9,
    "start_time": "2022-08-16T14:38:33.797Z"
   },
   {
    "duration": 3,
    "start_time": "2022-08-16T14:38:40.111Z"
   },
   {
    "duration": 1092,
    "start_time": "2022-08-16T14:38:56.156Z"
   },
   {
    "duration": 72,
    "start_time": "2022-08-16T14:38:57.250Z"
   },
   {
    "duration": 12,
    "start_time": "2022-08-16T14:38:57.323Z"
   },
   {
    "duration": 18,
    "start_time": "2022-08-16T14:38:57.336Z"
   },
   {
    "duration": 19,
    "start_time": "2022-08-16T14:38:57.356Z"
   },
   {
    "duration": 12,
    "start_time": "2022-08-16T14:38:57.377Z"
   },
   {
    "duration": 13,
    "start_time": "2022-08-16T14:38:57.390Z"
   },
   {
    "duration": 2,
    "start_time": "2022-08-16T14:38:57.404Z"
   },
   {
    "duration": 117,
    "start_time": "2022-08-16T14:38:57.408Z"
   },
   {
    "duration": 0,
    "start_time": "2022-08-16T14:38:57.527Z"
   },
   {
    "duration": 0,
    "start_time": "2022-08-16T14:38:57.529Z"
   },
   {
    "duration": 0,
    "start_time": "2022-08-16T14:38:57.530Z"
   },
   {
    "duration": 0,
    "start_time": "2022-08-16T14:38:57.531Z"
   },
   {
    "duration": 0,
    "start_time": "2022-08-16T14:38:57.538Z"
   },
   {
    "duration": 0,
    "start_time": "2022-08-16T14:38:57.538Z"
   },
   {
    "duration": 0,
    "start_time": "2022-08-16T14:38:57.539Z"
   },
   {
    "duration": 0,
    "start_time": "2022-08-16T14:38:57.540Z"
   },
   {
    "duration": 0,
    "start_time": "2022-08-16T14:38:57.540Z"
   },
   {
    "duration": 0,
    "start_time": "2022-08-16T14:38:57.541Z"
   },
   {
    "duration": 0,
    "start_time": "2022-08-16T14:38:57.542Z"
   },
   {
    "duration": 0,
    "start_time": "2022-08-16T14:38:57.542Z"
   },
   {
    "duration": 0,
    "start_time": "2022-08-16T14:38:57.544Z"
   },
   {
    "duration": 0,
    "start_time": "2022-08-16T14:38:57.544Z"
   },
   {
    "duration": 0,
    "start_time": "2022-08-16T14:38:57.545Z"
   },
   {
    "duration": 0,
    "start_time": "2022-08-16T14:38:57.546Z"
   },
   {
    "duration": 0,
    "start_time": "2022-08-16T14:38:57.546Z"
   },
   {
    "duration": 0,
    "start_time": "2022-08-16T14:38:57.547Z"
   },
   {
    "duration": 0,
    "start_time": "2022-08-16T14:38:57.548Z"
   },
   {
    "duration": 0,
    "start_time": "2022-08-16T14:38:57.549Z"
   },
   {
    "duration": 0,
    "start_time": "2022-08-16T14:38:57.550Z"
   },
   {
    "duration": 0,
    "start_time": "2022-08-16T14:38:57.556Z"
   },
   {
    "duration": 0,
    "start_time": "2022-08-16T14:38:57.557Z"
   },
   {
    "duration": 0,
    "start_time": "2022-08-16T14:38:57.558Z"
   },
   {
    "duration": 0,
    "start_time": "2022-08-16T14:38:57.559Z"
   },
   {
    "duration": 0,
    "start_time": "2022-08-16T14:38:57.560Z"
   },
   {
    "duration": 0,
    "start_time": "2022-08-16T14:38:57.561Z"
   },
   {
    "duration": 0,
    "start_time": "2022-08-16T14:38:57.562Z"
   },
   {
    "duration": 0,
    "start_time": "2022-08-16T14:38:57.563Z"
   },
   {
    "duration": 0,
    "start_time": "2022-08-16T14:38:57.564Z"
   },
   {
    "duration": 0,
    "start_time": "2022-08-16T14:38:57.564Z"
   },
   {
    "duration": 8,
    "start_time": "2022-08-16T14:39:21.513Z"
   },
   {
    "duration": 7,
    "start_time": "2022-08-16T14:40:27.570Z"
   },
   {
    "duration": 10,
    "start_time": "2022-08-16T14:40:28.961Z"
   },
   {
    "duration": 1027,
    "start_time": "2022-08-16T14:40:33.202Z"
   },
   {
    "duration": 84,
    "start_time": "2022-08-16T14:40:34.231Z"
   },
   {
    "duration": 12,
    "start_time": "2022-08-16T14:40:34.317Z"
   },
   {
    "duration": 18,
    "start_time": "2022-08-16T14:40:34.331Z"
   },
   {
    "duration": 35,
    "start_time": "2022-08-16T14:40:34.356Z"
   },
   {
    "duration": 14,
    "start_time": "2022-08-16T14:40:34.392Z"
   },
   {
    "duration": 13,
    "start_time": "2022-08-16T14:40:34.407Z"
   },
   {
    "duration": 17,
    "start_time": "2022-08-16T14:40:34.422Z"
   },
   {
    "duration": 225,
    "start_time": "2022-08-16T14:40:34.440Z"
   },
   {
    "duration": 12,
    "start_time": "2022-08-16T14:40:34.667Z"
   },
   {
    "duration": 126,
    "start_time": "2022-08-16T14:40:34.680Z"
   },
   {
    "duration": 259,
    "start_time": "2022-08-16T14:40:34.808Z"
   },
   {
    "duration": 19,
    "start_time": "2022-08-16T14:40:35.068Z"
   },
   {
    "duration": 21,
    "start_time": "2022-08-16T14:40:35.088Z"
   },
   {
    "duration": 9,
    "start_time": "2022-08-16T14:40:35.110Z"
   },
   {
    "duration": 851,
    "start_time": "2022-08-16T14:40:35.138Z"
   },
   {
    "duration": 23,
    "start_time": "2022-08-16T14:40:35.991Z"
   },
   {
    "duration": 218,
    "start_time": "2022-08-16T14:40:36.016Z"
   },
   {
    "duration": 513,
    "start_time": "2022-08-16T14:40:36.236Z"
   },
   {
    "duration": 13,
    "start_time": "2022-08-16T14:40:36.751Z"
   },
   {
    "duration": 31,
    "start_time": "2022-08-16T14:40:36.766Z"
   },
   {
    "duration": 10,
    "start_time": "2022-08-16T14:40:36.798Z"
   },
   {
    "duration": 13,
    "start_time": "2022-08-16T14:40:36.809Z"
   },
   {
    "duration": 262,
    "start_time": "2022-08-16T14:40:36.823Z"
   },
   {
    "duration": 1222,
    "start_time": "2022-08-16T14:40:37.086Z"
   },
   {
    "duration": 20,
    "start_time": "2022-08-16T14:40:38.310Z"
   },
   {
    "duration": 3346,
    "start_time": "2022-08-16T14:40:38.331Z"
   },
   {
    "duration": 33,
    "start_time": "2022-08-16T14:40:41.681Z"
   },
   {
    "duration": 33,
    "start_time": "2022-08-16T14:40:41.716Z"
   },
   {
    "duration": 204,
    "start_time": "2022-08-16T14:40:41.750Z"
   },
   {
    "duration": 11,
    "start_time": "2022-08-16T14:40:41.958Z"
   },
   {
    "duration": 17,
    "start_time": "2022-08-16T14:40:41.972Z"
   },
   {
    "duration": 11,
    "start_time": "2022-08-16T14:40:41.990Z"
   },
   {
    "duration": 19,
    "start_time": "2022-08-16T14:40:42.003Z"
   },
   {
    "duration": 28,
    "start_time": "2022-08-16T14:40:42.024Z"
   },
   {
    "duration": 17,
    "start_time": "2022-08-16T14:40:42.054Z"
   },
   {
    "duration": 20,
    "start_time": "2022-08-16T14:40:42.073Z"
   },
   {
    "duration": 311,
    "start_time": "2022-08-16T14:40:42.095Z"
   },
   {
    "duration": 14,
    "start_time": "2022-08-16T14:40:42.408Z"
   },
   {
    "duration": 322,
    "start_time": "2022-08-16T14:40:42.439Z"
   },
   {
    "duration": 112,
    "start_time": "2022-08-16T14:43:04.229Z"
   },
   {
    "duration": 13,
    "start_time": "2022-08-16T14:43:27.794Z"
   },
   {
    "duration": 23,
    "start_time": "2022-08-16T14:43:29.126Z"
   },
   {
    "duration": 1202,
    "start_time": "2022-08-16T14:43:37.118Z"
   },
   {
    "duration": 75,
    "start_time": "2022-08-16T14:43:38.322Z"
   },
   {
    "duration": 11,
    "start_time": "2022-08-16T14:43:38.399Z"
   },
   {
    "duration": 12,
    "start_time": "2022-08-16T14:43:38.412Z"
   },
   {
    "duration": 25,
    "start_time": "2022-08-16T14:43:38.426Z"
   },
   {
    "duration": 13,
    "start_time": "2022-08-16T14:43:38.452Z"
   },
   {
    "duration": 11,
    "start_time": "2022-08-16T14:43:38.467Z"
   },
   {
    "duration": 12,
    "start_time": "2022-08-16T14:43:38.479Z"
   },
   {
    "duration": 262,
    "start_time": "2022-08-16T14:43:38.493Z"
   },
   {
    "duration": 15,
    "start_time": "2022-08-16T14:43:38.757Z"
   },
   {
    "duration": 147,
    "start_time": "2022-08-16T14:43:38.773Z"
   },
   {
    "duration": 299,
    "start_time": "2022-08-16T14:43:38.922Z"
   },
   {
    "duration": 32,
    "start_time": "2022-08-16T14:43:39.222Z"
   },
   {
    "duration": 22,
    "start_time": "2022-08-16T14:43:39.257Z"
   },
   {
    "duration": 8,
    "start_time": "2022-08-16T14:43:39.281Z"
   },
   {
    "duration": 819,
    "start_time": "2022-08-16T14:43:39.290Z"
   },
   {
    "duration": 16,
    "start_time": "2022-08-16T14:43:40.111Z"
   },
   {
    "duration": 246,
    "start_time": "2022-08-16T14:43:40.129Z"
   },
   {
    "duration": 518,
    "start_time": "2022-08-16T14:43:40.377Z"
   },
   {
    "duration": 12,
    "start_time": "2022-08-16T14:43:40.896Z"
   },
   {
    "duration": 47,
    "start_time": "2022-08-16T14:43:40.909Z"
   },
   {
    "duration": 12,
    "start_time": "2022-08-16T14:43:40.958Z"
   },
   {
    "duration": 13,
    "start_time": "2022-08-16T14:43:40.971Z"
   },
   {
    "duration": 269,
    "start_time": "2022-08-16T14:43:40.985Z"
   },
   {
    "duration": 1177,
    "start_time": "2022-08-16T14:43:41.256Z"
   },
   {
    "duration": 20,
    "start_time": "2022-08-16T14:43:42.435Z"
   },
   {
    "duration": 2124,
    "start_time": "2022-08-16T14:43:42.457Z"
   },
   {
    "duration": 26,
    "start_time": "2022-08-16T14:43:44.583Z"
   },
   {
    "duration": 12,
    "start_time": "2022-08-16T14:43:44.610Z"
   },
   {
    "duration": 188,
    "start_time": "2022-08-16T14:43:44.640Z"
   },
   {
    "duration": 23,
    "start_time": "2022-08-16T14:43:44.830Z"
   },
   {
    "duration": 17,
    "start_time": "2022-08-16T14:43:44.855Z"
   },
   {
    "duration": 11,
    "start_time": "2022-08-16T14:43:44.873Z"
   },
   {
    "duration": 10,
    "start_time": "2022-08-16T14:43:44.886Z"
   },
   {
    "duration": 13,
    "start_time": "2022-08-16T14:43:44.897Z"
   },
   {
    "duration": 8,
    "start_time": "2022-08-16T14:43:44.911Z"
   },
   {
    "duration": 15,
    "start_time": "2022-08-16T14:43:44.939Z"
   },
   {
    "duration": 275,
    "start_time": "2022-08-16T14:43:44.956Z"
   },
   {
    "duration": 21,
    "start_time": "2022-08-16T14:43:45.233Z"
   },
   {
    "duration": 315,
    "start_time": "2022-08-16T14:43:45.256Z"
   },
   {
    "duration": 206,
    "start_time": "2022-08-16T14:49:40.528Z"
   },
   {
    "duration": 221,
    "start_time": "2022-08-16T14:50:05.936Z"
   },
   {
    "duration": 212,
    "start_time": "2022-08-16T14:50:14.946Z"
   },
   {
    "duration": 259,
    "start_time": "2022-08-16T14:51:18.834Z"
   },
   {
    "duration": 124,
    "start_time": "2022-08-16T14:51:32.729Z"
   },
   {
    "duration": 22,
    "start_time": "2022-08-16T14:51:36.749Z"
   },
   {
    "duration": 20,
    "start_time": "2022-08-16T14:51:39.754Z"
   },
   {
    "duration": 198,
    "start_time": "2022-08-16T14:51:44.986Z"
   },
   {
    "duration": 194,
    "start_time": "2022-08-16T14:54:09.438Z"
   },
   {
    "duration": 204,
    "start_time": "2022-08-16T14:54:23.750Z"
   },
   {
    "duration": 199,
    "start_time": "2022-08-16T14:54:32.830Z"
   },
   {
    "duration": 316,
    "start_time": "2022-08-16T14:54:43.351Z"
   },
   {
    "duration": 203,
    "start_time": "2022-08-16T14:59:22.720Z"
   },
   {
    "duration": 131,
    "start_time": "2022-08-16T15:01:08.231Z"
   },
   {
    "duration": 210,
    "start_time": "2022-08-16T15:01:58.712Z"
   },
   {
    "duration": 14,
    "start_time": "2022-08-16T15:02:09.993Z"
   },
   {
    "duration": 194,
    "start_time": "2022-08-16T15:02:14.568Z"
   },
   {
    "duration": 246,
    "start_time": "2022-08-16T15:12:51.830Z"
   },
   {
    "duration": 276,
    "start_time": "2022-08-16T15:14:26.137Z"
   },
   {
    "duration": 304,
    "start_time": "2022-08-16T15:14:51.107Z"
   },
   {
    "duration": 1080,
    "start_time": "2022-08-16T15:16:05.055Z"
   },
   {
    "duration": 69,
    "start_time": "2022-08-16T15:16:06.137Z"
   },
   {
    "duration": 11,
    "start_time": "2022-08-16T15:16:06.208Z"
   },
   {
    "duration": 13,
    "start_time": "2022-08-16T15:16:06.221Z"
   },
   {
    "duration": 31,
    "start_time": "2022-08-16T15:16:06.235Z"
   },
   {
    "duration": 19,
    "start_time": "2022-08-16T15:16:06.268Z"
   },
   {
    "duration": 22,
    "start_time": "2022-08-16T15:16:06.288Z"
   },
   {
    "duration": 33,
    "start_time": "2022-08-16T15:16:06.312Z"
   },
   {
    "duration": 215,
    "start_time": "2022-08-16T15:16:06.347Z"
   },
   {
    "duration": 12,
    "start_time": "2022-08-16T15:16:06.564Z"
   },
   {
    "duration": 124,
    "start_time": "2022-08-16T15:16:06.578Z"
   },
   {
    "duration": 244,
    "start_time": "2022-08-16T15:16:06.703Z"
   },
   {
    "duration": 18,
    "start_time": "2022-08-16T15:16:06.948Z"
   },
   {
    "duration": 32,
    "start_time": "2022-08-16T15:16:06.968Z"
   },
   {
    "duration": 9,
    "start_time": "2022-08-16T15:16:07.001Z"
   },
   {
    "duration": 750,
    "start_time": "2022-08-16T15:16:07.011Z"
   },
   {
    "duration": 15,
    "start_time": "2022-08-16T15:16:07.762Z"
   },
   {
    "duration": 194,
    "start_time": "2022-08-16T15:16:07.778Z"
   },
   {
    "duration": 464,
    "start_time": "2022-08-16T15:16:07.973Z"
   },
   {
    "duration": 12,
    "start_time": "2022-08-16T15:16:08.438Z"
   },
   {
    "duration": 37,
    "start_time": "2022-08-16T15:16:08.452Z"
   },
   {
    "duration": 9,
    "start_time": "2022-08-16T15:16:08.491Z"
   },
   {
    "duration": 15,
    "start_time": "2022-08-16T15:16:08.502Z"
   },
   {
    "duration": 242,
    "start_time": "2022-08-16T15:16:08.518Z"
   },
   {
    "duration": 1340,
    "start_time": "2022-08-16T15:16:08.761Z"
   },
   {
    "duration": 14,
    "start_time": "2022-08-16T15:16:10.102Z"
   },
   {
    "duration": 2878,
    "start_time": "2022-08-16T15:16:10.118Z"
   },
   {
    "duration": 26,
    "start_time": "2022-08-16T15:16:12.999Z"
   },
   {
    "duration": 16,
    "start_time": "2022-08-16T15:16:13.027Z"
   },
   {
    "duration": 204,
    "start_time": "2022-08-16T15:16:13.045Z"
   },
   {
    "duration": 11,
    "start_time": "2022-08-16T15:16:13.250Z"
   },
   {
    "duration": 36,
    "start_time": "2022-08-16T15:16:13.263Z"
   },
   {
    "duration": 18,
    "start_time": "2022-08-16T15:16:13.301Z"
   },
   {
    "duration": 29,
    "start_time": "2022-08-16T15:16:13.320Z"
   },
   {
    "duration": 38,
    "start_time": "2022-08-16T15:16:13.350Z"
   },
   {
    "duration": 37,
    "start_time": "2022-08-16T15:16:13.389Z"
   },
   {
    "duration": 23,
    "start_time": "2022-08-16T15:16:13.427Z"
   },
   {
    "duration": 299,
    "start_time": "2022-08-16T15:16:13.452Z"
   },
   {
    "duration": 13,
    "start_time": "2022-08-16T15:16:13.753Z"
   },
   {
    "duration": 304,
    "start_time": "2022-08-16T15:16:13.767Z"
   },
   {
    "duration": 1084,
    "start_time": "2022-08-16T15:27:00.757Z"
   },
   {
    "duration": 68,
    "start_time": "2022-08-16T15:27:01.843Z"
   },
   {
    "duration": 11,
    "start_time": "2022-08-16T15:27:01.913Z"
   },
   {
    "duration": 12,
    "start_time": "2022-08-16T15:27:01.926Z"
   },
   {
    "duration": 17,
    "start_time": "2022-08-16T15:27:01.940Z"
   },
   {
    "duration": 13,
    "start_time": "2022-08-16T15:27:01.959Z"
   },
   {
    "duration": 12,
    "start_time": "2022-08-16T15:27:01.974Z"
   },
   {
    "duration": 16,
    "start_time": "2022-08-16T15:27:01.988Z"
   },
   {
    "duration": 235,
    "start_time": "2022-08-16T15:27:02.006Z"
   },
   {
    "duration": 13,
    "start_time": "2022-08-16T15:27:02.243Z"
   },
   {
    "duration": 126,
    "start_time": "2022-08-16T15:27:02.257Z"
   },
   {
    "duration": 248,
    "start_time": "2022-08-16T15:27:02.385Z"
   },
   {
    "duration": 21,
    "start_time": "2022-08-16T15:27:02.634Z"
   },
   {
    "duration": 21,
    "start_time": "2022-08-16T15:27:02.656Z"
   },
   {
    "duration": 10,
    "start_time": "2022-08-16T15:27:02.678Z"
   },
   {
    "duration": 776,
    "start_time": "2022-08-16T15:27:02.689Z"
   },
   {
    "duration": 14,
    "start_time": "2022-08-16T15:27:03.467Z"
   },
   {
    "duration": 191,
    "start_time": "2022-08-16T15:27:03.482Z"
   },
   {
    "duration": 484,
    "start_time": "2022-08-16T15:27:03.675Z"
   },
   {
    "duration": 12,
    "start_time": "2022-08-16T15:27:04.160Z"
   },
   {
    "duration": 30,
    "start_time": "2022-08-16T15:27:04.173Z"
   },
   {
    "duration": 9,
    "start_time": "2022-08-16T15:27:04.204Z"
   },
   {
    "duration": 27,
    "start_time": "2022-08-16T15:27:04.215Z"
   },
   {
    "duration": 240,
    "start_time": "2022-08-16T15:27:04.243Z"
   },
   {
    "duration": 1654,
    "start_time": "2022-08-16T15:27:04.485Z"
   },
   {
    "duration": 18,
    "start_time": "2022-08-16T15:27:06.141Z"
   },
   {
    "duration": 3260,
    "start_time": "2022-08-16T15:27:06.161Z"
   },
   {
    "duration": 29,
    "start_time": "2022-08-16T15:27:09.424Z"
   },
   {
    "duration": 12,
    "start_time": "2022-08-16T15:27:09.454Z"
   },
   {
    "duration": 201,
    "start_time": "2022-08-16T15:27:09.467Z"
   },
   {
    "duration": 15,
    "start_time": "2022-08-16T15:27:09.670Z"
   },
   {
    "duration": 46,
    "start_time": "2022-08-16T15:27:09.686Z"
   },
   {
    "duration": 14,
    "start_time": "2022-08-16T15:27:09.733Z"
   },
   {
    "duration": 23,
    "start_time": "2022-08-16T15:27:09.748Z"
   },
   {
    "duration": 19,
    "start_time": "2022-08-16T15:27:09.773Z"
   },
   {
    "duration": 12,
    "start_time": "2022-08-16T15:27:09.794Z"
   },
   {
    "duration": 23,
    "start_time": "2022-08-16T15:27:09.808Z"
   },
   {
    "duration": 284,
    "start_time": "2022-08-16T15:27:09.833Z"
   },
   {
    "duration": 21,
    "start_time": "2022-08-16T15:27:10.118Z"
   },
   {
    "duration": 308,
    "start_time": "2022-08-16T15:27:10.141Z"
   },
   {
    "duration": 1065,
    "start_time": "2022-08-16T15:42:19.070Z"
   },
   {
    "duration": 68,
    "start_time": "2022-08-16T15:42:20.137Z"
   },
   {
    "duration": 11,
    "start_time": "2022-08-16T15:42:20.206Z"
   },
   {
    "duration": 15,
    "start_time": "2022-08-16T15:42:20.219Z"
   },
   {
    "duration": 27,
    "start_time": "2022-08-16T15:42:20.236Z"
   },
   {
    "duration": 13,
    "start_time": "2022-08-16T15:42:20.265Z"
   },
   {
    "duration": 14,
    "start_time": "2022-08-16T15:42:20.279Z"
   },
   {
    "duration": 11,
    "start_time": "2022-08-16T15:42:20.294Z"
   },
   {
    "duration": 247,
    "start_time": "2022-08-16T15:42:20.307Z"
   },
   {
    "duration": 13,
    "start_time": "2022-08-16T15:42:20.556Z"
   },
   {
    "duration": 125,
    "start_time": "2022-08-16T15:42:20.570Z"
   },
   {
    "duration": 275,
    "start_time": "2022-08-16T15:42:20.696Z"
   },
   {
    "duration": 21,
    "start_time": "2022-08-16T15:42:20.972Z"
   },
   {
    "duration": 20,
    "start_time": "2022-08-16T15:42:20.994Z"
   },
   {
    "duration": 38,
    "start_time": "2022-08-16T15:42:21.016Z"
   },
   {
    "duration": 861,
    "start_time": "2022-08-16T15:42:21.056Z"
   },
   {
    "duration": 14,
    "start_time": "2022-08-16T15:42:21.919Z"
   },
   {
    "duration": 242,
    "start_time": "2022-08-16T15:42:21.935Z"
   },
   {
    "duration": 523,
    "start_time": "2022-08-16T15:42:22.178Z"
   },
   {
    "duration": 14,
    "start_time": "2022-08-16T15:42:22.703Z"
   },
   {
    "duration": 44,
    "start_time": "2022-08-16T15:42:22.719Z"
   },
   {
    "duration": 10,
    "start_time": "2022-08-16T15:42:22.764Z"
   },
   {
    "duration": 14,
    "start_time": "2022-08-16T15:42:22.775Z"
   },
   {
    "duration": 265,
    "start_time": "2022-08-16T15:42:22.790Z"
   },
   {
    "duration": 1417,
    "start_time": "2022-08-16T15:42:23.056Z"
   },
   {
    "duration": 14,
    "start_time": "2022-08-16T15:42:24.474Z"
   },
   {
    "duration": 3001,
    "start_time": "2022-08-16T15:42:24.490Z"
   },
   {
    "duration": 27,
    "start_time": "2022-08-16T15:42:27.494Z"
   },
   {
    "duration": 29,
    "start_time": "2022-08-16T15:42:27.523Z"
   },
   {
    "duration": 217,
    "start_time": "2022-08-16T15:42:27.553Z"
   },
   {
    "duration": 11,
    "start_time": "2022-08-16T15:42:27.772Z"
   },
   {
    "duration": 36,
    "start_time": "2022-08-16T15:42:27.784Z"
   },
   {
    "duration": 42,
    "start_time": "2022-08-16T15:42:27.821Z"
   },
   {
    "duration": 22,
    "start_time": "2022-08-16T15:42:27.865Z"
   },
   {
    "duration": 23,
    "start_time": "2022-08-16T15:42:27.889Z"
   },
   {
    "duration": 12,
    "start_time": "2022-08-16T15:42:27.914Z"
   },
   {
    "duration": 22,
    "start_time": "2022-08-16T15:42:27.927Z"
   },
   {
    "duration": 301,
    "start_time": "2022-08-16T15:42:27.950Z"
   },
   {
    "duration": 13,
    "start_time": "2022-08-16T15:42:28.253Z"
   },
   {
    "duration": 308,
    "start_time": "2022-08-16T15:42:28.267Z"
   },
   {
    "duration": 1088,
    "start_time": "2022-08-16T16:16:11.620Z"
   },
   {
    "duration": 64,
    "start_time": "2022-08-16T16:16:12.710Z"
   },
   {
    "duration": 11,
    "start_time": "2022-08-16T16:16:12.775Z"
   },
   {
    "duration": 46,
    "start_time": "2022-08-16T16:16:12.787Z"
   },
   {
    "duration": 32,
    "start_time": "2022-08-16T16:16:12.835Z"
   },
   {
    "duration": 13,
    "start_time": "2022-08-16T16:16:12.868Z"
   },
   {
    "duration": 24,
    "start_time": "2022-08-16T16:16:12.882Z"
   },
   {
    "duration": 24,
    "start_time": "2022-08-16T16:16:12.907Z"
   },
   {
    "duration": 212,
    "start_time": "2022-08-16T16:16:12.932Z"
   },
   {
    "duration": 12,
    "start_time": "2022-08-16T16:16:13.146Z"
   },
   {
    "duration": 156,
    "start_time": "2022-08-16T16:16:13.160Z"
   },
   {
    "duration": 236,
    "start_time": "2022-08-16T16:16:13.318Z"
   },
   {
    "duration": 17,
    "start_time": "2022-08-16T16:16:13.556Z"
   },
   {
    "duration": 39,
    "start_time": "2022-08-16T16:16:13.575Z"
   },
   {
    "duration": 8,
    "start_time": "2022-08-16T16:16:13.616Z"
   },
   {
    "duration": 812,
    "start_time": "2022-08-16T16:16:13.625Z"
   },
   {
    "duration": 14,
    "start_time": "2022-08-16T16:16:14.438Z"
   },
   {
    "duration": 195,
    "start_time": "2022-08-16T16:16:14.454Z"
   },
   {
    "duration": 470,
    "start_time": "2022-08-16T16:16:14.651Z"
   },
   {
    "duration": 15,
    "start_time": "2022-08-16T16:16:15.123Z"
   },
   {
    "duration": 32,
    "start_time": "2022-08-16T16:16:15.140Z"
   },
   {
    "duration": 9,
    "start_time": "2022-08-16T16:16:15.173Z"
   },
   {
    "duration": 11,
    "start_time": "2022-08-16T16:16:15.183Z"
   },
   {
    "duration": 247,
    "start_time": "2022-08-16T16:16:15.196Z"
   },
   {
    "duration": 1287,
    "start_time": "2022-08-16T16:16:15.445Z"
   },
   {
    "duration": 13,
    "start_time": "2022-08-16T16:16:16.734Z"
   },
   {
    "duration": 3104,
    "start_time": "2022-08-16T16:16:16.748Z"
   },
   {
    "duration": 25,
    "start_time": "2022-08-16T16:16:19.855Z"
   },
   {
    "duration": 10,
    "start_time": "2022-08-16T16:16:19.881Z"
   },
   {
    "duration": 191,
    "start_time": "2022-08-16T16:16:19.892Z"
   },
   {
    "duration": 11,
    "start_time": "2022-08-16T16:16:20.084Z"
   },
   {
    "duration": 14,
    "start_time": "2022-08-16T16:16:20.096Z"
   },
   {
    "duration": 10,
    "start_time": "2022-08-16T16:16:20.111Z"
   },
   {
    "duration": 24,
    "start_time": "2022-08-16T16:16:20.122Z"
   },
   {
    "duration": 13,
    "start_time": "2022-08-16T16:16:20.147Z"
   },
   {
    "duration": 7,
    "start_time": "2022-08-16T16:16:20.161Z"
   },
   {
    "duration": 10,
    "start_time": "2022-08-16T16:16:20.170Z"
   },
   {
    "duration": 277,
    "start_time": "2022-08-16T16:16:20.182Z"
   },
   {
    "duration": 13,
    "start_time": "2022-08-16T16:16:20.461Z"
   },
   {
    "duration": 285,
    "start_time": "2022-08-16T16:16:20.475Z"
   },
   {
    "duration": 23,
    "start_time": "2022-08-16T16:19:08.422Z"
   },
   {
    "duration": 11,
    "start_time": "2022-08-16T16:19:17.619Z"
   },
   {
    "duration": 1070,
    "start_time": "2022-08-16T16:19:36.492Z"
   },
   {
    "duration": 64,
    "start_time": "2022-08-16T16:19:37.564Z"
   },
   {
    "duration": 12,
    "start_time": "2022-08-16T16:19:37.629Z"
   },
   {
    "duration": 12,
    "start_time": "2022-08-16T16:19:37.642Z"
   },
   {
    "duration": 16,
    "start_time": "2022-08-16T16:19:37.655Z"
   },
   {
    "duration": 20,
    "start_time": "2022-08-16T16:19:37.672Z"
   },
   {
    "duration": 19,
    "start_time": "2022-08-16T16:19:37.693Z"
   },
   {
    "duration": 29,
    "start_time": "2022-08-16T16:19:37.714Z"
   },
   {
    "duration": 212,
    "start_time": "2022-08-16T16:19:37.745Z"
   },
   {
    "duration": 13,
    "start_time": "2022-08-16T16:19:37.959Z"
   },
   {
    "duration": 126,
    "start_time": "2022-08-16T16:19:37.973Z"
   },
   {
    "duration": 267,
    "start_time": "2022-08-16T16:19:38.100Z"
   },
   {
    "duration": 22,
    "start_time": "2022-08-16T16:19:38.369Z"
   },
   {
    "duration": 49,
    "start_time": "2022-08-16T16:19:38.392Z"
   },
   {
    "duration": 13,
    "start_time": "2022-08-16T16:19:38.443Z"
   },
   {
    "duration": 882,
    "start_time": "2022-08-16T16:19:38.459Z"
   },
   {
    "duration": 15,
    "start_time": "2022-08-16T16:19:39.343Z"
   },
   {
    "duration": 213,
    "start_time": "2022-08-16T16:19:39.359Z"
   },
   {
    "duration": 480,
    "start_time": "2022-08-16T16:19:39.575Z"
   },
   {
    "duration": 13,
    "start_time": "2022-08-16T16:19:40.056Z"
   },
   {
    "duration": 37,
    "start_time": "2022-08-16T16:19:40.071Z"
   },
   {
    "duration": 20,
    "start_time": "2022-08-16T16:19:40.110Z"
   },
   {
    "duration": 21,
    "start_time": "2022-08-16T16:19:40.131Z"
   },
   {
    "duration": 267,
    "start_time": "2022-08-16T16:19:40.154Z"
   },
   {
    "duration": 1067,
    "start_time": "2022-08-16T16:19:40.422Z"
   },
   {
    "duration": 56,
    "start_time": "2022-08-16T16:19:41.491Z"
   },
   {
    "duration": 2020,
    "start_time": "2022-08-16T16:19:41.548Z"
   },
   {
    "duration": 27,
    "start_time": "2022-08-16T16:19:43.571Z"
   },
   {
    "duration": 11,
    "start_time": "2022-08-16T16:19:43.599Z"
   },
   {
    "duration": 214,
    "start_time": "2022-08-16T16:19:43.611Z"
   },
   {
    "duration": 13,
    "start_time": "2022-08-16T16:19:43.826Z"
   },
   {
    "duration": 16,
    "start_time": "2022-08-16T16:19:43.840Z"
   },
   {
    "duration": 10,
    "start_time": "2022-08-16T16:19:43.857Z"
   },
   {
    "duration": 12,
    "start_time": "2022-08-16T16:19:43.868Z"
   },
   {
    "duration": 12,
    "start_time": "2022-08-16T16:19:43.882Z"
   },
   {
    "duration": 7,
    "start_time": "2022-08-16T16:19:43.896Z"
   },
   {
    "duration": 11,
    "start_time": "2022-08-16T16:19:43.905Z"
   },
   {
    "duration": 286,
    "start_time": "2022-08-16T16:19:43.918Z"
   },
   {
    "duration": 13,
    "start_time": "2022-08-16T16:19:44.206Z"
   },
   {
    "duration": 318,
    "start_time": "2022-08-16T16:19:44.220Z"
   },
   {
    "duration": 208,
    "start_time": "2022-08-16T16:21:46.414Z"
   },
   {
    "duration": 198,
    "start_time": "2022-08-16T16:21:56.477Z"
   },
   {
    "duration": 21,
    "start_time": "2022-08-16T16:22:59.894Z"
   },
   {
    "duration": 11,
    "start_time": "2022-08-16T16:23:30.261Z"
   },
   {
    "duration": 1072,
    "start_time": "2022-08-16T16:25:07.642Z"
   },
   {
    "duration": 63,
    "start_time": "2022-08-16T16:25:08.716Z"
   },
   {
    "duration": 12,
    "start_time": "2022-08-16T16:25:08.783Z"
   },
   {
    "duration": 12,
    "start_time": "2022-08-16T16:25:08.796Z"
   },
   {
    "duration": 29,
    "start_time": "2022-08-16T16:25:08.810Z"
   },
   {
    "duration": 19,
    "start_time": "2022-08-16T16:25:08.840Z"
   },
   {
    "duration": 18,
    "start_time": "2022-08-16T16:25:08.860Z"
   },
   {
    "duration": 15,
    "start_time": "2022-08-16T16:25:08.879Z"
   },
   {
    "duration": 303,
    "start_time": "2022-08-16T16:25:08.897Z"
   },
   {
    "duration": 14,
    "start_time": "2022-08-16T16:25:09.202Z"
   },
   {
    "duration": 124,
    "start_time": "2022-08-16T16:25:09.217Z"
   },
   {
    "duration": 237,
    "start_time": "2022-08-16T16:25:09.343Z"
   },
   {
    "duration": 20,
    "start_time": "2022-08-16T16:25:09.582Z"
   },
   {
    "duration": 36,
    "start_time": "2022-08-16T16:25:09.603Z"
   },
   {
    "duration": 9,
    "start_time": "2022-08-16T16:25:09.641Z"
   },
   {
    "duration": 777,
    "start_time": "2022-08-16T16:25:09.652Z"
   },
   {
    "duration": 14,
    "start_time": "2022-08-16T16:25:10.430Z"
   },
   {
    "duration": 190,
    "start_time": "2022-08-16T16:25:10.445Z"
   },
   {
    "duration": 466,
    "start_time": "2022-08-16T16:25:10.637Z"
   },
   {
    "duration": 11,
    "start_time": "2022-08-16T16:25:11.105Z"
   },
   {
    "duration": 34,
    "start_time": "2022-08-16T16:25:11.118Z"
   },
   {
    "duration": 12,
    "start_time": "2022-08-16T16:25:11.154Z"
   },
   {
    "duration": 14,
    "start_time": "2022-08-16T16:25:11.167Z"
   },
   {
    "duration": 233,
    "start_time": "2022-08-16T16:25:11.182Z"
   },
   {
    "duration": 1291,
    "start_time": "2022-08-16T16:25:11.416Z"
   },
   {
    "duration": 13,
    "start_time": "2022-08-16T16:25:12.708Z"
   },
   {
    "duration": 3197,
    "start_time": "2022-08-16T16:25:12.724Z"
   },
   {
    "duration": 31,
    "start_time": "2022-08-16T16:25:15.923Z"
   },
   {
    "duration": 10,
    "start_time": "2022-08-16T16:25:15.955Z"
   },
   {
    "duration": 200,
    "start_time": "2022-08-16T16:25:15.967Z"
   },
   {
    "duration": 10,
    "start_time": "2022-08-16T16:25:16.169Z"
   },
   {
    "duration": 16,
    "start_time": "2022-08-16T16:25:16.181Z"
   },
   {
    "duration": 9,
    "start_time": "2022-08-16T16:25:16.199Z"
   },
   {
    "duration": 10,
    "start_time": "2022-08-16T16:25:16.210Z"
   },
   {
    "duration": 9,
    "start_time": "2022-08-16T16:25:16.238Z"
   },
   {
    "duration": 9,
    "start_time": "2022-08-16T16:25:16.248Z"
   },
   {
    "duration": 12,
    "start_time": "2022-08-16T16:25:16.258Z"
   },
   {
    "duration": 287,
    "start_time": "2022-08-16T16:25:16.271Z"
   },
   {
    "duration": 13,
    "start_time": "2022-08-16T16:25:16.559Z"
   },
   {
    "duration": 299,
    "start_time": "2022-08-16T16:25:16.574Z"
   },
   {
    "duration": 1045,
    "start_time": "2022-08-16T16:42:29.581Z"
   },
   {
    "duration": 70,
    "start_time": "2022-08-16T16:42:30.628Z"
   },
   {
    "duration": 12,
    "start_time": "2022-08-16T16:42:30.699Z"
   },
   {
    "duration": 18,
    "start_time": "2022-08-16T16:42:30.712Z"
   },
   {
    "duration": 17,
    "start_time": "2022-08-16T16:42:30.731Z"
   },
   {
    "duration": 11,
    "start_time": "2022-08-16T16:42:30.749Z"
   },
   {
    "duration": 12,
    "start_time": "2022-08-16T16:42:30.761Z"
   },
   {
    "duration": 11,
    "start_time": "2022-08-16T16:42:30.774Z"
   },
   {
    "duration": 221,
    "start_time": "2022-08-16T16:42:30.786Z"
   },
   {
    "duration": 14,
    "start_time": "2022-08-16T16:42:31.009Z"
   },
   {
    "duration": 134,
    "start_time": "2022-08-16T16:42:31.025Z"
   },
   {
    "duration": 300,
    "start_time": "2022-08-16T16:42:31.161Z"
   },
   {
    "duration": 18,
    "start_time": "2022-08-16T16:42:31.463Z"
   },
   {
    "duration": 21,
    "start_time": "2022-08-16T16:42:31.483Z"
   },
   {
    "duration": 9,
    "start_time": "2022-08-16T16:42:31.505Z"
   },
   {
    "duration": 929,
    "start_time": "2022-08-16T16:42:31.516Z"
   },
   {
    "duration": 14,
    "start_time": "2022-08-16T16:42:32.446Z"
   },
   {
    "duration": 195,
    "start_time": "2022-08-16T16:42:32.461Z"
   },
   {
    "duration": 472,
    "start_time": "2022-08-16T16:42:32.658Z"
   },
   {
    "duration": 16,
    "start_time": "2022-08-16T16:42:33.132Z"
   },
   {
    "duration": 31,
    "start_time": "2022-08-16T16:42:33.149Z"
   },
   {
    "duration": 8,
    "start_time": "2022-08-16T16:42:33.182Z"
   },
   {
    "duration": 12,
    "start_time": "2022-08-16T16:42:33.192Z"
   },
   {
    "duration": 245,
    "start_time": "2022-08-16T16:42:33.205Z"
   },
   {
    "duration": 1306,
    "start_time": "2022-08-16T16:42:33.451Z"
   },
   {
    "duration": 14,
    "start_time": "2022-08-16T16:42:34.759Z"
   },
   {
    "duration": 2766,
    "start_time": "2022-08-16T16:42:34.774Z"
   },
   {
    "duration": 26,
    "start_time": "2022-08-16T16:42:37.543Z"
   },
   {
    "duration": 11,
    "start_time": "2022-08-16T16:42:37.570Z"
   },
   {
    "duration": 198,
    "start_time": "2022-08-16T16:42:37.583Z"
   },
   {
    "duration": 11,
    "start_time": "2022-08-16T16:42:37.782Z"
   },
   {
    "duration": 18,
    "start_time": "2022-08-16T16:42:37.794Z"
   },
   {
    "duration": 23,
    "start_time": "2022-08-16T16:42:37.814Z"
   },
   {
    "duration": 28,
    "start_time": "2022-08-16T16:42:37.839Z"
   },
   {
    "duration": 21,
    "start_time": "2022-08-16T16:42:37.868Z"
   },
   {
    "duration": 17,
    "start_time": "2022-08-16T16:42:37.891Z"
   },
   {
    "duration": 23,
    "start_time": "2022-08-16T16:42:37.909Z"
   },
   {
    "duration": 276,
    "start_time": "2022-08-16T16:42:37.934Z"
   },
   {
    "duration": 13,
    "start_time": "2022-08-16T16:42:38.212Z"
   },
   {
    "duration": 294,
    "start_time": "2022-08-16T16:42:38.226Z"
   },
   {
    "duration": 283,
    "start_time": "2022-08-16T16:46:40.852Z"
   },
   {
    "duration": 1067,
    "start_time": "2022-08-16T16:50:04.786Z"
   },
   {
    "duration": 66,
    "start_time": "2022-08-16T16:50:05.855Z"
   },
   {
    "duration": 13,
    "start_time": "2022-08-16T16:50:05.923Z"
   },
   {
    "duration": 13,
    "start_time": "2022-08-16T16:50:05.938Z"
   },
   {
    "duration": 16,
    "start_time": "2022-08-16T16:50:05.953Z"
   },
   {
    "duration": 13,
    "start_time": "2022-08-16T16:50:05.971Z"
   },
   {
    "duration": 12,
    "start_time": "2022-08-16T16:50:05.985Z"
   },
   {
    "duration": 41,
    "start_time": "2022-08-16T16:50:05.998Z"
   },
   {
    "duration": 241,
    "start_time": "2022-08-16T16:50:06.041Z"
   },
   {
    "duration": 13,
    "start_time": "2022-08-16T16:50:06.284Z"
   },
   {
    "duration": 133,
    "start_time": "2022-08-16T16:50:06.298Z"
   },
   {
    "duration": 245,
    "start_time": "2022-08-16T16:50:06.432Z"
   },
   {
    "duration": 18,
    "start_time": "2022-08-16T16:50:06.679Z"
   },
   {
    "duration": 20,
    "start_time": "2022-08-16T16:50:06.699Z"
   },
   {
    "duration": 8,
    "start_time": "2022-08-16T16:50:06.738Z"
   },
   {
    "duration": 765,
    "start_time": "2022-08-16T16:50:06.748Z"
   },
   {
    "duration": 15,
    "start_time": "2022-08-16T16:50:07.514Z"
   },
   {
    "duration": 199,
    "start_time": "2022-08-16T16:50:07.531Z"
   },
   {
    "duration": 463,
    "start_time": "2022-08-16T16:50:07.738Z"
   },
   {
    "duration": 12,
    "start_time": "2022-08-16T16:50:08.202Z"
   },
   {
    "duration": 32,
    "start_time": "2022-08-16T16:50:08.216Z"
   },
   {
    "duration": 8,
    "start_time": "2022-08-16T16:50:08.250Z"
   },
   {
    "duration": 12,
    "start_time": "2022-08-16T16:50:08.260Z"
   },
   {
    "duration": 243,
    "start_time": "2022-08-16T16:50:08.273Z"
   },
   {
    "duration": 1540,
    "start_time": "2022-08-16T16:50:08.517Z"
   },
   {
    "duration": 13,
    "start_time": "2022-08-16T16:50:10.058Z"
   },
   {
    "duration": 2720,
    "start_time": "2022-08-16T16:50:10.072Z"
   },
   {
    "duration": 27,
    "start_time": "2022-08-16T16:50:12.795Z"
   },
   {
    "duration": 21,
    "start_time": "2022-08-16T16:50:12.823Z"
   },
   {
    "duration": 178,
    "start_time": "2022-08-16T16:50:12.846Z"
   },
   {
    "duration": 16,
    "start_time": "2022-08-16T16:50:13.025Z"
   },
   {
    "duration": 13,
    "start_time": "2022-08-16T16:50:13.043Z"
   },
   {
    "duration": 9,
    "start_time": "2022-08-16T16:50:13.058Z"
   },
   {
    "duration": 10,
    "start_time": "2022-08-16T16:50:13.069Z"
   },
   {
    "duration": 11,
    "start_time": "2022-08-16T16:50:13.081Z"
   },
   {
    "duration": 8,
    "start_time": "2022-08-16T16:50:13.093Z"
   },
   {
    "duration": 10,
    "start_time": "2022-08-16T16:50:13.102Z"
   },
   {
    "duration": 287,
    "start_time": "2022-08-16T16:50:13.113Z"
   },
   {
    "duration": 13,
    "start_time": "2022-08-16T16:50:13.401Z"
   },
   {
    "duration": 299,
    "start_time": "2022-08-16T16:50:13.415Z"
   },
   {
    "duration": 1071,
    "start_time": "2022-08-16T16:52:34.754Z"
   },
   {
    "duration": 65,
    "start_time": "2022-08-16T16:52:35.826Z"
   },
   {
    "duration": 11,
    "start_time": "2022-08-16T16:52:35.892Z"
   },
   {
    "duration": 11,
    "start_time": "2022-08-16T16:52:35.905Z"
   },
   {
    "duration": 15,
    "start_time": "2022-08-16T16:52:35.918Z"
   },
   {
    "duration": 12,
    "start_time": "2022-08-16T16:52:35.937Z"
   },
   {
    "duration": 11,
    "start_time": "2022-08-16T16:52:35.950Z"
   },
   {
    "duration": 12,
    "start_time": "2022-08-16T16:52:35.962Z"
   },
   {
    "duration": 234,
    "start_time": "2022-08-16T16:52:35.976Z"
   },
   {
    "duration": 12,
    "start_time": "2022-08-16T16:52:36.212Z"
   },
   {
    "duration": 119,
    "start_time": "2022-08-16T16:52:36.225Z"
   },
   {
    "duration": 245,
    "start_time": "2022-08-16T16:52:36.345Z"
   },
   {
    "duration": 21,
    "start_time": "2022-08-16T16:52:36.591Z"
   },
   {
    "duration": 35,
    "start_time": "2022-08-16T16:52:36.615Z"
   },
   {
    "duration": 8,
    "start_time": "2022-08-16T16:52:36.651Z"
   },
   {
    "duration": 769,
    "start_time": "2022-08-16T16:52:36.660Z"
   },
   {
    "duration": 14,
    "start_time": "2022-08-16T16:52:37.430Z"
   },
   {
    "duration": 187,
    "start_time": "2022-08-16T16:52:37.446Z"
   },
   {
    "duration": 485,
    "start_time": "2022-08-16T16:52:37.637Z"
   },
   {
    "duration": 14,
    "start_time": "2022-08-16T16:52:38.124Z"
   },
   {
    "duration": 30,
    "start_time": "2022-08-16T16:52:38.140Z"
   },
   {
    "duration": 12,
    "start_time": "2022-08-16T16:52:38.172Z"
   },
   {
    "duration": 22,
    "start_time": "2022-08-16T16:52:38.186Z"
   },
   {
    "duration": 243,
    "start_time": "2022-08-16T16:52:38.209Z"
   },
   {
    "duration": 1092,
    "start_time": "2022-08-16T16:52:38.454Z"
   },
   {
    "duration": 14,
    "start_time": "2022-08-16T16:52:39.548Z"
   },
   {
    "duration": 2054,
    "start_time": "2022-08-16T16:52:39.563Z"
   },
   {
    "duration": 32,
    "start_time": "2022-08-16T16:52:41.619Z"
   },
   {
    "duration": 10,
    "start_time": "2022-08-16T16:52:41.653Z"
   },
   {
    "duration": 198,
    "start_time": "2022-08-16T16:52:41.665Z"
   },
   {
    "duration": 11,
    "start_time": "2022-08-16T16:52:41.864Z"
   },
   {
    "duration": 22,
    "start_time": "2022-08-16T16:52:41.876Z"
   },
   {
    "duration": 9,
    "start_time": "2022-08-16T16:52:41.900Z"
   },
   {
    "duration": 27,
    "start_time": "2022-08-16T16:52:41.911Z"
   },
   {
    "duration": 9,
    "start_time": "2022-08-16T16:52:41.940Z"
   },
   {
    "duration": 14,
    "start_time": "2022-08-16T16:52:41.950Z"
   },
   {
    "duration": 15,
    "start_time": "2022-08-16T16:52:41.965Z"
   },
   {
    "duration": 302,
    "start_time": "2022-08-16T16:52:41.981Z"
   },
   {
    "duration": 13,
    "start_time": "2022-08-16T16:52:42.284Z"
   },
   {
    "duration": 288,
    "start_time": "2022-08-16T16:52:42.299Z"
   }
  ],
  "kernelspec": {
   "display_name": "Python 3 (ipykernel)",
   "language": "python",
   "name": "python3"
  },
  "language_info": {
   "codemirror_mode": {
    "name": "ipython",
    "version": 3
   },
   "file_extension": ".py",
   "mimetype": "text/x-python",
   "name": "python",
   "nbconvert_exporter": "python",
   "pygments_lexer": "ipython3",
   "version": "3.9.7"
  },
  "toc": {
   "base_numbering": 1,
   "nav_menu": {},
   "number_sections": false,
   "sideBar": true,
   "skip_h1_title": false,
   "title_cell": "Содержание",
   "title_sidebar": "Contents",
   "toc_cell": true,
   "toc_position": {
    "height": "calc(100% - 180px)",
    "left": "10px",
    "top": "150px",
    "width": "165px"
   },
   "toc_section_display": true,
   "toc_window_display": true
  }
 },
 "nbformat": 4,
 "nbformat_minor": 2
}
