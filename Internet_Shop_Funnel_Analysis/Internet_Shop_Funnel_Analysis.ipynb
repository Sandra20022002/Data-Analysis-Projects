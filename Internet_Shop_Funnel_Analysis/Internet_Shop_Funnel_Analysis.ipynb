{
 "cells": [
  {
   "cell_type": "markdown",
   "metadata": {},
   "source": [
    "# Анализ данных для интернет-магазина продуктов питания"
   ]
  },
  {
   "cell_type": "markdown",
   "metadata": {},
   "source": [
    "Заказчик исследования - стартап, который продает продукты питания онлайн. Цель анализа - разобраться в поведении пользователей мобильного приложения, построить воронку продаж и исследовать результаты A/A/B-эксперимента,  где тестировались разные шрифты."
   ]
  },
  {
   "cell_type": "markdown",
   "metadata": {
    "toc": true
   },
   "source": [
    "<h1>Содержание<span class=\"tocSkip\"></span></h1>\n",
    "<div class=\"toc\"><ul class=\"toc-item\"><li><span><a href=\"#План-работ:\" data-toc-modified-id=\"План-работ:-1\">План работ:</a></span></li><li><span><a href=\"#Описание-данных\" data-toc-modified-id=\"Описание-данных-2\">Описание данных</a></span></li><li><span><a href=\"#Общая-информация\" data-toc-modified-id=\"Общая-информация-3\">Общая информация</a></span></li><li><span><a href=\"#Изучение-и-проверка-данных\" data-toc-modified-id=\"Изучение-и-проверка-данных-4\">Изучение и проверка данных</a></span></li><li><span><a href=\"#Воронка-продаж\" data-toc-modified-id=\"Воронка-продаж-5\">Воронка продаж</a></span><ul class=\"toc-item\"><li><span><a href=\"#Уникальные-пользователи-и-пересечения-id\" data-toc-modified-id=\"Уникальные-пользователи-и-пересечения-id-5.1\">Уникальные пользователи и пересечения id</a></span></li><li><span><a href=\"#Воронка-продаж\" data-toc-modified-id=\"Воронка-продаж-5.2\">Воронка продаж</a></span></li></ul></li><li><span><a href=\"#Результаты-эксперимента\" data-toc-modified-id=\"Результаты-эксперимента-6\">Результаты эксперимента</a></span><ul class=\"toc-item\"><li><span><a href=\"#Проверка-групп-246-и-247-по-всем-событиям\" data-toc-modified-id=\"Проверка-групп-246-и-247-по-всем-событиям-6.1\">Проверка групп 246 и 247 по всем событиям</a></span></li><li><span><a href=\"#Проверка-групп-246-и-248-по-всем-событиям\" data-toc-modified-id=\"Проверка-групп-246-и-248-по-всем-событиям-6.2\">Проверка групп 246 и 248 по всем событиям</a></span></li><li><span><a href=\"#Проверка-групп-247-и-248-по-всем-событиям\" data-toc-modified-id=\"Проверка-групп-247-и-248-по-всем-событиям-6.3\">Проверка групп 247 и 248 по всем событиям</a></span></li><li><span><a href=\"#Проверка-групп-246+247-и-248-по-всем-событиям\" data-toc-modified-id=\"Проверка-групп-246+247-и-248-по-всем-событиям-6.4\">Проверка групп 246+247 и 248 по всем событиям</a></span></li></ul></li><li><span><a href=\"#Вывод:\" data-toc-modified-id=\"Вывод:-7\">Вывод:</a></span><ul class=\"toc-item\"><li><span><a href=\"#Проделанные-работы:\" data-toc-modified-id=\"Проделанные-работы:-7.1\">Проделанные работы:</a></span></li><li><span><a href=\"#Заключение:\" data-toc-modified-id=\"Заключение:-7.2\">Заключение:</a></span></li></ul></li></ul></div>"
   ]
  },
  {
   "cell_type": "markdown",
   "metadata": {},
   "source": [
    "## План работ:\n",
    "\n",
    "\n",
    "- изучение общей информации\n",
    "- подготовка данных (проверка пропусков, типов данных, добавление столбца с датами)\n",
    "- изучение данных: количество событий и пользователей, среднее количество событий на пользователей, построение гистрограммы по дате и времени, фильтрация датасета по временному срезу\n",
    "- воронка событий: сортировка событий по частоте и по числу пользователей, расчет доли пользователей, которые хоть раз совершали событие, анализ количества пользователей на каждом шаге воронке и количества пользователей, которые доходят до оплаты\n",
    "- результаты A/A/B эксперимента: сравнения групп A/A, A/B и A/A/B\n",
    "- выводы\n"
   ]
  },
  {
   "cell_type": "markdown",
   "metadata": {},
   "source": [
    "## Описание данных\n",
    "Каждая запись в логе — это действие пользователя, или событие:\n",
    "\n",
    "EventName — название события;  \n",
    "DeviceIDHash — уникальный идентификатор пользователя;  \n",
    "EventTimestamp — время события;  \n",
    "ExpId — номер эксперимента: 246 и 247 — контрольные группы, а 248 — экспериментальная.  "
   ]
  },
  {
   "cell_type": "markdown",
   "metadata": {},
   "source": [
    "## Общая информация\n"
   ]
  },
  {
   "cell_type": "markdown",
   "metadata": {},
   "source": [
    "Импортируем нужные библиотеки и загрузим файл с данными:"
   ]
  },
  {
   "cell_type": "code",
   "execution_count": 1,
   "metadata": {},
   "outputs": [
    {
     "name": "stdout",
     "output_type": "stream",
     "text": [
      "Requirement already satisfied: kaleido in c:\\users\\balue\\anaconda3\\lib\\site-packages (0.2.1)\n"
     ]
    }
   ],
   "source": [
    "import pandas as pd\n",
    "import numpy as np\n",
    "\n",
    "import seaborn as sns\n",
    "import matplotlib.pyplot as plt\n",
    "\n",
    "import plotly.express as px\n",
    "from plotly import graph_objects as go\n",
    "\n",
    "import warnings\n",
    "warnings.filterwarnings(\"ignore\")\n",
    "\n",
    "import scipy.stats as stats\n",
    "import math as mth\n",
    "!pip install -U kaleido"
   ]
  },
  {
   "cell_type": "code",
   "execution_count": 2,
   "metadata": {},
   "outputs": [],
   "source": [
    "data = pd.read_csv(R'C:\\Users\\balue\\Downloads\\logs_exp.csv', sep='\\t')"
   ]
  },
  {
   "cell_type": "markdown",
   "metadata": {},
   "source": [
    "Датасет состоит из 4 столбцов с названием и временем события, id пользователя и номером эксперимента:"
   ]
  },
  {
   "cell_type": "code",
   "execution_count": 3,
   "metadata": {},
   "outputs": [
    {
     "data": {
      "text/html": [
       "<div>\n",
       "<style scoped>\n",
       "    .dataframe tbody tr th:only-of-type {\n",
       "        vertical-align: middle;\n",
       "    }\n",
       "\n",
       "    .dataframe tbody tr th {\n",
       "        vertical-align: top;\n",
       "    }\n",
       "\n",
       "    .dataframe thead th {\n",
       "        text-align: right;\n",
       "    }\n",
       "</style>\n",
       "<table border=\"1\" class=\"dataframe\">\n",
       "  <thead>\n",
       "    <tr style=\"text-align: right;\">\n",
       "      <th></th>\n",
       "      <th>EventName</th>\n",
       "      <th>DeviceIDHash</th>\n",
       "      <th>EventTimestamp</th>\n",
       "      <th>ExpId</th>\n",
       "    </tr>\n",
       "  </thead>\n",
       "  <tbody>\n",
       "    <tr>\n",
       "      <th>0</th>\n",
       "      <td>MainScreenAppear</td>\n",
       "      <td>4575588528974610257</td>\n",
       "      <td>1564029816</td>\n",
       "      <td>246</td>\n",
       "    </tr>\n",
       "    <tr>\n",
       "      <th>1</th>\n",
       "      <td>MainScreenAppear</td>\n",
       "      <td>7416695313311560658</td>\n",
       "      <td>1564053102</td>\n",
       "      <td>246</td>\n",
       "    </tr>\n",
       "    <tr>\n",
       "      <th>2</th>\n",
       "      <td>PaymentScreenSuccessful</td>\n",
       "      <td>3518123091307005509</td>\n",
       "      <td>1564054127</td>\n",
       "      <td>248</td>\n",
       "    </tr>\n",
       "    <tr>\n",
       "      <th>3</th>\n",
       "      <td>CartScreenAppear</td>\n",
       "      <td>3518123091307005509</td>\n",
       "      <td>1564054127</td>\n",
       "      <td>248</td>\n",
       "    </tr>\n",
       "    <tr>\n",
       "      <th>4</th>\n",
       "      <td>PaymentScreenSuccessful</td>\n",
       "      <td>6217807653094995999</td>\n",
       "      <td>1564055322</td>\n",
       "      <td>248</td>\n",
       "    </tr>\n",
       "  </tbody>\n",
       "</table>\n",
       "</div>"
      ],
      "text/plain": [
       "                 EventName         DeviceIDHash  EventTimestamp  ExpId\n",
       "0         MainScreenAppear  4575588528974610257      1564029816    246\n",
       "1         MainScreenAppear  7416695313311560658      1564053102    246\n",
       "2  PaymentScreenSuccessful  3518123091307005509      1564054127    248\n",
       "3         CartScreenAppear  3518123091307005509      1564054127    248\n",
       "4  PaymentScreenSuccessful  6217807653094995999      1564055322    248"
      ]
     },
     "execution_count": 3,
     "metadata": {},
     "output_type": "execute_result"
    }
   ],
   "source": [
    "data.head()"
   ]
  },
  {
   "cell_type": "markdown",
   "metadata": {},
   "source": [
    "Всего в датасете 244126 строк:"
   ]
  },
  {
   "cell_type": "code",
   "execution_count": 4,
   "metadata": {},
   "outputs": [
    {
     "name": "stdout",
     "output_type": "stream",
     "text": [
      "<class 'pandas.core.frame.DataFrame'>\n",
      "RangeIndex: 244126 entries, 0 to 244125\n",
      "Data columns (total 4 columns):\n",
      " #   Column          Non-Null Count   Dtype \n",
      "---  ------          --------------   ----- \n",
      " 0   EventName       244126 non-null  object\n",
      " 1   DeviceIDHash    244126 non-null  int64 \n",
      " 2   EventTimestamp  244126 non-null  int64 \n",
      " 3   ExpId           244126 non-null  int64 \n",
      "dtypes: int64(3), object(1)\n",
      "memory usage: 7.5+ MB\n"
     ]
    }
   ],
   "source": [
    "data.info()"
   ]
  },
  {
   "cell_type": "markdown",
   "metadata": {},
   "source": [
    "Убедимся, что пропусков нет:"
   ]
  },
  {
   "cell_type": "code",
   "execution_count": 5,
   "metadata": {},
   "outputs": [
    {
     "data": {
      "text/plain": [
       "EventName         0\n",
       "DeviceIDHash      0\n",
       "EventTimestamp    0\n",
       "ExpId             0\n",
       "dtype: int64"
      ]
     },
     "execution_count": 5,
     "metadata": {},
     "output_type": "execute_result"
    }
   ],
   "source": [
    "data.isna().sum()"
   ]
  },
  {
   "cell_type": "markdown",
   "metadata": {},
   "source": [
    "В датасете обнаружено 413 дубликатов, которые лучше удалить:"
   ]
  },
  {
   "cell_type": "code",
   "execution_count": 6,
   "metadata": {},
   "outputs": [
    {
     "data": {
      "text/plain": [
       "413"
      ]
     },
     "execution_count": 6,
     "metadata": {},
     "output_type": "execute_result"
    }
   ],
   "source": [
    "data.duplicated().sum()"
   ]
  },
  {
   "cell_type": "code",
   "execution_count": 7,
   "metadata": {},
   "outputs": [
    {
     "data": {
      "text/plain": [
       "0"
      ]
     },
     "execution_count": 7,
     "metadata": {},
     "output_type": "execute_result"
    }
   ],
   "source": [
    "data = data.drop_duplicates()\n",
    "data.duplicated().sum()"
   ]
  },
  {
   "cell_type": "markdown",
   "metadata": {},
   "source": [
    "Для удобства переименуем столбцы:"
   ]
  },
  {
   "cell_type": "code",
   "execution_count": 8,
   "metadata": {},
   "outputs": [],
   "source": [
    "data.rename(\n",
    "    columns={'EventName' : 'event_name', 'DeviceIDHash' : 'user_id', \n",
    "             'EventTimestamp' : 'event_timestamp', 'ExpId' : 'exp_id'}, inplace=True)\n"
   ]
  },
  {
   "cell_type": "code",
   "execution_count": 9,
   "metadata": {},
   "outputs": [
    {
     "data": {
      "text/html": [
       "<div>\n",
       "<style scoped>\n",
       "    .dataframe tbody tr th:only-of-type {\n",
       "        vertical-align: middle;\n",
       "    }\n",
       "\n",
       "    .dataframe tbody tr th {\n",
       "        vertical-align: top;\n",
       "    }\n",
       "\n",
       "    .dataframe thead th {\n",
       "        text-align: right;\n",
       "    }\n",
       "</style>\n",
       "<table border=\"1\" class=\"dataframe\">\n",
       "  <thead>\n",
       "    <tr style=\"text-align: right;\">\n",
       "      <th></th>\n",
       "      <th>event_name</th>\n",
       "      <th>user_id</th>\n",
       "      <th>event_timestamp</th>\n",
       "      <th>exp_id</th>\n",
       "    </tr>\n",
       "  </thead>\n",
       "  <tbody>\n",
       "    <tr>\n",
       "      <th>0</th>\n",
       "      <td>MainScreenAppear</td>\n",
       "      <td>4575588528974610257</td>\n",
       "      <td>1564029816</td>\n",
       "      <td>246</td>\n",
       "    </tr>\n",
       "    <tr>\n",
       "      <th>1</th>\n",
       "      <td>MainScreenAppear</td>\n",
       "      <td>7416695313311560658</td>\n",
       "      <td>1564053102</td>\n",
       "      <td>246</td>\n",
       "    </tr>\n",
       "    <tr>\n",
       "      <th>2</th>\n",
       "      <td>PaymentScreenSuccessful</td>\n",
       "      <td>3518123091307005509</td>\n",
       "      <td>1564054127</td>\n",
       "      <td>248</td>\n",
       "    </tr>\n",
       "    <tr>\n",
       "      <th>3</th>\n",
       "      <td>CartScreenAppear</td>\n",
       "      <td>3518123091307005509</td>\n",
       "      <td>1564054127</td>\n",
       "      <td>248</td>\n",
       "    </tr>\n",
       "    <tr>\n",
       "      <th>4</th>\n",
       "      <td>PaymentScreenSuccessful</td>\n",
       "      <td>6217807653094995999</td>\n",
       "      <td>1564055322</td>\n",
       "      <td>248</td>\n",
       "    </tr>\n",
       "  </tbody>\n",
       "</table>\n",
       "</div>"
      ],
      "text/plain": [
       "                event_name              user_id  event_timestamp  exp_id\n",
       "0         MainScreenAppear  4575588528974610257       1564029816     246\n",
       "1         MainScreenAppear  7416695313311560658       1564053102     246\n",
       "2  PaymentScreenSuccessful  3518123091307005509       1564054127     248\n",
       "3         CartScreenAppear  3518123091307005509       1564054127     248\n",
       "4  PaymentScreenSuccessful  6217807653094995999       1564055322     248"
      ]
     },
     "execution_count": 9,
     "metadata": {},
     "output_type": "execute_result"
    }
   ],
   "source": [
    "data.head()"
   ]
  },
  {
   "cell_type": "markdown",
   "metadata": {},
   "source": [
    "Создадим столбец даты и времени, а также отдельный столбец дат:"
   ]
  },
  {
   "cell_type": "code",
   "execution_count": 10,
   "metadata": {},
   "outputs": [],
   "source": [
    "data['event_timestamp'] = pd.to_datetime(data['event_timestamp'],  unit='s')\n",
    "data['date'] = data['event_timestamp'].dt.floor('D')\n"
   ]
  },
  {
   "cell_type": "code",
   "execution_count": 11,
   "metadata": {},
   "outputs": [
    {
     "data": {
      "text/html": [
       "<div>\n",
       "<style scoped>\n",
       "    .dataframe tbody tr th:only-of-type {\n",
       "        vertical-align: middle;\n",
       "    }\n",
       "\n",
       "    .dataframe tbody tr th {\n",
       "        vertical-align: top;\n",
       "    }\n",
       "\n",
       "    .dataframe thead th {\n",
       "        text-align: right;\n",
       "    }\n",
       "</style>\n",
       "<table border=\"1\" class=\"dataframe\">\n",
       "  <thead>\n",
       "    <tr style=\"text-align: right;\">\n",
       "      <th></th>\n",
       "      <th>event_name</th>\n",
       "      <th>user_id</th>\n",
       "      <th>event_timestamp</th>\n",
       "      <th>exp_id</th>\n",
       "      <th>date</th>\n",
       "    </tr>\n",
       "  </thead>\n",
       "  <tbody>\n",
       "    <tr>\n",
       "      <th>0</th>\n",
       "      <td>MainScreenAppear</td>\n",
       "      <td>4575588528974610257</td>\n",
       "      <td>2019-07-25 04:43:36</td>\n",
       "      <td>246</td>\n",
       "      <td>2019-07-25</td>\n",
       "    </tr>\n",
       "    <tr>\n",
       "      <th>1</th>\n",
       "      <td>MainScreenAppear</td>\n",
       "      <td>7416695313311560658</td>\n",
       "      <td>2019-07-25 11:11:42</td>\n",
       "      <td>246</td>\n",
       "      <td>2019-07-25</td>\n",
       "    </tr>\n",
       "    <tr>\n",
       "      <th>2</th>\n",
       "      <td>PaymentScreenSuccessful</td>\n",
       "      <td>3518123091307005509</td>\n",
       "      <td>2019-07-25 11:28:47</td>\n",
       "      <td>248</td>\n",
       "      <td>2019-07-25</td>\n",
       "    </tr>\n",
       "    <tr>\n",
       "      <th>3</th>\n",
       "      <td>CartScreenAppear</td>\n",
       "      <td>3518123091307005509</td>\n",
       "      <td>2019-07-25 11:28:47</td>\n",
       "      <td>248</td>\n",
       "      <td>2019-07-25</td>\n",
       "    </tr>\n",
       "    <tr>\n",
       "      <th>4</th>\n",
       "      <td>PaymentScreenSuccessful</td>\n",
       "      <td>6217807653094995999</td>\n",
       "      <td>2019-07-25 11:48:42</td>\n",
       "      <td>248</td>\n",
       "      <td>2019-07-25</td>\n",
       "    </tr>\n",
       "  </tbody>\n",
       "</table>\n",
       "</div>"
      ],
      "text/plain": [
       "                event_name              user_id     event_timestamp  exp_id  \\\n",
       "0         MainScreenAppear  4575588528974610257 2019-07-25 04:43:36     246   \n",
       "1         MainScreenAppear  7416695313311560658 2019-07-25 11:11:42     246   \n",
       "2  PaymentScreenSuccessful  3518123091307005509 2019-07-25 11:28:47     248   \n",
       "3         CartScreenAppear  3518123091307005509 2019-07-25 11:28:47     248   \n",
       "4  PaymentScreenSuccessful  6217807653094995999 2019-07-25 11:48:42     248   \n",
       "\n",
       "        date  \n",
       "0 2019-07-25  \n",
       "1 2019-07-25  \n",
       "2 2019-07-25  \n",
       "3 2019-07-25  \n",
       "4 2019-07-25  "
      ]
     },
     "execution_count": 11,
     "metadata": {},
     "output_type": "execute_result"
    }
   ],
   "source": [
    "data.head()"
   ]
  },
  {
   "cell_type": "markdown",
   "metadata": {},
   "source": [
    "Проверим уникальные значения категориальных данных:"
   ]
  },
  {
   "cell_type": "code",
   "execution_count": 12,
   "metadata": {},
   "outputs": [
    {
     "data": {
      "text/plain": [
       "array(['MainScreenAppear', 'PaymentScreenSuccessful', 'CartScreenAppear',\n",
       "       'OffersScreenAppear', 'Tutorial'], dtype=object)"
      ]
     },
     "execution_count": 12,
     "metadata": {},
     "output_type": "execute_result"
    }
   ],
   "source": [
    "data['event_name'].unique()"
   ]
  },
  {
   "cell_type": "markdown",
   "metadata": {},
   "source": [
    "## Изучение и проверка данных\n",
    "\n",
    "\n",
    "\n",
    "Изучим данные:"
   ]
  },
  {
   "cell_type": "markdown",
   "metadata": {},
   "source": [
    "Всего событий в логе 243713:"
   ]
  },
  {
   "cell_type": "code",
   "execution_count": 13,
   "metadata": {},
   "outputs": [
    {
     "data": {
      "text/plain": [
       "243713"
      ]
     },
     "execution_count": 13,
     "metadata": {},
     "output_type": "execute_result"
    }
   ],
   "source": [
    "data['event_name'].count()"
   ]
  },
  {
   "cell_type": "markdown",
   "metadata": {},
   "source": [
    "События распределены по типам следующим образом:"
   ]
  },
  {
   "cell_type": "code",
   "execution_count": 14,
   "metadata": {},
   "outputs": [
    {
     "data": {
      "text/plain": [
       "MainScreenAppear           119101\n",
       "OffersScreenAppear          46808\n",
       "CartScreenAppear            42668\n",
       "PaymentScreenSuccessful     34118\n",
       "Tutorial                     1018\n",
       "Name: event_name, dtype: int64"
      ]
     },
     "execution_count": 14,
     "metadata": {},
     "output_type": "execute_result"
    }
   ],
   "source": [
    "data['event_name'].value_counts()"
   ]
  },
  {
   "cell_type": "markdown",
   "metadata": {},
   "source": [
    "Уникальных пользователей в логе 7551 человек:"
   ]
  },
  {
   "cell_type": "code",
   "execution_count": 15,
   "metadata": {},
   "outputs": [
    {
     "data": {
      "text/plain": [
       "7551"
      ]
     },
     "execution_count": 15,
     "metadata": {},
     "output_type": "execute_result"
    }
   ],
   "source": [
    "data['user_id'].nunique()"
   ]
  },
  {
   "cell_type": "markdown",
   "metadata": {},
   "source": [
    "В среднем на пользователя приходится 32 события:"
   ]
  },
  {
   "cell_type": "code",
   "execution_count": 16,
   "metadata": {},
   "outputs": [
    {
     "data": {
      "text/plain": [
       "32"
      ]
     },
     "execution_count": 16,
     "metadata": {},
     "output_type": "execute_result"
    }
   ],
   "source": [
    "avg_events = data['event_name'].count() / data['user_id'].nunique()\n",
    "round(avg_events)"
   ]
  },
  {
   "cell_type": "markdown",
   "metadata": {},
   "source": [
    "Мы располагаем данными с 25 июля 2019 по 7 августа 2019:"
   ]
  },
  {
   "cell_type": "code",
   "execution_count": 17,
   "metadata": {},
   "outputs": [
    {
     "name": "stdout",
     "output_type": "stream",
     "text": [
      "2019-07-25 00:00:00\n",
      "2019-08-07 00:00:00\n"
     ]
    }
   ],
   "source": [
    "# найдем минимальную и максимальную дату в логе\n",
    "print (data['date'].min())\n",
    "print (data['date'].max())"
   ]
  },
  {
   "cell_type": "markdown",
   "metadata": {},
   "source": [
    "Построим гистограмму распределения событий по времени:"
   ]
  },
  {
   "cell_type": "code",
   "execution_count": 18,
   "metadata": {},
   "outputs": [
    {
     "data": {
      "image/png": "[encoded data removed]",
      "text/plain": [
       "<Figure size 1080x504 with 1 Axes>"
      ]
     },
     "metadata": {
      "needs_background": "light"
     },
     "output_type": "display_data"
    }
   ],
   "source": [
    "data['event_timestamp'].hist(figsize=(15, 7), bins=100)\n",
    "plt.title('Количество пользователей  в приложении по дате и времени сесссии', fontsize=22)\n",
    "plt.xticks(rotation=45)\n",
    "plt.ylabel('Количество пользователей');"
   ]
  },
  {
   "cell_type": "markdown",
   "metadata": {},
   "source": [
    "Видно, что большая часть событий приходится на период с 01 по 07 августа 2019. Пики использования приложения относятся к дневному времени. Видимо, переданный лог содержит неполные данные, так как в нем содержится очень мало событий, произошедших до 01 августа 2019.\n",
    "\n",
    "Построим таблицу с количеством  пользователей по дням:"
   ]
  },
  {
   "cell_type": "code",
   "execution_count": 19,
   "metadata": {},
   "outputs": [
    {
     "data": {
      "text/html": [
       "<div>\n",
       "<style scoped>\n",
       "    .dataframe tbody tr th:only-of-type {\n",
       "        vertical-align: middle;\n",
       "    }\n",
       "\n",
       "    .dataframe tbody tr th {\n",
       "        vertical-align: top;\n",
       "    }\n",
       "\n",
       "    .dataframe thead th {\n",
       "        text-align: right;\n",
       "    }\n",
       "</style>\n",
       "<table border=\"1\" class=\"dataframe\">\n",
       "  <thead>\n",
       "    <tr style=\"text-align: right;\">\n",
       "      <th></th>\n",
       "      <th>date</th>\n",
       "      <th>user_id</th>\n",
       "    </tr>\n",
       "  </thead>\n",
       "  <tbody>\n",
       "    <tr>\n",
       "      <th>0</th>\n",
       "      <td>2019-07-25</td>\n",
       "      <td>9</td>\n",
       "    </tr>\n",
       "    <tr>\n",
       "      <th>1</th>\n",
       "      <td>2019-07-26</td>\n",
       "      <td>31</td>\n",
       "    </tr>\n",
       "    <tr>\n",
       "      <th>2</th>\n",
       "      <td>2019-07-27</td>\n",
       "      <td>55</td>\n",
       "    </tr>\n",
       "    <tr>\n",
       "      <th>3</th>\n",
       "      <td>2019-07-28</td>\n",
       "      <td>105</td>\n",
       "    </tr>\n",
       "    <tr>\n",
       "      <th>4</th>\n",
       "      <td>2019-07-29</td>\n",
       "      <td>184</td>\n",
       "    </tr>\n",
       "    <tr>\n",
       "      <th>5</th>\n",
       "      <td>2019-07-30</td>\n",
       "      <td>412</td>\n",
       "    </tr>\n",
       "    <tr>\n",
       "      <th>6</th>\n",
       "      <td>2019-07-31</td>\n",
       "      <td>2030</td>\n",
       "    </tr>\n",
       "    <tr>\n",
       "      <th>7</th>\n",
       "      <td>2019-08-01</td>\n",
       "      <td>36141</td>\n",
       "    </tr>\n",
       "    <tr>\n",
       "      <th>8</th>\n",
       "      <td>2019-08-02</td>\n",
       "      <td>35554</td>\n",
       "    </tr>\n",
       "    <tr>\n",
       "      <th>9</th>\n",
       "      <td>2019-08-03</td>\n",
       "      <td>33282</td>\n",
       "    </tr>\n",
       "    <tr>\n",
       "      <th>10</th>\n",
       "      <td>2019-08-04</td>\n",
       "      <td>32968</td>\n",
       "    </tr>\n",
       "    <tr>\n",
       "      <th>11</th>\n",
       "      <td>2019-08-05</td>\n",
       "      <td>36058</td>\n",
       "    </tr>\n",
       "    <tr>\n",
       "      <th>12</th>\n",
       "      <td>2019-08-06</td>\n",
       "      <td>35788</td>\n",
       "    </tr>\n",
       "    <tr>\n",
       "      <th>13</th>\n",
       "      <td>2019-08-07</td>\n",
       "      <td>31096</td>\n",
       "    </tr>\n",
       "  </tbody>\n",
       "</table>\n",
       "</div>"
      ],
      "text/plain": [
       "         date  user_id\n",
       "0  2019-07-25        9\n",
       "1  2019-07-26       31\n",
       "2  2019-07-27       55\n",
       "3  2019-07-28      105\n",
       "4  2019-07-29      184\n",
       "5  2019-07-30      412\n",
       "6  2019-07-31     2030\n",
       "7  2019-08-01    36141\n",
       "8  2019-08-02    35554\n",
       "9  2019-08-03    33282\n",
       "10 2019-08-04    32968\n",
       "11 2019-08-05    36058\n",
       "12 2019-08-06    35788\n",
       "13 2019-08-07    31096"
      ]
     },
     "execution_count": 19,
     "metadata": {},
     "output_type": "execute_result"
    }
   ],
   "source": [
    "data_by_dates = data.pivot_table(index='date', values='user_id', aggfunc='count').reset_index()\n",
    "data_by_dates"
   ]
  },
  {
   "cell_type": "markdown",
   "metadata": {},
   "source": [
    "Видно, что полные данные собраны в период с 01 по 07 августа. Поэтому отфильтруем датасет и  продолжим работу только с этим временным отрезком.\n",
    "\n",
    "После фильтрации осталось 240887 событий:"
   ]
  },
  {
   "cell_type": "code",
   "execution_count": 20,
   "metadata": {},
   "outputs": [
    {
     "data": {
      "text/plain": [
       "240887"
      ]
     },
     "execution_count": 20,
     "metadata": {},
     "output_type": "execute_result"
    }
   ],
   "source": [
    "data_filtered = data.query('date > \"2019-07-31\"')\n",
    "\n",
    "data_filtered['event_name'].count() "
   ]
  },
  {
   "cell_type": "markdown",
   "metadata": {},
   "source": [
    "После фильтрации осталось 7534 уникальных пользователя:"
   ]
  },
  {
   "cell_type": "code",
   "execution_count": 21,
   "metadata": {},
   "outputs": [
    {
     "data": {
      "text/plain": [
       "7534"
      ]
     },
     "execution_count": 21,
     "metadata": {},
     "output_type": "execute_result"
    }
   ],
   "source": [
    "data_filtered['user_id'].nunique()"
   ]
  },
  {
   "cell_type": "markdown",
   "metadata": {},
   "source": [
    "После фильтрации по датам, большая часть данных осталась в датасете (98.8% событий и 99.8% пользователей):"
   ]
  },
  {
   "cell_type": "code",
   "execution_count": 22,
   "metadata": {},
   "outputs": [
    {
     "name": "stdout",
     "output_type": "stream",
     "text": [
      "98.8\n",
      "99.8\n"
     ]
    }
   ],
   "source": [
    "print (round(data_filtered['event_name'].count() / data['event_name'].count() * 100, 1))\n",
    "print (round(data_filtered['user_id'].nunique() / data['user_id'].nunique() * 100, 1))"
   ]
  },
  {
   "cell_type": "markdown",
   "metadata": {},
   "source": [
    "Проверим, что у нас есть пользователи из всех трёх экспериментальных групп и группы схожи по размеру:"
   ]
  },
  {
   "cell_type": "code",
   "execution_count": 23,
   "metadata": {},
   "outputs": [
    {
     "data": {
      "text/html": [
       "<div>\n",
       "<style scoped>\n",
       "    .dataframe tbody tr th:only-of-type {\n",
       "        vertical-align: middle;\n",
       "    }\n",
       "\n",
       "    .dataframe tbody tr th {\n",
       "        vertical-align: top;\n",
       "    }\n",
       "\n",
       "    .dataframe thead th {\n",
       "        text-align: right;\n",
       "    }\n",
       "</style>\n",
       "<table border=\"1\" class=\"dataframe\">\n",
       "  <thead>\n",
       "    <tr style=\"text-align: right;\">\n",
       "      <th></th>\n",
       "      <th>exp_id</th>\n",
       "      <th>user_id</th>\n",
       "    </tr>\n",
       "  </thead>\n",
       "  <tbody>\n",
       "    <tr>\n",
       "      <th>0</th>\n",
       "      <td>246</td>\n",
       "      <td>2484</td>\n",
       "    </tr>\n",
       "    <tr>\n",
       "      <th>1</th>\n",
       "      <td>247</td>\n",
       "      <td>2513</td>\n",
       "    </tr>\n",
       "    <tr>\n",
       "      <th>2</th>\n",
       "      <td>248</td>\n",
       "      <td>2537</td>\n",
       "    </tr>\n",
       "  </tbody>\n",
       "</table>\n",
       "</div>"
      ],
      "text/plain": [
       "   exp_id  user_id\n",
       "0     246     2484\n",
       "1     247     2513\n",
       "2     248     2537"
      ]
     },
     "execution_count": 23,
     "metadata": {},
     "output_type": "execute_result"
    }
   ],
   "source": [
    "# создадим сводную таблицу, где количество уникальных пользователей рассчитано по группам\n",
    "data_groups = data_filtered.pivot_table(index='exp_id', values='user_id', aggfunc='nunique').reset_index()\n",
    "data_groups"
   ]
  },
  {
   "cell_type": "markdown",
   "metadata": {},
   "source": [
    "Убедмся, что не существует пользователей, которые вошли одновременно в 2 или в 3 группы:"
   ]
  },
  {
   "cell_type": "code",
   "execution_count": 24,
   "metadata": {},
   "outputs": [
    {
     "name": "stdout",
     "output_type": "stream",
     "text": [
      "[]\n",
      "[]\n",
      "[]\n"
     ]
    }
   ],
   "source": [
    "# создадим отдельные списки id участников каждой из трех групп\n",
    "group_246 = data_filtered.loc[data_filtered['exp_id'] == 246, 'user_id']\n",
    "group_247 = data_filtered.loc[data_filtered['exp_id'] == 247, 'user_id']\n",
    "group_248 = data_filtered.loc[data_filtered['exp_id'] == 248, 'user_id']\n",
    "\n",
    "# найдем пересечения, то есть id, которые встречаются хотя бы в двух группах их трех\n",
    "intersection1 = list(set(group_246) & set(group_247))\n",
    "intersection2 = list(set(group_246) & set(group_248))\n",
    "intersection3 = list(set(group_247) & set(group_248))\n",
    "\n",
    "print (intersection1)\n",
    "print (intersection2)\n",
    "print (intersection3)"
   ]
  },
  {
   "cell_type": "markdown",
   "metadata": {},
   "source": [
    "Проверим то же самое другим способом:"
   ]
  },
  {
   "cell_type": "code",
   "execution_count": 25,
   "metadata": {},
   "outputs": [
    {
     "data": {
      "text/plain": [
       "0"
      ]
     },
     "execution_count": 25,
     "metadata": {},
     "output_type": "execute_result"
    }
   ],
   "source": [
    "len(data_filtered.groupby('user_id').agg({'exp_id':'nunique'}).query('exp_id > 1'))"
   ]
  },
  {
   "cell_type": "markdown",
   "metadata": {},
   "source": [
    "Убедимся, что для всех трех групп данные собирались в один и тот же период:"
   ]
  },
  {
   "cell_type": "code",
   "execution_count": 26,
   "metadata": {},
   "outputs": [
    {
     "name": "stdout",
     "output_type": "stream",
     "text": [
      "2019-08-01 00:00:00\n",
      "2019-08-07 00:00:00\n",
      "2019-08-01 00:00:00\n",
      "2019-08-07 00:00:00\n",
      "2019-08-01 00:00:00\n",
      "2019-08-07 00:00:00\n"
     ]
    }
   ],
   "source": [
    "group_246 = data_filtered.loc[data_filtered['exp_id'] == 246, 'date']\n",
    "group_247 = data_filtered.loc[data_filtered['exp_id'] == 247, 'date']\n",
    "group_248 = data_filtered.loc[data_filtered['exp_id'] == 248, 'date']\n",
    "\n",
    "groups = [group_247, group_247, group_248]\n",
    "\n",
    "for group in groups:\n",
    "    print (group.min())\n",
    "    print (group.max())\n"
   ]
  },
  {
   "cell_type": "markdown",
   "metadata": {},
   "source": [
    "##  Воронка продаж\n"
   ]
  },
  {
   "cell_type": "markdown",
   "metadata": {},
   "source": [
    "Проверим, какие события есть в логах и как часто они встречаются. \n",
    "\n"
   ]
  },
  {
   "cell_type": "code",
   "execution_count": 27,
   "metadata": {},
   "outputs": [
    {
     "data": {
      "text/plain": [
       "MainScreenAppear           117328\n",
       "OffersScreenAppear          46333\n",
       "CartScreenAppear            42303\n",
       "PaymentScreenSuccessful     33918\n",
       "Tutorial                     1005\n",
       "Name: event_name, dtype: int64"
      ]
     },
     "execution_count": 27,
     "metadata": {},
     "output_type": "execute_result"
    }
   ],
   "source": [
    "data_filtered['event_name'].value_counts() "
   ]
  },
  {
   "cell_type": "markdown",
   "metadata": {},
   "source": [
    "Наиболее частое событие - MainScreenAppear, то есть открытие главной страницы.  \n",
    "Наименее частое - Tutorial - то есть изучение инструкций на сайте.\n",
    "\n",
    "События выстраиваются в следующем порядке:   \n",
    "MainScreenAppear ->   \n",
    "OffersScreenAppear ->   \n",
    "CartScreenAppear\t->   \n",
    "PaymentScreenSuccessful,   \n",
    "\n",
    "или:\n",
    "\n",
    "Главная страница ->    \n",
    "Страница с предложениями ->    \n",
    "Корзина ->    \n",
    "Страница успешной оплаты   \n",
    "\n",
    "Tutorial не входит в воронку покупок, поэтому в дальнейшем не будем учитывать этот этап.\n",
    "\n"
   ]
  },
  {
   "cell_type": "markdown",
   "metadata": {},
   "source": [
    "### Уникальные пользователи и пересечения id\n",
    "\n",
    "Проверим число уникальных пользователей, которые совершали то или иное действие и доли пользователей от общего числа:"
   ]
  },
  {
   "cell_type": "code",
   "execution_count": 28,
   "metadata": {},
   "outputs": [
    {
     "data": {
      "text/html": [
       "<div>\n",
       "<style scoped>\n",
       "    .dataframe tbody tr th:only-of-type {\n",
       "        vertical-align: middle;\n",
       "    }\n",
       "\n",
       "    .dataframe tbody tr th {\n",
       "        vertical-align: top;\n",
       "    }\n",
       "\n",
       "    .dataframe thead th {\n",
       "        text-align: right;\n",
       "    }\n",
       "</style>\n",
       "<table border=\"1\" class=\"dataframe\">\n",
       "  <thead>\n",
       "    <tr style=\"text-align: right;\">\n",
       "      <th></th>\n",
       "      <th>event_name</th>\n",
       "      <th>user_id</th>\n",
       "      <th>percentage</th>\n",
       "    </tr>\n",
       "  </thead>\n",
       "  <tbody>\n",
       "    <tr>\n",
       "      <th>1</th>\n",
       "      <td>MainScreenAppear</td>\n",
       "      <td>7419</td>\n",
       "      <td>98.53</td>\n",
       "    </tr>\n",
       "    <tr>\n",
       "      <th>2</th>\n",
       "      <td>OffersScreenAppear</td>\n",
       "      <td>4593</td>\n",
       "      <td>61.00</td>\n",
       "    </tr>\n",
       "    <tr>\n",
       "      <th>0</th>\n",
       "      <td>CartScreenAppear</td>\n",
       "      <td>3734</td>\n",
       "      <td>49.59</td>\n",
       "    </tr>\n",
       "    <tr>\n",
       "      <th>3</th>\n",
       "      <td>PaymentScreenSuccessful</td>\n",
       "      <td>3539</td>\n",
       "      <td>47.00</td>\n",
       "    </tr>\n",
       "  </tbody>\n",
       "</table>\n",
       "</div>"
      ],
      "text/plain": [
       "                event_name  user_id  percentage\n",
       "1         MainScreenAppear     7419       98.53\n",
       "2       OffersScreenAppear     4593       61.00\n",
       "0         CartScreenAppear     3734       49.59\n",
       "3  PaymentScreenSuccessful     3539       47.00"
      ]
     },
     "execution_count": 28,
     "metadata": {},
     "output_type": "execute_result"
    }
   ],
   "source": [
    "# исключим Tutorial из списка событий\n",
    "data_filtered = data_filtered.query('event_name != \"Tutorial\"')\n",
    "\n",
    "# отфильтруем события по числу пользователей\n",
    "data_events = data_filtered.pivot_table(index='event_name', values='user_id', aggfunc='nunique').reset_index()\n",
    "data_events  = data_events.sort_values(by='user_id', ascending=False)\n",
    "data_events['percentage'] = round(data_events['user_id'] /  data_filtered['user_id'].nunique()  * 100, 2)\n",
    "\n",
    "data_events"
   ]
  },
  {
   "cell_type": "markdown",
   "metadata": {},
   "source": [
    "Проверим число уникальных пользователей в каждой группе, которые совершали то или иное событие.   \n",
    "Видно, что количество пользователей в разных группах приблизительно одинаково:"
   ]
  },
  {
   "cell_type": "code",
   "execution_count": 29,
   "metadata": {},
   "outputs": [
    {
     "data": {
      "text/html": [
       "<div>\n",
       "<style scoped>\n",
       "    .dataframe tbody tr th:only-of-type {\n",
       "        vertical-align: middle;\n",
       "    }\n",
       "\n",
       "    .dataframe tbody tr th {\n",
       "        vertical-align: top;\n",
       "    }\n",
       "\n",
       "    .dataframe thead th {\n",
       "        text-align: right;\n",
       "    }\n",
       "</style>\n",
       "<table border=\"1\" class=\"dataframe\">\n",
       "  <thead>\n",
       "    <tr style=\"text-align: right;\">\n",
       "      <th>exp_id</th>\n",
       "      <th>event_name</th>\n",
       "      <th>246</th>\n",
       "      <th>247</th>\n",
       "      <th>248</th>\n",
       "    </tr>\n",
       "  </thead>\n",
       "  <tbody>\n",
       "    <tr>\n",
       "      <th>1</th>\n",
       "      <td>MainScreenAppear</td>\n",
       "      <td>2450</td>\n",
       "      <td>2476</td>\n",
       "      <td>2493</td>\n",
       "    </tr>\n",
       "    <tr>\n",
       "      <th>2</th>\n",
       "      <td>OffersScreenAppear</td>\n",
       "      <td>1542</td>\n",
       "      <td>1520</td>\n",
       "      <td>1531</td>\n",
       "    </tr>\n",
       "    <tr>\n",
       "      <th>0</th>\n",
       "      <td>CartScreenAppear</td>\n",
       "      <td>1266</td>\n",
       "      <td>1238</td>\n",
       "      <td>1230</td>\n",
       "    </tr>\n",
       "    <tr>\n",
       "      <th>3</th>\n",
       "      <td>PaymentScreenSuccessful</td>\n",
       "      <td>1200</td>\n",
       "      <td>1158</td>\n",
       "      <td>1181</td>\n",
       "    </tr>\n",
       "  </tbody>\n",
       "</table>\n",
       "</div>"
      ],
      "text/plain": [
       "exp_id               event_name   246   247   248\n",
       "1              MainScreenAppear  2450  2476  2493\n",
       "2            OffersScreenAppear  1542  1520  1531\n",
       "0              CartScreenAppear  1266  1238  1230\n",
       "3       PaymentScreenSuccessful  1200  1158  1181"
      ]
     },
     "execution_count": 29,
     "metadata": {},
     "output_type": "execute_result"
    }
   ],
   "source": [
    "data_events = data_filtered.pivot_table(index='event_name', values='user_id', columns='exp_id', aggfunc='nunique').reset_index()\n",
    "\n",
    "data_events.sort_values(by=246, ascending=False)"
   ]
  },
  {
   "cell_type": "markdown",
   "metadata": {},
   "source": [
    "Проверим пересечения id на разных этапах воронки. \n",
    "\n",
    "Видно, что в некоторых группах есть пользователи, которые пропускали этапы: совершали действия второго этапа, но не первого, или третьего, но не второго итд.\n",
    "\n",
    "Такой вывод можно сделать, так как количество пересекающихся id, например, между первым и вторым этапом меньше, чем общее количество id на втором этапе. Возможно, некоторые действия пользователей не вошли в наш временной срез:"
   ]
  },
  {
   "cell_type": "code",
   "execution_count": 30,
   "metadata": {},
   "outputs": [
    {
     "name": "stdout",
     "output_type": "stream",
     "text": [
      "4482\n",
      "3679\n",
      "3534\n"
     ]
    }
   ],
   "source": [
    "# создадим списки уникальных id на каждом этапе воронки\n",
    "MainScreenAppear_ids = data_filtered.loc[data_filtered['event_name'] == \"MainScreenAppear\", 'user_id'].unique()\n",
    "OffersScreenAppear_ids = data_filtered.loc[data_filtered['event_name'] == \"OffersScreenAppear\", 'user_id'].unique()\n",
    "CartScreenAppear_ids = data_filtered.loc[data_filtered['event_name'] == \"CartScreenAppear\", 'user_id'].unique()\n",
    "PaymentScreenSuccessful_ids = data_filtered.loc[data_filtered['event_name'] == \"PaymentScreenSuccessful\", 'user_id'].unique()\n",
    "\n",
    "# проверим пересечения id между этапами и найдем количество id, которые вошли в оба этапа\n",
    "inter1 = list(set(MainScreenAppear_ids) & set(OffersScreenAppear_ids))\n",
    "print (len(inter1))\n",
    "inter2 = list(set(CartScreenAppear_ids) & set(OffersScreenAppear_ids))\n",
    "print (len(inter2))\n",
    "inter3 = list(set(CartScreenAppear_ids) & set(PaymentScreenSuccessful_ids))\n",
    "print (len(inter3))\n",
    "\n"
   ]
  },
  {
   "cell_type": "markdown",
   "metadata": {},
   "source": [
    "### Воронка продаж"
   ]
  },
  {
   "cell_type": "markdown",
   "metadata": {},
   "source": [
    "Построим воронку продаж для всех трех групп:"
   ]
  },
  {
   "cell_type": "code",
   "execution_count": 31,
   "metadata": {},
   "outputs": [
    {
     "data": {
      "image/svg+xml": [
       "<svg class=\"main-svg\" xmlns=\"http://www.w3.org/2000/svg\" xmlns:xlink=\"http://www.w3.org/1999/xlink\" width=\"700\" height=\"500\" style=\"\" viewBox=\"0 0 700 500\"><rect x=\"0\" y=\"0\" width=\"700\" height=\"500\" style=\"fill: rgb(255, 255, 255); fill-opacity: 1;\"/><defs id=\"defs-4819b4\"><g class=\"clips\"><clipPath id=\"clip4819b4xyplot\" class=\"plotclip\"><rect width=\"440\" height=\"320\"/></clipPath><clipPath class=\"axesclip\" id=\"clip4819b4x\"><rect x=\"170\" y=\"0\" width=\"440\" height=\"500\"/></clipPath><clipPath class=\"axesclip\" id=\"clip4819b4y\"><rect x=\"0\" y=\"100\" width=\"700\" height=\"320\"/></clipPath><clipPath class=\"axesclip\" id=\"clip4819b4xy\"><rect x=\"170\" y=\"100\" width=\"440\" height=\"320\"/></clipPath></g><g class=\"gradients\"/><g class=\"patterns\"/></defs><g class=\"bglayer\"><rect class=\"bg\" x=\"170\" y=\"100\" width=\"440\" height=\"320\" style=\"fill: rgb(229, 236, 246); fill-opacity: 1; stroke-width: 0;\"/></g><g class=\"layer-below\"><g class=\"imagelayer\"/><g class=\"shapelayer\"/></g><g class=\"cartesianlayer\"><g class=\"subplot xy\"><g class=\"layer-subplot\"><g class=\"shapelayer\"/><g class=\"imagelayer\"/></g><g class=\"minor-gridlayer\"><g class=\"x\"/><g class=\"y\"/></g><g class=\"gridlayer\"><g class=\"x\"/><g class=\"y\"/></g><g class=\"zerolinelayer\"/><path class=\"xlines-below\"/><path class=\"ylines-below\"/><g class=\"overlines-below\"/><g class=\"xaxislayer-below\"/><g class=\"yaxislayer-below\"/><g class=\"overaxes-below\"/><g class=\"plot\" transform=\"translate(170,100)\" clip-path=\"url(#clip4819b4xyplot)\"><g class=\"funnellayer mlayer\"><g class=\"trace bars\" style=\"opacity: 1;\"><g class=\"regions\"><g class=\"region\"><path d=\"M120.35,72L22,88H152.77L187.92,72Z\" style=\"stroke-width: 0; fill: rgb(99, 110, 250); fill-opacity: 0.5;\"/></g><g class=\"region\"><path d=\"M22,152L97.42,168H179.73L152.77,152Z\" style=\"stroke-width: 0; fill: rgb(99, 110, 250); fill-opacity: 0.5;\"/></g><g class=\"region\"><path d=\"M97.42,232L125.55,248H189.6L179.73,232Z\" style=\"stroke-width: 0; fill: rgb(99, 110, 250); fill-opacity: 0.5;\"/></g><g class=\"region\"><path d=\"M0,0Z\" style=\"stroke-width: 0; fill: rgb(99, 110, 250); fill-opacity: 0.5;\"/></g></g><g class=\"points\"><g class=\"point\"><path d=\"M120.35,8V72H187.92V8Z\" style=\"vector-effect: non-scaling-stroke; fill: rgb(99, 110, 250); fill-opacity: 1; stroke: rgb(68, 68, 68); stroke-opacity: 1; stroke-width: 0px; opacity: 1;\"/><text class=\"bartext bartext-inside\" text-anchor=\"middle\" data-notex=\"1\" x=\"0\" y=\"0\" style=\"font-family: 'Open Sans', verdana, arial, sans-serif; font-size: 12px; fill: rgb(255, 255, 255); fill-opacity: 1; white-space: pre;\" transform=\"translate(153.92078138590895,33.658236445346475)scale(0.5712496375761089)\"><tspan class=\"line\" dy=\"0em\" x=\"0\" y=\"0\">1266</tspan><tspan class=\"line\" dy=\"1.3em\" x=\"0\" y=\"0\">100% of initial</tspan><tspan class=\"line\" dy=\"2.6em\" x=\"0\" y=\"0\">100% of previous</tspan></text></g><g class=\"point\"><path d=\"M22,88V152H152.77V88Z\" style=\"vector-effect: non-scaling-stroke; fill: rgb(99, 110, 250); fill-opacity: 1; stroke: rgb(68, 68, 68); stroke-opacity: 1; stroke-width: 0px; opacity: 1;\"/><text class=\"bartext bartext-inside\" text-anchor=\"middle\" data-notex=\"1\" x=\"0\" y=\"0\" style=\"font-family: 'Open Sans', verdana, arial, sans-serif; font-size: 12px; fill: rgb(255, 255, 255); fill-opacity: 1; white-space: pre;\" transform=\"translate(87.01,108.8984375)\"><tspan class=\"line\" dy=\"0em\" x=\"0\" y=\"0\">2450</tspan><tspan class=\"line\" dy=\"1.3em\" x=\"0\" y=\"0\">194% of initial</tspan><tspan class=\"line\" dy=\"2.6em\" x=\"0\" y=\"0\">194% of previous</tspan></text></g><g class=\"point\"><path d=\"M97.42,168V232H179.73V168Z\" style=\"vector-effect: non-scaling-stroke; fill: rgb(99, 110, 250); fill-opacity: 1; stroke: rgb(68, 68, 68); stroke-opacity: 1; stroke-width: 0px; opacity: 1;\"/><text class=\"bartext bartext-inside\" text-anchor=\"middle\" data-notex=\"1\" x=\"0\" y=\"0\" style=\"font-family: 'Open Sans', verdana, arial, sans-serif; font-size: 12px; fill: rgb(255, 255, 255); fill-opacity: 1; white-space: pre;\" transform=\"translate(138.28928393135723,191.54161388455537)scale(0.7619095163806551)\"><tspan class=\"line\" dy=\"0em\" x=\"0\" y=\"0\">1542</tspan><tspan class=\"line\" dy=\"1.3em\" x=\"0\" y=\"0\">122% of initial</tspan><tspan class=\"line\" dy=\"2.6em\" x=\"0\" y=\"0\">63% of previous</tspan></text></g><g class=\"point\"><path d=\"M125.55,248V312H189.6V248Z\" style=\"vector-effect: non-scaling-stroke; fill: rgb(99, 110, 250); fill-opacity: 1; stroke: rgb(68, 68, 68); stroke-opacity: 1; stroke-width: 0px; opacity: 1;\"/><text class=\"bartext bartext-inside\" text-anchor=\"middle\" data-notex=\"1\" x=\"0\" y=\"0\" style=\"font-family: 'Open Sans', verdana, arial, sans-serif; font-size: 12px; fill: rgb(255, 255, 255); fill-opacity: 1; white-space: pre;\" transform=\"translate(157.35765210608423,273.56559672386896)scale(0.579594383775351)\"><tspan class=\"line\" dy=\"0em\" x=\"0\" y=\"0\">1200</tspan><tspan class=\"line\" dy=\"1.3em\" x=\"0\" y=\"0\">95% of initial</tspan><tspan class=\"line\" dy=\"2.6em\" x=\"0\" y=\"0\">78% of previous</tspan></text></g></g></g><g class=\"trace bars\" style=\"opacity: 1;\"><g class=\"regions\"><g class=\"region\"><path d=\"M187.92,72L152.77,88H284.93L254,72Z\" style=\"stroke-width: 0; fill: rgb(239, 85, 59); fill-opacity: 0.5;\"/></g><g class=\"region\"><path d=\"M152.77,152L179.73,168H260.86L284.93,152Z\" style=\"stroke-width: 0; fill: rgb(239, 85, 59); fill-opacity: 0.5;\"/></g><g class=\"region\"><path d=\"M179.73,232L189.6,248H251.41L260.86,232Z\" style=\"stroke-width: 0; fill: rgb(239, 85, 59); fill-opacity: 0.5;\"/></g><g class=\"region\"><path d=\"M0,0Z\" style=\"stroke-width: 0; fill: rgb(239, 85, 59); fill-opacity: 0.5;\"/></g></g><g class=\"points\"><g class=\"point\"><path d=\"M187.92,8V72H254V8Z\" style=\"vector-effect: non-scaling-stroke; fill: rgb(239, 85, 59); fill-opacity: 1; stroke: rgb(68, 68, 68); stroke-opacity: 1; stroke-width: 0px; opacity: 1;\"/><text class=\"bartext bartext-inside\" text-anchor=\"middle\" data-notex=\"1\" x=\"0\" y=\"0\" style=\"font-family: 'Open Sans', verdana, arial, sans-serif; font-size: 12px; fill: rgb(68, 68, 68); fill-opacity: 1; white-space: pre;\" transform=\"translate(220.75096549724555,33.81170774137431)scale(0.5574253406784576)\"><tspan class=\"line\" dy=\"0em\" x=\"0\" y=\"0\">1238</tspan><tspan class=\"line\" dy=\"1.3em\" x=\"0\" y=\"0\">100% of initial</tspan><tspan class=\"line\" dy=\"2.6em\" x=\"0\" y=\"0\">100% of previous</tspan></text></g><g class=\"point\"><path d=\"M152.77,88V152H284.93V88Z\" style=\"vector-effect: non-scaling-stroke; fill: rgb(239, 85, 59); fill-opacity: 1; stroke: rgb(68, 68, 68); stroke-opacity: 1; stroke-width: 0px; opacity: 1;\"/><text class=\"bartext bartext-inside\" text-anchor=\"middle\" data-notex=\"1\" x=\"0\" y=\"0\" style=\"font-family: 'Open Sans', verdana, arial, sans-serif; font-size: 12px; fill: rgb(68, 68, 68); fill-opacity: 1; white-space: pre;\" transform=\"translate(218.47500000000002,108.8984375)\"><tspan class=\"line\" dy=\"0em\" x=\"0\" y=\"0\">2476</tspan><tspan class=\"line\" dy=\"1.3em\" x=\"0\" y=\"0\">200% of initial</tspan><tspan class=\"line\" dy=\"2.6em\" x=\"0\" y=\"0\">200% of previous</tspan></text></g><g class=\"point\"><path d=\"M179.73,168V232H260.86V168Z\" style=\"vector-effect: non-scaling-stroke; fill: rgb(239, 85, 59); fill-opacity: 1; stroke: rgb(68, 68, 68); stroke-opacity: 1; stroke-width: 0px; opacity: 1;\"/><text class=\"bartext bartext-inside\" text-anchor=\"middle\" data-notex=\"1\" x=\"0\" y=\"0\" style=\"font-family: 'Open Sans', verdana, arial, sans-serif; font-size: 12px; fill: rgb(68, 68, 68); fill-opacity: 1; white-space: pre;\" transform=\"translate(220.01370202808113,191.67240795631824)scale(0.7501279251170049)\"><tspan class=\"line\" dy=\"0em\" x=\"0\" y=\"0\">1520</tspan><tspan class=\"line\" dy=\"1.3em\" x=\"0\" y=\"0\">123% of initial</tspan><tspan class=\"line\" dy=\"2.6em\" x=\"0\" y=\"0\">61% of previous</tspan></text></g><g class=\"point\"><path d=\"M189.6,248V312H251.41V248Z\" style=\"vector-effect: non-scaling-stroke; fill: rgb(239, 85, 59); fill-opacity: 1; stroke: rgb(68, 68, 68); stroke-opacity: 1; stroke-width: 0px; opacity: 1;\"/><text class=\"bartext bartext-inside\" text-anchor=\"middle\" data-notex=\"1\" x=\"0\" y=\"0\" style=\"font-family: 'Open Sans', verdana, arial, sans-serif; font-size: 12px; fill: rgb(68, 68, 68); fill-opacity: 1; white-space: pre;\" transform=\"translate(220.29603900156005,273.81388377535103)scale(0.5572293291731669)\"><tspan class=\"line\" dy=\"0em\" x=\"0\" y=\"0\">1158</tspan><tspan class=\"line\" dy=\"1.3em\" x=\"0\" y=\"0\">94% of initial</tspan><tspan class=\"line\" dy=\"2.6em\" x=\"0\" y=\"0\">76% of previous</tspan></text></g></g></g><g class=\"trace bars\" style=\"opacity: 1;\"><g class=\"regions\"><g class=\"region\"><path d=\"M254,72L284.93,88H418L319.65,72Z\" style=\"stroke-width: 0; fill: rgb(0, 204, 150); fill-opacity: 0.5;\"/></g><g class=\"region\"><path d=\"M284.93,152L260.86,168H342.58L418,152Z\" style=\"stroke-width: 0; fill: rgb(0, 204, 150); fill-opacity: 0.5;\"/></g><g class=\"region\"><path d=\"M260.86,232L251.41,248H314.45L342.58,232Z\" style=\"stroke-width: 0; fill: rgb(0, 204, 150); fill-opacity: 0.5;\"/></g><g class=\"region\"><path d=\"M0,0Z\" style=\"stroke-width: 0; fill: rgb(0, 204, 150); fill-opacity: 0.5;\"/></g></g><g class=\"points\"><g class=\"point\"><path d=\"M254,8V72H319.65V8Z\" style=\"vector-effect: non-scaling-stroke; fill: rgb(0, 204, 150); fill-opacity: 1; stroke: rgb(68, 68, 68); stroke-opacity: 1; stroke-width: 0px; opacity: 1;\"/><text class=\"bartext bartext-inside\" text-anchor=\"middle\" data-notex=\"1\" x=\"0\" y=\"0\" style=\"font-family: 'Open Sans', verdana, arial, sans-serif; font-size: 12px; fill: rgb(68, 68, 68); fill-opacity: 1; white-space: pre;\" transform=\"translate(286.61746158306755,33.85599811539577)scale(0.5534357784865176)\"><tspan class=\"line\" dy=\"0em\" x=\"0\" y=\"0\">1230</tspan><tspan class=\"line\" dy=\"1.3em\" x=\"0\" y=\"0\">100% of initial</tspan><tspan class=\"line\" dy=\"2.6em\" x=\"0\" y=\"0\">100% of previous</tspan></text></g><g class=\"point\"><path d=\"M284.93,88V152H418V88Z\" style=\"vector-effect: non-scaling-stroke; fill: rgb(0, 204, 150); fill-opacity: 1; stroke: rgb(68, 68, 68); stroke-opacity: 1; stroke-width: 0px; opacity: 1;\"/><text class=\"bartext bartext-inside\" text-anchor=\"middle\" data-notex=\"1\" x=\"0\" y=\"0\" style=\"font-family: 'Open Sans', verdana, arial, sans-serif; font-size: 12px; fill: rgb(68, 68, 68); fill-opacity: 1; white-space: pre;\" transform=\"translate(351.09000000000003,108.8984375)\"><tspan class=\"line\" dy=\"0em\" x=\"0\" y=\"0\">2493</tspan><tspan class=\"line\" dy=\"1.3em\" x=\"0\" y=\"0\">203% of initial</tspan><tspan class=\"line\" dy=\"2.6em\" x=\"0\" y=\"0\">203% of previous</tspan></text></g><g class=\"point\"><path d=\"M260.86,168V232H342.58V168Z\" style=\"vector-effect: non-scaling-stroke; fill: rgb(0, 204, 150); fill-opacity: 1; stroke: rgb(68, 68, 68); stroke-opacity: 1; stroke-width: 0px; opacity: 1;\"/><text class=\"bartext bartext-inside\" text-anchor=\"middle\" data-notex=\"1\" x=\"0\" y=\"0\" style=\"font-family: 'Open Sans', verdana, arial, sans-serif; font-size: 12px; fill: rgb(68, 68, 68); fill-opacity: 1; white-space: pre;\" transform=\"translate(301.4364929797192,191.60701092043684)scale(0.7560187207488297)\"><tspan class=\"line\" dy=\"0em\" x=\"0\" y=\"0\">1531</tspan><tspan class=\"line\" dy=\"1.3em\" x=\"0\" y=\"0\">124% of initial</tspan><tspan class=\"line\" dy=\"2.6em\" x=\"0\" y=\"0\">61% of previous</tspan></text></g><g class=\"point\"><path d=\"M251.41,248V312H314.45V248Z\" style=\"vector-effect: non-scaling-stroke; fill: rgb(0, 204, 150); fill-opacity: 1; stroke: rgb(68, 68, 68); stroke-opacity: 1; stroke-width: 0px; opacity: 1;\"/><text class=\"bartext bartext-inside\" text-anchor=\"middle\" data-notex=\"1\" x=\"0\" y=\"0\" style=\"font-family: 'Open Sans', verdana, arial, sans-serif; font-size: 12px; fill: rgb(68, 68, 68); fill-opacity: 1; white-space: pre;\" transform=\"translate(282.7164336973479,273.6775475819033)scale(0.5695101404056161)\"><tspan class=\"line\" dy=\"0em\" x=\"0\" y=\"0\">1181</tspan><tspan class=\"line\" dy=\"1.3em\" x=\"0\" y=\"0\">96% of initial</tspan><tspan class=\"line\" dy=\"2.6em\" x=\"0\" y=\"0\">77% of previous</tspan></text></g></g></g></g></g><g class=\"overplot\"/><path class=\"xlines-above crisp\" d=\"M0,0\" style=\"fill: none;\"/><path class=\"ylines-above crisp\" d=\"M0,0\" style=\"fill: none;\"/><g class=\"overlines-above\"/><g class=\"xaxislayer-above\"/><g class=\"yaxislayer-above\"><g class=\"ytick\"><text text-anchor=\"end\" x=\"169\" y=\"4.199999999999999\" transform=\"translate(0,380)\" style=\"font-family: 'Open Sans', verdana, arial, sans-serif; font-size: 12px; fill: rgb(42, 63, 95); fill-opacity: 1; white-space: pre; opacity: 1;\">PaymentScreenSuccessful</text></g><g class=\"ytick\"><text text-anchor=\"end\" x=\"169\" y=\"4.199999999999999\" transform=\"translate(0,300)\" style=\"font-family: 'Open Sans', verdana, arial, sans-serif; font-size: 12px; fill: rgb(42, 63, 95); fill-opacity: 1; white-space: pre; opacity: 1;\">OffersScreenAppear</text></g><g class=\"ytick\"><text text-anchor=\"end\" x=\"169\" y=\"4.199999999999999\" transform=\"translate(0,220)\" style=\"font-family: 'Open Sans', verdana, arial, sans-serif; font-size: 12px; fill: rgb(42, 63, 95); fill-opacity: 1; white-space: pre; opacity: 1;\">MainScreenAppear</text></g><g class=\"ytick\"><text text-anchor=\"end\" x=\"169\" y=\"4.199999999999999\" transform=\"translate(0,140)\" style=\"font-family: 'Open Sans', verdana, arial, sans-serif; font-size: 12px; fill: rgb(42, 63, 95); fill-opacity: 1; white-space: pre; opacity: 1;\">CartScreenAppear</text></g></g><g class=\"overaxes-above\"/></g></g><g class=\"polarlayer\"/><g class=\"smithlayer\"/><g class=\"ternarylayer\"/><g class=\"geolayer\"/><g class=\"funnelarealayer\"/><g class=\"pielayer\"/><g class=\"iciclelayer\"/><g class=\"treemaplayer\"/><g class=\"sunburstlayer\"/><g class=\"glimages\"/><defs id=\"topdefs-4819b4\"><g class=\"clips\"/><clipPath id=\"legend4819b4\"><rect width=\"69\" height=\"67\" x=\"0\" y=\"0\"/></clipPath></defs><g class=\"layer-above\"><g class=\"imagelayer\"/><g class=\"shapelayer\"/></g><g class=\"infolayer\"><g class=\"legend\" pointer-events=\"all\" transform=\"translate(618.8,100)\"><rect class=\"bg\" shape-rendering=\"crispEdges\" style=\"stroke: rgb(68, 68, 68); stroke-opacity: 1; fill: rgb(255, 255, 255); fill-opacity: 1; stroke-width: 0px;\" width=\"69\" height=\"67\" x=\"0\" y=\"0\"/><g class=\"scrollbox\" transform=\"\" clip-path=\"url(#legend4819b4)\"><g class=\"groups\"><g class=\"traces\" transform=\"translate(0,14.5)\" style=\"opacity: 1;\"><text class=\"legendtext\" text-anchor=\"start\" x=\"40\" y=\"4.680000000000001\" style=\"font-family: 'Open Sans', verdana, arial, sans-serif; font-size: 12px; fill: rgb(42, 63, 95); fill-opacity: 1; white-space: pre;\">246</text><g class=\"layers\" style=\"opacity: 1;\"><g class=\"legendfill\"/><g class=\"legendlines\"/><g class=\"legendsymbols\"><g class=\"legendpoints\"><path class=\"legendfunnel\" d=\"M6,6H-6V-6H6Z\" transform=\"translate(20,0)\" style=\"stroke-width: 0px; fill: rgb(99, 110, 250); fill-opacity: 1;\"/></g></g></g><rect class=\"legendtoggle\" x=\"0\" y=\"-9.5\" width=\"63.265625\" height=\"19\" style=\"fill: rgb(0, 0, 0); fill-opacity: 0;\"/></g><g class=\"traces\" transform=\"translate(0,33.5)\" style=\"opacity: 1;\"><text class=\"legendtext\" text-anchor=\"start\" x=\"40\" y=\"4.680000000000001\" style=\"font-family: 'Open Sans', verdana, arial, sans-serif; font-size: 12px; fill: rgb(42, 63, 95); fill-opacity: 1; white-space: pre;\">247</text><g class=\"layers\" style=\"opacity: 1;\"><g class=\"legendfill\"/><g class=\"legendlines\"/><g class=\"legendsymbols\"><g class=\"legendpoints\"><path class=\"legendfunnel\" d=\"M6,6H-6V-6H6Z\" transform=\"translate(20,0)\" style=\"stroke-width: 0px; fill: rgb(239, 85, 59); fill-opacity: 1;\"/></g></g></g><rect class=\"legendtoggle\" x=\"0\" y=\"-9.5\" width=\"63.265625\" height=\"19\" style=\"fill: rgb(0, 0, 0); fill-opacity: 0;\"/></g><g class=\"traces\" transform=\"translate(0,52.5)\" style=\"opacity: 1;\"><text class=\"legendtext\" text-anchor=\"start\" x=\"40\" y=\"4.680000000000001\" style=\"font-family: 'Open Sans', verdana, arial, sans-serif; font-size: 12px; fill: rgb(42, 63, 95); fill-opacity: 1; white-space: pre;\">248</text><g class=\"layers\" style=\"opacity: 1;\"><g class=\"legendfill\"/><g class=\"legendlines\"/><g class=\"legendsymbols\"><g class=\"legendpoints\"><path class=\"legendfunnel\" d=\"M6,6H-6V-6H6Z\" transform=\"translate(20,0)\" style=\"stroke-width: 0px; fill: rgb(0, 204, 150); fill-opacity: 1;\"/></g></g></g><rect class=\"legendtoggle\" x=\"0\" y=\"-9.5\" width=\"63.265625\" height=\"19\" style=\"fill: rgb(0, 0, 0); fill-opacity: 0;\"/></g></g></g><rect class=\"scrollbar\" rx=\"20\" ry=\"3\" width=\"0\" height=\"0\" style=\"fill: rgb(128, 139, 164); fill-opacity: 1;\" x=\"0\" y=\"0\"/></g><g class=\"g-gtitle\"/><g class=\"g-ytitle\"/></g></svg>"
      ]
     },
     "metadata": {},
     "output_type": "display_data"
    }
   ],
   "source": [
    "from plotly import graph_objects as go\n",
    "import plotly.io as pio\n",
    "pio.renderers.default = \"browser\"\n",
    "\n",
    "fig = go.Figure()\n",
    "\n",
    "fig.add_trace(go.Funnel(\n",
    "    name = '246',\n",
    "    orientation = \"h\",\n",
    "    y = data_events['event_name'],\n",
    "    x = data_events[246],\n",
    "    textinfo = \"value+percent initial+percent previous\"))\n",
    "\n",
    "fig.add_trace(go.Funnel(\n",
    "    name = '247',\n",
    "    orientation = \"h\",\n",
    "    y = data_events['event_name'],\n",
    "    x = data_events[247],\n",
    "    textposition = \"inside\",\n",
    "    textinfo = \"value+percent initial+percent previous\"))\n",
    "\n",
    "fig.add_trace(go.Funnel(\n",
    "    name = '248',\n",
    "    orientation = \"h\",\n",
    "    y = data_events['event_name'],\n",
    "    x = data_events[248],\n",
    "    textposition = \"inside\",\n",
    "    textinfo = \"value+percent initial+percent previous\"))\n",
    "\n",
    "fig.show(renderer=\"svg\")"
   ]
  },
  {
   "cell_type": "markdown",
   "metadata": {},
   "source": [
    "Визуально не видно больших различий между группами, и показатели схожи.\n",
    "\n",
    "Построим аналогичную таблицу, где рассчитаем доли посетителей каждой страницы по отношению к посетителям предыдущей страницы и количеству всех пользователей:"
   ]
  },
  {
   "cell_type": "code",
   "execution_count": 32,
   "metadata": {},
   "outputs": [
    {
     "data": {
      "text/html": [
       "<div>\n",
       "<style scoped>\n",
       "    .dataframe tbody tr th:only-of-type {\n",
       "        vertical-align: middle;\n",
       "    }\n",
       "\n",
       "    .dataframe tbody tr th {\n",
       "        vertical-align: top;\n",
       "    }\n",
       "\n",
       "    .dataframe thead th {\n",
       "        text-align: right;\n",
       "    }\n",
       "</style>\n",
       "<table border=\"1\" class=\"dataframe\">\n",
       "  <thead>\n",
       "    <tr style=\"text-align: right;\">\n",
       "      <th>exp_id</th>\n",
       "      <th>event_name</th>\n",
       "      <th>246</th>\n",
       "      <th>247</th>\n",
       "      <th>248</th>\n",
       "      <th>perc_of_prev_246</th>\n",
       "      <th>perc_of_init_246</th>\n",
       "      <th>perc_of_prev_247</th>\n",
       "      <th>perc_of_init_247</th>\n",
       "      <th>perc_of_prev_248</th>\n",
       "      <th>perc_of_init_248</th>\n",
       "    </tr>\n",
       "  </thead>\n",
       "  <tbody>\n",
       "    <tr>\n",
       "      <th>1</th>\n",
       "      <td>MainScreenAppear</td>\n",
       "      <td>2450</td>\n",
       "      <td>2476</td>\n",
       "      <td>2493</td>\n",
       "      <td>NaN</td>\n",
       "      <td>100.0</td>\n",
       "      <td>NaN</td>\n",
       "      <td>100.0</td>\n",
       "      <td>NaN</td>\n",
       "      <td>100.0</td>\n",
       "    </tr>\n",
       "    <tr>\n",
       "      <th>2</th>\n",
       "      <td>OffersScreenAppear</td>\n",
       "      <td>1542</td>\n",
       "      <td>1520</td>\n",
       "      <td>1531</td>\n",
       "      <td>62.9</td>\n",
       "      <td>62.9</td>\n",
       "      <td>61.4</td>\n",
       "      <td>61.4</td>\n",
       "      <td>61.4</td>\n",
       "      <td>61.4</td>\n",
       "    </tr>\n",
       "    <tr>\n",
       "      <th>0</th>\n",
       "      <td>CartScreenAppear</td>\n",
       "      <td>1266</td>\n",
       "      <td>1238</td>\n",
       "      <td>1230</td>\n",
       "      <td>82.1</td>\n",
       "      <td>51.7</td>\n",
       "      <td>81.4</td>\n",
       "      <td>50.0</td>\n",
       "      <td>80.3</td>\n",
       "      <td>49.3</td>\n",
       "    </tr>\n",
       "    <tr>\n",
       "      <th>3</th>\n",
       "      <td>PaymentScreenSuccessful</td>\n",
       "      <td>1200</td>\n",
       "      <td>1158</td>\n",
       "      <td>1181</td>\n",
       "      <td>94.8</td>\n",
       "      <td>49.0</td>\n",
       "      <td>93.5</td>\n",
       "      <td>46.8</td>\n",
       "      <td>96.0</td>\n",
       "      <td>47.4</td>\n",
       "    </tr>\n",
       "  </tbody>\n",
       "</table>\n",
       "</div>"
      ],
      "text/plain": [
       "exp_id               event_name   246   247   248  perc_of_prev_246  \\\n",
       "1              MainScreenAppear  2450  2476  2493               NaN   \n",
       "2            OffersScreenAppear  1542  1520  1531              62.9   \n",
       "0              CartScreenAppear  1266  1238  1230              82.1   \n",
       "3       PaymentScreenSuccessful  1200  1158  1181              94.8   \n",
       "\n",
       "exp_id  perc_of_init_246  perc_of_prev_247  perc_of_init_247  \\\n",
       "1                  100.0               NaN             100.0   \n",
       "2                   62.9              61.4              61.4   \n",
       "0                   51.7              81.4              50.0   \n",
       "3                   49.0              93.5              46.8   \n",
       "\n",
       "exp_id  perc_of_prev_248  perc_of_init_248  \n",
       "1                    NaN             100.0  \n",
       "2                   61.4              61.4  \n",
       "0                   80.3              49.3  \n",
       "3                   96.0              47.4  "
      ]
     },
     "execution_count": 32,
     "metadata": {},
     "output_type": "execute_result"
    }
   ],
   "source": [
    "# отсортируем события по порядку\n",
    "\n",
    "data_events = data_events.sort_values(by=246, ascending=False)\n",
    "\n",
    "# рассчитаем процент удержания по отношению к начальному и к предыдущему этапу для каждой группы:\n",
    "\n",
    "data_events['perc_of_prev_246'] = round(data_events[246].div(data_events[246].shift(1))  * 100, 1)\n",
    "data_events['perc_of_init_246'] = round(data_events[246].div(data_events[246].iloc[0])  * 100,1)\n",
    "\n",
    "data_events['perc_of_prev_247'] = round(data_events[247].div(data_events[247].shift(1))  * 100, 1)\n",
    "data_events['perc_of_init_247'] = round(data_events[247].div(data_events[247].iloc[0])  * 100,1)\n",
    "\n",
    "data_events['perc_of_prev_248'] = round(data_events[248].div(data_events[248].shift(1))  * 100, 1)\n",
    "data_events['perc_of_init_248'] = round(data_events[248].div(data_events[248].iloc[0])  * 100,1)\n",
    "\n",
    "data_events.sort_values(by=246, ascending=False)"
   ]
  },
  {
   "cell_type": "markdown",
   "metadata": {},
   "source": [
    "По таблице и воронке видно, что наибольший процент пользователей, совершивших покупку - в группе 246 (49%).\n",
    "Во всех группах пользователи удерживаются примерно одинаково и хорошо, а больше всего пользователей в каждой группе 'теряется' при переходе с первого на второй этап (c главной страницы на страницу предложений переходят 60-62% пользователей).\n",
    "\n",
    "До оплаты доходит 46-49% пользователей - самые высокие показатели в группе 246 (49%)."
   ]
  },
  {
   "cell_type": "markdown",
   "metadata": {},
   "source": [
    "## Результаты эксперимента\n",
    "\n",
    "Проверим результаты эксперимента - подсчитаем количество пользователей в каждой экспериментальной группе. Сравним результаты между группами A1/A2, A1/B, A2/B, A1+A2/B, где:\n",
    "\n",
    "A1 и A2 - контрольные группы (246 и 247), B - группа с измененным шрифтом (248).  \n",
    "\n",
    "Есть 2 контрольные группы для А/А-эксперимента, чтобы проверить корректность всех механизмов и расчётов. Проверим, находят ли статистические критерии разницу между ними.\n"
   ]
  },
  {
   "cell_type": "markdown",
   "metadata": {},
   "source": [
    "Проверим еще раз, сколько всего пользователей в каждой экспериментальной группе:"
   ]
  },
  {
   "cell_type": "code",
   "execution_count": 33,
   "metadata": {},
   "outputs": [
    {
     "data": {
      "text/html": [
       "<div>\n",
       "<style scoped>\n",
       "    .dataframe tbody tr th:only-of-type {\n",
       "        vertical-align: middle;\n",
       "    }\n",
       "\n",
       "    .dataframe tbody tr th {\n",
       "        vertical-align: top;\n",
       "    }\n",
       "\n",
       "    .dataframe thead th {\n",
       "        text-align: right;\n",
       "    }\n",
       "</style>\n",
       "<table border=\"1\" class=\"dataframe\">\n",
       "  <thead>\n",
       "    <tr style=\"text-align: right;\">\n",
       "      <th>exp_id</th>\n",
       "      <th>246</th>\n",
       "      <th>247</th>\n",
       "      <th>248</th>\n",
       "    </tr>\n",
       "  </thead>\n",
       "  <tbody>\n",
       "    <tr>\n",
       "      <th>user_id</th>\n",
       "      <td>2483</td>\n",
       "      <td>2512</td>\n",
       "      <td>2535</td>\n",
       "    </tr>\n",
       "  </tbody>\n",
       "</table>\n",
       "</div>"
      ],
      "text/plain": [
       "exp_id    246   247   248\n",
       "user_id  2483  2512  2535"
      ]
     },
     "execution_count": 33,
     "metadata": {},
     "output_type": "execute_result"
    }
   ],
   "source": [
    "data_filtered_groups =  data_filtered.pivot_table(columns='exp_id', values='user_id', aggfunc='nunique')\n",
    "data_filtered_groups"
   ]
  },
  {
   "cell_type": "markdown",
   "metadata": {},
   "source": [
    "Количество пользователей примерно одинаковое."
   ]
  },
  {
   "cell_type": "markdown",
   "metadata": {},
   "source": [
    "\n",
    "\n",
    "Выберем самое популярное событие (MainScreenAppear - 'главная страница') и подсчитаем количество посетителей в группах. Проверим, сколько уникальных пользователей из каждой группы зашли на главную страницу.\n",
    "\n",
    "Больше всего пользователей на страницу зашли из группы 248 - 2535 человек, а в целом на главную страницу зашли 98% пользователей из каждой группы. Возможно, остальные пользователи тоже заходили на главную страницу, но эти данные не попали во временной фильтр."
   ]
  },
  {
   "cell_type": "code",
   "execution_count": 34,
   "metadata": {
    "scrolled": true
   },
   "outputs": [
    {
     "data": {
      "text/html": [
       "<div>\n",
       "<style scoped>\n",
       "    .dataframe tbody tr th:only-of-type {\n",
       "        vertical-align: middle;\n",
       "    }\n",
       "\n",
       "    .dataframe tbody tr th {\n",
       "        vertical-align: top;\n",
       "    }\n",
       "\n",
       "    .dataframe thead th {\n",
       "        text-align: right;\n",
       "    }\n",
       "</style>\n",
       "<table border=\"1\" class=\"dataframe\">\n",
       "  <thead>\n",
       "    <tr style=\"text-align: right;\">\n",
       "      <th></th>\n",
       "      <th>exp_id</th>\n",
       "      <th>all_visitors</th>\n",
       "      <th>main_screen_visitors</th>\n",
       "      <th>percentage</th>\n",
       "    </tr>\n",
       "  </thead>\n",
       "  <tbody>\n",
       "    <tr>\n",
       "      <th>0</th>\n",
       "      <td>246</td>\n",
       "      <td>2483</td>\n",
       "      <td>2450</td>\n",
       "      <td>98.7</td>\n",
       "    </tr>\n",
       "    <tr>\n",
       "      <th>1</th>\n",
       "      <td>247</td>\n",
       "      <td>2512</td>\n",
       "      <td>2476</td>\n",
       "      <td>98.6</td>\n",
       "    </tr>\n",
       "    <tr>\n",
       "      <th>2</th>\n",
       "      <td>248</td>\n",
       "      <td>2535</td>\n",
       "      <td>2493</td>\n",
       "      <td>98.3</td>\n",
       "    </tr>\n",
       "  </tbody>\n",
       "</table>\n",
       "</div>"
      ],
      "text/plain": [
       "   exp_id  all_visitors  main_screen_visitors  percentage\n",
       "0     246          2483                  2450        98.7\n",
       "1     247          2512                  2476        98.6\n",
       "2     248          2535                  2493        98.3"
      ]
     },
     "execution_count": 34,
     "metadata": {},
     "output_type": "execute_result"
    }
   ],
   "source": [
    "# создадим датасет с количеством уникальных пользователей по группам\n",
    "data_filtered_all = data_filtered.pivot_table(index='exp_id', values='user_id', aggfunc='nunique').reset_index()\n",
    "\n",
    "# создадим датасет с количеством уникальных пользователей по группам, зашедших на главную страницу\n",
    "data_filtered_msa = data_filtered.query('event_name == \"MainScreenAppear\"')\n",
    "data_filtered_msa = data_filtered_msa.pivot_table(index='exp_id', values='user_id', aggfunc='nunique').reset_index()\n",
    "\n",
    "# объединим два датасета\n",
    "merged = data_filtered_all.merge(data_filtered_msa, on='exp_id')                                     \n",
    "\n",
    "merged['percentage'] = round(merged['user_id_y'] / merged['user_id_x'] * 100, 1)\n",
    "merged = merged.rename(columns={'user_id_x' : 'all_visitors', 'user_id_y' : 'main_screen_visitors'})\n",
    "merged\n"
   ]
  },
  {
   "cell_type": "markdown",
   "metadata": {},
   "source": [
    "Проверим, насколько статистически значимы различия между группами. \n",
    "\n",
    "Сформулируем нулевую и альтернативную гипотезы:\n",
    "\n",
    "- Нулевая гипотеза: между группами 246 и 247 нет значимых различий  \n",
    "- Альтернативная гипотеза:  между группами 246 и 247 есть статистически значимые различия \n",
    "\n",
    "Уровень значимости alpha = 0.005\n",
    "\n"
   ]
  },
  {
   "cell_type": "code",
   "execution_count": 35,
   "metadata": {
    "scrolled": true
   },
   "outputs": [
    {
     "name": "stdout",
     "output_type": "stream",
     "text": [
      "p-value: [0.75267034]\n",
      "Не получилось отвергнуть нулевую гипотезу, между группами нет значимой разницы\n"
     ]
    }
   ],
   "source": [
    "\n",
    "# подсчитаем количество уникальных посетителей главной страницы и количество всех уникальных посетителей в группе 246\n",
    "visitors_246_msa = data_filtered.query('exp_id == 246 & event_name == \"MainScreenAppear\"').agg({'user_id' : 'nunique'})\n",
    "visitors_246_all = data_filtered.query('exp_id == 246').agg({'user_id' : 'nunique'})\n",
    "\n",
    "# подсчитаем количество уникальных посетителей главной страницы и количество всех уникальных посетителей в группе 247\n",
    "visitors_247_msa = data_filtered.query('exp_id == 247 & event_name == \"MainScreenAppear\"').agg({'user_id' : 'nunique'})\n",
    "visitors_247_all= data_filtered.query('exp_id == 247').agg({'user_id' : 'nunique'})\n",
    "\n",
    "alpha = .005 # критический уровень статистической значимости\n",
    "\n",
    "# Пропорция успехов в группах\n",
    "p246 = visitors_246_msa/visitors_246_all\n",
    "p247 = visitors_247_msa/visitors_247_all\n",
    " \n",
    "# Пропорция успехов в комбинированном датасете:\n",
    "p_combined = (visitors_246_msa + visitors_247_msa)/(visitors_246_all + visitors_247_all)\n",
    " \n",
    "# Разница конверсий/# разница пропорций в датасетах\n",
    "p_diff = p246 - p247\n",
    " \n",
    "# считаем статистику в ст.отклонениях стандартного нормального распределения\n",
    "z_value = p_diff / mth.sqrt(p_combined * (1 - p_combined) * (1/visitors_246_all + 1/visitors_247_all))\n",
    " \n",
    "# задаем стандартное нормальное распределение (среднее 0, ст.отклонение 1)\n",
    "distr = stats.norm(0, 1)\n",
    " \n",
    "p_value = (1 - distr.cdf(abs(z_value))) * 2\n",
    " \n",
    "print('p-value:',p_value)\n",
    " \n",
    "if (p_value < alpha):\n",
    "    print(\"Отвергаем нулевую гипотезу: между группами есть значимая разница\")\n",
    "else:\n",
    "    print(\"Не получилось отвергнуть нулевую гипотезу, между группами нет значимой разницы\")\n",
    "\n",
    " \n",
    "\n"
   ]
  },
  {
   "cell_type": "markdown",
   "metadata": {},
   "source": [
    "### Проверка групп 246 и 247 по всем событиям"
   ]
  },
  {
   "cell_type": "markdown",
   "metadata": {},
   "source": [
    "Согласно полученным результатам, нет значимой разницы между группами 246 и 247 относительно посещения главной страницы.\n",
    "\n",
    "Проверим теперь, существует ли разница между группами в отношении остальных событий:\n",
    "\n",
    "Сформулируем нулевую и альтернативную гипотезы:\n",
    "\n",
    "- Нулевая гипотеза: между группами 246 и 247 нет значимых различий  \n",
    "- Альтернативная гипотеза:  между группами 246 и 247 есть статистически значимые различия \n",
    "\n",
    "Уровень значимости alpha = 0.004\n",
    "\n",
    "Применим поправку Бонферрони на множественную проверку гипотез.\n",
    "Для расчета поправки учитываем 12 тестов (А1/А2, А1/В, А2/В).     \n",
    "4 теста (А1+А2)/В не учитываем, так как они дублируют тесты А1/В, А2/В.\n",
    "\n",
    "При alpha = 0.05 вероятность ошибки в 12 тестах составляет (1-0.05)^12= 46%.\n",
    "\n",
    "Поэтому будем проводить тест при alpha=0.004. C учетом поправки, вероятность ошибиться будет составлять 5%: 1-(1-0.004)^12= 5%\n",
    "\n",
    "Выведем на экран p-value, рассчитанный по z-value:\n",
    "\n"
   ]
  },
  {
   "cell_type": "code",
   "execution_count": 36,
   "metadata": {
    "scrolled": false
   },
   "outputs": [
    {
     "name": "stdout",
     "output_type": "stream",
     "text": [
      "CartScreenAppear:\n",
      "p-значение: [0.22867644]\n",
      "Не получилось отвергнуть нулевую гипотезу, между группами нет значимой разницы\n",
      "--------------------\n",
      "MainScreenAppear:\n",
      "p-значение: [0.75267034]\n",
      "Не получилось отвергнуть нулевую гипотезу, между группами нет значимой разницы\n",
      "--------------------\n",
      "OffersScreenAppear:\n",
      "p-значение: [0.24786097]\n",
      "Не получилось отвергнуть нулевую гипотезу, между группами нет значимой разницы\n",
      "--------------------\n",
      "PaymentScreenSuccessful:\n",
      "p-значение: [0.11446628]\n",
      "Не получилось отвергнуть нулевую гипотезу, между группами нет значимой разницы\n",
      "--------------------\n"
     ]
    }
   ],
   "source": [
    "# рассчитаем количество уникальных пользователей обеих групп\n",
    "visitors_246_all = data_filtered.query('exp_id == 246').agg({'user_id' : 'nunique'})\n",
    "visitors_247_all = data_filtered.query('exp_id == 247').agg({'user_id' : 'nunique'})\n",
    "\n",
    "\n",
    "for name, group in data_filtered.groupby('event_name'):\n",
    "     \n",
    "    # подсчитаем количество уникальных посетителей экрана 1 и всех посетителей в группе 246\n",
    "    visitors_246_event = group.query('exp_id == 246').agg({'user_id' : 'nunique'})\n",
    "\n",
    "\n",
    "# подсчитаем количество уникальных посетителей экрана 1 и всех посетителей в группе 247\n",
    "    visitors_247_event = group.query('exp_id == 247').agg({'user_id' : 'nunique'})\n",
    "\n",
    "\n",
    "    alpha = .004 # критический уровень статистической значимости\n",
    "\n",
    "# Пропорция успехов в группах\n",
    "    p246 = visitors_246_event/visitors_246_all\n",
    "    p247 = visitors_247_event/visitors_247_all\n",
    " \n",
    " # Пропорция успехов в комбинированном датасете:\n",
    "    p_combined = (visitors_246_event + visitors_247_event)/(visitors_246_all + visitors_247_all)\n",
    " \n",
    " # Разница конверсий/# разница пропорций в датасетах\n",
    "    p_diff = p246 - p247\n",
    " \n",
    " # считаем статистику в ст.отклонениях стандартного нормального распределения\n",
    "    z_value = p_diff / mth.sqrt(p_combined * (1 - p_combined) * (1/visitors_246_all + 1/visitors_247_all))\n",
    " \n",
    " # задаем стандартное нормальное распределение (среднее 0, ст.отклонение 1)\n",
    "    distr = stats.norm(0, 1)\n",
    " \n",
    "    p_value = (1 - distr.cdf(abs(z_value))) * 2\n",
    " \n",
    "    print (name + \":\")\n",
    "    print('p-значение:',p_value)\n",
    " \n",
    "    if (p_value < alpha):\n",
    "        \n",
    "        print(\"Отвергаем нулевую гипотезу: между группами есть значимая разница\")\n",
    "    else:\n",
    "       \n",
    "        print(\"Не получилось отвергнуть нулевую гипотезу, между группами нет значимой разницы\")\n",
    "        print (\"----\" * 5)\n",
    "        \n",
    "  "
   ]
  },
  {
   "cell_type": "markdown",
   "metadata": {},
   "source": [
    "Для всех событий мы получили p-value выше уровня статистической значимости, поэтому нулевая гипотеза не может быть отвергнута. Статистически значимых различий между группами A/A нет, а значит, группы разбиты корректно."
   ]
  },
  {
   "cell_type": "markdown",
   "metadata": {},
   "source": [
    "### Проверка групп 246 и 248 по всем событиям\n",
    "\n",
    "Сравним результаты каждой из контрольных групп по отдельности и по каждому событию c группой 248, где изменили шрифт. \n",
    "\n",
    "\n",
    "Сформулируем нулевую и альтернативную гипотезы:\n",
    "\n",
    "- Нулевая гипотеза: между группами 246 и 248 нет значимых различий  \n",
    "- Альтернативная гипотеза:  между группами 246 и 248 есть статистически значимые различия \n",
    "\n",
    "Уровень значимости alpha = 0.004\n",
    "\n",
    "\n",
    "Выведем на экран p-value, рассчитанный по z-value:"
   ]
  },
  {
   "cell_type": "code",
   "execution_count": 37,
   "metadata": {},
   "outputs": [
    {
     "name": "stdout",
     "output_type": "stream",
     "text": [
      "CartScreenAppear:\n",
      "p-значение: [0.08067368]\n",
      "Не получилось отвергнуть нулевую гипотезу, между группами нет значимой разницы\n",
      "--------------------\n",
      "MainScreenAppear:\n",
      "p-значение: [0.33871141]\n",
      "Не получилось отвергнуть нулевую гипотезу, между группами нет значимой разницы\n",
      "--------------------\n",
      "OffersScreenAppear:\n",
      "p-значение: [0.21442477]\n",
      "Не получилось отвергнуть нулевую гипотезу, между группами нет значимой разницы\n",
      "--------------------\n",
      "PaymentScreenSuccessful:\n",
      "p-значение: [0.21693034]\n",
      "Не получилось отвергнуть нулевую гипотезу, между группами нет значимой разницы\n",
      "--------------------\n"
     ]
    }
   ],
   "source": [
    "# вычислим количество уникальных пользователей в группе 248\n",
    "visitors_248_all= data_filtered.query('exp_id == 248').agg({'user_id' : 'nunique'})\n",
    "\n",
    "\n",
    "for name, group in data_filtered.groupby('event_name'):\n",
    "     \n",
    "    # подсчитаем количество уникальных посетителей страницы в группе 246\n",
    "    visitors_246_event = group.query('exp_id == 246').agg({'user_id' : 'nunique'})\n",
    "\n",
    "\n",
    "# подсчитаем количество уникальных посетителей страницы в группе 247\n",
    "    visitors_248_event = group.query('exp_id == 248').agg({'user_id' : 'nunique'})\n",
    "\n",
    "\n",
    "    alpha = .004 # критический уровень статистической значимости\n",
    "\n",
    "# Пропорция успехов в группах\n",
    "    p246 = visitors_246_event/visitors_246_all\n",
    "    p248 = visitors_248_event/visitors_248_all\n",
    " \n",
    " # Пропорция успехов в комбинированном датасете:\n",
    "    p_combined = (visitors_246_event + visitors_248_event)/(visitors_246_all + visitors_248_all)\n",
    " \n",
    " # Разница конверсий/# разница пропорций в датасетах\n",
    "    p_diff = p246 - p248\n",
    " \n",
    " # считаем статистику в ст.отклонениях стандартного нормального распределения\n",
    "    z_value = p_diff / mth.sqrt(p_combined * (1 - p_combined) * (1/visitors_246_all + 1/visitors_248_all))\n",
    " \n",
    " # задаем стандартное нормальное распределение (среднее 0, ст.отклонение 1)\n",
    "    distr = stats.norm(0, 1)\n",
    " \n",
    "    p_value = (1 - distr.cdf(abs(z_value))) * 2\n",
    " \n",
    "    print (name + \":\")\n",
    "    print('p-значение:',p_value)\n",
    "    \n",
    " \n",
    "    if (p_value < alpha):\n",
    "        \n",
    "        print(\"Отвергаем нулевую гипотезу: между группами есть значимая разница\")\n",
    "    else:\n",
    "       \n",
    "        print(\"Не получилось отвергнуть нулевую гипотезу, между группами нет значимой разницы\")\n",
    "        print (\"----\" * 5)"
   ]
  },
  {
   "cell_type": "markdown",
   "metadata": {},
   "source": [
    "### Проверка групп 247 и 248 по всем событиям\n",
    "\n",
    "Сравним группы 247 и 248.\n",
    "\n",
    "Сформулируем нулевую и альтернативную гипотезы:\n",
    "\n",
    "- Нулевая гипотеза: между группами 247 и 248 нет значимых различий  \n",
    "- Альтернативная гипотеза:  между группами 247 и 248 есть статистически значимые различия \n",
    "\n",
    "Уровень значимости alpha = 0.004.\n",
    "\n",
    "\n",
    "Выведем на экран p-value, рассчитанный по z-value:"
   ]
  },
  {
   "cell_type": "code",
   "execution_count": 38,
   "metadata": {},
   "outputs": [
    {
     "name": "stdout",
     "output_type": "stream",
     "text": [
      "CartScreenAppear:\n",
      "p-value: [0.58782846]\n",
      "Не получилось отвергнуть нулевую гипотезу, между группами нет значимой разницы\n",
      "--------------------\n",
      "MainScreenAppear:\n",
      "p-value: [0.51949644]\n",
      "Не получилось отвергнуть нулевую гипотезу, между группами нет значимой разницы\n",
      "--------------------\n",
      "OffersScreenAppear:\n",
      "p-value: [0.93337513]\n",
      "Не получилось отвергнуть нулевую гипотезу, между группами нет значимой разницы\n",
      "--------------------\n",
      "PaymentScreenSuccessful:\n",
      "p-value: [0.72757187]\n",
      "Не получилось отвергнуть нулевую гипотезу, между группами нет значимой разницы\n",
      "--------------------\n"
     ]
    }
   ],
   "source": [
    "\n",
    "for name, group in data_filtered.groupby('event_name'):\n",
    "     \n",
    "    # подсчитаем количество уникальных посетителей в группе 247\n",
    "    visitors_247_event = group.query('exp_id == 247').agg({'user_id' : 'nunique'})\n",
    "\n",
    "\n",
    "    # подсчитаем количество уникальных посетителей в группе 248\n",
    "    visitors_248_event = group.query('exp_id == 248').agg({'user_id' : 'nunique'})\n",
    "\n",
    "\n",
    "    alpha = .004 # критический уровень статистической значимости\n",
    "\n",
    "# Пропорция успехов в группах\n",
    "    p247 = visitors_247_event/visitors_247_all\n",
    "    p248 = visitors_248_event/visitors_248_all\n",
    " \n",
    " # Пропорция успехов в комбинированном датасете:\n",
    "    p_combined = (visitors_247_event + visitors_248_event)/(visitors_247_all + visitors_248_all)\n",
    " \n",
    " # Разница конверсий/# разница пропорций в датасетах\n",
    "    p_diff = p247 - p248\n",
    "\n",
    "    \n",
    " # считаем статистику в ст.отклонениях стандартного нормального распределения\n",
    "    z_value = p_diff / mth.sqrt(p_combined * (1 - p_combined) * (1/visitors_247_all + 1/visitors_248_all))\n",
    " \n",
    " # задаем стандартное нормальное распределение (среднее 0, ст.отклонение 1)\n",
    "    distr = stats.norm(0, 1)\n",
    " \n",
    "    p_value = (1 - distr.cdf(abs(z_value))) * 2\n",
    " \n",
    "    print (name + \":\")\n",
    "    print('p-value:',p_value)\n",
    " \n",
    "    if (p_value < alpha):\n",
    "        \n",
    "        print(\"Отвергаем нулевую гипотезу: между группами есть значимая разница\")\n",
    "    else:\n",
    "       \n",
    "        print(\"Не получилось отвергнуть нулевую гипотезу, между группами нет значимой разницы\")\n",
    "        print (\"----\" * 5)"
   ]
  },
  {
   "cell_type": "markdown",
   "metadata": {},
   "source": [
    "Для всех событий мы получили p-value выше уровня статистической значимости, поэтому нулевая гипотеза не может быть отвергнута. Статистически значимых различий между группами A1, A2 и B нет."
   ]
  },
  {
   "cell_type": "markdown",
   "metadata": {},
   "source": [
    "### Проверка групп 246+247 и 248 по всем событиям"
   ]
  },
  {
   "cell_type": "markdown",
   "metadata": {},
   "source": [
    "Сравним результаты группы 248 с объединённой контрольной группой (246+247). \n",
    "\n",
    "\n",
    "Сформулируем нулевую и альтернативную гипотезы:\n",
    "\n",
    "- Нулевая гипотеза: между группами 246+247 и 248 нет значимых различий  \n",
    "- Альтернативная гипотеза:  между группами 246+247 и 248 есть статистически значимые различия \n",
    "\n",
    "Уровень значимости alpha = 0.05\n",
    "\n",
    "\n",
    "Выведем на экран p-value, рассчитанный по z-value:"
   ]
  },
  {
   "cell_type": "code",
   "execution_count": 39,
   "metadata": {},
   "outputs": [
    {
     "name": "stdout",
     "output_type": "stream",
     "text": [
      "CartScreenAppear:\n",
      "p-значение: [0.18683559]\n",
      "Не получилось отвергнуть нулевую гипотезу, между группами нет значимой разницы\n",
      "--------------------\n",
      "MainScreenAppear:\n",
      "p-значение: [0.34866843]\n",
      "Не получилось отвергнуть нулевую гипотезу, между группами нет значимой разницы\n",
      "--------------------\n",
      "OffersScreenAppear:\n",
      "p-значение: [0.44582745]\n",
      "Не получилось отвергнуть нулевую гипотезу, между группами нет значимой разницы\n",
      "--------------------\n",
      "PaymentScreenSuccessful:\n",
      "p-значение: [0.61079187]\n",
      "Не получилось отвергнуть нулевую гипотезу, между группами нет значимой разницы\n",
      "--------------------\n"
     ]
    }
   ],
   "source": [
    "# вычислим количество уникальных пользователей в группе 248\n",
    "visitors_248_all = data_filtered.query('exp_id == 248').agg({'user_id' : 'nunique'})\n",
    "\n",
    "# вычислим количество уникальных пользователей в сумме групп 246 и 247\n",
    "visitors_246_247_all = data_filtered.query('exp_id == 246 | exp_id == 247').agg({'user_id' : 'nunique'})\n",
    "\n",
    "    \n",
    "\n",
    "for name, group in data_filtered.groupby('event_name'):\n",
    "     \n",
    "    # подсчитаем количество уникальных посетителей в группе 248\n",
    "    visitors_248_event = group.query('exp_id == 248').agg({'user_id' : 'nunique'})\n",
    "    \n",
    "    # подсчитаем количество уникальных посетителей в группах 246-247\n",
    "    \n",
    "    visitors_246_247_event = group.query('exp_id == 246 | exp_id == 247').agg({'user_id' : 'nunique'})\n",
    "\n",
    "    alpha = .05 # критический уровень статистической значимости\n",
    "\n",
    "# Пропорция успехов в группах\n",
    "    p246247 = visitors_246_247_event/visitors_246_247_all\n",
    "    p248 = visitors_248_event/visitors_248_all\n",
    " \n",
    " # Пропорция успехов в комбинированном датасете:\n",
    "    p_combined = (visitors_246_247_event + visitors_248_event)/(visitors_246_247_all + visitors_248_all)\n",
    " \n",
    " # Разница конверсий/# разница пропорций в датасетах\n",
    "    p_diff = p246247 - p248\n",
    " \n",
    " # считаем статистику в ст.отклонениях стандартного нормального распределения\n",
    "    z_value = p_diff / mth.sqrt(p_combined * (1 - p_combined) * (1/visitors_246_247_all + 1/visitors_248_all))\n",
    " \n",
    " # задаем стандартное нормальное распределение (среднее 0, ст.отклонение 1)\n",
    "    distr = stats.norm(0, 1)\n",
    " \n",
    "    p_value = (1 - distr.cdf(abs(z_value))) * 2\n",
    " \n",
    "    print (name + \":\")\n",
    "    print('p-значение:',p_value)\n",
    " \n",
    "    if (p_value < alpha):\n",
    "        \n",
    "        print(\"Отвергаем нулевую гипотезу: между группами есть значимая разница\")\n",
    "    else:\n",
    "       \n",
    "        print(\"Не получилось отвергнуть нулевую гипотезу, между группами нет значимой разницы\")\n",
    "        print (\"----\" * 5)"
   ]
  },
  {
   "cell_type": "markdown",
   "metadata": {},
   "source": [
    "Для всех событий мы получили p-value выше уровня статистической значимости, поэтому нулевая гипотеза не может быть отвергнута. Статистически значимых различий между группами A1, A2 и B нет."
   ]
  },
  {
   "cell_type": "markdown",
   "metadata": {},
   "source": [
    "Для проверки гипотез мы выбрали уровень статистической значимости alpha =  0.004 и выполнили 3 проверки, каждая из которых включала в себя 4 события. Еще одну проверку (A1+A2/B) выполнили с критерием значимости 0.05, без поправки Бонферрони, поскольку этот тест дублирует тест A1/B и  A2/B. \n",
    "\n",
    "Можно применять любой уровень значимости alpha в зависимости от того, с какой уверенностью мы хотим принять или отвергнуть нулевую гипотезу.  \n",
    "Обычно используют уровни статистической значимости 0.05 или 0.01.\n",
    "\n",
    "Как правило, не используются уровни значимости выше 0.05, так как будет расти вероятность ошибочно отвергнуть нулевую гипотезу.\n",
    "\n",
    "От выбранного уровня alpha p-value не изменяются, поэтому проверять гипотезы еще раз не имеет смысла. Можно заметить, что все p-value в этом тесте больше 0.05, поэтому увеличение alpha не изменило бы результаты теста."
   ]
  },
  {
   "cell_type": "markdown",
   "metadata": {},
   "source": [
    "## Вывод:\n",
    "\n",
    "### Проделанные работы:\n",
    "\n",
    "- загружены датасеты с данными, получены общие сведения\n",
    "- данные подготовлены к обработке (проверены пропуски, типы данных, добавлен столбец с датами)\n",
    "- изучены данные: количество событий и пользователей, среднее количество событий на пользователя, построена гистограмма событий по дате и времени,  датасет отфильтрован по временному срезу\n",
    "- построена воронка событий:  события отсортированы по частоте и по числу пользователей, рассчитаны доли пользователей, которые хоть раз совершали событие, проанализировано количество пользователей на каждом шаге воронки и количество пользователей, которые доходят до оплаты\n",
    "- пронализированы результаты A/A/B эксперимента: сравнены группы A1/A2, A1/B, A2/B и A1+A2/B\n",
    "\n",
    "### Заключение:\n"
   ]
  },
  {
   "cell_type": "markdown",
   "metadata": {},
   "source": [
    "Был пронализирован датасет с результатами A/A/B теста для магазина продуктов питания. Эксперимент проходил в трех группах (группы 246 и 247 - контрольные, в группе 248 был изменен штрифт).\n",
    "\n",
    "Для анализа был выбран временной срез с 01 по 07 августа, так как данные, собранные до этого периода, -  неполные.\n",
    "В результате фильтрации было сохранено 98% данных.\n",
    "\n",
    "Данные анализировались на 7534 уникальных пользователях и 240887 событиях.\n",
    "\n",
    "После построения воронки продаж выяснилось, что наибольший процент пользователей, совершивших покупку - в группе 246 (49%).\n",
    "Во всех группах пользователи удерживаются примерно одинаково и хорошо, а больше всего пользователей в каждой группе 'теряется' при переходе с первого на второй этап (c главной страницы на страницу предложений переходят во всех группах 60-62% пользователей).\n",
    "\n",
    "В целом, удерживаемость между разными этапами воронки составляет 60-97%.\n",
    "\n",
    "До оплаты доходит 46-49% пользователей - самые высокие показатели в группе 246.\n",
    "\n",
    "Статистические различия между группами A1/A2, A1/B, A2/B, A1+A2/B проверялись с помощью Z-теста.\n",
    "Выбран уровень статистической значимости - 0.004 (с поправкой Бонферрони).\n",
    "\n",
    "Были отдельно протестированы все этапы воронки и сравнены все пары групп между собой.\n",
    "\n",
    "По результатам теста, статистически значимых различий между любыми взятыми группами и этапами воронки не обнаружено, а значит, размер нового шрифта не оказывает никакого влияния на поведение посетителей.\n"
   ]
  }
 ],
 "metadata": {
  "ExecuteTimeLog": [
   {
    "duration": 56,
    "start_time": "2022-08-22T14:22:24.020Z"
   },
   {
    "duration": 1222,
    "start_time": "2022-08-22T14:23:02.432Z"
   },
   {
    "duration": 773,
    "start_time": "2022-08-22T14:23:04.129Z"
   },
   {
    "duration": 1110,
    "start_time": "2022-08-22T14:23:08.611Z"
   },
   {
    "duration": 265,
    "start_time": "2022-08-22T14:23:09.723Z"
   },
   {
    "duration": 10,
    "start_time": "2022-08-22T14:23:19.403Z"
   },
   {
    "duration": 83,
    "start_time": "2022-08-22T14:23:35.728Z"
   },
   {
    "duration": 93,
    "start_time": "2022-08-22T14:23:59.437Z"
   },
   {
    "duration": 286,
    "start_time": "2022-08-22T14:24:19.293Z"
   },
   {
    "duration": 6,
    "start_time": "2022-08-22T14:24:20.684Z"
   },
   {
    "duration": 142,
    "start_time": "2022-08-22T14:24:29.476Z"
   },
   {
    "duration": 7,
    "start_time": "2022-08-22T14:24:30.107Z"
   },
   {
    "duration": 32,
    "start_time": "2022-08-22T14:24:47.949Z"
   },
   {
    "duration": 23,
    "start_time": "2022-08-22T14:25:16.199Z"
   },
   {
    "duration": 48,
    "start_time": "2022-08-22T14:25:38.966Z"
   },
   {
    "duration": 3,
    "start_time": "2022-08-22T14:28:36.312Z"
   },
   {
    "duration": 6,
    "start_time": "2022-08-22T14:28:45.694Z"
   },
   {
    "duration": 96,
    "start_time": "2022-08-22T14:28:53.400Z"
   },
   {
    "duration": 73,
    "start_time": "2022-08-22T14:29:06.510Z"
   },
   {
    "duration": 9,
    "start_time": "2022-08-22T14:29:22.591Z"
   },
   {
    "duration": 119,
    "start_time": "2022-08-22T14:30:01.640Z"
   },
   {
    "duration": 8,
    "start_time": "2022-08-22T14:31:28.973Z"
   },
   {
    "duration": 1071,
    "start_time": "2022-08-22T14:32:44.204Z"
   },
   {
    "duration": 143,
    "start_time": "2022-08-22T14:32:45.277Z"
   },
   {
    "duration": 10,
    "start_time": "2022-08-22T14:32:45.422Z"
   },
   {
    "duration": 48,
    "start_time": "2022-08-22T14:32:45.433Z"
   },
   {
    "duration": 27,
    "start_time": "2022-08-22T14:32:45.484Z"
   },
   {
    "duration": 59,
    "start_time": "2022-08-22T14:32:45.512Z"
   },
   {
    "duration": 3,
    "start_time": "2022-08-22T14:32:45.572Z"
   },
   {
    "duration": 12,
    "start_time": "2022-08-22T14:32:45.577Z"
   },
   {
    "duration": 88,
    "start_time": "2022-08-22T14:34:23.842Z"
   },
   {
    "duration": 3830,
    "start_time": "2022-08-22T14:35:18.577Z"
   },
   {
    "duration": 34,
    "start_time": "2022-08-22T14:38:18.580Z"
   },
   {
    "duration": 7,
    "start_time": "2022-08-22T14:38:27.740Z"
   },
   {
    "duration": 10,
    "start_time": "2022-08-22T14:39:06.987Z"
   },
   {
    "duration": 1065,
    "start_time": "2022-08-22T14:39:15.079Z"
   },
   {
    "duration": 159,
    "start_time": "2022-08-22T14:39:16.147Z"
   },
   {
    "duration": 10,
    "start_time": "2022-08-22T14:39:16.308Z"
   },
   {
    "duration": 38,
    "start_time": "2022-08-22T14:39:16.320Z"
   },
   {
    "duration": 16,
    "start_time": "2022-08-22T14:39:16.360Z"
   },
   {
    "duration": 75,
    "start_time": "2022-08-22T14:39:16.378Z"
   },
   {
    "duration": 4,
    "start_time": "2022-08-22T14:39:16.455Z"
   },
   {
    "duration": 11,
    "start_time": "2022-08-22T14:39:16.461Z"
   },
   {
    "duration": 53,
    "start_time": "2022-08-22T14:39:16.474Z"
   },
   {
    "duration": 9,
    "start_time": "2022-08-22T14:39:16.528Z"
   },
   {
    "duration": 10,
    "start_time": "2022-08-22T14:43:11.124Z"
   },
   {
    "duration": 8,
    "start_time": "2022-08-22T14:43:11.841Z"
   },
   {
    "duration": 88,
    "start_time": "2022-08-22T14:44:34.060Z"
   },
   {
    "duration": 10,
    "start_time": "2022-08-22T14:47:58.072Z"
   },
   {
    "duration": 7,
    "start_time": "2022-08-22T14:47:58.620Z"
   },
   {
    "duration": 96,
    "start_time": "2022-08-22T14:51:39.542Z"
   },
   {
    "duration": 8,
    "start_time": "2022-08-22T14:51:40.873Z"
   },
   {
    "duration": 1543,
    "start_time": "2022-08-22T14:51:46.064Z"
   },
   {
    "duration": 0,
    "start_time": "2022-08-22T14:51:47.609Z"
   },
   {
    "duration": 16,
    "start_time": "2022-08-22T14:52:12.037Z"
   },
   {
    "duration": 7,
    "start_time": "2022-08-22T14:52:13.406Z"
   },
   {
    "duration": 1053,
    "start_time": "2022-08-22T14:52:24.751Z"
   },
   {
    "duration": 146,
    "start_time": "2022-08-22T14:52:25.805Z"
   },
   {
    "duration": 10,
    "start_time": "2022-08-22T14:52:25.953Z"
   },
   {
    "duration": 58,
    "start_time": "2022-08-22T14:52:25.964Z"
   },
   {
    "duration": 23,
    "start_time": "2022-08-22T14:52:26.023Z"
   },
   {
    "duration": 97,
    "start_time": "2022-08-22T14:52:26.048Z"
   },
   {
    "duration": 4,
    "start_time": "2022-08-22T14:52:26.147Z"
   },
   {
    "duration": 31,
    "start_time": "2022-08-22T14:52:26.152Z"
   },
   {
    "duration": 28,
    "start_time": "2022-08-22T14:52:26.185Z"
   },
   {
    "duration": 9,
    "start_time": "2022-08-22T14:52:26.216Z"
   },
   {
    "duration": 1054,
    "start_time": "2022-08-22T14:52:44.335Z"
   },
   {
    "duration": 144,
    "start_time": "2022-08-22T14:52:45.390Z"
   },
   {
    "duration": 10,
    "start_time": "2022-08-22T14:52:45.536Z"
   },
   {
    "duration": 48,
    "start_time": "2022-08-22T14:52:45.548Z"
   },
   {
    "duration": 16,
    "start_time": "2022-08-22T14:52:45.605Z"
   },
   {
    "duration": 58,
    "start_time": "2022-08-22T14:52:45.623Z"
   },
   {
    "duration": 3,
    "start_time": "2022-08-22T14:52:45.683Z"
   },
   {
    "duration": 11,
    "start_time": "2022-08-22T14:52:45.705Z"
   },
   {
    "duration": 14,
    "start_time": "2022-08-22T14:52:45.717Z"
   },
   {
    "duration": 8,
    "start_time": "2022-08-22T14:52:45.733Z"
   },
   {
    "duration": 115,
    "start_time": "2022-08-22T15:05:10.895Z"
   },
   {
    "duration": 17,
    "start_time": "2022-08-22T15:05:15.550Z"
   },
   {
    "duration": 8,
    "start_time": "2022-08-22T15:05:17.030Z"
   },
   {
    "duration": 16,
    "start_time": "2022-08-22T15:13:00.043Z"
   },
   {
    "duration": 84,
    "start_time": "2022-08-22T15:13:25.067Z"
   },
   {
    "duration": 153,
    "start_time": "2022-08-22T15:13:35.865Z"
   },
   {
    "duration": 6,
    "start_time": "2022-08-22T15:13:51.154Z"
   },
   {
    "duration": 1052,
    "start_time": "2022-08-22T15:13:59.442Z"
   },
   {
    "duration": 147,
    "start_time": "2022-08-22T15:14:00.497Z"
   },
   {
    "duration": 10,
    "start_time": "2022-08-22T15:14:00.646Z"
   },
   {
    "duration": 46,
    "start_time": "2022-08-22T15:14:00.658Z"
   },
   {
    "duration": 16,
    "start_time": "2022-08-22T15:14:00.705Z"
   },
   {
    "duration": 13,
    "start_time": "2022-08-22T15:14:00.723Z"
   },
   {
    "duration": 68,
    "start_time": "2022-08-22T15:14:00.738Z"
   },
   {
    "duration": 125,
    "start_time": "2022-08-22T15:14:00.807Z"
   },
   {
    "duration": 4,
    "start_time": "2022-08-22T15:14:00.933Z"
   },
   {
    "duration": 33,
    "start_time": "2022-08-22T15:14:00.939Z"
   },
   {
    "duration": 43,
    "start_time": "2022-08-22T15:14:00.973Z"
   },
   {
    "duration": 14,
    "start_time": "2022-08-22T15:14:01.018Z"
   },
   {
    "duration": 9,
    "start_time": "2022-08-22T15:14:08.614Z"
   },
   {
    "duration": 11,
    "start_time": "2022-08-22T15:15:24.400Z"
   },
   {
    "duration": 20,
    "start_time": "2022-08-22T15:15:52.071Z"
   },
   {
    "duration": 10,
    "start_time": "2022-08-22T15:16:13.951Z"
   },
   {
    "duration": 1068,
    "start_time": "2022-08-22T15:16:56.323Z"
   },
   {
    "duration": 146,
    "start_time": "2022-08-22T15:16:57.392Z"
   },
   {
    "duration": 10,
    "start_time": "2022-08-22T15:16:57.540Z"
   },
   {
    "duration": 43,
    "start_time": "2022-08-22T15:16:57.551Z"
   },
   {
    "duration": 17,
    "start_time": "2022-08-22T15:16:57.607Z"
   },
   {
    "duration": 16,
    "start_time": "2022-08-22T15:16:57.626Z"
   },
   {
    "duration": 73,
    "start_time": "2022-08-22T15:16:57.643Z"
   },
   {
    "duration": 121,
    "start_time": "2022-08-22T15:16:57.718Z"
   },
   {
    "duration": 3,
    "start_time": "2022-08-22T15:16:57.841Z"
   },
   {
    "duration": 11,
    "start_time": "2022-08-22T15:16:57.845Z"
   },
   {
    "duration": 13,
    "start_time": "2022-08-22T15:16:57.858Z"
   },
   {
    "duration": 8,
    "start_time": "2022-08-22T15:16:57.872Z"
   },
   {
    "duration": 29,
    "start_time": "2022-08-22T15:16:57.882Z"
   },
   {
    "duration": 24,
    "start_time": "2022-08-22T15:16:57.913Z"
   },
   {
    "duration": 15,
    "start_time": "2022-08-22T15:16:57.938Z"
   },
   {
    "duration": 4,
    "start_time": "2022-08-22T15:17:04.794Z"
   },
   {
    "duration": 11,
    "start_time": "2022-08-22T15:17:40.254Z"
   },
   {
    "duration": 11,
    "start_time": "2022-08-22T15:17:53.708Z"
   },
   {
    "duration": 1137,
    "start_time": "2022-08-22T15:18:05.774Z"
   },
   {
    "duration": 143,
    "start_time": "2022-08-22T15:18:06.913Z"
   },
   {
    "duration": 11,
    "start_time": "2022-08-22T15:18:07.057Z"
   },
   {
    "duration": 45,
    "start_time": "2022-08-22T15:18:07.070Z"
   },
   {
    "duration": 17,
    "start_time": "2022-08-22T15:18:07.117Z"
   },
   {
    "duration": 13,
    "start_time": "2022-08-22T15:18:07.136Z"
   },
   {
    "duration": 72,
    "start_time": "2022-08-22T15:18:07.150Z"
   },
   {
    "duration": 119,
    "start_time": "2022-08-22T15:18:07.224Z"
   },
   {
    "duration": 3,
    "start_time": "2022-08-22T15:18:07.345Z"
   },
   {
    "duration": 10,
    "start_time": "2022-08-22T15:18:07.349Z"
   },
   {
    "duration": 14,
    "start_time": "2022-08-22T15:18:07.360Z"
   },
   {
    "duration": 8,
    "start_time": "2022-08-22T15:18:07.375Z"
   },
   {
    "duration": 28,
    "start_time": "2022-08-22T15:18:07.384Z"
   },
   {
    "duration": 21,
    "start_time": "2022-08-22T15:18:07.415Z"
   },
   {
    "duration": 4,
    "start_time": "2022-08-22T15:18:07.438Z"
   },
   {
    "duration": 12,
    "start_time": "2022-08-22T15:18:07.443Z"
   },
   {
    "duration": 11,
    "start_time": "2022-08-22T15:19:37.234Z"
   },
   {
    "duration": 36,
    "start_time": "2022-08-22T15:19:53.326Z"
   },
   {
    "duration": 87,
    "start_time": "2022-08-22T15:20:47.470Z"
   },
   {
    "duration": 9,
    "start_time": "2022-08-22T15:22:31.435Z"
   },
   {
    "duration": 8,
    "start_time": "2022-08-22T15:22:38.727Z"
   },
   {
    "duration": 38,
    "start_time": "2022-08-22T15:22:47.646Z"
   },
   {
    "duration": 15,
    "start_time": "2022-08-22T15:23:04.333Z"
   },
   {
    "duration": 12,
    "start_time": "2022-08-22T15:23:31.005Z"
   },
   {
    "duration": 11,
    "start_time": "2022-08-22T15:33:50.435Z"
   },
   {
    "duration": 1092,
    "start_time": "2022-08-22T15:33:56.589Z"
   },
   {
    "duration": 151,
    "start_time": "2022-08-22T15:33:57.683Z"
   },
   {
    "duration": 10,
    "start_time": "2022-08-22T15:33:57.836Z"
   },
   {
    "duration": 36,
    "start_time": "2022-08-22T15:33:57.848Z"
   },
   {
    "duration": 30,
    "start_time": "2022-08-22T15:33:57.886Z"
   },
   {
    "duration": 11,
    "start_time": "2022-08-22T15:33:57.917Z"
   },
   {
    "duration": 55,
    "start_time": "2022-08-22T15:33:57.929Z"
   },
   {
    "duration": 124,
    "start_time": "2022-08-22T15:33:57.985Z"
   },
   {
    "duration": 3,
    "start_time": "2022-08-22T15:33:58.110Z"
   },
   {
    "duration": 10,
    "start_time": "2022-08-22T15:33:58.114Z"
   },
   {
    "duration": 12,
    "start_time": "2022-08-22T15:33:58.126Z"
   },
   {
    "duration": 8,
    "start_time": "2022-08-22T15:33:58.139Z"
   },
   {
    "duration": 11,
    "start_time": "2022-08-22T15:33:58.149Z"
   },
   {
    "duration": 45,
    "start_time": "2022-08-22T15:33:58.162Z"
   },
   {
    "duration": 4,
    "start_time": "2022-08-22T15:33:58.208Z"
   },
   {
    "duration": 23,
    "start_time": "2022-08-22T15:33:58.213Z"
   },
   {
    "duration": 95,
    "start_time": "2022-08-22T15:34:19.946Z"
   },
   {
    "duration": 14,
    "start_time": "2022-08-22T15:34:20.852Z"
   },
   {
    "duration": 1074,
    "start_time": "2022-08-22T15:34:36.709Z"
   },
   {
    "duration": 143,
    "start_time": "2022-08-22T15:34:37.785Z"
   },
   {
    "duration": 10,
    "start_time": "2022-08-22T15:34:37.930Z"
   },
   {
    "duration": 37,
    "start_time": "2022-08-22T15:34:37.941Z"
   },
   {
    "duration": 30,
    "start_time": "2022-08-22T15:34:37.980Z"
   },
   {
    "duration": 11,
    "start_time": "2022-08-22T15:34:38.012Z"
   },
   {
    "duration": 57,
    "start_time": "2022-08-22T15:34:38.025Z"
   },
   {
    "duration": 124,
    "start_time": "2022-08-22T15:34:38.084Z"
   },
   {
    "duration": 3,
    "start_time": "2022-08-22T15:34:38.210Z"
   },
   {
    "duration": 14,
    "start_time": "2022-08-22T15:34:38.215Z"
   },
   {
    "duration": 19,
    "start_time": "2022-08-22T15:34:38.230Z"
   },
   {
    "duration": 8,
    "start_time": "2022-08-22T15:34:38.251Z"
   },
   {
    "duration": 13,
    "start_time": "2022-08-22T15:34:38.261Z"
   },
   {
    "duration": 37,
    "start_time": "2022-08-22T15:34:38.276Z"
   },
   {
    "duration": 25,
    "start_time": "2022-08-22T15:34:38.314Z"
   },
   {
    "duration": 94,
    "start_time": "2022-08-22T15:34:38.341Z"
   },
   {
    "duration": 9,
    "start_time": "2022-08-22T15:37:45.426Z"
   },
   {
    "duration": 1053,
    "start_time": "2022-08-22T15:37:51.345Z"
   },
   {
    "duration": 147,
    "start_time": "2022-08-22T15:37:52.400Z"
   },
   {
    "duration": 10,
    "start_time": "2022-08-22T15:37:52.549Z"
   },
   {
    "duration": 46,
    "start_time": "2022-08-22T15:37:52.560Z"
   },
   {
    "duration": 16,
    "start_time": "2022-08-22T15:37:52.608Z"
   },
   {
    "duration": 26,
    "start_time": "2022-08-22T15:37:52.625Z"
   },
   {
    "duration": 66,
    "start_time": "2022-08-22T15:37:52.652Z"
   },
   {
    "duration": 116,
    "start_time": "2022-08-22T15:37:52.719Z"
   },
   {
    "duration": 3,
    "start_time": "2022-08-22T15:37:52.837Z"
   },
   {
    "duration": 23,
    "start_time": "2022-08-22T15:37:52.842Z"
   },
   {
    "duration": 23,
    "start_time": "2022-08-22T15:37:52.866Z"
   },
   {
    "duration": 14,
    "start_time": "2022-08-22T15:37:52.891Z"
   },
   {
    "duration": 17,
    "start_time": "2022-08-22T15:37:52.907Z"
   },
   {
    "duration": 34,
    "start_time": "2022-08-22T15:37:52.926Z"
   },
   {
    "duration": 17,
    "start_time": "2022-08-22T15:37:52.961Z"
   },
   {
    "duration": 19,
    "start_time": "2022-08-22T15:37:52.979Z"
   },
   {
    "duration": 14,
    "start_time": "2022-08-22T15:38:04.346Z"
   },
   {
    "duration": 6,
    "start_time": "2022-08-22T15:38:59.468Z"
   },
   {
    "duration": 5,
    "start_time": "2022-08-22T15:39:12.811Z"
   },
   {
    "duration": 501,
    "start_time": "2022-08-22T15:40:38.994Z"
   },
   {
    "duration": 80,
    "start_time": "2022-08-22T15:41:10.427Z"
   },
   {
    "duration": 347,
    "start_time": "2022-08-22T15:41:17.518Z"
   },
   {
    "duration": 151,
    "start_time": "2022-08-22T15:41:43.723Z"
   },
   {
    "duration": 186,
    "start_time": "2022-08-22T15:42:03.626Z"
   },
   {
    "duration": 187,
    "start_time": "2022-08-22T15:42:27.770Z"
   },
   {
    "duration": 190,
    "start_time": "2022-08-22T15:42:49.059Z"
   },
   {
    "duration": 259,
    "start_time": "2022-08-22T15:43:11.829Z"
   },
   {
    "duration": 179,
    "start_time": "2022-08-22T15:43:17.560Z"
   },
   {
    "duration": 290,
    "start_time": "2022-08-22T15:43:26.052Z"
   },
   {
    "duration": 258,
    "start_time": "2022-08-22T15:43:37.004Z"
   },
   {
    "duration": 264,
    "start_time": "2022-08-22T15:43:43.597Z"
   },
   {
    "duration": 44,
    "start_time": "2022-08-22T15:46:53.672Z"
   },
   {
    "duration": 1063,
    "start_time": "2022-08-22T15:47:00.451Z"
   },
   {
    "duration": 672,
    "start_time": "2022-08-22T15:47:01.516Z"
   },
   {
    "duration": 10,
    "start_time": "2022-08-22T15:47:02.190Z"
   },
   {
    "duration": 48,
    "start_time": "2022-08-22T15:47:02.201Z"
   },
   {
    "duration": 17,
    "start_time": "2022-08-22T15:47:02.252Z"
   },
   {
    "duration": 17,
    "start_time": "2022-08-22T15:47:02.272Z"
   },
   {
    "duration": 74,
    "start_time": "2022-08-22T15:47:02.291Z"
   },
   {
    "duration": 140,
    "start_time": "2022-08-22T15:47:02.367Z"
   },
   {
    "duration": 3,
    "start_time": "2022-08-22T15:47:02.509Z"
   },
   {
    "duration": 15,
    "start_time": "2022-08-22T15:47:02.514Z"
   },
   {
    "duration": 14,
    "start_time": "2022-08-22T15:47:02.531Z"
   },
   {
    "duration": 8,
    "start_time": "2022-08-22T15:47:02.547Z"
   },
   {
    "duration": 19,
    "start_time": "2022-08-22T15:47:02.556Z"
   },
   {
    "duration": 34,
    "start_time": "2022-08-22T15:47:02.578Z"
   },
   {
    "duration": 12,
    "start_time": "2022-08-22T15:47:02.614Z"
   },
   {
    "duration": 14,
    "start_time": "2022-08-22T15:47:02.628Z"
   },
   {
    "duration": 5,
    "start_time": "2022-08-22T15:47:02.643Z"
   },
   {
    "duration": 393,
    "start_time": "2022-08-22T15:47:02.649Z"
   },
   {
    "duration": 48,
    "start_time": "2022-08-22T15:47:19.337Z"
   },
   {
    "duration": 1132,
    "start_time": "2022-08-22T15:47:24.480Z"
   },
   {
    "duration": 684,
    "start_time": "2022-08-22T15:47:25.613Z"
   },
   {
    "duration": 10,
    "start_time": "2022-08-22T15:47:26.299Z"
   },
   {
    "duration": 46,
    "start_time": "2022-08-22T15:47:26.311Z"
   },
   {
    "duration": 18,
    "start_time": "2022-08-22T15:47:26.359Z"
   },
   {
    "duration": 12,
    "start_time": "2022-08-22T15:47:26.378Z"
   },
   {
    "duration": 62,
    "start_time": "2022-08-22T15:47:26.405Z"
   },
   {
    "duration": 140,
    "start_time": "2022-08-22T15:47:26.469Z"
   },
   {
    "duration": 4,
    "start_time": "2022-08-22T15:47:26.610Z"
   },
   {
    "duration": 35,
    "start_time": "2022-08-22T15:47:26.615Z"
   },
   {
    "duration": 26,
    "start_time": "2022-08-22T15:47:26.651Z"
   },
   {
    "duration": 28,
    "start_time": "2022-08-22T15:47:26.678Z"
   },
   {
    "duration": 32,
    "start_time": "2022-08-22T15:47:26.708Z"
   },
   {
    "duration": 27,
    "start_time": "2022-08-22T15:47:26.743Z"
   },
   {
    "duration": 32,
    "start_time": "2022-08-22T15:47:26.772Z"
   },
   {
    "duration": 20,
    "start_time": "2022-08-22T15:47:26.806Z"
   },
   {
    "duration": 23,
    "start_time": "2022-08-22T15:47:26.828Z"
   },
   {
    "duration": 360,
    "start_time": "2022-08-22T15:47:26.853Z"
   },
   {
    "duration": 41,
    "start_time": "2022-08-22T15:47:50.399Z"
   },
   {
    "duration": 1101,
    "start_time": "2022-08-22T15:47:55.711Z"
   },
   {
    "duration": 672,
    "start_time": "2022-08-22T15:47:56.814Z"
   },
   {
    "duration": 11,
    "start_time": "2022-08-22T15:47:57.487Z"
   },
   {
    "duration": 45,
    "start_time": "2022-08-22T15:47:57.500Z"
   },
   {
    "duration": 17,
    "start_time": "2022-08-22T15:47:57.546Z"
   },
   {
    "duration": 13,
    "start_time": "2022-08-22T15:47:57.564Z"
   },
   {
    "duration": 73,
    "start_time": "2022-08-22T15:47:57.578Z"
   },
   {
    "duration": 127,
    "start_time": "2022-08-22T15:47:57.652Z"
   },
   {
    "duration": 3,
    "start_time": "2022-08-22T15:47:57.780Z"
   },
   {
    "duration": 9,
    "start_time": "2022-08-22T15:47:57.785Z"
   },
   {
    "duration": 11,
    "start_time": "2022-08-22T15:47:57.806Z"
   },
   {
    "duration": 9,
    "start_time": "2022-08-22T15:47:57.818Z"
   },
   {
    "duration": 12,
    "start_time": "2022-08-22T15:47:57.829Z"
   },
   {
    "duration": 19,
    "start_time": "2022-08-22T15:47:57.842Z"
   },
   {
    "duration": 14,
    "start_time": "2022-08-22T15:47:57.862Z"
   },
   {
    "duration": 32,
    "start_time": "2022-08-22T15:47:57.878Z"
   },
   {
    "duration": 4,
    "start_time": "2022-08-22T15:47:57.912Z"
   },
   {
    "duration": 359,
    "start_time": "2022-08-22T15:47:57.917Z"
   },
   {
    "duration": 49,
    "start_time": "2022-08-22T15:47:58.277Z"
   },
   {
    "duration": 91,
    "start_time": "2022-08-22T15:48:11.845Z"
   },
   {
    "duration": 1090,
    "start_time": "2022-08-22T15:48:17.179Z"
   },
   {
    "duration": 147,
    "start_time": "2022-08-22T15:48:18.270Z"
   },
   {
    "duration": 10,
    "start_time": "2022-08-22T15:48:18.418Z"
   },
   {
    "duration": 40,
    "start_time": "2022-08-22T15:48:18.429Z"
   },
   {
    "duration": 16,
    "start_time": "2022-08-22T15:48:18.471Z"
   },
   {
    "duration": 26,
    "start_time": "2022-08-22T15:48:18.488Z"
   },
   {
    "duration": 57,
    "start_time": "2022-08-22T15:48:18.516Z"
   },
   {
    "duration": 126,
    "start_time": "2022-08-22T15:48:18.575Z"
   },
   {
    "duration": 3,
    "start_time": "2022-08-22T15:48:18.703Z"
   },
   {
    "duration": 10,
    "start_time": "2022-08-22T15:48:18.708Z"
   },
   {
    "duration": 15,
    "start_time": "2022-08-22T15:48:18.720Z"
   },
   {
    "duration": 8,
    "start_time": "2022-08-22T15:48:18.737Z"
   },
   {
    "duration": 14,
    "start_time": "2022-08-22T15:48:18.746Z"
   },
   {
    "duration": 19,
    "start_time": "2022-08-22T15:48:18.762Z"
   },
   {
    "duration": 10,
    "start_time": "2022-08-22T15:48:18.806Z"
   },
   {
    "duration": 13,
    "start_time": "2022-08-22T15:48:18.818Z"
   },
   {
    "duration": 5,
    "start_time": "2022-08-22T15:48:18.833Z"
   },
   {
    "duration": 404,
    "start_time": "2022-08-22T15:48:18.839Z"
   },
   {
    "duration": 25,
    "start_time": "2022-08-22T15:48:19.245Z"
   },
   {
    "duration": 10,
    "start_time": "2022-08-22T15:48:54.691Z"
   },
   {
    "duration": 1028,
    "start_time": "2022-08-22T15:49:01.070Z"
   },
   {
    "duration": 144,
    "start_time": "2022-08-22T15:49:02.099Z"
   },
   {
    "duration": 10,
    "start_time": "2022-08-22T15:49:02.245Z"
   },
   {
    "duration": 57,
    "start_time": "2022-08-22T15:49:02.257Z"
   },
   {
    "duration": 18,
    "start_time": "2022-08-22T15:49:02.315Z"
   },
   {
    "duration": 13,
    "start_time": "2022-08-22T15:49:02.335Z"
   },
   {
    "duration": 80,
    "start_time": "2022-08-22T15:49:02.349Z"
   },
   {
    "duration": 118,
    "start_time": "2022-08-22T15:49:02.431Z"
   },
   {
    "duration": 3,
    "start_time": "2022-08-22T15:49:02.551Z"
   },
   {
    "duration": 21,
    "start_time": "2022-08-22T15:49:02.556Z"
   },
   {
    "duration": 16,
    "start_time": "2022-08-22T15:49:02.579Z"
   },
   {
    "duration": 10,
    "start_time": "2022-08-22T15:49:02.597Z"
   },
   {
    "duration": 31,
    "start_time": "2022-08-22T15:49:02.608Z"
   },
   {
    "duration": 22,
    "start_time": "2022-08-22T15:49:02.641Z"
   },
   {
    "duration": 35,
    "start_time": "2022-08-22T15:49:02.664Z"
   },
   {
    "duration": 13,
    "start_time": "2022-08-22T15:49:02.701Z"
   },
   {
    "duration": 11,
    "start_time": "2022-08-22T15:49:02.715Z"
   },
   {
    "duration": 357,
    "start_time": "2022-08-22T15:49:02.727Z"
   },
   {
    "duration": 29,
    "start_time": "2022-08-22T15:49:03.085Z"
   },
   {
    "duration": 63,
    "start_time": "2022-08-22T15:49:46.001Z"
   },
   {
    "duration": 14,
    "start_time": "2022-08-22T15:50:01.700Z"
   },
   {
    "duration": 30,
    "start_time": "2022-08-22T15:50:08.285Z"
   },
   {
    "duration": 20,
    "start_time": "2022-08-22T15:51:23.677Z"
   },
   {
    "duration": 9,
    "start_time": "2022-08-22T15:52:13.500Z"
   },
   {
    "duration": 21,
    "start_time": "2022-08-22T15:53:02.249Z"
   },
   {
    "duration": 24,
    "start_time": "2022-08-22T15:53:46.985Z"
   },
   {
    "duration": 1189,
    "start_time": "2022-08-22T15:54:16.799Z"
   },
   {
    "duration": 149,
    "start_time": "2022-08-22T15:54:17.990Z"
   },
   {
    "duration": 9,
    "start_time": "2022-08-22T15:54:18.141Z"
   },
   {
    "duration": 52,
    "start_time": "2022-08-22T15:54:18.152Z"
   },
   {
    "duration": 16,
    "start_time": "2022-08-22T15:54:18.206Z"
   },
   {
    "duration": 22,
    "start_time": "2022-08-22T15:54:18.223Z"
   },
   {
    "duration": 68,
    "start_time": "2022-08-22T15:54:18.247Z"
   },
   {
    "duration": 129,
    "start_time": "2022-08-22T15:54:18.317Z"
   },
   {
    "duration": 3,
    "start_time": "2022-08-22T15:54:18.448Z"
   },
   {
    "duration": 22,
    "start_time": "2022-08-22T15:54:18.452Z"
   },
   {
    "duration": 23,
    "start_time": "2022-08-22T15:54:18.476Z"
   },
   {
    "duration": 9,
    "start_time": "2022-08-22T15:54:18.500Z"
   },
   {
    "duration": 12,
    "start_time": "2022-08-22T15:54:18.510Z"
   },
   {
    "duration": 32,
    "start_time": "2022-08-22T15:54:18.524Z"
   },
   {
    "duration": 10,
    "start_time": "2022-08-22T15:54:18.557Z"
   },
   {
    "duration": 16,
    "start_time": "2022-08-22T15:54:18.569Z"
   },
   {
    "duration": 7,
    "start_time": "2022-08-22T15:54:18.586Z"
   },
   {
    "duration": 374,
    "start_time": "2022-08-22T15:54:18.595Z"
   },
   {
    "duration": 23,
    "start_time": "2022-08-22T15:54:18.970Z"
   },
   {
    "duration": 31,
    "start_time": "2022-08-22T15:54:18.994Z"
   },
   {
    "duration": 9,
    "start_time": "2022-08-22T15:54:19.027Z"
   },
   {
    "duration": 29,
    "start_time": "2022-08-22T15:54:19.037Z"
   },
   {
    "duration": 88,
    "start_time": "2022-08-22T16:07:38.157Z"
   },
   {
    "duration": 92,
    "start_time": "2022-08-22T16:07:46.475Z"
   },
   {
    "duration": 86,
    "start_time": "2022-08-22T16:07:55.039Z"
   },
   {
    "duration": 1032,
    "start_time": "2022-08-22T16:08:22.560Z"
   },
   {
    "duration": 152,
    "start_time": "2022-08-22T16:08:23.594Z"
   },
   {
    "duration": 10,
    "start_time": "2022-08-22T16:08:23.748Z"
   },
   {
    "duration": 50,
    "start_time": "2022-08-22T16:08:23.761Z"
   },
   {
    "duration": 18,
    "start_time": "2022-08-22T16:08:23.813Z"
   },
   {
    "duration": 14,
    "start_time": "2022-08-22T16:08:23.833Z"
   },
   {
    "duration": 80,
    "start_time": "2022-08-22T16:08:23.849Z"
   },
   {
    "duration": 118,
    "start_time": "2022-08-22T16:08:23.931Z"
   },
   {
    "duration": 4,
    "start_time": "2022-08-22T16:08:24.050Z"
   },
   {
    "duration": 9,
    "start_time": "2022-08-22T16:08:24.057Z"
   },
   {
    "duration": 17,
    "start_time": "2022-08-22T16:08:24.067Z"
   },
   {
    "duration": 26,
    "start_time": "2022-08-22T16:08:24.086Z"
   },
   {
    "duration": 15,
    "start_time": "2022-08-22T16:08:24.114Z"
   },
   {
    "duration": 22,
    "start_time": "2022-08-22T16:08:24.130Z"
   },
   {
    "duration": 10,
    "start_time": "2022-08-22T16:08:24.154Z"
   },
   {
    "duration": 15,
    "start_time": "2022-08-22T16:08:24.166Z"
   },
   {
    "duration": 6,
    "start_time": "2022-08-22T16:08:24.206Z"
   },
   {
    "duration": 366,
    "start_time": "2022-08-22T16:08:24.213Z"
   },
   {
    "duration": 28,
    "start_time": "2022-08-22T16:08:24.581Z"
   },
   {
    "duration": 21,
    "start_time": "2022-08-22T16:08:24.610Z"
   },
   {
    "duration": 9,
    "start_time": "2022-08-22T16:08:24.632Z"
   },
   {
    "duration": 22,
    "start_time": "2022-08-22T16:08:24.642Z"
   },
   {
    "duration": 115,
    "start_time": "2022-08-22T16:08:24.666Z"
   },
   {
    "duration": 11,
    "start_time": "2022-08-22T16:08:46.302Z"
   },
   {
    "duration": 10,
    "start_time": "2022-08-22T16:08:53.309Z"
   },
   {
    "duration": 13,
    "start_time": "2022-08-22T16:09:02.846Z"
   },
   {
    "duration": 51,
    "start_time": "2022-08-22T16:10:06.054Z"
   },
   {
    "duration": 11,
    "start_time": "2022-08-22T16:10:25.952Z"
   },
   {
    "duration": 1072,
    "start_time": "2022-08-22T16:10:33.822Z"
   },
   {
    "duration": 142,
    "start_time": "2022-08-22T16:10:34.896Z"
   },
   {
    "duration": 10,
    "start_time": "2022-08-22T16:10:35.040Z"
   },
   {
    "duration": 37,
    "start_time": "2022-08-22T16:10:35.051Z"
   },
   {
    "duration": 27,
    "start_time": "2022-08-22T16:10:35.089Z"
   },
   {
    "duration": 11,
    "start_time": "2022-08-22T16:10:35.118Z"
   },
   {
    "duration": 54,
    "start_time": "2022-08-22T16:10:35.131Z"
   },
   {
    "duration": 125,
    "start_time": "2022-08-22T16:10:35.186Z"
   },
   {
    "duration": 3,
    "start_time": "2022-08-22T16:10:35.313Z"
   },
   {
    "duration": 30,
    "start_time": "2022-08-22T16:10:35.317Z"
   },
   {
    "duration": 13,
    "start_time": "2022-08-22T16:10:35.348Z"
   },
   {
    "duration": 7,
    "start_time": "2022-08-22T16:10:35.362Z"
   },
   {
    "duration": 12,
    "start_time": "2022-08-22T16:10:35.371Z"
   },
   {
    "duration": 20,
    "start_time": "2022-08-22T16:10:35.386Z"
   },
   {
    "duration": 11,
    "start_time": "2022-08-22T16:10:35.408Z"
   },
   {
    "duration": 13,
    "start_time": "2022-08-22T16:10:35.420Z"
   },
   {
    "duration": 4,
    "start_time": "2022-08-22T16:10:35.435Z"
   },
   {
    "duration": 339,
    "start_time": "2022-08-22T16:10:35.440Z"
   },
   {
    "duration": 27,
    "start_time": "2022-08-22T16:10:35.781Z"
   },
   {
    "duration": 19,
    "start_time": "2022-08-22T16:10:35.810Z"
   },
   {
    "duration": 9,
    "start_time": "2022-08-22T16:10:35.830Z"
   },
   {
    "duration": 26,
    "start_time": "2022-08-22T16:10:35.840Z"
   },
   {
    "duration": 62,
    "start_time": "2022-08-22T16:10:35.867Z"
   },
   {
    "duration": 1388,
    "start_time": "2022-08-22T16:11:52.446Z"
   },
   {
    "duration": 1015,
    "start_time": "2022-08-22T16:12:02.971Z"
   },
   {
    "duration": 151,
    "start_time": "2022-08-22T16:12:03.987Z"
   },
   {
    "duration": 10,
    "start_time": "2022-08-22T16:12:04.139Z"
   },
   {
    "duration": 44,
    "start_time": "2022-08-22T16:12:04.150Z"
   },
   {
    "duration": 24,
    "start_time": "2022-08-22T16:12:04.196Z"
   },
   {
    "duration": 11,
    "start_time": "2022-08-22T16:12:04.221Z"
   },
   {
    "duration": 59,
    "start_time": "2022-08-22T16:12:04.233Z"
   },
   {
    "duration": 135,
    "start_time": "2022-08-22T16:12:04.293Z"
   },
   {
    "duration": 3,
    "start_time": "2022-08-22T16:12:04.429Z"
   },
   {
    "duration": 9,
    "start_time": "2022-08-22T16:12:04.434Z"
   },
   {
    "duration": 13,
    "start_time": "2022-08-22T16:12:04.445Z"
   },
   {
    "duration": 8,
    "start_time": "2022-08-22T16:12:04.459Z"
   },
   {
    "duration": 14,
    "start_time": "2022-08-22T16:12:04.468Z"
   },
   {
    "duration": 18,
    "start_time": "2022-08-22T16:12:04.505Z"
   },
   {
    "duration": 14,
    "start_time": "2022-08-22T16:12:04.524Z"
   },
   {
    "duration": 12,
    "start_time": "2022-08-22T16:12:04.540Z"
   },
   {
    "duration": 5,
    "start_time": "2022-08-22T16:12:04.553Z"
   },
   {
    "duration": 394,
    "start_time": "2022-08-22T16:12:04.559Z"
   },
   {
    "duration": 22,
    "start_time": "2022-08-22T16:12:04.954Z"
   },
   {
    "duration": 35,
    "start_time": "2022-08-22T16:12:04.978Z"
   },
   {
    "duration": 9,
    "start_time": "2022-08-22T16:12:05.015Z"
   },
   {
    "duration": 24,
    "start_time": "2022-08-22T16:12:05.026Z"
   },
   {
    "duration": 59,
    "start_time": "2022-08-22T16:12:05.051Z"
   },
   {
    "duration": 1415,
    "start_time": "2022-08-22T16:12:05.112Z"
   },
   {
    "duration": 1093,
    "start_time": "2022-08-22T16:14:25.503Z"
   },
   {
    "duration": 142,
    "start_time": "2022-08-22T16:14:26.598Z"
   },
   {
    "duration": 10,
    "start_time": "2022-08-22T16:14:26.742Z"
   },
   {
    "duration": 56,
    "start_time": "2022-08-22T16:14:26.753Z"
   },
   {
    "duration": 17,
    "start_time": "2022-08-22T16:14:26.811Z"
   },
   {
    "duration": 11,
    "start_time": "2022-08-22T16:14:26.830Z"
   },
   {
    "duration": 75,
    "start_time": "2022-08-22T16:14:26.842Z"
   },
   {
    "duration": 123,
    "start_time": "2022-08-22T16:14:26.918Z"
   },
   {
    "duration": 3,
    "start_time": "2022-08-22T16:14:27.043Z"
   },
   {
    "duration": 10,
    "start_time": "2022-08-22T16:14:27.047Z"
   },
   {
    "duration": 13,
    "start_time": "2022-08-22T16:14:27.059Z"
   },
   {
    "duration": 8,
    "start_time": "2022-08-22T16:14:27.074Z"
   },
   {
    "duration": 27,
    "start_time": "2022-08-22T16:14:27.084Z"
   },
   {
    "duration": 22,
    "start_time": "2022-08-22T16:14:27.113Z"
   },
   {
    "duration": 17,
    "start_time": "2022-08-22T16:14:27.136Z"
   },
   {
    "duration": 13,
    "start_time": "2022-08-22T16:14:27.154Z"
   },
   {
    "duration": 15,
    "start_time": "2022-08-22T16:14:27.168Z"
   },
   {
    "duration": 336,
    "start_time": "2022-08-22T16:14:27.184Z"
   },
   {
    "duration": 21,
    "start_time": "2022-08-22T16:14:27.522Z"
   },
   {
    "duration": 20,
    "start_time": "2022-08-22T16:14:27.544Z"
   },
   {
    "duration": 8,
    "start_time": "2022-08-22T16:14:27.565Z"
   },
   {
    "duration": 46,
    "start_time": "2022-08-22T16:14:27.574Z"
   },
   {
    "duration": 41,
    "start_time": "2022-08-22T16:14:27.621Z"
   },
   {
    "duration": 1568,
    "start_time": "2022-08-22T16:14:27.663Z"
   },
   {
    "duration": 12,
    "start_time": "2022-08-22T16:14:56.889Z"
   },
   {
    "duration": 1265,
    "start_time": "2022-08-22T16:14:58.592Z"
   },
   {
    "duration": 1057,
    "start_time": "2022-08-22T16:15:03.742Z"
   },
   {
    "duration": 140,
    "start_time": "2022-08-22T16:15:04.801Z"
   },
   {
    "duration": 9,
    "start_time": "2022-08-22T16:15:04.943Z"
   },
   {
    "duration": 56,
    "start_time": "2022-08-22T16:15:04.953Z"
   },
   {
    "duration": 16,
    "start_time": "2022-08-22T16:15:05.011Z"
   },
   {
    "duration": 12,
    "start_time": "2022-08-22T16:15:05.028Z"
   },
   {
    "duration": 76,
    "start_time": "2022-08-22T16:15:05.041Z"
   },
   {
    "duration": 121,
    "start_time": "2022-08-22T16:15:05.118Z"
   },
   {
    "duration": 3,
    "start_time": "2022-08-22T16:15:05.240Z"
   },
   {
    "duration": 14,
    "start_time": "2022-08-22T16:15:05.245Z"
   },
   {
    "duration": 16,
    "start_time": "2022-08-22T16:15:05.260Z"
   },
   {
    "duration": 8,
    "start_time": "2022-08-22T16:15:05.277Z"
   },
   {
    "duration": 21,
    "start_time": "2022-08-22T16:15:05.286Z"
   },
   {
    "duration": 17,
    "start_time": "2022-08-22T16:15:05.310Z"
   },
   {
    "duration": 17,
    "start_time": "2022-08-22T16:15:05.328Z"
   },
   {
    "duration": 13,
    "start_time": "2022-08-22T16:15:05.346Z"
   },
   {
    "duration": 5,
    "start_time": "2022-08-22T16:15:05.360Z"
   },
   {
    "duration": 353,
    "start_time": "2022-08-22T16:15:05.366Z"
   },
   {
    "duration": 21,
    "start_time": "2022-08-22T16:15:05.721Z"
   },
   {
    "duration": 21,
    "start_time": "2022-08-22T16:15:05.743Z"
   },
   {
    "duration": 9,
    "start_time": "2022-08-22T16:15:05.765Z"
   },
   {
    "duration": 49,
    "start_time": "2022-08-22T16:15:05.776Z"
   },
   {
    "duration": 42,
    "start_time": "2022-08-22T16:15:05.827Z"
   },
   {
    "duration": 38,
    "start_time": "2022-08-22T16:15:05.870Z"
   },
   {
    "duration": 56,
    "start_time": "2022-08-22T16:16:49.609Z"
   },
   {
    "duration": 59,
    "start_time": "2022-08-22T16:16:55.635Z"
   },
   {
    "duration": 64,
    "start_time": "2022-08-22T16:17:37.456Z"
   },
   {
    "duration": 64,
    "start_time": "2022-08-22T16:17:45.699Z"
   },
   {
    "duration": 86,
    "start_time": "2022-08-22T16:24:58.275Z"
   },
   {
    "duration": 468,
    "start_time": "2022-08-22T16:26:15.822Z"
   },
   {
    "duration": 38,
    "start_time": "2022-08-22T16:27:14.813Z"
   },
   {
    "duration": 1197,
    "start_time": "2022-08-22T16:27:49.212Z"
   },
   {
    "duration": 145,
    "start_time": "2022-08-22T16:27:50.410Z"
   },
   {
    "duration": 10,
    "start_time": "2022-08-22T16:27:50.557Z"
   },
   {
    "duration": 46,
    "start_time": "2022-08-22T16:27:50.568Z"
   },
   {
    "duration": 16,
    "start_time": "2022-08-22T16:27:50.616Z"
   },
   {
    "duration": 13,
    "start_time": "2022-08-22T16:27:50.633Z"
   },
   {
    "duration": 65,
    "start_time": "2022-08-22T16:27:50.648Z"
   },
   {
    "duration": 119,
    "start_time": "2022-08-22T16:27:50.715Z"
   },
   {
    "duration": 4,
    "start_time": "2022-08-22T16:27:50.835Z"
   },
   {
    "duration": 11,
    "start_time": "2022-08-22T16:27:50.842Z"
   },
   {
    "duration": 18,
    "start_time": "2022-08-22T16:27:50.854Z"
   },
   {
    "duration": 10,
    "start_time": "2022-08-22T16:27:50.874Z"
   },
   {
    "duration": 27,
    "start_time": "2022-08-22T16:27:50.885Z"
   },
   {
    "duration": 19,
    "start_time": "2022-08-22T16:27:50.914Z"
   },
   {
    "duration": 11,
    "start_time": "2022-08-22T16:27:50.935Z"
   },
   {
    "duration": 14,
    "start_time": "2022-08-22T16:27:50.948Z"
   },
   {
    "duration": 5,
    "start_time": "2022-08-22T16:27:50.964Z"
   },
   {
    "duration": 373,
    "start_time": "2022-08-22T16:27:50.970Z"
   },
   {
    "duration": 22,
    "start_time": "2022-08-22T16:27:51.344Z"
   },
   {
    "duration": 20,
    "start_time": "2022-08-22T16:27:51.368Z"
   },
   {
    "duration": 22,
    "start_time": "2022-08-22T16:27:51.390Z"
   },
   {
    "duration": 31,
    "start_time": "2022-08-22T16:27:51.413Z"
   },
   {
    "duration": 40,
    "start_time": "2022-08-22T16:27:51.445Z"
   },
   {
    "duration": 41,
    "start_time": "2022-08-22T16:27:51.487Z"
   },
   {
    "duration": 61,
    "start_time": "2022-08-22T16:27:51.530Z"
   },
   {
    "duration": 400,
    "start_time": "2022-08-22T16:27:51.592Z"
   },
   {
    "duration": 75,
    "start_time": "2022-08-22T16:31:12.219Z"
   },
   {
    "duration": 1175,
    "start_time": "2022-08-22T16:31:29.298Z"
   },
   {
    "duration": 144,
    "start_time": "2022-08-22T16:31:30.474Z"
   },
   {
    "duration": 11,
    "start_time": "2022-08-22T16:31:30.620Z"
   },
   {
    "duration": 77,
    "start_time": "2022-08-22T16:31:30.633Z"
   },
   {
    "duration": 18,
    "start_time": "2022-08-22T16:31:30.713Z"
   },
   {
    "duration": 13,
    "start_time": "2022-08-22T16:31:30.732Z"
   },
   {
    "duration": 78,
    "start_time": "2022-08-22T16:31:30.746Z"
   },
   {
    "duration": 130,
    "start_time": "2022-08-22T16:31:30.826Z"
   },
   {
    "duration": 3,
    "start_time": "2022-08-22T16:31:30.958Z"
   },
   {
    "duration": 23,
    "start_time": "2022-08-22T16:31:30.963Z"
   },
   {
    "duration": 23,
    "start_time": "2022-08-22T16:31:30.988Z"
   },
   {
    "duration": 14,
    "start_time": "2022-08-22T16:31:31.013Z"
   },
   {
    "duration": 20,
    "start_time": "2022-08-22T16:31:31.028Z"
   },
   {
    "duration": 27,
    "start_time": "2022-08-22T16:31:31.051Z"
   },
   {
    "duration": 14,
    "start_time": "2022-08-22T16:31:31.080Z"
   },
   {
    "duration": 14,
    "start_time": "2022-08-22T16:31:31.096Z"
   },
   {
    "duration": 8,
    "start_time": "2022-08-22T16:31:31.111Z"
   },
   {
    "duration": 355,
    "start_time": "2022-08-22T16:31:31.120Z"
   },
   {
    "duration": 21,
    "start_time": "2022-08-22T16:31:31.476Z"
   },
   {
    "duration": 20,
    "start_time": "2022-08-22T16:31:31.505Z"
   },
   {
    "duration": 7,
    "start_time": "2022-08-22T16:31:31.527Z"
   },
   {
    "duration": 29,
    "start_time": "2022-08-22T16:31:31.536Z"
   },
   {
    "duration": 58,
    "start_time": "2022-08-22T16:31:31.566Z"
   },
   {
    "duration": 18,
    "start_time": "2022-08-22T16:31:31.625Z"
   },
   {
    "duration": 89,
    "start_time": "2022-08-22T16:31:31.645Z"
   },
   {
    "duration": 104,
    "start_time": "2022-08-22T16:31:31.736Z"
   },
   {
    "duration": 0,
    "start_time": "2022-08-22T16:31:31.841Z"
   },
   {
    "duration": 99,
    "start_time": "2022-08-22T16:31:49.713Z"
   },
   {
    "duration": 1121,
    "start_time": "2022-08-22T16:31:58.944Z"
   },
   {
    "duration": 149,
    "start_time": "2022-08-22T16:32:00.067Z"
   },
   {
    "duration": 11,
    "start_time": "2022-08-22T16:32:00.218Z"
   },
   {
    "duration": 57,
    "start_time": "2022-08-22T16:32:00.231Z"
   },
   {
    "duration": 37,
    "start_time": "2022-08-22T16:32:00.290Z"
   },
   {
    "duration": 21,
    "start_time": "2022-08-22T16:32:00.329Z"
   },
   {
    "duration": 89,
    "start_time": "2022-08-22T16:32:00.352Z"
   },
   {
    "duration": 129,
    "start_time": "2022-08-22T16:32:00.442Z"
   },
   {
    "duration": 3,
    "start_time": "2022-08-22T16:32:00.573Z"
   },
   {
    "duration": 18,
    "start_time": "2022-08-22T16:32:00.578Z"
   },
   {
    "duration": 30,
    "start_time": "2022-08-22T16:32:00.597Z"
   },
   {
    "duration": 18,
    "start_time": "2022-08-22T16:32:00.629Z"
   },
   {
    "duration": 30,
    "start_time": "2022-08-22T16:32:00.648Z"
   },
   {
    "duration": 34,
    "start_time": "2022-08-22T16:32:00.681Z"
   },
   {
    "duration": 29,
    "start_time": "2022-08-22T16:32:00.717Z"
   },
   {
    "duration": 24,
    "start_time": "2022-08-22T16:32:00.747Z"
   },
   {
    "duration": 32,
    "start_time": "2022-08-22T16:32:00.773Z"
   },
   {
    "duration": 352,
    "start_time": "2022-08-22T16:32:00.807Z"
   },
   {
    "duration": 22,
    "start_time": "2022-08-22T16:32:01.161Z"
   },
   {
    "duration": 37,
    "start_time": "2022-08-22T16:32:01.185Z"
   },
   {
    "duration": 9,
    "start_time": "2022-08-22T16:32:01.223Z"
   },
   {
    "duration": 43,
    "start_time": "2022-08-22T16:32:01.233Z"
   },
   {
    "duration": 46,
    "start_time": "2022-08-22T16:32:01.278Z"
   },
   {
    "duration": 18,
    "start_time": "2022-08-22T16:32:01.326Z"
   },
   {
    "duration": 92,
    "start_time": "2022-08-22T16:32:01.345Z"
   },
   {
    "duration": 91,
    "start_time": "2022-08-22T16:32:01.439Z"
   },
   {
    "duration": 0,
    "start_time": "2022-08-22T16:32:01.532Z"
   },
   {
    "duration": 69,
    "start_time": "2022-08-22T16:33:12.124Z"
   },
   {
    "duration": 75,
    "start_time": "2022-08-22T16:33:19.083Z"
   },
   {
    "duration": 176,
    "start_time": "2022-08-22T16:34:35.245Z"
   },
   {
    "duration": 2289,
    "start_time": "2022-08-22T16:37:29.837Z"
   },
   {
    "duration": 379,
    "start_time": "2022-08-22T16:37:56.423Z"
   },
   {
    "duration": 1153,
    "start_time": "2022-08-22T16:38:27.483Z"
   },
   {
    "duration": 142,
    "start_time": "2022-08-22T16:38:28.638Z"
   },
   {
    "duration": 10,
    "start_time": "2022-08-22T16:38:28.782Z"
   },
   {
    "duration": 60,
    "start_time": "2022-08-22T16:38:28.793Z"
   },
   {
    "duration": 22,
    "start_time": "2022-08-22T16:38:28.855Z"
   },
   {
    "duration": 14,
    "start_time": "2022-08-22T16:38:28.879Z"
   },
   {
    "duration": 63,
    "start_time": "2022-08-22T16:38:28.905Z"
   },
   {
    "duration": 115,
    "start_time": "2022-08-22T16:38:28.970Z"
   },
   {
    "duration": 4,
    "start_time": "2022-08-22T16:38:29.087Z"
   },
   {
    "duration": 17,
    "start_time": "2022-08-22T16:38:29.092Z"
   },
   {
    "duration": 13,
    "start_time": "2022-08-22T16:38:29.110Z"
   },
   {
    "duration": 8,
    "start_time": "2022-08-22T16:38:29.124Z"
   },
   {
    "duration": 11,
    "start_time": "2022-08-22T16:38:29.133Z"
   },
   {
    "duration": 18,
    "start_time": "2022-08-22T16:38:29.146Z"
   },
   {
    "duration": 9,
    "start_time": "2022-08-22T16:38:29.166Z"
   },
   {
    "duration": 35,
    "start_time": "2022-08-22T16:38:29.177Z"
   },
   {
    "duration": 5,
    "start_time": "2022-08-22T16:38:29.214Z"
   },
   {
    "duration": 364,
    "start_time": "2022-08-22T16:38:29.220Z"
   },
   {
    "duration": 28,
    "start_time": "2022-08-22T16:38:29.586Z"
   },
   {
    "duration": 20,
    "start_time": "2022-08-22T16:38:29.615Z"
   },
   {
    "duration": 8,
    "start_time": "2022-08-22T16:38:29.636Z"
   },
   {
    "duration": 21,
    "start_time": "2022-08-22T16:38:29.645Z"
   },
   {
    "duration": 74,
    "start_time": "2022-08-22T16:38:29.668Z"
   },
   {
    "duration": 19,
    "start_time": "2022-08-22T16:38:29.744Z"
   },
   {
    "duration": 78,
    "start_time": "2022-08-22T16:38:29.765Z"
   },
   {
    "duration": 141,
    "start_time": "2022-08-22T16:38:29.844Z"
   },
   {
    "duration": 522,
    "start_time": "2022-08-22T16:38:29.987Z"
   },
   {
    "duration": 5,
    "start_time": "2022-08-22T16:38:44.013Z"
   },
   {
    "duration": 8,
    "start_time": "2022-08-22T16:38:55.892Z"
   },
   {
    "duration": 353,
    "start_time": "2022-08-22T16:40:30.438Z"
   },
   {
    "duration": 7,
    "start_time": "2022-08-22T16:40:31.101Z"
   },
   {
    "duration": 1356,
    "start_time": "2022-08-22T16:40:36.455Z"
   },
   {
    "duration": 153,
    "start_time": "2022-08-22T16:40:37.813Z"
   },
   {
    "duration": 11,
    "start_time": "2022-08-22T16:40:37.968Z"
   },
   {
    "duration": 53,
    "start_time": "2022-08-22T16:40:37.981Z"
   },
   {
    "duration": 27,
    "start_time": "2022-08-22T16:40:38.037Z"
   },
   {
    "duration": 21,
    "start_time": "2022-08-22T16:40:38.066Z"
   },
   {
    "duration": 70,
    "start_time": "2022-08-22T16:40:38.106Z"
   },
   {
    "duration": 131,
    "start_time": "2022-08-22T16:40:38.177Z"
   },
   {
    "duration": 3,
    "start_time": "2022-08-22T16:40:38.310Z"
   },
   {
    "duration": 13,
    "start_time": "2022-08-22T16:40:38.316Z"
   },
   {
    "duration": 14,
    "start_time": "2022-08-22T16:40:38.331Z"
   },
   {
    "duration": 9,
    "start_time": "2022-08-22T16:40:38.347Z"
   },
   {
    "duration": 13,
    "start_time": "2022-08-22T16:40:38.357Z"
   },
   {
    "duration": 46,
    "start_time": "2022-08-22T16:40:38.372Z"
   },
   {
    "duration": 13,
    "start_time": "2022-08-22T16:40:38.420Z"
   },
   {
    "duration": 22,
    "start_time": "2022-08-22T16:40:38.436Z"
   },
   {
    "duration": 6,
    "start_time": "2022-08-22T16:40:38.460Z"
   },
   {
    "duration": 403,
    "start_time": "2022-08-22T16:40:38.468Z"
   },
   {
    "duration": 21,
    "start_time": "2022-08-22T16:40:38.872Z"
   },
   {
    "duration": 31,
    "start_time": "2022-08-22T16:40:38.894Z"
   },
   {
    "duration": 9,
    "start_time": "2022-08-22T16:40:38.926Z"
   },
   {
    "duration": 25,
    "start_time": "2022-08-22T16:40:38.936Z"
   },
   {
    "duration": 68,
    "start_time": "2022-08-22T16:40:38.962Z"
   },
   {
    "duration": 30,
    "start_time": "2022-08-22T16:40:39.033Z"
   },
   {
    "duration": 75,
    "start_time": "2022-08-22T16:40:39.065Z"
   },
   {
    "duration": 156,
    "start_time": "2022-08-22T16:40:39.142Z"
   },
   {
    "duration": 1234,
    "start_time": "2022-08-22T16:40:39.300Z"
   },
   {
    "duration": 0,
    "start_time": "2022-08-22T16:40:40.536Z"
   },
   {
    "duration": 1333,
    "start_time": "2022-08-22T16:57:48.236Z"
   },
   {
    "duration": 1137,
    "start_time": "2022-08-22T16:58:07.917Z"
   },
   {
    "duration": 137,
    "start_time": "2022-08-22T16:58:09.056Z"
   },
   {
    "duration": 11,
    "start_time": "2022-08-22T16:58:09.195Z"
   },
   {
    "duration": 41,
    "start_time": "2022-08-22T16:58:09.208Z"
   },
   {
    "duration": 17,
    "start_time": "2022-08-22T16:58:09.251Z"
   },
   {
    "duration": 11,
    "start_time": "2022-08-22T16:58:09.269Z"
   },
   {
    "duration": 76,
    "start_time": "2022-08-22T16:58:09.282Z"
   },
   {
    "duration": 118,
    "start_time": "2022-08-22T16:58:09.359Z"
   },
   {
    "duration": 4,
    "start_time": "2022-08-22T16:58:09.479Z"
   },
   {
    "duration": 11,
    "start_time": "2022-08-22T16:58:09.485Z"
   },
   {
    "duration": 12,
    "start_time": "2022-08-22T16:58:09.505Z"
   },
   {
    "duration": 8,
    "start_time": "2022-08-22T16:58:09.518Z"
   },
   {
    "duration": 11,
    "start_time": "2022-08-22T16:58:09.528Z"
   },
   {
    "duration": 18,
    "start_time": "2022-08-22T16:58:09.542Z"
   },
   {
    "duration": 12,
    "start_time": "2022-08-22T16:58:09.562Z"
   },
   {
    "duration": 36,
    "start_time": "2022-08-22T16:58:09.575Z"
   },
   {
    "duration": 5,
    "start_time": "2022-08-22T16:58:09.612Z"
   },
   {
    "duration": 362,
    "start_time": "2022-08-22T16:58:09.619Z"
   },
   {
    "duration": 27,
    "start_time": "2022-08-22T16:58:09.983Z"
   },
   {
    "duration": 19,
    "start_time": "2022-08-22T16:58:10.011Z"
   },
   {
    "duration": 8,
    "start_time": "2022-08-22T16:58:10.032Z"
   },
   {
    "duration": 30,
    "start_time": "2022-08-22T16:58:10.042Z"
   },
   {
    "duration": 62,
    "start_time": "2022-08-22T16:58:10.073Z"
   },
   {
    "duration": 18,
    "start_time": "2022-08-22T16:58:10.137Z"
   },
   {
    "duration": 84,
    "start_time": "2022-08-22T16:58:10.156Z"
   },
   {
    "duration": 136,
    "start_time": "2022-08-22T16:58:10.241Z"
   },
   {
    "duration": 1208,
    "start_time": "2022-08-22T16:58:10.378Z"
   },
   {
    "duration": 0,
    "start_time": "2022-08-22T16:58:11.588Z"
   },
   {
    "duration": 1087,
    "start_time": "2022-08-22T16:59:06.364Z"
   },
   {
    "duration": 143,
    "start_time": "2022-08-22T16:59:07.453Z"
   },
   {
    "duration": 12,
    "start_time": "2022-08-22T16:59:07.597Z"
   },
   {
    "duration": 46,
    "start_time": "2022-08-22T16:59:07.610Z"
   },
   {
    "duration": 17,
    "start_time": "2022-08-22T16:59:07.658Z"
   },
   {
    "duration": 12,
    "start_time": "2022-08-22T16:59:07.676Z"
   },
   {
    "duration": 54,
    "start_time": "2022-08-22T16:59:07.706Z"
   },
   {
    "duration": 123,
    "start_time": "2022-08-22T16:59:07.761Z"
   },
   {
    "duration": 4,
    "start_time": "2022-08-22T16:59:07.885Z"
   },
   {
    "duration": 9,
    "start_time": "2022-08-22T16:59:07.890Z"
   },
   {
    "duration": 11,
    "start_time": "2022-08-22T16:59:07.906Z"
   },
   {
    "duration": 10,
    "start_time": "2022-08-22T16:59:07.919Z"
   },
   {
    "duration": 12,
    "start_time": "2022-08-22T16:59:07.931Z"
   },
   {
    "duration": 18,
    "start_time": "2022-08-22T16:59:07.945Z"
   },
   {
    "duration": 10,
    "start_time": "2022-08-22T16:59:07.964Z"
   },
   {
    "duration": 31,
    "start_time": "2022-08-22T16:59:07.975Z"
   },
   {
    "duration": 5,
    "start_time": "2022-08-22T16:59:08.008Z"
   },
   {
    "duration": 359,
    "start_time": "2022-08-22T16:59:08.014Z"
   },
   {
    "duration": 19,
    "start_time": "2022-08-22T16:59:08.375Z"
   },
   {
    "duration": 25,
    "start_time": "2022-08-22T16:59:08.396Z"
   },
   {
    "duration": 9,
    "start_time": "2022-08-22T16:59:08.423Z"
   },
   {
    "duration": 22,
    "start_time": "2022-08-22T16:59:08.433Z"
   },
   {
    "duration": 65,
    "start_time": "2022-08-22T16:59:08.457Z"
   },
   {
    "duration": 19,
    "start_time": "2022-08-22T16:59:08.523Z"
   },
   {
    "duration": 76,
    "start_time": "2022-08-22T16:59:08.543Z"
   },
   {
    "duration": 127,
    "start_time": "2022-08-22T16:59:08.621Z"
   },
   {
    "duration": 1417,
    "start_time": "2022-08-22T16:59:08.749Z"
   },
   {
    "duration": 0,
    "start_time": "2022-08-22T16:59:10.167Z"
   },
   {
    "duration": 320,
    "start_time": "2022-08-22T17:54:05.337Z"
   },
   {
    "duration": 4,
    "start_time": "2022-08-22T17:54:11.933Z"
   },
   {
    "duration": 8,
    "start_time": "2022-08-22T17:54:14.807Z"
   },
   {
    "duration": 4,
    "start_time": "2022-08-22T17:54:20.525Z"
   },
   {
    "duration": 7,
    "start_time": "2022-08-22T17:54:21.766Z"
   },
   {
    "duration": 88,
    "start_time": "2022-08-22T17:54:37.964Z"
   },
   {
    "duration": 7,
    "start_time": "2022-08-22T17:54:38.612Z"
   },
   {
    "duration": 3,
    "start_time": "2022-08-22T17:54:43.308Z"
   },
   {
    "duration": 7,
    "start_time": "2022-08-22T17:54:44.060Z"
   },
   {
    "duration": 69,
    "start_time": "2022-08-22T17:55:26.678Z"
   },
   {
    "duration": 8,
    "start_time": "2022-08-22T17:55:27.999Z"
   },
   {
    "duration": 4,
    "start_time": "2022-08-22T17:57:17.767Z"
   },
   {
    "duration": 7,
    "start_time": "2022-08-22T17:57:18.951Z"
   },
   {
    "duration": 3,
    "start_time": "2022-08-22T17:58:18.520Z"
   },
   {
    "duration": 7,
    "start_time": "2022-08-22T17:58:18.998Z"
   },
   {
    "duration": 13,
    "start_time": "2022-08-22T17:59:24.084Z"
   },
   {
    "duration": 5,
    "start_time": "2022-08-22T18:00:45.400Z"
   },
   {
    "duration": 10,
    "start_time": "2022-08-22T18:00:51.561Z"
   },
   {
    "duration": 4,
    "start_time": "2022-08-22T18:01:02.867Z"
   },
   {
    "duration": 8,
    "start_time": "2022-08-22T18:01:03.462Z"
   },
   {
    "duration": 4,
    "start_time": "2022-08-22T18:01:22.971Z"
   },
   {
    "duration": 8,
    "start_time": "2022-08-22T18:01:23.056Z"
   },
   {
    "duration": 5,
    "start_time": "2022-08-22T18:02:04.687Z"
   },
   {
    "duration": 8,
    "start_time": "2022-08-22T18:02:05.221Z"
   },
   {
    "duration": 94,
    "start_time": "2022-08-22T18:04:04.819Z"
   },
   {
    "duration": 10,
    "start_time": "2022-08-22T18:04:06.462Z"
   },
   {
    "duration": 72,
    "start_time": "2022-08-22T18:04:16.761Z"
   },
   {
    "duration": 10,
    "start_time": "2022-08-22T18:04:19.324Z"
   },
   {
    "duration": 79,
    "start_time": "2022-08-22T18:04:46.194Z"
   },
   {
    "duration": 70,
    "start_time": "2022-08-22T18:04:59.791Z"
   },
   {
    "duration": 71,
    "start_time": "2022-08-22T18:05:22.837Z"
   },
   {
    "duration": 12,
    "start_time": "2022-08-22T18:06:30.500Z"
   },
   {
    "duration": 7,
    "start_time": "2022-08-22T18:07:20.366Z"
   },
   {
    "duration": 1185,
    "start_time": "2022-08-22T18:07:51.092Z"
   },
   {
    "duration": 140,
    "start_time": "2022-08-22T18:07:52.279Z"
   },
   {
    "duration": 10,
    "start_time": "2022-08-22T18:07:52.421Z"
   },
   {
    "duration": 45,
    "start_time": "2022-08-22T18:07:52.433Z"
   },
   {
    "duration": 32,
    "start_time": "2022-08-22T18:07:52.479Z"
   },
   {
    "duration": 12,
    "start_time": "2022-08-22T18:07:52.512Z"
   },
   {
    "duration": 57,
    "start_time": "2022-08-22T18:07:52.525Z"
   },
   {
    "duration": 123,
    "start_time": "2022-08-22T18:07:52.584Z"
   },
   {
    "duration": 3,
    "start_time": "2022-08-22T18:07:52.708Z"
   },
   {
    "duration": 9,
    "start_time": "2022-08-22T18:07:52.714Z"
   },
   {
    "duration": 14,
    "start_time": "2022-08-22T18:07:52.725Z"
   },
   {
    "duration": 11,
    "start_time": "2022-08-22T18:07:52.741Z"
   },
   {
    "duration": 19,
    "start_time": "2022-08-22T18:07:52.753Z"
   },
   {
    "duration": 20,
    "start_time": "2022-08-22T18:07:52.774Z"
   },
   {
    "duration": 9,
    "start_time": "2022-08-22T18:07:52.805Z"
   },
   {
    "duration": 12,
    "start_time": "2022-08-22T18:07:52.816Z"
   },
   {
    "duration": 5,
    "start_time": "2022-08-22T18:07:52.830Z"
   },
   {
    "duration": 358,
    "start_time": "2022-08-22T18:07:52.837Z"
   },
   {
    "duration": 26,
    "start_time": "2022-08-22T18:07:53.196Z"
   },
   {
    "duration": 18,
    "start_time": "2022-08-22T18:07:53.224Z"
   },
   {
    "duration": 8,
    "start_time": "2022-08-22T18:07:53.244Z"
   },
   {
    "duration": 21,
    "start_time": "2022-08-22T18:07:53.253Z"
   },
   {
    "duration": 63,
    "start_time": "2022-08-22T18:07:53.275Z"
   },
   {
    "duration": 17,
    "start_time": "2022-08-22T18:07:53.340Z"
   },
   {
    "duration": 76,
    "start_time": "2022-08-22T18:07:53.358Z"
   },
   {
    "duration": 160,
    "start_time": "2022-08-22T18:07:53.435Z"
   },
   {
    "duration": 8,
    "start_time": "2022-08-22T18:07:53.598Z"
   },
   {
    "duration": 14,
    "start_time": "2022-08-22T18:07:53.608Z"
   },
   {
    "duration": 8,
    "start_time": "2022-08-22T18:09:02.588Z"
   },
   {
    "duration": 1123,
    "start_time": "2022-08-22T18:09:14.026Z"
   },
   {
    "duration": 143,
    "start_time": "2022-08-22T18:09:15.151Z"
   },
   {
    "duration": 12,
    "start_time": "2022-08-22T18:09:15.295Z"
   },
   {
    "duration": 50,
    "start_time": "2022-08-22T18:09:15.308Z"
   },
   {
    "duration": 16,
    "start_time": "2022-08-22T18:09:15.360Z"
   },
   {
    "duration": 13,
    "start_time": "2022-08-22T18:09:15.378Z"
   },
   {
    "duration": 59,
    "start_time": "2022-08-22T18:09:15.406Z"
   },
   {
    "duration": 124,
    "start_time": "2022-08-22T18:09:15.466Z"
   },
   {
    "duration": 3,
    "start_time": "2022-08-22T18:09:15.591Z"
   },
   {
    "duration": 17,
    "start_time": "2022-08-22T18:09:15.596Z"
   },
   {
    "duration": 25,
    "start_time": "2022-08-22T18:09:15.615Z"
   },
   {
    "duration": 8,
    "start_time": "2022-08-22T18:09:15.641Z"
   },
   {
    "duration": 17,
    "start_time": "2022-08-22T18:09:15.651Z"
   },
   {
    "duration": 26,
    "start_time": "2022-08-22T18:09:15.670Z"
   },
   {
    "duration": 13,
    "start_time": "2022-08-22T18:09:15.697Z"
   },
   {
    "duration": 16,
    "start_time": "2022-08-22T18:09:15.712Z"
   },
   {
    "duration": 6,
    "start_time": "2022-08-22T18:09:15.729Z"
   },
   {
    "duration": 397,
    "start_time": "2022-08-22T18:09:15.736Z"
   },
   {
    "duration": 28,
    "start_time": "2022-08-22T18:09:16.134Z"
   },
   {
    "duration": 42,
    "start_time": "2022-08-22T18:09:16.164Z"
   },
   {
    "duration": 10,
    "start_time": "2022-08-22T18:09:16.208Z"
   },
   {
    "duration": 29,
    "start_time": "2022-08-22T18:09:16.220Z"
   },
   {
    "duration": 62,
    "start_time": "2022-08-22T18:09:16.253Z"
   },
   {
    "duration": 18,
    "start_time": "2022-08-22T18:09:16.316Z"
   },
   {
    "duration": 76,
    "start_time": "2022-08-22T18:09:16.335Z"
   },
   {
    "duration": 178,
    "start_time": "2022-08-22T18:09:16.413Z"
   },
   {
    "duration": 8,
    "start_time": "2022-08-22T18:09:16.593Z"
   },
   {
    "duration": 13,
    "start_time": "2022-08-22T18:09:16.602Z"
   },
   {
    "duration": 108,
    "start_time": "2022-08-22T18:10:09.445Z"
   },
   {
    "duration": 1190,
    "start_time": "2022-08-22T18:10:19.567Z"
   },
   {
    "duration": 150,
    "start_time": "2022-08-22T18:10:20.758Z"
   },
   {
    "duration": 11,
    "start_time": "2022-08-22T18:10:20.909Z"
   },
   {
    "duration": 45,
    "start_time": "2022-08-22T18:10:20.922Z"
   },
   {
    "duration": 38,
    "start_time": "2022-08-22T18:10:20.968Z"
   },
   {
    "duration": 14,
    "start_time": "2022-08-22T18:10:21.007Z"
   },
   {
    "duration": 61,
    "start_time": "2022-08-22T18:10:21.023Z"
   },
   {
    "duration": 133,
    "start_time": "2022-08-22T18:10:21.086Z"
   },
   {
    "duration": 3,
    "start_time": "2022-08-22T18:10:21.221Z"
   },
   {
    "duration": 9,
    "start_time": "2022-08-22T18:10:21.226Z"
   },
   {
    "duration": 13,
    "start_time": "2022-08-22T18:10:21.236Z"
   },
   {
    "duration": 8,
    "start_time": "2022-08-22T18:10:21.250Z"
   },
   {
    "duration": 12,
    "start_time": "2022-08-22T18:10:21.259Z"
   },
   {
    "duration": 44,
    "start_time": "2022-08-22T18:10:21.273Z"
   },
   {
    "duration": 11,
    "start_time": "2022-08-22T18:10:21.319Z"
   },
   {
    "duration": 15,
    "start_time": "2022-08-22T18:10:21.331Z"
   },
   {
    "duration": 5,
    "start_time": "2022-08-22T18:10:21.348Z"
   },
   {
    "duration": 393,
    "start_time": "2022-08-22T18:10:21.355Z"
   },
   {
    "duration": 22,
    "start_time": "2022-08-22T18:10:21.750Z"
   },
   {
    "duration": 39,
    "start_time": "2022-08-22T18:10:21.774Z"
   },
   {
    "duration": 9,
    "start_time": "2022-08-22T18:10:21.815Z"
   },
   {
    "duration": 35,
    "start_time": "2022-08-22T18:10:21.825Z"
   },
   {
    "duration": 51,
    "start_time": "2022-08-22T18:10:21.862Z"
   },
   {
    "duration": 20,
    "start_time": "2022-08-22T18:10:21.915Z"
   },
   {
    "duration": 83,
    "start_time": "2022-08-22T18:10:21.936Z"
   },
   {
    "duration": 153,
    "start_time": "2022-08-22T18:10:22.021Z"
   },
   {
    "duration": 8,
    "start_time": "2022-08-22T18:10:22.176Z"
   },
   {
    "duration": 29,
    "start_time": "2022-08-22T18:10:22.186Z"
   },
   {
    "duration": 8,
    "start_time": "2022-08-22T18:11:42.364Z"
   },
   {
    "duration": 277,
    "start_time": "2022-08-22T18:19:04.984Z"
   },
   {
    "duration": 48,
    "start_time": "2022-08-23T11:22:57.693Z"
   },
   {
    "duration": 9,
    "start_time": "2022-08-23T11:24:27.532Z"
   },
   {
    "duration": 1442,
    "start_time": "2022-08-23T11:24:35.521Z"
   },
   {
    "duration": 715,
    "start_time": "2022-08-23T11:24:36.966Z"
   },
   {
    "duration": 11,
    "start_time": "2022-08-23T11:24:37.682Z"
   },
   {
    "duration": 52,
    "start_time": "2022-08-23T11:24:37.695Z"
   },
   {
    "duration": 17,
    "start_time": "2022-08-23T11:24:37.748Z"
   },
   {
    "duration": 12,
    "start_time": "2022-08-23T11:24:37.767Z"
   },
   {
    "duration": 75,
    "start_time": "2022-08-23T11:24:37.781Z"
   },
   {
    "duration": 125,
    "start_time": "2022-08-23T11:24:37.858Z"
   },
   {
    "duration": 3,
    "start_time": "2022-08-23T11:24:37.985Z"
   },
   {
    "duration": 25,
    "start_time": "2022-08-23T11:24:37.990Z"
   },
   {
    "duration": 18,
    "start_time": "2022-08-23T11:24:38.016Z"
   },
   {
    "duration": 9,
    "start_time": "2022-08-23T11:24:38.036Z"
   },
   {
    "duration": 18,
    "start_time": "2022-08-23T11:24:38.046Z"
   },
   {
    "duration": 18,
    "start_time": "2022-08-23T11:24:38.066Z"
   },
   {
    "duration": 9,
    "start_time": "2022-08-23T11:24:38.086Z"
   },
   {
    "duration": 16,
    "start_time": "2022-08-23T11:24:38.111Z"
   },
   {
    "duration": 5,
    "start_time": "2022-08-23T11:24:38.129Z"
   },
   {
    "duration": 386,
    "start_time": "2022-08-23T11:24:38.135Z"
   },
   {
    "duration": 20,
    "start_time": "2022-08-23T11:24:38.522Z"
   },
   {
    "duration": 19,
    "start_time": "2022-08-23T11:24:38.543Z"
   },
   {
    "duration": 8,
    "start_time": "2022-08-23T11:24:38.563Z"
   },
   {
    "duration": 49,
    "start_time": "2022-08-23T11:24:38.572Z"
   },
   {
    "duration": 39,
    "start_time": "2022-08-23T11:24:38.623Z"
   },
   {
    "duration": 109,
    "start_time": "2022-08-23T11:24:38.664Z"
   },
   {
    "duration": 0,
    "start_time": "2022-08-23T11:24:38.775Z"
   },
   {
    "duration": 0,
    "start_time": "2022-08-23T11:24:38.777Z"
   },
   {
    "duration": 0,
    "start_time": "2022-08-23T11:24:38.778Z"
   },
   {
    "duration": 0,
    "start_time": "2022-08-23T11:24:38.779Z"
   },
   {
    "duration": 0,
    "start_time": "2022-08-23T11:24:38.780Z"
   },
   {
    "duration": 95,
    "start_time": "2022-08-23T11:30:30.584Z"
   },
   {
    "duration": 44,
    "start_time": "2022-08-23T11:30:41.473Z"
   },
   {
    "duration": 1417,
    "start_time": "2022-08-23T11:31:43.481Z"
   },
   {
    "duration": 155,
    "start_time": "2022-08-23T11:31:44.901Z"
   },
   {
    "duration": 13,
    "start_time": "2022-08-23T11:31:45.057Z"
   },
   {
    "duration": 75,
    "start_time": "2022-08-23T11:31:45.072Z"
   },
   {
    "duration": 28,
    "start_time": "2022-08-23T11:31:45.150Z"
   },
   {
    "duration": 27,
    "start_time": "2022-08-23T11:31:45.180Z"
   },
   {
    "duration": 58,
    "start_time": "2022-08-23T11:31:45.214Z"
   },
   {
    "duration": 142,
    "start_time": "2022-08-23T11:31:45.274Z"
   },
   {
    "duration": 4,
    "start_time": "2022-08-23T11:31:45.417Z"
   },
   {
    "duration": 12,
    "start_time": "2022-08-23T11:31:45.423Z"
   },
   {
    "duration": 14,
    "start_time": "2022-08-23T11:31:45.436Z"
   },
   {
    "duration": 8,
    "start_time": "2022-08-23T11:31:45.452Z"
   },
   {
    "duration": 18,
    "start_time": "2022-08-23T11:31:45.461Z"
   },
   {
    "duration": 51,
    "start_time": "2022-08-23T11:31:45.481Z"
   },
   {
    "duration": 12,
    "start_time": "2022-08-23T11:31:45.533Z"
   },
   {
    "duration": 14,
    "start_time": "2022-08-23T11:31:45.546Z"
   },
   {
    "duration": 5,
    "start_time": "2022-08-23T11:31:45.563Z"
   },
   {
    "duration": 428,
    "start_time": "2022-08-23T11:31:45.569Z"
   },
   {
    "duration": 34,
    "start_time": "2022-08-23T11:31:46.006Z"
   },
   {
    "duration": 54,
    "start_time": "2022-08-23T11:31:46.041Z"
   },
   {
    "duration": 16,
    "start_time": "2022-08-23T11:31:46.097Z"
   },
   {
    "duration": 69,
    "start_time": "2022-08-23T11:31:46.115Z"
   },
   {
    "duration": 49,
    "start_time": "2022-08-23T11:31:46.186Z"
   },
   {
    "duration": 70,
    "start_time": "2022-08-23T11:31:46.237Z"
   },
   {
    "duration": 46,
    "start_time": "2022-08-23T11:31:46.309Z"
   },
   {
    "duration": 106,
    "start_time": "2022-08-23T11:31:46.357Z"
   },
   {
    "duration": 176,
    "start_time": "2022-08-23T11:31:46.465Z"
   },
   {
    "duration": 8,
    "start_time": "2022-08-23T11:31:46.642Z"
   },
   {
    "duration": 15,
    "start_time": "2022-08-23T11:31:46.652Z"
   },
   {
    "duration": 11,
    "start_time": "2022-08-23T11:35:57.731Z"
   },
   {
    "duration": 12,
    "start_time": "2022-08-23T11:36:07.760Z"
   },
   {
    "duration": 15,
    "start_time": "2022-08-23T11:36:39.944Z"
   },
   {
    "duration": 16,
    "start_time": "2022-08-23T11:37:18.730Z"
   },
   {
    "duration": 1122,
    "start_time": "2022-08-23T11:37:27.969Z"
   },
   {
    "duration": 164,
    "start_time": "2022-08-23T11:37:29.093Z"
   },
   {
    "duration": 11,
    "start_time": "2022-08-23T11:37:29.259Z"
   },
   {
    "duration": 68,
    "start_time": "2022-08-23T11:37:29.272Z"
   },
   {
    "duration": 21,
    "start_time": "2022-08-23T11:37:29.344Z"
   },
   {
    "duration": 29,
    "start_time": "2022-08-23T11:37:29.367Z"
   },
   {
    "duration": 91,
    "start_time": "2022-08-23T11:37:29.398Z"
   },
   {
    "duration": 116,
    "start_time": "2022-08-23T11:37:29.490Z"
   },
   {
    "duration": 5,
    "start_time": "2022-08-23T11:37:29.616Z"
   },
   {
    "duration": 16,
    "start_time": "2022-08-23T11:37:29.625Z"
   },
   {
    "duration": 14,
    "start_time": "2022-08-23T11:37:29.642Z"
   },
   {
    "duration": 8,
    "start_time": "2022-08-23T11:37:29.657Z"
   },
   {
    "duration": 16,
    "start_time": "2022-08-23T11:37:29.666Z"
   },
   {
    "duration": 20,
    "start_time": "2022-08-23T11:37:29.684Z"
   },
   {
    "duration": 39,
    "start_time": "2022-08-23T11:37:29.707Z"
   },
   {
    "duration": 12,
    "start_time": "2022-08-23T11:37:29.748Z"
   },
   {
    "duration": 5,
    "start_time": "2022-08-23T11:37:29.762Z"
   },
   {
    "duration": 402,
    "start_time": "2022-08-23T11:37:29.768Z"
   },
   {
    "duration": 22,
    "start_time": "2022-08-23T11:37:30.172Z"
   },
   {
    "duration": 32,
    "start_time": "2022-08-23T11:37:30.196Z"
   },
   {
    "duration": 14,
    "start_time": "2022-08-23T11:37:30.230Z"
   },
   {
    "duration": 28,
    "start_time": "2022-08-23T11:37:30.246Z"
   },
   {
    "duration": 52,
    "start_time": "2022-08-23T11:37:30.276Z"
   },
   {
    "duration": 31,
    "start_time": "2022-08-23T11:37:30.333Z"
   },
   {
    "duration": 14,
    "start_time": "2022-08-23T11:37:30.367Z"
   },
   {
    "duration": 53,
    "start_time": "2022-08-23T11:37:30.383Z"
   },
   {
    "duration": 82,
    "start_time": "2022-08-23T11:37:30.437Z"
   },
   {
    "duration": 148,
    "start_time": "2022-08-23T11:37:30.532Z"
   },
   {
    "duration": 9,
    "start_time": "2022-08-23T11:37:30.681Z"
   },
   {
    "duration": 53,
    "start_time": "2022-08-23T11:37:30.691Z"
   },
   {
    "duration": 20,
    "start_time": "2022-08-23T11:42:10.514Z"
   },
   {
    "duration": 28,
    "start_time": "2022-08-23T11:42:39.617Z"
   },
   {
    "duration": 31,
    "start_time": "2022-08-23T11:43:00.236Z"
   },
   {
    "duration": 30,
    "start_time": "2022-08-23T11:43:10.627Z"
   },
   {
    "duration": 58,
    "start_time": "2022-08-23T11:44:23.819Z"
   },
   {
    "duration": 30,
    "start_time": "2022-08-23T11:47:06.860Z"
   },
   {
    "duration": 51,
    "start_time": "2022-08-23T11:48:30.921Z"
   },
   {
    "duration": 1245,
    "start_time": "2022-08-23T11:49:42.105Z"
   },
   {
    "duration": 152,
    "start_time": "2022-08-23T11:49:43.352Z"
   },
   {
    "duration": 11,
    "start_time": "2022-08-23T11:49:43.520Z"
   },
   {
    "duration": 47,
    "start_time": "2022-08-23T11:49:43.533Z"
   },
   {
    "duration": 36,
    "start_time": "2022-08-23T11:49:43.582Z"
   },
   {
    "duration": 14,
    "start_time": "2022-08-23T11:49:43.620Z"
   },
   {
    "duration": 59,
    "start_time": "2022-08-23T11:49:43.636Z"
   },
   {
    "duration": 125,
    "start_time": "2022-08-23T11:49:43.709Z"
   },
   {
    "duration": 3,
    "start_time": "2022-08-23T11:49:43.836Z"
   },
   {
    "duration": 10,
    "start_time": "2022-08-23T11:49:43.840Z"
   },
   {
    "duration": 14,
    "start_time": "2022-08-23T11:49:43.852Z"
   },
   {
    "duration": 8,
    "start_time": "2022-08-23T11:49:43.868Z"
   },
   {
    "duration": 40,
    "start_time": "2022-08-23T11:49:43.878Z"
   },
   {
    "duration": 21,
    "start_time": "2022-08-23T11:49:43.920Z"
   },
   {
    "duration": 12,
    "start_time": "2022-08-23T11:49:43.943Z"
   },
   {
    "duration": 13,
    "start_time": "2022-08-23T11:49:43.957Z"
   },
   {
    "duration": 6,
    "start_time": "2022-08-23T11:49:43.971Z"
   },
   {
    "duration": 424,
    "start_time": "2022-08-23T11:49:43.978Z"
   },
   {
    "duration": 30,
    "start_time": "2022-08-23T11:49:44.405Z"
   },
   {
    "duration": 21,
    "start_time": "2022-08-23T11:49:44.437Z"
   },
   {
    "duration": 9,
    "start_time": "2022-08-23T11:49:44.459Z"
   },
   {
    "duration": 47,
    "start_time": "2022-08-23T11:49:44.470Z"
   },
   {
    "duration": 39,
    "start_time": "2022-08-23T11:49:44.519Z"
   },
   {
    "duration": 69,
    "start_time": "2022-08-23T11:49:44.560Z"
   },
   {
    "duration": 15,
    "start_time": "2022-08-23T11:49:44.631Z"
   },
   {
    "duration": 20,
    "start_time": "2022-08-23T11:49:44.647Z"
   },
   {
    "duration": 85,
    "start_time": "2022-08-23T11:49:44.668Z"
   },
   {
    "duration": 74,
    "start_time": "2022-08-23T11:49:44.754Z"
   },
   {
    "duration": 129,
    "start_time": "2022-08-23T11:49:44.830Z"
   },
   {
    "duration": 8,
    "start_time": "2022-08-23T11:49:44.961Z"
   },
   {
    "duration": 10,
    "start_time": "2022-08-23T11:49:44.970Z"
   },
   {
    "duration": 57,
    "start_time": "2022-08-23T11:50:19.326Z"
   },
   {
    "duration": 57,
    "start_time": "2022-08-23T11:51:35.518Z"
   },
   {
    "duration": 145,
    "start_time": "2022-08-23T11:53:05.055Z"
   },
   {
    "duration": 64,
    "start_time": "2022-08-23T11:53:29.800Z"
   },
   {
    "duration": 72,
    "start_time": "2022-08-23T11:53:35.974Z"
   },
   {
    "duration": 65,
    "start_time": "2022-08-23T11:53:49.451Z"
   },
   {
    "duration": 59,
    "start_time": "2022-08-23T11:54:09.417Z"
   },
   {
    "duration": 61,
    "start_time": "2022-08-23T11:54:22.332Z"
   },
   {
    "duration": 53,
    "start_time": "2022-08-23T12:02:58.217Z"
   },
   {
    "duration": 4,
    "start_time": "2022-08-23T12:03:42.778Z"
   },
   {
    "duration": 11,
    "start_time": "2022-08-23T12:04:23.941Z"
   },
   {
    "duration": 4,
    "start_time": "2022-08-23T12:05:28.778Z"
   },
   {
    "duration": 59,
    "start_time": "2022-08-23T12:06:24.371Z"
   },
   {
    "duration": 84,
    "start_time": "2022-08-23T12:06:31.139Z"
   },
   {
    "duration": 56,
    "start_time": "2022-08-23T12:22:43.826Z"
   },
   {
    "duration": 55,
    "start_time": "2022-08-23T12:22:52.842Z"
   },
   {
    "duration": 64,
    "start_time": "2022-08-23T12:23:33.797Z"
   },
   {
    "duration": 62,
    "start_time": "2022-08-23T12:23:41.610Z"
   },
   {
    "duration": 54,
    "start_time": "2022-08-23T12:23:54.460Z"
   },
   {
    "duration": 67,
    "start_time": "2022-08-23T12:24:54.893Z"
   },
   {
    "duration": 60,
    "start_time": "2022-08-23T12:25:05.547Z"
   },
   {
    "duration": 63,
    "start_time": "2022-08-23T12:25:26.205Z"
   },
   {
    "duration": 349,
    "start_time": "2022-08-23T12:35:06.018Z"
   },
   {
    "duration": 31,
    "start_time": "2022-08-23T12:35:12.654Z"
   },
   {
    "duration": 18,
    "start_time": "2022-08-23T12:35:25.330Z"
   },
   {
    "duration": 31,
    "start_time": "2022-08-23T12:40:39.559Z"
   },
   {
    "duration": 80,
    "start_time": "2022-08-23T12:46:43.192Z"
   },
   {
    "duration": 58,
    "start_time": "2022-08-23T12:46:48.347Z"
   },
   {
    "duration": 70,
    "start_time": "2022-08-23T12:47:06.574Z"
   },
   {
    "duration": 67,
    "start_time": "2022-08-23T12:47:35.734Z"
   },
   {
    "duration": 19,
    "start_time": "2022-08-23T12:48:25.526Z"
   },
   {
    "duration": 35,
    "start_time": "2022-08-23T12:48:37.544Z"
   },
   {
    "duration": 28,
    "start_time": "2022-08-23T12:48:47.117Z"
   },
   {
    "duration": 31,
    "start_time": "2022-08-23T12:48:55.717Z"
   },
   {
    "duration": 12,
    "start_time": "2022-08-23T12:52:22.410Z"
   },
   {
    "duration": 21,
    "start_time": "2022-08-23T12:52:55.393Z"
   },
   {
    "duration": 1242,
    "start_time": "2022-08-23T12:53:32.575Z"
   },
   {
    "duration": 163,
    "start_time": "2022-08-23T12:53:33.820Z"
   },
   {
    "duration": 13,
    "start_time": "2022-08-23T12:53:33.985Z"
   },
   {
    "duration": 53,
    "start_time": "2022-08-23T12:53:34.005Z"
   },
   {
    "duration": 45,
    "start_time": "2022-08-23T12:53:34.061Z"
   },
   {
    "duration": 22,
    "start_time": "2022-08-23T12:53:34.109Z"
   },
   {
    "duration": 85,
    "start_time": "2022-08-23T12:53:34.133Z"
   },
   {
    "duration": 157,
    "start_time": "2022-08-23T12:53:34.221Z"
   },
   {
    "duration": 5,
    "start_time": "2022-08-23T12:53:34.380Z"
   },
   {
    "duration": 20,
    "start_time": "2022-08-23T12:53:34.387Z"
   },
   {
    "duration": 19,
    "start_time": "2022-08-23T12:53:34.409Z"
   },
   {
    "duration": 14,
    "start_time": "2022-08-23T12:53:34.430Z"
   },
   {
    "duration": 39,
    "start_time": "2022-08-23T12:53:34.446Z"
   },
   {
    "duration": 49,
    "start_time": "2022-08-23T12:53:34.488Z"
   },
   {
    "duration": 25,
    "start_time": "2022-08-23T12:53:34.539Z"
   },
   {
    "duration": 17,
    "start_time": "2022-08-23T12:53:34.566Z"
   },
   {
    "duration": 21,
    "start_time": "2022-08-23T12:53:34.585Z"
   },
   {
    "duration": 485,
    "start_time": "2022-08-23T12:53:34.608Z"
   },
   {
    "duration": 36,
    "start_time": "2022-08-23T12:53:35.095Z"
   },
   {
    "duration": 31,
    "start_time": "2022-08-23T12:53:35.133Z"
   },
   {
    "duration": 11,
    "start_time": "2022-08-23T12:53:35.165Z"
   },
   {
    "duration": 58,
    "start_time": "2022-08-23T12:53:35.177Z"
   },
   {
    "duration": 78,
    "start_time": "2022-08-23T12:53:35.238Z"
   },
   {
    "duration": 133,
    "start_time": "2022-08-23T12:53:35.319Z"
   },
   {
    "duration": 18,
    "start_time": "2022-08-23T12:53:35.454Z"
   },
   {
    "duration": 36,
    "start_time": "2022-08-23T12:53:35.474Z"
   },
   {
    "duration": 96,
    "start_time": "2022-08-23T12:53:35.512Z"
   },
   {
    "duration": 74,
    "start_time": "2022-08-23T12:53:35.611Z"
   },
   {
    "duration": 51,
    "start_time": "2022-08-23T12:53:35.688Z"
   },
   {
    "duration": 77,
    "start_time": "2022-08-23T12:53:35.741Z"
   },
   {
    "duration": 159,
    "start_time": "2022-08-23T12:53:35.819Z"
   },
   {
    "duration": 10,
    "start_time": "2022-08-23T12:53:35.980Z"
   },
   {
    "duration": 107,
    "start_time": "2022-08-23T12:53:36.007Z"
   },
   {
    "duration": 48,
    "start_time": "2022-08-23T12:54:38.559Z"
   },
   {
    "duration": 1158,
    "start_time": "2022-08-23T12:54:59.056Z"
   },
   {
    "duration": 143,
    "start_time": "2022-08-23T12:55:00.216Z"
   },
   {
    "duration": 11,
    "start_time": "2022-08-23T12:55:00.360Z"
   },
   {
    "duration": 73,
    "start_time": "2022-08-23T12:55:00.373Z"
   },
   {
    "duration": 18,
    "start_time": "2022-08-23T12:55:00.449Z"
   },
   {
    "duration": 14,
    "start_time": "2022-08-23T12:55:00.469Z"
   },
   {
    "duration": 79,
    "start_time": "2022-08-23T12:55:00.484Z"
   },
   {
    "duration": 145,
    "start_time": "2022-08-23T12:55:00.565Z"
   },
   {
    "duration": 5,
    "start_time": "2022-08-23T12:55:00.712Z"
   },
   {
    "duration": 22,
    "start_time": "2022-08-23T12:55:00.719Z"
   },
   {
    "duration": 21,
    "start_time": "2022-08-23T12:55:00.742Z"
   },
   {
    "duration": 13,
    "start_time": "2022-08-23T12:55:00.765Z"
   },
   {
    "duration": 29,
    "start_time": "2022-08-23T12:55:00.780Z"
   },
   {
    "duration": 27,
    "start_time": "2022-08-23T12:55:00.812Z"
   },
   {
    "duration": 15,
    "start_time": "2022-08-23T12:55:00.842Z"
   },
   {
    "duration": 19,
    "start_time": "2022-08-23T12:55:00.860Z"
   },
   {
    "duration": 27,
    "start_time": "2022-08-23T12:55:00.881Z"
   },
   {
    "duration": 388,
    "start_time": "2022-08-23T12:55:00.909Z"
   },
   {
    "duration": 26,
    "start_time": "2022-08-23T12:55:01.298Z"
   },
   {
    "duration": 21,
    "start_time": "2022-08-23T12:55:01.326Z"
   },
   {
    "duration": 10,
    "start_time": "2022-08-23T12:55:01.349Z"
   },
   {
    "duration": 57,
    "start_time": "2022-08-23T12:55:01.360Z"
   },
   {
    "duration": 49,
    "start_time": "2022-08-23T12:55:01.420Z"
   },
   {
    "duration": 79,
    "start_time": "2022-08-23T12:55:01.471Z"
   },
   {
    "duration": 17,
    "start_time": "2022-08-23T12:55:01.551Z"
   },
   {
    "duration": 19,
    "start_time": "2022-08-23T12:55:01.570Z"
   },
   {
    "duration": 84,
    "start_time": "2022-08-23T12:55:01.590Z"
   },
   {
    "duration": 78,
    "start_time": "2022-08-23T12:55:01.675Z"
   },
   {
    "duration": 26,
    "start_time": "2022-08-23T12:55:01.755Z"
   },
   {
    "duration": 65,
    "start_time": "2022-08-23T12:55:01.783Z"
   },
   {
    "duration": 63,
    "start_time": "2022-08-23T12:55:01.850Z"
   },
   {
    "duration": 143,
    "start_time": "2022-08-23T12:55:01.914Z"
   },
   {
    "duration": 12,
    "start_time": "2022-08-23T12:55:02.060Z"
   },
   {
    "duration": 40,
    "start_time": "2022-08-23T12:55:02.075Z"
   },
   {
    "duration": 26,
    "start_time": "2022-08-23T13:08:51.280Z"
   },
   {
    "duration": 58,
    "start_time": "2022-08-23T13:08:51.969Z"
   },
   {
    "duration": 54,
    "start_time": "2022-08-23T13:08:58.048Z"
   },
   {
    "duration": 101,
    "start_time": "2022-08-23T13:13:15.400Z"
   },
   {
    "duration": 12,
    "start_time": "2022-08-23T13:19:06.651Z"
   },
   {
    "duration": 12,
    "start_time": "2022-08-23T13:19:43.685Z"
   },
   {
    "duration": 10,
    "start_time": "2022-08-23T13:20:39.283Z"
   },
   {
    "duration": 15,
    "start_time": "2022-08-23T13:21:22.468Z"
   },
   {
    "duration": 19,
    "start_time": "2022-08-23T13:21:37.764Z"
   },
   {
    "duration": 62,
    "start_time": "2022-08-23T13:21:38.498Z"
   },
   {
    "duration": 1126,
    "start_time": "2022-08-23T13:22:19.275Z"
   },
   {
    "duration": 154,
    "start_time": "2022-08-23T13:22:20.403Z"
   },
   {
    "duration": 16,
    "start_time": "2022-08-23T13:22:20.559Z"
   },
   {
    "duration": 76,
    "start_time": "2022-08-23T13:22:20.578Z"
   },
   {
    "duration": 20,
    "start_time": "2022-08-23T13:22:20.655Z"
   },
   {
    "duration": 30,
    "start_time": "2022-08-23T13:22:20.677Z"
   },
   {
    "duration": 67,
    "start_time": "2022-08-23T13:22:20.709Z"
   },
   {
    "duration": 162,
    "start_time": "2022-08-23T13:22:20.778Z"
   },
   {
    "duration": 4,
    "start_time": "2022-08-23T13:22:20.941Z"
   },
   {
    "duration": 12,
    "start_time": "2022-08-23T13:22:20.947Z"
   },
   {
    "duration": 21,
    "start_time": "2022-08-23T13:22:20.960Z"
   },
   {
    "duration": 29,
    "start_time": "2022-08-23T13:22:20.983Z"
   },
   {
    "duration": 14,
    "start_time": "2022-08-23T13:22:21.013Z"
   },
   {
    "duration": 25,
    "start_time": "2022-08-23T13:22:21.029Z"
   },
   {
    "duration": 17,
    "start_time": "2022-08-23T13:22:21.056Z"
   },
   {
    "duration": 39,
    "start_time": "2022-08-23T13:22:21.074Z"
   },
   {
    "duration": 6,
    "start_time": "2022-08-23T13:22:21.114Z"
   },
   {
    "duration": 425,
    "start_time": "2022-08-23T13:22:21.122Z"
   },
   {
    "duration": 32,
    "start_time": "2022-08-23T13:22:21.549Z"
   },
   {
    "duration": 49,
    "start_time": "2022-08-23T13:22:21.583Z"
   },
   {
    "duration": 11,
    "start_time": "2022-08-23T13:22:21.634Z"
   },
   {
    "duration": 64,
    "start_time": "2022-08-23T13:22:21.647Z"
   },
   {
    "duration": 64,
    "start_time": "2022-08-23T13:22:21.713Z"
   },
   {
    "duration": 87,
    "start_time": "2022-08-23T13:22:21.779Z"
   },
   {
    "duration": 22,
    "start_time": "2022-08-23T13:22:21.868Z"
   },
   {
    "duration": 44,
    "start_time": "2022-08-23T13:22:21.892Z"
   },
   {
    "duration": 94,
    "start_time": "2022-08-23T13:22:21.939Z"
   },
   {
    "duration": 90,
    "start_time": "2022-08-23T13:22:22.038Z"
   },
   {
    "duration": 32,
    "start_time": "2022-08-23T13:22:22.130Z"
   },
   {
    "duration": 78,
    "start_time": "2022-08-23T13:22:22.164Z"
   },
   {
    "duration": 72,
    "start_time": "2022-08-23T13:22:22.243Z"
   },
   {
    "duration": 160,
    "start_time": "2022-08-23T13:22:22.316Z"
   },
   {
    "duration": 12,
    "start_time": "2022-08-23T13:22:22.479Z"
   },
   {
    "duration": 18,
    "start_time": "2022-08-23T13:22:22.493Z"
   },
   {
    "duration": 158,
    "start_time": "2022-08-23T13:27:01.800Z"
   },
   {
    "duration": 1196,
    "start_time": "2022-08-23T13:27:24.636Z"
   },
   {
    "duration": 148,
    "start_time": "2022-08-23T13:27:25.834Z"
   },
   {
    "duration": 12,
    "start_time": "2022-08-23T13:27:25.983Z"
   },
   {
    "duration": 65,
    "start_time": "2022-08-23T13:27:25.998Z"
   },
   {
    "duration": 27,
    "start_time": "2022-08-23T13:27:26.065Z"
   },
   {
    "duration": 17,
    "start_time": "2022-08-23T13:27:26.106Z"
   },
   {
    "duration": 89,
    "start_time": "2022-08-23T13:27:26.125Z"
   },
   {
    "duration": 131,
    "start_time": "2022-08-23T13:27:26.216Z"
   },
   {
    "duration": 4,
    "start_time": "2022-08-23T13:27:26.349Z"
   },
   {
    "duration": 9,
    "start_time": "2022-08-23T13:27:26.355Z"
   },
   {
    "duration": 14,
    "start_time": "2022-08-23T13:27:26.366Z"
   },
   {
    "duration": 8,
    "start_time": "2022-08-23T13:27:26.381Z"
   },
   {
    "duration": 10,
    "start_time": "2022-08-23T13:27:26.406Z"
   },
   {
    "duration": 20,
    "start_time": "2022-08-23T13:27:26.418Z"
   },
   {
    "duration": 12,
    "start_time": "2022-08-23T13:27:26.440Z"
   },
   {
    "duration": 14,
    "start_time": "2022-08-23T13:27:26.454Z"
   },
   {
    "duration": 7,
    "start_time": "2022-08-23T13:27:26.479Z"
   },
   {
    "duration": 372,
    "start_time": "2022-08-23T13:27:26.506Z"
   },
   {
    "duration": 20,
    "start_time": "2022-08-23T13:27:26.879Z"
   },
   {
    "duration": 20,
    "start_time": "2022-08-23T13:27:26.906Z"
   },
   {
    "duration": 8,
    "start_time": "2022-08-23T13:27:26.928Z"
   },
   {
    "duration": 22,
    "start_time": "2022-08-23T13:27:26.938Z"
   },
   {
    "duration": 62,
    "start_time": "2022-08-23T13:27:26.962Z"
   },
   {
    "duration": 51,
    "start_time": "2022-08-23T13:27:27.026Z"
   },
   {
    "duration": 30,
    "start_time": "2022-08-23T13:27:27.079Z"
   },
   {
    "duration": 18,
    "start_time": "2022-08-23T13:27:27.111Z"
   },
   {
    "duration": 177,
    "start_time": "2022-08-23T13:27:27.131Z"
   },
   {
    "duration": 0,
    "start_time": "2022-08-23T13:27:27.310Z"
   },
   {
    "duration": 0,
    "start_time": "2022-08-23T13:27:27.311Z"
   },
   {
    "duration": 0,
    "start_time": "2022-08-23T13:27:27.312Z"
   },
   {
    "duration": 0,
    "start_time": "2022-08-23T13:27:27.313Z"
   },
   {
    "duration": 0,
    "start_time": "2022-08-23T13:27:27.315Z"
   },
   {
    "duration": 0,
    "start_time": "2022-08-23T13:27:27.316Z"
   },
   {
    "duration": 0,
    "start_time": "2022-08-23T13:27:27.317Z"
   },
   {
    "duration": 75,
    "start_time": "2022-08-23T13:27:46.451Z"
   },
   {
    "duration": 1721,
    "start_time": "2022-08-23T13:28:15.152Z"
   },
   {
    "duration": 147,
    "start_time": "2022-08-23T13:28:16.875Z"
   },
   {
    "duration": 11,
    "start_time": "2022-08-23T13:28:17.024Z"
   },
   {
    "duration": 78,
    "start_time": "2022-08-23T13:28:17.037Z"
   },
   {
    "duration": 27,
    "start_time": "2022-08-23T13:28:17.118Z"
   },
   {
    "duration": 14,
    "start_time": "2022-08-23T13:28:17.147Z"
   },
   {
    "duration": 80,
    "start_time": "2022-08-23T13:28:17.163Z"
   },
   {
    "duration": 124,
    "start_time": "2022-08-23T13:28:17.244Z"
   },
   {
    "duration": 4,
    "start_time": "2022-08-23T13:28:17.370Z"
   },
   {
    "duration": 22,
    "start_time": "2022-08-23T13:28:17.375Z"
   },
   {
    "duration": 19,
    "start_time": "2022-08-23T13:28:17.399Z"
   },
   {
    "duration": 10,
    "start_time": "2022-08-23T13:28:17.419Z"
   },
   {
    "duration": 21,
    "start_time": "2022-08-23T13:28:17.431Z"
   },
   {
    "duration": 42,
    "start_time": "2022-08-23T13:28:17.456Z"
   },
   {
    "duration": 19,
    "start_time": "2022-08-23T13:28:17.500Z"
   },
   {
    "duration": 15,
    "start_time": "2022-08-23T13:28:17.521Z"
   },
   {
    "duration": 18,
    "start_time": "2022-08-23T13:28:17.538Z"
   },
   {
    "duration": 363,
    "start_time": "2022-08-23T13:28:17.558Z"
   },
   {
    "duration": 21,
    "start_time": "2022-08-23T13:28:17.923Z"
   },
   {
    "duration": 21,
    "start_time": "2022-08-23T13:28:17.945Z"
   },
   {
    "duration": 9,
    "start_time": "2022-08-23T13:28:17.967Z"
   },
   {
    "duration": 45,
    "start_time": "2022-08-23T13:28:17.978Z"
   },
   {
    "duration": 53,
    "start_time": "2022-08-23T13:28:18.025Z"
   },
   {
    "duration": 68,
    "start_time": "2022-08-23T13:28:18.080Z"
   },
   {
    "duration": 16,
    "start_time": "2022-08-23T13:28:18.149Z"
   },
   {
    "duration": 43,
    "start_time": "2022-08-23T13:28:18.167Z"
   },
   {
    "duration": 95,
    "start_time": "2022-08-23T13:28:18.212Z"
   },
   {
    "duration": 56,
    "start_time": "2022-08-23T13:28:18.309Z"
   },
   {
    "duration": 39,
    "start_time": "2022-08-23T13:28:18.367Z"
   },
   {
    "duration": 62,
    "start_time": "2022-08-23T13:28:18.408Z"
   },
   {
    "duration": 77,
    "start_time": "2022-08-23T13:28:18.472Z"
   },
   {
    "duration": 141,
    "start_time": "2022-08-23T13:28:18.550Z"
   },
   {
    "duration": 10,
    "start_time": "2022-08-23T13:28:18.694Z"
   },
   {
    "duration": 20,
    "start_time": "2022-08-23T13:28:18.706Z"
   },
   {
    "duration": 5,
    "start_time": "2022-08-23T13:57:50.994Z"
   },
   {
    "duration": 5,
    "start_time": "2022-08-23T13:58:07.240Z"
   },
   {
    "duration": 4,
    "start_time": "2022-08-23T14:01:31.708Z"
   },
   {
    "duration": 7,
    "start_time": "2022-08-23T14:01:50.797Z"
   },
   {
    "duration": 5,
    "start_time": "2022-08-23T14:02:08.101Z"
   },
   {
    "duration": 115,
    "start_time": "2022-08-23T14:04:11.422Z"
   },
   {
    "duration": 10,
    "start_time": "2022-08-23T14:04:46.286Z"
   },
   {
    "duration": 7,
    "start_time": "2022-08-23T14:04:57.829Z"
   },
   {
    "duration": 9,
    "start_time": "2022-08-23T14:06:54.088Z"
   },
   {
    "duration": 7,
    "start_time": "2022-08-23T14:07:18.090Z"
   },
   {
    "duration": 6,
    "start_time": "2022-08-23T14:07:43.071Z"
   },
   {
    "duration": 8,
    "start_time": "2022-08-23T14:09:42.168Z"
   },
   {
    "duration": 8,
    "start_time": "2022-08-23T14:10:59.800Z"
   },
   {
    "duration": 14,
    "start_time": "2022-08-23T14:11:32.962Z"
   },
   {
    "duration": 10,
    "start_time": "2022-08-23T14:11:48.481Z"
   },
   {
    "duration": 101,
    "start_time": "2022-08-23T14:15:30.139Z"
   },
   {
    "duration": 12,
    "start_time": "2022-08-23T14:15:43.563Z"
   },
   {
    "duration": 8,
    "start_time": "2022-08-23T14:16:15.416Z"
   },
   {
    "duration": 77,
    "start_time": "2022-08-23T14:17:19.961Z"
   },
   {
    "duration": 93,
    "start_time": "2022-08-23T14:17:35.038Z"
   },
   {
    "duration": 16,
    "start_time": "2022-08-23T14:17:57.946Z"
   },
   {
    "duration": 15,
    "start_time": "2022-08-23T14:20:37.448Z"
   },
   {
    "duration": 30,
    "start_time": "2022-08-23T14:21:22.517Z"
   },
   {
    "duration": 1154,
    "start_time": "2022-08-23T14:21:58.431Z"
   },
   {
    "duration": 163,
    "start_time": "2022-08-23T14:21:59.586Z"
   },
   {
    "duration": 12,
    "start_time": "2022-08-23T14:21:59.751Z"
   },
   {
    "duration": 63,
    "start_time": "2022-08-23T14:21:59.765Z"
   },
   {
    "duration": 17,
    "start_time": "2022-08-23T14:21:59.833Z"
   },
   {
    "duration": 13,
    "start_time": "2022-08-23T14:21:59.852Z"
   },
   {
    "duration": 82,
    "start_time": "2022-08-23T14:21:59.866Z"
   },
   {
    "duration": 140,
    "start_time": "2022-08-23T14:21:59.949Z"
   },
   {
    "duration": 3,
    "start_time": "2022-08-23T14:22:00.091Z"
   },
   {
    "duration": 10,
    "start_time": "2022-08-23T14:22:00.107Z"
   },
   {
    "duration": 26,
    "start_time": "2022-08-23T14:22:00.122Z"
   },
   {
    "duration": 9,
    "start_time": "2022-08-23T14:22:00.150Z"
   },
   {
    "duration": 16,
    "start_time": "2022-08-23T14:22:00.161Z"
   },
   {
    "duration": 33,
    "start_time": "2022-08-23T14:22:00.181Z"
   },
   {
    "duration": 31,
    "start_time": "2022-08-23T14:22:00.216Z"
   },
   {
    "duration": 17,
    "start_time": "2022-08-23T14:22:00.249Z"
   },
   {
    "duration": 22,
    "start_time": "2022-08-23T14:22:00.268Z"
   },
   {
    "duration": 404,
    "start_time": "2022-08-23T14:22:00.292Z"
   },
   {
    "duration": 35,
    "start_time": "2022-08-23T14:22:00.698Z"
   },
   {
    "duration": 23,
    "start_time": "2022-08-23T14:22:00.734Z"
   },
   {
    "duration": 10,
    "start_time": "2022-08-23T14:22:00.759Z"
   },
   {
    "duration": 59,
    "start_time": "2022-08-23T14:22:00.771Z"
   },
   {
    "duration": 63,
    "start_time": "2022-08-23T14:22:00.832Z"
   },
   {
    "duration": 82,
    "start_time": "2022-08-23T14:22:00.897Z"
   },
   {
    "duration": 35,
    "start_time": "2022-08-23T14:22:00.980Z"
   },
   {
    "duration": 24,
    "start_time": "2022-08-23T14:22:01.019Z"
   },
   {
    "duration": 125,
    "start_time": "2022-08-23T14:22:01.045Z"
   },
   {
    "duration": 130,
    "start_time": "2022-08-23T14:22:01.172Z"
   },
   {
    "duration": 0,
    "start_time": "2022-08-23T14:22:01.307Z"
   },
   {
    "duration": 0,
    "start_time": "2022-08-23T14:22:01.308Z"
   },
   {
    "duration": 0,
    "start_time": "2022-08-23T14:22:01.309Z"
   },
   {
    "duration": 0,
    "start_time": "2022-08-23T14:22:01.313Z"
   },
   {
    "duration": 0,
    "start_time": "2022-08-23T14:22:01.314Z"
   },
   {
    "duration": 0,
    "start_time": "2022-08-23T14:22:01.314Z"
   },
   {
    "duration": 0,
    "start_time": "2022-08-23T14:22:01.315Z"
   },
   {
    "duration": 1189,
    "start_time": "2022-08-23T14:22:17.503Z"
   },
   {
    "duration": 165,
    "start_time": "2022-08-23T14:22:18.694Z"
   },
   {
    "duration": 10,
    "start_time": "2022-08-23T14:22:18.861Z"
   },
   {
    "duration": 62,
    "start_time": "2022-08-23T14:22:18.872Z"
   },
   {
    "duration": 18,
    "start_time": "2022-08-23T14:22:18.936Z"
   },
   {
    "duration": 12,
    "start_time": "2022-08-23T14:22:18.955Z"
   },
   {
    "duration": 81,
    "start_time": "2022-08-23T14:22:18.969Z"
   },
   {
    "duration": 135,
    "start_time": "2022-08-23T14:22:19.052Z"
   },
   {
    "duration": 4,
    "start_time": "2022-08-23T14:22:19.188Z"
   },
   {
    "duration": 19,
    "start_time": "2022-08-23T14:22:19.193Z"
   },
   {
    "duration": 13,
    "start_time": "2022-08-23T14:22:19.223Z"
   },
   {
    "duration": 8,
    "start_time": "2022-08-23T14:22:19.238Z"
   },
   {
    "duration": 14,
    "start_time": "2022-08-23T14:22:19.248Z"
   },
   {
    "duration": 21,
    "start_time": "2022-08-23T14:22:19.265Z"
   },
   {
    "duration": 32,
    "start_time": "2022-08-23T14:22:19.288Z"
   },
   {
    "duration": 20,
    "start_time": "2022-08-23T14:22:19.322Z"
   },
   {
    "duration": 6,
    "start_time": "2022-08-23T14:22:19.344Z"
   },
   {
    "duration": 387,
    "start_time": "2022-08-23T14:22:19.352Z"
   },
   {
    "duration": 24,
    "start_time": "2022-08-23T14:22:19.741Z"
   },
   {
    "duration": 43,
    "start_time": "2022-08-23T14:22:19.767Z"
   },
   {
    "duration": 9,
    "start_time": "2022-08-23T14:22:19.821Z"
   },
   {
    "duration": 63,
    "start_time": "2022-08-23T14:22:19.831Z"
   },
   {
    "duration": 47,
    "start_time": "2022-08-23T14:22:19.896Z"
   },
   {
    "duration": 65,
    "start_time": "2022-08-23T14:22:19.945Z"
   },
   {
    "duration": 20,
    "start_time": "2022-08-23T14:22:20.012Z"
   },
   {
    "duration": 43,
    "start_time": "2022-08-23T14:22:20.033Z"
   },
   {
    "duration": 119,
    "start_time": "2022-08-23T14:22:20.078Z"
   },
   {
    "duration": 73,
    "start_time": "2022-08-23T14:22:20.198Z"
   },
   {
    "duration": 120,
    "start_time": "2022-08-23T14:22:20.272Z"
   },
   {
    "duration": 0,
    "start_time": "2022-08-23T14:22:20.393Z"
   },
   {
    "duration": 0,
    "start_time": "2022-08-23T14:22:20.395Z"
   },
   {
    "duration": 0,
    "start_time": "2022-08-23T14:22:20.396Z"
   },
   {
    "duration": 0,
    "start_time": "2022-08-23T14:22:20.397Z"
   },
   {
    "duration": 0,
    "start_time": "2022-08-23T14:22:20.398Z"
   },
   {
    "duration": 1159,
    "start_time": "2022-08-23T14:22:52.923Z"
   },
   {
    "duration": 155,
    "start_time": "2022-08-23T14:22:54.084Z"
   },
   {
    "duration": 10,
    "start_time": "2022-08-23T14:22:54.241Z"
   },
   {
    "duration": 44,
    "start_time": "2022-08-23T14:22:54.252Z"
   },
   {
    "duration": 24,
    "start_time": "2022-08-23T14:22:54.307Z"
   },
   {
    "duration": 15,
    "start_time": "2022-08-23T14:22:54.333Z"
   },
   {
    "duration": 77,
    "start_time": "2022-08-23T14:22:54.349Z"
   },
   {
    "duration": 127,
    "start_time": "2022-08-23T14:22:54.428Z"
   },
   {
    "duration": 4,
    "start_time": "2022-08-23T14:22:54.557Z"
   },
   {
    "duration": 10,
    "start_time": "2022-08-23T14:22:54.563Z"
   },
   {
    "duration": 36,
    "start_time": "2022-08-23T14:22:54.574Z"
   },
   {
    "duration": 12,
    "start_time": "2022-08-23T14:22:54.613Z"
   },
   {
    "duration": 9,
    "start_time": "2022-08-23T14:22:54.627Z"
   },
   {
    "duration": 19,
    "start_time": "2022-08-23T14:22:54.639Z"
   },
   {
    "duration": 12,
    "start_time": "2022-08-23T14:22:54.659Z"
   },
   {
    "duration": 38,
    "start_time": "2022-08-23T14:22:54.672Z"
   },
   {
    "duration": 9,
    "start_time": "2022-08-23T14:22:54.711Z"
   },
   {
    "duration": 400,
    "start_time": "2022-08-23T14:22:54.723Z"
   },
   {
    "duration": 23,
    "start_time": "2022-08-23T14:22:55.125Z"
   },
   {
    "duration": 21,
    "start_time": "2022-08-23T14:22:55.150Z"
   },
   {
    "duration": 9,
    "start_time": "2022-08-23T14:22:55.173Z"
   },
   {
    "duration": 49,
    "start_time": "2022-08-23T14:22:55.184Z"
   },
   {
    "duration": 42,
    "start_time": "2022-08-23T14:22:55.235Z"
   },
   {
    "duration": 92,
    "start_time": "2022-08-23T14:22:55.278Z"
   },
   {
    "duration": 15,
    "start_time": "2022-08-23T14:22:55.372Z"
   },
   {
    "duration": 37,
    "start_time": "2022-08-23T14:22:55.388Z"
   },
   {
    "duration": 93,
    "start_time": "2022-08-23T14:22:55.426Z"
   },
   {
    "duration": 65,
    "start_time": "2022-08-23T14:22:55.520Z"
   },
   {
    "duration": 78,
    "start_time": "2022-08-23T14:22:55.587Z"
   },
   {
    "duration": 10,
    "start_time": "2022-08-23T14:22:55.667Z"
   },
   {
    "duration": 42,
    "start_time": "2022-08-23T14:22:55.679Z"
   },
   {
    "duration": 141,
    "start_time": "2022-08-23T14:22:55.723Z"
   },
   {
    "duration": 8,
    "start_time": "2022-08-23T14:22:55.866Z"
   },
   {
    "duration": 14,
    "start_time": "2022-08-23T14:22:55.875Z"
   },
   {
    "duration": 1237,
    "start_time": "2022-08-23T14:28:59.103Z"
   },
   {
    "duration": 151,
    "start_time": "2022-08-23T14:29:00.341Z"
   },
   {
    "duration": 17,
    "start_time": "2022-08-23T14:29:00.493Z"
   },
   {
    "duration": 67,
    "start_time": "2022-08-23T14:29:00.514Z"
   },
   {
    "duration": 18,
    "start_time": "2022-08-23T14:29:00.582Z"
   },
   {
    "duration": 20,
    "start_time": "2022-08-23T14:29:00.602Z"
   },
   {
    "duration": 67,
    "start_time": "2022-08-23T14:29:00.624Z"
   },
   {
    "duration": 153,
    "start_time": "2022-08-23T14:29:00.693Z"
   },
   {
    "duration": 4,
    "start_time": "2022-08-23T14:29:00.847Z"
   },
   {
    "duration": 13,
    "start_time": "2022-08-23T14:29:00.854Z"
   },
   {
    "duration": 24,
    "start_time": "2022-08-23T14:29:00.869Z"
   },
   {
    "duration": 27,
    "start_time": "2022-08-23T14:29:00.895Z"
   },
   {
    "duration": 24,
    "start_time": "2022-08-23T14:29:00.925Z"
   },
   {
    "duration": 35,
    "start_time": "2022-08-23T14:29:00.951Z"
   },
   {
    "duration": 17,
    "start_time": "2022-08-23T14:29:00.988Z"
   },
   {
    "duration": 29,
    "start_time": "2022-08-23T14:29:01.009Z"
   },
   {
    "duration": 17,
    "start_time": "2022-08-23T14:29:01.039Z"
   },
   {
    "duration": 404,
    "start_time": "2022-08-23T14:29:01.058Z"
   },
   {
    "duration": 22,
    "start_time": "2022-08-23T14:29:01.463Z"
   },
   {
    "duration": 42,
    "start_time": "2022-08-23T14:29:01.486Z"
   },
   {
    "duration": 9,
    "start_time": "2022-08-23T14:29:01.529Z"
   },
   {
    "duration": 28,
    "start_time": "2022-08-23T14:29:01.540Z"
   },
   {
    "duration": 60,
    "start_time": "2022-08-23T14:29:01.570Z"
   },
   {
    "duration": 52,
    "start_time": "2022-08-23T14:29:01.632Z"
   },
   {
    "duration": 32,
    "start_time": "2022-08-23T14:29:01.685Z"
   },
   {
    "duration": 20,
    "start_time": "2022-08-23T14:29:01.722Z"
   },
   {
    "duration": 92,
    "start_time": "2022-08-23T14:29:01.744Z"
   },
   {
    "duration": 85,
    "start_time": "2022-08-23T14:29:01.839Z"
   },
   {
    "duration": 63,
    "start_time": "2022-08-23T14:29:01.926Z"
   },
   {
    "duration": 28,
    "start_time": "2022-08-23T14:29:01.991Z"
   },
   {
    "duration": 42,
    "start_time": "2022-08-23T14:29:02.022Z"
   },
   {
    "duration": 145,
    "start_time": "2022-08-23T14:29:02.066Z"
   },
   {
    "duration": 12,
    "start_time": "2022-08-23T14:29:02.213Z"
   },
   {
    "duration": 33,
    "start_time": "2022-08-23T14:29:02.228Z"
   },
   {
    "duration": 24,
    "start_time": "2022-08-23T15:28:03.457Z"
   },
   {
    "duration": 19,
    "start_time": "2022-08-23T15:29:10.810Z"
   },
   {
    "duration": 1189,
    "start_time": "2022-08-23T15:49:52.692Z"
   },
   {
    "duration": 148,
    "start_time": "2022-08-23T15:49:53.883Z"
   },
   {
    "duration": 12,
    "start_time": "2022-08-23T15:49:54.033Z"
   },
   {
    "duration": 91,
    "start_time": "2022-08-23T15:49:54.047Z"
   },
   {
    "duration": 28,
    "start_time": "2022-08-23T15:49:54.140Z"
   },
   {
    "duration": 37,
    "start_time": "2022-08-23T15:49:54.170Z"
   },
   {
    "duration": 113,
    "start_time": "2022-08-23T15:49:54.208Z"
   },
   {
    "duration": 146,
    "start_time": "2022-08-23T15:49:54.323Z"
   },
   {
    "duration": 4,
    "start_time": "2022-08-23T15:49:54.471Z"
   },
   {
    "duration": 40,
    "start_time": "2022-08-23T15:49:54.479Z"
   },
   {
    "duration": 45,
    "start_time": "2022-08-23T15:49:54.521Z"
   },
   {
    "duration": 32,
    "start_time": "2022-08-23T15:49:54.568Z"
   },
   {
    "duration": 45,
    "start_time": "2022-08-23T15:49:54.602Z"
   },
   {
    "duration": 47,
    "start_time": "2022-08-23T15:49:54.649Z"
   },
   {
    "duration": 40,
    "start_time": "2022-08-23T15:49:54.698Z"
   },
   {
    "duration": 22,
    "start_time": "2022-08-23T15:49:54.739Z"
   },
   {
    "duration": 34,
    "start_time": "2022-08-23T15:49:54.763Z"
   },
   {
    "duration": 413,
    "start_time": "2022-08-23T15:49:54.798Z"
   },
   {
    "duration": 26,
    "start_time": "2022-08-23T15:49:55.213Z"
   },
   {
    "duration": 46,
    "start_time": "2022-08-23T15:49:55.241Z"
   },
   {
    "duration": 17,
    "start_time": "2022-08-23T15:49:55.289Z"
   },
   {
    "duration": 33,
    "start_time": "2022-08-23T15:49:55.308Z"
   },
   {
    "duration": 44,
    "start_time": "2022-08-23T15:49:55.343Z"
   },
   {
    "duration": 84,
    "start_time": "2022-08-23T15:49:55.389Z"
   },
   {
    "duration": 16,
    "start_time": "2022-08-23T15:49:55.475Z"
   },
   {
    "duration": 24,
    "start_time": "2022-08-23T15:49:55.506Z"
   },
   {
    "duration": 96,
    "start_time": "2022-08-23T15:49:55.532Z"
   },
   {
    "duration": 78,
    "start_time": "2022-08-23T15:49:55.631Z"
   },
   {
    "duration": 64,
    "start_time": "2022-08-23T15:49:55.711Z"
   },
   {
    "duration": 11,
    "start_time": "2022-08-23T15:49:55.776Z"
   },
   {
    "duration": 27,
    "start_time": "2022-08-23T15:49:55.807Z"
   },
   {
    "duration": 157,
    "start_time": "2022-08-23T15:49:55.836Z"
   },
   {
    "duration": 11,
    "start_time": "2022-08-23T15:49:55.995Z"
   },
   {
    "duration": 31,
    "start_time": "2022-08-23T15:49:56.008Z"
   },
   {
    "duration": 56,
    "start_time": "2022-08-23T15:53:38.617Z"
   },
   {
    "duration": 154,
    "start_time": "2022-08-23T15:53:46.586Z"
   },
   {
    "duration": 1156,
    "start_time": "2022-08-23T15:53:52.022Z"
   },
   {
    "duration": 143,
    "start_time": "2022-08-23T15:53:53.180Z"
   },
   {
    "duration": 12,
    "start_time": "2022-08-23T15:53:53.324Z"
   },
   {
    "duration": 48,
    "start_time": "2022-08-23T15:53:53.339Z"
   },
   {
    "duration": 32,
    "start_time": "2022-08-23T15:53:53.388Z"
   },
   {
    "duration": 12,
    "start_time": "2022-08-23T15:53:53.421Z"
   },
   {
    "duration": 71,
    "start_time": "2022-08-23T15:53:53.435Z"
   },
   {
    "duration": 121,
    "start_time": "2022-08-23T15:53:53.509Z"
   },
   {
    "duration": 3,
    "start_time": "2022-08-23T15:53:53.632Z"
   },
   {
    "duration": 14,
    "start_time": "2022-08-23T15:53:53.638Z"
   },
   {
    "duration": 15,
    "start_time": "2022-08-23T15:53:53.654Z"
   },
   {
    "duration": 12,
    "start_time": "2022-08-23T15:53:53.671Z"
   },
   {
    "duration": 17,
    "start_time": "2022-08-23T15:53:53.707Z"
   },
   {
    "duration": 24,
    "start_time": "2022-08-23T15:53:53.726Z"
   },
   {
    "duration": 12,
    "start_time": "2022-08-23T15:53:53.752Z"
   },
   {
    "duration": 13,
    "start_time": "2022-08-23T15:53:53.765Z"
   },
   {
    "duration": 28,
    "start_time": "2022-08-23T15:53:53.779Z"
   },
   {
    "duration": 400,
    "start_time": "2022-08-23T15:53:53.809Z"
   },
   {
    "duration": 22,
    "start_time": "2022-08-23T15:53:54.211Z"
   },
   {
    "duration": 21,
    "start_time": "2022-08-23T15:53:54.235Z"
   },
   {
    "duration": 9,
    "start_time": "2022-08-23T15:53:54.258Z"
   },
   {
    "duration": 52,
    "start_time": "2022-08-23T15:53:54.269Z"
   },
   {
    "duration": 41,
    "start_time": "2022-08-23T15:53:54.322Z"
   },
   {
    "duration": 74,
    "start_time": "2022-08-23T15:53:54.365Z"
   },
   {
    "duration": 17,
    "start_time": "2022-08-23T15:53:54.440Z"
   },
   {
    "duration": 19,
    "start_time": "2022-08-23T15:53:54.458Z"
   },
   {
    "duration": 169,
    "start_time": "2022-08-23T15:53:54.479Z"
   },
   {
    "duration": 0,
    "start_time": "2022-08-23T15:53:54.650Z"
   },
   {
    "duration": 0,
    "start_time": "2022-08-23T15:53:54.651Z"
   },
   {
    "duration": 0,
    "start_time": "2022-08-23T15:53:54.652Z"
   },
   {
    "duration": 0,
    "start_time": "2022-08-23T15:53:54.653Z"
   },
   {
    "duration": 0,
    "start_time": "2022-08-23T15:53:54.654Z"
   },
   {
    "duration": 0,
    "start_time": "2022-08-23T15:53:54.655Z"
   },
   {
    "duration": 0,
    "start_time": "2022-08-23T15:53:54.656Z"
   },
   {
    "duration": 67,
    "start_time": "2022-08-23T15:54:01.910Z"
   },
   {
    "duration": 77,
    "start_time": "2022-08-23T15:54:37.737Z"
   },
   {
    "duration": 1144,
    "start_time": "2022-08-23T15:57:54.519Z"
   },
   {
    "duration": 139,
    "start_time": "2022-08-23T15:57:55.665Z"
   },
   {
    "duration": 10,
    "start_time": "2022-08-23T15:57:55.805Z"
   },
   {
    "duration": 43,
    "start_time": "2022-08-23T15:57:55.816Z"
   },
   {
    "duration": 16,
    "start_time": "2022-08-23T15:57:55.861Z"
   },
   {
    "duration": 32,
    "start_time": "2022-08-23T15:57:55.878Z"
   },
   {
    "duration": 54,
    "start_time": "2022-08-23T15:57:55.911Z"
   },
   {
    "duration": 150,
    "start_time": "2022-08-23T15:57:55.967Z"
   },
   {
    "duration": 4,
    "start_time": "2022-08-23T15:57:56.119Z"
   },
   {
    "duration": 19,
    "start_time": "2022-08-23T15:57:56.125Z"
   },
   {
    "duration": 20,
    "start_time": "2022-08-23T15:57:56.146Z"
   },
   {
    "duration": 17,
    "start_time": "2022-08-23T15:57:56.169Z"
   },
   {
    "duration": 18,
    "start_time": "2022-08-23T15:57:56.188Z"
   },
   {
    "duration": 25,
    "start_time": "2022-08-23T15:57:56.210Z"
   },
   {
    "duration": 14,
    "start_time": "2022-08-23T15:57:56.237Z"
   },
   {
    "duration": 21,
    "start_time": "2022-08-23T15:57:56.253Z"
   },
   {
    "duration": 6,
    "start_time": "2022-08-23T15:57:56.276Z"
   },
   {
    "duration": 398,
    "start_time": "2022-08-23T15:57:56.284Z"
   },
   {
    "duration": 30,
    "start_time": "2022-08-23T15:57:56.683Z"
   },
   {
    "duration": 21,
    "start_time": "2022-08-23T15:57:56.714Z"
   },
   {
    "duration": 8,
    "start_time": "2022-08-23T15:57:56.737Z"
   },
   {
    "duration": 22,
    "start_time": "2022-08-23T15:57:56.746Z"
   },
   {
    "duration": 69,
    "start_time": "2022-08-23T15:57:56.769Z"
   },
   {
    "duration": 53,
    "start_time": "2022-08-23T15:57:56.839Z"
   },
   {
    "duration": 26,
    "start_time": "2022-08-23T15:57:56.893Z"
   },
   {
    "duration": 19,
    "start_time": "2022-08-23T15:57:56.921Z"
   },
   {
    "duration": 83,
    "start_time": "2022-08-23T15:57:56.942Z"
   },
   {
    "duration": 82,
    "start_time": "2022-08-23T15:57:57.026Z"
   },
   {
    "duration": 59,
    "start_time": "2022-08-23T15:57:57.110Z"
   },
   {
    "duration": 10,
    "start_time": "2022-08-23T15:57:57.170Z"
   },
   {
    "duration": 46,
    "start_time": "2022-08-23T15:57:57.182Z"
   },
   {
    "duration": 129,
    "start_time": "2022-08-23T15:57:57.230Z"
   },
   {
    "duration": 1333,
    "start_time": "2022-08-23T15:57:57.361Z"
   },
   {
    "duration": 0,
    "start_time": "2022-08-23T15:57:58.695Z"
   },
   {
    "duration": 55,
    "start_time": "2022-08-23T16:06:15.419Z"
   },
   {
    "duration": 8,
    "start_time": "2022-08-23T16:15:44.480Z"
   },
   {
    "duration": 1199,
    "start_time": "2022-08-23T16:16:10.669Z"
   },
   {
    "duration": 147,
    "start_time": "2022-08-23T16:16:11.870Z"
   },
   {
    "duration": 11,
    "start_time": "2022-08-23T16:16:12.018Z"
   },
   {
    "duration": 46,
    "start_time": "2022-08-23T16:16:12.032Z"
   },
   {
    "duration": 35,
    "start_time": "2022-08-23T16:16:12.080Z"
   },
   {
    "duration": 13,
    "start_time": "2022-08-23T16:16:12.117Z"
   },
   {
    "duration": 76,
    "start_time": "2022-08-23T16:16:12.131Z"
   },
   {
    "duration": 129,
    "start_time": "2022-08-23T16:16:12.209Z"
   },
   {
    "duration": 5,
    "start_time": "2022-08-23T16:16:12.339Z"
   },
   {
    "duration": 11,
    "start_time": "2022-08-23T16:16:12.347Z"
   },
   {
    "duration": 14,
    "start_time": "2022-08-23T16:16:12.359Z"
   },
   {
    "duration": 9,
    "start_time": "2022-08-23T16:16:12.374Z"
   },
   {
    "duration": 29,
    "start_time": "2022-08-23T16:16:12.384Z"
   },
   {
    "duration": 20,
    "start_time": "2022-08-23T16:16:12.414Z"
   },
   {
    "duration": 11,
    "start_time": "2022-08-23T16:16:12.436Z"
   },
   {
    "duration": 15,
    "start_time": "2022-08-23T16:16:12.448Z"
   },
   {
    "duration": 5,
    "start_time": "2022-08-23T16:16:12.465Z"
   },
   {
    "duration": 368,
    "start_time": "2022-08-23T16:16:12.506Z"
   },
   {
    "duration": 35,
    "start_time": "2022-08-23T16:16:12.876Z"
   },
   {
    "duration": 21,
    "start_time": "2022-08-23T16:16:12.913Z"
   },
   {
    "duration": 8,
    "start_time": "2022-08-23T16:16:12.936Z"
   },
   {
    "duration": 34,
    "start_time": "2022-08-23T16:16:12.946Z"
   },
   {
    "duration": 40,
    "start_time": "2022-08-23T16:16:13.007Z"
   },
   {
    "duration": 61,
    "start_time": "2022-08-23T16:16:13.049Z"
   },
   {
    "duration": 14,
    "start_time": "2022-08-23T16:16:13.112Z"
   },
   {
    "duration": 19,
    "start_time": "2022-08-23T16:16:13.128Z"
   },
   {
    "duration": 90,
    "start_time": "2022-08-23T16:16:13.149Z"
   },
   {
    "duration": 85,
    "start_time": "2022-08-23T16:16:13.242Z"
   },
   {
    "duration": 55,
    "start_time": "2022-08-23T16:16:13.328Z"
   },
   {
    "duration": 25,
    "start_time": "2022-08-23T16:16:13.384Z"
   },
   {
    "duration": 22,
    "start_time": "2022-08-23T16:16:13.410Z"
   },
   {
    "duration": 8,
    "start_time": "2022-08-23T16:16:13.434Z"
   },
   {
    "duration": 164,
    "start_time": "2022-08-23T16:16:13.443Z"
   },
   {
    "duration": 1306,
    "start_time": "2022-08-23T16:16:13.609Z"
   },
   {
    "duration": 0,
    "start_time": "2022-08-23T16:16:14.916Z"
   },
   {
    "duration": 1257,
    "start_time": "2022-08-23T16:16:51.005Z"
   },
   {
    "duration": 14,
    "start_time": "2022-08-23T16:18:26.393Z"
   },
   {
    "duration": 8,
    "start_time": "2022-08-23T16:18:34.331Z"
   },
   {
    "duration": 7,
    "start_time": "2022-08-23T16:18:45.877Z"
   },
   {
    "duration": 68,
    "start_time": "2022-08-23T16:19:35.206Z"
   },
   {
    "duration": 68,
    "start_time": "2022-08-23T16:20:10.749Z"
   },
   {
    "duration": 1408,
    "start_time": "2022-08-23T16:20:29.843Z"
   },
   {
    "duration": 151,
    "start_time": "2022-08-23T16:20:31.253Z"
   },
   {
    "duration": 12,
    "start_time": "2022-08-23T16:20:31.406Z"
   },
   {
    "duration": 70,
    "start_time": "2022-08-23T16:20:31.420Z"
   },
   {
    "duration": 28,
    "start_time": "2022-08-23T16:20:31.494Z"
   },
   {
    "duration": 20,
    "start_time": "2022-08-23T16:20:31.524Z"
   },
   {
    "duration": 73,
    "start_time": "2022-08-23T16:20:31.545Z"
   },
   {
    "duration": 133,
    "start_time": "2022-08-23T16:20:31.620Z"
   },
   {
    "duration": 3,
    "start_time": "2022-08-23T16:20:31.754Z"
   },
   {
    "duration": 38,
    "start_time": "2022-08-23T16:20:31.759Z"
   },
   {
    "duration": 23,
    "start_time": "2022-08-23T16:20:31.799Z"
   },
   {
    "duration": 10,
    "start_time": "2022-08-23T16:20:31.824Z"
   },
   {
    "duration": 27,
    "start_time": "2022-08-23T16:20:31.836Z"
   },
   {
    "duration": 44,
    "start_time": "2022-08-23T16:20:31.866Z"
   },
   {
    "duration": 32,
    "start_time": "2022-08-23T16:20:31.912Z"
   },
   {
    "duration": 22,
    "start_time": "2022-08-23T16:20:31.946Z"
   },
   {
    "duration": 6,
    "start_time": "2022-08-23T16:20:31.970Z"
   },
   {
    "duration": 382,
    "start_time": "2022-08-23T16:20:31.978Z"
   },
   {
    "duration": 24,
    "start_time": "2022-08-23T16:20:32.361Z"
   },
   {
    "duration": 46,
    "start_time": "2022-08-23T16:20:32.387Z"
   },
   {
    "duration": 11,
    "start_time": "2022-08-23T16:20:32.435Z"
   },
   {
    "duration": 42,
    "start_time": "2022-08-23T16:20:32.448Z"
   },
   {
    "duration": 52,
    "start_time": "2022-08-23T16:20:32.506Z"
   },
   {
    "duration": 80,
    "start_time": "2022-08-23T16:20:32.560Z"
   },
   {
    "duration": 17,
    "start_time": "2022-08-23T16:20:32.643Z"
   },
   {
    "duration": 25,
    "start_time": "2022-08-23T16:20:32.663Z"
   },
   {
    "duration": 91,
    "start_time": "2022-08-23T16:20:32.706Z"
   },
   {
    "duration": 88,
    "start_time": "2022-08-23T16:20:32.799Z"
   },
   {
    "duration": 69,
    "start_time": "2022-08-23T16:20:32.889Z"
   },
   {
    "duration": 18,
    "start_time": "2022-08-23T16:20:32.960Z"
   },
   {
    "duration": 49,
    "start_time": "2022-08-23T16:20:32.980Z"
   },
   {
    "duration": 86,
    "start_time": "2022-08-23T16:20:33.031Z"
   },
   {
    "duration": 143,
    "start_time": "2022-08-23T16:20:33.118Z"
   },
   {
    "duration": 2766,
    "start_time": "2022-08-23T16:20:33.262Z"
   },
   {
    "duration": 0,
    "start_time": "2022-08-23T16:20:36.030Z"
   },
   {
    "duration": 7,
    "start_time": "2022-08-23T16:21:45.063Z"
   },
   {
    "duration": 16,
    "start_time": "2022-08-23T16:30:52.653Z"
   },
   {
    "duration": 14,
    "start_time": "2022-08-23T16:30:59.557Z"
   },
   {
    "duration": 1284,
    "start_time": "2022-08-23T16:31:15.095Z"
   },
   {
    "duration": 150,
    "start_time": "2022-08-23T16:31:16.381Z"
   },
   {
    "duration": 9,
    "start_time": "2022-08-23T16:31:16.533Z"
   },
   {
    "duration": 50,
    "start_time": "2022-08-23T16:31:16.544Z"
   },
   {
    "duration": 24,
    "start_time": "2022-08-23T16:31:16.596Z"
   },
   {
    "duration": 17,
    "start_time": "2022-08-23T16:31:16.621Z"
   },
   {
    "duration": 79,
    "start_time": "2022-08-23T16:31:16.639Z"
   },
   {
    "duration": 121,
    "start_time": "2022-08-23T16:31:16.719Z"
   },
   {
    "duration": 4,
    "start_time": "2022-08-23T16:31:16.842Z"
   },
   {
    "duration": 39,
    "start_time": "2022-08-23T16:31:16.849Z"
   },
   {
    "duration": 18,
    "start_time": "2022-08-23T16:31:16.890Z"
   },
   {
    "duration": 13,
    "start_time": "2022-08-23T16:31:16.910Z"
   },
   {
    "duration": 34,
    "start_time": "2022-08-23T16:31:16.925Z"
   },
   {
    "duration": 36,
    "start_time": "2022-08-23T16:31:16.961Z"
   },
   {
    "duration": 29,
    "start_time": "2022-08-23T16:31:16.999Z"
   },
   {
    "duration": 32,
    "start_time": "2022-08-23T16:31:17.030Z"
   },
   {
    "duration": 18,
    "start_time": "2022-08-23T16:31:17.063Z"
   },
   {
    "duration": 385,
    "start_time": "2022-08-23T16:31:17.082Z"
   },
   {
    "duration": 22,
    "start_time": "2022-08-23T16:31:17.469Z"
   },
   {
    "duration": 27,
    "start_time": "2022-08-23T16:31:17.493Z"
   },
   {
    "duration": 9,
    "start_time": "2022-08-23T16:31:17.522Z"
   },
   {
    "duration": 28,
    "start_time": "2022-08-23T16:31:17.533Z"
   },
   {
    "duration": 59,
    "start_time": "2022-08-23T16:31:17.563Z"
   },
   {
    "duration": 51,
    "start_time": "2022-08-23T16:31:17.624Z"
   },
   {
    "duration": 32,
    "start_time": "2022-08-23T16:31:17.677Z"
   },
   {
    "duration": 19,
    "start_time": "2022-08-23T16:31:17.711Z"
   },
   {
    "duration": 83,
    "start_time": "2022-08-23T16:31:17.731Z"
   },
   {
    "duration": 89,
    "start_time": "2022-08-23T16:31:17.817Z"
   },
   {
    "duration": 55,
    "start_time": "2022-08-23T16:31:17.908Z"
   },
   {
    "duration": 12,
    "start_time": "2022-08-23T16:31:17.965Z"
   },
   {
    "duration": 45,
    "start_time": "2022-08-23T16:31:17.979Z"
   },
   {
    "duration": 87,
    "start_time": "2022-08-23T16:31:18.025Z"
   },
   {
    "duration": 8,
    "start_time": "2022-08-23T16:31:18.113Z"
   },
   {
    "duration": 152,
    "start_time": "2022-08-23T16:31:18.122Z"
   },
   {
    "duration": 141,
    "start_time": "2022-08-23T16:31:18.277Z"
   },
   {
    "duration": 0,
    "start_time": "2022-08-23T16:31:18.420Z"
   },
   {
    "duration": 271,
    "start_time": "2022-08-24T08:24:56.778Z"
   },
   {
    "duration": 386,
    "start_time": "2022-08-24T08:25:02.097Z"
   },
   {
    "duration": 269,
    "start_time": "2022-08-24T08:25:08.581Z"
   },
   {
    "duration": 272,
    "start_time": "2022-08-24T08:25:17.636Z"
   },
   {
    "duration": 264,
    "start_time": "2022-08-24T08:25:32.163Z"
   },
   {
    "duration": 17,
    "start_time": "2022-08-24T09:32:16.219Z"
   },
   {
    "duration": 51,
    "start_time": "2022-08-24T09:34:17.085Z"
   },
   {
    "duration": 62,
    "start_time": "2022-08-24T09:42:59.617Z"
   },
   {
    "duration": 5,
    "start_time": "2022-08-24T09:51:07.092Z"
   },
   {
    "duration": 105,
    "start_time": "2022-08-24T09:52:00.724Z"
   },
   {
    "duration": 7,
    "start_time": "2022-08-24T09:52:05.318Z"
   },
   {
    "duration": 1176,
    "start_time": "2022-08-24T09:52:17.140Z"
   },
   {
    "duration": 151,
    "start_time": "2022-08-24T09:52:18.318Z"
   },
   {
    "duration": 11,
    "start_time": "2022-08-24T09:52:18.471Z"
   },
   {
    "duration": 27,
    "start_time": "2022-08-24T09:52:18.484Z"
   },
   {
    "duration": 17,
    "start_time": "2022-08-24T09:52:18.513Z"
   },
   {
    "duration": 59,
    "start_time": "2022-08-24T09:52:18.531Z"
   },
   {
    "duration": 147,
    "start_time": "2022-08-24T09:52:18.591Z"
   },
   {
    "duration": 3,
    "start_time": "2022-08-24T09:52:18.740Z"
   },
   {
    "duration": 11,
    "start_time": "2022-08-24T09:52:18.744Z"
   },
   {
    "duration": 18,
    "start_time": "2022-08-24T09:52:18.757Z"
   },
   {
    "duration": 8,
    "start_time": "2022-08-24T09:52:18.777Z"
   },
   {
    "duration": 27,
    "start_time": "2022-08-24T09:52:18.786Z"
   },
   {
    "duration": 36,
    "start_time": "2022-08-24T09:52:18.815Z"
   },
   {
    "duration": 10,
    "start_time": "2022-08-24T09:52:18.852Z"
   },
   {
    "duration": 14,
    "start_time": "2022-08-24T09:52:18.864Z"
   },
   {
    "duration": 5,
    "start_time": "2022-08-24T09:52:18.880Z"
   },
   {
    "duration": 411,
    "start_time": "2022-08-24T09:52:18.887Z"
   },
   {
    "duration": 31,
    "start_time": "2022-08-24T09:52:19.299Z"
   },
   {
    "duration": 20,
    "start_time": "2022-08-24T09:52:19.331Z"
   },
   {
    "duration": 8,
    "start_time": "2022-08-24T09:52:19.352Z"
   },
   {
    "duration": 20,
    "start_time": "2022-08-24T09:52:19.361Z"
   },
   {
    "duration": 48,
    "start_time": "2022-08-24T09:52:19.405Z"
   },
   {
    "duration": 78,
    "start_time": "2022-08-24T09:52:19.454Z"
   },
   {
    "duration": 16,
    "start_time": "2022-08-24T09:52:19.533Z"
   },
   {
    "duration": 17,
    "start_time": "2022-08-24T09:52:19.550Z"
   },
   {
    "duration": 85,
    "start_time": "2022-08-24T09:52:19.568Z"
   },
   {
    "duration": 93,
    "start_time": "2022-08-24T09:52:19.655Z"
   },
   {
    "duration": 78,
    "start_time": "2022-08-24T09:52:19.752Z"
   },
   {
    "duration": 9,
    "start_time": "2022-08-24T09:52:19.831Z"
   },
   {
    "duration": 6,
    "start_time": "2022-08-24T09:52:19.842Z"
   },
   {
    "duration": 10,
    "start_time": "2022-08-24T09:52:19.850Z"
   },
   {
    "duration": 23,
    "start_time": "2022-08-24T09:52:19.861Z"
   },
   {
    "duration": 73,
    "start_time": "2022-08-24T09:52:19.906Z"
   },
   {
    "duration": 6,
    "start_time": "2022-08-24T09:52:19.981Z"
   },
   {
    "duration": 164,
    "start_time": "2022-08-24T09:52:19.988Z"
   },
   {
    "duration": 119,
    "start_time": "2022-08-24T09:52:20.153Z"
   },
   {
    "duration": 0,
    "start_time": "2022-08-24T09:52:20.273Z"
   },
   {
    "duration": 8,
    "start_time": "2022-08-24T09:53:25.292Z"
   },
   {
    "duration": 6,
    "start_time": "2022-08-24T09:53:36.141Z"
   },
   {
    "duration": 4,
    "start_time": "2022-08-24T09:53:45.698Z"
   },
   {
    "duration": 23,
    "start_time": "2022-08-24T10:01:08.985Z"
   },
   {
    "duration": 11,
    "start_time": "2022-08-24T10:01:24.098Z"
   },
   {
    "duration": 8,
    "start_time": "2022-08-24T10:07:21.415Z"
   },
   {
    "duration": 131,
    "start_time": "2022-08-24T10:07:31.940Z"
   },
   {
    "duration": 5,
    "start_time": "2022-08-24T10:07:39.788Z"
   },
   {
    "duration": 5,
    "start_time": "2022-08-24T10:07:44.996Z"
   },
   {
    "duration": 4,
    "start_time": "2022-08-24T10:07:53.253Z"
   },
   {
    "duration": 17,
    "start_time": "2022-08-24T10:07:58.112Z"
   },
   {
    "duration": 11,
    "start_time": "2022-08-24T10:09:29.245Z"
   },
   {
    "duration": 14,
    "start_time": "2022-08-24T10:09:49.728Z"
   },
   {
    "duration": 9,
    "start_time": "2022-08-24T10:10:03.014Z"
   },
   {
    "duration": 6,
    "start_time": "2022-08-24T10:12:52.216Z"
   },
   {
    "duration": 7,
    "start_time": "2022-08-24T10:12:56.219Z"
   },
   {
    "duration": 9,
    "start_time": "2022-08-24T10:13:05.512Z"
   },
   {
    "duration": 898,
    "start_time": "2022-08-24T10:24:23.782Z"
   },
   {
    "duration": 27,
    "start_time": "2022-08-24T10:25:25.593Z"
   },
   {
    "duration": 107,
    "start_time": "2022-08-24T10:26:08.312Z"
   },
   {
    "duration": 96,
    "start_time": "2022-08-24T10:26:36.437Z"
   },
   {
    "duration": 78,
    "start_time": "2022-08-24T10:26:56.518Z"
   },
   {
    "duration": 17,
    "start_time": "2022-08-24T10:27:13.144Z"
   },
   {
    "duration": 29,
    "start_time": "2022-08-24T10:28:23.574Z"
   },
   {
    "duration": 23,
    "start_time": "2022-08-24T10:29:30.766Z"
   },
   {
    "duration": 286,
    "start_time": "2022-08-24T10:30:00.320Z"
   },
   {
    "duration": 1198,
    "start_time": "2022-08-24T10:32:23.202Z"
   },
   {
    "duration": 150,
    "start_time": "2022-08-24T10:32:24.404Z"
   },
   {
    "duration": 11,
    "start_time": "2022-08-24T10:32:24.555Z"
   },
   {
    "duration": 19,
    "start_time": "2022-08-24T10:32:24.568Z"
   },
   {
    "duration": 21,
    "start_time": "2022-08-24T10:32:24.589Z"
   },
   {
    "duration": 62,
    "start_time": "2022-08-24T10:32:24.612Z"
   },
   {
    "duration": 145,
    "start_time": "2022-08-24T10:32:24.675Z"
   },
   {
    "duration": 4,
    "start_time": "2022-08-24T10:32:24.821Z"
   },
   {
    "duration": 10,
    "start_time": "2022-08-24T10:32:24.826Z"
   },
   {
    "duration": 22,
    "start_time": "2022-08-24T10:32:24.839Z"
   },
   {
    "duration": 8,
    "start_time": "2022-08-24T10:32:24.863Z"
   },
   {
    "duration": 16,
    "start_time": "2022-08-24T10:32:24.873Z"
   },
   {
    "duration": 32,
    "start_time": "2022-08-24T10:32:24.890Z"
   },
   {
    "duration": 14,
    "start_time": "2022-08-24T10:32:24.923Z"
   },
   {
    "duration": 15,
    "start_time": "2022-08-24T10:32:24.938Z"
   },
   {
    "duration": 5,
    "start_time": "2022-08-24T10:32:24.954Z"
   },
   {
    "duration": 400,
    "start_time": "2022-08-24T10:32:24.961Z"
   },
   {
    "duration": 25,
    "start_time": "2022-08-24T10:32:25.362Z"
   },
   {
    "duration": 32,
    "start_time": "2022-08-24T10:32:25.388Z"
   },
   {
    "duration": 9,
    "start_time": "2022-08-24T10:32:25.422Z"
   },
   {
    "duration": 33,
    "start_time": "2022-08-24T10:32:25.432Z"
   },
   {
    "duration": 58,
    "start_time": "2022-08-24T10:32:25.467Z"
   },
   {
    "duration": 58,
    "start_time": "2022-08-24T10:32:25.527Z"
   },
   {
    "duration": 29,
    "start_time": "2022-08-24T10:32:25.586Z"
   },
   {
    "duration": 20,
    "start_time": "2022-08-24T10:32:25.616Z"
   },
   {
    "duration": 90,
    "start_time": "2022-08-24T10:32:25.638Z"
   },
   {
    "duration": 84,
    "start_time": "2022-08-24T10:32:25.730Z"
   },
   {
    "duration": 55,
    "start_time": "2022-08-24T10:32:25.817Z"
   },
   {
    "duration": 10,
    "start_time": "2022-08-24T10:32:25.874Z"
   },
   {
    "duration": 25,
    "start_time": "2022-08-24T10:32:25.885Z"
   },
   {
    "duration": 21,
    "start_time": "2022-08-24T10:32:25.912Z"
   },
   {
    "duration": 46,
    "start_time": "2022-08-24T10:32:25.935Z"
   },
   {
    "duration": 87,
    "start_time": "2022-08-24T10:32:25.983Z"
   },
   {
    "duration": 8,
    "start_time": "2022-08-24T10:32:26.072Z"
   },
   {
    "duration": 25,
    "start_time": "2022-08-24T10:32:26.082Z"
   },
   {
    "duration": 139,
    "start_time": "2022-08-24T10:32:26.109Z"
   },
   {
    "duration": 0,
    "start_time": "2022-08-24T10:32:26.250Z"
   },
   {
    "duration": 0,
    "start_time": "2022-08-24T10:32:26.252Z"
   },
   {
    "duration": 0,
    "start_time": "2022-08-24T10:32:26.253Z"
   },
   {
    "duration": 411,
    "start_time": "2022-08-24T10:37:51.685Z"
   },
   {
    "duration": 13,
    "start_time": "2022-08-24T10:42:29.501Z"
   },
   {
    "duration": 12,
    "start_time": "2022-08-24T10:42:46.181Z"
   },
   {
    "duration": 57,
    "start_time": "2022-08-24T10:43:27.877Z"
   },
   {
    "duration": 4,
    "start_time": "2022-08-24T10:43:39.434Z"
   },
   {
    "duration": 10,
    "start_time": "2022-08-24T10:43:44.093Z"
   },
   {
    "duration": 8751,
    "start_time": "2022-08-24T10:44:49.246Z"
   },
   {
    "duration": 0,
    "start_time": "2022-08-24T10:44:57.999Z"
   },
   {
    "duration": 4461,
    "start_time": "2022-08-24T10:45:01.031Z"
   },
   {
    "duration": 6,
    "start_time": "2022-08-24T10:45:20.022Z"
   },
   {
    "duration": 1190,
    "start_time": "2022-08-24T10:48:25.356Z"
   },
   {
    "duration": 146,
    "start_time": "2022-08-24T10:48:26.549Z"
   },
   {
    "duration": 14,
    "start_time": "2022-08-24T10:48:26.696Z"
   },
   {
    "duration": 19,
    "start_time": "2022-08-24T10:48:26.711Z"
   },
   {
    "duration": 12,
    "start_time": "2022-08-24T10:48:26.732Z"
   },
   {
    "duration": 81,
    "start_time": "2022-08-24T10:48:26.746Z"
   },
   {
    "duration": 128,
    "start_time": "2022-08-24T10:48:26.829Z"
   },
   {
    "duration": 3,
    "start_time": "2022-08-24T10:48:26.959Z"
   },
   {
    "duration": 10,
    "start_time": "2022-08-24T10:48:26.964Z"
   },
   {
    "duration": 30,
    "start_time": "2022-08-24T10:48:26.976Z"
   },
   {
    "duration": 10,
    "start_time": "2022-08-24T10:48:27.007Z"
   },
   {
    "duration": 19,
    "start_time": "2022-08-24T10:48:27.018Z"
   },
   {
    "duration": 23,
    "start_time": "2022-08-24T10:48:27.039Z"
   },
   {
    "duration": 18,
    "start_time": "2022-08-24T10:48:27.065Z"
   },
   {
    "duration": 30,
    "start_time": "2022-08-24T10:48:27.084Z"
   },
   {
    "duration": 6,
    "start_time": "2022-08-24T10:48:27.116Z"
   },
   {
    "duration": 405,
    "start_time": "2022-08-24T10:48:27.123Z"
   },
   {
    "duration": 26,
    "start_time": "2022-08-24T10:48:27.529Z"
   },
   {
    "duration": 22,
    "start_time": "2022-08-24T10:48:27.557Z"
   },
   {
    "duration": 28,
    "start_time": "2022-08-24T10:48:27.581Z"
   },
   {
    "duration": 24,
    "start_time": "2022-08-24T10:48:27.610Z"
   },
   {
    "duration": 41,
    "start_time": "2022-08-24T10:48:27.636Z"
   },
   {
    "duration": 78,
    "start_time": "2022-08-24T10:48:27.678Z"
   },
   {
    "duration": 16,
    "start_time": "2022-08-24T10:48:27.757Z"
   },
   {
    "duration": 33,
    "start_time": "2022-08-24T10:48:27.774Z"
   },
   {
    "duration": 66,
    "start_time": "2022-08-24T10:48:27.808Z"
   },
   {
    "duration": 94,
    "start_time": "2022-08-24T10:48:27.876Z"
   },
   {
    "duration": 65,
    "start_time": "2022-08-24T10:48:27.972Z"
   },
   {
    "duration": 12,
    "start_time": "2022-08-24T10:48:28.039Z"
   },
   {
    "duration": 6,
    "start_time": "2022-08-24T10:48:28.052Z"
   },
   {
    "duration": 12,
    "start_time": "2022-08-24T10:48:28.059Z"
   },
   {
    "duration": 42,
    "start_time": "2022-08-24T10:48:28.073Z"
   },
   {
    "duration": 68,
    "start_time": "2022-08-24T10:48:28.116Z"
   },
   {
    "duration": 25,
    "start_time": "2022-08-24T10:48:28.186Z"
   },
   {
    "duration": 10,
    "start_time": "2022-08-24T10:48:28.212Z"
   },
   {
    "duration": 151,
    "start_time": "2022-08-24T10:48:28.224Z"
   },
   {
    "duration": 7,
    "start_time": "2022-08-24T10:48:28.377Z"
   },
   {
    "duration": 1251,
    "start_time": "2022-08-24T10:48:28.386Z"
   },
   {
    "duration": 71,
    "start_time": "2022-08-24T10:49:39.657Z"
   },
   {
    "duration": 1395,
    "start_time": "2022-08-24T10:49:47.051Z"
   },
   {
    "duration": 8,
    "start_time": "2022-08-24T10:49:58.792Z"
   },
   {
    "duration": 4,
    "start_time": "2022-08-24T10:50:03.129Z"
   },
   {
    "duration": 89,
    "start_time": "2022-08-24T10:50:18.498Z"
   },
   {
    "duration": 7,
    "start_time": "2022-08-24T10:50:49.050Z"
   },
   {
    "duration": 8,
    "start_time": "2022-08-24T10:51:34.833Z"
   },
   {
    "duration": 1720,
    "start_time": "2022-08-24T10:52:00.289Z"
   },
   {
    "duration": 4,
    "start_time": "2022-08-24T10:53:18.883Z"
   },
   {
    "duration": 1205,
    "start_time": "2022-08-24T10:53:27.676Z"
   },
   {
    "duration": 1271,
    "start_time": "2022-08-24T10:53:55.972Z"
   },
   {
    "duration": 150,
    "start_time": "2022-08-24T10:53:57.245Z"
   },
   {
    "duration": 9,
    "start_time": "2022-08-24T10:53:57.397Z"
   },
   {
    "duration": 18,
    "start_time": "2022-08-24T10:53:57.408Z"
   },
   {
    "duration": 12,
    "start_time": "2022-08-24T10:53:57.430Z"
   },
   {
    "duration": 76,
    "start_time": "2022-08-24T10:53:57.443Z"
   },
   {
    "duration": 129,
    "start_time": "2022-08-24T10:53:57.521Z"
   },
   {
    "duration": 4,
    "start_time": "2022-08-24T10:53:57.651Z"
   },
   {
    "duration": 17,
    "start_time": "2022-08-24T10:53:57.657Z"
   },
   {
    "duration": 14,
    "start_time": "2022-08-24T10:53:57.676Z"
   },
   {
    "duration": 21,
    "start_time": "2022-08-24T10:53:57.691Z"
   },
   {
    "duration": 12,
    "start_time": "2022-08-24T10:53:57.714Z"
   },
   {
    "duration": 21,
    "start_time": "2022-08-24T10:53:57.727Z"
   },
   {
    "duration": 10,
    "start_time": "2022-08-24T10:53:57.751Z"
   },
   {
    "duration": 14,
    "start_time": "2022-08-24T10:53:57.763Z"
   },
   {
    "duration": 6,
    "start_time": "2022-08-24T10:53:57.806Z"
   },
   {
    "duration": 375,
    "start_time": "2022-08-24T10:53:57.813Z"
   },
   {
    "duration": 35,
    "start_time": "2022-08-24T10:53:58.190Z"
   },
   {
    "duration": 22,
    "start_time": "2022-08-24T10:53:58.226Z"
   },
   {
    "duration": 10,
    "start_time": "2022-08-24T10:53:58.250Z"
   },
   {
    "duration": 46,
    "start_time": "2022-08-24T10:53:58.262Z"
   },
   {
    "duration": 42,
    "start_time": "2022-08-24T10:53:58.310Z"
   },
   {
    "duration": 68,
    "start_time": "2022-08-24T10:53:58.354Z"
   },
   {
    "duration": 16,
    "start_time": "2022-08-24T10:53:58.424Z"
   },
   {
    "duration": 18,
    "start_time": "2022-08-24T10:53:58.442Z"
   },
   {
    "duration": 84,
    "start_time": "2022-08-24T10:53:58.462Z"
   },
   {
    "duration": 81,
    "start_time": "2022-08-24T10:53:58.548Z"
   },
   {
    "duration": 56,
    "start_time": "2022-08-24T10:53:58.630Z"
   },
   {
    "duration": 25,
    "start_time": "2022-08-24T10:53:58.688Z"
   },
   {
    "duration": 14,
    "start_time": "2022-08-24T10:53:58.715Z"
   },
   {
    "duration": 13,
    "start_time": "2022-08-24T10:53:58.731Z"
   },
   {
    "duration": 26,
    "start_time": "2022-08-24T10:53:58.745Z"
   },
   {
    "duration": 82,
    "start_time": "2022-08-24T10:53:58.773Z"
   },
   {
    "duration": 7,
    "start_time": "2022-08-24T10:53:58.857Z"
   },
   {
    "duration": 14,
    "start_time": "2022-08-24T10:53:58.866Z"
   },
   {
    "duration": 154,
    "start_time": "2022-08-24T10:53:58.882Z"
   },
   {
    "duration": 8,
    "start_time": "2022-08-24T10:53:59.037Z"
   },
   {
    "duration": 9,
    "start_time": "2022-08-24T10:53:59.047Z"
   },
   {
    "duration": 1516,
    "start_time": "2022-08-24T10:53:59.057Z"
   },
   {
    "duration": 8,
    "start_time": "2022-08-24T10:54:22.163Z"
   },
   {
    "duration": 1328,
    "start_time": "2022-08-24T10:54:25.259Z"
   },
   {
    "duration": 1193,
    "start_time": "2022-08-24T10:54:30.620Z"
   },
   {
    "duration": 143,
    "start_time": "2022-08-24T10:54:31.815Z"
   },
   {
    "duration": 10,
    "start_time": "2022-08-24T10:54:31.960Z"
   },
   {
    "duration": 28,
    "start_time": "2022-08-24T10:54:31.972Z"
   },
   {
    "duration": 33,
    "start_time": "2022-08-24T10:54:32.001Z"
   },
   {
    "duration": 80,
    "start_time": "2022-08-24T10:54:32.035Z"
   },
   {
    "duration": 123,
    "start_time": "2022-08-24T10:54:32.117Z"
   },
   {
    "duration": 3,
    "start_time": "2022-08-24T10:54:32.242Z"
   },
   {
    "duration": 16,
    "start_time": "2022-08-24T10:54:32.246Z"
   },
   {
    "duration": 31,
    "start_time": "2022-08-24T10:54:32.264Z"
   },
   {
    "duration": 14,
    "start_time": "2022-08-24T10:54:32.296Z"
   },
   {
    "duration": 26,
    "start_time": "2022-08-24T10:54:32.311Z"
   },
   {
    "duration": 35,
    "start_time": "2022-08-24T10:54:32.339Z"
   },
   {
    "duration": 16,
    "start_time": "2022-08-24T10:54:32.376Z"
   },
   {
    "duration": 18,
    "start_time": "2022-08-24T10:54:32.394Z"
   },
   {
    "duration": 23,
    "start_time": "2022-08-24T10:54:32.414Z"
   },
   {
    "duration": 367,
    "start_time": "2022-08-24T10:54:32.439Z"
   },
   {
    "duration": 23,
    "start_time": "2022-08-24T10:54:32.808Z"
   },
   {
    "duration": 24,
    "start_time": "2022-08-24T10:54:32.832Z"
   },
   {
    "duration": 10,
    "start_time": "2022-08-24T10:54:32.857Z"
   },
   {
    "duration": 69,
    "start_time": "2022-08-24T10:54:32.868Z"
   },
   {
    "duration": 49,
    "start_time": "2022-08-24T10:54:32.939Z"
   },
   {
    "duration": 76,
    "start_time": "2022-08-24T10:54:32.989Z"
   },
   {
    "duration": 40,
    "start_time": "2022-08-24T10:54:33.066Z"
   },
   {
    "duration": 20,
    "start_time": "2022-08-24T10:54:33.108Z"
   },
   {
    "duration": 91,
    "start_time": "2022-08-24T10:54:33.129Z"
   },
   {
    "duration": 91,
    "start_time": "2022-08-24T10:54:33.222Z"
   },
   {
    "duration": 64,
    "start_time": "2022-08-24T10:54:33.316Z"
   },
   {
    "duration": 26,
    "start_time": "2022-08-24T10:54:33.382Z"
   },
   {
    "duration": 6,
    "start_time": "2022-08-24T10:54:33.410Z"
   },
   {
    "duration": 16,
    "start_time": "2022-08-24T10:54:33.418Z"
   },
   {
    "duration": 26,
    "start_time": "2022-08-24T10:54:33.436Z"
   },
   {
    "duration": 98,
    "start_time": "2022-08-24T10:54:33.464Z"
   },
   {
    "duration": 9,
    "start_time": "2022-08-24T10:54:33.564Z"
   },
   {
    "duration": 12,
    "start_time": "2022-08-24T10:54:33.574Z"
   },
   {
    "duration": 136,
    "start_time": "2022-08-24T10:54:33.607Z"
   },
   {
    "duration": 9,
    "start_time": "2022-08-24T10:54:33.745Z"
   },
   {
    "duration": 11,
    "start_time": "2022-08-24T10:54:33.756Z"
   },
   {
    "duration": 2214,
    "start_time": "2022-08-24T10:54:33.769Z"
   },
   {
    "duration": 5,
    "start_time": "2022-08-24T11:57:25.764Z"
   },
   {
    "duration": 95,
    "start_time": "2022-08-24T11:57:33.867Z"
   },
   {
    "duration": 92,
    "start_time": "2022-08-24T11:58:09.331Z"
   },
   {
    "duration": 1311,
    "start_time": "2022-08-24T11:58:22.808Z"
   },
   {
    "duration": 161,
    "start_time": "2022-08-24T11:58:24.121Z"
   },
   {
    "duration": 10,
    "start_time": "2022-08-24T11:58:24.284Z"
   },
   {
    "duration": 37,
    "start_time": "2022-08-24T11:58:24.296Z"
   },
   {
    "duration": 13,
    "start_time": "2022-08-24T11:58:24.335Z"
   },
   {
    "duration": 76,
    "start_time": "2022-08-24T11:58:24.349Z"
   },
   {
    "duration": 139,
    "start_time": "2022-08-24T11:58:24.427Z"
   },
   {
    "duration": 4,
    "start_time": "2022-08-24T11:58:24.567Z"
   },
   {
    "duration": 12,
    "start_time": "2022-08-24T11:58:24.572Z"
   },
   {
    "duration": 30,
    "start_time": "2022-08-24T11:58:24.586Z"
   },
   {
    "duration": 10,
    "start_time": "2022-08-24T11:58:24.618Z"
   },
   {
    "duration": 14,
    "start_time": "2022-08-24T11:58:24.630Z"
   },
   {
    "duration": 33,
    "start_time": "2022-08-24T11:58:24.645Z"
   },
   {
    "duration": 9,
    "start_time": "2022-08-24T11:58:24.680Z"
   },
   {
    "duration": 29,
    "start_time": "2022-08-24T11:58:24.690Z"
   },
   {
    "duration": 6,
    "start_time": "2022-08-24T11:58:24.721Z"
   },
   {
    "duration": 441,
    "start_time": "2022-08-24T11:58:24.729Z"
   },
   {
    "duration": 40,
    "start_time": "2022-08-24T11:58:25.171Z"
   },
   {
    "duration": 27,
    "start_time": "2022-08-24T11:58:25.212Z"
   },
   {
    "duration": 9,
    "start_time": "2022-08-24T11:58:25.241Z"
   },
   {
    "duration": 25,
    "start_time": "2022-08-24T11:58:25.251Z"
   },
   {
    "duration": 71,
    "start_time": "2022-08-24T11:58:25.277Z"
   },
   {
    "duration": 66,
    "start_time": "2022-08-24T11:58:25.349Z"
   },
   {
    "duration": 17,
    "start_time": "2022-08-24T11:58:25.418Z"
   },
   {
    "duration": 19,
    "start_time": "2022-08-24T11:58:25.437Z"
   },
   {
    "duration": 84,
    "start_time": "2022-08-24T11:58:25.458Z"
   },
   {
    "duration": 95,
    "start_time": "2022-08-24T11:58:25.544Z"
   },
   {
    "duration": 78,
    "start_time": "2022-08-24T11:58:25.641Z"
   },
   {
    "duration": 11,
    "start_time": "2022-08-24T11:58:25.721Z"
   },
   {
    "duration": 7,
    "start_time": "2022-08-24T11:58:25.733Z"
   },
   {
    "duration": 12,
    "start_time": "2022-08-24T11:58:25.741Z"
   },
   {
    "duration": 28,
    "start_time": "2022-08-24T11:58:25.754Z"
   },
   {
    "duration": 96,
    "start_time": "2022-08-24T11:58:25.784Z"
   },
   {
    "duration": 8,
    "start_time": "2022-08-24T11:58:25.881Z"
   },
   {
    "duration": 31,
    "start_time": "2022-08-24T11:58:25.890Z"
   },
   {
    "duration": 153,
    "start_time": "2022-08-24T11:58:25.923Z"
   },
   {
    "duration": 9,
    "start_time": "2022-08-24T11:58:26.078Z"
   },
   {
    "duration": 22,
    "start_time": "2022-08-24T11:58:26.089Z"
   },
   {
    "duration": 89,
    "start_time": "2022-08-24T11:58:26.115Z"
   },
   {
    "duration": 0,
    "start_time": "2022-08-24T11:58:26.205Z"
   },
   {
    "duration": 105,
    "start_time": "2022-08-24T11:59:01.288Z"
   },
   {
    "duration": 69,
    "start_time": "2022-08-24T11:59:25.565Z"
   },
   {
    "duration": 1190,
    "start_time": "2022-08-24T11:59:55.015Z"
   },
   {
    "duration": 145,
    "start_time": "2022-08-24T11:59:56.208Z"
   },
   {
    "duration": 10,
    "start_time": "2022-08-24T11:59:56.354Z"
   },
   {
    "duration": 17,
    "start_time": "2022-08-24T11:59:56.365Z"
   },
   {
    "duration": 23,
    "start_time": "2022-08-24T11:59:56.383Z"
   },
   {
    "duration": 56,
    "start_time": "2022-08-24T11:59:56.408Z"
   },
   {
    "duration": 159,
    "start_time": "2022-08-24T11:59:56.465Z"
   },
   {
    "duration": 3,
    "start_time": "2022-08-24T11:59:56.626Z"
   },
   {
    "duration": 11,
    "start_time": "2022-08-24T11:59:56.631Z"
   },
   {
    "duration": 17,
    "start_time": "2022-08-24T11:59:56.644Z"
   },
   {
    "duration": 11,
    "start_time": "2022-08-24T11:59:56.663Z"
   },
   {
    "duration": 33,
    "start_time": "2022-08-24T11:59:56.675Z"
   },
   {
    "duration": 21,
    "start_time": "2022-08-24T11:59:56.710Z"
   },
   {
    "duration": 12,
    "start_time": "2022-08-24T11:59:56.733Z"
   },
   {
    "duration": 14,
    "start_time": "2022-08-24T11:59:56.746Z"
   },
   {
    "duration": 5,
    "start_time": "2022-08-24T11:59:56.762Z"
   },
   {
    "duration": 403,
    "start_time": "2022-08-24T11:59:56.769Z"
   },
   {
    "duration": 22,
    "start_time": "2022-08-24T11:59:57.173Z"
   },
   {
    "duration": 25,
    "start_time": "2022-08-24T11:59:57.196Z"
   },
   {
    "duration": 8,
    "start_time": "2022-08-24T11:59:57.223Z"
   },
   {
    "duration": 21,
    "start_time": "2022-08-24T11:59:57.232Z"
   },
   {
    "duration": 64,
    "start_time": "2022-08-24T11:59:57.255Z"
   },
   {
    "duration": 56,
    "start_time": "2022-08-24T11:59:57.320Z"
   },
   {
    "duration": 29,
    "start_time": "2022-08-24T11:59:57.377Z"
   },
   {
    "duration": 18,
    "start_time": "2022-08-24T11:59:57.407Z"
   },
   {
    "duration": 92,
    "start_time": "2022-08-24T11:59:57.427Z"
   },
   {
    "duration": 85,
    "start_time": "2022-08-24T11:59:57.521Z"
   },
   {
    "duration": 58,
    "start_time": "2022-08-24T11:59:57.608Z"
   },
   {
    "duration": 9,
    "start_time": "2022-08-24T11:59:57.668Z"
   },
   {
    "duration": 9,
    "start_time": "2022-08-24T11:59:57.679Z"
   },
   {
    "duration": 23,
    "start_time": "2022-08-24T11:59:57.689Z"
   },
   {
    "duration": 23,
    "start_time": "2022-08-24T11:59:57.714Z"
   },
   {
    "duration": 95,
    "start_time": "2022-08-24T11:59:57.739Z"
   },
   {
    "duration": 7,
    "start_time": "2022-08-24T11:59:57.836Z"
   },
   {
    "duration": 10,
    "start_time": "2022-08-24T11:59:57.845Z"
   },
   {
    "duration": 155,
    "start_time": "2022-08-24T11:59:57.856Z"
   },
   {
    "duration": 8,
    "start_time": "2022-08-24T11:59:58.013Z"
   },
   {
    "duration": 80,
    "start_time": "2022-08-24T11:59:58.022Z"
   },
   {
    "duration": 0,
    "start_time": "2022-08-24T11:59:58.106Z"
   },
   {
    "duration": 1356,
    "start_time": "2022-08-24T12:00:50.093Z"
   },
   {
    "duration": 997,
    "start_time": "2022-08-24T12:01:16.694Z"
   },
   {
    "duration": 1282,
    "start_time": "2022-08-24T12:02:46.343Z"
   },
   {
    "duration": 959,
    "start_time": "2022-08-24T12:02:53.634Z"
   },
   {
    "duration": 1391,
    "start_time": "2022-08-24T12:03:01.743Z"
   },
   {
    "duration": 6,
    "start_time": "2022-08-24T12:08:21.183Z"
   },
   {
    "duration": 8,
    "start_time": "2022-08-24T12:09:08.939Z"
   },
   {
    "duration": 13,
    "start_time": "2022-08-24T12:09:15.054Z"
   },
   {
    "duration": 21,
    "start_time": "2022-08-24T12:09:32.623Z"
   },
   {
    "duration": 22,
    "start_time": "2022-08-24T12:10:14.306Z"
   },
   {
    "duration": 1149,
    "start_time": "2022-08-24T12:10:20.014Z"
   },
   {
    "duration": 143,
    "start_time": "2022-08-24T12:10:21.165Z"
   },
   {
    "duration": 11,
    "start_time": "2022-08-24T12:10:21.310Z"
   },
   {
    "duration": 19,
    "start_time": "2022-08-24T12:10:21.323Z"
   },
   {
    "duration": 12,
    "start_time": "2022-08-24T12:10:21.344Z"
   },
   {
    "duration": 81,
    "start_time": "2022-08-24T12:10:21.357Z"
   },
   {
    "duration": 130,
    "start_time": "2022-08-24T12:10:21.439Z"
   },
   {
    "duration": 3,
    "start_time": "2022-08-24T12:10:21.570Z"
   },
   {
    "duration": 10,
    "start_time": "2022-08-24T12:10:21.575Z"
   },
   {
    "duration": 24,
    "start_time": "2022-08-24T12:10:21.587Z"
   },
   {
    "duration": 9,
    "start_time": "2022-08-24T12:10:21.613Z"
   },
   {
    "duration": 16,
    "start_time": "2022-08-24T12:10:21.624Z"
   },
   {
    "duration": 19,
    "start_time": "2022-08-24T12:10:21.641Z"
   },
   {
    "duration": 8,
    "start_time": "2022-08-24T12:10:21.664Z"
   },
   {
    "duration": 36,
    "start_time": "2022-08-24T12:10:21.673Z"
   },
   {
    "duration": 5,
    "start_time": "2022-08-24T12:10:21.711Z"
   },
   {
    "duration": 381,
    "start_time": "2022-08-24T12:10:21.717Z"
   },
   {
    "duration": 23,
    "start_time": "2022-08-24T12:10:22.105Z"
   },
   {
    "duration": 20,
    "start_time": "2022-08-24T12:10:22.130Z"
   },
   {
    "duration": 10,
    "start_time": "2022-08-24T12:10:22.152Z"
   },
   {
    "duration": 47,
    "start_time": "2022-08-24T12:10:22.163Z"
   },
   {
    "duration": 43,
    "start_time": "2022-08-24T12:10:22.212Z"
   },
   {
    "duration": 73,
    "start_time": "2022-08-24T12:10:22.256Z"
   },
   {
    "duration": 16,
    "start_time": "2022-08-24T12:10:22.330Z"
   },
   {
    "duration": 20,
    "start_time": "2022-08-24T12:10:22.347Z"
   },
   {
    "duration": 91,
    "start_time": "2022-08-24T12:10:22.369Z"
   },
   {
    "duration": 94,
    "start_time": "2022-08-24T12:10:22.462Z"
   },
   {
    "duration": 69,
    "start_time": "2022-08-24T12:10:22.558Z"
   },
   {
    "duration": 11,
    "start_time": "2022-08-24T12:10:22.629Z"
   },
   {
    "duration": 10,
    "start_time": "2022-08-24T12:10:22.642Z"
   },
   {
    "duration": 35,
    "start_time": "2022-08-24T12:10:22.653Z"
   },
   {
    "duration": 41,
    "start_time": "2022-08-24T12:10:22.689Z"
   },
   {
    "duration": 81,
    "start_time": "2022-08-24T12:10:22.732Z"
   },
   {
    "duration": 8,
    "start_time": "2022-08-24T12:10:22.814Z"
   },
   {
    "duration": 19,
    "start_time": "2022-08-24T12:10:22.824Z"
   },
   {
    "duration": 169,
    "start_time": "2022-08-24T12:10:22.845Z"
   },
   {
    "duration": 8,
    "start_time": "2022-08-24T12:10:23.016Z"
   },
   {
    "duration": 80,
    "start_time": "2022-08-24T12:10:23.026Z"
   },
   {
    "duration": 1188,
    "start_time": "2022-08-24T12:11:09.814Z"
   },
   {
    "duration": 152,
    "start_time": "2022-08-24T12:11:11.004Z"
   },
   {
    "duration": 15,
    "start_time": "2022-08-24T12:11:11.158Z"
   },
   {
    "duration": 35,
    "start_time": "2022-08-24T12:11:11.176Z"
   },
   {
    "duration": 14,
    "start_time": "2022-08-24T12:11:11.212Z"
   },
   {
    "duration": 79,
    "start_time": "2022-08-24T12:11:11.228Z"
   },
   {
    "duration": 131,
    "start_time": "2022-08-24T12:11:11.308Z"
   },
   {
    "duration": 4,
    "start_time": "2022-08-24T12:11:11.440Z"
   },
   {
    "duration": 10,
    "start_time": "2022-08-24T12:11:11.445Z"
   },
   {
    "duration": 14,
    "start_time": "2022-08-24T12:11:11.457Z"
   },
   {
    "duration": 10,
    "start_time": "2022-08-24T12:11:11.473Z"
   },
   {
    "duration": 11,
    "start_time": "2022-08-24T12:11:11.507Z"
   },
   {
    "duration": 25,
    "start_time": "2022-08-24T12:11:11.520Z"
   },
   {
    "duration": 11,
    "start_time": "2022-08-24T12:11:11.547Z"
   },
   {
    "duration": 15,
    "start_time": "2022-08-24T12:11:11.560Z"
   },
   {
    "duration": 31,
    "start_time": "2022-08-24T12:11:11.577Z"
   },
   {
    "duration": 409,
    "start_time": "2022-08-24T12:11:11.609Z"
   },
   {
    "duration": 24,
    "start_time": "2022-08-24T12:11:12.020Z"
   },
   {
    "duration": 23,
    "start_time": "2022-08-24T12:11:12.046Z"
   },
   {
    "duration": 9,
    "start_time": "2022-08-24T12:11:12.070Z"
   },
   {
    "duration": 43,
    "start_time": "2022-08-24T12:11:12.081Z"
   },
   {
    "duration": 44,
    "start_time": "2022-08-24T12:11:12.125Z"
   },
   {
    "duration": 79,
    "start_time": "2022-08-24T12:11:12.171Z"
   },
   {
    "duration": 16,
    "start_time": "2022-08-24T12:11:12.251Z"
   },
   {
    "duration": 38,
    "start_time": "2022-08-24T12:11:12.269Z"
   },
   {
    "duration": 73,
    "start_time": "2022-08-24T12:11:12.308Z"
   },
   {
    "duration": 95,
    "start_time": "2022-08-24T12:11:12.383Z"
   },
   {
    "duration": 73,
    "start_time": "2022-08-24T12:11:12.480Z"
   },
   {
    "duration": 11,
    "start_time": "2022-08-24T12:11:12.555Z"
   },
   {
    "duration": 7,
    "start_time": "2022-08-24T12:11:12.568Z"
   },
   {
    "duration": 14,
    "start_time": "2022-08-24T12:11:12.577Z"
   },
   {
    "duration": 25,
    "start_time": "2022-08-24T12:11:12.608Z"
   },
   {
    "duration": 80,
    "start_time": "2022-08-24T12:11:12.635Z"
   },
   {
    "duration": 7,
    "start_time": "2022-08-24T12:11:12.717Z"
   },
   {
    "duration": 12,
    "start_time": "2022-08-24T12:11:12.725Z"
   },
   {
    "duration": 157,
    "start_time": "2022-08-24T12:11:12.739Z"
   },
   {
    "duration": 8,
    "start_time": "2022-08-24T12:11:12.898Z"
   },
   {
    "duration": 21,
    "start_time": "2022-08-24T12:11:12.908Z"
   },
   {
    "duration": 20,
    "start_time": "2022-08-24T12:11:55.352Z"
   },
   {
    "duration": 1194,
    "start_time": "2022-08-24T12:12:16.898Z"
   },
   {
    "duration": 160,
    "start_time": "2022-08-24T12:12:18.093Z"
   },
   {
    "duration": 10,
    "start_time": "2022-08-24T12:12:18.255Z"
   },
   {
    "duration": 24,
    "start_time": "2022-08-24T12:12:18.267Z"
   },
   {
    "duration": 17,
    "start_time": "2022-08-24T12:12:18.293Z"
   },
   {
    "duration": 70,
    "start_time": "2022-08-24T12:12:18.312Z"
   },
   {
    "duration": 133,
    "start_time": "2022-08-24T12:12:18.384Z"
   },
   {
    "duration": 4,
    "start_time": "2022-08-24T12:12:18.518Z"
   },
   {
    "duration": 10,
    "start_time": "2022-08-24T12:12:18.524Z"
   },
   {
    "duration": 14,
    "start_time": "2022-08-24T12:12:18.536Z"
   },
   {
    "duration": 8,
    "start_time": "2022-08-24T12:12:18.551Z"
   },
   {
    "duration": 13,
    "start_time": "2022-08-24T12:12:18.560Z"
   },
   {
    "duration": 40,
    "start_time": "2022-08-24T12:12:18.574Z"
   },
   {
    "duration": 14,
    "start_time": "2022-08-24T12:12:18.617Z"
   },
   {
    "duration": 16,
    "start_time": "2022-08-24T12:12:18.632Z"
   },
   {
    "duration": 5,
    "start_time": "2022-08-24T12:12:18.649Z"
   },
   {
    "duration": 390,
    "start_time": "2022-08-24T12:12:18.656Z"
   },
   {
    "duration": 22,
    "start_time": "2022-08-24T12:12:19.048Z"
   },
   {
    "duration": 34,
    "start_time": "2022-08-24T12:12:19.072Z"
   },
   {
    "duration": 10,
    "start_time": "2022-08-24T12:12:19.108Z"
   },
   {
    "duration": 28,
    "start_time": "2022-08-24T12:12:19.119Z"
   },
   {
    "duration": 40,
    "start_time": "2022-08-24T12:12:19.149Z"
   },
   {
    "duration": 54,
    "start_time": "2022-08-24T12:12:19.205Z"
   },
   {
    "duration": 16,
    "start_time": "2022-08-24T12:12:19.261Z"
   },
   {
    "duration": 43,
    "start_time": "2022-08-24T12:12:19.278Z"
   },
   {
    "duration": 72,
    "start_time": "2022-08-24T12:12:19.322Z"
   },
   {
    "duration": 86,
    "start_time": "2022-08-24T12:12:19.395Z"
   },
   {
    "duration": 74,
    "start_time": "2022-08-24T12:12:19.482Z"
   },
   {
    "duration": 10,
    "start_time": "2022-08-24T12:12:19.557Z"
   },
   {
    "duration": 19,
    "start_time": "2022-08-24T12:12:19.568Z"
   },
   {
    "duration": 44,
    "start_time": "2022-08-24T12:12:19.588Z"
   },
   {
    "duration": 26,
    "start_time": "2022-08-24T12:12:19.633Z"
   },
   {
    "duration": 84,
    "start_time": "2022-08-24T12:12:19.660Z"
   },
   {
    "duration": 6,
    "start_time": "2022-08-24T12:12:19.745Z"
   },
   {
    "duration": 26,
    "start_time": "2022-08-24T12:12:19.752Z"
   },
   {
    "duration": 147,
    "start_time": "2022-08-24T12:12:19.780Z"
   },
   {
    "duration": 22,
    "start_time": "2022-08-24T12:12:19.929Z"
   },
   {
    "duration": 21,
    "start_time": "2022-08-24T12:12:44.847Z"
   },
   {
    "duration": 1212,
    "start_time": "2022-08-24T12:13:45.865Z"
   },
   {
    "duration": 152,
    "start_time": "2022-08-24T12:13:47.079Z"
   },
   {
    "duration": 10,
    "start_time": "2022-08-24T12:13:47.232Z"
   },
   {
    "duration": 22,
    "start_time": "2022-08-24T12:13:47.244Z"
   },
   {
    "duration": 11,
    "start_time": "2022-08-24T12:13:47.267Z"
   },
   {
    "duration": 78,
    "start_time": "2022-08-24T12:13:47.280Z"
   },
   {
    "duration": 125,
    "start_time": "2022-08-24T12:13:47.360Z"
   },
   {
    "duration": 3,
    "start_time": "2022-08-24T12:13:47.487Z"
   },
   {
    "duration": 18,
    "start_time": "2022-08-24T12:13:47.492Z"
   },
   {
    "duration": 19,
    "start_time": "2022-08-24T12:13:47.514Z"
   },
   {
    "duration": 8,
    "start_time": "2022-08-24T12:13:47.535Z"
   },
   {
    "duration": 13,
    "start_time": "2022-08-24T12:13:47.544Z"
   },
   {
    "duration": 20,
    "start_time": "2022-08-24T12:13:47.558Z"
   },
   {
    "duration": 9,
    "start_time": "2022-08-24T12:13:47.580Z"
   },
   {
    "duration": 21,
    "start_time": "2022-08-24T12:13:47.606Z"
   },
   {
    "duration": 7,
    "start_time": "2022-08-24T12:13:47.628Z"
   },
   {
    "duration": 375,
    "start_time": "2022-08-24T12:13:47.636Z"
   },
   {
    "duration": 24,
    "start_time": "2022-08-24T12:13:48.012Z"
   },
   {
    "duration": 24,
    "start_time": "2022-08-24T12:13:48.037Z"
   },
   {
    "duration": 9,
    "start_time": "2022-08-24T12:13:48.062Z"
   },
   {
    "duration": 50,
    "start_time": "2022-08-24T12:13:48.072Z"
   },
   {
    "duration": 41,
    "start_time": "2022-08-24T12:13:48.123Z"
   },
   {
    "duration": 74,
    "start_time": "2022-08-24T12:13:48.166Z"
   },
   {
    "duration": 16,
    "start_time": "2022-08-24T12:13:48.242Z"
   },
   {
    "duration": 23,
    "start_time": "2022-08-24T12:13:48.259Z"
   },
   {
    "duration": 87,
    "start_time": "2022-08-24T12:13:48.284Z"
   },
   {
    "duration": 84,
    "start_time": "2022-08-24T12:13:48.373Z"
   },
   {
    "duration": 77,
    "start_time": "2022-08-24T12:13:48.460Z"
   },
   {
    "duration": 10,
    "start_time": "2022-08-24T12:13:48.539Z"
   },
   {
    "duration": 6,
    "start_time": "2022-08-24T12:13:48.550Z"
   },
   {
    "duration": 11,
    "start_time": "2022-08-24T12:13:48.558Z"
   },
   {
    "duration": 38,
    "start_time": "2022-08-24T12:13:48.571Z"
   },
   {
    "duration": 75,
    "start_time": "2022-08-24T12:13:48.611Z"
   },
   {
    "duration": 23,
    "start_time": "2022-08-24T12:13:48.688Z"
   },
   {
    "duration": 13,
    "start_time": "2022-08-24T12:13:48.713Z"
   },
   {
    "duration": 141,
    "start_time": "2022-08-24T12:13:48.727Z"
   },
   {
    "duration": 22,
    "start_time": "2022-08-24T12:13:48.870Z"
   },
   {
    "duration": 25,
    "start_time": "2022-08-24T12:14:12.299Z"
   },
   {
    "duration": 1180,
    "start_time": "2022-08-24T12:14:27.984Z"
   },
   {
    "duration": 144,
    "start_time": "2022-08-24T12:14:29.166Z"
   },
   {
    "duration": 25,
    "start_time": "2022-08-24T12:14:29.311Z"
   },
   {
    "duration": 17,
    "start_time": "2022-08-24T12:14:29.339Z"
   },
   {
    "duration": 12,
    "start_time": "2022-08-24T12:14:29.357Z"
   },
   {
    "duration": 70,
    "start_time": "2022-08-24T12:14:29.371Z"
   },
   {
    "duration": 133,
    "start_time": "2022-08-24T12:14:29.442Z"
   },
   {
    "duration": 4,
    "start_time": "2022-08-24T12:14:29.577Z"
   },
   {
    "duration": 9,
    "start_time": "2022-08-24T12:14:29.582Z"
   },
   {
    "duration": 23,
    "start_time": "2022-08-24T12:14:29.594Z"
   },
   {
    "duration": 9,
    "start_time": "2022-08-24T12:14:29.618Z"
   },
   {
    "duration": 12,
    "start_time": "2022-08-24T12:14:29.628Z"
   },
   {
    "duration": 19,
    "start_time": "2022-08-24T12:14:29.642Z"
   },
   {
    "duration": 8,
    "start_time": "2022-08-24T12:14:29.662Z"
   },
   {
    "duration": 43,
    "start_time": "2022-08-24T12:14:29.671Z"
   },
   {
    "duration": 6,
    "start_time": "2022-08-24T12:14:29.715Z"
   },
   {
    "duration": 393,
    "start_time": "2022-08-24T12:14:29.723Z"
   },
   {
    "duration": 23,
    "start_time": "2022-08-24T12:14:30.117Z"
   },
   {
    "duration": 25,
    "start_time": "2022-08-24T12:14:30.142Z"
   },
   {
    "duration": 9,
    "start_time": "2022-08-24T12:14:30.169Z"
   },
   {
    "duration": 45,
    "start_time": "2022-08-24T12:14:30.180Z"
   },
   {
    "duration": 44,
    "start_time": "2022-08-24T12:14:30.227Z"
   },
   {
    "duration": 74,
    "start_time": "2022-08-24T12:14:30.273Z"
   },
   {
    "duration": 16,
    "start_time": "2022-08-24T12:14:30.348Z"
   },
   {
    "duration": 39,
    "start_time": "2022-08-24T12:14:30.365Z"
   },
   {
    "duration": 107,
    "start_time": "2022-08-24T12:14:30.406Z"
   },
   {
    "duration": 76,
    "start_time": "2022-08-24T12:14:30.514Z"
   },
   {
    "duration": 70,
    "start_time": "2022-08-24T12:14:30.593Z"
   },
   {
    "duration": 10,
    "start_time": "2022-08-24T12:14:30.665Z"
   },
   {
    "duration": 30,
    "start_time": "2022-08-24T12:14:30.677Z"
   },
   {
    "duration": 35,
    "start_time": "2022-08-24T12:14:30.709Z"
   },
   {
    "duration": 40,
    "start_time": "2022-08-24T12:14:30.746Z"
   },
   {
    "duration": 75,
    "start_time": "2022-08-24T12:14:30.788Z"
   },
   {
    "duration": 6,
    "start_time": "2022-08-24T12:14:30.865Z"
   },
   {
    "duration": 27,
    "start_time": "2022-08-24T12:14:30.873Z"
   },
   {
    "duration": 154,
    "start_time": "2022-08-24T12:14:30.902Z"
   },
   {
    "duration": 25,
    "start_time": "2022-08-24T12:14:31.057Z"
   },
   {
    "duration": 24,
    "start_time": "2022-08-24T12:14:55.276Z"
   },
   {
    "duration": 15,
    "start_time": "2022-08-24T12:20:00.614Z"
   },
   {
    "duration": 10,
    "start_time": "2022-08-24T12:27:03.706Z"
   },
   {
    "duration": 10,
    "start_time": "2022-08-24T12:27:14.657Z"
   },
   {
    "duration": 10,
    "start_time": "2022-08-24T12:27:24.792Z"
   },
   {
    "duration": 11,
    "start_time": "2022-08-24T12:27:37.706Z"
   },
   {
    "duration": 26,
    "start_time": "2022-08-24T12:28:20.984Z"
   },
   {
    "duration": 24,
    "start_time": "2022-08-24T12:28:33.032Z"
   },
   {
    "duration": 98,
    "start_time": "2022-08-24T12:35:29.065Z"
   },
   {
    "duration": 16,
    "start_time": "2022-08-24T12:35:51.419Z"
   },
   {
    "duration": 33,
    "start_time": "2022-08-24T12:36:10.912Z"
   },
   {
    "duration": 3,
    "start_time": "2022-08-24T12:41:24.947Z"
   },
   {
    "duration": 1199,
    "start_time": "2022-08-24T12:48:26.376Z"
   },
   {
    "duration": 151,
    "start_time": "2022-08-24T12:48:27.577Z"
   },
   {
    "duration": 11,
    "start_time": "2022-08-24T12:48:27.730Z"
   },
   {
    "duration": 18,
    "start_time": "2022-08-24T12:48:27.743Z"
   },
   {
    "duration": 12,
    "start_time": "2022-08-24T12:48:27.762Z"
   },
   {
    "duration": 82,
    "start_time": "2022-08-24T12:48:27.776Z"
   },
   {
    "duration": 129,
    "start_time": "2022-08-24T12:48:27.859Z"
   },
   {
    "duration": 3,
    "start_time": "2022-08-24T12:48:27.990Z"
   },
   {
    "duration": 13,
    "start_time": "2022-08-24T12:48:27.994Z"
   },
   {
    "duration": 15,
    "start_time": "2022-08-24T12:48:28.010Z"
   },
   {
    "duration": 21,
    "start_time": "2022-08-24T12:48:28.027Z"
   },
   {
    "duration": 20,
    "start_time": "2022-08-24T12:48:28.050Z"
   },
   {
    "duration": 36,
    "start_time": "2022-08-24T12:48:28.072Z"
   },
   {
    "duration": 14,
    "start_time": "2022-08-24T12:48:28.109Z"
   },
   {
    "duration": 14,
    "start_time": "2022-08-24T12:48:28.124Z"
   },
   {
    "duration": 5,
    "start_time": "2022-08-24T12:48:28.139Z"
   },
   {
    "duration": 364,
    "start_time": "2022-08-24T12:48:28.145Z"
   },
   {
    "duration": 21,
    "start_time": "2022-08-24T12:48:28.511Z"
   },
   {
    "duration": 20,
    "start_time": "2022-08-24T12:48:28.533Z"
   },
   {
    "duration": 9,
    "start_time": "2022-08-24T12:48:28.554Z"
   },
   {
    "duration": 45,
    "start_time": "2022-08-24T12:48:28.564Z"
   },
   {
    "duration": 43,
    "start_time": "2022-08-24T12:48:28.610Z"
   },
   {
    "duration": 66,
    "start_time": "2022-08-24T12:48:28.654Z"
   },
   {
    "duration": 15,
    "start_time": "2022-08-24T12:48:28.722Z"
   },
   {
    "duration": 19,
    "start_time": "2022-08-24T12:48:28.738Z"
   },
   {
    "duration": 88,
    "start_time": "2022-08-24T12:48:28.759Z"
   },
   {
    "duration": 77,
    "start_time": "2022-08-24T12:48:28.849Z"
   },
   {
    "duration": 55,
    "start_time": "2022-08-24T12:48:28.928Z"
   },
   {
    "duration": 156,
    "start_time": "2022-08-24T12:48:28.985Z"
   },
   {
    "duration": 23,
    "start_time": "2022-08-24T12:48:29.142Z"
   },
   {
    "duration": 66,
    "start_time": "2022-08-24T12:48:29.167Z"
   },
   {
    "duration": 1362,
    "start_time": "2022-08-24T12:48:29.234Z"
   },
   {
    "duration": 1127,
    "start_time": "2022-08-24T12:55:29.651Z"
   },
   {
    "duration": 143,
    "start_time": "2022-08-24T12:55:30.780Z"
   },
   {
    "duration": 11,
    "start_time": "2022-08-24T12:55:30.924Z"
   },
   {
    "duration": 22,
    "start_time": "2022-08-24T12:55:30.936Z"
   },
   {
    "duration": 12,
    "start_time": "2022-08-24T12:55:30.960Z"
   },
   {
    "duration": 74,
    "start_time": "2022-08-24T12:55:30.973Z"
   },
   {
    "duration": 127,
    "start_time": "2022-08-24T12:55:31.049Z"
   },
   {
    "duration": 3,
    "start_time": "2022-08-24T12:55:31.178Z"
   },
   {
    "duration": 21,
    "start_time": "2022-08-24T12:55:31.182Z"
   },
   {
    "duration": 22,
    "start_time": "2022-08-24T12:55:31.205Z"
   },
   {
    "duration": 8,
    "start_time": "2022-08-24T12:55:31.228Z"
   },
   {
    "duration": 23,
    "start_time": "2022-08-24T12:55:31.237Z"
   },
   {
    "duration": 23,
    "start_time": "2022-08-24T12:55:31.261Z"
   },
   {
    "duration": 25,
    "start_time": "2022-08-24T12:55:31.286Z"
   },
   {
    "duration": 25,
    "start_time": "2022-08-24T12:55:31.312Z"
   },
   {
    "duration": 35,
    "start_time": "2022-08-24T12:55:31.339Z"
   },
   {
    "duration": 343,
    "start_time": "2022-08-24T12:55:31.375Z"
   },
   {
    "duration": 22,
    "start_time": "2022-08-24T12:55:31.720Z"
   },
   {
    "duration": 19,
    "start_time": "2022-08-24T12:55:31.744Z"
   },
   {
    "duration": 13,
    "start_time": "2022-08-24T12:55:31.764Z"
   },
   {
    "duration": 42,
    "start_time": "2022-08-24T12:55:31.778Z"
   },
   {
    "duration": 40,
    "start_time": "2022-08-24T12:55:31.822Z"
   },
   {
    "duration": 60,
    "start_time": "2022-08-24T12:55:31.864Z"
   },
   {
    "duration": 15,
    "start_time": "2022-08-24T12:55:31.926Z"
   },
   {
    "duration": 22,
    "start_time": "2022-08-24T12:55:31.942Z"
   },
   {
    "duration": 85,
    "start_time": "2022-08-24T12:55:31.965Z"
   },
   {
    "duration": 88,
    "start_time": "2022-08-24T12:55:32.051Z"
   },
   {
    "duration": 74,
    "start_time": "2022-08-24T12:55:32.140Z"
   },
   {
    "duration": 127,
    "start_time": "2022-08-24T12:55:32.215Z"
   },
   {
    "duration": 31,
    "start_time": "2022-08-24T12:55:32.343Z"
   },
   {
    "duration": 41,
    "start_time": "2022-08-24T12:55:32.406Z"
   },
   {
    "duration": 1254,
    "start_time": "2022-08-24T12:55:32.449Z"
   },
   {
    "duration": 138,
    "start_time": "2022-08-24T15:20:42.549Z"
   },
   {
    "duration": 1218,
    "start_time": "2022-08-24T15:20:51.902Z"
   },
   {
    "duration": 1649,
    "start_time": "2022-08-24T15:21:34.619Z"
   },
   {
    "duration": 342,
    "start_time": "2022-08-24T15:23:50.019Z"
   },
   {
    "duration": 15,
    "start_time": "2022-08-24T15:24:32.052Z"
   },
   {
    "duration": 17,
    "start_time": "2022-08-24T15:27:43.947Z"
   },
   {
    "duration": 26,
    "start_time": "2022-08-24T15:27:55.454Z"
   },
   {
    "duration": 82,
    "start_time": "2022-08-24T15:29:37.958Z"
   },
   {
    "duration": 40,
    "start_time": "2022-08-24T15:29:44.897Z"
   },
   {
    "duration": 39,
    "start_time": "2022-08-24T15:31:49.650Z"
   },
   {
    "duration": 122,
    "start_time": "2022-08-24T15:32:12.321Z"
   },
   {
    "duration": 40,
    "start_time": "2022-08-24T15:32:18.329Z"
   },
   {
    "duration": 52,
    "start_time": "2022-08-24T15:35:55.212Z"
   },
   {
    "duration": 55,
    "start_time": "2022-08-24T15:36:05.340Z"
   },
   {
    "duration": 58,
    "start_time": "2022-08-24T15:36:50.116Z"
   },
   {
    "duration": 10,
    "start_time": "2022-08-24T15:37:33.333Z"
   },
   {
    "duration": 4,
    "start_time": "2022-08-24T15:37:50.229Z"
   },
   {
    "duration": 7,
    "start_time": "2022-08-24T15:37:59.370Z"
   },
   {
    "duration": 67,
    "start_time": "2022-08-24T15:38:52.221Z"
   },
   {
    "duration": 59,
    "start_time": "2022-08-24T15:39:06.723Z"
   },
   {
    "duration": 8,
    "start_time": "2022-08-24T15:39:53.229Z"
   },
   {
    "duration": 6,
    "start_time": "2022-08-24T15:40:52.172Z"
   },
   {
    "duration": 59,
    "start_time": "2022-08-24T15:41:51.188Z"
   },
   {
    "duration": 6,
    "start_time": "2022-08-24T15:41:55.405Z"
   },
   {
    "duration": 67,
    "start_time": "2022-08-24T15:43:07.269Z"
   },
   {
    "duration": 15,
    "start_time": "2022-08-24T15:43:49.836Z"
   },
   {
    "duration": 89,
    "start_time": "2022-08-24T15:44:18.021Z"
   },
   {
    "duration": 10,
    "start_time": "2022-08-24T15:44:19.700Z"
   },
   {
    "duration": 11,
    "start_time": "2022-08-24T15:44:38.082Z"
   },
   {
    "duration": 16,
    "start_time": "2022-08-24T15:44:58.424Z"
   },
   {
    "duration": 1363,
    "start_time": "2022-08-24T15:45:24.778Z"
   },
   {
    "duration": 179,
    "start_time": "2022-08-24T15:45:26.143Z"
   },
   {
    "duration": 14,
    "start_time": "2022-08-24T15:45:26.325Z"
   },
   {
    "duration": 27,
    "start_time": "2022-08-24T15:45:26.341Z"
   },
   {
    "duration": 36,
    "start_time": "2022-08-24T15:45:26.370Z"
   },
   {
    "duration": 70,
    "start_time": "2022-08-24T15:45:26.408Z"
   },
   {
    "duration": 149,
    "start_time": "2022-08-24T15:45:26.480Z"
   },
   {
    "duration": 4,
    "start_time": "2022-08-24T15:45:26.630Z"
   },
   {
    "duration": 16,
    "start_time": "2022-08-24T15:45:26.636Z"
   },
   {
    "duration": 15,
    "start_time": "2022-08-24T15:45:26.654Z"
   },
   {
    "duration": 9,
    "start_time": "2022-08-24T15:45:26.670Z"
   },
   {
    "duration": 31,
    "start_time": "2022-08-24T15:45:26.680Z"
   },
   {
    "duration": 23,
    "start_time": "2022-08-24T15:45:26.713Z"
   },
   {
    "duration": 13,
    "start_time": "2022-08-24T15:45:26.738Z"
   },
   {
    "duration": 14,
    "start_time": "2022-08-24T15:45:26.752Z"
   },
   {
    "duration": 5,
    "start_time": "2022-08-24T15:45:26.768Z"
   },
   {
    "duration": 387,
    "start_time": "2022-08-24T15:45:26.774Z"
   },
   {
    "duration": 21,
    "start_time": "2022-08-24T15:45:27.162Z"
   },
   {
    "duration": 39,
    "start_time": "2022-08-24T15:45:27.184Z"
   },
   {
    "duration": 10,
    "start_time": "2022-08-24T15:45:27.226Z"
   },
   {
    "duration": 22,
    "start_time": "2022-08-24T15:45:27.237Z"
   },
   {
    "duration": 64,
    "start_time": "2022-08-24T15:45:27.261Z"
   },
   {
    "duration": 58,
    "start_time": "2022-08-24T15:45:27.328Z"
   },
   {
    "duration": 37,
    "start_time": "2022-08-24T15:45:27.388Z"
   },
   {
    "duration": 20,
    "start_time": "2022-08-24T15:45:27.427Z"
   },
   {
    "duration": 84,
    "start_time": "2022-08-24T15:45:27.449Z"
   },
   {
    "duration": 95,
    "start_time": "2022-08-24T15:45:27.535Z"
   },
   {
    "duration": 75,
    "start_time": "2022-08-24T15:45:27.635Z"
   },
   {
    "duration": 146,
    "start_time": "2022-08-24T15:45:27.713Z"
   },
   {
    "duration": 47,
    "start_time": "2022-08-24T15:45:27.862Z"
   },
   {
    "duration": 98,
    "start_time": "2022-08-24T15:45:27.910Z"
   },
   {
    "duration": 116,
    "start_time": "2022-08-24T15:45:28.010Z"
   },
   {
    "duration": 121,
    "start_time": "2022-08-24T15:45:28.128Z"
   },
   {
    "duration": 0,
    "start_time": "2022-08-24T15:45:28.250Z"
   },
   {
    "duration": 1293,
    "start_time": "2022-08-24T15:46:36.984Z"
   },
   {
    "duration": 158,
    "start_time": "2022-08-24T15:46:38.279Z"
   },
   {
    "duration": 11,
    "start_time": "2022-08-24T15:46:38.438Z"
   },
   {
    "duration": 18,
    "start_time": "2022-08-24T15:46:38.450Z"
   },
   {
    "duration": 12,
    "start_time": "2022-08-24T15:46:38.470Z"
   },
   {
    "duration": 79,
    "start_time": "2022-08-24T15:46:38.484Z"
   },
   {
    "duration": 131,
    "start_time": "2022-08-24T15:46:38.565Z"
   },
   {
    "duration": 8,
    "start_time": "2022-08-24T15:46:38.698Z"
   },
   {
    "duration": 8,
    "start_time": "2022-08-24T15:46:38.708Z"
   },
   {
    "duration": 19,
    "start_time": "2022-08-24T15:46:38.718Z"
   },
   {
    "duration": 8,
    "start_time": "2022-08-24T15:46:38.739Z"
   },
   {
    "duration": 11,
    "start_time": "2022-08-24T15:46:38.749Z"
   },
   {
    "duration": 18,
    "start_time": "2022-08-24T15:46:38.762Z"
   },
   {
    "duration": 15,
    "start_time": "2022-08-24T15:46:38.805Z"
   },
   {
    "duration": 14,
    "start_time": "2022-08-24T15:46:38.821Z"
   },
   {
    "duration": 4,
    "start_time": "2022-08-24T15:46:38.837Z"
   },
   {
    "duration": 412,
    "start_time": "2022-08-24T15:46:38.843Z"
   },
   {
    "duration": 21,
    "start_time": "2022-08-24T15:46:39.257Z"
   },
   {
    "duration": 37,
    "start_time": "2022-08-24T15:46:39.279Z"
   },
   {
    "duration": 9,
    "start_time": "2022-08-24T15:46:39.318Z"
   },
   {
    "duration": 29,
    "start_time": "2022-08-24T15:46:39.330Z"
   },
   {
    "duration": 66,
    "start_time": "2022-08-24T15:46:39.360Z"
   },
   {
    "duration": 105,
    "start_time": "2022-08-24T15:46:39.428Z"
   },
   {
    "duration": 17,
    "start_time": "2022-08-24T15:46:39.535Z"
   },
   {
    "duration": 17,
    "start_time": "2022-08-24T15:46:39.554Z"
   },
   {
    "duration": 81,
    "start_time": "2022-08-24T15:46:39.573Z"
   },
   {
    "duration": 82,
    "start_time": "2022-08-24T15:46:39.655Z"
   },
   {
    "duration": 68,
    "start_time": "2022-08-24T15:46:39.738Z"
   },
   {
    "duration": 155,
    "start_time": "2022-08-24T15:46:39.808Z"
   },
   {
    "duration": 23,
    "start_time": "2022-08-24T15:46:39.965Z"
   },
   {
    "duration": 52,
    "start_time": "2022-08-24T15:46:39.989Z"
   },
   {
    "duration": 87,
    "start_time": "2022-08-24T15:46:40.043Z"
   },
   {
    "duration": 44,
    "start_time": "2022-08-24T15:46:40.132Z"
   },
   {
    "duration": 228,
    "start_time": "2022-08-24T15:46:40.178Z"
   },
   {
    "duration": 80,
    "start_time": "2022-08-24T15:50:19.746Z"
   },
   {
    "duration": 100,
    "start_time": "2022-08-24T15:50:44.787Z"
   },
   {
    "duration": 99,
    "start_time": "2022-08-24T15:51:48.483Z"
   },
   {
    "duration": 36,
    "start_time": "2022-08-24T15:51:53.141Z"
   },
   {
    "duration": 37,
    "start_time": "2022-08-24T15:52:19.883Z"
   },
   {
    "duration": 81,
    "start_time": "2022-08-24T15:52:37.994Z"
   },
   {
    "duration": 37,
    "start_time": "2022-08-24T15:52:47.179Z"
   },
   {
    "duration": 1110,
    "start_time": "2022-08-24T15:52:51.350Z"
   },
   {
    "duration": 141,
    "start_time": "2022-08-24T15:52:52.462Z"
   },
   {
    "duration": 11,
    "start_time": "2022-08-24T15:52:52.604Z"
   },
   {
    "duration": 32,
    "start_time": "2022-08-24T15:52:52.616Z"
   },
   {
    "duration": 13,
    "start_time": "2022-08-24T15:52:52.650Z"
   },
   {
    "duration": 61,
    "start_time": "2022-08-24T15:52:52.665Z"
   },
   {
    "duration": 128,
    "start_time": "2022-08-24T15:52:52.727Z"
   },
   {
    "duration": 3,
    "start_time": "2022-08-24T15:52:52.857Z"
   },
   {
    "duration": 29,
    "start_time": "2022-08-24T15:52:52.862Z"
   },
   {
    "duration": 21,
    "start_time": "2022-08-24T15:52:52.892Z"
   },
   {
    "duration": 11,
    "start_time": "2022-08-24T15:52:52.915Z"
   },
   {
    "duration": 25,
    "start_time": "2022-08-24T15:52:52.927Z"
   },
   {
    "duration": 22,
    "start_time": "2022-08-24T15:52:52.953Z"
   },
   {
    "duration": 23,
    "start_time": "2022-08-24T15:52:52.977Z"
   },
   {
    "duration": 20,
    "start_time": "2022-08-24T15:52:53.001Z"
   },
   {
    "duration": 16,
    "start_time": "2022-08-24T15:52:53.022Z"
   },
   {
    "duration": 357,
    "start_time": "2022-08-24T15:52:53.040Z"
   },
   {
    "duration": 30,
    "start_time": "2022-08-24T15:52:53.398Z"
   },
   {
    "duration": 20,
    "start_time": "2022-08-24T15:52:53.429Z"
   },
   {
    "duration": 9,
    "start_time": "2022-08-24T15:52:53.451Z"
   },
   {
    "duration": 44,
    "start_time": "2022-08-24T15:52:53.462Z"
   },
   {
    "duration": 41,
    "start_time": "2022-08-24T15:52:53.507Z"
   },
   {
    "duration": 64,
    "start_time": "2022-08-24T15:52:53.550Z"
   },
   {
    "duration": 16,
    "start_time": "2022-08-24T15:52:53.616Z"
   },
   {
    "duration": 19,
    "start_time": "2022-08-24T15:52:53.634Z"
   },
   {
    "duration": 85,
    "start_time": "2022-08-24T15:52:53.655Z"
   },
   {
    "duration": 85,
    "start_time": "2022-08-24T15:52:53.742Z"
   },
   {
    "duration": 56,
    "start_time": "2022-08-24T15:52:53.829Z"
   },
   {
    "duration": 166,
    "start_time": "2022-08-24T15:52:53.887Z"
   },
   {
    "duration": 26,
    "start_time": "2022-08-24T15:52:54.054Z"
   },
   {
    "duration": 81,
    "start_time": "2022-08-24T15:52:54.081Z"
   },
   {
    "duration": 83,
    "start_time": "2022-08-24T15:52:54.164Z"
   },
   {
    "duration": 37,
    "start_time": "2022-08-24T15:52:54.248Z"
   },
   {
    "duration": 113,
    "start_time": "2022-08-24T15:52:54.287Z"
   },
   {
    "duration": 45,
    "start_time": "2022-08-24T15:54:53.329Z"
   },
   {
    "duration": 43,
    "start_time": "2022-08-24T15:55:10.147Z"
   },
   {
    "duration": 38,
    "start_time": "2022-08-24T15:55:57.994Z"
   },
   {
    "duration": 88,
    "start_time": "2022-08-24T16:34:09.459Z"
   },
   {
    "duration": 111,
    "start_time": "2022-08-24T16:34:26.481Z"
   },
   {
    "duration": 85,
    "start_time": "2022-08-24T16:34:43.779Z"
   },
   {
    "duration": 81,
    "start_time": "2022-08-24T16:37:21.666Z"
   },
   {
    "duration": 6,
    "start_time": "2022-08-24T16:40:01.733Z"
   },
   {
    "duration": 70,
    "start_time": "2022-08-24T16:56:29.017Z"
   },
   {
    "duration": 78,
    "start_time": "2022-08-24T16:56:56.498Z"
   },
   {
    "duration": 77,
    "start_time": "2022-08-24T16:57:05.445Z"
   },
   {
    "duration": 70,
    "start_time": "2022-08-24T16:57:25.898Z"
   },
   {
    "duration": 72,
    "start_time": "2022-08-24T16:57:34.393Z"
   },
   {
    "duration": 73,
    "start_time": "2022-08-24T16:57:48.394Z"
   },
   {
    "duration": 60,
    "start_time": "2022-08-24T17:00:10.547Z"
   },
   {
    "duration": 73,
    "start_time": "2022-08-24T17:00:39.296Z"
   },
   {
    "duration": 93,
    "start_time": "2022-08-24T17:18:30.330Z"
   },
   {
    "duration": 46,
    "start_time": "2022-08-24T17:18:57.605Z"
   },
   {
    "duration": 114,
    "start_time": "2022-08-24T17:19:15.623Z"
   },
   {
    "duration": 105,
    "start_time": "2022-08-24T17:19:36.364Z"
   },
   {
    "duration": 474,
    "start_time": "2022-08-24T17:20:07.779Z"
   },
   {
    "duration": 82,
    "start_time": "2022-08-24T17:20:43.452Z"
   },
   {
    "duration": 87,
    "start_time": "2022-08-24T17:20:59.886Z"
   },
   {
    "duration": 87,
    "start_time": "2022-08-24T17:21:20.045Z"
   },
   {
    "duration": 86,
    "start_time": "2022-08-24T17:21:32.414Z"
   },
   {
    "duration": 57,
    "start_time": "2022-08-24T18:57:47.274Z"
   },
   {
    "duration": 81,
    "start_time": "2022-08-24T18:58:41.883Z"
   },
   {
    "duration": 88,
    "start_time": "2022-08-24T18:59:09.059Z"
   },
   {
    "duration": 94,
    "start_time": "2022-08-24T18:59:33.189Z"
   },
   {
    "duration": 44,
    "start_time": "2022-08-24T19:00:48.648Z"
   },
   {
    "duration": 9,
    "start_time": "2022-08-24T19:03:21.012Z"
   },
   {
    "duration": 1150,
    "start_time": "2022-08-24T19:17:47.804Z"
   },
   {
    "duration": 148,
    "start_time": "2022-08-24T19:17:48.955Z"
   },
   {
    "duration": 13,
    "start_time": "2022-08-24T19:17:49.104Z"
   },
   {
    "duration": 17,
    "start_time": "2022-08-24T19:17:49.120Z"
   },
   {
    "duration": 12,
    "start_time": "2022-08-24T19:17:49.139Z"
   },
   {
    "duration": 83,
    "start_time": "2022-08-24T19:17:49.152Z"
   },
   {
    "duration": 129,
    "start_time": "2022-08-24T19:17:49.236Z"
   },
   {
    "duration": 3,
    "start_time": "2022-08-24T19:17:49.367Z"
   },
   {
    "duration": 10,
    "start_time": "2022-08-24T19:17:49.372Z"
   },
   {
    "duration": 27,
    "start_time": "2022-08-24T19:17:49.385Z"
   },
   {
    "duration": 11,
    "start_time": "2022-08-24T19:17:49.414Z"
   },
   {
    "duration": 14,
    "start_time": "2022-08-24T19:17:49.426Z"
   },
   {
    "duration": 32,
    "start_time": "2022-08-24T19:17:49.442Z"
   },
   {
    "duration": 13,
    "start_time": "2022-08-24T19:17:49.475Z"
   },
   {
    "duration": 21,
    "start_time": "2022-08-24T19:17:49.505Z"
   },
   {
    "duration": 5,
    "start_time": "2022-08-24T19:17:49.528Z"
   },
   {
    "duration": 399,
    "start_time": "2022-08-24T19:17:49.535Z"
   },
   {
    "duration": 24,
    "start_time": "2022-08-24T19:17:49.936Z"
   },
   {
    "duration": 20,
    "start_time": "2022-08-24T19:17:49.961Z"
   },
   {
    "duration": 28,
    "start_time": "2022-08-24T19:17:49.982Z"
   },
   {
    "duration": 23,
    "start_time": "2022-08-24T19:17:50.011Z"
   },
   {
    "duration": 47,
    "start_time": "2022-08-24T19:17:50.035Z"
   },
   {
    "duration": 62,
    "start_time": "2022-08-24T19:17:50.105Z"
   },
   {
    "duration": 15,
    "start_time": "2022-08-24T19:17:50.168Z"
   },
   {
    "duration": 34,
    "start_time": "2022-08-24T19:17:50.185Z"
   },
   {
    "duration": 68,
    "start_time": "2022-08-24T19:17:50.221Z"
   },
   {
    "duration": 86,
    "start_time": "2022-08-24T19:17:50.291Z"
   },
   {
    "duration": 67,
    "start_time": "2022-08-24T19:17:50.381Z"
   },
   {
    "duration": 176,
    "start_time": "2022-08-24T19:17:50.450Z"
   },
   {
    "duration": 36,
    "start_time": "2022-08-24T19:17:50.629Z"
   },
   {
    "duration": 44,
    "start_time": "2022-08-24T19:17:50.705Z"
   },
   {
    "duration": 120,
    "start_time": "2022-08-24T19:17:50.752Z"
   },
   {
    "duration": 71,
    "start_time": "2022-08-24T19:17:50.874Z"
   },
   {
    "duration": 109,
    "start_time": "2022-08-24T19:17:50.947Z"
   },
   {
    "duration": 0,
    "start_time": "2022-08-24T19:17:51.058Z"
   },
   {
    "duration": 1196,
    "start_time": "2022-08-24T19:18:32.541Z"
   },
   {
    "duration": 148,
    "start_time": "2022-08-24T19:18:33.739Z"
   },
   {
    "duration": 18,
    "start_time": "2022-08-24T19:18:33.888Z"
   },
   {
    "duration": 19,
    "start_time": "2022-08-24T19:18:33.908Z"
   },
   {
    "duration": 13,
    "start_time": "2022-08-24T19:18:33.929Z"
   },
   {
    "duration": 77,
    "start_time": "2022-08-24T19:18:33.944Z"
   },
   {
    "duration": 136,
    "start_time": "2022-08-24T19:18:34.022Z"
   },
   {
    "duration": 3,
    "start_time": "2022-08-24T19:18:34.160Z"
   },
   {
    "duration": 11,
    "start_time": "2022-08-24T19:18:34.164Z"
   },
   {
    "duration": 32,
    "start_time": "2022-08-24T19:18:34.177Z"
   },
   {
    "duration": 11,
    "start_time": "2022-08-24T19:18:34.211Z"
   },
   {
    "duration": 16,
    "start_time": "2022-08-24T19:18:34.224Z"
   },
   {
    "duration": 21,
    "start_time": "2022-08-24T19:18:34.242Z"
   },
   {
    "duration": 11,
    "start_time": "2022-08-24T19:18:34.264Z"
   },
   {
    "duration": 14,
    "start_time": "2022-08-24T19:18:34.307Z"
   },
   {
    "duration": 5,
    "start_time": "2022-08-24T19:18:34.323Z"
   },
   {
    "duration": 394,
    "start_time": "2022-08-24T19:18:34.330Z"
   },
   {
    "duration": 23,
    "start_time": "2022-08-24T19:18:34.725Z"
   },
   {
    "duration": 20,
    "start_time": "2022-08-24T19:18:34.750Z"
   },
   {
    "duration": 34,
    "start_time": "2022-08-24T19:18:34.772Z"
   },
   {
    "duration": 48,
    "start_time": "2022-08-24T19:18:34.808Z"
   },
   {
    "duration": 66,
    "start_time": "2022-08-24T19:18:34.858Z"
   },
   {
    "duration": 55,
    "start_time": "2022-08-24T19:18:34.925Z"
   },
   {
    "duration": 31,
    "start_time": "2022-08-24T19:18:34.982Z"
   },
   {
    "duration": 18,
    "start_time": "2022-08-24T19:18:35.015Z"
   },
   {
    "duration": 75,
    "start_time": "2022-08-24T19:18:35.035Z"
   },
   {
    "duration": 72,
    "start_time": "2022-08-24T19:18:35.112Z"
   },
   {
    "duration": 70,
    "start_time": "2022-08-24T19:18:35.188Z"
   },
   {
    "duration": 212,
    "start_time": "2022-08-24T19:18:35.260Z"
   },
   {
    "duration": 24,
    "start_time": "2022-08-24T19:18:35.473Z"
   },
   {
    "duration": 44,
    "start_time": "2022-08-24T19:18:35.498Z"
   },
   {
    "duration": 80,
    "start_time": "2022-08-24T19:18:35.543Z"
   },
   {
    "duration": 56,
    "start_time": "2022-08-24T19:18:35.625Z"
   },
   {
    "duration": 128,
    "start_time": "2022-08-24T19:18:35.682Z"
   },
   {
    "duration": 0,
    "start_time": "2022-08-24T19:18:35.812Z"
   },
   {
    "duration": 10,
    "start_time": "2022-08-24T19:18:54.025Z"
   },
   {
    "duration": 1125,
    "start_time": "2022-08-24T19:19:02.052Z"
   },
   {
    "duration": 152,
    "start_time": "2022-08-24T19:19:03.179Z"
   },
   {
    "duration": 11,
    "start_time": "2022-08-24T19:19:03.332Z"
   },
   {
    "duration": 34,
    "start_time": "2022-08-24T19:19:03.344Z"
   },
   {
    "duration": 13,
    "start_time": "2022-08-24T19:19:03.380Z"
   },
   {
    "duration": 78,
    "start_time": "2022-08-24T19:19:03.395Z"
   },
   {
    "duration": 127,
    "start_time": "2022-08-24T19:19:03.475Z"
   },
   {
    "duration": 5,
    "start_time": "2022-08-24T19:19:03.606Z"
   },
   {
    "duration": 66,
    "start_time": "2022-08-24T19:19:03.615Z"
   },
   {
    "duration": 29,
    "start_time": "2022-08-24T19:19:03.683Z"
   },
   {
    "duration": 20,
    "start_time": "2022-08-24T19:19:03.714Z"
   },
   {
    "duration": 25,
    "start_time": "2022-08-24T19:19:03.736Z"
   },
   {
    "duration": 50,
    "start_time": "2022-08-24T19:19:03.762Z"
   },
   {
    "duration": 26,
    "start_time": "2022-08-24T19:19:03.814Z"
   },
   {
    "duration": 41,
    "start_time": "2022-08-24T19:19:03.842Z"
   },
   {
    "duration": 20,
    "start_time": "2022-08-24T19:19:03.884Z"
   },
   {
    "duration": 381,
    "start_time": "2022-08-24T19:19:03.906Z"
   },
   {
    "duration": 30,
    "start_time": "2022-08-24T19:19:04.288Z"
   },
   {
    "duration": 20,
    "start_time": "2022-08-24T19:19:04.320Z"
   },
   {
    "duration": 8,
    "start_time": "2022-08-24T19:19:04.342Z"
   },
   {
    "duration": 31,
    "start_time": "2022-08-24T19:19:04.352Z"
   },
   {
    "duration": 57,
    "start_time": "2022-08-24T19:19:04.385Z"
   },
   {
    "duration": 67,
    "start_time": "2022-08-24T19:19:04.444Z"
   },
   {
    "duration": 22,
    "start_time": "2022-08-24T19:19:04.512Z"
   },
   {
    "duration": 40,
    "start_time": "2022-08-24T19:19:04.536Z"
   },
   {
    "duration": 104,
    "start_time": "2022-08-24T19:19:04.578Z"
   },
   {
    "duration": 101,
    "start_time": "2022-08-24T19:19:04.685Z"
   },
   {
    "duration": 72,
    "start_time": "2022-08-24T19:19:04.788Z"
   },
   {
    "duration": 241,
    "start_time": "2022-08-24T19:19:04.862Z"
   },
   {
    "duration": 33,
    "start_time": "2022-08-24T19:19:05.105Z"
   },
   {
    "duration": 97,
    "start_time": "2022-08-24T19:19:05.140Z"
   },
   {
    "duration": 117,
    "start_time": "2022-08-24T19:19:05.239Z"
   },
   {
    "duration": 61,
    "start_time": "2022-08-24T19:19:05.358Z"
   },
   {
    "duration": 8,
    "start_time": "2022-08-24T19:19:05.421Z"
   },
   {
    "duration": 1230,
    "start_time": "2022-08-24T19:19:05.431Z"
   },
   {
    "duration": 10,
    "start_time": "2022-08-24T19:20:10.815Z"
   },
   {
    "duration": 4,
    "start_time": "2022-08-24T19:26:09.936Z"
   },
   {
    "duration": 49,
    "start_time": "2022-08-24T19:26:14.307Z"
   },
   {
    "duration": 20,
    "start_time": "2022-08-24T19:36:35.792Z"
   },
   {
    "duration": 29,
    "start_time": "2022-08-24T19:36:47.536Z"
   },
   {
    "duration": 1176,
    "start_time": "2022-08-24T19:37:10.565Z"
   },
   {
    "duration": 142,
    "start_time": "2022-08-24T19:37:11.743Z"
   },
   {
    "duration": 10,
    "start_time": "2022-08-24T19:37:11.887Z"
   },
   {
    "duration": 26,
    "start_time": "2022-08-24T19:37:11.898Z"
   },
   {
    "duration": 12,
    "start_time": "2022-08-24T19:37:11.926Z"
   },
   {
    "duration": 76,
    "start_time": "2022-08-24T19:37:11.940Z"
   },
   {
    "duration": 138,
    "start_time": "2022-08-24T19:37:12.018Z"
   },
   {
    "duration": 5,
    "start_time": "2022-08-24T19:37:12.158Z"
   },
   {
    "duration": 13,
    "start_time": "2022-08-24T19:37:12.164Z"
   },
   {
    "duration": 14,
    "start_time": "2022-08-24T19:37:12.179Z"
   },
   {
    "duration": 9,
    "start_time": "2022-08-24T19:37:12.205Z"
   },
   {
    "duration": 12,
    "start_time": "2022-08-24T19:37:12.215Z"
   },
   {
    "duration": 35,
    "start_time": "2022-08-24T19:37:12.229Z"
   },
   {
    "duration": 9,
    "start_time": "2022-08-24T19:37:12.266Z"
   },
   {
    "duration": 43,
    "start_time": "2022-08-24T19:37:12.276Z"
   },
   {
    "duration": 6,
    "start_time": "2022-08-24T19:37:12.321Z"
   },
   {
    "duration": 411,
    "start_time": "2022-08-24T19:37:12.329Z"
   },
   {
    "duration": 23,
    "start_time": "2022-08-24T19:37:12.741Z"
   },
   {
    "duration": 20,
    "start_time": "2022-08-24T19:37:12.765Z"
   },
   {
    "duration": 26,
    "start_time": "2022-08-24T19:37:12.787Z"
   },
   {
    "duration": 23,
    "start_time": "2022-08-24T19:37:12.815Z"
   },
   {
    "duration": 68,
    "start_time": "2022-08-24T19:37:12.840Z"
   },
   {
    "duration": 52,
    "start_time": "2022-08-24T19:37:12.909Z"
   },
   {
    "duration": 22,
    "start_time": "2022-08-24T19:37:12.963Z"
   },
   {
    "duration": 30,
    "start_time": "2022-08-24T19:37:13.006Z"
   },
   {
    "duration": 103,
    "start_time": "2022-08-24T19:37:13.038Z"
   },
   {
    "duration": 80,
    "start_time": "2022-08-24T19:37:13.143Z"
   },
   {
    "duration": 57,
    "start_time": "2022-08-24T19:37:13.225Z"
   },
   {
    "duration": 169,
    "start_time": "2022-08-24T19:37:13.283Z"
   },
   {
    "duration": 36,
    "start_time": "2022-08-24T19:37:13.454Z"
   },
   {
    "duration": 54,
    "start_time": "2022-08-24T19:37:13.507Z"
   },
   {
    "duration": 78,
    "start_time": "2022-08-24T19:37:13.563Z"
   },
   {
    "duration": 9,
    "start_time": "2022-08-24T19:37:13.644Z"
   },
   {
    "duration": 26,
    "start_time": "2022-08-24T19:37:13.655Z"
   },
   {
    "duration": 62,
    "start_time": "2022-08-24T21:37:05.776Z"
   },
   {
    "duration": 1578,
    "start_time": "2022-08-24T21:37:12.934Z"
   },
   {
    "duration": 1059,
    "start_time": "2022-08-24T21:37:14.514Z"
   },
   {
    "duration": 18,
    "start_time": "2022-08-24T21:37:15.575Z"
   },
   {
    "duration": 32,
    "start_time": "2022-08-24T21:37:15.595Z"
   },
   {
    "duration": 18,
    "start_time": "2022-08-24T21:37:15.630Z"
   },
   {
    "duration": 100,
    "start_time": "2022-08-24T21:37:15.650Z"
   },
   {
    "duration": 159,
    "start_time": "2022-08-24T21:37:15.752Z"
   },
   {
    "duration": 4,
    "start_time": "2022-08-24T21:37:15.912Z"
   },
   {
    "duration": 14,
    "start_time": "2022-08-24T21:37:15.917Z"
   },
   {
    "duration": 20,
    "start_time": "2022-08-24T21:37:15.933Z"
   },
   {
    "duration": 14,
    "start_time": "2022-08-24T21:37:15.955Z"
   },
   {
    "duration": 21,
    "start_time": "2022-08-24T21:37:15.995Z"
   },
   {
    "duration": 42,
    "start_time": "2022-08-24T21:37:16.018Z"
   },
   {
    "duration": 31,
    "start_time": "2022-08-24T21:37:16.064Z"
   },
   {
    "duration": 26,
    "start_time": "2022-08-24T21:37:16.097Z"
   },
   {
    "duration": 9,
    "start_time": "2022-08-24T21:37:16.125Z"
   },
   {
    "duration": 463,
    "start_time": "2022-08-24T21:37:16.136Z"
   },
   {
    "duration": 29,
    "start_time": "2022-08-24T21:37:16.601Z"
   },
   {
    "duration": 27,
    "start_time": "2022-08-24T21:37:16.631Z"
   },
   {
    "duration": 40,
    "start_time": "2022-08-24T21:37:16.660Z"
   },
   {
    "duration": 33,
    "start_time": "2022-08-24T21:37:16.702Z"
   },
   {
    "duration": 75,
    "start_time": "2022-08-24T21:37:16.737Z"
   },
   {
    "duration": 90,
    "start_time": "2022-08-24T21:37:16.815Z"
   },
   {
    "duration": 22,
    "start_time": "2022-08-24T21:37:16.908Z"
   },
   {
    "duration": 30,
    "start_time": "2022-08-24T21:37:16.931Z"
   },
   {
    "duration": 117,
    "start_time": "2022-08-24T21:37:16.964Z"
   },
   {
    "duration": 105,
    "start_time": "2022-08-24T21:37:17.091Z"
   },
   {
    "duration": 75,
    "start_time": "2022-08-24T21:37:17.198Z"
   },
   {
    "duration": 181,
    "start_time": "2022-08-24T21:37:17.274Z"
   },
   {
    "duration": 48,
    "start_time": "2022-08-24T21:37:17.457Z"
   },
   {
    "duration": 110,
    "start_time": "2022-08-24T21:37:17.507Z"
   },
   {
    "duration": 98,
    "start_time": "2022-08-24T21:37:17.619Z"
   },
   {
    "duration": 11,
    "start_time": "2022-08-24T21:37:17.719Z"
   },
   {
    "duration": 21,
    "start_time": "2022-08-24T21:37:17.732Z"
   },
   {
    "duration": 51,
    "start_time": "2022-08-24T21:37:17.755Z"
   },
   {
    "duration": 23,
    "start_time": "2022-08-24T21:37:54.559Z"
   },
   {
    "duration": 21,
    "start_time": "2022-08-24T21:38:13.213Z"
   },
   {
    "duration": 30,
    "start_time": "2022-08-24T21:39:16.605Z"
   },
   {
    "duration": 1373,
    "start_time": "2022-08-24T21:39:23.093Z"
   },
   {
    "duration": 184,
    "start_time": "2022-08-24T21:39:24.468Z"
   },
   {
    "duration": 13,
    "start_time": "2022-08-24T21:39:24.654Z"
   },
   {
    "duration": 37,
    "start_time": "2022-08-24T21:39:24.670Z"
   },
   {
    "duration": 17,
    "start_time": "2022-08-24T21:39:24.709Z"
   },
   {
    "duration": 97,
    "start_time": "2022-08-24T21:39:24.728Z"
   },
   {
    "duration": 154,
    "start_time": "2022-08-24T21:39:24.826Z"
   },
   {
    "duration": 3,
    "start_time": "2022-08-24T21:39:24.982Z"
   },
   {
    "duration": 16,
    "start_time": "2022-08-24T21:39:24.987Z"
   },
   {
    "duration": 22,
    "start_time": "2022-08-24T21:39:25.005Z"
   },
   {
    "duration": 11,
    "start_time": "2022-08-24T21:39:25.028Z"
   },
   {
    "duration": 17,
    "start_time": "2022-08-24T21:39:25.041Z"
   },
   {
    "duration": 26,
    "start_time": "2022-08-24T21:39:25.091Z"
   },
   {
    "duration": 12,
    "start_time": "2022-08-24T21:39:25.119Z"
   },
   {
    "duration": 20,
    "start_time": "2022-08-24T21:39:25.133Z"
   },
   {
    "duration": 39,
    "start_time": "2022-08-24T21:39:25.156Z"
   },
   {
    "duration": 494,
    "start_time": "2022-08-24T21:39:25.198Z"
   },
   {
    "duration": 28,
    "start_time": "2022-08-24T21:39:25.694Z"
   },
   {
    "duration": 27,
    "start_time": "2022-08-24T21:39:25.723Z"
   },
   {
    "duration": 13,
    "start_time": "2022-08-24T21:39:25.752Z"
   },
   {
    "duration": 33,
    "start_time": "2022-08-24T21:39:25.792Z"
   },
   {
    "duration": 69,
    "start_time": "2022-08-24T21:39:25.827Z"
   },
   {
    "duration": 68,
    "start_time": "2022-08-24T21:39:25.898Z"
   },
   {
    "duration": 39,
    "start_time": "2022-08-24T21:39:25.968Z"
   },
   {
    "duration": 28,
    "start_time": "2022-08-24T21:39:26.009Z"
   },
   {
    "duration": 103,
    "start_time": "2022-08-24T21:39:26.039Z"
   },
   {
    "duration": 105,
    "start_time": "2022-08-24T21:39:26.144Z"
   },
   {
    "duration": 84,
    "start_time": "2022-08-24T21:39:26.252Z"
   },
   {
    "duration": 176,
    "start_time": "2022-08-24T21:39:26.339Z"
   },
   {
    "duration": 30,
    "start_time": "2022-08-24T21:39:26.517Z"
   },
   {
    "duration": 155,
    "start_time": "2022-08-24T21:39:26.549Z"
   },
   {
    "duration": 97,
    "start_time": "2022-08-24T21:39:26.705Z"
   },
   {
    "duration": 13,
    "start_time": "2022-08-24T21:39:26.806Z"
   },
   {
    "duration": 25,
    "start_time": "2022-08-24T21:39:26.821Z"
   },
   {
    "duration": 28,
    "start_time": "2022-08-24T21:39:26.848Z"
   },
   {
    "duration": 24,
    "start_time": "2022-08-24T21:39:35.898Z"
   },
   {
    "duration": 61,
    "start_time": "2022-08-24T21:40:16.460Z"
   },
   {
    "duration": 52,
    "start_time": "2022-08-24T21:40:30.608Z"
   },
   {
    "duration": 45,
    "start_time": "2022-08-24T21:43:59.827Z"
   },
   {
    "duration": 51,
    "start_time": "2022-08-24T21:44:08.386Z"
   },
   {
    "duration": 128,
    "start_time": "2022-08-24T21:44:52.290Z"
   },
   {
    "duration": 11,
    "start_time": "2022-08-24T21:45:34.609Z"
   },
   {
    "duration": 5,
    "start_time": "2022-08-24T21:45:58.250Z"
   },
   {
    "duration": 10,
    "start_time": "2022-08-24T21:46:05.935Z"
   },
   {
    "duration": 11,
    "start_time": "2022-08-24T21:46:42.777Z"
   },
   {
    "duration": 11,
    "start_time": "2022-08-24T21:46:53.474Z"
   },
   {
    "duration": 12,
    "start_time": "2022-08-24T21:48:31.424Z"
   },
   {
    "duration": 16,
    "start_time": "2022-08-24T21:49:28.239Z"
   },
   {
    "duration": 51,
    "start_time": "2022-08-24T22:00:33.455Z"
   },
   {
    "duration": 1367,
    "start_time": "2022-08-24T22:03:46.224Z"
   },
   {
    "duration": 182,
    "start_time": "2022-08-24T22:03:47.593Z"
   },
   {
    "duration": 20,
    "start_time": "2022-08-24T22:03:47.776Z"
   },
   {
    "duration": 36,
    "start_time": "2022-08-24T22:03:47.800Z"
   },
   {
    "duration": 17,
    "start_time": "2022-08-24T22:03:47.838Z"
   },
   {
    "duration": 97,
    "start_time": "2022-08-24T22:03:47.857Z"
   },
   {
    "duration": 191,
    "start_time": "2022-08-24T22:03:47.957Z"
   },
   {
    "duration": 4,
    "start_time": "2022-08-24T22:03:48.150Z"
   },
   {
    "duration": 13,
    "start_time": "2022-08-24T22:03:48.156Z"
   },
   {
    "duration": 34,
    "start_time": "2022-08-24T22:03:48.173Z"
   },
   {
    "duration": 13,
    "start_time": "2022-08-24T22:03:48.210Z"
   },
   {
    "duration": 21,
    "start_time": "2022-08-24T22:03:48.225Z"
   },
   {
    "duration": 46,
    "start_time": "2022-08-24T22:03:48.248Z"
   },
   {
    "duration": 21,
    "start_time": "2022-08-24T22:03:48.296Z"
   },
   {
    "duration": 21,
    "start_time": "2022-08-24T22:03:48.319Z"
   },
   {
    "duration": 7,
    "start_time": "2022-08-24T22:03:48.342Z"
   },
   {
    "duration": 490,
    "start_time": "2022-08-24T22:03:48.351Z"
   },
   {
    "duration": 26,
    "start_time": "2022-08-24T22:03:48.843Z"
   },
   {
    "duration": 39,
    "start_time": "2022-08-24T22:03:48.871Z"
   },
   {
    "duration": 10,
    "start_time": "2022-08-24T22:03:48.912Z"
   },
   {
    "duration": 31,
    "start_time": "2022-08-24T22:03:48.924Z"
   },
   {
    "duration": 75,
    "start_time": "2022-08-24T22:03:48.957Z"
   },
   {
    "duration": 124,
    "start_time": "2022-08-24T22:03:49.034Z"
   },
   {
    "duration": 18,
    "start_time": "2022-08-24T22:03:49.161Z"
   },
   {
    "duration": 42,
    "start_time": "2022-08-24T22:03:49.193Z"
   },
   {
    "duration": 105,
    "start_time": "2022-08-24T22:03:49.238Z"
   },
   {
    "duration": 148,
    "start_time": "2022-08-24T22:03:49.345Z"
   },
   {
    "duration": 76,
    "start_time": "2022-08-24T22:03:49.496Z"
   },
   {
    "duration": 185,
    "start_time": "2022-08-24T22:03:49.574Z"
   },
   {
    "duration": 55,
    "start_time": "2022-08-24T22:03:49.761Z"
   },
   {
    "duration": 136,
    "start_time": "2022-08-24T22:03:49.819Z"
   },
   {
    "duration": 97,
    "start_time": "2022-08-24T22:03:49.958Z"
   },
   {
    "duration": 11,
    "start_time": "2022-08-24T22:03:50.057Z"
   },
   {
    "duration": 38,
    "start_time": "2022-08-24T22:03:50.070Z"
   },
   {
    "duration": 67,
    "start_time": "2022-08-24T22:03:50.110Z"
   },
   {
    "duration": 59,
    "start_time": "2022-08-24T22:03:50.179Z"
   },
   {
    "duration": 17,
    "start_time": "2022-08-24T22:03:50.240Z"
   },
   {
    "duration": 74,
    "start_time": "2022-08-24T22:03:50.259Z"
   },
   {
    "duration": 12,
    "start_time": "2022-08-24T22:03:50.335Z"
   },
   {
    "duration": 3,
    "start_time": "2022-08-24T22:08:25.624Z"
   },
   {
    "duration": 150,
    "start_time": "2022-08-24T22:10:46.211Z"
   },
   {
    "duration": 39,
    "start_time": "2022-08-24T22:11:14.697Z"
   },
   {
    "duration": 96,
    "start_time": "2022-08-24T22:20:52.416Z"
   },
   {
    "duration": 11,
    "start_time": "2022-08-24T22:22:15.997Z"
   },
   {
    "duration": 67,
    "start_time": "2022-08-24T22:28:24.020Z"
   },
   {
    "duration": 66,
    "start_time": "2022-08-24T22:29:08.336Z"
   },
   {
    "duration": 69,
    "start_time": "2022-08-24T22:29:14.490Z"
   },
   {
    "duration": 1362,
    "start_time": "2022-08-24T22:30:05.119Z"
   },
   {
    "duration": 182,
    "start_time": "2022-08-24T22:30:06.485Z"
   },
   {
    "duration": 14,
    "start_time": "2022-08-24T22:30:06.668Z"
   },
   {
    "duration": 38,
    "start_time": "2022-08-24T22:30:06.691Z"
   },
   {
    "duration": 29,
    "start_time": "2022-08-24T22:30:06.731Z"
   },
   {
    "duration": 136,
    "start_time": "2022-08-24T22:30:06.762Z"
   },
   {
    "duration": 176,
    "start_time": "2022-08-24T22:30:06.900Z"
   },
   {
    "duration": 14,
    "start_time": "2022-08-24T22:30:07.078Z"
   },
   {
    "duration": 16,
    "start_time": "2022-08-24T22:30:07.094Z"
   },
   {
    "duration": 17,
    "start_time": "2022-08-24T22:30:07.114Z"
   },
   {
    "duration": 11,
    "start_time": "2022-08-24T22:30:07.132Z"
   },
   {
    "duration": 51,
    "start_time": "2022-08-24T22:30:07.145Z"
   },
   {
    "duration": 50,
    "start_time": "2022-08-24T22:30:07.198Z"
   },
   {
    "duration": 14,
    "start_time": "2022-08-24T22:30:07.250Z"
   },
   {
    "duration": 33,
    "start_time": "2022-08-24T22:30:07.265Z"
   },
   {
    "duration": 7,
    "start_time": "2022-08-24T22:30:07.300Z"
   },
   {
    "duration": 466,
    "start_time": "2022-08-24T22:30:07.309Z"
   },
   {
    "duration": 32,
    "start_time": "2022-08-24T22:30:07.777Z"
   },
   {
    "duration": 41,
    "start_time": "2022-08-24T22:30:07.811Z"
   },
   {
    "duration": 12,
    "start_time": "2022-08-24T22:30:07.855Z"
   },
   {
    "duration": 53,
    "start_time": "2022-08-24T22:30:07.869Z"
   },
   {
    "duration": 73,
    "start_time": "2022-08-24T22:30:07.924Z"
   },
   {
    "duration": 66,
    "start_time": "2022-08-24T22:30:07.999Z"
   },
   {
    "duration": 39,
    "start_time": "2022-08-24T22:30:08.067Z"
   },
   {
    "duration": 26,
    "start_time": "2022-08-24T22:30:08.107Z"
   },
   {
    "duration": 132,
    "start_time": "2022-08-24T22:30:08.135Z"
   },
   {
    "duration": 94,
    "start_time": "2022-08-24T22:30:08.269Z"
   },
   {
    "duration": 92,
    "start_time": "2022-08-24T22:30:08.367Z"
   },
   {
    "duration": 226,
    "start_time": "2022-08-24T22:30:08.461Z"
   },
   {
    "duration": 36,
    "start_time": "2022-08-24T22:30:08.691Z"
   },
   {
    "duration": 123,
    "start_time": "2022-08-24T22:30:08.730Z"
   },
   {
    "duration": 67,
    "start_time": "2022-08-24T22:30:08.891Z"
   },
   {
    "duration": 10,
    "start_time": "2022-08-24T22:30:08.960Z"
   },
   {
    "duration": 15,
    "start_time": "2022-08-24T22:30:08.991Z"
   },
   {
    "duration": 50,
    "start_time": "2022-08-24T22:30:09.008Z"
   },
   {
    "duration": 69,
    "start_time": "2022-08-24T22:30:09.060Z"
   },
   {
    "duration": 14,
    "start_time": "2022-08-24T22:30:09.131Z"
   },
   {
    "duration": 72,
    "start_time": "2022-08-24T22:30:09.147Z"
   },
   {
    "duration": 10,
    "start_time": "2022-08-24T22:30:09.221Z"
   },
   {
    "duration": 82,
    "start_time": "2022-08-24T22:30:09.233Z"
   },
   {
    "duration": 143,
    "start_time": "2022-08-24T22:30:09.317Z"
   },
   {
    "duration": 105,
    "start_time": "2022-08-24T22:30:37.597Z"
   },
   {
    "duration": 49,
    "start_time": "2022-08-24T22:30:46.222Z"
   },
   {
    "duration": 32,
    "start_time": "2022-08-24T22:31:25.291Z"
   },
   {
    "duration": 39,
    "start_time": "2022-08-24T22:31:33.324Z"
   },
   {
    "duration": 88,
    "start_time": "2022-08-25T08:41:26.953Z"
   },
   {
    "duration": 194,
    "start_time": "2022-08-25T08:41:33.347Z"
   },
   {
    "duration": 3,
    "start_time": "2022-08-25T08:41:39.061Z"
   },
   {
    "duration": 44,
    "start_time": "2022-08-25T08:43:02.960Z"
   },
   {
    "duration": 1559,
    "start_time": "2022-08-25T08:43:10.790Z"
   },
   {
    "duration": 702,
    "start_time": "2022-08-25T08:43:12.352Z"
   },
   {
    "duration": 11,
    "start_time": "2022-08-25T08:43:13.056Z"
   },
   {
    "duration": 25,
    "start_time": "2022-08-25T08:43:13.069Z"
   },
   {
    "duration": 14,
    "start_time": "2022-08-25T08:43:13.095Z"
   },
   {
    "duration": 88,
    "start_time": "2022-08-25T08:43:13.110Z"
   },
   {
    "duration": 145,
    "start_time": "2022-08-25T08:43:13.200Z"
   },
   {
    "duration": 4,
    "start_time": "2022-08-25T08:43:13.347Z"
   },
   {
    "duration": 11,
    "start_time": "2022-08-25T08:43:13.367Z"
   },
   {
    "duration": 18,
    "start_time": "2022-08-25T08:43:13.382Z"
   },
   {
    "duration": 9,
    "start_time": "2022-08-25T08:43:13.402Z"
   },
   {
    "duration": 14,
    "start_time": "2022-08-25T08:43:13.413Z"
   },
   {
    "duration": 50,
    "start_time": "2022-08-25T08:43:13.429Z"
   },
   {
    "duration": 10,
    "start_time": "2022-08-25T08:43:13.481Z"
   },
   {
    "duration": 23,
    "start_time": "2022-08-25T08:43:13.494Z"
   },
   {
    "duration": 6,
    "start_time": "2022-08-25T08:43:13.519Z"
   },
   {
    "duration": 449,
    "start_time": "2022-08-25T08:43:13.527Z"
   },
   {
    "duration": 24,
    "start_time": "2022-08-25T08:43:13.978Z"
   },
   {
    "duration": 27,
    "start_time": "2022-08-25T08:43:14.004Z"
   },
   {
    "duration": 36,
    "start_time": "2022-08-25T08:43:14.033Z"
   },
   {
    "duration": 27,
    "start_time": "2022-08-25T08:43:14.070Z"
   },
   {
    "duration": 47,
    "start_time": "2022-08-25T08:43:14.099Z"
   },
   {
    "duration": 78,
    "start_time": "2022-08-25T08:43:14.147Z"
   },
   {
    "duration": 19,
    "start_time": "2022-08-25T08:43:14.227Z"
   },
   {
    "duration": 27,
    "start_time": "2022-08-25T08:43:14.269Z"
   },
   {
    "duration": 162,
    "start_time": "2022-08-25T08:43:14.298Z"
   },
   {
    "duration": 122,
    "start_time": "2022-08-25T08:43:14.463Z"
   },
   {
    "duration": 82,
    "start_time": "2022-08-25T08:43:14.589Z"
   },
   {
    "duration": 166,
    "start_time": "2022-08-25T08:43:14.673Z"
   },
   {
    "duration": 38,
    "start_time": "2022-08-25T08:43:14.841Z"
   },
   {
    "duration": 102,
    "start_time": "2022-08-25T08:43:14.881Z"
   },
   {
    "duration": 55,
    "start_time": "2022-08-25T08:43:14.985Z"
   },
   {
    "duration": 27,
    "start_time": "2022-08-25T08:43:15.043Z"
   },
   {
    "duration": 22,
    "start_time": "2022-08-25T08:43:15.072Z"
   },
   {
    "duration": 49,
    "start_time": "2022-08-25T08:43:15.096Z"
   },
   {
    "duration": 62,
    "start_time": "2022-08-25T08:43:15.146Z"
   },
   {
    "duration": 22,
    "start_time": "2022-08-25T08:43:15.209Z"
   },
   {
    "duration": 77,
    "start_time": "2022-08-25T08:43:15.233Z"
   },
   {
    "duration": 11,
    "start_time": "2022-08-25T08:43:15.312Z"
   },
   {
    "duration": 59,
    "start_time": "2022-08-25T08:43:15.325Z"
   },
   {
    "duration": 2031,
    "start_time": "2022-08-25T08:43:15.386Z"
   },
   {
    "duration": 0,
    "start_time": "2022-08-25T08:43:17.419Z"
   },
   {
    "duration": 1640,
    "start_time": "2022-08-25T08:43:50.774Z"
   },
   {
    "duration": 1634,
    "start_time": "2022-08-25T08:44:10.894Z"
   },
   {
    "duration": 1654,
    "start_time": "2022-08-25T08:44:23.720Z"
   },
   {
    "duration": 313,
    "start_time": "2022-08-25T08:45:21.191Z"
   },
   {
    "duration": 349,
    "start_time": "2022-08-25T08:45:33.610Z"
   },
   {
    "duration": 356,
    "start_time": "2022-08-25T08:54:26.576Z"
   },
   {
    "duration": 6,
    "start_time": "2022-08-25T09:20:08.427Z"
   },
   {
    "duration": 30,
    "start_time": "2022-08-25T09:21:37.863Z"
   },
   {
    "duration": 11,
    "start_time": "2022-08-25T09:54:13.617Z"
   },
   {
    "duration": 31,
    "start_time": "2022-08-25T10:04:52.209Z"
   },
   {
    "duration": 1212,
    "start_time": "2022-08-25T10:05:12.986Z"
   },
   {
    "duration": 153,
    "start_time": "2022-08-25T10:05:14.200Z"
   },
   {
    "duration": 16,
    "start_time": "2022-08-25T10:05:14.355Z"
   },
   {
    "duration": 24,
    "start_time": "2022-08-25T10:05:14.373Z"
   },
   {
    "duration": 13,
    "start_time": "2022-08-25T10:05:14.399Z"
   },
   {
    "duration": 85,
    "start_time": "2022-08-25T10:05:14.414Z"
   },
   {
    "duration": 138,
    "start_time": "2022-08-25T10:05:14.501Z"
   },
   {
    "duration": 4,
    "start_time": "2022-08-25T10:05:14.641Z"
   },
   {
    "duration": 22,
    "start_time": "2022-08-25T10:05:14.646Z"
   },
   {
    "duration": 13,
    "start_time": "2022-08-25T10:05:14.671Z"
   },
   {
    "duration": 9,
    "start_time": "2022-08-25T10:05:14.686Z"
   },
   {
    "duration": 14,
    "start_time": "2022-08-25T10:05:14.697Z"
   },
   {
    "duration": 27,
    "start_time": "2022-08-25T10:05:14.713Z"
   },
   {
    "duration": 29,
    "start_time": "2022-08-25T10:05:14.742Z"
   },
   {
    "duration": 15,
    "start_time": "2022-08-25T10:05:14.773Z"
   },
   {
    "duration": 6,
    "start_time": "2022-08-25T10:05:14.789Z"
   },
   {
    "duration": 430,
    "start_time": "2022-08-25T10:05:14.796Z"
   },
   {
    "duration": 24,
    "start_time": "2022-08-25T10:05:15.228Z"
   },
   {
    "duration": 33,
    "start_time": "2022-08-25T10:05:15.254Z"
   },
   {
    "duration": 9,
    "start_time": "2022-08-25T10:05:15.289Z"
   },
   {
    "duration": 24,
    "start_time": "2022-08-25T10:05:15.300Z"
   },
   {
    "duration": 67,
    "start_time": "2022-08-25T10:05:15.326Z"
   },
   {
    "duration": 56,
    "start_time": "2022-08-25T10:05:15.395Z"
   },
   {
    "duration": 29,
    "start_time": "2022-08-25T10:05:15.453Z"
   },
   {
    "duration": 31,
    "start_time": "2022-08-25T10:05:15.484Z"
   },
   {
    "duration": 92,
    "start_time": "2022-08-25T10:05:15.518Z"
   },
   {
    "duration": 93,
    "start_time": "2022-08-25T10:05:15.612Z"
   },
   {
    "duration": 71,
    "start_time": "2022-08-25T10:05:15.710Z"
   },
   {
    "duration": 141,
    "start_time": "2022-08-25T10:05:15.783Z"
   },
   {
    "duration": 48,
    "start_time": "2022-08-25T10:05:15.927Z"
   },
   {
    "duration": 118,
    "start_time": "2022-08-25T10:05:15.977Z"
   },
   {
    "duration": 87,
    "start_time": "2022-08-25T10:05:16.096Z"
   },
   {
    "duration": 10,
    "start_time": "2022-08-25T10:05:16.185Z"
   },
   {
    "duration": 21,
    "start_time": "2022-08-25T10:05:16.197Z"
   },
   {
    "duration": 58,
    "start_time": "2022-08-25T10:05:16.220Z"
   },
   {
    "duration": 44,
    "start_time": "2022-08-25T10:05:16.279Z"
   },
   {
    "duration": 14,
    "start_time": "2022-08-25T10:05:16.325Z"
   },
   {
    "duration": 66,
    "start_time": "2022-08-25T10:05:16.341Z"
   },
   {
    "duration": 4,
    "start_time": "2022-08-25T10:05:16.409Z"
   },
   {
    "duration": 10,
    "start_time": "2022-08-25T10:05:16.414Z"
   },
   {
    "duration": 167,
    "start_time": "2022-08-25T10:05:16.426Z"
   },
   {
    "duration": 0,
    "start_time": "2022-08-25T10:05:16.595Z"
   },
   {
    "duration": 30,
    "start_time": "2022-08-25T10:05:33.912Z"
   },
   {
    "duration": 31,
    "start_time": "2022-08-25T10:06:00.382Z"
   },
   {
    "duration": 30,
    "start_time": "2022-08-25T10:06:42.723Z"
   },
   {
    "duration": 39,
    "start_time": "2022-08-25T10:08:36.541Z"
   },
   {
    "duration": 28,
    "start_time": "2022-08-25T10:08:45.721Z"
   },
   {
    "duration": 1290,
    "start_time": "2022-08-25T10:10:08.618Z"
   },
   {
    "duration": 165,
    "start_time": "2022-08-25T10:10:09.910Z"
   },
   {
    "duration": 15,
    "start_time": "2022-08-25T10:10:10.077Z"
   },
   {
    "duration": 25,
    "start_time": "2022-08-25T10:10:10.094Z"
   },
   {
    "duration": 14,
    "start_time": "2022-08-25T10:10:10.121Z"
   },
   {
    "duration": 91,
    "start_time": "2022-08-25T10:10:10.137Z"
   },
   {
    "duration": 156,
    "start_time": "2022-08-25T10:10:10.230Z"
   },
   {
    "duration": 4,
    "start_time": "2022-08-25T10:10:10.388Z"
   },
   {
    "duration": 15,
    "start_time": "2022-08-25T10:10:10.394Z"
   },
   {
    "duration": 28,
    "start_time": "2022-08-25T10:10:10.412Z"
   },
   {
    "duration": 11,
    "start_time": "2022-08-25T10:10:10.442Z"
   },
   {
    "duration": 25,
    "start_time": "2022-08-25T10:10:10.455Z"
   },
   {
    "duration": 20,
    "start_time": "2022-08-25T10:10:10.482Z"
   },
   {
    "duration": 10,
    "start_time": "2022-08-25T10:10:10.504Z"
   },
   {
    "duration": 17,
    "start_time": "2022-08-25T10:10:10.516Z"
   },
   {
    "duration": 36,
    "start_time": "2022-08-25T10:10:10.535Z"
   },
   {
    "duration": 430,
    "start_time": "2022-08-25T10:10:10.572Z"
   },
   {
    "duration": 25,
    "start_time": "2022-08-25T10:10:11.004Z"
   },
   {
    "duration": 46,
    "start_time": "2022-08-25T10:10:11.031Z"
   },
   {
    "duration": 13,
    "start_time": "2022-08-25T10:10:11.079Z"
   },
   {
    "duration": 37,
    "start_time": "2022-08-25T10:10:11.094Z"
   },
   {
    "duration": 82,
    "start_time": "2022-08-25T10:10:11.133Z"
   },
   {
    "duration": 78,
    "start_time": "2022-08-25T10:10:11.217Z"
   },
   {
    "duration": 18,
    "start_time": "2022-08-25T10:10:11.297Z"
   },
   {
    "duration": 20,
    "start_time": "2022-08-25T10:10:11.317Z"
   },
   {
    "duration": 93,
    "start_time": "2022-08-25T10:10:11.338Z"
   },
   {
    "duration": 120,
    "start_time": "2022-08-25T10:10:11.432Z"
   },
   {
    "duration": 72,
    "start_time": "2022-08-25T10:10:11.555Z"
   },
   {
    "duration": 173,
    "start_time": "2022-08-25T10:10:11.629Z"
   },
   {
    "duration": 26,
    "start_time": "2022-08-25T10:10:11.804Z"
   },
   {
    "duration": 85,
    "start_time": "2022-08-25T10:10:11.832Z"
   },
   {
    "duration": 96,
    "start_time": "2022-08-25T10:10:11.919Z"
   },
   {
    "duration": 11,
    "start_time": "2022-08-25T10:10:12.017Z"
   },
   {
    "duration": 36,
    "start_time": "2022-08-25T10:10:12.031Z"
   },
   {
    "duration": 51,
    "start_time": "2022-08-25T10:10:12.070Z"
   },
   {
    "duration": 83,
    "start_time": "2022-08-25T10:10:12.124Z"
   },
   {
    "duration": 16,
    "start_time": "2022-08-25T10:10:12.209Z"
   },
   {
    "duration": 131,
    "start_time": "2022-08-25T10:10:12.227Z"
   },
   {
    "duration": 6,
    "start_time": "2022-08-25T10:10:12.360Z"
   },
   {
    "duration": 45,
    "start_time": "2022-08-25T10:10:12.368Z"
   },
   {
    "duration": 207,
    "start_time": "2022-08-25T10:10:12.415Z"
   },
   {
    "duration": 0,
    "start_time": "2022-08-25T10:10:12.624Z"
   },
   {
    "duration": 33,
    "start_time": "2022-08-25T10:11:02.006Z"
   },
   {
    "duration": 410,
    "start_time": "2022-08-25T10:11:29.437Z"
   },
   {
    "duration": 355,
    "start_time": "2022-08-25T10:12:06.023Z"
   },
   {
    "duration": 1303,
    "start_time": "2022-08-25T10:12:21.108Z"
   },
   {
    "duration": 163,
    "start_time": "2022-08-25T10:12:22.414Z"
   },
   {
    "duration": 13,
    "start_time": "2022-08-25T10:12:22.579Z"
   },
   {
    "duration": 32,
    "start_time": "2022-08-25T10:12:22.594Z"
   },
   {
    "duration": 44,
    "start_time": "2022-08-25T10:12:22.628Z"
   },
   {
    "duration": 76,
    "start_time": "2022-08-25T10:12:22.674Z"
   },
   {
    "duration": 162,
    "start_time": "2022-08-25T10:12:22.752Z"
   },
   {
    "duration": 3,
    "start_time": "2022-08-25T10:12:22.917Z"
   },
   {
    "duration": 25,
    "start_time": "2022-08-25T10:12:22.921Z"
   },
   {
    "duration": 23,
    "start_time": "2022-08-25T10:12:22.948Z"
   },
   {
    "duration": 10,
    "start_time": "2022-08-25T10:12:22.973Z"
   },
   {
    "duration": 16,
    "start_time": "2022-08-25T10:12:22.984Z"
   },
   {
    "duration": 24,
    "start_time": "2022-08-25T10:12:23.002Z"
   },
   {
    "duration": 43,
    "start_time": "2022-08-25T10:12:23.029Z"
   },
   {
    "duration": 18,
    "start_time": "2022-08-25T10:12:23.074Z"
   },
   {
    "duration": 7,
    "start_time": "2022-08-25T10:12:23.094Z"
   },
   {
    "duration": 451,
    "start_time": "2022-08-25T10:12:23.103Z"
   },
   {
    "duration": 34,
    "start_time": "2022-08-25T10:12:23.555Z"
   },
   {
    "duration": 26,
    "start_time": "2022-08-25T10:12:23.591Z"
   },
   {
    "duration": 13,
    "start_time": "2022-08-25T10:12:23.619Z"
   },
   {
    "duration": 62,
    "start_time": "2022-08-25T10:12:23.634Z"
   },
   {
    "duration": 72,
    "start_time": "2022-08-25T10:12:23.699Z"
   },
   {
    "duration": 66,
    "start_time": "2022-08-25T10:12:23.773Z"
   },
   {
    "duration": 34,
    "start_time": "2022-08-25T10:12:23.841Z"
   },
   {
    "duration": 22,
    "start_time": "2022-08-25T10:12:23.877Z"
   },
   {
    "duration": 99,
    "start_time": "2022-08-25T10:12:23.901Z"
   },
   {
    "duration": 99,
    "start_time": "2022-08-25T10:12:24.002Z"
   },
   {
    "duration": 80,
    "start_time": "2022-08-25T10:12:24.103Z"
   },
   {
    "duration": 179,
    "start_time": "2022-08-25T10:12:24.185Z"
   },
   {
    "duration": 43,
    "start_time": "2022-08-25T10:12:24.366Z"
   },
   {
    "duration": 158,
    "start_time": "2022-08-25T10:12:24.411Z"
   },
   {
    "duration": 52,
    "start_time": "2022-08-25T10:12:24.571Z"
   },
   {
    "duration": 11,
    "start_time": "2022-08-25T10:12:24.625Z"
   },
   {
    "duration": 55,
    "start_time": "2022-08-25T10:12:24.639Z"
   },
   {
    "duration": 59,
    "start_time": "2022-08-25T10:12:24.696Z"
   },
   {
    "duration": 58,
    "start_time": "2022-08-25T10:12:24.757Z"
   },
   {
    "duration": 15,
    "start_time": "2022-08-25T10:12:24.816Z"
   },
   {
    "duration": 70,
    "start_time": "2022-08-25T10:12:24.833Z"
   },
   {
    "duration": 6,
    "start_time": "2022-08-25T10:12:24.904Z"
   },
   {
    "duration": 28,
    "start_time": "2022-08-25T10:12:24.913Z"
   },
   {
    "duration": 694,
    "start_time": "2022-08-25T10:12:24.948Z"
   },
   {
    "duration": 0,
    "start_time": "2022-08-25T10:12:25.645Z"
   },
   {
    "duration": 439,
    "start_time": "2022-08-25T10:48:58.808Z"
   },
   {
    "duration": 47,
    "start_time": "2022-08-25T10:49:31.713Z"
   },
   {
    "duration": 234,
    "start_time": "2022-08-25T11:12:10.944Z"
   },
   {
    "duration": 147,
    "start_time": "2022-08-25T11:12:17.740Z"
   },
   {
    "duration": 65,
    "start_time": "2022-08-25T11:12:22.566Z"
   },
   {
    "duration": 132,
    "start_time": "2022-08-25T11:16:19.028Z"
   },
   {
    "duration": 187,
    "start_time": "2022-08-25T11:17:48.517Z"
   },
   {
    "duration": 156,
    "start_time": "2022-08-25T11:18:59.843Z"
   },
   {
    "duration": 154,
    "start_time": "2022-08-25T11:19:27.630Z"
   },
   {
    "duration": 1942,
    "start_time": "2022-08-25T11:36:11.726Z"
   },
   {
    "duration": 249,
    "start_time": "2022-08-25T11:36:13.672Z"
   },
   {
    "duration": 17,
    "start_time": "2022-08-25T11:36:13.928Z"
   },
   {
    "duration": 53,
    "start_time": "2022-08-25T11:36:13.947Z"
   },
   {
    "duration": 25,
    "start_time": "2022-08-25T11:36:14.002Z"
   },
   {
    "duration": 106,
    "start_time": "2022-08-25T11:36:14.030Z"
   },
   {
    "duration": 160,
    "start_time": "2022-08-25T11:36:14.139Z"
   },
   {
    "duration": 4,
    "start_time": "2022-08-25T11:36:14.302Z"
   },
   {
    "duration": 16,
    "start_time": "2022-08-25T11:36:14.311Z"
   },
   {
    "duration": 41,
    "start_time": "2022-08-25T11:36:14.330Z"
   },
   {
    "duration": 11,
    "start_time": "2022-08-25T11:36:14.373Z"
   },
   {
    "duration": 16,
    "start_time": "2022-08-25T11:36:14.385Z"
   },
   {
    "duration": 40,
    "start_time": "2022-08-25T11:36:14.403Z"
   },
   {
    "duration": 14,
    "start_time": "2022-08-25T11:36:14.469Z"
   },
   {
    "duration": 25,
    "start_time": "2022-08-25T11:36:14.486Z"
   },
   {
    "duration": 7,
    "start_time": "2022-08-25T11:36:14.514Z"
   },
   {
    "duration": 529,
    "start_time": "2022-08-25T11:36:14.523Z"
   },
   {
    "duration": 30,
    "start_time": "2022-08-25T11:36:15.054Z"
   },
   {
    "duration": 25,
    "start_time": "2022-08-25T11:36:15.085Z"
   },
   {
    "duration": 12,
    "start_time": "2022-08-25T11:36:15.112Z"
   },
   {
    "duration": 62,
    "start_time": "2022-08-25T11:36:15.126Z"
   },
   {
    "duration": 80,
    "start_time": "2022-08-25T11:36:15.190Z"
   },
   {
    "duration": 73,
    "start_time": "2022-08-25T11:36:15.272Z"
   },
   {
    "duration": 34,
    "start_time": "2022-08-25T11:36:15.347Z"
   },
   {
    "duration": 24,
    "start_time": "2022-08-25T11:36:15.384Z"
   },
   {
    "duration": 108,
    "start_time": "2022-08-25T11:36:15.409Z"
   },
   {
    "duration": 103,
    "start_time": "2022-08-25T11:36:15.522Z"
   },
   {
    "duration": 91,
    "start_time": "2022-08-25T11:36:15.627Z"
   },
   {
    "duration": 224,
    "start_time": "2022-08-25T11:36:15.721Z"
   },
   {
    "duration": 37,
    "start_time": "2022-08-25T11:36:15.947Z"
   },
   {
    "duration": 103,
    "start_time": "2022-08-25T11:36:15.986Z"
   },
   {
    "duration": 120,
    "start_time": "2022-08-25T11:36:16.090Z"
   },
   {
    "duration": 15,
    "start_time": "2022-08-25T11:36:16.212Z"
   },
   {
    "duration": 51,
    "start_time": "2022-08-25T11:36:16.230Z"
   },
   {
    "duration": 72,
    "start_time": "2022-08-25T11:36:16.283Z"
   },
   {
    "duration": 79,
    "start_time": "2022-08-25T11:36:16.361Z"
   },
   {
    "duration": 15,
    "start_time": "2022-08-25T11:36:16.443Z"
   },
   {
    "duration": 77,
    "start_time": "2022-08-25T11:36:16.468Z"
   },
   {
    "duration": 5,
    "start_time": "2022-08-25T11:36:16.547Z"
   },
   {
    "duration": 38,
    "start_time": "2022-08-25T11:36:16.554Z"
   },
   {
    "duration": 214,
    "start_time": "2022-08-25T11:36:16.595Z"
   },
   {
    "duration": 171,
    "start_time": "2022-08-25T11:36:16.811Z"
   },
   {
    "duration": 1270,
    "start_time": "2022-08-25T11:37:23.518Z"
   },
   {
    "duration": 164,
    "start_time": "2022-08-25T11:37:24.789Z"
   },
   {
    "duration": 21,
    "start_time": "2022-08-25T11:37:24.954Z"
   },
   {
    "duration": 28,
    "start_time": "2022-08-25T11:37:24.979Z"
   },
   {
    "duration": 15,
    "start_time": "2022-08-25T11:37:25.008Z"
   },
   {
    "duration": 80,
    "start_time": "2022-08-25T11:37:25.024Z"
   },
   {
    "duration": 145,
    "start_time": "2022-08-25T11:37:25.106Z"
   },
   {
    "duration": 4,
    "start_time": "2022-08-25T11:37:25.253Z"
   },
   {
    "duration": 29,
    "start_time": "2022-08-25T11:37:25.259Z"
   },
   {
    "duration": 18,
    "start_time": "2022-08-25T11:37:25.291Z"
   },
   {
    "duration": 11,
    "start_time": "2022-08-25T11:37:25.311Z"
   },
   {
    "duration": 25,
    "start_time": "2022-08-25T11:37:25.324Z"
   },
   {
    "duration": 33,
    "start_time": "2022-08-25T11:37:25.351Z"
   },
   {
    "duration": 8,
    "start_time": "2022-08-25T11:37:25.386Z"
   },
   {
    "duration": 15,
    "start_time": "2022-08-25T11:37:25.396Z"
   },
   {
    "duration": 6,
    "start_time": "2022-08-25T11:37:25.413Z"
   },
   {
    "duration": 485,
    "start_time": "2022-08-25T11:37:25.421Z"
   },
   {
    "duration": 32,
    "start_time": "2022-08-25T11:37:25.908Z"
   },
   {
    "duration": 52,
    "start_time": "2022-08-25T11:37:25.943Z"
   },
   {
    "duration": 34,
    "start_time": "2022-08-25T11:37:25.997Z"
   },
   {
    "duration": 111,
    "start_time": "2022-08-25T11:37:26.033Z"
   },
   {
    "duration": 72,
    "start_time": "2022-08-25T11:37:26.146Z"
   },
   {
    "duration": 81,
    "start_time": "2022-08-25T11:37:26.220Z"
   },
   {
    "duration": 19,
    "start_time": "2022-08-25T11:37:26.303Z"
   },
   {
    "duration": 23,
    "start_time": "2022-08-25T11:37:26.324Z"
   },
   {
    "duration": 71,
    "start_time": "2022-08-25T11:37:26.373Z"
   },
   {
    "duration": 104,
    "start_time": "2022-08-25T11:37:26.446Z"
   },
   {
    "duration": 91,
    "start_time": "2022-08-25T11:37:26.554Z"
   },
   {
    "duration": 243,
    "start_time": "2022-08-25T11:37:26.647Z"
   },
   {
    "duration": 31,
    "start_time": "2022-08-25T11:37:26.893Z"
   },
   {
    "duration": 84,
    "start_time": "2022-08-25T11:37:26.926Z"
   },
   {
    "duration": 109,
    "start_time": "2022-08-25T11:37:27.012Z"
   },
   {
    "duration": 10,
    "start_time": "2022-08-25T11:37:27.122Z"
   },
   {
    "duration": 49,
    "start_time": "2022-08-25T11:37:27.134Z"
   },
   {
    "duration": 51,
    "start_time": "2022-08-25T11:37:27.185Z"
   },
   {
    "duration": 64,
    "start_time": "2022-08-25T11:37:27.237Z"
   },
   {
    "duration": 14,
    "start_time": "2022-08-25T11:37:27.303Z"
   },
   {
    "duration": 84,
    "start_time": "2022-08-25T11:37:27.319Z"
   },
   {
    "duration": 8,
    "start_time": "2022-08-25T11:37:27.405Z"
   },
   {
    "duration": 13,
    "start_time": "2022-08-25T11:37:27.414Z"
   },
   {
    "duration": 193,
    "start_time": "2022-08-25T11:37:27.429Z"
   },
   {
    "duration": 166,
    "start_time": "2022-08-25T11:37:27.623Z"
   },
   {
    "duration": 170,
    "start_time": "2022-08-25T11:40:44.282Z"
   },
   {
    "duration": 200,
    "start_time": "2022-08-25T11:41:01.895Z"
   },
   {
    "duration": 191,
    "start_time": "2022-08-25T11:41:22.061Z"
   },
   {
    "duration": 9,
    "start_time": "2022-08-25T11:41:43.677Z"
   },
   {
    "duration": 251,
    "start_time": "2022-08-25T11:41:47.374Z"
   },
   {
    "duration": 184,
    "start_time": "2022-08-25T11:42:26.934Z"
   },
   {
    "duration": 155,
    "start_time": "2022-08-25T11:43:04.948Z"
   },
   {
    "duration": 36,
    "start_time": "2022-08-25T11:44:46.987Z"
   },
   {
    "duration": 31,
    "start_time": "2022-08-25T11:45:06.225Z"
   },
   {
    "duration": 154,
    "start_time": "2022-08-25T11:45:15.586Z"
   },
   {
    "duration": 88,
    "start_time": "2022-08-25T11:46:40.043Z"
   },
   {
    "duration": 100,
    "start_time": "2022-08-25T11:46:47.200Z"
   },
   {
    "duration": 90,
    "start_time": "2022-08-25T11:46:53.228Z"
   },
   {
    "duration": 181,
    "start_time": "2022-08-25T11:47:00.509Z"
   },
   {
    "duration": 74,
    "start_time": "2022-08-25T11:47:20.293Z"
   },
   {
    "duration": 165,
    "start_time": "2022-08-25T11:47:25.194Z"
   },
   {
    "duration": 150,
    "start_time": "2022-08-25T11:47:45.377Z"
   },
   {
    "duration": 233,
    "start_time": "2022-08-25T11:47:57.983Z"
   },
   {
    "duration": 129,
    "start_time": "2022-08-25T11:48:14.028Z"
   },
   {
    "duration": 173,
    "start_time": "2022-08-25T11:48:24.422Z"
   },
   {
    "duration": 194,
    "start_time": "2022-08-25T12:28:38.470Z"
   },
   {
    "duration": 187,
    "start_time": "2022-08-25T12:29:17.661Z"
   },
   {
    "duration": 163,
    "start_time": "2022-08-25T12:29:40.570Z"
   },
   {
    "duration": 109,
    "start_time": "2022-08-25T12:41:15.547Z"
   },
   {
    "duration": 43,
    "start_time": "2022-08-25T12:41:35.239Z"
   },
   {
    "duration": 97,
    "start_time": "2022-08-25T12:42:05.563Z"
   },
   {
    "duration": 174,
    "start_time": "2022-08-25T12:42:17.085Z"
   },
   {
    "duration": 31,
    "start_time": "2022-08-25T12:43:17.235Z"
   },
   {
    "duration": 32,
    "start_time": "2022-08-25T12:43:25.721Z"
   },
   {
    "duration": 77,
    "start_time": "2022-08-25T12:43:46.446Z"
   },
   {
    "duration": 863,
    "start_time": "2022-08-25T12:44:14.092Z"
   },
   {
    "duration": 1304,
    "start_time": "2022-08-25T12:44:37.610Z"
   },
   {
    "duration": 171,
    "start_time": "2022-08-25T12:44:38.916Z"
   },
   {
    "duration": 11,
    "start_time": "2022-08-25T12:44:39.089Z"
   },
   {
    "duration": 20,
    "start_time": "2022-08-25T12:44:39.102Z"
   },
   {
    "duration": 14,
    "start_time": "2022-08-25T12:44:39.124Z"
   },
   {
    "duration": 95,
    "start_time": "2022-08-25T12:44:39.140Z"
   },
   {
    "duration": 150,
    "start_time": "2022-08-25T12:44:39.237Z"
   },
   {
    "duration": 4,
    "start_time": "2022-08-25T12:44:39.389Z"
   },
   {
    "duration": 22,
    "start_time": "2022-08-25T12:44:39.395Z"
   },
   {
    "duration": 15,
    "start_time": "2022-08-25T12:44:39.419Z"
   },
   {
    "duration": 8,
    "start_time": "2022-08-25T12:44:39.436Z"
   },
   {
    "duration": 43,
    "start_time": "2022-08-25T12:44:39.446Z"
   },
   {
    "duration": 27,
    "start_time": "2022-08-25T12:44:39.490Z"
   },
   {
    "duration": 10,
    "start_time": "2022-08-25T12:44:39.520Z"
   },
   {
    "duration": 15,
    "start_time": "2022-08-25T12:44:39.532Z"
   },
   {
    "duration": 5,
    "start_time": "2022-08-25T12:44:39.549Z"
   },
   {
    "duration": 459,
    "start_time": "2022-08-25T12:44:39.572Z"
   },
   {
    "duration": 26,
    "start_time": "2022-08-25T12:44:40.033Z"
   },
   {
    "duration": 24,
    "start_time": "2022-08-25T12:44:40.069Z"
   },
   {
    "duration": 10,
    "start_time": "2022-08-25T12:44:40.095Z"
   },
   {
    "duration": 29,
    "start_time": "2022-08-25T12:44:40.106Z"
   },
   {
    "duration": 86,
    "start_time": "2022-08-25T12:44:40.137Z"
   },
   {
    "duration": 82,
    "start_time": "2022-08-25T12:44:40.225Z"
   },
   {
    "duration": 20,
    "start_time": "2022-08-25T12:44:40.309Z"
   },
   {
    "duration": 45,
    "start_time": "2022-08-25T12:44:40.331Z"
   },
   {
    "duration": 97,
    "start_time": "2022-08-25T12:44:40.378Z"
   },
   {
    "duration": 103,
    "start_time": "2022-08-25T12:44:40.479Z"
   },
   {
    "duration": 74,
    "start_time": "2022-08-25T12:44:40.584Z"
   },
   {
    "duration": 179,
    "start_time": "2022-08-25T12:44:40.671Z"
   },
   {
    "duration": 37,
    "start_time": "2022-08-25T12:44:40.852Z"
   },
   {
    "duration": 122,
    "start_time": "2022-08-25T12:44:40.892Z"
   },
   {
    "duration": 101,
    "start_time": "2022-08-25T12:44:41.016Z"
   },
   {
    "duration": 11,
    "start_time": "2022-08-25T12:44:41.119Z"
   },
   {
    "duration": 42,
    "start_time": "2022-08-25T12:44:41.132Z"
   },
   {
    "duration": 59,
    "start_time": "2022-08-25T12:44:41.175Z"
   },
   {
    "duration": 49,
    "start_time": "2022-08-25T12:44:41.236Z"
   },
   {
    "duration": 13,
    "start_time": "2022-08-25T12:44:41.287Z"
   },
   {
    "duration": 51,
    "start_time": "2022-08-25T12:44:41.302Z"
   },
   {
    "duration": 25,
    "start_time": "2022-08-25T12:44:41.354Z"
   },
   {
    "duration": 11,
    "start_time": "2022-08-25T12:44:41.381Z"
   },
   {
    "duration": 910,
    "start_time": "2022-08-25T12:44:41.396Z"
   },
   {
    "duration": 91,
    "start_time": "2022-08-25T12:44:42.308Z"
   },
   {
    "duration": 147,
    "start_time": "2022-08-25T12:45:04.600Z"
   },
   {
    "duration": 169,
    "start_time": "2022-08-25T12:45:53.782Z"
   },
   {
    "duration": 243,
    "start_time": "2022-08-25T12:46:30.312Z"
   },
   {
    "duration": 122,
    "start_time": "2022-08-25T12:46:37.512Z"
   },
   {
    "duration": 156,
    "start_time": "2022-08-25T12:46:48.478Z"
   },
   {
    "duration": 184,
    "start_time": "2022-08-25T12:47:11.369Z"
   },
   {
    "duration": 245,
    "start_time": "2022-08-25T12:47:28.558Z"
   },
   {
    "duration": 183,
    "start_time": "2022-08-25T12:47:53.155Z"
   },
   {
    "duration": 94,
    "start_time": "2022-08-25T13:03:03.961Z"
   },
   {
    "duration": 182,
    "start_time": "2022-08-25T13:03:20.361Z"
   },
   {
    "duration": 223,
    "start_time": "2022-08-25T13:03:40.158Z"
   },
   {
    "duration": 209,
    "start_time": "2022-08-25T13:03:56.627Z"
   },
   {
    "duration": 172,
    "start_time": "2022-08-25T13:04:10.034Z"
   },
   {
    "duration": 171,
    "start_time": "2022-08-25T13:04:23.382Z"
   },
   {
    "duration": 167,
    "start_time": "2022-08-25T13:04:44.316Z"
   },
   {
    "duration": 171,
    "start_time": "2022-08-25T13:05:08.837Z"
   },
   {
    "duration": 163,
    "start_time": "2022-08-25T13:05:21.782Z"
   },
   {
    "duration": 184,
    "start_time": "2022-08-25T13:06:05.067Z"
   },
   {
    "duration": 111,
    "start_time": "2022-08-25T13:06:27.047Z"
   },
   {
    "duration": 204,
    "start_time": "2022-08-25T13:06:38.002Z"
   },
   {
    "duration": 3,
    "start_time": "2022-08-25T13:08:20.364Z"
   },
   {
    "duration": 5,
    "start_time": "2022-08-25T13:09:29.936Z"
   },
   {
    "duration": 6,
    "start_time": "2022-08-25T13:09:43.049Z"
   },
   {
    "duration": 314,
    "start_time": "2022-08-25T13:10:37.704Z"
   },
   {
    "duration": 139,
    "start_time": "2022-08-25T13:10:56.440Z"
   },
   {
    "duration": 313,
    "start_time": "2022-08-25T13:11:05.294Z"
   },
   {
    "duration": 124,
    "start_time": "2022-08-25T13:12:28.534Z"
   },
   {
    "duration": 121,
    "start_time": "2022-08-25T13:13:32.914Z"
   },
   {
    "duration": 117,
    "start_time": "2022-08-25T13:13:54.979Z"
   },
   {
    "duration": 138,
    "start_time": "2022-08-25T13:16:01.882Z"
   },
   {
    "duration": 107,
    "start_time": "2022-08-25T13:16:16.515Z"
   },
   {
    "duration": 133,
    "start_time": "2022-08-25T13:17:00.208Z"
   },
   {
    "duration": 21,
    "start_time": "2022-08-25T13:18:24.182Z"
   },
   {
    "duration": 15,
    "start_time": "2022-08-25T14:01:19.767Z"
   },
   {
    "duration": 21,
    "start_time": "2022-08-25T14:01:42.090Z"
   },
   {
    "duration": 7,
    "start_time": "2022-08-25T14:01:49.426Z"
   },
   {
    "duration": 7,
    "start_time": "2022-08-25T14:01:54.291Z"
   },
   {
    "duration": 14,
    "start_time": "2022-08-25T14:02:46.990Z"
   },
   {
    "duration": 7,
    "start_time": "2022-08-25T14:03:02.515Z"
   },
   {
    "duration": 13,
    "start_time": "2022-08-25T14:03:03.663Z"
   },
   {
    "duration": 13,
    "start_time": "2022-08-25T14:03:28.226Z"
   },
   {
    "duration": 1385,
    "start_time": "2022-08-25T14:05:25.320Z"
   },
   {
    "duration": 204,
    "start_time": "2022-08-25T14:05:26.709Z"
   },
   {
    "duration": 14,
    "start_time": "2022-08-25T14:05:26.915Z"
   },
   {
    "duration": 43,
    "start_time": "2022-08-25T14:05:26.931Z"
   },
   {
    "duration": 19,
    "start_time": "2022-08-25T14:05:26.977Z"
   },
   {
    "duration": 100,
    "start_time": "2022-08-25T14:05:26.998Z"
   },
   {
    "duration": 156,
    "start_time": "2022-08-25T14:05:27.100Z"
   },
   {
    "duration": 4,
    "start_time": "2022-08-25T14:05:27.258Z"
   },
   {
    "duration": 24,
    "start_time": "2022-08-25T14:05:27.263Z"
   },
   {
    "duration": 14,
    "start_time": "2022-08-25T14:05:27.291Z"
   },
   {
    "duration": 10,
    "start_time": "2022-08-25T14:05:27.307Z"
   },
   {
    "duration": 16,
    "start_time": "2022-08-25T14:05:27.318Z"
   },
   {
    "duration": 50,
    "start_time": "2022-08-25T14:05:27.335Z"
   },
   {
    "duration": 13,
    "start_time": "2022-08-25T14:05:27.390Z"
   },
   {
    "duration": 17,
    "start_time": "2022-08-25T14:05:27.404Z"
   },
   {
    "duration": 5,
    "start_time": "2022-08-25T14:05:27.423Z"
   },
   {
    "duration": 463,
    "start_time": "2022-08-25T14:05:27.429Z"
   },
   {
    "duration": 26,
    "start_time": "2022-08-25T14:05:27.894Z"
   },
   {
    "duration": 24,
    "start_time": "2022-08-25T14:05:27.922Z"
   },
   {
    "duration": 16,
    "start_time": "2022-08-25T14:05:27.968Z"
   },
   {
    "duration": 26,
    "start_time": "2022-08-25T14:05:27.986Z"
   },
   {
    "duration": 65,
    "start_time": "2022-08-25T14:05:28.014Z"
   },
   {
    "duration": 61,
    "start_time": "2022-08-25T14:05:28.081Z"
   },
   {
    "duration": 34,
    "start_time": "2022-08-25T14:05:28.144Z"
   },
   {
    "duration": 22,
    "start_time": "2022-08-25T14:05:28.181Z"
   },
   {
    "duration": 95,
    "start_time": "2022-08-25T14:05:28.205Z"
   },
   {
    "duration": 99,
    "start_time": "2022-08-25T14:05:28.302Z"
   },
   {
    "duration": 85,
    "start_time": "2022-08-25T14:05:28.406Z"
   },
   {
    "duration": 144,
    "start_time": "2022-08-25T14:05:28.493Z"
   },
   {
    "duration": 47,
    "start_time": "2022-08-25T14:05:28.639Z"
   },
   {
    "duration": 104,
    "start_time": "2022-08-25T14:05:28.688Z"
   },
   {
    "duration": 88,
    "start_time": "2022-08-25T14:05:28.793Z"
   },
   {
    "duration": 12,
    "start_time": "2022-08-25T14:05:28.883Z"
   },
   {
    "duration": 58,
    "start_time": "2022-08-25T14:05:28.897Z"
   },
   {
    "duration": 91,
    "start_time": "2022-08-25T14:05:28.957Z"
   },
   {
    "duration": 56,
    "start_time": "2022-08-25T14:05:29.050Z"
   },
   {
    "duration": 16,
    "start_time": "2022-08-25T14:05:29.108Z"
   },
   {
    "duration": 77,
    "start_time": "2022-08-25T14:05:29.127Z"
   },
   {
    "duration": 6,
    "start_time": "2022-08-25T14:05:29.206Z"
   },
   {
    "duration": 19,
    "start_time": "2022-08-25T14:05:29.214Z"
   },
   {
    "duration": 1328,
    "start_time": "2022-08-25T14:08:34.990Z"
   },
   {
    "duration": 189,
    "start_time": "2022-08-25T14:08:36.320Z"
   },
   {
    "duration": 16,
    "start_time": "2022-08-25T14:08:36.511Z"
   },
   {
    "duration": 62,
    "start_time": "2022-08-25T14:08:36.529Z"
   },
   {
    "duration": 54,
    "start_time": "2022-08-25T14:08:36.594Z"
   },
   {
    "duration": 136,
    "start_time": "2022-08-25T14:08:36.651Z"
   },
   {
    "duration": 172,
    "start_time": "2022-08-25T14:08:36.789Z"
   },
   {
    "duration": 18,
    "start_time": "2022-08-25T14:08:36.963Z"
   },
   {
    "duration": 23,
    "start_time": "2022-08-25T14:08:36.983Z"
   },
   {
    "duration": 48,
    "start_time": "2022-08-25T14:08:37.008Z"
   },
   {
    "duration": 22,
    "start_time": "2022-08-25T14:08:37.058Z"
   },
   {
    "duration": 15,
    "start_time": "2022-08-25T14:08:37.082Z"
   },
   {
    "duration": 23,
    "start_time": "2022-08-25T14:08:37.099Z"
   },
   {
    "duration": 14,
    "start_time": "2022-08-25T14:08:37.126Z"
   },
   {
    "duration": 38,
    "start_time": "2022-08-25T14:08:37.143Z"
   },
   {
    "duration": 7,
    "start_time": "2022-08-25T14:08:37.183Z"
   },
   {
    "duration": 475,
    "start_time": "2022-08-25T14:08:37.192Z"
   },
   {
    "duration": 32,
    "start_time": "2022-08-25T14:08:37.669Z"
   },
   {
    "duration": 22,
    "start_time": "2022-08-25T14:08:37.703Z"
   },
   {
    "duration": 10,
    "start_time": "2022-08-25T14:08:37.727Z"
   },
   {
    "duration": 53,
    "start_time": "2022-08-25T14:08:37.738Z"
   },
   {
    "duration": 49,
    "start_time": "2022-08-25T14:08:37.793Z"
   },
   {
    "duration": 83,
    "start_time": "2022-08-25T14:08:37.844Z"
   },
   {
    "duration": 18,
    "start_time": "2022-08-25T14:08:37.929Z"
   },
   {
    "duration": 44,
    "start_time": "2022-08-25T14:08:37.948Z"
   },
   {
    "duration": 89,
    "start_time": "2022-08-25T14:08:37.994Z"
   },
   {
    "duration": 102,
    "start_time": "2022-08-25T14:08:38.085Z"
   },
   {
    "duration": 67,
    "start_time": "2022-08-25T14:08:38.188Z"
   },
   {
    "duration": 187,
    "start_time": "2022-08-25T14:08:38.257Z"
   },
   {
    "duration": 40,
    "start_time": "2022-08-25T14:08:38.446Z"
   },
   {
    "duration": 105,
    "start_time": "2022-08-25T14:08:38.488Z"
   },
   {
    "duration": 86,
    "start_time": "2022-08-25T14:08:38.595Z"
   },
   {
    "duration": 12,
    "start_time": "2022-08-25T14:08:38.683Z"
   },
   {
    "duration": 21,
    "start_time": "2022-08-25T14:08:38.697Z"
   },
   {
    "duration": 64,
    "start_time": "2022-08-25T14:08:38.720Z"
   },
   {
    "duration": 51,
    "start_time": "2022-08-25T14:08:38.786Z"
   },
   {
    "duration": 35,
    "start_time": "2022-08-25T14:08:38.839Z"
   },
   {
    "duration": 65,
    "start_time": "2022-08-25T14:08:38.877Z"
   },
   {
    "duration": 5,
    "start_time": "2022-08-25T14:08:38.944Z"
   },
   {
    "duration": 75,
    "start_time": "2022-08-25T14:08:38.950Z"
   },
   {
    "duration": 214,
    "start_time": "2022-08-25T14:08:39.029Z"
   },
   {
    "duration": 79,
    "start_time": "2022-08-25T14:08:39.245Z"
   },
   {
    "duration": 0,
    "start_time": "2022-08-25T14:08:39.326Z"
   },
   {
    "duration": 0,
    "start_time": "2022-08-25T14:08:39.327Z"
   },
   {
    "duration": 165,
    "start_time": "2022-08-25T14:09:24.147Z"
   },
   {
    "duration": 232,
    "start_time": "2022-08-25T14:09:32.918Z"
   },
   {
    "duration": 222,
    "start_time": "2022-08-25T14:10:00.257Z"
   },
   {
    "duration": 176,
    "start_time": "2022-08-25T14:10:25.981Z"
   },
   {
    "duration": 215,
    "start_time": "2022-08-25T14:10:38.673Z"
   },
   {
    "duration": 264,
    "start_time": "2022-08-25T14:10:53.153Z"
   },
   {
    "duration": 136,
    "start_time": "2022-08-25T14:11:55.728Z"
   },
   {
    "duration": 1822,
    "start_time": "2022-08-25T14:12:13.282Z"
   },
   {
    "duration": 1673,
    "start_time": "2022-08-25T14:12:29.306Z"
   },
   {
    "duration": 189,
    "start_time": "2022-08-25T14:13:04.108Z"
   },
   {
    "duration": 244,
    "start_time": "2022-08-25T14:13:51.538Z"
   },
   {
    "duration": 295,
    "start_time": "2022-08-25T14:14:08.003Z"
   },
   {
    "duration": 1267,
    "start_time": "2022-08-25T14:14:19.482Z"
   },
   {
    "duration": 172,
    "start_time": "2022-08-25T14:14:20.751Z"
   },
   {
    "duration": 12,
    "start_time": "2022-08-25T14:14:20.924Z"
   },
   {
    "duration": 38,
    "start_time": "2022-08-25T14:14:20.937Z"
   },
   {
    "duration": 16,
    "start_time": "2022-08-25T14:14:20.979Z"
   },
   {
    "duration": 75,
    "start_time": "2022-08-25T14:14:20.997Z"
   },
   {
    "duration": 163,
    "start_time": "2022-08-25T14:14:21.073Z"
   },
   {
    "duration": 4,
    "start_time": "2022-08-25T14:14:21.238Z"
   },
   {
    "duration": 21,
    "start_time": "2022-08-25T14:14:21.244Z"
   },
   {
    "duration": 31,
    "start_time": "2022-08-25T14:14:21.269Z"
   },
   {
    "duration": 10,
    "start_time": "2022-08-25T14:14:21.302Z"
   },
   {
    "duration": 35,
    "start_time": "2022-08-25T14:14:21.313Z"
   },
   {
    "duration": 32,
    "start_time": "2022-08-25T14:14:21.350Z"
   },
   {
    "duration": 20,
    "start_time": "2022-08-25T14:14:21.385Z"
   },
   {
    "duration": 20,
    "start_time": "2022-08-25T14:14:21.406Z"
   },
   {
    "duration": 7,
    "start_time": "2022-08-25T14:14:21.428Z"
   },
   {
    "duration": 469,
    "start_time": "2022-08-25T14:14:21.437Z"
   },
   {
    "duration": 25,
    "start_time": "2022-08-25T14:14:21.908Z"
   },
   {
    "duration": 44,
    "start_time": "2022-08-25T14:14:21.937Z"
   },
   {
    "duration": 10,
    "start_time": "2022-08-25T14:14:21.983Z"
   },
   {
    "duration": 26,
    "start_time": "2022-08-25T14:14:21.995Z"
   },
   {
    "duration": 74,
    "start_time": "2022-08-25T14:14:22.023Z"
   },
   {
    "duration": 58,
    "start_time": "2022-08-25T14:14:22.099Z"
   },
   {
    "duration": 38,
    "start_time": "2022-08-25T14:14:22.159Z"
   },
   {
    "duration": 21,
    "start_time": "2022-08-25T14:14:22.199Z"
   },
   {
    "duration": 85,
    "start_time": "2022-08-25T14:14:22.222Z"
   },
   {
    "duration": 95,
    "start_time": "2022-08-25T14:14:22.309Z"
   },
   {
    "duration": 83,
    "start_time": "2022-08-25T14:14:22.406Z"
   },
   {
    "duration": 227,
    "start_time": "2022-08-25T14:14:22.491Z"
   },
   {
    "duration": 28,
    "start_time": "2022-08-25T14:14:22.719Z"
   },
   {
    "duration": 70,
    "start_time": "2022-08-25T14:14:22.749Z"
   },
   {
    "duration": 96,
    "start_time": "2022-08-25T14:14:22.820Z"
   },
   {
    "duration": 11,
    "start_time": "2022-08-25T14:14:22.918Z"
   },
   {
    "duration": 22,
    "start_time": "2022-08-25T14:14:22.931Z"
   },
   {
    "duration": 52,
    "start_time": "2022-08-25T14:14:22.967Z"
   },
   {
    "duration": 72,
    "start_time": "2022-08-25T14:14:23.020Z"
   },
   {
    "duration": 14,
    "start_time": "2022-08-25T14:14:23.094Z"
   },
   {
    "duration": 73,
    "start_time": "2022-08-25T14:14:23.110Z"
   },
   {
    "duration": 4,
    "start_time": "2022-08-25T14:14:23.185Z"
   },
   {
    "duration": 13,
    "start_time": "2022-08-25T14:14:23.190Z"
   },
   {
    "duration": 492,
    "start_time": "2022-08-25T14:14:23.206Z"
   },
   {
    "duration": 0,
    "start_time": "2022-08-25T14:14:23.700Z"
   },
   {
    "duration": 0,
    "start_time": "2022-08-25T14:14:23.701Z"
   },
   {
    "duration": 0,
    "start_time": "2022-08-25T14:14:23.702Z"
   },
   {
    "duration": 37,
    "start_time": "2022-08-25T14:16:16.522Z"
   },
   {
    "duration": 354,
    "start_time": "2022-08-25T14:16:25.531Z"
   },
   {
    "duration": 335,
    "start_time": "2022-08-25T14:17:07.183Z"
   },
   {
    "duration": 341,
    "start_time": "2022-08-25T14:17:20.752Z"
   },
   {
    "duration": 63,
    "start_time": "2022-08-25T14:27:35.819Z"
   },
   {
    "duration": 46,
    "start_time": "2022-08-25T14:27:53.666Z"
   },
   {
    "duration": 55,
    "start_time": "2022-08-25T14:28:47.691Z"
   },
   {
    "duration": 42,
    "start_time": "2022-08-25T14:29:11.335Z"
   },
   {
    "duration": 32,
    "start_time": "2022-08-25T14:29:29.622Z"
   },
   {
    "duration": 467,
    "start_time": "2022-08-25T14:31:26.924Z"
   },
   {
    "duration": 357,
    "start_time": "2022-08-25T14:31:56.527Z"
   },
   {
    "duration": 356,
    "start_time": "2022-08-25T14:33:06.491Z"
   },
   {
    "duration": 315,
    "start_time": "2022-08-25T14:33:26.261Z"
   },
   {
    "duration": 124,
    "start_time": "2022-08-25T14:34:45.475Z"
   },
   {
    "duration": 59,
    "start_time": "2022-08-25T14:45:44.818Z"
   },
   {
    "duration": 64,
    "start_time": "2022-08-25T14:46:23.653Z"
   },
   {
    "duration": 1158,
    "start_time": "2022-08-25T14:47:20.472Z"
   },
   {
    "duration": 41,
    "start_time": "2022-08-25T14:48:10.435Z"
   },
   {
    "duration": 35,
    "start_time": "2022-08-25T14:48:22.651Z"
   },
   {
    "duration": 46,
    "start_time": "2022-08-25T14:56:23.583Z"
   },
   {
    "duration": 401,
    "start_time": "2022-08-25T14:57:40.922Z"
   },
   {
    "duration": 1263,
    "start_time": "2022-08-25T14:59:09.943Z"
   },
   {
    "duration": 161,
    "start_time": "2022-08-25T14:59:11.208Z"
   },
   {
    "duration": 11,
    "start_time": "2022-08-25T14:59:11.371Z"
   },
   {
    "duration": 21,
    "start_time": "2022-08-25T14:59:11.384Z"
   },
   {
    "duration": 14,
    "start_time": "2022-08-25T14:59:11.407Z"
   },
   {
    "duration": 103,
    "start_time": "2022-08-25T14:59:11.423Z"
   },
   {
    "duration": 171,
    "start_time": "2022-08-25T14:59:11.528Z"
   },
   {
    "duration": 4,
    "start_time": "2022-08-25T14:59:11.701Z"
   },
   {
    "duration": 31,
    "start_time": "2022-08-25T14:59:11.707Z"
   },
   {
    "duration": 49,
    "start_time": "2022-08-25T14:59:11.741Z"
   },
   {
    "duration": 21,
    "start_time": "2022-08-25T14:59:11.792Z"
   },
   {
    "duration": 37,
    "start_time": "2022-08-25T14:59:11.814Z"
   },
   {
    "duration": 71,
    "start_time": "2022-08-25T14:59:11.853Z"
   },
   {
    "duration": 14,
    "start_time": "2022-08-25T14:59:11.926Z"
   },
   {
    "duration": 16,
    "start_time": "2022-08-25T14:59:11.941Z"
   },
   {
    "duration": 6,
    "start_time": "2022-08-25T14:59:11.958Z"
   },
   {
    "duration": 438,
    "start_time": "2022-08-25T14:59:11.966Z"
   },
   {
    "duration": 31,
    "start_time": "2022-08-25T14:59:12.406Z"
   },
   {
    "duration": 41,
    "start_time": "2022-08-25T14:59:12.440Z"
   },
   {
    "duration": 11,
    "start_time": "2022-08-25T14:59:12.483Z"
   },
   {
    "duration": 27,
    "start_time": "2022-08-25T14:59:12.496Z"
   },
   {
    "duration": 69,
    "start_time": "2022-08-25T14:59:12.525Z"
   },
   {
    "duration": 74,
    "start_time": "2022-08-25T14:59:12.595Z"
   },
   {
    "duration": 19,
    "start_time": "2022-08-25T14:59:12.671Z"
   },
   {
    "duration": 21,
    "start_time": "2022-08-25T14:59:12.692Z"
   },
   {
    "duration": 95,
    "start_time": "2022-08-25T14:59:12.714Z"
   },
   {
    "duration": 94,
    "start_time": "2022-08-25T14:59:12.811Z"
   },
   {
    "duration": 77,
    "start_time": "2022-08-25T14:59:12.909Z"
   },
   {
    "duration": 153,
    "start_time": "2022-08-25T14:59:12.988Z"
   },
   {
    "duration": 29,
    "start_time": "2022-08-25T14:59:13.143Z"
   },
   {
    "duration": 49,
    "start_time": "2022-08-25T14:59:13.174Z"
   },
   {
    "duration": 89,
    "start_time": "2022-08-25T14:59:13.225Z"
   },
   {
    "duration": 10,
    "start_time": "2022-08-25T14:59:13.315Z"
   },
   {
    "duration": 20,
    "start_time": "2022-08-25T14:59:13.326Z"
   },
   {
    "duration": 49,
    "start_time": "2022-08-25T14:59:13.367Z"
   },
   {
    "duration": 54,
    "start_time": "2022-08-25T14:59:13.418Z"
   },
   {
    "duration": 12,
    "start_time": "2022-08-25T14:59:13.474Z"
   },
   {
    "duration": 53,
    "start_time": "2022-08-25T14:59:13.488Z"
   },
   {
    "duration": 25,
    "start_time": "2022-08-25T14:59:13.543Z"
   },
   {
    "duration": 12,
    "start_time": "2022-08-25T14:59:13.570Z"
   },
   {
    "duration": 40,
    "start_time": "2022-08-25T14:59:13.583Z"
   },
   {
    "duration": 245,
    "start_time": "2022-08-25T14:59:13.626Z"
   },
   {
    "duration": 0,
    "start_time": "2022-08-25T14:59:13.874Z"
   },
   {
    "duration": 0,
    "start_time": "2022-08-25T14:59:13.875Z"
   },
   {
    "duration": 0,
    "start_time": "2022-08-25T14:59:13.876Z"
   },
   {
    "duration": 113,
    "start_time": "2022-08-25T14:59:31.040Z"
   },
   {
    "duration": 107,
    "start_time": "2022-08-25T14:59:59.917Z"
   },
   {
    "duration": 327,
    "start_time": "2022-08-25T15:12:52.909Z"
   },
   {
    "duration": 22,
    "start_time": "2022-08-25T15:13:46.787Z"
   },
   {
    "duration": 1277,
    "start_time": "2022-08-25T15:28:54.384Z"
   },
   {
    "duration": 165,
    "start_time": "2022-08-25T15:28:55.663Z"
   },
   {
    "duration": 11,
    "start_time": "2022-08-25T15:28:55.830Z"
   },
   {
    "duration": 31,
    "start_time": "2022-08-25T15:28:55.843Z"
   },
   {
    "duration": 15,
    "start_time": "2022-08-25T15:28:55.876Z"
   },
   {
    "duration": 82,
    "start_time": "2022-08-25T15:28:55.892Z"
   },
   {
    "duration": 154,
    "start_time": "2022-08-25T15:28:55.976Z"
   },
   {
    "duration": 3,
    "start_time": "2022-08-25T15:28:56.132Z"
   },
   {
    "duration": 10,
    "start_time": "2022-08-25T15:28:56.137Z"
   },
   {
    "duration": 28,
    "start_time": "2022-08-25T15:28:56.150Z"
   },
   {
    "duration": 14,
    "start_time": "2022-08-25T15:28:56.181Z"
   },
   {
    "duration": 14,
    "start_time": "2022-08-25T15:28:56.198Z"
   },
   {
    "duration": 24,
    "start_time": "2022-08-25T15:28:56.213Z"
   },
   {
    "duration": 34,
    "start_time": "2022-08-25T15:28:56.238Z"
   },
   {
    "duration": 16,
    "start_time": "2022-08-25T15:28:56.273Z"
   },
   {
    "duration": 6,
    "start_time": "2022-08-25T15:28:56.291Z"
   },
   {
    "duration": 574,
    "start_time": "2022-08-25T15:28:56.298Z"
   },
   {
    "duration": 27,
    "start_time": "2022-08-25T15:28:56.874Z"
   },
   {
    "duration": 24,
    "start_time": "2022-08-25T15:28:56.902Z"
   },
   {
    "duration": 11,
    "start_time": "2022-08-25T15:28:56.928Z"
   },
   {
    "duration": 49,
    "start_time": "2022-08-25T15:28:56.941Z"
   },
   {
    "duration": 52,
    "start_time": "2022-08-25T15:28:56.991Z"
   },
   {
    "duration": 86,
    "start_time": "2022-08-25T15:28:57.046Z"
   },
   {
    "duration": 38,
    "start_time": "2022-08-25T15:28:57.134Z"
   },
   {
    "duration": 23,
    "start_time": "2022-08-25T15:28:57.174Z"
   },
   {
    "duration": 109,
    "start_time": "2022-08-25T15:28:57.199Z"
   },
   {
    "duration": 117,
    "start_time": "2022-08-25T15:28:57.310Z"
   },
   {
    "duration": 84,
    "start_time": "2022-08-25T15:28:57.432Z"
   },
   {
    "duration": 188,
    "start_time": "2022-08-25T15:28:57.518Z"
   },
   {
    "duration": 32,
    "start_time": "2022-08-25T15:28:57.708Z"
   },
   {
    "duration": 81,
    "start_time": "2022-08-25T15:28:57.742Z"
   },
   {
    "duration": 100,
    "start_time": "2022-08-25T15:28:57.825Z"
   },
   {
    "duration": 12,
    "start_time": "2022-08-25T15:28:57.927Z"
   },
   {
    "duration": 56,
    "start_time": "2022-08-25T15:28:57.941Z"
   },
   {
    "duration": 78,
    "start_time": "2022-08-25T15:28:58.000Z"
   },
   {
    "duration": 61,
    "start_time": "2022-08-25T15:28:58.080Z"
   },
   {
    "duration": 36,
    "start_time": "2022-08-25T15:28:58.143Z"
   },
   {
    "duration": 47,
    "start_time": "2022-08-25T15:28:58.182Z"
   },
   {
    "duration": 53,
    "start_time": "2022-08-25T15:28:58.231Z"
   },
   {
    "duration": 6,
    "start_time": "2022-08-25T15:28:58.286Z"
   },
   {
    "duration": 24,
    "start_time": "2022-08-25T15:28:58.294Z"
   },
   {
    "duration": 123,
    "start_time": "2022-08-25T15:28:58.320Z"
   },
   {
    "duration": 13,
    "start_time": "2022-08-25T15:32:52.166Z"
   },
   {
    "duration": 85,
    "start_time": "2022-08-25T15:34:41.847Z"
   },
   {
    "duration": 87,
    "start_time": "2022-08-25T15:36:55.848Z"
   },
   {
    "duration": 88,
    "start_time": "2022-08-25T15:37:18.244Z"
   },
   {
    "duration": 1306,
    "start_time": "2022-08-25T15:38:31.615Z"
   },
   {
    "duration": 174,
    "start_time": "2022-08-25T15:38:32.923Z"
   },
   {
    "duration": 12,
    "start_time": "2022-08-25T15:38:33.098Z"
   },
   {
    "duration": 22,
    "start_time": "2022-08-25T15:38:33.112Z"
   },
   {
    "duration": 34,
    "start_time": "2022-08-25T15:38:33.136Z"
   },
   {
    "duration": 68,
    "start_time": "2022-08-25T15:38:33.171Z"
   },
   {
    "duration": 160,
    "start_time": "2022-08-25T15:38:33.241Z"
   },
   {
    "duration": 4,
    "start_time": "2022-08-25T15:38:33.402Z"
   },
   {
    "duration": 12,
    "start_time": "2022-08-25T15:38:33.407Z"
   },
   {
    "duration": 17,
    "start_time": "2022-08-25T15:38:33.421Z"
   },
   {
    "duration": 9,
    "start_time": "2022-08-25T15:38:33.440Z"
   },
   {
    "duration": 12,
    "start_time": "2022-08-25T15:38:33.468Z"
   },
   {
    "duration": 53,
    "start_time": "2022-08-25T15:38:33.482Z"
   },
   {
    "duration": 29,
    "start_time": "2022-08-25T15:38:33.539Z"
   },
   {
    "duration": 35,
    "start_time": "2022-08-25T15:38:33.570Z"
   },
   {
    "duration": 78,
    "start_time": "2022-08-25T15:38:33.607Z"
   },
   {
    "duration": 484,
    "start_time": "2022-08-25T15:38:33.688Z"
   },
   {
    "duration": 28,
    "start_time": "2022-08-25T15:38:34.174Z"
   },
   {
    "duration": 25,
    "start_time": "2022-08-25T15:38:34.204Z"
   },
   {
    "duration": 39,
    "start_time": "2022-08-25T15:38:34.230Z"
   },
   {
    "duration": 28,
    "start_time": "2022-08-25T15:38:34.271Z"
   },
   {
    "duration": 67,
    "start_time": "2022-08-25T15:38:34.302Z"
   },
   {
    "duration": 63,
    "start_time": "2022-08-25T15:38:34.370Z"
   },
   {
    "duration": 37,
    "start_time": "2022-08-25T15:38:34.435Z"
   },
   {
    "duration": 22,
    "start_time": "2022-08-25T15:38:34.474Z"
   },
   {
    "duration": 96,
    "start_time": "2022-08-25T15:38:34.497Z"
   },
   {
    "duration": 95,
    "start_time": "2022-08-25T15:38:34.594Z"
   },
   {
    "duration": 77,
    "start_time": "2022-08-25T15:38:34.691Z"
   },
   {
    "duration": 160,
    "start_time": "2022-08-25T15:38:34.770Z"
   },
   {
    "duration": 37,
    "start_time": "2022-08-25T15:38:34.932Z"
   },
   {
    "duration": 99,
    "start_time": "2022-08-25T15:38:34.970Z"
   },
   {
    "duration": 50,
    "start_time": "2022-08-25T15:38:35.070Z"
   },
   {
    "duration": 9,
    "start_time": "2022-08-25T15:38:35.122Z"
   },
   {
    "duration": 36,
    "start_time": "2022-08-25T15:38:35.133Z"
   },
   {
    "duration": 46,
    "start_time": "2022-08-25T15:38:35.171Z"
   },
   {
    "duration": 58,
    "start_time": "2022-08-25T15:38:35.219Z"
   },
   {
    "duration": 12,
    "start_time": "2022-08-25T15:38:35.279Z"
   },
   {
    "duration": 23,
    "start_time": "2022-08-25T15:38:35.293Z"
   },
   {
    "duration": 67,
    "start_time": "2022-08-25T15:38:35.318Z"
   },
   {
    "duration": 5,
    "start_time": "2022-08-25T15:38:35.387Z"
   },
   {
    "duration": 12,
    "start_time": "2022-08-25T15:38:35.395Z"
   },
   {
    "duration": 130,
    "start_time": "2022-08-25T15:38:35.409Z"
   },
   {
    "duration": 27,
    "start_time": "2022-08-25T15:38:35.541Z"
   },
   {
    "duration": 102,
    "start_time": "2022-08-25T15:38:35.570Z"
   },
   {
    "duration": 94,
    "start_time": "2022-08-25T15:38:35.674Z"
   },
   {
    "duration": 87,
    "start_time": "2022-08-25T15:49:17.106Z"
   },
   {
    "duration": 1229,
    "start_time": "2022-08-25T15:50:12.948Z"
   },
   {
    "duration": 159,
    "start_time": "2022-08-25T15:50:14.179Z"
   },
   {
    "duration": 11,
    "start_time": "2022-08-25T15:50:14.340Z"
   },
   {
    "duration": 28,
    "start_time": "2022-08-25T15:50:14.353Z"
   },
   {
    "duration": 14,
    "start_time": "2022-08-25T15:50:14.384Z"
   },
   {
    "duration": 79,
    "start_time": "2022-08-25T15:50:14.399Z"
   },
   {
    "duration": 134,
    "start_time": "2022-08-25T15:50:14.479Z"
   },
   {
    "duration": 3,
    "start_time": "2022-08-25T15:50:14.615Z"
   },
   {
    "duration": 10,
    "start_time": "2022-08-25T15:50:14.619Z"
   },
   {
    "duration": 12,
    "start_time": "2022-08-25T15:50:14.632Z"
   },
   {
    "duration": 25,
    "start_time": "2022-08-25T15:50:14.646Z"
   },
   {
    "duration": 63,
    "start_time": "2022-08-25T15:50:14.673Z"
   },
   {
    "duration": 29,
    "start_time": "2022-08-25T15:50:14.737Z"
   },
   {
    "duration": 44,
    "start_time": "2022-08-25T15:50:14.767Z"
   },
   {
    "duration": 38,
    "start_time": "2022-08-25T15:50:14.813Z"
   },
   {
    "duration": 27,
    "start_time": "2022-08-25T15:50:14.853Z"
   },
   {
    "duration": 431,
    "start_time": "2022-08-25T15:50:14.881Z"
   },
   {
    "duration": 26,
    "start_time": "2022-08-25T15:50:15.314Z"
   },
   {
    "duration": 40,
    "start_time": "2022-08-25T15:50:15.341Z"
   },
   {
    "duration": 10,
    "start_time": "2022-08-25T15:50:15.383Z"
   },
   {
    "duration": 26,
    "start_time": "2022-08-25T15:50:15.395Z"
   },
   {
    "duration": 73,
    "start_time": "2022-08-25T15:50:15.423Z"
   },
   {
    "duration": 73,
    "start_time": "2022-08-25T15:50:15.497Z"
   },
   {
    "duration": 17,
    "start_time": "2022-08-25T15:50:15.571Z"
   },
   {
    "duration": 21,
    "start_time": "2022-08-25T15:50:15.589Z"
   },
   {
    "duration": 97,
    "start_time": "2022-08-25T15:50:15.612Z"
   },
   {
    "duration": 97,
    "start_time": "2022-08-25T15:50:15.711Z"
   },
   {
    "duration": 67,
    "start_time": "2022-08-25T15:50:15.812Z"
   },
   {
    "duration": 140,
    "start_time": "2022-08-25T15:50:15.881Z"
   },
   {
    "duration": 47,
    "start_time": "2022-08-25T15:50:16.023Z"
   },
   {
    "duration": 97,
    "start_time": "2022-08-25T15:50:16.072Z"
   },
   {
    "duration": 53,
    "start_time": "2022-08-25T15:50:16.170Z"
   },
   {
    "duration": 10,
    "start_time": "2022-08-25T15:50:16.225Z"
   },
   {
    "duration": 36,
    "start_time": "2022-08-25T15:50:16.237Z"
   },
   {
    "duration": 43,
    "start_time": "2022-08-25T15:50:16.275Z"
   },
   {
    "duration": 62,
    "start_time": "2022-08-25T15:50:16.320Z"
   },
   {
    "duration": 12,
    "start_time": "2022-08-25T15:50:16.383Z"
   },
   {
    "duration": 24,
    "start_time": "2022-08-25T15:50:16.396Z"
   },
   {
    "duration": 64,
    "start_time": "2022-08-25T15:50:16.422Z"
   },
   {
    "duration": 4,
    "start_time": "2022-08-25T15:50:16.488Z"
   },
   {
    "duration": 11,
    "start_time": "2022-08-25T15:50:16.494Z"
   },
   {
    "duration": 138,
    "start_time": "2022-08-25T15:50:16.506Z"
   },
   {
    "duration": 28,
    "start_time": "2022-08-25T15:50:16.647Z"
   },
   {
    "duration": 117,
    "start_time": "2022-08-25T15:50:16.677Z"
   },
   {
    "duration": 103,
    "start_time": "2022-08-25T15:50:16.796Z"
   },
   {
    "duration": 90,
    "start_time": "2022-08-25T15:50:16.901Z"
   },
   {
    "duration": 83,
    "start_time": "2022-08-25T15:51:45.168Z"
   },
   {
    "duration": 0,
    "start_time": "2022-08-25T16:07:38.737Z"
   },
   {
    "duration": 0,
    "start_time": "2022-08-25T16:07:38.738Z"
   },
   {
    "duration": 0,
    "start_time": "2022-08-25T16:07:43.023Z"
   },
   {
    "duration": 0,
    "start_time": "2022-08-25T16:07:43.024Z"
   },
   {
    "duration": 0,
    "start_time": "2022-08-25T16:07:43.025Z"
   },
   {
    "duration": 0,
    "start_time": "2022-08-25T16:07:43.026Z"
   },
   {
    "duration": 0,
    "start_time": "2022-08-25T16:07:43.027Z"
   },
   {
    "duration": 0,
    "start_time": "2022-08-25T16:07:43.028Z"
   },
   {
    "duration": 0,
    "start_time": "2022-08-25T16:07:43.029Z"
   },
   {
    "duration": 0,
    "start_time": "2022-08-25T16:07:43.030Z"
   },
   {
    "duration": 0,
    "start_time": "2022-08-25T16:07:43.031Z"
   },
   {
    "duration": 0,
    "start_time": "2022-08-25T16:07:43.032Z"
   },
   {
    "duration": 0,
    "start_time": "2022-08-25T16:07:43.032Z"
   },
   {
    "duration": 0,
    "start_time": "2022-08-25T16:07:43.033Z"
   },
   {
    "duration": 0,
    "start_time": "2022-08-25T16:07:43.034Z"
   },
   {
    "duration": 0,
    "start_time": "2022-08-25T16:07:43.035Z"
   },
   {
    "duration": 0,
    "start_time": "2022-08-25T16:07:43.036Z"
   },
   {
    "duration": 0,
    "start_time": "2022-08-25T16:07:43.037Z"
   },
   {
    "duration": 0,
    "start_time": "2022-08-25T16:07:43.038Z"
   },
   {
    "duration": 0,
    "start_time": "2022-08-25T16:07:43.039Z"
   },
   {
    "duration": 0,
    "start_time": "2022-08-25T16:07:43.040Z"
   },
   {
    "duration": 0,
    "start_time": "2022-08-25T16:07:43.040Z"
   },
   {
    "duration": 0,
    "start_time": "2022-08-25T16:07:43.041Z"
   },
   {
    "duration": 0,
    "start_time": "2022-08-25T16:07:43.042Z"
   },
   {
    "duration": 0,
    "start_time": "2022-08-25T16:07:43.043Z"
   },
   {
    "duration": 0,
    "start_time": "2022-08-25T16:07:43.044Z"
   },
   {
    "duration": 0,
    "start_time": "2022-08-25T16:07:43.045Z"
   },
   {
    "duration": 0,
    "start_time": "2022-08-25T16:07:43.046Z"
   },
   {
    "duration": 0,
    "start_time": "2022-08-25T16:07:43.047Z"
   },
   {
    "duration": 0,
    "start_time": "2022-08-25T16:07:43.047Z"
   },
   {
    "duration": 0,
    "start_time": "2022-08-25T16:07:43.048Z"
   },
   {
    "duration": 0,
    "start_time": "2022-08-25T16:07:43.049Z"
   },
   {
    "duration": 0,
    "start_time": "2022-08-25T16:07:43.050Z"
   },
   {
    "duration": 0,
    "start_time": "2022-08-25T16:07:43.051Z"
   },
   {
    "duration": 0,
    "start_time": "2022-08-25T16:07:43.052Z"
   },
   {
    "duration": 0,
    "start_time": "2022-08-25T16:07:43.053Z"
   },
   {
    "duration": 0,
    "start_time": "2022-08-25T16:07:43.054Z"
   },
   {
    "duration": 0,
    "start_time": "2022-08-25T16:07:43.055Z"
   },
   {
    "duration": 0,
    "start_time": "2022-08-25T16:07:43.055Z"
   },
   {
    "duration": 0,
    "start_time": "2022-08-25T16:07:43.056Z"
   },
   {
    "duration": 0,
    "start_time": "2022-08-25T16:07:43.057Z"
   },
   {
    "duration": 0,
    "start_time": "2022-08-25T16:07:43.058Z"
   },
   {
    "duration": 0,
    "start_time": "2022-08-25T16:07:43.067Z"
   },
   {
    "duration": 0,
    "start_time": "2022-08-25T16:07:43.068Z"
   },
   {
    "duration": 0,
    "start_time": "2022-08-25T16:07:43.069Z"
   },
   {
    "duration": 0,
    "start_time": "2022-08-25T16:07:43.070Z"
   },
   {
    "duration": 0,
    "start_time": "2022-08-25T16:07:43.071Z"
   },
   {
    "duration": 0,
    "start_time": "2022-08-25T16:07:43.072Z"
   },
   {
    "duration": 1,
    "start_time": "2022-08-25T16:07:43.073Z"
   },
   {
    "duration": 0,
    "start_time": "2022-08-25T16:07:43.075Z"
   },
   {
    "duration": 3,
    "start_time": "2022-08-25T16:07:54.025Z"
   },
   {
    "duration": 70,
    "start_time": "2022-08-25T16:08:09.069Z"
   },
   {
    "duration": 1304,
    "start_time": "2022-08-25T16:08:41.833Z"
   },
   {
    "duration": 161,
    "start_time": "2022-08-25T16:08:43.139Z"
   },
   {
    "duration": 11,
    "start_time": "2022-08-25T16:08:43.303Z"
   },
   {
    "duration": 21,
    "start_time": "2022-08-25T16:08:43.316Z"
   },
   {
    "duration": 33,
    "start_time": "2022-08-25T16:08:43.339Z"
   },
   {
    "duration": 67,
    "start_time": "2022-08-25T16:08:43.374Z"
   },
   {
    "duration": 164,
    "start_time": "2022-08-25T16:08:43.442Z"
   },
   {
    "duration": 3,
    "start_time": "2022-08-25T16:08:43.608Z"
   },
   {
    "duration": 17,
    "start_time": "2022-08-25T16:08:43.613Z"
   },
   {
    "duration": 22,
    "start_time": "2022-08-25T16:08:43.633Z"
   },
   {
    "duration": 18,
    "start_time": "2022-08-25T16:08:43.657Z"
   },
   {
    "duration": 58,
    "start_time": "2022-08-25T16:08:43.677Z"
   },
   {
    "duration": 53,
    "start_time": "2022-08-25T16:08:43.737Z"
   },
   {
    "duration": 24,
    "start_time": "2022-08-25T16:08:43.792Z"
   },
   {
    "duration": 53,
    "start_time": "2022-08-25T16:08:43.818Z"
   },
   {
    "duration": 17,
    "start_time": "2022-08-25T16:08:43.873Z"
   },
   {
    "duration": 453,
    "start_time": "2022-08-25T16:08:43.892Z"
   },
   {
    "duration": 33,
    "start_time": "2022-08-25T16:08:44.347Z"
   },
   {
    "duration": 23,
    "start_time": "2022-08-25T16:08:44.382Z"
   },
   {
    "duration": 9,
    "start_time": "2022-08-25T16:08:44.407Z"
   },
   {
    "duration": 51,
    "start_time": "2022-08-25T16:08:44.418Z"
   },
   {
    "duration": 48,
    "start_time": "2022-08-25T16:08:44.470Z"
   },
   {
    "duration": 74,
    "start_time": "2022-08-25T16:08:44.520Z"
   },
   {
    "duration": 18,
    "start_time": "2022-08-25T16:08:44.597Z"
   },
   {
    "duration": 22,
    "start_time": "2022-08-25T16:08:44.617Z"
   },
   {
    "duration": 75,
    "start_time": "2022-08-25T16:08:44.667Z"
   },
   {
    "duration": 99,
    "start_time": "2022-08-25T16:08:44.745Z"
   },
   {
    "duration": 79,
    "start_time": "2022-08-25T16:08:44.849Z"
   },
   {
    "duration": 209,
    "start_time": "2022-08-25T16:08:44.930Z"
   },
   {
    "duration": 37,
    "start_time": "2022-08-25T16:08:45.141Z"
   },
   {
    "duration": 103,
    "start_time": "2022-08-25T16:08:45.180Z"
   },
   {
    "duration": 49,
    "start_time": "2022-08-25T16:08:45.285Z"
   },
   {
    "duration": 10,
    "start_time": "2022-08-25T16:08:45.336Z"
   },
   {
    "duration": 33,
    "start_time": "2022-08-25T16:08:45.348Z"
   },
   {
    "duration": 49,
    "start_time": "2022-08-25T16:08:45.383Z"
   },
   {
    "duration": 70,
    "start_time": "2022-08-25T16:08:45.433Z"
   },
   {
    "duration": 15,
    "start_time": "2022-08-25T16:08:45.505Z"
   },
   {
    "duration": 31,
    "start_time": "2022-08-25T16:08:45.522Z"
   },
   {
    "duration": 58,
    "start_time": "2022-08-25T16:08:45.555Z"
   },
   {
    "duration": 5,
    "start_time": "2022-08-25T16:08:45.615Z"
   },
   {
    "duration": 11,
    "start_time": "2022-08-25T16:08:45.621Z"
   },
   {
    "duration": 140,
    "start_time": "2022-08-25T16:08:45.634Z"
   },
   {
    "duration": 17,
    "start_time": "2022-08-25T16:08:45.776Z"
   },
   {
    "duration": 110,
    "start_time": "2022-08-25T16:08:45.795Z"
   },
   {
    "duration": 95,
    "start_time": "2022-08-25T16:08:45.907Z"
   },
   {
    "duration": 109,
    "start_time": "2022-08-25T16:08:46.004Z"
   },
   {
    "duration": 2,
    "start_time": "2022-08-25T16:08:46.115Z"
   },
   {
    "duration": 4,
    "start_time": "2022-08-25T16:09:02.378Z"
   },
   {
    "duration": 105,
    "start_time": "2022-08-25T16:09:11.078Z"
   },
   {
    "duration": 11,
    "start_time": "2022-08-25T16:09:25.583Z"
   },
   {
    "duration": 4,
    "start_time": "2022-08-25T16:09:26.833Z"
   },
   {
    "duration": 11,
    "start_time": "2022-08-25T16:09:31.224Z"
   },
   {
    "duration": 10,
    "start_time": "2022-08-25T16:09:47.784Z"
   },
   {
    "duration": 1259,
    "start_time": "2022-08-25T16:09:56.282Z"
   },
   {
    "duration": 164,
    "start_time": "2022-08-25T16:09:57.543Z"
   },
   {
    "duration": 12,
    "start_time": "2022-08-25T16:09:57.709Z"
   },
   {
    "duration": 20,
    "start_time": "2022-08-25T16:09:57.723Z"
   },
   {
    "duration": 29,
    "start_time": "2022-08-25T16:09:57.745Z"
   },
   {
    "duration": 68,
    "start_time": "2022-08-25T16:09:57.776Z"
   },
   {
    "duration": 189,
    "start_time": "2022-08-25T16:09:57.845Z"
   },
   {
    "duration": 4,
    "start_time": "2022-08-25T16:09:58.036Z"
   },
   {
    "duration": 56,
    "start_time": "2022-08-25T16:09:58.041Z"
   },
   {
    "duration": 37,
    "start_time": "2022-08-25T16:09:58.101Z"
   },
   {
    "duration": 45,
    "start_time": "2022-08-25T16:09:58.140Z"
   },
   {
    "duration": 64,
    "start_time": "2022-08-25T16:09:58.187Z"
   },
   {
    "duration": 28,
    "start_time": "2022-08-25T16:09:58.253Z"
   },
   {
    "duration": 20,
    "start_time": "2022-08-25T16:09:58.283Z"
   },
   {
    "duration": 30,
    "start_time": "2022-08-25T16:09:58.305Z"
   },
   {
    "duration": 15,
    "start_time": "2022-08-25T16:09:58.337Z"
   },
   {
    "duration": 454,
    "start_time": "2022-08-25T16:09:58.354Z"
   },
   {
    "duration": 31,
    "start_time": "2022-08-25T16:09:58.810Z"
   },
   {
    "duration": 41,
    "start_time": "2022-08-25T16:09:58.843Z"
   },
   {
    "duration": 10,
    "start_time": "2022-08-25T16:09:58.886Z"
   },
   {
    "duration": 28,
    "start_time": "2022-08-25T16:09:58.897Z"
   },
   {
    "duration": 77,
    "start_time": "2022-08-25T16:09:58.927Z"
   },
   {
    "duration": 72,
    "start_time": "2022-08-25T16:09:59.006Z"
   },
   {
    "duration": 19,
    "start_time": "2022-08-25T16:09:59.080Z"
   },
   {
    "duration": 23,
    "start_time": "2022-08-25T16:09:59.101Z"
   },
   {
    "duration": 102,
    "start_time": "2022-08-25T16:09:59.125Z"
   },
   {
    "duration": 97,
    "start_time": "2022-08-25T16:09:59.230Z"
   },
   {
    "duration": 83,
    "start_time": "2022-08-25T16:09:59.332Z"
   },
   {
    "duration": 167,
    "start_time": "2022-08-25T16:09:59.417Z"
   },
   {
    "duration": 33,
    "start_time": "2022-08-25T16:09:59.587Z"
   },
   {
    "duration": 94,
    "start_time": "2022-08-25T16:09:59.622Z"
   },
   {
    "duration": 104,
    "start_time": "2022-08-25T16:09:59.718Z"
   },
   {
    "duration": 10,
    "start_time": "2022-08-25T16:09:59.824Z"
   },
   {
    "duration": 31,
    "start_time": "2022-08-25T16:09:59.836Z"
   },
   {
    "duration": 50,
    "start_time": "2022-08-25T16:09:59.870Z"
   },
   {
    "duration": 65,
    "start_time": "2022-08-25T16:09:59.921Z"
   },
   {
    "duration": 13,
    "start_time": "2022-08-25T16:09:59.988Z"
   },
   {
    "duration": 37,
    "start_time": "2022-08-25T16:10:00.003Z"
   },
   {
    "duration": 63,
    "start_time": "2022-08-25T16:10:00.041Z"
   },
   {
    "duration": 6,
    "start_time": "2022-08-25T16:10:00.106Z"
   },
   {
    "duration": 23,
    "start_time": "2022-08-25T16:10:00.114Z"
   },
   {
    "duration": 125,
    "start_time": "2022-08-25T16:10:00.139Z"
   },
   {
    "duration": 17,
    "start_time": "2022-08-25T16:10:00.268Z"
   },
   {
    "duration": 103,
    "start_time": "2022-08-25T16:10:00.288Z"
   },
   {
    "duration": 98,
    "start_time": "2022-08-25T16:10:00.393Z"
   },
   {
    "duration": 105,
    "start_time": "2022-08-25T16:10:00.493Z"
   },
   {
    "duration": 3,
    "start_time": "2022-08-25T16:10:00.600Z"
   },
   {
    "duration": 20,
    "start_time": "2022-08-25T16:10:00.605Z"
   },
   {
    "duration": 88,
    "start_time": "2022-08-25T18:13:07.615Z"
   },
   {
    "duration": 45,
    "start_time": "2022-08-25T18:13:47.427Z"
   },
   {
    "duration": 9,
    "start_time": "2022-08-25T18:14:05.199Z"
   },
   {
    "duration": 1275,
    "start_time": "2022-08-25T18:14:13.631Z"
   },
   {
    "duration": 647,
    "start_time": "2022-08-25T18:14:14.908Z"
   },
   {
    "duration": 11,
    "start_time": "2022-08-25T18:14:15.556Z"
   },
   {
    "duration": 18,
    "start_time": "2022-08-25T18:14:15.568Z"
   },
   {
    "duration": 11,
    "start_time": "2022-08-25T18:14:15.589Z"
   },
   {
    "duration": 57,
    "start_time": "2022-08-25T18:14:15.602Z"
   },
   {
    "duration": 124,
    "start_time": "2022-08-25T18:14:15.661Z"
   },
   {
    "duration": 4,
    "start_time": "2022-08-25T18:14:15.786Z"
   },
   {
    "duration": 18,
    "start_time": "2022-08-25T18:14:15.791Z"
   },
   {
    "duration": 15,
    "start_time": "2022-08-25T18:14:15.810Z"
   },
   {
    "duration": 8,
    "start_time": "2022-08-25T18:14:15.827Z"
   },
   {
    "duration": 14,
    "start_time": "2022-08-25T18:14:15.837Z"
   },
   {
    "duration": 25,
    "start_time": "2022-08-25T18:14:15.852Z"
   },
   {
    "duration": 12,
    "start_time": "2022-08-25T18:14:15.880Z"
   },
   {
    "duration": 24,
    "start_time": "2022-08-25T18:14:15.893Z"
   },
   {
    "duration": 5,
    "start_time": "2022-08-25T18:14:15.918Z"
   },
   {
    "duration": 395,
    "start_time": "2022-08-25T18:14:15.924Z"
   },
   {
    "duration": 21,
    "start_time": "2022-08-25T18:14:16.321Z"
   },
   {
    "duration": 19,
    "start_time": "2022-08-25T18:14:16.344Z"
   },
   {
    "duration": 8,
    "start_time": "2022-08-25T18:14:16.364Z"
   },
   {
    "duration": 43,
    "start_time": "2022-08-25T18:14:16.374Z"
   },
   {
    "duration": 38,
    "start_time": "2022-08-25T18:14:16.419Z"
   },
   {
    "duration": 72,
    "start_time": "2022-08-25T18:14:16.459Z"
   },
   {
    "duration": 19,
    "start_time": "2022-08-25T18:14:16.533Z"
   },
   {
    "duration": 20,
    "start_time": "2022-08-25T18:14:16.554Z"
   },
   {
    "duration": 85,
    "start_time": "2022-08-25T18:14:16.576Z"
   },
   {
    "duration": 79,
    "start_time": "2022-08-25T18:14:16.663Z"
   },
   {
    "duration": 63,
    "start_time": "2022-08-25T18:14:16.744Z"
   },
   {
    "duration": 135,
    "start_time": "2022-08-25T18:14:16.808Z"
   },
   {
    "duration": 23,
    "start_time": "2022-08-25T18:14:16.946Z"
   },
   {
    "duration": 69,
    "start_time": "2022-08-25T18:14:16.970Z"
   },
   {
    "duration": 85,
    "start_time": "2022-08-25T18:14:17.041Z"
   },
   {
    "duration": 8,
    "start_time": "2022-08-25T18:14:17.128Z"
   },
   {
    "duration": 18,
    "start_time": "2022-08-25T18:14:17.138Z"
   },
   {
    "duration": 57,
    "start_time": "2022-08-25T18:14:17.158Z"
   },
   {
    "duration": 43,
    "start_time": "2022-08-25T18:14:17.218Z"
   },
   {
    "duration": 10,
    "start_time": "2022-08-25T18:14:17.263Z"
   },
   {
    "duration": 31,
    "start_time": "2022-08-25T18:14:17.275Z"
   },
   {
    "duration": 42,
    "start_time": "2022-08-25T18:14:17.307Z"
   },
   {
    "duration": 4,
    "start_time": "2022-08-25T18:14:17.351Z"
   },
   {
    "duration": 8,
    "start_time": "2022-08-25T18:14:17.358Z"
   },
   {
    "duration": 106,
    "start_time": "2022-08-25T18:14:17.367Z"
   },
   {
    "duration": 15,
    "start_time": "2022-08-25T18:14:17.475Z"
   },
   {
    "duration": 85,
    "start_time": "2022-08-25T18:14:17.491Z"
   },
   {
    "duration": 87,
    "start_time": "2022-08-25T18:14:17.578Z"
   },
   {
    "duration": 171,
    "start_time": "2022-08-25T18:14:17.666Z"
   },
   {
    "duration": 0,
    "start_time": "2022-08-25T18:14:17.839Z"
   },
   {
    "duration": 0,
    "start_time": "2022-08-25T18:14:17.841Z"
   },
   {
    "duration": 0,
    "start_time": "2022-08-25T18:14:17.842Z"
   },
   {
    "duration": 1208,
    "start_time": "2022-08-25T18:14:46.573Z"
   },
   {
    "duration": 154,
    "start_time": "2022-08-25T18:14:47.784Z"
   },
   {
    "duration": 11,
    "start_time": "2022-08-25T18:14:47.940Z"
   },
   {
    "duration": 20,
    "start_time": "2022-08-25T18:14:47.953Z"
   },
   {
    "duration": 13,
    "start_time": "2022-08-25T18:14:47.974Z"
   },
   {
    "duration": 74,
    "start_time": "2022-08-25T18:14:47.988Z"
   },
   {
    "duration": 190,
    "start_time": "2022-08-25T18:14:48.064Z"
   },
   {
    "duration": 3,
    "start_time": "2022-08-25T18:14:48.256Z"
   },
   {
    "duration": 12,
    "start_time": "2022-08-25T18:14:48.260Z"
   },
   {
    "duration": 13,
    "start_time": "2022-08-25T18:14:48.274Z"
   },
   {
    "duration": 8,
    "start_time": "2022-08-25T18:14:48.289Z"
   },
   {
    "duration": 12,
    "start_time": "2022-08-25T18:14:48.298Z"
   },
   {
    "duration": 18,
    "start_time": "2022-08-25T18:14:48.311Z"
   },
   {
    "duration": 8,
    "start_time": "2022-08-25T18:14:48.332Z"
   },
   {
    "duration": 13,
    "start_time": "2022-08-25T18:14:48.341Z"
   },
   {
    "duration": 4,
    "start_time": "2022-08-25T18:14:48.355Z"
   },
   {
    "duration": 368,
    "start_time": "2022-08-25T18:14:48.361Z"
   },
   {
    "duration": 76,
    "start_time": "2022-08-25T18:14:48.730Z"
   },
   {
    "duration": 21,
    "start_time": "2022-08-25T18:14:48.807Z"
   },
   {
    "duration": 8,
    "start_time": "2022-08-25T18:14:48.829Z"
   },
   {
    "duration": 89,
    "start_time": "2022-08-25T18:14:48.838Z"
   },
   {
    "duration": 108,
    "start_time": "2022-08-25T18:14:48.929Z"
   },
   {
    "duration": 71,
    "start_time": "2022-08-25T18:14:49.039Z"
   },
   {
    "duration": 14,
    "start_time": "2022-08-25T18:14:49.111Z"
   },
   {
    "duration": 18,
    "start_time": "2022-08-25T18:14:49.126Z"
   },
   {
    "duration": 68,
    "start_time": "2022-08-25T18:14:49.145Z"
   },
   {
    "duration": 122,
    "start_time": "2022-08-25T18:14:49.215Z"
   },
   {
    "duration": 127,
    "start_time": "2022-08-25T18:14:49.339Z"
   },
   {
    "duration": 171,
    "start_time": "2022-08-25T18:14:49.468Z"
   },
   {
    "duration": 22,
    "start_time": "2022-08-25T18:14:49.641Z"
   },
   {
    "duration": 73,
    "start_time": "2022-08-25T18:14:49.665Z"
   },
   {
    "duration": 72,
    "start_time": "2022-08-25T18:14:49.739Z"
   },
   {
    "duration": 9,
    "start_time": "2022-08-25T18:14:49.812Z"
   },
   {
    "duration": 22,
    "start_time": "2022-08-25T18:14:49.822Z"
   },
   {
    "duration": 40,
    "start_time": "2022-08-25T18:14:49.846Z"
   },
   {
    "duration": 55,
    "start_time": "2022-08-25T18:14:49.888Z"
   },
   {
    "duration": 10,
    "start_time": "2022-08-25T18:14:49.945Z"
   },
   {
    "duration": 25,
    "start_time": "2022-08-25T18:14:49.957Z"
   },
   {
    "duration": 55,
    "start_time": "2022-08-25T18:14:49.984Z"
   },
   {
    "duration": 5,
    "start_time": "2022-08-25T18:14:50.040Z"
   },
   {
    "duration": 9,
    "start_time": "2022-08-25T18:14:50.048Z"
   },
   {
    "duration": 97,
    "start_time": "2022-08-25T18:14:50.058Z"
   },
   {
    "duration": 12,
    "start_time": "2022-08-25T18:14:50.157Z"
   },
   {
    "duration": 87,
    "start_time": "2022-08-25T18:14:50.171Z"
   },
   {
    "duration": 76,
    "start_time": "2022-08-25T18:14:50.260Z"
   },
   {
    "duration": 3,
    "start_time": "2022-08-25T18:14:50.337Z"
   },
   {
    "duration": 19,
    "start_time": "2022-08-25T18:14:50.341Z"
   },
   {
    "duration": 111,
    "start_time": "2022-08-25T18:14:50.362Z"
   },
   {
    "duration": 13,
    "start_time": "2022-08-25T18:16:18.223Z"
   },
   {
    "duration": 1233,
    "start_time": "2022-08-25T18:16:24.588Z"
   },
   {
    "duration": 156,
    "start_time": "2022-08-25T18:16:25.823Z"
   },
   {
    "duration": 14,
    "start_time": "2022-08-25T18:16:25.981Z"
   },
   {
    "duration": 32,
    "start_time": "2022-08-25T18:16:26.006Z"
   },
   {
    "duration": 15,
    "start_time": "2022-08-25T18:16:26.041Z"
   },
   {
    "duration": 88,
    "start_time": "2022-08-25T18:16:26.058Z"
   },
   {
    "duration": 144,
    "start_time": "2022-08-25T18:16:26.148Z"
   },
   {
    "duration": 14,
    "start_time": "2022-08-25T18:16:26.293Z"
   },
   {
    "duration": 16,
    "start_time": "2022-08-25T18:16:26.308Z"
   },
   {
    "duration": 18,
    "start_time": "2022-08-25T18:16:26.328Z"
   },
   {
    "duration": 8,
    "start_time": "2022-08-25T18:16:26.348Z"
   },
   {
    "duration": 12,
    "start_time": "2022-08-25T18:16:26.358Z"
   },
   {
    "duration": 44,
    "start_time": "2022-08-25T18:16:26.372Z"
   },
   {
    "duration": 9,
    "start_time": "2022-08-25T18:16:26.419Z"
   },
   {
    "duration": 15,
    "start_time": "2022-08-25T18:16:26.429Z"
   },
   {
    "duration": 5,
    "start_time": "2022-08-25T18:16:26.445Z"
   },
   {
    "duration": 476,
    "start_time": "2022-08-25T18:16:26.452Z"
   },
   {
    "duration": 24,
    "start_time": "2022-08-25T18:16:26.929Z"
   },
   {
    "duration": 21,
    "start_time": "2022-08-25T18:16:26.955Z"
   },
   {
    "duration": 29,
    "start_time": "2022-08-25T18:16:26.978Z"
   },
   {
    "duration": 24,
    "start_time": "2022-08-25T18:16:27.008Z"
   },
   {
    "duration": 47,
    "start_time": "2022-08-25T18:16:27.033Z"
   },
   {
    "duration": 54,
    "start_time": "2022-08-25T18:16:27.105Z"
   },
   {
    "duration": 16,
    "start_time": "2022-08-25T18:16:27.160Z"
   },
   {
    "duration": 42,
    "start_time": "2022-08-25T18:16:27.178Z"
   },
   {
    "duration": 79,
    "start_time": "2022-08-25T18:16:27.222Z"
   },
   {
    "duration": 85,
    "start_time": "2022-08-25T18:16:27.303Z"
   },
   {
    "duration": 76,
    "start_time": "2022-08-25T18:16:27.391Z"
   },
   {
    "duration": 164,
    "start_time": "2022-08-25T18:16:27.468Z"
   },
   {
    "duration": 26,
    "start_time": "2022-08-25T18:16:27.634Z"
   },
   {
    "duration": 147,
    "start_time": "2022-08-25T18:16:27.661Z"
   },
   {
    "duration": 50,
    "start_time": "2022-08-25T18:16:27.810Z"
   },
   {
    "duration": 11,
    "start_time": "2022-08-25T18:16:27.862Z"
   },
   {
    "duration": 49,
    "start_time": "2022-08-25T18:16:27.875Z"
   },
   {
    "duration": 56,
    "start_time": "2022-08-25T18:16:27.926Z"
   },
   {
    "duration": 47,
    "start_time": "2022-08-25T18:16:27.984Z"
   },
   {
    "duration": 15,
    "start_time": "2022-08-25T18:16:28.033Z"
   },
   {
    "duration": 42,
    "start_time": "2022-08-25T18:16:28.050Z"
   },
   {
    "duration": 48,
    "start_time": "2022-08-25T18:16:28.093Z"
   },
   {
    "duration": 4,
    "start_time": "2022-08-25T18:16:28.143Z"
   },
   {
    "duration": 14,
    "start_time": "2022-08-25T18:16:28.148Z"
   },
   {
    "duration": 132,
    "start_time": "2022-08-25T18:16:28.164Z"
   },
   {
    "duration": 22,
    "start_time": "2022-08-25T18:16:28.298Z"
   },
   {
    "duration": 98,
    "start_time": "2022-08-25T18:16:28.322Z"
   },
   {
    "duration": 85,
    "start_time": "2022-08-25T18:16:28.421Z"
   },
   {
    "duration": 3,
    "start_time": "2022-08-25T18:16:28.507Z"
   },
   {
    "duration": 43,
    "start_time": "2022-08-25T18:16:28.512Z"
   },
   {
    "duration": 112,
    "start_time": "2022-08-25T18:16:28.557Z"
   },
   {
    "duration": 12,
    "start_time": "2022-08-25T18:17:03.065Z"
   },
   {
    "duration": 12,
    "start_time": "2022-08-25T18:17:09.549Z"
   },
   {
    "duration": 8,
    "start_time": "2022-08-25T18:18:39.527Z"
   },
   {
    "duration": 9,
    "start_time": "2022-08-25T18:18:48.890Z"
   },
   {
    "duration": 13,
    "start_time": "2022-08-25T18:19:03.147Z"
   },
   {
    "duration": 1202,
    "start_time": "2022-08-25T18:19:28.585Z"
   },
   {
    "duration": 152,
    "start_time": "2022-08-25T18:19:29.789Z"
   },
   {
    "duration": 11,
    "start_time": "2022-08-25T18:19:29.942Z"
   },
   {
    "duration": 20,
    "start_time": "2022-08-25T18:19:29.955Z"
   },
   {
    "duration": 13,
    "start_time": "2022-08-25T18:19:29.977Z"
   },
   {
    "duration": 64,
    "start_time": "2022-08-25T18:19:30.006Z"
   },
   {
    "duration": 125,
    "start_time": "2022-08-25T18:19:30.071Z"
   },
   {
    "duration": 9,
    "start_time": "2022-08-25T18:19:30.198Z"
   },
   {
    "duration": 28,
    "start_time": "2022-08-25T18:19:30.209Z"
   },
   {
    "duration": 24,
    "start_time": "2022-08-25T18:19:30.239Z"
   },
   {
    "duration": 52,
    "start_time": "2022-08-25T18:19:30.264Z"
   },
   {
    "duration": 16,
    "start_time": "2022-08-25T18:19:30.318Z"
   },
   {
    "duration": 32,
    "start_time": "2022-08-25T18:19:30.336Z"
   },
   {
    "duration": 20,
    "start_time": "2022-08-25T18:19:30.370Z"
   },
   {
    "duration": 32,
    "start_time": "2022-08-25T18:19:30.391Z"
   },
   {
    "duration": 19,
    "start_time": "2022-08-25T18:19:30.425Z"
   },
   {
    "duration": 362,
    "start_time": "2022-08-25T18:19:30.446Z"
   },
   {
    "duration": 21,
    "start_time": "2022-08-25T18:19:30.810Z"
   },
   {
    "duration": 19,
    "start_time": "2022-08-25T18:19:30.833Z"
   },
   {
    "duration": 8,
    "start_time": "2022-08-25T18:19:30.853Z"
   },
   {
    "duration": 45,
    "start_time": "2022-08-25T18:19:30.863Z"
   },
   {
    "duration": 40,
    "start_time": "2022-08-25T18:19:30.910Z"
   },
   {
    "duration": 62,
    "start_time": "2022-08-25T18:19:30.952Z"
   },
   {
    "duration": 15,
    "start_time": "2022-08-25T18:19:31.016Z"
   },
   {
    "duration": 37,
    "start_time": "2022-08-25T18:19:31.032Z"
   },
   {
    "duration": 78,
    "start_time": "2022-08-25T18:19:31.071Z"
   },
   {
    "duration": 79,
    "start_time": "2022-08-25T18:19:31.151Z"
   },
   {
    "duration": 56,
    "start_time": "2022-08-25T18:19:31.234Z"
   },
   {
    "duration": 124,
    "start_time": "2022-08-25T18:19:31.306Z"
   },
   {
    "duration": 29,
    "start_time": "2022-08-25T18:19:31.433Z"
   },
   {
    "duration": 82,
    "start_time": "2022-08-25T18:19:31.464Z"
   },
   {
    "duration": 83,
    "start_time": "2022-08-25T18:19:31.548Z"
   },
   {
    "duration": 8,
    "start_time": "2022-08-25T18:19:31.633Z"
   },
   {
    "duration": 39,
    "start_time": "2022-08-25T18:19:31.643Z"
   },
   {
    "duration": 60,
    "start_time": "2022-08-25T18:19:31.684Z"
   },
   {
    "duration": 38,
    "start_time": "2022-08-25T18:19:31.746Z"
   },
   {
    "duration": 21,
    "start_time": "2022-08-25T18:19:31.786Z"
   },
   {
    "duration": 17,
    "start_time": "2022-08-25T18:19:31.809Z"
   },
   {
    "duration": 52,
    "start_time": "2022-08-25T18:19:31.827Z"
   },
   {
    "duration": 3,
    "start_time": "2022-08-25T18:19:31.881Z"
   },
   {
    "duration": 27,
    "start_time": "2022-08-25T18:19:31.885Z"
   },
   {
    "duration": 109,
    "start_time": "2022-08-25T18:19:31.914Z"
   },
   {
    "duration": 15,
    "start_time": "2022-08-25T18:19:32.025Z"
   },
   {
    "duration": 89,
    "start_time": "2022-08-25T18:19:32.046Z"
   },
   {
    "duration": 87,
    "start_time": "2022-08-25T18:19:32.137Z"
   },
   {
    "duration": 5,
    "start_time": "2022-08-25T18:19:32.226Z"
   },
   {
    "duration": 136,
    "start_time": "2022-08-25T18:19:32.232Z"
   },
   {
    "duration": 6,
    "start_time": "2022-08-25T18:20:19.265Z"
   },
   {
    "duration": 1205,
    "start_time": "2022-08-25T18:20:26.502Z"
   },
   {
    "duration": 152,
    "start_time": "2022-08-25T18:20:27.709Z"
   },
   {
    "duration": 13,
    "start_time": "2022-08-25T18:20:27.863Z"
   },
   {
    "duration": 37,
    "start_time": "2022-08-25T18:20:27.878Z"
   },
   {
    "duration": 14,
    "start_time": "2022-08-25T18:20:27.917Z"
   },
   {
    "duration": 79,
    "start_time": "2022-08-25T18:20:27.932Z"
   },
   {
    "duration": 146,
    "start_time": "2022-08-25T18:20:28.012Z"
   },
   {
    "duration": 3,
    "start_time": "2022-08-25T18:20:28.160Z"
   },
   {
    "duration": 11,
    "start_time": "2022-08-25T18:20:28.165Z"
   },
   {
    "duration": 32,
    "start_time": "2022-08-25T18:20:28.177Z"
   },
   {
    "duration": 11,
    "start_time": "2022-08-25T18:20:28.210Z"
   },
   {
    "duration": 20,
    "start_time": "2022-08-25T18:20:28.223Z"
   },
   {
    "duration": 22,
    "start_time": "2022-08-25T18:20:28.245Z"
   },
   {
    "duration": 11,
    "start_time": "2022-08-25T18:20:28.269Z"
   },
   {
    "duration": 30,
    "start_time": "2022-08-25T18:20:28.281Z"
   },
   {
    "duration": 6,
    "start_time": "2022-08-25T18:20:28.313Z"
   },
   {
    "duration": 402,
    "start_time": "2022-08-25T18:20:28.320Z"
   },
   {
    "duration": 22,
    "start_time": "2022-08-25T18:20:28.723Z"
   },
   {
    "duration": 19,
    "start_time": "2022-08-25T18:20:28.747Z"
   },
   {
    "duration": 9,
    "start_time": "2022-08-25T18:20:28.767Z"
   },
   {
    "duration": 42,
    "start_time": "2022-08-25T18:20:28.777Z"
   },
   {
    "duration": 41,
    "start_time": "2022-08-25T18:20:28.821Z"
   },
   {
    "duration": 69,
    "start_time": "2022-08-25T18:20:28.864Z"
   },
   {
    "duration": 15,
    "start_time": "2022-08-25T18:20:28.935Z"
   },
   {
    "duration": 18,
    "start_time": "2022-08-25T18:20:28.951Z"
   },
   {
    "duration": 82,
    "start_time": "2022-08-25T18:20:28.970Z"
   },
   {
    "duration": 84,
    "start_time": "2022-08-25T18:20:29.054Z"
   },
   {
    "duration": 55,
    "start_time": "2022-08-25T18:20:29.140Z"
   },
   {
    "duration": 171,
    "start_time": "2022-08-25T18:20:29.205Z"
   },
   {
    "duration": 36,
    "start_time": "2022-08-25T18:20:29.377Z"
   },
   {
    "duration": 44,
    "start_time": "2022-08-25T18:20:29.415Z"
   },
   {
    "duration": 90,
    "start_time": "2022-08-25T18:20:29.461Z"
   },
   {
    "duration": 9,
    "start_time": "2022-08-25T18:20:29.552Z"
   },
   {
    "duration": 19,
    "start_time": "2022-08-25T18:20:29.563Z"
   },
   {
    "duration": 58,
    "start_time": "2022-08-25T18:20:29.584Z"
   },
   {
    "duration": 45,
    "start_time": "2022-08-25T18:20:29.644Z"
   },
   {
    "duration": 28,
    "start_time": "2022-08-25T18:20:29.691Z"
   },
   {
    "duration": 22,
    "start_time": "2022-08-25T18:20:29.721Z"
   },
   {
    "duration": 71,
    "start_time": "2022-08-25T18:20:29.745Z"
   },
   {
    "duration": 6,
    "start_time": "2022-08-25T18:20:29.817Z"
   },
   {
    "duration": 11,
    "start_time": "2022-08-25T18:20:29.827Z"
   },
   {
    "duration": 121,
    "start_time": "2022-08-25T18:20:29.840Z"
   },
   {
    "duration": 16,
    "start_time": "2022-08-25T18:20:29.962Z"
   },
   {
    "duration": 101,
    "start_time": "2022-08-25T18:20:29.980Z"
   },
   {
    "duration": 84,
    "start_time": "2022-08-25T18:20:30.083Z"
   },
   {
    "duration": 5,
    "start_time": "2022-08-25T18:20:30.168Z"
   },
   {
    "duration": 142,
    "start_time": "2022-08-25T18:20:30.175Z"
   },
   {
    "duration": 1132,
    "start_time": "2022-08-25T18:21:40.349Z"
   },
   {
    "duration": 151,
    "start_time": "2022-08-25T18:21:41.483Z"
   },
   {
    "duration": 11,
    "start_time": "2022-08-25T18:21:41.636Z"
   },
   {
    "duration": 17,
    "start_time": "2022-08-25T18:21:41.649Z"
   },
   {
    "duration": 12,
    "start_time": "2022-08-25T18:21:41.668Z"
   },
   {
    "duration": 76,
    "start_time": "2022-08-25T18:21:41.682Z"
   },
   {
    "duration": 134,
    "start_time": "2022-08-25T18:21:41.760Z"
   },
   {
    "duration": 10,
    "start_time": "2022-08-25T18:21:41.896Z"
   },
   {
    "duration": 8,
    "start_time": "2022-08-25T18:21:41.907Z"
   },
   {
    "duration": 14,
    "start_time": "2022-08-25T18:21:41.917Z"
   },
   {
    "duration": 8,
    "start_time": "2022-08-25T18:21:41.933Z"
   },
   {
    "duration": 17,
    "start_time": "2022-08-25T18:21:41.943Z"
   },
   {
    "duration": 23,
    "start_time": "2022-08-25T18:21:41.961Z"
   },
   {
    "duration": 8,
    "start_time": "2022-08-25T18:21:42.006Z"
   },
   {
    "duration": 13,
    "start_time": "2022-08-25T18:21:42.015Z"
   },
   {
    "duration": 6,
    "start_time": "2022-08-25T18:21:42.030Z"
   },
   {
    "duration": 408,
    "start_time": "2022-08-25T18:21:42.038Z"
   },
   {
    "duration": 23,
    "start_time": "2022-08-25T18:21:42.448Z"
   },
   {
    "duration": 19,
    "start_time": "2022-08-25T18:21:42.472Z"
   },
   {
    "duration": 8,
    "start_time": "2022-08-25T18:21:42.506Z"
   },
   {
    "duration": 27,
    "start_time": "2022-08-25T18:21:42.516Z"
   },
   {
    "duration": 42,
    "start_time": "2022-08-25T18:21:42.545Z"
   },
   {
    "duration": 72,
    "start_time": "2022-08-25T18:21:42.589Z"
   },
   {
    "duration": 15,
    "start_time": "2022-08-25T18:21:42.663Z"
   },
   {
    "duration": 34,
    "start_time": "2022-08-25T18:21:42.679Z"
   },
   {
    "duration": 73,
    "start_time": "2022-08-25T18:21:42.715Z"
   },
   {
    "duration": 94,
    "start_time": "2022-08-25T18:21:42.790Z"
   },
   {
    "duration": 70,
    "start_time": "2022-08-25T18:21:42.888Z"
   },
   {
    "duration": 140,
    "start_time": "2022-08-25T18:21:42.960Z"
   },
   {
    "duration": 24,
    "start_time": "2022-08-25T18:21:43.102Z"
   },
   {
    "duration": 99,
    "start_time": "2022-08-25T18:21:43.128Z"
   },
   {
    "duration": 47,
    "start_time": "2022-08-25T18:21:43.228Z"
   },
   {
    "duration": 29,
    "start_time": "2022-08-25T18:21:43.276Z"
   },
   {
    "duration": 13,
    "start_time": "2022-08-25T18:21:43.307Z"
   },
   {
    "duration": 39,
    "start_time": "2022-08-25T18:21:43.322Z"
   },
   {
    "duration": 66,
    "start_time": "2022-08-25T18:21:43.363Z"
   },
   {
    "duration": 11,
    "start_time": "2022-08-25T18:21:43.431Z"
   },
   {
    "duration": 21,
    "start_time": "2022-08-25T18:21:43.443Z"
   },
   {
    "duration": 56,
    "start_time": "2022-08-25T18:21:43.466Z"
   },
   {
    "duration": 5,
    "start_time": "2022-08-25T18:21:43.524Z"
   },
   {
    "duration": 18,
    "start_time": "2022-08-25T18:21:43.530Z"
   },
   {
    "duration": 127,
    "start_time": "2022-08-25T18:21:43.550Z"
   },
   {
    "duration": 14,
    "start_time": "2022-08-25T18:21:43.678Z"
   },
   {
    "duration": 79,
    "start_time": "2022-08-25T18:21:43.705Z"
   },
   {
    "duration": 87,
    "start_time": "2022-08-25T18:21:43.786Z"
   },
   {
    "duration": 5,
    "start_time": "2022-08-25T18:21:43.875Z"
   },
   {
    "duration": 0,
    "start_time": "2022-08-25T18:21:43.882Z"
   },
   {
    "duration": 5,
    "start_time": "2022-08-25T18:21:58.488Z"
   },
   {
    "duration": 138,
    "start_time": "2022-08-25T18:22:00.796Z"
   },
   {
    "duration": 1117,
    "start_time": "2022-08-25T18:25:40.929Z"
   },
   {
    "duration": 137,
    "start_time": "2022-08-25T18:25:42.049Z"
   },
   {
    "duration": 10,
    "start_time": "2022-08-25T18:25:42.188Z"
   },
   {
    "duration": 21,
    "start_time": "2022-08-25T18:25:42.200Z"
   },
   {
    "duration": 11,
    "start_time": "2022-08-25T18:25:42.222Z"
   },
   {
    "duration": 71,
    "start_time": "2022-08-25T18:25:42.235Z"
   },
   {
    "duration": 119,
    "start_time": "2022-08-25T18:25:42.308Z"
   },
   {
    "duration": 3,
    "start_time": "2022-08-25T18:25:42.429Z"
   },
   {
    "duration": 25,
    "start_time": "2022-08-25T18:25:42.433Z"
   },
   {
    "duration": 25,
    "start_time": "2022-08-25T18:25:42.461Z"
   },
   {
    "duration": 13,
    "start_time": "2022-08-25T18:25:42.488Z"
   },
   {
    "duration": 21,
    "start_time": "2022-08-25T18:25:42.503Z"
   },
   {
    "duration": 37,
    "start_time": "2022-08-25T18:25:42.526Z"
   },
   {
    "duration": 30,
    "start_time": "2022-08-25T18:25:42.564Z"
   },
   {
    "duration": 18,
    "start_time": "2022-08-25T18:25:42.595Z"
   },
   {
    "duration": 14,
    "start_time": "2022-08-25T18:25:42.615Z"
   },
   {
    "duration": 362,
    "start_time": "2022-08-25T18:25:42.630Z"
   },
   {
    "duration": 29,
    "start_time": "2022-08-25T18:25:42.995Z"
   },
   {
    "duration": 20,
    "start_time": "2022-08-25T18:25:43.026Z"
   },
   {
    "duration": 8,
    "start_time": "2022-08-25T18:25:43.048Z"
   },
   {
    "duration": 23,
    "start_time": "2022-08-25T18:25:43.058Z"
   },
   {
    "duration": 61,
    "start_time": "2022-08-25T18:25:43.083Z"
   },
   {
    "duration": 61,
    "start_time": "2022-08-25T18:25:43.145Z"
   },
   {
    "duration": 15,
    "start_time": "2022-08-25T18:25:43.208Z"
   },
   {
    "duration": 21,
    "start_time": "2022-08-25T18:25:43.224Z"
   },
   {
    "duration": 79,
    "start_time": "2022-08-25T18:25:43.247Z"
   },
   {
    "duration": 86,
    "start_time": "2022-08-25T18:25:43.328Z"
   },
   {
    "duration": 57,
    "start_time": "2022-08-25T18:25:43.417Z"
   },
   {
    "duration": 160,
    "start_time": "2022-08-25T18:25:43.475Z"
   },
   {
    "duration": 24,
    "start_time": "2022-08-25T18:25:43.637Z"
   },
   {
    "duration": 73,
    "start_time": "2022-08-25T18:25:43.662Z"
   },
   {
    "duration": 69,
    "start_time": "2022-08-25T18:25:43.737Z"
   },
   {
    "duration": 9,
    "start_time": "2022-08-25T18:25:43.808Z"
   },
   {
    "duration": 15,
    "start_time": "2022-08-25T18:25:43.818Z"
   },
   {
    "duration": 44,
    "start_time": "2022-08-25T18:25:43.835Z"
   },
   {
    "duration": 54,
    "start_time": "2022-08-25T18:25:43.881Z"
   },
   {
    "duration": 12,
    "start_time": "2022-08-25T18:25:43.937Z"
   },
   {
    "duration": 20,
    "start_time": "2022-08-25T18:25:43.950Z"
   },
   {
    "duration": 54,
    "start_time": "2022-08-25T18:25:43.971Z"
   },
   {
    "duration": 4,
    "start_time": "2022-08-25T18:25:44.027Z"
   },
   {
    "duration": 9,
    "start_time": "2022-08-25T18:25:44.033Z"
   },
   {
    "duration": 108,
    "start_time": "2022-08-25T18:25:44.044Z"
   },
   {
    "duration": 13,
    "start_time": "2022-08-25T18:25:44.154Z"
   },
   {
    "duration": 85,
    "start_time": "2022-08-25T18:25:44.169Z"
   },
   {
    "duration": 81,
    "start_time": "2022-08-25T18:25:44.255Z"
   },
   {
    "duration": 5,
    "start_time": "2022-08-25T18:25:44.338Z"
   },
   {
    "duration": 138,
    "start_time": "2022-08-25T18:25:44.345Z"
   },
   {
    "duration": 1141,
    "start_time": "2022-08-25T18:26:23.940Z"
   },
   {
    "duration": 150,
    "start_time": "2022-08-25T18:26:25.084Z"
   },
   {
    "duration": 11,
    "start_time": "2022-08-25T18:26:25.236Z"
   },
   {
    "duration": 19,
    "start_time": "2022-08-25T18:26:25.248Z"
   },
   {
    "duration": 14,
    "start_time": "2022-08-25T18:26:25.269Z"
   },
   {
    "duration": 62,
    "start_time": "2022-08-25T18:26:25.306Z"
   },
   {
    "duration": 142,
    "start_time": "2022-08-25T18:26:25.369Z"
   },
   {
    "duration": 4,
    "start_time": "2022-08-25T18:26:25.512Z"
   },
   {
    "duration": 10,
    "start_time": "2022-08-25T18:26:25.517Z"
   },
   {
    "duration": 15,
    "start_time": "2022-08-25T18:26:25.529Z"
   },
   {
    "duration": 8,
    "start_time": "2022-08-25T18:26:25.546Z"
   },
   {
    "duration": 12,
    "start_time": "2022-08-25T18:26:25.556Z"
   },
   {
    "duration": 39,
    "start_time": "2022-08-25T18:26:25.570Z"
   },
   {
    "duration": 8,
    "start_time": "2022-08-25T18:26:25.612Z"
   },
   {
    "duration": 15,
    "start_time": "2022-08-25T18:26:25.621Z"
   },
   {
    "duration": 7,
    "start_time": "2022-08-25T18:26:25.637Z"
   },
   {
    "duration": 417,
    "start_time": "2022-08-25T18:26:25.646Z"
   },
   {
    "duration": 28,
    "start_time": "2022-08-25T18:26:26.065Z"
   },
   {
    "duration": 24,
    "start_time": "2022-08-25T18:26:26.105Z"
   },
   {
    "duration": 13,
    "start_time": "2022-08-25T18:26:26.131Z"
   },
   {
    "duration": 28,
    "start_time": "2022-08-25T18:26:26.146Z"
   },
   {
    "duration": 64,
    "start_time": "2022-08-25T18:26:26.176Z"
   },
   {
    "duration": 70,
    "start_time": "2022-08-25T18:26:26.242Z"
   },
   {
    "duration": 17,
    "start_time": "2022-08-25T18:26:26.313Z"
   },
   {
    "duration": 20,
    "start_time": "2022-08-25T18:26:26.332Z"
   },
   {
    "duration": 81,
    "start_time": "2022-08-25T18:26:26.353Z"
   },
   {
    "duration": 89,
    "start_time": "2022-08-25T18:26:26.436Z"
   },
   {
    "duration": 60,
    "start_time": "2022-08-25T18:26:26.527Z"
   },
   {
    "duration": 147,
    "start_time": "2022-08-25T18:26:26.589Z"
   },
   {
    "duration": 25,
    "start_time": "2022-08-25T18:26:26.738Z"
   },
   {
    "duration": 76,
    "start_time": "2022-08-25T18:26:26.764Z"
   },
   {
    "duration": 84,
    "start_time": "2022-08-25T18:26:26.842Z"
   },
   {
    "duration": 9,
    "start_time": "2022-08-25T18:26:26.927Z"
   },
   {
    "duration": 16,
    "start_time": "2022-08-25T18:26:26.938Z"
   },
   {
    "duration": 58,
    "start_time": "2022-08-25T18:26:26.956Z"
   },
   {
    "duration": 43,
    "start_time": "2022-08-25T18:26:27.017Z"
   },
   {
    "duration": 11,
    "start_time": "2022-08-25T18:26:27.062Z"
   },
   {
    "duration": 36,
    "start_time": "2022-08-25T18:26:27.074Z"
   },
   {
    "duration": 51,
    "start_time": "2022-08-25T18:26:27.112Z"
   },
   {
    "duration": 4,
    "start_time": "2022-08-25T18:26:27.165Z"
   },
   {
    "duration": 14,
    "start_time": "2022-08-25T18:26:27.172Z"
   },
   {
    "duration": 123,
    "start_time": "2022-08-25T18:26:27.188Z"
   },
   {
    "duration": 14,
    "start_time": "2022-08-25T18:26:27.313Z"
   },
   {
    "duration": 97,
    "start_time": "2022-08-25T18:26:27.329Z"
   },
   {
    "duration": 83,
    "start_time": "2022-08-25T18:26:27.428Z"
   },
   {
    "duration": 71,
    "start_time": "2022-08-25T18:26:27.513Z"
   },
   {
    "duration": 0,
    "start_time": "2022-08-25T18:26:27.586Z"
   },
   {
    "duration": 73,
    "start_time": "2022-08-25T18:29:46.255Z"
   },
   {
    "duration": 5,
    "start_time": "2022-08-25T18:29:53.025Z"
   },
   {
    "duration": 141,
    "start_time": "2022-08-25T18:29:54.108Z"
   },
   {
    "duration": 9,
    "start_time": "2022-08-25T18:30:32.291Z"
   },
   {
    "duration": 62,
    "start_time": "2022-08-25T18:30:33.445Z"
   },
   {
    "duration": 6,
    "start_time": "2022-08-25T18:31:14.462Z"
   },
   {
    "duration": 43,
    "start_time": "2022-08-25T18:31:15.241Z"
   },
   {
    "duration": 1122,
    "start_time": "2022-08-25T19:43:50.235Z"
   },
   {
    "duration": 143,
    "start_time": "2022-08-25T19:43:51.359Z"
   },
   {
    "duration": 9,
    "start_time": "2022-08-25T19:43:51.504Z"
   },
   {
    "duration": 17,
    "start_time": "2022-08-25T19:43:51.515Z"
   },
   {
    "duration": 11,
    "start_time": "2022-08-25T19:43:51.534Z"
   },
   {
    "duration": 73,
    "start_time": "2022-08-25T19:43:51.547Z"
   },
   {
    "duration": 119,
    "start_time": "2022-08-25T19:43:51.622Z"
   },
   {
    "duration": 3,
    "start_time": "2022-08-25T19:43:51.743Z"
   },
   {
    "duration": 9,
    "start_time": "2022-08-25T19:43:51.748Z"
   },
   {
    "duration": 13,
    "start_time": "2022-08-25T19:43:51.759Z"
   },
   {
    "duration": 8,
    "start_time": "2022-08-25T19:43:51.773Z"
   },
   {
    "duration": 30,
    "start_time": "2022-08-25T19:43:51.782Z"
   },
   {
    "duration": 19,
    "start_time": "2022-08-25T19:43:51.813Z"
   },
   {
    "duration": 8,
    "start_time": "2022-08-25T19:43:51.834Z"
   },
   {
    "duration": 13,
    "start_time": "2022-08-25T19:43:51.844Z"
   },
   {
    "duration": 5,
    "start_time": "2022-08-25T19:43:51.858Z"
   },
   {
    "duration": 382,
    "start_time": "2022-08-25T19:43:51.864Z"
   },
   {
    "duration": 21,
    "start_time": "2022-08-25T19:43:52.247Z"
   },
   {
    "duration": 36,
    "start_time": "2022-08-25T19:43:52.270Z"
   },
   {
    "duration": 8,
    "start_time": "2022-08-25T19:43:52.307Z"
   },
   {
    "duration": 24,
    "start_time": "2022-08-25T19:43:52.316Z"
   },
   {
    "duration": 40,
    "start_time": "2022-08-25T19:43:52.341Z"
   },
   {
    "duration": 69,
    "start_time": "2022-08-25T19:43:52.383Z"
   },
   {
    "duration": 16,
    "start_time": "2022-08-25T19:43:52.453Z"
   },
   {
    "duration": 37,
    "start_time": "2022-08-25T19:43:52.470Z"
   },
   {
    "duration": 65,
    "start_time": "2022-08-25T19:43:52.508Z"
   },
   {
    "duration": 77,
    "start_time": "2022-08-25T19:43:52.575Z"
   },
   {
    "duration": 65,
    "start_time": "2022-08-25T19:43:52.655Z"
   },
   {
    "duration": 141,
    "start_time": "2022-08-25T19:43:52.721Z"
   },
   {
    "duration": 45,
    "start_time": "2022-08-25T19:43:52.863Z"
   },
   {
    "duration": 97,
    "start_time": "2022-08-25T19:43:52.910Z"
   },
   {
    "duration": 45,
    "start_time": "2022-08-25T19:43:53.008Z"
   },
   {
    "duration": 10,
    "start_time": "2022-08-25T19:43:53.055Z"
   },
   {
    "duration": 23,
    "start_time": "2022-08-25T19:43:53.067Z"
   },
   {
    "duration": 51,
    "start_time": "2022-08-25T19:43:53.091Z"
   },
   {
    "duration": 41,
    "start_time": "2022-08-25T19:43:53.144Z"
   },
   {
    "duration": 29,
    "start_time": "2022-08-25T19:43:53.187Z"
   },
   {
    "duration": 21,
    "start_time": "2022-08-25T19:43:53.218Z"
   },
   {
    "duration": 42,
    "start_time": "2022-08-25T19:43:53.241Z"
   },
   {
    "duration": 4,
    "start_time": "2022-08-25T19:43:53.285Z"
   },
   {
    "duration": 9,
    "start_time": "2022-08-25T19:43:53.305Z"
   },
   {
    "duration": 102,
    "start_time": "2022-08-25T19:43:53.316Z"
   },
   {
    "duration": 13,
    "start_time": "2022-08-25T19:43:53.419Z"
   },
   {
    "duration": 87,
    "start_time": "2022-08-25T19:43:53.434Z"
   },
   {
    "duration": 69,
    "start_time": "2022-08-25T19:43:53.523Z"
   },
   {
    "duration": 7,
    "start_time": "2022-08-25T19:43:53.606Z"
   },
   {
    "duration": 138,
    "start_time": "2022-08-25T19:43:53.614Z"
   },
   {
    "duration": 1157,
    "start_time": "2022-08-25T19:47:23.103Z"
   },
   {
    "duration": 137,
    "start_time": "2022-08-25T19:47:24.263Z"
   },
   {
    "duration": 9,
    "start_time": "2022-08-25T19:47:24.402Z"
   },
   {
    "duration": 20,
    "start_time": "2022-08-25T19:47:24.413Z"
   },
   {
    "duration": 11,
    "start_time": "2022-08-25T19:47:24.434Z"
   },
   {
    "duration": 72,
    "start_time": "2022-08-25T19:47:24.446Z"
   },
   {
    "duration": 129,
    "start_time": "2022-08-25T19:47:24.520Z"
   },
   {
    "duration": 3,
    "start_time": "2022-08-25T19:47:24.650Z"
   },
   {
    "duration": 10,
    "start_time": "2022-08-25T19:47:24.654Z"
   },
   {
    "duration": 13,
    "start_time": "2022-08-25T19:47:24.666Z"
   },
   {
    "duration": 9,
    "start_time": "2022-08-25T19:47:24.681Z"
   },
   {
    "duration": 10,
    "start_time": "2022-08-25T19:47:24.706Z"
   },
   {
    "duration": 20,
    "start_time": "2022-08-25T19:47:24.717Z"
   },
   {
    "duration": 10,
    "start_time": "2022-08-25T19:47:24.739Z"
   },
   {
    "duration": 16,
    "start_time": "2022-08-25T19:47:24.750Z"
   },
   {
    "duration": 15,
    "start_time": "2022-08-25T19:47:24.768Z"
   },
   {
    "duration": 396,
    "start_time": "2022-08-25T19:47:24.785Z"
   },
   {
    "duration": 34,
    "start_time": "2022-08-25T19:47:25.183Z"
   },
   {
    "duration": 21,
    "start_time": "2022-08-25T19:47:25.219Z"
   },
   {
    "duration": 9,
    "start_time": "2022-08-25T19:47:25.242Z"
   },
   {
    "duration": 25,
    "start_time": "2022-08-25T19:47:25.252Z"
   },
   {
    "duration": 66,
    "start_time": "2022-08-25T19:47:25.279Z"
   },
   {
    "duration": 65,
    "start_time": "2022-08-25T19:47:25.347Z"
   },
   {
    "duration": 16,
    "start_time": "2022-08-25T19:47:25.413Z"
   },
   {
    "duration": 19,
    "start_time": "2022-08-25T19:47:25.431Z"
   },
   {
    "duration": 88,
    "start_time": "2022-08-25T19:47:25.452Z"
   },
   {
    "duration": 85,
    "start_time": "2022-08-25T19:47:25.541Z"
   },
   {
    "duration": 60,
    "start_time": "2022-08-25T19:47:25.629Z"
   },
   {
    "duration": 158,
    "start_time": "2022-08-25T19:47:25.691Z"
   },
   {
    "duration": 24,
    "start_time": "2022-08-25T19:47:25.850Z"
   },
   {
    "duration": 69,
    "start_time": "2022-08-25T19:47:25.876Z"
   },
   {
    "duration": 102,
    "start_time": "2022-08-25T19:47:25.946Z"
   },
   {
    "duration": 11,
    "start_time": "2022-08-25T19:47:26.051Z"
   },
   {
    "duration": 44,
    "start_time": "2022-08-25T19:47:26.064Z"
   },
   {
    "duration": 61,
    "start_time": "2022-08-25T19:47:26.110Z"
   },
   {
    "duration": 57,
    "start_time": "2022-08-25T19:47:26.173Z"
   },
   {
    "duration": 16,
    "start_time": "2022-08-25T19:47:26.232Z"
   },
   {
    "duration": 24,
    "start_time": "2022-08-25T19:47:26.250Z"
   },
   {
    "duration": 65,
    "start_time": "2022-08-25T19:47:26.276Z"
   },
   {
    "duration": 4,
    "start_time": "2022-08-25T19:47:26.342Z"
   },
   {
    "duration": 10,
    "start_time": "2022-08-25T19:47:26.348Z"
   },
   {
    "duration": 109,
    "start_time": "2022-08-25T19:47:26.359Z"
   },
   {
    "duration": 16,
    "start_time": "2022-08-25T19:47:26.469Z"
   },
   {
    "duration": 92,
    "start_time": "2022-08-25T19:47:26.486Z"
   },
   {
    "duration": 87,
    "start_time": "2022-08-25T19:47:26.580Z"
   },
   {
    "duration": 5,
    "start_time": "2022-08-25T19:47:26.669Z"
   },
   {
    "duration": 1108,
    "start_time": "2022-08-25T19:48:43.440Z"
   },
   {
    "duration": 658,
    "start_time": "2022-08-25T19:48:44.550Z"
   },
   {
    "duration": 10,
    "start_time": "2022-08-25T19:48:45.210Z"
   },
   {
    "duration": 17,
    "start_time": "2022-08-25T19:48:45.222Z"
   },
   {
    "duration": 11,
    "start_time": "2022-08-25T19:48:45.241Z"
   },
   {
    "duration": 59,
    "start_time": "2022-08-25T19:48:45.253Z"
   },
   {
    "duration": 121,
    "start_time": "2022-08-25T19:48:45.313Z"
   },
   {
    "duration": 3,
    "start_time": "2022-08-25T19:48:45.435Z"
   },
   {
    "duration": 10,
    "start_time": "2022-08-25T19:48:45.439Z"
   },
   {
    "duration": 15,
    "start_time": "2022-08-25T19:48:45.507Z"
   },
   {
    "duration": 8,
    "start_time": "2022-08-25T19:48:45.524Z"
   },
   {
    "duration": 12,
    "start_time": "2022-08-25T19:48:45.534Z"
   },
   {
    "duration": 20,
    "start_time": "2022-08-25T19:48:45.548Z"
   },
   {
    "duration": 41,
    "start_time": "2022-08-25T19:48:45.569Z"
   },
   {
    "duration": 14,
    "start_time": "2022-08-25T19:48:45.612Z"
   },
   {
    "duration": 5,
    "start_time": "2022-08-25T19:48:45.627Z"
   },
   {
    "duration": 495,
    "start_time": "2022-08-25T19:48:45.634Z"
   },
   {
    "duration": 27,
    "start_time": "2022-08-25T19:48:46.131Z"
   },
   {
    "duration": 28,
    "start_time": "2022-08-25T19:48:46.159Z"
   },
   {
    "duration": 11,
    "start_time": "2022-08-25T19:48:46.206Z"
   },
   {
    "duration": 38,
    "start_time": "2022-08-25T19:48:46.220Z"
   },
   {
    "duration": 64,
    "start_time": "2022-08-25T19:48:46.260Z"
   },
   {
    "duration": 57,
    "start_time": "2022-08-25T19:48:46.325Z"
   },
   {
    "duration": 33,
    "start_time": "2022-08-25T19:48:46.384Z"
   },
   {
    "duration": 21,
    "start_time": "2022-08-25T19:48:46.418Z"
   },
   {
    "duration": 84,
    "start_time": "2022-08-25T19:48:46.441Z"
   },
   {
    "duration": 93,
    "start_time": "2022-08-25T19:48:46.526Z"
   },
   {
    "duration": 66,
    "start_time": "2022-08-25T19:48:46.623Z"
   },
   {
    "duration": 144,
    "start_time": "2022-08-25T19:48:46.705Z"
   },
   {
    "duration": 25,
    "start_time": "2022-08-25T19:48:46.851Z"
   },
   {
    "duration": 71,
    "start_time": "2022-08-25T19:48:46.878Z"
   },
   {
    "duration": 106,
    "start_time": "2022-08-25T19:48:46.951Z"
   },
   {
    "duration": 11,
    "start_time": "2022-08-25T19:48:47.058Z"
   },
   {
    "duration": 29,
    "start_time": "2022-08-25T19:48:47.070Z"
   },
   {
    "duration": 51,
    "start_time": "2022-08-25T19:48:47.101Z"
   },
   {
    "duration": 54,
    "start_time": "2022-08-25T19:48:47.153Z"
   },
   {
    "duration": 15,
    "start_time": "2022-08-25T19:48:47.209Z"
   },
   {
    "duration": 21,
    "start_time": "2022-08-25T19:48:47.226Z"
   },
   {
    "duration": 74,
    "start_time": "2022-08-25T19:48:47.249Z"
   },
   {
    "duration": 6,
    "start_time": "2022-08-25T19:48:47.324Z"
   },
   {
    "duration": 19,
    "start_time": "2022-08-25T19:48:47.332Z"
   },
   {
    "duration": 115,
    "start_time": "2022-08-25T19:48:47.353Z"
   },
   {
    "duration": 16,
    "start_time": "2022-08-25T19:48:47.470Z"
   },
   {
    "duration": 89,
    "start_time": "2022-08-25T19:48:47.487Z"
   },
   {
    "duration": 103,
    "start_time": "2022-08-25T19:48:47.577Z"
   },
   {
    "duration": 8,
    "start_time": "2022-08-25T19:48:47.682Z"
   },
   {
    "duration": 11,
    "start_time": "2022-08-25T19:49:54.692Z"
   },
   {
    "duration": 1149,
    "start_time": "2022-08-25T19:50:03.535Z"
   },
   {
    "duration": 664,
    "start_time": "2022-08-25T19:50:04.686Z"
   },
   {
    "duration": 11,
    "start_time": "2022-08-25T19:50:05.351Z"
   },
   {
    "duration": 17,
    "start_time": "2022-08-25T19:50:05.363Z"
   },
   {
    "duration": 13,
    "start_time": "2022-08-25T19:50:05.383Z"
   },
   {
    "duration": 58,
    "start_time": "2022-08-25T19:50:05.397Z"
   },
   {
    "duration": 127,
    "start_time": "2022-08-25T19:50:05.457Z"
   },
   {
    "duration": 3,
    "start_time": "2022-08-25T19:50:05.586Z"
   },
   {
    "duration": 16,
    "start_time": "2022-08-25T19:50:05.591Z"
   },
   {
    "duration": 14,
    "start_time": "2022-08-25T19:50:05.608Z"
   },
   {
    "duration": 8,
    "start_time": "2022-08-25T19:50:05.624Z"
   },
   {
    "duration": 14,
    "start_time": "2022-08-25T19:50:05.634Z"
   },
   {
    "duration": 20,
    "start_time": "2022-08-25T19:50:05.650Z"
   },
   {
    "duration": 33,
    "start_time": "2022-08-25T19:50:05.673Z"
   },
   {
    "duration": 15,
    "start_time": "2022-08-25T19:50:05.708Z"
   },
   {
    "duration": 5,
    "start_time": "2022-08-25T19:50:05.724Z"
   },
   {
    "duration": 393,
    "start_time": "2022-08-25T19:50:05.731Z"
   },
   {
    "duration": 27,
    "start_time": "2022-08-25T19:50:06.126Z"
   },
   {
    "duration": 28,
    "start_time": "2022-08-25T19:50:06.156Z"
   },
   {
    "duration": 23,
    "start_time": "2022-08-25T19:50:06.186Z"
   },
   {
    "duration": 21,
    "start_time": "2022-08-25T19:50:06.211Z"
   },
   {
    "duration": 38,
    "start_time": "2022-08-25T19:50:06.234Z"
   },
   {
    "duration": 75,
    "start_time": "2022-08-25T19:50:06.273Z"
   },
   {
    "duration": 15,
    "start_time": "2022-08-25T19:50:06.349Z"
   },
   {
    "duration": 18,
    "start_time": "2022-08-25T19:50:06.365Z"
   },
   {
    "duration": 76,
    "start_time": "2022-08-25T19:50:06.384Z"
   },
   {
    "duration": 93,
    "start_time": "2022-08-25T19:50:06.462Z"
   },
   {
    "duration": 57,
    "start_time": "2022-08-25T19:50:06.556Z"
   },
   {
    "duration": 134,
    "start_time": "2022-08-25T19:50:06.614Z"
   },
   {
    "duration": 24,
    "start_time": "2022-08-25T19:50:06.749Z"
   },
   {
    "duration": 63,
    "start_time": "2022-08-25T19:50:06.774Z"
   },
   {
    "duration": 79,
    "start_time": "2022-08-25T19:50:06.839Z"
   },
   {
    "duration": 9,
    "start_time": "2022-08-25T19:50:06.919Z"
   },
   {
    "duration": 22,
    "start_time": "2022-08-25T19:50:06.929Z"
   },
   {
    "duration": 52,
    "start_time": "2022-08-25T19:50:06.953Z"
   },
   {
    "duration": 39,
    "start_time": "2022-08-25T19:50:07.006Z"
   },
   {
    "duration": 10,
    "start_time": "2022-08-25T19:50:07.046Z"
   },
   {
    "duration": 29,
    "start_time": "2022-08-25T19:50:07.058Z"
   },
   {
    "duration": 45,
    "start_time": "2022-08-25T19:50:07.088Z"
   },
   {
    "duration": 4,
    "start_time": "2022-08-25T19:50:07.134Z"
   },
   {
    "duration": 13,
    "start_time": "2022-08-25T19:50:07.141Z"
   },
   {
    "duration": 106,
    "start_time": "2022-08-25T19:50:07.155Z"
   },
   {
    "duration": 13,
    "start_time": "2022-08-25T19:50:07.262Z"
   },
   {
    "duration": 86,
    "start_time": "2022-08-25T19:50:07.277Z"
   },
   {
    "duration": 72,
    "start_time": "2022-08-25T19:50:07.365Z"
   },
   {
    "duration": 5,
    "start_time": "2022-08-25T19:50:07.439Z"
   },
   {
    "duration": 9,
    "start_time": "2022-08-25T19:50:55.127Z"
   },
   {
    "duration": 1131,
    "start_time": "2022-08-25T19:51:01.424Z"
   },
   {
    "duration": 666,
    "start_time": "2022-08-25T19:51:02.556Z"
   },
   {
    "duration": 11,
    "start_time": "2022-08-25T19:51:03.224Z"
   },
   {
    "duration": 34,
    "start_time": "2022-08-25T19:51:03.236Z"
   },
   {
    "duration": 27,
    "start_time": "2022-08-25T19:51:03.272Z"
   },
   {
    "duration": 63,
    "start_time": "2022-08-25T19:51:03.300Z"
   },
   {
    "duration": 114,
    "start_time": "2022-08-25T19:51:03.364Z"
   },
   {
    "duration": 3,
    "start_time": "2022-08-25T19:51:03.479Z"
   },
   {
    "duration": 35,
    "start_time": "2022-08-25T19:51:03.484Z"
   },
   {
    "duration": 18,
    "start_time": "2022-08-25T19:51:03.520Z"
   },
   {
    "duration": 28,
    "start_time": "2022-08-25T19:51:03.540Z"
   },
   {
    "duration": 36,
    "start_time": "2022-08-25T19:51:03.570Z"
   },
   {
    "duration": 20,
    "start_time": "2022-08-25T19:51:03.608Z"
   },
   {
    "duration": 25,
    "start_time": "2022-08-25T19:51:03.631Z"
   },
   {
    "duration": 21,
    "start_time": "2022-08-25T19:51:03.658Z"
   },
   {
    "duration": 14,
    "start_time": "2022-08-25T19:51:03.681Z"
   },
   {
    "duration": 366,
    "start_time": "2022-08-25T19:51:03.697Z"
   },
   {
    "duration": 21,
    "start_time": "2022-08-25T19:51:04.064Z"
   },
   {
    "duration": 30,
    "start_time": "2022-08-25T19:51:04.087Z"
   },
   {
    "duration": 12,
    "start_time": "2022-08-25T19:51:04.118Z"
   },
   {
    "duration": 27,
    "start_time": "2022-08-25T19:51:04.131Z"
   },
   {
    "duration": 52,
    "start_time": "2022-08-25T19:51:04.159Z"
   },
   {
    "duration": 53,
    "start_time": "2022-08-25T19:51:04.213Z"
   },
   {
    "duration": 16,
    "start_time": "2022-08-25T19:51:04.268Z"
   },
   {
    "duration": 33,
    "start_time": "2022-08-25T19:51:04.286Z"
   },
   {
    "duration": 79,
    "start_time": "2022-08-25T19:51:04.321Z"
   },
   {
    "duration": 72,
    "start_time": "2022-08-25T19:51:04.402Z"
   },
   {
    "duration": 60,
    "start_time": "2022-08-25T19:51:04.476Z"
   },
   {
    "duration": 133,
    "start_time": "2022-08-25T19:51:04.537Z"
   },
   {
    "duration": 37,
    "start_time": "2022-08-25T19:51:04.671Z"
   },
   {
    "duration": 62,
    "start_time": "2022-08-25T19:51:04.710Z"
   },
   {
    "duration": 71,
    "start_time": "2022-08-25T19:51:04.774Z"
   },
   {
    "duration": 9,
    "start_time": "2022-08-25T19:51:04.847Z"
   },
   {
    "duration": 34,
    "start_time": "2022-08-25T19:51:04.857Z"
   },
   {
    "duration": 64,
    "start_time": "2022-08-25T19:51:04.892Z"
   },
   {
    "duration": 42,
    "start_time": "2022-08-25T19:51:04.958Z"
   },
   {
    "duration": 11,
    "start_time": "2022-08-25T19:51:05.002Z"
   },
   {
    "duration": 25,
    "start_time": "2022-08-25T19:51:05.015Z"
   },
   {
    "duration": 53,
    "start_time": "2022-08-25T19:51:05.042Z"
   },
   {
    "duration": 4,
    "start_time": "2022-08-25T19:51:05.097Z"
   },
   {
    "duration": 13,
    "start_time": "2022-08-25T19:51:05.105Z"
   },
   {
    "duration": 106,
    "start_time": "2022-08-25T19:51:05.120Z"
   },
   {
    "duration": 15,
    "start_time": "2022-08-25T19:51:05.227Z"
   },
   {
    "duration": 82,
    "start_time": "2022-08-25T19:51:05.243Z"
   },
   {
    "duration": 79,
    "start_time": "2022-08-25T19:51:05.327Z"
   },
   {
    "duration": 5,
    "start_time": "2022-08-25T19:51:05.408Z"
   },
   {
    "duration": 143,
    "start_time": "2022-08-25T19:51:05.415Z"
   },
   {
    "duration": 5,
    "start_time": "2022-08-25T19:51:21.979Z"
   },
   {
    "duration": 49,
    "start_time": "2022-08-25T19:51:34.346Z"
   },
   {
    "duration": 1244,
    "start_time": "2022-08-25T19:51:45.400Z"
   },
   {
    "duration": 671,
    "start_time": "2022-08-25T19:51:46.646Z"
   },
   {
    "duration": 10,
    "start_time": "2022-08-25T19:51:47.319Z"
   },
   {
    "duration": 18,
    "start_time": "2022-08-25T19:51:47.331Z"
   },
   {
    "duration": 12,
    "start_time": "2022-08-25T19:51:47.351Z"
   },
   {
    "duration": 70,
    "start_time": "2022-08-25T19:51:47.365Z"
   },
   {
    "duration": 134,
    "start_time": "2022-08-25T19:51:47.437Z"
   },
   {
    "duration": 3,
    "start_time": "2022-08-25T19:51:47.573Z"
   },
   {
    "duration": 10,
    "start_time": "2022-08-25T19:51:47.578Z"
   },
   {
    "duration": 25,
    "start_time": "2022-08-25T19:51:47.590Z"
   },
   {
    "duration": 9,
    "start_time": "2022-08-25T19:51:47.617Z"
   },
   {
    "duration": 13,
    "start_time": "2022-08-25T19:51:47.627Z"
   },
   {
    "duration": 25,
    "start_time": "2022-08-25T19:51:47.642Z"
   },
   {
    "duration": 11,
    "start_time": "2022-08-25T19:51:47.669Z"
   },
   {
    "duration": 40,
    "start_time": "2022-08-25T19:51:47.682Z"
   },
   {
    "duration": 6,
    "start_time": "2022-08-25T19:51:47.724Z"
   },
   {
    "duration": 404,
    "start_time": "2022-08-25T19:51:47.732Z"
   },
   {
    "duration": 22,
    "start_time": "2022-08-25T19:51:48.137Z"
   },
   {
    "duration": 22,
    "start_time": "2022-08-25T19:51:48.161Z"
   },
   {
    "duration": 26,
    "start_time": "2022-08-25T19:51:48.184Z"
   },
   {
    "duration": 22,
    "start_time": "2022-08-25T19:51:48.211Z"
   },
   {
    "duration": 38,
    "start_time": "2022-08-25T19:51:48.234Z"
   },
   {
    "duration": 66,
    "start_time": "2022-08-25T19:51:48.273Z"
   },
   {
    "duration": 13,
    "start_time": "2022-08-25T19:51:48.341Z"
   },
   {
    "duration": 17,
    "start_time": "2022-08-25T19:51:48.356Z"
   },
   {
    "duration": 80,
    "start_time": "2022-08-25T19:51:48.374Z"
   },
   {
    "duration": 77,
    "start_time": "2022-08-25T19:51:48.455Z"
   },
   {
    "duration": 54,
    "start_time": "2022-08-25T19:51:48.535Z"
   },
   {
    "duration": 146,
    "start_time": "2022-08-25T19:51:48.591Z"
   },
   {
    "duration": 23,
    "start_time": "2022-08-25T19:51:48.739Z"
   },
   {
    "duration": 71,
    "start_time": "2022-08-25T19:51:48.764Z"
   },
   {
    "duration": 79,
    "start_time": "2022-08-25T19:51:48.836Z"
   },
   {
    "duration": 9,
    "start_time": "2022-08-25T19:51:48.917Z"
   },
   {
    "duration": 18,
    "start_time": "2022-08-25T19:51:48.927Z"
   },
   {
    "duration": 41,
    "start_time": "2022-08-25T19:51:48.946Z"
   },
   {
    "duration": 53,
    "start_time": "2022-08-25T19:51:48.988Z"
   },
   {
    "duration": 12,
    "start_time": "2022-08-25T19:51:49.042Z"
   },
   {
    "duration": 15,
    "start_time": "2022-08-25T19:51:49.056Z"
   },
   {
    "duration": 53,
    "start_time": "2022-08-25T19:51:49.073Z"
   },
   {
    "duration": 4,
    "start_time": "2022-08-25T19:51:49.128Z"
   },
   {
    "duration": 9,
    "start_time": "2022-08-25T19:51:49.133Z"
   },
   {
    "duration": 102,
    "start_time": "2022-08-25T19:51:49.143Z"
   },
   {
    "duration": 13,
    "start_time": "2022-08-25T19:51:49.246Z"
   },
   {
    "duration": 82,
    "start_time": "2022-08-25T19:51:49.260Z"
   },
   {
    "duration": 76,
    "start_time": "2022-08-25T19:51:49.343Z"
   },
   {
    "duration": 5,
    "start_time": "2022-08-25T19:51:49.420Z"
   },
   {
    "duration": 64,
    "start_time": "2022-08-25T19:53:37.929Z"
   },
   {
    "duration": 7,
    "start_time": "2022-08-25T19:53:55.147Z"
   },
   {
    "duration": 1165,
    "start_time": "2022-08-25T19:54:02.209Z"
   },
   {
    "duration": 705,
    "start_time": "2022-08-25T19:54:03.376Z"
   },
   {
    "duration": 10,
    "start_time": "2022-08-25T19:54:04.082Z"
   },
   {
    "duration": 27,
    "start_time": "2022-08-25T19:54:04.093Z"
   },
   {
    "duration": 13,
    "start_time": "2022-08-25T19:54:04.122Z"
   },
   {
    "duration": 80,
    "start_time": "2022-08-25T19:54:04.137Z"
   },
   {
    "duration": 127,
    "start_time": "2022-08-25T19:54:04.218Z"
   },
   {
    "duration": 3,
    "start_time": "2022-08-25T19:54:04.347Z"
   },
   {
    "duration": 10,
    "start_time": "2022-08-25T19:54:04.351Z"
   },
   {
    "duration": 13,
    "start_time": "2022-08-25T19:54:04.363Z"
   },
   {
    "duration": 7,
    "start_time": "2022-08-25T19:54:04.378Z"
   },
   {
    "duration": 36,
    "start_time": "2022-08-25T19:54:04.386Z"
   },
   {
    "duration": 21,
    "start_time": "2022-08-25T19:54:04.424Z"
   },
   {
    "duration": 10,
    "start_time": "2022-08-25T19:54:04.446Z"
   },
   {
    "duration": 13,
    "start_time": "2022-08-25T19:54:04.458Z"
   },
   {
    "duration": 5,
    "start_time": "2022-08-25T19:54:04.472Z"
   },
   {
    "duration": 438,
    "start_time": "2022-08-25T19:54:04.478Z"
   },
   {
    "duration": 24,
    "start_time": "2022-08-25T19:54:04.918Z"
   },
   {
    "duration": 20,
    "start_time": "2022-08-25T19:54:04.944Z"
   },
   {
    "duration": 9,
    "start_time": "2022-08-25T19:54:04.966Z"
   },
   {
    "duration": 50,
    "start_time": "2022-08-25T19:54:04.976Z"
   },
   {
    "duration": 43,
    "start_time": "2022-08-25T19:54:05.027Z"
   },
   {
    "duration": 76,
    "start_time": "2022-08-25T19:54:05.071Z"
   },
   {
    "duration": 15,
    "start_time": "2022-08-25T19:54:05.149Z"
   },
   {
    "duration": 27,
    "start_time": "2022-08-25T19:54:05.166Z"
   },
   {
    "duration": 87,
    "start_time": "2022-08-25T19:54:05.194Z"
   },
   {
    "duration": 85,
    "start_time": "2022-08-25T19:54:05.282Z"
   },
   {
    "duration": 74,
    "start_time": "2022-08-25T19:54:05.370Z"
   },
   {
    "duration": 149,
    "start_time": "2022-08-25T19:54:05.446Z"
   },
   {
    "duration": 31,
    "start_time": "2022-08-25T19:54:05.597Z"
   },
   {
    "duration": 95,
    "start_time": "2022-08-25T19:54:05.629Z"
   },
   {
    "duration": 46,
    "start_time": "2022-08-25T19:54:05.725Z"
   },
   {
    "duration": 9,
    "start_time": "2022-08-25T19:54:05.773Z"
   },
   {
    "duration": 41,
    "start_time": "2022-08-25T19:54:05.784Z"
   },
   {
    "duration": 38,
    "start_time": "2022-08-25T19:54:05.827Z"
   },
   {
    "duration": 51,
    "start_time": "2022-08-25T19:54:05.867Z"
   },
   {
    "duration": 14,
    "start_time": "2022-08-25T19:54:05.919Z"
   },
   {
    "duration": 22,
    "start_time": "2022-08-25T19:54:05.934Z"
   },
   {
    "duration": 43,
    "start_time": "2022-08-25T19:54:05.957Z"
   },
   {
    "duration": 14,
    "start_time": "2022-08-25T19:54:06.012Z"
   },
   {
    "duration": 21,
    "start_time": "2022-08-25T19:54:06.028Z"
   },
   {
    "duration": 135,
    "start_time": "2022-08-25T19:54:06.051Z"
   },
   {
    "duration": 27,
    "start_time": "2022-08-25T19:54:06.188Z"
   },
   {
    "duration": 85,
    "start_time": "2022-08-25T19:54:06.217Z"
   },
   {
    "duration": 83,
    "start_time": "2022-08-25T19:54:06.307Z"
   },
   {
    "duration": 25,
    "start_time": "2022-08-25T19:54:06.391Z"
   },
   {
    "duration": 52,
    "start_time": "2022-08-25T19:55:12.218Z"
   },
   {
    "duration": 1214,
    "start_time": "2022-08-25T19:55:19.680Z"
   },
   {
    "duration": 687,
    "start_time": "2022-08-25T19:55:20.898Z"
   },
   {
    "duration": 10,
    "start_time": "2022-08-25T19:55:21.587Z"
   },
   {
    "duration": 26,
    "start_time": "2022-08-25T19:55:21.598Z"
   },
   {
    "duration": 12,
    "start_time": "2022-08-25T19:55:21.625Z"
   },
   {
    "duration": 54,
    "start_time": "2022-08-25T19:55:21.638Z"
   },
   {
    "duration": 128,
    "start_time": "2022-08-25T19:55:21.694Z"
   },
   {
    "duration": 3,
    "start_time": "2022-08-25T19:55:21.823Z"
   },
   {
    "duration": 11,
    "start_time": "2022-08-25T19:55:21.829Z"
   },
   {
    "duration": 15,
    "start_time": "2022-08-25T19:55:21.841Z"
   },
   {
    "duration": 7,
    "start_time": "2022-08-25T19:55:21.858Z"
   },
   {
    "duration": 12,
    "start_time": "2022-08-25T19:55:21.866Z"
   },
   {
    "duration": 40,
    "start_time": "2022-08-25T19:55:21.879Z"
   },
   {
    "duration": 12,
    "start_time": "2022-08-25T19:55:21.920Z"
   },
   {
    "duration": 12,
    "start_time": "2022-08-25T19:55:21.934Z"
   },
   {
    "duration": 6,
    "start_time": "2022-08-25T19:55:21.947Z"
   },
   {
    "duration": 386,
    "start_time": "2022-08-25T19:55:21.954Z"
   },
   {
    "duration": 22,
    "start_time": "2022-08-25T19:55:22.342Z"
   },
   {
    "duration": 19,
    "start_time": "2022-08-25T19:55:22.366Z"
   },
   {
    "duration": 39,
    "start_time": "2022-08-25T19:55:22.387Z"
   },
   {
    "duration": 24,
    "start_time": "2022-08-25T19:55:22.428Z"
   },
   {
    "duration": 39,
    "start_time": "2022-08-25T19:55:22.453Z"
   },
   {
    "duration": 66,
    "start_time": "2022-08-25T19:55:22.493Z"
   },
   {
    "duration": 16,
    "start_time": "2022-08-25T19:55:22.561Z"
   },
   {
    "duration": 41,
    "start_time": "2022-08-25T19:55:22.578Z"
   },
   {
    "duration": 71,
    "start_time": "2022-08-25T19:55:22.621Z"
   },
   {
    "duration": 80,
    "start_time": "2022-08-25T19:55:22.695Z"
   },
   {
    "duration": 63,
    "start_time": "2022-08-25T19:55:22.777Z"
   },
   {
    "duration": 135,
    "start_time": "2022-08-25T19:55:22.842Z"
   },
   {
    "duration": 21,
    "start_time": "2022-08-25T19:55:22.978Z"
   },
   {
    "duration": 44,
    "start_time": "2022-08-25T19:55:23.012Z"
   },
   {
    "duration": 96,
    "start_time": "2022-08-25T19:55:23.058Z"
   },
   {
    "duration": 8,
    "start_time": "2022-08-25T19:55:23.156Z"
   },
   {
    "duration": 15,
    "start_time": "2022-08-25T19:55:23.166Z"
   },
   {
    "duration": 48,
    "start_time": "2022-08-25T19:55:23.183Z"
   },
   {
    "duration": 41,
    "start_time": "2022-08-25T19:55:23.232Z"
   },
   {
    "duration": 11,
    "start_time": "2022-08-25T19:55:23.274Z"
   },
   {
    "duration": 39,
    "start_time": "2022-08-25T19:55:23.286Z"
   },
   {
    "duration": 40,
    "start_time": "2022-08-25T19:55:23.326Z"
   },
   {
    "duration": 4,
    "start_time": "2022-08-25T19:55:23.368Z"
   },
   {
    "duration": 9,
    "start_time": "2022-08-25T19:55:23.373Z"
   },
   {
    "duration": 105,
    "start_time": "2022-08-25T19:55:23.383Z"
   },
   {
    "duration": 26,
    "start_time": "2022-08-25T19:55:23.490Z"
   },
   {
    "duration": 74,
    "start_time": "2022-08-25T19:55:23.518Z"
   },
   {
    "duration": 85,
    "start_time": "2022-08-25T19:55:23.594Z"
   },
   {
    "duration": 6,
    "start_time": "2022-08-25T19:55:23.680Z"
   },
   {
    "duration": 1237,
    "start_time": "2022-08-25T19:55:40.078Z"
   },
   {
    "duration": 699,
    "start_time": "2022-08-25T19:55:41.318Z"
   },
   {
    "duration": 12,
    "start_time": "2022-08-25T19:55:42.019Z"
   },
   {
    "duration": 19,
    "start_time": "2022-08-25T19:55:42.033Z"
   },
   {
    "duration": 11,
    "start_time": "2022-08-25T19:55:42.054Z"
   },
   {
    "duration": 68,
    "start_time": "2022-08-25T19:55:42.066Z"
   },
   {
    "duration": 128,
    "start_time": "2022-08-25T19:55:42.136Z"
   },
   {
    "duration": 3,
    "start_time": "2022-08-25T19:55:42.266Z"
   },
   {
    "duration": 9,
    "start_time": "2022-08-25T19:55:42.270Z"
   },
   {
    "duration": 14,
    "start_time": "2022-08-25T19:55:42.281Z"
   },
   {
    "duration": 20,
    "start_time": "2022-08-25T19:55:42.297Z"
   },
   {
    "duration": 15,
    "start_time": "2022-08-25T19:55:42.319Z"
   },
   {
    "duration": 23,
    "start_time": "2022-08-25T19:55:42.335Z"
   },
   {
    "duration": 11,
    "start_time": "2022-08-25T19:55:42.359Z"
   },
   {
    "duration": 13,
    "start_time": "2022-08-25T19:55:42.371Z"
   },
   {
    "duration": 6,
    "start_time": "2022-08-25T19:55:42.385Z"
   },
   {
    "duration": 391,
    "start_time": "2022-08-25T19:55:42.392Z"
   },
   {
    "duration": 32,
    "start_time": "2022-08-25T19:55:42.784Z"
   },
   {
    "duration": 21,
    "start_time": "2022-08-25T19:55:42.818Z"
   },
   {
    "duration": 8,
    "start_time": "2022-08-25T19:55:42.840Z"
   },
   {
    "duration": 21,
    "start_time": "2022-08-25T19:55:42.849Z"
   },
   {
    "duration": 66,
    "start_time": "2022-08-25T19:55:42.872Z"
   },
   {
    "duration": 53,
    "start_time": "2022-08-25T19:55:42.939Z"
   },
   {
    "duration": 30,
    "start_time": "2022-08-25T19:55:42.994Z"
   },
   {
    "duration": 18,
    "start_time": "2022-08-25T19:55:43.026Z"
   },
   {
    "duration": 86,
    "start_time": "2022-08-25T19:55:43.046Z"
   },
   {
    "duration": 83,
    "start_time": "2022-08-25T19:55:43.134Z"
   },
   {
    "duration": 65,
    "start_time": "2022-08-25T19:55:43.221Z"
   },
   {
    "duration": 171,
    "start_time": "2022-08-25T19:55:43.288Z"
   },
   {
    "duration": 24,
    "start_time": "2022-08-25T19:55:43.461Z"
   },
   {
    "duration": 58,
    "start_time": "2022-08-25T19:55:43.486Z"
   },
   {
    "duration": 81,
    "start_time": "2022-08-25T19:55:43.546Z"
   },
   {
    "duration": 9,
    "start_time": "2022-08-25T19:55:43.628Z"
   },
   {
    "duration": 17,
    "start_time": "2022-08-25T19:55:43.639Z"
   },
   {
    "duration": 56,
    "start_time": "2022-08-25T19:55:43.657Z"
   },
   {
    "duration": 41,
    "start_time": "2022-08-25T19:55:43.714Z"
   },
   {
    "duration": 12,
    "start_time": "2022-08-25T19:55:43.756Z"
   },
   {
    "duration": 37,
    "start_time": "2022-08-25T19:55:43.769Z"
   },
   {
    "duration": 40,
    "start_time": "2022-08-25T19:55:43.807Z"
   },
   {
    "duration": 4,
    "start_time": "2022-08-25T19:55:43.849Z"
   },
   {
    "duration": 11,
    "start_time": "2022-08-25T19:55:43.854Z"
   },
   {
    "duration": 104,
    "start_time": "2022-08-25T19:55:43.866Z"
   },
   {
    "duration": 14,
    "start_time": "2022-08-25T19:55:43.972Z"
   },
   {
    "duration": 86,
    "start_time": "2022-08-25T19:55:43.987Z"
   },
   {
    "duration": 84,
    "start_time": "2022-08-25T19:55:44.076Z"
   },
   {
    "duration": 104,
    "start_time": "2022-08-25T19:55:44.161Z"
   },
   {
    "duration": 78,
    "start_time": "2022-08-25T19:55:56.341Z"
   },
   {
    "duration": 75,
    "start_time": "2022-08-25T19:56:19.344Z"
   },
   {
    "duration": 46,
    "start_time": "2022-08-26T11:10:23.730Z"
   },
   {
    "duration": 1342,
    "start_time": "2022-08-26T11:10:31.036Z"
   },
   {
    "duration": 490,
    "start_time": "2022-08-26T11:10:32.380Z"
   },
   {
    "duration": 11,
    "start_time": "2022-08-26T11:10:32.872Z"
   },
   {
    "duration": 32,
    "start_time": "2022-08-26T11:10:32.884Z"
   },
   {
    "duration": 14,
    "start_time": "2022-08-26T11:10:32.918Z"
   },
   {
    "duration": 78,
    "start_time": "2022-08-26T11:10:32.934Z"
   },
   {
    "duration": 121,
    "start_time": "2022-08-26T11:10:33.013Z"
   },
   {
    "duration": 3,
    "start_time": "2022-08-26T11:10:33.135Z"
   },
   {
    "duration": 14,
    "start_time": "2022-08-26T11:10:33.140Z"
   },
   {
    "duration": 27,
    "start_time": "2022-08-26T11:10:33.155Z"
   },
   {
    "duration": 9,
    "start_time": "2022-08-26T11:10:33.184Z"
   },
   {
    "duration": 20,
    "start_time": "2022-08-26T11:10:33.194Z"
   },
   {
    "duration": 37,
    "start_time": "2022-08-26T11:10:33.215Z"
   },
   {
    "duration": 26,
    "start_time": "2022-08-26T11:10:33.254Z"
   },
   {
    "duration": 29,
    "start_time": "2022-08-26T11:10:33.282Z"
   },
   {
    "duration": 18,
    "start_time": "2022-08-26T11:10:33.313Z"
   },
   {
    "duration": 412,
    "start_time": "2022-08-26T11:10:33.332Z"
   },
   {
    "duration": 23,
    "start_time": "2022-08-26T11:10:33.746Z"
   },
   {
    "duration": 24,
    "start_time": "2022-08-26T11:10:33.771Z"
   },
   {
    "duration": 9,
    "start_time": "2022-08-26T11:10:33.796Z"
   },
   {
    "duration": 49,
    "start_time": "2022-08-26T11:10:33.807Z"
   },
   {
    "duration": 43,
    "start_time": "2022-08-26T11:10:33.858Z"
   },
   {
    "duration": 69,
    "start_time": "2022-08-26T11:10:33.903Z"
   },
   {
    "duration": 16,
    "start_time": "2022-08-26T11:10:33.974Z"
   },
   {
    "duration": 22,
    "start_time": "2022-08-26T11:10:33.992Z"
   },
   {
    "duration": 90,
    "start_time": "2022-08-26T11:10:34.016Z"
   },
   {
    "duration": 88,
    "start_time": "2022-08-26T11:10:34.108Z"
   },
   {
    "duration": 86,
    "start_time": "2022-08-26T11:10:34.198Z"
   },
   {
    "duration": 161,
    "start_time": "2022-08-26T11:10:34.286Z"
   },
   {
    "duration": 25,
    "start_time": "2022-08-26T11:10:34.448Z"
   },
   {
    "duration": 97,
    "start_time": "2022-08-26T11:10:34.475Z"
   },
   {
    "duration": 83,
    "start_time": "2022-08-26T11:10:34.574Z"
   },
   {
    "duration": 9,
    "start_time": "2022-08-26T11:10:34.658Z"
   },
   {
    "duration": 18,
    "start_time": "2022-08-26T11:10:34.668Z"
   },
   {
    "duration": 75,
    "start_time": "2022-08-26T11:10:34.687Z"
   },
   {
    "duration": 98,
    "start_time": "2022-08-26T11:10:34.764Z"
   },
   {
    "duration": 12,
    "start_time": "2022-08-26T11:10:34.863Z"
   },
   {
    "duration": 73,
    "start_time": "2022-08-26T11:10:34.876Z"
   },
   {
    "duration": 93,
    "start_time": "2022-08-26T11:10:34.951Z"
   },
   {
    "duration": 4,
    "start_time": "2022-08-26T11:10:35.046Z"
   },
   {
    "duration": 13,
    "start_time": "2022-08-26T11:10:35.053Z"
   },
   {
    "duration": 206,
    "start_time": "2022-08-26T11:10:35.068Z"
   },
   {
    "duration": 64,
    "start_time": "2022-08-26T11:10:35.276Z"
   },
   {
    "duration": 133,
    "start_time": "2022-08-26T11:10:35.342Z"
   },
   {
    "duration": 181,
    "start_time": "2022-08-26T11:10:35.477Z"
   },
   {
    "duration": 210,
    "start_time": "2022-08-26T11:10:35.660Z"
   },
   {
    "duration": 10,
    "start_time": "2022-08-26T11:13:19.812Z"
   },
   {
    "duration": 48,
    "start_time": "2022-08-26T11:13:52.858Z"
   },
   {
    "duration": 59,
    "start_time": "2022-08-26T11:14:09.133Z"
   },
   {
    "duration": 22,
    "start_time": "2022-08-26T11:14:23.235Z"
   },
   {
    "duration": 15,
    "start_time": "2022-08-26T11:14:47.011Z"
   },
   {
    "duration": 82,
    "start_time": "2022-08-26T11:21:12.737Z"
   },
   {
    "duration": 79,
    "start_time": "2022-08-26T11:22:58.490Z"
   },
   {
    "duration": 81,
    "start_time": "2022-08-26T13:39:48.163Z"
   },
   {
    "duration": 82,
    "start_time": "2022-08-26T13:40:24.458Z"
   },
   {
    "duration": 79,
    "start_time": "2022-08-26T13:40:34.066Z"
   },
   {
    "duration": 82,
    "start_time": "2022-08-26T13:42:32.075Z"
   },
   {
    "duration": 17,
    "start_time": "2022-08-26T13:45:19.676Z"
   },
   {
    "duration": 1233,
    "start_time": "2022-08-26T13:45:34.205Z"
   },
   {
    "duration": 172,
    "start_time": "2022-08-26T13:45:35.441Z"
   },
   {
    "duration": 10,
    "start_time": "2022-08-26T13:45:35.614Z"
   },
   {
    "duration": 26,
    "start_time": "2022-08-26T13:45:35.626Z"
   },
   {
    "duration": 24,
    "start_time": "2022-08-26T13:45:35.654Z"
   },
   {
    "duration": 87,
    "start_time": "2022-08-26T13:45:35.679Z"
   },
   {
    "duration": 125,
    "start_time": "2022-08-26T13:45:35.768Z"
   },
   {
    "duration": 3,
    "start_time": "2022-08-26T13:45:35.895Z"
   },
   {
    "duration": 10,
    "start_time": "2022-08-26T13:45:35.900Z"
   },
   {
    "duration": 29,
    "start_time": "2022-08-26T13:45:35.913Z"
   },
   {
    "duration": 9,
    "start_time": "2022-08-26T13:45:35.944Z"
   },
   {
    "duration": 17,
    "start_time": "2022-08-26T13:45:35.954Z"
   },
   {
    "duration": 24,
    "start_time": "2022-08-26T13:45:35.973Z"
   },
   {
    "duration": 12,
    "start_time": "2022-08-26T13:45:35.999Z"
   },
   {
    "duration": 38,
    "start_time": "2022-08-26T13:45:36.013Z"
   },
   {
    "duration": 6,
    "start_time": "2022-08-26T13:45:36.053Z"
   },
   {
    "duration": 433,
    "start_time": "2022-08-26T13:45:36.061Z"
   },
   {
    "duration": 24,
    "start_time": "2022-08-26T13:45:36.496Z"
   },
   {
    "duration": 39,
    "start_time": "2022-08-26T13:45:36.522Z"
   },
   {
    "duration": 9,
    "start_time": "2022-08-26T13:45:36.562Z"
   },
   {
    "duration": 28,
    "start_time": "2022-08-26T13:45:36.573Z"
   },
   {
    "duration": 70,
    "start_time": "2022-08-26T13:45:36.602Z"
   },
   {
    "duration": 65,
    "start_time": "2022-08-26T13:45:36.673Z"
   },
   {
    "duration": 23,
    "start_time": "2022-08-26T13:45:36.741Z"
   },
   {
    "duration": 44,
    "start_time": "2022-08-26T13:45:36.766Z"
   },
   {
    "duration": 110,
    "start_time": "2022-08-26T13:45:36.812Z"
   },
   {
    "duration": 88,
    "start_time": "2022-08-26T13:45:36.924Z"
   },
   {
    "duration": 77,
    "start_time": "2022-08-26T13:45:37.016Z"
   },
   {
    "duration": 163,
    "start_time": "2022-08-26T13:45:37.094Z"
   },
   {
    "duration": 26,
    "start_time": "2022-08-26T13:45:37.259Z"
   },
   {
    "duration": 75,
    "start_time": "2022-08-26T13:45:37.287Z"
   },
   {
    "duration": 103,
    "start_time": "2022-08-26T13:45:37.363Z"
   },
   {
    "duration": 10,
    "start_time": "2022-08-26T13:45:37.467Z"
   },
   {
    "duration": 21,
    "start_time": "2022-08-26T13:45:37.478Z"
   },
   {
    "duration": 71,
    "start_time": "2022-08-26T13:45:37.500Z"
   },
   {
    "duration": 37,
    "start_time": "2022-08-26T13:45:37.572Z"
   },
   {
    "duration": 33,
    "start_time": "2022-08-26T13:45:37.611Z"
   },
   {
    "duration": 21,
    "start_time": "2022-08-26T13:45:37.646Z"
   },
   {
    "duration": 55,
    "start_time": "2022-08-26T13:45:37.669Z"
   },
   {
    "duration": 6,
    "start_time": "2022-08-26T13:45:37.739Z"
   },
   {
    "duration": 13,
    "start_time": "2022-08-26T13:45:37.748Z"
   },
   {
    "duration": 131,
    "start_time": "2022-08-26T13:45:37.763Z"
   },
   {
    "duration": 14,
    "start_time": "2022-08-26T13:45:37.896Z"
   },
   {
    "duration": 94,
    "start_time": "2022-08-26T13:45:37.912Z"
   },
   {
    "duration": 86,
    "start_time": "2022-08-26T13:45:38.008Z"
   },
   {
    "duration": 113,
    "start_time": "2022-08-26T13:45:38.096Z"
   },
   {
    "duration": 31,
    "start_time": "2022-08-26T13:47:07.912Z"
   },
   {
    "duration": 1177,
    "start_time": "2022-08-26T13:47:59.552Z"
   },
   {
    "duration": 163,
    "start_time": "2022-08-26T13:48:00.731Z"
   },
   {
    "duration": 12,
    "start_time": "2022-08-26T13:48:00.896Z"
   },
   {
    "duration": 55,
    "start_time": "2022-08-26T13:48:00.910Z"
   },
   {
    "duration": 15,
    "start_time": "2022-08-26T13:48:00.967Z"
   },
   {
    "duration": 75,
    "start_time": "2022-08-26T13:48:00.984Z"
   },
   {
    "duration": 141,
    "start_time": "2022-08-26T13:48:01.061Z"
   },
   {
    "duration": 4,
    "start_time": "2022-08-26T13:48:01.204Z"
   },
   {
    "duration": 20,
    "start_time": "2022-08-26T13:48:01.210Z"
   },
   {
    "duration": 22,
    "start_time": "2022-08-26T13:48:01.232Z"
   },
   {
    "duration": 18,
    "start_time": "2022-08-26T13:48:01.255Z"
   },
   {
    "duration": 22,
    "start_time": "2022-08-26T13:48:01.275Z"
   },
   {
    "duration": 48,
    "start_time": "2022-08-26T13:48:01.299Z"
   },
   {
    "duration": 25,
    "start_time": "2022-08-26T13:48:01.349Z"
   },
   {
    "duration": 21,
    "start_time": "2022-08-26T13:48:01.377Z"
   },
   {
    "duration": 40,
    "start_time": "2022-08-26T13:48:01.400Z"
   },
   {
    "duration": 425,
    "start_time": "2022-08-26T13:48:01.442Z"
   },
   {
    "duration": 25,
    "start_time": "2022-08-26T13:48:01.868Z"
   },
   {
    "duration": 24,
    "start_time": "2022-08-26T13:48:01.894Z"
   },
   {
    "duration": 10,
    "start_time": "2022-08-26T13:48:01.938Z"
   },
   {
    "duration": 29,
    "start_time": "2022-08-26T13:48:01.950Z"
   },
   {
    "duration": 74,
    "start_time": "2022-08-26T13:48:01.981Z"
   },
   {
    "duration": 60,
    "start_time": "2022-08-26T13:48:02.057Z"
   },
   {
    "duration": 33,
    "start_time": "2022-08-26T13:48:02.119Z"
   },
   {
    "duration": 25,
    "start_time": "2022-08-26T13:48:02.154Z"
   },
   {
    "duration": 104,
    "start_time": "2022-08-26T13:48:02.181Z"
   },
   {
    "duration": 83,
    "start_time": "2022-08-26T13:48:02.287Z"
   },
   {
    "duration": 82,
    "start_time": "2022-08-26T13:48:02.375Z"
   },
   {
    "duration": 141,
    "start_time": "2022-08-26T13:48:02.459Z"
   },
   {
    "duration": 38,
    "start_time": "2022-08-26T13:48:02.602Z"
   },
   {
    "duration": 37,
    "start_time": "2022-08-26T13:48:02.642Z"
   },
   {
    "duration": 101,
    "start_time": "2022-08-26T13:48:02.681Z"
   },
   {
    "duration": 10,
    "start_time": "2022-08-26T13:48:02.784Z"
   },
   {
    "duration": 35,
    "start_time": "2022-08-26T13:48:02.795Z"
   },
   {
    "duration": 49,
    "start_time": "2022-08-26T13:48:02.831Z"
   },
   {
    "duration": 38,
    "start_time": "2022-08-26T13:48:02.882Z"
   },
   {
    "duration": 18,
    "start_time": "2022-08-26T13:48:02.922Z"
   },
   {
    "duration": 31,
    "start_time": "2022-08-26T13:48:02.942Z"
   },
   {
    "duration": 43,
    "start_time": "2022-08-26T13:48:02.975Z"
   },
   {
    "duration": 5,
    "start_time": "2022-08-26T13:48:03.020Z"
   },
   {
    "duration": 21,
    "start_time": "2022-08-26T13:48:03.026Z"
   },
   {
    "duration": 126,
    "start_time": "2022-08-26T13:48:03.049Z"
   },
   {
    "duration": 15,
    "start_time": "2022-08-26T13:48:03.177Z"
   },
   {
    "duration": 94,
    "start_time": "2022-08-26T13:48:03.193Z"
   },
   {
    "duration": 85,
    "start_time": "2022-08-26T13:48:03.289Z"
   },
   {
    "duration": 118,
    "start_time": "2022-08-26T13:48:03.376Z"
   },
   {
    "duration": 27,
    "start_time": "2022-08-26T13:51:51.269Z"
   },
   {
    "duration": 28,
    "start_time": "2022-08-26T13:52:01.135Z"
   },
   {
    "duration": 14,
    "start_time": "2022-08-26T13:52:15.399Z"
   },
   {
    "duration": 42,
    "start_time": "2022-08-26T14:01:57.073Z"
   },
   {
    "duration": 47,
    "start_time": "2022-08-26T14:03:03.874Z"
   },
   {
    "duration": 52,
    "start_time": "2022-08-26T14:04:27.274Z"
   },
   {
    "duration": 17,
    "start_time": "2022-08-26T14:07:02.514Z"
   },
   {
    "duration": 12,
    "start_time": "2022-08-26T14:07:15.563Z"
   },
   {
    "duration": 1239,
    "start_time": "2022-08-26T14:07:35.321Z"
   },
   {
    "duration": 162,
    "start_time": "2022-08-26T14:07:36.562Z"
   },
   {
    "duration": 16,
    "start_time": "2022-08-26T14:07:36.726Z"
   },
   {
    "duration": 21,
    "start_time": "2022-08-26T14:07:36.744Z"
   },
   {
    "duration": 14,
    "start_time": "2022-08-26T14:07:36.767Z"
   },
   {
    "duration": 87,
    "start_time": "2022-08-26T14:07:36.783Z"
   },
   {
    "duration": 134,
    "start_time": "2022-08-26T14:07:36.872Z"
   },
   {
    "duration": 3,
    "start_time": "2022-08-26T14:07:37.008Z"
   },
   {
    "duration": 17,
    "start_time": "2022-08-26T14:07:37.012Z"
   },
   {
    "duration": 18,
    "start_time": "2022-08-26T14:07:37.031Z"
   },
   {
    "duration": 9,
    "start_time": "2022-08-26T14:07:37.051Z"
   },
   {
    "duration": 26,
    "start_time": "2022-08-26T14:07:37.062Z"
   },
   {
    "duration": 57,
    "start_time": "2022-08-26T14:07:37.090Z"
   },
   {
    "duration": 19,
    "start_time": "2022-08-26T14:07:37.150Z"
   },
   {
    "duration": 18,
    "start_time": "2022-08-26T14:07:37.170Z"
   },
   {
    "duration": 5,
    "start_time": "2022-08-26T14:07:37.190Z"
   },
   {
    "duration": 423,
    "start_time": "2022-08-26T14:07:37.197Z"
   },
   {
    "duration": 31,
    "start_time": "2022-08-26T14:07:37.622Z"
   },
   {
    "duration": 27,
    "start_time": "2022-08-26T14:07:37.655Z"
   },
   {
    "duration": 11,
    "start_time": "2022-08-26T14:07:37.683Z"
   },
   {
    "duration": 59,
    "start_time": "2022-08-26T14:07:37.696Z"
   },
   {
    "duration": 43,
    "start_time": "2022-08-26T14:07:37.756Z"
   },
   {
    "duration": 69,
    "start_time": "2022-08-26T14:07:37.801Z"
   },
   {
    "duration": 115,
    "start_time": "2022-08-26T14:07:37.872Z"
   },
   {
    "duration": 0,
    "start_time": "2022-08-26T14:07:37.989Z"
   },
   {
    "duration": 0,
    "start_time": "2022-08-26T14:07:37.990Z"
   },
   {
    "duration": 0,
    "start_time": "2022-08-26T14:07:37.992Z"
   },
   {
    "duration": 0,
    "start_time": "2022-08-26T14:07:37.993Z"
   },
   {
    "duration": 0,
    "start_time": "2022-08-26T14:07:37.994Z"
   },
   {
    "duration": 0,
    "start_time": "2022-08-26T14:07:37.995Z"
   },
   {
    "duration": 0,
    "start_time": "2022-08-26T14:07:37.996Z"
   },
   {
    "duration": 0,
    "start_time": "2022-08-26T14:07:37.997Z"
   },
   {
    "duration": 0,
    "start_time": "2022-08-26T14:07:37.998Z"
   },
   {
    "duration": 0,
    "start_time": "2022-08-26T14:07:37.999Z"
   },
   {
    "duration": 0,
    "start_time": "2022-08-26T14:07:38.000Z"
   },
   {
    "duration": 0,
    "start_time": "2022-08-26T14:07:38.001Z"
   },
   {
    "duration": 0,
    "start_time": "2022-08-26T14:07:38.002Z"
   },
   {
    "duration": 0,
    "start_time": "2022-08-26T14:07:38.004Z"
   },
   {
    "duration": 0,
    "start_time": "2022-08-26T14:07:38.005Z"
   },
   {
    "duration": 0,
    "start_time": "2022-08-26T14:07:38.006Z"
   },
   {
    "duration": 0,
    "start_time": "2022-08-26T14:07:38.008Z"
   },
   {
    "duration": 0,
    "start_time": "2022-08-26T14:07:38.039Z"
   },
   {
    "duration": 0,
    "start_time": "2022-08-26T14:07:38.040Z"
   },
   {
    "duration": 1172,
    "start_time": "2022-08-26T14:08:01.095Z"
   },
   {
    "duration": 169,
    "start_time": "2022-08-26T14:08:02.269Z"
   },
   {
    "duration": 12,
    "start_time": "2022-08-26T14:08:02.440Z"
   },
   {
    "duration": 24,
    "start_time": "2022-08-26T14:08:02.455Z"
   },
   {
    "duration": 19,
    "start_time": "2022-08-26T14:08:02.481Z"
   },
   {
    "duration": 91,
    "start_time": "2022-08-26T14:08:02.502Z"
   },
   {
    "duration": 134,
    "start_time": "2022-08-26T14:08:02.595Z"
   },
   {
    "duration": 8,
    "start_time": "2022-08-26T14:08:02.731Z"
   },
   {
    "duration": 11,
    "start_time": "2022-08-26T14:08:02.740Z"
   },
   {
    "duration": 19,
    "start_time": "2022-08-26T14:08:02.753Z"
   },
   {
    "duration": 9,
    "start_time": "2022-08-26T14:08:02.773Z"
   },
   {
    "duration": 17,
    "start_time": "2022-08-26T14:08:02.784Z"
   },
   {
    "duration": 50,
    "start_time": "2022-08-26T14:08:02.803Z"
   },
   {
    "duration": 11,
    "start_time": "2022-08-26T14:08:02.855Z"
   },
   {
    "duration": 19,
    "start_time": "2022-08-26T14:08:02.868Z"
   },
   {
    "duration": 7,
    "start_time": "2022-08-26T14:08:02.888Z"
   },
   {
    "duration": 412,
    "start_time": "2022-08-26T14:08:02.897Z"
   },
   {
    "duration": 34,
    "start_time": "2022-08-26T14:08:03.311Z"
   },
   {
    "duration": 31,
    "start_time": "2022-08-26T14:08:03.347Z"
   },
   {
    "duration": 10,
    "start_time": "2022-08-26T14:08:03.379Z"
   },
   {
    "duration": 56,
    "start_time": "2022-08-26T14:08:03.391Z"
   },
   {
    "duration": 43,
    "start_time": "2022-08-26T14:08:03.448Z"
   },
   {
    "duration": 68,
    "start_time": "2022-08-26T14:08:03.492Z"
   },
   {
    "duration": 15,
    "start_time": "2022-08-26T14:08:03.562Z"
   },
   {
    "duration": 25,
    "start_time": "2022-08-26T14:08:03.579Z"
   },
   {
    "duration": 108,
    "start_time": "2022-08-26T14:08:03.605Z"
   },
   {
    "duration": 81,
    "start_time": "2022-08-26T14:08:03.714Z"
   },
   {
    "duration": 83,
    "start_time": "2022-08-26T14:08:03.798Z"
   },
   {
    "duration": 149,
    "start_time": "2022-08-26T14:08:03.883Z"
   },
   {
    "duration": 24,
    "start_time": "2022-08-26T14:08:04.034Z"
   },
   {
    "duration": 93,
    "start_time": "2022-08-26T14:08:04.059Z"
   },
   {
    "duration": 38,
    "start_time": "2022-08-26T14:08:04.153Z"
   },
   {
    "duration": 137,
    "start_time": "2022-08-26T14:08:04.193Z"
   },
   {
    "duration": 0,
    "start_time": "2022-08-26T14:08:04.338Z"
   },
   {
    "duration": 0,
    "start_time": "2022-08-26T14:08:04.339Z"
   },
   {
    "duration": 0,
    "start_time": "2022-08-26T14:08:04.341Z"
   },
   {
    "duration": 0,
    "start_time": "2022-08-26T14:08:04.343Z"
   },
   {
    "duration": 0,
    "start_time": "2022-08-26T14:08:04.344Z"
   },
   {
    "duration": 0,
    "start_time": "2022-08-26T14:08:04.346Z"
   },
   {
    "duration": 0,
    "start_time": "2022-08-26T14:08:04.347Z"
   },
   {
    "duration": 0,
    "start_time": "2022-08-26T14:08:04.348Z"
   },
   {
    "duration": 0,
    "start_time": "2022-08-26T14:08:04.349Z"
   },
   {
    "duration": 0,
    "start_time": "2022-08-26T14:08:04.350Z"
   },
   {
    "duration": 1235,
    "start_time": "2022-08-26T14:08:57.152Z"
   },
   {
    "duration": 162,
    "start_time": "2022-08-26T14:08:58.389Z"
   },
   {
    "duration": 11,
    "start_time": "2022-08-26T14:08:58.553Z"
   },
   {
    "duration": 22,
    "start_time": "2022-08-26T14:08:58.566Z"
   },
   {
    "duration": 15,
    "start_time": "2022-08-26T14:08:58.590Z"
   },
   {
    "duration": 89,
    "start_time": "2022-08-26T14:08:58.607Z"
   },
   {
    "duration": 130,
    "start_time": "2022-08-26T14:08:58.698Z"
   },
   {
    "duration": 8,
    "start_time": "2022-08-26T14:08:58.830Z"
   },
   {
    "duration": 12,
    "start_time": "2022-08-26T14:08:58.840Z"
   },
   {
    "duration": 17,
    "start_time": "2022-08-26T14:08:58.854Z"
   },
   {
    "duration": 12,
    "start_time": "2022-08-26T14:08:58.873Z"
   },
   {
    "duration": 27,
    "start_time": "2022-08-26T14:08:58.886Z"
   },
   {
    "duration": 48,
    "start_time": "2022-08-26T14:08:58.915Z"
   },
   {
    "duration": 12,
    "start_time": "2022-08-26T14:08:58.968Z"
   },
   {
    "duration": 21,
    "start_time": "2022-08-26T14:08:58.982Z"
   },
   {
    "duration": 6,
    "start_time": "2022-08-26T14:08:59.005Z"
   },
   {
    "duration": 449,
    "start_time": "2022-08-26T14:08:59.039Z"
   },
   {
    "duration": 25,
    "start_time": "2022-08-26T14:08:59.490Z"
   },
   {
    "duration": 39,
    "start_time": "2022-08-26T14:08:59.517Z"
   },
   {
    "duration": 10,
    "start_time": "2022-08-26T14:08:59.557Z"
   },
   {
    "duration": 34,
    "start_time": "2022-08-26T14:08:59.569Z"
   },
   {
    "duration": 58,
    "start_time": "2022-08-26T14:08:59.605Z"
   },
   {
    "duration": 79,
    "start_time": "2022-08-26T14:08:59.665Z"
   },
   {
    "duration": 24,
    "start_time": "2022-08-26T14:08:59.746Z"
   },
   {
    "duration": 101,
    "start_time": "2022-08-26T14:08:59.772Z"
   },
   {
    "duration": 81,
    "start_time": "2022-08-26T14:08:59.875Z"
   },
   {
    "duration": 73,
    "start_time": "2022-08-26T14:08:59.957Z"
   },
   {
    "duration": 155,
    "start_time": "2022-08-26T14:09:00.038Z"
   },
   {
    "duration": 24,
    "start_time": "2022-08-26T14:09:00.195Z"
   },
   {
    "duration": 51,
    "start_time": "2022-08-26T14:09:00.221Z"
   },
   {
    "duration": 89,
    "start_time": "2022-08-26T14:09:00.273Z"
   },
   {
    "duration": 53,
    "start_time": "2022-08-26T14:09:00.363Z"
   },
   {
    "duration": 0,
    "start_time": "2022-08-26T14:09:00.418Z"
   },
   {
    "duration": 0,
    "start_time": "2022-08-26T14:09:00.420Z"
   },
   {
    "duration": 0,
    "start_time": "2022-08-26T14:09:00.421Z"
   },
   {
    "duration": 0,
    "start_time": "2022-08-26T14:09:00.422Z"
   },
   {
    "duration": 0,
    "start_time": "2022-08-26T14:09:00.424Z"
   },
   {
    "duration": 0,
    "start_time": "2022-08-26T14:09:00.424Z"
   },
   {
    "duration": 0,
    "start_time": "2022-08-26T14:09:00.426Z"
   },
   {
    "duration": 0,
    "start_time": "2022-08-26T14:09:00.427Z"
   },
   {
    "duration": 0,
    "start_time": "2022-08-26T14:09:00.428Z"
   },
   {
    "duration": 0,
    "start_time": "2022-08-26T14:09:00.429Z"
   },
   {
    "duration": 56,
    "start_time": "2022-08-26T14:14:17.912Z"
   },
   {
    "duration": 57,
    "start_time": "2022-08-26T14:14:29.808Z"
   },
   {
    "duration": 45,
    "start_time": "2022-08-26T14:14:49.329Z"
   },
   {
    "duration": 42,
    "start_time": "2022-08-26T14:14:58.517Z"
   },
   {
    "duration": 77,
    "start_time": "2022-08-26T14:17:39.218Z"
   },
   {
    "duration": 79,
    "start_time": "2022-08-26T14:17:52.874Z"
   },
   {
    "duration": 81,
    "start_time": "2022-08-26T14:17:59.696Z"
   },
   {
    "duration": 84,
    "start_time": "2022-08-26T14:22:59.392Z"
   },
   {
    "duration": 78,
    "start_time": "2022-08-26T14:23:18.588Z"
   },
   {
    "duration": 178,
    "start_time": "2022-08-26T14:23:34.112Z"
   },
   {
    "duration": 82,
    "start_time": "2022-08-26T14:24:00.187Z"
   },
   {
    "duration": 77,
    "start_time": "2022-08-26T14:24:21.718Z"
   },
   {
    "duration": 84,
    "start_time": "2022-08-26T14:24:34.250Z"
   },
   {
    "duration": 81,
    "start_time": "2022-08-26T14:24:48.212Z"
   },
   {
    "duration": 78,
    "start_time": "2022-08-26T14:24:57.949Z"
   },
   {
    "duration": 82,
    "start_time": "2022-08-26T14:25:53.029Z"
   },
   {
    "duration": 84,
    "start_time": "2022-08-26T14:26:07.532Z"
   },
   {
    "duration": 59,
    "start_time": "2022-08-26T14:27:07.644Z"
   },
   {
    "duration": 94,
    "start_time": "2022-08-26T14:27:36.099Z"
   },
   {
    "duration": 82,
    "start_time": "2022-08-26T14:27:42.881Z"
   },
   {
    "duration": 54,
    "start_time": "2022-08-26T14:30:07.229Z"
   },
   {
    "duration": 1227,
    "start_time": "2022-08-26T14:31:30.814Z"
   },
   {
    "duration": 162,
    "start_time": "2022-08-26T14:31:32.043Z"
   },
   {
    "duration": 11,
    "start_time": "2022-08-26T14:31:32.207Z"
   },
   {
    "duration": 28,
    "start_time": "2022-08-26T14:31:32.220Z"
   },
   {
    "duration": 15,
    "start_time": "2022-08-26T14:31:32.250Z"
   },
   {
    "duration": 79,
    "start_time": "2022-08-26T14:31:32.266Z"
   },
   {
    "duration": 144,
    "start_time": "2022-08-26T14:31:32.347Z"
   },
   {
    "duration": 3,
    "start_time": "2022-08-26T14:31:32.493Z"
   },
   {
    "duration": 12,
    "start_time": "2022-08-26T14:31:32.498Z"
   },
   {
    "duration": 25,
    "start_time": "2022-08-26T14:31:32.513Z"
   },
   {
    "duration": 10,
    "start_time": "2022-08-26T14:31:32.540Z"
   },
   {
    "duration": 18,
    "start_time": "2022-08-26T14:31:32.552Z"
   },
   {
    "duration": 25,
    "start_time": "2022-08-26T14:31:32.571Z"
   },
   {
    "duration": 11,
    "start_time": "2022-08-26T14:31:32.598Z"
   },
   {
    "duration": 42,
    "start_time": "2022-08-26T14:31:32.611Z"
   },
   {
    "duration": 6,
    "start_time": "2022-08-26T14:31:32.655Z"
   },
   {
    "duration": 415,
    "start_time": "2022-08-26T14:31:32.662Z"
   },
   {
    "duration": 24,
    "start_time": "2022-08-26T14:31:33.078Z"
   },
   {
    "duration": 39,
    "start_time": "2022-08-26T14:31:33.104Z"
   },
   {
    "duration": 10,
    "start_time": "2022-08-26T14:31:33.144Z"
   },
   {
    "duration": 29,
    "start_time": "2022-08-26T14:31:33.156Z"
   },
   {
    "duration": 68,
    "start_time": "2022-08-26T14:31:33.187Z"
   },
   {
    "duration": 57,
    "start_time": "2022-08-26T14:31:33.257Z"
   },
   {
    "duration": 37,
    "start_time": "2022-08-26T14:31:33.316Z"
   },
   {
    "duration": 104,
    "start_time": "2022-08-26T14:31:33.355Z"
   },
   {
    "duration": 80,
    "start_time": "2022-08-26T14:31:33.461Z"
   },
   {
    "duration": 69,
    "start_time": "2022-08-26T14:31:33.543Z"
   },
   {
    "duration": 165,
    "start_time": "2022-08-26T14:31:33.616Z"
   },
   {
    "duration": 31,
    "start_time": "2022-08-26T14:31:33.783Z"
   },
   {
    "duration": 56,
    "start_time": "2022-08-26T14:31:33.816Z"
   },
   {
    "duration": 183,
    "start_time": "2022-08-26T14:31:33.873Z"
   },
   {
    "duration": 108,
    "start_time": "2022-08-26T14:31:34.057Z"
   },
   {
    "duration": 14,
    "start_time": "2022-08-26T14:31:34.166Z"
   },
   {
    "duration": 103,
    "start_time": "2022-08-26T14:31:34.238Z"
   },
   {
    "duration": 5,
    "start_time": "2022-08-26T14:31:34.343Z"
   },
   {
    "duration": 14,
    "start_time": "2022-08-26T14:31:34.350Z"
   },
   {
    "duration": 205,
    "start_time": "2022-08-26T14:31:34.366Z"
   },
   {
    "duration": 70,
    "start_time": "2022-08-26T14:31:34.573Z"
   },
   {
    "duration": 135,
    "start_time": "2022-08-26T14:31:34.645Z"
   },
   {
    "duration": 182,
    "start_time": "2022-08-26T14:31:34.782Z"
   },
   {
    "duration": 283,
    "start_time": "2022-08-26T14:31:34.965Z"
   },
   {
    "duration": 54,
    "start_time": "2022-08-26T14:32:56.683Z"
   },
   {
    "duration": 1418,
    "start_time": "2022-08-26T14:34:01.315Z"
   },
   {
    "duration": 181,
    "start_time": "2022-08-26T14:34:02.736Z"
   },
   {
    "duration": 12,
    "start_time": "2022-08-26T14:34:02.919Z"
   },
   {
    "duration": 21,
    "start_time": "2022-08-26T14:34:02.939Z"
   },
   {
    "duration": 15,
    "start_time": "2022-08-26T14:34:02.961Z"
   },
   {
    "duration": 79,
    "start_time": "2022-08-26T14:34:02.978Z"
   },
   {
    "duration": 138,
    "start_time": "2022-08-26T14:34:03.059Z"
   },
   {
    "duration": 4,
    "start_time": "2022-08-26T14:34:03.198Z"
   },
   {
    "duration": 11,
    "start_time": "2022-08-26T14:34:03.203Z"
   },
   {
    "duration": 29,
    "start_time": "2022-08-26T14:34:03.217Z"
   },
   {
    "duration": 10,
    "start_time": "2022-08-26T14:34:03.248Z"
   },
   {
    "duration": 16,
    "start_time": "2022-08-26T14:34:03.260Z"
   },
   {
    "duration": 25,
    "start_time": "2022-08-26T14:34:03.278Z"
   },
   {
    "duration": 34,
    "start_time": "2022-08-26T14:34:03.305Z"
   },
   {
    "duration": 17,
    "start_time": "2022-08-26T14:34:03.342Z"
   },
   {
    "duration": 10,
    "start_time": "2022-08-26T14:34:03.361Z"
   },
   {
    "duration": 606,
    "start_time": "2022-08-26T14:34:03.373Z"
   },
   {
    "duration": 75,
    "start_time": "2022-08-26T14:34:03.980Z"
   },
   {
    "duration": 23,
    "start_time": "2022-08-26T14:34:04.057Z"
   },
   {
    "duration": 10,
    "start_time": "2022-08-26T14:34:04.139Z"
   },
   {
    "duration": 88,
    "start_time": "2022-08-26T14:34:04.150Z"
   },
   {
    "duration": 100,
    "start_time": "2022-08-26T14:34:04.240Z"
   },
   {
    "duration": 116,
    "start_time": "2022-08-26T14:34:04.342Z"
   },
   {
    "duration": 95,
    "start_time": "2022-08-26T14:34:04.460Z"
   },
   {
    "duration": 227,
    "start_time": "2022-08-26T14:34:04.557Z"
   },
   {
    "duration": 147,
    "start_time": "2022-08-26T14:34:04.838Z"
   },
   {
    "duration": 116,
    "start_time": "2022-08-26T14:34:05.039Z"
   },
   {
    "duration": 281,
    "start_time": "2022-08-26T14:34:05.158Z"
   },
   {
    "duration": 23,
    "start_time": "2022-08-26T14:34:05.440Z"
   },
   {
    "duration": 93,
    "start_time": "2022-08-26T14:34:05.464Z"
   },
   {
    "duration": 128,
    "start_time": "2022-08-26T14:34:05.559Z"
   },
   {
    "duration": 309,
    "start_time": "2022-08-26T14:34:05.740Z"
   },
   {
    "duration": 0,
    "start_time": "2022-08-26T14:34:06.050Z"
   },
   {
    "duration": 0,
    "start_time": "2022-08-26T14:34:06.051Z"
   },
   {
    "duration": 0,
    "start_time": "2022-08-26T14:34:06.052Z"
   },
   {
    "duration": 0,
    "start_time": "2022-08-26T14:34:06.054Z"
   },
   {
    "duration": 0,
    "start_time": "2022-08-26T14:34:06.055Z"
   },
   {
    "duration": 0,
    "start_time": "2022-08-26T14:34:06.056Z"
   },
   {
    "duration": 53,
    "start_time": "2022-08-26T14:35:37.550Z"
   },
   {
    "duration": 52,
    "start_time": "2022-08-26T14:36:02.860Z"
   },
   {
    "duration": 51,
    "start_time": "2022-08-26T14:36:24.171Z"
   },
   {
    "duration": 95,
    "start_time": "2022-08-26T14:36:38.317Z"
   },
   {
    "duration": 95,
    "start_time": "2022-08-26T14:38:00.660Z"
   },
   {
    "duration": 1154,
    "start_time": "2022-08-26T14:40:42.290Z"
   },
   {
    "duration": 173,
    "start_time": "2022-08-26T14:40:43.446Z"
   },
   {
    "duration": 18,
    "start_time": "2022-08-26T14:40:43.620Z"
   },
   {
    "duration": 22,
    "start_time": "2022-08-26T14:40:43.641Z"
   },
   {
    "duration": 16,
    "start_time": "2022-08-26T14:40:43.665Z"
   },
   {
    "duration": 92,
    "start_time": "2022-08-26T14:40:43.683Z"
   },
   {
    "duration": 143,
    "start_time": "2022-08-26T14:40:43.777Z"
   },
   {
    "duration": 3,
    "start_time": "2022-08-26T14:40:43.922Z"
   },
   {
    "duration": 21,
    "start_time": "2022-08-26T14:40:43.927Z"
   },
   {
    "duration": 15,
    "start_time": "2022-08-26T14:40:43.951Z"
   },
   {
    "duration": 9,
    "start_time": "2022-08-26T14:40:43.967Z"
   },
   {
    "duration": 17,
    "start_time": "2022-08-26T14:40:43.977Z"
   },
   {
    "duration": 44,
    "start_time": "2022-08-26T14:40:43.995Z"
   },
   {
    "duration": 9,
    "start_time": "2022-08-26T14:40:44.040Z"
   },
   {
    "duration": 18,
    "start_time": "2022-08-26T14:40:44.050Z"
   },
   {
    "duration": 8,
    "start_time": "2022-08-26T14:40:44.070Z"
   },
   {
    "duration": 445,
    "start_time": "2022-08-26T14:40:44.079Z"
   },
   {
    "duration": 29,
    "start_time": "2022-08-26T14:40:44.526Z"
   },
   {
    "duration": 26,
    "start_time": "2022-08-26T14:40:44.557Z"
   },
   {
    "duration": 10,
    "start_time": "2022-08-26T14:40:44.585Z"
   },
   {
    "duration": 59,
    "start_time": "2022-08-26T14:40:44.596Z"
   },
   {
    "duration": 43,
    "start_time": "2022-08-26T14:40:44.657Z"
   },
   {
    "duration": 70,
    "start_time": "2022-08-26T14:40:44.701Z"
   },
   {
    "duration": 25,
    "start_time": "2022-08-26T14:40:44.773Z"
   },
   {
    "duration": 100,
    "start_time": "2022-08-26T14:40:44.800Z"
   },
   {
    "duration": 82,
    "start_time": "2022-08-26T14:40:44.902Z"
   },
   {
    "duration": 73,
    "start_time": "2022-08-26T14:40:44.985Z"
   },
   {
    "duration": 132,
    "start_time": "2022-08-26T14:40:45.061Z"
   },
   {
    "duration": 24,
    "start_time": "2022-08-26T14:40:45.195Z"
   },
   {
    "duration": 56,
    "start_time": "2022-08-26T14:40:45.220Z"
   },
   {
    "duration": 127,
    "start_time": "2022-08-26T14:40:45.278Z"
   },
   {
    "duration": 75,
    "start_time": "2022-08-26T14:40:45.406Z"
   },
   {
    "duration": 100,
    "start_time": "2022-08-26T14:40:45.483Z"
   },
   {
    "duration": 15,
    "start_time": "2022-08-26T14:40:45.585Z"
   },
   {
    "duration": 98,
    "start_time": "2022-08-26T14:40:45.602Z"
   },
   {
    "duration": 91,
    "start_time": "2022-08-26T14:40:45.702Z"
   },
   {
    "duration": 116,
    "start_time": "2022-08-26T14:40:45.794Z"
   },
   {
    "duration": 89,
    "start_time": "2022-08-26T14:46:14.022Z"
   },
   {
    "duration": 87,
    "start_time": "2022-08-26T14:49:56.241Z"
   },
   {
    "duration": 75,
    "start_time": "2022-08-26T14:50:31.350Z"
   },
   {
    "duration": 37,
    "start_time": "2022-08-26T14:53:02.785Z"
   },
   {
    "duration": 51,
    "start_time": "2022-08-26T14:53:47.289Z"
   },
   {
    "duration": 74,
    "start_time": "2022-08-26T14:55:12.422Z"
   },
   {
    "duration": 75,
    "start_time": "2022-08-26T14:55:32.539Z"
   },
   {
    "duration": 87,
    "start_time": "2022-08-26T14:56:51.472Z"
   },
   {
    "duration": 5,
    "start_time": "2022-08-26T14:57:11.229Z"
   },
   {
    "duration": 5,
    "start_time": "2022-08-26T14:57:34.750Z"
   },
   {
    "duration": 5,
    "start_time": "2022-08-26T14:58:23.126Z"
   },
   {
    "duration": 5,
    "start_time": "2022-08-26T14:58:28.991Z"
   },
   {
    "duration": 4,
    "start_time": "2022-08-26T14:58:39.921Z"
   },
   {
    "duration": 123,
    "start_time": "2022-08-26T14:59:25.140Z"
   },
   {
    "duration": 98,
    "start_time": "2022-08-26T14:59:45.985Z"
   },
   {
    "duration": 1265,
    "start_time": "2022-08-26T15:00:04.022Z"
   },
   {
    "duration": 170,
    "start_time": "2022-08-26T15:00:05.289Z"
   },
   {
    "duration": 12,
    "start_time": "2022-08-26T15:00:05.460Z"
   },
   {
    "duration": 22,
    "start_time": "2022-08-26T15:00:05.473Z"
   },
   {
    "duration": 16,
    "start_time": "2022-08-26T15:00:05.497Z"
   },
   {
    "duration": 85,
    "start_time": "2022-08-26T15:00:05.515Z"
   },
   {
    "duration": 162,
    "start_time": "2022-08-26T15:00:05.602Z"
   },
   {
    "duration": 4,
    "start_time": "2022-08-26T15:00:05.766Z"
   },
   {
    "duration": 12,
    "start_time": "2022-08-26T15:00:05.771Z"
   },
   {
    "duration": 21,
    "start_time": "2022-08-26T15:00:05.784Z"
   },
   {
    "duration": 10,
    "start_time": "2022-08-26T15:00:05.806Z"
   },
   {
    "duration": 14,
    "start_time": "2022-08-26T15:00:05.839Z"
   },
   {
    "duration": 29,
    "start_time": "2022-08-26T15:00:05.854Z"
   },
   {
    "duration": 15,
    "start_time": "2022-08-26T15:00:05.885Z"
   },
   {
    "duration": 18,
    "start_time": "2022-08-26T15:00:05.901Z"
   },
   {
    "duration": 6,
    "start_time": "2022-08-26T15:00:05.940Z"
   },
   {
    "duration": 460,
    "start_time": "2022-08-26T15:00:05.948Z"
   },
   {
    "duration": 34,
    "start_time": "2022-08-26T15:00:06.410Z"
   },
   {
    "duration": 25,
    "start_time": "2022-08-26T15:00:06.446Z"
   },
   {
    "duration": 10,
    "start_time": "2022-08-26T15:00:06.474Z"
   },
   {
    "duration": 56,
    "start_time": "2022-08-26T15:00:06.486Z"
   },
   {
    "duration": 46,
    "start_time": "2022-08-26T15:00:06.545Z"
   },
   {
    "duration": 82,
    "start_time": "2022-08-26T15:00:06.593Z"
   },
   {
    "duration": 24,
    "start_time": "2022-08-26T15:00:06.677Z"
   },
   {
    "duration": 99,
    "start_time": "2022-08-26T15:00:06.703Z"
   },
   {
    "duration": 90,
    "start_time": "2022-08-26T15:00:06.804Z"
   },
   {
    "duration": 79,
    "start_time": "2022-08-26T15:00:06.896Z"
   },
   {
    "duration": 161,
    "start_time": "2022-08-26T15:00:06.977Z"
   },
   {
    "duration": 33,
    "start_time": "2022-08-26T15:00:07.140Z"
   },
   {
    "duration": 100,
    "start_time": "2022-08-26T15:00:07.175Z"
   },
   {
    "duration": 131,
    "start_time": "2022-08-26T15:00:07.277Z"
   },
   {
    "duration": 72,
    "start_time": "2022-08-26T15:00:07.410Z"
   },
   {
    "duration": 110,
    "start_time": "2022-08-26T15:00:07.484Z"
   },
   {
    "duration": 114,
    "start_time": "2022-08-26T15:00:07.596Z"
   },
   {
    "duration": 93,
    "start_time": "2022-08-26T15:00:07.712Z"
   },
   {
    "duration": 114,
    "start_time": "2022-08-26T15:00:07.806Z"
   },
   {
    "duration": 117,
    "start_time": "2022-08-26T15:00:07.922Z"
   },
   {
    "duration": 17,
    "start_time": "2022-08-26T15:31:31.649Z"
   },
   {
    "duration": 29,
    "start_time": "2022-08-26T15:32:38.107Z"
   },
   {
    "duration": 29,
    "start_time": "2022-08-26T15:33:03.452Z"
   },
   {
    "duration": 20,
    "start_time": "2022-08-26T15:35:13.813Z"
   },
   {
    "duration": 118,
    "start_time": "2022-08-26T15:35:40.748Z"
   },
   {
    "duration": 10,
    "start_time": "2022-08-26T15:36:00.169Z"
   },
   {
    "duration": 540,
    "start_time": "2022-08-26T15:37:17.484Z"
   },
   {
    "duration": 608,
    "start_time": "2022-08-26T15:38:09.440Z"
   },
   {
    "duration": 563,
    "start_time": "2022-08-26T15:38:32.494Z"
   },
   {
    "duration": 15,
    "start_time": "2022-08-26T15:38:45.293Z"
   },
   {
    "duration": 649,
    "start_time": "2022-08-26T15:39:09.795Z"
   },
   {
    "duration": 1248,
    "start_time": "2022-08-26T15:39:18.346Z"
   },
   {
    "duration": 186,
    "start_time": "2022-08-26T15:39:19.596Z"
   },
   {
    "duration": 12,
    "start_time": "2022-08-26T15:39:19.784Z"
   },
   {
    "duration": 22,
    "start_time": "2022-08-26T15:39:19.799Z"
   },
   {
    "duration": 17,
    "start_time": "2022-08-26T15:39:19.839Z"
   },
   {
    "duration": 88,
    "start_time": "2022-08-26T15:39:19.857Z"
   },
   {
    "duration": 146,
    "start_time": "2022-08-26T15:39:19.946Z"
   },
   {
    "duration": 4,
    "start_time": "2022-08-26T15:39:20.094Z"
   },
   {
    "duration": 16,
    "start_time": "2022-08-26T15:39:20.099Z"
   },
   {
    "duration": 29,
    "start_time": "2022-08-26T15:39:20.117Z"
   },
   {
    "duration": 9,
    "start_time": "2022-08-26T15:39:20.148Z"
   },
   {
    "duration": 17,
    "start_time": "2022-08-26T15:39:20.159Z"
   },
   {
    "duration": 26,
    "start_time": "2022-08-26T15:39:20.178Z"
   },
   {
    "duration": 33,
    "start_time": "2022-08-26T15:39:20.205Z"
   },
   {
    "duration": 18,
    "start_time": "2022-08-26T15:39:20.240Z"
   },
   {
    "duration": 6,
    "start_time": "2022-08-26T15:39:20.260Z"
   },
   {
    "duration": 453,
    "start_time": "2022-08-26T15:39:20.268Z"
   },
   {
    "duration": 30,
    "start_time": "2022-08-26T15:39:20.723Z"
   },
   {
    "duration": 24,
    "start_time": "2022-08-26T15:39:20.755Z"
   },
   {
    "duration": 11,
    "start_time": "2022-08-26T15:39:20.780Z"
   },
   {
    "duration": 54,
    "start_time": "2022-08-26T15:39:20.792Z"
   },
   {
    "duration": 46,
    "start_time": "2022-08-26T15:39:20.848Z"
   },
   {
    "duration": 76,
    "start_time": "2022-08-26T15:39:20.896Z"
   },
   {
    "duration": 813,
    "start_time": "2022-08-26T15:39:20.973Z"
   },
   {
    "duration": 0,
    "start_time": "2022-08-26T15:39:21.788Z"
   },
   {
    "duration": 0,
    "start_time": "2022-08-26T15:39:21.789Z"
   },
   {
    "duration": 0,
    "start_time": "2022-08-26T15:39:21.791Z"
   },
   {
    "duration": 0,
    "start_time": "2022-08-26T15:39:21.792Z"
   },
   {
    "duration": 0,
    "start_time": "2022-08-26T15:39:21.794Z"
   },
   {
    "duration": 0,
    "start_time": "2022-08-26T15:39:21.795Z"
   },
   {
    "duration": 0,
    "start_time": "2022-08-26T15:39:21.796Z"
   },
   {
    "duration": 0,
    "start_time": "2022-08-26T15:39:21.797Z"
   },
   {
    "duration": 0,
    "start_time": "2022-08-26T15:39:21.799Z"
   },
   {
    "duration": 0,
    "start_time": "2022-08-26T15:39:21.801Z"
   },
   {
    "duration": 0,
    "start_time": "2022-08-26T15:39:21.802Z"
   },
   {
    "duration": 0,
    "start_time": "2022-08-26T15:39:21.804Z"
   },
   {
    "duration": 0,
    "start_time": "2022-08-26T15:39:21.806Z"
   },
   {
    "duration": 21,
    "start_time": "2022-08-26T15:39:43.965Z"
   },
   {
    "duration": 19,
    "start_time": "2022-08-26T15:39:58.990Z"
   },
   {
    "duration": 1196,
    "start_time": "2022-08-26T15:40:17.564Z"
   },
   {
    "duration": 197,
    "start_time": "2022-08-26T15:40:18.763Z"
   },
   {
    "duration": 15,
    "start_time": "2022-08-26T15:40:18.962Z"
   },
   {
    "duration": 29,
    "start_time": "2022-08-26T15:40:18.979Z"
   },
   {
    "duration": 34,
    "start_time": "2022-08-26T15:40:19.011Z"
   },
   {
    "duration": 92,
    "start_time": "2022-08-26T15:40:19.047Z"
   },
   {
    "duration": 145,
    "start_time": "2022-08-26T15:40:19.141Z"
   },
   {
    "duration": 4,
    "start_time": "2022-08-26T15:40:19.289Z"
   },
   {
    "duration": 11,
    "start_time": "2022-08-26T15:40:19.294Z"
   },
   {
    "duration": 19,
    "start_time": "2022-08-26T15:40:19.306Z"
   },
   {
    "duration": 19,
    "start_time": "2022-08-26T15:40:19.326Z"
   },
   {
    "duration": 16,
    "start_time": "2022-08-26T15:40:19.347Z"
   },
   {
    "duration": 25,
    "start_time": "2022-08-26T15:40:19.365Z"
   },
   {
    "duration": 10,
    "start_time": "2022-08-26T15:40:19.393Z"
   },
   {
    "duration": 47,
    "start_time": "2022-08-26T15:40:19.405Z"
   },
   {
    "duration": 7,
    "start_time": "2022-08-26T15:40:19.454Z"
   },
   {
    "duration": 437,
    "start_time": "2022-08-26T15:40:19.462Z"
   },
   {
    "duration": 25,
    "start_time": "2022-08-26T15:40:19.900Z"
   },
   {
    "duration": 35,
    "start_time": "2022-08-26T15:40:19.926Z"
   },
   {
    "duration": 10,
    "start_time": "2022-08-26T15:40:19.963Z"
   },
   {
    "duration": 30,
    "start_time": "2022-08-26T15:40:19.974Z"
   },
   {
    "duration": 77,
    "start_time": "2022-08-26T15:40:20.006Z"
   },
   {
    "duration": 72,
    "start_time": "2022-08-26T15:40:20.085Z"
   },
   {
    "duration": 16,
    "start_time": "2022-08-26T15:40:20.158Z"
   },
   {
    "duration": 26,
    "start_time": "2022-08-26T15:40:20.176Z"
   },
   {
    "duration": 109,
    "start_time": "2022-08-26T15:40:20.204Z"
   },
   {
    "duration": 83,
    "start_time": "2022-08-26T15:40:20.314Z"
   },
   {
    "duration": 78,
    "start_time": "2022-08-26T15:40:20.399Z"
   },
   {
    "duration": 155,
    "start_time": "2022-08-26T15:40:20.479Z"
   },
   {
    "duration": 26,
    "start_time": "2022-08-26T15:40:20.636Z"
   },
   {
    "duration": 99,
    "start_time": "2022-08-26T15:40:20.664Z"
   },
   {
    "duration": 117,
    "start_time": "2022-08-26T15:40:20.765Z"
   },
   {
    "duration": 64,
    "start_time": "2022-08-26T15:40:20.884Z"
   },
   {
    "duration": 105,
    "start_time": "2022-08-26T15:40:20.950Z"
   },
   {
    "duration": 107,
    "start_time": "2022-08-26T15:40:21.057Z"
   },
   {
    "duration": 90,
    "start_time": "2022-08-26T15:40:21.166Z"
   },
   {
    "duration": 115,
    "start_time": "2022-08-26T15:40:21.257Z"
   },
   {
    "duration": 1196,
    "start_time": "2022-08-26T17:19:13.557Z"
   },
   {
    "duration": 166,
    "start_time": "2022-08-26T17:19:14.754Z"
   },
   {
    "duration": 16,
    "start_time": "2022-08-26T17:19:14.922Z"
   },
   {
    "duration": 20,
    "start_time": "2022-08-26T17:19:14.940Z"
   },
   {
    "duration": 15,
    "start_time": "2022-08-26T17:19:14.962Z"
   },
   {
    "duration": 86,
    "start_time": "2022-08-26T17:19:14.978Z"
   },
   {
    "duration": 145,
    "start_time": "2022-08-26T17:19:15.066Z"
   },
   {
    "duration": 4,
    "start_time": "2022-08-26T17:19:15.213Z"
   },
   {
    "duration": 20,
    "start_time": "2022-08-26T17:19:15.219Z"
   },
   {
    "duration": 13,
    "start_time": "2022-08-26T17:19:15.241Z"
   },
   {
    "duration": 9,
    "start_time": "2022-08-26T17:19:15.256Z"
   },
   {
    "duration": 16,
    "start_time": "2022-08-26T17:19:15.267Z"
   },
   {
    "duration": 23,
    "start_time": "2022-08-26T17:19:15.284Z"
   },
   {
    "duration": 36,
    "start_time": "2022-08-26T17:19:15.310Z"
   },
   {
    "duration": 16,
    "start_time": "2022-08-26T17:19:15.347Z"
   },
   {
    "duration": 5,
    "start_time": "2022-08-26T17:19:15.365Z"
   },
   {
    "duration": 442,
    "start_time": "2022-08-26T17:19:15.372Z"
   },
   {
    "duration": 31,
    "start_time": "2022-08-26T17:19:15.816Z"
   },
   {
    "duration": 24,
    "start_time": "2022-08-26T17:19:15.849Z"
   },
   {
    "duration": 10,
    "start_time": "2022-08-26T17:19:15.874Z"
   },
   {
    "duration": 53,
    "start_time": "2022-08-26T17:19:15.886Z"
   },
   {
    "duration": 45,
    "start_time": "2022-08-26T17:19:15.940Z"
   },
   {
    "duration": 74,
    "start_time": "2022-08-26T17:19:15.987Z"
   },
   {
    "duration": 17,
    "start_time": "2022-08-26T17:19:16.063Z"
   },
   {
    "duration": 38,
    "start_time": "2022-08-26T17:19:16.083Z"
   },
   {
    "duration": 102,
    "start_time": "2022-08-26T17:19:16.123Z"
   },
   {
    "duration": 78,
    "start_time": "2022-08-26T17:19:16.227Z"
   },
   {
    "duration": 75,
    "start_time": "2022-08-26T17:19:16.307Z"
   },
   {
    "duration": 156,
    "start_time": "2022-08-26T17:19:16.384Z"
   },
   {
    "duration": 25,
    "start_time": "2022-08-26T17:19:16.542Z"
   },
   {
    "duration": 97,
    "start_time": "2022-08-26T17:19:16.569Z"
   },
   {
    "duration": 129,
    "start_time": "2022-08-26T17:19:16.668Z"
   },
   {
    "duration": 78,
    "start_time": "2022-08-26T17:19:16.799Z"
   },
   {
    "duration": 108,
    "start_time": "2022-08-26T17:19:16.880Z"
   },
   {
    "duration": 116,
    "start_time": "2022-08-26T17:19:16.990Z"
   },
   {
    "duration": 97,
    "start_time": "2022-08-26T17:19:17.108Z"
   },
   {
    "duration": 118,
    "start_time": "2022-08-26T17:19:17.208Z"
   },
   {
    "duration": 49,
    "start_time": "2022-08-26T17:24:03.960Z"
   },
   {
    "duration": 92,
    "start_time": "2022-08-26T17:31:31.523Z"
   },
   {
    "duration": 76,
    "start_time": "2022-08-26T17:31:49.571Z"
   },
   {
    "duration": 1263,
    "start_time": "2022-08-26T17:34:25.335Z"
   },
   {
    "duration": 167,
    "start_time": "2022-08-26T17:34:26.600Z"
   },
   {
    "duration": 12,
    "start_time": "2022-08-26T17:34:26.769Z"
   },
   {
    "duration": 25,
    "start_time": "2022-08-26T17:34:26.783Z"
   },
   {
    "duration": 31,
    "start_time": "2022-08-26T17:34:26.809Z"
   },
   {
    "duration": 68,
    "start_time": "2022-08-26T17:34:26.842Z"
   },
   {
    "duration": 149,
    "start_time": "2022-08-26T17:34:26.912Z"
   },
   {
    "duration": 4,
    "start_time": "2022-08-26T17:34:27.062Z"
   },
   {
    "duration": 11,
    "start_time": "2022-08-26T17:34:27.067Z"
   },
   {
    "duration": 16,
    "start_time": "2022-08-26T17:34:27.080Z"
   },
   {
    "duration": 10,
    "start_time": "2022-08-26T17:34:27.098Z"
   },
   {
    "duration": 14,
    "start_time": "2022-08-26T17:34:27.138Z"
   },
   {
    "duration": 28,
    "start_time": "2022-08-26T17:34:27.154Z"
   },
   {
    "duration": 13,
    "start_time": "2022-08-26T17:34:27.184Z"
   },
   {
    "duration": 42,
    "start_time": "2022-08-26T17:34:27.199Z"
   },
   {
    "duration": 5,
    "start_time": "2022-08-26T17:34:27.243Z"
   },
   {
    "duration": 428,
    "start_time": "2022-08-26T17:34:27.250Z"
   },
   {
    "duration": 28,
    "start_time": "2022-08-26T17:34:27.680Z"
   },
   {
    "duration": 39,
    "start_time": "2022-08-26T17:34:27.710Z"
   },
   {
    "duration": 10,
    "start_time": "2022-08-26T17:34:27.751Z"
   },
   {
    "duration": 29,
    "start_time": "2022-08-26T17:34:27.762Z"
   },
   {
    "duration": 69,
    "start_time": "2022-08-26T17:34:27.793Z"
   },
   {
    "duration": 59,
    "start_time": "2022-08-26T17:34:27.863Z"
   },
   {
    "duration": 17,
    "start_time": "2022-08-26T17:34:27.938Z"
   },
   {
    "duration": 25,
    "start_time": "2022-08-26T17:34:27.956Z"
   },
   {
    "duration": 109,
    "start_time": "2022-08-26T17:34:27.983Z"
   },
   {
    "duration": 81,
    "start_time": "2022-08-26T17:34:28.093Z"
   },
   {
    "duration": 81,
    "start_time": "2022-08-26T17:34:28.178Z"
   },
   {
    "duration": 184,
    "start_time": "2022-08-26T17:34:28.261Z"
   },
   {
    "duration": 24,
    "start_time": "2022-08-26T17:34:28.447Z"
   },
   {
    "duration": 92,
    "start_time": "2022-08-26T17:34:28.473Z"
   },
   {
    "duration": 139,
    "start_time": "2022-08-26T17:34:28.567Z"
   },
   {
    "duration": 59,
    "start_time": "2022-08-26T17:34:28.707Z"
   },
   {
    "duration": 111,
    "start_time": "2022-08-26T17:34:28.768Z"
   },
   {
    "duration": 134,
    "start_time": "2022-08-26T17:34:28.882Z"
   },
   {
    "duration": 108,
    "start_time": "2022-08-26T17:34:29.018Z"
   },
   {
    "duration": 132,
    "start_time": "2022-08-26T17:34:29.127Z"
   },
   {
    "duration": 1198,
    "start_time": "2022-08-26T17:48:21.951Z"
   },
   {
    "duration": 166,
    "start_time": "2022-08-26T17:48:23.151Z"
   },
   {
    "duration": 11,
    "start_time": "2022-08-26T17:48:23.318Z"
   },
   {
    "duration": 27,
    "start_time": "2022-08-26T17:48:23.331Z"
   },
   {
    "duration": 15,
    "start_time": "2022-08-26T17:48:23.360Z"
   },
   {
    "duration": 81,
    "start_time": "2022-08-26T17:48:23.377Z"
   },
   {
    "duration": 163,
    "start_time": "2022-08-26T17:48:23.460Z"
   },
   {
    "duration": 3,
    "start_time": "2022-08-26T17:48:23.625Z"
   },
   {
    "duration": 9,
    "start_time": "2022-08-26T17:48:23.637Z"
   },
   {
    "duration": 20,
    "start_time": "2022-08-26T17:48:23.650Z"
   },
   {
    "duration": 11,
    "start_time": "2022-08-26T17:48:23.672Z"
   },
   {
    "duration": 20,
    "start_time": "2022-08-26T17:48:23.685Z"
   },
   {
    "duration": 46,
    "start_time": "2022-08-26T17:48:23.706Z"
   },
   {
    "duration": 14,
    "start_time": "2022-08-26T17:48:23.754Z"
   },
   {
    "duration": 20,
    "start_time": "2022-08-26T17:48:23.770Z"
   },
   {
    "duration": 5,
    "start_time": "2022-08-26T17:48:23.792Z"
   },
   {
    "duration": 459,
    "start_time": "2022-08-26T17:48:23.799Z"
   },
   {
    "duration": 26,
    "start_time": "2022-08-26T17:48:24.260Z"
   },
   {
    "duration": 28,
    "start_time": "2022-08-26T17:48:24.288Z"
   },
   {
    "duration": 11,
    "start_time": "2022-08-26T17:48:24.339Z"
   },
   {
    "duration": 34,
    "start_time": "2022-08-26T17:48:24.353Z"
   },
   {
    "duration": 71,
    "start_time": "2022-08-26T17:48:24.389Z"
   },
   {
    "duration": 58,
    "start_time": "2022-08-26T17:48:24.462Z"
   },
   {
    "duration": 34,
    "start_time": "2022-08-26T17:48:24.521Z"
   },
   {
    "duration": 41,
    "start_time": "2022-08-26T17:48:24.557Z"
   },
   {
    "duration": 107,
    "start_time": "2022-08-26T17:48:24.600Z"
   },
   {
    "duration": 79,
    "start_time": "2022-08-26T17:48:24.708Z"
   },
   {
    "duration": 76,
    "start_time": "2022-08-26T17:48:24.791Z"
   },
   {
    "duration": 144,
    "start_time": "2022-08-26T17:48:24.869Z"
   },
   {
    "duration": 31,
    "start_time": "2022-08-26T17:48:25.015Z"
   },
   {
    "duration": 92,
    "start_time": "2022-08-26T17:48:25.047Z"
   },
   {
    "duration": 98,
    "start_time": "2022-08-26T17:48:25.141Z"
   },
   {
    "duration": 57,
    "start_time": "2022-08-26T17:48:25.241Z"
   },
   {
    "duration": 117,
    "start_time": "2022-08-26T17:48:25.300Z"
   },
   {
    "duration": 109,
    "start_time": "2022-08-26T17:48:25.419Z"
   },
   {
    "duration": 84,
    "start_time": "2022-08-26T17:48:25.539Z"
   },
   {
    "duration": 121,
    "start_time": "2022-08-26T17:48:25.638Z"
   },
   {
    "duration": 35,
    "start_time": "2022-08-26T17:50:13.353Z"
   },
   {
    "duration": 29,
    "start_time": "2022-08-26T17:50:22.058Z"
   },
   {
    "duration": 16,
    "start_time": "2022-08-26T17:51:27.227Z"
   },
   {
    "duration": 77,
    "start_time": "2022-08-26T17:57:25.663Z"
   },
   {
    "duration": 66,
    "start_time": "2022-08-26T17:58:39.987Z"
   },
   {
    "duration": 70,
    "start_time": "2022-08-26T17:58:57.872Z"
   },
   {
    "duration": 1197,
    "start_time": "2022-08-26T18:05:50.096Z"
   },
   {
    "duration": 190,
    "start_time": "2022-08-26T18:05:51.295Z"
   },
   {
    "duration": 11,
    "start_time": "2022-08-26T18:05:51.487Z"
   },
   {
    "duration": 39,
    "start_time": "2022-08-26T18:05:51.500Z"
   },
   {
    "duration": 25,
    "start_time": "2022-08-26T18:05:51.541Z"
   },
   {
    "duration": 94,
    "start_time": "2022-08-26T18:05:51.569Z"
   },
   {
    "duration": 159,
    "start_time": "2022-08-26T18:05:51.664Z"
   },
   {
    "duration": 3,
    "start_time": "2022-08-26T18:05:51.824Z"
   },
   {
    "duration": 41,
    "start_time": "2022-08-26T18:05:51.829Z"
   },
   {
    "duration": 35,
    "start_time": "2022-08-26T18:05:51.874Z"
   },
   {
    "duration": 10,
    "start_time": "2022-08-26T18:05:51.910Z"
   },
   {
    "duration": 15,
    "start_time": "2022-08-26T18:05:51.922Z"
   },
   {
    "duration": 45,
    "start_time": "2022-08-26T18:05:51.940Z"
   },
   {
    "duration": 14,
    "start_time": "2022-08-26T18:05:51.987Z"
   },
   {
    "duration": 17,
    "start_time": "2022-08-26T18:05:52.003Z"
   },
   {
    "duration": 6,
    "start_time": "2022-08-26T18:05:52.022Z"
   },
   {
    "duration": 460,
    "start_time": "2022-08-26T18:05:52.029Z"
   },
   {
    "duration": 25,
    "start_time": "2022-08-26T18:05:52.491Z"
   },
   {
    "duration": 35,
    "start_time": "2022-08-26T18:05:52.518Z"
   },
   {
    "duration": 12,
    "start_time": "2022-08-26T18:05:52.556Z"
   },
   {
    "duration": 28,
    "start_time": "2022-08-26T18:05:52.570Z"
   },
   {
    "duration": 87,
    "start_time": "2022-08-26T18:05:52.600Z"
   },
   {
    "duration": 85,
    "start_time": "2022-08-26T18:05:52.688Z"
   },
   {
    "duration": 16,
    "start_time": "2022-08-26T18:05:52.775Z"
   },
   {
    "duration": 50,
    "start_time": "2022-08-26T18:05:52.793Z"
   },
   {
    "duration": 109,
    "start_time": "2022-08-26T18:05:52.845Z"
   },
   {
    "duration": 73,
    "start_time": "2022-08-26T18:05:52.956Z"
   },
   {
    "duration": 81,
    "start_time": "2022-08-26T18:05:53.032Z"
   },
   {
    "duration": 205,
    "start_time": "2022-08-26T18:05:53.115Z"
   },
   {
    "duration": 38,
    "start_time": "2022-08-26T18:05:53.322Z"
   },
   {
    "duration": 104,
    "start_time": "2022-08-26T18:05:53.361Z"
   },
   {
    "duration": 122,
    "start_time": "2022-08-26T18:05:53.467Z"
   },
   {
    "duration": 68,
    "start_time": "2022-08-26T18:05:53.591Z"
   },
   {
    "duration": 120,
    "start_time": "2022-08-26T18:05:53.661Z"
   },
   {
    "duration": 107,
    "start_time": "2022-08-26T18:05:53.783Z"
   },
   {
    "duration": 101,
    "start_time": "2022-08-26T18:05:53.892Z"
   },
   {
    "duration": 120,
    "start_time": "2022-08-26T18:05:53.995Z"
   },
   {
    "duration": 1408,
    "start_time": "2022-08-26T19:11:39.443Z"
   },
   {
    "duration": 772,
    "start_time": "2022-08-26T19:11:40.853Z"
   },
   {
    "duration": 12,
    "start_time": "2022-08-26T19:11:41.627Z"
   },
   {
    "duration": 26,
    "start_time": "2022-08-26T19:11:41.641Z"
   },
   {
    "duration": 12,
    "start_time": "2022-08-26T19:11:41.668Z"
   },
   {
    "duration": 70,
    "start_time": "2022-08-26T19:11:41.681Z"
   },
   {
    "duration": 132,
    "start_time": "2022-08-26T19:11:41.752Z"
   },
   {
    "duration": 3,
    "start_time": "2022-08-26T19:11:41.886Z"
   },
   {
    "duration": 26,
    "start_time": "2022-08-26T19:11:41.890Z"
   },
   {
    "duration": 25,
    "start_time": "2022-08-26T19:11:41.920Z"
   },
   {
    "duration": 9,
    "start_time": "2022-08-26T19:11:41.946Z"
   },
   {
    "duration": 12,
    "start_time": "2022-08-26T19:11:41.956Z"
   },
   {
    "duration": 19,
    "start_time": "2022-08-26T19:11:41.969Z"
   },
   {
    "duration": 9,
    "start_time": "2022-08-26T19:11:41.990Z"
   },
   {
    "duration": 31,
    "start_time": "2022-08-26T19:11:42.005Z"
   },
   {
    "duration": 5,
    "start_time": "2022-08-26T19:11:42.038Z"
   },
   {
    "duration": 386,
    "start_time": "2022-08-26T19:11:42.045Z"
   },
   {
    "duration": 22,
    "start_time": "2022-08-26T19:11:42.433Z"
   },
   {
    "duration": 19,
    "start_time": "2022-08-26T19:11:42.457Z"
   },
   {
    "duration": 8,
    "start_time": "2022-08-26T19:11:42.478Z"
   },
   {
    "duration": 32,
    "start_time": "2022-08-26T19:11:42.506Z"
   },
   {
    "duration": 42,
    "start_time": "2022-08-26T19:11:42.539Z"
   },
   {
    "duration": 82,
    "start_time": "2022-08-26T19:11:42.583Z"
   },
   {
    "duration": 14,
    "start_time": "2022-08-26T19:11:42.667Z"
   },
   {
    "duration": 34,
    "start_time": "2022-08-26T19:11:42.682Z"
   },
   {
    "duration": 94,
    "start_time": "2022-08-26T19:11:42.719Z"
   },
   {
    "duration": 74,
    "start_time": "2022-08-26T19:11:42.815Z"
   },
   {
    "duration": 69,
    "start_time": "2022-08-26T19:11:42.892Z"
   },
   {
    "duration": 221,
    "start_time": "2022-08-26T19:11:42.963Z"
   },
   {
    "duration": 23,
    "start_time": "2022-08-26T19:11:43.186Z"
   },
   {
    "duration": 41,
    "start_time": "2022-08-26T19:11:43.211Z"
   },
   {
    "duration": 118,
    "start_time": "2022-08-26T19:11:43.253Z"
   },
   {
    "duration": 69,
    "start_time": "2022-08-26T19:11:43.373Z"
   },
   {
    "duration": 100,
    "start_time": "2022-08-26T19:11:43.444Z"
   },
   {
    "duration": 99,
    "start_time": "2022-08-26T19:11:43.545Z"
   },
   {
    "duration": 90,
    "start_time": "2022-08-26T19:11:43.646Z"
   },
   {
    "duration": 103,
    "start_time": "2022-08-26T19:11:43.738Z"
   },
   {
    "duration": 48,
    "start_time": "2022-08-26T19:48:46.524Z"
   },
   {
    "duration": 1386,
    "start_time": "2022-08-26T19:48:51.541Z"
   },
   {
    "duration": 515,
    "start_time": "2022-08-26T19:48:52.929Z"
   },
   {
    "duration": 12,
    "start_time": "2022-08-26T19:48:53.446Z"
   },
   {
    "duration": 21,
    "start_time": "2022-08-26T19:48:53.460Z"
   },
   {
    "duration": 15,
    "start_time": "2022-08-26T19:48:53.483Z"
   },
   {
    "duration": 83,
    "start_time": "2022-08-26T19:48:53.499Z"
   },
   {
    "duration": 157,
    "start_time": "2022-08-26T19:48:53.584Z"
   },
   {
    "duration": 3,
    "start_time": "2022-08-26T19:48:53.743Z"
   },
   {
    "duration": 13,
    "start_time": "2022-08-26T19:48:53.748Z"
   },
   {
    "duration": 16,
    "start_time": "2022-08-26T19:48:53.764Z"
   },
   {
    "duration": 9,
    "start_time": "2022-08-26T19:48:53.782Z"
   },
   {
    "duration": 48,
    "start_time": "2022-08-26T19:48:53.793Z"
   },
   {
    "duration": 38,
    "start_time": "2022-08-26T19:48:53.844Z"
   },
   {
    "duration": 10,
    "start_time": "2022-08-26T19:48:53.884Z"
   },
   {
    "duration": 17,
    "start_time": "2022-08-26T19:48:53.895Z"
   },
   {
    "duration": 6,
    "start_time": "2022-08-26T19:48:53.939Z"
   },
   {
    "duration": 413,
    "start_time": "2022-08-26T19:48:53.947Z"
   },
   {
    "duration": 24,
    "start_time": "2022-08-26T19:48:54.362Z"
   },
   {
    "duration": 23,
    "start_time": "2022-08-26T19:48:54.388Z"
   },
   {
    "duration": 28,
    "start_time": "2022-08-26T19:48:54.413Z"
   },
   {
    "duration": 28,
    "start_time": "2022-08-26T19:48:54.442Z"
   },
   {
    "duration": 44,
    "start_time": "2022-08-26T19:48:54.472Z"
   },
   {
    "duration": 68,
    "start_time": "2022-08-26T19:48:54.523Z"
   },
   {
    "duration": 15,
    "start_time": "2022-08-26T19:48:54.592Z"
   },
   {
    "duration": 47,
    "start_time": "2022-08-26T19:48:54.609Z"
   },
   {
    "duration": 93,
    "start_time": "2022-08-26T19:48:54.658Z"
   },
   {
    "duration": 85,
    "start_time": "2022-08-26T19:48:54.754Z"
   },
   {
    "duration": 67,
    "start_time": "2022-08-26T19:48:54.842Z"
   },
   {
    "duration": 169,
    "start_time": "2022-08-26T19:48:54.911Z"
   },
   {
    "duration": 27,
    "start_time": "2022-08-26T19:48:55.081Z"
   },
   {
    "duration": 63,
    "start_time": "2022-08-26T19:48:55.109Z"
   },
   {
    "duration": 132,
    "start_time": "2022-08-26T19:48:55.174Z"
   },
   {
    "duration": 61,
    "start_time": "2022-08-26T19:48:55.308Z"
   },
   {
    "duration": 106,
    "start_time": "2022-08-26T19:48:55.371Z"
   },
   {
    "duration": 106,
    "start_time": "2022-08-26T19:48:55.479Z"
   },
   {
    "duration": 98,
    "start_time": "2022-08-26T19:48:55.587Z"
   },
   {
    "duration": 118,
    "start_time": "2022-08-26T19:48:55.687Z"
   },
   {
    "duration": 79,
    "start_time": "2022-08-26T19:51:37.678Z"
   },
   {
    "duration": 189,
    "start_time": "2022-08-26T19:51:48.149Z"
   },
   {
    "duration": 82,
    "start_time": "2022-08-26T19:52:06.219Z"
   },
   {
    "duration": 39,
    "start_time": "2022-08-26T20:02:01.419Z"
   },
   {
    "duration": 5,
    "start_time": "2022-08-26T20:07:21.670Z"
   },
   {
    "duration": 8,
    "start_time": "2022-08-26T20:07:53.488Z"
   },
   {
    "duration": 76,
    "start_time": "2022-08-26T20:08:24.122Z"
   },
   {
    "duration": 4,
    "start_time": "2022-08-26T20:08:59.729Z"
   },
   {
    "duration": 785,
    "start_time": "2022-08-26T20:15:31.719Z"
   },
   {
    "duration": 906,
    "start_time": "2022-08-26T20:15:46.085Z"
   },
   {
    "duration": 954,
    "start_time": "2022-08-26T20:15:57.135Z"
   },
   {
    "duration": 716,
    "start_time": "2022-08-26T20:16:13.325Z"
   },
   {
    "duration": 16,
    "start_time": "2022-08-26T20:18:09.136Z"
   },
   {
    "duration": 12,
    "start_time": "2022-08-26T20:18:35.003Z"
   },
   {
    "duration": 12,
    "start_time": "2022-08-26T20:18:48.732Z"
   },
   {
    "duration": 22,
    "start_time": "2022-08-26T20:18:57.149Z"
   },
   {
    "duration": 17,
    "start_time": "2022-08-26T20:19:12.623Z"
   },
   {
    "duration": 13,
    "start_time": "2022-08-26T20:19:40.990Z"
   },
   {
    "duration": 75,
    "start_time": "2022-08-27T09:55:26.258Z"
   },
   {
    "duration": 1367,
    "start_time": "2022-08-27T09:55:33.393Z"
   },
   {
    "duration": 693,
    "start_time": "2022-08-27T09:55:34.762Z"
   },
   {
    "duration": 12,
    "start_time": "2022-08-27T09:55:35.457Z"
   },
   {
    "duration": 21,
    "start_time": "2022-08-27T09:55:35.472Z"
   },
   {
    "duration": 14,
    "start_time": "2022-08-27T09:55:35.495Z"
   },
   {
    "duration": 84,
    "start_time": "2022-08-27T09:55:35.511Z"
   },
   {
    "duration": 152,
    "start_time": "2022-08-27T09:55:35.596Z"
   },
   {
    "duration": 4,
    "start_time": "2022-08-27T09:55:35.749Z"
   },
   {
    "duration": 19,
    "start_time": "2022-08-27T09:55:35.754Z"
   },
   {
    "duration": 16,
    "start_time": "2022-08-27T09:55:35.775Z"
   },
   {
    "duration": 9,
    "start_time": "2022-08-27T09:55:35.793Z"
   },
   {
    "duration": 16,
    "start_time": "2022-08-27T09:55:35.803Z"
   },
   {
    "duration": 24,
    "start_time": "2022-08-27T09:55:35.821Z"
   },
   {
    "duration": 9,
    "start_time": "2022-08-27T09:55:35.867Z"
   },
   {
    "duration": 14,
    "start_time": "2022-08-27T09:55:35.878Z"
   },
   {
    "duration": 5,
    "start_time": "2022-08-27T09:55:35.894Z"
   },
   {
    "duration": 473,
    "start_time": "2022-08-27T09:55:35.900Z"
   },
   {
    "duration": 26,
    "start_time": "2022-08-27T09:55:36.375Z"
   },
   {
    "duration": 23,
    "start_time": "2022-08-27T09:55:36.403Z"
   },
   {
    "duration": 10,
    "start_time": "2022-08-27T09:55:36.427Z"
   },
   {
    "duration": 69,
    "start_time": "2022-08-27T09:55:36.438Z"
   },
   {
    "duration": 70,
    "start_time": "2022-08-27T09:55:36.510Z"
   },
   {
    "duration": 74,
    "start_time": "2022-08-27T09:55:36.582Z"
   },
   {
    "duration": 59,
    "start_time": "2022-08-27T09:55:36.667Z"
   },
   {
    "duration": 19,
    "start_time": "2022-08-27T09:55:36.728Z"
   },
   {
    "duration": 27,
    "start_time": "2022-08-27T09:55:36.769Z"
   },
   {
    "duration": 128,
    "start_time": "2022-08-27T09:55:36.799Z"
   },
   {
    "duration": 89,
    "start_time": "2022-08-27T09:55:36.931Z"
   },
   {
    "duration": 74,
    "start_time": "2022-08-27T09:55:37.022Z"
   },
   {
    "duration": 149,
    "start_time": "2022-08-27T09:55:37.098Z"
   },
   {
    "duration": 29,
    "start_time": "2022-08-27T09:55:37.249Z"
   },
   {
    "duration": 106,
    "start_time": "2022-08-27T09:55:37.281Z"
   },
   {
    "duration": 137,
    "start_time": "2022-08-27T09:55:37.390Z"
   },
   {
    "duration": 70,
    "start_time": "2022-08-27T09:55:37.529Z"
   },
   {
    "duration": 107,
    "start_time": "2022-08-27T09:55:37.601Z"
   },
   {
    "duration": 113,
    "start_time": "2022-08-27T09:55:37.710Z"
   },
   {
    "duration": 93,
    "start_time": "2022-08-27T09:55:37.825Z"
   },
   {
    "duration": 115,
    "start_time": "2022-08-27T09:55:37.920Z"
   },
   {
    "duration": 82,
    "start_time": "2022-08-27T09:56:22.611Z"
   },
   {
    "duration": 1505,
    "start_time": "2022-08-27T09:56:29.831Z"
   },
   {
    "duration": 1392,
    "start_time": "2022-08-27T09:56:43.162Z"
   },
   {
    "duration": 1424,
    "start_time": "2022-08-27T09:56:59.275Z"
   },
   {
    "duration": 11,
    "start_time": "2022-08-27T09:57:19.763Z"
   },
   {
    "duration": 12,
    "start_time": "2022-08-27T09:58:12.163Z"
   },
   {
    "duration": 130,
    "start_time": "2022-08-27T09:58:39.037Z"
   },
   {
    "duration": 12,
    "start_time": "2022-08-27T09:58:46.074Z"
   },
   {
    "duration": 1299,
    "start_time": "2022-08-27T10:27:59.087Z"
   },
   {
    "duration": 165,
    "start_time": "2022-08-27T10:28:00.388Z"
   },
   {
    "duration": 14,
    "start_time": "2022-08-27T10:28:00.554Z"
   },
   {
    "duration": 23,
    "start_time": "2022-08-27T10:28:00.570Z"
   },
   {
    "duration": 15,
    "start_time": "2022-08-27T10:28:00.595Z"
   },
   {
    "duration": 89,
    "start_time": "2022-08-27T10:28:00.612Z"
   },
   {
    "duration": 152,
    "start_time": "2022-08-27T10:28:00.703Z"
   },
   {
    "duration": 3,
    "start_time": "2022-08-27T10:28:00.857Z"
   },
   {
    "duration": 20,
    "start_time": "2022-08-27T10:28:00.868Z"
   },
   {
    "duration": 30,
    "start_time": "2022-08-27T10:28:00.891Z"
   },
   {
    "duration": 21,
    "start_time": "2022-08-27T10:28:00.923Z"
   },
   {
    "duration": 20,
    "start_time": "2022-08-27T10:28:00.945Z"
   },
   {
    "duration": 28,
    "start_time": "2022-08-27T10:28:00.966Z"
   },
   {
    "duration": 13,
    "start_time": "2022-08-27T10:28:00.996Z"
   },
   {
    "duration": 18,
    "start_time": "2022-08-27T10:28:01.011Z"
   },
   {
    "duration": 14,
    "start_time": "2022-08-27T10:28:01.031Z"
   },
   {
    "duration": 460,
    "start_time": "2022-08-27T10:28:01.047Z"
   },
   {
    "duration": 33,
    "start_time": "2022-08-27T10:28:01.510Z"
   },
   {
    "duration": 43,
    "start_time": "2022-08-27T10:28:01.545Z"
   },
   {
    "duration": 10,
    "start_time": "2022-08-27T10:28:01.590Z"
   },
   {
    "duration": 27,
    "start_time": "2022-08-27T10:28:01.601Z"
   },
   {
    "duration": 77,
    "start_time": "2022-08-27T10:28:01.630Z"
   },
   {
    "duration": 79,
    "start_time": "2022-08-27T10:28:01.709Z"
   },
   {
    "duration": 51,
    "start_time": "2022-08-27T10:28:01.790Z"
   },
   {
    "duration": 32,
    "start_time": "2022-08-27T10:28:01.843Z"
   },
   {
    "duration": 22,
    "start_time": "2022-08-27T10:28:01.876Z"
   },
   {
    "duration": 106,
    "start_time": "2022-08-27T10:28:01.900Z"
   },
   {
    "duration": 89,
    "start_time": "2022-08-27T10:28:02.009Z"
   },
   {
    "duration": 90,
    "start_time": "2022-08-27T10:28:02.100Z"
   },
   {
    "duration": 175,
    "start_time": "2022-08-27T10:28:02.192Z"
   },
   {
    "duration": 35,
    "start_time": "2022-08-27T10:28:02.369Z"
   },
   {
    "duration": 100,
    "start_time": "2022-08-27T10:28:02.406Z"
   },
   {
    "duration": 130,
    "start_time": "2022-08-27T10:28:02.509Z"
   },
   {
    "duration": 86,
    "start_time": "2022-08-27T10:28:02.641Z"
   },
   {
    "duration": 116,
    "start_time": "2022-08-27T10:28:02.729Z"
   },
   {
    "duration": 126,
    "start_time": "2022-08-27T10:28:02.847Z"
   },
   {
    "duration": 94,
    "start_time": "2022-08-27T10:28:02.975Z"
   },
   {
    "duration": 121,
    "start_time": "2022-08-27T10:28:03.071Z"
   },
   {
    "duration": 1238,
    "start_time": "2022-08-27T10:33:09.371Z"
   },
   {
    "duration": 158,
    "start_time": "2022-08-27T10:33:10.610Z"
   },
   {
    "duration": 10,
    "start_time": "2022-08-27T10:33:10.770Z"
   },
   {
    "duration": 19,
    "start_time": "2022-08-27T10:33:10.783Z"
   },
   {
    "duration": 14,
    "start_time": "2022-08-27T10:33:10.804Z"
   },
   {
    "duration": 93,
    "start_time": "2022-08-27T10:33:10.819Z"
   },
   {
    "duration": 141,
    "start_time": "2022-08-27T10:33:10.914Z"
   },
   {
    "duration": 11,
    "start_time": "2022-08-27T10:33:11.057Z"
   },
   {
    "duration": 12,
    "start_time": "2022-08-27T10:33:11.070Z"
   },
   {
    "duration": 15,
    "start_time": "2022-08-27T10:33:11.084Z"
   },
   {
    "duration": 10,
    "start_time": "2022-08-27T10:33:11.100Z"
   },
   {
    "duration": 14,
    "start_time": "2022-08-27T10:33:11.111Z"
   },
   {
    "duration": 46,
    "start_time": "2022-08-27T10:33:11.126Z"
   },
   {
    "duration": 15,
    "start_time": "2022-08-27T10:33:11.173Z"
   },
   {
    "duration": 15,
    "start_time": "2022-08-27T10:33:11.189Z"
   },
   {
    "duration": 6,
    "start_time": "2022-08-27T10:33:11.206Z"
   },
   {
    "duration": 477,
    "start_time": "2022-08-27T10:33:11.213Z"
   },
   {
    "duration": 25,
    "start_time": "2022-08-27T10:33:11.691Z"
   },
   {
    "duration": 24,
    "start_time": "2022-08-27T10:33:11.718Z"
   },
   {
    "duration": 30,
    "start_time": "2022-08-27T10:33:11.743Z"
   },
   {
    "duration": 25,
    "start_time": "2022-08-27T10:33:11.775Z"
   },
   {
    "duration": 67,
    "start_time": "2022-08-27T10:33:11.802Z"
   },
   {
    "duration": 61,
    "start_time": "2022-08-27T10:33:11.870Z"
   },
   {
    "duration": 62,
    "start_time": "2022-08-27T10:33:11.932Z"
   },
   {
    "duration": 15,
    "start_time": "2022-08-27T10:33:11.996Z"
   },
   {
    "duration": 22,
    "start_time": "2022-08-27T10:33:12.013Z"
   },
   {
    "duration": 108,
    "start_time": "2022-08-27T10:33:12.037Z"
   },
   {
    "duration": 92,
    "start_time": "2022-08-27T10:33:12.148Z"
   },
   {
    "duration": 73,
    "start_time": "2022-08-27T10:33:12.242Z"
   },
   {
    "duration": 170,
    "start_time": "2022-08-27T10:33:12.317Z"
   },
   {
    "duration": 36,
    "start_time": "2022-08-27T10:33:12.489Z"
   },
   {
    "duration": 75,
    "start_time": "2022-08-27T10:33:12.527Z"
   },
   {
    "duration": 125,
    "start_time": "2022-08-27T10:33:12.604Z"
   },
   {
    "duration": 68,
    "start_time": "2022-08-27T10:33:12.731Z"
   },
   {
    "duration": 101,
    "start_time": "2022-08-27T10:33:12.801Z"
   },
   {
    "duration": 100,
    "start_time": "2022-08-27T10:33:12.903Z"
   },
   {
    "duration": 88,
    "start_time": "2022-08-27T10:33:13.005Z"
   },
   {
    "duration": 115,
    "start_time": "2022-08-27T10:33:13.095Z"
   },
   {
    "duration": 18,
    "start_time": "2022-08-27T10:51:38.838Z"
   },
   {
    "duration": 18,
    "start_time": "2022-08-27T10:53:35.045Z"
   },
   {
    "duration": 54,
    "start_time": "2022-08-27T11:06:55.739Z"
   },
   {
    "duration": 82,
    "start_time": "2022-08-27T11:11:57.148Z"
   },
   {
    "duration": 88,
    "start_time": "2022-08-27T11:41:36.030Z"
   },
   {
    "duration": 123,
    "start_time": "2022-08-27T11:43:33.212Z"
   },
   {
    "duration": 1355,
    "start_time": "2022-08-27T11:52:11.477Z"
   },
   {
    "duration": 162,
    "start_time": "2022-08-27T11:52:12.835Z"
   },
   {
    "duration": 15,
    "start_time": "2022-08-27T11:52:12.999Z"
   },
   {
    "duration": 51,
    "start_time": "2022-08-27T11:52:13.017Z"
   },
   {
    "duration": 23,
    "start_time": "2022-08-27T11:52:13.070Z"
   },
   {
    "duration": 88,
    "start_time": "2022-08-27T11:52:13.095Z"
   },
   {
    "duration": 155,
    "start_time": "2022-08-27T11:52:13.186Z"
   },
   {
    "duration": 5,
    "start_time": "2022-08-27T11:52:13.343Z"
   },
   {
    "duration": 23,
    "start_time": "2022-08-27T11:52:13.350Z"
   },
   {
    "duration": 21,
    "start_time": "2022-08-27T11:52:13.376Z"
   },
   {
    "duration": 12,
    "start_time": "2022-08-27T11:52:13.399Z"
   },
   {
    "duration": 55,
    "start_time": "2022-08-27T11:52:13.413Z"
   },
   {
    "duration": 13,
    "start_time": "2022-08-27T11:52:13.470Z"
   },
   {
    "duration": 29,
    "start_time": "2022-08-27T11:52:13.486Z"
   },
   {
    "duration": 21,
    "start_time": "2022-08-27T11:52:13.523Z"
   },
   {
    "duration": 30,
    "start_time": "2022-08-27T11:52:13.547Z"
   },
   {
    "duration": 6,
    "start_time": "2022-08-27T11:52:13.579Z"
   },
   {
    "duration": 512,
    "start_time": "2022-08-27T11:52:13.586Z"
   },
   {
    "duration": 25,
    "start_time": "2022-08-27T11:52:14.100Z"
   },
   {
    "duration": 41,
    "start_time": "2022-08-27T11:52:14.127Z"
   },
   {
    "duration": 9,
    "start_time": "2022-08-27T11:52:14.170Z"
   },
   {
    "duration": 31,
    "start_time": "2022-08-27T11:52:14.180Z"
   },
   {
    "duration": 61,
    "start_time": "2022-08-27T11:52:14.213Z"
   },
   {
    "duration": 59,
    "start_time": "2022-08-27T11:52:14.276Z"
   },
   {
    "duration": 59,
    "start_time": "2022-08-27T11:52:14.337Z"
   },
   {
    "duration": 17,
    "start_time": "2022-08-27T11:52:14.398Z"
   },
   {
    "duration": 54,
    "start_time": "2022-08-27T11:52:14.417Z"
   },
   {
    "duration": 113,
    "start_time": "2022-08-27T11:52:14.476Z"
   },
   {
    "duration": 92,
    "start_time": "2022-08-27T11:52:14.591Z"
   },
   {
    "duration": 69,
    "start_time": "2022-08-27T11:52:14.685Z"
   },
   {
    "duration": 202,
    "start_time": "2022-08-27T11:52:14.756Z"
   },
   {
    "duration": 28,
    "start_time": "2022-08-27T11:52:14.960Z"
   },
   {
    "duration": 103,
    "start_time": "2022-08-27T11:52:14.990Z"
   },
   {
    "duration": 143,
    "start_time": "2022-08-27T11:52:15.095Z"
   },
   {
    "duration": 79,
    "start_time": "2022-08-27T11:52:15.241Z"
   },
   {
    "duration": 111,
    "start_time": "2022-08-27T11:52:15.322Z"
   },
   {
    "duration": 119,
    "start_time": "2022-08-27T11:52:15.435Z"
   },
   {
    "duration": 115,
    "start_time": "2022-08-27T11:52:15.556Z"
   },
   {
    "duration": 128,
    "start_time": "2022-08-27T11:52:15.674Z"
   }
  ],
  "kernelspec": {
   "display_name": "Python 3 (ipykernel)",
   "language": "python",
   "name": "python3"
  },
  "language_info": {
   "codemirror_mode": {
    "name": "ipython",
    "version": 3
   },
   "file_extension": ".py",
   "mimetype": "text/x-python",
   "name": "python",
   "nbconvert_exporter": "python",
   "pygments_lexer": "ipython3",
   "version": "3.9.7"
  },
  "toc": {
   "base_numbering": 1,
   "nav_menu": {},
   "number_sections": false,
   "sideBar": true,
   "skip_h1_title": true,
   "title_cell": "Содержание",
   "title_sidebar": "Contents",
   "toc_cell": true,
   "toc_position": {
    "height": "calc(100% - 180px)",
    "left": "10px",
    "top": "150px",
    "width": "323.556px"
   },
   "toc_section_display": true,
   "toc_window_display": true
  }
 },
 "nbformat": 4,
 "nbformat_minor": 2
}
