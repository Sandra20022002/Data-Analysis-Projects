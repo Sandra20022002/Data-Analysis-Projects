{
 "cells": [
  {
   "cell_type": "markdown",
   "id": "86f398bd",
   "metadata": {},
   "source": [
    "# Исследование надежности заемщиков."
   ]
  },
  {
   "cell_type": "markdown",
   "id": "8b27c6db",
   "metadata": {},
   "source": [
    "Выполним анализ данных для кредитного отдела банка. Нужно ответить на ряд вопросов: влияет ли семейное положение, уровень дохода, количество детей в семье и цель кредита на  факт погашения кредита в срок. \n",
    "Для анализа предоставлена статистика о платёжеспособности клиентов. Результаты исследования будут учтены при построении модели кредитного скоринга — специальной системы, которая оценивает способность потенциального заёмщика вернуть кредит банку."
   ]
  },
  {
   "cell_type": "markdown",
   "id": "8ded197c",
   "metadata": {
    "toc": true
   },
   "source": [
    "<h1>Содержание<span class=\"tocSkip\"></span></h1>\n",
    "<div class=\"toc\"><ul class=\"toc-item\"><li><ul class=\"toc-item\"><li><span><a href=\"#Шаг-1.-Обзор-данных\" data-toc-modified-id=\"Шаг-1.-Обзор-данных-0.1\">Шаг 1. Обзор данных</a></span></li><li><span><a href=\"#Шаг-2.1-Заполнение-пропусков\" data-toc-modified-id=\"Шаг-2.1-Заполнение-пропусков-0.2\">Шаг 2.1 Заполнение пропусков</a></span></li><li><span><a href=\"#Шаг-2.2-Проверка-данных-на-аномалии-и-исправления.\" data-toc-modified-id=\"Шаг-2.2-Проверка-данных-на-аномалии-и-исправления.-0.3\">Шаг 2.2 Проверка данных на аномалии и исправления.</a></span></li><li><span><a href=\"#Шаг-2.3.-Изменение-типов-данных.\" data-toc-modified-id=\"Шаг-2.3.-Изменение-типов-данных.-0.4\">Шаг 2.3. Изменение типов данных.</a></span></li><li><span><a href=\"#Шаг-2.4.-Удаление-дубликатов.\" data-toc-modified-id=\"Шаг-2.4.-Удаление-дубликатов.-0.5\">Шаг 2.4. Удаление дубликатов.</a></span></li><li><span><a href=\"#Шаг-2.5.-Формирование-дополнительных-датафреймов-словарей,-декомпозиция-исходного-датафрейма.\" data-toc-modified-id=\"Шаг-2.5.-Формирование-дополнительных-датафреймов-словарей,-декомпозиция-исходного-датафрейма.-0.6\">Шаг 2.5. Формирование дополнительных датафреймов словарей, декомпозиция исходного датафрейма.</a></span></li><li><span><a href=\"#Шаг-2.6.-Категоризация-дохода.\" data-toc-modified-id=\"Шаг-2.6.-Категоризация-дохода.-0.7\">Шаг 2.6. Категоризация дохода.</a></span></li><li><span><a href=\"#Шаг-2.7.-Категоризация-целей-кредита.\" data-toc-modified-id=\"Шаг-2.7.-Категоризация-целей-кредита.-0.8\">Шаг 2.7. Категоризация целей кредита.</a></span></li></ul></li><li><span><a href=\"#Зависимость-между-количеством-детей-и-возвратом-кредита-в-срок\" data-toc-modified-id=\"Зависимость-между-количеством-детей-и-возвратом-кредита-в-срок-1\">Зависимость между количеством детей и возвратом кредита в срок</a></span></li><li><span><a href=\"#Зависимость-между-семейным-положением-и-возвратом-кредита-в-долг\" data-toc-modified-id=\"Зависимость-между-семейным-положением-и-возвратом-кредита-в-долг-2\">Зависимость между семейным положением и возвратом кредита в долг</a></span></li><li><span><a href=\"#Зависимость-между-уровнем-дохода-и-возвратом-кредита-в-срок\" data-toc-modified-id=\"Зависимость-между-уровнем-дохода-и-возвратом-кредита-в-срок-3\">Зависимость между уровнем дохода и возвратом кредита в срок</a></span></li><li><span><a href=\"#Как-разные-цели-кредита-влияют-на-его-возврат-в-срок\" data-toc-modified-id=\"Как-разные-цели-кредита-влияют-на-его-возврат-в-срок-4\">Как разные цели кредита влияют на его возврат в срок</a></span></li><li><span><a href=\"#Общий-вывод:\" data-toc-modified-id=\"Общий-вывод:-5\">Общий вывод:</a></span></li></ul></div>"
   ]
  },
  {
   "cell_type": "markdown",
   "id": "036347eb",
   "metadata": {},
   "source": [
    "### Шаг 1. Обзор данных"
   ]
  },
  {
   "cell_type": "markdown",
   "id": "381c0e69",
   "metadata": {},
   "source": [
    "Импортируем библиотеку Pandas и выводим информацию о файле:"
   ]
  },
  {
   "cell_type": "code",
   "execution_count": 1,
   "id": "f937c7ea",
   "metadata": {},
   "outputs": [],
   "source": [
    "import pandas as pd"
   ]
  },
  {
   "cell_type": "code",
   "execution_count": 2,
   "id": "f4b4c386",
   "metadata": {
    "scrolled": true
   },
   "outputs": [
    {
     "name": "stdout",
     "output_type": "stream",
     "text": [
      "<class 'pandas.core.frame.DataFrame'>\n",
      "RangeIndex: 21525 entries, 0 to 21524\n",
      "Data columns (total 12 columns):\n",
      " #   Column            Non-Null Count  Dtype  \n",
      "---  ------            --------------  -----  \n",
      " 0   children          21525 non-null  int64  \n",
      " 1   days_employed     19351 non-null  float64\n",
      " 2   dob_years         21525 non-null  int64  \n",
      " 3   education         21525 non-null  object \n",
      " 4   education_id      21525 non-null  int64  \n",
      " 5   family_status     21525 non-null  object \n",
      " 6   family_status_id  21525 non-null  int64  \n",
      " 7   gender            21525 non-null  object \n",
      " 8   income_type       21525 non-null  object \n",
      " 9   debt              21525 non-null  int64  \n",
      " 10  total_income      19351 non-null  float64\n",
      " 11  purpose           21525 non-null  object \n",
      "dtypes: float64(2), int64(5), object(5)\n",
      "memory usage: 2.0+ MB\n"
     ]
    }
   ],
   "source": [
    "data = pd.read_csv('/datasets/data.csv')\n",
    "data.info()"
   ]
  },
  {
   "cell_type": "markdown",
   "id": "9e4a646d",
   "metadata": {},
   "source": [
    "Выведем первые 20 строк таблицы:"
   ]
  },
  {
   "cell_type": "code",
   "execution_count": 3,
   "id": "48f964bd",
   "metadata": {
    "scrolled": true
   },
   "outputs": [
    {
     "data": {
      "text/html": [
       "<div>\n",
       "<style scoped>\n",
       "    .dataframe tbody tr th:only-of-type {\n",
       "        vertical-align: middle;\n",
       "    }\n",
       "\n",
       "    .dataframe tbody tr th {\n",
       "        vertical-align: top;\n",
       "    }\n",
       "\n",
       "    .dataframe thead th {\n",
       "        text-align: right;\n",
       "    }\n",
       "</style>\n",
       "<table border=\"1\" class=\"dataframe\">\n",
       "  <thead>\n",
       "    <tr style=\"text-align: right;\">\n",
       "      <th></th>\n",
       "      <th>children</th>\n",
       "      <th>days_employed</th>\n",
       "      <th>dob_years</th>\n",
       "      <th>education</th>\n",
       "      <th>education_id</th>\n",
       "      <th>family_status</th>\n",
       "      <th>family_status_id</th>\n",
       "      <th>gender</th>\n",
       "      <th>income_type</th>\n",
       "      <th>debt</th>\n",
       "      <th>total_income</th>\n",
       "      <th>purpose</th>\n",
       "    </tr>\n",
       "  </thead>\n",
       "  <tbody>\n",
       "    <tr>\n",
       "      <th>0</th>\n",
       "      <td>1</td>\n",
       "      <td>-8437.673028</td>\n",
       "      <td>42</td>\n",
       "      <td>высшее</td>\n",
       "      <td>0</td>\n",
       "      <td>женат / замужем</td>\n",
       "      <td>0</td>\n",
       "      <td>F</td>\n",
       "      <td>сотрудник</td>\n",
       "      <td>0</td>\n",
       "      <td>253875.639453</td>\n",
       "      <td>покупка жилья</td>\n",
       "    </tr>\n",
       "    <tr>\n",
       "      <th>1</th>\n",
       "      <td>1</td>\n",
       "      <td>-4024.803754</td>\n",
       "      <td>36</td>\n",
       "      <td>среднее</td>\n",
       "      <td>1</td>\n",
       "      <td>женат / замужем</td>\n",
       "      <td>0</td>\n",
       "      <td>F</td>\n",
       "      <td>сотрудник</td>\n",
       "      <td>0</td>\n",
       "      <td>112080.014102</td>\n",
       "      <td>приобретение автомобиля</td>\n",
       "    </tr>\n",
       "    <tr>\n",
       "      <th>2</th>\n",
       "      <td>0</td>\n",
       "      <td>-5623.422610</td>\n",
       "      <td>33</td>\n",
       "      <td>Среднее</td>\n",
       "      <td>1</td>\n",
       "      <td>женат / замужем</td>\n",
       "      <td>0</td>\n",
       "      <td>M</td>\n",
       "      <td>сотрудник</td>\n",
       "      <td>0</td>\n",
       "      <td>145885.952297</td>\n",
       "      <td>покупка жилья</td>\n",
       "    </tr>\n",
       "    <tr>\n",
       "      <th>3</th>\n",
       "      <td>3</td>\n",
       "      <td>-4124.747207</td>\n",
       "      <td>32</td>\n",
       "      <td>среднее</td>\n",
       "      <td>1</td>\n",
       "      <td>женат / замужем</td>\n",
       "      <td>0</td>\n",
       "      <td>M</td>\n",
       "      <td>сотрудник</td>\n",
       "      <td>0</td>\n",
       "      <td>267628.550329</td>\n",
       "      <td>дополнительное образование</td>\n",
       "    </tr>\n",
       "    <tr>\n",
       "      <th>4</th>\n",
       "      <td>0</td>\n",
       "      <td>340266.072047</td>\n",
       "      <td>53</td>\n",
       "      <td>среднее</td>\n",
       "      <td>1</td>\n",
       "      <td>гражданский брак</td>\n",
       "      <td>1</td>\n",
       "      <td>F</td>\n",
       "      <td>пенсионер</td>\n",
       "      <td>0</td>\n",
       "      <td>158616.077870</td>\n",
       "      <td>сыграть свадьбу</td>\n",
       "    </tr>\n",
       "    <tr>\n",
       "      <th>5</th>\n",
       "      <td>0</td>\n",
       "      <td>-926.185831</td>\n",
       "      <td>27</td>\n",
       "      <td>высшее</td>\n",
       "      <td>0</td>\n",
       "      <td>гражданский брак</td>\n",
       "      <td>1</td>\n",
       "      <td>M</td>\n",
       "      <td>компаньон</td>\n",
       "      <td>0</td>\n",
       "      <td>255763.565419</td>\n",
       "      <td>покупка жилья</td>\n",
       "    </tr>\n",
       "    <tr>\n",
       "      <th>6</th>\n",
       "      <td>0</td>\n",
       "      <td>-2879.202052</td>\n",
       "      <td>43</td>\n",
       "      <td>высшее</td>\n",
       "      <td>0</td>\n",
       "      <td>женат / замужем</td>\n",
       "      <td>0</td>\n",
       "      <td>F</td>\n",
       "      <td>компаньон</td>\n",
       "      <td>0</td>\n",
       "      <td>240525.971920</td>\n",
       "      <td>операции с жильем</td>\n",
       "    </tr>\n",
       "    <tr>\n",
       "      <th>7</th>\n",
       "      <td>0</td>\n",
       "      <td>-152.779569</td>\n",
       "      <td>50</td>\n",
       "      <td>СРЕДНЕЕ</td>\n",
       "      <td>1</td>\n",
       "      <td>женат / замужем</td>\n",
       "      <td>0</td>\n",
       "      <td>M</td>\n",
       "      <td>сотрудник</td>\n",
       "      <td>0</td>\n",
       "      <td>135823.934197</td>\n",
       "      <td>образование</td>\n",
       "    </tr>\n",
       "    <tr>\n",
       "      <th>8</th>\n",
       "      <td>2</td>\n",
       "      <td>-6929.865299</td>\n",
       "      <td>35</td>\n",
       "      <td>ВЫСШЕЕ</td>\n",
       "      <td>0</td>\n",
       "      <td>гражданский брак</td>\n",
       "      <td>1</td>\n",
       "      <td>F</td>\n",
       "      <td>сотрудник</td>\n",
       "      <td>0</td>\n",
       "      <td>95856.832424</td>\n",
       "      <td>на проведение свадьбы</td>\n",
       "    </tr>\n",
       "    <tr>\n",
       "      <th>9</th>\n",
       "      <td>0</td>\n",
       "      <td>-2188.756445</td>\n",
       "      <td>41</td>\n",
       "      <td>среднее</td>\n",
       "      <td>1</td>\n",
       "      <td>женат / замужем</td>\n",
       "      <td>0</td>\n",
       "      <td>M</td>\n",
       "      <td>сотрудник</td>\n",
       "      <td>0</td>\n",
       "      <td>144425.938277</td>\n",
       "      <td>покупка жилья для семьи</td>\n",
       "    </tr>\n",
       "    <tr>\n",
       "      <th>10</th>\n",
       "      <td>2</td>\n",
       "      <td>-4171.483647</td>\n",
       "      <td>36</td>\n",
       "      <td>высшее</td>\n",
       "      <td>0</td>\n",
       "      <td>женат / замужем</td>\n",
       "      <td>0</td>\n",
       "      <td>M</td>\n",
       "      <td>компаньон</td>\n",
       "      <td>0</td>\n",
       "      <td>113943.491460</td>\n",
       "      <td>покупка недвижимости</td>\n",
       "    </tr>\n",
       "    <tr>\n",
       "      <th>11</th>\n",
       "      <td>0</td>\n",
       "      <td>-792.701887</td>\n",
       "      <td>40</td>\n",
       "      <td>среднее</td>\n",
       "      <td>1</td>\n",
       "      <td>женат / замужем</td>\n",
       "      <td>0</td>\n",
       "      <td>F</td>\n",
       "      <td>сотрудник</td>\n",
       "      <td>0</td>\n",
       "      <td>77069.234271</td>\n",
       "      <td>покупка коммерческой недвижимости</td>\n",
       "    </tr>\n",
       "    <tr>\n",
       "      <th>12</th>\n",
       "      <td>0</td>\n",
       "      <td>NaN</td>\n",
       "      <td>65</td>\n",
       "      <td>среднее</td>\n",
       "      <td>1</td>\n",
       "      <td>гражданский брак</td>\n",
       "      <td>1</td>\n",
       "      <td>M</td>\n",
       "      <td>пенсионер</td>\n",
       "      <td>0</td>\n",
       "      <td>NaN</td>\n",
       "      <td>сыграть свадьбу</td>\n",
       "    </tr>\n",
       "    <tr>\n",
       "      <th>13</th>\n",
       "      <td>0</td>\n",
       "      <td>-1846.641941</td>\n",
       "      <td>54</td>\n",
       "      <td>неоконченное высшее</td>\n",
       "      <td>2</td>\n",
       "      <td>женат / замужем</td>\n",
       "      <td>0</td>\n",
       "      <td>F</td>\n",
       "      <td>сотрудник</td>\n",
       "      <td>0</td>\n",
       "      <td>130458.228857</td>\n",
       "      <td>приобретение автомобиля</td>\n",
       "    </tr>\n",
       "    <tr>\n",
       "      <th>14</th>\n",
       "      <td>0</td>\n",
       "      <td>-1844.956182</td>\n",
       "      <td>56</td>\n",
       "      <td>высшее</td>\n",
       "      <td>0</td>\n",
       "      <td>гражданский брак</td>\n",
       "      <td>1</td>\n",
       "      <td>F</td>\n",
       "      <td>компаньон</td>\n",
       "      <td>1</td>\n",
       "      <td>165127.911772</td>\n",
       "      <td>покупка жилой недвижимости</td>\n",
       "    </tr>\n",
       "    <tr>\n",
       "      <th>15</th>\n",
       "      <td>1</td>\n",
       "      <td>-972.364419</td>\n",
       "      <td>26</td>\n",
       "      <td>среднее</td>\n",
       "      <td>1</td>\n",
       "      <td>женат / замужем</td>\n",
       "      <td>0</td>\n",
       "      <td>F</td>\n",
       "      <td>сотрудник</td>\n",
       "      <td>0</td>\n",
       "      <td>116820.904450</td>\n",
       "      <td>строительство собственной недвижимости</td>\n",
       "    </tr>\n",
       "    <tr>\n",
       "      <th>16</th>\n",
       "      <td>0</td>\n",
       "      <td>-1719.934226</td>\n",
       "      <td>35</td>\n",
       "      <td>среднее</td>\n",
       "      <td>1</td>\n",
       "      <td>женат / замужем</td>\n",
       "      <td>0</td>\n",
       "      <td>F</td>\n",
       "      <td>сотрудник</td>\n",
       "      <td>0</td>\n",
       "      <td>289202.704229</td>\n",
       "      <td>недвижимость</td>\n",
       "    </tr>\n",
       "    <tr>\n",
       "      <th>17</th>\n",
       "      <td>0</td>\n",
       "      <td>-2369.999720</td>\n",
       "      <td>33</td>\n",
       "      <td>высшее</td>\n",
       "      <td>0</td>\n",
       "      <td>гражданский брак</td>\n",
       "      <td>1</td>\n",
       "      <td>M</td>\n",
       "      <td>сотрудник</td>\n",
       "      <td>0</td>\n",
       "      <td>90410.586745</td>\n",
       "      <td>строительство недвижимости</td>\n",
       "    </tr>\n",
       "    <tr>\n",
       "      <th>18</th>\n",
       "      <td>0</td>\n",
       "      <td>400281.136913</td>\n",
       "      <td>53</td>\n",
       "      <td>среднее</td>\n",
       "      <td>1</td>\n",
       "      <td>вдовец / вдова</td>\n",
       "      <td>2</td>\n",
       "      <td>F</td>\n",
       "      <td>пенсионер</td>\n",
       "      <td>0</td>\n",
       "      <td>56823.777243</td>\n",
       "      <td>на покупку подержанного автомобиля</td>\n",
       "    </tr>\n",
       "    <tr>\n",
       "      <th>19</th>\n",
       "      <td>0</td>\n",
       "      <td>-10038.818549</td>\n",
       "      <td>48</td>\n",
       "      <td>СРЕДНЕЕ</td>\n",
       "      <td>1</td>\n",
       "      <td>в разводе</td>\n",
       "      <td>3</td>\n",
       "      <td>F</td>\n",
       "      <td>сотрудник</td>\n",
       "      <td>0</td>\n",
       "      <td>242831.107982</td>\n",
       "      <td>на покупку своего автомобиля</td>\n",
       "    </tr>\n",
       "  </tbody>\n",
       "</table>\n",
       "</div>"
      ],
      "text/plain": [
       "    children  days_employed  dob_years            education  education_id  \\\n",
       "0          1   -8437.673028         42               высшее             0   \n",
       "1          1   -4024.803754         36              среднее             1   \n",
       "2          0   -5623.422610         33              Среднее             1   \n",
       "3          3   -4124.747207         32              среднее             1   \n",
       "4          0  340266.072047         53              среднее             1   \n",
       "5          0    -926.185831         27               высшее             0   \n",
       "6          0   -2879.202052         43               высшее             0   \n",
       "7          0    -152.779569         50              СРЕДНЕЕ             1   \n",
       "8          2   -6929.865299         35               ВЫСШЕЕ             0   \n",
       "9          0   -2188.756445         41              среднее             1   \n",
       "10         2   -4171.483647         36               высшее             0   \n",
       "11         0    -792.701887         40              среднее             1   \n",
       "12         0            NaN         65              среднее             1   \n",
       "13         0   -1846.641941         54  неоконченное высшее             2   \n",
       "14         0   -1844.956182         56               высшее             0   \n",
       "15         1    -972.364419         26              среднее             1   \n",
       "16         0   -1719.934226         35              среднее             1   \n",
       "17         0   -2369.999720         33               высшее             0   \n",
       "18         0  400281.136913         53              среднее             1   \n",
       "19         0  -10038.818549         48              СРЕДНЕЕ             1   \n",
       "\n",
       "       family_status  family_status_id gender income_type  debt  \\\n",
       "0    женат / замужем                 0      F   сотрудник     0   \n",
       "1    женат / замужем                 0      F   сотрудник     0   \n",
       "2    женат / замужем                 0      M   сотрудник     0   \n",
       "3    женат / замужем                 0      M   сотрудник     0   \n",
       "4   гражданский брак                 1      F   пенсионер     0   \n",
       "5   гражданский брак                 1      M   компаньон     0   \n",
       "6    женат / замужем                 0      F   компаньон     0   \n",
       "7    женат / замужем                 0      M   сотрудник     0   \n",
       "8   гражданский брак                 1      F   сотрудник     0   \n",
       "9    женат / замужем                 0      M   сотрудник     0   \n",
       "10   женат / замужем                 0      M   компаньон     0   \n",
       "11   женат / замужем                 0      F   сотрудник     0   \n",
       "12  гражданский брак                 1      M   пенсионер     0   \n",
       "13   женат / замужем                 0      F   сотрудник     0   \n",
       "14  гражданский брак                 1      F   компаньон     1   \n",
       "15   женат / замужем                 0      F   сотрудник     0   \n",
       "16   женат / замужем                 0      F   сотрудник     0   \n",
       "17  гражданский брак                 1      M   сотрудник     0   \n",
       "18    вдовец / вдова                 2      F   пенсионер     0   \n",
       "19         в разводе                 3      F   сотрудник     0   \n",
       "\n",
       "     total_income                                 purpose  \n",
       "0   253875.639453                           покупка жилья  \n",
       "1   112080.014102                 приобретение автомобиля  \n",
       "2   145885.952297                           покупка жилья  \n",
       "3   267628.550329              дополнительное образование  \n",
       "4   158616.077870                         сыграть свадьбу  \n",
       "5   255763.565419                           покупка жилья  \n",
       "6   240525.971920                       операции с жильем  \n",
       "7   135823.934197                             образование  \n",
       "8    95856.832424                   на проведение свадьбы  \n",
       "9   144425.938277                 покупка жилья для семьи  \n",
       "10  113943.491460                    покупка недвижимости  \n",
       "11   77069.234271       покупка коммерческой недвижимости  \n",
       "12            NaN                         сыграть свадьбу  \n",
       "13  130458.228857                 приобретение автомобиля  \n",
       "14  165127.911772              покупка жилой недвижимости  \n",
       "15  116820.904450  строительство собственной недвижимости  \n",
       "16  289202.704229                            недвижимость  \n",
       "17   90410.586745              строительство недвижимости  \n",
       "18   56823.777243      на покупку подержанного автомобиля  \n",
       "19  242831.107982            на покупку своего автомобиля  "
      ]
     },
     "execution_count": 3,
     "metadata": {},
     "output_type": "execute_result"
    }
   ],
   "source": [
    "data.head(20)"
   ]
  },
  {
   "cell_type": "markdown",
   "id": "1a8f56c4",
   "metadata": {},
   "source": [
    "Используем функцию isna() для подсчета пропусков:"
   ]
  },
  {
   "cell_type": "code",
   "execution_count": 4,
   "id": "b57afb19",
   "metadata": {},
   "outputs": [
    {
     "data": {
      "text/plain": [
       "children               0\n",
       "days_employed       2174\n",
       "dob_years              0\n",
       "education              0\n",
       "education_id           0\n",
       "family_status          0\n",
       "family_status_id       0\n",
       "gender                 0\n",
       "income_type            0\n",
       "debt                   0\n",
       "total_income        2174\n",
       "purpose                0\n",
       "dtype: int64"
      ]
     },
     "execution_count": 4,
     "metadata": {},
     "output_type": "execute_result"
    }
   ],
   "source": [
    "data.isna().sum()"
   ]
  },
  {
   "cell_type": "markdown",
   "id": "d62aa762",
   "metadata": {},
   "source": [
    "Судя по полученным данным, следующие данные представлены неполностью: days_employed, total_income. Возможно, некоторые кредиты выдавали без справок о доходах, поэтому эта информация частично отсутствует. Также можно объяснить пропуски технической ошибкой, отсутствием дохода или нежеланием клиентов указывать доходы. \n",
    "\n",
    "Подставим вместо пропущенных значений total_income медианный доход.\n"
   ]
  },
  {
   "cell_type": "markdown",
   "id": "76397d96",
   "metadata": {},
   "source": [
    "### Шаг 2.1 Заполнение пропусков"
   ]
  },
  {
   "cell_type": "markdown",
   "id": "5c42120d",
   "metadata": {},
   "source": [
    "Рассчитаем медиану дохода:"
   ]
  },
  {
   "cell_type": "code",
   "execution_count": 5,
   "id": "38844f8e",
   "metadata": {},
   "outputs": [
    {
     "name": "stdout",
     "output_type": "stream",
     "text": [
      "145017.93753253992\n"
     ]
    }
   ],
   "source": [
    "income_med = data['total_income'].median()\n",
    "print (income_med)\n"
   ]
  },
  {
   "cell_type": "markdown",
   "id": "ce43bc6d",
   "metadata": {},
   "source": [
    "Медианный доход равен 145017.93753253992 рублям.\n",
    "Подставим его вместо отсутствующих значений в столбце 'total_income' с помощью функции fillna():"
   ]
  },
  {
   "cell_type": "code",
   "execution_count": 6,
   "id": "63754ee2",
   "metadata": {},
   "outputs": [],
   "source": [
    "data['total_income'] = data['total_income'].fillna(145017.93753253992)"
   ]
  },
  {
   "cell_type": "markdown",
   "id": "683a54b8",
   "metadata": {},
   "source": [
    "C помощью функции isna() проверим, остались ли пропуски в столбце 'total_income':"
   ]
  },
  {
   "cell_type": "code",
   "execution_count": 7,
   "id": "ac84637c",
   "metadata": {},
   "outputs": [
    {
     "data": {
      "text/plain": [
       "children               0\n",
       "days_employed       2174\n",
       "dob_years              0\n",
       "education              0\n",
       "education_id           0\n",
       "family_status          0\n",
       "family_status_id       0\n",
       "gender                 0\n",
       "income_type            0\n",
       "debt                   0\n",
       "total_income           0\n",
       "purpose                0\n",
       "dtype: int64"
      ]
     },
     "execution_count": 7,
     "metadata": {},
     "output_type": "execute_result"
    }
   ],
   "source": [
    "data.isna().sum()"
   ]
  },
  {
   "cell_type": "markdown",
   "id": "63a5fbdc",
   "metadata": {},
   "source": [
    "Как мы видим, в столбце total_income теперь нет пустых значений."
   ]
  },
  {
   "cell_type": "markdown",
   "id": "9d619eeb",
   "metadata": {},
   "source": [
    "### Шаг 2.2 Проверка данных на аномалии и исправления."
   ]
  },
  {
   "cell_type": "markdown",
   "id": "95a04ed6",
   "metadata": {},
   "source": [
    "Проверим уникальные значения во всех столбцах:"
   ]
  },
  {
   "cell_type": "code",
   "execution_count": 8,
   "id": "cc187614",
   "metadata": {},
   "outputs": [
    {
     "data": {
      "text/plain": [
       "Index(['children', 'days_employed', 'dob_years', 'education', 'education_id',\n",
       "       'family_status', 'family_status_id', 'gender', 'income_type', 'debt',\n",
       "       'total_income', 'purpose'],\n",
       "      dtype='object')"
      ]
     },
     "execution_count": 8,
     "metadata": {},
     "output_type": "execute_result"
    }
   ],
   "source": [
    "data.columns"
   ]
  },
  {
   "cell_type": "markdown",
   "id": "e0a49d06",
   "metadata": {},
   "source": [
    "C помощью функции unique() проверим уникальные значения в каждом столбце:"
   ]
  },
  {
   "cell_type": "code",
   "execution_count": 9,
   "id": "f29b97e6",
   "metadata": {
    "scrolled": true
   },
   "outputs": [
    {
     "name": "stdout",
     "output_type": "stream",
     "text": [
      "[ 1  0  3  2 -1  4 20  5]\n",
      "[-8437.67302776 -4024.80375385 -5623.42261023 ... -2113.3468877\n",
      " -3112.4817052  -1984.50758853]\n",
      "[42 36 33 32 53 27 43 50 35 41 40 65 54 56 26 48 24 21 57 67 28 63 62 47\n",
      " 34 68 25 31 30 20 49 37 45 61 64 44 52 46 23 38 39 51  0 59 29 60 55 58\n",
      " 71 22 73 66 69 19 72 70 74 75]\n",
      "['высшее' 'среднее' 'Среднее' 'СРЕДНЕЕ' 'ВЫСШЕЕ' 'неоконченное высшее'\n",
      " 'начальное' 'Высшее' 'НЕОКОНЧЕННОЕ ВЫСШЕЕ' 'Неоконченное высшее'\n",
      " 'НАЧАЛЬНОЕ' 'Начальное' 'Ученая степень' 'УЧЕНАЯ СТЕПЕНЬ'\n",
      " 'ученая степень']\n",
      "[0 1 2 3 4]\n",
      "['женат / замужем' 'гражданский брак' 'вдовец / вдова' 'в разводе'\n",
      " 'Не женат / не замужем']\n",
      "[0 1 2 3 4]\n",
      "['F' 'M' 'XNA']\n",
      "['сотрудник' 'пенсионер' 'компаньон' 'госслужащий' 'безработный'\n",
      " 'предприниматель' 'студент' 'в декрете']\n",
      "[0 1]\n",
      "[253875.6394526  112080.01410244 145885.95229686 ...  89672.56115303\n",
      " 244093.05050043  82047.41889948]\n",
      "['покупка жилья' 'приобретение автомобиля' 'дополнительное образование'\n",
      " 'сыграть свадьбу' 'операции с жильем' 'образование'\n",
      " 'на проведение свадьбы' 'покупка жилья для семьи' 'покупка недвижимости'\n",
      " 'покупка коммерческой недвижимости' 'покупка жилой недвижимости'\n",
      " 'строительство собственной недвижимости' 'недвижимость'\n",
      " 'строительство недвижимости' 'на покупку подержанного автомобиля'\n",
      " 'на покупку своего автомобиля' 'операции с коммерческой недвижимостью'\n",
      " 'строительство жилой недвижимости' 'жилье'\n",
      " 'операции со своей недвижимостью' 'автомобили' 'заняться образованием'\n",
      " 'сделка с подержанным автомобилем' 'получение образования' 'автомобиль'\n",
      " 'свадьба' 'получение дополнительного образования' 'покупка своего жилья'\n",
      " 'операции с недвижимостью' 'получение высшего образования'\n",
      " 'свой автомобиль' 'сделка с автомобилем' 'профильное образование'\n",
      " 'высшее образование' 'покупка жилья для сдачи' 'на покупку автомобиля'\n",
      " 'ремонт жилью' 'заняться высшим образованием']\n"
     ]
    }
   ],
   "source": [
    "index = ['children', 'days_employed', 'dob_years', 'education', 'education_id',\n",
    "       'family_status', 'family_status_id', 'gender', 'income_type', 'debt',\n",
    "       'total_income', 'purpose']\n",
    "    \n",
    "for column in index:\n",
    "\n",
    "    print(data[column].unique())\n",
    "        "
   ]
  },
  {
   "cell_type": "markdown",
   "id": "8983e89d",
   "metadata": {},
   "source": [
    "Можно увидеть, что некоторые данные неполные или ошибочные:\n",
    "- в столбце 'children' присутствует значение -1\n",
    "- в столбце 'dob_years' присутcтвует значение 0\n",
    "- в столбце 'education' запись строчными и заглавными буквами\n",
    "- в столбце 'gender' присуствует значение XNA\n",
    "- в столбце 'purpose' присутствуют неявные дубликаты\n",
    "\n",
    "\n"
   ]
  },
  {
   "cell_type": "markdown",
   "id": "3286660c",
   "metadata": {},
   "source": [
    "В столбце 'days_employed' через функцию head() видны отрицательные значения. Видимо, отсчет дней шел от текущего дня к прошлому (дате найма).\n",
    "Также некоторые значения необычно большие, ошибочные. Возможно, это техническая ошибка или ошибка при вводе данных.\n",
    "С помощью функции abs() приведем отрицательные значения к положительным. C помощью функции to_numeric приведем все ошибочные значения к NaN. С помощью функции fillna.median() заменим значения NaN на медианные по этому столбцу:\n",
    "\n"
   ]
  },
  {
   "cell_type": "code",
   "execution_count": 10,
   "id": "3e521255",
   "metadata": {
    "scrolled": true
   },
   "outputs": [],
   "source": [
    "data['days_employed'] = data['days_employed'].abs()\n",
    "```````````````````````````````````````````````````````````````````````````````````````````````````````````````````````````````````````````````````````````````````````````````````````````````````````````````````````````\n",
    "data['days_employed'] = data['days_employed'].fillna(data.groupby('income_type')['days_employed'].transform('median'))\n"
   ]
  },
  {
   "cell_type": "markdown",
   "id": "a18ef380",
   "metadata": {},
   "source": [
    "Проверим, какое медиaнное значение получилось в столбце 'days_employed': 1993.5 дня. "
   ]
  },
  {
   "cell_type": "code",
   "execution_count": 11,
   "id": "afef754f",
   "metadata": {},
   "outputs": [
    {
     "name": "stdout",
     "output_type": "stream",
     "text": [
      "1993.522017019936\n"
     ]
    }
   ],
   "source": [
    "print (data['days_employed'].median())"
   ]
  },
  {
   "cell_type": "markdown",
   "id": "91cc8d2e",
   "metadata": {},
   "source": [
    "Проверим, что в таблице не осталось пропусков:"
   ]
  },
  {
   "cell_type": "code",
   "execution_count": 12,
   "id": "dc4c6c2b",
   "metadata": {},
   "outputs": [
    {
     "data": {
      "text/plain": [
       "children            0\n",
       "days_employed       0\n",
       "dob_years           0\n",
       "education           0\n",
       "education_id        0\n",
       "family_status       0\n",
       "family_status_id    0\n",
       "gender              0\n",
       "income_type         0\n",
       "debt                0\n",
       "total_income        0\n",
       "purpose             0\n",
       "dtype: int64"
      ]
     },
     "execution_count": 12,
     "metadata": {},
     "output_type": "execute_result"
    }
   ],
   "source": [
    "data.isna().sum()"
   ]
  },
  {
   "cell_type": "markdown",
   "id": "47963c93",
   "metadata": {},
   "source": [
    "Изучим аномалии в столбце 'children'. В данных присутствуют следующие значения: 1,0,3,2,-1,4,20,5.\n",
    "Очевидно, что следующие значения ошибочны: -1, 20. \n",
    "Возможно, это ошибка ввода: вместо -1 предполагалось ввести 1, а вместо 20 - 2.\n",
    "Проверим, сколько таких ошибочных значений в датасете и насколько они значимы:\n"
   ]
  },
  {
   "cell_type": "code",
   "execution_count": 13,
   "id": "56e364f6",
   "metadata": {},
   "outputs": [
    {
     "name": "stdout",
     "output_type": "stream",
     "text": [
      "children\n",
      "-1        47\n",
      " 0     14149\n",
      " 1      4818\n",
      " 2      2055\n",
      " 3       330\n",
      " 4        41\n",
      " 5         9\n",
      " 20       76\n",
      "Name: children, dtype: int64\n"
     ]
    }
   ],
   "source": [
    "print (data.groupby('children')['children'].count())"
   ]
  },
  {
   "cell_type": "markdown",
   "id": "6c96df74",
   "metadata": {},
   "source": [
    "Ошибочных значений 47+76 = 123 на 21525, то есть 0.57 процента от общих данных. Это статистически незначимый процент.  \n",
    "Используем функцию loc для исправления данныx:"
   ]
  },
  {
   "cell_type": "code",
   "execution_count": 14,
   "id": "f9e1647b",
   "metadata": {},
   "outputs": [],
   "source": [
    "data.loc[data['children'] == -1, 'children'] = 1\n",
    "data.loc[data['children'] == 20, 'children'] = 2\n",
    " "
   ]
  },
  {
   "cell_type": "markdown",
   "id": "5fc5e4c3",
   "metadata": {},
   "source": [
    "Теперь датасет исправлен:"
   ]
  },
  {
   "cell_type": "code",
   "execution_count": 15,
   "id": "3b7e0942",
   "metadata": {
    "scrolled": true
   },
   "outputs": [
    {
     "name": "stdout",
     "output_type": "stream",
     "text": [
      "children\n",
      "0    14149\n",
      "1     4865\n",
      "2     2131\n",
      "3      330\n",
      "4       41\n",
      "5        9\n",
      "Name: children, dtype: int64\n"
     ]
    }
   ],
   "source": [
    "print (data.groupby('children')['children'].count())"
   ]
  },
  {
   "cell_type": "markdown",
   "id": "3ea45c2b",
   "metadata": {},
   "source": [
    "### Шаг 2.3. Изменение типов данных."
   ]
  },
  {
   "cell_type": "markdown",
   "id": "126ac962",
   "metadata": {},
   "source": [
    "C помощью метода astype() вещественный тип данных в столбцах total_income и days_employed (float) заменили на целочисленный (int). Количество дней должно быть целым."
   ]
  },
  {
   "cell_type": "code",
   "execution_count": 16,
   "id": "eeaf701f",
   "metadata": {
    "scrolled": true
   },
   "outputs": [],
   "source": [
    "data['days_employed'] = data['days_employed'].astype('int')\n",
    "data['total_income'] = data['total_income'].astype('int')\n"
   ]
  },
  {
   "cell_type": "markdown",
   "id": "cff5c1ca",
   "metadata": {},
   "source": [
    "Выведем первые 5 строк таблицы. Как видно, данные в столбце 'days_employed' изменились на положительные целые числа, без пропусков:\n"
   ]
  },
  {
   "cell_type": "code",
   "execution_count": 17,
   "id": "441839ed",
   "metadata": {},
   "outputs": [
    {
     "data": {
      "text/html": [
       "<div>\n",
       "<style scoped>\n",
       "    .dataframe tbody tr th:only-of-type {\n",
       "        vertical-align: middle;\n",
       "    }\n",
       "\n",
       "    .dataframe tbody tr th {\n",
       "        vertical-align: top;\n",
       "    }\n",
       "\n",
       "    .dataframe thead th {\n",
       "        text-align: right;\n",
       "    }\n",
       "</style>\n",
       "<table border=\"1\" class=\"dataframe\">\n",
       "  <thead>\n",
       "    <tr style=\"text-align: right;\">\n",
       "      <th></th>\n",
       "      <th>children</th>\n",
       "      <th>days_employed</th>\n",
       "      <th>dob_years</th>\n",
       "      <th>education</th>\n",
       "      <th>education_id</th>\n",
       "      <th>family_status</th>\n",
       "      <th>family_status_id</th>\n",
       "      <th>gender</th>\n",
       "      <th>income_type</th>\n",
       "      <th>debt</th>\n",
       "      <th>total_income</th>\n",
       "      <th>purpose</th>\n",
       "    </tr>\n",
       "  </thead>\n",
       "  <tbody>\n",
       "    <tr>\n",
       "      <th>0</th>\n",
       "      <td>1</td>\n",
       "      <td>8437</td>\n",
       "      <td>42</td>\n",
       "      <td>высшее</td>\n",
       "      <td>0</td>\n",
       "      <td>женат / замужем</td>\n",
       "      <td>0</td>\n",
       "      <td>F</td>\n",
       "      <td>сотрудник</td>\n",
       "      <td>0</td>\n",
       "      <td>253875</td>\n",
       "      <td>покупка жилья</td>\n",
       "    </tr>\n",
       "    <tr>\n",
       "      <th>1</th>\n",
       "      <td>1</td>\n",
       "      <td>4024</td>\n",
       "      <td>36</td>\n",
       "      <td>среднее</td>\n",
       "      <td>1</td>\n",
       "      <td>женат / замужем</td>\n",
       "      <td>0</td>\n",
       "      <td>F</td>\n",
       "      <td>сотрудник</td>\n",
       "      <td>0</td>\n",
       "      <td>112080</td>\n",
       "      <td>приобретение автомобиля</td>\n",
       "    </tr>\n",
       "    <tr>\n",
       "      <th>2</th>\n",
       "      <td>0</td>\n",
       "      <td>5623</td>\n",
       "      <td>33</td>\n",
       "      <td>Среднее</td>\n",
       "      <td>1</td>\n",
       "      <td>женат / замужем</td>\n",
       "      <td>0</td>\n",
       "      <td>M</td>\n",
       "      <td>сотрудник</td>\n",
       "      <td>0</td>\n",
       "      <td>145885</td>\n",
       "      <td>покупка жилья</td>\n",
       "    </tr>\n",
       "    <tr>\n",
       "      <th>3</th>\n",
       "      <td>3</td>\n",
       "      <td>4124</td>\n",
       "      <td>32</td>\n",
       "      <td>среднее</td>\n",
       "      <td>1</td>\n",
       "      <td>женат / замужем</td>\n",
       "      <td>0</td>\n",
       "      <td>M</td>\n",
       "      <td>сотрудник</td>\n",
       "      <td>0</td>\n",
       "      <td>267628</td>\n",
       "      <td>дополнительное образование</td>\n",
       "    </tr>\n",
       "    <tr>\n",
       "      <th>4</th>\n",
       "      <td>0</td>\n",
       "      <td>340266</td>\n",
       "      <td>53</td>\n",
       "      <td>среднее</td>\n",
       "      <td>1</td>\n",
       "      <td>гражданский брак</td>\n",
       "      <td>1</td>\n",
       "      <td>F</td>\n",
       "      <td>пенсионер</td>\n",
       "      <td>0</td>\n",
       "      <td>158616</td>\n",
       "      <td>сыграть свадьбу</td>\n",
       "    </tr>\n",
       "  </tbody>\n",
       "</table>\n",
       "</div>"
      ],
      "text/plain": [
       "   children  days_employed  dob_years education  education_id  \\\n",
       "0         1           8437         42    высшее             0   \n",
       "1         1           4024         36   среднее             1   \n",
       "2         0           5623         33   Среднее             1   \n",
       "3         3           4124         32   среднее             1   \n",
       "4         0         340266         53   среднее             1   \n",
       "\n",
       "      family_status  family_status_id gender income_type  debt  total_income  \\\n",
       "0   женат / замужем                 0      F   сотрудник     0        253875   \n",
       "1   женат / замужем                 0      F   сотрудник     0        112080   \n",
       "2   женат / замужем                 0      M   сотрудник     0        145885   \n",
       "3   женат / замужем                 0      M   сотрудник     0        267628   \n",
       "4  гражданский брак                 1      F   пенсионер     0        158616   \n",
       "\n",
       "                      purpose  \n",
       "0               покупка жилья  \n",
       "1     приобретение автомобиля  \n",
       "2               покупка жилья  \n",
       "3  дополнительное образование  \n",
       "4             сыграть свадьбу  "
      ]
     },
     "execution_count": 17,
     "metadata": {},
     "output_type": "execute_result"
    }
   ],
   "source": [
    "data.head(5)"
   ]
  },
  {
   "cell_type": "markdown",
   "id": "d7c717d5",
   "metadata": {},
   "source": [
    "### Шаг 2.4. Удаление дубликатов."
   ]
  },
  {
   "cell_type": "markdown",
   "id": "6cd27665",
   "metadata": {},
   "source": [
    "С помощью функции duplicated().sum() найдем количество явных дубликатов:"
   ]
  },
  {
   "cell_type": "code",
   "execution_count": 18,
   "id": "7f2db901",
   "metadata": {},
   "outputs": [
    {
     "data": {
      "text/plain": [
       "54"
      ]
     },
     "execution_count": 18,
     "metadata": {},
     "output_type": "execute_result"
    }
   ],
   "source": [
    "data.duplicated().sum()"
   ]
  },
  {
   "cell_type": "markdown",
   "id": "a5011bc5",
   "metadata": {},
   "source": [
    "Появление 54 дубликатов может быть связано с технической ошибкой или с ошибкой ввода (повторный ввод). Удалим из таблицы дубликаты и обновим индекс:"
   ]
  },
  {
   "cell_type": "code",
   "execution_count": 19,
   "id": "ded0ac92",
   "metadata": {},
   "outputs": [],
   "source": [
    "data = data.drop_duplicates().reset_index(drop=True)"
   ]
  },
  {
   "cell_type": "markdown",
   "id": "3d23d143",
   "metadata": {},
   "source": [
    "Проверим, удалились ли дубликаты. Если значение равно 0, то дубликаты удалились:"
   ]
  },
  {
   "cell_type": "code",
   "execution_count": 20,
   "id": "324f0827",
   "metadata": {},
   "outputs": [
    {
     "data": {
      "text/plain": [
       "0"
      ]
     },
     "execution_count": 20,
     "metadata": {},
     "output_type": "execute_result"
    }
   ],
   "source": [
    "data.duplicated().sum()"
   ]
  },
  {
   "cell_type": "markdown",
   "id": "6ceff1d9",
   "metadata": {},
   "source": [
    "Также приведем все значения в столбце 'education' к нижнему регистру:"
   ]
  },
  {
   "cell_type": "code",
   "execution_count": 21,
   "id": "3d92313f",
   "metadata": {},
   "outputs": [
    {
     "data": {
      "text/plain": [
       "array(['высшее', 'среднее', 'неоконченное высшее', 'начальное',\n",
       "       'ученая степень'], dtype=object)"
      ]
     },
     "execution_count": 21,
     "metadata": {},
     "output_type": "execute_result"
    }
   ],
   "source": [
    "data['education'] = data['education'].str.lower()\n",
    "data['education'].unique()\n",
    "\n",
    "\n",
    "\n"
   ]
  },
  {
   "cell_type": "markdown",
   "id": "0533a73d",
   "metadata": {},
   "source": [
    "В результате таких преобразований в столбце 'education' осталось 5 категорий."
   ]
  },
  {
   "cell_type": "markdown",
   "id": "c50daaa0",
   "metadata": {},
   "source": [
    "### Шаг 2.5. Формирование дополнительных датафреймов словарей, декомпозиция исходного датафрейма."
   ]
  },
  {
   "cell_type": "markdown",
   "id": "0aba1f12",
   "metadata": {},
   "source": [
    "Создадим два новых датафрейма, в которых:\n",
    "- каждому уникальному значению из education соответствует уникальное значение education_id; \n",
    "- каждому уникальному значению из family_status соответствует уникальное значение family_status_id.\n"
   ]
  },
  {
   "cell_type": "code",
   "execution_count": 22,
   "id": "33c1f149",
   "metadata": {},
   "outputs": [],
   "source": [
    "data_education = data[['education', 'education_id']].copy()\n",
    "data_family = data[['family_status', 'family_status_id']].copy()\n"
   ]
  },
  {
   "cell_type": "markdown",
   "id": "2435ac81",
   "metadata": {},
   "source": [
    "Проверим, создались ли нужные датафреймы:"
   ]
  },
  {
   "cell_type": "code",
   "execution_count": 23,
   "id": "1bb458c6",
   "metadata": {},
   "outputs": [
    {
     "data": {
      "text/html": [
       "<div>\n",
       "<style scoped>\n",
       "    .dataframe tbody tr th:only-of-type {\n",
       "        vertical-align: middle;\n",
       "    }\n",
       "\n",
       "    .dataframe tbody tr th {\n",
       "        vertical-align: top;\n",
       "    }\n",
       "\n",
       "    .dataframe thead th {\n",
       "        text-align: right;\n",
       "    }\n",
       "</style>\n",
       "<table border=\"1\" class=\"dataframe\">\n",
       "  <thead>\n",
       "    <tr style=\"text-align: right;\">\n",
       "      <th></th>\n",
       "      <th>education</th>\n",
       "      <th>education_id</th>\n",
       "    </tr>\n",
       "  </thead>\n",
       "  <tbody>\n",
       "    <tr>\n",
       "      <th>0</th>\n",
       "      <td>высшее</td>\n",
       "      <td>0</td>\n",
       "    </tr>\n",
       "    <tr>\n",
       "      <th>1</th>\n",
       "      <td>среднее</td>\n",
       "      <td>1</td>\n",
       "    </tr>\n",
       "    <tr>\n",
       "      <th>2</th>\n",
       "      <td>среднее</td>\n",
       "      <td>1</td>\n",
       "    </tr>\n",
       "    <tr>\n",
       "      <th>3</th>\n",
       "      <td>среднее</td>\n",
       "      <td>1</td>\n",
       "    </tr>\n",
       "    <tr>\n",
       "      <th>4</th>\n",
       "      <td>среднее</td>\n",
       "      <td>1</td>\n",
       "    </tr>\n",
       "  </tbody>\n",
       "</table>\n",
       "</div>"
      ],
      "text/plain": [
       "  education  education_id\n",
       "0    высшее             0\n",
       "1   среднее             1\n",
       "2   среднее             1\n",
       "3   среднее             1\n",
       "4   среднее             1"
      ]
     },
     "execution_count": 23,
     "metadata": {},
     "output_type": "execute_result"
    }
   ],
   "source": [
    "data_education.head(5)"
   ]
  },
  {
   "cell_type": "code",
   "execution_count": 24,
   "id": "fa4d164d",
   "metadata": {},
   "outputs": [
    {
     "data": {
      "text/html": [
       "<div>\n",
       "<style scoped>\n",
       "    .dataframe tbody tr th:only-of-type {\n",
       "        vertical-align: middle;\n",
       "    }\n",
       "\n",
       "    .dataframe tbody tr th {\n",
       "        vertical-align: top;\n",
       "    }\n",
       "\n",
       "    .dataframe thead th {\n",
       "        text-align: right;\n",
       "    }\n",
       "</style>\n",
       "<table border=\"1\" class=\"dataframe\">\n",
       "  <thead>\n",
       "    <tr style=\"text-align: right;\">\n",
       "      <th></th>\n",
       "      <th>family_status</th>\n",
       "      <th>family_status_id</th>\n",
       "    </tr>\n",
       "  </thead>\n",
       "  <tbody>\n",
       "    <tr>\n",
       "      <th>0</th>\n",
       "      <td>женат / замужем</td>\n",
       "      <td>0</td>\n",
       "    </tr>\n",
       "    <tr>\n",
       "      <th>1</th>\n",
       "      <td>женат / замужем</td>\n",
       "      <td>0</td>\n",
       "    </tr>\n",
       "    <tr>\n",
       "      <th>2</th>\n",
       "      <td>женат / замужем</td>\n",
       "      <td>0</td>\n",
       "    </tr>\n",
       "    <tr>\n",
       "      <th>3</th>\n",
       "      <td>женат / замужем</td>\n",
       "      <td>0</td>\n",
       "    </tr>\n",
       "    <tr>\n",
       "      <th>4</th>\n",
       "      <td>гражданский брак</td>\n",
       "      <td>1</td>\n",
       "    </tr>\n",
       "  </tbody>\n",
       "</table>\n",
       "</div>"
      ],
      "text/plain": [
       "      family_status  family_status_id\n",
       "0   женат / замужем                 0\n",
       "1   женат / замужем                 0\n",
       "2   женат / замужем                 0\n",
       "3   женат / замужем                 0\n",
       "4  гражданский брак                 1"
      ]
     },
     "execution_count": 24,
     "metadata": {},
     "output_type": "execute_result"
    }
   ],
   "source": [
    "\n",
    "data_family.head(5)"
   ]
  },
  {
   "cell_type": "markdown",
   "id": "32311773",
   "metadata": {},
   "source": [
    "Удалим из исходного датафрейма столбцы education и family_status, оставив только их идентификаторы: education_id и family_status_id. Проверим c помощью функции columns, что оба столбца удалились:"
   ]
  },
  {
   "cell_type": "code",
   "execution_count": 25,
   "id": "7c6fbf3a",
   "metadata": {},
   "outputs": [
    {
     "data": {
      "text/plain": [
       "Index(['children', 'days_employed', 'dob_years', 'education_id',\n",
       "       'family_status_id', 'gender', 'income_type', 'debt', 'total_income',\n",
       "       'purpose'],\n",
       "      dtype='object')"
      ]
     },
     "execution_count": 25,
     "metadata": {},
     "output_type": "execute_result"
    }
   ],
   "source": [
    "data = data.drop(['education', 'family_status'], 1)\n",
    "data.columns\n",
    "\n",
    "\n",
    "\n",
    "\n",
    "\n"
   ]
  },
  {
   "cell_type": "markdown",
   "id": "78c345be",
   "metadata": {},
   "source": [
    "### Шаг 2.6. Категоризация дохода."
   ]
  },
  {
   "cell_type": "markdown",
   "id": "704eccaf",
   "metadata": {},
   "source": [
    "На основании диапазонов, указанных ниже, создадим столбец total_income_category с категориями:\n",
    "0–30000 — 'E';\n",
    "30001–50000 — 'D';\n",
    "50001–200000 — 'C';\n",
    "200001–1000000 — 'B';\n",
    "1000001 и выше — 'A'.\n",
    "\n",
    "Для этого создадим функцию income_category, которая распределяет доходы по категориям, и применим эту функцию к созданному столбцу."
   ]
  },
  {
   "cell_type": "code",
   "execution_count": 26,
   "id": "a042cb34",
   "metadata": {},
   "outputs": [],
   "source": [
    "def income_category (row):\n",
    "\n",
    "    if row['total_income'] >= 0 and row['total_income'] < 30000:\n",
    "        return 'E'\n",
    "    if row['total_income'] >= 30001 and row['total_income'] < 50000:\n",
    "        return 'D'\n",
    "    if row['total_income'] >= 50001 and row['total_income'] < 200000:\n",
    "        return 'C'\n",
    "    if row['total_income'] >= 200001 and row['total_income'] < 1000000:\n",
    "        return 'B'\n",
    "    if row['total_income'] >= 1000000:\n",
    "        return 'A'\n",
    "   \n",
    "data['total_income_category'] = data.apply (lambda row: income_category(row), axis=1)\n",
    "\n"
   ]
  },
  {
   "cell_type": "markdown",
   "id": "96c54d0c",
   "metadata": {},
   "source": [
    "Выведем на экран таблицу, чтобы проверить, правильно ли определяются категории в новом столбце:"
   ]
  },
  {
   "cell_type": "code",
   "execution_count": 27,
   "id": "e225f100",
   "metadata": {
    "scrolled": true
   },
   "outputs": [
    {
     "data": {
      "text/html": [
       "<div>\n",
       "<style scoped>\n",
       "    .dataframe tbody tr th:only-of-type {\n",
       "        vertical-align: middle;\n",
       "    }\n",
       "\n",
       "    .dataframe tbody tr th {\n",
       "        vertical-align: top;\n",
       "    }\n",
       "\n",
       "    .dataframe thead th {\n",
       "        text-align: right;\n",
       "    }\n",
       "</style>\n",
       "<table border=\"1\" class=\"dataframe\">\n",
       "  <thead>\n",
       "    <tr style=\"text-align: right;\">\n",
       "      <th></th>\n",
       "      <th>children</th>\n",
       "      <th>days_employed</th>\n",
       "      <th>dob_years</th>\n",
       "      <th>education_id</th>\n",
       "      <th>family_status_id</th>\n",
       "      <th>gender</th>\n",
       "      <th>income_type</th>\n",
       "      <th>debt</th>\n",
       "      <th>total_income</th>\n",
       "      <th>purpose</th>\n",
       "      <th>total_income_category</th>\n",
       "    </tr>\n",
       "  </thead>\n",
       "  <tbody>\n",
       "    <tr>\n",
       "      <th>0</th>\n",
       "      <td>1</td>\n",
       "      <td>8437</td>\n",
       "      <td>42</td>\n",
       "      <td>0</td>\n",
       "      <td>0</td>\n",
       "      <td>F</td>\n",
       "      <td>сотрудник</td>\n",
       "      <td>0</td>\n",
       "      <td>253875</td>\n",
       "      <td>покупка жилья</td>\n",
       "      <td>B</td>\n",
       "    </tr>\n",
       "    <tr>\n",
       "      <th>1</th>\n",
       "      <td>1</td>\n",
       "      <td>4024</td>\n",
       "      <td>36</td>\n",
       "      <td>1</td>\n",
       "      <td>0</td>\n",
       "      <td>F</td>\n",
       "      <td>сотрудник</td>\n",
       "      <td>0</td>\n",
       "      <td>112080</td>\n",
       "      <td>приобретение автомобиля</td>\n",
       "      <td>C</td>\n",
       "    </tr>\n",
       "    <tr>\n",
       "      <th>2</th>\n",
       "      <td>0</td>\n",
       "      <td>5623</td>\n",
       "      <td>33</td>\n",
       "      <td>1</td>\n",
       "      <td>0</td>\n",
       "      <td>M</td>\n",
       "      <td>сотрудник</td>\n",
       "      <td>0</td>\n",
       "      <td>145885</td>\n",
       "      <td>покупка жилья</td>\n",
       "      <td>C</td>\n",
       "    </tr>\n",
       "    <tr>\n",
       "      <th>3</th>\n",
       "      <td>3</td>\n",
       "      <td>4124</td>\n",
       "      <td>32</td>\n",
       "      <td>1</td>\n",
       "      <td>0</td>\n",
       "      <td>M</td>\n",
       "      <td>сотрудник</td>\n",
       "      <td>0</td>\n",
       "      <td>267628</td>\n",
       "      <td>дополнительное образование</td>\n",
       "      <td>B</td>\n",
       "    </tr>\n",
       "    <tr>\n",
       "      <th>4</th>\n",
       "      <td>0</td>\n",
       "      <td>340266</td>\n",
       "      <td>53</td>\n",
       "      <td>1</td>\n",
       "      <td>1</td>\n",
       "      <td>F</td>\n",
       "      <td>пенсионер</td>\n",
       "      <td>0</td>\n",
       "      <td>158616</td>\n",
       "      <td>сыграть свадьбу</td>\n",
       "      <td>C</td>\n",
       "    </tr>\n",
       "    <tr>\n",
       "      <th>5</th>\n",
       "      <td>0</td>\n",
       "      <td>926</td>\n",
       "      <td>27</td>\n",
       "      <td>0</td>\n",
       "      <td>1</td>\n",
       "      <td>M</td>\n",
       "      <td>компаньон</td>\n",
       "      <td>0</td>\n",
       "      <td>255763</td>\n",
       "      <td>покупка жилья</td>\n",
       "      <td>B</td>\n",
       "    </tr>\n",
       "    <tr>\n",
       "      <th>6</th>\n",
       "      <td>0</td>\n",
       "      <td>2879</td>\n",
       "      <td>43</td>\n",
       "      <td>0</td>\n",
       "      <td>0</td>\n",
       "      <td>F</td>\n",
       "      <td>компаньон</td>\n",
       "      <td>0</td>\n",
       "      <td>240525</td>\n",
       "      <td>операции с жильем</td>\n",
       "      <td>B</td>\n",
       "    </tr>\n",
       "    <tr>\n",
       "      <th>7</th>\n",
       "      <td>0</td>\n",
       "      <td>152</td>\n",
       "      <td>50</td>\n",
       "      <td>1</td>\n",
       "      <td>0</td>\n",
       "      <td>M</td>\n",
       "      <td>сотрудник</td>\n",
       "      <td>0</td>\n",
       "      <td>135823</td>\n",
       "      <td>образование</td>\n",
       "      <td>C</td>\n",
       "    </tr>\n",
       "    <tr>\n",
       "      <th>8</th>\n",
       "      <td>2</td>\n",
       "      <td>6929</td>\n",
       "      <td>35</td>\n",
       "      <td>0</td>\n",
       "      <td>1</td>\n",
       "      <td>F</td>\n",
       "      <td>сотрудник</td>\n",
       "      <td>0</td>\n",
       "      <td>95856</td>\n",
       "      <td>на проведение свадьбы</td>\n",
       "      <td>C</td>\n",
       "    </tr>\n",
       "    <tr>\n",
       "      <th>9</th>\n",
       "      <td>0</td>\n",
       "      <td>2188</td>\n",
       "      <td>41</td>\n",
       "      <td>1</td>\n",
       "      <td>0</td>\n",
       "      <td>M</td>\n",
       "      <td>сотрудник</td>\n",
       "      <td>0</td>\n",
       "      <td>144425</td>\n",
       "      <td>покупка жилья для семьи</td>\n",
       "      <td>C</td>\n",
       "    </tr>\n",
       "  </tbody>\n",
       "</table>\n",
       "</div>"
      ],
      "text/plain": [
       "   children  days_employed  dob_years  education_id  family_status_id gender  \\\n",
       "0         1           8437         42             0                 0      F   \n",
       "1         1           4024         36             1                 0      F   \n",
       "2         0           5623         33             1                 0      M   \n",
       "3         3           4124         32             1                 0      M   \n",
       "4         0         340266         53             1                 1      F   \n",
       "5         0            926         27             0                 1      M   \n",
       "6         0           2879         43             0                 0      F   \n",
       "7         0            152         50             1                 0      M   \n",
       "8         2           6929         35             0                 1      F   \n",
       "9         0           2188         41             1                 0      M   \n",
       "\n",
       "  income_type  debt  total_income                     purpose  \\\n",
       "0   сотрудник     0        253875               покупка жилья   \n",
       "1   сотрудник     0        112080     приобретение автомобиля   \n",
       "2   сотрудник     0        145885               покупка жилья   \n",
       "3   сотрудник     0        267628  дополнительное образование   \n",
       "4   пенсионер     0        158616             сыграть свадьбу   \n",
       "5   компаньон     0        255763               покупка жилья   \n",
       "6   компаньон     0        240525           операции с жильем   \n",
       "7   сотрудник     0        135823                 образование   \n",
       "8   сотрудник     0         95856       на проведение свадьбы   \n",
       "9   сотрудник     0        144425     покупка жилья для семьи   \n",
       "\n",
       "  total_income_category  \n",
       "0                     B  \n",
       "1                     C  \n",
       "2                     C  \n",
       "3                     B  \n",
       "4                     C  \n",
       "5                     B  \n",
       "6                     B  \n",
       "7                     C  \n",
       "8                     C  \n",
       "9                     C  "
      ]
     },
     "execution_count": 27,
     "metadata": {},
     "output_type": "execute_result"
    }
   ],
   "source": [
    "data.head(10)"
   ]
  },
  {
   "cell_type": "markdown",
   "id": "d0c701ae",
   "metadata": {},
   "source": [
    "### Шаг 2.7. Категоризация целей кредита."
   ]
  },
  {
   "cell_type": "markdown",
   "id": "65aa1de1",
   "metadata": {},
   "source": [
    "Создадим функцию, которая на основании данных из столбца purpose сформирует новый столбец purpose_category, в который войдут следующие категории:\n",
    "- 'операции с автомобилем',\n",
    "- 'операции с недвижимостью',\n",
    "- 'проведение свадьбы',\n",
    "- 'получение образования'.\n",
    "\n",
    "Для этого создадим сеты возможных ответов, которые относятся к той или иной категории. Если цель кредита не входит ни в одну из категорий или сформулирована так, что функция не распознает ее, кредит будет отнесен к категории 'другое'. Чем больше вариантов ответа перечислено в сете, тем точнее будет работать функция."
   ]
  },
  {
   "cell_type": "code",
   "execution_count": 28,
   "id": "205438a5",
   "metadata": {},
   "outputs": [],
   "source": [
    "purpose = ['покупка жилья', 'покупка жилой недвижимости',  'операции с недвижимостью', 'недвижимость', \n",
    "             'строительство жилой недвижимости', 'жилье',  'покупка коммерческой недвижимости' \n",
    " 'строительство собственной недвижимости', 'строительство недвижимости',  'ремонт жилью', 'покупка жилья для сдачи' ,\n",
    "             'операции с коммерческой недвижимостью', 'операции с жильем', 'покупка жилья для семьи', \n",
    "             'операции со своей недвижимостью', 'покупка недвижимости', 'покупка своего жилья', \n",
    "             'строительство собственной недвижимости', 'покупка коммерческой недвижимости', 'приобретение автомобиля', \n",
    "           'на покупку автомобиля',  'на покупку подержанного автомобиля', \n",
    " 'на покупку своего автомобиля', 'автомобили', 'автомобиль', 'свой автомобиль' 'сделка с автомобилем',  \n",
    "            'сделка с подержанным автомобилем', 'сделка с автомобилем', 'свой автомобиль', 'дополнительное образование',  \n",
    "           'высшее образование', 'получение высшего образования','получение дополнительного образования', 'образование', \n",
    "           'заняться образованием', 'получение образования', 'профильное образование', 'заняться высшим образованием', \n",
    "           'сыграть свадьбу',  'на проведение свадьбы',  'свадьба' ]\n",
    " \n",
    "\n",
    "def category(purpose):\n",
    "    \n",
    "    try:\n",
    "        if  'авто' in purpose:\n",
    "            return 'операции с автомобилем'\n",
    "        elif 'недвиж' in purpose or 'жиль' in purpose:\n",
    "            return 'операции с недвижимостью'\n",
    "        elif 'свадьб' in purpose:\n",
    "            return 'проведение свадьбы'\n",
    "        elif 'образо' in purpose:\n",
    "            return 'получение образования'\n",
    "        else:\n",
    "            return 'другое'\n",
    "               \n",
    "    except:\n",
    "        return 'Ошибка'\n",
    "        \n",
    "        \n",
    "   \n",
    "data['purpose_category'] = data['purpose'].apply(category)"
   ]
  },
  {
   "cell_type": "code",
   "execution_count": 29,
   "id": "2babccd2",
   "metadata": {},
   "outputs": [
    {
     "data": {
      "text/html": [
       "<div>\n",
       "<style scoped>\n",
       "    .dataframe tbody tr th:only-of-type {\n",
       "        vertical-align: middle;\n",
       "    }\n",
       "\n",
       "    .dataframe tbody tr th {\n",
       "        vertical-align: top;\n",
       "    }\n",
       "\n",
       "    .dataframe thead th {\n",
       "        text-align: right;\n",
       "    }\n",
       "</style>\n",
       "<table border=\"1\" class=\"dataframe\">\n",
       "  <thead>\n",
       "    <tr style=\"text-align: right;\">\n",
       "      <th></th>\n",
       "      <th>children</th>\n",
       "      <th>days_employed</th>\n",
       "      <th>dob_years</th>\n",
       "      <th>education_id</th>\n",
       "      <th>family_status_id</th>\n",
       "      <th>gender</th>\n",
       "      <th>income_type</th>\n",
       "      <th>debt</th>\n",
       "      <th>total_income</th>\n",
       "      <th>purpose</th>\n",
       "      <th>total_income_category</th>\n",
       "      <th>purpose_category</th>\n",
       "    </tr>\n",
       "  </thead>\n",
       "  <tbody>\n",
       "    <tr>\n",
       "      <th>0</th>\n",
       "      <td>1</td>\n",
       "      <td>8437</td>\n",
       "      <td>42</td>\n",
       "      <td>0</td>\n",
       "      <td>0</td>\n",
       "      <td>F</td>\n",
       "      <td>сотрудник</td>\n",
       "      <td>0</td>\n",
       "      <td>253875</td>\n",
       "      <td>покупка жилья</td>\n",
       "      <td>B</td>\n",
       "      <td>операции с недвижимостью</td>\n",
       "    </tr>\n",
       "    <tr>\n",
       "      <th>1</th>\n",
       "      <td>1</td>\n",
       "      <td>4024</td>\n",
       "      <td>36</td>\n",
       "      <td>1</td>\n",
       "      <td>0</td>\n",
       "      <td>F</td>\n",
       "      <td>сотрудник</td>\n",
       "      <td>0</td>\n",
       "      <td>112080</td>\n",
       "      <td>приобретение автомобиля</td>\n",
       "      <td>C</td>\n",
       "      <td>операции с автомобилем</td>\n",
       "    </tr>\n",
       "    <tr>\n",
       "      <th>2</th>\n",
       "      <td>0</td>\n",
       "      <td>5623</td>\n",
       "      <td>33</td>\n",
       "      <td>1</td>\n",
       "      <td>0</td>\n",
       "      <td>M</td>\n",
       "      <td>сотрудник</td>\n",
       "      <td>0</td>\n",
       "      <td>145885</td>\n",
       "      <td>покупка жилья</td>\n",
       "      <td>C</td>\n",
       "      <td>операции с недвижимостью</td>\n",
       "    </tr>\n",
       "    <tr>\n",
       "      <th>3</th>\n",
       "      <td>3</td>\n",
       "      <td>4124</td>\n",
       "      <td>32</td>\n",
       "      <td>1</td>\n",
       "      <td>0</td>\n",
       "      <td>M</td>\n",
       "      <td>сотрудник</td>\n",
       "      <td>0</td>\n",
       "      <td>267628</td>\n",
       "      <td>дополнительное образование</td>\n",
       "      <td>B</td>\n",
       "      <td>получение образования</td>\n",
       "    </tr>\n",
       "    <tr>\n",
       "      <th>4</th>\n",
       "      <td>0</td>\n",
       "      <td>340266</td>\n",
       "      <td>53</td>\n",
       "      <td>1</td>\n",
       "      <td>1</td>\n",
       "      <td>F</td>\n",
       "      <td>пенсионер</td>\n",
       "      <td>0</td>\n",
       "      <td>158616</td>\n",
       "      <td>сыграть свадьбу</td>\n",
       "      <td>C</td>\n",
       "      <td>проведение свадьбы</td>\n",
       "    </tr>\n",
       "    <tr>\n",
       "      <th>5</th>\n",
       "      <td>0</td>\n",
       "      <td>926</td>\n",
       "      <td>27</td>\n",
       "      <td>0</td>\n",
       "      <td>1</td>\n",
       "      <td>M</td>\n",
       "      <td>компаньон</td>\n",
       "      <td>0</td>\n",
       "      <td>255763</td>\n",
       "      <td>покупка жилья</td>\n",
       "      <td>B</td>\n",
       "      <td>операции с недвижимостью</td>\n",
       "    </tr>\n",
       "    <tr>\n",
       "      <th>6</th>\n",
       "      <td>0</td>\n",
       "      <td>2879</td>\n",
       "      <td>43</td>\n",
       "      <td>0</td>\n",
       "      <td>0</td>\n",
       "      <td>F</td>\n",
       "      <td>компаньон</td>\n",
       "      <td>0</td>\n",
       "      <td>240525</td>\n",
       "      <td>операции с жильем</td>\n",
       "      <td>B</td>\n",
       "      <td>операции с недвижимостью</td>\n",
       "    </tr>\n",
       "    <tr>\n",
       "      <th>7</th>\n",
       "      <td>0</td>\n",
       "      <td>152</td>\n",
       "      <td>50</td>\n",
       "      <td>1</td>\n",
       "      <td>0</td>\n",
       "      <td>M</td>\n",
       "      <td>сотрудник</td>\n",
       "      <td>0</td>\n",
       "      <td>135823</td>\n",
       "      <td>образование</td>\n",
       "      <td>C</td>\n",
       "      <td>получение образования</td>\n",
       "    </tr>\n",
       "    <tr>\n",
       "      <th>8</th>\n",
       "      <td>2</td>\n",
       "      <td>6929</td>\n",
       "      <td>35</td>\n",
       "      <td>0</td>\n",
       "      <td>1</td>\n",
       "      <td>F</td>\n",
       "      <td>сотрудник</td>\n",
       "      <td>0</td>\n",
       "      <td>95856</td>\n",
       "      <td>на проведение свадьбы</td>\n",
       "      <td>C</td>\n",
       "      <td>проведение свадьбы</td>\n",
       "    </tr>\n",
       "    <tr>\n",
       "      <th>9</th>\n",
       "      <td>0</td>\n",
       "      <td>2188</td>\n",
       "      <td>41</td>\n",
       "      <td>1</td>\n",
       "      <td>0</td>\n",
       "      <td>M</td>\n",
       "      <td>сотрудник</td>\n",
       "      <td>0</td>\n",
       "      <td>144425</td>\n",
       "      <td>покупка жилья для семьи</td>\n",
       "      <td>C</td>\n",
       "      <td>операции с недвижимостью</td>\n",
       "    </tr>\n",
       "  </tbody>\n",
       "</table>\n",
       "</div>"
      ],
      "text/plain": [
       "   children  days_employed  dob_years  education_id  family_status_id gender  \\\n",
       "0         1           8437         42             0                 0      F   \n",
       "1         1           4024         36             1                 0      F   \n",
       "2         0           5623         33             1                 0      M   \n",
       "3         3           4124         32             1                 0      M   \n",
       "4         0         340266         53             1                 1      F   \n",
       "5         0            926         27             0                 1      M   \n",
       "6         0           2879         43             0                 0      F   \n",
       "7         0            152         50             1                 0      M   \n",
       "8         2           6929         35             0                 1      F   \n",
       "9         0           2188         41             1                 0      M   \n",
       "\n",
       "  income_type  debt  total_income                     purpose  \\\n",
       "0   сотрудник     0        253875               покупка жилья   \n",
       "1   сотрудник     0        112080     приобретение автомобиля   \n",
       "2   сотрудник     0        145885               покупка жилья   \n",
       "3   сотрудник     0        267628  дополнительное образование   \n",
       "4   пенсионер     0        158616             сыграть свадьбу   \n",
       "5   компаньон     0        255763               покупка жилья   \n",
       "6   компаньон     0        240525           операции с жильем   \n",
       "7   сотрудник     0        135823                 образование   \n",
       "8   сотрудник     0         95856       на проведение свадьбы   \n",
       "9   сотрудник     0        144425     покупка жилья для семьи   \n",
       "\n",
       "  total_income_category          purpose_category  \n",
       "0                     B  операции с недвижимостью  \n",
       "1                     C    операции с автомобилем  \n",
       "2                     C  операции с недвижимостью  \n",
       "3                     B     получение образования  \n",
       "4                     C        проведение свадьбы  \n",
       "5                     B  операции с недвижимостью  \n",
       "6                     B  операции с недвижимостью  \n",
       "7                     C     получение образования  \n",
       "8                     C        проведение свадьбы  \n",
       "9                     C  операции с недвижимостью  "
      ]
     },
     "execution_count": 29,
     "metadata": {},
     "output_type": "execute_result"
    }
   ],
   "source": [
    "data.head(10)"
   ]
  },
  {
   "cell_type": "markdown",
   "id": "73215c29",
   "metadata": {},
   "source": [
    "Как мы видим, в таблице появился новый столбец purpose_category, в котором все кредиты распредились по четырем категориям."
   ]
  },
  {
   "cell_type": "markdown",
   "id": "9a899a41",
   "metadata": {},
   "source": [
    "# Ответы на вопросы."
   ]
  },
  {
   "cell_type": "markdown",
   "id": "b59afa55",
   "metadata": {},
   "source": [
    "## Зависимость между количеством детей и возвратом кредита в срок"
   ]
  },
  {
   "cell_type": "markdown",
   "id": "0f972ef6",
   "metadata": {},
   "source": [
    "Чтобы ответить на вопрос, есть ли зависимость между количеством детей и возвратом кредита в срок, нужно вычислить средний риск по задолженности у заемщиков из шести категорий. В каждую из категорий войдут заемщики с одинаковым количеством детей - от 0 до 5.\n",
    "Затем на основе полученных данных построим график соотношения уровня задолженности и количества детей у заемщика. Если с увеличением количества детей функция возрастает, то зависимость существует.\n",
    "\n",
    "Используем функцию agg() для фильтрации по нужным значениям и для нахождения количества займов в каждой из категорий и суммы  задолженностей.\n"
   ]
  },
  {
   "cell_type": "code",
   "execution_count": 30,
   "id": "4b4930a9",
   "metadata": {
    "scrolled": true
   },
   "outputs": [
    {
     "name": "stdout",
     "output_type": "stream",
     "text": [
      "           sum  count\n",
      "children             \n",
      "0         1063  14107\n",
      "1          445   4856\n",
      "2          202   2128\n",
      "3           27    330\n",
      "4            4     41\n",
      "5            0      9\n"
     ]
    }
   ],
   "source": [
    "data_debt = data.groupby('children')['debt'].agg(['sum', 'count'])\n",
    "print (data_debt)\n",
    "\n",
    "\n",
    "      "
   ]
  },
  {
   "cell_type": "markdown",
   "id": "5f1b7139",
   "metadata": {},
   "source": [
    "Рассчитаем отношение - сумма задолженностей к количеству займов в каждой категории, чтобы вычислить средний риск по задолженности на клиента в каждой категории:"
   ]
  },
  {
   "cell_type": "code",
   "execution_count": 31,
   "id": "f2697d4b",
   "metadata": {
    "scrolled": true
   },
   "outputs": [
    {
     "name": "stdout",
     "output_type": "stream",
     "text": [
      "children\n",
      "0    0.075353\n",
      "1    0.091639\n",
      "2    0.094925\n",
      "3    0.081818\n",
      "4    0.097561\n",
      "5    0.000000\n",
      "dtype: float64\n"
     ]
    }
   ],
   "source": [
    "print  (data_debt['sum']/data_debt['count'])"
   ]
  },
  {
   "cell_type": "markdown",
   "id": "9b57c5e5",
   "metadata": {},
   "source": [
    "Проверим значения с помощью pivot table:"
   ]
  },
  {
   "cell_type": "code",
   "execution_count": 32,
   "id": "2b636ce5",
   "metadata": {},
   "outputs": [
    {
     "data": {
      "text/html": [
       "<div>\n",
       "<style scoped>\n",
       "    .dataframe tbody tr th:only-of-type {\n",
       "        vertical-align: middle;\n",
       "    }\n",
       "\n",
       "    .dataframe tbody tr th {\n",
       "        vertical-align: top;\n",
       "    }\n",
       "\n",
       "    .dataframe thead th {\n",
       "        text-align: right;\n",
       "    }\n",
       "</style>\n",
       "<table border=\"1\" class=\"dataframe\">\n",
       "  <thead>\n",
       "    <tr style=\"text-align: right;\">\n",
       "      <th></th>\n",
       "      <th>debt</th>\n",
       "    </tr>\n",
       "    <tr>\n",
       "      <th>children</th>\n",
       "      <th></th>\n",
       "    </tr>\n",
       "  </thead>\n",
       "  <tbody>\n",
       "    <tr>\n",
       "      <th>0</th>\n",
       "      <td>0.075353</td>\n",
       "    </tr>\n",
       "    <tr>\n",
       "      <th>1</th>\n",
       "      <td>0.091639</td>\n",
       "    </tr>\n",
       "    <tr>\n",
       "      <th>2</th>\n",
       "      <td>0.094925</td>\n",
       "    </tr>\n",
       "    <tr>\n",
       "      <th>3</th>\n",
       "      <td>0.081818</td>\n",
       "    </tr>\n",
       "    <tr>\n",
       "      <th>4</th>\n",
       "      <td>0.097561</td>\n",
       "    </tr>\n",
       "    <tr>\n",
       "      <th>5</th>\n",
       "      <td>0.000000</td>\n",
       "    </tr>\n",
       "  </tbody>\n",
       "</table>\n",
       "</div>"
      ],
      "text/plain": [
       "              debt\n",
       "children          \n",
       "0         0.075353\n",
       "1         0.091639\n",
       "2         0.094925\n",
       "3         0.081818\n",
       "4         0.097561\n",
       "5         0.000000"
      ]
     },
     "execution_count": 32,
     "metadata": {},
     "output_type": "execute_result"
    }
   ],
   "source": [
    "pd.pivot_table(data,\n",
    "               index=[ 'children'],\n",
    "               values=['debt'],\n",
    "               aggfunc='mean')"
   ]
  },
  {
   "cell_type": "markdown",
   "id": "77278e1c",
   "metadata": {},
   "source": [
    "Построим график: \n",
    "- ось х - количество детей в семье\n",
    "- ось y - средний уровень задолженности на клиента в данной категории\n",
    "\n"
   ]
  },
  {
   "cell_type": "code",
   "execution_count": 33,
   "id": "9acf031a",
   "metadata": {
    "scrolled": true
   },
   "outputs": [
    {
     "data": {
      "image/png": "[encoded data removed]",
      "text/plain": [
       "<Figure size 432x288 with 1 Axes>"
      ]
     },
     "metadata": {
      "needs_background": "light"
     },
     "output_type": "display_data"
    }
   ],
   "source": [
    "import matplotlib.pyplot as plt\n",
    "import seaborn as sns\n",
    "debt = pd.DataFrame({'kids': [0,1,2,3,4,5], 'debt': [0.075353, 0.091639, 0.094925, 0.081818, 0.097561, 0.000000]})\n",
    "\n",
    "ax = sns.barplot(x = 'kids', y = 'debt',\n",
    "              data = debt,\n",
    "              color = 'blue')\n",
    "ax.set(xlabel='Количество детей в семье', ylabel='Риск задолженности')\n",
    "plt.show()\n",
    "\n",
    "\n"
   ]
  },
  {
   "cell_type": "markdown",
   "id": "01fbe519",
   "metadata": {},
   "source": [
    "На графике видно, что уровень задолженности связан с количеством детей у заемщика. Хотя клиенты с тремя детьми имеют меньшую задолженность, чем клиенты с двумя детьми, в целом тренд графика возрастающий. Группа клиентов с 5 детьми имеет нулевую задолженность, но таких клиентов в данных всего 9, поэтому возможно, что данные в этой категории нерепрезентативны. В целом, наименьший риск представляют заемщики без детей."
   ]
  },
  {
   "cell_type": "markdown",
   "id": "b3e38551",
   "metadata": {},
   "source": [
    "## Зависимость между семейным положением и возвратом кредита в долг"
   ]
  },
  {
   "cell_type": "markdown",
   "id": "8824c253",
   "metadata": {},
   "source": [
    "Аналогичным образом найдем ответ на следующий вопрос: есть ли зависимость между семейным положением и возвратом кредита в срок?\n",
    "Сгруппируем данные по категориям 'family_status_id' (которым соответствуют следующие статусы: 'женат / замужем', 'гражданский брак','вдовец / вдова', 'в разводе', 'Не женат / не замужем'). Затем разделим сумму задолженностей на количество займов и вычислим риск по задолженности в каждой из категорий. Для наглядности построим график."
   ]
  },
  {
   "cell_type": "code",
   "execution_count": 34,
   "id": "8c9f4b54",
   "metadata": {},
   "outputs": [
    {
     "name": "stdout",
     "output_type": "stream",
     "text": [
      "                  sum  count\n",
      "family_status_id            \n",
      "0                 931  12344\n",
      "1                 388   4163\n",
      "2                  63    959\n",
      "3                  85   1195\n",
      "4                 274   2810\n",
      "= = = = = = = = = = = = = = = = = = = = \n",
      "\n",
      "family_status_id\n",
      "0    0.075421\n",
      "1    0.093202\n",
      "2    0.065693\n",
      "3    0.071130\n",
      "4    0.097509\n",
      "dtype: float64\n"
     ]
    }
   ],
   "source": [
    "data_debt_family_id = data.groupby('family_status_id')['debt'].agg(['sum', 'count'])\n",
    "print (data_debt_family_id)\n",
    "print ('= '* 20)\n",
    "print ('')\n",
    "print  (data_debt_family_id['sum']/data_debt_family_id['count'])"
   ]
  },
  {
   "cell_type": "code",
   "execution_count": 35,
   "id": "be4d53a2",
   "metadata": {},
   "outputs": [
    {
     "data": {
      "image/png": "[encoded data removed]",
      "text/plain": [
       "<Figure size 432x288 with 1 Axes>"
      ]
     },
     "metadata": {
      "needs_background": "light"
     },
     "output_type": "display_data"
    }
   ],
   "source": [
    "debt = pd.DataFrame({'family_status_id': ['женат / замужем', 'гражданский брак','вдовец / вдова', \n",
    "                                          'в разводе', 'Не женат / не замужем'], \n",
    "                     'debt': [0.075421, 0.093202, 0.065693, 0.071130, 0.097509]})\n",
    "\n",
    "ax = sns.barplot(x = 'family_status_id', y = 'debt',\n",
    "              data = debt,\n",
    "              color = 'blue')\n",
    "plt.xticks(rotation=45)\n",
    "ax.set(xlabel='Семейное положение', ylabel='Долг/семейное положение')\n",
    "plt.show()"
   ]
  },
  {
   "cell_type": "markdown",
   "id": "45046626",
   "metadata": {},
   "source": [
    "На графике видно, что самый большой риск невозврата наблюдается в группе 'Не женат / не замужем', что также может коррелировать с молодым возрастом заемщиков. Одинокие клиенты из групп 'вдовец / вдова', 'в разводе' несут меньшие риски, чем клиенты из групп 'женат / замужем' и 'гражданский брак'. В целом, не наблюдается прямой зависимости между семейным составом и долговой нагрузкой."
   ]
  },
  {
   "cell_type": "markdown",
   "id": "502aefa2",
   "metadata": {},
   "source": [
    "## Зависимость между уровнем дохода и возвратом кредита в срок "
   ]
  },
  {
   "cell_type": "markdown",
   "id": "84e8f6d2",
   "metadata": {},
   "source": [
    "Ответим на следующий вопрос: есть ли зависимость между уровнем дохода и возвратом кредита в срок?\n",
    "Сгруппируем данные по категориям 'total_income_category':\n",
    "- 0–30000 — 'E';\n",
    "- 30001–50000 — 'D';\n",
    "- 50001–200000 — 'C';\n",
    "- 200001–1000000 — 'B';\n",
    "- 1000001 и выше — 'A'.\n",
    "\n",
    "Вычислим количество клиентов в каждой группе и рассчитаем среднюю задолженность на клиента в каждой из категорий. Посмотрим на графике, коррелирует ли уровень задолженности с падением доходов."
   ]
  },
  {
   "cell_type": "code",
   "execution_count": 36,
   "id": "bfc33f30",
   "metadata": {},
   "outputs": [
    {
     "name": "stdout",
     "output_type": "stream",
     "text": [
      "                        sum  count\n",
      "total_income_category             \n",
      "A                         2     25\n",
      "B                       356   5041\n",
      "C                      1360  16033\n",
      "D                        21    350\n",
      "E                         2     22\n",
      "= = = = = = = = = = = = = = = = = = = = \n",
      "\n",
      "total_income_category\n",
      "A    0.080000\n",
      "B    0.070621\n",
      "C    0.084825\n",
      "D    0.060000\n",
      "E    0.090909\n",
      "dtype: float64\n"
     ]
    }
   ],
   "source": [
    "data_debt_income = data.groupby('total_income_category')['debt'].agg(['sum', 'count'])\n",
    "print (data_debt_income)\n",
    "print ('= '* 20)\n",
    "print ('')\n",
    "print  (data_debt_income['sum']/data_debt_income['count'])"
   ]
  },
  {
   "cell_type": "markdown",
   "id": "5cc29a55",
   "metadata": {},
   "source": [
    "Создадим график:"
   ]
  },
  {
   "cell_type": "code",
   "execution_count": 37,
   "id": "b00817a3",
   "metadata": {
    "scrolled": false
   },
   "outputs": [
    {
     "data": {
      "image/png": "[encoded data removed]",
      "text/plain": [
       "<Figure size 432x288 with 1 Axes>"
      ]
     },
     "metadata": {
      "needs_background": "light"
     },
     "output_type": "display_data"
    }
   ],
   "source": [
    "debt = pd.DataFrame({'total_income_category': ['A', 'B', 'C', 'D', 'E'], 'debt': [ 0.080000, 0.070621, 0.084825, 0.060000, 0.090909]})\n",
    "\n",
    "ax = sns.barplot(x = 'total_income_category', y = 'debt',\n",
    "              data = debt,\n",
    "              color = 'blue')\n",
    "ax.set(xlabel='Категория дохода', ylabel='Ratio долг/категория дохода')\n",
    "plt.show()"
   ]
  },
  {
   "cell_type": "markdown",
   "id": "2a2b3369",
   "metadata": {},
   "source": [
    "Уровень задолженности растет с падением доходов. Это особенно ярко выражено в последней группе E, где уровень доходов не превышает 30000 руб. Эта группа представляет собой наибольший риск по невыплате кредитов. В группах с большими доходами задолженность выражена не так ярко, а значит, риск невыплаты кредитов меньше."
   ]
  },
  {
   "cell_type": "markdown",
   "id": "4356b961",
   "metadata": {},
   "source": [
    "Представим результаты с помощью pivot table:"
   ]
  },
  {
   "cell_type": "markdown",
   "id": "e8015c6c",
   "metadata": {},
   "source": [
    "## Как разные цели кредита влияют на его возврат в срок"
   ]
  },
  {
   "cell_type": "markdown",
   "id": "e44c46b4",
   "metadata": {},
   "source": [
    "Чтобы ответить на вопрос, как цели кредита влияют на его возврат в срок, вычислим среднее значение по задолженности на клиента в категориях: 'операции с автомобилем', 'операции с недвижимостью', 'проведение свадьбы', 'получение образования'.\n",
    "В каждой из категорий, разделив сумму задолженностей на количество займов, получим уровень риска по задолженности:"
   ]
  },
  {
   "cell_type": "code",
   "execution_count": 38,
   "id": "f888645e",
   "metadata": {},
   "outputs": [
    {
     "name": "stdout",
     "output_type": "stream",
     "text": [
      "                          sum  count\n",
      "purpose_category                    \n",
      "операции с автомобилем    403   4308\n",
      "операции с недвижимостью  782  10814\n",
      "получение образования     370   4014\n",
      "проведение свадьбы        186   2335\n",
      "= = = = = = = = = = = = = = = = = = = = \n",
      "\n",
      "purpose_category\n",
      "операции с автомобилем      0.093547\n",
      "операции с недвижимостью    0.072314\n",
      "получение образования       0.092177\n",
      "проведение свадьбы          0.079657\n",
      "dtype: float64\n"
     ]
    }
   ],
   "source": [
    "data_debt_purpose = data.groupby('purpose_category')['debt'].agg(['sum', 'count'])\n",
    "print (data_debt_purpose)\n",
    "print ('= '* 20)\n",
    "print ('')\n",
    "print  (data_debt_purpose['sum']/data_debt_purpose['count'])"
   ]
  },
  {
   "cell_type": "markdown",
   "id": "a41d3dd3",
   "metadata": {},
   "source": [
    "Построим график соотношения задолженности и категорий по целям займа:"
   ]
  },
  {
   "cell_type": "code",
   "execution_count": 39,
   "id": "352b4735",
   "metadata": {},
   "outputs": [
    {
     "data": {
      "image/png": "[encoded data removed]",
      "text/plain": [
       "<Figure size 432x288 with 1 Axes>"
      ]
     },
     "metadata": {
      "needs_background": "light"
     },
     "output_type": "display_data"
    }
   ],
   "source": [
    "debt = pd.DataFrame({'purpose_category': ['операции\\n с автомобилем', 'операции \\nс \\nнедвижимостью', 'проведение\\n свадьбы', \n",
    "                                          'получение \\n образования'], \n",
    "                     'debt': [0.093547, 0.072314, 0.079657, 0.092177]})\n",
    "\n",
    "ax = sns.barplot(x = 'purpose_category', y = 'debt',\n",
    "              data = debt,\n",
    "              color = 'blue')\n",
    "ax.set(xlabel='Цель кредита', ylabel='Ratio долг/цель кредита')\n",
    "plt.show()"
   ]
  },
  {
   "cell_type": "markdown",
   "id": "dea5f750",
   "metadata": {},
   "source": [
    "На графике видно, что чаще всего задолженности образуются по следующим целям кредитов: 'операции с автомобилем', 'получение образования'. Наименее рискованная категория займов - 'операции с недвижимостью'."
   ]
  },
  {
   "cell_type": "markdown",
   "id": "9d2d2820",
   "metadata": {},
   "source": [
    "## Общий вывод:"
   ]
  },
  {
   "cell_type": "markdown",
   "id": "0902abee",
   "metadata": {},
   "source": [
    "Мы провели исследование заемщиков в банке на основе полученных данных. Получив датасет, заменили отсутствующие значения в столбцах days_employed и total_income на медианные, удалили дубликаты. Удалили из таблицы столбцы education и family_status, оставив в исходном датасете только идентификаторы этих данных. \n",
    "Cоздали столбец total_income_category с категориями от A до E, распределив заемщиков по категориям доходов. Создали функцию, которая на основании данных из столбца purpose сформировала новый столбец purpose_category, где займы были распределены по четырем категориям согласно цели займа.\n",
    "\n",
    "В целом, можно определить категории заемщиков с повышенным риском задолженности по кредиту. \n",
    "Дополнительные риски создают следующие факторы:\n",
    "- наличие детей (от 1 ребенка и больше); минимальный риск наблюдается у заемщиков без детей\n",
    "- семейный статус 'Не женат / не замужем'\n",
    "- низкий уровень дохода; особенно высокий риск наблюдается в группе с доходами до 30000 рублей\n",
    "- цели кредита -  'операции с автомобилем', 'получение образования'; по этим категориям риск задолженности по кредиту выше, чем по другим категориям\n",
    "\n",
    "На основании этих данных можно будет создать кредитный скоринг, который поможет принимать решение о выдаче кредита заемщику.\n",
    "\n",
    "\n",
    "\n",
    "\n"
   ]
  }
 ],
 "metadata": {
  "ExecuteTimeLog": [
   {
    "duration": 464,
    "start_time": "2022-05-06T18:21:28.023Z"
   },
   {
    "duration": 188,
    "start_time": "2022-05-06T18:21:28.489Z"
   },
   {
    "duration": 0,
    "start_time": "2022-05-06T18:21:28.680Z"
   },
   {
    "duration": 0,
    "start_time": "2022-05-06T18:21:28.681Z"
   },
   {
    "duration": 0,
    "start_time": "2022-05-06T18:21:28.683Z"
   },
   {
    "duration": 0,
    "start_time": "2022-05-06T18:21:28.684Z"
   },
   {
    "duration": 0,
    "start_time": "2022-05-06T18:21:28.693Z"
   },
   {
    "duration": 211,
    "start_time": "2022-05-06T18:21:57.232Z"
   },
   {
    "duration": 219,
    "start_time": "2022-05-06T18:22:10.172Z"
   },
   {
    "duration": 253,
    "start_time": "2022-05-06T18:22:16.704Z"
   },
   {
    "duration": 106,
    "start_time": "2022-05-06T18:22:27.058Z"
   },
   {
    "duration": 114,
    "start_time": "2022-05-06T18:49:35.579Z"
   },
   {
    "duration": 20,
    "start_time": "2022-05-06T18:49:44.134Z"
   },
   {
    "duration": 29,
    "start_time": "2022-05-06T18:50:15.449Z"
   },
   {
    "duration": 2142,
    "start_time": "2022-05-06T18:50:39.842Z"
   },
   {
    "duration": 32,
    "start_time": "2022-05-06T18:50:55.286Z"
   },
   {
    "duration": 13,
    "start_time": "2022-05-06T19:11:58.925Z"
   },
   {
    "duration": 511,
    "start_time": "2022-05-06T19:14:05.767Z"
   },
   {
    "duration": 91,
    "start_time": "2022-05-06T19:14:06.281Z"
   },
   {
    "duration": 38,
    "start_time": "2022-05-06T19:14:06.374Z"
   },
   {
    "duration": 13,
    "start_time": "2022-05-06T19:14:06.415Z"
   },
   {
    "duration": 6,
    "start_time": "2022-05-06T19:14:06.430Z"
   },
   {
    "duration": 246,
    "start_time": "2022-05-06T19:14:06.438Z"
   },
   {
    "duration": 0,
    "start_time": "2022-05-06T19:14:06.687Z"
   },
   {
    "duration": 0,
    "start_time": "2022-05-06T19:14:06.688Z"
   },
   {
    "duration": 487,
    "start_time": "2022-05-06T19:14:43.102Z"
   },
   {
    "duration": 91,
    "start_time": "2022-05-06T19:14:43.591Z"
   },
   {
    "duration": 47,
    "start_time": "2022-05-06T19:14:43.685Z"
   },
   {
    "duration": 20,
    "start_time": "2022-05-06T19:14:43.735Z"
   },
   {
    "duration": 37,
    "start_time": "2022-05-06T19:14:43.759Z"
   },
   {
    "duration": 6,
    "start_time": "2022-05-06T19:14:43.799Z"
   },
   {
    "duration": 143,
    "start_time": "2022-05-06T19:14:43.808Z"
   },
   {
    "duration": 20,
    "start_time": "2022-05-06T19:15:00.285Z"
   },
   {
    "duration": 17,
    "start_time": "2022-05-06T19:15:30.178Z"
   },
   {
    "duration": 15,
    "start_time": "2022-05-06T19:44:20.505Z"
   },
   {
    "duration": 13,
    "start_time": "2022-05-06T19:44:36.557Z"
   },
   {
    "duration": 16,
    "start_time": "2022-05-06T19:45:05.562Z"
   },
   {
    "duration": 212,
    "start_time": "2022-05-06T19:47:11.213Z"
   },
   {
    "duration": 11,
    "start_time": "2022-05-06T19:47:21.671Z"
   },
   {
    "duration": 5,
    "start_time": "2022-05-06T19:47:34.378Z"
   },
   {
    "duration": 19,
    "start_time": "2022-05-06T19:47:54.878Z"
   },
   {
    "duration": 710,
    "start_time": "2022-05-06T19:48:12.778Z"
   },
   {
    "duration": 151,
    "start_time": "2022-05-06T19:48:13.495Z"
   },
   {
    "duration": 45,
    "start_time": "2022-05-06T19:48:13.649Z"
   },
   {
    "duration": 16,
    "start_time": "2022-05-06T19:48:13.697Z"
   },
   {
    "duration": 6,
    "start_time": "2022-05-06T19:48:13.717Z"
   },
   {
    "duration": 9,
    "start_time": "2022-05-06T19:48:13.725Z"
   },
   {
    "duration": 56,
    "start_time": "2022-05-06T19:48:13.737Z"
   },
   {
    "duration": 179,
    "start_time": "2022-05-06T19:48:13.795Z"
   },
   {
    "duration": 0,
    "start_time": "2022-05-06T19:48:13.978Z"
   },
   {
    "duration": 21,
    "start_time": "2022-05-06T19:48:42.382Z"
   },
   {
    "duration": 7,
    "start_time": "2022-05-06T19:50:42.019Z"
   },
   {
    "duration": 9,
    "start_time": "2022-05-06T19:51:03.588Z"
   },
   {
    "duration": 10,
    "start_time": "2022-05-06T20:07:49.845Z"
   },
   {
    "duration": 10,
    "start_time": "2022-05-06T20:08:16.356Z"
   },
   {
    "duration": 13,
    "start_time": "2022-05-06T20:08:34.651Z"
   },
   {
    "duration": 10,
    "start_time": "2022-05-06T20:13:03.036Z"
   },
   {
    "duration": 9,
    "start_time": "2022-05-06T20:13:19.046Z"
   },
   {
    "duration": 10,
    "start_time": "2022-05-06T20:32:52.088Z"
   },
   {
    "duration": 9,
    "start_time": "2022-05-06T20:33:03.948Z"
   },
   {
    "duration": 12,
    "start_time": "2022-05-06T20:33:14.149Z"
   },
   {
    "duration": 524,
    "start_time": "2022-05-06T20:33:22.451Z"
   },
   {
    "duration": 106,
    "start_time": "2022-05-06T20:33:22.978Z"
   },
   {
    "duration": 29,
    "start_time": "2022-05-06T20:33:23.086Z"
   },
   {
    "duration": 14,
    "start_time": "2022-05-06T20:33:23.117Z"
   },
   {
    "duration": 8,
    "start_time": "2022-05-06T20:33:23.134Z"
   },
   {
    "duration": 9,
    "start_time": "2022-05-06T20:33:23.145Z"
   },
   {
    "duration": 47,
    "start_time": "2022-05-06T20:33:23.156Z"
   },
   {
    "duration": 21,
    "start_time": "2022-05-06T20:33:23.206Z"
   },
   {
    "duration": 10,
    "start_time": "2022-05-06T20:33:23.229Z"
   },
   {
    "duration": 260,
    "start_time": "2022-05-06T20:36:59.572Z"
   },
   {
    "duration": 5,
    "start_time": "2022-05-06T20:37:25.792Z"
   },
   {
    "duration": 113,
    "start_time": "2022-05-06T20:42:37.239Z"
   },
   {
    "duration": 24,
    "start_time": "2022-05-06T20:42:49.772Z"
   },
   {
    "duration": 24,
    "start_time": "2022-05-06T20:43:43.517Z"
   },
   {
    "duration": 218,
    "start_time": "2022-05-06T20:44:59.599Z"
   },
   {
    "duration": 70,
    "start_time": "2022-05-06T20:45:05.152Z"
   },
   {
    "duration": 78,
    "start_time": "2022-05-06T20:45:22.684Z"
   },
   {
    "duration": 106,
    "start_time": "2022-05-06T20:45:35.655Z"
   },
   {
    "duration": 25,
    "start_time": "2022-05-06T20:46:42.795Z"
   },
   {
    "duration": 23,
    "start_time": "2022-05-06T20:47:08.963Z"
   },
   {
    "duration": 33,
    "start_time": "2022-05-06T20:47:54.767Z"
   },
   {
    "duration": 500,
    "start_time": "2022-05-06T20:48:02.789Z"
   },
   {
    "duration": 96,
    "start_time": "2022-05-06T20:48:03.292Z"
   },
   {
    "duration": 38,
    "start_time": "2022-05-06T20:48:03.390Z"
   },
   {
    "duration": 16,
    "start_time": "2022-05-06T20:48:03.432Z"
   },
   {
    "duration": 5,
    "start_time": "2022-05-06T20:48:03.451Z"
   },
   {
    "duration": 36,
    "start_time": "2022-05-06T20:48:03.458Z"
   },
   {
    "duration": 12,
    "start_time": "2022-05-06T20:48:03.496Z"
   },
   {
    "duration": 36,
    "start_time": "2022-05-06T20:48:03.510Z"
   },
   {
    "duration": 120,
    "start_time": "2022-05-06T20:48:03.549Z"
   },
   {
    "duration": 172,
    "start_time": "2022-05-06T20:50:23.616Z"
   },
   {
    "duration": 100,
    "start_time": "2022-05-06T21:15:47.245Z"
   },
   {
    "duration": 33,
    "start_time": "2022-05-06T21:26:34.202Z"
   },
   {
    "duration": 20,
    "start_time": "2022-05-06T21:30:08.701Z"
   },
   {
    "duration": 19,
    "start_time": "2022-05-06T21:30:19.392Z"
   },
   {
    "duration": 12,
    "start_time": "2022-05-06T21:45:37.036Z"
   },
   {
    "duration": 505,
    "start_time": "2022-05-06T21:54:37.743Z"
   },
   {
    "duration": 104,
    "start_time": "2022-05-06T21:54:38.250Z"
   },
   {
    "duration": 44,
    "start_time": "2022-05-06T21:54:38.356Z"
   },
   {
    "duration": 14,
    "start_time": "2022-05-06T21:54:38.403Z"
   },
   {
    "duration": 5,
    "start_time": "2022-05-06T21:54:38.420Z"
   },
   {
    "duration": 6,
    "start_time": "2022-05-06T21:54:38.427Z"
   },
   {
    "duration": 14,
    "start_time": "2022-05-06T21:54:38.435Z"
   },
   {
    "duration": 60,
    "start_time": "2022-05-06T21:54:38.451Z"
   },
   {
    "duration": 107,
    "start_time": "2022-05-06T21:54:38.514Z"
   },
   {
    "duration": 19,
    "start_time": "2022-05-06T21:54:38.625Z"
   },
   {
    "duration": 184,
    "start_time": "2022-05-06T21:54:38.646Z"
   },
   {
    "duration": 489,
    "start_time": "2022-05-06T21:54:57.445Z"
   },
   {
    "duration": 93,
    "start_time": "2022-05-06T21:54:57.937Z"
   },
   {
    "duration": 33,
    "start_time": "2022-05-06T21:54:58.032Z"
   },
   {
    "duration": 27,
    "start_time": "2022-05-06T21:54:58.067Z"
   },
   {
    "duration": 6,
    "start_time": "2022-05-06T21:54:58.097Z"
   },
   {
    "duration": 10,
    "start_time": "2022-05-06T21:54:58.104Z"
   },
   {
    "duration": 15,
    "start_time": "2022-05-06T21:54:58.116Z"
   },
   {
    "duration": 22,
    "start_time": "2022-05-06T21:54:58.133Z"
   },
   {
    "duration": 106,
    "start_time": "2022-05-06T21:54:58.193Z"
   },
   {
    "duration": 23,
    "start_time": "2022-05-06T21:54:58.301Z"
   },
   {
    "duration": 206,
    "start_time": "2022-05-06T21:54:58.326Z"
   },
   {
    "duration": 9,
    "start_time": "2022-05-06T22:04:33.501Z"
   },
   {
    "duration": 9,
    "start_time": "2022-05-06T22:04:44.510Z"
   },
   {
    "duration": 9,
    "start_time": "2022-05-06T22:04:59.578Z"
   },
   {
    "duration": 5,
    "start_time": "2022-05-06T22:15:47.292Z"
   },
   {
    "duration": 11,
    "start_time": "2022-05-06T22:16:18.261Z"
   },
   {
    "duration": 212,
    "start_time": "2022-05-06T22:31:01.682Z"
   },
   {
    "duration": 87,
    "start_time": "2022-05-06T22:31:14.133Z"
   },
   {
    "duration": 19,
    "start_time": "2022-05-06T22:31:41.127Z"
   },
   {
    "duration": 20,
    "start_time": "2022-05-06T22:31:51.814Z"
   },
   {
    "duration": 18,
    "start_time": "2022-05-06T22:32:40.152Z"
   },
   {
    "duration": 42,
    "start_time": "2022-05-06T22:33:30.125Z"
   },
   {
    "duration": 8,
    "start_time": "2022-05-06T22:38:21.315Z"
   },
   {
    "duration": 7,
    "start_time": "2022-05-06T22:38:25.365Z"
   },
   {
    "duration": 7,
    "start_time": "2022-05-06T22:38:39.975Z"
   },
   {
    "duration": 32,
    "start_time": "2022-05-06T22:39:58.111Z"
   },
   {
    "duration": 112,
    "start_time": "2022-05-06T22:40:36.275Z"
   },
   {
    "duration": 16,
    "start_time": "2022-05-06T22:40:52.748Z"
   },
   {
    "duration": 11,
    "start_time": "2022-05-06T22:41:30.074Z"
   },
   {
    "duration": 12,
    "start_time": "2022-05-06T22:41:57.985Z"
   },
   {
    "duration": 521,
    "start_time": "2022-05-06T22:43:57.065Z"
   },
   {
    "duration": 105,
    "start_time": "2022-05-06T22:43:57.588Z"
   },
   {
    "duration": 37,
    "start_time": "2022-05-06T22:43:57.695Z"
   },
   {
    "duration": 15,
    "start_time": "2022-05-06T22:43:57.735Z"
   },
   {
    "duration": 41,
    "start_time": "2022-05-06T22:43:57.753Z"
   },
   {
    "duration": 6,
    "start_time": "2022-05-06T22:43:57.797Z"
   },
   {
    "duration": 16,
    "start_time": "2022-05-06T22:43:57.806Z"
   },
   {
    "duration": 26,
    "start_time": "2022-05-06T22:43:57.824Z"
   },
   {
    "duration": 147,
    "start_time": "2022-05-06T22:43:57.853Z"
   },
   {
    "duration": 23,
    "start_time": "2022-05-06T22:43:58.004Z"
   },
   {
    "duration": 76,
    "start_time": "2022-05-06T22:43:58.030Z"
   },
   {
    "duration": 13,
    "start_time": "2022-05-06T22:43:58.109Z"
   },
   {
    "duration": 52,
    "start_time": "2022-05-06T22:48:31.348Z"
   },
   {
    "duration": 476,
    "start_time": "2022-05-06T22:48:39.417Z"
   },
   {
    "duration": 90,
    "start_time": "2022-05-06T22:48:39.896Z"
   },
   {
    "duration": 33,
    "start_time": "2022-05-06T22:48:39.988Z"
   },
   {
    "duration": 14,
    "start_time": "2022-05-06T22:48:40.024Z"
   },
   {
    "duration": 11,
    "start_time": "2022-05-06T22:48:40.040Z"
   },
   {
    "duration": 9,
    "start_time": "2022-05-06T22:48:40.053Z"
   },
   {
    "duration": 13,
    "start_time": "2022-05-06T22:48:40.093Z"
   },
   {
    "duration": 25,
    "start_time": "2022-05-06T22:48:40.109Z"
   },
   {
    "duration": 121,
    "start_time": "2022-05-06T22:48:40.136Z"
   },
   {
    "duration": 36,
    "start_time": "2022-05-06T22:48:40.260Z"
   },
   {
    "duration": 44,
    "start_time": "2022-05-06T22:48:40.298Z"
   },
   {
    "duration": 11,
    "start_time": "2022-05-06T22:48:40.344Z"
   },
   {
    "duration": 477,
    "start_time": "2022-05-06T22:49:17.105Z"
   },
   {
    "duration": 92,
    "start_time": "2022-05-06T22:49:17.585Z"
   },
   {
    "duration": 31,
    "start_time": "2022-05-06T22:49:17.679Z"
   },
   {
    "duration": 17,
    "start_time": "2022-05-06T22:49:17.713Z"
   },
   {
    "duration": 6,
    "start_time": "2022-05-06T22:49:17.732Z"
   },
   {
    "duration": 7,
    "start_time": "2022-05-06T22:49:17.740Z"
   },
   {
    "duration": 47,
    "start_time": "2022-05-06T22:49:17.749Z"
   },
   {
    "duration": 23,
    "start_time": "2022-05-06T22:49:17.798Z"
   },
   {
    "duration": 111,
    "start_time": "2022-05-06T22:49:17.823Z"
   },
   {
    "duration": 23,
    "start_time": "2022-05-06T22:49:17.937Z"
   },
   {
    "duration": 71,
    "start_time": "2022-05-06T22:49:17.962Z"
   },
   {
    "duration": 12,
    "start_time": "2022-05-06T22:49:18.035Z"
   },
   {
    "duration": 23,
    "start_time": "2022-05-06T22:50:16.315Z"
   },
   {
    "duration": 52,
    "start_time": "2022-05-06T22:50:21.978Z"
   },
   {
    "duration": 54,
    "start_time": "2022-05-06T22:50:45.852Z"
   },
   {
    "duration": 54,
    "start_time": "2022-05-06T22:51:23.917Z"
   },
   {
    "duration": 39,
    "start_time": "2022-05-06T22:51:38.986Z"
   },
   {
    "duration": 501,
    "start_time": "2022-05-06T22:51:49.679Z"
   },
   {
    "duration": 102,
    "start_time": "2022-05-06T22:51:50.182Z"
   },
   {
    "duration": 32,
    "start_time": "2022-05-06T22:51:50.286Z"
   },
   {
    "duration": 16,
    "start_time": "2022-05-06T22:51:50.321Z"
   },
   {
    "duration": 8,
    "start_time": "2022-05-06T22:51:50.339Z"
   },
   {
    "duration": 6,
    "start_time": "2022-05-06T22:51:50.349Z"
   },
   {
    "duration": 41,
    "start_time": "2022-05-06T22:51:50.357Z"
   },
   {
    "duration": 23,
    "start_time": "2022-05-06T22:51:50.400Z"
   },
   {
    "duration": 114,
    "start_time": "2022-05-06T22:51:50.425Z"
   },
   {
    "duration": 23,
    "start_time": "2022-05-06T22:51:50.542Z"
   },
   {
    "duration": 53,
    "start_time": "2022-05-06T22:51:50.567Z"
   },
   {
    "duration": 12,
    "start_time": "2022-05-06T22:51:50.622Z"
   },
   {
    "duration": 52,
    "start_time": "2022-05-06T22:52:56.124Z"
   },
   {
    "duration": 508,
    "start_time": "2022-05-06T23:22:43.188Z"
   },
   {
    "duration": 92,
    "start_time": "2022-05-06T23:22:43.698Z"
   },
   {
    "duration": 31,
    "start_time": "2022-05-06T23:22:43.792Z"
   },
   {
    "duration": 15,
    "start_time": "2022-05-06T23:22:43.827Z"
   },
   {
    "duration": 7,
    "start_time": "2022-05-06T23:22:43.844Z"
   },
   {
    "duration": 42,
    "start_time": "2022-05-06T23:22:43.853Z"
   },
   {
    "duration": 15,
    "start_time": "2022-05-06T23:22:43.897Z"
   },
   {
    "duration": 23,
    "start_time": "2022-05-06T23:22:43.914Z"
   },
   {
    "duration": 127,
    "start_time": "2022-05-06T23:22:43.939Z"
   },
   {
    "duration": 40,
    "start_time": "2022-05-06T23:22:44.069Z"
   },
   {
    "duration": 1734,
    "start_time": "2022-05-06T23:22:44.112Z"
   },
   {
    "duration": 0,
    "start_time": "2022-05-06T23:22:45.849Z"
   },
   {
    "duration": 454,
    "start_time": "2022-05-06T23:23:46.721Z"
   },
   {
    "duration": 91,
    "start_time": "2022-05-06T23:23:47.178Z"
   },
   {
    "duration": 36,
    "start_time": "2022-05-06T23:23:47.272Z"
   },
   {
    "duration": 13,
    "start_time": "2022-05-06T23:23:47.311Z"
   },
   {
    "duration": 6,
    "start_time": "2022-05-06T23:23:47.326Z"
   },
   {
    "duration": 5,
    "start_time": "2022-05-06T23:23:47.334Z"
   },
   {
    "duration": 14,
    "start_time": "2022-05-06T23:23:47.341Z"
   },
   {
    "duration": 24,
    "start_time": "2022-05-06T23:23:47.393Z"
   },
   {
    "duration": 115,
    "start_time": "2022-05-06T23:23:47.419Z"
   },
   {
    "duration": 19,
    "start_time": "2022-05-06T23:23:47.537Z"
   },
   {
    "duration": 90,
    "start_time": "2022-05-06T23:23:47.558Z"
   },
   {
    "duration": 12,
    "start_time": "2022-05-06T23:23:47.651Z"
   },
   {
    "duration": 498,
    "start_time": "2022-05-06T23:24:53.289Z"
   },
   {
    "duration": 90,
    "start_time": "2022-05-06T23:24:53.791Z"
   },
   {
    "duration": 35,
    "start_time": "2022-05-06T23:24:53.883Z"
   },
   {
    "duration": 14,
    "start_time": "2022-05-06T23:24:53.920Z"
   },
   {
    "duration": 5,
    "start_time": "2022-05-06T23:24:53.938Z"
   },
   {
    "duration": 6,
    "start_time": "2022-05-06T23:24:53.945Z"
   },
   {
    "duration": 47,
    "start_time": "2022-05-06T23:24:53.954Z"
   },
   {
    "duration": 25,
    "start_time": "2022-05-06T23:24:54.004Z"
   },
   {
    "duration": 115,
    "start_time": "2022-05-06T23:24:54.032Z"
   },
   {
    "duration": 20,
    "start_time": "2022-05-06T23:24:54.150Z"
   },
   {
    "duration": 42,
    "start_time": "2022-05-06T23:24:54.173Z"
   },
   {
    "duration": 8,
    "start_time": "2022-05-06T23:24:54.218Z"
   },
   {
    "duration": 515,
    "start_time": "2022-05-06T23:27:17.662Z"
   },
   {
    "duration": 95,
    "start_time": "2022-05-06T23:27:18.180Z"
   },
   {
    "duration": 39,
    "start_time": "2022-05-06T23:27:18.277Z"
   },
   {
    "duration": 13,
    "start_time": "2022-05-06T23:27:18.318Z"
   },
   {
    "duration": 7,
    "start_time": "2022-05-06T23:27:18.334Z"
   },
   {
    "duration": 12,
    "start_time": "2022-05-06T23:27:18.343Z"
   },
   {
    "duration": 40,
    "start_time": "2022-05-06T23:27:18.357Z"
   },
   {
    "duration": 24,
    "start_time": "2022-05-06T23:27:18.399Z"
   },
   {
    "duration": 122,
    "start_time": "2022-05-06T23:27:18.425Z"
   },
   {
    "duration": 22,
    "start_time": "2022-05-06T23:27:18.549Z"
   },
   {
    "duration": 77,
    "start_time": "2022-05-06T23:27:18.573Z"
   },
   {
    "duration": 12,
    "start_time": "2022-05-06T23:27:18.652Z"
   },
   {
    "duration": 201,
    "start_time": "2022-05-06T23:31:14.787Z"
   },
   {
    "duration": 23,
    "start_time": "2022-05-06T23:31:24.490Z"
   },
   {
    "duration": 6,
    "start_time": "2022-05-06T23:31:57.661Z"
   },
   {
    "duration": 90,
    "start_time": "2022-05-06T23:33:14.768Z"
   },
   {
    "duration": 11,
    "start_time": "2022-05-06T23:33:25.969Z"
   },
   {
    "duration": 100,
    "start_time": "2022-05-06T23:36:15.271Z"
   },
   {
    "duration": 445,
    "start_time": "2022-05-06T23:36:26.830Z"
   },
   {
    "duration": 87,
    "start_time": "2022-05-06T23:36:27.278Z"
   },
   {
    "duration": 41,
    "start_time": "2022-05-06T23:36:27.367Z"
   },
   {
    "duration": 12,
    "start_time": "2022-05-06T23:36:27.411Z"
   },
   {
    "duration": 6,
    "start_time": "2022-05-06T23:36:27.425Z"
   },
   {
    "duration": 6,
    "start_time": "2022-05-06T23:36:27.433Z"
   },
   {
    "duration": 13,
    "start_time": "2022-05-06T23:36:27.441Z"
   },
   {
    "duration": 23,
    "start_time": "2022-05-06T23:36:27.494Z"
   },
   {
    "duration": 126,
    "start_time": "2022-05-06T23:36:27.519Z"
   },
   {
    "duration": 21,
    "start_time": "2022-05-06T23:36:27.648Z"
   },
   {
    "duration": 82,
    "start_time": "2022-05-06T23:36:27.671Z"
   },
   {
    "duration": 476,
    "start_time": "2022-05-06T23:39:11.401Z"
   },
   {
    "duration": 95,
    "start_time": "2022-05-06T23:39:11.880Z"
   },
   {
    "duration": 34,
    "start_time": "2022-05-06T23:39:11.977Z"
   },
   {
    "duration": 14,
    "start_time": "2022-05-06T23:39:12.014Z"
   },
   {
    "duration": 128,
    "start_time": "2022-05-06T23:39:12.030Z"
   },
   {
    "duration": 0,
    "start_time": "2022-05-06T23:39:12.161Z"
   },
   {
    "duration": 0,
    "start_time": "2022-05-06T23:39:12.163Z"
   },
   {
    "duration": 0,
    "start_time": "2022-05-06T23:39:12.164Z"
   },
   {
    "duration": 0,
    "start_time": "2022-05-06T23:39:12.166Z"
   },
   {
    "duration": 0,
    "start_time": "2022-05-06T23:39:12.167Z"
   },
   {
    "duration": 0,
    "start_time": "2022-05-06T23:39:12.169Z"
   },
   {
    "duration": 28,
    "start_time": "2022-05-06T23:39:36.619Z"
   },
   {
    "duration": 5,
    "start_time": "2022-05-06T23:40:10.790Z"
   },
   {
    "duration": 101,
    "start_time": "2022-05-06T23:45:17.657Z"
   },
   {
    "duration": 467,
    "start_time": "2022-05-06T23:45:44.507Z"
   },
   {
    "duration": 94,
    "start_time": "2022-05-06T23:45:44.977Z"
   },
   {
    "duration": 37,
    "start_time": "2022-05-06T23:45:45.073Z"
   },
   {
    "duration": 12,
    "start_time": "2022-05-06T23:45:45.113Z"
   },
   {
    "duration": 6,
    "start_time": "2022-05-06T23:45:45.127Z"
   },
   {
    "duration": 12,
    "start_time": "2022-05-06T23:45:45.135Z"
   },
   {
    "duration": 45,
    "start_time": "2022-05-06T23:45:45.149Z"
   },
   {
    "duration": 24,
    "start_time": "2022-05-06T23:45:45.196Z"
   },
   {
    "duration": 194,
    "start_time": "2022-05-06T23:45:45.222Z"
   },
   {
    "duration": 0,
    "start_time": "2022-05-06T23:45:45.418Z"
   },
   {
    "duration": 0,
    "start_time": "2022-05-06T23:45:45.420Z"
   },
   {
    "duration": 86,
    "start_time": "2022-05-06T23:47:07.359Z"
   },
   {
    "duration": 95,
    "start_time": "2022-05-06T23:47:47.810Z"
   },
   {
    "duration": 128,
    "start_time": "2022-05-06T23:48:16.708Z"
   },
   {
    "duration": 94,
    "start_time": "2022-05-06T23:48:34.108Z"
   },
   {
    "duration": 132,
    "start_time": "2022-05-06T23:48:45.879Z"
   },
   {
    "duration": 105,
    "start_time": "2022-05-06T23:49:18.454Z"
   },
   {
    "duration": 100,
    "start_time": "2022-05-06T23:49:42.560Z"
   },
   {
    "duration": 98,
    "start_time": "2022-05-06T23:50:12.803Z"
   },
   {
    "duration": 552,
    "start_time": "2022-05-06T23:50:18.530Z"
   },
   {
    "duration": 91,
    "start_time": "2022-05-06T23:50:19.085Z"
   },
   {
    "duration": 37,
    "start_time": "2022-05-06T23:50:19.179Z"
   },
   {
    "duration": 12,
    "start_time": "2022-05-06T23:50:19.219Z"
   },
   {
    "duration": 10,
    "start_time": "2022-05-06T23:50:19.233Z"
   },
   {
    "duration": 10,
    "start_time": "2022-05-06T23:50:19.245Z"
   },
   {
    "duration": 42,
    "start_time": "2022-05-06T23:50:19.257Z"
   },
   {
    "duration": 24,
    "start_time": "2022-05-06T23:50:19.302Z"
   },
   {
    "duration": 124,
    "start_time": "2022-05-06T23:50:19.328Z"
   },
   {
    "duration": 21,
    "start_time": "2022-05-06T23:50:19.455Z"
   },
   {
    "duration": 76,
    "start_time": "2022-05-06T23:50:19.478Z"
   },
   {
    "duration": 495,
    "start_time": "2022-05-06T23:51:12.181Z"
   },
   {
    "duration": 93,
    "start_time": "2022-05-06T23:51:12.678Z"
   },
   {
    "duration": 36,
    "start_time": "2022-05-06T23:51:12.774Z"
   },
   {
    "duration": 14,
    "start_time": "2022-05-06T23:51:12.813Z"
   },
   {
    "duration": 6,
    "start_time": "2022-05-06T23:51:12.829Z"
   },
   {
    "duration": 5,
    "start_time": "2022-05-06T23:51:12.837Z"
   },
   {
    "duration": 50,
    "start_time": "2022-05-06T23:51:12.844Z"
   },
   {
    "duration": 24,
    "start_time": "2022-05-06T23:51:12.897Z"
   },
   {
    "duration": 147,
    "start_time": "2022-05-06T23:51:12.923Z"
   },
   {
    "duration": 32,
    "start_time": "2022-05-06T23:51:13.073Z"
   },
   {
    "duration": 67,
    "start_time": "2022-05-06T23:51:13.108Z"
   },
   {
    "duration": 105,
    "start_time": "2022-05-06T23:52:22.563Z"
   },
   {
    "duration": 498,
    "start_time": "2022-05-06T23:52:31.975Z"
   },
   {
    "duration": 93,
    "start_time": "2022-05-06T23:52:32.476Z"
   },
   {
    "duration": 37,
    "start_time": "2022-05-06T23:52:32.572Z"
   },
   {
    "duration": 13,
    "start_time": "2022-05-06T23:52:32.611Z"
   },
   {
    "duration": 8,
    "start_time": "2022-05-06T23:52:32.627Z"
   },
   {
    "duration": 15,
    "start_time": "2022-05-06T23:52:32.637Z"
   },
   {
    "duration": 44,
    "start_time": "2022-05-06T23:52:32.654Z"
   },
   {
    "duration": 24,
    "start_time": "2022-05-06T23:52:32.701Z"
   },
   {
    "duration": 126,
    "start_time": "2022-05-06T23:52:32.727Z"
   },
   {
    "duration": 21,
    "start_time": "2022-05-06T23:52:32.855Z"
   },
   {
    "duration": 75,
    "start_time": "2022-05-06T23:52:32.878Z"
   },
   {
    "duration": 168,
    "start_time": "2022-05-06T23:53:54.945Z"
   },
   {
    "duration": 74,
    "start_time": "2022-05-06T23:54:12.190Z"
   },
   {
    "duration": 72,
    "start_time": "2022-05-06T23:54:34.333Z"
   },
   {
    "duration": 100,
    "start_time": "2022-05-06T23:54:50.539Z"
   },
   {
    "duration": 518,
    "start_time": "2022-05-06T23:55:00.560Z"
   },
   {
    "duration": 96,
    "start_time": "2022-05-06T23:55:01.081Z"
   },
   {
    "duration": 37,
    "start_time": "2022-05-06T23:55:01.180Z"
   },
   {
    "duration": 14,
    "start_time": "2022-05-06T23:55:01.221Z"
   },
   {
    "duration": 13,
    "start_time": "2022-05-06T23:55:01.238Z"
   },
   {
    "duration": 10,
    "start_time": "2022-05-06T23:55:01.253Z"
   },
   {
    "duration": 34,
    "start_time": "2022-05-06T23:55:01.265Z"
   },
   {
    "duration": 36,
    "start_time": "2022-05-06T23:55:01.301Z"
   },
   {
    "duration": 113,
    "start_time": "2022-05-06T23:55:01.340Z"
   },
   {
    "duration": 21,
    "start_time": "2022-05-06T23:55:01.456Z"
   },
   {
    "duration": 66,
    "start_time": "2022-05-06T23:55:01.493Z"
   },
   {
    "duration": 151,
    "start_time": "2022-05-07T00:06:45.210Z"
   },
   {
    "duration": 77,
    "start_time": "2022-05-07T00:11:17.277Z"
   },
   {
    "duration": 76,
    "start_time": "2022-05-07T00:12:38.203Z"
   },
   {
    "duration": 98,
    "start_time": "2022-05-07T00:12:50.817Z"
   },
   {
    "duration": 77,
    "start_time": "2022-05-07T00:13:49.902Z"
   },
   {
    "duration": 98,
    "start_time": "2022-05-07T00:13:55.530Z"
   },
   {
    "duration": 100,
    "start_time": "2022-05-07T00:15:23.477Z"
   },
   {
    "duration": 516,
    "start_time": "2022-05-07T00:15:38.265Z"
   },
   {
    "duration": 92,
    "start_time": "2022-05-07T00:15:38.784Z"
   },
   {
    "duration": 37,
    "start_time": "2022-05-07T00:15:38.878Z"
   },
   {
    "duration": 13,
    "start_time": "2022-05-07T00:15:38.917Z"
   },
   {
    "duration": 6,
    "start_time": "2022-05-07T00:15:38.933Z"
   },
   {
    "duration": 5,
    "start_time": "2022-05-07T00:15:38.941Z"
   },
   {
    "duration": 49,
    "start_time": "2022-05-07T00:15:38.948Z"
   },
   {
    "duration": 24,
    "start_time": "2022-05-07T00:15:38.999Z"
   },
   {
    "duration": 118,
    "start_time": "2022-05-07T00:15:39.025Z"
   },
   {
    "duration": 22,
    "start_time": "2022-05-07T00:15:39.145Z"
   },
   {
    "duration": 79,
    "start_time": "2022-05-07T00:15:39.169Z"
   },
   {
    "duration": 99,
    "start_time": "2022-05-07T00:15:52.798Z"
   },
   {
    "duration": 97,
    "start_time": "2022-05-07T00:16:00.920Z"
   },
   {
    "duration": 550,
    "start_time": "2022-05-07T00:16:12.358Z"
   },
   {
    "duration": 96,
    "start_time": "2022-05-07T00:16:12.911Z"
   },
   {
    "duration": 32,
    "start_time": "2022-05-07T00:16:13.009Z"
   },
   {
    "duration": 13,
    "start_time": "2022-05-07T00:16:13.044Z"
   },
   {
    "duration": 35,
    "start_time": "2022-05-07T00:16:13.059Z"
   },
   {
    "duration": 5,
    "start_time": "2022-05-07T00:16:13.096Z"
   },
   {
    "duration": 17,
    "start_time": "2022-05-07T00:16:13.104Z"
   },
   {
    "duration": 26,
    "start_time": "2022-05-07T00:16:13.124Z"
   },
   {
    "duration": 142,
    "start_time": "2022-05-07T00:16:13.152Z"
   },
   {
    "duration": 19,
    "start_time": "2022-05-07T00:16:13.297Z"
   },
   {
    "duration": 83,
    "start_time": "2022-05-07T00:16:13.318Z"
   },
   {
    "duration": 104,
    "start_time": "2022-05-07T00:17:37.965Z"
   },
   {
    "duration": 151,
    "start_time": "2022-05-07T00:18:15.348Z"
   },
   {
    "duration": 69,
    "start_time": "2022-05-07T00:19:51.344Z"
   },
   {
    "duration": 100,
    "start_time": "2022-05-07T00:20:00.098Z"
   },
   {
    "duration": 493,
    "start_time": "2022-05-07T00:20:46.078Z"
   },
   {
    "duration": 90,
    "start_time": "2022-05-07T00:20:46.574Z"
   },
   {
    "duration": 36,
    "start_time": "2022-05-07T00:20:46.666Z"
   },
   {
    "duration": 12,
    "start_time": "2022-05-07T00:20:46.705Z"
   },
   {
    "duration": 6,
    "start_time": "2022-05-07T00:20:46.719Z"
   },
   {
    "duration": 5,
    "start_time": "2022-05-07T00:20:46.727Z"
   },
   {
    "duration": 16,
    "start_time": "2022-05-07T00:20:46.734Z"
   },
   {
    "duration": 59,
    "start_time": "2022-05-07T00:20:46.752Z"
   },
   {
    "duration": 115,
    "start_time": "2022-05-07T00:20:46.813Z"
   },
   {
    "duration": 21,
    "start_time": "2022-05-07T00:20:46.931Z"
   },
   {
    "duration": 82,
    "start_time": "2022-05-07T00:20:46.954Z"
   },
   {
    "duration": 166,
    "start_time": "2022-05-07T00:30:32.247Z"
   },
   {
    "duration": 455,
    "start_time": "2022-05-07T00:32:01.630Z"
   },
   {
    "duration": 93,
    "start_time": "2022-05-07T00:32:02.087Z"
   },
   {
    "duration": 33,
    "start_time": "2022-05-07T00:32:02.183Z"
   },
   {
    "duration": 13,
    "start_time": "2022-05-07T00:32:02.219Z"
   },
   {
    "duration": 6,
    "start_time": "2022-05-07T00:32:02.234Z"
   },
   {
    "duration": 10,
    "start_time": "2022-05-07T00:32:02.242Z"
   },
   {
    "duration": 47,
    "start_time": "2022-05-07T00:32:02.254Z"
   },
   {
    "duration": 51,
    "start_time": "2022-05-07T00:32:02.303Z"
   },
   {
    "duration": 165,
    "start_time": "2022-05-07T00:32:02.357Z"
   },
   {
    "duration": 0,
    "start_time": "2022-05-07T00:32:02.525Z"
   },
   {
    "duration": 0,
    "start_time": "2022-05-07T00:32:02.526Z"
   },
   {
    "duration": 98,
    "start_time": "2022-05-07T00:33:57.248Z"
   },
   {
    "duration": 77,
    "start_time": "2022-05-07T00:37:56.501Z"
   },
   {
    "duration": 70,
    "start_time": "2022-05-07T15:02:59.999Z"
   },
   {
    "duration": 6,
    "start_time": "2022-05-07T15:03:22.661Z"
   },
   {
    "duration": 144,
    "start_time": "2022-05-07T15:05:56.365Z"
   },
   {
    "duration": 7,
    "start_time": "2022-05-07T15:06:02.660Z"
   },
   {
    "duration": 388,
    "start_time": "2022-05-07T15:06:20.951Z"
   },
   {
    "duration": 60,
    "start_time": "2022-05-07T15:06:21.341Z"
   },
   {
    "duration": 27,
    "start_time": "2022-05-07T15:06:21.403Z"
   },
   {
    "duration": 16,
    "start_time": "2022-05-07T15:06:21.432Z"
   },
   {
    "duration": 15,
    "start_time": "2022-05-07T15:06:21.450Z"
   },
   {
    "duration": 18,
    "start_time": "2022-05-07T15:06:21.467Z"
   },
   {
    "duration": 21,
    "start_time": "2022-05-07T15:06:21.486Z"
   },
   {
    "duration": 109,
    "start_time": "2022-05-07T15:06:21.509Z"
   },
   {
    "duration": 0,
    "start_time": "2022-05-07T15:06:21.619Z"
   },
   {
    "duration": 0,
    "start_time": "2022-05-07T15:06:21.620Z"
   },
   {
    "duration": 0,
    "start_time": "2022-05-07T15:06:21.621Z"
   },
   {
    "duration": 88,
    "start_time": "2022-05-07T15:08:48.221Z"
   },
   {
    "duration": 49,
    "start_time": "2022-05-07T15:09:33.037Z"
   },
   {
    "duration": 395,
    "start_time": "2022-05-07T15:09:43.592Z"
   },
   {
    "duration": 67,
    "start_time": "2022-05-07T15:09:43.989Z"
   },
   {
    "duration": 20,
    "start_time": "2022-05-07T15:09:44.058Z"
   },
   {
    "duration": 8,
    "start_time": "2022-05-07T15:09:44.080Z"
   },
   {
    "duration": 4,
    "start_time": "2022-05-07T15:09:44.090Z"
   },
   {
    "duration": 5,
    "start_time": "2022-05-07T15:09:44.095Z"
   },
   {
    "duration": 11,
    "start_time": "2022-05-07T15:09:44.131Z"
   },
   {
    "duration": 49,
    "start_time": "2022-05-07T15:09:44.144Z"
   },
   {
    "duration": 107,
    "start_time": "2022-05-07T15:09:44.195Z"
   },
   {
    "duration": 0,
    "start_time": "2022-05-07T15:09:44.304Z"
   },
   {
    "duration": 0,
    "start_time": "2022-05-07T15:09:44.305Z"
   },
   {
    "duration": 59,
    "start_time": "2022-05-07T15:10:12.175Z"
   },
   {
    "duration": 380,
    "start_time": "2022-05-07T15:10:21.490Z"
   },
   {
    "duration": 66,
    "start_time": "2022-05-07T15:10:21.872Z"
   },
   {
    "duration": 26,
    "start_time": "2022-05-07T15:10:21.940Z"
   },
   {
    "duration": 9,
    "start_time": "2022-05-07T15:10:21.968Z"
   },
   {
    "duration": 4,
    "start_time": "2022-05-07T15:10:21.979Z"
   },
   {
    "duration": 6,
    "start_time": "2022-05-07T15:10:21.984Z"
   },
   {
    "duration": 42,
    "start_time": "2022-05-07T15:10:21.992Z"
   },
   {
    "duration": 51,
    "start_time": "2022-05-07T15:10:22.037Z"
   },
   {
    "duration": 119,
    "start_time": "2022-05-07T15:10:22.089Z"
   },
   {
    "duration": 0,
    "start_time": "2022-05-07T15:10:22.210Z"
   },
   {
    "duration": 0,
    "start_time": "2022-05-07T15:10:22.228Z"
   },
   {
    "duration": 368,
    "start_time": "2022-05-07T15:13:20.272Z"
   },
   {
    "duration": 64,
    "start_time": "2022-05-07T15:13:20.642Z"
   },
   {
    "duration": 29,
    "start_time": "2022-05-07T15:13:20.708Z"
   },
   {
    "duration": 9,
    "start_time": "2022-05-07T15:13:20.739Z"
   },
   {
    "duration": 4,
    "start_time": "2022-05-07T15:13:20.749Z"
   },
   {
    "duration": 9,
    "start_time": "2022-05-07T15:13:20.755Z"
   },
   {
    "duration": 13,
    "start_time": "2022-05-07T15:13:20.765Z"
   },
   {
    "duration": 70,
    "start_time": "2022-05-07T15:13:20.779Z"
   },
   {
    "duration": 120,
    "start_time": "2022-05-07T15:13:20.851Z"
   },
   {
    "duration": 0,
    "start_time": "2022-05-07T15:13:20.973Z"
   },
   {
    "duration": 0,
    "start_time": "2022-05-07T15:13:20.974Z"
   },
   {
    "duration": 396,
    "start_time": "2022-05-07T16:55:50.239Z"
   },
   {
    "duration": 68,
    "start_time": "2022-05-07T16:55:50.637Z"
   },
   {
    "duration": 28,
    "start_time": "2022-05-07T16:55:50.707Z"
   },
   {
    "duration": 10,
    "start_time": "2022-05-07T16:55:50.737Z"
   },
   {
    "duration": 7,
    "start_time": "2022-05-07T16:55:50.749Z"
   },
   {
    "duration": 5,
    "start_time": "2022-05-07T16:55:50.757Z"
   },
   {
    "duration": 9,
    "start_time": "2022-05-07T16:55:50.764Z"
   },
   {
    "duration": 142,
    "start_time": "2022-05-07T16:55:50.775Z"
   },
   {
    "duration": 0,
    "start_time": "2022-05-07T16:55:50.919Z"
   },
   {
    "duration": 0,
    "start_time": "2022-05-07T16:55:50.920Z"
   },
   {
    "duration": 0,
    "start_time": "2022-05-07T16:55:50.921Z"
   },
   {
    "duration": 180,
    "start_time": "2022-05-07T16:56:20.681Z"
   },
   {
    "duration": 422,
    "start_time": "2022-05-07T16:56:51.588Z"
   },
   {
    "duration": 64,
    "start_time": "2022-05-07T16:56:52.012Z"
   },
   {
    "duration": 22,
    "start_time": "2022-05-07T16:56:52.078Z"
   },
   {
    "duration": 24,
    "start_time": "2022-05-07T16:56:52.103Z"
   },
   {
    "duration": 13,
    "start_time": "2022-05-07T16:56:52.128Z"
   },
   {
    "duration": 10,
    "start_time": "2022-05-07T16:56:52.142Z"
   },
   {
    "duration": 17,
    "start_time": "2022-05-07T16:56:52.153Z"
   },
   {
    "duration": 118,
    "start_time": "2022-05-07T16:56:52.171Z"
   },
   {
    "duration": 0,
    "start_time": "2022-05-07T16:56:52.291Z"
   },
   {
    "duration": 0,
    "start_time": "2022-05-07T16:56:52.292Z"
   },
   {
    "duration": 0,
    "start_time": "2022-05-07T16:56:52.293Z"
   },
   {
    "duration": 391,
    "start_time": "2022-05-07T16:57:23.746Z"
   },
   {
    "duration": 63,
    "start_time": "2022-05-07T16:57:24.139Z"
   },
   {
    "duration": 27,
    "start_time": "2022-05-07T16:57:24.204Z"
   },
   {
    "duration": 10,
    "start_time": "2022-05-07T16:57:24.233Z"
   },
   {
    "duration": 5,
    "start_time": "2022-05-07T16:57:24.245Z"
   },
   {
    "duration": 6,
    "start_time": "2022-05-07T16:57:24.251Z"
   },
   {
    "duration": 11,
    "start_time": "2022-05-07T16:57:24.258Z"
   },
   {
    "duration": 123,
    "start_time": "2022-05-07T16:57:24.270Z"
   },
   {
    "duration": 0,
    "start_time": "2022-05-07T16:57:24.394Z"
   },
   {
    "duration": 0,
    "start_time": "2022-05-07T16:57:24.395Z"
   },
   {
    "duration": 0,
    "start_time": "2022-05-07T16:57:24.396Z"
   },
   {
    "duration": 385,
    "start_time": "2022-05-07T16:57:44.635Z"
   },
   {
    "duration": 61,
    "start_time": "2022-05-07T16:57:45.022Z"
   },
   {
    "duration": 19,
    "start_time": "2022-05-07T16:57:45.084Z"
   },
   {
    "duration": 19,
    "start_time": "2022-05-07T16:57:45.105Z"
   },
   {
    "duration": 4,
    "start_time": "2022-05-07T16:57:45.126Z"
   },
   {
    "duration": 7,
    "start_time": "2022-05-07T16:57:45.131Z"
   },
   {
    "duration": 11,
    "start_time": "2022-05-07T16:57:45.139Z"
   },
   {
    "duration": 120,
    "start_time": "2022-05-07T16:57:45.151Z"
   },
   {
    "duration": 0,
    "start_time": "2022-05-07T16:57:45.273Z"
   },
   {
    "duration": 0,
    "start_time": "2022-05-07T16:57:45.274Z"
   },
   {
    "duration": 0,
    "start_time": "2022-05-07T16:57:45.275Z"
   },
   {
    "duration": 115,
    "start_time": "2022-05-07T16:58:18.724Z"
   },
   {
    "duration": 358,
    "start_time": "2022-05-07T16:58:27.757Z"
   },
   {
    "duration": 67,
    "start_time": "2022-05-07T16:58:28.117Z"
   },
   {
    "duration": 21,
    "start_time": "2022-05-07T16:58:28.185Z"
   },
   {
    "duration": 17,
    "start_time": "2022-05-07T16:58:28.208Z"
   },
   {
    "duration": 5,
    "start_time": "2022-05-07T16:58:28.227Z"
   },
   {
    "duration": 8,
    "start_time": "2022-05-07T16:58:28.233Z"
   },
   {
    "duration": 11,
    "start_time": "2022-05-07T16:58:28.243Z"
   },
   {
    "duration": 121,
    "start_time": "2022-05-07T16:58:28.256Z"
   },
   {
    "duration": 0,
    "start_time": "2022-05-07T16:58:28.379Z"
   },
   {
    "duration": 0,
    "start_time": "2022-05-07T16:58:28.380Z"
   },
   {
    "duration": 0,
    "start_time": "2022-05-07T16:58:28.381Z"
   },
   {
    "duration": 401,
    "start_time": "2022-05-07T16:58:54.808Z"
   },
   {
    "duration": 61,
    "start_time": "2022-05-07T16:58:55.211Z"
   },
   {
    "duration": 19,
    "start_time": "2022-05-07T16:58:55.274Z"
   },
   {
    "duration": 10,
    "start_time": "2022-05-07T16:58:55.295Z"
   },
   {
    "duration": 4,
    "start_time": "2022-05-07T16:58:55.323Z"
   },
   {
    "duration": 15,
    "start_time": "2022-05-07T16:58:55.328Z"
   },
   {
    "duration": 18,
    "start_time": "2022-05-07T16:58:55.345Z"
   },
   {
    "duration": 118,
    "start_time": "2022-05-07T16:58:55.365Z"
   },
   {
    "duration": 0,
    "start_time": "2022-05-07T16:58:55.484Z"
   },
   {
    "duration": 0,
    "start_time": "2022-05-07T16:58:55.485Z"
   },
   {
    "duration": 0,
    "start_time": "2022-05-07T16:58:55.486Z"
   },
   {
    "duration": 114,
    "start_time": "2022-05-07T16:59:38.918Z"
   },
   {
    "duration": 333,
    "start_time": "2022-05-07T16:59:54.173Z"
   },
   {
    "duration": 59,
    "start_time": "2022-05-07T16:59:54.508Z"
   },
   {
    "duration": 19,
    "start_time": "2022-05-07T16:59:54.569Z"
   },
   {
    "duration": 12,
    "start_time": "2022-05-07T16:59:54.590Z"
   },
   {
    "duration": 6,
    "start_time": "2022-05-07T16:59:54.603Z"
   },
   {
    "duration": 3,
    "start_time": "2022-05-07T16:59:54.623Z"
   },
   {
    "duration": 11,
    "start_time": "2022-05-07T16:59:54.627Z"
   },
   {
    "duration": 113,
    "start_time": "2022-05-07T16:59:54.639Z"
   },
   {
    "duration": 0,
    "start_time": "2022-05-07T16:59:54.753Z"
   },
   {
    "duration": 0,
    "start_time": "2022-05-07T16:59:54.754Z"
   },
   {
    "duration": 0,
    "start_time": "2022-05-07T16:59:54.755Z"
   },
   {
    "duration": 138,
    "start_time": "2022-05-07T17:00:20.686Z"
   },
   {
    "duration": 389,
    "start_time": "2022-05-07T17:01:05.438Z"
   },
   {
    "duration": 65,
    "start_time": "2022-05-07T17:01:05.829Z"
   },
   {
    "duration": 28,
    "start_time": "2022-05-07T17:01:05.896Z"
   },
   {
    "duration": 9,
    "start_time": "2022-05-07T17:01:05.926Z"
   },
   {
    "duration": 4,
    "start_time": "2022-05-07T17:01:05.936Z"
   },
   {
    "duration": 5,
    "start_time": "2022-05-07T17:01:05.942Z"
   },
   {
    "duration": 10,
    "start_time": "2022-05-07T17:01:05.948Z"
   },
   {
    "duration": 68,
    "start_time": "2022-05-07T17:01:05.959Z"
   },
   {
    "duration": 129,
    "start_time": "2022-05-07T17:01:06.028Z"
   },
   {
    "duration": 0,
    "start_time": "2022-05-07T17:01:06.159Z"
   },
   {
    "duration": 0,
    "start_time": "2022-05-07T17:01:06.160Z"
   },
   {
    "duration": 0,
    "start_time": "2022-05-07T17:01:06.162Z"
   },
   {
    "duration": 0,
    "start_time": "2022-05-07T17:01:06.163Z"
   },
   {
    "duration": 114,
    "start_time": "2022-05-07T17:01:38.992Z"
   },
   {
    "duration": 125,
    "start_time": "2022-05-07T17:01:49.853Z"
   },
   {
    "duration": 6,
    "start_time": "2022-05-07T17:01:54.518Z"
   },
   {
    "duration": 15,
    "start_time": "2022-05-07T17:02:02.581Z"
   },
   {
    "duration": 11,
    "start_time": "2022-05-07T17:02:17.243Z"
   },
   {
    "duration": 6,
    "start_time": "2022-05-08T10:24:16.526Z"
   },
   {
    "duration": 6,
    "start_time": "2022-05-08T10:24:22.284Z"
   },
   {
    "duration": 355,
    "start_time": "2022-05-08T10:24:54.927Z"
   },
   {
    "duration": 68,
    "start_time": "2022-05-08T10:24:55.284Z"
   },
   {
    "duration": 19,
    "start_time": "2022-05-08T10:24:55.354Z"
   },
   {
    "duration": 8,
    "start_time": "2022-05-08T10:24:55.374Z"
   },
   {
    "duration": 3,
    "start_time": "2022-05-08T10:24:55.401Z"
   },
   {
    "duration": 5,
    "start_time": "2022-05-08T10:24:55.406Z"
   },
   {
    "duration": 14,
    "start_time": "2022-05-08T10:24:55.412Z"
   },
   {
    "duration": 4,
    "start_time": "2022-05-08T10:24:55.427Z"
   },
   {
    "duration": 38,
    "start_time": "2022-05-08T10:24:55.432Z"
   },
   {
    "duration": 32,
    "start_time": "2022-05-08T10:24:55.471Z"
   },
   {
    "duration": 6,
    "start_time": "2022-05-08T10:24:55.504Z"
   },
   {
    "duration": 14,
    "start_time": "2022-05-08T10:24:55.512Z"
   },
   {
    "duration": 62,
    "start_time": "2022-05-08T10:28:33.967Z"
   },
   {
    "duration": 14,
    "start_time": "2022-05-08T10:38:29.032Z"
   },
   {
    "duration": 16,
    "start_time": "2022-05-08T10:40:19.662Z"
   },
   {
    "duration": 28,
    "start_time": "2022-05-08T10:40:53.198Z"
   },
   {
    "duration": 19,
    "start_time": "2022-05-08T10:42:35.783Z"
   },
   {
    "duration": 8,
    "start_time": "2022-05-08T11:03:43.456Z"
   },
   {
    "duration": 17,
    "start_time": "2022-05-08T11:03:50.049Z"
   },
   {
    "duration": 41,
    "start_time": "2022-05-08T11:09:23.699Z"
   },
   {
    "duration": 19,
    "start_time": "2022-05-08T11:09:33.418Z"
   },
   {
    "duration": 24,
    "start_time": "2022-05-08T11:12:02.185Z"
   },
   {
    "duration": 3232,
    "start_time": "2022-05-08T13:09:31.248Z"
   },
   {
    "duration": 13,
    "start_time": "2022-05-08T13:09:42.558Z"
   },
   {
    "duration": 14,
    "start_time": "2022-05-08T13:09:58.820Z"
   },
   {
    "duration": 399,
    "start_time": "2022-05-08T13:21:05.569Z"
   },
   {
    "duration": 75,
    "start_time": "2022-05-08T13:21:05.969Z"
   },
   {
    "duration": 29,
    "start_time": "2022-05-08T13:21:06.049Z"
   },
   {
    "duration": 29,
    "start_time": "2022-05-08T13:21:06.081Z"
   },
   {
    "duration": 8,
    "start_time": "2022-05-08T13:21:06.112Z"
   },
   {
    "duration": 4,
    "start_time": "2022-05-08T13:21:06.123Z"
   },
   {
    "duration": 11,
    "start_time": "2022-05-08T13:21:06.128Z"
   },
   {
    "duration": 4,
    "start_time": "2022-05-08T13:21:06.141Z"
   },
   {
    "duration": 61,
    "start_time": "2022-05-08T13:21:06.147Z"
   },
   {
    "duration": 44,
    "start_time": "2022-05-08T13:21:06.212Z"
   },
   {
    "duration": 4,
    "start_time": "2022-05-08T13:21:06.257Z"
   },
   {
    "duration": 4,
    "start_time": "2022-05-08T13:21:06.263Z"
   },
   {
    "duration": 52,
    "start_time": "2022-05-08T13:21:06.268Z"
   },
   {
    "duration": 17,
    "start_time": "2022-05-08T13:21:06.322Z"
   },
   {
    "duration": 18,
    "start_time": "2022-05-08T13:21:06.341Z"
   },
   {
    "duration": 43,
    "start_time": "2022-05-08T13:21:06.361Z"
   },
   {
    "duration": 24,
    "start_time": "2022-05-08T13:21:06.407Z"
   },
   {
    "duration": 74,
    "start_time": "2022-05-08T13:36:57.667Z"
   },
   {
    "duration": 1596,
    "start_time": "2022-05-08T13:37:17.932Z"
   },
   {
    "duration": 8,
    "start_time": "2022-05-08T13:37:46.645Z"
   },
   {
    "duration": 6,
    "start_time": "2022-05-08T13:38:52.420Z"
   },
   {
    "duration": 7,
    "start_time": "2022-05-08T13:57:31.093Z"
   },
   {
    "duration": 425,
    "start_time": "2022-05-08T13:57:54.990Z"
   },
   {
    "duration": 71,
    "start_time": "2022-05-08T13:57:55.421Z"
   },
   {
    "duration": 29,
    "start_time": "2022-05-08T13:57:55.494Z"
   },
   {
    "duration": 13,
    "start_time": "2022-05-08T13:57:55.526Z"
   },
   {
    "duration": 7,
    "start_time": "2022-05-08T13:57:55.540Z"
   },
   {
    "duration": 4,
    "start_time": "2022-05-08T13:57:55.548Z"
   },
   {
    "duration": 13,
    "start_time": "2022-05-08T13:57:55.554Z"
   },
   {
    "duration": 37,
    "start_time": "2022-05-08T13:57:55.568Z"
   },
   {
    "duration": 36,
    "start_time": "2022-05-08T13:57:55.608Z"
   },
   {
    "duration": 40,
    "start_time": "2022-05-08T13:57:55.647Z"
   },
   {
    "duration": 25,
    "start_time": "2022-05-08T13:57:55.688Z"
   },
   {
    "duration": 10,
    "start_time": "2022-05-08T13:57:55.715Z"
   },
   {
    "duration": 18,
    "start_time": "2022-05-08T13:57:55.726Z"
   },
   {
    "duration": 18,
    "start_time": "2022-05-08T13:57:55.746Z"
   },
   {
    "duration": 43,
    "start_time": "2022-05-08T13:57:55.765Z"
   },
   {
    "duration": 21,
    "start_time": "2022-05-08T13:57:55.810Z"
   },
   {
    "duration": 16,
    "start_time": "2022-05-08T13:57:55.832Z"
   },
   {
    "duration": 6,
    "start_time": "2022-05-08T13:57:55.850Z"
   },
   {
    "duration": 7,
    "start_time": "2022-05-08T13:57:55.858Z"
   },
   {
    "duration": 9,
    "start_time": "2022-05-08T13:58:57.358Z"
   },
   {
    "duration": 61,
    "start_time": "2022-05-08T14:07:04.624Z"
   },
   {
    "duration": 9,
    "start_time": "2022-05-08T14:08:54.728Z"
   },
   {
    "duration": 6,
    "start_time": "2022-05-08T14:09:23.974Z"
   },
   {
    "duration": 6,
    "start_time": "2022-05-08T14:09:32.378Z"
   },
   {
    "duration": 8,
    "start_time": "2022-05-08T14:10:24.350Z"
   },
   {
    "duration": 405,
    "start_time": "2022-05-08T14:10:38.390Z"
   },
   {
    "duration": 86,
    "start_time": "2022-05-08T14:10:38.800Z"
   },
   {
    "duration": 30,
    "start_time": "2022-05-08T14:10:38.888Z"
   },
   {
    "duration": 10,
    "start_time": "2022-05-08T14:10:38.921Z"
   },
   {
    "duration": 8,
    "start_time": "2022-05-08T14:10:38.932Z"
   },
   {
    "duration": 4,
    "start_time": "2022-05-08T14:10:38.941Z"
   },
   {
    "duration": 11,
    "start_time": "2022-05-08T14:10:38.947Z"
   },
   {
    "duration": 6,
    "start_time": "2022-05-08T14:10:38.960Z"
   },
   {
    "duration": 61,
    "start_time": "2022-05-08T14:10:38.967Z"
   },
   {
    "duration": 37,
    "start_time": "2022-05-08T14:10:39.030Z"
   },
   {
    "duration": 4,
    "start_time": "2022-05-08T14:10:39.069Z"
   },
   {
    "duration": 6,
    "start_time": "2022-05-08T14:10:39.075Z"
   },
   {
    "duration": 27,
    "start_time": "2022-05-08T14:10:39.082Z"
   },
   {
    "duration": 29,
    "start_time": "2022-05-08T14:10:39.111Z"
   },
   {
    "duration": 18,
    "start_time": "2022-05-08T14:10:39.142Z"
   },
   {
    "duration": 15,
    "start_time": "2022-05-08T14:10:39.161Z"
   },
   {
    "duration": 38,
    "start_time": "2022-05-08T14:10:39.177Z"
   },
   {
    "duration": 7,
    "start_time": "2022-05-08T14:10:39.218Z"
   },
   {
    "duration": 66,
    "start_time": "2022-05-08T14:10:39.226Z"
   },
   {
    "duration": 4,
    "start_time": "2022-05-08T14:11:40.373Z"
   },
   {
    "duration": 11,
    "start_time": "2022-05-08T14:12:15.819Z"
   },
   {
    "duration": 12,
    "start_time": "2022-05-08T14:13:43.740Z"
   },
   {
    "duration": 17,
    "start_time": "2022-05-08T14:14:18.521Z"
   },
   {
    "duration": 520,
    "start_time": "2022-05-08T14:14:25.490Z"
   },
   {
    "duration": 125,
    "start_time": "2022-05-08T14:14:26.014Z"
   },
   {
    "duration": 21,
    "start_time": "2022-05-08T14:14:26.140Z"
   },
   {
    "duration": 11,
    "start_time": "2022-05-08T14:14:26.164Z"
   },
   {
    "duration": 29,
    "start_time": "2022-05-08T14:14:26.178Z"
   },
   {
    "duration": 7,
    "start_time": "2022-05-08T14:14:26.210Z"
   },
   {
    "duration": 18,
    "start_time": "2022-05-08T14:14:26.219Z"
   },
   {
    "duration": 7,
    "start_time": "2022-05-08T14:14:26.239Z"
   },
   {
    "duration": 23,
    "start_time": "2022-05-08T14:14:26.247Z"
   },
   {
    "duration": 79,
    "start_time": "2022-05-08T14:14:26.274Z"
   },
   {
    "duration": 4,
    "start_time": "2022-05-08T14:14:26.355Z"
   },
   {
    "duration": 4,
    "start_time": "2022-05-08T14:14:26.361Z"
   },
   {
    "duration": 39,
    "start_time": "2022-05-08T14:14:26.367Z"
   },
   {
    "duration": 25,
    "start_time": "2022-05-08T14:14:26.408Z"
   },
   {
    "duration": 20,
    "start_time": "2022-05-08T14:14:26.434Z"
   },
   {
    "duration": 47,
    "start_time": "2022-05-08T14:14:26.456Z"
   },
   {
    "duration": 27,
    "start_time": "2022-05-08T14:14:26.505Z"
   },
   {
    "duration": 6,
    "start_time": "2022-05-08T14:14:26.534Z"
   },
   {
    "duration": 10,
    "start_time": "2022-05-08T14:14:26.542Z"
   },
   {
    "duration": 60,
    "start_time": "2022-05-08T14:20:12.014Z"
   },
   {
    "duration": 9,
    "start_time": "2022-05-08T14:20:35.555Z"
   },
   {
    "duration": 7,
    "start_time": "2022-05-08T14:27:16.089Z"
   },
   {
    "duration": 425,
    "start_time": "2022-05-08T14:27:46.620Z"
   },
   {
    "duration": 92,
    "start_time": "2022-05-08T14:27:47.047Z"
   },
   {
    "duration": 30,
    "start_time": "2022-05-08T14:27:47.141Z"
   },
   {
    "duration": 36,
    "start_time": "2022-05-08T14:27:47.173Z"
   },
   {
    "duration": 6,
    "start_time": "2022-05-08T14:27:47.212Z"
   },
   {
    "duration": 17,
    "start_time": "2022-05-08T14:27:47.220Z"
   },
   {
    "duration": 15,
    "start_time": "2022-05-08T14:27:47.240Z"
   },
   {
    "duration": 5,
    "start_time": "2022-05-08T14:27:47.257Z"
   },
   {
    "duration": 48,
    "start_time": "2022-05-08T14:27:47.264Z"
   },
   {
    "duration": 74,
    "start_time": "2022-05-08T14:27:47.315Z"
   },
   {
    "duration": 13,
    "start_time": "2022-05-08T14:27:47.391Z"
   },
   {
    "duration": 9,
    "start_time": "2022-05-08T14:27:47.406Z"
   },
   {
    "duration": 37,
    "start_time": "2022-05-08T14:27:47.417Z"
   },
   {
    "duration": 20,
    "start_time": "2022-05-08T14:27:47.457Z"
   },
   {
    "duration": 30,
    "start_time": "2022-05-08T14:27:47.479Z"
   },
   {
    "duration": 27,
    "start_time": "2022-05-08T14:27:47.511Z"
   },
   {
    "duration": 17,
    "start_time": "2022-05-08T14:27:47.541Z"
   },
   {
    "duration": 15,
    "start_time": "2022-05-08T14:27:47.559Z"
   },
   {
    "duration": 5,
    "start_time": "2022-05-08T14:27:47.576Z"
   },
   {
    "duration": 58,
    "start_time": "2022-05-08T14:35:40.532Z"
   },
   {
    "duration": 14,
    "start_time": "2022-05-08T14:38:13.046Z"
   },
   {
    "duration": 14,
    "start_time": "2022-05-08T14:38:15.924Z"
   },
   {
    "duration": 19,
    "start_time": "2022-05-08T14:38:50.993Z"
   },
   {
    "duration": 10,
    "start_time": "2022-05-08T14:38:59.957Z"
   },
   {
    "duration": 5,
    "start_time": "2022-05-08T14:39:46.573Z"
   },
   {
    "duration": 447,
    "start_time": "2022-05-08T14:40:18.264Z"
   },
   {
    "duration": 110,
    "start_time": "2022-05-08T14:40:18.713Z"
   },
   {
    "duration": 25,
    "start_time": "2022-05-08T14:40:18.825Z"
   },
   {
    "duration": 10,
    "start_time": "2022-05-08T14:40:18.852Z"
   },
   {
    "duration": 3,
    "start_time": "2022-05-08T14:40:18.864Z"
   },
   {
    "duration": 5,
    "start_time": "2022-05-08T14:40:18.869Z"
   },
   {
    "duration": 41,
    "start_time": "2022-05-08T14:40:18.876Z"
   },
   {
    "duration": 6,
    "start_time": "2022-05-08T14:40:18.919Z"
   },
   {
    "duration": 44,
    "start_time": "2022-05-08T14:40:18.927Z"
   },
   {
    "duration": 55,
    "start_time": "2022-05-08T14:40:18.974Z"
   },
   {
    "duration": 6,
    "start_time": "2022-05-08T14:40:19.031Z"
   },
   {
    "duration": 8,
    "start_time": "2022-05-08T14:40:19.039Z"
   },
   {
    "duration": 14,
    "start_time": "2022-05-08T14:40:19.049Z"
   },
   {
    "duration": 42,
    "start_time": "2022-05-08T14:40:19.065Z"
   },
   {
    "duration": 31,
    "start_time": "2022-05-08T14:40:19.109Z"
   },
   {
    "duration": 25,
    "start_time": "2022-05-08T14:40:19.146Z"
   },
   {
    "duration": 37,
    "start_time": "2022-05-08T14:40:19.172Z"
   },
   {
    "duration": 15,
    "start_time": "2022-05-08T14:40:19.211Z"
   },
   {
    "duration": 15,
    "start_time": "2022-05-08T14:40:19.228Z"
   },
   {
    "duration": 16,
    "start_time": "2022-05-08T14:40:19.245Z"
   },
   {
    "duration": 6,
    "start_time": "2022-05-08T14:41:07.295Z"
   },
   {
    "duration": 108,
    "start_time": "2022-05-08T14:42:15.784Z"
   },
   {
    "duration": 19,
    "start_time": "2022-05-08T14:42:37.396Z"
   },
   {
    "duration": 441,
    "start_time": "2022-05-08T14:42:44.965Z"
   },
   {
    "duration": 120,
    "start_time": "2022-05-08T14:42:45.408Z"
   },
   {
    "duration": 30,
    "start_time": "2022-05-08T14:42:45.530Z"
   },
   {
    "duration": 14,
    "start_time": "2022-05-08T14:42:45.562Z"
   },
   {
    "duration": 5,
    "start_time": "2022-05-08T14:42:45.578Z"
   },
   {
    "duration": 16,
    "start_time": "2022-05-08T14:42:45.585Z"
   },
   {
    "duration": 24,
    "start_time": "2022-05-08T14:42:45.603Z"
   },
   {
    "duration": 17,
    "start_time": "2022-05-08T14:42:45.629Z"
   },
   {
    "duration": 22,
    "start_time": "2022-05-08T14:42:45.648Z"
   },
   {
    "duration": 78,
    "start_time": "2022-05-08T14:42:45.673Z"
   },
   {
    "duration": 5,
    "start_time": "2022-05-08T14:42:45.753Z"
   },
   {
    "duration": 4,
    "start_time": "2022-05-08T14:42:45.760Z"
   },
   {
    "duration": 16,
    "start_time": "2022-05-08T14:42:45.765Z"
   },
   {
    "duration": 28,
    "start_time": "2022-05-08T14:42:45.782Z"
   },
   {
    "duration": 28,
    "start_time": "2022-05-08T14:42:45.812Z"
   },
   {
    "duration": 27,
    "start_time": "2022-05-08T14:42:45.842Z"
   },
   {
    "duration": 15,
    "start_time": "2022-05-08T14:42:45.870Z"
   },
   {
    "duration": 8,
    "start_time": "2022-05-08T14:42:45.909Z"
   },
   {
    "duration": 27,
    "start_time": "2022-05-08T14:42:45.919Z"
   },
   {
    "duration": 15,
    "start_time": "2022-05-08T14:42:45.948Z"
   },
   {
    "duration": 9,
    "start_time": "2022-05-08T14:44:05.340Z"
   },
   {
    "duration": 10,
    "start_time": "2022-05-08T14:44:43.529Z"
   },
   {
    "duration": 86,
    "start_time": "2022-05-08T14:59:28.928Z"
   },
   {
    "duration": 488,
    "start_time": "2022-05-08T14:59:56.340Z"
   },
   {
    "duration": 124,
    "start_time": "2022-05-08T14:59:56.833Z"
   },
   {
    "duration": 28,
    "start_time": "2022-05-08T14:59:56.959Z"
   },
   {
    "duration": 14,
    "start_time": "2022-05-08T14:59:56.989Z"
   },
   {
    "duration": 41,
    "start_time": "2022-05-08T14:59:57.006Z"
   },
   {
    "duration": 7,
    "start_time": "2022-05-08T14:59:57.050Z"
   },
   {
    "duration": 16,
    "start_time": "2022-05-08T14:59:57.059Z"
   },
   {
    "duration": 4,
    "start_time": "2022-05-08T14:59:57.077Z"
   },
   {
    "duration": 31,
    "start_time": "2022-05-08T14:59:57.084Z"
   },
   {
    "duration": 42,
    "start_time": "2022-05-08T14:59:57.117Z"
   },
   {
    "duration": 78,
    "start_time": "2022-05-08T14:59:57.161Z"
   },
   {
    "duration": 6,
    "start_time": "2022-05-08T14:59:57.241Z"
   },
   {
    "duration": 6,
    "start_time": "2022-05-08T14:59:57.248Z"
   },
   {
    "duration": 20,
    "start_time": "2022-05-08T14:59:57.259Z"
   },
   {
    "duration": 71,
    "start_time": "2022-05-08T14:59:57.281Z"
   },
   {
    "duration": 27,
    "start_time": "2022-05-08T14:59:57.355Z"
   },
   {
    "duration": 40,
    "start_time": "2022-05-08T14:59:57.384Z"
   },
   {
    "duration": 22,
    "start_time": "2022-05-08T14:59:57.426Z"
   },
   {
    "duration": 7,
    "start_time": "2022-05-08T14:59:57.450Z"
   },
   {
    "duration": 18,
    "start_time": "2022-05-08T14:59:57.460Z"
   },
   {
    "duration": 21,
    "start_time": "2022-05-08T14:59:57.480Z"
   },
   {
    "duration": 45,
    "start_time": "2022-05-08T14:59:57.504Z"
   },
   {
    "duration": 17,
    "start_time": "2022-05-08T14:59:57.551Z"
   },
   {
    "duration": 76,
    "start_time": "2022-05-08T15:00:35.937Z"
   },
   {
    "duration": 444,
    "start_time": "2022-05-08T15:00:51.024Z"
   },
   {
    "duration": 102,
    "start_time": "2022-05-08T15:00:51.470Z"
   },
   {
    "duration": 31,
    "start_time": "2022-05-08T15:00:51.574Z"
   },
   {
    "duration": 30,
    "start_time": "2022-05-08T15:00:51.608Z"
   },
   {
    "duration": 9,
    "start_time": "2022-05-08T15:00:51.641Z"
   },
   {
    "duration": 11,
    "start_time": "2022-05-08T15:00:51.651Z"
   },
   {
    "duration": 29,
    "start_time": "2022-05-08T15:00:51.663Z"
   },
   {
    "duration": 5,
    "start_time": "2022-05-08T15:00:51.693Z"
   },
   {
    "duration": 72,
    "start_time": "2022-05-08T15:00:51.700Z"
   },
   {
    "duration": 86,
    "start_time": "2022-05-08T15:00:51.774Z"
   },
   {
    "duration": 0,
    "start_time": "2022-05-08T15:00:51.862Z"
   },
   {
    "duration": 0,
    "start_time": "2022-05-08T15:00:51.863Z"
   },
   {
    "duration": 0,
    "start_time": "2022-05-08T15:00:51.864Z"
   },
   {
    "duration": 0,
    "start_time": "2022-05-08T15:00:51.866Z"
   },
   {
    "duration": 0,
    "start_time": "2022-05-08T15:00:51.867Z"
   },
   {
    "duration": 0,
    "start_time": "2022-05-08T15:00:51.868Z"
   },
   {
    "duration": 0,
    "start_time": "2022-05-08T15:00:51.870Z"
   },
   {
    "duration": 0,
    "start_time": "2022-05-08T15:00:51.871Z"
   },
   {
    "duration": 0,
    "start_time": "2022-05-08T15:00:51.872Z"
   },
   {
    "duration": 0,
    "start_time": "2022-05-08T15:00:51.874Z"
   },
   {
    "duration": 0,
    "start_time": "2022-05-08T15:00:51.875Z"
   },
   {
    "duration": 0,
    "start_time": "2022-05-08T15:00:51.876Z"
   },
   {
    "duration": 0,
    "start_time": "2022-05-08T15:00:51.877Z"
   },
   {
    "duration": 486,
    "start_time": "2022-05-08T15:01:24.241Z"
   },
   {
    "duration": 80,
    "start_time": "2022-05-08T15:01:24.732Z"
   },
   {
    "duration": 40,
    "start_time": "2022-05-08T15:01:24.814Z"
   },
   {
    "duration": 11,
    "start_time": "2022-05-08T15:01:24.855Z"
   },
   {
    "duration": 12,
    "start_time": "2022-05-08T15:01:24.868Z"
   },
   {
    "duration": 6,
    "start_time": "2022-05-08T15:01:24.882Z"
   },
   {
    "duration": 41,
    "start_time": "2022-05-08T15:01:24.901Z"
   },
   {
    "duration": 4,
    "start_time": "2022-05-08T15:01:24.945Z"
   },
   {
    "duration": 32,
    "start_time": "2022-05-08T15:01:24.951Z"
   },
   {
    "duration": 61,
    "start_time": "2022-05-08T15:01:24.985Z"
   },
   {
    "duration": 7,
    "start_time": "2022-05-08T15:01:25.048Z"
   },
   {
    "duration": 13,
    "start_time": "2022-05-08T15:01:25.061Z"
   },
   {
    "duration": 22,
    "start_time": "2022-05-08T15:01:25.075Z"
   },
   {
    "duration": 62,
    "start_time": "2022-05-08T15:01:25.101Z"
   },
   {
    "duration": 19,
    "start_time": "2022-05-08T15:01:25.165Z"
   },
   {
    "duration": 21,
    "start_time": "2022-05-08T15:01:25.185Z"
   },
   {
    "duration": 31,
    "start_time": "2022-05-08T15:01:25.208Z"
   },
   {
    "duration": 19,
    "start_time": "2022-05-08T15:01:25.240Z"
   },
   {
    "duration": 19,
    "start_time": "2022-05-08T15:01:25.261Z"
   },
   {
    "duration": 12,
    "start_time": "2022-05-08T15:01:25.281Z"
   },
   {
    "duration": 40,
    "start_time": "2022-05-08T15:01:25.294Z"
   },
   {
    "duration": 20,
    "start_time": "2022-05-08T15:01:25.336Z"
   },
   {
    "duration": 3721,
    "start_time": "2022-05-08T15:05:31.734Z"
   },
   {
    "duration": 208,
    "start_time": "2022-05-08T16:01:26.533Z"
   },
   {
    "duration": 469,
    "start_time": "2022-05-08T16:02:02.633Z"
   },
   {
    "duration": 20,
    "start_time": "2022-05-08T16:02:32.608Z"
   },
   {
    "duration": 691,
    "start_time": "2022-05-08T16:03:06.176Z"
   },
   {
    "duration": 15,
    "start_time": "2022-05-08T16:08:20.983Z"
   },
   {
    "duration": 668,
    "start_time": "2022-05-08T16:09:18.565Z"
   },
   {
    "duration": 180,
    "start_time": "2022-05-08T17:54:15.022Z"
   },
   {
    "duration": 229,
    "start_time": "2022-05-08T17:54:24.287Z"
   },
   {
    "duration": 201,
    "start_time": "2022-05-08T17:54:52.025Z"
   },
   {
    "duration": 231,
    "start_time": "2022-05-08T17:55:16.314Z"
   },
   {
    "duration": 190,
    "start_time": "2022-05-08T17:55:49.362Z"
   },
   {
    "duration": 247,
    "start_time": "2022-05-08T17:55:57.687Z"
   },
   {
    "duration": 18,
    "start_time": "2022-05-08T17:56:06.359Z"
   },
   {
    "duration": 22,
    "start_time": "2022-05-08T17:56:20.446Z"
   },
   {
    "duration": 35240,
    "start_time": "2022-05-08T17:57:16.005Z"
   },
   {
    "duration": 17,
    "start_time": "2022-05-08T17:59:25.100Z"
   },
   {
    "duration": 37646,
    "start_time": "2022-05-08T18:00:15.849Z"
   },
   {
    "duration": 495,
    "start_time": "2022-05-08T18:02:31.625Z"
   },
   {
    "duration": 106,
    "start_time": "2022-05-08T18:02:32.125Z"
   },
   {
    "duration": 32,
    "start_time": "2022-05-08T18:02:32.233Z"
   },
   {
    "duration": 15,
    "start_time": "2022-05-08T18:02:32.268Z"
   },
   {
    "duration": 25,
    "start_time": "2022-05-08T18:02:32.299Z"
   },
   {
    "duration": 15,
    "start_time": "2022-05-08T18:02:32.326Z"
   },
   {
    "duration": 10,
    "start_time": "2022-05-08T18:02:32.345Z"
   },
   {
    "duration": 6,
    "start_time": "2022-05-08T18:02:32.357Z"
   },
   {
    "duration": 34,
    "start_time": "2022-05-08T18:02:32.365Z"
   },
   {
    "duration": 69,
    "start_time": "2022-05-08T18:02:32.403Z"
   },
   {
    "duration": 4,
    "start_time": "2022-05-08T18:02:32.475Z"
   },
   {
    "duration": 5,
    "start_time": "2022-05-08T18:02:32.481Z"
   },
   {
    "duration": 36,
    "start_time": "2022-05-08T18:02:32.499Z"
   },
   {
    "duration": 21,
    "start_time": "2022-05-08T18:02:32.536Z"
   },
   {
    "duration": 18,
    "start_time": "2022-05-08T18:02:32.559Z"
   },
   {
    "duration": 18,
    "start_time": "2022-05-08T18:02:32.579Z"
   },
   {
    "duration": 23,
    "start_time": "2022-05-08T18:02:32.600Z"
   },
   {
    "duration": 24,
    "start_time": "2022-05-08T18:02:32.625Z"
   },
   {
    "duration": 9,
    "start_time": "2022-05-08T18:02:32.651Z"
   },
   {
    "duration": 12,
    "start_time": "2022-05-08T18:02:32.662Z"
   },
   {
    "duration": 10,
    "start_time": "2022-05-08T18:02:32.676Z"
   },
   {
    "duration": 664,
    "start_time": "2022-05-08T18:02:32.687Z"
   },
   {
    "duration": 15,
    "start_time": "2022-05-08T18:02:33.353Z"
   },
   {
    "duration": 19,
    "start_time": "2022-05-08T18:03:09.697Z"
   },
   {
    "duration": 0,
    "start_time": "2022-05-08T18:05:08.521Z"
   },
   {
    "duration": 0,
    "start_time": "2022-05-08T18:05:08.523Z"
   },
   {
    "duration": 0,
    "start_time": "2022-05-08T18:05:08.525Z"
   },
   {
    "duration": 0,
    "start_time": "2022-05-08T18:05:08.526Z"
   },
   {
    "duration": 0,
    "start_time": "2022-05-08T18:05:08.528Z"
   },
   {
    "duration": 0,
    "start_time": "2022-05-08T18:05:08.530Z"
   },
   {
    "duration": 0,
    "start_time": "2022-05-08T18:05:08.531Z"
   },
   {
    "duration": 1,
    "start_time": "2022-05-08T18:05:08.532Z"
   },
   {
    "duration": 0,
    "start_time": "2022-05-08T18:05:08.534Z"
   },
   {
    "duration": 0,
    "start_time": "2022-05-08T18:05:08.536Z"
   },
   {
    "duration": 0,
    "start_time": "2022-05-08T18:05:08.537Z"
   },
   {
    "duration": 0,
    "start_time": "2022-05-08T18:05:08.539Z"
   },
   {
    "duration": 0,
    "start_time": "2022-05-08T18:05:08.540Z"
   },
   {
    "duration": 0,
    "start_time": "2022-05-08T18:05:08.542Z"
   },
   {
    "duration": 0,
    "start_time": "2022-05-08T18:05:08.543Z"
   },
   {
    "duration": 0,
    "start_time": "2022-05-08T18:05:08.545Z"
   },
   {
    "duration": 0,
    "start_time": "2022-05-08T18:05:08.546Z"
   },
   {
    "duration": 0,
    "start_time": "2022-05-08T18:05:08.547Z"
   },
   {
    "duration": 0,
    "start_time": "2022-05-08T18:05:08.549Z"
   },
   {
    "duration": 0,
    "start_time": "2022-05-08T18:05:08.550Z"
   },
   {
    "duration": 0,
    "start_time": "2022-05-08T18:05:08.551Z"
   },
   {
    "duration": 0,
    "start_time": "2022-05-08T18:05:08.553Z"
   },
   {
    "duration": 0,
    "start_time": "2022-05-08T18:05:08.554Z"
   },
   {
    "duration": 0,
    "start_time": "2022-05-08T18:05:08.555Z"
   },
   {
    "duration": 0,
    "start_time": "2022-05-08T18:05:08.556Z"
   },
   {
    "duration": 459,
    "start_time": "2022-05-08T18:06:21.050Z"
   },
   {
    "duration": 117,
    "start_time": "2022-05-08T18:06:21.511Z"
   },
   {
    "duration": 30,
    "start_time": "2022-05-08T18:06:21.631Z"
   },
   {
    "duration": 16,
    "start_time": "2022-05-08T18:06:21.663Z"
   },
   {
    "duration": 23,
    "start_time": "2022-05-08T18:06:21.681Z"
   },
   {
    "duration": 19,
    "start_time": "2022-05-08T18:06:21.712Z"
   },
   {
    "duration": 11,
    "start_time": "2022-05-08T18:06:21.733Z"
   },
   {
    "duration": 4,
    "start_time": "2022-05-08T18:06:21.746Z"
   },
   {
    "duration": 23,
    "start_time": "2022-05-08T18:06:21.752Z"
   },
   {
    "duration": 76,
    "start_time": "2022-05-08T18:06:21.778Z"
   },
   {
    "duration": 5,
    "start_time": "2022-05-08T18:06:21.855Z"
   },
   {
    "duration": 4,
    "start_time": "2022-05-08T18:06:21.862Z"
   },
   {
    "duration": 12,
    "start_time": "2022-05-08T18:06:21.867Z"
   },
   {
    "duration": 39,
    "start_time": "2022-05-08T18:06:21.881Z"
   },
   {
    "duration": 22,
    "start_time": "2022-05-08T18:06:21.921Z"
   },
   {
    "duration": 16,
    "start_time": "2022-05-08T18:06:21.945Z"
   },
   {
    "duration": 43,
    "start_time": "2022-05-08T18:06:21.962Z"
   },
   {
    "duration": 6,
    "start_time": "2022-05-08T18:06:22.007Z"
   },
   {
    "duration": 14,
    "start_time": "2022-05-08T18:06:22.014Z"
   },
   {
    "duration": 16,
    "start_time": "2022-05-08T18:06:22.030Z"
   },
   {
    "duration": 11,
    "start_time": "2022-05-08T18:06:22.048Z"
   },
   {
    "duration": 442,
    "start_time": "2022-05-08T18:06:22.061Z"
   },
   {
    "duration": 13,
    "start_time": "2022-05-08T18:06:22.505Z"
   },
   {
    "duration": 193,
    "start_time": "2022-05-08T18:06:22.520Z"
   },
   {
    "duration": 0,
    "start_time": "2022-05-08T18:06:22.715Z"
   },
   {
    "duration": 273,
    "start_time": "2022-05-08T18:07:32.920Z"
   },
   {
    "duration": 239,
    "start_time": "2022-05-08T18:07:43.325Z"
   },
   {
    "duration": 361,
    "start_time": "2022-05-08T18:09:35.147Z"
   },
   {
    "duration": 79,
    "start_time": "2022-05-08T18:09:35.513Z"
   },
   {
    "duration": 23,
    "start_time": "2022-05-08T18:09:35.593Z"
   },
   {
    "duration": 19,
    "start_time": "2022-05-08T18:09:35.618Z"
   },
   {
    "duration": 8,
    "start_time": "2022-05-08T18:09:35.640Z"
   },
   {
    "duration": 4,
    "start_time": "2022-05-08T18:09:35.650Z"
   },
   {
    "duration": 12,
    "start_time": "2022-05-08T18:09:35.656Z"
   },
   {
    "duration": 5,
    "start_time": "2022-05-08T18:09:35.670Z"
   },
   {
    "duration": 58,
    "start_time": "2022-05-08T18:09:35.676Z"
   },
   {
    "duration": 42,
    "start_time": "2022-05-08T18:09:35.736Z"
   },
   {
    "duration": 23,
    "start_time": "2022-05-08T18:09:35.780Z"
   },
   {
    "duration": 4,
    "start_time": "2022-05-08T18:09:35.808Z"
   },
   {
    "duration": 30,
    "start_time": "2022-05-08T18:09:35.814Z"
   },
   {
    "duration": 27,
    "start_time": "2022-05-08T18:09:35.848Z"
   },
   {
    "duration": 18,
    "start_time": "2022-05-08T18:09:35.877Z"
   },
   {
    "duration": 24,
    "start_time": "2022-05-08T18:09:35.897Z"
   },
   {
    "duration": 26,
    "start_time": "2022-05-08T18:09:35.924Z"
   },
   {
    "duration": 7,
    "start_time": "2022-05-08T18:09:35.952Z"
   },
   {
    "duration": 12,
    "start_time": "2022-05-08T18:09:35.961Z"
   },
   {
    "duration": 35,
    "start_time": "2022-05-08T18:09:35.974Z"
   },
   {
    "duration": 18,
    "start_time": "2022-05-08T18:09:36.011Z"
   },
   {
    "duration": 660,
    "start_time": "2022-05-08T18:09:36.032Z"
   },
   {
    "duration": 19,
    "start_time": "2022-05-08T18:09:36.694Z"
   },
   {
    "duration": 196,
    "start_time": "2022-05-08T18:09:36.714Z"
   },
   {
    "duration": 0,
    "start_time": "2022-05-08T18:09:36.912Z"
   },
   {
    "duration": 464,
    "start_time": "2022-05-08T18:11:55.641Z"
   },
   {
    "duration": 138,
    "start_time": "2022-05-08T18:11:56.109Z"
   },
   {
    "duration": 20,
    "start_time": "2022-05-08T18:11:56.249Z"
   },
   {
    "duration": 11,
    "start_time": "2022-05-08T18:11:56.271Z"
   },
   {
    "duration": 54,
    "start_time": "2022-05-08T18:11:56.284Z"
   },
   {
    "duration": 8,
    "start_time": "2022-05-08T18:11:56.340Z"
   },
   {
    "duration": 22,
    "start_time": "2022-05-08T18:11:56.350Z"
   },
   {
    "duration": 7,
    "start_time": "2022-05-08T18:11:56.374Z"
   },
   {
    "duration": 31,
    "start_time": "2022-05-08T18:11:56.383Z"
   },
   {
    "duration": 101,
    "start_time": "2022-05-08T18:11:56.416Z"
   },
   {
    "duration": 7,
    "start_time": "2022-05-08T18:11:56.519Z"
   },
   {
    "duration": 33,
    "start_time": "2022-05-08T18:11:56.527Z"
   },
   {
    "duration": 14,
    "start_time": "2022-05-08T18:11:56.562Z"
   },
   {
    "duration": 35,
    "start_time": "2022-05-08T18:11:56.578Z"
   },
   {
    "duration": 32,
    "start_time": "2022-05-08T18:11:56.615Z"
   },
   {
    "duration": 23,
    "start_time": "2022-05-08T18:11:56.649Z"
   },
   {
    "duration": 24,
    "start_time": "2022-05-08T18:11:56.675Z"
   },
   {
    "duration": 23,
    "start_time": "2022-05-08T18:11:56.705Z"
   },
   {
    "duration": 25,
    "start_time": "2022-05-08T18:11:56.730Z"
   },
   {
    "duration": 12,
    "start_time": "2022-05-08T18:11:56.756Z"
   },
   {
    "duration": 13,
    "start_time": "2022-05-08T18:11:56.770Z"
   },
   {
    "duration": 656,
    "start_time": "2022-05-08T18:11:56.785Z"
   },
   {
    "duration": 19,
    "start_time": "2022-05-08T18:11:57.444Z"
   },
   {
    "duration": 75,
    "start_time": "2022-05-08T18:20:09.750Z"
   },
   {
    "duration": 442,
    "start_time": "2022-05-08T18:20:23.851Z"
   },
   {
    "duration": 112,
    "start_time": "2022-05-08T18:20:24.295Z"
   },
   {
    "duration": 24,
    "start_time": "2022-05-08T18:20:24.408Z"
   },
   {
    "duration": 9,
    "start_time": "2022-05-08T18:20:24.434Z"
   },
   {
    "duration": 7,
    "start_time": "2022-05-08T18:20:24.446Z"
   },
   {
    "duration": 6,
    "start_time": "2022-05-08T18:20:24.455Z"
   },
   {
    "duration": 19,
    "start_time": "2022-05-08T18:20:24.463Z"
   },
   {
    "duration": 9,
    "start_time": "2022-05-08T18:20:24.500Z"
   },
   {
    "duration": 31,
    "start_time": "2022-05-08T18:20:24.511Z"
   },
   {
    "duration": 79,
    "start_time": "2022-05-08T18:20:24.544Z"
   },
   {
    "duration": 5,
    "start_time": "2022-05-08T18:20:24.625Z"
   },
   {
    "duration": 5,
    "start_time": "2022-05-08T18:20:24.632Z"
   },
   {
    "duration": 16,
    "start_time": "2022-05-08T18:20:24.638Z"
   },
   {
    "duration": 50,
    "start_time": "2022-05-08T18:20:24.657Z"
   },
   {
    "duration": 27,
    "start_time": "2022-05-08T18:20:24.708Z"
   },
   {
    "duration": 22,
    "start_time": "2022-05-08T18:20:24.737Z"
   },
   {
    "duration": 23,
    "start_time": "2022-05-08T18:20:24.761Z"
   },
   {
    "duration": 7,
    "start_time": "2022-05-08T18:20:24.806Z"
   },
   {
    "duration": 14,
    "start_time": "2022-05-08T18:20:24.815Z"
   },
   {
    "duration": 17,
    "start_time": "2022-05-08T18:20:24.831Z"
   },
   {
    "duration": 12,
    "start_time": "2022-05-08T18:20:24.849Z"
   },
   {
    "duration": 679,
    "start_time": "2022-05-08T18:20:24.862Z"
   },
   {
    "duration": 16,
    "start_time": "2022-05-08T18:20:25.543Z"
   },
   {
    "duration": 50,
    "start_time": "2022-05-08T18:21:29.535Z"
   },
   {
    "duration": 413,
    "start_time": "2022-05-08T18:22:02.810Z"
   },
   {
    "duration": 74,
    "start_time": "2022-05-08T18:22:03.225Z"
   },
   {
    "duration": 27,
    "start_time": "2022-05-08T18:22:03.301Z"
   },
   {
    "duration": 21,
    "start_time": "2022-05-08T18:22:03.330Z"
   },
   {
    "duration": 10,
    "start_time": "2022-05-08T18:22:03.353Z"
   },
   {
    "duration": 7,
    "start_time": "2022-05-08T18:22:03.365Z"
   },
   {
    "duration": 13,
    "start_time": "2022-05-08T18:22:03.374Z"
   },
   {
    "duration": 6,
    "start_time": "2022-05-08T18:22:03.388Z"
   },
   {
    "duration": 35,
    "start_time": "2022-05-08T18:22:03.404Z"
   },
   {
    "duration": 40,
    "start_time": "2022-05-08T18:22:03.442Z"
   },
   {
    "duration": 21,
    "start_time": "2022-05-08T18:22:03.484Z"
   },
   {
    "duration": 6,
    "start_time": "2022-05-08T18:22:03.506Z"
   },
   {
    "duration": 27,
    "start_time": "2022-05-08T18:22:03.514Z"
   },
   {
    "duration": 29,
    "start_time": "2022-05-08T18:22:03.542Z"
   },
   {
    "duration": 18,
    "start_time": "2022-05-08T18:22:03.573Z"
   },
   {
    "duration": 25,
    "start_time": "2022-05-08T18:22:03.593Z"
   },
   {
    "duration": 18,
    "start_time": "2022-05-08T18:22:03.620Z"
   },
   {
    "duration": 6,
    "start_time": "2022-05-08T18:22:03.640Z"
   },
   {
    "duration": 12,
    "start_time": "2022-05-08T18:22:03.647Z"
   },
   {
    "duration": 10,
    "start_time": "2022-05-08T18:22:03.660Z"
   },
   {
    "duration": 10,
    "start_time": "2022-05-08T18:22:03.672Z"
   },
   {
    "duration": 483,
    "start_time": "2022-05-08T18:22:03.700Z"
   },
   {
    "duration": 16,
    "start_time": "2022-05-08T18:22:04.185Z"
   },
   {
    "duration": 401,
    "start_time": "2022-05-08T19:05:26.099Z"
   },
   {
    "duration": 114,
    "start_time": "2022-05-08T19:05:26.504Z"
   },
   {
    "duration": 29,
    "start_time": "2022-05-08T19:05:26.620Z"
   },
   {
    "duration": 14,
    "start_time": "2022-05-08T19:05:26.651Z"
   },
   {
    "duration": 8,
    "start_time": "2022-05-08T19:05:26.666Z"
   },
   {
    "duration": 8,
    "start_time": "2022-05-08T19:05:26.677Z"
   },
   {
    "duration": 39,
    "start_time": "2022-05-08T19:05:26.687Z"
   },
   {
    "duration": 9,
    "start_time": "2022-05-08T19:05:26.728Z"
   },
   {
    "duration": 20,
    "start_time": "2022-05-08T19:05:26.739Z"
   },
   {
    "duration": 51,
    "start_time": "2022-05-08T19:05:26.761Z"
   },
   {
    "duration": 5,
    "start_time": "2022-05-08T19:05:26.814Z"
   },
   {
    "duration": 10,
    "start_time": "2022-05-08T19:05:26.821Z"
   },
   {
    "duration": 15,
    "start_time": "2022-05-08T19:05:26.833Z"
   },
   {
    "duration": 26,
    "start_time": "2022-05-08T19:05:26.850Z"
   },
   {
    "duration": 47,
    "start_time": "2022-05-08T19:05:26.878Z"
   },
   {
    "duration": 23,
    "start_time": "2022-05-08T19:05:26.927Z"
   },
   {
    "duration": 17,
    "start_time": "2022-05-08T19:05:26.951Z"
   },
   {
    "duration": 6,
    "start_time": "2022-05-08T19:05:26.970Z"
   },
   {
    "duration": 9,
    "start_time": "2022-05-08T19:05:27.009Z"
   },
   {
    "duration": 13,
    "start_time": "2022-05-08T19:05:27.020Z"
   },
   {
    "duration": 8,
    "start_time": "2022-05-08T19:05:27.035Z"
   },
   {
    "duration": 459,
    "start_time": "2022-05-08T19:05:27.045Z"
   },
   {
    "duration": 15,
    "start_time": "2022-05-08T19:05:27.506Z"
   },
   {
    "duration": 3709,
    "start_time": "2022-05-08T19:05:27.523Z"
   },
   {
    "duration": 0,
    "start_time": "2022-05-08T19:05:31.234Z"
   },
   {
    "duration": 197,
    "start_time": "2022-05-08T19:08:27.465Z"
   },
   {
    "duration": 4506,
    "start_time": "2022-05-08T19:08:37.420Z"
   },
   {
    "duration": 11,
    "start_time": "2022-05-08T19:15:56.813Z"
   },
   {
    "duration": 216,
    "start_time": "2022-05-08T19:18:32.916Z"
   },
   {
    "duration": 225,
    "start_time": "2022-05-08T19:18:52.743Z"
   },
   {
    "duration": 504,
    "start_time": "2022-05-08T19:21:02.785Z"
   },
   {
    "duration": 107,
    "start_time": "2022-05-08T19:21:03.291Z"
   },
   {
    "duration": 33,
    "start_time": "2022-05-08T19:21:03.400Z"
   },
   {
    "duration": 17,
    "start_time": "2022-05-08T19:21:03.436Z"
   },
   {
    "duration": 9,
    "start_time": "2022-05-08T19:21:03.455Z"
   },
   {
    "duration": 7,
    "start_time": "2022-05-08T19:21:03.465Z"
   },
   {
    "duration": 20,
    "start_time": "2022-05-08T19:21:03.473Z"
   },
   {
    "duration": 8,
    "start_time": "2022-05-08T19:21:03.495Z"
   },
   {
    "duration": 60,
    "start_time": "2022-05-08T19:21:03.505Z"
   },
   {
    "duration": 97,
    "start_time": "2022-05-08T19:21:03.568Z"
   },
   {
    "duration": 5,
    "start_time": "2022-05-08T19:21:03.668Z"
   },
   {
    "duration": 5,
    "start_time": "2022-05-08T19:21:03.675Z"
   },
   {
    "duration": 26,
    "start_time": "2022-05-08T19:21:03.682Z"
   },
   {
    "duration": 48,
    "start_time": "2022-05-08T19:21:03.709Z"
   },
   {
    "duration": 20,
    "start_time": "2022-05-08T19:21:03.759Z"
   },
   {
    "duration": 16,
    "start_time": "2022-05-08T19:21:03.781Z"
   },
   {
    "duration": 24,
    "start_time": "2022-05-08T19:21:03.799Z"
   },
   {
    "duration": 19,
    "start_time": "2022-05-08T19:21:03.825Z"
   },
   {
    "duration": 10,
    "start_time": "2022-05-08T19:21:03.846Z"
   },
   {
    "duration": 13,
    "start_time": "2022-05-08T19:21:03.858Z"
   },
   {
    "duration": 10,
    "start_time": "2022-05-08T19:21:03.873Z"
   },
   {
    "duration": 480,
    "start_time": "2022-05-08T19:21:03.885Z"
   },
   {
    "duration": 11,
    "start_time": "2022-05-08T19:21:04.366Z"
   },
   {
    "duration": 457,
    "start_time": "2022-05-08T19:26:33.120Z"
   },
   {
    "duration": 91,
    "start_time": "2022-05-08T19:26:33.580Z"
   },
   {
    "duration": 20,
    "start_time": "2022-05-08T19:26:33.673Z"
   },
   {
    "duration": 16,
    "start_time": "2022-05-08T19:26:33.695Z"
   },
   {
    "duration": 8,
    "start_time": "2022-05-08T19:26:33.713Z"
   },
   {
    "duration": 13,
    "start_time": "2022-05-08T19:26:33.723Z"
   },
   {
    "duration": 14,
    "start_time": "2022-05-08T19:26:33.737Z"
   },
   {
    "duration": 7,
    "start_time": "2022-05-08T19:26:33.752Z"
   },
   {
    "duration": 47,
    "start_time": "2022-05-08T19:26:33.761Z"
   },
   {
    "duration": 45,
    "start_time": "2022-05-08T19:26:33.810Z"
   },
   {
    "duration": 5,
    "start_time": "2022-05-08T19:26:33.857Z"
   },
   {
    "duration": 4,
    "start_time": "2022-05-08T19:26:33.864Z"
   },
   {
    "duration": 43,
    "start_time": "2022-05-08T19:26:33.870Z"
   },
   {
    "duration": 37,
    "start_time": "2022-05-08T19:26:33.915Z"
   },
   {
    "duration": 26,
    "start_time": "2022-05-08T19:26:33.955Z"
   },
   {
    "duration": 38,
    "start_time": "2022-05-08T19:26:33.983Z"
   },
   {
    "duration": 21,
    "start_time": "2022-05-08T19:26:34.023Z"
   },
   {
    "duration": 5,
    "start_time": "2022-05-08T19:26:34.046Z"
   },
   {
    "duration": 9,
    "start_time": "2022-05-08T19:26:34.053Z"
   },
   {
    "duration": 46,
    "start_time": "2022-05-08T19:26:34.063Z"
   },
   {
    "duration": 8,
    "start_time": "2022-05-08T19:26:34.111Z"
   },
   {
    "duration": 435,
    "start_time": "2022-05-08T19:26:34.122Z"
   },
   {
    "duration": 11,
    "start_time": "2022-05-08T19:26:34.559Z"
   },
   {
    "duration": 259,
    "start_time": "2022-05-08T19:27:39.188Z"
   },
   {
    "duration": 54,
    "start_time": "2022-05-08T19:27:45.196Z"
   },
   {
    "duration": 461,
    "start_time": "2022-05-08T19:27:55.904Z"
   },
   {
    "duration": 101,
    "start_time": "2022-05-08T19:27:56.367Z"
   },
   {
    "duration": 37,
    "start_time": "2022-05-08T19:27:56.470Z"
   },
   {
    "duration": 15,
    "start_time": "2022-05-08T19:27:56.508Z"
   },
   {
    "duration": 9,
    "start_time": "2022-05-08T19:27:56.525Z"
   },
   {
    "duration": 9,
    "start_time": "2022-05-08T19:27:56.536Z"
   },
   {
    "duration": 15,
    "start_time": "2022-05-08T19:27:56.547Z"
   },
   {
    "duration": 43,
    "start_time": "2022-05-08T19:27:56.563Z"
   },
   {
    "duration": 32,
    "start_time": "2022-05-08T19:27:56.612Z"
   },
   {
    "duration": 38,
    "start_time": "2022-05-08T19:27:56.645Z"
   },
   {
    "duration": 20,
    "start_time": "2022-05-08T19:27:56.685Z"
   },
   {
    "duration": 6,
    "start_time": "2022-05-08T19:27:56.706Z"
   },
   {
    "duration": 15,
    "start_time": "2022-05-08T19:27:56.714Z"
   },
   {
    "duration": 30,
    "start_time": "2022-05-08T19:27:56.732Z"
   },
   {
    "duration": 44,
    "start_time": "2022-05-08T19:27:56.764Z"
   },
   {
    "duration": 24,
    "start_time": "2022-05-08T19:27:56.810Z"
   },
   {
    "duration": 22,
    "start_time": "2022-05-08T19:27:56.838Z"
   },
   {
    "duration": 6,
    "start_time": "2022-05-08T19:27:56.862Z"
   },
   {
    "duration": 41,
    "start_time": "2022-05-08T19:27:56.870Z"
   },
   {
    "duration": 19,
    "start_time": "2022-05-08T19:27:56.913Z"
   },
   {
    "duration": 10,
    "start_time": "2022-05-08T19:27:56.934Z"
   },
   {
    "duration": 432,
    "start_time": "2022-05-08T19:27:56.945Z"
   },
   {
    "duration": 11,
    "start_time": "2022-05-08T19:27:57.379Z"
   },
   {
    "duration": 512,
    "start_time": "2022-05-08T19:42:16.905Z"
   },
   {
    "duration": 111,
    "start_time": "2022-05-08T19:42:17.421Z"
   },
   {
    "duration": 31,
    "start_time": "2022-05-08T19:42:17.534Z"
   },
   {
    "duration": 13,
    "start_time": "2022-05-08T19:42:17.566Z"
   },
   {
    "duration": 9,
    "start_time": "2022-05-08T19:42:17.601Z"
   },
   {
    "duration": 5,
    "start_time": "2022-05-08T19:42:17.612Z"
   },
   {
    "duration": 24,
    "start_time": "2022-05-08T19:42:17.620Z"
   },
   {
    "duration": 4,
    "start_time": "2022-05-08T19:42:17.646Z"
   },
   {
    "duration": 29,
    "start_time": "2022-05-08T19:42:17.651Z"
   },
   {
    "duration": 58,
    "start_time": "2022-05-08T19:42:17.700Z"
   },
   {
    "duration": 6,
    "start_time": "2022-05-08T19:42:17.760Z"
   },
   {
    "duration": 4,
    "start_time": "2022-05-08T19:42:17.767Z"
   },
   {
    "duration": 35,
    "start_time": "2022-05-08T19:42:17.773Z"
   },
   {
    "duration": 24,
    "start_time": "2022-05-08T19:42:17.817Z"
   },
   {
    "duration": 18,
    "start_time": "2022-05-08T19:42:17.843Z"
   },
   {
    "duration": 45,
    "start_time": "2022-05-08T19:42:17.862Z"
   },
   {
    "duration": 23,
    "start_time": "2022-05-08T19:42:17.910Z"
   },
   {
    "duration": 7,
    "start_time": "2022-05-08T19:42:17.935Z"
   },
   {
    "duration": 10,
    "start_time": "2022-05-08T19:42:17.944Z"
   },
   {
    "duration": 11,
    "start_time": "2022-05-08T19:42:17.956Z"
   },
   {
    "duration": 37,
    "start_time": "2022-05-08T19:42:17.968Z"
   },
   {
    "duration": 455,
    "start_time": "2022-05-08T19:42:18.010Z"
   },
   {
    "duration": 16,
    "start_time": "2022-05-08T19:42:18.467Z"
   },
   {
    "duration": 66,
    "start_time": "2022-05-08T20:01:00.156Z"
   },
   {
    "duration": 392,
    "start_time": "2022-05-08T20:01:14.264Z"
   },
   {
    "duration": 90,
    "start_time": "2022-05-08T20:01:14.658Z"
   },
   {
    "duration": 27,
    "start_time": "2022-05-08T20:01:14.749Z"
   },
   {
    "duration": 10,
    "start_time": "2022-05-08T20:01:14.778Z"
   },
   {
    "duration": 6,
    "start_time": "2022-05-08T20:01:14.800Z"
   },
   {
    "duration": 11,
    "start_time": "2022-05-08T20:01:14.808Z"
   },
   {
    "duration": 20,
    "start_time": "2022-05-08T20:01:14.823Z"
   },
   {
    "duration": 4,
    "start_time": "2022-05-08T20:01:14.845Z"
   },
   {
    "duration": 62,
    "start_time": "2022-05-08T20:01:14.850Z"
   },
   {
    "duration": 43,
    "start_time": "2022-05-08T20:01:14.919Z"
   },
   {
    "duration": 5,
    "start_time": "2022-05-08T20:01:14.963Z"
   },
   {
    "duration": 11,
    "start_time": "2022-05-08T20:01:14.970Z"
   },
   {
    "duration": 33,
    "start_time": "2022-05-08T20:01:14.983Z"
   },
   {
    "duration": 37,
    "start_time": "2022-05-08T20:01:15.019Z"
   },
   {
    "duration": 21,
    "start_time": "2022-05-08T20:01:15.058Z"
   },
   {
    "duration": 26,
    "start_time": "2022-05-08T20:01:15.081Z"
   },
   {
    "duration": 23,
    "start_time": "2022-05-08T20:01:15.108Z"
   },
   {
    "duration": 6,
    "start_time": "2022-05-08T20:01:15.133Z"
   },
   {
    "duration": 22,
    "start_time": "2022-05-08T20:01:15.140Z"
   },
   {
    "duration": 17,
    "start_time": "2022-05-08T20:01:15.164Z"
   },
   {
    "duration": 11,
    "start_time": "2022-05-08T20:01:15.203Z"
   },
   {
    "duration": 630,
    "start_time": "2022-05-08T20:01:15.216Z"
   },
   {
    "duration": 14,
    "start_time": "2022-05-08T20:01:15.848Z"
   },
   {
    "duration": 449,
    "start_time": "2022-05-08T20:01:15.864Z"
   },
   {
    "duration": 16,
    "start_time": "2022-05-08T20:01:16.315Z"
   },
   {
    "duration": 2884,
    "start_time": "2022-05-08T20:02:38.460Z"
   },
   {
    "duration": 190,
    "start_time": "2022-05-08T20:03:02.221Z"
   },
   {
    "duration": 2729,
    "start_time": "2022-05-08T20:03:23.395Z"
   },
   {
    "duration": 397,
    "start_time": "2022-05-08T20:03:33.395Z"
   },
   {
    "duration": 97,
    "start_time": "2022-05-08T20:03:33.794Z"
   },
   {
    "duration": 27,
    "start_time": "2022-05-08T20:03:33.893Z"
   },
   {
    "duration": 14,
    "start_time": "2022-05-08T20:03:33.923Z"
   },
   {
    "duration": 6,
    "start_time": "2022-05-08T20:03:33.938Z"
   },
   {
    "duration": 5,
    "start_time": "2022-05-08T20:03:33.946Z"
   },
   {
    "duration": 11,
    "start_time": "2022-05-08T20:03:33.952Z"
   },
   {
    "duration": 46,
    "start_time": "2022-05-08T20:03:33.965Z"
   },
   {
    "duration": 35,
    "start_time": "2022-05-08T20:03:34.013Z"
   },
   {
    "duration": 70,
    "start_time": "2022-05-08T20:03:34.051Z"
   },
   {
    "duration": 7,
    "start_time": "2022-05-08T20:03:34.124Z"
   },
   {
    "duration": 5,
    "start_time": "2022-05-08T20:03:34.133Z"
   },
   {
    "duration": 15,
    "start_time": "2022-05-08T20:03:34.139Z"
   },
   {
    "duration": 26,
    "start_time": "2022-05-08T20:03:34.156Z"
   },
   {
    "duration": 29,
    "start_time": "2022-05-08T20:03:34.207Z"
   },
   {
    "duration": 23,
    "start_time": "2022-05-08T20:03:34.238Z"
   },
   {
    "duration": 20,
    "start_time": "2022-05-08T20:03:34.262Z"
   },
   {
    "duration": 19,
    "start_time": "2022-05-08T20:03:34.284Z"
   },
   {
    "duration": 25,
    "start_time": "2022-05-08T20:03:34.307Z"
   },
   {
    "duration": 8,
    "start_time": "2022-05-08T20:03:34.333Z"
   },
   {
    "duration": 8,
    "start_time": "2022-05-08T20:03:34.342Z"
   },
   {
    "duration": 664,
    "start_time": "2022-05-08T20:03:34.352Z"
   },
   {
    "duration": 14,
    "start_time": "2022-05-08T20:03:35.018Z"
   },
   {
    "duration": 2789,
    "start_time": "2022-05-08T20:03:35.033Z"
   },
   {
    "duration": 18,
    "start_time": "2022-05-08T20:03:37.824Z"
   },
   {
    "duration": 193,
    "start_time": "2022-05-08T20:04:11.244Z"
   },
   {
    "duration": 197,
    "start_time": "2022-05-08T20:04:28.064Z"
   },
   {
    "duration": 211,
    "start_time": "2022-05-08T20:04:48.674Z"
   },
   {
    "duration": 216,
    "start_time": "2022-05-08T20:05:20.399Z"
   },
   {
    "duration": 223,
    "start_time": "2022-05-08T20:05:41.741Z"
   },
   {
    "duration": 190,
    "start_time": "2022-05-08T20:06:08.753Z"
   },
   {
    "duration": 466,
    "start_time": "2022-05-08T20:06:17.497Z"
   },
   {
    "duration": 88,
    "start_time": "2022-05-08T20:06:17.965Z"
   },
   {
    "duration": 25,
    "start_time": "2022-05-08T20:06:18.054Z"
   },
   {
    "duration": 28,
    "start_time": "2022-05-08T20:06:18.081Z"
   },
   {
    "duration": 11,
    "start_time": "2022-05-08T20:06:18.111Z"
   },
   {
    "duration": 11,
    "start_time": "2022-05-08T20:06:18.124Z"
   },
   {
    "duration": 15,
    "start_time": "2022-05-08T20:06:18.137Z"
   },
   {
    "duration": 8,
    "start_time": "2022-05-08T20:06:18.154Z"
   },
   {
    "duration": 47,
    "start_time": "2022-05-08T20:06:18.164Z"
   },
   {
    "duration": 51,
    "start_time": "2022-05-08T20:06:18.219Z"
   },
   {
    "duration": 6,
    "start_time": "2022-05-08T20:06:18.272Z"
   },
   {
    "duration": 30,
    "start_time": "2022-05-08T20:06:18.280Z"
   },
   {
    "duration": 26,
    "start_time": "2022-05-08T20:06:18.312Z"
   },
   {
    "duration": 32,
    "start_time": "2022-05-08T20:06:18.340Z"
   },
   {
    "duration": 33,
    "start_time": "2022-05-08T20:06:18.374Z"
   },
   {
    "duration": 22,
    "start_time": "2022-05-08T20:06:18.410Z"
   },
   {
    "duration": 15,
    "start_time": "2022-05-08T20:06:18.433Z"
   },
   {
    "duration": 6,
    "start_time": "2022-05-08T20:06:18.450Z"
   },
   {
    "duration": 8,
    "start_time": "2022-05-08T20:06:18.458Z"
   },
   {
    "duration": 34,
    "start_time": "2022-05-08T20:06:18.467Z"
   },
   {
    "duration": 11,
    "start_time": "2022-05-08T20:06:18.508Z"
   },
   {
    "duration": 429,
    "start_time": "2022-05-08T20:06:18.523Z"
   },
   {
    "duration": 13,
    "start_time": "2022-05-08T20:06:18.954Z"
   },
   {
    "duration": 193,
    "start_time": "2022-05-08T20:06:18.969Z"
   },
   {
    "duration": 0,
    "start_time": "2022-05-08T20:06:19.163Z"
   },
   {
    "duration": 442,
    "start_time": "2022-05-08T20:06:34.863Z"
   },
   {
    "duration": 84,
    "start_time": "2022-05-08T20:06:35.307Z"
   },
   {
    "duration": 25,
    "start_time": "2022-05-08T20:06:35.393Z"
   },
   {
    "duration": 24,
    "start_time": "2022-05-08T20:06:35.420Z"
   },
   {
    "duration": 7,
    "start_time": "2022-05-08T20:06:35.446Z"
   },
   {
    "duration": 8,
    "start_time": "2022-05-08T20:06:35.455Z"
   },
   {
    "duration": 15,
    "start_time": "2022-05-08T20:06:35.464Z"
   },
   {
    "duration": 25,
    "start_time": "2022-05-08T20:06:35.480Z"
   },
   {
    "duration": 35,
    "start_time": "2022-05-08T20:06:35.507Z"
   },
   {
    "duration": 62,
    "start_time": "2022-05-08T20:06:35.544Z"
   },
   {
    "duration": 7,
    "start_time": "2022-05-08T20:06:35.608Z"
   },
   {
    "duration": 21,
    "start_time": "2022-05-08T20:06:35.617Z"
   },
   {
    "duration": 13,
    "start_time": "2022-05-08T20:06:35.640Z"
   },
   {
    "duration": 18,
    "start_time": "2022-05-08T20:06:35.654Z"
   },
   {
    "duration": 50,
    "start_time": "2022-05-08T20:06:35.674Z"
   },
   {
    "duration": 24,
    "start_time": "2022-05-08T20:06:35.728Z"
   },
   {
    "duration": 15,
    "start_time": "2022-05-08T20:06:35.754Z"
   },
   {
    "duration": 7,
    "start_time": "2022-05-08T20:06:35.771Z"
   },
   {
    "duration": 9,
    "start_time": "2022-05-08T20:06:35.803Z"
   },
   {
    "duration": 37,
    "start_time": "2022-05-08T20:06:35.814Z"
   },
   {
    "duration": 10,
    "start_time": "2022-05-08T20:06:35.853Z"
   },
   {
    "duration": 469,
    "start_time": "2022-05-08T20:06:35.865Z"
   },
   {
    "duration": 12,
    "start_time": "2022-05-08T20:06:36.336Z"
   },
   {
    "duration": 2895,
    "start_time": "2022-05-08T20:06:36.350Z"
   },
   {
    "duration": 14,
    "start_time": "2022-05-08T20:06:39.247Z"
   },
   {
    "duration": 447,
    "start_time": "2022-05-08T20:17:00.116Z"
   },
   {
    "duration": 108,
    "start_time": "2022-05-08T20:17:00.566Z"
   },
   {
    "duration": 29,
    "start_time": "2022-05-08T20:17:00.675Z"
   },
   {
    "duration": 11,
    "start_time": "2022-05-08T20:17:00.707Z"
   },
   {
    "duration": 11,
    "start_time": "2022-05-08T20:17:00.720Z"
   },
   {
    "duration": 12,
    "start_time": "2022-05-08T20:17:00.733Z"
   },
   {
    "duration": 15,
    "start_time": "2022-05-08T20:17:00.748Z"
   },
   {
    "duration": 17,
    "start_time": "2022-05-08T20:17:00.765Z"
   },
   {
    "duration": 35,
    "start_time": "2022-05-08T20:17:00.784Z"
   },
   {
    "duration": 48,
    "start_time": "2022-05-08T20:17:00.824Z"
   },
   {
    "duration": 27,
    "start_time": "2022-05-08T20:17:00.874Z"
   },
   {
    "duration": 4,
    "start_time": "2022-05-08T20:17:00.903Z"
   },
   {
    "duration": 18,
    "start_time": "2022-05-08T20:17:00.909Z"
   },
   {
    "duration": 23,
    "start_time": "2022-05-08T20:17:00.930Z"
   },
   {
    "duration": 19,
    "start_time": "2022-05-08T20:17:00.955Z"
   },
   {
    "duration": 39,
    "start_time": "2022-05-08T20:17:00.976Z"
   },
   {
    "duration": 15,
    "start_time": "2022-05-08T20:17:01.017Z"
   },
   {
    "duration": 7,
    "start_time": "2022-05-08T20:17:01.034Z"
   },
   {
    "duration": 25,
    "start_time": "2022-05-08T20:17:01.043Z"
   },
   {
    "duration": 16,
    "start_time": "2022-05-08T20:17:01.069Z"
   },
   {
    "duration": 19,
    "start_time": "2022-05-08T20:17:01.086Z"
   },
   {
    "duration": 412,
    "start_time": "2022-05-08T20:17:01.107Z"
   },
   {
    "duration": 11,
    "start_time": "2022-05-08T20:17:01.520Z"
   },
   {
    "duration": 189,
    "start_time": "2022-05-08T20:17:01.533Z"
   },
   {
    "duration": 0,
    "start_time": "2022-05-08T20:17:01.724Z"
   },
   {
    "duration": 407,
    "start_time": "2022-05-08T20:17:36.676Z"
   },
   {
    "duration": 102,
    "start_time": "2022-05-08T20:17:37.085Z"
   },
   {
    "duration": 32,
    "start_time": "2022-05-08T20:17:37.189Z"
   },
   {
    "duration": 10,
    "start_time": "2022-05-08T20:17:37.224Z"
   },
   {
    "duration": 20,
    "start_time": "2022-05-08T20:17:37.235Z"
   },
   {
    "duration": 15,
    "start_time": "2022-05-08T20:17:37.257Z"
   },
   {
    "duration": 25,
    "start_time": "2022-05-08T20:17:37.273Z"
   },
   {
    "duration": 8,
    "start_time": "2022-05-08T20:17:37.300Z"
   },
   {
    "duration": 27,
    "start_time": "2022-05-08T20:17:37.310Z"
   },
   {
    "duration": 59,
    "start_time": "2022-05-08T20:17:37.341Z"
   },
   {
    "duration": 6,
    "start_time": "2022-05-08T20:17:37.402Z"
   },
   {
    "duration": 14,
    "start_time": "2022-05-08T20:17:37.410Z"
   },
   {
    "duration": 18,
    "start_time": "2022-05-08T20:17:37.426Z"
   },
   {
    "duration": 31,
    "start_time": "2022-05-08T20:17:37.445Z"
   },
   {
    "duration": 24,
    "start_time": "2022-05-08T20:17:37.477Z"
   },
   {
    "duration": 16,
    "start_time": "2022-05-08T20:17:37.503Z"
   },
   {
    "duration": 19,
    "start_time": "2022-05-08T20:17:37.520Z"
   },
   {
    "duration": 8,
    "start_time": "2022-05-08T20:17:37.541Z"
   },
   {
    "duration": 19,
    "start_time": "2022-05-08T20:17:37.550Z"
   },
   {
    "duration": 8,
    "start_time": "2022-05-08T20:17:37.571Z"
   },
   {
    "duration": 7,
    "start_time": "2022-05-08T20:17:37.600Z"
   },
   {
    "duration": 405,
    "start_time": "2022-05-08T20:17:37.609Z"
   },
   {
    "duration": 11,
    "start_time": "2022-05-08T20:17:38.016Z"
   },
   {
    "duration": 209,
    "start_time": "2022-05-08T20:17:38.029Z"
   },
   {
    "duration": 0,
    "start_time": "2022-05-08T20:17:38.240Z"
   },
   {
    "duration": 379,
    "start_time": "2022-05-08T20:18:20.608Z"
   },
   {
    "duration": 71,
    "start_time": "2022-05-08T20:18:20.989Z"
   },
   {
    "duration": 25,
    "start_time": "2022-05-08T20:18:21.062Z"
   },
   {
    "duration": 21,
    "start_time": "2022-05-08T20:18:21.090Z"
   },
   {
    "duration": 4,
    "start_time": "2022-05-08T20:18:21.113Z"
   },
   {
    "duration": 5,
    "start_time": "2022-05-08T20:18:21.119Z"
   },
   {
    "duration": 14,
    "start_time": "2022-05-08T20:18:21.125Z"
   },
   {
    "duration": 3,
    "start_time": "2022-05-08T20:18:21.141Z"
   },
   {
    "duration": 65,
    "start_time": "2022-05-08T20:18:21.146Z"
   },
   {
    "duration": 38,
    "start_time": "2022-05-08T20:18:21.214Z"
   },
   {
    "duration": 4,
    "start_time": "2022-05-08T20:18:21.254Z"
   },
   {
    "duration": 5,
    "start_time": "2022-05-08T20:18:21.259Z"
   },
   {
    "duration": 41,
    "start_time": "2022-05-08T20:18:21.266Z"
   },
   {
    "duration": 26,
    "start_time": "2022-05-08T20:18:21.308Z"
   },
   {
    "duration": 26,
    "start_time": "2022-05-08T20:18:21.335Z"
   },
   {
    "duration": 51,
    "start_time": "2022-05-08T20:18:21.363Z"
   },
   {
    "duration": 14,
    "start_time": "2022-05-08T20:18:21.416Z"
   },
   {
    "duration": 6,
    "start_time": "2022-05-08T20:18:21.432Z"
   },
   {
    "duration": 7,
    "start_time": "2022-05-08T20:18:21.439Z"
   },
   {
    "duration": 9,
    "start_time": "2022-05-08T20:18:21.447Z"
   },
   {
    "duration": 44,
    "start_time": "2022-05-08T20:18:21.457Z"
   },
   {
    "duration": 405,
    "start_time": "2022-05-08T20:18:21.503Z"
   },
   {
    "duration": 14,
    "start_time": "2022-05-08T20:18:21.910Z"
   },
   {
    "duration": 198,
    "start_time": "2022-05-08T20:18:21.926Z"
   },
   {
    "duration": 0,
    "start_time": "2022-05-08T20:18:22.126Z"
   },
   {
    "duration": 488,
    "start_time": "2022-05-08T20:18:41.416Z"
   },
   {
    "duration": 69,
    "start_time": "2022-05-08T20:18:41.905Z"
   },
   {
    "duration": 30,
    "start_time": "2022-05-08T20:18:41.976Z"
   },
   {
    "duration": 11,
    "start_time": "2022-05-08T20:18:42.008Z"
   },
   {
    "duration": 4,
    "start_time": "2022-05-08T20:18:42.022Z"
   },
   {
    "duration": 4,
    "start_time": "2022-05-08T20:18:42.028Z"
   },
   {
    "duration": 13,
    "start_time": "2022-05-08T20:18:42.034Z"
   },
   {
    "duration": 4,
    "start_time": "2022-05-08T20:18:42.049Z"
   },
   {
    "duration": 73,
    "start_time": "2022-05-08T20:18:42.055Z"
   },
   {
    "duration": 39,
    "start_time": "2022-05-08T20:18:42.129Z"
   },
   {
    "duration": 5,
    "start_time": "2022-05-08T20:18:42.169Z"
   },
   {
    "duration": 26,
    "start_time": "2022-05-08T20:18:42.175Z"
   },
   {
    "duration": 9,
    "start_time": "2022-05-08T20:18:42.203Z"
   },
   {
    "duration": 18,
    "start_time": "2022-05-08T20:18:42.215Z"
   },
   {
    "duration": 26,
    "start_time": "2022-05-08T20:18:42.234Z"
   },
   {
    "duration": 49,
    "start_time": "2022-05-08T20:18:42.261Z"
   },
   {
    "duration": 14,
    "start_time": "2022-05-08T20:18:42.312Z"
   },
   {
    "duration": 5,
    "start_time": "2022-05-08T20:18:42.327Z"
   },
   {
    "duration": 6,
    "start_time": "2022-05-08T20:18:42.334Z"
   },
   {
    "duration": 7,
    "start_time": "2022-05-08T20:18:42.342Z"
   },
   {
    "duration": 52,
    "start_time": "2022-05-08T20:18:42.350Z"
   },
   {
    "duration": 631,
    "start_time": "2022-05-08T20:18:42.404Z"
   },
   {
    "duration": 15,
    "start_time": "2022-05-08T20:18:43.036Z"
   },
   {
    "duration": 199,
    "start_time": "2022-05-08T20:18:43.053Z"
   },
   {
    "duration": 0,
    "start_time": "2022-05-08T20:18:43.253Z"
   },
   {
    "duration": 384,
    "start_time": "2022-05-08T20:18:59.656Z"
   },
   {
    "duration": 74,
    "start_time": "2022-05-08T20:19:00.042Z"
   },
   {
    "duration": 20,
    "start_time": "2022-05-08T20:19:00.117Z"
   },
   {
    "duration": 9,
    "start_time": "2022-05-08T20:19:00.139Z"
   },
   {
    "duration": 5,
    "start_time": "2022-05-08T20:19:00.149Z"
   },
   {
    "duration": 4,
    "start_time": "2022-05-08T20:19:00.155Z"
   },
   {
    "duration": 44,
    "start_time": "2022-05-08T20:19:00.161Z"
   },
   {
    "duration": 6,
    "start_time": "2022-05-08T20:19:00.207Z"
   },
   {
    "duration": 20,
    "start_time": "2022-05-08T20:19:00.215Z"
   },
   {
    "duration": 73,
    "start_time": "2022-05-08T20:19:00.238Z"
   },
   {
    "duration": 4,
    "start_time": "2022-05-08T20:19:00.313Z"
   },
   {
    "duration": 7,
    "start_time": "2022-05-08T20:19:00.319Z"
   },
   {
    "duration": 12,
    "start_time": "2022-05-08T20:19:00.327Z"
   },
   {
    "duration": 20,
    "start_time": "2022-05-08T20:19:00.341Z"
   },
   {
    "duration": 54,
    "start_time": "2022-05-08T20:19:00.363Z"
   },
   {
    "duration": 16,
    "start_time": "2022-05-08T20:19:00.419Z"
   },
   {
    "duration": 15,
    "start_time": "2022-05-08T20:19:00.437Z"
   },
   {
    "duration": 9,
    "start_time": "2022-05-08T20:19:00.453Z"
   },
   {
    "duration": 37,
    "start_time": "2022-05-08T20:19:00.464Z"
   },
   {
    "duration": 11,
    "start_time": "2022-05-08T20:19:00.503Z"
   },
   {
    "duration": 9,
    "start_time": "2022-05-08T20:19:00.515Z"
   },
   {
    "duration": 684,
    "start_time": "2022-05-08T20:19:00.526Z"
   },
   {
    "duration": 16,
    "start_time": "2022-05-08T20:19:01.212Z"
   },
   {
    "duration": 325,
    "start_time": "2022-05-08T20:19:01.230Z"
   },
   {
    "duration": 21,
    "start_time": "2022-05-08T20:19:01.558Z"
   },
   {
    "duration": 357,
    "start_time": "2022-05-08T20:19:33.124Z"
   },
   {
    "duration": 71,
    "start_time": "2022-05-08T20:19:33.483Z"
   },
   {
    "duration": 19,
    "start_time": "2022-05-08T20:19:33.556Z"
   },
   {
    "duration": 27,
    "start_time": "2022-05-08T20:19:33.576Z"
   },
   {
    "duration": 5,
    "start_time": "2022-05-08T20:19:33.605Z"
   },
   {
    "duration": 7,
    "start_time": "2022-05-08T20:19:33.612Z"
   },
   {
    "duration": 19,
    "start_time": "2022-05-08T20:19:33.621Z"
   },
   {
    "duration": 4,
    "start_time": "2022-05-08T20:19:33.641Z"
   },
   {
    "duration": 21,
    "start_time": "2022-05-08T20:19:33.647Z"
   },
   {
    "duration": 38,
    "start_time": "2022-05-08T20:19:33.700Z"
   },
   {
    "duration": 4,
    "start_time": "2022-05-08T20:19:33.740Z"
   },
   {
    "duration": 6,
    "start_time": "2022-05-08T20:19:33.745Z"
   },
   {
    "duration": 12,
    "start_time": "2022-05-08T20:19:33.753Z"
   },
   {
    "duration": 45,
    "start_time": "2022-05-08T20:19:33.767Z"
   },
   {
    "duration": 17,
    "start_time": "2022-05-08T20:19:33.814Z"
   },
   {
    "duration": 15,
    "start_time": "2022-05-08T20:19:33.832Z"
   },
   {
    "duration": 14,
    "start_time": "2022-05-08T20:19:33.848Z"
   },
   {
    "duration": 37,
    "start_time": "2022-05-08T20:19:33.863Z"
   },
   {
    "duration": 7,
    "start_time": "2022-05-08T20:19:33.902Z"
   },
   {
    "duration": 8,
    "start_time": "2022-05-08T20:19:33.910Z"
   },
   {
    "duration": 8,
    "start_time": "2022-05-08T20:19:33.920Z"
   },
   {
    "duration": 429,
    "start_time": "2022-05-08T20:19:33.930Z"
   },
   {
    "duration": 13,
    "start_time": "2022-05-08T20:19:34.360Z"
   },
   {
    "duration": 555,
    "start_time": "2022-05-08T20:19:34.374Z"
   },
   {
    "duration": 18,
    "start_time": "2022-05-08T20:19:34.931Z"
   },
   {
    "duration": 396,
    "start_time": "2022-05-08T20:20:45.091Z"
   },
   {
    "duration": 81,
    "start_time": "2022-05-08T20:20:45.489Z"
   },
   {
    "duration": 20,
    "start_time": "2022-05-08T20:20:45.571Z"
   },
   {
    "duration": 10,
    "start_time": "2022-05-08T20:20:45.593Z"
   },
   {
    "duration": 4,
    "start_time": "2022-05-08T20:20:45.605Z"
   },
   {
    "duration": 4,
    "start_time": "2022-05-08T20:20:45.610Z"
   },
   {
    "duration": 11,
    "start_time": "2022-05-08T20:20:45.615Z"
   },
   {
    "duration": 5,
    "start_time": "2022-05-08T20:20:45.627Z"
   },
   {
    "duration": 69,
    "start_time": "2022-05-08T20:20:45.633Z"
   },
   {
    "duration": 64,
    "start_time": "2022-05-08T20:20:45.706Z"
   },
   {
    "duration": 6,
    "start_time": "2022-05-08T20:20:45.772Z"
   },
   {
    "duration": 5,
    "start_time": "2022-05-08T20:20:45.799Z"
   },
   {
    "duration": 15,
    "start_time": "2022-05-08T20:20:45.805Z"
   },
   {
    "duration": 27,
    "start_time": "2022-05-08T20:20:45.821Z"
   },
   {
    "duration": 17,
    "start_time": "2022-05-08T20:20:45.850Z"
   },
   {
    "duration": 44,
    "start_time": "2022-05-08T20:20:45.869Z"
   },
   {
    "duration": 22,
    "start_time": "2022-05-08T20:20:45.915Z"
   },
   {
    "duration": 5,
    "start_time": "2022-05-08T20:20:45.939Z"
   },
   {
    "duration": 7,
    "start_time": "2022-05-08T20:20:45.946Z"
   },
   {
    "duration": 46,
    "start_time": "2022-05-08T20:20:45.955Z"
   },
   {
    "duration": 7,
    "start_time": "2022-05-08T20:20:46.003Z"
   },
   {
    "duration": 665,
    "start_time": "2022-05-08T20:20:46.012Z"
   },
   {
    "duration": 14,
    "start_time": "2022-05-08T20:20:46.679Z"
   },
   {
    "duration": 286,
    "start_time": "2022-05-08T20:20:46.694Z"
   },
   {
    "duration": 22,
    "start_time": "2022-05-08T20:20:46.981Z"
   },
   {
    "duration": 390,
    "start_time": "2022-05-08T20:21:17.760Z"
   },
   {
    "duration": 81,
    "start_time": "2022-05-08T20:21:18.152Z"
   },
   {
    "duration": 32,
    "start_time": "2022-05-08T20:21:18.235Z"
   },
   {
    "duration": 32,
    "start_time": "2022-05-08T20:21:18.269Z"
   },
   {
    "duration": 5,
    "start_time": "2022-05-08T20:21:18.303Z"
   },
   {
    "duration": 4,
    "start_time": "2022-05-08T20:21:18.310Z"
   },
   {
    "duration": 15,
    "start_time": "2022-05-08T20:21:18.316Z"
   },
   {
    "duration": 4,
    "start_time": "2022-05-08T20:21:18.332Z"
   },
   {
    "duration": 70,
    "start_time": "2022-05-08T20:21:18.338Z"
   },
   {
    "duration": 40,
    "start_time": "2022-05-08T20:21:18.411Z"
   },
   {
    "duration": 5,
    "start_time": "2022-05-08T20:21:18.453Z"
   },
   {
    "duration": 4,
    "start_time": "2022-05-08T20:21:18.460Z"
   },
   {
    "duration": 38,
    "start_time": "2022-05-08T20:21:18.465Z"
   },
   {
    "duration": 23,
    "start_time": "2022-05-08T20:21:18.505Z"
   },
   {
    "duration": 20,
    "start_time": "2022-05-08T20:21:18.530Z"
   },
   {
    "duration": 16,
    "start_time": "2022-05-08T20:21:18.552Z"
   },
   {
    "duration": 15,
    "start_time": "2022-05-08T20:21:18.569Z"
   },
   {
    "duration": 5,
    "start_time": "2022-05-08T20:21:18.585Z"
   },
   {
    "duration": 14,
    "start_time": "2022-05-08T20:21:18.591Z"
   },
   {
    "duration": 9,
    "start_time": "2022-05-08T20:21:18.606Z"
   },
   {
    "duration": 6,
    "start_time": "2022-05-08T20:21:18.617Z"
   },
   {
    "duration": 416,
    "start_time": "2022-05-08T20:21:18.625Z"
   },
   {
    "duration": 12,
    "start_time": "2022-05-08T20:21:19.043Z"
   },
   {
    "duration": 278,
    "start_time": "2022-05-08T20:21:19.057Z"
   },
   {
    "duration": 13,
    "start_time": "2022-05-08T20:21:19.337Z"
   },
   {
    "duration": 401,
    "start_time": "2022-05-08T20:22:59.585Z"
   },
   {
    "duration": 75,
    "start_time": "2022-05-08T20:22:59.988Z"
   },
   {
    "duration": 22,
    "start_time": "2022-05-08T20:23:00.067Z"
   },
   {
    "duration": 11,
    "start_time": "2022-05-08T20:23:00.100Z"
   },
   {
    "duration": 4,
    "start_time": "2022-05-08T20:23:00.113Z"
   },
   {
    "duration": 8,
    "start_time": "2022-05-08T20:23:00.119Z"
   },
   {
    "duration": 11,
    "start_time": "2022-05-08T20:23:00.129Z"
   },
   {
    "duration": 10,
    "start_time": "2022-05-08T20:23:00.142Z"
   },
   {
    "duration": 61,
    "start_time": "2022-05-08T20:23:00.155Z"
   },
   {
    "duration": 63,
    "start_time": "2022-05-08T20:23:00.218Z"
   },
   {
    "duration": 6,
    "start_time": "2022-05-08T20:23:00.301Z"
   },
   {
    "duration": 5,
    "start_time": "2022-05-08T20:23:00.308Z"
   },
   {
    "duration": 19,
    "start_time": "2022-05-08T20:23:00.315Z"
   },
   {
    "duration": 33,
    "start_time": "2022-05-08T20:23:00.336Z"
   },
   {
    "duration": 56,
    "start_time": "2022-05-08T20:23:00.371Z"
   },
   {
    "duration": 19,
    "start_time": "2022-05-08T20:23:00.429Z"
   },
   {
    "duration": 15,
    "start_time": "2022-05-08T20:23:00.449Z"
   },
   {
    "duration": 37,
    "start_time": "2022-05-08T20:23:00.466Z"
   },
   {
    "duration": 6,
    "start_time": "2022-05-08T20:23:00.505Z"
   },
   {
    "duration": 15,
    "start_time": "2022-05-08T20:23:00.513Z"
   },
   {
    "duration": 8,
    "start_time": "2022-05-08T20:23:00.530Z"
   },
   {
    "duration": 427,
    "start_time": "2022-05-08T20:23:00.540Z"
   },
   {
    "duration": 11,
    "start_time": "2022-05-08T20:23:00.969Z"
   },
   {
    "duration": 187,
    "start_time": "2022-05-08T20:23:00.981Z"
   },
   {
    "duration": 0,
    "start_time": "2022-05-08T20:23:01.170Z"
   },
   {
    "duration": 350,
    "start_time": "2022-05-08T20:23:16.851Z"
   },
   {
    "duration": 73,
    "start_time": "2022-05-08T20:23:17.203Z"
   },
   {
    "duration": 26,
    "start_time": "2022-05-08T20:23:17.278Z"
   },
   {
    "duration": 11,
    "start_time": "2022-05-08T20:23:17.307Z"
   },
   {
    "duration": 4,
    "start_time": "2022-05-08T20:23:17.320Z"
   },
   {
    "duration": 6,
    "start_time": "2022-05-08T20:23:17.326Z"
   },
   {
    "duration": 11,
    "start_time": "2022-05-08T20:23:17.333Z"
   },
   {
    "duration": 4,
    "start_time": "2022-05-08T20:23:17.346Z"
   },
   {
    "duration": 69,
    "start_time": "2022-05-08T20:23:17.352Z"
   },
   {
    "duration": 40,
    "start_time": "2022-05-08T20:23:17.424Z"
   },
   {
    "duration": 5,
    "start_time": "2022-05-08T20:23:17.465Z"
   },
   {
    "duration": 31,
    "start_time": "2022-05-08T20:23:17.471Z"
   },
   {
    "duration": 14,
    "start_time": "2022-05-08T20:23:17.504Z"
   },
   {
    "duration": 23,
    "start_time": "2022-05-08T20:23:17.519Z"
   },
   {
    "duration": 56,
    "start_time": "2022-05-08T20:23:17.544Z"
   },
   {
    "duration": 24,
    "start_time": "2022-05-08T20:23:17.603Z"
   },
   {
    "duration": 23,
    "start_time": "2022-05-08T20:23:17.629Z"
   },
   {
    "duration": 6,
    "start_time": "2022-05-08T20:23:17.654Z"
   },
   {
    "duration": 39,
    "start_time": "2022-05-08T20:23:17.662Z"
   },
   {
    "duration": 11,
    "start_time": "2022-05-08T20:23:17.704Z"
   },
   {
    "duration": 8,
    "start_time": "2022-05-08T20:23:17.716Z"
   },
   {
    "duration": 444,
    "start_time": "2022-05-08T20:23:17.726Z"
   },
   {
    "duration": 11,
    "start_time": "2022-05-08T20:23:18.172Z"
   },
   {
    "duration": 212,
    "start_time": "2022-05-08T20:23:18.186Z"
   },
   {
    "duration": 0,
    "start_time": "2022-05-08T20:23:18.400Z"
   },
   {
    "duration": 403,
    "start_time": "2022-05-08T20:23:34.866Z"
   },
   {
    "duration": 71,
    "start_time": "2022-05-08T20:23:35.271Z"
   },
   {
    "duration": 18,
    "start_time": "2022-05-08T20:23:35.344Z"
   },
   {
    "duration": 9,
    "start_time": "2022-05-08T20:23:35.365Z"
   },
   {
    "duration": 25,
    "start_time": "2022-05-08T20:23:35.375Z"
   },
   {
    "duration": 4,
    "start_time": "2022-05-08T20:23:35.402Z"
   },
   {
    "duration": 12,
    "start_time": "2022-05-08T20:23:35.408Z"
   },
   {
    "duration": 4,
    "start_time": "2022-05-08T20:23:35.422Z"
   },
   {
    "duration": 28,
    "start_time": "2022-05-08T20:23:35.428Z"
   },
   {
    "duration": 65,
    "start_time": "2022-05-08T20:23:35.500Z"
   },
   {
    "duration": 6,
    "start_time": "2022-05-08T20:23:35.567Z"
   },
   {
    "duration": 9,
    "start_time": "2022-05-08T20:23:35.574Z"
   },
   {
    "duration": 24,
    "start_time": "2022-05-08T20:23:35.584Z"
   },
   {
    "duration": 20,
    "start_time": "2022-05-08T20:23:35.609Z"
   },
   {
    "duration": 19,
    "start_time": "2022-05-08T20:23:35.630Z"
   },
   {
    "duration": 17,
    "start_time": "2022-05-08T20:23:35.650Z"
   },
   {
    "duration": 43,
    "start_time": "2022-05-08T20:23:35.669Z"
   },
   {
    "duration": 8,
    "start_time": "2022-05-08T20:23:35.714Z"
   },
   {
    "duration": 9,
    "start_time": "2022-05-08T20:23:35.724Z"
   },
   {
    "duration": 11,
    "start_time": "2022-05-08T20:23:35.735Z"
   },
   {
    "duration": 8,
    "start_time": "2022-05-08T20:23:35.748Z"
   },
   {
    "duration": 420,
    "start_time": "2022-05-08T20:23:35.757Z"
   },
   {
    "duration": 22,
    "start_time": "2022-05-08T20:23:36.178Z"
   },
   {
    "duration": 199,
    "start_time": "2022-05-08T20:23:36.201Z"
   },
   {
    "duration": 0,
    "start_time": "2022-05-08T20:23:36.401Z"
   },
   {
    "duration": 438,
    "start_time": "2022-05-08T20:24:03.049Z"
   },
   {
    "duration": 73,
    "start_time": "2022-05-08T20:24:03.489Z"
   },
   {
    "duration": 20,
    "start_time": "2022-05-08T20:24:03.564Z"
   },
   {
    "duration": 19,
    "start_time": "2022-05-08T20:24:03.585Z"
   },
   {
    "duration": 5,
    "start_time": "2022-05-08T20:24:03.607Z"
   },
   {
    "duration": 4,
    "start_time": "2022-05-08T20:24:03.613Z"
   },
   {
    "duration": 10,
    "start_time": "2022-05-08T20:24:03.618Z"
   },
   {
    "duration": 4,
    "start_time": "2022-05-08T20:24:03.629Z"
   },
   {
    "duration": 20,
    "start_time": "2022-05-08T20:24:03.634Z"
   },
   {
    "duration": 38,
    "start_time": "2022-05-08T20:24:03.700Z"
   },
   {
    "duration": 4,
    "start_time": "2022-05-08T20:24:03.739Z"
   },
   {
    "duration": 4,
    "start_time": "2022-05-08T20:24:03.745Z"
   },
   {
    "duration": 15,
    "start_time": "2022-05-08T20:24:03.750Z"
   },
   {
    "duration": 52,
    "start_time": "2022-05-08T20:24:03.768Z"
   },
   {
    "duration": 25,
    "start_time": "2022-05-08T20:24:03.822Z"
   },
   {
    "duration": 23,
    "start_time": "2022-05-08T20:24:03.849Z"
   },
   {
    "duration": 47,
    "start_time": "2022-05-08T20:24:03.873Z"
   },
   {
    "duration": 6,
    "start_time": "2022-05-08T20:24:03.922Z"
   },
   {
    "duration": 7,
    "start_time": "2022-05-08T20:24:03.930Z"
   },
   {
    "duration": 10,
    "start_time": "2022-05-08T20:24:03.939Z"
   },
   {
    "duration": 8,
    "start_time": "2022-05-08T20:24:03.950Z"
   },
   {
    "duration": 660,
    "start_time": "2022-05-08T20:24:03.960Z"
   },
   {
    "duration": 15,
    "start_time": "2022-05-08T20:24:04.622Z"
   },
   {
    "duration": 192,
    "start_time": "2022-05-08T20:24:04.639Z"
   },
   {
    "duration": 0,
    "start_time": "2022-05-08T20:24:04.832Z"
   },
   {
    "duration": 350,
    "start_time": "2022-05-08T20:24:23.733Z"
   },
   {
    "duration": 72,
    "start_time": "2022-05-08T20:24:24.085Z"
   },
   {
    "duration": 20,
    "start_time": "2022-05-08T20:24:24.159Z"
   },
   {
    "duration": 28,
    "start_time": "2022-05-08T20:24:24.182Z"
   },
   {
    "duration": 4,
    "start_time": "2022-05-08T20:24:24.212Z"
   },
   {
    "duration": 9,
    "start_time": "2022-05-08T20:24:24.218Z"
   },
   {
    "duration": 16,
    "start_time": "2022-05-08T20:24:24.229Z"
   },
   {
    "duration": 8,
    "start_time": "2022-05-08T20:24:24.247Z"
   },
   {
    "duration": 67,
    "start_time": "2022-05-08T20:24:24.257Z"
   },
   {
    "duration": 80,
    "start_time": "2022-05-08T20:24:24.328Z"
   },
   {
    "duration": 5,
    "start_time": "2022-05-08T20:24:24.410Z"
   },
   {
    "duration": 8,
    "start_time": "2022-05-08T20:24:24.417Z"
   },
   {
    "duration": 13,
    "start_time": "2022-05-08T20:24:24.427Z"
   },
   {
    "duration": 19,
    "start_time": "2022-05-08T20:24:24.442Z"
   },
   {
    "duration": 44,
    "start_time": "2022-05-08T20:24:24.463Z"
   },
   {
    "duration": 15,
    "start_time": "2022-05-08T20:24:24.508Z"
   },
   {
    "duration": 15,
    "start_time": "2022-05-08T20:24:24.525Z"
   },
   {
    "duration": 5,
    "start_time": "2022-05-08T20:24:24.542Z"
   },
   {
    "duration": 11,
    "start_time": "2022-05-08T20:24:24.549Z"
   },
   {
    "duration": 41,
    "start_time": "2022-05-08T20:24:24.562Z"
   },
   {
    "duration": 7,
    "start_time": "2022-05-08T20:24:24.605Z"
   },
   {
    "duration": 438,
    "start_time": "2022-05-08T20:24:24.614Z"
   },
   {
    "duration": 10,
    "start_time": "2022-05-08T20:24:25.054Z"
   },
   {
    "duration": 6,
    "start_time": "2022-05-08T20:24:25.066Z"
   },
   {
    "duration": 0,
    "start_time": "2022-05-08T20:24:25.073Z"
   },
   {
    "duration": 359,
    "start_time": "2022-05-08T20:24:45.123Z"
   },
   {
    "duration": 71,
    "start_time": "2022-05-08T20:24:45.483Z"
   },
   {
    "duration": 21,
    "start_time": "2022-05-08T20:24:45.556Z"
   },
   {
    "duration": 21,
    "start_time": "2022-05-08T20:24:45.579Z"
   },
   {
    "duration": 6,
    "start_time": "2022-05-08T20:24:45.602Z"
   },
   {
    "duration": 9,
    "start_time": "2022-05-08T20:24:45.610Z"
   },
   {
    "duration": 13,
    "start_time": "2022-05-08T20:24:45.620Z"
   },
   {
    "duration": 11,
    "start_time": "2022-05-08T20:24:45.635Z"
   },
   {
    "duration": 64,
    "start_time": "2022-05-08T20:24:45.648Z"
   },
   {
    "duration": 66,
    "start_time": "2022-05-08T20:24:45.716Z"
   },
   {
    "duration": 18,
    "start_time": "2022-05-08T20:24:45.784Z"
   },
   {
    "duration": 4,
    "start_time": "2022-05-08T20:24:45.804Z"
   },
   {
    "duration": 13,
    "start_time": "2022-05-08T20:24:45.809Z"
   },
   {
    "duration": 18,
    "start_time": "2022-05-08T20:24:45.824Z"
   },
   {
    "duration": 58,
    "start_time": "2022-05-08T20:24:45.844Z"
   },
   {
    "duration": 18,
    "start_time": "2022-05-08T20:24:45.904Z"
   },
   {
    "duration": 15,
    "start_time": "2022-05-08T20:24:45.923Z"
   },
   {
    "duration": 5,
    "start_time": "2022-05-08T20:24:45.940Z"
   },
   {
    "duration": 10,
    "start_time": "2022-05-08T20:24:45.947Z"
   },
   {
    "duration": 43,
    "start_time": "2022-05-08T20:24:45.958Z"
   },
   {
    "duration": 6,
    "start_time": "2022-05-08T20:24:46.003Z"
   },
   {
    "duration": 408,
    "start_time": "2022-05-08T20:24:46.010Z"
   },
   {
    "duration": 12,
    "start_time": "2022-05-08T20:24:46.420Z"
   },
   {
    "duration": 7,
    "start_time": "2022-05-08T20:24:46.433Z"
   },
   {
    "duration": 0,
    "start_time": "2022-05-08T20:24:46.442Z"
   },
   {
    "duration": 205,
    "start_time": "2022-05-08T20:25:33.021Z"
   },
   {
    "duration": 494,
    "start_time": "2022-05-08T20:25:42.679Z"
   },
   {
    "duration": 106,
    "start_time": "2022-05-08T20:25:43.175Z"
   },
   {
    "duration": 37,
    "start_time": "2022-05-08T20:25:43.283Z"
   },
   {
    "duration": 14,
    "start_time": "2022-05-08T20:25:43.322Z"
   },
   {
    "duration": 9,
    "start_time": "2022-05-08T20:25:43.339Z"
   },
   {
    "duration": 9,
    "start_time": "2022-05-08T20:25:43.350Z"
   },
   {
    "duration": 10,
    "start_time": "2022-05-08T20:25:43.361Z"
   },
   {
    "duration": 29,
    "start_time": "2022-05-08T20:25:43.373Z"
   },
   {
    "duration": 22,
    "start_time": "2022-05-08T20:25:43.404Z"
   },
   {
    "duration": 38,
    "start_time": "2022-05-08T20:25:43.428Z"
   },
   {
    "duration": 4,
    "start_time": "2022-05-08T20:25:43.468Z"
   },
   {
    "duration": 4,
    "start_time": "2022-05-08T20:25:43.501Z"
   },
   {
    "duration": 15,
    "start_time": "2022-05-08T20:25:43.506Z"
   },
   {
    "duration": 19,
    "start_time": "2022-05-08T20:25:43.524Z"
   },
   {
    "duration": 57,
    "start_time": "2022-05-08T20:25:43.544Z"
   },
   {
    "duration": 19,
    "start_time": "2022-05-08T20:25:43.603Z"
   },
   {
    "duration": 14,
    "start_time": "2022-05-08T20:25:43.623Z"
   },
   {
    "duration": 6,
    "start_time": "2022-05-08T20:25:43.639Z"
   },
   {
    "duration": 7,
    "start_time": "2022-05-08T20:25:43.647Z"
   },
   {
    "duration": 50,
    "start_time": "2022-05-08T20:25:43.655Z"
   },
   {
    "duration": 10,
    "start_time": "2022-05-08T20:25:43.707Z"
   },
   {
    "duration": 512,
    "start_time": "2022-05-08T20:25:43.718Z"
   },
   {
    "duration": 11,
    "start_time": "2022-05-08T20:25:44.231Z"
   },
   {
    "duration": 228,
    "start_time": "2022-05-08T20:25:44.243Z"
   },
   {
    "duration": 0,
    "start_time": "2022-05-08T20:25:44.472Z"
   },
   {
    "duration": 483,
    "start_time": "2022-05-08T20:26:01.925Z"
   },
   {
    "duration": 104,
    "start_time": "2022-05-08T20:26:02.411Z"
   },
   {
    "duration": 27,
    "start_time": "2022-05-08T20:26:02.517Z"
   },
   {
    "duration": 15,
    "start_time": "2022-05-08T20:26:02.546Z"
   },
   {
    "duration": 4,
    "start_time": "2022-05-08T20:26:02.563Z"
   },
   {
    "duration": 34,
    "start_time": "2022-05-08T20:26:02.569Z"
   },
   {
    "duration": 15,
    "start_time": "2022-05-08T20:26:02.605Z"
   },
   {
    "duration": 4,
    "start_time": "2022-05-08T20:26:02.622Z"
   },
   {
    "duration": 24,
    "start_time": "2022-05-08T20:26:02.629Z"
   },
   {
    "duration": 81,
    "start_time": "2022-05-08T20:26:02.657Z"
   },
   {
    "duration": 6,
    "start_time": "2022-05-08T20:26:02.740Z"
   },
   {
    "duration": 5,
    "start_time": "2022-05-08T20:26:02.748Z"
   },
   {
    "duration": 13,
    "start_time": "2022-05-08T20:26:02.754Z"
   },
   {
    "duration": 48,
    "start_time": "2022-05-08T20:26:02.769Z"
   },
   {
    "duration": 26,
    "start_time": "2022-05-08T20:26:02.819Z"
   },
   {
    "duration": 16,
    "start_time": "2022-05-08T20:26:02.846Z"
   },
   {
    "duration": 49,
    "start_time": "2022-05-08T20:26:02.864Z"
   },
   {
    "duration": 7,
    "start_time": "2022-05-08T20:26:02.915Z"
   },
   {
    "duration": 8,
    "start_time": "2022-05-08T20:26:02.924Z"
   },
   {
    "duration": 9,
    "start_time": "2022-05-08T20:26:02.933Z"
   },
   {
    "duration": 11,
    "start_time": "2022-05-08T20:26:02.944Z"
   },
   {
    "duration": 706,
    "start_time": "2022-05-08T20:26:02.957Z"
   },
   {
    "duration": 16,
    "start_time": "2022-05-08T20:26:03.665Z"
   },
   {
    "duration": 188,
    "start_time": "2022-05-08T20:26:03.683Z"
   },
   {
    "duration": 0,
    "start_time": "2022-05-08T20:26:03.873Z"
   },
   {
    "duration": 398,
    "start_time": "2022-05-08T20:26:22.400Z"
   },
   {
    "duration": 73,
    "start_time": "2022-05-08T20:26:22.800Z"
   },
   {
    "duration": 29,
    "start_time": "2022-05-08T20:26:22.875Z"
   },
   {
    "duration": 14,
    "start_time": "2022-05-08T20:26:22.907Z"
   },
   {
    "duration": 5,
    "start_time": "2022-05-08T20:26:22.922Z"
   },
   {
    "duration": 8,
    "start_time": "2022-05-08T20:26:22.928Z"
   },
   {
    "duration": 11,
    "start_time": "2022-05-08T20:26:22.937Z"
   },
   {
    "duration": 4,
    "start_time": "2022-05-08T20:26:22.950Z"
   },
   {
    "duration": 61,
    "start_time": "2022-05-08T20:26:22.956Z"
   },
   {
    "duration": 41,
    "start_time": "2022-05-08T20:26:23.019Z"
   },
   {
    "duration": 4,
    "start_time": "2022-05-08T20:26:23.062Z"
   },
   {
    "duration": 33,
    "start_time": "2022-05-08T20:26:23.068Z"
   },
   {
    "duration": 12,
    "start_time": "2022-05-08T20:26:23.102Z"
   },
   {
    "duration": 18,
    "start_time": "2022-05-08T20:26:23.115Z"
   },
   {
    "duration": 18,
    "start_time": "2022-05-08T20:26:23.135Z"
   },
   {
    "duration": 53,
    "start_time": "2022-05-08T20:26:23.155Z"
   },
   {
    "duration": 16,
    "start_time": "2022-05-08T20:26:23.209Z"
   },
   {
    "duration": 6,
    "start_time": "2022-05-08T20:26:23.227Z"
   },
   {
    "duration": 10,
    "start_time": "2022-05-08T20:26:23.235Z"
   },
   {
    "duration": 10,
    "start_time": "2022-05-08T20:26:23.247Z"
   },
   {
    "duration": 43,
    "start_time": "2022-05-08T20:26:23.259Z"
   },
   {
    "duration": 402,
    "start_time": "2022-05-08T20:26:23.304Z"
   },
   {
    "duration": 11,
    "start_time": "2022-05-08T20:26:23.707Z"
   },
   {
    "duration": 466,
    "start_time": "2022-05-08T20:26:23.720Z"
   },
   {
    "duration": 24,
    "start_time": "2022-05-08T20:26:24.188Z"
   },
   {
    "duration": 1916,
    "start_time": "2022-05-09T07:57:32.134Z"
   },
   {
    "duration": 1080,
    "start_time": "2022-05-09T07:57:46.280Z"
   },
   {
    "duration": 200,
    "start_time": "2022-05-09T07:58:04.586Z"
   },
   {
    "duration": 199,
    "start_time": "2022-05-09T07:59:03.115Z"
   },
   {
    "duration": 201,
    "start_time": "2022-05-09T07:59:17.463Z"
   },
   {
    "duration": 203,
    "start_time": "2022-05-09T07:59:57.572Z"
   },
   {
    "duration": 207,
    "start_time": "2022-05-09T08:00:44.516Z"
   },
   {
    "duration": 401,
    "start_time": "2022-05-09T08:01:12.749Z"
   },
   {
    "duration": 102,
    "start_time": "2022-05-09T08:01:13.153Z"
   },
   {
    "duration": 22,
    "start_time": "2022-05-09T08:01:13.257Z"
   },
   {
    "duration": 26,
    "start_time": "2022-05-09T08:01:13.281Z"
   },
   {
    "duration": 17,
    "start_time": "2022-05-09T08:01:13.309Z"
   },
   {
    "duration": 4,
    "start_time": "2022-05-09T08:01:13.327Z"
   },
   {
    "duration": 12,
    "start_time": "2022-05-09T08:01:13.333Z"
   },
   {
    "duration": 4,
    "start_time": "2022-05-09T08:01:13.346Z"
   },
   {
    "duration": 20,
    "start_time": "2022-05-09T08:01:13.352Z"
   },
   {
    "duration": 47,
    "start_time": "2022-05-09T08:01:13.400Z"
   },
   {
    "duration": 5,
    "start_time": "2022-05-09T08:01:13.448Z"
   },
   {
    "duration": 11,
    "start_time": "2022-05-09T08:01:13.454Z"
   },
   {
    "duration": 14,
    "start_time": "2022-05-09T08:01:13.467Z"
   },
   {
    "duration": 43,
    "start_time": "2022-05-09T08:01:13.482Z"
   },
   {
    "duration": 17,
    "start_time": "2022-05-09T08:01:13.527Z"
   },
   {
    "duration": 16,
    "start_time": "2022-05-09T08:01:13.546Z"
   },
   {
    "duration": 39,
    "start_time": "2022-05-09T08:01:13.564Z"
   },
   {
    "duration": 9,
    "start_time": "2022-05-09T08:01:13.605Z"
   },
   {
    "duration": 12,
    "start_time": "2022-05-09T08:01:13.617Z"
   },
   {
    "duration": 7,
    "start_time": "2022-05-09T08:01:13.631Z"
   },
   {
    "duration": 6,
    "start_time": "2022-05-09T08:01:13.639Z"
   },
   {
    "duration": 698,
    "start_time": "2022-05-09T08:01:13.647Z"
   },
   {
    "duration": 15,
    "start_time": "2022-05-09T08:01:14.347Z"
   },
   {
    "duration": 199,
    "start_time": "2022-05-09T08:01:14.364Z"
   },
   {
    "duration": 0,
    "start_time": "2022-05-09T08:01:14.565Z"
   },
   {
    "duration": 340,
    "start_time": "2022-05-09T08:03:48.591Z"
   },
   {
    "duration": 16,
    "start_time": "2022-05-09T08:04:04.167Z"
   },
   {
    "duration": 224,
    "start_time": "2022-05-09T08:04:50.077Z"
   },
   {
    "duration": 255,
    "start_time": "2022-05-09T08:05:18.063Z"
   },
   {
    "duration": 14,
    "start_time": "2022-05-09T08:05:25.819Z"
   },
   {
    "duration": 74,
    "start_time": "2022-05-09T08:06:43.571Z"
   },
   {
    "duration": 199,
    "start_time": "2022-05-09T08:06:55.695Z"
   },
   {
    "duration": 4,
    "start_time": "2022-05-09T08:07:05.468Z"
   },
   {
    "duration": 14,
    "start_time": "2022-05-09T08:07:19.995Z"
   },
   {
    "duration": 6,
    "start_time": "2022-05-09T08:07:41.331Z"
   },
   {
    "duration": 367,
    "start_time": "2022-05-09T08:08:37.318Z"
   },
   {
    "duration": 83,
    "start_time": "2022-05-09T08:08:37.686Z"
   },
   {
    "duration": 18,
    "start_time": "2022-05-09T08:08:37.771Z"
   },
   {
    "duration": 8,
    "start_time": "2022-05-09T08:08:37.792Z"
   },
   {
    "duration": 4,
    "start_time": "2022-05-09T08:08:37.802Z"
   },
   {
    "duration": 5,
    "start_time": "2022-05-09T08:08:37.807Z"
   },
   {
    "duration": 11,
    "start_time": "2022-05-09T08:08:37.813Z"
   },
   {
    "duration": 4,
    "start_time": "2022-05-09T08:08:37.825Z"
   },
   {
    "duration": 24,
    "start_time": "2022-05-09T08:08:37.830Z"
   },
   {
    "duration": 78,
    "start_time": "2022-05-09T08:08:37.857Z"
   },
   {
    "duration": 4,
    "start_time": "2022-05-09T08:08:37.937Z"
   },
   {
    "duration": 3,
    "start_time": "2022-05-09T08:08:37.943Z"
   },
   {
    "duration": 13,
    "start_time": "2022-05-09T08:08:37.947Z"
   },
   {
    "duration": 18,
    "start_time": "2022-05-09T08:08:37.962Z"
   },
   {
    "duration": 35,
    "start_time": "2022-05-09T08:08:37.981Z"
   },
   {
    "duration": 15,
    "start_time": "2022-05-09T08:08:38.018Z"
   },
   {
    "duration": 14,
    "start_time": "2022-05-09T08:08:38.034Z"
   },
   {
    "duration": 6,
    "start_time": "2022-05-09T08:08:38.049Z"
   },
   {
    "duration": 9,
    "start_time": "2022-05-09T08:08:38.057Z"
   },
   {
    "duration": 36,
    "start_time": "2022-05-09T08:08:38.068Z"
   },
   {
    "duration": 10,
    "start_time": "2022-05-09T08:08:38.105Z"
   },
   {
    "duration": 389,
    "start_time": "2022-05-09T08:08:38.116Z"
   },
   {
    "duration": 10,
    "start_time": "2022-05-09T08:08:38.507Z"
   },
   {
    "duration": 203,
    "start_time": "2022-05-09T08:08:38.519Z"
   },
   {
    "duration": 13,
    "start_time": "2022-05-09T08:08:38.723Z"
   },
   {
    "duration": 20,
    "start_time": "2022-05-09T08:08:38.737Z"
   },
   {
    "duration": 185,
    "start_time": "2022-05-09T08:21:34.669Z"
   },
   {
    "duration": 5,
    "start_time": "2022-05-09T08:21:44.738Z"
   },
   {
    "duration": 4,
    "start_time": "2022-05-09T08:22:09.725Z"
   },
   {
    "duration": 62,
    "start_time": "2022-05-09T08:22:40.554Z"
   },
   {
    "duration": 6,
    "start_time": "2022-05-09T08:22:48.338Z"
   },
   {
    "duration": 5,
    "start_time": "2022-05-09T08:23:09.262Z"
   },
   {
    "duration": 7,
    "start_time": "2022-05-09T08:23:46.515Z"
   },
   {
    "duration": 7,
    "start_time": "2022-05-09T08:23:56.056Z"
   },
   {
    "duration": 194,
    "start_time": "2022-05-09T08:24:08.630Z"
   },
   {
    "duration": 172,
    "start_time": "2022-05-09T08:27:16.989Z"
   },
   {
    "duration": 8,
    "start_time": "2022-05-09T08:27:25.120Z"
   },
   {
    "duration": 12,
    "start_time": "2022-05-09T08:40:52.253Z"
   },
   {
    "duration": 7,
    "start_time": "2022-05-09T08:41:05.153Z"
   },
   {
    "duration": 8,
    "start_time": "2022-05-09T08:41:15.279Z"
   },
   {
    "duration": 8,
    "start_time": "2022-05-09T08:52:30.582Z"
   },
   {
    "duration": 3,
    "start_time": "2022-05-09T08:52:33.549Z"
   },
   {
    "duration": 189,
    "start_time": "2022-05-09T08:52:49.889Z"
   },
   {
    "duration": 3054,
    "start_time": "2022-05-09T08:52:58.386Z"
   },
   {
    "duration": 3236,
    "start_time": "2022-05-09T08:54:04.232Z"
   },
   {
    "duration": 11,
    "start_time": "2022-05-09T08:54:33.885Z"
   },
   {
    "duration": 8,
    "start_time": "2022-05-09T08:56:20.938Z"
   },
   {
    "duration": 12,
    "start_time": "2022-05-09T09:22:41.896Z"
   },
   {
    "duration": 7,
    "start_time": "2022-05-09T09:22:49.143Z"
   },
   {
    "duration": 177,
    "start_time": "2022-05-09T09:26:56.885Z"
   },
   {
    "duration": 7,
    "start_time": "2022-05-09T09:27:24.438Z"
   },
   {
    "duration": 10,
    "start_time": "2022-05-09T09:28:00.673Z"
   },
   {
    "duration": 950,
    "start_time": "2022-05-09T09:30:59.321Z"
   },
   {
    "duration": 13,
    "start_time": "2022-05-09T09:31:26.919Z"
   },
   {
    "duration": 12,
    "start_time": "2022-05-09T09:34:06.831Z"
   },
   {
    "duration": 411,
    "start_time": "2022-05-09T09:39:40.983Z"
   },
   {
    "duration": 75,
    "start_time": "2022-05-09T09:39:41.396Z"
   },
   {
    "duration": 20,
    "start_time": "2022-05-09T09:39:41.473Z"
   },
   {
    "duration": 12,
    "start_time": "2022-05-09T09:39:41.495Z"
   },
   {
    "duration": 5,
    "start_time": "2022-05-09T09:39:41.508Z"
   },
   {
    "duration": 5,
    "start_time": "2022-05-09T09:39:41.514Z"
   },
   {
    "duration": 15,
    "start_time": "2022-05-09T09:39:41.521Z"
   },
   {
    "duration": 6,
    "start_time": "2022-05-09T09:39:41.537Z"
   },
   {
    "duration": 23,
    "start_time": "2022-05-09T09:39:41.544Z"
   },
   {
    "duration": 40,
    "start_time": "2022-05-09T09:39:41.599Z"
   },
   {
    "duration": 5,
    "start_time": "2022-05-09T09:39:41.641Z"
   },
   {
    "duration": 6,
    "start_time": "2022-05-09T09:39:41.648Z"
   },
   {
    "duration": 12,
    "start_time": "2022-05-09T09:39:41.656Z"
   },
   {
    "duration": 39,
    "start_time": "2022-05-09T09:39:41.670Z"
   },
   {
    "duration": 19,
    "start_time": "2022-05-09T09:39:41.711Z"
   },
   {
    "duration": 15,
    "start_time": "2022-05-09T09:39:41.732Z"
   },
   {
    "duration": 14,
    "start_time": "2022-05-09T09:39:41.748Z"
   },
   {
    "duration": 6,
    "start_time": "2022-05-09T09:39:41.764Z"
   },
   {
    "duration": 12,
    "start_time": "2022-05-09T09:39:41.772Z"
   },
   {
    "duration": 16,
    "start_time": "2022-05-09T09:39:41.785Z"
   },
   {
    "duration": 8,
    "start_time": "2022-05-09T09:39:41.802Z"
   },
   {
    "duration": 685,
    "start_time": "2022-05-09T09:39:41.812Z"
   },
   {
    "duration": 16,
    "start_time": "2022-05-09T09:39:42.500Z"
   },
   {
    "duration": 396,
    "start_time": "2022-05-09T09:39:42.518Z"
   },
   {
    "duration": 14,
    "start_time": "2022-05-09T09:39:42.916Z"
   },
   {
    "duration": 187,
    "start_time": "2022-05-09T09:39:42.932Z"
   },
   {
    "duration": 0,
    "start_time": "2022-05-09T09:39:43.121Z"
   },
   {
    "duration": 0,
    "start_time": "2022-05-09T09:39:43.122Z"
   },
   {
    "duration": 0,
    "start_time": "2022-05-09T09:39:43.123Z"
   },
   {
    "duration": 407,
    "start_time": "2022-05-09T09:40:13.980Z"
   },
   {
    "duration": 75,
    "start_time": "2022-05-09T09:40:14.389Z"
   },
   {
    "duration": 21,
    "start_time": "2022-05-09T09:40:14.466Z"
   },
   {
    "duration": 30,
    "start_time": "2022-05-09T09:40:14.489Z"
   },
   {
    "duration": 16,
    "start_time": "2022-05-09T09:40:14.522Z"
   },
   {
    "duration": 16,
    "start_time": "2022-05-09T09:40:14.540Z"
   },
   {
    "duration": 16,
    "start_time": "2022-05-09T09:40:14.558Z"
   },
   {
    "duration": 7,
    "start_time": "2022-05-09T09:40:14.576Z"
   },
   {
    "duration": 22,
    "start_time": "2022-05-09T09:40:14.585Z"
   },
   {
    "duration": 67,
    "start_time": "2022-05-09T09:40:14.609Z"
   },
   {
    "duration": 6,
    "start_time": "2022-05-09T09:40:14.678Z"
   },
   {
    "duration": 5,
    "start_time": "2022-05-09T09:40:14.701Z"
   },
   {
    "duration": 14,
    "start_time": "2022-05-09T09:40:14.708Z"
   },
   {
    "duration": 21,
    "start_time": "2022-05-09T09:40:14.724Z"
   },
   {
    "duration": 20,
    "start_time": "2022-05-09T09:40:14.746Z"
   },
   {
    "duration": 46,
    "start_time": "2022-05-09T09:40:14.767Z"
   },
   {
    "duration": 16,
    "start_time": "2022-05-09T09:40:14.815Z"
   },
   {
    "duration": 11,
    "start_time": "2022-05-09T09:40:14.832Z"
   },
   {
    "duration": 6,
    "start_time": "2022-05-09T09:40:14.845Z"
   },
   {
    "duration": 8,
    "start_time": "2022-05-09T09:40:14.853Z"
   },
   {
    "duration": 7,
    "start_time": "2022-05-09T09:40:14.863Z"
   },
   {
    "duration": 442,
    "start_time": "2022-05-09T09:40:14.872Z"
   },
   {
    "duration": 11,
    "start_time": "2022-05-09T09:40:15.316Z"
   },
   {
    "duration": 325,
    "start_time": "2022-05-09T09:40:15.329Z"
   },
   {
    "duration": 20,
    "start_time": "2022-05-09T09:40:15.656Z"
   },
   {
    "duration": 22,
    "start_time": "2022-05-09T09:40:15.678Z"
   },
   {
    "duration": 8,
    "start_time": "2022-05-09T09:40:15.702Z"
   },
   {
    "duration": 1177,
    "start_time": "2022-05-09T09:40:15.712Z"
   },
   {
    "duration": 15,
    "start_time": "2022-05-09T09:40:36.342Z"
   },
   {
    "duration": 110,
    "start_time": "2022-05-09T09:41:04.372Z"
   },
   {
    "duration": 11,
    "start_time": "2022-05-09T09:41:20.535Z"
   },
   {
    "duration": 111,
    "start_time": "2022-05-09T09:41:25.238Z"
   },
   {
    "duration": 192,
    "start_time": "2022-05-09T09:43:42.022Z"
   },
   {
    "duration": 197,
    "start_time": "2022-05-09T09:43:58.504Z"
   },
   {
    "duration": 191,
    "start_time": "2022-05-09T09:44:19.994Z"
   },
   {
    "duration": 203,
    "start_time": "2022-05-09T09:44:25.671Z"
   },
   {
    "duration": 191,
    "start_time": "2022-05-09T09:45:01.206Z"
   },
   {
    "duration": 191,
    "start_time": "2022-05-09T09:48:09.864Z"
   },
   {
    "duration": 14,
    "start_time": "2022-05-09T09:48:33.814Z"
   },
   {
    "duration": 188,
    "start_time": "2022-05-09T09:51:19.650Z"
   },
   {
    "duration": 216,
    "start_time": "2022-05-09T09:51:43.531Z"
   },
   {
    "duration": 10,
    "start_time": "2022-05-09T09:52:35.852Z"
   },
   {
    "duration": 11,
    "start_time": "2022-05-09T09:53:30.671Z"
   },
   {
    "duration": 121,
    "start_time": "2022-05-09T09:53:51.444Z"
   },
   {
    "duration": 127,
    "start_time": "2022-05-09T09:54:00.327Z"
   },
   {
    "duration": 120,
    "start_time": "2022-05-09T09:54:33.271Z"
   },
   {
    "duration": 113,
    "start_time": "2022-05-09T09:54:47.389Z"
   },
   {
    "duration": 119,
    "start_time": "2022-05-09T09:54:58.059Z"
   },
   {
    "duration": 8,
    "start_time": "2022-05-09T10:10:06.385Z"
   },
   {
    "duration": 9,
    "start_time": "2022-05-09T10:10:45.212Z"
   },
   {
    "duration": 172,
    "start_time": "2022-05-09T10:15:02.100Z"
   },
   {
    "duration": 159,
    "start_time": "2022-05-09T10:15:25.696Z"
   },
   {
    "duration": 259,
    "start_time": "2022-05-09T10:15:53.897Z"
   },
   {
    "duration": 11,
    "start_time": "2022-05-09T10:59:06.202Z"
   },
   {
    "duration": 12,
    "start_time": "2022-05-09T11:09:02.840Z"
   },
   {
    "duration": 11,
    "start_time": "2022-05-09T11:12:50.309Z"
   },
   {
    "duration": 163,
    "start_time": "2022-05-09T11:13:37.199Z"
   },
   {
    "duration": 212,
    "start_time": "2022-05-09T11:54:26.439Z"
   },
   {
    "duration": 10,
    "start_time": "2022-05-09T11:54:39.164Z"
   },
   {
    "duration": 9,
    "start_time": "2022-05-09T11:55:05.583Z"
   },
   {
    "duration": 591,
    "start_time": "2022-05-09T11:55:50.292Z"
   },
   {
    "duration": 145,
    "start_time": "2022-05-09T11:55:50.888Z"
   },
   {
    "duration": 41,
    "start_time": "2022-05-09T11:55:51.044Z"
   },
   {
    "duration": 28,
    "start_time": "2022-05-09T11:55:51.089Z"
   },
   {
    "duration": 43,
    "start_time": "2022-05-09T11:55:51.121Z"
   },
   {
    "duration": 9,
    "start_time": "2022-05-09T11:55:51.166Z"
   },
   {
    "duration": 18,
    "start_time": "2022-05-09T11:55:51.177Z"
   },
   {
    "duration": 6,
    "start_time": "2022-05-09T11:55:51.197Z"
   },
   {
    "duration": 75,
    "start_time": "2022-05-09T11:55:51.206Z"
   },
   {
    "duration": 70,
    "start_time": "2022-05-09T11:55:51.284Z"
   },
   {
    "duration": 6,
    "start_time": "2022-05-09T11:55:51.355Z"
   },
   {
    "duration": 4,
    "start_time": "2022-05-09T11:55:51.362Z"
   },
   {
    "duration": 12,
    "start_time": "2022-05-09T11:55:51.368Z"
   },
   {
    "duration": 53,
    "start_time": "2022-05-09T11:55:51.382Z"
   },
   {
    "duration": 42,
    "start_time": "2022-05-09T11:55:51.438Z"
   },
   {
    "duration": 17,
    "start_time": "2022-05-09T11:55:51.482Z"
   },
   {
    "duration": 28,
    "start_time": "2022-05-09T11:55:51.505Z"
   },
   {
    "duration": 23,
    "start_time": "2022-05-09T11:55:51.536Z"
   },
   {
    "duration": 12,
    "start_time": "2022-05-09T11:55:51.561Z"
   },
   {
    "duration": 10,
    "start_time": "2022-05-09T11:55:51.575Z"
   },
   {
    "duration": 21,
    "start_time": "2022-05-09T11:55:51.587Z"
   },
   {
    "duration": 583,
    "start_time": "2022-05-09T11:55:51.610Z"
   },
   {
    "duration": 19,
    "start_time": "2022-05-09T11:55:52.195Z"
   },
   {
    "duration": 339,
    "start_time": "2022-05-09T11:55:52.216Z"
   },
   {
    "duration": 13,
    "start_time": "2022-05-09T11:55:52.561Z"
   },
   {
    "duration": 8,
    "start_time": "2022-05-09T11:55:52.576Z"
   },
   {
    "duration": 7,
    "start_time": "2022-05-09T11:55:52.586Z"
   },
   {
    "duration": 1164,
    "start_time": "2022-05-09T11:55:52.608Z"
   },
   {
    "duration": 12,
    "start_time": "2022-05-09T11:55:53.774Z"
   },
   {
    "duration": 175,
    "start_time": "2022-05-09T11:55:53.788Z"
   },
   {
    "duration": 11,
    "start_time": "2022-05-09T11:55:53.964Z"
   },
   {
    "duration": 147,
    "start_time": "2022-05-09T11:55:53.977Z"
   },
   {
    "duration": 11,
    "start_time": "2022-05-09T12:25:49.565Z"
   },
   {
    "duration": 11,
    "start_time": "2022-05-09T12:26:12.572Z"
   },
   {
    "duration": 145,
    "start_time": "2022-05-09T12:38:33.914Z"
   },
   {
    "duration": 98,
    "start_time": "2022-05-09T13:02:43.114Z"
   },
   {
    "duration": 115,
    "start_time": "2022-05-09T13:03:05.497Z"
   },
   {
    "duration": 216,
    "start_time": "2022-05-09T13:15:22.186Z"
   },
   {
    "duration": 161,
    "start_time": "2022-05-09T13:16:22.129Z"
   },
   {
    "duration": 180,
    "start_time": "2022-05-09T13:16:47.567Z"
   },
   {
    "duration": 144,
    "start_time": "2022-05-09T13:16:54.446Z"
   },
   {
    "duration": 186,
    "start_time": "2022-05-09T13:17:02.589Z"
   },
   {
    "duration": 270,
    "start_time": "2022-05-09T13:17:08.972Z"
   },
   {
    "duration": 130,
    "start_time": "2022-05-09T13:17:22.057Z"
   },
   {
    "duration": 129,
    "start_time": "2022-05-09T13:17:31.552Z"
   },
   {
    "duration": 116,
    "start_time": "2022-05-09T13:17:50.270Z"
   },
   {
    "duration": 118,
    "start_time": "2022-05-09T13:18:13.537Z"
   },
   {
    "duration": 175,
    "start_time": "2022-05-09T13:18:21.279Z"
   },
   {
    "duration": 166,
    "start_time": "2022-05-09T13:18:30.672Z"
   },
   {
    "duration": 161,
    "start_time": "2022-05-09T13:18:55.725Z"
   },
   {
    "duration": 16,
    "start_time": "2022-05-09T13:38:12.746Z"
   },
   {
    "duration": 111,
    "start_time": "2022-05-09T13:49:47.509Z"
   },
   {
    "duration": 20,
    "start_time": "2022-05-09T13:54:59.066Z"
   },
   {
    "duration": 398,
    "start_time": "2022-05-09T13:55:11.236Z"
   },
   {
    "duration": 77,
    "start_time": "2022-05-09T13:55:11.636Z"
   },
   {
    "duration": 22,
    "start_time": "2022-05-09T13:55:11.715Z"
   },
   {
    "duration": 10,
    "start_time": "2022-05-09T13:55:11.739Z"
   },
   {
    "duration": 5,
    "start_time": "2022-05-09T13:55:11.750Z"
   },
   {
    "duration": 4,
    "start_time": "2022-05-09T13:55:11.756Z"
   },
   {
    "duration": 57,
    "start_time": "2022-05-09T13:55:11.761Z"
   },
   {
    "duration": 4,
    "start_time": "2022-05-09T13:55:11.820Z"
   },
   {
    "duration": 25,
    "start_time": "2022-05-09T13:55:11.825Z"
   },
   {
    "duration": 66,
    "start_time": "2022-05-09T13:55:11.853Z"
   },
   {
    "duration": 5,
    "start_time": "2022-05-09T13:55:11.920Z"
   },
   {
    "duration": 13,
    "start_time": "2022-05-09T13:55:11.926Z"
   },
   {
    "duration": 5,
    "start_time": "2022-05-09T13:55:11.940Z"
   },
   {
    "duration": 15,
    "start_time": "2022-05-09T13:55:11.946Z"
   },
   {
    "duration": 38,
    "start_time": "2022-05-09T13:55:11.963Z"
   },
   {
    "duration": 26,
    "start_time": "2022-05-09T13:55:12.003Z"
   },
   {
    "duration": 16,
    "start_time": "2022-05-09T13:55:12.030Z"
   },
   {
    "duration": 14,
    "start_time": "2022-05-09T13:55:12.048Z"
   },
   {
    "duration": 6,
    "start_time": "2022-05-09T13:55:12.065Z"
   },
   {
    "duration": 41,
    "start_time": "2022-05-09T13:55:12.073Z"
   },
   {
    "duration": 8,
    "start_time": "2022-05-09T13:55:12.117Z"
   },
   {
    "duration": 9,
    "start_time": "2022-05-09T13:55:12.127Z"
   },
   {
    "duration": 678,
    "start_time": "2022-05-09T13:55:12.138Z"
   },
   {
    "duration": 11,
    "start_time": "2022-05-09T13:55:12.818Z"
   },
   {
    "duration": 213,
    "start_time": "2022-05-09T13:55:12.831Z"
   },
   {
    "duration": 12,
    "start_time": "2022-05-09T13:55:13.046Z"
   },
   {
    "duration": 9,
    "start_time": "2022-05-09T13:55:13.059Z"
   },
   {
    "duration": 8,
    "start_time": "2022-05-09T13:55:13.071Z"
   },
   {
    "duration": 981,
    "start_time": "2022-05-09T13:55:13.080Z"
   },
   {
    "duration": 11,
    "start_time": "2022-05-09T13:55:14.063Z"
   },
   {
    "duration": 131,
    "start_time": "2022-05-09T13:55:14.075Z"
   },
   {
    "duration": 14,
    "start_time": "2022-05-09T13:55:14.208Z"
   },
   {
    "duration": 127,
    "start_time": "2022-05-09T13:55:14.224Z"
   },
   {
    "duration": 11,
    "start_time": "2022-05-09T13:55:14.352Z"
   },
   {
    "duration": 136,
    "start_time": "2022-05-09T13:55:14.365Z"
   },
   {
    "duration": 439,
    "start_time": "2022-05-09T14:03:30.525Z"
   },
   {
    "duration": 77,
    "start_time": "2022-05-09T14:03:30.966Z"
   },
   {
    "duration": 20,
    "start_time": "2022-05-09T14:03:31.045Z"
   },
   {
    "duration": 25,
    "start_time": "2022-05-09T14:03:31.067Z"
   },
   {
    "duration": 39,
    "start_time": "2022-05-09T14:03:31.095Z"
   },
   {
    "duration": 12,
    "start_time": "2022-05-09T14:03:31.135Z"
   },
   {
    "duration": 14,
    "start_time": "2022-05-09T14:03:31.149Z"
   },
   {
    "duration": 10,
    "start_time": "2022-05-09T14:03:31.165Z"
   },
   {
    "duration": 42,
    "start_time": "2022-05-09T14:03:31.177Z"
   },
   {
    "duration": 65,
    "start_time": "2022-05-09T14:03:31.221Z"
   },
   {
    "duration": 5,
    "start_time": "2022-05-09T14:03:31.288Z"
   },
   {
    "duration": 28,
    "start_time": "2022-05-09T14:03:31.294Z"
   },
   {
    "duration": 3,
    "start_time": "2022-05-09T14:03:31.324Z"
   },
   {
    "duration": 19,
    "start_time": "2022-05-09T14:03:31.330Z"
   },
   {
    "duration": 23,
    "start_time": "2022-05-09T14:03:31.351Z"
   },
   {
    "duration": 29,
    "start_time": "2022-05-09T14:03:31.376Z"
   },
   {
    "duration": 22,
    "start_time": "2022-05-09T14:03:31.407Z"
   },
   {
    "duration": 18,
    "start_time": "2022-05-09T14:03:31.431Z"
   },
   {
    "duration": 27,
    "start_time": "2022-05-09T14:03:31.451Z"
   },
   {
    "duration": 10,
    "start_time": "2022-05-09T14:03:31.480Z"
   },
   {
    "duration": 18,
    "start_time": "2022-05-09T14:03:31.492Z"
   },
   {
    "duration": 17,
    "start_time": "2022-05-09T14:03:31.512Z"
   },
   {
    "duration": 437,
    "start_time": "2022-05-09T14:03:31.531Z"
   },
   {
    "duration": 10,
    "start_time": "2022-05-09T14:03:31.970Z"
   },
   {
    "duration": 233,
    "start_time": "2022-05-09T14:03:31.982Z"
   },
   {
    "duration": 14,
    "start_time": "2022-05-09T14:03:32.217Z"
   },
   {
    "duration": 12,
    "start_time": "2022-05-09T14:03:32.233Z"
   },
   {
    "duration": 8,
    "start_time": "2022-05-09T14:03:32.247Z"
   },
   {
    "duration": 1242,
    "start_time": "2022-05-09T14:03:32.256Z"
   },
   {
    "duration": 14,
    "start_time": "2022-05-09T14:03:33.500Z"
   },
   {
    "duration": 173,
    "start_time": "2022-05-09T14:03:33.516Z"
   },
   {
    "duration": 24,
    "start_time": "2022-05-09T14:03:33.691Z"
   },
   {
    "duration": 115,
    "start_time": "2022-05-09T14:03:33.718Z"
   },
   {
    "duration": 11,
    "start_time": "2022-05-09T14:03:33.834Z"
   },
   {
    "duration": 181,
    "start_time": "2022-05-09T14:03:33.847Z"
   },
   {
    "duration": 407,
    "start_time": "2022-05-09T14:24:50.362Z"
   },
   {
    "duration": 84,
    "start_time": "2022-05-09T14:24:50.771Z"
   },
   {
    "duration": 30,
    "start_time": "2022-05-09T14:24:50.857Z"
   },
   {
    "duration": 17,
    "start_time": "2022-05-09T14:24:50.890Z"
   },
   {
    "duration": 16,
    "start_time": "2022-05-09T14:24:50.909Z"
   },
   {
    "duration": 5,
    "start_time": "2022-05-09T14:24:50.927Z"
   },
   {
    "duration": 14,
    "start_time": "2022-05-09T14:24:50.933Z"
   },
   {
    "duration": 4,
    "start_time": "2022-05-09T14:24:50.949Z"
   },
   {
    "duration": 22,
    "start_time": "2022-05-09T14:24:50.954Z"
   },
   {
    "duration": 71,
    "start_time": "2022-05-09T14:24:50.977Z"
   },
   {
    "duration": 4,
    "start_time": "2022-05-09T14:24:51.050Z"
   },
   {
    "duration": 11,
    "start_time": "2022-05-09T14:24:51.055Z"
   },
   {
    "duration": 4,
    "start_time": "2022-05-09T14:24:51.067Z"
   },
   {
    "duration": 41,
    "start_time": "2022-05-09T14:24:51.073Z"
   },
   {
    "duration": 18,
    "start_time": "2022-05-09T14:24:51.116Z"
   },
   {
    "duration": 17,
    "start_time": "2022-05-09T14:24:51.135Z"
   },
   {
    "duration": 16,
    "start_time": "2022-05-09T14:24:51.154Z"
   },
   {
    "duration": 50,
    "start_time": "2022-05-09T14:24:51.171Z"
   },
   {
    "duration": 12,
    "start_time": "2022-05-09T14:24:51.223Z"
   },
   {
    "duration": 7,
    "start_time": "2022-05-09T14:24:51.237Z"
   },
   {
    "duration": 7,
    "start_time": "2022-05-09T14:24:51.245Z"
   },
   {
    "duration": 7,
    "start_time": "2022-05-09T14:24:51.253Z"
   },
   {
    "duration": 548,
    "start_time": "2022-05-09T14:24:51.262Z"
   },
   {
    "duration": 13,
    "start_time": "2022-05-09T14:24:51.812Z"
   },
   {
    "duration": 230,
    "start_time": "2022-05-09T14:24:51.827Z"
   },
   {
    "duration": 12,
    "start_time": "2022-05-09T14:24:52.059Z"
   },
   {
    "duration": 9,
    "start_time": "2022-05-09T14:24:52.073Z"
   },
   {
    "duration": 26,
    "start_time": "2022-05-09T14:24:52.083Z"
   },
   {
    "duration": 1036,
    "start_time": "2022-05-09T14:24:52.112Z"
   },
   {
    "duration": 12,
    "start_time": "2022-05-09T14:24:53.149Z"
   },
   {
    "duration": 178,
    "start_time": "2022-05-09T14:24:53.163Z"
   },
   {
    "duration": 14,
    "start_time": "2022-05-09T14:24:53.343Z"
   },
   {
    "duration": 173,
    "start_time": "2022-05-09T14:24:53.359Z"
   },
   {
    "duration": 10,
    "start_time": "2022-05-09T14:24:53.534Z"
   },
   {
    "duration": 133,
    "start_time": "2022-05-09T14:24:53.546Z"
   },
   {
    "duration": 18,
    "start_time": "2022-05-09T14:39:08.299Z"
   },
   {
    "duration": 17,
    "start_time": "2022-05-09T14:39:31.687Z"
   },
   {
    "duration": 425,
    "start_time": "2022-05-09T15:01:23.803Z"
   },
   {
    "duration": 75,
    "start_time": "2022-05-09T15:01:24.230Z"
   },
   {
    "duration": 23,
    "start_time": "2022-05-09T15:01:24.307Z"
   },
   {
    "duration": 10,
    "start_time": "2022-05-09T15:01:24.332Z"
   },
   {
    "duration": 5,
    "start_time": "2022-05-09T15:01:24.343Z"
   },
   {
    "duration": 5,
    "start_time": "2022-05-09T15:01:24.349Z"
   },
   {
    "duration": 15,
    "start_time": "2022-05-09T15:01:24.355Z"
   },
   {
    "duration": 4,
    "start_time": "2022-05-09T15:01:24.371Z"
   },
   {
    "duration": 27,
    "start_time": "2022-05-09T15:01:24.402Z"
   },
   {
    "duration": 41,
    "start_time": "2022-05-09T15:01:24.432Z"
   },
   {
    "duration": 29,
    "start_time": "2022-05-09T15:01:24.475Z"
   },
   {
    "duration": 23,
    "start_time": "2022-05-09T15:01:24.506Z"
   },
   {
    "duration": 5,
    "start_time": "2022-05-09T15:01:24.531Z"
   },
   {
    "duration": 22,
    "start_time": "2022-05-09T15:01:24.537Z"
   },
   {
    "duration": 21,
    "start_time": "2022-05-09T15:01:24.560Z"
   },
   {
    "duration": 27,
    "start_time": "2022-05-09T15:01:24.599Z"
   },
   {
    "duration": 16,
    "start_time": "2022-05-09T15:01:24.628Z"
   },
   {
    "duration": 14,
    "start_time": "2022-05-09T15:01:24.645Z"
   },
   {
    "duration": 7,
    "start_time": "2022-05-09T15:01:24.660Z"
   },
   {
    "duration": 45,
    "start_time": "2022-05-09T15:01:24.669Z"
   },
   {
    "duration": 10,
    "start_time": "2022-05-09T15:01:24.717Z"
   },
   {
    "duration": 14,
    "start_time": "2022-05-09T15:01:24.729Z"
   },
   {
    "duration": 428,
    "start_time": "2022-05-09T15:01:24.745Z"
   },
   {
    "duration": 11,
    "start_time": "2022-05-09T15:01:25.175Z"
   },
   {
    "duration": 228,
    "start_time": "2022-05-09T15:01:25.187Z"
   },
   {
    "duration": 13,
    "start_time": "2022-05-09T15:01:25.417Z"
   },
   {
    "duration": 14,
    "start_time": "2022-05-09T15:01:25.432Z"
   },
   {
    "duration": 7,
    "start_time": "2022-05-09T15:01:25.450Z"
   },
   {
    "duration": 948,
    "start_time": "2022-05-09T15:01:25.458Z"
   },
   {
    "duration": 14,
    "start_time": "2022-05-09T15:01:26.408Z"
   },
   {
    "duration": 125,
    "start_time": "2022-05-09T15:01:26.424Z"
   },
   {
    "duration": 12,
    "start_time": "2022-05-09T15:01:26.551Z"
   },
   {
    "duration": 120,
    "start_time": "2022-05-09T15:01:26.565Z"
   },
   {
    "duration": 28,
    "start_time": "2022-05-09T15:01:26.687Z"
   },
   {
    "duration": 120,
    "start_time": "2022-05-09T15:01:26.717Z"
   },
   {
    "duration": 509,
    "start_time": "2022-05-09T15:08:14.484Z"
   },
   {
    "duration": 88,
    "start_time": "2022-05-09T15:08:14.995Z"
   },
   {
    "duration": 29,
    "start_time": "2022-05-09T15:08:15.085Z"
   },
   {
    "duration": 13,
    "start_time": "2022-05-09T15:08:15.115Z"
   },
   {
    "duration": 11,
    "start_time": "2022-05-09T15:08:15.131Z"
   },
   {
    "duration": 4,
    "start_time": "2022-05-09T15:08:15.144Z"
   },
   {
    "duration": 11,
    "start_time": "2022-05-09T15:08:15.150Z"
   },
   {
    "duration": 4,
    "start_time": "2022-05-09T15:08:15.162Z"
   },
   {
    "duration": 54,
    "start_time": "2022-05-09T15:08:15.167Z"
   },
   {
    "duration": 41,
    "start_time": "2022-05-09T15:08:15.223Z"
   },
   {
    "duration": 5,
    "start_time": "2022-05-09T15:08:15.266Z"
   },
   {
    "duration": 39,
    "start_time": "2022-05-09T15:08:15.272Z"
   },
   {
    "duration": 4,
    "start_time": "2022-05-09T15:08:15.313Z"
   },
   {
    "duration": 14,
    "start_time": "2022-05-09T15:08:15.320Z"
   },
   {
    "duration": 21,
    "start_time": "2022-05-09T15:08:15.336Z"
   },
   {
    "duration": 18,
    "start_time": "2022-05-09T15:08:15.358Z"
   },
   {
    "duration": 50,
    "start_time": "2022-05-09T15:08:15.378Z"
   },
   {
    "duration": 15,
    "start_time": "2022-05-09T15:08:15.430Z"
   },
   {
    "duration": 9,
    "start_time": "2022-05-09T15:08:15.447Z"
   },
   {
    "duration": 10,
    "start_time": "2022-05-09T15:08:15.457Z"
   },
   {
    "duration": 12,
    "start_time": "2022-05-09T15:08:15.468Z"
   },
   {
    "duration": 21,
    "start_time": "2022-05-09T15:08:15.482Z"
   },
   {
    "duration": 448,
    "start_time": "2022-05-09T15:08:15.504Z"
   },
   {
    "duration": 10,
    "start_time": "2022-05-09T15:08:15.954Z"
   },
   {
    "duration": 343,
    "start_time": "2022-05-09T15:08:15.966Z"
   },
   {
    "duration": 15,
    "start_time": "2022-05-09T15:08:16.317Z"
   },
   {
    "duration": 12,
    "start_time": "2022-05-09T15:08:16.333Z"
   },
   {
    "duration": 8,
    "start_time": "2022-05-09T15:08:16.346Z"
   },
   {
    "duration": 992,
    "start_time": "2022-05-09T15:08:16.356Z"
   },
   {
    "duration": 12,
    "start_time": "2022-05-09T15:08:17.350Z"
   },
   {
    "duration": 135,
    "start_time": "2022-05-09T15:08:17.364Z"
   },
   {
    "duration": 18,
    "start_time": "2022-05-09T15:08:17.502Z"
   },
   {
    "duration": 120,
    "start_time": "2022-05-09T15:08:17.523Z"
   },
   {
    "duration": 11,
    "start_time": "2022-05-09T15:08:17.644Z"
   },
   {
    "duration": 136,
    "start_time": "2022-05-09T15:08:17.657Z"
   },
   {
    "duration": 117,
    "start_time": "2022-05-09T15:21:37.525Z"
   },
   {
    "duration": 120,
    "start_time": "2022-05-09T15:23:22.225Z"
   },
   {
    "duration": 125,
    "start_time": "2022-05-09T15:24:16.568Z"
   },
   {
    "duration": 118,
    "start_time": "2022-05-09T15:30:28.115Z"
   },
   {
    "duration": 418,
    "start_time": "2022-05-10T08:18:43.832Z"
   },
   {
    "duration": 85,
    "start_time": "2022-05-10T08:18:44.252Z"
   },
   {
    "duration": 25,
    "start_time": "2022-05-10T08:18:44.341Z"
   },
   {
    "duration": 25,
    "start_time": "2022-05-10T08:18:44.368Z"
   },
   {
    "duration": 16,
    "start_time": "2022-05-10T08:18:44.395Z"
   },
   {
    "duration": 14,
    "start_time": "2022-05-10T08:18:44.413Z"
   },
   {
    "duration": 30,
    "start_time": "2022-05-10T08:18:44.429Z"
   },
   {
    "duration": 8,
    "start_time": "2022-05-10T08:18:44.460Z"
   },
   {
    "duration": 34,
    "start_time": "2022-05-10T08:18:44.469Z"
   },
   {
    "duration": 59,
    "start_time": "2022-05-10T08:18:44.504Z"
   },
   {
    "duration": 6,
    "start_time": "2022-05-10T08:18:44.566Z"
   },
   {
    "duration": 27,
    "start_time": "2022-05-10T08:18:44.574Z"
   },
   {
    "duration": 29,
    "start_time": "2022-05-10T08:18:44.603Z"
   },
   {
    "duration": 27,
    "start_time": "2022-05-10T08:18:44.636Z"
   },
   {
    "duration": 35,
    "start_time": "2022-05-10T08:18:44.665Z"
   },
   {
    "duration": 24,
    "start_time": "2022-05-10T08:18:44.702Z"
   },
   {
    "duration": 26,
    "start_time": "2022-05-10T08:18:44.729Z"
   },
   {
    "duration": 16,
    "start_time": "2022-05-10T08:18:44.757Z"
   },
   {
    "duration": 7,
    "start_time": "2022-05-10T08:18:44.775Z"
   },
   {
    "duration": 21,
    "start_time": "2022-05-10T08:18:44.784Z"
   },
   {
    "duration": 34,
    "start_time": "2022-05-10T08:18:44.806Z"
   },
   {
    "duration": 19,
    "start_time": "2022-05-10T08:18:44.842Z"
   },
   {
    "duration": 458,
    "start_time": "2022-05-10T08:18:44.863Z"
   },
   {
    "duration": 14,
    "start_time": "2022-05-10T08:18:45.323Z"
   },
   {
    "duration": 236,
    "start_time": "2022-05-10T08:18:45.339Z"
   },
   {
    "duration": 13,
    "start_time": "2022-05-10T08:18:45.576Z"
   },
   {
    "duration": 14,
    "start_time": "2022-05-10T08:18:45.591Z"
   },
   {
    "duration": 21,
    "start_time": "2022-05-10T08:18:45.607Z"
   },
   {
    "duration": 988,
    "start_time": "2022-05-10T08:18:45.630Z"
   },
   {
    "duration": 16,
    "start_time": "2022-05-10T08:18:46.623Z"
   },
   {
    "duration": 154,
    "start_time": "2022-05-10T08:18:46.641Z"
   },
   {
    "duration": 12,
    "start_time": "2022-05-10T08:18:46.797Z"
   },
   {
    "duration": 139,
    "start_time": "2022-05-10T08:18:46.811Z"
   },
   {
    "duration": 12,
    "start_time": "2022-05-10T08:18:46.951Z"
   },
   {
    "duration": 144,
    "start_time": "2022-05-10T08:18:46.964Z"
   },
   {
    "duration": 21,
    "start_time": "2022-05-10T08:20:14.905Z"
   },
   {
    "duration": 33,
    "start_time": "2022-05-10T08:21:29.167Z"
   },
   {
    "duration": 15,
    "start_time": "2022-05-10T08:21:49.655Z"
   },
   {
    "duration": 27,
    "start_time": "2022-05-10T08:22:16.732Z"
   },
   {
    "duration": 14,
    "start_time": "2022-05-10T08:23:09.843Z"
   },
   {
    "duration": 125,
    "start_time": "2022-05-10T08:53:24.938Z"
   },
   {
    "duration": 121,
    "start_time": "2022-05-10T08:53:41.492Z"
   },
   {
    "duration": 123,
    "start_time": "2022-05-10T08:54:27.424Z"
   },
   {
    "duration": 150,
    "start_time": "2022-05-10T08:54:36.078Z"
   },
   {
    "duration": 177,
    "start_time": "2022-05-10T08:55:30.927Z"
   },
   {
    "duration": 129,
    "start_time": "2022-05-10T09:10:38.137Z"
   },
   {
    "duration": 134,
    "start_time": "2022-05-10T09:10:49.098Z"
   },
   {
    "duration": 40,
    "start_time": "2022-05-10T09:10:53.633Z"
   },
   {
    "duration": 146,
    "start_time": "2022-05-10T09:16:10.186Z"
   },
   {
    "duration": 5,
    "start_time": "2022-05-10T09:16:16.345Z"
   },
   {
    "duration": 2,
    "start_time": "2022-05-10T09:16:23.158Z"
   },
   {
    "duration": 3,
    "start_time": "2022-05-10T09:16:48.593Z"
   },
   {
    "duration": 139,
    "start_time": "2022-05-10T09:19:32.964Z"
   },
   {
    "duration": 158,
    "start_time": "2022-05-10T09:19:39.312Z"
   },
   {
    "duration": 204,
    "start_time": "2022-05-10T09:20:03.414Z"
   },
   {
    "duration": 6,
    "start_time": "2022-05-10T09:20:12.416Z"
   },
   {
    "duration": 8,
    "start_time": "2022-05-10T09:20:23.447Z"
   },
   {
    "duration": 27,
    "start_time": "2022-05-10T09:20:36.523Z"
   },
   {
    "duration": 13,
    "start_time": "2022-05-10T09:20:50.923Z"
   },
   {
    "duration": 11,
    "start_time": "2022-05-10T09:21:07.145Z"
   },
   {
    "duration": 10,
    "start_time": "2022-05-10T09:22:04.661Z"
   },
   {
    "duration": 8,
    "start_time": "2022-05-10T09:25:17.052Z"
   },
   {
    "duration": 7,
    "start_time": "2022-05-10T09:28:34.575Z"
   },
   {
    "duration": 418,
    "start_time": "2022-05-10T09:28:44.947Z"
   },
   {
    "duration": 67,
    "start_time": "2022-05-10T09:28:45.367Z"
   },
   {
    "duration": 29,
    "start_time": "2022-05-10T09:28:45.435Z"
   },
   {
    "duration": 12,
    "start_time": "2022-05-10T09:28:45.468Z"
   },
   {
    "duration": 4,
    "start_time": "2022-05-10T09:28:45.482Z"
   },
   {
    "duration": 4,
    "start_time": "2022-05-10T09:28:45.488Z"
   },
   {
    "duration": 42,
    "start_time": "2022-05-10T09:28:45.493Z"
   },
   {
    "duration": 20,
    "start_time": "2022-05-10T09:28:45.537Z"
   },
   {
    "duration": 62,
    "start_time": "2022-05-10T09:28:45.559Z"
   },
   {
    "duration": 0,
    "start_time": "2022-05-10T09:28:45.632Z"
   },
   {
    "duration": 0,
    "start_time": "2022-05-10T09:28:45.633Z"
   },
   {
    "duration": 0,
    "start_time": "2022-05-10T09:28:45.634Z"
   },
   {
    "duration": 0,
    "start_time": "2022-05-10T09:28:45.636Z"
   },
   {
    "duration": 0,
    "start_time": "2022-05-10T09:28:45.637Z"
   },
   {
    "duration": 0,
    "start_time": "2022-05-10T09:28:45.640Z"
   },
   {
    "duration": 0,
    "start_time": "2022-05-10T09:28:45.647Z"
   },
   {
    "duration": 0,
    "start_time": "2022-05-10T09:28:45.649Z"
   },
   {
    "duration": 0,
    "start_time": "2022-05-10T09:28:45.651Z"
   },
   {
    "duration": 0,
    "start_time": "2022-05-10T09:28:45.652Z"
   },
   {
    "duration": 0,
    "start_time": "2022-05-10T09:28:45.653Z"
   },
   {
    "duration": 0,
    "start_time": "2022-05-10T09:28:45.654Z"
   },
   {
    "duration": 0,
    "start_time": "2022-05-10T09:28:45.655Z"
   },
   {
    "duration": 0,
    "start_time": "2022-05-10T09:28:45.656Z"
   },
   {
    "duration": 0,
    "start_time": "2022-05-10T09:28:45.656Z"
   },
   {
    "duration": 0,
    "start_time": "2022-05-10T09:28:45.657Z"
   },
   {
    "duration": 0,
    "start_time": "2022-05-10T09:28:45.659Z"
   },
   {
    "duration": 0,
    "start_time": "2022-05-10T09:28:45.660Z"
   },
   {
    "duration": 0,
    "start_time": "2022-05-10T09:28:45.661Z"
   },
   {
    "duration": 0,
    "start_time": "2022-05-10T09:28:45.662Z"
   },
   {
    "duration": 0,
    "start_time": "2022-05-10T09:28:45.664Z"
   },
   {
    "duration": 0,
    "start_time": "2022-05-10T09:28:45.666Z"
   },
   {
    "duration": 0,
    "start_time": "2022-05-10T09:28:45.667Z"
   },
   {
    "duration": 0,
    "start_time": "2022-05-10T09:28:45.668Z"
   },
   {
    "duration": 0,
    "start_time": "2022-05-10T09:28:45.669Z"
   },
   {
    "duration": 0,
    "start_time": "2022-05-10T09:28:45.670Z"
   },
   {
    "duration": 2905,
    "start_time": "2022-05-10T09:29:26.966Z"
   },
   {
    "duration": 14,
    "start_time": "2022-05-10T09:35:36.728Z"
   },
   {
    "duration": 21,
    "start_time": "2022-05-10T09:35:59.658Z"
   },
   {
    "duration": 16,
    "start_time": "2022-05-10T09:37:00.884Z"
   },
   {
    "duration": 148,
    "start_time": "2022-05-10T09:47:09.459Z"
   },
   {
    "duration": 52,
    "start_time": "2022-05-10T09:47:37.740Z"
   },
   {
    "duration": 55,
    "start_time": "2022-05-10T09:48:03.527Z"
   },
   {
    "duration": 387,
    "start_time": "2022-05-10T09:48:11.960Z"
   },
   {
    "duration": 89,
    "start_time": "2022-05-10T09:48:12.350Z"
   },
   {
    "duration": 25,
    "start_time": "2022-05-10T09:48:12.444Z"
   },
   {
    "duration": 16,
    "start_time": "2022-05-10T09:48:12.470Z"
   },
   {
    "duration": 5,
    "start_time": "2022-05-10T09:48:12.488Z"
   },
   {
    "duration": 4,
    "start_time": "2022-05-10T09:48:12.494Z"
   },
   {
    "duration": 29,
    "start_time": "2022-05-10T09:48:12.499Z"
   },
   {
    "duration": 5,
    "start_time": "2022-05-10T09:48:12.529Z"
   },
   {
    "duration": 39,
    "start_time": "2022-05-10T09:48:12.536Z"
   },
   {
    "duration": 39,
    "start_time": "2022-05-10T09:48:12.576Z"
   },
   {
    "duration": 14,
    "start_time": "2022-05-10T09:48:12.617Z"
   },
   {
    "duration": 14,
    "start_time": "2022-05-10T09:48:12.637Z"
   },
   {
    "duration": 7,
    "start_time": "2022-05-10T09:48:12.653Z"
   },
   {
    "duration": 16,
    "start_time": "2022-05-10T09:48:12.664Z"
   },
   {
    "duration": 19,
    "start_time": "2022-05-10T09:48:12.682Z"
   },
   {
    "duration": 36,
    "start_time": "2022-05-10T09:48:12.703Z"
   },
   {
    "duration": 28,
    "start_time": "2022-05-10T09:48:12.741Z"
   },
   {
    "duration": 14,
    "start_time": "2022-05-10T09:48:12.771Z"
   },
   {
    "duration": 5,
    "start_time": "2022-05-10T09:48:12.787Z"
   },
   {
    "duration": 8,
    "start_time": "2022-05-10T09:48:12.794Z"
   },
   {
    "duration": 28,
    "start_time": "2022-05-10T09:48:12.803Z"
   },
   {
    "duration": 28,
    "start_time": "2022-05-10T09:48:12.833Z"
   },
   {
    "duration": 497,
    "start_time": "2022-05-10T09:48:12.864Z"
   },
   {
    "duration": 12,
    "start_time": "2022-05-10T09:48:13.364Z"
   },
   {
    "duration": 281,
    "start_time": "2022-05-10T09:48:13.378Z"
   },
   {
    "duration": 12,
    "start_time": "2022-05-10T09:48:13.663Z"
   },
   {
    "duration": 9,
    "start_time": "2022-05-10T09:48:13.676Z"
   },
   {
    "duration": 7,
    "start_time": "2022-05-10T09:48:13.686Z"
   },
   {
    "duration": 1191,
    "start_time": "2022-05-10T09:48:13.694Z"
   },
   {
    "duration": 13,
    "start_time": "2022-05-10T09:48:14.888Z"
   },
   {
    "duration": 171,
    "start_time": "2022-05-10T09:48:14.902Z"
   },
   {
    "duration": 20,
    "start_time": "2022-05-10T09:48:15.079Z"
   },
   {
    "duration": 158,
    "start_time": "2022-05-10T09:48:15.101Z"
   },
   {
    "duration": 14,
    "start_time": "2022-05-10T09:48:15.260Z"
   },
   {
    "duration": 136,
    "start_time": "2022-05-10T09:48:15.276Z"
   },
   {
    "duration": 63,
    "start_time": "2022-05-10T09:54:51.416Z"
   },
   {
    "duration": 12,
    "start_time": "2022-05-10T09:57:39.458Z"
   },
   {
    "duration": 6,
    "start_time": "2022-05-10T09:58:07.096Z"
   },
   {
    "duration": 5,
    "start_time": "2022-05-10T09:58:38.098Z"
   },
   {
    "duration": 152,
    "start_time": "2022-05-10T10:16:30.290Z"
   },
   {
    "duration": 134,
    "start_time": "2022-05-10T10:16:51.397Z"
   },
   {
    "duration": 104,
    "start_time": "2022-05-10T10:17:24.364Z"
   },
   {
    "duration": 9,
    "start_time": "2022-05-10T10:17:39.140Z"
   },
   {
    "duration": 11,
    "start_time": "2022-05-10T10:17:53.902Z"
   },
   {
    "duration": 21,
    "start_time": "2022-05-10T10:18:21.837Z"
   },
   {
    "duration": 19,
    "start_time": "2022-05-10T10:18:33.537Z"
   },
   {
    "duration": 17,
    "start_time": "2022-05-10T10:18:51.736Z"
   },
   {
    "duration": 19,
    "start_time": "2022-05-10T10:18:57.564Z"
   },
   {
    "duration": 17,
    "start_time": "2022-05-10T10:19:32.835Z"
   },
   {
    "duration": 14,
    "start_time": "2022-05-10T10:19:55.361Z"
   },
   {
    "duration": 14,
    "start_time": "2022-05-10T10:20:34.868Z"
   },
   {
    "duration": 13,
    "start_time": "2022-05-10T10:20:52.692Z"
   },
   {
    "duration": 5,
    "start_time": "2022-05-10T10:21:02.902Z"
   },
   {
    "duration": 12,
    "start_time": "2022-05-10T10:21:49.516Z"
   },
   {
    "duration": 6,
    "start_time": "2022-05-10T10:21:50.692Z"
   },
   {
    "duration": 398,
    "start_time": "2022-05-10T10:22:25.590Z"
   },
   {
    "duration": 62,
    "start_time": "2022-05-10T10:22:25.990Z"
   },
   {
    "duration": 19,
    "start_time": "2022-05-10T10:22:26.054Z"
   },
   {
    "duration": 9,
    "start_time": "2022-05-10T10:22:26.076Z"
   },
   {
    "duration": 4,
    "start_time": "2022-05-10T10:22:26.086Z"
   },
   {
    "duration": 4,
    "start_time": "2022-05-10T10:22:26.091Z"
   },
   {
    "duration": 34,
    "start_time": "2022-05-10T10:22:26.097Z"
   },
   {
    "duration": 12,
    "start_time": "2022-05-10T10:22:26.132Z"
   },
   {
    "duration": 17,
    "start_time": "2022-05-10T10:22:26.145Z"
   },
   {
    "duration": 40,
    "start_time": "2022-05-10T10:22:26.164Z"
   },
   {
    "duration": 25,
    "start_time": "2022-05-10T10:22:26.205Z"
   },
   {
    "duration": 14,
    "start_time": "2022-05-10T10:22:26.232Z"
   },
   {
    "duration": 5,
    "start_time": "2022-05-10T10:22:26.247Z"
   },
   {
    "duration": 11,
    "start_time": "2022-05-10T10:22:26.254Z"
   },
   {
    "duration": 4,
    "start_time": "2022-05-10T10:22:26.266Z"
   },
   {
    "duration": 5,
    "start_time": "2022-05-10T10:22:26.272Z"
   },
   {
    "duration": 15,
    "start_time": "2022-05-10T10:22:26.278Z"
   },
   {
    "duration": 49,
    "start_time": "2022-05-10T10:22:26.294Z"
   },
   {
    "duration": 15,
    "start_time": "2022-05-10T10:22:26.344Z"
   },
   {
    "duration": 12,
    "start_time": "2022-05-10T10:22:26.360Z"
   },
   {
    "duration": 16,
    "start_time": "2022-05-10T10:22:26.373Z"
   },
   {
    "duration": 34,
    "start_time": "2022-05-10T10:22:26.390Z"
   },
   {
    "duration": 7,
    "start_time": "2022-05-10T10:22:26.432Z"
   },
   {
    "duration": 9,
    "start_time": "2022-05-10T10:22:26.441Z"
   },
   {
    "duration": 7,
    "start_time": "2022-05-10T10:22:26.451Z"
   },
   {
    "duration": 438,
    "start_time": "2022-05-10T10:22:26.460Z"
   },
   {
    "duration": 12,
    "start_time": "2022-05-10T10:22:26.900Z"
   },
   {
    "duration": 206,
    "start_time": "2022-05-10T10:22:26.915Z"
   },
   {
    "duration": 14,
    "start_time": "2022-05-10T10:22:27.124Z"
   },
   {
    "duration": 9,
    "start_time": "2022-05-10T10:22:27.139Z"
   },
   {
    "duration": 7,
    "start_time": "2022-05-10T10:22:27.149Z"
   },
   {
    "duration": 852,
    "start_time": "2022-05-10T10:22:27.157Z"
   },
   {
    "duration": 20,
    "start_time": "2022-05-10T10:22:28.011Z"
   },
   {
    "duration": 118,
    "start_time": "2022-05-10T10:22:28.040Z"
   },
   {
    "duration": 13,
    "start_time": "2022-05-10T10:22:28.160Z"
   },
   {
    "duration": 138,
    "start_time": "2022-05-10T10:22:28.175Z"
   },
   {
    "duration": 25,
    "start_time": "2022-05-10T10:22:28.315Z"
   },
   {
    "duration": 128,
    "start_time": "2022-05-10T10:22:28.341Z"
   },
   {
    "duration": 3,
    "start_time": "2022-05-10T10:23:53.079Z"
   },
   {
    "duration": 134,
    "start_time": "2022-05-10T10:24:15.563Z"
   },
   {
    "duration": 136,
    "start_time": "2022-05-10T10:24:29.349Z"
   },
   {
    "duration": 4,
    "start_time": "2022-05-10T10:25:41.897Z"
   },
   {
    "duration": 132,
    "start_time": "2022-05-10T10:26:36.858Z"
   },
   {
    "duration": 173,
    "start_time": "2022-05-10T10:27:27.119Z"
   },
   {
    "duration": 5,
    "start_time": "2022-05-10T10:27:35.744Z"
   },
   {
    "duration": 138,
    "start_time": "2022-05-10T10:27:48.556Z"
   },
   {
    "duration": 192,
    "start_time": "2022-05-10T10:28:08.378Z"
   },
   {
    "duration": 5,
    "start_time": "2022-05-10T10:28:09.708Z"
   },
   {
    "duration": 18,
    "start_time": "2022-05-10T10:28:47.516Z"
   },
   {
    "duration": 124,
    "start_time": "2022-05-10T10:32:37.172Z"
   },
   {
    "duration": 5,
    "start_time": "2022-05-10T10:35:35.536Z"
   },
   {
    "duration": 475,
    "start_time": "2022-05-10T10:35:45.454Z"
   },
   {
    "duration": 69,
    "start_time": "2022-05-10T10:35:45.932Z"
   },
   {
    "duration": 26,
    "start_time": "2022-05-10T10:35:46.003Z"
   },
   {
    "duration": 14,
    "start_time": "2022-05-10T10:35:46.032Z"
   },
   {
    "duration": 5,
    "start_time": "2022-05-10T10:35:46.048Z"
   },
   {
    "duration": 7,
    "start_time": "2022-05-10T10:35:46.054Z"
   },
   {
    "duration": 14,
    "start_time": "2022-05-10T10:35:46.062Z"
   },
   {
    "duration": 9,
    "start_time": "2022-05-10T10:35:46.077Z"
   },
   {
    "duration": 43,
    "start_time": "2022-05-10T10:35:46.087Z"
   },
   {
    "duration": 42,
    "start_time": "2022-05-10T10:35:46.133Z"
   },
   {
    "duration": 5,
    "start_time": "2022-05-10T10:35:46.177Z"
   },
   {
    "duration": 10,
    "start_time": "2022-05-10T10:35:46.183Z"
   },
   {
    "duration": 4,
    "start_time": "2022-05-10T10:35:46.195Z"
   },
   {
    "duration": 16,
    "start_time": "2022-05-10T10:35:46.232Z"
   },
   {
    "duration": 5,
    "start_time": "2022-05-10T10:35:46.250Z"
   },
   {
    "duration": 5,
    "start_time": "2022-05-10T10:35:46.257Z"
   },
   {
    "duration": 19,
    "start_time": "2022-05-10T10:35:46.264Z"
   },
   {
    "duration": 15,
    "start_time": "2022-05-10T10:35:46.284Z"
   },
   {
    "duration": 38,
    "start_time": "2022-05-10T10:35:46.300Z"
   },
   {
    "duration": 15,
    "start_time": "2022-05-10T10:35:46.341Z"
   },
   {
    "duration": 23,
    "start_time": "2022-05-10T10:35:46.358Z"
   },
   {
    "duration": 16,
    "start_time": "2022-05-10T10:35:46.384Z"
   },
   {
    "duration": 31,
    "start_time": "2022-05-10T10:35:46.402Z"
   },
   {
    "duration": 13,
    "start_time": "2022-05-10T10:35:46.435Z"
   },
   {
    "duration": 11,
    "start_time": "2022-05-10T10:35:46.449Z"
   },
   {
    "duration": 498,
    "start_time": "2022-05-10T10:35:46.463Z"
   },
   {
    "duration": 11,
    "start_time": "2022-05-10T10:35:46.963Z"
   },
   {
    "duration": 205,
    "start_time": "2022-05-10T10:35:46.977Z"
   },
   {
    "duration": 11,
    "start_time": "2022-05-10T10:35:47.184Z"
   },
   {
    "duration": 34,
    "start_time": "2022-05-10T10:35:47.196Z"
   },
   {
    "duration": 13,
    "start_time": "2022-05-10T10:35:47.232Z"
   },
   {
    "duration": 861,
    "start_time": "2022-05-10T10:35:47.246Z"
   },
   {
    "duration": 15,
    "start_time": "2022-05-10T10:35:48.109Z"
   },
   {
    "duration": 139,
    "start_time": "2022-05-10T10:35:48.126Z"
   },
   {
    "duration": 11,
    "start_time": "2022-05-10T10:35:48.267Z"
   },
   {
    "duration": 123,
    "start_time": "2022-05-10T10:35:48.280Z"
   },
   {
    "duration": 20,
    "start_time": "2022-05-10T10:35:48.404Z"
   },
   {
    "duration": 124,
    "start_time": "2022-05-10T10:35:48.425Z"
   },
   {
    "duration": 89,
    "start_time": "2022-05-10T10:40:32.450Z"
   },
   {
    "duration": 429,
    "start_time": "2022-05-10T10:40:46.515Z"
   },
   {
    "duration": 65,
    "start_time": "2022-05-10T10:40:46.946Z"
   },
   {
    "duration": 27,
    "start_time": "2022-05-10T10:40:47.013Z"
   },
   {
    "duration": 11,
    "start_time": "2022-05-10T10:40:47.042Z"
   },
   {
    "duration": 4,
    "start_time": "2022-05-10T10:40:47.055Z"
   },
   {
    "duration": 4,
    "start_time": "2022-05-10T10:40:47.061Z"
   },
   {
    "duration": 10,
    "start_time": "2022-05-10T10:40:47.066Z"
   },
   {
    "duration": 4,
    "start_time": "2022-05-10T10:40:47.078Z"
   },
   {
    "duration": 60,
    "start_time": "2022-05-10T10:40:47.084Z"
   },
   {
    "duration": 44,
    "start_time": "2022-05-10T10:40:47.146Z"
   },
   {
    "duration": 6,
    "start_time": "2022-05-10T10:40:47.192Z"
   },
   {
    "duration": 27,
    "start_time": "2022-05-10T10:40:47.200Z"
   },
   {
    "duration": 7,
    "start_time": "2022-05-10T10:40:47.236Z"
   },
   {
    "duration": 12,
    "start_time": "2022-05-10T10:40:47.246Z"
   },
   {
    "duration": 4,
    "start_time": "2022-05-10T10:40:47.260Z"
   },
   {
    "duration": 6,
    "start_time": "2022-05-10T10:40:47.266Z"
   },
   {
    "duration": 13,
    "start_time": "2022-05-10T10:40:47.273Z"
   },
   {
    "duration": 43,
    "start_time": "2022-05-10T10:40:47.288Z"
   },
   {
    "duration": 15,
    "start_time": "2022-05-10T10:40:47.333Z"
   },
   {
    "duration": 11,
    "start_time": "2022-05-10T10:40:47.350Z"
   },
   {
    "duration": 15,
    "start_time": "2022-05-10T10:40:47.363Z"
   },
   {
    "duration": 8,
    "start_time": "2022-05-10T10:40:47.379Z"
   },
   {
    "duration": 8,
    "start_time": "2022-05-10T10:40:47.388Z"
   },
   {
    "duration": 29,
    "start_time": "2022-05-10T10:40:47.398Z"
   },
   {
    "duration": 12,
    "start_time": "2022-05-10T10:40:47.430Z"
   },
   {
    "duration": 435,
    "start_time": "2022-05-10T10:40:47.444Z"
   },
   {
    "duration": 10,
    "start_time": "2022-05-10T10:40:47.881Z"
   },
   {
    "duration": 98,
    "start_time": "2022-05-10T10:40:47.893Z"
   },
   {
    "duration": 12,
    "start_time": "2022-05-10T10:40:47.992Z"
   },
   {
    "duration": 23,
    "start_time": "2022-05-10T10:40:48.005Z"
   },
   {
    "duration": 4,
    "start_time": "2022-05-10T10:40:48.031Z"
   },
   {
    "duration": 882,
    "start_time": "2022-05-10T10:40:48.037Z"
   },
   {
    "duration": 13,
    "start_time": "2022-05-10T10:40:48.920Z"
   },
   {
    "duration": 138,
    "start_time": "2022-05-10T10:40:48.935Z"
   },
   {
    "duration": 10,
    "start_time": "2022-05-10T10:40:49.074Z"
   },
   {
    "duration": 116,
    "start_time": "2022-05-10T10:40:49.086Z"
   },
   {
    "duration": 10,
    "start_time": "2022-05-10T10:40:49.204Z"
   },
   {
    "duration": 123,
    "start_time": "2022-05-10T10:40:49.225Z"
   },
   {
    "duration": 91,
    "start_time": "2022-05-10T10:42:07.262Z"
   },
   {
    "duration": 98,
    "start_time": "2022-05-10T10:43:08.655Z"
   },
   {
    "duration": 15,
    "start_time": "2022-05-10T10:43:16.169Z"
   },
   {
    "duration": 15,
    "start_time": "2022-05-10T10:43:29.468Z"
   },
   {
    "duration": 22,
    "start_time": "2022-05-10T10:44:24.614Z"
   },
   {
    "duration": 530,
    "start_time": "2022-05-10T10:44:44.019Z"
   },
   {
    "duration": 10,
    "start_time": "2022-05-10T10:45:30.835Z"
   },
   {
    "duration": 16,
    "start_time": "2022-05-10T10:47:04.422Z"
   },
   {
    "duration": 10,
    "start_time": "2022-05-10T10:48:02.778Z"
   },
   {
    "duration": 129,
    "start_time": "2022-05-10T10:48:19.584Z"
   },
   {
    "duration": 133,
    "start_time": "2022-05-10T10:48:37.574Z"
   },
   {
    "duration": 207,
    "start_time": "2022-05-10T11:06:31.237Z"
   },
   {
    "duration": 339,
    "start_time": "2022-05-10T11:06:41.425Z"
   },
   {
    "duration": 158,
    "start_time": "2022-05-10T11:06:52.110Z"
   },
   {
    "duration": 145,
    "start_time": "2022-05-10T11:07:01.539Z"
   },
   {
    "duration": 160,
    "start_time": "2022-05-10T11:07:30.981Z"
   },
   {
    "duration": 152,
    "start_time": "2022-05-10T11:07:53.505Z"
   },
   {
    "duration": 135,
    "start_time": "2022-05-10T11:08:01.765Z"
   },
   {
    "duration": 130,
    "start_time": "2022-05-10T11:08:08.657Z"
   },
   {
    "duration": 87,
    "start_time": "2022-05-10T11:09:03.318Z"
   },
   {
    "duration": 22,
    "start_time": "2022-05-10T11:12:47.859Z"
   },
   {
    "duration": 164,
    "start_time": "2022-05-10T11:15:58.716Z"
   },
   {
    "duration": 778,
    "start_time": "2022-05-10T11:16:03.401Z"
   },
   {
    "duration": 29,
    "start_time": "2022-05-10T11:16:57.912Z"
   },
   {
    "duration": 550,
    "start_time": "2022-05-10T11:17:12.433Z"
   },
   {
    "duration": 422,
    "start_time": "2022-05-10T11:17:27.315Z"
   },
   {
    "duration": 68,
    "start_time": "2022-05-10T11:17:27.739Z"
   },
   {
    "duration": 36,
    "start_time": "2022-05-10T11:17:27.809Z"
   },
   {
    "duration": 10,
    "start_time": "2022-05-10T11:17:27.847Z"
   },
   {
    "duration": 4,
    "start_time": "2022-05-10T11:17:27.859Z"
   },
   {
    "duration": 8,
    "start_time": "2022-05-10T11:17:27.864Z"
   },
   {
    "duration": 11,
    "start_time": "2022-05-10T11:17:27.874Z"
   },
   {
    "duration": 4,
    "start_time": "2022-05-10T11:17:27.886Z"
   },
   {
    "duration": 40,
    "start_time": "2022-05-10T11:17:27.891Z"
   },
   {
    "duration": 42,
    "start_time": "2022-05-10T11:17:27.935Z"
   },
   {
    "duration": 4,
    "start_time": "2022-05-10T11:17:27.979Z"
   },
   {
    "duration": 13,
    "start_time": "2022-05-10T11:17:27.985Z"
   },
   {
    "duration": 5,
    "start_time": "2022-05-10T11:17:27.999Z"
   },
   {
    "duration": 29,
    "start_time": "2022-05-10T11:17:28.005Z"
   },
   {
    "duration": 9,
    "start_time": "2022-05-10T11:17:28.037Z"
   },
   {
    "duration": 8,
    "start_time": "2022-05-10T11:17:28.047Z"
   },
   {
    "duration": 22,
    "start_time": "2022-05-10T11:17:28.056Z"
   },
   {
    "duration": 15,
    "start_time": "2022-05-10T11:17:28.080Z"
   },
   {
    "duration": 13,
    "start_time": "2022-05-10T11:17:28.096Z"
   },
   {
    "duration": 27,
    "start_time": "2022-05-10T11:17:28.111Z"
   },
   {
    "duration": 16,
    "start_time": "2022-05-10T11:17:28.139Z"
   },
   {
    "duration": 20,
    "start_time": "2022-05-10T11:17:28.156Z"
   },
   {
    "duration": 18,
    "start_time": "2022-05-10T11:17:28.178Z"
   },
   {
    "duration": 21,
    "start_time": "2022-05-10T11:17:28.198Z"
   },
   {
    "duration": 25,
    "start_time": "2022-05-10T11:17:28.220Z"
   },
   {
    "duration": 423,
    "start_time": "2022-05-10T11:17:28.246Z"
   },
   {
    "duration": 10,
    "start_time": "2022-05-10T11:17:28.671Z"
   },
   {
    "duration": 617,
    "start_time": "2022-05-10T11:17:28.683Z"
   },
   {
    "duration": 0,
    "start_time": "2022-05-10T11:17:29.302Z"
   },
   {
    "duration": 0,
    "start_time": "2022-05-10T11:17:29.303Z"
   },
   {
    "duration": 0,
    "start_time": "2022-05-10T11:17:29.304Z"
   },
   {
    "duration": 0,
    "start_time": "2022-05-10T11:17:29.305Z"
   },
   {
    "duration": 0,
    "start_time": "2022-05-10T11:17:29.306Z"
   },
   {
    "duration": 0,
    "start_time": "2022-05-10T11:17:29.307Z"
   },
   {
    "duration": 0,
    "start_time": "2022-05-10T11:17:29.308Z"
   },
   {
    "duration": 0,
    "start_time": "2022-05-10T11:17:29.309Z"
   },
   {
    "duration": 0,
    "start_time": "2022-05-10T11:17:29.310Z"
   },
   {
    "duration": 0,
    "start_time": "2022-05-10T11:17:29.311Z"
   },
   {
    "duration": 20,
    "start_time": "2022-05-10T11:23:55.583Z"
   },
   {
    "duration": 17,
    "start_time": "2022-05-10T11:33:16.096Z"
   },
   {
    "duration": 27,
    "start_time": "2022-05-10T11:35:25.124Z"
   },
   {
    "duration": 28,
    "start_time": "2022-05-10T11:36:20.928Z"
   },
   {
    "duration": 400,
    "start_time": "2022-05-10T11:37:01.717Z"
   },
   {
    "duration": 75,
    "start_time": "2022-05-10T11:37:02.119Z"
   },
   {
    "duration": 18,
    "start_time": "2022-05-10T11:37:02.195Z"
   },
   {
    "duration": 11,
    "start_time": "2022-05-10T11:37:02.215Z"
   },
   {
    "duration": 6,
    "start_time": "2022-05-10T11:37:02.228Z"
   },
   {
    "duration": 21,
    "start_time": "2022-05-10T11:37:02.235Z"
   },
   {
    "duration": 23,
    "start_time": "2022-05-10T11:37:02.258Z"
   },
   {
    "duration": 12,
    "start_time": "2022-05-10T11:37:02.282Z"
   },
   {
    "duration": 17,
    "start_time": "2022-05-10T11:37:02.296Z"
   },
   {
    "duration": 48,
    "start_time": "2022-05-10T11:37:02.316Z"
   },
   {
    "duration": 4,
    "start_time": "2022-05-10T11:37:02.366Z"
   },
   {
    "duration": 12,
    "start_time": "2022-05-10T11:37:02.372Z"
   },
   {
    "duration": 4,
    "start_time": "2022-05-10T11:37:02.385Z"
   },
   {
    "duration": 13,
    "start_time": "2022-05-10T11:37:02.391Z"
   },
   {
    "duration": 5,
    "start_time": "2022-05-10T11:37:02.405Z"
   },
   {
    "duration": 4,
    "start_time": "2022-05-10T11:37:02.411Z"
   },
   {
    "duration": 20,
    "start_time": "2022-05-10T11:37:02.417Z"
   },
   {
    "duration": 42,
    "start_time": "2022-05-10T11:37:02.439Z"
   },
   {
    "duration": 15,
    "start_time": "2022-05-10T11:37:02.482Z"
   },
   {
    "duration": 11,
    "start_time": "2022-05-10T11:37:02.499Z"
   },
   {
    "duration": 18,
    "start_time": "2022-05-10T11:37:02.512Z"
   },
   {
    "duration": 5,
    "start_time": "2022-05-10T11:37:02.531Z"
   },
   {
    "duration": 20,
    "start_time": "2022-05-10T11:37:02.537Z"
   },
   {
    "duration": 18,
    "start_time": "2022-05-10T11:37:02.559Z"
   },
   {
    "duration": 12,
    "start_time": "2022-05-10T11:37:02.579Z"
   },
   {
    "duration": 416,
    "start_time": "2022-05-10T11:37:02.592Z"
   },
   {
    "duration": 11,
    "start_time": "2022-05-10T11:37:03.010Z"
   },
   {
    "duration": 93,
    "start_time": "2022-05-10T11:37:03.026Z"
   },
   {
    "duration": 0,
    "start_time": "2022-05-10T11:37:03.121Z"
   },
   {
    "duration": 0,
    "start_time": "2022-05-10T11:37:03.122Z"
   },
   {
    "duration": 0,
    "start_time": "2022-05-10T11:37:03.124Z"
   },
   {
    "duration": 0,
    "start_time": "2022-05-10T11:37:03.125Z"
   },
   {
    "duration": 0,
    "start_time": "2022-05-10T11:37:03.126Z"
   },
   {
    "duration": 0,
    "start_time": "2022-05-10T11:37:03.127Z"
   },
   {
    "duration": 0,
    "start_time": "2022-05-10T11:37:03.129Z"
   },
   {
    "duration": 0,
    "start_time": "2022-05-10T11:37:03.147Z"
   },
   {
    "duration": 0,
    "start_time": "2022-05-10T11:37:03.148Z"
   },
   {
    "duration": 0,
    "start_time": "2022-05-10T11:37:03.149Z"
   },
   {
    "duration": 363,
    "start_time": "2022-05-10T11:42:37.313Z"
   },
   {
    "duration": 64,
    "start_time": "2022-05-10T11:42:37.678Z"
   },
   {
    "duration": 28,
    "start_time": "2022-05-10T11:42:37.744Z"
   },
   {
    "duration": 10,
    "start_time": "2022-05-10T11:42:37.774Z"
   },
   {
    "duration": 4,
    "start_time": "2022-05-10T11:42:37.787Z"
   },
   {
    "duration": 5,
    "start_time": "2022-05-10T11:42:37.793Z"
   },
   {
    "duration": 10,
    "start_time": "2022-05-10T11:42:37.799Z"
   },
   {
    "duration": 4,
    "start_time": "2022-05-10T11:42:37.810Z"
   },
   {
    "duration": 24,
    "start_time": "2022-05-10T11:42:37.847Z"
   },
   {
    "duration": 80,
    "start_time": "2022-05-10T11:42:37.873Z"
   },
   {
    "duration": 6,
    "start_time": "2022-05-10T11:42:37.954Z"
   },
   {
    "duration": 13,
    "start_time": "2022-05-10T11:42:37.964Z"
   },
   {
    "duration": 4,
    "start_time": "2022-05-10T11:42:37.979Z"
   },
   {
    "duration": 12,
    "start_time": "2022-05-10T11:42:37.986Z"
   },
   {
    "duration": 4,
    "start_time": "2022-05-10T11:42:38.000Z"
   },
   {
    "duration": 4,
    "start_time": "2022-05-10T11:42:38.006Z"
   },
   {
    "duration": 51,
    "start_time": "2022-05-10T11:42:38.011Z"
   },
   {
    "duration": 16,
    "start_time": "2022-05-10T11:42:38.065Z"
   },
   {
    "duration": 14,
    "start_time": "2022-05-10T11:42:38.082Z"
   },
   {
    "duration": 11,
    "start_time": "2022-05-10T11:42:38.098Z"
   },
   {
    "duration": 44,
    "start_time": "2022-05-10T11:42:38.111Z"
   },
   {
    "duration": 11,
    "start_time": "2022-05-10T11:42:38.157Z"
   },
   {
    "duration": 7,
    "start_time": "2022-05-10T11:42:38.169Z"
   },
   {
    "duration": 7,
    "start_time": "2022-05-10T11:42:38.178Z"
   },
   {
    "duration": 8,
    "start_time": "2022-05-10T11:42:38.187Z"
   },
   {
    "duration": 442,
    "start_time": "2022-05-10T11:42:38.196Z"
   },
   {
    "duration": 17,
    "start_time": "2022-05-10T11:42:38.639Z"
   },
   {
    "duration": 44780,
    "start_time": "2022-05-10T11:42:38.657Z"
   },
   {
    "duration": 23,
    "start_time": "2022-05-10T11:43:23.439Z"
   },
   {
    "duration": 22,
    "start_time": "2022-05-10T11:43:23.465Z"
   },
   {
    "duration": 4,
    "start_time": "2022-05-10T11:43:23.488Z"
   },
   {
    "duration": 1023,
    "start_time": "2022-05-10T11:43:23.493Z"
   },
   {
    "duration": 11,
    "start_time": "2022-05-10T11:43:24.517Z"
   },
   {
    "duration": 154,
    "start_time": "2022-05-10T11:43:24.530Z"
   },
   {
    "duration": 14,
    "start_time": "2022-05-10T11:43:24.686Z"
   },
   {
    "duration": 144,
    "start_time": "2022-05-10T11:43:24.702Z"
   },
   {
    "duration": 13,
    "start_time": "2022-05-10T11:43:24.851Z"
   },
   {
    "duration": 120,
    "start_time": "2022-05-10T11:43:24.866Z"
   },
   {
    "duration": 123,
    "start_time": "2022-05-10T11:44:21.914Z"
   },
   {
    "duration": 47655,
    "start_time": "2022-05-10T11:44:30.287Z"
   },
   {
    "duration": 383,
    "start_time": "2022-05-10T11:46:58.144Z"
   },
   {
    "duration": 45147,
    "start_time": "2022-05-10T11:47:35.765Z"
   },
   {
    "duration": 143,
    "start_time": "2022-05-10T11:56:51.729Z"
   },
   {
    "duration": 143,
    "start_time": "2022-05-10T11:56:57.375Z"
   },
   {
    "duration": 114,
    "start_time": "2022-05-10T11:57:19.823Z"
   },
   {
    "duration": 22,
    "start_time": "2022-05-10T12:07:55.618Z"
   },
   {
    "duration": 93,
    "start_time": "2022-05-10T12:11:57.335Z"
   },
   {
    "duration": 20,
    "start_time": "2022-05-10T12:12:47.504Z"
   },
   {
    "duration": 117,
    "start_time": "2022-05-10T12:18:09.359Z"
   },
   {
    "duration": 121,
    "start_time": "2022-05-10T12:18:35.299Z"
   },
   {
    "duration": 83,
    "start_time": "2022-05-10T12:18:41.888Z"
   },
   {
    "duration": 91,
    "start_time": "2022-05-10T12:19:30.047Z"
   },
   {
    "duration": 21,
    "start_time": "2022-05-10T12:21:06.307Z"
   },
   {
    "duration": 380,
    "start_time": "2022-05-10T12:34:05.655Z"
   },
   {
    "duration": 92,
    "start_time": "2022-05-10T12:41:45.786Z"
   },
   {
    "duration": 97,
    "start_time": "2022-05-10T12:42:00.793Z"
   },
   {
    "duration": 115,
    "start_time": "2022-05-10T12:44:41.274Z"
   },
   {
    "duration": 205,
    "start_time": "2022-05-10T12:45:11.598Z"
   },
   {
    "duration": 24,
    "start_time": "2022-05-10T12:45:35.510Z"
   },
   {
    "duration": 86,
    "start_time": "2022-05-10T12:45:57.520Z"
   },
   {
    "duration": 84,
    "start_time": "2022-05-10T12:51:09.998Z"
   },
   {
    "duration": 70,
    "start_time": "2022-05-10T12:51:46.686Z"
   },
   {
    "duration": 94,
    "start_time": "2022-05-10T12:52:06.922Z"
   },
   {
    "duration": 412,
    "start_time": "2022-05-10T12:53:21.883Z"
   },
   {
    "duration": 412,
    "start_time": "2022-05-10T12:55:28.911Z"
   },
   {
    "duration": 25,
    "start_time": "2022-05-10T12:55:42.768Z"
   },
   {
    "duration": 49,
    "start_time": "2022-05-10T12:56:03.444Z"
   },
   {
    "duration": 108,
    "start_time": "2022-05-10T12:56:59.341Z"
   },
   {
    "duration": 429,
    "start_time": "2022-05-10T12:57:48.341Z"
   },
   {
    "duration": 110,
    "start_time": "2022-05-10T12:57:48.771Z"
   },
   {
    "duration": 20,
    "start_time": "2022-05-10T12:57:48.883Z"
   },
   {
    "duration": 9,
    "start_time": "2022-05-10T12:57:48.905Z"
   },
   {
    "duration": 5,
    "start_time": "2022-05-10T12:57:48.915Z"
   },
   {
    "duration": 28,
    "start_time": "2022-05-10T12:57:48.921Z"
   },
   {
    "duration": 21,
    "start_time": "2022-05-10T12:57:48.951Z"
   },
   {
    "duration": 5,
    "start_time": "2022-05-10T12:57:48.976Z"
   },
   {
    "duration": 18,
    "start_time": "2022-05-10T12:57:48.983Z"
   },
   {
    "duration": 65,
    "start_time": "2022-05-10T12:57:49.004Z"
   },
   {
    "duration": 6,
    "start_time": "2022-05-10T12:57:49.071Z"
   },
   {
    "duration": 16,
    "start_time": "2022-05-10T12:57:49.079Z"
   },
   {
    "duration": 5,
    "start_time": "2022-05-10T12:57:49.097Z"
   },
   {
    "duration": 19,
    "start_time": "2022-05-10T12:57:49.104Z"
   },
   {
    "duration": 31,
    "start_time": "2022-05-10T12:57:49.125Z"
   },
   {
    "duration": 7,
    "start_time": "2022-05-10T12:57:49.158Z"
   },
   {
    "duration": 15,
    "start_time": "2022-05-10T12:57:49.167Z"
   },
   {
    "duration": 15,
    "start_time": "2022-05-10T12:57:49.184Z"
   },
   {
    "duration": 13,
    "start_time": "2022-05-10T12:57:49.200Z"
   },
   {
    "duration": 10,
    "start_time": "2022-05-10T12:57:49.215Z"
   },
   {
    "duration": 43,
    "start_time": "2022-05-10T12:57:49.226Z"
   },
   {
    "duration": 5,
    "start_time": "2022-05-10T12:57:49.271Z"
   },
   {
    "duration": 8,
    "start_time": "2022-05-10T12:57:49.278Z"
   },
   {
    "duration": 6,
    "start_time": "2022-05-10T12:57:49.288Z"
   },
   {
    "duration": 9,
    "start_time": "2022-05-10T12:57:49.296Z"
   },
   {
    "duration": 444,
    "start_time": "2022-05-10T12:57:49.307Z"
   },
   {
    "duration": 14,
    "start_time": "2022-05-10T12:57:49.753Z"
   },
   {
    "duration": 102,
    "start_time": "2022-05-10T12:57:49.770Z"
   },
   {
    "duration": 14,
    "start_time": "2022-05-10T12:57:49.874Z"
   },
   {
    "duration": 11,
    "start_time": "2022-05-10T12:57:49.890Z"
   },
   {
    "duration": 4,
    "start_time": "2022-05-10T12:57:49.903Z"
   },
   {
    "duration": 936,
    "start_time": "2022-05-10T12:57:49.909Z"
   },
   {
    "duration": 12,
    "start_time": "2022-05-10T12:57:50.848Z"
   },
   {
    "duration": 141,
    "start_time": "2022-05-10T12:57:50.862Z"
   },
   {
    "duration": 10,
    "start_time": "2022-05-10T12:57:51.004Z"
   },
   {
    "duration": 123,
    "start_time": "2022-05-10T12:57:51.016Z"
   },
   {
    "duration": 12,
    "start_time": "2022-05-10T12:57:51.141Z"
   },
   {
    "duration": 120,
    "start_time": "2022-05-10T12:57:51.155Z"
   },
   {
    "duration": 373,
    "start_time": "2022-05-10T12:58:35.682Z"
   },
   {
    "duration": 67,
    "start_time": "2022-05-10T12:58:36.057Z"
   },
   {
    "duration": 30,
    "start_time": "2022-05-10T12:58:36.125Z"
   },
   {
    "duration": 14,
    "start_time": "2022-05-10T12:58:36.157Z"
   },
   {
    "duration": 4,
    "start_time": "2022-05-10T12:58:36.173Z"
   },
   {
    "duration": 4,
    "start_time": "2022-05-10T12:58:36.179Z"
   },
   {
    "duration": 10,
    "start_time": "2022-05-10T12:58:36.184Z"
   },
   {
    "duration": 4,
    "start_time": "2022-05-10T12:58:36.195Z"
   },
   {
    "duration": 17,
    "start_time": "2022-05-10T12:58:36.200Z"
   },
   {
    "duration": 42,
    "start_time": "2022-05-10T12:58:36.254Z"
   },
   {
    "duration": 6,
    "start_time": "2022-05-10T12:58:36.298Z"
   },
   {
    "duration": 10,
    "start_time": "2022-05-10T12:58:36.305Z"
   },
   {
    "duration": 5,
    "start_time": "2022-05-10T12:58:36.316Z"
   },
   {
    "duration": 37,
    "start_time": "2022-05-10T12:58:36.322Z"
   },
   {
    "duration": 5,
    "start_time": "2022-05-10T12:58:36.361Z"
   },
   {
    "duration": 6,
    "start_time": "2022-05-10T12:58:36.367Z"
   },
   {
    "duration": 14,
    "start_time": "2022-05-10T12:58:36.374Z"
   },
   {
    "duration": 13,
    "start_time": "2022-05-10T12:58:36.390Z"
   },
   {
    "duration": 13,
    "start_time": "2022-05-10T12:58:36.405Z"
   },
   {
    "duration": 44,
    "start_time": "2022-05-10T12:58:36.419Z"
   },
   {
    "duration": 15,
    "start_time": "2022-05-10T12:58:36.464Z"
   },
   {
    "duration": 6,
    "start_time": "2022-05-10T12:58:36.481Z"
   },
   {
    "duration": 6,
    "start_time": "2022-05-10T12:58:36.488Z"
   },
   {
    "duration": 7,
    "start_time": "2022-05-10T12:58:36.496Z"
   },
   {
    "duration": 6,
    "start_time": "2022-05-10T12:58:36.504Z"
   },
   {
    "duration": 440,
    "start_time": "2022-05-10T12:58:36.512Z"
   },
   {
    "duration": 12,
    "start_time": "2022-05-10T12:58:36.954Z"
   },
   {
    "duration": 97,
    "start_time": "2022-05-10T12:58:36.970Z"
   },
   {
    "duration": 0,
    "start_time": "2022-05-10T12:58:37.069Z"
   },
   {
    "duration": 0,
    "start_time": "2022-05-10T12:58:37.070Z"
   },
   {
    "duration": 0,
    "start_time": "2022-05-10T12:58:37.072Z"
   },
   {
    "duration": 0,
    "start_time": "2022-05-10T12:58:37.073Z"
   },
   {
    "duration": 0,
    "start_time": "2022-05-10T12:58:37.074Z"
   },
   {
    "duration": 0,
    "start_time": "2022-05-10T12:58:37.076Z"
   },
   {
    "duration": 0,
    "start_time": "2022-05-10T12:58:37.077Z"
   },
   {
    "duration": 0,
    "start_time": "2022-05-10T12:58:37.079Z"
   },
   {
    "duration": 0,
    "start_time": "2022-05-10T12:58:37.080Z"
   },
   {
    "duration": 0,
    "start_time": "2022-05-10T12:58:37.082Z"
   },
   {
    "duration": 357,
    "start_time": "2022-05-10T12:59:28.897Z"
   },
   {
    "duration": 72,
    "start_time": "2022-05-10T12:59:29.256Z"
   },
   {
    "duration": 33,
    "start_time": "2022-05-10T12:59:29.330Z"
   },
   {
    "duration": 11,
    "start_time": "2022-05-10T12:59:29.369Z"
   },
   {
    "duration": 8,
    "start_time": "2022-05-10T12:59:29.381Z"
   },
   {
    "duration": 5,
    "start_time": "2022-05-10T12:59:29.391Z"
   },
   {
    "duration": 19,
    "start_time": "2022-05-10T12:59:29.398Z"
   },
   {
    "duration": 4,
    "start_time": "2022-05-10T12:59:29.419Z"
   },
   {
    "duration": 54,
    "start_time": "2022-05-10T12:59:29.425Z"
   },
   {
    "duration": 69,
    "start_time": "2022-05-10T12:59:29.483Z"
   },
   {
    "duration": 6,
    "start_time": "2022-05-10T12:59:29.555Z"
   },
   {
    "duration": 27,
    "start_time": "2022-05-10T12:59:29.565Z"
   },
   {
    "duration": 7,
    "start_time": "2022-05-10T12:59:29.593Z"
   },
   {
    "duration": 18,
    "start_time": "2022-05-10T12:59:29.602Z"
   },
   {
    "duration": 6,
    "start_time": "2022-05-10T12:59:29.621Z"
   },
   {
    "duration": 8,
    "start_time": "2022-05-10T12:59:29.648Z"
   },
   {
    "duration": 26,
    "start_time": "2022-05-10T12:59:29.664Z"
   },
   {
    "duration": 19,
    "start_time": "2022-05-10T12:59:29.692Z"
   },
   {
    "duration": 20,
    "start_time": "2022-05-10T12:59:29.713Z"
   },
   {
    "duration": 30,
    "start_time": "2022-05-10T12:59:29.735Z"
   },
   {
    "duration": 17,
    "start_time": "2022-05-10T12:59:29.769Z"
   },
   {
    "duration": 5,
    "start_time": "2022-05-10T12:59:29.788Z"
   },
   {
    "duration": 8,
    "start_time": "2022-05-10T12:59:29.795Z"
   },
   {
    "duration": 8,
    "start_time": "2022-05-10T12:59:29.805Z"
   },
   {
    "duration": 39,
    "start_time": "2022-05-10T12:59:29.815Z"
   },
   {
    "duration": 429,
    "start_time": "2022-05-10T12:59:29.856Z"
   },
   {
    "duration": 12,
    "start_time": "2022-05-10T12:59:30.287Z"
   },
   {
    "duration": 89,
    "start_time": "2022-05-10T12:59:30.303Z"
   },
   {
    "duration": 0,
    "start_time": "2022-05-10T12:59:30.394Z"
   },
   {
    "duration": 0,
    "start_time": "2022-05-10T12:59:30.396Z"
   },
   {
    "duration": 0,
    "start_time": "2022-05-10T12:59:30.397Z"
   },
   {
    "duration": 1,
    "start_time": "2022-05-10T12:59:30.398Z"
   },
   {
    "duration": 0,
    "start_time": "2022-05-10T12:59:30.400Z"
   },
   {
    "duration": 0,
    "start_time": "2022-05-10T12:59:30.401Z"
   },
   {
    "duration": 0,
    "start_time": "2022-05-10T12:59:30.403Z"
   },
   {
    "duration": 0,
    "start_time": "2022-05-10T12:59:30.404Z"
   },
   {
    "duration": 0,
    "start_time": "2022-05-10T12:59:30.405Z"
   },
   {
    "duration": 0,
    "start_time": "2022-05-10T12:59:30.406Z"
   },
   {
    "duration": 22,
    "start_time": "2022-05-10T13:05:06.809Z"
   },
   {
    "duration": 9,
    "start_time": "2022-05-10T13:05:27.529Z"
   },
   {
    "duration": 96,
    "start_time": "2022-05-10T13:05:38.291Z"
   },
   {
    "duration": 397,
    "start_time": "2022-05-10T13:06:05.089Z"
   },
   {
    "duration": 99,
    "start_time": "2022-05-10T13:06:05.489Z"
   },
   {
    "duration": 31,
    "start_time": "2022-05-10T13:06:05.590Z"
   },
   {
    "duration": 36,
    "start_time": "2022-05-10T13:06:05.623Z"
   },
   {
    "duration": 7,
    "start_time": "2022-05-10T13:06:05.663Z"
   },
   {
    "duration": 27,
    "start_time": "2022-05-10T13:06:05.672Z"
   },
   {
    "duration": 24,
    "start_time": "2022-05-10T13:06:05.701Z"
   },
   {
    "duration": 4,
    "start_time": "2022-05-10T13:06:05.727Z"
   },
   {
    "duration": 51,
    "start_time": "2022-05-10T13:06:05.733Z"
   },
   {
    "duration": 86,
    "start_time": "2022-05-10T13:06:05.787Z"
   },
   {
    "duration": 5,
    "start_time": "2022-05-10T13:06:05.875Z"
   },
   {
    "duration": 56,
    "start_time": "2022-05-10T13:06:05.882Z"
   },
   {
    "duration": 23,
    "start_time": "2022-05-10T13:06:05.940Z"
   },
   {
    "duration": 32,
    "start_time": "2022-05-10T13:06:05.965Z"
   },
   {
    "duration": 16,
    "start_time": "2022-05-10T13:06:05.998Z"
   },
   {
    "duration": 17,
    "start_time": "2022-05-10T13:06:06.015Z"
   },
   {
    "duration": 36,
    "start_time": "2022-05-10T13:06:06.033Z"
   },
   {
    "duration": 37,
    "start_time": "2022-05-10T13:06:06.071Z"
   },
   {
    "duration": 15,
    "start_time": "2022-05-10T13:06:06.110Z"
   },
   {
    "duration": 15,
    "start_time": "2022-05-10T13:06:06.128Z"
   },
   {
    "duration": 56,
    "start_time": "2022-05-10T13:06:06.144Z"
   },
   {
    "duration": 10,
    "start_time": "2022-05-10T13:06:06.202Z"
   },
   {
    "duration": 17,
    "start_time": "2022-05-10T13:06:06.214Z"
   },
   {
    "duration": 29,
    "start_time": "2022-05-10T13:06:06.233Z"
   },
   {
    "duration": 32,
    "start_time": "2022-05-10T13:06:06.264Z"
   },
   {
    "duration": 519,
    "start_time": "2022-05-10T13:06:06.298Z"
   },
   {
    "duration": 10,
    "start_time": "2022-05-10T13:06:06.820Z"
   },
   {
    "duration": 92,
    "start_time": "2022-05-10T13:06:06.833Z"
   },
   {
    "duration": 11,
    "start_time": "2022-05-10T13:06:06.927Z"
   },
   {
    "duration": 16,
    "start_time": "2022-05-10T13:06:06.947Z"
   },
   {
    "duration": 25,
    "start_time": "2022-05-10T13:06:06.965Z"
   },
   {
    "duration": 1160,
    "start_time": "2022-05-10T13:06:06.992Z"
   },
   {
    "duration": 12,
    "start_time": "2022-05-10T13:06:08.154Z"
   },
   {
    "duration": 149,
    "start_time": "2022-05-10T13:06:08.168Z"
   },
   {
    "duration": 9,
    "start_time": "2022-05-10T13:06:08.319Z"
   },
   {
    "duration": 120,
    "start_time": "2022-05-10T13:06:08.329Z"
   },
   {
    "duration": 13,
    "start_time": "2022-05-10T13:06:08.452Z"
   },
   {
    "duration": 150,
    "start_time": "2022-05-10T13:06:08.467Z"
   },
   {
    "duration": 379,
    "start_time": "2022-05-10T13:07:56.106Z"
   },
   {
    "duration": 109,
    "start_time": "2022-05-10T13:07:56.487Z"
   },
   {
    "duration": 23,
    "start_time": "2022-05-10T13:07:56.599Z"
   },
   {
    "duration": 9,
    "start_time": "2022-05-10T13:07:56.624Z"
   },
   {
    "duration": 15,
    "start_time": "2022-05-10T13:07:56.635Z"
   },
   {
    "duration": 8,
    "start_time": "2022-05-10T13:07:56.652Z"
   },
   {
    "duration": 46,
    "start_time": "2022-05-10T13:07:56.662Z"
   },
   {
    "duration": 7,
    "start_time": "2022-05-10T13:07:56.710Z"
   },
   {
    "duration": 17,
    "start_time": "2022-05-10T13:07:56.719Z"
   },
   {
    "duration": 74,
    "start_time": "2022-05-10T13:07:56.738Z"
   },
   {
    "duration": 8,
    "start_time": "2022-05-10T13:07:56.814Z"
   },
   {
    "duration": 17,
    "start_time": "2022-05-10T13:07:56.824Z"
   },
   {
    "duration": 4,
    "start_time": "2022-05-10T13:07:56.843Z"
   },
   {
    "duration": 62,
    "start_time": "2022-05-10T13:07:56.849Z"
   },
   {
    "duration": 6,
    "start_time": "2022-05-10T13:07:56.913Z"
   },
   {
    "duration": 5,
    "start_time": "2022-05-10T13:07:56.920Z"
   },
   {
    "duration": 30,
    "start_time": "2022-05-10T13:07:56.927Z"
   },
   {
    "duration": 23,
    "start_time": "2022-05-10T13:07:56.959Z"
   },
   {
    "duration": 22,
    "start_time": "2022-05-10T13:07:56.984Z"
   },
   {
    "duration": 12,
    "start_time": "2022-05-10T13:07:57.008Z"
   },
   {
    "duration": 15,
    "start_time": "2022-05-10T13:07:57.021Z"
   },
   {
    "duration": 48,
    "start_time": "2022-05-10T13:07:57.038Z"
   },
   {
    "duration": 10,
    "start_time": "2022-05-10T13:07:57.090Z"
   },
   {
    "duration": 9,
    "start_time": "2022-05-10T13:07:57.102Z"
   },
   {
    "duration": 10,
    "start_time": "2022-05-10T13:07:57.112Z"
   },
   {
    "duration": 493,
    "start_time": "2022-05-10T13:07:57.124Z"
   },
   {
    "duration": 10,
    "start_time": "2022-05-10T13:07:57.618Z"
   },
   {
    "duration": 10286,
    "start_time": "2022-05-10T13:07:57.632Z"
   },
   {
    "duration": 11,
    "start_time": "2022-05-10T13:08:07.920Z"
   },
   {
    "duration": 23,
    "start_time": "2022-05-10T13:08:07.933Z"
   },
   {
    "duration": 31,
    "start_time": "2022-05-10T13:08:07.959Z"
   },
   {
    "duration": 1040,
    "start_time": "2022-05-10T13:08:07.993Z"
   },
   {
    "duration": 19,
    "start_time": "2022-05-10T13:08:09.035Z"
   },
   {
    "duration": 140,
    "start_time": "2022-05-10T13:08:09.058Z"
   },
   {
    "duration": 12,
    "start_time": "2022-05-10T13:08:09.200Z"
   },
   {
    "duration": 165,
    "start_time": "2022-05-10T13:08:09.214Z"
   },
   {
    "duration": 13,
    "start_time": "2022-05-10T13:08:09.384Z"
   },
   {
    "duration": 118,
    "start_time": "2022-05-10T13:08:09.398Z"
   },
   {
    "duration": 1116,
    "start_time": "2022-05-10T13:09:02.130Z"
   },
   {
    "duration": 133,
    "start_time": "2022-05-10T13:09:03.250Z"
   },
   {
    "duration": 20,
    "start_time": "2022-05-10T13:09:03.385Z"
   },
   {
    "duration": 9,
    "start_time": "2022-05-10T13:09:03.407Z"
   },
   {
    "duration": 11,
    "start_time": "2022-05-10T13:09:03.417Z"
   },
   {
    "duration": 7,
    "start_time": "2022-05-10T13:09:03.430Z"
   },
   {
    "duration": 14,
    "start_time": "2022-05-10T13:09:03.456Z"
   },
   {
    "duration": 26,
    "start_time": "2022-05-10T13:09:03.472Z"
   },
   {
    "duration": 20,
    "start_time": "2022-05-10T13:09:03.500Z"
   },
   {
    "duration": 54,
    "start_time": "2022-05-10T13:09:03.523Z"
   },
   {
    "duration": 15,
    "start_time": "2022-05-10T13:09:03.578Z"
   },
   {
    "duration": 14,
    "start_time": "2022-05-10T13:09:03.595Z"
   },
   {
    "duration": 5,
    "start_time": "2022-05-10T13:09:03.611Z"
   },
   {
    "duration": 31,
    "start_time": "2022-05-10T13:09:03.618Z"
   },
   {
    "duration": 7,
    "start_time": "2022-05-10T13:09:03.651Z"
   },
   {
    "duration": 33,
    "start_time": "2022-05-10T13:09:03.659Z"
   },
   {
    "duration": 16,
    "start_time": "2022-05-10T13:09:03.693Z"
   },
   {
    "duration": 14,
    "start_time": "2022-05-10T13:09:03.710Z"
   },
   {
    "duration": 15,
    "start_time": "2022-05-10T13:09:03.726Z"
   },
   {
    "duration": 24,
    "start_time": "2022-05-10T13:09:03.743Z"
   },
   {
    "duration": 41,
    "start_time": "2022-05-10T13:09:03.768Z"
   },
   {
    "duration": 6,
    "start_time": "2022-05-10T13:09:03.810Z"
   },
   {
    "duration": 13,
    "start_time": "2022-05-10T13:09:03.818Z"
   },
   {
    "duration": 6,
    "start_time": "2022-05-10T13:09:03.833Z"
   },
   {
    "duration": 15,
    "start_time": "2022-05-10T13:09:03.841Z"
   },
   {
    "duration": 464,
    "start_time": "2022-05-10T13:09:03.860Z"
   },
   {
    "duration": 10,
    "start_time": "2022-05-10T13:09:04.325Z"
   },
   {
    "duration": 26074,
    "start_time": "2022-05-10T13:09:04.349Z"
   },
   {
    "duration": 12,
    "start_time": "2022-05-10T13:09:30.425Z"
   },
   {
    "duration": 12,
    "start_time": "2022-05-10T13:09:30.447Z"
   },
   {
    "duration": 38,
    "start_time": "2022-05-10T13:09:30.461Z"
   },
   {
    "duration": 2127,
    "start_time": "2022-05-10T13:09:30.501Z"
   },
   {
    "duration": 19,
    "start_time": "2022-05-10T13:09:32.630Z"
   },
   {
    "duration": 134,
    "start_time": "2022-05-10T13:09:32.651Z"
   },
   {
    "duration": 10,
    "start_time": "2022-05-10T13:09:32.787Z"
   },
   {
    "duration": 139,
    "start_time": "2022-05-10T13:09:32.799Z"
   },
   {
    "duration": 18,
    "start_time": "2022-05-10T13:09:32.939Z"
   },
   {
    "duration": 134,
    "start_time": "2022-05-10T13:09:32.958Z"
   },
   {
    "duration": 433,
    "start_time": "2022-05-10T13:17:14.296Z"
   },
   {
    "duration": 93,
    "start_time": "2022-05-10T13:17:14.731Z"
   },
   {
    "duration": 39,
    "start_time": "2022-05-10T13:17:14.826Z"
   },
   {
    "duration": 41,
    "start_time": "2022-05-10T13:17:14.867Z"
   },
   {
    "duration": 9,
    "start_time": "2022-05-10T13:17:14.910Z"
   },
   {
    "duration": 6,
    "start_time": "2022-05-10T13:17:14.921Z"
   },
   {
    "duration": 14,
    "start_time": "2022-05-10T13:17:14.929Z"
   },
   {
    "duration": 7,
    "start_time": "2022-05-10T13:17:14.945Z"
   },
   {
    "duration": 52,
    "start_time": "2022-05-10T13:17:14.958Z"
   },
   {
    "duration": 79,
    "start_time": "2022-05-10T13:17:15.011Z"
   },
   {
    "duration": 6,
    "start_time": "2022-05-10T13:17:15.092Z"
   },
   {
    "duration": 30,
    "start_time": "2022-05-10T13:17:15.101Z"
   },
   {
    "duration": 6,
    "start_time": "2022-05-10T13:17:15.132Z"
   },
   {
    "duration": 38,
    "start_time": "2022-05-10T13:17:15.141Z"
   },
   {
    "duration": 24,
    "start_time": "2022-05-10T13:17:15.181Z"
   },
   {
    "duration": 5,
    "start_time": "2022-05-10T13:17:15.207Z"
   },
   {
    "duration": 15,
    "start_time": "2022-05-10T13:17:15.213Z"
   },
   {
    "duration": 17,
    "start_time": "2022-05-10T13:17:15.229Z"
   },
   {
    "duration": 23,
    "start_time": "2022-05-10T13:17:15.247Z"
   },
   {
    "duration": 28,
    "start_time": "2022-05-10T13:17:15.272Z"
   },
   {
    "duration": 15,
    "start_time": "2022-05-10T13:17:15.302Z"
   },
   {
    "duration": 7,
    "start_time": "2022-05-10T13:17:15.319Z"
   },
   {
    "duration": 11,
    "start_time": "2022-05-10T13:17:15.328Z"
   },
   {
    "duration": 35,
    "start_time": "2022-05-10T13:17:15.355Z"
   },
   {
    "duration": 9,
    "start_time": "2022-05-10T13:17:15.392Z"
   },
   {
    "duration": 611,
    "start_time": "2022-05-10T13:17:15.403Z"
   },
   {
    "duration": 10,
    "start_time": "2022-05-10T13:17:16.015Z"
   },
   {
    "duration": 12445,
    "start_time": "2022-05-10T13:17:16.027Z"
   },
   {
    "duration": 28,
    "start_time": "2022-05-10T13:17:28.474Z"
   },
   {
    "duration": 20,
    "start_time": "2022-05-10T13:17:28.504Z"
   },
   {
    "duration": 5,
    "start_time": "2022-05-10T13:17:28.526Z"
   },
   {
    "duration": 1241,
    "start_time": "2022-05-10T13:17:28.533Z"
   },
   {
    "duration": 15,
    "start_time": "2022-05-10T13:17:29.776Z"
   },
   {
    "duration": 145,
    "start_time": "2022-05-10T13:17:29.793Z"
   },
   {
    "duration": 20,
    "start_time": "2022-05-10T13:17:29.940Z"
   },
   {
    "duration": 165,
    "start_time": "2022-05-10T13:17:29.962Z"
   },
   {
    "duration": 11,
    "start_time": "2022-05-10T13:17:30.129Z"
   },
   {
    "duration": 147,
    "start_time": "2022-05-10T13:17:30.142Z"
   },
   {
    "duration": 374,
    "start_time": "2022-05-10T13:23:52.014Z"
   },
   {
    "duration": 88,
    "start_time": "2022-05-10T13:23:52.390Z"
   },
   {
    "duration": 22,
    "start_time": "2022-05-10T13:23:52.482Z"
   },
   {
    "duration": 10,
    "start_time": "2022-05-10T13:23:52.506Z"
   },
   {
    "duration": 5,
    "start_time": "2022-05-10T13:23:52.519Z"
   },
   {
    "duration": 5,
    "start_time": "2022-05-10T13:23:52.525Z"
   },
   {
    "duration": 18,
    "start_time": "2022-05-10T13:23:52.564Z"
   },
   {
    "duration": 7,
    "start_time": "2022-05-10T13:23:52.584Z"
   },
   {
    "duration": 25,
    "start_time": "2022-05-10T13:23:52.593Z"
   },
   {
    "duration": 66,
    "start_time": "2022-05-10T13:23:52.620Z"
   },
   {
    "duration": 6,
    "start_time": "2022-05-10T13:23:52.688Z"
   },
   {
    "duration": 20,
    "start_time": "2022-05-10T13:23:52.695Z"
   },
   {
    "duration": 5,
    "start_time": "2022-05-10T13:23:52.716Z"
   },
   {
    "duration": 28,
    "start_time": "2022-05-10T13:23:52.724Z"
   },
   {
    "duration": 16,
    "start_time": "2022-05-10T13:23:52.753Z"
   },
   {
    "duration": 23,
    "start_time": "2022-05-10T13:23:52.771Z"
   },
   {
    "duration": 14,
    "start_time": "2022-05-10T13:23:52.796Z"
   },
   {
    "duration": 15,
    "start_time": "2022-05-10T13:23:52.812Z"
   },
   {
    "duration": 16,
    "start_time": "2022-05-10T13:23:52.829Z"
   },
   {
    "duration": 18,
    "start_time": "2022-05-10T13:23:52.847Z"
   },
   {
    "duration": 35,
    "start_time": "2022-05-10T13:23:52.867Z"
   },
   {
    "duration": 6,
    "start_time": "2022-05-10T13:23:52.904Z"
   },
   {
    "duration": 9,
    "start_time": "2022-05-10T13:23:52.911Z"
   },
   {
    "duration": 7,
    "start_time": "2022-05-10T13:23:52.921Z"
   },
   {
    "duration": 8,
    "start_time": "2022-05-10T13:23:52.930Z"
   },
   {
    "duration": 608,
    "start_time": "2022-05-10T13:23:52.940Z"
   },
   {
    "duration": 13,
    "start_time": "2022-05-10T13:23:53.550Z"
   },
   {
    "duration": 2453,
    "start_time": "2022-05-10T13:23:53.565Z"
   },
   {
    "duration": 0,
    "start_time": "2022-05-10T13:23:56.020Z"
   },
   {
    "duration": 0,
    "start_time": "2022-05-10T13:23:56.021Z"
   },
   {
    "duration": 0,
    "start_time": "2022-05-10T13:23:56.022Z"
   },
   {
    "duration": 0,
    "start_time": "2022-05-10T13:23:56.024Z"
   },
   {
    "duration": 0,
    "start_time": "2022-05-10T13:23:56.025Z"
   },
   {
    "duration": 0,
    "start_time": "2022-05-10T13:23:56.027Z"
   },
   {
    "duration": 0,
    "start_time": "2022-05-10T13:23:56.029Z"
   },
   {
    "duration": 0,
    "start_time": "2022-05-10T13:23:56.030Z"
   },
   {
    "duration": 0,
    "start_time": "2022-05-10T13:23:56.032Z"
   },
   {
    "duration": 0,
    "start_time": "2022-05-10T13:23:56.033Z"
   },
   {
    "duration": 572,
    "start_time": "2022-05-10T13:24:55.983Z"
   },
   {
    "duration": 467,
    "start_time": "2022-05-10T13:25:19.043Z"
   },
   {
    "duration": 91,
    "start_time": "2022-05-10T13:25:19.512Z"
   },
   {
    "duration": 26,
    "start_time": "2022-05-10T13:25:19.605Z"
   },
   {
    "duration": 42,
    "start_time": "2022-05-10T13:25:19.634Z"
   },
   {
    "duration": 17,
    "start_time": "2022-05-10T13:25:19.678Z"
   },
   {
    "duration": 4,
    "start_time": "2022-05-10T13:25:19.696Z"
   },
   {
    "duration": 20,
    "start_time": "2022-05-10T13:25:19.702Z"
   },
   {
    "duration": 5,
    "start_time": "2022-05-10T13:25:19.724Z"
   },
   {
    "duration": 47,
    "start_time": "2022-05-10T13:25:19.731Z"
   },
   {
    "duration": 174,
    "start_time": "2022-05-10T13:25:19.782Z"
   },
   {
    "duration": 7,
    "start_time": "2022-05-10T13:25:19.959Z"
   },
   {
    "duration": 33,
    "start_time": "2022-05-10T13:25:19.971Z"
   },
   {
    "duration": 7,
    "start_time": "2022-05-10T13:25:20.006Z"
   },
   {
    "duration": 24,
    "start_time": "2022-05-10T13:25:20.015Z"
   },
   {
    "duration": 12,
    "start_time": "2022-05-10T13:25:20.042Z"
   },
   {
    "duration": 38,
    "start_time": "2022-05-10T13:25:20.056Z"
   },
   {
    "duration": 19,
    "start_time": "2022-05-10T13:25:20.096Z"
   },
   {
    "duration": 16,
    "start_time": "2022-05-10T13:25:20.117Z"
   },
   {
    "duration": 14,
    "start_time": "2022-05-10T13:25:20.135Z"
   },
   {
    "duration": 36,
    "start_time": "2022-05-10T13:25:20.151Z"
   },
   {
    "duration": 32,
    "start_time": "2022-05-10T13:25:20.191Z"
   },
   {
    "duration": 8,
    "start_time": "2022-05-10T13:25:20.225Z"
   },
   {
    "duration": 10,
    "start_time": "2022-05-10T13:25:20.235Z"
   },
   {
    "duration": 52,
    "start_time": "2022-05-10T13:25:20.247Z"
   },
   {
    "duration": 7,
    "start_time": "2022-05-10T13:25:20.301Z"
   },
   {
    "duration": 464,
    "start_time": "2022-05-10T13:25:20.311Z"
   },
   {
    "duration": 10,
    "start_time": "2022-05-10T13:25:20.783Z"
   },
   {
    "duration": 657,
    "start_time": "2022-05-10T13:25:20.796Z"
   },
   {
    "duration": 0,
    "start_time": "2022-05-10T13:25:21.455Z"
   },
   {
    "duration": 0,
    "start_time": "2022-05-10T13:25:21.456Z"
   },
   {
    "duration": 0,
    "start_time": "2022-05-10T13:25:21.457Z"
   },
   {
    "duration": 0,
    "start_time": "2022-05-10T13:25:21.459Z"
   },
   {
    "duration": 0,
    "start_time": "2022-05-10T13:25:21.460Z"
   },
   {
    "duration": 0,
    "start_time": "2022-05-10T13:25:21.461Z"
   },
   {
    "duration": 0,
    "start_time": "2022-05-10T13:25:21.462Z"
   },
   {
    "duration": 0,
    "start_time": "2022-05-10T13:25:21.463Z"
   },
   {
    "duration": 0,
    "start_time": "2022-05-10T13:25:21.464Z"
   },
   {
    "duration": 0,
    "start_time": "2022-05-10T13:25:21.465Z"
   },
   {
    "duration": 456,
    "start_time": "2022-05-10T13:26:18.954Z"
   },
   {
    "duration": 82,
    "start_time": "2022-05-10T13:26:19.412Z"
   },
   {
    "duration": 23,
    "start_time": "2022-05-10T13:26:19.497Z"
   },
   {
    "duration": 10,
    "start_time": "2022-05-10T13:26:19.523Z"
   },
   {
    "duration": 22,
    "start_time": "2022-05-10T13:26:19.534Z"
   },
   {
    "duration": 50,
    "start_time": "2022-05-10T13:26:19.558Z"
   },
   {
    "duration": 10,
    "start_time": "2022-05-10T13:26:19.610Z"
   },
   {
    "duration": 6,
    "start_time": "2022-05-10T13:26:19.622Z"
   },
   {
    "duration": 19,
    "start_time": "2022-05-10T13:26:19.630Z"
   },
   {
    "duration": 86,
    "start_time": "2022-05-10T13:26:19.653Z"
   },
   {
    "duration": 7,
    "start_time": "2022-05-10T13:26:19.741Z"
   },
   {
    "duration": 64,
    "start_time": "2022-05-10T13:26:19.750Z"
   },
   {
    "duration": 4,
    "start_time": "2022-05-10T13:26:19.816Z"
   },
   {
    "duration": 11,
    "start_time": "2022-05-10T13:26:19.822Z"
   },
   {
    "duration": 5,
    "start_time": "2022-05-10T13:26:19.834Z"
   },
   {
    "duration": 5,
    "start_time": "2022-05-10T13:26:19.840Z"
   },
   {
    "duration": 67,
    "start_time": "2022-05-10T13:26:19.850Z"
   },
   {
    "duration": 15,
    "start_time": "2022-05-10T13:26:19.920Z"
   },
   {
    "duration": 19,
    "start_time": "2022-05-10T13:26:19.937Z"
   },
   {
    "duration": 56,
    "start_time": "2022-05-10T13:26:19.962Z"
   },
   {
    "duration": 22,
    "start_time": "2022-05-10T13:26:20.019Z"
   },
   {
    "duration": 52,
    "start_time": "2022-05-10T13:26:20.042Z"
   },
   {
    "duration": 12,
    "start_time": "2022-05-10T13:26:20.096Z"
   },
   {
    "duration": 8,
    "start_time": "2022-05-10T13:26:20.109Z"
   },
   {
    "duration": 5,
    "start_time": "2022-05-10T13:26:20.119Z"
   },
   {
    "duration": 496,
    "start_time": "2022-05-10T13:26:20.126Z"
   },
   {
    "duration": 10,
    "start_time": "2022-05-10T13:26:20.623Z"
   },
   {
    "duration": 387,
    "start_time": "2022-05-10T13:26:20.648Z"
   },
   {
    "duration": 17,
    "start_time": "2022-05-10T13:26:21.036Z"
   },
   {
    "duration": 56,
    "start_time": "2022-05-10T13:26:21.054Z"
   },
   {
    "duration": 5,
    "start_time": "2022-05-10T13:26:21.112Z"
   },
   {
    "duration": 955,
    "start_time": "2022-05-10T13:26:21.118Z"
   },
   {
    "duration": 12,
    "start_time": "2022-05-10T13:26:22.081Z"
   },
   {
    "duration": 135,
    "start_time": "2022-05-10T13:26:22.099Z"
   },
   {
    "duration": 12,
    "start_time": "2022-05-10T13:26:22.236Z"
   },
   {
    "duration": 124,
    "start_time": "2022-05-10T13:26:22.250Z"
   },
   {
    "duration": 11,
    "start_time": "2022-05-10T13:26:22.382Z"
   },
   {
    "duration": 134,
    "start_time": "2022-05-10T13:26:22.398Z"
   },
   {
    "duration": 478,
    "start_time": "2022-05-10T13:27:07.233Z"
   },
   {
    "duration": 89,
    "start_time": "2022-05-10T13:27:07.713Z"
   },
   {
    "duration": 21,
    "start_time": "2022-05-10T13:27:07.804Z"
   },
   {
    "duration": 9,
    "start_time": "2022-05-10T13:27:07.827Z"
   },
   {
    "duration": 15,
    "start_time": "2022-05-10T13:27:07.837Z"
   },
   {
    "duration": 55,
    "start_time": "2022-05-10T13:27:07.853Z"
   },
   {
    "duration": 11,
    "start_time": "2022-05-10T13:27:07.910Z"
   },
   {
    "duration": 5,
    "start_time": "2022-05-10T13:27:07.923Z"
   },
   {
    "duration": 32,
    "start_time": "2022-05-10T13:27:07.930Z"
   },
   {
    "duration": 55,
    "start_time": "2022-05-10T13:27:07.968Z"
   },
   {
    "duration": 5,
    "start_time": "2022-05-10T13:27:08.024Z"
   },
   {
    "duration": 11,
    "start_time": "2022-05-10T13:27:08.030Z"
   },
   {
    "duration": 9,
    "start_time": "2022-05-10T13:27:08.042Z"
   },
   {
    "duration": 70,
    "start_time": "2022-05-10T13:27:08.052Z"
   },
   {
    "duration": 4,
    "start_time": "2022-05-10T13:27:08.124Z"
   },
   {
    "duration": 7,
    "start_time": "2022-05-10T13:27:08.130Z"
   },
   {
    "duration": 17,
    "start_time": "2022-05-10T13:27:08.139Z"
   },
   {
    "duration": 58,
    "start_time": "2022-05-10T13:27:08.158Z"
   },
   {
    "duration": 22,
    "start_time": "2022-05-10T13:27:08.218Z"
   },
   {
    "duration": 20,
    "start_time": "2022-05-10T13:27:08.243Z"
   },
   {
    "duration": 45,
    "start_time": "2022-05-10T13:27:08.275Z"
   },
   {
    "duration": 6,
    "start_time": "2022-05-10T13:27:08.323Z"
   },
   {
    "duration": 8,
    "start_time": "2022-05-10T13:27:08.331Z"
   },
   {
    "duration": 8,
    "start_time": "2022-05-10T13:27:08.341Z"
   },
   {
    "duration": 62,
    "start_time": "2022-05-10T13:27:08.350Z"
   },
   {
    "duration": 509,
    "start_time": "2022-05-10T13:27:08.414Z"
   },
   {
    "duration": 11,
    "start_time": "2022-05-10T13:27:08.925Z"
   },
   {
    "duration": 13866,
    "start_time": "2022-05-10T13:27:08.951Z"
   },
   {
    "duration": 12,
    "start_time": "2022-05-10T13:27:22.819Z"
   },
   {
    "duration": 24,
    "start_time": "2022-05-10T13:27:22.833Z"
   },
   {
    "duration": 50,
    "start_time": "2022-05-10T13:27:22.859Z"
   },
   {
    "duration": 964,
    "start_time": "2022-05-10T13:27:22.911Z"
   },
   {
    "duration": 19,
    "start_time": "2022-05-10T13:27:23.878Z"
   },
   {
    "duration": 158,
    "start_time": "2022-05-10T13:27:23.899Z"
   },
   {
    "duration": 11,
    "start_time": "2022-05-10T13:27:24.059Z"
   },
   {
    "duration": 150,
    "start_time": "2022-05-10T13:27:24.072Z"
   },
   {
    "duration": 29,
    "start_time": "2022-05-10T13:27:24.224Z"
   },
   {
    "duration": 181,
    "start_time": "2022-05-10T13:27:24.255Z"
   },
   {
    "duration": 469,
    "start_time": "2022-05-10T13:28:01.993Z"
   },
   {
    "duration": 115,
    "start_time": "2022-05-10T13:28:02.468Z"
   },
   {
    "duration": 30,
    "start_time": "2022-05-10T13:28:02.585Z"
   },
   {
    "duration": 26,
    "start_time": "2022-05-10T13:28:02.618Z"
   },
   {
    "duration": 45,
    "start_time": "2022-05-10T13:28:02.647Z"
   },
   {
    "duration": 25,
    "start_time": "2022-05-10T13:28:02.694Z"
   },
   {
    "duration": 18,
    "start_time": "2022-05-10T13:28:02.721Z"
   },
   {
    "duration": 10,
    "start_time": "2022-05-10T13:28:02.741Z"
   },
   {
    "duration": 84,
    "start_time": "2022-05-10T13:28:02.755Z"
   },
   {
    "duration": 97,
    "start_time": "2022-05-10T13:28:02.841Z"
   },
   {
    "duration": 7,
    "start_time": "2022-05-10T13:28:02.940Z"
   },
   {
    "duration": 65,
    "start_time": "2022-05-10T13:28:02.956Z"
   },
   {
    "duration": 5,
    "start_time": "2022-05-10T13:28:03.022Z"
   },
   {
    "duration": 23,
    "start_time": "2022-05-10T13:28:03.031Z"
   },
   {
    "duration": 9,
    "start_time": "2022-05-10T13:28:03.056Z"
   },
   {
    "duration": 56,
    "start_time": "2022-05-10T13:28:03.067Z"
   },
   {
    "duration": 19,
    "start_time": "2022-05-10T13:28:03.124Z"
   },
   {
    "duration": 22,
    "start_time": "2022-05-10T13:28:03.145Z"
   },
   {
    "duration": 101,
    "start_time": "2022-05-10T13:28:03.169Z"
   },
   {
    "duration": 45,
    "start_time": "2022-05-10T13:28:03.275Z"
   },
   {
    "duration": 46,
    "start_time": "2022-05-10T13:28:03.326Z"
   },
   {
    "duration": 59,
    "start_time": "2022-05-10T13:28:03.377Z"
   },
   {
    "duration": 22,
    "start_time": "2022-05-10T13:28:03.438Z"
   },
   {
    "duration": 71,
    "start_time": "2022-05-10T13:28:03.465Z"
   },
   {
    "duration": 20,
    "start_time": "2022-05-10T13:28:03.538Z"
   },
   {
    "duration": 740,
    "start_time": "2022-05-10T13:28:03.560Z"
   },
   {
    "duration": 14,
    "start_time": "2022-05-10T13:28:04.301Z"
   },
   {
    "duration": 17210,
    "start_time": "2022-05-10T13:28:04.316Z"
   },
   {
    "duration": 33,
    "start_time": "2022-05-10T13:28:21.528Z"
   },
   {
    "duration": 60,
    "start_time": "2022-05-10T13:28:21.563Z"
   },
   {
    "duration": 5,
    "start_time": "2022-05-10T13:28:21.626Z"
   },
   {
    "duration": 1279,
    "start_time": "2022-05-10T13:28:21.633Z"
   },
   {
    "duration": 12,
    "start_time": "2022-05-10T13:28:22.914Z"
   },
   {
    "duration": 292,
    "start_time": "2022-05-10T13:28:22.928Z"
   },
   {
    "duration": 15,
    "start_time": "2022-05-10T13:28:23.224Z"
   },
   {
    "duration": 255,
    "start_time": "2022-05-10T13:28:23.244Z"
   },
   {
    "duration": 25,
    "start_time": "2022-05-10T13:28:23.504Z"
   },
   {
    "duration": 234,
    "start_time": "2022-05-10T13:28:23.534Z"
   },
   {
    "duration": 497,
    "start_time": "2022-05-10T13:29:17.634Z"
   },
   {
    "duration": 116,
    "start_time": "2022-05-10T13:29:18.135Z"
   },
   {
    "duration": 35,
    "start_time": "2022-05-10T13:29:18.262Z"
   },
   {
    "duration": 52,
    "start_time": "2022-05-10T13:29:18.300Z"
   },
   {
    "duration": 12,
    "start_time": "2022-05-10T13:29:18.353Z"
   },
   {
    "duration": 39,
    "start_time": "2022-05-10T13:29:18.367Z"
   },
   {
    "duration": 47,
    "start_time": "2022-05-10T13:29:18.409Z"
   },
   {
    "duration": 7,
    "start_time": "2022-05-10T13:29:18.461Z"
   },
   {
    "duration": 62,
    "start_time": "2022-05-10T13:29:18.473Z"
   },
   {
    "duration": 90,
    "start_time": "2022-05-10T13:29:18.542Z"
   },
   {
    "duration": 13,
    "start_time": "2022-05-10T13:29:18.633Z"
   },
   {
    "duration": 89,
    "start_time": "2022-05-10T13:29:18.647Z"
   },
   {
    "duration": 6,
    "start_time": "2022-05-10T13:29:18.738Z"
   },
   {
    "duration": 53,
    "start_time": "2022-05-10T13:29:18.747Z"
   },
   {
    "duration": 38,
    "start_time": "2022-05-10T13:29:18.805Z"
   },
   {
    "duration": 32,
    "start_time": "2022-05-10T13:29:18.846Z"
   },
   {
    "duration": 80,
    "start_time": "2022-05-10T13:29:18.879Z"
   },
   {
    "duration": 97,
    "start_time": "2022-05-10T13:29:18.961Z"
   },
   {
    "duration": 34,
    "start_time": "2022-05-10T13:29:19.070Z"
   },
   {
    "duration": 45,
    "start_time": "2022-05-10T13:29:19.110Z"
   },
   {
    "duration": 87,
    "start_time": "2022-05-10T13:29:19.174Z"
   },
   {
    "duration": 77,
    "start_time": "2022-05-10T13:29:19.265Z"
   },
   {
    "duration": 28,
    "start_time": "2022-05-10T13:29:19.346Z"
   },
   {
    "duration": 53,
    "start_time": "2022-05-10T13:29:19.376Z"
   },
   {
    "duration": 38,
    "start_time": "2022-05-10T13:29:19.430Z"
   },
   {
    "duration": 761,
    "start_time": "2022-05-10T13:29:19.471Z"
   },
   {
    "duration": 24,
    "start_time": "2022-05-10T13:29:20.234Z"
   },
   {
    "duration": 18958,
    "start_time": "2022-05-10T13:29:20.261Z"
   },
   {
    "duration": 18,
    "start_time": "2022-05-10T13:29:39.222Z"
   },
   {
    "duration": 91,
    "start_time": "2022-05-10T13:29:39.246Z"
   },
   {
    "duration": 6,
    "start_time": "2022-05-10T13:29:39.339Z"
   },
   {
    "duration": 1452,
    "start_time": "2022-05-10T13:29:39.354Z"
   },
   {
    "duration": 14,
    "start_time": "2022-05-10T13:29:40.812Z"
   },
   {
    "duration": 297,
    "start_time": "2022-05-10T13:29:40.831Z"
   },
   {
    "duration": 60,
    "start_time": "2022-05-10T13:29:41.132Z"
   },
   {
    "duration": 208,
    "start_time": "2022-05-10T13:29:41.197Z"
   },
   {
    "duration": 20,
    "start_time": "2022-05-10T13:29:41.411Z"
   },
   {
    "duration": 265,
    "start_time": "2022-05-10T13:29:41.432Z"
   },
   {
    "duration": 407,
    "start_time": "2022-05-10T13:36:12.915Z"
   },
   {
    "duration": 119,
    "start_time": "2022-05-10T13:36:13.324Z"
   },
   {
    "duration": 25,
    "start_time": "2022-05-10T13:36:13.444Z"
   },
   {
    "duration": 11,
    "start_time": "2022-05-10T13:36:13.471Z"
   },
   {
    "duration": 5,
    "start_time": "2022-05-10T13:36:13.484Z"
   },
   {
    "duration": 5,
    "start_time": "2022-05-10T13:36:13.490Z"
   },
   {
    "duration": 11,
    "start_time": "2022-05-10T13:36:13.496Z"
   },
   {
    "duration": 4,
    "start_time": "2022-05-10T13:36:13.509Z"
   },
   {
    "duration": 27,
    "start_time": "2022-05-10T13:36:13.549Z"
   },
   {
    "duration": 41,
    "start_time": "2022-05-10T13:36:13.580Z"
   },
   {
    "duration": 5,
    "start_time": "2022-05-10T13:36:13.623Z"
   },
   {
    "duration": 36,
    "start_time": "2022-05-10T13:36:13.629Z"
   },
   {
    "duration": 5,
    "start_time": "2022-05-10T13:36:13.667Z"
   },
   {
    "duration": 14,
    "start_time": "2022-05-10T13:36:13.674Z"
   },
   {
    "duration": 5,
    "start_time": "2022-05-10T13:36:13.690Z"
   },
   {
    "duration": 5,
    "start_time": "2022-05-10T13:36:13.696Z"
   },
   {
    "duration": 14,
    "start_time": "2022-05-10T13:36:13.702Z"
   },
   {
    "duration": 49,
    "start_time": "2022-05-10T13:36:13.717Z"
   },
   {
    "duration": 14,
    "start_time": "2022-05-10T13:36:13.768Z"
   },
   {
    "duration": 11,
    "start_time": "2022-05-10T13:36:13.783Z"
   },
   {
    "duration": 16,
    "start_time": "2022-05-10T13:36:13.796Z"
   },
   {
    "duration": 6,
    "start_time": "2022-05-10T13:36:13.813Z"
   },
   {
    "duration": 11,
    "start_time": "2022-05-10T13:36:13.820Z"
   },
   {
    "duration": 8,
    "start_time": "2022-05-10T13:36:13.848Z"
   },
   {
    "duration": 20,
    "start_time": "2022-05-10T13:36:13.857Z"
   },
   {
    "duration": 439,
    "start_time": "2022-05-10T13:36:13.879Z"
   },
   {
    "duration": 12,
    "start_time": "2022-05-10T13:36:14.320Z"
   },
   {
    "duration": 10489,
    "start_time": "2022-05-10T13:36:14.336Z"
   },
   {
    "duration": 12,
    "start_time": "2022-05-10T13:36:24.827Z"
   },
   {
    "duration": 9,
    "start_time": "2022-05-10T13:36:24.848Z"
   },
   {
    "duration": 4,
    "start_time": "2022-05-10T13:36:24.859Z"
   },
   {
    "duration": 1193,
    "start_time": "2022-05-10T13:36:24.867Z"
   },
   {
    "duration": 10,
    "start_time": "2022-05-10T13:36:26.062Z"
   },
   {
    "duration": 124,
    "start_time": "2022-05-10T13:36:26.074Z"
   },
   {
    "duration": 9,
    "start_time": "2022-05-10T13:36:26.200Z"
   },
   {
    "duration": 127,
    "start_time": "2022-05-10T13:36:26.210Z"
   },
   {
    "duration": 17,
    "start_time": "2022-05-10T13:36:26.339Z"
   },
   {
    "duration": 124,
    "start_time": "2022-05-10T13:36:26.358Z"
   },
   {
    "duration": 479,
    "start_time": "2022-05-10T13:47:15.896Z"
   },
   {
    "duration": 124,
    "start_time": "2022-05-10T13:47:16.383Z"
   },
   {
    "duration": 22,
    "start_time": "2022-05-10T13:47:16.509Z"
   },
   {
    "duration": 12,
    "start_time": "2022-05-10T13:47:16.534Z"
   },
   {
    "duration": 24,
    "start_time": "2022-05-10T13:47:16.548Z"
   },
   {
    "duration": 8,
    "start_time": "2022-05-10T13:47:16.575Z"
   },
   {
    "duration": 21,
    "start_time": "2022-05-10T13:47:16.585Z"
   },
   {
    "duration": 7,
    "start_time": "2022-05-10T13:47:16.608Z"
   },
   {
    "duration": 19,
    "start_time": "2022-05-10T13:47:16.617Z"
   },
   {
    "duration": 91,
    "start_time": "2022-05-10T13:47:16.649Z"
   },
   {
    "duration": 7,
    "start_time": "2022-05-10T13:47:16.743Z"
   },
   {
    "duration": 50,
    "start_time": "2022-05-10T13:47:16.752Z"
   },
   {
    "duration": 5,
    "start_time": "2022-05-10T13:47:16.804Z"
   },
   {
    "duration": 14,
    "start_time": "2022-05-10T13:47:16.811Z"
   },
   {
    "duration": 5,
    "start_time": "2022-05-10T13:47:16.827Z"
   },
   {
    "duration": 13,
    "start_time": "2022-05-10T13:47:16.834Z"
   },
   {
    "duration": 23,
    "start_time": "2022-05-10T13:47:16.849Z"
   },
   {
    "duration": 30,
    "start_time": "2022-05-10T13:47:16.874Z"
   },
   {
    "duration": 22,
    "start_time": "2022-05-10T13:47:16.907Z"
   },
   {
    "duration": 28,
    "start_time": "2022-05-10T13:47:16.932Z"
   },
   {
    "duration": 22,
    "start_time": "2022-05-10T13:47:16.962Z"
   },
   {
    "duration": 6,
    "start_time": "2022-05-10T13:47:16.986Z"
   },
   {
    "duration": 9,
    "start_time": "2022-05-10T13:47:16.994Z"
   },
   {
    "duration": 11,
    "start_time": "2022-05-10T13:47:17.005Z"
   },
   {
    "duration": 7,
    "start_time": "2022-05-10T13:47:17.018Z"
   },
   {
    "duration": 562,
    "start_time": "2022-05-10T13:47:17.055Z"
   },
   {
    "duration": 11,
    "start_time": "2022-05-10T13:47:17.619Z"
   },
   {
    "duration": 762,
    "start_time": "2022-05-10T13:47:17.633Z"
   },
   {
    "duration": 0,
    "start_time": "2022-05-10T13:47:18.398Z"
   },
   {
    "duration": 0,
    "start_time": "2022-05-10T13:47:18.400Z"
   },
   {
    "duration": 0,
    "start_time": "2022-05-10T13:47:18.402Z"
   },
   {
    "duration": 0,
    "start_time": "2022-05-10T13:47:18.404Z"
   },
   {
    "duration": 0,
    "start_time": "2022-05-10T13:47:18.406Z"
   },
   {
    "duration": 0,
    "start_time": "2022-05-10T13:47:18.408Z"
   },
   {
    "duration": 0,
    "start_time": "2022-05-10T13:47:18.410Z"
   },
   {
    "duration": 0,
    "start_time": "2022-05-10T13:47:18.412Z"
   },
   {
    "duration": 0,
    "start_time": "2022-05-10T13:47:18.413Z"
   },
   {
    "duration": 0,
    "start_time": "2022-05-10T13:47:18.415Z"
   },
   {
    "duration": 543,
    "start_time": "2022-05-10T13:52:13.019Z"
   },
   {
    "duration": 116,
    "start_time": "2022-05-10T13:52:13.569Z"
   },
   {
    "duration": 22,
    "start_time": "2022-05-10T13:52:13.686Z"
   },
   {
    "duration": 12,
    "start_time": "2022-05-10T13:52:13.710Z"
   },
   {
    "duration": 31,
    "start_time": "2022-05-10T13:52:13.724Z"
   },
   {
    "duration": 11,
    "start_time": "2022-05-10T13:52:13.764Z"
   },
   {
    "duration": 18,
    "start_time": "2022-05-10T13:52:13.777Z"
   },
   {
    "duration": 6,
    "start_time": "2022-05-10T13:52:13.797Z"
   },
   {
    "duration": 22,
    "start_time": "2022-05-10T13:52:13.805Z"
   },
   {
    "duration": 51,
    "start_time": "2022-05-10T13:52:13.853Z"
   },
   {
    "duration": 5,
    "start_time": "2022-05-10T13:52:13.906Z"
   },
   {
    "duration": 14,
    "start_time": "2022-05-10T13:52:13.912Z"
   },
   {
    "duration": 25,
    "start_time": "2022-05-10T13:52:13.928Z"
   },
   {
    "duration": 38,
    "start_time": "2022-05-10T13:52:13.958Z"
   },
   {
    "duration": 5,
    "start_time": "2022-05-10T13:52:13.999Z"
   },
   {
    "duration": 11,
    "start_time": "2022-05-10T13:52:14.006Z"
   },
   {
    "duration": 30,
    "start_time": "2022-05-10T13:52:14.019Z"
   },
   {
    "duration": 28,
    "start_time": "2022-05-10T13:52:14.051Z"
   },
   {
    "duration": 27,
    "start_time": "2022-05-10T13:52:14.082Z"
   },
   {
    "duration": 22,
    "start_time": "2022-05-10T13:52:14.112Z"
   },
   {
    "duration": 31,
    "start_time": "2022-05-10T13:52:14.157Z"
   },
   {
    "duration": 8,
    "start_time": "2022-05-10T13:52:14.190Z"
   },
   {
    "duration": 12,
    "start_time": "2022-05-10T13:52:14.200Z"
   },
   {
    "duration": 39,
    "start_time": "2022-05-10T13:52:14.214Z"
   },
   {
    "duration": 11,
    "start_time": "2022-05-10T13:52:14.255Z"
   },
   {
    "duration": 467,
    "start_time": "2022-05-10T13:52:14.268Z"
   },
   {
    "duration": 12,
    "start_time": "2022-05-10T13:52:14.737Z"
   },
   {
    "duration": 813,
    "start_time": "2022-05-10T13:52:14.753Z"
   },
   {
    "duration": 0,
    "start_time": "2022-05-10T13:52:15.567Z"
   },
   {
    "duration": 0,
    "start_time": "2022-05-10T13:52:15.570Z"
   },
   {
    "duration": 0,
    "start_time": "2022-05-10T13:52:15.572Z"
   },
   {
    "duration": 0,
    "start_time": "2022-05-10T13:52:15.573Z"
   },
   {
    "duration": 0,
    "start_time": "2022-05-10T13:52:15.574Z"
   },
   {
    "duration": 0,
    "start_time": "2022-05-10T13:52:15.576Z"
   },
   {
    "duration": 0,
    "start_time": "2022-05-10T13:52:15.578Z"
   },
   {
    "duration": 0,
    "start_time": "2022-05-10T13:52:15.579Z"
   },
   {
    "duration": 0,
    "start_time": "2022-05-10T13:52:15.580Z"
   },
   {
    "duration": 0,
    "start_time": "2022-05-10T13:52:15.581Z"
   },
   {
    "duration": 542,
    "start_time": "2022-05-10T13:53:49.629Z"
   },
   {
    "duration": 166,
    "start_time": "2022-05-10T13:53:50.176Z"
   },
   {
    "duration": 29,
    "start_time": "2022-05-10T13:53:50.345Z"
   },
   {
    "duration": 16,
    "start_time": "2022-05-10T13:53:50.376Z"
   },
   {
    "duration": 4,
    "start_time": "2022-05-10T13:53:50.394Z"
   },
   {
    "duration": 4,
    "start_time": "2022-05-10T13:53:50.400Z"
   },
   {
    "duration": 13,
    "start_time": "2022-05-10T13:53:50.406Z"
   },
   {
    "duration": 35,
    "start_time": "2022-05-10T13:53:50.421Z"
   },
   {
    "duration": 33,
    "start_time": "2022-05-10T13:53:50.459Z"
   },
   {
    "duration": 45,
    "start_time": "2022-05-10T13:53:50.496Z"
   },
   {
    "duration": 6,
    "start_time": "2022-05-10T13:53:50.543Z"
   },
   {
    "duration": 19,
    "start_time": "2022-05-10T13:53:50.551Z"
   },
   {
    "duration": 16,
    "start_time": "2022-05-10T13:53:50.571Z"
   },
   {
    "duration": 14,
    "start_time": "2022-05-10T13:53:50.589Z"
   },
   {
    "duration": 5,
    "start_time": "2022-05-10T13:53:50.604Z"
   },
   {
    "duration": 13,
    "start_time": "2022-05-10T13:53:50.610Z"
   },
   {
    "duration": 33,
    "start_time": "2022-05-10T13:53:50.624Z"
   },
   {
    "duration": 31,
    "start_time": "2022-05-10T13:53:50.660Z"
   },
   {
    "duration": 15,
    "start_time": "2022-05-10T13:53:50.692Z"
   },
   {
    "duration": 13,
    "start_time": "2022-05-10T13:53:50.708Z"
   },
   {
    "duration": 16,
    "start_time": "2022-05-10T13:53:50.723Z"
   },
   {
    "duration": 23,
    "start_time": "2022-05-10T13:53:50.741Z"
   },
   {
    "duration": 14,
    "start_time": "2022-05-10T13:53:50.766Z"
   },
   {
    "duration": 9,
    "start_time": "2022-05-10T13:53:50.782Z"
   },
   {
    "duration": 10,
    "start_time": "2022-05-10T13:53:50.793Z"
   },
   {
    "duration": 468,
    "start_time": "2022-05-10T13:53:50.804Z"
   },
   {
    "duration": 12,
    "start_time": "2022-05-10T13:53:51.275Z"
   },
   {
    "duration": 1768,
    "start_time": "2022-05-10T13:53:51.290Z"
   },
   {
    "duration": 0,
    "start_time": "2022-05-10T13:53:53.065Z"
   },
   {
    "duration": 0,
    "start_time": "2022-05-10T13:53:53.070Z"
   },
   {
    "duration": 0,
    "start_time": "2022-05-10T13:53:53.073Z"
   },
   {
    "duration": 0,
    "start_time": "2022-05-10T13:53:53.077Z"
   },
   {
    "duration": 0,
    "start_time": "2022-05-10T13:53:53.079Z"
   },
   {
    "duration": 0,
    "start_time": "2022-05-10T13:53:53.080Z"
   },
   {
    "duration": 0,
    "start_time": "2022-05-10T13:53:53.081Z"
   },
   {
    "duration": 0,
    "start_time": "2022-05-10T13:53:53.083Z"
   },
   {
    "duration": 0,
    "start_time": "2022-05-10T13:53:53.084Z"
   },
   {
    "duration": 0,
    "start_time": "2022-05-10T13:53:53.085Z"
   },
   {
    "duration": 429,
    "start_time": "2022-05-10T13:58:00.196Z"
   },
   {
    "duration": 107,
    "start_time": "2022-05-10T13:58:00.627Z"
   },
   {
    "duration": 42,
    "start_time": "2022-05-10T13:58:00.737Z"
   },
   {
    "duration": 16,
    "start_time": "2022-05-10T13:58:00.782Z"
   },
   {
    "duration": 16,
    "start_time": "2022-05-10T13:58:00.801Z"
   },
   {
    "duration": 5,
    "start_time": "2022-05-10T13:58:00.819Z"
   },
   {
    "duration": 38,
    "start_time": "2022-05-10T13:58:00.826Z"
   },
   {
    "duration": 28,
    "start_time": "2022-05-10T13:58:00.866Z"
   },
   {
    "duration": 35,
    "start_time": "2022-05-10T13:58:00.897Z"
   },
   {
    "duration": 90,
    "start_time": "2022-05-10T13:58:00.935Z"
   },
   {
    "duration": 7,
    "start_time": "2022-05-10T13:58:01.028Z"
   },
   {
    "duration": 20,
    "start_time": "2022-05-10T13:58:01.037Z"
   },
   {
    "duration": 41,
    "start_time": "2022-05-10T13:58:01.059Z"
   },
   {
    "duration": 13,
    "start_time": "2022-05-10T13:58:01.103Z"
   },
   {
    "duration": 7,
    "start_time": "2022-05-10T13:58:01.118Z"
   },
   {
    "duration": 13,
    "start_time": "2022-05-10T13:58:01.127Z"
   },
   {
    "duration": 56,
    "start_time": "2022-05-10T13:58:01.142Z"
   },
   {
    "duration": 35,
    "start_time": "2022-05-10T13:58:01.200Z"
   },
   {
    "duration": 18,
    "start_time": "2022-05-10T13:58:01.237Z"
   },
   {
    "duration": 46,
    "start_time": "2022-05-10T13:58:01.261Z"
   },
   {
    "duration": 56,
    "start_time": "2022-05-10T13:58:01.310Z"
   },
   {
    "duration": 45,
    "start_time": "2022-05-10T13:58:01.370Z"
   },
   {
    "duration": 7,
    "start_time": "2022-05-10T13:58:01.418Z"
   },
   {
    "duration": 15,
    "start_time": "2022-05-10T13:58:01.428Z"
   },
   {
    "duration": 48,
    "start_time": "2022-05-10T13:58:01.445Z"
   },
   {
    "duration": 582,
    "start_time": "2022-05-10T13:58:01.495Z"
   },
   {
    "duration": 17,
    "start_time": "2022-05-10T13:58:02.080Z"
   },
   {
    "duration": 108,
    "start_time": "2022-05-10T13:58:02.099Z"
   },
   {
    "duration": 0,
    "start_time": "2022-05-10T13:58:02.209Z"
   },
   {
    "duration": 0,
    "start_time": "2022-05-10T13:58:02.211Z"
   },
   {
    "duration": 0,
    "start_time": "2022-05-10T13:58:02.213Z"
   },
   {
    "duration": 0,
    "start_time": "2022-05-10T13:58:02.214Z"
   },
   {
    "duration": 0,
    "start_time": "2022-05-10T13:58:02.216Z"
   },
   {
    "duration": 0,
    "start_time": "2022-05-10T13:58:02.217Z"
   },
   {
    "duration": 0,
    "start_time": "2022-05-10T13:58:02.219Z"
   },
   {
    "duration": 0,
    "start_time": "2022-05-10T13:58:02.220Z"
   },
   {
    "duration": 0,
    "start_time": "2022-05-10T13:58:02.221Z"
   },
   {
    "duration": 0,
    "start_time": "2022-05-10T13:58:02.223Z"
   },
   {
    "duration": 468,
    "start_time": "2022-05-10T13:58:52.170Z"
   },
   {
    "duration": 159,
    "start_time": "2022-05-10T13:58:52.640Z"
   },
   {
    "duration": 26,
    "start_time": "2022-05-10T13:58:52.802Z"
   },
   {
    "duration": 11,
    "start_time": "2022-05-10T13:58:52.830Z"
   },
   {
    "duration": 6,
    "start_time": "2022-05-10T13:58:52.853Z"
   },
   {
    "duration": 37,
    "start_time": "2022-05-10T13:58:52.861Z"
   },
   {
    "duration": 10,
    "start_time": "2022-05-10T13:58:52.900Z"
   },
   {
    "duration": 3,
    "start_time": "2022-05-10T13:58:52.912Z"
   },
   {
    "duration": 17,
    "start_time": "2022-05-10T13:58:52.917Z"
   },
   {
    "duration": 63,
    "start_time": "2022-05-10T13:58:52.936Z"
   },
   {
    "duration": 7,
    "start_time": "2022-05-10T13:58:53.001Z"
   },
   {
    "duration": 15,
    "start_time": "2022-05-10T13:58:53.010Z"
   },
   {
    "duration": 9,
    "start_time": "2022-05-10T13:58:53.027Z"
   },
   {
    "duration": 21,
    "start_time": "2022-05-10T13:58:53.049Z"
   },
   {
    "duration": 27,
    "start_time": "2022-05-10T13:58:53.077Z"
   },
   {
    "duration": 5,
    "start_time": "2022-05-10T13:58:53.106Z"
   },
   {
    "duration": 26,
    "start_time": "2022-05-10T13:58:53.113Z"
   },
   {
    "duration": 30,
    "start_time": "2022-05-10T13:58:53.141Z"
   },
   {
    "duration": 38,
    "start_time": "2022-05-10T13:58:53.173Z"
   },
   {
    "duration": 16,
    "start_time": "2022-05-10T13:58:53.213Z"
   },
   {
    "duration": 21,
    "start_time": "2022-05-10T13:58:53.231Z"
   },
   {
    "duration": 42,
    "start_time": "2022-05-10T13:58:53.259Z"
   },
   {
    "duration": 19,
    "start_time": "2022-05-10T13:58:53.304Z"
   },
   {
    "duration": 16,
    "start_time": "2022-05-10T13:58:53.325Z"
   },
   {
    "duration": 52,
    "start_time": "2022-05-10T13:58:53.343Z"
   },
   {
    "duration": 756,
    "start_time": "2022-05-10T13:58:53.397Z"
   },
   {
    "duration": 18,
    "start_time": "2022-05-10T13:58:54.155Z"
   },
   {
    "duration": 2230,
    "start_time": "2022-05-10T13:58:54.175Z"
   },
   {
    "duration": 0,
    "start_time": "2022-05-10T13:58:56.408Z"
   },
   {
    "duration": 0,
    "start_time": "2022-05-10T13:58:56.411Z"
   },
   {
    "duration": 0,
    "start_time": "2022-05-10T13:58:56.412Z"
   },
   {
    "duration": 1,
    "start_time": "2022-05-10T13:58:56.413Z"
   },
   {
    "duration": 0,
    "start_time": "2022-05-10T13:58:56.415Z"
   },
   {
    "duration": 0,
    "start_time": "2022-05-10T13:58:56.417Z"
   },
   {
    "duration": 0,
    "start_time": "2022-05-10T13:58:56.418Z"
   },
   {
    "duration": 0,
    "start_time": "2022-05-10T13:58:56.419Z"
   },
   {
    "duration": 0,
    "start_time": "2022-05-10T13:58:56.420Z"
   },
   {
    "duration": 0,
    "start_time": "2022-05-10T13:58:56.422Z"
   },
   {
    "duration": 566,
    "start_time": "2022-05-10T14:01:35.074Z"
   },
   {
    "duration": 150,
    "start_time": "2022-05-10T14:01:35.643Z"
   },
   {
    "duration": 29,
    "start_time": "2022-05-10T14:01:35.795Z"
   },
   {
    "duration": 13,
    "start_time": "2022-05-10T14:01:35.826Z"
   },
   {
    "duration": 10,
    "start_time": "2022-05-10T14:01:35.848Z"
   },
   {
    "duration": 8,
    "start_time": "2022-05-10T14:01:35.860Z"
   },
   {
    "duration": 22,
    "start_time": "2022-05-10T14:01:35.869Z"
   },
   {
    "duration": 5,
    "start_time": "2022-05-10T14:01:35.892Z"
   },
   {
    "duration": 18,
    "start_time": "2022-05-10T14:01:35.899Z"
   },
   {
    "duration": 79,
    "start_time": "2022-05-10T14:01:35.919Z"
   },
   {
    "duration": 6,
    "start_time": "2022-05-10T14:01:36.001Z"
   },
   {
    "duration": 19,
    "start_time": "2022-05-10T14:01:36.008Z"
   },
   {
    "duration": 6,
    "start_time": "2022-05-10T14:01:36.030Z"
   },
   {
    "duration": 23,
    "start_time": "2022-05-10T14:01:36.059Z"
   },
   {
    "duration": 5,
    "start_time": "2022-05-10T14:01:36.084Z"
   },
   {
    "duration": 5,
    "start_time": "2022-05-10T14:01:36.090Z"
   },
   {
    "duration": 13,
    "start_time": "2022-05-10T14:01:36.097Z"
   },
   {
    "duration": 14,
    "start_time": "2022-05-10T14:01:36.112Z"
   },
   {
    "duration": 37,
    "start_time": "2022-05-10T14:01:36.127Z"
   },
   {
    "duration": 21,
    "start_time": "2022-05-10T14:01:36.166Z"
   },
   {
    "duration": 24,
    "start_time": "2022-05-10T14:01:36.189Z"
   },
   {
    "duration": 7,
    "start_time": "2022-05-10T14:01:36.214Z"
   },
   {
    "duration": 8,
    "start_time": "2022-05-10T14:01:36.223Z"
   },
   {
    "duration": 27,
    "start_time": "2022-05-10T14:01:36.233Z"
   },
   {
    "duration": 30,
    "start_time": "2022-05-10T14:01:36.262Z"
   },
   {
    "duration": 735,
    "start_time": "2022-05-10T14:01:36.293Z"
   },
   {
    "duration": 9,
    "start_time": "2022-05-10T14:01:37.031Z"
   },
   {
    "duration": 1487,
    "start_time": "2022-05-10T14:01:37.048Z"
   },
   {
    "duration": 0,
    "start_time": "2022-05-10T14:01:38.537Z"
   },
   {
    "duration": 0,
    "start_time": "2022-05-10T14:01:38.538Z"
   },
   {
    "duration": 1,
    "start_time": "2022-05-10T14:01:38.539Z"
   },
   {
    "duration": 0,
    "start_time": "2022-05-10T14:01:38.541Z"
   },
   {
    "duration": 0,
    "start_time": "2022-05-10T14:01:38.542Z"
   },
   {
    "duration": 0,
    "start_time": "2022-05-10T14:01:38.543Z"
   },
   {
    "duration": 0,
    "start_time": "2022-05-10T14:01:38.544Z"
   },
   {
    "duration": 0,
    "start_time": "2022-05-10T14:01:38.545Z"
   },
   {
    "duration": 0,
    "start_time": "2022-05-10T14:01:38.546Z"
   },
   {
    "duration": 0,
    "start_time": "2022-05-10T14:01:38.555Z"
   },
   {
    "duration": 448,
    "start_time": "2022-05-10T14:03:18.846Z"
   },
   {
    "duration": 134,
    "start_time": "2022-05-10T14:03:19.297Z"
   },
   {
    "duration": 32,
    "start_time": "2022-05-10T14:03:19.433Z"
   },
   {
    "duration": 17,
    "start_time": "2022-05-10T14:03:19.468Z"
   },
   {
    "duration": 8,
    "start_time": "2022-05-10T14:03:19.487Z"
   },
   {
    "duration": 6,
    "start_time": "2022-05-10T14:03:19.497Z"
   },
   {
    "duration": 13,
    "start_time": "2022-05-10T14:03:19.504Z"
   },
   {
    "duration": 5,
    "start_time": "2022-05-10T14:03:19.518Z"
   },
   {
    "duration": 25,
    "start_time": "2022-05-10T14:03:19.548Z"
   },
   {
    "duration": 41,
    "start_time": "2022-05-10T14:03:19.575Z"
   },
   {
    "duration": 5,
    "start_time": "2022-05-10T14:03:19.618Z"
   },
   {
    "duration": 37,
    "start_time": "2022-05-10T14:03:19.625Z"
   },
   {
    "duration": 10,
    "start_time": "2022-05-10T14:03:19.665Z"
   },
   {
    "duration": 16,
    "start_time": "2022-05-10T14:03:19.678Z"
   },
   {
    "duration": 6,
    "start_time": "2022-05-10T14:03:19.696Z"
   },
   {
    "duration": 6,
    "start_time": "2022-05-10T14:03:19.704Z"
   },
   {
    "duration": 47,
    "start_time": "2022-05-10T14:03:19.711Z"
   },
   {
    "duration": 21,
    "start_time": "2022-05-10T14:03:19.760Z"
   },
   {
    "duration": 15,
    "start_time": "2022-05-10T14:03:19.783Z"
   },
   {
    "duration": 12,
    "start_time": "2022-05-10T14:03:19.800Z"
   },
   {
    "duration": 40,
    "start_time": "2022-05-10T14:03:19.816Z"
   },
   {
    "duration": 8,
    "start_time": "2022-05-10T14:03:19.858Z"
   },
   {
    "duration": 11,
    "start_time": "2022-05-10T14:03:19.867Z"
   },
   {
    "duration": 12,
    "start_time": "2022-05-10T14:03:19.882Z"
   },
   {
    "duration": 9,
    "start_time": "2022-05-10T14:03:19.896Z"
   },
   {
    "duration": 453,
    "start_time": "2022-05-10T14:03:19.907Z"
   },
   {
    "duration": 11,
    "start_time": "2022-05-10T14:03:20.362Z"
   },
   {
    "duration": 1340,
    "start_time": "2022-05-10T14:03:20.376Z"
   },
   {
    "duration": 0,
    "start_time": "2022-05-10T14:03:21.718Z"
   },
   {
    "duration": 0,
    "start_time": "2022-05-10T14:03:21.719Z"
   },
   {
    "duration": 0,
    "start_time": "2022-05-10T14:03:21.720Z"
   },
   {
    "duration": 0,
    "start_time": "2022-05-10T14:03:21.722Z"
   },
   {
    "duration": 0,
    "start_time": "2022-05-10T14:03:21.723Z"
   },
   {
    "duration": 0,
    "start_time": "2022-05-10T14:03:21.724Z"
   },
   {
    "duration": 0,
    "start_time": "2022-05-10T14:03:21.725Z"
   },
   {
    "duration": 0,
    "start_time": "2022-05-10T14:03:21.726Z"
   },
   {
    "duration": 0,
    "start_time": "2022-05-10T14:03:21.727Z"
   },
   {
    "duration": 0,
    "start_time": "2022-05-10T14:03:21.728Z"
   },
   {
    "duration": 383,
    "start_time": "2022-05-10T14:08:32.979Z"
   },
   {
    "duration": 130,
    "start_time": "2022-05-10T14:08:33.364Z"
   },
   {
    "duration": 21,
    "start_time": "2022-05-10T14:08:33.496Z"
   },
   {
    "duration": 10,
    "start_time": "2022-05-10T14:08:33.519Z"
   },
   {
    "duration": 19,
    "start_time": "2022-05-10T14:08:33.531Z"
   },
   {
    "duration": 15,
    "start_time": "2022-05-10T14:08:33.562Z"
   },
   {
    "duration": 12,
    "start_time": "2022-05-10T14:08:33.579Z"
   },
   {
    "duration": 4,
    "start_time": "2022-05-10T14:08:33.593Z"
   },
   {
    "duration": 19,
    "start_time": "2022-05-10T14:08:33.598Z"
   },
   {
    "duration": 52,
    "start_time": "2022-05-10T14:08:33.620Z"
   },
   {
    "duration": 5,
    "start_time": "2022-05-10T14:08:33.673Z"
   },
   {
    "duration": 17,
    "start_time": "2022-05-10T14:08:33.679Z"
   },
   {
    "duration": 4,
    "start_time": "2022-05-10T14:08:33.698Z"
   },
   {
    "duration": 15,
    "start_time": "2022-05-10T14:08:33.704Z"
   },
   {
    "duration": 34,
    "start_time": "2022-05-10T14:08:33.721Z"
   },
   {
    "duration": 17,
    "start_time": "2022-05-10T14:08:33.757Z"
   },
   {
    "duration": 15,
    "start_time": "2022-05-10T14:08:33.776Z"
   },
   {
    "duration": 14,
    "start_time": "2022-05-10T14:08:33.792Z"
   },
   {
    "duration": 14,
    "start_time": "2022-05-10T14:08:33.807Z"
   },
   {
    "duration": 11,
    "start_time": "2022-05-10T14:08:33.823Z"
   },
   {
    "duration": 24,
    "start_time": "2022-05-10T14:08:33.847Z"
   },
   {
    "duration": 6,
    "start_time": "2022-05-10T14:08:33.874Z"
   },
   {
    "duration": 9,
    "start_time": "2022-05-10T14:08:33.882Z"
   },
   {
    "duration": 10,
    "start_time": "2022-05-10T14:08:33.893Z"
   },
   {
    "duration": 10,
    "start_time": "2022-05-10T14:08:33.904Z"
   },
   {
    "duration": 451,
    "start_time": "2022-05-10T14:08:33.916Z"
   },
   {
    "duration": 14,
    "start_time": "2022-05-10T14:08:34.369Z"
   },
   {
    "duration": 72,
    "start_time": "2022-05-10T14:08:34.386Z"
   },
   {
    "duration": 0,
    "start_time": "2022-05-10T14:08:34.461Z"
   },
   {
    "duration": 0,
    "start_time": "2022-05-10T14:08:34.462Z"
   },
   {
    "duration": 0,
    "start_time": "2022-05-10T14:08:34.464Z"
   },
   {
    "duration": 0,
    "start_time": "2022-05-10T14:08:34.465Z"
   },
   {
    "duration": 0,
    "start_time": "2022-05-10T14:08:34.466Z"
   },
   {
    "duration": 0,
    "start_time": "2022-05-10T14:08:34.468Z"
   },
   {
    "duration": 0,
    "start_time": "2022-05-10T14:08:34.469Z"
   },
   {
    "duration": 0,
    "start_time": "2022-05-10T14:08:34.470Z"
   },
   {
    "duration": 0,
    "start_time": "2022-05-10T14:08:34.472Z"
   },
   {
    "duration": 0,
    "start_time": "2022-05-10T14:08:34.473Z"
   },
   {
    "duration": 498,
    "start_time": "2022-05-10T14:09:02.825Z"
   },
   {
    "duration": 152,
    "start_time": "2022-05-10T14:09:03.326Z"
   },
   {
    "duration": 35,
    "start_time": "2022-05-10T14:09:03.480Z"
   },
   {
    "duration": 41,
    "start_time": "2022-05-10T14:09:03.517Z"
   },
   {
    "duration": 18,
    "start_time": "2022-05-10T14:09:03.560Z"
   },
   {
    "duration": 5,
    "start_time": "2022-05-10T14:09:03.581Z"
   },
   {
    "duration": 19,
    "start_time": "2022-05-10T14:09:03.589Z"
   },
   {
    "duration": 5,
    "start_time": "2022-05-10T14:09:03.610Z"
   },
   {
    "duration": 51,
    "start_time": "2022-05-10T14:09:03.617Z"
   },
   {
    "duration": 46,
    "start_time": "2022-05-10T14:09:03.671Z"
   },
   {
    "duration": 5,
    "start_time": "2022-05-10T14:09:03.719Z"
   },
   {
    "duration": 26,
    "start_time": "2022-05-10T14:09:03.727Z"
   },
   {
    "duration": 15,
    "start_time": "2022-05-10T14:09:03.755Z"
   },
   {
    "duration": 19,
    "start_time": "2022-05-10T14:09:03.773Z"
   },
   {
    "duration": 7,
    "start_time": "2022-05-10T14:09:03.794Z"
   },
   {
    "duration": 6,
    "start_time": "2022-05-10T14:09:03.804Z"
   },
   {
    "duration": 17,
    "start_time": "2022-05-10T14:09:03.811Z"
   },
   {
    "duration": 28,
    "start_time": "2022-05-10T14:09:03.830Z"
   },
   {
    "duration": 28,
    "start_time": "2022-05-10T14:09:03.864Z"
   },
   {
    "duration": 14,
    "start_time": "2022-05-10T14:09:03.893Z"
   },
   {
    "duration": 16,
    "start_time": "2022-05-10T14:09:03.909Z"
   },
   {
    "duration": 8,
    "start_time": "2022-05-10T14:09:03.953Z"
   },
   {
    "duration": 25,
    "start_time": "2022-05-10T14:09:03.963Z"
   },
   {
    "duration": 10,
    "start_time": "2022-05-10T14:09:03.990Z"
   },
   {
    "duration": 19,
    "start_time": "2022-05-10T14:09:04.003Z"
   },
   {
    "duration": 846,
    "start_time": "2022-05-10T14:09:04.025Z"
   },
   {
    "duration": 12,
    "start_time": "2022-05-10T14:09:04.876Z"
   },
   {
    "duration": 643,
    "start_time": "2022-05-10T14:09:04.892Z"
   },
   {
    "duration": 0,
    "start_time": "2022-05-10T14:09:05.537Z"
   },
   {
    "duration": 0,
    "start_time": "2022-05-10T14:09:05.538Z"
   },
   {
    "duration": 0,
    "start_time": "2022-05-10T14:09:05.539Z"
   },
   {
    "duration": 0,
    "start_time": "2022-05-10T14:09:05.540Z"
   },
   {
    "duration": 0,
    "start_time": "2022-05-10T14:09:05.541Z"
   },
   {
    "duration": 0,
    "start_time": "2022-05-10T14:09:05.542Z"
   },
   {
    "duration": 0,
    "start_time": "2022-05-10T14:09:05.544Z"
   },
   {
    "duration": 0,
    "start_time": "2022-05-10T14:09:05.544Z"
   },
   {
    "duration": 0,
    "start_time": "2022-05-10T14:09:05.545Z"
   },
   {
    "duration": 0,
    "start_time": "2022-05-10T14:09:05.546Z"
   },
   {
    "duration": 430,
    "start_time": "2022-05-10T14:11:32.916Z"
   },
   {
    "duration": 143,
    "start_time": "2022-05-10T14:11:33.350Z"
   },
   {
    "duration": 21,
    "start_time": "2022-05-10T14:11:33.495Z"
   },
   {
    "duration": 11,
    "start_time": "2022-05-10T14:11:33.518Z"
   },
   {
    "duration": 5,
    "start_time": "2022-05-10T14:11:33.530Z"
   },
   {
    "duration": 3,
    "start_time": "2022-05-10T14:11:33.551Z"
   },
   {
    "duration": 31,
    "start_time": "2022-05-10T14:11:33.556Z"
   },
   {
    "duration": 4,
    "start_time": "2022-05-10T14:11:33.589Z"
   },
   {
    "duration": 20,
    "start_time": "2022-05-10T14:11:33.594Z"
   },
   {
    "duration": 47,
    "start_time": "2022-05-10T14:11:33.617Z"
   },
   {
    "duration": 8,
    "start_time": "2022-05-10T14:11:33.666Z"
   },
   {
    "duration": 14,
    "start_time": "2022-05-10T14:11:33.676Z"
   },
   {
    "duration": 5,
    "start_time": "2022-05-10T14:11:33.691Z"
   },
   {
    "duration": 12,
    "start_time": "2022-05-10T14:11:33.698Z"
   },
   {
    "duration": 5,
    "start_time": "2022-05-10T14:11:33.712Z"
   },
   {
    "duration": 33,
    "start_time": "2022-05-10T14:11:33.718Z"
   },
   {
    "duration": 35,
    "start_time": "2022-05-10T14:11:33.753Z"
   },
   {
    "duration": 15,
    "start_time": "2022-05-10T14:11:33.790Z"
   },
   {
    "duration": 15,
    "start_time": "2022-05-10T14:11:33.806Z"
   },
   {
    "duration": 12,
    "start_time": "2022-05-10T14:11:33.823Z"
   },
   {
    "duration": 29,
    "start_time": "2022-05-10T14:11:33.837Z"
   },
   {
    "duration": 9,
    "start_time": "2022-05-10T14:11:33.868Z"
   },
   {
    "duration": 16,
    "start_time": "2022-05-10T14:11:33.879Z"
   },
   {
    "duration": 11,
    "start_time": "2022-05-10T14:11:33.897Z"
   },
   {
    "duration": 8,
    "start_time": "2022-05-10T14:11:33.910Z"
   },
   {
    "duration": 670,
    "start_time": "2022-05-10T14:11:33.920Z"
   },
   {
    "duration": 13,
    "start_time": "2022-05-10T14:11:34.592Z"
   },
   {
    "duration": 724,
    "start_time": "2022-05-10T14:11:34.609Z"
   },
   {
    "duration": 0,
    "start_time": "2022-05-10T14:11:35.335Z"
   },
   {
    "duration": 0,
    "start_time": "2022-05-10T14:11:35.336Z"
   },
   {
    "duration": 0,
    "start_time": "2022-05-10T14:11:35.337Z"
   },
   {
    "duration": 0,
    "start_time": "2022-05-10T14:11:35.339Z"
   },
   {
    "duration": 0,
    "start_time": "2022-05-10T14:11:35.340Z"
   },
   {
    "duration": 0,
    "start_time": "2022-05-10T14:11:35.341Z"
   },
   {
    "duration": 0,
    "start_time": "2022-05-10T14:11:35.342Z"
   },
   {
    "duration": 0,
    "start_time": "2022-05-10T14:11:35.343Z"
   },
   {
    "duration": 0,
    "start_time": "2022-05-10T14:11:35.344Z"
   },
   {
    "duration": 0,
    "start_time": "2022-05-10T14:11:35.346Z"
   },
   {
    "duration": 439,
    "start_time": "2022-05-10T14:12:10.646Z"
   },
   {
    "duration": 79,
    "start_time": "2022-05-10T14:12:11.087Z"
   },
   {
    "duration": 28,
    "start_time": "2022-05-10T14:12:11.172Z"
   },
   {
    "duration": 9,
    "start_time": "2022-05-10T14:12:11.201Z"
   },
   {
    "duration": 4,
    "start_time": "2022-05-10T14:12:11.212Z"
   },
   {
    "duration": 3,
    "start_time": "2022-05-10T14:12:11.218Z"
   },
   {
    "duration": 26,
    "start_time": "2022-05-10T14:12:11.222Z"
   },
   {
    "duration": 11,
    "start_time": "2022-05-10T14:12:11.250Z"
   },
   {
    "duration": 40,
    "start_time": "2022-05-10T14:12:11.263Z"
   },
   {
    "duration": 49,
    "start_time": "2022-05-10T14:12:11.306Z"
   },
   {
    "duration": 9,
    "start_time": "2022-05-10T14:12:11.357Z"
   },
   {
    "duration": 9,
    "start_time": "2022-05-10T14:12:11.368Z"
   },
   {
    "duration": 4,
    "start_time": "2022-05-10T14:12:11.379Z"
   },
   {
    "duration": 12,
    "start_time": "2022-05-10T14:12:11.385Z"
   },
   {
    "duration": 5,
    "start_time": "2022-05-10T14:12:11.398Z"
   },
   {
    "duration": 7,
    "start_time": "2022-05-10T14:12:11.405Z"
   },
   {
    "duration": 56,
    "start_time": "2022-05-10T14:12:11.414Z"
   },
   {
    "duration": 23,
    "start_time": "2022-05-10T14:12:11.472Z"
   },
   {
    "duration": 19,
    "start_time": "2022-05-10T14:12:11.497Z"
   },
   {
    "duration": 43,
    "start_time": "2022-05-10T14:12:11.518Z"
   },
   {
    "duration": 25,
    "start_time": "2022-05-10T14:12:11.563Z"
   },
   {
    "duration": 6,
    "start_time": "2022-05-10T14:12:11.589Z"
   },
   {
    "duration": 9,
    "start_time": "2022-05-10T14:12:11.598Z"
   },
   {
    "duration": 9,
    "start_time": "2022-05-10T14:12:11.608Z"
   },
   {
    "duration": 8,
    "start_time": "2022-05-10T14:12:11.618Z"
   },
   {
    "duration": 488,
    "start_time": "2022-05-10T14:12:11.627Z"
   },
   {
    "duration": 10,
    "start_time": "2022-05-10T14:12:12.117Z"
   },
   {
    "duration": 221,
    "start_time": "2022-05-10T14:12:12.131Z"
   },
   {
    "duration": 15,
    "start_time": "2022-05-10T14:12:12.354Z"
   },
   {
    "duration": 16,
    "start_time": "2022-05-10T14:12:12.375Z"
   },
   {
    "duration": 3,
    "start_time": "2022-05-10T14:12:12.393Z"
   },
   {
    "duration": 907,
    "start_time": "2022-05-10T14:12:12.398Z"
   },
   {
    "duration": 10,
    "start_time": "2022-05-10T14:12:13.307Z"
   },
   {
    "duration": 145,
    "start_time": "2022-05-10T14:12:13.319Z"
   },
   {
    "duration": 14,
    "start_time": "2022-05-10T14:12:13.465Z"
   },
   {
    "duration": 152,
    "start_time": "2022-05-10T14:12:13.481Z"
   },
   {
    "duration": 17,
    "start_time": "2022-05-10T14:12:13.635Z"
   },
   {
    "duration": 131,
    "start_time": "2022-05-10T14:12:13.657Z"
   },
   {
    "duration": 498,
    "start_time": "2022-05-10T14:13:49.732Z"
   },
   {
    "duration": 105,
    "start_time": "2022-05-10T14:13:50.233Z"
   },
   {
    "duration": 30,
    "start_time": "2022-05-10T14:13:50.340Z"
   },
   {
    "duration": 15,
    "start_time": "2022-05-10T14:13:50.372Z"
   },
   {
    "duration": 4,
    "start_time": "2022-05-10T14:13:50.390Z"
   },
   {
    "duration": 4,
    "start_time": "2022-05-10T14:13:50.396Z"
   },
   {
    "duration": 18,
    "start_time": "2022-05-10T14:13:50.402Z"
   },
   {
    "duration": 30,
    "start_time": "2022-05-10T14:13:50.422Z"
   },
   {
    "duration": 28,
    "start_time": "2022-05-10T14:13:50.454Z"
   },
   {
    "duration": 76,
    "start_time": "2022-05-10T14:13:50.484Z"
   },
   {
    "duration": 7,
    "start_time": "2022-05-10T14:13:50.562Z"
   },
   {
    "duration": 14,
    "start_time": "2022-05-10T14:13:50.571Z"
   },
   {
    "duration": 4,
    "start_time": "2022-05-10T14:13:50.587Z"
   },
   {
    "duration": 12,
    "start_time": "2022-05-10T14:13:50.594Z"
   },
   {
    "duration": 5,
    "start_time": "2022-05-10T14:13:50.607Z"
   },
   {
    "duration": 6,
    "start_time": "2022-05-10T14:13:50.613Z"
   },
   {
    "duration": 49,
    "start_time": "2022-05-10T14:13:50.620Z"
   },
   {
    "duration": 13,
    "start_time": "2022-05-10T14:13:50.672Z"
   },
   {
    "duration": 15,
    "start_time": "2022-05-10T14:13:50.686Z"
   },
   {
    "duration": 13,
    "start_time": "2022-05-10T14:13:50.702Z"
   },
   {
    "duration": 42,
    "start_time": "2022-05-10T14:13:50.716Z"
   },
   {
    "duration": 7,
    "start_time": "2022-05-10T14:13:50.760Z"
   },
   {
    "duration": 9,
    "start_time": "2022-05-10T14:13:50.769Z"
   },
   {
    "duration": 9,
    "start_time": "2022-05-10T14:13:50.780Z"
   },
   {
    "duration": 7,
    "start_time": "2022-05-10T14:13:50.791Z"
   },
   {
    "duration": 714,
    "start_time": "2022-05-10T14:13:50.800Z"
   },
   {
    "duration": 9,
    "start_time": "2022-05-10T14:13:51.517Z"
   },
   {
    "duration": 209,
    "start_time": "2022-05-10T14:13:51.528Z"
   },
   {
    "duration": 17,
    "start_time": "2022-05-10T14:13:51.738Z"
   },
   {
    "duration": 16,
    "start_time": "2022-05-10T14:13:51.756Z"
   },
   {
    "duration": 4,
    "start_time": "2022-05-10T14:13:51.774Z"
   },
   {
    "duration": 869,
    "start_time": "2022-05-10T14:13:51.779Z"
   },
   {
    "duration": 14,
    "start_time": "2022-05-10T14:13:52.650Z"
   },
   {
    "duration": 196,
    "start_time": "2022-05-10T14:13:52.666Z"
   },
   {
    "duration": 12,
    "start_time": "2022-05-10T14:13:52.865Z"
   },
   {
    "duration": 178,
    "start_time": "2022-05-10T14:13:52.878Z"
   },
   {
    "duration": 15,
    "start_time": "2022-05-10T14:13:53.058Z"
   },
   {
    "duration": 129,
    "start_time": "2022-05-10T14:13:53.075Z"
   },
   {
    "duration": 418,
    "start_time": "2022-05-10T14:15:16.973Z"
   },
   {
    "duration": 72,
    "start_time": "2022-05-10T14:15:17.393Z"
   },
   {
    "duration": 22,
    "start_time": "2022-05-10T14:15:17.467Z"
   },
   {
    "duration": 10,
    "start_time": "2022-05-10T14:15:17.490Z"
   },
   {
    "duration": 4,
    "start_time": "2022-05-10T14:15:17.502Z"
   },
   {
    "duration": 4,
    "start_time": "2022-05-10T14:15:17.508Z"
   },
   {
    "duration": 40,
    "start_time": "2022-05-10T14:15:17.513Z"
   },
   {
    "duration": 5,
    "start_time": "2022-05-10T14:15:17.554Z"
   },
   {
    "duration": 24,
    "start_time": "2022-05-10T14:15:17.562Z"
   },
   {
    "duration": 41,
    "start_time": "2022-05-10T14:15:17.588Z"
   },
   {
    "duration": 17,
    "start_time": "2022-05-10T14:15:17.631Z"
   },
   {
    "duration": 11,
    "start_time": "2022-05-10T14:15:17.650Z"
   },
   {
    "duration": 10,
    "start_time": "2022-05-10T14:15:17.663Z"
   },
   {
    "duration": 13,
    "start_time": "2022-05-10T14:15:17.676Z"
   },
   {
    "duration": 5,
    "start_time": "2022-05-10T14:15:17.690Z"
   },
   {
    "duration": 5,
    "start_time": "2022-05-10T14:15:17.696Z"
   },
   {
    "duration": 14,
    "start_time": "2022-05-10T14:15:17.703Z"
   },
   {
    "duration": 44,
    "start_time": "2022-05-10T14:15:17.719Z"
   },
   {
    "duration": 17,
    "start_time": "2022-05-10T14:15:17.765Z"
   },
   {
    "duration": 12,
    "start_time": "2022-05-10T14:15:17.783Z"
   },
   {
    "duration": 15,
    "start_time": "2022-05-10T14:15:17.796Z"
   },
   {
    "duration": 5,
    "start_time": "2022-05-10T14:15:17.813Z"
   },
   {
    "duration": 36,
    "start_time": "2022-05-10T14:15:17.819Z"
   },
   {
    "duration": 10,
    "start_time": "2022-05-10T14:15:17.857Z"
   },
   {
    "duration": 8,
    "start_time": "2022-05-10T14:15:17.869Z"
   },
   {
    "duration": 460,
    "start_time": "2022-05-10T14:15:17.879Z"
   },
   {
    "duration": 17,
    "start_time": "2022-05-10T14:15:18.341Z"
   },
   {
    "duration": 221,
    "start_time": "2022-05-10T14:15:18.360Z"
   },
   {
    "duration": 10,
    "start_time": "2022-05-10T14:15:18.583Z"
   },
   {
    "duration": 8,
    "start_time": "2022-05-10T14:15:18.595Z"
   },
   {
    "duration": 3,
    "start_time": "2022-05-10T14:15:18.605Z"
   },
   {
    "duration": 956,
    "start_time": "2022-05-10T14:15:18.610Z"
   },
   {
    "duration": 10,
    "start_time": "2022-05-10T14:15:19.567Z"
   },
   {
    "duration": 134,
    "start_time": "2022-05-10T14:15:19.578Z"
   },
   {
    "duration": 11,
    "start_time": "2022-05-10T14:15:19.714Z"
   },
   {
    "duration": 124,
    "start_time": "2022-05-10T14:15:19.726Z"
   },
   {
    "duration": 14,
    "start_time": "2022-05-10T14:15:19.852Z"
   },
   {
    "duration": 126,
    "start_time": "2022-05-10T14:15:19.868Z"
   },
   {
    "duration": 385,
    "start_time": "2022-05-10T14:16:40.709Z"
   },
   {
    "duration": 77,
    "start_time": "2022-05-10T14:16:41.096Z"
   },
   {
    "duration": 34,
    "start_time": "2022-05-10T14:16:41.175Z"
   },
   {
    "duration": 15,
    "start_time": "2022-05-10T14:16:41.211Z"
   },
   {
    "duration": 26,
    "start_time": "2022-05-10T14:16:41.228Z"
   },
   {
    "duration": 28,
    "start_time": "2022-05-10T14:16:41.256Z"
   },
   {
    "duration": 17,
    "start_time": "2022-05-10T14:16:41.285Z"
   },
   {
    "duration": 4,
    "start_time": "2022-05-10T14:16:41.304Z"
   },
   {
    "duration": 28,
    "start_time": "2022-05-10T14:16:41.309Z"
   },
   {
    "duration": 66,
    "start_time": "2022-05-10T14:16:41.339Z"
   },
   {
    "duration": 6,
    "start_time": "2022-05-10T14:16:41.407Z"
   },
   {
    "duration": 11,
    "start_time": "2022-05-10T14:16:41.414Z"
   },
   {
    "duration": 22,
    "start_time": "2022-05-10T14:16:41.426Z"
   },
   {
    "duration": 14,
    "start_time": "2022-05-10T14:16:41.450Z"
   },
   {
    "duration": 5,
    "start_time": "2022-05-10T14:16:41.466Z"
   },
   {
    "duration": 7,
    "start_time": "2022-05-10T14:16:41.475Z"
   },
   {
    "duration": 18,
    "start_time": "2022-05-10T14:16:41.484Z"
   },
   {
    "duration": 17,
    "start_time": "2022-05-10T14:16:41.504Z"
   },
   {
    "duration": 61,
    "start_time": "2022-05-10T14:16:41.522Z"
   },
   {
    "duration": 12,
    "start_time": "2022-05-10T14:16:41.585Z"
   },
   {
    "duration": 15,
    "start_time": "2022-05-10T14:16:41.599Z"
   },
   {
    "duration": 5,
    "start_time": "2022-05-10T14:16:41.615Z"
   },
   {
    "duration": 10,
    "start_time": "2022-05-10T14:16:41.622Z"
   },
   {
    "duration": 24,
    "start_time": "2022-05-10T14:16:41.634Z"
   },
   {
    "duration": 17,
    "start_time": "2022-05-10T14:16:41.660Z"
   },
   {
    "duration": 624,
    "start_time": "2022-05-10T14:16:41.679Z"
   },
   {
    "duration": 14,
    "start_time": "2022-05-10T14:16:42.305Z"
   },
   {
    "duration": 11489,
    "start_time": "2022-05-10T14:16:42.322Z"
   },
   {
    "duration": 14,
    "start_time": "2022-05-10T14:16:53.813Z"
   },
   {
    "duration": 21,
    "start_time": "2022-05-10T14:16:53.828Z"
   },
   {
    "duration": 5,
    "start_time": "2022-05-10T14:16:53.854Z"
   },
   {
    "duration": 1003,
    "start_time": "2022-05-10T14:16:53.861Z"
   },
   {
    "duration": 14,
    "start_time": "2022-05-10T14:16:54.866Z"
   },
   {
    "duration": 135,
    "start_time": "2022-05-10T14:16:54.883Z"
   },
   {
    "duration": 10,
    "start_time": "2022-05-10T14:16:55.019Z"
   },
   {
    "duration": 135,
    "start_time": "2022-05-10T14:16:55.031Z"
   },
   {
    "duration": 16,
    "start_time": "2022-05-10T14:16:55.170Z"
   },
   {
    "duration": 132,
    "start_time": "2022-05-10T14:16:55.187Z"
   },
   {
    "duration": 420,
    "start_time": "2022-05-10T14:18:08.069Z"
   },
   {
    "duration": 79,
    "start_time": "2022-05-10T14:18:08.491Z"
   },
   {
    "duration": 33,
    "start_time": "2022-05-10T14:18:08.572Z"
   },
   {
    "duration": 17,
    "start_time": "2022-05-10T14:18:08.608Z"
   },
   {
    "duration": 22,
    "start_time": "2022-05-10T14:18:08.628Z"
   },
   {
    "duration": 5,
    "start_time": "2022-05-10T14:18:08.652Z"
   },
   {
    "duration": 23,
    "start_time": "2022-05-10T14:18:08.660Z"
   },
   {
    "duration": 6,
    "start_time": "2022-05-10T14:18:08.687Z"
   },
   {
    "duration": 30,
    "start_time": "2022-05-10T14:18:08.695Z"
   },
   {
    "duration": 93,
    "start_time": "2022-05-10T14:18:08.728Z"
   },
   {
    "duration": 6,
    "start_time": "2022-05-10T14:18:08.823Z"
   },
   {
    "duration": 14,
    "start_time": "2022-05-10T14:18:08.831Z"
   },
   {
    "duration": 7,
    "start_time": "2022-05-10T14:18:08.847Z"
   },
   {
    "duration": 39,
    "start_time": "2022-05-10T14:18:08.859Z"
   },
   {
    "duration": 7,
    "start_time": "2022-05-10T14:18:08.900Z"
   },
   {
    "duration": 11,
    "start_time": "2022-05-10T14:18:08.908Z"
   },
   {
    "duration": 16,
    "start_time": "2022-05-10T14:18:08.921Z"
   },
   {
    "duration": 27,
    "start_time": "2022-05-10T14:18:08.940Z"
   },
   {
    "duration": 24,
    "start_time": "2022-05-10T14:18:08.969Z"
   },
   {
    "duration": 19,
    "start_time": "2022-05-10T14:18:08.995Z"
   },
   {
    "duration": 62,
    "start_time": "2022-05-10T14:18:09.016Z"
   },
   {
    "duration": 14,
    "start_time": "2022-05-10T14:18:09.080Z"
   },
   {
    "duration": 9,
    "start_time": "2022-05-10T14:18:09.095Z"
   },
   {
    "duration": 9,
    "start_time": "2022-05-10T14:18:09.105Z"
   },
   {
    "duration": 8,
    "start_time": "2022-05-10T14:18:09.115Z"
   },
   {
    "duration": 475,
    "start_time": "2022-05-10T14:18:09.124Z"
   },
   {
    "duration": 14,
    "start_time": "2022-05-10T14:18:09.601Z"
   },
   {
    "duration": 11695,
    "start_time": "2022-05-10T14:18:09.617Z"
   },
   {
    "duration": 17,
    "start_time": "2022-05-10T14:18:21.314Z"
   },
   {
    "duration": 10,
    "start_time": "2022-05-10T14:18:21.348Z"
   },
   {
    "duration": 20,
    "start_time": "2022-05-10T14:18:21.362Z"
   },
   {
    "duration": 1060,
    "start_time": "2022-05-10T14:18:21.384Z"
   },
   {
    "duration": 20,
    "start_time": "2022-05-10T14:18:22.446Z"
   },
   {
    "duration": 130,
    "start_time": "2022-05-10T14:18:22.469Z"
   },
   {
    "duration": 11,
    "start_time": "2022-05-10T14:18:22.601Z"
   },
   {
    "duration": 169,
    "start_time": "2022-05-10T14:18:22.615Z"
   },
   {
    "duration": 13,
    "start_time": "2022-05-10T14:18:22.786Z"
   },
   {
    "duration": 166,
    "start_time": "2022-05-10T14:18:22.801Z"
   },
   {
    "duration": 393,
    "start_time": "2022-05-10T14:37:10.676Z"
   },
   {
    "duration": 68,
    "start_time": "2022-05-10T14:37:11.071Z"
   },
   {
    "duration": 24,
    "start_time": "2022-05-10T14:37:11.141Z"
   },
   {
    "duration": 9,
    "start_time": "2022-05-10T14:37:11.167Z"
   },
   {
    "duration": 5,
    "start_time": "2022-05-10T14:37:11.177Z"
   },
   {
    "duration": 4,
    "start_time": "2022-05-10T14:37:11.183Z"
   },
   {
    "duration": 10,
    "start_time": "2022-05-10T14:37:11.188Z"
   },
   {
    "duration": 3,
    "start_time": "2022-05-10T14:37:11.200Z"
   },
   {
    "duration": 59,
    "start_time": "2022-05-10T14:37:11.205Z"
   },
   {
    "duration": 42,
    "start_time": "2022-05-10T14:37:11.267Z"
   },
   {
    "duration": 4,
    "start_time": "2022-05-10T14:37:11.311Z"
   },
   {
    "duration": 10,
    "start_time": "2022-05-10T14:37:11.316Z"
   },
   {
    "duration": 24,
    "start_time": "2022-05-10T14:37:11.328Z"
   },
   {
    "duration": 19,
    "start_time": "2022-05-10T14:37:11.354Z"
   },
   {
    "duration": 4,
    "start_time": "2022-05-10T14:37:11.375Z"
   },
   {
    "duration": 4,
    "start_time": "2022-05-10T14:37:11.381Z"
   },
   {
    "duration": 13,
    "start_time": "2022-05-10T14:37:11.387Z"
   },
   {
    "duration": 13,
    "start_time": "2022-05-10T14:37:11.402Z"
   },
   {
    "duration": 36,
    "start_time": "2022-05-10T14:37:11.417Z"
   },
   {
    "duration": 14,
    "start_time": "2022-05-10T14:37:11.454Z"
   },
   {
    "duration": 16,
    "start_time": "2022-05-10T14:37:11.470Z"
   },
   {
    "duration": 6,
    "start_time": "2022-05-10T14:37:11.488Z"
   },
   {
    "duration": 8,
    "start_time": "2022-05-10T14:37:11.495Z"
   },
   {
    "duration": 6,
    "start_time": "2022-05-10T14:37:11.505Z"
   },
   {
    "duration": 8,
    "start_time": "2022-05-10T14:37:11.513Z"
   },
   {
    "duration": 442,
    "start_time": "2022-05-10T14:37:11.522Z"
   },
   {
    "duration": 10,
    "start_time": "2022-05-10T14:37:11.966Z"
   },
   {
    "duration": 72,
    "start_time": "2022-05-10T14:37:11.979Z"
   },
   {
    "duration": 0,
    "start_time": "2022-05-10T14:37:12.052Z"
   },
   {
    "duration": 0,
    "start_time": "2022-05-10T14:37:12.059Z"
   },
   {
    "duration": 0,
    "start_time": "2022-05-10T14:37:12.060Z"
   },
   {
    "duration": 0,
    "start_time": "2022-05-10T14:37:12.062Z"
   },
   {
    "duration": 0,
    "start_time": "2022-05-10T14:37:12.063Z"
   },
   {
    "duration": 0,
    "start_time": "2022-05-10T14:37:12.065Z"
   },
   {
    "duration": 0,
    "start_time": "2022-05-10T14:37:12.066Z"
   },
   {
    "duration": 0,
    "start_time": "2022-05-10T14:37:12.067Z"
   },
   {
    "duration": 0,
    "start_time": "2022-05-10T14:37:12.069Z"
   },
   {
    "duration": 0,
    "start_time": "2022-05-10T14:37:12.070Z"
   },
   {
    "duration": 368,
    "start_time": "2022-05-10T14:37:36.570Z"
   },
   {
    "duration": 69,
    "start_time": "2022-05-10T14:37:36.940Z"
   },
   {
    "duration": 19,
    "start_time": "2022-05-10T14:37:37.011Z"
   },
   {
    "duration": 22,
    "start_time": "2022-05-10T14:37:37.031Z"
   },
   {
    "duration": 5,
    "start_time": "2022-05-10T14:37:37.055Z"
   },
   {
    "duration": 6,
    "start_time": "2022-05-10T14:37:37.062Z"
   },
   {
    "duration": 10,
    "start_time": "2022-05-10T14:37:37.069Z"
   },
   {
    "duration": 3,
    "start_time": "2022-05-10T14:37:37.081Z"
   },
   {
    "duration": 16,
    "start_time": "2022-05-10T14:37:37.086Z"
   },
   {
    "duration": 71,
    "start_time": "2022-05-10T14:37:37.104Z"
   },
   {
    "duration": 4,
    "start_time": "2022-05-10T14:37:37.176Z"
   },
   {
    "duration": 10,
    "start_time": "2022-05-10T14:37:37.182Z"
   },
   {
    "duration": 4,
    "start_time": "2022-05-10T14:37:37.193Z"
   },
   {
    "duration": 10,
    "start_time": "2022-05-10T14:37:37.200Z"
   },
   {
    "duration": 4,
    "start_time": "2022-05-10T14:37:37.212Z"
   },
   {
    "duration": 38,
    "start_time": "2022-05-10T14:37:37.217Z"
   },
   {
    "duration": 17,
    "start_time": "2022-05-10T14:37:37.257Z"
   },
   {
    "duration": 14,
    "start_time": "2022-05-10T14:37:37.275Z"
   },
   {
    "duration": 13,
    "start_time": "2022-05-10T14:37:37.291Z"
   },
   {
    "duration": 12,
    "start_time": "2022-05-10T14:37:37.306Z"
   },
   {
    "duration": 40,
    "start_time": "2022-05-10T14:37:37.319Z"
   },
   {
    "duration": 7,
    "start_time": "2022-05-10T14:37:37.360Z"
   },
   {
    "duration": 7,
    "start_time": "2022-05-10T14:37:37.368Z"
   },
   {
    "duration": 7,
    "start_time": "2022-05-10T14:37:37.376Z"
   },
   {
    "duration": 5,
    "start_time": "2022-05-10T14:37:37.385Z"
   },
   {
    "duration": 435,
    "start_time": "2022-05-10T14:37:37.392Z"
   },
   {
    "duration": 11,
    "start_time": "2022-05-10T14:37:37.828Z"
   },
   {
    "duration": 2114,
    "start_time": "2022-05-10T14:37:37.840Z"
   },
   {
    "duration": 0,
    "start_time": "2022-05-10T14:37:39.956Z"
   },
   {
    "duration": 0,
    "start_time": "2022-05-10T14:37:39.957Z"
   },
   {
    "duration": 0,
    "start_time": "2022-05-10T14:37:39.958Z"
   },
   {
    "duration": 0,
    "start_time": "2022-05-10T14:37:39.959Z"
   },
   {
    "duration": 0,
    "start_time": "2022-05-10T14:37:39.960Z"
   },
   {
    "duration": 0,
    "start_time": "2022-05-10T14:37:39.961Z"
   },
   {
    "duration": 0,
    "start_time": "2022-05-10T14:37:39.963Z"
   },
   {
    "duration": 0,
    "start_time": "2022-05-10T14:37:39.964Z"
   },
   {
    "duration": 0,
    "start_time": "2022-05-10T14:37:39.965Z"
   },
   {
    "duration": 0,
    "start_time": "2022-05-10T14:37:39.966Z"
   },
   {
    "duration": 403,
    "start_time": "2022-05-10T14:49:01.779Z"
   },
   {
    "duration": 67,
    "start_time": "2022-05-10T14:49:02.183Z"
   },
   {
    "duration": 27,
    "start_time": "2022-05-10T14:49:02.257Z"
   },
   {
    "duration": 13,
    "start_time": "2022-05-10T14:49:02.286Z"
   },
   {
    "duration": 8,
    "start_time": "2022-05-10T14:49:02.301Z"
   },
   {
    "duration": 5,
    "start_time": "2022-05-10T14:49:02.310Z"
   },
   {
    "duration": 11,
    "start_time": "2022-05-10T14:49:02.316Z"
   },
   {
    "duration": 5,
    "start_time": "2022-05-10T14:49:02.328Z"
   },
   {
    "duration": 67,
    "start_time": "2022-05-10T14:49:02.335Z"
   },
   {
    "duration": 46,
    "start_time": "2022-05-10T14:49:02.406Z"
   },
   {
    "duration": 5,
    "start_time": "2022-05-10T14:49:02.454Z"
   },
   {
    "duration": 47,
    "start_time": "2022-05-10T14:49:02.461Z"
   },
   {
    "duration": 5,
    "start_time": "2022-05-10T14:49:02.510Z"
   },
   {
    "duration": 11,
    "start_time": "2022-05-10T14:49:02.517Z"
   },
   {
    "duration": 5,
    "start_time": "2022-05-10T14:49:02.530Z"
   },
   {
    "duration": 5,
    "start_time": "2022-05-10T14:49:02.536Z"
   },
   {
    "duration": 31,
    "start_time": "2022-05-10T14:49:02.543Z"
   },
   {
    "duration": 30,
    "start_time": "2022-05-10T14:49:02.576Z"
   },
   {
    "duration": 13,
    "start_time": "2022-05-10T14:49:02.608Z"
   },
   {
    "duration": 11,
    "start_time": "2022-05-10T14:49:02.622Z"
   },
   {
    "duration": 21,
    "start_time": "2022-05-10T14:49:02.635Z"
   },
   {
    "duration": 16,
    "start_time": "2022-05-10T14:49:02.658Z"
   },
   {
    "duration": 15,
    "start_time": "2022-05-10T14:49:02.679Z"
   },
   {
    "duration": 8,
    "start_time": "2022-05-10T14:49:02.695Z"
   },
   {
    "duration": 8,
    "start_time": "2022-05-10T14:49:02.704Z"
   },
   {
    "duration": 459,
    "start_time": "2022-05-10T14:49:02.714Z"
   },
   {
    "duration": 11,
    "start_time": "2022-05-10T14:49:03.181Z"
   },
   {
    "duration": 657,
    "start_time": "2022-05-10T14:49:03.195Z"
   },
   {
    "duration": 0,
    "start_time": "2022-05-10T14:49:03.853Z"
   },
   {
    "duration": 0,
    "start_time": "2022-05-10T14:49:03.854Z"
   },
   {
    "duration": 1,
    "start_time": "2022-05-10T14:49:03.855Z"
   },
   {
    "duration": 0,
    "start_time": "2022-05-10T14:49:03.856Z"
   },
   {
    "duration": 0,
    "start_time": "2022-05-10T14:49:03.857Z"
   },
   {
    "duration": 0,
    "start_time": "2022-05-10T14:49:03.858Z"
   },
   {
    "duration": 0,
    "start_time": "2022-05-10T14:49:03.859Z"
   },
   {
    "duration": 0,
    "start_time": "2022-05-10T14:49:03.860Z"
   },
   {
    "duration": 0,
    "start_time": "2022-05-10T14:49:03.861Z"
   },
   {
    "duration": 0,
    "start_time": "2022-05-10T14:49:03.862Z"
   },
   {
    "duration": 454,
    "start_time": "2022-05-10T14:49:49.031Z"
   },
   {
    "duration": 76,
    "start_time": "2022-05-10T14:49:49.490Z"
   },
   {
    "duration": 27,
    "start_time": "2022-05-10T14:49:49.568Z"
   },
   {
    "duration": 10,
    "start_time": "2022-05-10T14:49:49.599Z"
   },
   {
    "duration": 4,
    "start_time": "2022-05-10T14:49:49.610Z"
   },
   {
    "duration": 4,
    "start_time": "2022-05-10T14:49:49.616Z"
   },
   {
    "duration": 13,
    "start_time": "2022-05-10T14:49:49.621Z"
   },
   {
    "duration": 10,
    "start_time": "2022-05-10T14:49:49.659Z"
   },
   {
    "duration": 41,
    "start_time": "2022-05-10T14:49:49.671Z"
   },
   {
    "duration": 47,
    "start_time": "2022-05-10T14:49:49.715Z"
   },
   {
    "duration": 34,
    "start_time": "2022-05-10T14:49:49.766Z"
   },
   {
    "duration": 11,
    "start_time": "2022-05-10T14:49:49.801Z"
   },
   {
    "duration": 5,
    "start_time": "2022-05-10T14:49:49.814Z"
   },
   {
    "duration": 12,
    "start_time": "2022-05-10T14:49:49.821Z"
   },
   {
    "duration": 4,
    "start_time": "2022-05-10T14:49:49.835Z"
   },
   {
    "duration": 4,
    "start_time": "2022-05-10T14:49:49.841Z"
   },
   {
    "duration": 54,
    "start_time": "2022-05-10T14:49:49.847Z"
   },
   {
    "duration": 13,
    "start_time": "2022-05-10T14:49:49.902Z"
   },
   {
    "duration": 13,
    "start_time": "2022-05-10T14:49:49.917Z"
   },
   {
    "duration": 11,
    "start_time": "2022-05-10T14:49:49.932Z"
   },
   {
    "duration": 30,
    "start_time": "2022-05-10T14:49:49.944Z"
   },
   {
    "duration": 30,
    "start_time": "2022-05-10T14:49:49.975Z"
   },
   {
    "duration": 8,
    "start_time": "2022-05-10T14:49:50.007Z"
   },
   {
    "duration": 9,
    "start_time": "2022-05-10T14:49:50.016Z"
   },
   {
    "duration": 7,
    "start_time": "2022-05-10T14:49:50.026Z"
   },
   {
    "duration": 493,
    "start_time": "2022-05-10T14:49:50.035Z"
   },
   {
    "duration": 11,
    "start_time": "2022-05-10T14:49:50.530Z"
   },
   {
    "duration": 256,
    "start_time": "2022-05-10T14:49:50.550Z"
   },
   {
    "duration": 12,
    "start_time": "2022-05-10T14:49:50.808Z"
   },
   {
    "duration": 8,
    "start_time": "2022-05-10T14:49:50.821Z"
   },
   {
    "duration": 20,
    "start_time": "2022-05-10T14:49:50.831Z"
   },
   {
    "duration": 962,
    "start_time": "2022-05-10T14:49:50.855Z"
   },
   {
    "duration": 11,
    "start_time": "2022-05-10T14:49:51.818Z"
   },
   {
    "duration": 187,
    "start_time": "2022-05-10T14:49:51.831Z"
   },
   {
    "duration": 10,
    "start_time": "2022-05-10T14:49:52.020Z"
   },
   {
    "duration": 141,
    "start_time": "2022-05-10T14:49:52.031Z"
   },
   {
    "duration": 14,
    "start_time": "2022-05-10T14:49:52.175Z"
   },
   {
    "duration": 133,
    "start_time": "2022-05-10T14:49:52.193Z"
   },
   {
    "duration": 457,
    "start_time": "2022-05-10T14:50:36.276Z"
   },
   {
    "duration": 90,
    "start_time": "2022-05-10T14:50:36.735Z"
   },
   {
    "duration": 19,
    "start_time": "2022-05-10T14:50:36.826Z"
   },
   {
    "duration": 17,
    "start_time": "2022-05-10T14:50:36.847Z"
   },
   {
    "duration": 35,
    "start_time": "2022-05-10T14:50:36.866Z"
   },
   {
    "duration": 12,
    "start_time": "2022-05-10T14:50:36.903Z"
   },
   {
    "duration": 11,
    "start_time": "2022-05-10T14:50:36.917Z"
   },
   {
    "duration": 5,
    "start_time": "2022-05-10T14:50:36.929Z"
   },
   {
    "duration": 27,
    "start_time": "2022-05-10T14:50:36.935Z"
   },
   {
    "duration": 63,
    "start_time": "2022-05-10T14:50:36.964Z"
   },
   {
    "duration": 7,
    "start_time": "2022-05-10T14:50:37.029Z"
   },
   {
    "duration": 20,
    "start_time": "2022-05-10T14:50:37.038Z"
   },
   {
    "duration": 18,
    "start_time": "2022-05-10T14:50:37.060Z"
   },
   {
    "duration": 26,
    "start_time": "2022-05-10T14:50:37.084Z"
   },
   {
    "duration": 5,
    "start_time": "2022-05-10T14:50:37.112Z"
   },
   {
    "duration": 10,
    "start_time": "2022-05-10T14:50:37.118Z"
   },
   {
    "duration": 14,
    "start_time": "2022-05-10T14:50:37.129Z"
   },
   {
    "duration": 53,
    "start_time": "2022-05-10T14:50:37.145Z"
   },
   {
    "duration": 14,
    "start_time": "2022-05-10T14:50:37.200Z"
   },
   {
    "duration": 12,
    "start_time": "2022-05-10T14:50:37.215Z"
   },
   {
    "duration": 15,
    "start_time": "2022-05-10T14:50:37.228Z"
   },
   {
    "duration": 43,
    "start_time": "2022-05-10T14:50:37.245Z"
   },
   {
    "duration": 10,
    "start_time": "2022-05-10T14:50:37.290Z"
   },
   {
    "duration": 9,
    "start_time": "2022-05-10T14:50:37.301Z"
   },
   {
    "duration": 9,
    "start_time": "2022-05-10T14:50:37.311Z"
   },
   {
    "duration": 482,
    "start_time": "2022-05-10T14:50:37.321Z"
   },
   {
    "duration": 11,
    "start_time": "2022-05-10T14:50:37.804Z"
   },
   {
    "duration": 18600,
    "start_time": "2022-05-10T14:50:37.817Z"
   },
   {
    "duration": 11,
    "start_time": "2022-05-10T14:50:56.418Z"
   },
   {
    "duration": 18,
    "start_time": "2022-05-10T14:50:56.430Z"
   },
   {
    "duration": 11,
    "start_time": "2022-05-10T14:50:56.452Z"
   },
   {
    "duration": 952,
    "start_time": "2022-05-10T14:50:56.465Z"
   },
   {
    "duration": 9,
    "start_time": "2022-05-10T14:50:57.419Z"
   },
   {
    "duration": 159,
    "start_time": "2022-05-10T14:50:57.429Z"
   },
   {
    "duration": 11,
    "start_time": "2022-05-10T14:50:57.591Z"
   },
   {
    "duration": 119,
    "start_time": "2022-05-10T14:50:57.604Z"
   },
   {
    "duration": 10,
    "start_time": "2022-05-10T14:50:57.724Z"
   },
   {
    "duration": 131,
    "start_time": "2022-05-10T14:50:57.759Z"
   },
   {
    "duration": 462,
    "start_time": "2022-05-10T14:51:39.330Z"
   },
   {
    "duration": 104,
    "start_time": "2022-05-10T14:51:39.796Z"
   },
   {
    "duration": 19,
    "start_time": "2022-05-10T14:51:39.903Z"
   },
   {
    "duration": 10,
    "start_time": "2022-05-10T14:51:39.924Z"
   },
   {
    "duration": 22,
    "start_time": "2022-05-10T14:51:39.935Z"
   },
   {
    "duration": 35,
    "start_time": "2022-05-10T14:51:39.961Z"
   },
   {
    "duration": 15,
    "start_time": "2022-05-10T14:51:39.998Z"
   },
   {
    "duration": 4,
    "start_time": "2022-05-10T14:51:40.015Z"
   },
   {
    "duration": 20,
    "start_time": "2022-05-10T14:51:40.020Z"
   },
   {
    "duration": 71,
    "start_time": "2022-05-10T14:51:40.043Z"
   },
   {
    "duration": 4,
    "start_time": "2022-05-10T14:51:40.116Z"
   },
   {
    "duration": 11,
    "start_time": "2022-05-10T14:51:40.121Z"
   },
   {
    "duration": 4,
    "start_time": "2022-05-10T14:51:40.133Z"
   },
   {
    "duration": 18,
    "start_time": "2022-05-10T14:51:40.139Z"
   },
   {
    "duration": 39,
    "start_time": "2022-05-10T14:51:40.159Z"
   },
   {
    "duration": 4,
    "start_time": "2022-05-10T14:51:40.200Z"
   },
   {
    "duration": 12,
    "start_time": "2022-05-10T14:51:40.205Z"
   },
   {
    "duration": 14,
    "start_time": "2022-05-10T14:51:40.219Z"
   },
   {
    "duration": 21,
    "start_time": "2022-05-10T14:51:40.234Z"
   },
   {
    "duration": 24,
    "start_time": "2022-05-10T14:51:40.257Z"
   },
   {
    "duration": 27,
    "start_time": "2022-05-10T14:51:40.283Z"
   },
   {
    "duration": 7,
    "start_time": "2022-05-10T14:51:40.312Z"
   },
   {
    "duration": 8,
    "start_time": "2022-05-10T14:51:40.320Z"
   },
   {
    "duration": 9,
    "start_time": "2022-05-10T14:51:40.329Z"
   },
   {
    "duration": 14,
    "start_time": "2022-05-10T14:51:40.340Z"
   },
   {
    "duration": 505,
    "start_time": "2022-05-10T14:51:40.363Z"
   },
   {
    "duration": 14,
    "start_time": "2022-05-10T14:51:40.870Z"
   },
   {
    "duration": 2913,
    "start_time": "2022-05-10T14:51:40.888Z"
   },
   {
    "duration": 10,
    "start_time": "2022-05-10T14:51:43.803Z"
   },
   {
    "duration": 14,
    "start_time": "2022-05-10T14:51:43.815Z"
   },
   {
    "duration": 4,
    "start_time": "2022-05-10T14:51:43.830Z"
   },
   {
    "duration": 1011,
    "start_time": "2022-05-10T14:51:43.860Z"
   },
   {
    "duration": 15,
    "start_time": "2022-05-10T14:51:44.873Z"
   },
   {
    "duration": 152,
    "start_time": "2022-05-10T14:51:44.890Z"
   },
   {
    "duration": 17,
    "start_time": "2022-05-10T14:51:45.047Z"
   },
   {
    "duration": 150,
    "start_time": "2022-05-10T14:51:45.067Z"
   },
   {
    "duration": 11,
    "start_time": "2022-05-10T14:51:45.219Z"
   },
   {
    "duration": 166,
    "start_time": "2022-05-10T14:51:45.232Z"
   },
   {
    "duration": 4,
    "start_time": "2022-05-10T15:04:31.950Z"
   },
   {
    "duration": 4,
    "start_time": "2022-05-10T15:04:58.537Z"
   },
   {
    "duration": 4,
    "start_time": "2022-05-10T15:05:16.546Z"
   },
   {
    "duration": 3,
    "start_time": "2022-05-10T15:06:04.189Z"
   },
   {
    "duration": 4,
    "start_time": "2022-05-10T15:06:15.281Z"
   },
   {
    "duration": 3,
    "start_time": "2022-05-10T15:06:25.817Z"
   },
   {
    "duration": 93,
    "start_time": "2022-05-10T15:06:47.609Z"
   },
   {
    "duration": 11,
    "start_time": "2022-05-10T15:07:05.158Z"
   },
   {
    "duration": 5,
    "start_time": "2022-05-10T15:07:11.747Z"
   },
   {
    "duration": 595,
    "start_time": "2022-05-10T15:09:23.390Z"
   },
   {
    "duration": 402,
    "start_time": "2022-05-10T15:12:32.816Z"
   },
   {
    "duration": 77,
    "start_time": "2022-05-10T15:12:33.220Z"
   },
   {
    "duration": 20,
    "start_time": "2022-05-10T15:12:33.299Z"
   },
   {
    "duration": 9,
    "start_time": "2022-05-10T15:12:33.321Z"
   },
   {
    "duration": 17,
    "start_time": "2022-05-10T15:12:33.331Z"
   },
   {
    "duration": 11,
    "start_time": "2022-05-10T15:12:33.350Z"
   },
   {
    "duration": 10,
    "start_time": "2022-05-10T15:12:33.363Z"
   },
   {
    "duration": 5,
    "start_time": "2022-05-10T15:12:33.375Z"
   },
   {
    "duration": 17,
    "start_time": "2022-05-10T15:12:33.382Z"
   },
   {
    "duration": 60,
    "start_time": "2022-05-10T15:12:33.401Z"
   },
   {
    "duration": 4,
    "start_time": "2022-05-10T15:12:33.463Z"
   },
   {
    "duration": 11,
    "start_time": "2022-05-10T15:12:33.469Z"
   },
   {
    "duration": 4,
    "start_time": "2022-05-10T15:12:33.482Z"
   },
   {
    "duration": 12,
    "start_time": "2022-05-10T15:12:33.487Z"
   },
   {
    "duration": 5,
    "start_time": "2022-05-10T15:12:33.500Z"
   },
   {
    "duration": 5,
    "start_time": "2022-05-10T15:12:33.506Z"
   },
   {
    "duration": 49,
    "start_time": "2022-05-10T15:12:33.512Z"
   },
   {
    "duration": 12,
    "start_time": "2022-05-10T15:12:33.563Z"
   },
   {
    "duration": 14,
    "start_time": "2022-05-10T15:12:33.576Z"
   },
   {
    "duration": 11,
    "start_time": "2022-05-10T15:12:33.591Z"
   },
   {
    "duration": 14,
    "start_time": "2022-05-10T15:12:33.603Z"
   },
   {
    "duration": 9,
    "start_time": "2022-05-10T15:12:33.618Z"
   },
   {
    "duration": 13,
    "start_time": "2022-05-10T15:12:33.647Z"
   },
   {
    "duration": 8,
    "start_time": "2022-05-10T15:12:33.661Z"
   },
   {
    "duration": 5,
    "start_time": "2022-05-10T15:12:33.671Z"
   },
   {
    "duration": 409,
    "start_time": "2022-05-10T15:12:33.678Z"
   },
   {
    "duration": 10,
    "start_time": "2022-05-10T15:12:34.089Z"
   },
   {
    "duration": 3,
    "start_time": "2022-05-10T15:12:34.102Z"
   },
   {
    "duration": 599,
    "start_time": "2022-05-10T15:12:34.107Z"
   },
   {
    "duration": 0,
    "start_time": "2022-05-10T15:12:34.708Z"
   },
   {
    "duration": 0,
    "start_time": "2022-05-10T15:12:34.709Z"
   },
   {
    "duration": 0,
    "start_time": "2022-05-10T15:12:34.710Z"
   },
   {
    "duration": 0,
    "start_time": "2022-05-10T15:12:34.711Z"
   },
   {
    "duration": 0,
    "start_time": "2022-05-10T15:12:34.712Z"
   },
   {
    "duration": 0,
    "start_time": "2022-05-10T15:12:34.713Z"
   },
   {
    "duration": 0,
    "start_time": "2022-05-10T15:12:34.714Z"
   },
   {
    "duration": 0,
    "start_time": "2022-05-10T15:12:34.715Z"
   },
   {
    "duration": 0,
    "start_time": "2022-05-10T15:12:34.716Z"
   },
   {
    "duration": 0,
    "start_time": "2022-05-10T15:12:34.717Z"
   },
   {
    "duration": 377,
    "start_time": "2022-05-10T15:13:18.561Z"
   },
   {
    "duration": 72,
    "start_time": "2022-05-10T15:13:18.940Z"
   },
   {
    "duration": 20,
    "start_time": "2022-05-10T15:13:19.013Z"
   },
   {
    "duration": 24,
    "start_time": "2022-05-10T15:13:19.035Z"
   },
   {
    "duration": 8,
    "start_time": "2022-05-10T15:13:19.061Z"
   },
   {
    "duration": 5,
    "start_time": "2022-05-10T15:13:19.070Z"
   },
   {
    "duration": 12,
    "start_time": "2022-05-10T15:13:19.076Z"
   },
   {
    "duration": 7,
    "start_time": "2022-05-10T15:13:19.089Z"
   },
   {
    "duration": 21,
    "start_time": "2022-05-10T15:13:19.097Z"
   },
   {
    "duration": 69,
    "start_time": "2022-05-10T15:13:19.120Z"
   },
   {
    "duration": 4,
    "start_time": "2022-05-10T15:13:19.191Z"
   },
   {
    "duration": 12,
    "start_time": "2022-05-10T15:13:19.196Z"
   },
   {
    "duration": 4,
    "start_time": "2022-05-10T15:13:19.210Z"
   },
   {
    "duration": 12,
    "start_time": "2022-05-10T15:13:19.215Z"
   },
   {
    "duration": 23,
    "start_time": "2022-05-10T15:13:19.228Z"
   },
   {
    "duration": 5,
    "start_time": "2022-05-10T15:13:19.253Z"
   },
   {
    "duration": 15,
    "start_time": "2022-05-10T15:13:19.259Z"
   },
   {
    "duration": 13,
    "start_time": "2022-05-10T15:13:19.275Z"
   },
   {
    "duration": 12,
    "start_time": "2022-05-10T15:13:19.290Z"
   },
   {
    "duration": 10,
    "start_time": "2022-05-10T15:13:19.304Z"
   },
   {
    "duration": 43,
    "start_time": "2022-05-10T15:13:19.315Z"
   },
   {
    "duration": 6,
    "start_time": "2022-05-10T15:13:19.360Z"
   },
   {
    "duration": 7,
    "start_time": "2022-05-10T15:13:19.368Z"
   },
   {
    "duration": 7,
    "start_time": "2022-05-10T15:13:19.377Z"
   },
   {
    "duration": 7,
    "start_time": "2022-05-10T15:13:19.385Z"
   },
   {
    "duration": 425,
    "start_time": "2022-05-10T15:13:19.394Z"
   },
   {
    "duration": 10,
    "start_time": "2022-05-10T15:13:19.821Z"
   },
   {
    "duration": 3,
    "start_time": "2022-05-10T15:13:19.834Z"
   },
   {
    "duration": 608,
    "start_time": "2022-05-10T15:13:19.860Z"
   },
   {
    "duration": 0,
    "start_time": "2022-05-10T15:13:20.470Z"
   },
   {
    "duration": 0,
    "start_time": "2022-05-10T15:13:20.471Z"
   },
   {
    "duration": 0,
    "start_time": "2022-05-10T15:13:20.472Z"
   },
   {
    "duration": 0,
    "start_time": "2022-05-10T15:13:20.473Z"
   },
   {
    "duration": 0,
    "start_time": "2022-05-10T15:13:20.474Z"
   },
   {
    "duration": 0,
    "start_time": "2022-05-10T15:13:20.475Z"
   },
   {
    "duration": 0,
    "start_time": "2022-05-10T15:13:20.475Z"
   },
   {
    "duration": 0,
    "start_time": "2022-05-10T15:13:20.477Z"
   },
   {
    "duration": 0,
    "start_time": "2022-05-10T15:13:20.478Z"
   },
   {
    "duration": 0,
    "start_time": "2022-05-10T15:13:20.478Z"
   },
   {
    "duration": 385,
    "start_time": "2022-05-10T15:15:19.960Z"
   },
   {
    "duration": 71,
    "start_time": "2022-05-10T15:15:20.347Z"
   },
   {
    "duration": 20,
    "start_time": "2022-05-10T15:15:20.420Z"
   },
   {
    "duration": 24,
    "start_time": "2022-05-10T15:15:20.442Z"
   },
   {
    "duration": 4,
    "start_time": "2022-05-10T15:15:20.467Z"
   },
   {
    "duration": 4,
    "start_time": "2022-05-10T15:15:20.472Z"
   },
   {
    "duration": 10,
    "start_time": "2022-05-10T15:15:20.477Z"
   },
   {
    "duration": 3,
    "start_time": "2022-05-10T15:15:20.489Z"
   },
   {
    "duration": 16,
    "start_time": "2022-05-10T15:15:20.493Z"
   },
   {
    "duration": 72,
    "start_time": "2022-05-10T15:15:20.511Z"
   },
   {
    "duration": 4,
    "start_time": "2022-05-10T15:15:20.585Z"
   },
   {
    "duration": 9,
    "start_time": "2022-05-10T15:15:20.591Z"
   },
   {
    "duration": 4,
    "start_time": "2022-05-10T15:15:20.602Z"
   },
   {
    "duration": 11,
    "start_time": "2022-05-10T15:15:20.607Z"
   },
   {
    "duration": 4,
    "start_time": "2022-05-10T15:15:20.620Z"
   },
   {
    "duration": 5,
    "start_time": "2022-05-10T15:15:20.651Z"
   },
   {
    "duration": 16,
    "start_time": "2022-05-10T15:15:20.658Z"
   },
   {
    "duration": 15,
    "start_time": "2022-05-10T15:15:20.675Z"
   },
   {
    "duration": 12,
    "start_time": "2022-05-10T15:15:20.691Z"
   },
   {
    "duration": 10,
    "start_time": "2022-05-10T15:15:20.704Z"
   },
   {
    "duration": 37,
    "start_time": "2022-05-10T15:15:20.716Z"
   },
   {
    "duration": 15,
    "start_time": "2022-05-10T15:15:20.754Z"
   },
   {
    "duration": 8,
    "start_time": "2022-05-10T15:15:20.771Z"
   },
   {
    "duration": 7,
    "start_time": "2022-05-10T15:15:20.781Z"
   },
   {
    "duration": 6,
    "start_time": "2022-05-10T15:15:20.790Z"
   },
   {
    "duration": 418,
    "start_time": "2022-05-10T15:15:20.797Z"
   },
   {
    "duration": 10,
    "start_time": "2022-05-10T15:15:21.217Z"
   },
   {
    "duration": 4,
    "start_time": "2022-05-10T15:15:21.230Z"
   },
   {
    "duration": 586,
    "start_time": "2022-05-10T15:15:21.235Z"
   },
   {
    "duration": 0,
    "start_time": "2022-05-10T15:15:21.823Z"
   },
   {
    "duration": 0,
    "start_time": "2022-05-10T15:15:21.824Z"
   },
   {
    "duration": 0,
    "start_time": "2022-05-10T15:15:21.825Z"
   },
   {
    "duration": 0,
    "start_time": "2022-05-10T15:15:21.826Z"
   },
   {
    "duration": 0,
    "start_time": "2022-05-10T15:15:21.827Z"
   },
   {
    "duration": 0,
    "start_time": "2022-05-10T15:15:21.828Z"
   },
   {
    "duration": 0,
    "start_time": "2022-05-10T15:15:21.829Z"
   },
   {
    "duration": 0,
    "start_time": "2022-05-10T15:15:21.830Z"
   },
   {
    "duration": 0,
    "start_time": "2022-05-10T15:15:21.830Z"
   },
   {
    "duration": 0,
    "start_time": "2022-05-10T15:15:21.831Z"
   },
   {
    "duration": 400,
    "start_time": "2022-05-10T15:19:50.365Z"
   },
   {
    "duration": 70,
    "start_time": "2022-05-10T15:19:50.767Z"
   },
   {
    "duration": 25,
    "start_time": "2022-05-10T15:19:50.839Z"
   },
   {
    "duration": 10,
    "start_time": "2022-05-10T15:19:50.866Z"
   },
   {
    "duration": 8,
    "start_time": "2022-05-10T15:19:50.879Z"
   },
   {
    "duration": 5,
    "start_time": "2022-05-10T15:19:50.888Z"
   },
   {
    "duration": 15,
    "start_time": "2022-05-10T15:19:50.895Z"
   },
   {
    "duration": 17,
    "start_time": "2022-05-10T15:19:50.911Z"
   },
   {
    "duration": 35,
    "start_time": "2022-05-10T15:19:50.929Z"
   },
   {
    "duration": 41,
    "start_time": "2022-05-10T15:19:50.966Z"
   },
   {
    "duration": 6,
    "start_time": "2022-05-10T15:19:51.008Z"
   },
   {
    "duration": 36,
    "start_time": "2022-05-10T15:19:51.016Z"
   },
   {
    "duration": 6,
    "start_time": "2022-05-10T15:19:51.054Z"
   },
   {
    "duration": 13,
    "start_time": "2022-05-10T15:19:51.064Z"
   },
   {
    "duration": 4,
    "start_time": "2022-05-10T15:19:51.079Z"
   },
   {
    "duration": 6,
    "start_time": "2022-05-10T15:19:51.084Z"
   },
   {
    "duration": 14,
    "start_time": "2022-05-10T15:19:51.091Z"
   },
   {
    "duration": 13,
    "start_time": "2022-05-10T15:19:51.107Z"
   },
   {
    "duration": 45,
    "start_time": "2022-05-10T15:19:51.122Z"
   },
   {
    "duration": 11,
    "start_time": "2022-05-10T15:19:51.169Z"
   },
   {
    "duration": 15,
    "start_time": "2022-05-10T15:19:51.181Z"
   },
   {
    "duration": 8,
    "start_time": "2022-05-10T15:19:51.197Z"
   },
   {
    "duration": 7,
    "start_time": "2022-05-10T15:19:51.206Z"
   },
   {
    "duration": 11,
    "start_time": "2022-05-10T15:19:51.215Z"
   },
   {
    "duration": 28,
    "start_time": "2022-05-10T15:19:51.227Z"
   },
   {
    "duration": 416,
    "start_time": "2022-05-10T15:19:51.257Z"
   },
   {
    "duration": 11,
    "start_time": "2022-05-10T15:19:51.675Z"
   },
   {
    "duration": 5,
    "start_time": "2022-05-10T15:19:51.687Z"
   },
   {
    "duration": 688,
    "start_time": "2022-05-10T15:19:51.694Z"
   },
   {
    "duration": 0,
    "start_time": "2022-05-10T15:19:52.384Z"
   },
   {
    "duration": 0,
    "start_time": "2022-05-10T15:19:52.385Z"
   },
   {
    "duration": 0,
    "start_time": "2022-05-10T15:19:52.386Z"
   },
   {
    "duration": 0,
    "start_time": "2022-05-10T15:19:52.387Z"
   },
   {
    "duration": 0,
    "start_time": "2022-05-10T15:19:52.389Z"
   },
   {
    "duration": 0,
    "start_time": "2022-05-10T15:19:52.390Z"
   },
   {
    "duration": 0,
    "start_time": "2022-05-10T15:19:52.391Z"
   },
   {
    "duration": 0,
    "start_time": "2022-05-10T15:19:52.392Z"
   },
   {
    "duration": 0,
    "start_time": "2022-05-10T15:19:52.393Z"
   },
   {
    "duration": 0,
    "start_time": "2022-05-10T15:19:52.394Z"
   },
   {
    "duration": 377,
    "start_time": "2022-05-10T15:21:09.576Z"
   },
   {
    "duration": 66,
    "start_time": "2022-05-10T15:21:09.956Z"
   },
   {
    "duration": 35,
    "start_time": "2022-05-10T15:21:10.025Z"
   },
   {
    "duration": 8,
    "start_time": "2022-05-10T15:21:10.063Z"
   },
   {
    "duration": 5,
    "start_time": "2022-05-10T15:21:10.072Z"
   },
   {
    "duration": 5,
    "start_time": "2022-05-10T15:21:10.078Z"
   },
   {
    "duration": 10,
    "start_time": "2022-05-10T15:21:10.084Z"
   },
   {
    "duration": 4,
    "start_time": "2022-05-10T15:21:10.095Z"
   },
   {
    "duration": 16,
    "start_time": "2022-05-10T15:21:10.100Z"
   },
   {
    "duration": 72,
    "start_time": "2022-05-10T15:21:10.118Z"
   },
   {
    "duration": 4,
    "start_time": "2022-05-10T15:21:10.192Z"
   },
   {
    "duration": 8,
    "start_time": "2022-05-10T15:21:10.198Z"
   },
   {
    "duration": 4,
    "start_time": "2022-05-10T15:21:10.208Z"
   },
   {
    "duration": 10,
    "start_time": "2022-05-10T15:21:10.214Z"
   },
   {
    "duration": 4,
    "start_time": "2022-05-10T15:21:10.226Z"
   },
   {
    "duration": 10,
    "start_time": "2022-05-10T15:21:10.251Z"
   },
   {
    "duration": 12,
    "start_time": "2022-05-10T15:21:10.262Z"
   },
   {
    "duration": 15,
    "start_time": "2022-05-10T15:21:10.276Z"
   },
   {
    "duration": 13,
    "start_time": "2022-05-10T15:21:10.292Z"
   },
   {
    "duration": 11,
    "start_time": "2022-05-10T15:21:10.307Z"
   },
   {
    "duration": 48,
    "start_time": "2022-05-10T15:21:10.319Z"
   },
   {
    "duration": 6,
    "start_time": "2022-05-10T15:21:10.368Z"
   },
   {
    "duration": 7,
    "start_time": "2022-05-10T15:21:10.375Z"
   },
   {
    "duration": 8,
    "start_time": "2022-05-10T15:21:10.383Z"
   },
   {
    "duration": 7,
    "start_time": "2022-05-10T15:21:10.393Z"
   },
   {
    "duration": 444,
    "start_time": "2022-05-10T15:21:10.401Z"
   },
   {
    "duration": 14,
    "start_time": "2022-05-10T15:21:10.846Z"
   },
   {
    "duration": 8,
    "start_time": "2022-05-10T15:21:10.862Z"
   },
   {
    "duration": 79,
    "start_time": "2022-05-10T15:21:10.872Z"
   },
   {
    "duration": 0,
    "start_time": "2022-05-10T15:21:10.954Z"
   },
   {
    "duration": 0,
    "start_time": "2022-05-10T15:21:10.956Z"
   },
   {
    "duration": 0,
    "start_time": "2022-05-10T15:21:10.957Z"
   },
   {
    "duration": 0,
    "start_time": "2022-05-10T15:21:10.959Z"
   },
   {
    "duration": 0,
    "start_time": "2022-05-10T15:21:10.960Z"
   },
   {
    "duration": 0,
    "start_time": "2022-05-10T15:21:10.962Z"
   },
   {
    "duration": 0,
    "start_time": "2022-05-10T15:21:10.963Z"
   },
   {
    "duration": 0,
    "start_time": "2022-05-10T15:21:10.965Z"
   },
   {
    "duration": 0,
    "start_time": "2022-05-10T15:21:10.966Z"
   },
   {
    "duration": 0,
    "start_time": "2022-05-10T15:21:10.967Z"
   },
   {
    "duration": 400,
    "start_time": "2022-05-10T15:26:18.760Z"
   },
   {
    "duration": 68,
    "start_time": "2022-05-10T15:26:19.163Z"
   },
   {
    "duration": 25,
    "start_time": "2022-05-10T15:26:19.233Z"
   },
   {
    "duration": 9,
    "start_time": "2022-05-10T15:26:19.260Z"
   },
   {
    "duration": 4,
    "start_time": "2022-05-10T15:26:19.271Z"
   },
   {
    "duration": 4,
    "start_time": "2022-05-10T15:26:19.276Z"
   },
   {
    "duration": 11,
    "start_time": "2022-05-10T15:26:19.281Z"
   },
   {
    "duration": 4,
    "start_time": "2022-05-10T15:26:19.293Z"
   },
   {
    "duration": 52,
    "start_time": "2022-05-10T15:26:19.299Z"
   },
   {
    "duration": 42,
    "start_time": "2022-05-10T15:26:19.357Z"
   },
   {
    "duration": 4,
    "start_time": "2022-05-10T15:26:19.401Z"
   },
   {
    "duration": 11,
    "start_time": "2022-05-10T15:26:19.406Z"
   },
   {
    "duration": 3,
    "start_time": "2022-05-10T15:26:19.419Z"
   },
   {
    "duration": 35,
    "start_time": "2022-05-10T15:26:19.424Z"
   },
   {
    "duration": 5,
    "start_time": "2022-05-10T15:26:19.461Z"
   },
   {
    "duration": 4,
    "start_time": "2022-05-10T15:26:19.467Z"
   },
   {
    "duration": 17,
    "start_time": "2022-05-10T15:26:19.472Z"
   },
   {
    "duration": 16,
    "start_time": "2022-05-10T15:26:19.490Z"
   },
   {
    "duration": 13,
    "start_time": "2022-05-10T15:26:19.507Z"
   },
   {
    "duration": 32,
    "start_time": "2022-05-10T15:26:19.521Z"
   },
   {
    "duration": 18,
    "start_time": "2022-05-10T15:26:19.554Z"
   },
   {
    "duration": 6,
    "start_time": "2022-05-10T15:26:19.574Z"
   },
   {
    "duration": 9,
    "start_time": "2022-05-10T15:26:19.581Z"
   },
   {
    "duration": 7,
    "start_time": "2022-05-10T15:26:19.591Z"
   },
   {
    "duration": 8,
    "start_time": "2022-05-10T15:26:19.600Z"
   },
   {
    "duration": 441,
    "start_time": "2022-05-10T15:26:19.609Z"
   },
   {
    "duration": 14,
    "start_time": "2022-05-10T15:26:20.051Z"
   },
   {
    "duration": 4,
    "start_time": "2022-05-10T15:26:20.069Z"
   },
   {
    "duration": 78,
    "start_time": "2022-05-10T15:26:20.075Z"
   },
   {
    "duration": 0,
    "start_time": "2022-05-10T15:26:20.155Z"
   },
   {
    "duration": 0,
    "start_time": "2022-05-10T15:26:20.156Z"
   },
   {
    "duration": 0,
    "start_time": "2022-05-10T15:26:20.158Z"
   },
   {
    "duration": 0,
    "start_time": "2022-05-10T15:26:20.160Z"
   },
   {
    "duration": 0,
    "start_time": "2022-05-10T15:26:20.161Z"
   },
   {
    "duration": 0,
    "start_time": "2022-05-10T15:26:20.162Z"
   },
   {
    "duration": 0,
    "start_time": "2022-05-10T15:26:20.162Z"
   },
   {
    "duration": 0,
    "start_time": "2022-05-10T15:26:20.163Z"
   },
   {
    "duration": 0,
    "start_time": "2022-05-10T15:26:20.165Z"
   },
   {
    "duration": 0,
    "start_time": "2022-05-10T15:26:20.166Z"
   },
   {
    "duration": 379,
    "start_time": "2022-05-10T15:28:36.577Z"
   },
   {
    "duration": 64,
    "start_time": "2022-05-10T15:28:36.958Z"
   },
   {
    "duration": 20,
    "start_time": "2022-05-10T15:28:37.024Z"
   },
   {
    "duration": 13,
    "start_time": "2022-05-10T15:28:37.051Z"
   },
   {
    "duration": 4,
    "start_time": "2022-05-10T15:28:37.065Z"
   },
   {
    "duration": 3,
    "start_time": "2022-05-10T15:28:37.071Z"
   },
   {
    "duration": 12,
    "start_time": "2022-05-10T15:28:37.075Z"
   },
   {
    "duration": 3,
    "start_time": "2022-05-10T15:28:37.088Z"
   },
   {
    "duration": 16,
    "start_time": "2022-05-10T15:28:37.093Z"
   },
   {
    "duration": 72,
    "start_time": "2022-05-10T15:28:37.112Z"
   },
   {
    "duration": 4,
    "start_time": "2022-05-10T15:28:37.186Z"
   },
   {
    "duration": 11,
    "start_time": "2022-05-10T15:28:37.191Z"
   },
   {
    "duration": 4,
    "start_time": "2022-05-10T15:28:37.204Z"
   },
   {
    "duration": 17,
    "start_time": "2022-05-10T15:28:37.209Z"
   },
   {
    "duration": 20,
    "start_time": "2022-05-10T15:28:37.227Z"
   },
   {
    "duration": 9,
    "start_time": "2022-05-10T15:28:37.249Z"
   },
   {
    "duration": 17,
    "start_time": "2022-05-10T15:28:37.260Z"
   },
   {
    "duration": 18,
    "start_time": "2022-05-10T15:28:37.278Z"
   },
   {
    "duration": 13,
    "start_time": "2022-05-10T15:28:37.297Z"
   },
   {
    "duration": 10,
    "start_time": "2022-05-10T15:28:37.312Z"
   },
   {
    "duration": 39,
    "start_time": "2022-05-10T15:28:37.323Z"
   },
   {
    "duration": 5,
    "start_time": "2022-05-10T15:28:37.364Z"
   },
   {
    "duration": 7,
    "start_time": "2022-05-10T15:28:37.371Z"
   },
   {
    "duration": 7,
    "start_time": "2022-05-10T15:28:37.380Z"
   },
   {
    "duration": 6,
    "start_time": "2022-05-10T15:28:37.389Z"
   },
   {
    "duration": 432,
    "start_time": "2022-05-10T15:28:37.396Z"
   },
   {
    "duration": 11,
    "start_time": "2022-05-10T15:28:37.830Z"
   },
   {
    "duration": 8,
    "start_time": "2022-05-10T15:28:37.849Z"
   },
   {
    "duration": 554,
    "start_time": "2022-05-10T15:28:37.859Z"
   },
   {
    "duration": 0,
    "start_time": "2022-05-10T15:28:38.415Z"
   },
   {
    "duration": 0,
    "start_time": "2022-05-10T15:28:38.416Z"
   },
   {
    "duration": 0,
    "start_time": "2022-05-10T15:28:38.416Z"
   },
   {
    "duration": 0,
    "start_time": "2022-05-10T15:28:38.417Z"
   },
   {
    "duration": 0,
    "start_time": "2022-05-10T15:28:38.418Z"
   },
   {
    "duration": 1,
    "start_time": "2022-05-10T15:28:38.418Z"
   },
   {
    "duration": 0,
    "start_time": "2022-05-10T15:28:38.420Z"
   },
   {
    "duration": 0,
    "start_time": "2022-05-10T15:28:38.420Z"
   },
   {
    "duration": 0,
    "start_time": "2022-05-10T15:28:38.421Z"
   },
   {
    "duration": 0,
    "start_time": "2022-05-10T15:28:38.422Z"
   },
   {
    "duration": 368,
    "start_time": "2022-05-10T15:30:46.974Z"
   },
   {
    "duration": 69,
    "start_time": "2022-05-10T15:30:47.344Z"
   },
   {
    "duration": 20,
    "start_time": "2022-05-10T15:30:47.414Z"
   },
   {
    "duration": 18,
    "start_time": "2022-05-10T15:30:47.437Z"
   },
   {
    "duration": 9,
    "start_time": "2022-05-10T15:30:47.457Z"
   },
   {
    "duration": 5,
    "start_time": "2022-05-10T15:30:47.467Z"
   },
   {
    "duration": 11,
    "start_time": "2022-05-10T15:30:47.473Z"
   },
   {
    "duration": 4,
    "start_time": "2022-05-10T15:30:47.486Z"
   },
   {
    "duration": 17,
    "start_time": "2022-05-10T15:30:47.492Z"
   },
   {
    "duration": 68,
    "start_time": "2022-05-10T15:30:47.512Z"
   },
   {
    "duration": 4,
    "start_time": "2022-05-10T15:30:47.582Z"
   },
   {
    "duration": 10,
    "start_time": "2022-05-10T15:30:47.588Z"
   },
   {
    "duration": 4,
    "start_time": "2022-05-10T15:30:47.599Z"
   },
   {
    "duration": 12,
    "start_time": "2022-05-10T15:30:47.604Z"
   },
   {
    "duration": 4,
    "start_time": "2022-05-10T15:30:47.617Z"
   },
   {
    "duration": 30,
    "start_time": "2022-05-10T15:30:47.623Z"
   },
   {
    "duration": 15,
    "start_time": "2022-05-10T15:30:47.655Z"
   },
   {
    "duration": 19,
    "start_time": "2022-05-10T15:30:47.671Z"
   },
   {
    "duration": 13,
    "start_time": "2022-05-10T15:30:47.691Z"
   },
   {
    "duration": 11,
    "start_time": "2022-05-10T15:30:47.705Z"
   },
   {
    "duration": 31,
    "start_time": "2022-05-10T15:30:47.717Z"
   },
   {
    "duration": 19,
    "start_time": "2022-05-10T15:30:47.752Z"
   },
   {
    "duration": 8,
    "start_time": "2022-05-10T15:30:47.772Z"
   },
   {
    "duration": 11,
    "start_time": "2022-05-10T15:30:47.781Z"
   },
   {
    "duration": 8,
    "start_time": "2022-05-10T15:30:47.793Z"
   },
   {
    "duration": 412,
    "start_time": "2022-05-10T15:30:47.802Z"
   },
   {
    "duration": 10,
    "start_time": "2022-05-10T15:30:48.216Z"
   },
   {
    "duration": 4,
    "start_time": "2022-05-10T15:30:48.229Z"
   },
   {
    "duration": 90,
    "start_time": "2022-05-10T15:30:48.234Z"
   },
   {
    "duration": 0,
    "start_time": "2022-05-10T15:30:48.325Z"
   },
   {
    "duration": 0,
    "start_time": "2022-05-10T15:30:48.326Z"
   },
   {
    "duration": 0,
    "start_time": "2022-05-10T15:30:48.327Z"
   },
   {
    "duration": 0,
    "start_time": "2022-05-10T15:30:48.328Z"
   },
   {
    "duration": 0,
    "start_time": "2022-05-10T15:30:48.329Z"
   },
   {
    "duration": 0,
    "start_time": "2022-05-10T15:30:48.330Z"
   },
   {
    "duration": 0,
    "start_time": "2022-05-10T15:30:48.331Z"
   },
   {
    "duration": 0,
    "start_time": "2022-05-10T15:30:48.347Z"
   },
   {
    "duration": 0,
    "start_time": "2022-05-10T15:30:48.348Z"
   },
   {
    "duration": 0,
    "start_time": "2022-05-10T15:30:48.349Z"
   },
   {
    "duration": 416,
    "start_time": "2022-05-10T15:32:43.820Z"
   },
   {
    "duration": 70,
    "start_time": "2022-05-10T15:32:44.238Z"
   },
   {
    "duration": 22,
    "start_time": "2022-05-10T15:32:44.310Z"
   },
   {
    "duration": 23,
    "start_time": "2022-05-10T15:32:44.334Z"
   },
   {
    "duration": 17,
    "start_time": "2022-05-10T15:32:44.358Z"
   },
   {
    "duration": 6,
    "start_time": "2022-05-10T15:32:44.377Z"
   },
   {
    "duration": 12,
    "start_time": "2022-05-10T15:32:44.385Z"
   },
   {
    "duration": 5,
    "start_time": "2022-05-10T15:32:44.399Z"
   },
   {
    "duration": 18,
    "start_time": "2022-05-10T15:32:44.405Z"
   },
   {
    "duration": 64,
    "start_time": "2022-05-10T15:32:44.426Z"
   },
   {
    "duration": 5,
    "start_time": "2022-05-10T15:32:44.492Z"
   },
   {
    "duration": 12,
    "start_time": "2022-05-10T15:32:44.498Z"
   },
   {
    "duration": 5,
    "start_time": "2022-05-10T15:32:44.511Z"
   },
   {
    "duration": 41,
    "start_time": "2022-05-10T15:32:44.518Z"
   },
   {
    "duration": 6,
    "start_time": "2022-05-10T15:32:44.561Z"
   },
   {
    "duration": 7,
    "start_time": "2022-05-10T15:32:44.568Z"
   },
   {
    "duration": 16,
    "start_time": "2022-05-10T15:32:44.576Z"
   },
   {
    "duration": 15,
    "start_time": "2022-05-10T15:32:44.593Z"
   },
   {
    "duration": 42,
    "start_time": "2022-05-10T15:32:44.609Z"
   },
   {
    "duration": 13,
    "start_time": "2022-05-10T15:32:44.654Z"
   },
   {
    "duration": 17,
    "start_time": "2022-05-10T15:32:44.668Z"
   },
   {
    "duration": 9,
    "start_time": "2022-05-10T15:32:44.686Z"
   },
   {
    "duration": 12,
    "start_time": "2022-05-10T15:32:44.696Z"
   },
   {
    "duration": 8,
    "start_time": "2022-05-10T15:32:44.710Z"
   },
   {
    "duration": 7,
    "start_time": "2022-05-10T15:32:44.720Z"
   },
   {
    "duration": 443,
    "start_time": "2022-05-10T15:32:44.729Z"
   },
   {
    "duration": 10,
    "start_time": "2022-05-10T15:32:45.173Z"
   },
   {
    "duration": 4,
    "start_time": "2022-05-10T15:32:45.186Z"
   },
   {
    "duration": 120,
    "start_time": "2022-05-10T15:32:45.191Z"
   },
   {
    "duration": 0,
    "start_time": "2022-05-10T15:32:45.313Z"
   },
   {
    "duration": 0,
    "start_time": "2022-05-10T15:32:45.314Z"
   },
   {
    "duration": 0,
    "start_time": "2022-05-10T15:32:45.315Z"
   },
   {
    "duration": 0,
    "start_time": "2022-05-10T15:32:45.315Z"
   },
   {
    "duration": 0,
    "start_time": "2022-05-10T15:32:45.316Z"
   },
   {
    "duration": 0,
    "start_time": "2022-05-10T15:32:45.317Z"
   },
   {
    "duration": 0,
    "start_time": "2022-05-10T15:32:45.318Z"
   },
   {
    "duration": 0,
    "start_time": "2022-05-10T15:32:45.319Z"
   },
   {
    "duration": 0,
    "start_time": "2022-05-10T15:32:45.320Z"
   },
   {
    "duration": 0,
    "start_time": "2022-05-10T15:32:45.321Z"
   },
   {
    "duration": 379,
    "start_time": "2022-05-10T15:37:30.684Z"
   },
   {
    "duration": 67,
    "start_time": "2022-05-10T15:37:31.065Z"
   },
   {
    "duration": 35,
    "start_time": "2022-05-10T15:37:31.134Z"
   },
   {
    "duration": 10,
    "start_time": "2022-05-10T15:37:31.170Z"
   },
   {
    "duration": 8,
    "start_time": "2022-05-10T15:37:31.182Z"
   },
   {
    "duration": 18,
    "start_time": "2022-05-10T15:37:31.191Z"
   },
   {
    "duration": 17,
    "start_time": "2022-05-10T15:37:31.211Z"
   },
   {
    "duration": 8,
    "start_time": "2022-05-10T15:37:31.230Z"
   },
   {
    "duration": 29,
    "start_time": "2022-05-10T15:37:31.240Z"
   },
   {
    "duration": 39,
    "start_time": "2022-05-10T15:37:31.271Z"
   },
   {
    "duration": 4,
    "start_time": "2022-05-10T15:37:31.312Z"
   },
   {
    "duration": 24,
    "start_time": "2022-05-10T15:37:31.317Z"
   },
   {
    "duration": 32,
    "start_time": "2022-05-10T15:37:31.342Z"
   },
   {
    "duration": 27,
    "start_time": "2022-05-10T15:37:31.377Z"
   },
   {
    "duration": 8,
    "start_time": "2022-05-10T15:37:31.406Z"
   },
   {
    "duration": 10,
    "start_time": "2022-05-10T15:37:31.415Z"
   },
   {
    "duration": 13,
    "start_time": "2022-05-10T15:37:31.427Z"
   },
   {
    "duration": 27,
    "start_time": "2022-05-10T15:37:31.442Z"
   },
   {
    "duration": 13,
    "start_time": "2022-05-10T15:37:31.470Z"
   },
   {
    "duration": 11,
    "start_time": "2022-05-10T15:37:31.485Z"
   },
   {
    "duration": 15,
    "start_time": "2022-05-10T15:37:31.497Z"
   },
   {
    "duration": 7,
    "start_time": "2022-05-10T15:37:31.514Z"
   },
   {
    "duration": 28,
    "start_time": "2022-05-10T15:37:31.522Z"
   },
   {
    "duration": 24,
    "start_time": "2022-05-10T15:37:31.552Z"
   },
   {
    "duration": 11,
    "start_time": "2022-05-10T15:37:31.578Z"
   },
   {
    "duration": 408,
    "start_time": "2022-05-10T15:37:31.591Z"
   },
   {
    "duration": 10,
    "start_time": "2022-05-10T15:37:32.000Z"
   },
   {
    "duration": 5,
    "start_time": "2022-05-10T15:37:32.012Z"
   },
   {
    "duration": 143,
    "start_time": "2022-05-10T15:37:32.019Z"
   },
   {
    "duration": 0,
    "start_time": "2022-05-10T15:37:32.164Z"
   },
   {
    "duration": 0,
    "start_time": "2022-05-10T15:37:32.166Z"
   },
   {
    "duration": 0,
    "start_time": "2022-05-10T15:37:32.166Z"
   },
   {
    "duration": 0,
    "start_time": "2022-05-10T15:37:32.168Z"
   },
   {
    "duration": 0,
    "start_time": "2022-05-10T15:37:32.170Z"
   },
   {
    "duration": 0,
    "start_time": "2022-05-10T15:37:32.172Z"
   },
   {
    "duration": 0,
    "start_time": "2022-05-10T15:37:32.173Z"
   },
   {
    "duration": 0,
    "start_time": "2022-05-10T15:37:32.174Z"
   },
   {
    "duration": 0,
    "start_time": "2022-05-10T15:37:32.175Z"
   },
   {
    "duration": 0,
    "start_time": "2022-05-10T15:37:32.176Z"
   },
   {
    "duration": 372,
    "start_time": "2022-05-10T15:38:11.297Z"
   },
   {
    "duration": 68,
    "start_time": "2022-05-10T15:38:11.671Z"
   },
   {
    "duration": 26,
    "start_time": "2022-05-10T15:38:11.741Z"
   },
   {
    "duration": 9,
    "start_time": "2022-05-10T15:38:11.769Z"
   },
   {
    "duration": 4,
    "start_time": "2022-05-10T15:38:11.780Z"
   },
   {
    "duration": 7,
    "start_time": "2022-05-10T15:38:11.786Z"
   },
   {
    "duration": 12,
    "start_time": "2022-05-10T15:38:11.795Z"
   },
   {
    "duration": 3,
    "start_time": "2022-05-10T15:38:11.809Z"
   },
   {
    "duration": 56,
    "start_time": "2022-05-10T15:38:11.814Z"
   },
   {
    "duration": 47,
    "start_time": "2022-05-10T15:38:11.872Z"
   },
   {
    "duration": 5,
    "start_time": "2022-05-10T15:38:11.921Z"
   },
   {
    "duration": 26,
    "start_time": "2022-05-10T15:38:11.927Z"
   },
   {
    "duration": 16,
    "start_time": "2022-05-10T15:38:11.954Z"
   },
   {
    "duration": 12,
    "start_time": "2022-05-10T15:38:11.972Z"
   },
   {
    "duration": 5,
    "start_time": "2022-05-10T15:38:11.986Z"
   },
   {
    "duration": 7,
    "start_time": "2022-05-10T15:38:11.993Z"
   },
   {
    "duration": 14,
    "start_time": "2022-05-10T15:38:12.001Z"
   },
   {
    "duration": 42,
    "start_time": "2022-05-10T15:38:12.017Z"
   },
   {
    "duration": 14,
    "start_time": "2022-05-10T15:38:12.061Z"
   },
   {
    "duration": 11,
    "start_time": "2022-05-10T15:38:12.077Z"
   },
   {
    "duration": 14,
    "start_time": "2022-05-10T15:38:12.090Z"
   },
   {
    "duration": 5,
    "start_time": "2022-05-10T15:38:12.106Z"
   },
   {
    "duration": 9,
    "start_time": "2022-05-10T15:38:12.113Z"
   },
   {
    "duration": 46,
    "start_time": "2022-05-10T15:38:12.123Z"
   },
   {
    "duration": 19,
    "start_time": "2022-05-10T15:38:12.171Z"
   },
   {
    "duration": 431,
    "start_time": "2022-05-10T15:38:12.192Z"
   },
   {
    "duration": 11,
    "start_time": "2022-05-10T15:38:12.624Z"
   },
   {
    "duration": 15,
    "start_time": "2022-05-10T15:38:12.637Z"
   },
   {
    "duration": 179,
    "start_time": "2022-05-10T15:38:12.655Z"
   },
   {
    "duration": 0,
    "start_time": "2022-05-10T15:38:12.836Z"
   },
   {
    "duration": 0,
    "start_time": "2022-05-10T15:38:12.837Z"
   },
   {
    "duration": 0,
    "start_time": "2022-05-10T15:38:12.838Z"
   },
   {
    "duration": 0,
    "start_time": "2022-05-10T15:38:12.839Z"
   },
   {
    "duration": 0,
    "start_time": "2022-05-10T15:38:12.841Z"
   },
   {
    "duration": 0,
    "start_time": "2022-05-10T15:38:12.842Z"
   },
   {
    "duration": 0,
    "start_time": "2022-05-10T15:38:12.844Z"
   },
   {
    "duration": 0,
    "start_time": "2022-05-10T15:38:12.845Z"
   },
   {
    "duration": 0,
    "start_time": "2022-05-10T15:38:12.846Z"
   },
   {
    "duration": 0,
    "start_time": "2022-05-10T15:38:12.851Z"
   },
   {
    "duration": 398,
    "start_time": "2022-05-10T15:39:10.295Z"
   },
   {
    "duration": 80,
    "start_time": "2022-05-10T15:39:10.696Z"
   },
   {
    "duration": 24,
    "start_time": "2022-05-10T15:39:10.779Z"
   },
   {
    "duration": 14,
    "start_time": "2022-05-10T15:39:10.807Z"
   },
   {
    "duration": 33,
    "start_time": "2022-05-10T15:39:10.823Z"
   },
   {
    "duration": 8,
    "start_time": "2022-05-10T15:39:10.858Z"
   },
   {
    "duration": 17,
    "start_time": "2022-05-10T15:39:10.870Z"
   },
   {
    "duration": 4,
    "start_time": "2022-05-10T15:39:10.889Z"
   },
   {
    "duration": 20,
    "start_time": "2022-05-10T15:39:10.895Z"
   },
   {
    "duration": 114,
    "start_time": "2022-05-10T15:39:10.917Z"
   },
   {
    "duration": 8,
    "start_time": "2022-05-10T15:39:11.033Z"
   },
   {
    "duration": 16,
    "start_time": "2022-05-10T15:39:11.046Z"
   },
   {
    "duration": 10,
    "start_time": "2022-05-10T15:39:11.068Z"
   },
   {
    "duration": 14,
    "start_time": "2022-05-10T15:39:11.079Z"
   },
   {
    "duration": 4,
    "start_time": "2022-05-10T15:39:11.095Z"
   },
   {
    "duration": 5,
    "start_time": "2022-05-10T15:39:11.101Z"
   },
   {
    "duration": 14,
    "start_time": "2022-05-10T15:39:11.108Z"
   },
   {
    "duration": 45,
    "start_time": "2022-05-10T15:39:11.124Z"
   },
   {
    "duration": 16,
    "start_time": "2022-05-10T15:39:11.171Z"
   },
   {
    "duration": 13,
    "start_time": "2022-05-10T15:39:11.189Z"
   },
   {
    "duration": 18,
    "start_time": "2022-05-10T15:39:11.203Z"
   },
   {
    "duration": 32,
    "start_time": "2022-05-10T15:39:11.223Z"
   },
   {
    "duration": 16,
    "start_time": "2022-05-10T15:39:11.257Z"
   },
   {
    "duration": 9,
    "start_time": "2022-05-10T15:39:11.274Z"
   },
   {
    "duration": 7,
    "start_time": "2022-05-10T15:39:11.285Z"
   },
   {
    "duration": 426,
    "start_time": "2022-05-10T15:39:11.293Z"
   },
   {
    "duration": 11,
    "start_time": "2022-05-10T15:39:11.721Z"
   },
   {
    "duration": 14,
    "start_time": "2022-05-10T15:39:11.735Z"
   },
   {
    "duration": 1074,
    "start_time": "2022-05-10T15:39:11.751Z"
   },
   {
    "duration": 0,
    "start_time": "2022-05-10T15:39:12.827Z"
   },
   {
    "duration": 0,
    "start_time": "2022-05-10T15:39:12.828Z"
   },
   {
    "duration": 0,
    "start_time": "2022-05-10T15:39:12.829Z"
   },
   {
    "duration": 0,
    "start_time": "2022-05-10T15:39:12.830Z"
   },
   {
    "duration": 0,
    "start_time": "2022-05-10T15:39:12.831Z"
   },
   {
    "duration": 0,
    "start_time": "2022-05-10T15:39:12.832Z"
   },
   {
    "duration": 0,
    "start_time": "2022-05-10T15:39:12.833Z"
   },
   {
    "duration": 0,
    "start_time": "2022-05-10T15:39:12.834Z"
   },
   {
    "duration": 0,
    "start_time": "2022-05-10T15:39:12.848Z"
   },
   {
    "duration": 0,
    "start_time": "2022-05-10T15:39:12.849Z"
   },
   {
    "duration": 510,
    "start_time": "2022-05-10T15:39:47.884Z"
   },
   {
    "duration": 93,
    "start_time": "2022-05-10T15:39:48.399Z"
   },
   {
    "duration": 23,
    "start_time": "2022-05-10T15:39:48.495Z"
   },
   {
    "duration": 37,
    "start_time": "2022-05-10T15:39:48.521Z"
   },
   {
    "duration": 37,
    "start_time": "2022-05-10T15:39:48.561Z"
   },
   {
    "duration": 25,
    "start_time": "2022-05-10T15:39:48.599Z"
   },
   {
    "duration": 46,
    "start_time": "2022-05-10T15:39:48.626Z"
   },
   {
    "duration": 36,
    "start_time": "2022-05-10T15:39:48.674Z"
   },
   {
    "duration": 53,
    "start_time": "2022-05-10T15:39:48.712Z"
   },
   {
    "duration": 74,
    "start_time": "2022-05-10T15:39:48.771Z"
   },
   {
    "duration": 8,
    "start_time": "2022-05-10T15:39:48.850Z"
   },
   {
    "duration": 48,
    "start_time": "2022-05-10T15:39:48.860Z"
   },
   {
    "duration": 17,
    "start_time": "2022-05-10T15:39:48.911Z"
   },
   {
    "duration": 39,
    "start_time": "2022-05-10T15:39:48.930Z"
   },
   {
    "duration": 8,
    "start_time": "2022-05-10T15:39:48.971Z"
   },
   {
    "duration": 21,
    "start_time": "2022-05-10T15:39:48.981Z"
   },
   {
    "duration": 34,
    "start_time": "2022-05-10T15:39:49.005Z"
   },
   {
    "duration": 68,
    "start_time": "2022-05-10T15:39:49.041Z"
   },
   {
    "duration": 16,
    "start_time": "2022-05-10T15:39:49.111Z"
   },
   {
    "duration": 28,
    "start_time": "2022-05-10T15:39:49.129Z"
   },
   {
    "duration": 24,
    "start_time": "2022-05-10T15:39:49.159Z"
   },
   {
    "duration": 7,
    "start_time": "2022-05-10T15:39:49.186Z"
   },
   {
    "duration": 13,
    "start_time": "2022-05-10T15:39:49.195Z"
   },
   {
    "duration": 13,
    "start_time": "2022-05-10T15:39:49.210Z"
   },
   {
    "duration": 13,
    "start_time": "2022-05-10T15:39:49.225Z"
   },
   {
    "duration": 565,
    "start_time": "2022-05-10T15:39:49.239Z"
   },
   {
    "duration": 15,
    "start_time": "2022-05-10T15:39:49.806Z"
   },
   {
    "duration": 4,
    "start_time": "2022-05-10T15:39:49.825Z"
   },
   {
    "duration": 1424,
    "start_time": "2022-05-10T15:39:49.831Z"
   },
   {
    "duration": 18,
    "start_time": "2022-05-10T15:39:51.257Z"
   },
   {
    "duration": 46,
    "start_time": "2022-05-10T15:39:51.277Z"
   },
   {
    "duration": 5,
    "start_time": "2022-05-10T15:39:51.325Z"
   },
   {
    "duration": 588,
    "start_time": "2022-05-10T15:39:51.331Z"
   },
   {
    "duration": 13,
    "start_time": "2022-05-10T15:39:51.921Z"
   },
   {
    "duration": 200,
    "start_time": "2022-05-10T15:39:51.939Z"
   },
   {
    "duration": 13,
    "start_time": "2022-05-10T15:39:52.141Z"
   },
   {
    "duration": 166,
    "start_time": "2022-05-10T15:39:52.156Z"
   },
   {
    "duration": 14,
    "start_time": "2022-05-10T15:39:52.324Z"
   },
   {
    "duration": 191,
    "start_time": "2022-05-10T15:39:52.340Z"
   },
   {
    "duration": 409,
    "start_time": "2022-05-10T15:42:00.016Z"
   },
   {
    "duration": 79,
    "start_time": "2022-05-10T15:42:00.427Z"
   },
   {
    "duration": 20,
    "start_time": "2022-05-10T15:42:00.507Z"
   },
   {
    "duration": 23,
    "start_time": "2022-05-10T15:42:00.529Z"
   },
   {
    "duration": 9,
    "start_time": "2022-05-10T15:42:00.555Z"
   },
   {
    "duration": 17,
    "start_time": "2022-05-10T15:42:00.566Z"
   },
   {
    "duration": 21,
    "start_time": "2022-05-10T15:42:00.585Z"
   },
   {
    "duration": 5,
    "start_time": "2022-05-10T15:42:00.607Z"
   },
   {
    "duration": 18,
    "start_time": "2022-05-10T15:42:00.614Z"
   },
   {
    "duration": 65,
    "start_time": "2022-05-10T15:42:00.634Z"
   },
   {
    "duration": 5,
    "start_time": "2022-05-10T15:42:00.701Z"
   },
   {
    "duration": 11,
    "start_time": "2022-05-10T15:42:00.707Z"
   },
   {
    "duration": 4,
    "start_time": "2022-05-10T15:42:00.720Z"
   },
   {
    "duration": 33,
    "start_time": "2022-05-10T15:42:00.726Z"
   },
   {
    "duration": 7,
    "start_time": "2022-05-10T15:42:00.761Z"
   },
   {
    "duration": 28,
    "start_time": "2022-05-10T15:42:00.772Z"
   },
   {
    "duration": 22,
    "start_time": "2022-05-10T15:42:00.802Z"
   },
   {
    "duration": 18,
    "start_time": "2022-05-10T15:42:00.826Z"
   },
   {
    "duration": 29,
    "start_time": "2022-05-10T15:42:00.846Z"
   },
   {
    "duration": 24,
    "start_time": "2022-05-10T15:42:00.878Z"
   },
   {
    "duration": 26,
    "start_time": "2022-05-10T15:42:00.904Z"
   },
   {
    "duration": 13,
    "start_time": "2022-05-10T15:42:00.932Z"
   },
   {
    "duration": 50,
    "start_time": "2022-05-10T15:42:00.947Z"
   },
   {
    "duration": 26,
    "start_time": "2022-05-10T15:42:00.999Z"
   },
   {
    "duration": 20,
    "start_time": "2022-05-10T15:42:01.027Z"
   },
   {
    "duration": 473,
    "start_time": "2022-05-10T15:42:01.057Z"
   },
   {
    "duration": 22,
    "start_time": "2022-05-10T15:42:01.532Z"
   },
   {
    "duration": 12,
    "start_time": "2022-05-10T15:42:01.558Z"
   },
   {
    "duration": 1026,
    "start_time": "2022-05-10T15:42:01.575Z"
   },
   {
    "duration": 12,
    "start_time": "2022-05-10T15:42:02.602Z"
   },
   {
    "duration": 9,
    "start_time": "2022-05-10T15:42:02.615Z"
   },
   {
    "duration": 4,
    "start_time": "2022-05-10T15:42:02.626Z"
   },
   {
    "duration": 513,
    "start_time": "2022-05-10T15:42:02.631Z"
   },
   {
    "duration": 14,
    "start_time": "2022-05-10T15:42:03.146Z"
   },
   {
    "duration": 151,
    "start_time": "2022-05-10T15:42:03.163Z"
   },
   {
    "duration": 10,
    "start_time": "2022-05-10T15:42:03.316Z"
   },
   {
    "duration": 127,
    "start_time": "2022-05-10T15:42:03.328Z"
   },
   {
    "duration": 16,
    "start_time": "2022-05-10T15:42:03.457Z"
   },
   {
    "duration": 131,
    "start_time": "2022-05-10T15:42:03.475Z"
   },
   {
    "duration": 413,
    "start_time": "2022-05-10T15:43:18.185Z"
   },
   {
    "duration": 75,
    "start_time": "2022-05-10T15:43:18.600Z"
   },
   {
    "duration": 20,
    "start_time": "2022-05-10T15:43:18.677Z"
   },
   {
    "duration": 10,
    "start_time": "2022-05-10T15:43:18.699Z"
   },
   {
    "duration": 14,
    "start_time": "2022-05-10T15:43:18.710Z"
   },
   {
    "duration": 8,
    "start_time": "2022-05-10T15:43:18.726Z"
   },
   {
    "duration": 25,
    "start_time": "2022-05-10T15:43:18.735Z"
   },
   {
    "duration": 13,
    "start_time": "2022-05-10T15:43:18.762Z"
   },
   {
    "duration": 33,
    "start_time": "2022-05-10T15:43:18.777Z"
   },
   {
    "duration": 41,
    "start_time": "2022-05-10T15:43:18.813Z"
   },
   {
    "duration": 32,
    "start_time": "2022-05-10T15:43:18.856Z"
   },
   {
    "duration": 10,
    "start_time": "2022-05-10T15:43:18.890Z"
   },
   {
    "duration": 5,
    "start_time": "2022-05-10T15:43:18.901Z"
   },
   {
    "duration": 12,
    "start_time": "2022-05-10T15:43:18.907Z"
   },
   {
    "duration": 4,
    "start_time": "2022-05-10T15:43:18.920Z"
   },
   {
    "duration": 8,
    "start_time": "2022-05-10T15:43:18.926Z"
   },
   {
    "duration": 49,
    "start_time": "2022-05-10T15:43:18.936Z"
   },
   {
    "duration": 17,
    "start_time": "2022-05-10T15:43:18.987Z"
   },
   {
    "duration": 21,
    "start_time": "2022-05-10T15:43:19.006Z"
   },
   {
    "duration": 26,
    "start_time": "2022-05-10T15:43:19.029Z"
   },
   {
    "duration": 31,
    "start_time": "2022-05-10T15:43:19.057Z"
   },
   {
    "duration": 7,
    "start_time": "2022-05-10T15:43:19.090Z"
   },
   {
    "duration": 8,
    "start_time": "2022-05-10T15:43:19.098Z"
   },
   {
    "duration": 9,
    "start_time": "2022-05-10T15:43:19.108Z"
   },
   {
    "duration": 8,
    "start_time": "2022-05-10T15:43:19.119Z"
   },
   {
    "duration": 737,
    "start_time": "2022-05-10T15:43:19.129Z"
   },
   {
    "duration": 24,
    "start_time": "2022-05-10T15:43:19.870Z"
   },
   {
    "duration": 3,
    "start_time": "2022-05-10T15:43:19.897Z"
   },
   {
    "duration": 1286,
    "start_time": "2022-05-10T15:43:19.902Z"
   },
   {
    "duration": 0,
    "start_time": "2022-05-10T15:43:21.190Z"
   },
   {
    "duration": 0,
    "start_time": "2022-05-10T15:43:21.191Z"
   },
   {
    "duration": 0,
    "start_time": "2022-05-10T15:43:21.193Z"
   },
   {
    "duration": 0,
    "start_time": "2022-05-10T15:43:21.194Z"
   },
   {
    "duration": 0,
    "start_time": "2022-05-10T15:43:21.195Z"
   },
   {
    "duration": 0,
    "start_time": "2022-05-10T15:43:21.197Z"
   },
   {
    "duration": 0,
    "start_time": "2022-05-10T15:43:21.198Z"
   },
   {
    "duration": 0,
    "start_time": "2022-05-10T15:43:21.199Z"
   },
   {
    "duration": 0,
    "start_time": "2022-05-10T15:43:21.200Z"
   },
   {
    "duration": 0,
    "start_time": "2022-05-10T15:43:21.202Z"
   },
   {
    "duration": 405,
    "start_time": "2022-05-10T15:45:21.822Z"
   },
   {
    "duration": 71,
    "start_time": "2022-05-10T15:45:22.229Z"
   },
   {
    "duration": 20,
    "start_time": "2022-05-10T15:45:22.301Z"
   },
   {
    "duration": 10,
    "start_time": "2022-05-10T15:45:22.323Z"
   },
   {
    "duration": 15,
    "start_time": "2022-05-10T15:45:22.335Z"
   },
   {
    "duration": 6,
    "start_time": "2022-05-10T15:45:22.354Z"
   },
   {
    "duration": 17,
    "start_time": "2022-05-10T15:45:22.362Z"
   },
   {
    "duration": 5,
    "start_time": "2022-05-10T15:45:22.380Z"
   },
   {
    "duration": 17,
    "start_time": "2022-05-10T15:45:22.386Z"
   },
   {
    "duration": 71,
    "start_time": "2022-05-10T15:45:22.405Z"
   },
   {
    "duration": 5,
    "start_time": "2022-05-10T15:45:22.477Z"
   },
   {
    "duration": 12,
    "start_time": "2022-05-10T15:45:22.484Z"
   },
   {
    "duration": 5,
    "start_time": "2022-05-10T15:45:22.497Z"
   },
   {
    "duration": 15,
    "start_time": "2022-05-10T15:45:22.504Z"
   },
   {
    "duration": 4,
    "start_time": "2022-05-10T15:45:22.520Z"
   },
   {
    "duration": 31,
    "start_time": "2022-05-10T15:45:22.525Z"
   },
   {
    "duration": 15,
    "start_time": "2022-05-10T15:45:22.558Z"
   },
   {
    "duration": 19,
    "start_time": "2022-05-10T15:45:22.575Z"
   },
   {
    "duration": 13,
    "start_time": "2022-05-10T15:45:22.596Z"
   },
   {
    "duration": 10,
    "start_time": "2022-05-10T15:45:22.611Z"
   },
   {
    "duration": 38,
    "start_time": "2022-05-10T15:45:22.623Z"
   },
   {
    "duration": 5,
    "start_time": "2022-05-10T15:45:22.663Z"
   },
   {
    "duration": 11,
    "start_time": "2022-05-10T15:45:22.669Z"
   },
   {
    "duration": 9,
    "start_time": "2022-05-10T15:45:22.682Z"
   },
   {
    "duration": 7,
    "start_time": "2022-05-10T15:45:22.692Z"
   },
   {
    "duration": 425,
    "start_time": "2022-05-10T15:45:22.701Z"
   },
   {
    "duration": 11,
    "start_time": "2022-05-10T15:45:23.127Z"
   },
   {
    "duration": 17,
    "start_time": "2022-05-10T15:45:23.149Z"
   },
   {
    "duration": 71,
    "start_time": "2022-05-10T15:45:23.168Z"
   },
   {
    "duration": 0,
    "start_time": "2022-05-10T15:45:23.240Z"
   },
   {
    "duration": 0,
    "start_time": "2022-05-10T15:45:23.241Z"
   },
   {
    "duration": 0,
    "start_time": "2022-05-10T15:45:23.243Z"
   },
   {
    "duration": 0,
    "start_time": "2022-05-10T15:45:23.249Z"
   },
   {
    "duration": 0,
    "start_time": "2022-05-10T15:45:23.250Z"
   },
   {
    "duration": 0,
    "start_time": "2022-05-10T15:45:23.251Z"
   },
   {
    "duration": 0,
    "start_time": "2022-05-10T15:45:23.252Z"
   },
   {
    "duration": 0,
    "start_time": "2022-05-10T15:45:23.253Z"
   },
   {
    "duration": 0,
    "start_time": "2022-05-10T15:45:23.255Z"
   },
   {
    "duration": 0,
    "start_time": "2022-05-10T15:45:23.257Z"
   },
   {
    "duration": 469,
    "start_time": "2022-05-10T15:45:53.578Z"
   },
   {
    "duration": 73,
    "start_time": "2022-05-10T15:45:54.049Z"
   },
   {
    "duration": 21,
    "start_time": "2022-05-10T15:45:54.123Z"
   },
   {
    "duration": 18,
    "start_time": "2022-05-10T15:45:54.147Z"
   },
   {
    "duration": 10,
    "start_time": "2022-05-10T15:45:54.167Z"
   },
   {
    "duration": 5,
    "start_time": "2022-05-10T15:45:54.179Z"
   },
   {
    "duration": 15,
    "start_time": "2022-05-10T15:45:54.186Z"
   },
   {
    "duration": 4,
    "start_time": "2022-05-10T15:45:54.203Z"
   },
   {
    "duration": 19,
    "start_time": "2022-05-10T15:45:54.208Z"
   },
   {
    "duration": 93,
    "start_time": "2022-05-10T15:45:54.229Z"
   },
   {
    "duration": 6,
    "start_time": "2022-05-10T15:45:54.325Z"
   },
   {
    "duration": 23,
    "start_time": "2022-05-10T15:45:54.334Z"
   },
   {
    "duration": 5,
    "start_time": "2022-05-10T15:45:54.359Z"
   },
   {
    "duration": 34,
    "start_time": "2022-05-10T15:45:54.369Z"
   },
   {
    "duration": 6,
    "start_time": "2022-05-10T15:45:54.405Z"
   },
   {
    "duration": 5,
    "start_time": "2022-05-10T15:45:54.413Z"
   },
   {
    "duration": 37,
    "start_time": "2022-05-10T15:45:54.420Z"
   },
   {
    "duration": 22,
    "start_time": "2022-05-10T15:45:54.459Z"
   },
   {
    "duration": 14,
    "start_time": "2022-05-10T15:45:54.482Z"
   },
   {
    "duration": 11,
    "start_time": "2022-05-10T15:45:54.498Z"
   },
   {
    "duration": 15,
    "start_time": "2022-05-10T15:45:54.511Z"
   },
   {
    "duration": 11,
    "start_time": "2022-05-10T15:45:54.547Z"
   },
   {
    "duration": 18,
    "start_time": "2022-05-10T15:45:54.560Z"
   },
   {
    "duration": 9,
    "start_time": "2022-05-10T15:45:54.580Z"
   },
   {
    "duration": 9,
    "start_time": "2022-05-10T15:45:54.590Z"
   },
   {
    "duration": 491,
    "start_time": "2022-05-10T15:45:54.600Z"
   },
   {
    "duration": 11,
    "start_time": "2022-05-10T15:45:55.093Z"
   },
   {
    "duration": 8,
    "start_time": "2022-05-10T15:45:55.106Z"
   },
   {
    "duration": 643,
    "start_time": "2022-05-10T15:45:55.116Z"
   },
   {
    "duration": 0,
    "start_time": "2022-05-10T15:45:55.762Z"
   },
   {
    "duration": 1,
    "start_time": "2022-05-10T15:45:55.763Z"
   },
   {
    "duration": 0,
    "start_time": "2022-05-10T15:45:55.765Z"
   },
   {
    "duration": 0,
    "start_time": "2022-05-10T15:45:55.766Z"
   },
   {
    "duration": 0,
    "start_time": "2022-05-10T15:45:55.767Z"
   },
   {
    "duration": 0,
    "start_time": "2022-05-10T15:45:55.769Z"
   },
   {
    "duration": 0,
    "start_time": "2022-05-10T15:45:55.770Z"
   },
   {
    "duration": 0,
    "start_time": "2022-05-10T15:45:55.772Z"
   },
   {
    "duration": 0,
    "start_time": "2022-05-10T15:45:55.773Z"
   },
   {
    "duration": 0,
    "start_time": "2022-05-10T15:45:55.774Z"
   },
   {
    "duration": 431,
    "start_time": "2022-05-10T15:48:02.932Z"
   },
   {
    "duration": 104,
    "start_time": "2022-05-10T15:48:03.366Z"
   },
   {
    "duration": 20,
    "start_time": "2022-05-10T15:48:03.471Z"
   },
   {
    "duration": 12,
    "start_time": "2022-05-10T15:48:03.494Z"
   },
   {
    "duration": 9,
    "start_time": "2022-05-10T15:48:03.507Z"
   },
   {
    "duration": 8,
    "start_time": "2022-05-10T15:48:03.517Z"
   },
   {
    "duration": 39,
    "start_time": "2022-05-10T15:48:03.527Z"
   },
   {
    "duration": 4,
    "start_time": "2022-05-10T15:48:03.568Z"
   },
   {
    "duration": 22,
    "start_time": "2022-05-10T15:48:03.574Z"
   },
   {
    "duration": 72,
    "start_time": "2022-05-10T15:48:03.598Z"
   },
   {
    "duration": 5,
    "start_time": "2022-05-10T15:48:03.672Z"
   },
   {
    "duration": 16,
    "start_time": "2022-05-10T15:48:03.679Z"
   },
   {
    "duration": 5,
    "start_time": "2022-05-10T15:48:03.697Z"
   },
   {
    "duration": 19,
    "start_time": "2022-05-10T15:48:03.704Z"
   },
   {
    "duration": 26,
    "start_time": "2022-05-10T15:48:03.724Z"
   },
   {
    "duration": 4,
    "start_time": "2022-05-10T15:48:03.752Z"
   },
   {
    "duration": 28,
    "start_time": "2022-05-10T15:48:03.759Z"
   },
   {
    "duration": 14,
    "start_time": "2022-05-10T15:48:03.789Z"
   },
   {
    "duration": 12,
    "start_time": "2022-05-10T15:48:03.805Z"
   },
   {
    "duration": 31,
    "start_time": "2022-05-10T15:48:03.819Z"
   },
   {
    "duration": 24,
    "start_time": "2022-05-10T15:48:03.852Z"
   },
   {
    "duration": 8,
    "start_time": "2022-05-10T15:48:03.878Z"
   },
   {
    "duration": 8,
    "start_time": "2022-05-10T15:48:03.887Z"
   },
   {
    "duration": 11,
    "start_time": "2022-05-10T15:48:03.897Z"
   },
   {
    "duration": 47,
    "start_time": "2022-05-10T15:48:03.910Z"
   },
   {
    "duration": 455,
    "start_time": "2022-05-10T15:48:03.958Z"
   },
   {
    "duration": 10,
    "start_time": "2022-05-10T15:48:04.414Z"
   },
   {
    "duration": 5,
    "start_time": "2022-05-10T15:48:04.427Z"
   },
   {
    "duration": 53,
    "start_time": "2022-05-10T15:48:04.433Z"
   },
   {
    "duration": 17,
    "start_time": "2022-05-10T15:48:04.487Z"
   },
   {
    "duration": 11,
    "start_time": "2022-05-10T15:48:04.506Z"
   },
   {
    "duration": 5,
    "start_time": "2022-05-10T15:48:04.518Z"
   },
   {
    "duration": 1167,
    "start_time": "2022-05-10T15:48:04.525Z"
   },
   {
    "duration": 13,
    "start_time": "2022-05-10T15:48:05.693Z"
   },
   {
    "duration": 190,
    "start_time": "2022-05-10T15:48:05.708Z"
   },
   {
    "duration": 13,
    "start_time": "2022-05-10T15:48:05.900Z"
   },
   {
    "duration": 176,
    "start_time": "2022-05-10T15:48:05.915Z"
   },
   {
    "duration": 16,
    "start_time": "2022-05-10T15:48:06.093Z"
   },
   {
    "duration": 136,
    "start_time": "2022-05-10T15:48:06.110Z"
   },
   {
    "duration": 398,
    "start_time": "2022-05-10T15:49:28.763Z"
   },
   {
    "duration": 64,
    "start_time": "2022-05-10T15:49:29.163Z"
   },
   {
    "duration": 36,
    "start_time": "2022-05-10T15:49:29.229Z"
   },
   {
    "duration": 10,
    "start_time": "2022-05-10T15:49:29.268Z"
   },
   {
    "duration": 9,
    "start_time": "2022-05-10T15:49:29.279Z"
   },
   {
    "duration": 4,
    "start_time": "2022-05-10T15:49:29.289Z"
   },
   {
    "duration": 10,
    "start_time": "2022-05-10T15:49:29.294Z"
   },
   {
    "duration": 4,
    "start_time": "2022-05-10T15:49:29.306Z"
   },
   {
    "duration": 47,
    "start_time": "2022-05-10T15:49:29.311Z"
   },
   {
    "duration": 41,
    "start_time": "2022-05-10T15:49:29.363Z"
   },
   {
    "duration": 5,
    "start_time": "2022-05-10T15:49:29.406Z"
   },
   {
    "duration": 24,
    "start_time": "2022-05-10T15:49:29.412Z"
   },
   {
    "duration": 18,
    "start_time": "2022-05-10T15:49:29.438Z"
   },
   {
    "duration": 25,
    "start_time": "2022-05-10T15:49:29.458Z"
   },
   {
    "duration": 4,
    "start_time": "2022-05-10T15:49:29.485Z"
   },
   {
    "duration": 4,
    "start_time": "2022-05-10T15:49:29.491Z"
   },
   {
    "duration": 13,
    "start_time": "2022-05-10T15:49:29.497Z"
   },
   {
    "duration": 15,
    "start_time": "2022-05-10T15:49:29.511Z"
   },
   {
    "duration": 40,
    "start_time": "2022-05-10T15:49:29.527Z"
   },
   {
    "duration": 12,
    "start_time": "2022-05-10T15:49:29.571Z"
   },
   {
    "duration": 16,
    "start_time": "2022-05-10T15:49:29.584Z"
   },
   {
    "duration": 5,
    "start_time": "2022-05-10T15:49:29.602Z"
   },
   {
    "duration": 7,
    "start_time": "2022-05-10T15:49:29.608Z"
   },
   {
    "duration": 9,
    "start_time": "2022-05-10T15:49:29.617Z"
   },
   {
    "duration": 6,
    "start_time": "2022-05-10T15:49:29.651Z"
   },
   {
    "duration": 431,
    "start_time": "2022-05-10T15:49:29.659Z"
   },
   {
    "duration": 10,
    "start_time": "2022-05-10T15:49:30.092Z"
   },
   {
    "duration": 5,
    "start_time": "2022-05-10T15:49:30.106Z"
   },
   {
    "duration": 123,
    "start_time": "2022-05-10T15:49:30.113Z"
   },
   {
    "duration": 0,
    "start_time": "2022-05-10T15:49:30.237Z"
   },
   {
    "duration": 0,
    "start_time": "2022-05-10T15:49:30.238Z"
   },
   {
    "duration": 0,
    "start_time": "2022-05-10T15:49:30.240Z"
   },
   {
    "duration": 0,
    "start_time": "2022-05-10T15:49:30.241Z"
   },
   {
    "duration": 0,
    "start_time": "2022-05-10T15:49:30.242Z"
   },
   {
    "duration": 0,
    "start_time": "2022-05-10T15:49:30.242Z"
   },
   {
    "duration": 0,
    "start_time": "2022-05-10T15:49:30.243Z"
   },
   {
    "duration": 0,
    "start_time": "2022-05-10T15:49:30.244Z"
   },
   {
    "duration": 0,
    "start_time": "2022-05-10T15:49:30.246Z"
   },
   {
    "duration": 0,
    "start_time": "2022-05-10T15:49:30.247Z"
   },
   {
    "duration": 439,
    "start_time": "2022-05-10T15:50:03.643Z"
   },
   {
    "duration": 69,
    "start_time": "2022-05-10T15:50:04.084Z"
   },
   {
    "duration": 23,
    "start_time": "2022-05-10T15:50:04.156Z"
   },
   {
    "duration": 10,
    "start_time": "2022-05-10T15:50:04.181Z"
   },
   {
    "duration": 8,
    "start_time": "2022-05-10T15:50:04.193Z"
   },
   {
    "duration": 3,
    "start_time": "2022-05-10T15:50:04.203Z"
   },
   {
    "duration": 13,
    "start_time": "2022-05-10T15:50:04.208Z"
   },
   {
    "duration": 32,
    "start_time": "2022-05-10T15:50:04.222Z"
   },
   {
    "duration": 38,
    "start_time": "2022-05-10T15:50:04.256Z"
   },
   {
    "duration": 38,
    "start_time": "2022-05-10T15:50:04.297Z"
   },
   {
    "duration": 12,
    "start_time": "2022-05-10T15:50:04.336Z"
   },
   {
    "duration": 16,
    "start_time": "2022-05-10T15:50:04.350Z"
   },
   {
    "duration": 13,
    "start_time": "2022-05-10T15:50:04.368Z"
   },
   {
    "duration": 23,
    "start_time": "2022-05-10T15:50:04.383Z"
   },
   {
    "duration": 6,
    "start_time": "2022-05-10T15:50:04.407Z"
   },
   {
    "duration": 8,
    "start_time": "2022-05-10T15:50:04.414Z"
   },
   {
    "duration": 43,
    "start_time": "2022-05-10T15:50:04.423Z"
   },
   {
    "duration": 14,
    "start_time": "2022-05-10T15:50:04.468Z"
   },
   {
    "duration": 14,
    "start_time": "2022-05-10T15:50:04.483Z"
   },
   {
    "duration": 12,
    "start_time": "2022-05-10T15:50:04.499Z"
   },
   {
    "duration": 40,
    "start_time": "2022-05-10T15:50:04.513Z"
   },
   {
    "duration": 14,
    "start_time": "2022-05-10T15:50:04.555Z"
   },
   {
    "duration": 7,
    "start_time": "2022-05-10T15:50:04.571Z"
   },
   {
    "duration": 13,
    "start_time": "2022-05-10T15:50:04.579Z"
   },
   {
    "duration": 7,
    "start_time": "2022-05-10T15:50:04.594Z"
   },
   {
    "duration": 433,
    "start_time": "2022-05-10T15:50:04.603Z"
   },
   {
    "duration": 11,
    "start_time": "2022-05-10T15:50:05.038Z"
   },
   {
    "duration": 21,
    "start_time": "2022-05-10T15:50:05.052Z"
   },
   {
    "duration": 54,
    "start_time": "2022-05-10T15:50:05.075Z"
   },
   {
    "duration": 20,
    "start_time": "2022-05-10T15:50:05.131Z"
   },
   {
    "duration": 25,
    "start_time": "2022-05-10T15:50:05.152Z"
   },
   {
    "duration": 4,
    "start_time": "2022-05-10T15:50:05.179Z"
   },
   {
    "duration": 862,
    "start_time": "2022-05-10T15:50:05.185Z"
   },
   {
    "duration": 11,
    "start_time": "2022-05-10T15:50:06.050Z"
   },
   {
    "duration": 133,
    "start_time": "2022-05-10T15:50:06.063Z"
   },
   {
    "duration": 14,
    "start_time": "2022-05-10T15:50:06.198Z"
   },
   {
    "duration": 136,
    "start_time": "2022-05-10T15:50:06.214Z"
   },
   {
    "duration": 11,
    "start_time": "2022-05-10T15:50:06.352Z"
   },
   {
    "duration": 188,
    "start_time": "2022-05-10T15:50:06.364Z"
   },
   {
    "duration": 156,
    "start_time": "2022-05-10T15:53:57.772Z"
   },
   {
    "duration": 688,
    "start_time": "2022-05-10T15:54:37.761Z"
   },
   {
    "duration": 493,
    "start_time": "2022-05-10T15:54:49.287Z"
   },
   {
    "duration": 521,
    "start_time": "2022-05-10T15:55:42.530Z"
   },
   {
    "duration": 403,
    "start_time": "2022-05-10T15:55:55.038Z"
   },
   {
    "duration": 72,
    "start_time": "2022-05-10T15:55:55.443Z"
   },
   {
    "duration": 19,
    "start_time": "2022-05-10T15:55:55.517Z"
   },
   {
    "duration": 29,
    "start_time": "2022-05-10T15:55:55.538Z"
   },
   {
    "duration": 7,
    "start_time": "2022-05-10T15:55:55.570Z"
   },
   {
    "duration": 6,
    "start_time": "2022-05-10T15:55:55.579Z"
   },
   {
    "duration": 11,
    "start_time": "2022-05-10T15:55:55.586Z"
   },
   {
    "duration": 4,
    "start_time": "2022-05-10T15:55:55.598Z"
   },
   {
    "duration": 17,
    "start_time": "2022-05-10T15:55:55.604Z"
   },
   {
    "duration": 67,
    "start_time": "2022-05-10T15:55:55.623Z"
   },
   {
    "duration": 6,
    "start_time": "2022-05-10T15:55:55.691Z"
   },
   {
    "duration": 10,
    "start_time": "2022-05-10T15:55:55.699Z"
   },
   {
    "duration": 5,
    "start_time": "2022-05-10T15:55:55.711Z"
   },
   {
    "duration": 37,
    "start_time": "2022-05-10T15:55:55.720Z"
   },
   {
    "duration": 6,
    "start_time": "2022-05-10T15:55:55.758Z"
   },
   {
    "duration": 13,
    "start_time": "2022-05-10T15:55:55.767Z"
   },
   {
    "duration": 16,
    "start_time": "2022-05-10T15:55:55.782Z"
   },
   {
    "duration": 13,
    "start_time": "2022-05-10T15:55:55.800Z"
   },
   {
    "duration": 13,
    "start_time": "2022-05-10T15:55:55.815Z"
   },
   {
    "duration": 31,
    "start_time": "2022-05-10T15:55:55.829Z"
   },
   {
    "duration": 16,
    "start_time": "2022-05-10T15:55:55.862Z"
   },
   {
    "duration": 5,
    "start_time": "2022-05-10T15:55:55.879Z"
   },
   {
    "duration": 10,
    "start_time": "2022-05-10T15:55:55.886Z"
   },
   {
    "duration": 11,
    "start_time": "2022-05-10T15:55:55.897Z"
   },
   {
    "duration": 10,
    "start_time": "2022-05-10T15:55:55.909Z"
   },
   {
    "duration": 445,
    "start_time": "2022-05-10T15:55:55.921Z"
   },
   {
    "duration": 13,
    "start_time": "2022-05-10T15:55:56.368Z"
   },
   {
    "duration": 7,
    "start_time": "2022-05-10T15:55:56.383Z"
   },
   {
    "duration": 594,
    "start_time": "2022-05-10T15:55:56.392Z"
   },
   {
    "duration": 0,
    "start_time": "2022-05-10T15:55:56.987Z"
   },
   {
    "duration": 0,
    "start_time": "2022-05-10T15:55:56.988Z"
   },
   {
    "duration": 0,
    "start_time": "2022-05-10T15:55:56.990Z"
   },
   {
    "duration": 0,
    "start_time": "2022-05-10T15:55:56.991Z"
   },
   {
    "duration": 0,
    "start_time": "2022-05-10T15:55:56.992Z"
   },
   {
    "duration": 0,
    "start_time": "2022-05-10T15:55:56.993Z"
   },
   {
    "duration": 0,
    "start_time": "2022-05-10T15:55:56.994Z"
   },
   {
    "duration": 0,
    "start_time": "2022-05-10T15:55:56.995Z"
   },
   {
    "duration": 0,
    "start_time": "2022-05-10T15:55:56.996Z"
   },
   {
    "duration": 0,
    "start_time": "2022-05-10T15:55:56.997Z"
   },
   {
    "duration": 73,
    "start_time": "2022-05-10T15:56:53.108Z"
   },
   {
    "duration": 74,
    "start_time": "2022-05-10T15:57:01.017Z"
   },
   {
    "duration": 117,
    "start_time": "2022-05-10T15:57:34.585Z"
   },
   {
    "duration": 49,
    "start_time": "2022-05-10T15:57:47.341Z"
   },
   {
    "duration": 44,
    "start_time": "2022-05-10T15:58:13.071Z"
   },
   {
    "duration": 10,
    "start_time": "2022-05-10T15:58:32.761Z"
   },
   {
    "duration": 9,
    "start_time": "2022-05-10T15:59:57.797Z"
   },
   {
    "duration": 125,
    "start_time": "2022-05-10T16:00:09.535Z"
   },
   {
    "duration": 10,
    "start_time": "2022-05-10T16:00:20.587Z"
   },
   {
    "duration": 48,
    "start_time": "2022-05-10T16:00:40.814Z"
   },
   {
    "duration": 50,
    "start_time": "2022-05-10T16:02:36.418Z"
   },
   {
    "duration": 383,
    "start_time": "2022-05-10T16:02:43.113Z"
   },
   {
    "duration": 76,
    "start_time": "2022-05-10T16:02:43.498Z"
   },
   {
    "duration": 19,
    "start_time": "2022-05-10T16:02:43.576Z"
   },
   {
    "duration": 8,
    "start_time": "2022-05-10T16:02:43.597Z"
   },
   {
    "duration": 4,
    "start_time": "2022-05-10T16:02:43.607Z"
   },
   {
    "duration": 6,
    "start_time": "2022-05-10T16:02:43.613Z"
   },
   {
    "duration": 10,
    "start_time": "2022-05-10T16:02:43.621Z"
   },
   {
    "duration": 22,
    "start_time": "2022-05-10T16:02:43.632Z"
   },
   {
    "duration": 26,
    "start_time": "2022-05-10T16:02:43.656Z"
   },
   {
    "duration": 43,
    "start_time": "2022-05-10T16:02:43.685Z"
   },
   {
    "duration": 5,
    "start_time": "2022-05-10T16:02:43.730Z"
   },
   {
    "duration": 13,
    "start_time": "2022-05-10T16:02:43.752Z"
   },
   {
    "duration": 4,
    "start_time": "2022-05-10T16:02:43.767Z"
   },
   {
    "duration": 11,
    "start_time": "2022-05-10T16:02:43.773Z"
   },
   {
    "duration": 3,
    "start_time": "2022-05-10T16:02:43.786Z"
   },
   {
    "duration": 5,
    "start_time": "2022-05-10T16:02:43.791Z"
   },
   {
    "duration": 14,
    "start_time": "2022-05-10T16:02:43.797Z"
   },
   {
    "duration": 40,
    "start_time": "2022-05-10T16:02:43.812Z"
   },
   {
    "duration": 17,
    "start_time": "2022-05-10T16:02:43.854Z"
   },
   {
    "duration": 12,
    "start_time": "2022-05-10T16:02:43.872Z"
   },
   {
    "duration": 15,
    "start_time": "2022-05-10T16:02:43.885Z"
   },
   {
    "duration": 8,
    "start_time": "2022-05-10T16:02:43.901Z"
   },
   {
    "duration": 8,
    "start_time": "2022-05-10T16:02:43.910Z"
   },
   {
    "duration": 33,
    "start_time": "2022-05-10T16:02:43.919Z"
   },
   {
    "duration": 18,
    "start_time": "2022-05-10T16:02:43.954Z"
   },
   {
    "duration": 419,
    "start_time": "2022-05-10T16:02:43.973Z"
   },
   {
    "duration": 11,
    "start_time": "2022-05-10T16:02:44.394Z"
   },
   {
    "duration": 4,
    "start_time": "2022-05-10T16:02:44.408Z"
   },
   {
    "duration": 63,
    "start_time": "2022-05-10T16:02:44.413Z"
   },
   {
    "duration": 10,
    "start_time": "2022-05-10T16:02:44.478Z"
   },
   {
    "duration": 9,
    "start_time": "2022-05-10T16:02:44.490Z"
   },
   {
    "duration": 5,
    "start_time": "2022-05-10T16:02:44.501Z"
   },
   {
    "duration": 887,
    "start_time": "2022-05-10T16:02:44.508Z"
   },
   {
    "duration": 9,
    "start_time": "2022-05-10T16:02:45.396Z"
   },
   {
    "duration": 118,
    "start_time": "2022-05-10T16:02:45.406Z"
   },
   {
    "duration": 10,
    "start_time": "2022-05-10T16:02:45.526Z"
   },
   {
    "duration": 123,
    "start_time": "2022-05-10T16:02:45.538Z"
   },
   {
    "duration": 12,
    "start_time": "2022-05-10T16:02:45.664Z"
   },
   {
    "duration": 106,
    "start_time": "2022-05-10T16:02:45.677Z"
   },
   {
    "duration": 43,
    "start_time": "2022-05-10T17:00:30.859Z"
   },
   {
    "duration": 99,
    "start_time": "2022-05-10T17:00:58.201Z"
   },
   {
    "duration": 903,
    "start_time": "2022-05-10T17:02:44.982Z"
   },
   {
    "duration": 719,
    "start_time": "2022-05-10T17:03:00.634Z"
   },
   {
    "duration": 759,
    "start_time": "2022-05-10T17:03:13.225Z"
   },
   {
    "duration": 4,
    "start_time": "2022-05-10T17:04:48.122Z"
   },
   {
    "duration": 0,
    "start_time": "2022-05-10T17:07:14.512Z"
   },
   {
    "duration": 207,
    "start_time": "2022-05-10T17:09:15.911Z"
   },
   {
    "duration": 409,
    "start_time": "2022-05-10T17:09:31.434Z"
   },
   {
    "duration": 71,
    "start_time": "2022-05-10T17:09:31.847Z"
   },
   {
    "duration": 19,
    "start_time": "2022-05-10T17:09:31.920Z"
   },
   {
    "duration": 11,
    "start_time": "2022-05-10T17:09:31.941Z"
   },
   {
    "duration": 16,
    "start_time": "2022-05-10T17:09:31.954Z"
   },
   {
    "duration": 4,
    "start_time": "2022-05-10T17:09:31.971Z"
   },
   {
    "duration": 11,
    "start_time": "2022-05-10T17:09:31.977Z"
   },
   {
    "duration": 4,
    "start_time": "2022-05-10T17:09:31.989Z"
   },
   {
    "duration": 17,
    "start_time": "2022-05-10T17:09:31.995Z"
   },
   {
    "duration": 76,
    "start_time": "2022-05-10T17:09:32.015Z"
   },
   {
    "duration": 5,
    "start_time": "2022-05-10T17:09:32.093Z"
   },
   {
    "duration": 11,
    "start_time": "2022-05-10T17:09:32.099Z"
   },
   {
    "duration": 4,
    "start_time": "2022-05-10T17:09:32.111Z"
   },
   {
    "duration": 43,
    "start_time": "2022-05-10T17:09:32.117Z"
   },
   {
    "duration": 5,
    "start_time": "2022-05-10T17:09:32.162Z"
   },
   {
    "duration": 6,
    "start_time": "2022-05-10T17:09:32.168Z"
   },
   {
    "duration": 13,
    "start_time": "2022-05-10T17:09:32.175Z"
   },
   {
    "duration": 13,
    "start_time": "2022-05-10T17:09:32.189Z"
   },
   {
    "duration": 13,
    "start_time": "2022-05-10T17:09:32.204Z"
   },
   {
    "duration": 42,
    "start_time": "2022-05-10T17:09:32.218Z"
   },
   {
    "duration": 16,
    "start_time": "2022-05-10T17:09:32.261Z"
   },
   {
    "duration": 8,
    "start_time": "2022-05-10T17:09:32.278Z"
   },
   {
    "duration": 6,
    "start_time": "2022-05-10T17:09:32.287Z"
   },
   {
    "duration": 7,
    "start_time": "2022-05-10T17:09:32.295Z"
   },
   {
    "duration": 6,
    "start_time": "2022-05-10T17:09:32.304Z"
   },
   {
    "duration": 679,
    "start_time": "2022-05-10T17:09:32.312Z"
   },
   {
    "duration": 14,
    "start_time": "2022-05-10T17:09:32.993Z"
   },
   {
    "duration": 5,
    "start_time": "2022-05-10T17:09:33.010Z"
   },
   {
    "duration": 325,
    "start_time": "2022-05-10T17:09:33.017Z"
   },
   {
    "duration": 16,
    "start_time": "2022-05-10T17:09:33.344Z"
   },
   {
    "duration": 9,
    "start_time": "2022-05-10T17:09:33.364Z"
   },
   {
    "duration": 5,
    "start_time": "2022-05-10T17:09:33.374Z"
   },
   {
    "duration": 880,
    "start_time": "2022-05-10T17:09:33.381Z"
   },
   {
    "duration": 9,
    "start_time": "2022-05-10T17:09:34.263Z"
   },
   {
    "duration": 141,
    "start_time": "2022-05-10T17:09:34.276Z"
   },
   {
    "duration": 11,
    "start_time": "2022-05-10T17:09:34.418Z"
   },
   {
    "duration": 123,
    "start_time": "2022-05-10T17:09:34.430Z"
   },
   {
    "duration": 14,
    "start_time": "2022-05-10T17:09:34.555Z"
   },
   {
    "duration": 130,
    "start_time": "2022-05-10T17:09:34.570Z"
   },
   {
    "duration": 360,
    "start_time": "2022-05-10T17:12:26.688Z"
   },
   {
    "duration": 73,
    "start_time": "2022-05-10T17:12:27.050Z"
   },
   {
    "duration": 24,
    "start_time": "2022-05-10T17:12:27.124Z"
   },
   {
    "duration": 15,
    "start_time": "2022-05-10T17:12:27.150Z"
   },
   {
    "duration": 14,
    "start_time": "2022-05-10T17:12:27.167Z"
   },
   {
    "duration": 4,
    "start_time": "2022-05-10T17:12:27.182Z"
   },
   {
    "duration": 10,
    "start_time": "2022-05-10T17:12:27.188Z"
   },
   {
    "duration": 4,
    "start_time": "2022-05-10T17:12:27.199Z"
   },
   {
    "duration": 21,
    "start_time": "2022-05-10T17:12:27.204Z"
   },
   {
    "duration": 46,
    "start_time": "2022-05-10T17:12:27.251Z"
   },
   {
    "duration": 4,
    "start_time": "2022-05-10T17:12:27.299Z"
   },
   {
    "duration": 14,
    "start_time": "2022-05-10T17:12:27.305Z"
   },
   {
    "duration": 6,
    "start_time": "2022-05-10T17:12:27.320Z"
   },
   {
    "duration": 31,
    "start_time": "2022-05-10T17:12:27.327Z"
   },
   {
    "duration": 5,
    "start_time": "2022-05-10T17:12:27.361Z"
   },
   {
    "duration": 6,
    "start_time": "2022-05-10T17:12:27.367Z"
   },
   {
    "duration": 15,
    "start_time": "2022-05-10T17:12:27.375Z"
   },
   {
    "duration": 16,
    "start_time": "2022-05-10T17:12:27.392Z"
   },
   {
    "duration": 14,
    "start_time": "2022-05-10T17:12:27.409Z"
   },
   {
    "duration": 43,
    "start_time": "2022-05-10T17:12:27.425Z"
   },
   {
    "duration": 15,
    "start_time": "2022-05-10T17:12:27.470Z"
   },
   {
    "duration": 5,
    "start_time": "2022-05-10T17:12:27.487Z"
   },
   {
    "duration": 9,
    "start_time": "2022-05-10T17:12:27.494Z"
   },
   {
    "duration": 10,
    "start_time": "2022-05-10T17:12:27.504Z"
   },
   {
    "duration": 8,
    "start_time": "2022-05-10T17:12:27.515Z"
   },
   {
    "duration": 678,
    "start_time": "2022-05-10T17:12:27.524Z"
   },
   {
    "duration": 14,
    "start_time": "2022-05-10T17:12:28.204Z"
   },
   {
    "duration": 4,
    "start_time": "2022-05-10T17:12:28.222Z"
   },
   {
    "duration": 145,
    "start_time": "2022-05-10T17:12:28.228Z"
   },
   {
    "duration": 12,
    "start_time": "2022-05-10T17:12:28.375Z"
   },
   {
    "duration": 10,
    "start_time": "2022-05-10T17:12:28.388Z"
   },
   {
    "duration": 4,
    "start_time": "2022-05-10T17:12:28.399Z"
   },
   {
    "duration": 867,
    "start_time": "2022-05-10T17:12:28.404Z"
   },
   {
    "duration": 10,
    "start_time": "2022-05-10T17:12:29.272Z"
   },
   {
    "duration": 147,
    "start_time": "2022-05-10T17:12:29.284Z"
   },
   {
    "duration": 10,
    "start_time": "2022-05-10T17:12:29.433Z"
   },
   {
    "duration": 126,
    "start_time": "2022-05-10T17:12:29.447Z"
   },
   {
    "duration": 10,
    "start_time": "2022-05-10T17:12:29.575Z"
   },
   {
    "duration": 128,
    "start_time": "2022-05-10T17:12:29.587Z"
   },
   {
    "duration": 119,
    "start_time": "2022-05-10T17:13:32.526Z"
   },
   {
    "duration": 397,
    "start_time": "2022-05-10T17:13:42.763Z"
   },
   {
    "duration": 68,
    "start_time": "2022-05-10T17:13:43.162Z"
   },
   {
    "duration": 28,
    "start_time": "2022-05-10T17:13:43.232Z"
   },
   {
    "duration": 10,
    "start_time": "2022-05-10T17:13:43.262Z"
   },
   {
    "duration": 4,
    "start_time": "2022-05-10T17:13:43.274Z"
   },
   {
    "duration": 4,
    "start_time": "2022-05-10T17:13:43.280Z"
   },
   {
    "duration": 12,
    "start_time": "2022-05-10T17:13:43.286Z"
   },
   {
    "duration": 4,
    "start_time": "2022-05-10T17:13:43.299Z"
   },
   {
    "duration": 43,
    "start_time": "2022-05-10T17:13:43.305Z"
   },
   {
    "duration": 49,
    "start_time": "2022-05-10T17:13:43.351Z"
   },
   {
    "duration": 5,
    "start_time": "2022-05-10T17:13:43.402Z"
   },
   {
    "duration": 11,
    "start_time": "2022-05-10T17:13:43.408Z"
   },
   {
    "duration": 5,
    "start_time": "2022-05-10T17:13:43.451Z"
   },
   {
    "duration": 17,
    "start_time": "2022-05-10T17:13:43.458Z"
   },
   {
    "duration": 5,
    "start_time": "2022-05-10T17:13:43.476Z"
   },
   {
    "duration": 5,
    "start_time": "2022-05-10T17:13:43.483Z"
   },
   {
    "duration": 15,
    "start_time": "2022-05-10T17:13:43.490Z"
   },
   {
    "duration": 13,
    "start_time": "2022-05-10T17:13:43.507Z"
   },
   {
    "duration": 24,
    "start_time": "2022-05-10T17:13:43.551Z"
   },
   {
    "duration": 17,
    "start_time": "2022-05-10T17:13:43.577Z"
   },
   {
    "duration": 24,
    "start_time": "2022-05-10T17:13:43.596Z"
   },
   {
    "duration": 7,
    "start_time": "2022-05-10T17:13:43.622Z"
   },
   {
    "duration": 12,
    "start_time": "2022-05-10T17:13:43.648Z"
   },
   {
    "duration": 19,
    "start_time": "2022-05-10T17:13:43.662Z"
   },
   {
    "duration": 8,
    "start_time": "2022-05-10T17:13:43.683Z"
   },
   {
    "duration": 450,
    "start_time": "2022-05-10T17:13:43.693Z"
   },
   {
    "duration": 17,
    "start_time": "2022-05-10T17:13:44.145Z"
   },
   {
    "duration": 7,
    "start_time": "2022-05-10T17:13:44.165Z"
   },
   {
    "duration": 120,
    "start_time": "2022-05-10T17:13:44.174Z"
   },
   {
    "duration": 10,
    "start_time": "2022-05-10T17:13:44.296Z"
   },
   {
    "duration": 9,
    "start_time": "2022-05-10T17:13:44.308Z"
   },
   {
    "duration": 5,
    "start_time": "2022-05-10T17:13:44.319Z"
   },
   {
    "duration": 1141,
    "start_time": "2022-05-10T17:13:44.326Z"
   },
   {
    "duration": 13,
    "start_time": "2022-05-10T17:13:45.469Z"
   },
   {
    "duration": 191,
    "start_time": "2022-05-10T17:13:45.484Z"
   },
   {
    "duration": 13,
    "start_time": "2022-05-10T17:13:45.677Z"
   },
   {
    "duration": 169,
    "start_time": "2022-05-10T17:13:45.692Z"
   },
   {
    "duration": 12,
    "start_time": "2022-05-10T17:13:45.864Z"
   },
   {
    "duration": 182,
    "start_time": "2022-05-10T17:13:45.877Z"
   },
   {
    "duration": 390,
    "start_time": "2022-05-10T17:14:58.961Z"
   },
   {
    "duration": 73,
    "start_time": "2022-05-10T17:14:59.353Z"
   },
   {
    "duration": 24,
    "start_time": "2022-05-10T17:14:59.428Z"
   },
   {
    "duration": 14,
    "start_time": "2022-05-10T17:14:59.455Z"
   },
   {
    "duration": 7,
    "start_time": "2022-05-10T17:14:59.471Z"
   },
   {
    "duration": 4,
    "start_time": "2022-05-10T17:14:59.480Z"
   },
   {
    "duration": 16,
    "start_time": "2022-05-10T17:14:59.485Z"
   },
   {
    "duration": 11,
    "start_time": "2022-05-10T17:14:59.503Z"
   },
   {
    "duration": 50,
    "start_time": "2022-05-10T17:14:59.516Z"
   },
   {
    "duration": 46,
    "start_time": "2022-05-10T17:14:59.570Z"
   },
   {
    "duration": 6,
    "start_time": "2022-05-10T17:14:59.618Z"
   },
   {
    "duration": 25,
    "start_time": "2022-05-10T17:14:59.626Z"
   },
   {
    "duration": 10,
    "start_time": "2022-05-10T17:14:59.653Z"
   },
   {
    "duration": 18,
    "start_time": "2022-05-10T17:14:59.665Z"
   },
   {
    "duration": 8,
    "start_time": "2022-05-10T17:14:59.685Z"
   },
   {
    "duration": 8,
    "start_time": "2022-05-10T17:14:59.695Z"
   },
   {
    "duration": 37,
    "start_time": "2022-05-10T17:14:59.705Z"
   },
   {
    "duration": 21,
    "start_time": "2022-05-10T17:14:59.745Z"
   },
   {
    "duration": 15,
    "start_time": "2022-05-10T17:14:59.767Z"
   },
   {
    "duration": 18,
    "start_time": "2022-05-10T17:14:59.783Z"
   },
   {
    "duration": 16,
    "start_time": "2022-05-10T17:14:59.803Z"
   },
   {
    "duration": 15,
    "start_time": "2022-05-10T17:14:59.821Z"
   },
   {
    "duration": 29,
    "start_time": "2022-05-10T17:14:59.838Z"
   },
   {
    "duration": 12,
    "start_time": "2022-05-10T17:14:59.870Z"
   },
   {
    "duration": 20,
    "start_time": "2022-05-10T17:14:59.884Z"
   },
   {
    "duration": 417,
    "start_time": "2022-05-10T17:14:59.906Z"
   },
   {
    "duration": 11,
    "start_time": "2022-05-10T17:15:00.325Z"
   },
   {
    "duration": 19,
    "start_time": "2022-05-10T17:15:00.347Z"
   },
   {
    "duration": 19,
    "start_time": "2022-05-10T17:15:00.368Z"
   },
   {
    "duration": 31,
    "start_time": "2022-05-10T17:15:00.389Z"
   },
   {
    "duration": 25,
    "start_time": "2022-05-10T17:15:00.421Z"
   },
   {
    "duration": 12,
    "start_time": "2022-05-10T17:15:00.448Z"
   },
   {
    "duration": 878,
    "start_time": "2022-05-10T17:15:00.461Z"
   },
   {
    "duration": 12,
    "start_time": "2022-05-10T17:15:01.341Z"
   },
   {
    "duration": 164,
    "start_time": "2022-05-10T17:15:01.355Z"
   },
   {
    "duration": 10,
    "start_time": "2022-05-10T17:15:01.520Z"
   },
   {
    "duration": 119,
    "start_time": "2022-05-10T17:15:01.532Z"
   },
   {
    "duration": 12,
    "start_time": "2022-05-10T17:15:01.653Z"
   },
   {
    "duration": 124,
    "start_time": "2022-05-10T17:15:01.667Z"
   },
   {
    "duration": 122,
    "start_time": "2022-05-10T17:17:52.098Z"
   },
   {
    "duration": 126,
    "start_time": "2022-05-10T17:18:27.541Z"
   },
   {
    "duration": 11,
    "start_time": "2022-05-10T17:23:09.400Z"
   },
   {
    "duration": 103,
    "start_time": "2022-05-10T17:41:03.099Z"
   },
   {
    "duration": 14,
    "start_time": "2022-05-10T17:41:28.912Z"
   },
   {
    "duration": 120,
    "start_time": "2022-05-10T17:42:51.906Z"
   },
   {
    "duration": 21,
    "start_time": "2022-05-10T17:43:00.620Z"
   },
   {
    "duration": 495,
    "start_time": "2022-05-10T17:44:11.821Z"
   },
   {
    "duration": 79,
    "start_time": "2022-05-10T17:44:12.319Z"
   },
   {
    "duration": 21,
    "start_time": "2022-05-10T17:44:12.400Z"
   },
   {
    "duration": 12,
    "start_time": "2022-05-10T17:44:12.423Z"
   },
   {
    "duration": 6,
    "start_time": "2022-05-10T17:44:12.447Z"
   },
   {
    "duration": 22,
    "start_time": "2022-05-10T17:44:12.455Z"
   },
   {
    "duration": 11,
    "start_time": "2022-05-10T17:44:12.479Z"
   },
   {
    "duration": 4,
    "start_time": "2022-05-10T17:44:12.492Z"
   },
   {
    "duration": 17,
    "start_time": "2022-05-10T17:44:12.498Z"
   },
   {
    "duration": 86,
    "start_time": "2022-05-10T17:44:12.518Z"
   },
   {
    "duration": 6,
    "start_time": "2022-05-10T17:44:12.607Z"
   },
   {
    "duration": 16,
    "start_time": "2022-05-10T17:44:12.615Z"
   },
   {
    "duration": 20,
    "start_time": "2022-05-10T17:44:12.633Z"
   },
   {
    "duration": 20,
    "start_time": "2022-05-10T17:44:12.655Z"
   },
   {
    "duration": 6,
    "start_time": "2022-05-10T17:44:12.677Z"
   },
   {
    "duration": 6,
    "start_time": "2022-05-10T17:44:12.685Z"
   },
   {
    "duration": 12,
    "start_time": "2022-05-10T17:44:12.692Z"
   },
   {
    "duration": 15,
    "start_time": "2022-05-10T17:44:12.705Z"
   },
   {
    "duration": 49,
    "start_time": "2022-05-10T17:44:12.722Z"
   },
   {
    "duration": 18,
    "start_time": "2022-05-10T17:44:12.773Z"
   },
   {
    "duration": 25,
    "start_time": "2022-05-10T17:44:12.793Z"
   },
   {
    "duration": 6,
    "start_time": "2022-05-10T17:44:12.820Z"
   },
   {
    "duration": 44,
    "start_time": "2022-05-10T17:44:12.828Z"
   },
   {
    "duration": 8,
    "start_time": "2022-05-10T17:44:12.875Z"
   },
   {
    "duration": 8,
    "start_time": "2022-05-10T17:44:12.885Z"
   },
   {
    "duration": 690,
    "start_time": "2022-05-10T17:44:12.896Z"
   },
   {
    "duration": 16,
    "start_time": "2022-05-10T17:44:13.589Z"
   },
   {
    "duration": 16,
    "start_time": "2022-05-10T17:44:13.610Z"
   },
   {
    "duration": 33,
    "start_time": "2022-05-10T17:44:13.628Z"
   },
   {
    "duration": 15,
    "start_time": "2022-05-10T17:44:13.665Z"
   },
   {
    "duration": 7,
    "start_time": "2022-05-10T17:44:13.682Z"
   },
   {
    "duration": 1152,
    "start_time": "2022-05-10T17:44:13.691Z"
   },
   {
    "duration": 29,
    "start_time": "2022-05-10T17:44:14.847Z"
   },
   {
    "duration": 125,
    "start_time": "2022-05-10T17:44:14.878Z"
   },
   {
    "duration": 11,
    "start_time": "2022-05-10T17:44:15.004Z"
   },
   {
    "duration": 117,
    "start_time": "2022-05-10T17:44:15.017Z"
   },
   {
    "duration": 29,
    "start_time": "2022-05-10T17:44:15.136Z"
   },
   {
    "duration": 11,
    "start_time": "2022-05-10T17:44:15.167Z"
   },
   {
    "duration": 162,
    "start_time": "2022-05-10T17:44:15.179Z"
   },
   {
    "duration": 6,
    "start_time": "2022-05-10T17:45:37.061Z"
   },
   {
    "duration": 131,
    "start_time": "2022-05-10T17:46:12.512Z"
   },
   {
    "duration": 6,
    "start_time": "2022-05-10T17:46:19.477Z"
   },
   {
    "duration": 364,
    "start_time": "2022-05-10T17:46:40.492Z"
   },
   {
    "duration": 67,
    "start_time": "2022-05-10T17:46:40.858Z"
   },
   {
    "duration": 23,
    "start_time": "2022-05-10T17:46:40.926Z"
   },
   {
    "duration": 14,
    "start_time": "2022-05-10T17:46:40.951Z"
   },
   {
    "duration": 4,
    "start_time": "2022-05-10T17:46:40.966Z"
   },
   {
    "duration": 3,
    "start_time": "2022-05-10T17:46:40.972Z"
   },
   {
    "duration": 9,
    "start_time": "2022-05-10T17:46:40.977Z"
   },
   {
    "duration": 4,
    "start_time": "2022-05-10T17:46:40.987Z"
   },
   {
    "duration": 17,
    "start_time": "2022-05-10T17:46:40.992Z"
   },
   {
    "duration": 77,
    "start_time": "2022-05-10T17:46:41.011Z"
   },
   {
    "duration": 4,
    "start_time": "2022-05-10T17:46:41.090Z"
   },
   {
    "duration": 9,
    "start_time": "2022-05-10T17:46:41.095Z"
   },
   {
    "duration": 5,
    "start_time": "2022-05-10T17:46:41.105Z"
   },
   {
    "duration": 10,
    "start_time": "2022-05-10T17:46:41.111Z"
   },
   {
    "duration": 32,
    "start_time": "2022-05-10T17:46:41.123Z"
   },
   {
    "duration": 5,
    "start_time": "2022-05-10T17:46:41.157Z"
   },
   {
    "duration": 12,
    "start_time": "2022-05-10T17:46:41.163Z"
   },
   {
    "duration": 13,
    "start_time": "2022-05-10T17:46:41.177Z"
   },
   {
    "duration": 14,
    "start_time": "2022-05-10T17:46:41.191Z"
   },
   {
    "duration": 10,
    "start_time": "2022-05-10T17:46:41.206Z"
   },
   {
    "duration": 48,
    "start_time": "2022-05-10T17:46:41.218Z"
   },
   {
    "duration": 5,
    "start_time": "2022-05-10T17:46:41.267Z"
   },
   {
    "duration": 9,
    "start_time": "2022-05-10T17:46:41.273Z"
   },
   {
    "duration": 7,
    "start_time": "2022-05-10T17:46:41.283Z"
   },
   {
    "duration": 6,
    "start_time": "2022-05-10T17:46:41.291Z"
   },
   {
    "duration": 436,
    "start_time": "2022-05-10T17:46:41.299Z"
   },
   {
    "duration": 23,
    "start_time": "2022-05-10T17:46:41.737Z"
   },
   {
    "duration": 11,
    "start_time": "2022-05-10T17:46:41.763Z"
   },
   {
    "duration": 14,
    "start_time": "2022-05-10T17:46:41.776Z"
   },
   {
    "duration": 7,
    "start_time": "2022-05-10T17:46:41.791Z"
   },
   {
    "duration": 3,
    "start_time": "2022-05-10T17:46:41.800Z"
   },
   {
    "duration": 825,
    "start_time": "2022-05-10T17:46:41.805Z"
   },
   {
    "duration": 9,
    "start_time": "2022-05-10T17:46:42.632Z"
   },
   {
    "duration": 126,
    "start_time": "2022-05-10T17:46:42.652Z"
   },
   {
    "duration": 10,
    "start_time": "2022-05-10T17:46:42.779Z"
   },
   {
    "duration": 128,
    "start_time": "2022-05-10T17:46:42.791Z"
   },
   {
    "duration": 17,
    "start_time": "2022-05-10T17:46:42.920Z"
   },
   {
    "duration": 20,
    "start_time": "2022-05-10T17:46:42.938Z"
   },
   {
    "duration": 107,
    "start_time": "2022-05-10T17:46:42.960Z"
   },
   {
    "duration": 376,
    "start_time": "2022-05-10T17:48:54.083Z"
   },
   {
    "duration": 65,
    "start_time": "2022-05-10T17:48:54.461Z"
   },
   {
    "duration": 25,
    "start_time": "2022-05-10T17:48:54.528Z"
   },
   {
    "duration": 16,
    "start_time": "2022-05-10T17:48:54.555Z"
   },
   {
    "duration": 7,
    "start_time": "2022-05-10T17:48:54.573Z"
   },
   {
    "duration": 4,
    "start_time": "2022-05-10T17:48:54.581Z"
   },
   {
    "duration": 10,
    "start_time": "2022-05-10T17:48:54.586Z"
   },
   {
    "duration": 4,
    "start_time": "2022-05-10T17:48:54.597Z"
   },
   {
    "duration": 19,
    "start_time": "2022-05-10T17:48:54.602Z"
   },
   {
    "duration": 68,
    "start_time": "2022-05-10T17:48:54.623Z"
   },
   {
    "duration": 4,
    "start_time": "2022-05-10T17:48:54.693Z"
   },
   {
    "duration": 10,
    "start_time": "2022-05-10T17:48:54.699Z"
   },
   {
    "duration": 4,
    "start_time": "2022-05-10T17:48:54.711Z"
   },
   {
    "duration": 11,
    "start_time": "2022-05-10T17:48:54.716Z"
   },
   {
    "duration": 5,
    "start_time": "2022-05-10T17:48:54.751Z"
   },
   {
    "duration": 7,
    "start_time": "2022-05-10T17:48:54.759Z"
   },
   {
    "duration": 10,
    "start_time": "2022-05-10T17:48:54.768Z"
   },
   {
    "duration": 14,
    "start_time": "2022-05-10T17:48:54.779Z"
   },
   {
    "duration": 13,
    "start_time": "2022-05-10T17:48:54.794Z"
   },
   {
    "duration": 11,
    "start_time": "2022-05-10T17:48:54.808Z"
   },
   {
    "duration": 43,
    "start_time": "2022-05-10T17:48:54.820Z"
   },
   {
    "duration": 7,
    "start_time": "2022-05-10T17:48:54.866Z"
   },
   {
    "duration": 12,
    "start_time": "2022-05-10T17:48:54.874Z"
   },
   {
    "duration": 9,
    "start_time": "2022-05-10T17:48:54.887Z"
   },
   {
    "duration": 7,
    "start_time": "2022-05-10T17:48:54.898Z"
   },
   {
    "duration": 433,
    "start_time": "2022-05-10T17:48:54.906Z"
   },
   {
    "duration": 10,
    "start_time": "2022-05-10T17:48:55.341Z"
   },
   {
    "duration": 18,
    "start_time": "2022-05-10T17:48:55.355Z"
   },
   {
    "duration": 15,
    "start_time": "2022-05-10T17:48:55.374Z"
   },
   {
    "duration": 8,
    "start_time": "2022-05-10T17:48:55.390Z"
   },
   {
    "duration": 4,
    "start_time": "2022-05-10T17:48:55.400Z"
   },
   {
    "duration": 821,
    "start_time": "2022-05-10T17:48:55.406Z"
   },
   {
    "duration": 9,
    "start_time": "2022-05-10T17:48:56.228Z"
   },
   {
    "duration": 127,
    "start_time": "2022-05-10T17:48:56.247Z"
   },
   {
    "duration": 10,
    "start_time": "2022-05-10T17:48:56.375Z"
   },
   {
    "duration": 128,
    "start_time": "2022-05-10T17:48:56.386Z"
   },
   {
    "duration": 16,
    "start_time": "2022-05-10T17:48:56.516Z"
   },
   {
    "duration": 28,
    "start_time": "2022-05-10T17:48:56.534Z"
   },
   {
    "duration": 119,
    "start_time": "2022-05-10T17:48:56.565Z"
   },
   {
    "duration": 16,
    "start_time": "2022-05-10T17:53:40.926Z"
   },
   {
    "duration": 20,
    "start_time": "2022-05-10T17:57:39.410Z"
   },
   {
    "duration": 14,
    "start_time": "2022-05-10T17:57:57.787Z"
   },
   {
    "duration": 118,
    "start_time": "2022-05-10T17:58:10.929Z"
   },
   {
    "duration": 14,
    "start_time": "2022-05-10T18:00:14.930Z"
   },
   {
    "duration": 14,
    "start_time": "2022-05-10T18:00:49.901Z"
   },
   {
    "duration": 122,
    "start_time": "2022-05-10T18:06:41.575Z"
   },
   {
    "duration": 136,
    "start_time": "2022-05-10T18:08:05.765Z"
   },
   {
    "duration": 43,
    "start_time": "2022-05-10T18:12:16.390Z"
   },
   {
    "duration": 4,
    "start_time": "2022-05-10T18:12:23.774Z"
   },
   {
    "duration": 49,
    "start_time": "2022-05-10T18:15:36.542Z"
   },
   {
    "duration": 476,
    "start_time": "2022-05-10T18:15:44.766Z"
   },
   {
    "duration": 73,
    "start_time": "2022-05-10T18:15:45.245Z"
   },
   {
    "duration": 20,
    "start_time": "2022-05-10T18:15:45.320Z"
   },
   {
    "duration": 15,
    "start_time": "2022-05-10T18:15:45.352Z"
   },
   {
    "duration": 3,
    "start_time": "2022-05-10T18:15:45.369Z"
   },
   {
    "duration": 5,
    "start_time": "2022-05-10T18:15:45.374Z"
   },
   {
    "duration": 11,
    "start_time": "2022-05-10T18:15:45.380Z"
   },
   {
    "duration": 7,
    "start_time": "2022-05-10T18:15:45.393Z"
   },
   {
    "duration": 18,
    "start_time": "2022-05-10T18:15:45.401Z"
   },
   {
    "duration": 69,
    "start_time": "2022-05-10T18:15:45.421Z"
   },
   {
    "duration": 5,
    "start_time": "2022-05-10T18:15:45.491Z"
   },
   {
    "duration": 12,
    "start_time": "2022-05-10T18:15:45.497Z"
   },
   {
    "duration": 5,
    "start_time": "2022-05-10T18:15:45.511Z"
   },
   {
    "duration": 43,
    "start_time": "2022-05-10T18:15:45.518Z"
   },
   {
    "duration": 6,
    "start_time": "2022-05-10T18:15:45.563Z"
   },
   {
    "duration": 6,
    "start_time": "2022-05-10T18:15:45.571Z"
   },
   {
    "duration": 15,
    "start_time": "2022-05-10T18:15:45.579Z"
   },
   {
    "duration": 14,
    "start_time": "2022-05-10T18:15:45.596Z"
   },
   {
    "duration": 15,
    "start_time": "2022-05-10T18:15:45.611Z"
   },
   {
    "duration": 37,
    "start_time": "2022-05-10T18:15:45.628Z"
   },
   {
    "duration": 23,
    "start_time": "2022-05-10T18:15:45.667Z"
   },
   {
    "duration": 6,
    "start_time": "2022-05-10T18:15:45.692Z"
   },
   {
    "duration": 8,
    "start_time": "2022-05-10T18:15:45.700Z"
   },
   {
    "duration": 9,
    "start_time": "2022-05-10T18:15:45.709Z"
   },
   {
    "duration": 34,
    "start_time": "2022-05-10T18:15:45.720Z"
   },
   {
    "duration": 417,
    "start_time": "2022-05-10T18:15:45.756Z"
   },
   {
    "duration": 10,
    "start_time": "2022-05-10T18:15:46.175Z"
   },
   {
    "duration": 11,
    "start_time": "2022-05-10T18:15:46.188Z"
   },
   {
    "duration": 18,
    "start_time": "2022-05-10T18:15:46.200Z"
   },
   {
    "duration": 9,
    "start_time": "2022-05-10T18:15:46.219Z"
   },
   {
    "duration": 28,
    "start_time": "2022-05-10T18:15:46.230Z"
   },
   {
    "duration": 20,
    "start_time": "2022-05-10T18:15:46.260Z"
   },
   {
    "duration": 873,
    "start_time": "2022-05-10T18:15:46.281Z"
   },
   {
    "duration": 10,
    "start_time": "2022-05-10T18:15:47.157Z"
   },
   {
    "duration": 127,
    "start_time": "2022-05-10T18:15:47.169Z"
   },
   {
    "duration": 10,
    "start_time": "2022-05-10T18:15:47.298Z"
   },
   {
    "duration": 133,
    "start_time": "2022-05-10T18:15:47.310Z"
   },
   {
    "duration": 17,
    "start_time": "2022-05-10T18:15:47.447Z"
   },
   {
    "duration": 15,
    "start_time": "2022-05-10T18:15:47.466Z"
   },
   {
    "duration": 191,
    "start_time": "2022-05-10T18:15:47.483Z"
   },
   {
    "duration": 2268,
    "start_time": "2022-05-10T18:23:35.310Z"
   },
   {
    "duration": 131,
    "start_time": "2022-05-10T18:23:57.192Z"
   },
   {
    "duration": 5,
    "start_time": "2022-05-10T18:24:02.261Z"
   },
   {
    "duration": 16,
    "start_time": "2022-05-10T18:24:53.772Z"
   },
   {
    "duration": 4,
    "start_time": "2022-05-10T18:25:20.426Z"
   },
   {
    "duration": 13,
    "start_time": "2022-05-10T18:25:30.065Z"
   },
   {
    "duration": 11,
    "start_time": "2022-05-10T18:26:39.736Z"
   },
   {
    "duration": 19,
    "start_time": "2022-05-10T18:27:31.022Z"
   },
   {
    "duration": 4,
    "start_time": "2022-05-10T18:27:56.289Z"
   },
   {
    "duration": 11,
    "start_time": "2022-05-10T18:29:41.804Z"
   },
   {
    "duration": 6,
    "start_time": "2022-05-10T18:29:49.203Z"
   },
   {
    "duration": 4,
    "start_time": "2022-05-10T18:30:10.274Z"
   },
   {
    "duration": 4,
    "start_time": "2022-05-10T18:30:57.521Z"
   },
   {
    "duration": 5,
    "start_time": "2022-05-10T18:31:09.270Z"
   },
   {
    "duration": 6,
    "start_time": "2022-05-10T18:31:47.631Z"
   },
   {
    "duration": 5,
    "start_time": "2022-05-10T18:32:21.300Z"
   },
   {
    "duration": 10,
    "start_time": "2022-05-10T18:36:01.468Z"
   },
   {
    "duration": 8,
    "start_time": "2022-05-10T18:36:14.431Z"
   },
   {
    "duration": 11,
    "start_time": "2022-05-10T18:36:42.176Z"
   },
   {
    "duration": 17,
    "start_time": "2022-05-10T18:36:59.045Z"
   },
   {
    "duration": 4,
    "start_time": "2022-05-10T18:39:21.905Z"
   },
   {
    "duration": 4,
    "start_time": "2022-05-10T18:40:15.214Z"
   },
   {
    "duration": 408,
    "start_time": "2022-05-10T18:40:30.476Z"
   },
   {
    "duration": 120,
    "start_time": "2022-05-10T18:40:30.886Z"
   },
   {
    "duration": 19,
    "start_time": "2022-05-10T18:40:31.008Z"
   },
   {
    "duration": 27,
    "start_time": "2022-05-10T18:40:31.030Z"
   },
   {
    "duration": 21,
    "start_time": "2022-05-10T18:40:31.060Z"
   },
   {
    "duration": 9,
    "start_time": "2022-05-10T18:40:31.083Z"
   },
   {
    "duration": 19,
    "start_time": "2022-05-10T18:40:31.094Z"
   },
   {
    "duration": 8,
    "start_time": "2022-05-10T18:40:31.115Z"
   },
   {
    "duration": 46,
    "start_time": "2022-05-10T18:40:31.125Z"
   },
   {
    "duration": 43,
    "start_time": "2022-05-10T18:40:31.174Z"
   },
   {
    "duration": 10,
    "start_time": "2022-05-10T18:40:31.219Z"
   },
   {
    "duration": 6,
    "start_time": "2022-05-10T18:40:31.231Z"
   },
   {
    "duration": 21,
    "start_time": "2022-05-10T18:40:31.257Z"
   },
   {
    "duration": 12,
    "start_time": "2022-05-10T18:40:31.280Z"
   },
   {
    "duration": 6,
    "start_time": "2022-05-10T18:40:31.293Z"
   },
   {
    "duration": 11,
    "start_time": "2022-05-10T18:40:31.300Z"
   },
   {
    "duration": 24,
    "start_time": "2022-05-10T18:40:31.313Z"
   },
   {
    "duration": 35,
    "start_time": "2022-05-10T18:40:31.338Z"
   },
   {
    "duration": 17,
    "start_time": "2022-05-10T18:40:31.375Z"
   },
   {
    "duration": 15,
    "start_time": "2022-05-10T18:40:31.393Z"
   },
   {
    "duration": 10,
    "start_time": "2022-05-10T18:40:31.409Z"
   },
   {
    "duration": 9,
    "start_time": "2022-05-10T18:40:31.421Z"
   },
   {
    "duration": 24,
    "start_time": "2022-05-10T18:40:31.431Z"
   },
   {
    "duration": 32,
    "start_time": "2022-05-10T18:40:31.456Z"
   },
   {
    "duration": 450,
    "start_time": "2022-05-10T18:40:31.489Z"
   },
   {
    "duration": 11,
    "start_time": "2022-05-10T18:40:31.940Z"
   },
   {
    "duration": 32,
    "start_time": "2022-05-10T18:40:31.953Z"
   },
   {
    "duration": 17,
    "start_time": "2022-05-10T18:40:31.988Z"
   },
   {
    "duration": 11,
    "start_time": "2022-05-10T18:40:32.006Z"
   },
   {
    "duration": 7,
    "start_time": "2022-05-10T18:40:32.018Z"
   },
   {
    "duration": 6,
    "start_time": "2022-05-10T18:40:32.026Z"
   },
   {
    "duration": 16,
    "start_time": "2022-05-10T18:40:32.034Z"
   },
   {
    "duration": 960,
    "start_time": "2022-05-10T18:40:32.052Z"
   },
   {
    "duration": 9,
    "start_time": "2022-05-10T18:40:33.014Z"
   },
   {
    "duration": 154,
    "start_time": "2022-05-10T18:40:33.024Z"
   },
   {
    "duration": 10,
    "start_time": "2022-05-10T18:40:33.180Z"
   },
   {
    "duration": 178,
    "start_time": "2022-05-10T18:40:33.192Z"
   },
   {
    "duration": 15,
    "start_time": "2022-05-10T18:40:33.379Z"
   },
   {
    "duration": 150,
    "start_time": "2022-05-10T18:40:33.396Z"
   },
   {
    "duration": 2135,
    "start_time": "2022-05-10T18:51:21.418Z"
   },
   {
    "duration": 1528,
    "start_time": "2022-05-10T18:51:39.678Z"
   },
   {
    "duration": 1139,
    "start_time": "2022-05-10T18:55:34.373Z"
   },
   {
    "duration": 370,
    "start_time": "2022-05-10T18:55:40.877Z"
   },
   {
    "duration": 77,
    "start_time": "2022-05-10T18:55:41.249Z"
   },
   {
    "duration": 21,
    "start_time": "2022-05-10T18:55:41.327Z"
   },
   {
    "duration": 14,
    "start_time": "2022-05-10T18:55:41.351Z"
   },
   {
    "duration": 4,
    "start_time": "2022-05-10T18:55:41.367Z"
   },
   {
    "duration": 3,
    "start_time": "2022-05-10T18:55:41.372Z"
   },
   {
    "duration": 10,
    "start_time": "2022-05-10T18:55:41.377Z"
   },
   {
    "duration": 4,
    "start_time": "2022-05-10T18:55:41.388Z"
   },
   {
    "duration": 16,
    "start_time": "2022-05-10T18:55:41.393Z"
   },
   {
    "duration": 72,
    "start_time": "2022-05-10T18:55:41.412Z"
   },
   {
    "duration": 9,
    "start_time": "2022-05-10T18:55:41.486Z"
   },
   {
    "duration": 6,
    "start_time": "2022-05-10T18:55:41.496Z"
   },
   {
    "duration": 1021,
    "start_time": "2022-05-10T18:55:41.503Z"
   },
   {
    "duration": 1,
    "start_time": "2022-05-10T18:55:42.525Z"
   },
   {
    "duration": 0,
    "start_time": "2022-05-10T18:55:42.527Z"
   },
   {
    "duration": 0,
    "start_time": "2022-05-10T18:55:42.528Z"
   },
   {
    "duration": 0,
    "start_time": "2022-05-10T18:55:42.529Z"
   },
   {
    "duration": 0,
    "start_time": "2022-05-10T18:55:42.530Z"
   },
   {
    "duration": 0,
    "start_time": "2022-05-10T18:55:42.531Z"
   },
   {
    "duration": 0,
    "start_time": "2022-05-10T18:55:42.532Z"
   },
   {
    "duration": 0,
    "start_time": "2022-05-10T18:55:42.533Z"
   },
   {
    "duration": 0,
    "start_time": "2022-05-10T18:55:42.534Z"
   },
   {
    "duration": 0,
    "start_time": "2022-05-10T18:55:42.535Z"
   },
   {
    "duration": 0,
    "start_time": "2022-05-10T18:55:42.537Z"
   },
   {
    "duration": 0,
    "start_time": "2022-05-10T18:55:42.538Z"
   },
   {
    "duration": 0,
    "start_time": "2022-05-10T18:55:42.539Z"
   },
   {
    "duration": 0,
    "start_time": "2022-05-10T18:55:42.540Z"
   },
   {
    "duration": 0,
    "start_time": "2022-05-10T18:55:42.541Z"
   },
   {
    "duration": 0,
    "start_time": "2022-05-10T18:55:42.542Z"
   },
   {
    "duration": 0,
    "start_time": "2022-05-10T18:55:42.543Z"
   },
   {
    "duration": 0,
    "start_time": "2022-05-10T18:55:42.544Z"
   },
   {
    "duration": 0,
    "start_time": "2022-05-10T18:55:42.545Z"
   },
   {
    "duration": 0,
    "start_time": "2022-05-10T18:55:42.546Z"
   },
   {
    "duration": 0,
    "start_time": "2022-05-10T18:55:42.552Z"
   },
   {
    "duration": 0,
    "start_time": "2022-05-10T18:55:42.553Z"
   },
   {
    "duration": 0,
    "start_time": "2022-05-10T18:55:42.555Z"
   },
   {
    "duration": 0,
    "start_time": "2022-05-10T18:55:42.557Z"
   },
   {
    "duration": 0,
    "start_time": "2022-05-10T18:55:42.558Z"
   },
   {
    "duration": 0,
    "start_time": "2022-05-10T18:55:42.559Z"
   },
   {
    "duration": 1,
    "start_time": "2022-05-10T18:55:42.560Z"
   },
   {
    "duration": 7,
    "start_time": "2022-05-10T18:56:32.727Z"
   },
   {
    "duration": 7,
    "start_time": "2022-05-10T18:56:42.807Z"
   },
   {
    "duration": 14,
    "start_time": "2022-05-10T18:59:01.223Z"
   },
   {
    "duration": 598,
    "start_time": "2022-05-10T18:59:06.896Z"
   },
   {
    "duration": 105,
    "start_time": "2022-05-10T18:59:07.496Z"
   },
   {
    "duration": 20,
    "start_time": "2022-05-10T18:59:07.603Z"
   },
   {
    "duration": 10,
    "start_time": "2022-05-10T18:59:07.625Z"
   },
   {
    "duration": 5,
    "start_time": "2022-05-10T18:59:07.637Z"
   },
   {
    "duration": 12,
    "start_time": "2022-05-10T18:59:07.643Z"
   },
   {
    "duration": 18,
    "start_time": "2022-05-10T18:59:07.656Z"
   },
   {
    "duration": 5,
    "start_time": "2022-05-10T18:59:07.675Z"
   },
   {
    "duration": 17,
    "start_time": "2022-05-10T18:59:07.681Z"
   },
   {
    "duration": 60,
    "start_time": "2022-05-10T18:59:07.700Z"
   },
   {
    "duration": 11,
    "start_time": "2022-05-10T18:59:07.761Z"
   },
   {
    "duration": 4,
    "start_time": "2022-05-10T18:59:07.774Z"
   },
   {
    "duration": 13,
    "start_time": "2022-05-10T18:59:07.780Z"
   },
   {
    "duration": 5,
    "start_time": "2022-05-10T18:59:07.795Z"
   },
   {
    "duration": 6,
    "start_time": "2022-05-10T18:59:07.802Z"
   },
   {
    "duration": 6,
    "start_time": "2022-05-10T18:59:07.809Z"
   },
   {
    "duration": 52,
    "start_time": "2022-05-10T18:59:07.816Z"
   },
   {
    "duration": 20,
    "start_time": "2022-05-10T18:59:07.869Z"
   },
   {
    "duration": 22,
    "start_time": "2022-05-10T18:59:07.891Z"
   },
   {
    "duration": 16,
    "start_time": "2022-05-10T18:59:07.915Z"
   },
   {
    "duration": 41,
    "start_time": "2022-05-10T18:59:07.933Z"
   },
   {
    "duration": 8,
    "start_time": "2022-05-10T18:59:07.976Z"
   },
   {
    "duration": 7,
    "start_time": "2022-05-10T18:59:07.985Z"
   },
   {
    "duration": 9,
    "start_time": "2022-05-10T18:59:07.993Z"
   },
   {
    "duration": 7,
    "start_time": "2022-05-10T18:59:08.003Z"
   },
   {
    "duration": 408,
    "start_time": "2022-05-10T18:59:08.011Z"
   },
   {
    "duration": 11,
    "start_time": "2022-05-10T18:59:08.421Z"
   },
   {
    "duration": 21,
    "start_time": "2022-05-10T18:59:08.435Z"
   },
   {
    "duration": 18,
    "start_time": "2022-05-10T18:59:08.457Z"
   },
   {
    "duration": 17,
    "start_time": "2022-05-10T18:59:08.477Z"
   },
   {
    "duration": 7,
    "start_time": "2022-05-10T18:59:08.495Z"
   },
   {
    "duration": 3,
    "start_time": "2022-05-10T18:59:08.504Z"
   },
   {
    "duration": 14,
    "start_time": "2022-05-10T18:59:08.509Z"
   },
   {
    "duration": 1578,
    "start_time": "2022-05-10T18:59:08.548Z"
   },
   {
    "duration": 10,
    "start_time": "2022-05-10T18:59:10.128Z"
   },
   {
    "duration": 129,
    "start_time": "2022-05-10T18:59:10.151Z"
   },
   {
    "duration": 13,
    "start_time": "2022-05-10T18:59:10.283Z"
   },
   {
    "duration": 132,
    "start_time": "2022-05-10T18:59:10.298Z"
   },
   {
    "duration": 22,
    "start_time": "2022-05-10T18:59:10.431Z"
   },
   {
    "duration": 124,
    "start_time": "2022-05-10T18:59:10.455Z"
   },
   {
    "duration": 99,
    "start_time": "2022-05-10T19:03:40.512Z"
   },
   {
    "duration": 12,
    "start_time": "2022-05-10T19:03:49.744Z"
   },
   {
    "duration": 6,
    "start_time": "2022-05-10T19:04:26.161Z"
   },
   {
    "duration": 6,
    "start_time": "2022-05-10T19:05:10.618Z"
   },
   {
    "duration": 424,
    "start_time": "2022-05-10T19:05:34.065Z"
   },
   {
    "duration": 114,
    "start_time": "2022-05-10T19:05:34.492Z"
   },
   {
    "duration": 19,
    "start_time": "2022-05-10T19:05:34.608Z"
   },
   {
    "duration": 46,
    "start_time": "2022-05-10T19:05:34.629Z"
   },
   {
    "duration": 8,
    "start_time": "2022-05-10T19:05:34.677Z"
   },
   {
    "duration": 5,
    "start_time": "2022-05-10T19:05:34.686Z"
   },
   {
    "duration": 4,
    "start_time": "2022-05-10T19:05:34.692Z"
   },
   {
    "duration": 12,
    "start_time": "2022-05-10T19:05:34.697Z"
   },
   {
    "duration": 5,
    "start_time": "2022-05-10T19:05:34.710Z"
   },
   {
    "duration": 44,
    "start_time": "2022-05-10T19:05:34.716Z"
   },
   {
    "duration": 45,
    "start_time": "2022-05-10T19:05:34.763Z"
   },
   {
    "duration": 11,
    "start_time": "2022-05-10T19:05:34.810Z"
   },
   {
    "duration": 26,
    "start_time": "2022-05-10T19:05:34.823Z"
   },
   {
    "duration": 15,
    "start_time": "2022-05-10T19:05:34.853Z"
   },
   {
    "duration": 8,
    "start_time": "2022-05-10T19:05:34.870Z"
   },
   {
    "duration": 9,
    "start_time": "2022-05-10T19:05:34.880Z"
   },
   {
    "duration": 8,
    "start_time": "2022-05-10T19:05:34.891Z"
   },
   {
    "duration": 12,
    "start_time": "2022-05-10T19:05:34.900Z"
   },
   {
    "duration": 45,
    "start_time": "2022-05-10T19:05:34.913Z"
   },
   {
    "duration": 23,
    "start_time": "2022-05-10T19:05:34.961Z"
   },
   {
    "duration": 16,
    "start_time": "2022-05-10T19:05:34.986Z"
   },
   {
    "duration": 17,
    "start_time": "2022-05-10T19:05:35.004Z"
   },
   {
    "duration": 33,
    "start_time": "2022-05-10T19:05:35.023Z"
   },
   {
    "duration": 12,
    "start_time": "2022-05-10T19:05:35.057Z"
   },
   {
    "duration": 6,
    "start_time": "2022-05-10T19:05:35.071Z"
   },
   {
    "duration": 8,
    "start_time": "2022-05-10T19:05:35.079Z"
   },
   {
    "duration": 441,
    "start_time": "2022-05-10T19:05:35.089Z"
   },
   {
    "duration": 9,
    "start_time": "2022-05-10T19:05:35.532Z"
   },
   {
    "duration": 11,
    "start_time": "2022-05-10T19:05:35.543Z"
   },
   {
    "duration": 19,
    "start_time": "2022-05-10T19:05:35.556Z"
   },
   {
    "duration": 14,
    "start_time": "2022-05-10T19:05:35.577Z"
   },
   {
    "duration": 7,
    "start_time": "2022-05-10T19:05:35.592Z"
   },
   {
    "duration": 4,
    "start_time": "2022-05-10T19:05:35.601Z"
   },
   {
    "duration": 54,
    "start_time": "2022-05-10T19:05:35.606Z"
   },
   {
    "duration": 1309,
    "start_time": "2022-05-10T19:05:35.662Z"
   },
   {
    "duration": 11,
    "start_time": "2022-05-10T19:05:36.973Z"
   },
   {
    "duration": 144,
    "start_time": "2022-05-10T19:05:36.986Z"
   },
   {
    "duration": 17,
    "start_time": "2022-05-10T19:05:37.132Z"
   },
   {
    "duration": 127,
    "start_time": "2022-05-10T19:05:37.150Z"
   },
   {
    "duration": 10,
    "start_time": "2022-05-10T19:05:37.279Z"
   },
   {
    "duration": 126,
    "start_time": "2022-05-10T19:05:37.292Z"
   },
   {
    "duration": 5,
    "start_time": "2022-05-10T19:12:57.389Z"
   },
   {
    "duration": 411,
    "start_time": "2022-05-10T19:13:05.688Z"
   },
   {
    "duration": 70,
    "start_time": "2022-05-10T19:13:06.101Z"
   },
   {
    "duration": 19,
    "start_time": "2022-05-10T19:13:06.172Z"
   },
   {
    "duration": 9,
    "start_time": "2022-05-10T19:13:06.193Z"
   },
   {
    "duration": 7,
    "start_time": "2022-05-10T19:13:06.203Z"
   },
   {
    "duration": 4,
    "start_time": "2022-05-10T19:13:06.212Z"
   },
   {
    "duration": 34,
    "start_time": "2022-05-10T19:13:06.218Z"
   },
   {
    "duration": 16,
    "start_time": "2022-05-10T19:13:06.255Z"
   },
   {
    "duration": 6,
    "start_time": "2022-05-10T19:13:06.273Z"
   },
   {
    "duration": 18,
    "start_time": "2022-05-10T19:13:06.282Z"
   },
   {
    "duration": 59,
    "start_time": "2022-05-10T19:13:06.301Z"
   },
   {
    "duration": 8,
    "start_time": "2022-05-10T19:13:06.362Z"
   },
   {
    "duration": 4,
    "start_time": "2022-05-10T19:13:06.371Z"
   },
   {
    "duration": 7,
    "start_time": "2022-05-10T19:13:06.377Z"
   },
   {
    "duration": 6,
    "start_time": "2022-05-10T19:13:06.385Z"
   },
   {
    "duration": 8,
    "start_time": "2022-05-10T19:13:06.393Z"
   },
   {
    "duration": 4,
    "start_time": "2022-05-10T19:13:06.402Z"
   },
   {
    "duration": 10,
    "start_time": "2022-05-10T19:13:06.407Z"
   },
   {
    "duration": 25,
    "start_time": "2022-05-10T19:13:06.451Z"
   },
   {
    "duration": 18,
    "start_time": "2022-05-10T19:13:06.477Z"
   },
   {
    "duration": 15,
    "start_time": "2022-05-10T19:13:06.496Z"
   },
   {
    "duration": 13,
    "start_time": "2022-05-10T19:13:06.512Z"
   },
   {
    "duration": 26,
    "start_time": "2022-05-10T19:13:06.526Z"
   },
   {
    "duration": 16,
    "start_time": "2022-05-10T19:13:06.554Z"
   },
   {
    "duration": 8,
    "start_time": "2022-05-10T19:13:06.572Z"
   },
   {
    "duration": 6,
    "start_time": "2022-05-10T19:13:06.582Z"
   },
   {
    "duration": 421,
    "start_time": "2022-05-10T19:13:06.589Z"
   },
   {
    "duration": 10,
    "start_time": "2022-05-10T19:13:07.013Z"
   },
   {
    "duration": 11,
    "start_time": "2022-05-10T19:13:07.024Z"
   },
   {
    "duration": 24,
    "start_time": "2022-05-10T19:13:07.036Z"
   },
   {
    "duration": 13,
    "start_time": "2022-05-10T19:13:07.062Z"
   },
   {
    "duration": 9,
    "start_time": "2022-05-10T19:13:07.077Z"
   },
   {
    "duration": 4,
    "start_time": "2022-05-10T19:13:07.087Z"
   },
   {
    "duration": 17,
    "start_time": "2022-05-10T19:13:07.093Z"
   },
   {
    "duration": 826,
    "start_time": "2022-05-10T19:13:07.112Z"
   },
   {
    "duration": 19,
    "start_time": "2022-05-10T19:13:07.940Z"
   },
   {
    "duration": 125,
    "start_time": "2022-05-10T19:13:07.960Z"
   },
   {
    "duration": 9,
    "start_time": "2022-05-10T19:13:08.087Z"
   },
   {
    "duration": 127,
    "start_time": "2022-05-10T19:13:08.097Z"
   },
   {
    "duration": 10,
    "start_time": "2022-05-10T19:13:08.226Z"
   },
   {
    "duration": 111,
    "start_time": "2022-05-10T19:13:08.237Z"
   },
   {
    "duration": 398,
    "start_time": "2022-05-10T19:25:22.048Z"
   },
   {
    "duration": 72,
    "start_time": "2022-05-10T19:25:22.450Z"
   },
   {
    "duration": 18,
    "start_time": "2022-05-10T19:25:22.524Z"
   },
   {
    "duration": 15,
    "start_time": "2022-05-10T19:25:22.544Z"
   },
   {
    "duration": 10,
    "start_time": "2022-05-10T19:25:22.560Z"
   },
   {
    "duration": 4,
    "start_time": "2022-05-10T19:25:22.572Z"
   },
   {
    "duration": 10,
    "start_time": "2022-05-10T19:25:22.578Z"
   },
   {
    "duration": 4,
    "start_time": "2022-05-10T19:25:22.589Z"
   },
   {
    "duration": 17,
    "start_time": "2022-05-10T19:25:22.594Z"
   },
   {
    "duration": 66,
    "start_time": "2022-05-10T19:25:22.615Z"
   },
   {
    "duration": 9,
    "start_time": "2022-05-10T19:25:22.683Z"
   },
   {
    "duration": 5,
    "start_time": "2022-05-10T19:25:22.693Z"
   },
   {
    "duration": 7,
    "start_time": "2022-05-10T19:25:22.699Z"
   },
   {
    "duration": 6,
    "start_time": "2022-05-10T19:25:22.708Z"
   },
   {
    "duration": 13,
    "start_time": "2022-05-10T19:25:22.715Z"
   },
   {
    "duration": 10,
    "start_time": "2022-05-10T19:25:22.747Z"
   },
   {
    "duration": 16,
    "start_time": "2022-05-10T19:25:22.759Z"
   },
   {
    "duration": 17,
    "start_time": "2022-05-10T19:25:22.777Z"
   },
   {
    "duration": 17,
    "start_time": "2022-05-10T19:25:22.796Z"
   },
   {
    "duration": 38,
    "start_time": "2022-05-10T19:25:22.814Z"
   },
   {
    "duration": 16,
    "start_time": "2022-05-10T19:25:22.855Z"
   },
   {
    "duration": 7,
    "start_time": "2022-05-10T19:25:22.872Z"
   },
   {
    "duration": 8,
    "start_time": "2022-05-10T19:25:22.880Z"
   },
   {
    "duration": 7,
    "start_time": "2022-05-10T19:25:22.889Z"
   },
   {
    "duration": 6,
    "start_time": "2022-05-10T19:25:22.897Z"
   },
   {
    "duration": 431,
    "start_time": "2022-05-10T19:25:22.904Z"
   },
   {
    "duration": 11,
    "start_time": "2022-05-10T19:25:23.337Z"
   },
   {
    "duration": 18,
    "start_time": "2022-05-10T19:25:23.352Z"
   },
   {
    "duration": 10,
    "start_time": "2022-05-10T19:25:23.371Z"
   },
   {
    "duration": 11,
    "start_time": "2022-05-10T19:25:23.383Z"
   },
   {
    "duration": 5,
    "start_time": "2022-05-10T19:25:23.396Z"
   },
   {
    "duration": 3,
    "start_time": "2022-05-10T19:25:23.403Z"
   },
   {
    "duration": 45,
    "start_time": "2022-05-10T19:25:23.408Z"
   },
   {
    "duration": 797,
    "start_time": "2022-05-10T19:25:23.455Z"
   },
   {
    "duration": 11,
    "start_time": "2022-05-10T19:25:24.257Z"
   },
   {
    "duration": 133,
    "start_time": "2022-05-10T19:25:24.269Z"
   },
   {
    "duration": 10,
    "start_time": "2022-05-10T19:25:24.404Z"
   },
   {
    "duration": 119,
    "start_time": "2022-05-10T19:25:24.416Z"
   },
   {
    "duration": 17,
    "start_time": "2022-05-10T19:25:24.537Z"
   },
   {
    "duration": 112,
    "start_time": "2022-05-10T19:25:24.556Z"
   },
   {
    "duration": 4,
    "start_time": "2022-05-10T19:28:32.880Z"
   },
   {
    "duration": 111,
    "start_time": "2022-05-10T19:33:08.091Z"
   },
   {
    "duration": 118,
    "start_time": "2022-05-10T19:35:02.288Z"
   },
   {
    "duration": 113,
    "start_time": "2022-05-10T19:36:10.087Z"
   },
   {
    "duration": 417,
    "start_time": "2022-05-10T19:39:08.526Z"
   },
   {
    "duration": 78,
    "start_time": "2022-05-10T19:39:08.945Z"
   },
   {
    "duration": 20,
    "start_time": "2022-05-10T19:39:09.024Z"
   },
   {
    "duration": 14,
    "start_time": "2022-05-10T19:39:09.046Z"
   },
   {
    "duration": 9,
    "start_time": "2022-05-10T19:39:09.062Z"
   },
   {
    "duration": 3,
    "start_time": "2022-05-10T19:39:09.073Z"
   },
   {
    "duration": 12,
    "start_time": "2022-05-10T19:39:09.077Z"
   },
   {
    "duration": 5,
    "start_time": "2022-05-10T19:39:09.090Z"
   },
   {
    "duration": 16,
    "start_time": "2022-05-10T19:39:09.097Z"
   },
   {
    "duration": 78,
    "start_time": "2022-05-10T19:39:09.115Z"
   },
   {
    "duration": 4,
    "start_time": "2022-05-10T19:39:09.194Z"
   },
   {
    "duration": 11,
    "start_time": "2022-05-10T19:39:09.199Z"
   },
   {
    "duration": 8,
    "start_time": "2022-05-10T19:39:09.211Z"
   },
   {
    "duration": 8,
    "start_time": "2022-05-10T19:39:09.221Z"
   },
   {
    "duration": 19,
    "start_time": "2022-05-10T19:39:09.231Z"
   },
   {
    "duration": 10,
    "start_time": "2022-05-10T19:39:09.252Z"
   },
   {
    "duration": 24,
    "start_time": "2022-05-10T19:39:09.263Z"
   },
   {
    "duration": 16,
    "start_time": "2022-05-10T19:39:09.288Z"
   },
   {
    "duration": 16,
    "start_time": "2022-05-10T19:39:09.305Z"
   },
   {
    "duration": 15,
    "start_time": "2022-05-10T19:39:09.322Z"
   },
   {
    "duration": 33,
    "start_time": "2022-05-10T19:39:09.338Z"
   },
   {
    "duration": 8,
    "start_time": "2022-05-10T19:39:09.373Z"
   },
   {
    "duration": 8,
    "start_time": "2022-05-10T19:39:09.383Z"
   },
   {
    "duration": 8,
    "start_time": "2022-05-10T19:39:09.393Z"
   },
   {
    "duration": 7,
    "start_time": "2022-05-10T19:39:09.403Z"
   },
   {
    "duration": 453,
    "start_time": "2022-05-10T19:39:09.411Z"
   },
   {
    "duration": 14,
    "start_time": "2022-05-10T19:39:09.866Z"
   },
   {
    "duration": 12,
    "start_time": "2022-05-10T19:39:09.884Z"
   },
   {
    "duration": 12,
    "start_time": "2022-05-10T19:39:09.897Z"
   },
   {
    "duration": 10,
    "start_time": "2022-05-10T19:39:09.911Z"
   },
   {
    "duration": 33,
    "start_time": "2022-05-10T19:39:09.923Z"
   },
   {
    "duration": 35,
    "start_time": "2022-05-10T19:39:09.957Z"
   },
   {
    "duration": 850,
    "start_time": "2022-05-10T19:39:09.994Z"
   },
   {
    "duration": 13,
    "start_time": "2022-05-10T19:39:10.851Z"
   },
   {
    "duration": 123,
    "start_time": "2022-05-10T19:39:10.865Z"
   },
   {
    "duration": 9,
    "start_time": "2022-05-10T19:39:10.990Z"
   },
   {
    "duration": 116,
    "start_time": "2022-05-10T19:39:11.000Z"
   },
   {
    "duration": 10,
    "start_time": "2022-05-10T19:39:11.118Z"
   },
   {
    "duration": 130,
    "start_time": "2022-05-10T19:39:11.130Z"
   },
   {
    "duration": 46,
    "start_time": "2022-05-10T19:43:05.298Z"
   },
   {
    "duration": 51,
    "start_time": "2022-05-10T19:43:10.848Z"
   },
   {
    "duration": 5,
    "start_time": "2022-05-10T19:43:17.980Z"
   },
   {
    "duration": 365,
    "start_time": "2022-05-10T19:43:39.803Z"
   },
   {
    "duration": 65,
    "start_time": "2022-05-10T19:43:40.170Z"
   },
   {
    "duration": 24,
    "start_time": "2022-05-10T19:43:40.237Z"
   },
   {
    "duration": 10,
    "start_time": "2022-05-10T19:43:40.264Z"
   },
   {
    "duration": 5,
    "start_time": "2022-05-10T19:43:40.276Z"
   },
   {
    "duration": 3,
    "start_time": "2022-05-10T19:43:40.283Z"
   },
   {
    "duration": 10,
    "start_time": "2022-05-10T19:43:40.288Z"
   },
   {
    "duration": 4,
    "start_time": "2022-05-10T19:43:40.300Z"
   },
   {
    "duration": 17,
    "start_time": "2022-05-10T19:43:40.347Z"
   },
   {
    "duration": 41,
    "start_time": "2022-05-10T19:43:40.368Z"
   },
   {
    "duration": 3,
    "start_time": "2022-05-10T19:43:40.411Z"
   },
   {
    "duration": 35,
    "start_time": "2022-05-10T19:43:40.416Z"
   },
   {
    "duration": 5,
    "start_time": "2022-05-10T19:43:40.452Z"
   },
   {
    "duration": 8,
    "start_time": "2022-05-10T19:43:40.458Z"
   },
   {
    "duration": 4,
    "start_time": "2022-05-10T19:43:40.467Z"
   },
   {
    "duration": 4,
    "start_time": "2022-05-10T19:43:40.473Z"
   },
   {
    "duration": 10,
    "start_time": "2022-05-10T19:43:40.479Z"
   },
   {
    "duration": 18,
    "start_time": "2022-05-10T19:43:40.490Z"
   },
   {
    "duration": 55,
    "start_time": "2022-05-10T19:43:40.509Z"
   },
   {
    "duration": 16,
    "start_time": "2022-05-10T19:43:40.565Z"
   },
   {
    "duration": 14,
    "start_time": "2022-05-10T19:43:40.583Z"
   },
   {
    "duration": 6,
    "start_time": "2022-05-10T19:43:40.599Z"
   },
   {
    "duration": 7,
    "start_time": "2022-05-10T19:43:40.607Z"
   },
   {
    "duration": 38,
    "start_time": "2022-05-10T19:43:40.616Z"
   },
   {
    "duration": 10,
    "start_time": "2022-05-10T19:43:40.656Z"
   },
   {
    "duration": 402,
    "start_time": "2022-05-10T19:43:40.668Z"
   },
   {
    "duration": 10,
    "start_time": "2022-05-10T19:43:41.072Z"
   },
   {
    "duration": 11,
    "start_time": "2022-05-10T19:43:41.085Z"
   },
   {
    "duration": 15,
    "start_time": "2022-05-10T19:43:41.097Z"
   },
   {
    "duration": 7,
    "start_time": "2022-05-10T19:43:41.114Z"
   },
   {
    "duration": 26,
    "start_time": "2022-05-10T19:43:41.123Z"
   },
   {
    "duration": 14,
    "start_time": "2022-05-10T19:43:41.150Z"
   },
   {
    "duration": 857,
    "start_time": "2022-05-10T19:43:41.165Z"
   },
   {
    "duration": 10,
    "start_time": "2022-05-10T19:43:42.025Z"
   },
   {
    "duration": 181,
    "start_time": "2022-05-10T19:43:42.048Z"
   },
   {
    "duration": 21,
    "start_time": "2022-05-10T19:43:42.230Z"
   },
   {
    "duration": 160,
    "start_time": "2022-05-10T19:43:42.253Z"
   },
   {
    "duration": 15,
    "start_time": "2022-05-10T19:43:42.415Z"
   },
   {
    "duration": 181,
    "start_time": "2022-05-10T19:43:42.433Z"
   },
   {
    "duration": 159,
    "start_time": "2022-05-10T19:50:26.037Z"
   },
   {
    "duration": 409,
    "start_time": "2022-05-10T19:51:36.215Z"
   },
   {
    "duration": 67,
    "start_time": "2022-05-10T19:51:36.626Z"
   },
   {
    "duration": 19,
    "start_time": "2022-05-10T19:51:36.694Z"
   },
   {
    "duration": 9,
    "start_time": "2022-05-10T19:51:36.715Z"
   },
   {
    "duration": 22,
    "start_time": "2022-05-10T19:51:36.725Z"
   },
   {
    "duration": 3,
    "start_time": "2022-05-10T19:51:36.749Z"
   },
   {
    "duration": 10,
    "start_time": "2022-05-10T19:51:36.754Z"
   },
   {
    "duration": 4,
    "start_time": "2022-05-10T19:51:36.766Z"
   },
   {
    "duration": 17,
    "start_time": "2022-05-10T19:51:36.771Z"
   },
   {
    "duration": 63,
    "start_time": "2022-05-10T19:51:36.790Z"
   },
   {
    "duration": 4,
    "start_time": "2022-05-10T19:51:36.854Z"
   },
   {
    "duration": 10,
    "start_time": "2022-05-10T19:51:36.860Z"
   },
   {
    "duration": 4,
    "start_time": "2022-05-10T19:51:36.872Z"
   },
   {
    "duration": 6,
    "start_time": "2022-05-10T19:51:36.878Z"
   },
   {
    "duration": 4,
    "start_time": "2022-05-10T19:51:36.885Z"
   },
   {
    "duration": 5,
    "start_time": "2022-05-10T19:51:36.891Z"
   },
   {
    "duration": 10,
    "start_time": "2022-05-10T19:51:36.897Z"
   },
   {
    "duration": 16,
    "start_time": "2022-05-10T19:51:36.948Z"
   },
   {
    "duration": 18,
    "start_time": "2022-05-10T19:51:36.965Z"
   },
   {
    "duration": 16,
    "start_time": "2022-05-10T19:51:36.984Z"
   },
   {
    "duration": 14,
    "start_time": "2022-05-10T19:51:37.002Z"
   },
   {
    "duration": 30,
    "start_time": "2022-05-10T19:51:37.017Z"
   },
   {
    "duration": 6,
    "start_time": "2022-05-10T19:51:37.049Z"
   },
   {
    "duration": 6,
    "start_time": "2022-05-10T19:51:37.057Z"
   },
   {
    "duration": 6,
    "start_time": "2022-05-10T19:51:37.065Z"
   },
   {
    "duration": 402,
    "start_time": "2022-05-10T19:51:37.072Z"
   },
   {
    "duration": 11,
    "start_time": "2022-05-10T19:51:37.475Z"
   },
   {
    "duration": 11,
    "start_time": "2022-05-10T19:51:37.489Z"
   },
   {
    "duration": 14,
    "start_time": "2022-05-10T19:51:37.501Z"
   },
   {
    "duration": 7,
    "start_time": "2022-05-10T19:51:37.516Z"
   },
   {
    "duration": 24,
    "start_time": "2022-05-10T19:51:37.524Z"
   },
   {
    "duration": 14,
    "start_time": "2022-05-10T19:51:37.549Z"
   },
   {
    "duration": 898,
    "start_time": "2022-05-10T19:51:37.565Z"
   },
   {
    "duration": 9,
    "start_time": "2022-05-10T19:51:38.465Z"
   },
   {
    "duration": 118,
    "start_time": "2022-05-10T19:51:38.475Z"
   },
   {
    "duration": 10,
    "start_time": "2022-05-10T19:51:38.594Z"
   },
   {
    "duration": 102,
    "start_time": "2022-05-10T19:51:38.606Z"
   },
   {
    "duration": 10,
    "start_time": "2022-05-10T19:51:38.709Z"
   },
   {
    "duration": 137,
    "start_time": "2022-05-10T19:51:38.721Z"
   },
   {
    "duration": 493,
    "start_time": "2022-05-11T16:40:27.145Z"
   },
   {
    "duration": 76,
    "start_time": "2022-05-11T16:40:27.640Z"
   },
   {
    "duration": 26,
    "start_time": "2022-05-11T16:40:27.718Z"
   },
   {
    "duration": 10,
    "start_time": "2022-05-11T16:40:27.745Z"
   },
   {
    "duration": 7,
    "start_time": "2022-05-11T16:40:27.758Z"
   },
   {
    "duration": 5,
    "start_time": "2022-05-11T16:40:27.767Z"
   },
   {
    "duration": 34,
    "start_time": "2022-05-11T16:40:27.774Z"
   },
   {
    "duration": 5,
    "start_time": "2022-05-11T16:40:27.810Z"
   },
   {
    "duration": 26,
    "start_time": "2022-05-11T16:40:27.817Z"
   },
   {
    "duration": 63,
    "start_time": "2022-05-11T16:40:27.845Z"
   },
   {
    "duration": 5,
    "start_time": "2022-05-11T16:40:27.910Z"
   },
   {
    "duration": 11,
    "start_time": "2022-05-11T16:40:27.917Z"
   },
   {
    "duration": 5,
    "start_time": "2022-05-11T16:40:27.930Z"
   },
   {
    "duration": 7,
    "start_time": "2022-05-11T16:40:27.939Z"
   },
   {
    "duration": 5,
    "start_time": "2022-05-11T16:40:27.947Z"
   },
   {
    "duration": 4,
    "start_time": "2022-05-11T16:40:27.954Z"
   },
   {
    "duration": 48,
    "start_time": "2022-05-11T16:40:27.960Z"
   },
   {
    "duration": 25,
    "start_time": "2022-05-11T16:40:28.010Z"
   },
   {
    "duration": 17,
    "start_time": "2022-05-11T16:40:28.036Z"
   },
   {
    "duration": 15,
    "start_time": "2022-05-11T16:40:28.055Z"
   },
   {
    "duration": 31,
    "start_time": "2022-05-11T16:40:28.072Z"
   },
   {
    "duration": 7,
    "start_time": "2022-05-11T16:40:28.104Z"
   },
   {
    "duration": 8,
    "start_time": "2022-05-11T16:40:28.112Z"
   },
   {
    "duration": 14,
    "start_time": "2022-05-11T16:40:28.121Z"
   },
   {
    "duration": 8,
    "start_time": "2022-05-11T16:40:28.137Z"
   },
   {
    "duration": 470,
    "start_time": "2022-05-11T16:40:28.147Z"
   },
   {
    "duration": 11,
    "start_time": "2022-05-11T16:40:28.619Z"
   },
   {
    "duration": 12,
    "start_time": "2022-05-11T16:40:28.631Z"
   },
   {
    "duration": 13,
    "start_time": "2022-05-11T16:40:28.645Z"
   },
   {
    "duration": 47,
    "start_time": "2022-05-11T16:40:28.660Z"
   },
   {
    "duration": 4,
    "start_time": "2022-05-11T16:40:28.709Z"
   },
   {
    "duration": 18,
    "start_time": "2022-05-11T16:40:28.715Z"
   },
   {
    "duration": 1379,
    "start_time": "2022-05-11T16:40:28.735Z"
   },
   {
    "duration": 14,
    "start_time": "2022-05-11T16:40:30.116Z"
   },
   {
    "duration": 202,
    "start_time": "2022-05-11T16:40:30.132Z"
   },
   {
    "duration": 13,
    "start_time": "2022-05-11T16:40:30.337Z"
   },
   {
    "duration": 119,
    "start_time": "2022-05-11T16:40:30.352Z"
   },
   {
    "duration": 12,
    "start_time": "2022-05-11T16:40:30.472Z"
   },
   {
    "duration": 130,
    "start_time": "2022-05-11T16:40:30.500Z"
   }
  ],
  "kernelspec": {
   "display_name": "Python 3 (ipykernel)",
   "language": "python",
   "name": "python3"
  },
  "language_info": {
   "codemirror_mode": {
    "name": "ipython",
    "version": 3
   },
   "file_extension": ".py",
   "mimetype": "text/x-python",
   "name": "python",
   "nbconvert_exporter": "python",
   "pygments_lexer": "ipython3",
   "version": "3.9.7"
  },
  "toc": {
   "base_numbering": 1,
   "nav_menu": {},
   "number_sections": false,
   "sideBar": true,
   "skip_h1_title": true,
   "title_cell": "Содержание",
   "title_sidebar": "Contents",
   "toc_cell": true,
   "toc_position": {
    "height": "calc(100% - 180px)",
    "left": "10px",
    "top": "150px",
    "width": "165px"
   },
   "toc_section_display": true,
   "toc_window_display": true
  }
 },
 "nbformat": 4,
 "nbformat_minor": 5
}
